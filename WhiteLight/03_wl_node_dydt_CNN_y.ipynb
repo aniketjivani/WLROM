{
 "cells": [
  {
   "cell_type": "markdown",
   "id": "8feef7eb",
   "metadata": {},
   "source": [
    "Carrying the same basic concepts as notebook 1 and 2.\n",
    "\n",
    "\n",
    "The key difference is we will keep 2D structure of images and use convolutions.\n",
    "\n",
    "We found that POD modes are not the best reduction of the images since the extrapolation performance of the NODE is very poor. Instead, we flatten the full image and try to see if CNNs do any better."
   ]
  },
  {
   "cell_type": "code",
   "execution_count": 1,
   "id": "b8cf90d6",
   "metadata": {},
   "outputs": [
    {
     "data": {
      "text/plain": [
       "'/global/u1/a/ajivani/WLROM/WhiteLight'"
      ]
     },
     "execution_count": 1,
     "metadata": {},
     "output_type": "execute_result"
    }
   ],
   "source": [
    "import os\n",
    "import scipy.signal\n",
    "os.getcwd()"
   ]
  },
  {
   "cell_type": "code",
   "execution_count": 2,
   "id": "7c38084e",
   "metadata": {},
   "outputs": [],
   "source": [
    "current_dir = os.getcwd()"
   ]
  },
  {
   "cell_type": "code",
   "execution_count": 3,
   "id": "407c576b",
   "metadata": {},
   "outputs": [],
   "source": [
    "import numpy as np\n",
    "from numpy import ogrid\n",
    "import pandas as pd\n",
    "import scipy.linalg as la\n",
    "import scipy.sparse as sparse\n",
    "import matplotlib.pyplot as plt\n",
    "\n",
    "import copy"
   ]
  },
  {
   "cell_type": "code",
   "execution_count": 4,
   "id": "18b5a3b2",
   "metadata": {},
   "outputs": [],
   "source": [
    "%matplotlib inline"
   ]
  },
  {
   "cell_type": "code",
   "execution_count": 5,
   "id": "bb5bd971",
   "metadata": {},
   "outputs": [],
   "source": [
    "import time"
   ]
  },
  {
   "cell_type": "code",
   "execution_count": 6,
   "id": "85cbf827",
   "metadata": {},
   "outputs": [],
   "source": [
    "from sunpy.visualization import colormaps as cm"
   ]
  },
  {
   "cell_type": "code",
   "execution_count": 7,
   "id": "b4df4060",
   "metadata": {},
   "outputs": [],
   "source": [
    "import torch\n",
    "import torch.nn as nn\n",
    "import torch.optim as optim"
   ]
  },
  {
   "cell_type": "code",
   "execution_count": 8,
   "id": "d751604a",
   "metadata": {},
   "outputs": [],
   "source": [
    "import argparse"
   ]
  },
  {
   "cell_type": "code",
   "execution_count": 99,
   "id": "ed1b25b5",
   "metadata": {},
   "outputs": [],
   "source": [
    "parser = argparse.ArgumentParser()\n",
    "parser.add_argument('--tol', type=float, default=1e-3)\n",
    "parser.add_argument('--adjoint', type=eval, default=True, choices=[True, False])\n",
    "parser.add_argument('--lr', type=float, default=0.1)\n",
    "parser.add_argument('--debug', action='store_true')\n",
    "parser.add_argument('-runCNN', type=eval, default=False, choices=[True, False])\n",
    "\n",
    "\n",
    "args = parser.parse_args(args=())"
   ]
  },
  {
   "cell_type": "code",
   "execution_count": 100,
   "id": "aa30eac8-783c-493f-a147-3e531b9df7ba",
   "metadata": {
    "tags": []
   },
   "outputs": [
    {
     "data": {
      "text/plain": [
       "Namespace(adjoint=True, debug=False, lr=0.1, runCNN=False, tol=0.001)"
      ]
     },
     "execution_count": 100,
     "metadata": {},
     "output_type": "execute_result"
    }
   ],
   "source": [
    "args"
   ]
  },
  {
   "cell_type": "code",
   "execution_count": 11,
   "id": "f61b0892",
   "metadata": {},
   "outputs": [
    {
     "data": {
      "text/plain": [
       "0.001"
      ]
     },
     "execution_count": 11,
     "metadata": {},
     "output_type": "execute_result"
    }
   ],
   "source": [
    "args.tol"
   ]
  },
  {
   "cell_type": "code",
   "execution_count": 12,
   "id": "9e08df6c",
   "metadata": {},
   "outputs": [],
   "source": [
    "# adjoint=True"
   ]
  },
  {
   "cell_type": "code",
   "execution_count": 13,
   "id": "8eb71fec-7524-49fb-abba-26b690ba9cc5",
   "metadata": {
    "tags": []
   },
   "outputs": [
    {
     "name": "stdout",
     "output_type": "stream",
     "text": [
      "Requirement already satisfied: torchdiffeq in /global/u1/a/ajivani/.local/perlmutter/pytorch1.9.0/lib/python3.8/site-packages (0.2.3)\n",
      "Requirement already satisfied: torch>=1.3.0 in /global/common/software/nersc/shasta2105/pytorch/1.9.0/lib/python3.8/site-packages (from torchdiffeq) (1.9.0)\n",
      "Requirement already satisfied: scipy>=1.4.0 in /global/common/software/nersc/shasta2105/pytorch/1.9.0/lib/python3.8/site-packages (from torchdiffeq) (1.6.2)\n",
      "Requirement already satisfied: numpy<1.23.0,>=1.16.5 in /global/common/software/nersc/shasta2105/pytorch/1.9.0/lib/python3.8/site-packages (from scipy>=1.4.0->torchdiffeq) (1.20.3)\n",
      "Requirement already satisfied: typing_extensions in /global/u1/a/ajivani/.local/perlmutter/pytorch1.9.0/lib/python3.8/site-packages (from torch>=1.3.0->torchdiffeq) (4.7.1)\n"
     ]
    }
   ],
   "source": [
    "!pip install --user torchdiffeq"
   ]
  },
  {
   "cell_type": "code",
   "execution_count": 14,
   "id": "da32ee68",
   "metadata": {},
   "outputs": [],
   "source": [
    "if args.adjoint:\n",
    "    from torchdiffeq import odeint_adjoint as odeint\n",
    "else:\n",
    "    from torchdiffeq import odeint"
   ]
  },
  {
   "cell_type": "code",
   "execution_count": 15,
   "id": "636140a3",
   "metadata": {},
   "outputs": [],
   "source": [
    "device = torch.device('cuda:0' if torch.cuda.is_available() else 'cpu')"
   ]
  },
  {
   "cell_type": "code",
   "execution_count": 16,
   "id": "85a0feb4",
   "metadata": {},
   "outputs": [
    {
     "data": {
      "text/plain": [
       "device(type='cuda', index=0)"
      ]
     },
     "execution_count": 16,
     "metadata": {},
     "output_type": "execute_result"
    }
   ],
   "source": [
    "device"
   ]
  },
  {
   "cell_type": "code",
   "execution_count": 17,
   "id": "14aa9a28",
   "metadata": {},
   "outputs": [
    {
     "data": {
      "image/png": "[encoded data removed]",
      "text/html": [
       "<div style=\"vertical-align: middle;\"><strong>SOHO LASCO C3_r</strong> </div><div class=\"cmap\"><img alt=\"SOHO LASCO C3_r colormap\" title=\"SOHO LASCO C3_r\" style=\"border: 1px solid #555;\" src=\"data:image/png;base64,iVBORw0KGgoAAAANSUhEUgAAAgAAAABACAYAAABsv8+/AAAAHnRFWHRUaXRsZQBTT0hPIExBU0NPIEMzX3IgY29sb3JtYXDMCW5EAAAAJHRFWHREZXNjcmlwdGlvbgBTT0hPIExBU0NPIEMzX3IgY29sb3JtYXAGtYcrAAAAMHRFWHRBdXRob3IATWF0cGxvdGxpYiB2My40LjIsIGh0dHBzOi8vbWF0cGxvdGxpYi5vcmes1mPdAAAAMnRFWHRTb2Z0d2FyZQBNYXRwbG90bGliIHYzLjQuMiwgaHR0cHM6Ly9tYXRwbG90bGliLm9yZ4Jw/PoAAAHFSURBVHic7dZBbsIwFEDB397/zKSLQisR3DQtEos3s0EksWNjCb23bdu2mZnL58dcv+6+L6/P7fo8dfzq+VePX847/xt/ff35c5jb9T+Ov3v/dnn8/P3n7J57vP/VfLO7vxi/mGd2z51b/3a5n+fc+vf7OFj/4T7mx+eOz+Hg/UfncPL3++/5v3r9vz7/68Eu1z8/3z+aZ+Z371nN8z3+3Lpv99fjD9b99b/xx3Xv/r/OrfvV+z9/fs/d/3r8uXW/DwCQIwAAIEgAAECQAACAIAEAAEECAACCBAAABAkAAAgSAAAQJAAAIEgAAECQAACAIAEAAEECAACCBAAABAkAAAgSAAAQJAAAIEgAAECQAACAIAEAAEECAACCBAAABAkAAAgSAAAQJAAAIEgAAECQAACAIAEAAEECAACCBAAABAkAAAgSAAAQJAAAIEgAAECQAACAIAEAAEECAACCBAAABAkAAAgSAAAQJAAAIEgAAECQAACAIAEAAEECAACCBAAABAkAAAgSAAAQJAAAIEgAAECQAACAIAEAAEECAACCBAAABAkAAAgSAAAQJAAAIEgAAECQAACAIAEAAEECAACCBAAABH0A+Gm+nfb+AtsAAAAASUVORK5CYII=\"></div><div style=\"vertical-align: middle; max-width: 514px; display: flex; justify-content: space-between;\"><div style=\"float: left;\"><div title=\"#ffffffff\" style=\"display: inline-block; width: 1em; height: 1em; margin: 0; vertical-align: middle; border: 1px solid #555; background-color: #ffffffff;\"></div> under</div><div style=\"margin: 0 auto; display: inline-block;\">bad <div title=\"#00000000\" style=\"display: inline-block; width: 1em; height: 1em; margin: 0; vertical-align: middle; border: 1px solid #555; background-color: #00000000;\"></div></div><div style=\"float: right;\">over <div title=\"#000000ff\" style=\"display: inline-block; width: 1em; height: 1em; margin: 0; vertical-align: middle; border: 1px solid #555; background-color: #000000ff;\"></div></div>"
      ],
      "text/plain": [
       "<matplotlib.colors.LinearSegmentedColormap at 0x7f567dfdb190>"
      ]
     },
     "execution_count": 17,
     "metadata": {},
     "output_type": "execute_result"
    }
   ],
   "source": [
    "lc3 = cm.cmlist['soholasco3'].reversed()\n",
    "lc3"
   ]
  },
  {
   "cell_type": "code",
   "execution_count": 18,
   "id": "5cae42ee",
   "metadata": {},
   "outputs": [
    {
     "data": {
      "image/png": "[encoded data removed]",
      "text/html": [
       "<div style=\"vertical-align: middle;\"><strong>SOHO LASCO C3</strong> </div><div class=\"cmap\"><img alt=\"SOHO LASCO C3 colormap\" title=\"SOHO LASCO C3\" style=\"border: 1px solid #555;\" src=\"data:image/png;base64,iVBORw0KGgoAAAANSUhEUgAAAgAAAABACAYAAABsv8+/AAAAHHRFWHRUaXRsZQBTT0hPIExBU0NPIEMzIGNvbG9ybWFwEdDmtAAAACJ0RVh0RGVzY3JpcHRpb24AU09ITyBMQVNDTyBDMyBjb2xvcm1hcIyACPEAAAAwdEVYdEF1dGhvcgBNYXRwbG90bGliIHYzLjQuMiwgaHR0cHM6Ly9tYXRwbG90bGliLm9yZ6zWY90AAAAydEVYdFNvZnR3YXJlAE1hdHBsb3RsaWIgdjMuNC4yLCBodHRwczovL21hdHBsb3RsaWIub3JngnD8+gAAAaBJREFUeJzt1sFOwkAUQNFH//+fdWHVgE4KUSR4z1nQUPqmUwjJPc3My8zMzOnt9bQ6bt+f3+fm6LrV51/mb1xnOX/lOh/zN+774c//Pr892fNf+/vd+/nn7P1sR/vdj9tifnnd6jhn1y33v1znSfa/XG9x/6uf42D//+X7u/f+9//ftrj+8vx2ef8/nv88/7vzx/t9zPx63Z/O78cBAHIEAAAECQAACBIAABAkAAAgSAAAQJAAAIAgAQAAQQIAAIIEAAAECQAACBIAABAkAAAgSAAAQJAAAIAgAQAAQQIAAIIEAAAECQAACBIAABAkAAAgSAAAQJAAAIAgAQAAQQIAAIIEAAAECQAACBIAABAkAAAgSAAAQJAAAIAgAQAAQQIAAIIEAAAECQAACBIAABAkAAAgSAAAQJAAAIAgAQAAQQIAAIIEAAAECQAACBIAABAkAAAgSAAAQJAAAIAgAQAAQQIAAIIEAAAECQAACBIAABAkAAAgSAAAQJAAAIAgAQAAQQIAAIIEAAAECQAACBIAABAkAAAgSAAAQJAAAICgV2erBHwDlf7mAAAAAElFTkSuQmCC\"></div><div style=\"vertical-align: middle; max-width: 514px; display: flex; justify-content: space-between;\"><div style=\"float: left;\"><div title=\"#000000ff\" style=\"display: inline-block; width: 1em; height: 1em; margin: 0; vertical-align: middle; border: 1px solid #555; background-color: #000000ff;\"></div> under</div><div style=\"margin: 0 auto; display: inline-block;\">bad <div title=\"#00000000\" style=\"display: inline-block; width: 1em; height: 1em; margin: 0; vertical-align: middle; border: 1px solid #555; background-color: #00000000;\"></div></div><div style=\"float: right;\">over <div title=\"#ffffffff\" style=\"display: inline-block; width: 1em; height: 1em; margin: 0; vertical-align: middle; border: 1px solid #555; background-color: #ffffffff;\"></div></div>"
      ],
      "text/plain": [
       "<matplotlib.colors.LinearSegmentedColormap at 0x7f570bd34220>"
      ]
     },
     "execution_count": 18,
     "metadata": {},
     "output_type": "execute_result"
    }
   ],
   "source": [
    "lc3_reg = cm.cmlist['soholasco3']\n",
    "lc3_reg"
   ]
  },
  {
   "cell_type": "code",
   "execution_count": 19,
   "id": "d5453419",
   "metadata": {},
   "outputs": [],
   "source": [
    "plt.rc(\"axes.spines\", right=True, top=True)\n",
    "plt.rc(\"figure\", dpi=300, \n",
    "       figsize=(9, 3)\n",
    "      )\n",
    "plt.rc(\"font\", family=\"serif\")\n",
    "plt.rc(\"legend\", edgecolor=\"none\", frameon=True)\n",
    "plt.style.use(\"dark_background\")"
   ]
  },
  {
   "cell_type": "code",
   "execution_count": 20,
   "id": "da273102",
   "metadata": {},
   "outputs": [],
   "source": [
    "import sys\n",
    "# sys.path.insert(1, '/home/ajivani/WLROM/EdgeSS')\n",
    "sys.path.insert(1, os.path.join(current_dir, \"..\", \"EdgeSS\"))"
   ]
  },
  {
   "cell_type": "code",
   "execution_count": 21,
   "id": "bb9954ae",
   "metadata": {},
   "outputs": [],
   "source": [
    "import edge_utils as edut"
   ]
  },
  {
   "cell_type": "markdown",
   "id": "48cf5394",
   "metadata": {},
   "source": [
    "### Setup training and testing data"
   ]
  },
  {
   "cell_type": "code",
   "execution_count": 22,
   "id": "6e31651f",
   "metadata": {},
   "outputs": [],
   "source": [
    "X_orig = np.load(\"./CR2161_tDecay2h_Polar_Compressed.npy\")"
   ]
  },
  {
   "cell_type": "code",
   "execution_count": 23,
   "id": "8ec21e57-0c24-4d5f-9487-8657d535c4c3",
   "metadata": {
    "tags": []
   },
   "outputs": [
    {
     "data": {
      "text/plain": [
       "(64, 256, 90, 278)"
      ]
     },
     "execution_count": 23,
     "metadata": {},
     "output_type": "execute_result"
    }
   ],
   "source": [
    "X_orig.shape"
   ]
  },
  {
   "cell_type": "code",
   "execution_count": 24,
   "id": "37c2ea30",
   "metadata": {},
   "outputs": [],
   "source": [
    "X = X_orig.reshape((64 * 256, 90, 278))[:, :, :]"
   ]
  },
  {
   "cell_type": "code",
   "execution_count": 25,
   "id": "977f40a0",
   "metadata": {},
   "outputs": [
    {
     "data": {
      "text/plain": [
       "(16384, 90, 278)"
      ]
     },
     "execution_count": 25,
     "metadata": {},
     "output_type": "execute_result"
    }
   ],
   "source": [
    "X.shape"
   ]
  },
  {
   "cell_type": "code",
   "execution_count": 26,
   "id": "3f4a56a7",
   "metadata": {},
   "outputs": [],
   "source": [
    "sid=0"
   ]
  },
  {
   "cell_type": "code",
   "execution_count": 27,
   "id": "ff6345b8",
   "metadata": {},
   "outputs": [],
   "source": [
    "ed_2161, sd_2161 = edut.load_edge_data_blobfree(2161)"
   ]
  },
  {
   "cell_type": "code",
   "execution_count": 28,
   "id": "ed290b78",
   "metadata": {},
   "outputs": [],
   "source": [
    "tMinIdx, tMin, tMaxIdx, tMax = edut.getTMinTMax(ed_2161, simIdx=sid)"
   ]
  },
  {
   "cell_type": "code",
   "execution_count": 29,
   "id": "50f23a88",
   "metadata": {},
   "outputs": [
    {
     "data": {
      "text/plain": [
       "11"
      ]
     },
     "execution_count": 29,
     "metadata": {},
     "output_type": "execute_result"
    }
   ],
   "source": [
    "tMinIdx"
   ]
  },
  {
   "cell_type": "code",
   "execution_count": 30,
   "id": "8a293074-9fca-4e69-9845-51ec3cb8c7c6",
   "metadata": {
    "tags": []
   },
   "outputs": [
    {
     "data": {
      "text/plain": [
       "79"
      ]
     },
     "execution_count": 30,
     "metadata": {},
     "output_type": "execute_result"
    }
   ],
   "source": [
    "tMaxIdx"
   ]
  },
  {
   "cell_type": "code",
   "execution_count": 31,
   "id": "0434d15b",
   "metadata": {},
   "outputs": [],
   "source": [
    "all_times = np.linspace(2, 180, 90)"
   ]
  },
  {
   "cell_type": "code",
   "execution_count": 32,
   "id": "e14f3987",
   "metadata": {
    "lines_to_next_cell": 0
   },
   "outputs": [
    {
     "data": {
      "text/plain": [
       "array([ 24.,  26.,  28.,  30.,  32.,  34.,  36.,  38.,  40.,  42.,  44.,\n",
       "        46.,  48.,  50.,  52.,  54.,  56.,  58.,  60.,  62.,  64.,  66.,\n",
       "        68.,  70.,  72.,  74.,  76.,  78.,  80.,  82.,  84.,  86.,  88.,\n",
       "        90.,  92.,  94.,  96.,  98., 100., 102., 104., 106., 108., 110.,\n",
       "       112., 114., 116., 118., 120., 122., 124., 126., 128., 130., 132.,\n",
       "       134., 136., 138., 140., 142., 144., 146., 148., 150., 152., 154.,\n",
       "       156., 158., 160.])"
      ]
     },
     "execution_count": 32,
     "metadata": {},
     "output_type": "execute_result"
    }
   ],
   "source": [
    "valid_times = np.arange(tMin, tMax + 2, step=2)\n",
    "valid_times"
   ]
  },
  {
   "cell_type": "code",
   "execution_count": 33,
   "id": "dd26ebc8",
   "metadata": {},
   "outputs": [
    {
     "data": {
      "text/plain": [
       "11"
      ]
     },
     "execution_count": 33,
     "metadata": {},
     "output_type": "execute_result"
    }
   ],
   "source": [
    "validTimeStartIdx = np.argwhere(all_times == valid_times[0])[0][0]\n",
    "validTimeStartIdx"
   ]
  },
  {
   "cell_type": "code",
   "execution_count": 34,
   "id": "20c1a4f3",
   "metadata": {},
   "outputs": [
    {
     "data": {
      "text/plain": [
       "114.0"
      ]
     },
     "execution_count": 34,
     "metadata": {},
     "output_type": "execute_result"
    }
   ],
   "source": [
    "tTrainEnd = tMin + np.floor((2/3)*(tMax - tMin))\n",
    "tTrainEnd"
   ]
  },
  {
   "cell_type": "code",
   "execution_count": 35,
   "id": "1741f618",
   "metadata": {},
   "outputs": [
    {
     "data": {
      "text/plain": [
       "45"
      ]
     },
     "execution_count": 35,
     "metadata": {},
     "output_type": "execute_result"
    }
   ],
   "source": [
    "trainEndIdx = np.argwhere(valid_times == tTrainEnd)[0][0]\n",
    "trainEndIdx"
   ]
  },
  {
   "cell_type": "code",
   "execution_count": 36,
   "id": "ba5fa2ee",
   "metadata": {},
   "outputs": [
    {
     "data": {
      "text/plain": [
       "56"
      ]
     },
     "execution_count": 36,
     "metadata": {},
     "output_type": "execute_result"
    }
   ],
   "source": [
    "trainEndIdxAllTimes = np.argwhere(all_times == tTrainEnd)[0][0]\n",
    "trainEndIdxAllTimes"
   ]
  },
  {
   "cell_type": "code",
   "execution_count": 37,
   "id": "0ac61604-9bc6-4f53-b86f-d23196d25cf0",
   "metadata": {
    "tags": []
   },
   "outputs": [
    {
     "data": {
      "text/plain": [
       "array([116., 118., 120., 122., 124., 126., 128., 130., 132., 134., 136.,\n",
       "       138., 140., 142., 144., 146., 148., 150., 152., 154., 156., 158.,\n",
       "       160., 162., 164., 166., 168., 170., 172., 174., 176., 178., 180.])"
      ]
     },
     "execution_count": 37,
     "metadata": {},
     "output_type": "execute_result"
    }
   ],
   "source": [
    "all_times[(trainEndIdxAllTimes + 1):]"
   ]
  },
  {
   "cell_type": "code",
   "execution_count": 38,
   "id": "a5791e05",
   "metadata": {},
   "outputs": [],
   "source": [
    "tTrain = valid_times[:(trainEndIdx + 1)]"
   ]
  },
  {
   "cell_type": "code",
   "execution_count": 39,
   "id": "48333467-8c36-4016-b724-d820bb84606c",
   "metadata": {
    "tags": []
   },
   "outputs": [
    {
     "data": {
      "text/plain": [
       "array([ 24.,  26.,  28.,  30.,  32.,  34.,  36.,  38.,  40.,  42.,  44.,\n",
       "        46.,  48.,  50.,  52.,  54.,  56.,  58.,  60.,  62.,  64.,  66.,\n",
       "        68.,  70.,  72.,  74.,  76.,  78.,  80.,  82.,  84.,  86.,  88.,\n",
       "        90.,  92.,  94.,  96.,  98., 100., 102., 104., 106., 108., 110.,\n",
       "       112., 114.])"
      ]
     },
     "execution_count": 39,
     "metadata": {},
     "output_type": "execute_result"
    }
   ],
   "source": [
    "tTrain"
   ]
  },
  {
   "cell_type": "code",
   "execution_count": 40,
   "id": "27ba10af",
   "metadata": {},
   "outputs": [
    {
     "data": {
      "text/plain": [
       "array([116., 118., 120., 122., 124., 126., 128., 130., 132., 134., 136.,\n",
       "       138., 140., 142., 144., 146., 148., 150., 152., 154., 156., 158.,\n",
       "       160.])"
      ]
     },
     "execution_count": 40,
     "metadata": {},
     "output_type": "execute_result"
    }
   ],
   "source": [
    "tTest = valid_times[(trainEndIdx + 1):]\n",
    "tTest"
   ]
  },
  {
   "cell_type": "code",
   "execution_count": 41,
   "id": "96b26ca1",
   "metadata": {},
   "outputs": [],
   "source": [
    "tTrainScaled = (tTrain - tMin) / (tMax - tMin)\n",
    "tTestScaled = (tTest - tMin) / (tMax - tMin)\n",
    "\n",
    "tAllScaled = (valid_times - tMin) / (tMax - tMin)"
   ]
  },
  {
   "cell_type": "code",
   "execution_count": 42,
   "id": "7a8dba5a-b757-43b7-90cd-4d30f5a67641",
   "metadata": {
    "tags": []
   },
   "outputs": [
    {
     "data": {
      "text/plain": [
       "(69,)"
      ]
     },
     "execution_count": 42,
     "metadata": {},
     "output_type": "execute_result"
    }
   ],
   "source": [
    "tAllScaled.shape"
   ]
  },
  {
   "cell_type": "code",
   "execution_count": 43,
   "id": "ed010b1d",
   "metadata": {},
   "outputs": [
    {
     "data": {
      "text/plain": [
       "46"
      ]
     },
     "execution_count": 43,
     "metadata": {},
     "output_type": "execute_result"
    }
   ],
   "source": [
    "nTrain = len(tTrain)\n",
    "nTrain"
   ]
  },
  {
   "cell_type": "code",
   "execution_count": 44,
   "id": "e5345972",
   "metadata": {},
   "outputs": [],
   "source": [
    "# Slice data for a particular sID!\n",
    "\n",
    "x_train_orig = X_orig[:, :, validTimeStartIdx:(trainEndIdxAllTimes + 1), sid]\n",
    "x_train_orig = x_train_orig.transpose((2, 0, 1))"
   ]
  },
  {
   "cell_type": "code",
   "execution_count": 45,
   "id": "10957896",
   "metadata": {},
   "outputs": [
    {
     "data": {
      "text/plain": [
       "(46, 64, 256)"
      ]
     },
     "execution_count": 45,
     "metadata": {},
     "output_type": "execute_result"
    }
   ],
   "source": [
    "x_train_orig.shape"
   ]
  },
  {
   "cell_type": "code",
   "execution_count": 46,
   "id": "470b4d19",
   "metadata": {},
   "outputs": [
    {
     "data": {
      "text/plain": [
       "torch.Size([46, 1, 64, 256])"
      ]
     },
     "execution_count": 46,
     "metadata": {},
     "output_type": "execute_result"
    }
   ],
   "source": [
    "x_train_orig_torch = torch.from_numpy(np.expand_dims(np.float32(x_train_orig), axis=1)).to(device)\n",
    "x_train_orig_torch.shape"
   ]
  },
  {
   "cell_type": "code",
   "execution_count": 47,
   "id": "8041e6ff-2486-47a2-96dd-38db4cb95610",
   "metadata": {
    "tags": []
   },
   "outputs": [
    {
     "data": {
      "text/plain": [
       "torch.Size([69, 1, 64, 256])"
      ]
     },
     "execution_count": 47,
     "metadata": {},
     "output_type": "execute_result"
    }
   ],
   "source": [
    "x_orig_torch_full = X_orig[:, :, tMinIdx:(tMaxIdx + 1), sid]\n",
    "x_orig_torch_full = x_orig_torch_full.transpose((2, 0, 1))\n",
    "x_orig_torch_full = torch.from_numpy(np.expand_dims(np.float32(x_orig_torch_full), axis=1)).to(device)\n",
    "\n",
    "x_orig_torch_full.shape"
   ]
  },
  {
   "cell_type": "code",
   "execution_count": 48,
   "id": "618294f5",
   "metadata": {},
   "outputs": [
    {
     "data": {
      "text/plain": [
       "torch.Size([64, 256])"
      ]
     },
     "execution_count": 48,
     "metadata": {},
     "output_type": "execute_result"
    }
   ],
   "source": [
    "x_train_orig_torch[0][0].shape"
   ]
  },
  {
   "cell_type": "code",
   "execution_count": 49,
   "id": "cd419792",
   "metadata": {},
   "outputs": [
    {
     "data": {
      "text/plain": [
       "<matplotlib.colorbar.Colorbar at 0x7f5674e8fca0>"
      ]
     },
     "execution_count": 49,
     "metadata": {},
     "output_type": "execute_result"
    },
    {
     "data": {
      "image/png": "[encoded data removed]",
      "text/plain": [
       "<Figure size 2700x900 with 2 Axes>"
      ]
     },
     "metadata": {},
     "output_type": "display_data"
    }
   ],
   "source": [
    "# plot and check to confirm right dimensions have been indexed?\n",
    "plt.imshow(x_train_orig_torch[20][0].cpu(),\n",
    "            origin=\"lower\",\n",
    "            cmap=lc3_reg)\n",
    "plt.title(\"Sample Plot\")\n",
    "plt.colorbar(fraction=0.046 * 1/3, pad=0.04)"
   ]
  },
  {
   "cell_type": "code",
   "execution_count": 50,
   "id": "1864394c",
   "metadata": {},
   "outputs": [
    {
     "data": {
      "text/plain": [
       "(46, 16384)"
      ]
     },
     "execution_count": 50,
     "metadata": {},
     "output_type": "execute_result"
    }
   ],
   "source": [
    "x_train_flat = X[:, validTimeStartIdx:(trainEndIdxAllTimes + 1), sid]\n",
    "x_train_flat = x_train_flat.transpose((1, 0))\n",
    "x_train_flat.shape"
   ]
  },
  {
   "cell_type": "code",
   "execution_count": 51,
   "id": "7b5ec884",
   "metadata": {},
   "outputs": [
    {
     "data": {
      "text/plain": [
       "torch.Size([46, 1, 16384])"
      ]
     },
     "execution_count": 51,
     "metadata": {},
     "output_type": "execute_result"
    }
   ],
   "source": [
    "x_train_flat_torch = torch.from_numpy(np.expand_dims(np.float32(x_train_flat), axis=1)).to(device)\n",
    "x_train_flat_torch.shape"
   ]
  },
  {
   "cell_type": "code",
   "execution_count": 52,
   "id": "c6750562",
   "metadata": {},
   "outputs": [
    {
     "data": {
      "text/plain": [
       "(64, 256)"
      ]
     },
     "execution_count": 52,
     "metadata": {},
     "output_type": "execute_result"
    }
   ],
   "source": [
    "x0_train_orig = x_train_orig[tMinIdx, :, :]\n",
    "x0_train_orig.shape"
   ]
  },
  {
   "cell_type": "code",
   "execution_count": 53,
   "id": "88780165",
   "metadata": {},
   "outputs": [
    {
     "data": {
      "text/plain": [
       "torch.Size([1, 1, 64, 256])"
      ]
     },
     "execution_count": 53,
     "metadata": {},
     "output_type": "execute_result"
    }
   ],
   "source": [
    "x0_train_orig_torch = torch.from_numpy(np.expand_dims(np.float32(x0_train_orig), axis=(0, 1))).to(device)\n",
    "x0_train_orig_torch.shape"
   ]
  },
  {
   "cell_type": "code",
   "execution_count": 54,
   "id": "c8696b0b",
   "metadata": {},
   "outputs": [
    {
     "data": {
      "text/plain": [
       "torch.Size([1, 16384])"
      ]
     },
     "execution_count": 54,
     "metadata": {},
     "output_type": "execute_result"
    }
   ],
   "source": [
    "x0_train_flat = x0_train_orig.flatten()\n",
    "x0_train_flat_torch = torch.from_numpy(np.float32(x0_train_flat)).reshape((1, len(x0_train_flat))).to(device)\n",
    "x0_train_flat_torch.shape"
   ]
  },
  {
   "cell_type": "code",
   "execution_count": 55,
   "id": "92055108",
   "metadata": {},
   "outputs": [
    {
     "data": {
      "text/plain": [
       "torch.Size([46])"
      ]
     },
     "execution_count": 55,
     "metadata": {},
     "output_type": "execute_result"
    }
   ],
   "source": [
    "t_train_torch = torch.tensor(np.float32(tTrainScaled)).to(device)\n",
    "t_train_torch.shape"
   ]
  },
  {
   "cell_type": "code",
   "execution_count": 56,
   "id": "31141cd9-2bc1-4d6f-a4f0-fbfeab5c01a6",
   "metadata": {
    "tags": []
   },
   "outputs": [],
   "source": [
    "t_torch_full = torch.tensor(np.float32(tAllScaled)).to(device)"
   ]
  },
  {
   "cell_type": "code",
   "execution_count": 57,
   "id": "6f57f68a-3dce-4271-9164-6b8f508562bf",
   "metadata": {
    "tags": []
   },
   "outputs": [
    {
     "data": {
      "text/plain": [
       "torch.Size([69])"
      ]
     },
     "execution_count": 57,
     "metadata": {},
     "output_type": "execute_result"
    }
   ],
   "source": [
    "t_torch_full.shape"
   ]
  },
  {
   "cell_type": "code",
   "execution_count": 58,
   "id": "f7a015da",
   "metadata": {},
   "outputs": [],
   "source": [
    "data_size = t_train_torch.shape[0]\n",
    "batch_time = 5\n",
    "batch_size = 10"
   ]
  },
  {
   "cell_type": "code",
   "execution_count": 59,
   "id": "e7edb621",
   "metadata": {},
   "outputs": [],
   "source": [
    "# VERIFIED THAT THIS WORKS PROPERLY\n",
    "def get_batch(torch_train_data, torch_train_time, batch_time=5, batch_size=10):\n",
    "    s = torch.from_numpy(np.random.choice(np.arange(len(torch_train_time) - batch_time, dtype=np.int64),\n",
    "                                          batch_size,\n",
    "                                          replace=False))\n",
    "    batch_y0 = torch_train_data[s]\n",
    "    batch_t = torch.zeros((batch_size, batch_time))\n",
    "    for i in range(batch_size):\n",
    "        batch_t[i, :] = torch_train_time[s[i]:(s[i] + batch_time)]\n",
    "        \n",
    "    batch_y = torch.stack([torch_train_data[s + i] for i in range(batch_time)], dim=0)\n",
    "    return batch_y0.to(device), batch_t.to(device), batch_y.to(device)"
   ]
  },
  {
   "cell_type": "code",
   "execution_count": 60,
   "id": "692f581a",
   "metadata": {},
   "outputs": [],
   "source": [
    "# torch_train_data - x_train_orig_torch\n",
    "# torch_train_time - t_train_torch"
   ]
  },
  {
   "cell_type": "markdown",
   "id": "ca869fcb",
   "metadata": {},
   "source": [
    "### Construction of CNN Architecture"
   ]
  },
  {
   "cell_type": "code",
   "execution_count": 61,
   "id": "b54e409a",
   "metadata": {},
   "outputs": [],
   "source": [
    "class Flatten(nn.Module):\n",
    "\n",
    "    def __init__(self):\n",
    "        super(Flatten, self).__init__()\n",
    "\n",
    "    def forward(self, x):\n",
    "        shape = torch.prod(torch.tensor(x.shape[1:])).item()\n",
    "        return x.view(-1, shape)"
   ]
  },
  {
   "cell_type": "code",
   "execution_count": 62,
   "id": "5fa0d804",
   "metadata": {},
   "outputs": [],
   "source": [
    "class ConcatConv2d(nn.Module):\n",
    "\n",
    "    def __init__(self, dim_in, dim_out, ksize=3, stride=1, padding=0, dilation=1, \n",
    "                 bias=True, transpose=False):\n",
    "        super(ConcatConv2d, self).__init__()\n",
    "        module = nn.ConvTranspose2d if transpose else nn.Conv2d\n",
    "        self._layer = module(\n",
    "            dim_in + 1, dim_out, kernel_size=ksize, \n",
    "            stride=stride, \n",
    "            padding=padding, \n",
    "            dilation=dilation, \n",
    "            bias=bias\n",
    "        )\n",
    "\n",
    "    def forward(self, t, x):\n",
    "        tt = torch.ones_like(x[:, :1, :, :]) * t\n",
    "        ttx = torch.cat([tt, x], 1)\n",
    "        return self._layer(ttx)"
   ]
  },
  {
   "cell_type": "code",
   "execution_count": 63,
   "id": "e22683b9",
   "metadata": {},
   "outputs": [],
   "source": [
    "def norm(dim):\n",
    "    if dim == 1:\n",
    "        return nn.GroupNorm(dim, dim)\n",
    "    else:\n",
    "        return nn.GroupNorm(min(8, dim), dim)"
   ]
  },
  {
   "cell_type": "code",
   "execution_count": 64,
   "id": "57776e70",
   "metadata": {},
   "outputs": [],
   "source": [
    "class ODEfunc(nn.Module):\n",
    "\n",
    "    def __init__(self, dim):\n",
    "        super(ODEfunc, self).__init__()\n",
    "        self.norm1 = norm(dim)\n",
    "        self.relu = nn.ReLU(inplace=True)\n",
    "        self.conv1 = ConcatConv2d(dim, dim, \n",
    "                                  ksize=(3, 3),\n",
    "                                  stride=(1, 1), \n",
    "                                  padding=(1, 1),\n",
    "                                  dilation=(1, 1))\n",
    "        self.norm2 = norm(dim)\n",
    "        self.conv2 = ConcatConv2d(dim, dim, \n",
    "                                  ksize=(3, 3), \n",
    "                                  stride=(1, 1),\n",
    "                                  padding=(1, 1), \n",
    "                                  dilation=(1, 1))\n",
    "        self.norm3 = norm(dim)\n",
    "        #         self.nfe = 0\n",
    "\n",
    "    def forward(self, t, x):\n",
    "        #         self.nfe += 1\n",
    "        out = self.norm1(x)\n",
    "        out = self.relu(out)\n",
    "        out = self.conv1(t, out)\n",
    "        out = self.norm2(out)\n",
    "        out = self.relu(out)\n",
    "        out = self.conv2(t, out)\n",
    "        out = self.norm3(out)\n",
    "        return out"
   ]
  },
  {
   "cell_type": "markdown",
   "id": "82c0c79d",
   "metadata": {},
   "source": [
    "Check downsampling with _all_ single channel convolutions v/s _some multi-channel convolutions_ in the middle (since the channel specification should not depend on padding etc., only the output width and height!)"
   ]
  },
  {
   "cell_type": "code",
   "execution_count": 65,
   "id": "136b1008",
   "metadata": {},
   "outputs": [],
   "source": [
    "class MyODEBlock(nn.Module):\n",
    "    def __init__(self, dim, integration_time):\n",
    "        super(MyODEBlock, self).__init__()\n",
    "        \n",
    "        self.dim = dim\n",
    "        self.downsampling = [nn.Conv2d(in_channels=1, out_channels=1, kernel_size=(3, 3), \n",
    "                                       stride=(1, 1),\n",
    "                                       padding=(1, 1),\n",
    "                                       dilation=(1, 1)),\n",
    "                            norm(1),\n",
    "                            nn.ReLU(inplace=True),\n",
    "                            nn.Conv2d(in_channels=1, out_channels=1, kernel_size=(3, 3), \n",
    "                                       stride=(1, 1),\n",
    "                                       padding=(1, 1),\n",
    "                                       dilation=(1, 1)),\n",
    "                            norm(1),\n",
    "                            nn.ReLU(inplace=True),\n",
    "                            nn.Conv2d(in_channels=1, out_channels=1, kernel_size=(3, 3), \n",
    "                                       stride=(1, 1),\n",
    "                                       padding=(1, 1),\n",
    "                                       dilation=(1, 1))\n",
    "                            ]\n",
    "        \n",
    "        \n",
    "        self.odefunc = ODEfunc(self.dim)\n",
    "        self.integration_time = integration_time\n",
    "\n",
    "\n",
    "    def forward(self, x):\n",
    "        #         #         t = t.reshape(1, 1)\n",
    "        #         out = self.downsampling(x)\n",
    "        #         out = self.odefunc(t, out)\n",
    "        \n",
    "        self.integration_time = self.integration_time.type_as(x)\n",
    "        out = odeint(self.odefunc, x, self.integration_time, \n",
    "                     rtol=args.tol, atol=args.tol)\n",
    "        \n",
    "        #         out = self.fc_layers(out)\n",
    "        return out"
   ]
  },
  {
   "cell_type": "code",
   "execution_count": 66,
   "id": "3445069e",
   "metadata": {},
   "outputs": [],
   "source": [
    "by0, bt, by = get_batch(x_train_orig_torch, t_train_torch)"
   ]
  },
  {
   "cell_type": "code",
   "execution_count": 67,
   "id": "fe0824ec",
   "metadata": {},
   "outputs": [
    {
     "data": {
      "text/plain": [
       "torch.Size([10, 1, 64, 256])"
      ]
     },
     "execution_count": 67,
     "metadata": {},
     "output_type": "execute_result"
    }
   ],
   "source": [
    "by0.shape"
   ]
  },
  {
   "cell_type": "code",
   "execution_count": 68,
   "id": "25fc0c62",
   "metadata": {},
   "outputs": [
    {
     "data": {
      "text/plain": [
       "tensor([[0.0882, 0.1029, 0.1176, 0.1324, 0.1471],\n",
       "        [0.0294, 0.0441, 0.0588, 0.0735, 0.0882],\n",
       "        [0.0147, 0.0294, 0.0441, 0.0588, 0.0735],\n",
       "        [0.2941, 0.3088, 0.3235, 0.3382, 0.3529],\n",
       "        [0.3235, 0.3382, 0.3529, 0.3676, 0.3824],\n",
       "        [0.2794, 0.2941, 0.3088, 0.3235, 0.3382],\n",
       "        [0.4559, 0.4706, 0.4853, 0.5000, 0.5147],\n",
       "        [0.5588, 0.5735, 0.5882, 0.6029, 0.6176],\n",
       "        [0.5147, 0.5294, 0.5441, 0.5588, 0.5735],\n",
       "        [0.1765, 0.1912, 0.2059, 0.2206, 0.2353]], device='cuda:0')"
      ]
     },
     "execution_count": 68,
     "metadata": {},
     "output_type": "execute_result"
    }
   ],
   "source": [
    "bt"
   ]
  },
  {
   "cell_type": "code",
   "execution_count": 69,
   "id": "698cd38f",
   "metadata": {},
   "outputs": [
    {
     "data": {
      "text/plain": [
       "tensor([0.0882, 0.1029, 0.1176, 0.1324, 0.1471], device='cuda:0')"
      ]
     },
     "execution_count": 69,
     "metadata": {},
     "output_type": "execute_result"
    }
   ],
   "source": [
    "bt[0, :]"
   ]
  },
  {
   "cell_type": "code",
   "execution_count": 70,
   "id": "63cd13d1",
   "metadata": {},
   "outputs": [
    {
     "data": {
      "text/plain": [
       "torch.Size([5, 10, 1, 64, 256])"
      ]
     },
     "execution_count": 70,
     "metadata": {},
     "output_type": "execute_result"
    }
   ],
   "source": [
    "by.shape"
   ]
  },
  {
   "cell_type": "markdown",
   "id": "66cc38e4",
   "metadata": {},
   "source": [
    "Pass `by0` through all dimensionality checks"
   ]
  },
  {
   "cell_type": "code",
   "execution_count": 71,
   "id": "274341a6",
   "metadata": {},
   "outputs": [],
   "source": [
    "downsampling_1 = nn.Sequential(nn.Conv2d(in_channels=1, \n",
    "                                         out_channels=1, \n",
    "                                         kernel_size=(3, 3), \n",
    "                                         stride=(1, 1),\n",
    "                                         padding=(1, 1),\n",
    "                                         dilation=(1, 1)),\n",
    "                            norm(1),\n",
    "                            nn.ReLU(inplace=True),\n",
    "                            nn.Conv2d(in_channels=1,\n",
    "                                      out_channels=1,\n",
    "                                      kernel_size=(3, 3),\n",
    "                                      stride=(1, 1),\n",
    "                                      padding=(1, 1),\n",
    "                                      dilation=(1, 1)),\n",
    "                            norm(1),\n",
    "                            nn.ReLU(inplace=True),\n",
    "                            nn.Conv2d(in_channels=1,\n",
    "                                      out_channels=1,\n",
    "                                      kernel_size=(3, 3),\n",
    "                                      stride=(1, 1),\n",
    "                                      padding=(1, 1),\n",
    "                                      dilation=(1, 1)),\n",
    "                              ).to(device)"
   ]
  },
  {
   "cell_type": "code",
   "execution_count": 72,
   "id": "cc6c99cf",
   "metadata": {},
   "outputs": [],
   "source": [
    "ds_1 = downsampling_1(by0)"
   ]
  },
  {
   "cell_type": "code",
   "execution_count": 73,
   "id": "2913bb2e",
   "metadata": {},
   "outputs": [
    {
     "data": {
      "text/plain": [
       "torch.Size([10, 1, 64, 256])"
      ]
     },
     "execution_count": 73,
     "metadata": {},
     "output_type": "execute_result"
    }
   ],
   "source": [
    "ds_1.shape"
   ]
  },
  {
   "cell_type": "markdown",
   "id": "20c37c82",
   "metadata": {},
   "source": [
    "Experiment with more channels in the downsampling stage?"
   ]
  },
  {
   "cell_type": "code",
   "execution_count": 74,
   "id": "8d3fb70a",
   "metadata": {},
   "outputs": [],
   "source": [
    "downsampling_2 = nn.Sequential(nn.Conv2d(in_channels=1, \n",
    "                                         out_channels=16, \n",
    "                                         kernel_size=(3, 3), \n",
    "                                         stride=(1, 1),\n",
    "                                         padding=(1, 1),\n",
    "                                         dilation=(1, 1)),\n",
    "                            norm(16),\n",
    "                            nn.ReLU(inplace=True),\n",
    "                            nn.Conv2d(in_channels=16, \n",
    "                                      out_channels=16, \n",
    "                                      kernel_size=(3, 3), \n",
    "                                      stride=(1, 1),\n",
    "                                      padding=(1, 1),\n",
    "                                      dilation=(1, 1)),\n",
    "                            norm(16),\n",
    "                            nn.ReLU(inplace=True),\n",
    "                            nn.Conv2d(in_channels=16, \n",
    "                                      out_channels=1, \n",
    "                                      kernel_size=(3, 3), \n",
    "                                      stride=(1, 1),\n",
    "                                      padding=(1, 1),\n",
    "                                      dilation=(1, 1)),\n",
    "                              ).to(device)"
   ]
  },
  {
   "cell_type": "code",
   "execution_count": 75,
   "id": "8484776f",
   "metadata": {},
   "outputs": [],
   "source": [
    "ds_2 = downsampling_2(by0)"
   ]
  },
  {
   "cell_type": "code",
   "execution_count": 76,
   "id": "3a70d89b",
   "metadata": {},
   "outputs": [
    {
     "data": {
      "text/plain": [
       "torch.Size([10, 1, 64, 256])"
      ]
     },
     "execution_count": 76,
     "metadata": {},
     "output_type": "execute_result"
    }
   ],
   "source": [
    "ds_2.shape"
   ]
  },
  {
   "cell_type": "markdown",
   "id": "8b51bcbf",
   "metadata": {},
   "source": [
    "More channels clearly works!"
   ]
  },
  {
   "cell_type": "markdown",
   "id": "d7420e20",
   "metadata": {},
   "source": [
    "Next, we experiment with the `odeint` stuff in `MyODEBlock`. Note that here we pass a single row of times for the sake of checking dimensions / forward pass working but in reality we should pass full `bt` and do `odeint` individually over each row (don't know how inefficient this will be though)"
   ]
  },
  {
   "cell_type": "code",
   "execution_count": 77,
   "id": "21d0a986",
   "metadata": {},
   "outputs": [],
   "source": [
    "my_model = MyODEBlock(1, bt[0, :]).to(device)"
   ]
  },
  {
   "cell_type": "code",
   "execution_count": 78,
   "id": "6b8bca33",
   "metadata": {},
   "outputs": [
    {
     "data": {
      "text/plain": [
       "torch.Size([5, 10, 1, 64, 256])"
      ]
     },
     "execution_count": 78,
     "metadata": {},
     "output_type": "execute_result"
    }
   ],
   "source": [
    "my_model(ds_1).shape"
   ]
  },
  {
   "cell_type": "code",
   "execution_count": 79,
   "id": "7ec5bd07-e073-4e58-b4f8-cd1159651132",
   "metadata": {
    "tags": []
   },
   "outputs": [
    {
     "data": {
      "text/plain": [
       "torch.Size([1, 64, 256])"
      ]
     },
     "execution_count": 79,
     "metadata": {},
     "output_type": "execute_result"
    }
   ],
   "source": [
    "ds_1[0].shape"
   ]
  },
  {
   "cell_type": "code",
   "execution_count": 80,
   "id": "21d73282-19c9-42eb-9713-f42c0aa5e443",
   "metadata": {
    "tags": []
   },
   "outputs": [
    {
     "data": {
      "text/plain": [
       "torch.Size([1, 1, 64, 256])"
      ]
     },
     "execution_count": 80,
     "metadata": {},
     "output_type": "execute_result"
    }
   ],
   "source": [
    "ds_1[[0]].shape"
   ]
  },
  {
   "cell_type": "code",
   "execution_count": 81,
   "id": "a1dcd628-46d4-46bf-a3bd-5c9de6d4b8a8",
   "metadata": {
    "tags": []
   },
   "outputs": [
    {
     "data": {
      "text/plain": [
       "torch.Size([5, 1, 1, 64, 256])"
      ]
     },
     "execution_count": 81,
     "metadata": {},
     "output_type": "execute_result"
    }
   ],
   "source": [
    "my_model(ds_1[[0]]).shape"
   ]
  },
  {
   "cell_type": "code",
   "execution_count": 82,
   "id": "e33c88cc-fe7d-4e69-a07b-b9f3246c3ff8",
   "metadata": {
    "tags": []
   },
   "outputs": [
    {
     "data": {
      "text/plain": [
       "torch.Size([5, 1, 64, 256])"
      ]
     },
     "execution_count": 82,
     "metadata": {},
     "output_type": "execute_result"
    }
   ],
   "source": [
    "torch.squeeze(my_model(ds_1[[0]]), dim=1).shape"
   ]
  },
  {
   "cell_type": "markdown",
   "id": "93e535da",
   "metadata": {},
   "source": [
    "This works!!!"
   ]
  },
  {
   "cell_type": "markdown",
   "id": "3d25d39f-1492-4de0-aae2-14d23415ef12",
   "metadata": {},
   "source": [
    "**Define Final Model and run experiments**"
   ]
  },
  {
   "cell_type": "code",
   "execution_count": 83,
   "id": "0b271b95-9a0b-4410-b158-975c5762bc68",
   "metadata": {
    "tags": []
   },
   "outputs": [],
   "source": [
    "class ODEBlockCNN(nn.Module):\n",
    "    \"\"\"\n",
    "    `dim` sets the dimension of the input channel that goes into the `conv` layers of `ODEfunc`. We keep it at 1\n",
    "    `integration_time` is a 2D array of size `batch_size` x `batch_time` e.g 10x5. we want to take each row of the array and\n",
    "    use that for `odeint` on every IC from our sequence.\n",
    "    \"\"\"\n",
    "    def __init__(self, dim):\n",
    "        super(ODEBlockCNN, self).__init__()\n",
    "        \n",
    "        self.dim = dim\n",
    "        \n",
    "        self.odefunc = ODEfunc(self.dim)\n",
    "        \n",
    "        self.downsampling = nn.Sequential(nn.Conv2d(in_channels=1, out_channels=16, kernel_size=(3, 3), \n",
    "                                       stride=(1, 1),\n",
    "                                       padding=(1, 1),\n",
    "                                       dilation=(1, 1)),\n",
    "                            norm(16),\n",
    "                            nn.ReLU(inplace=True),\n",
    "                            nn.Conv2d(in_channels=16, out_channels=16, kernel_size=(3, 3), \n",
    "                                       stride=(1, 1),\n",
    "                                       padding=(1, 1),\n",
    "                                       dilation=(1, 1)),\n",
    "                            norm(16),\n",
    "                            nn.ReLU(inplace=True),\n",
    "                            nn.Conv2d(in_channels=16, out_channels=1, kernel_size=(3, 3), \n",
    "                                       stride=(1, 1),\n",
    "                                       padding=(1, 1),\n",
    "                                       dilation=(1, 1)))\n",
    "\n",
    "    def forward(self, xt_list):\n",
    "        x = xt_list[0]\n",
    "        \n",
    "        integration_time = xt_list[1].type_as(x)\n",
    "        \n",
    "        x = self.downsampling(x)\n",
    "        \n",
    "        if len(integration_time.shape) > 1:\n",
    "            out = torch.cat([odeint(self.odefunc, x[[i]], integration_time[i, :], rtol=args.tol,\n",
    "                                      atol=args.tol) for i in range(integration_time.shape[0])], dim=1)\n",
    "        else:\n",
    "            # print(\"Getting prediction for full series\")\n",
    "            out = odeint(self.odefunc, x, integration_time, rtol=args.tol,\n",
    "                                      atol=args.tol)\n",
    "            out = torch.squeeze(out, dim=1)\n",
    "\n",
    "        \n",
    "        return out"
   ]
  },
  {
   "cell_type": "code",
   "execution_count": 84,
   "id": "ab5a8596-1108-4762-a1eb-3bbcb9850554",
   "metadata": {
    "tags": []
   },
   "outputs": [],
   "source": [
    "# my_cnn_model = ODEBlockCNN(1).to(device)"
   ]
  },
  {
   "cell_type": "code",
   "execution_count": 85,
   "id": "c62caa8c-03c1-4bd7-9403-47cbd74f585e",
   "metadata": {
    "tags": []
   },
   "outputs": [],
   "source": [
    "# by0.shape, bt.shape"
   ]
  },
  {
   "cell_type": "code",
   "execution_count": 86,
   "id": "3231566b-0147-4d3d-b7dc-9e032495fe16",
   "metadata": {
    "tags": []
   },
   "outputs": [],
   "source": [
    "# my_cnn_model.forward([by0, bt]).shape"
   ]
  },
  {
   "cell_type": "code",
   "execution_count": 87,
   "id": "75fbf584-4c39-40b6-8bea-2a667664b53c",
   "metadata": {
    "tags": []
   },
   "outputs": [
    {
     "data": {
      "text/plain": [
       "torch.Size([69, 1, 64, 256])"
      ]
     },
     "execution_count": 87,
     "metadata": {},
     "output_type": "execute_result"
    }
   ],
   "source": [
    "x_orig_torch_full.shape"
   ]
  },
  {
   "cell_type": "code",
   "execution_count": 88,
   "id": "51206a5a-d861-4587-bc84-be13e985b18c",
   "metadata": {
    "tags": []
   },
   "outputs": [
    {
     "data": {
      "text/plain": [
       "torch.Size([1, 1, 64, 256])"
      ]
     },
     "execution_count": 88,
     "metadata": {},
     "output_type": "execute_result"
    }
   ],
   "source": [
    "x_orig_torch_full[[0]].shape"
   ]
  },
  {
   "cell_type": "code",
   "execution_count": 89,
   "id": "658283f6-61c7-4dd8-83d7-a0f3e1c65102",
   "metadata": {
    "tags": []
   },
   "outputs": [
    {
     "data": {
      "text/plain": [
       "4"
      ]
     },
     "execution_count": 89,
     "metadata": {},
     "output_type": "execute_result"
    }
   ],
   "source": [
    "len(x_orig_torch_full.shape)"
   ]
  },
  {
   "cell_type": "code",
   "execution_count": 90,
   "id": "a556e743-891c-4acf-afe3-bb6e9b899cf6",
   "metadata": {
    "tags": []
   },
   "outputs": [
    {
     "data": {
      "text/plain": [
       "1"
      ]
     },
     "execution_count": 90,
     "metadata": {},
     "output_type": "execute_result"
    }
   ],
   "source": [
    "len(t_torch_full.shape)"
   ]
  },
  {
   "cell_type": "markdown",
   "id": "0e06d1b7-85b3-4ac7-80a3-798b1354b125",
   "metadata": {},
   "source": [
    "Set up final training loop for CNN"
   ]
  },
  {
   "cell_type": "code",
   "execution_count": 91,
   "id": "ee2b1794-658b-459c-a5d9-2e41bca17a2b",
   "metadata": {
    "tags": []
   },
   "outputs": [],
   "source": [
    "my_cnn_model = ODEBlockCNN(1).to(device)\n",
    "optimizer = optim.Adam(my_cnn_model.parameters(), lr=1e-3)\n",
    "end = time.time()"
   ]
  },
  {
   "cell_type": "code",
   "execution_count": 92,
   "id": "22c38182-6551-44c2-8b53-0408393aa00b",
   "metadata": {
    "tags": []
   },
   "outputs": [],
   "source": [
    "niters = 1000\n",
    "test_freq = 5"
   ]
  },
  {
   "cell_type": "code",
   "execution_count": 93,
   "id": "6757b2ba-c67b-4a70-aeb9-b43f15195ae3",
   "metadata": {
    "tags": []
   },
   "outputs": [],
   "source": [
    "class RunningAverageMeter(object):\n",
    "    \"\"\"Computes and stores the average and current value\"\"\"\n",
    "\n",
    "    def __init__(self, momentum=0.99):\n",
    "        self.momentum = momentum\n",
    "        self.losses = []\n",
    "        self.reset()\n",
    "\n",
    "    def reset(self):\n",
    "        self.val = None\n",
    "        self.avg = 0\n",
    "\n",
    "    def update(self, val):\n",
    "        if self.val is None:\n",
    "            self.avg = val\n",
    "        else:\n",
    "            self.avg = self.avg * self.momentum + val * (1 - self.momentum)\n",
    "        self.val = val\n",
    "        self.losses.append(self.avg)"
   ]
  },
  {
   "cell_type": "code",
   "execution_count": 94,
   "id": "2789997c-8ef2-4969-94f9-174f905aa5d7",
   "metadata": {
    "tags": []
   },
   "outputs": [
    {
     "name": "stdout",
     "output_type": "stream",
     "text": [
      "Iter 0005 | Total Loss 0.311825 \n",
      "Iter 0010 | Total Loss 0.306769 \n",
      "Iter 0015 | Total Loss 0.305913 \n",
      "Iter 0020 | Total Loss 0.276116 \n",
      "Iter 0025 | Total Loss 0.268125 \n",
      "Iter 0030 | Total Loss 0.230864 \n",
      "Iter 0035 | Total Loss 0.188590 \n",
      "Iter 0040 | Total Loss 0.136043 \n",
      "Iter 0045 | Total Loss 0.135765 \n",
      "Iter 0050 | Total Loss 0.136156 \n",
      "Iter 0055 | Total Loss 0.113791 \n",
      "Iter 0060 | Total Loss 0.100342 \n",
      "Iter 0065 | Total Loss 0.100172 \n",
      "Iter 0070 | Total Loss 0.102878 \n",
      "Iter 0075 | Total Loss 0.105360 \n",
      "Iter 0080 | Total Loss 0.118608 \n",
      "Iter 0085 | Total Loss 0.103994 \n",
      "Iter 0090 | Total Loss 0.125952 \n",
      "Iter 0095 | Total Loss 0.105566 \n",
      "Iter 0100 | Total Loss 0.101200 \n",
      "Iter 0105 | Total Loss 0.098005 \n",
      "Iter 0110 | Total Loss 0.102859 \n",
      "Iter 0115 | Total Loss 0.096660 \n",
      "Iter 0120 | Total Loss 0.095880 \n",
      "Iter 0125 | Total Loss 0.096538 \n",
      "Iter 0130 | Total Loss 0.097703 \n",
      "Iter 0135 | Total Loss 0.102479 \n",
      "Iter 0140 | Total Loss 0.097468 \n",
      "Iter 0145 | Total Loss 0.121976 \n",
      "Iter 0150 | Total Loss 0.095086 \n",
      "Iter 0155 | Total Loss 0.099950 \n",
      "Iter 0160 | Total Loss 0.087951 \n",
      "Iter 0165 | Total Loss 0.090048 \n",
      "Iter 0170 | Total Loss 0.118385 \n",
      "Iter 0175 | Total Loss 0.087806 \n",
      "Iter 0180 | Total Loss 0.093929 \n",
      "Iter 0185 | Total Loss 0.091244 \n",
      "Iter 0190 | Total Loss 0.088955 \n",
      "Iter 0195 | Total Loss 0.083297 \n",
      "Iter 0200 | Total Loss 0.090249 \n",
      "Iter 0205 | Total Loss 0.090560 \n",
      "Iter 0210 | Total Loss 0.077395 \n",
      "Iter 0215 | Total Loss 0.089016 \n",
      "Iter 0220 | Total Loss 0.083358 \n",
      "Iter 0225 | Total Loss 0.081306 \n",
      "Iter 0230 | Total Loss 0.081269 \n",
      "Iter 0235 | Total Loss 0.077427 \n",
      "Iter 0240 | Total Loss 0.086421 \n",
      "Iter 0245 | Total Loss 0.071409 \n",
      "Iter 0250 | Total Loss 0.080730 \n",
      "Iter 0255 | Total Loss 0.074267 \n",
      "Iter 0260 | Total Loss 0.068662 \n",
      "Iter 0265 | Total Loss 0.071602 \n",
      "Iter 0270 | Total Loss 0.067580 \n",
      "Iter 0275 | Total Loss 0.059140 \n",
      "Iter 0280 | Total Loss 0.070822 \n",
      "Iter 0285 | Total Loss 0.056785 \n",
      "Iter 0290 | Total Loss 0.064242 \n",
      "Iter 0295 | Total Loss 0.060567 \n",
      "Iter 0300 | Total Loss 0.054328 \n",
      "Iter 0305 | Total Loss 0.068718 \n",
      "Iter 0310 | Total Loss 0.056981 \n",
      "Iter 0315 | Total Loss 0.070227 \n",
      "Iter 0320 | Total Loss 0.063090 \n",
      "Iter 0325 | Total Loss 0.065182 \n",
      "Iter 0330 | Total Loss 0.065994 \n",
      "Iter 0335 | Total Loss 0.059633 \n",
      "Iter 0340 | Total Loss 0.062683 \n",
      "Iter 0345 | Total Loss 0.060690 \n",
      "Iter 0350 | Total Loss 0.056968 \n",
      "Iter 0355 | Total Loss 0.064189 \n",
      "Iter 0360 | Total Loss 0.054536 \n",
      "Iter 0365 | Total Loss 0.070398 \n",
      "Iter 0370 | Total Loss 0.062557 \n",
      "Iter 0375 | Total Loss 0.057264 \n",
      "Iter 0380 | Total Loss 0.065286 \n",
      "Iter 0385 | Total Loss 0.058084 \n",
      "Iter 0390 | Total Loss 0.068871 \n",
      "Iter 0395 | Total Loss 0.054817 \n",
      "Iter 0400 | Total Loss 0.069138 \n",
      "Iter 0405 | Total Loss 0.052503 \n",
      "Iter 0410 | Total Loss 0.067463 \n",
      "Iter 0415 | Total Loss 0.065042 \n",
      "Iter 0420 | Total Loss 0.055760 \n",
      "Iter 0425 | Total Loss 0.068852 \n",
      "Iter 0430 | Total Loss 0.057874 \n",
      "Iter 0435 | Total Loss 0.063129 \n",
      "Iter 0440 | Total Loss 0.060103 \n",
      "Iter 0445 | Total Loss 0.062688 \n",
      "Iter 0450 | Total Loss 0.069258 \n",
      "Iter 0455 | Total Loss 0.050596 \n",
      "Iter 0460 | Total Loss 0.065326 \n",
      "Iter 0465 | Total Loss 0.058353 \n",
      "Iter 0470 | Total Loss 0.070116 \n",
      "Iter 0475 | Total Loss 0.058535 \n",
      "Iter 0480 | Total Loss 0.056235 \n",
      "Iter 0485 | Total Loss 0.068445 \n",
      "Iter 0490 | Total Loss 0.059335 \n",
      "Iter 0495 | Total Loss 0.055367 \n",
      "Iter 0500 | Total Loss 0.075438 \n",
      "Iter 0505 | Total Loss 0.051359 \n",
      "Iter 0510 | Total Loss 0.062507 \n",
      "Iter 0515 | Total Loss 0.062908 \n",
      "Iter 0520 | Total Loss 0.064599 \n",
      "Iter 0525 | Total Loss 0.066576 \n",
      "Iter 0530 | Total Loss 0.058553 \n",
      "Iter 0535 | Total Loss 0.070237 \n",
      "Iter 0540 | Total Loss 0.056163 \n",
      "Iter 0545 | Total Loss 0.066358 \n",
      "Iter 0550 | Total Loss 0.053289 \n",
      "Iter 0555 | Total Loss 0.064427 \n",
      "Iter 0560 | Total Loss 0.064099 \n",
      "Iter 0565 | Total Loss 0.054097 \n",
      "Iter 0570 | Total Loss 0.065542 \n",
      "Iter 0575 | Total Loss 0.062690 \n",
      "Iter 0580 | Total Loss 0.056499 \n",
      "Iter 0585 | Total Loss 0.060410 \n",
      "Iter 0590 | Total Loss 0.060400 \n",
      "Iter 0595 | Total Loss 0.063320 \n",
      "Iter 0600 | Total Loss 0.054725 \n",
      "Iter 0605 | Total Loss 0.055810 \n",
      "Iter 0610 | Total Loss 0.054210 \n",
      "Iter 0615 | Total Loss 0.060927 \n",
      "Iter 0620 | Total Loss 0.066992 \n",
      "Iter 0625 | Total Loss 0.070218 \n",
      "Iter 0630 | Total Loss 0.052770 \n",
      "Iter 0635 | Total Loss 0.052656 \n",
      "Iter 0640 | Total Loss 0.056194 \n",
      "Iter 0645 | Total Loss 0.064794 \n",
      "Iter 0650 | Total Loss 0.059184 \n",
      "Iter 0655 | Total Loss 0.052539 \n",
      "Iter 0660 | Total Loss 0.052265 \n",
      "Iter 0665 | Total Loss 0.052147 \n",
      "Iter 0670 | Total Loss 0.055291 \n",
      "Iter 0675 | Total Loss 0.047530 \n",
      "Iter 0680 | Total Loss 0.063348 \n",
      "Iter 0685 | Total Loss 0.055595 \n",
      "Iter 0690 | Total Loss 0.054779 \n",
      "Iter 0695 | Total Loss 0.049920 \n",
      "Iter 0700 | Total Loss 0.047035 \n",
      "Iter 0705 | Total Loss 0.049278 \n",
      "Iter 0710 | Total Loss 0.049245 \n",
      "Iter 0715 | Total Loss 0.053681 \n",
      "Iter 0720 | Total Loss 0.048414 \n",
      "Iter 0725 | Total Loss 0.045215 \n",
      "Iter 0730 | Total Loss 0.045956 \n",
      "Iter 0735 | Total Loss 0.052908 \n",
      "Iter 0740 | Total Loss 0.054762 \n",
      "Iter 0745 | Total Loss 0.057967 \n",
      "Iter 0750 | Total Loss 0.046536 \n",
      "Iter 0755 | Total Loss 0.048754 \n",
      "Iter 0760 | Total Loss 0.053252 \n",
      "Iter 0765 | Total Loss 0.054356 \n",
      "Iter 0770 | Total Loss 0.048810 \n",
      "Iter 0775 | Total Loss 0.047103 \n",
      "Iter 0780 | Total Loss 0.054652 \n",
      "Iter 0785 | Total Loss 0.051970 \n",
      "Iter 0790 | Total Loss 0.048178 \n",
      "Iter 0795 | Total Loss 0.045675 \n",
      "Iter 0800 | Total Loss 0.046713 \n",
      "Iter 0805 | Total Loss 0.058945 \n",
      "Iter 0810 | Total Loss 0.044662 \n",
      "Iter 0815 | Total Loss 0.044034 \n",
      "Iter 0820 | Total Loss 0.045788 \n",
      "Iter 0825 | Total Loss 0.055693 \n",
      "Iter 0830 | Total Loss 0.058434 \n",
      "Iter 0835 | Total Loss 0.056810 \n",
      "Iter 0840 | Total Loss 0.055344 \n",
      "Iter 0845 | Total Loss 0.055460 \n",
      "Iter 0850 | Total Loss 0.055628 \n",
      "Iter 0855 | Total Loss 0.049176 \n",
      "Iter 0860 | Total Loss 0.048764 \n",
      "Iter 0865 | Total Loss 0.044883 \n",
      "Iter 0870 | Total Loss 0.048076 \n",
      "Iter 0875 | Total Loss 0.045018 \n",
      "Iter 0880 | Total Loss 0.045124 \n",
      "Iter 0885 | Total Loss 0.049002 \n",
      "Iter 0890 | Total Loss 0.046070 \n",
      "Iter 0895 | Total Loss 0.050790 \n",
      "Iter 0900 | Total Loss 0.050609 \n",
      "Iter 0905 | Total Loss 0.051692 \n",
      "Iter 0910 | Total Loss 0.047497 \n",
      "Iter 0915 | Total Loss 0.048300 \n",
      "Iter 0920 | Total Loss 0.049714 \n",
      "Iter 0925 | Total Loss 0.046047 \n",
      "Iter 0930 | Total Loss 0.054162 \n",
      "Iter 0935 | Total Loss 0.051485 \n",
      "Iter 0940 | Total Loss 0.046372 \n",
      "Iter 0945 | Total Loss 0.046211 \n",
      "Iter 0950 | Total Loss 0.055105 \n",
      "Iter 0955 | Total Loss 0.055841 \n",
      "Iter 0960 | Total Loss 0.047309 \n",
      "Iter 0965 | Total Loss 0.050191 \n",
      "Iter 0970 | Total Loss 0.048161 \n",
      "Iter 0975 | Total Loss 0.046078 \n",
      "Iter 0980 | Total Loss 0.053734 \n",
      "Iter 0985 | Total Loss 0.061253 \n",
      "Iter 0990 | Total Loss 0.056767 \n",
      "Iter 0995 | Total Loss 0.052863 \n",
      "Iter 1000 | Total Loss 0.046418 \n"
     ]
    }
   ],
   "source": [
    "time_meter = RunningAverageMeter(0.97)\n",
    "loss_meter = RunningAverageMeter(0.97)\n",
    "\n",
    "if args.runCNN:\n",
    "\n",
    "    for itr in range(1, niters + 1):\n",
    "        optimizer.zero_grad()\n",
    "\n",
    "        batch_y0, batch_t, batch_y = get_batch(x_train_orig_torch, t_train_torch)\n",
    "\n",
    "        pred_y = my_cnn_model([batch_y0, batch_t])\n",
    "\n",
    "        loss = torch.mean(torch.abs(pred_y - batch_y))\n",
    "        loss.backward()\n",
    "        optimizer.step()\n",
    "\n",
    "        #     step_loss.append(loss.item())\n",
    "\n",
    "        time_meter.update(time.time() - end)\n",
    "        loss_meter.update(loss.item())\n",
    "\n",
    "        if itr % test_freq == 0:\n",
    "            with torch.no_grad():\n",
    "                pred_y_full_series = my_cnn_model([x_orig_torch_full[[0]], t_torch_full])\n",
    "                loss_full_series = torch.mean(torch.abs(pred_y_full_series \n",
    "                                                        - x_orig_torch_full))\n",
    "                print(\"Iter {:04d} | Total Loss {:.6f} \".format(itr,\n",
    "                                                                loss_full_series.item(), \n",
    "                                                                ))\n",
    "                # ii += 1\n",
    "\n",
    "        end = time.time()"
   ]
  },
  {
   "cell_type": "code",
   "execution_count": null,
   "id": "afbdd320-a6af-4c5d-8617-9563cf30f114",
   "metadata": {},
   "outputs": [],
   "source": []
  },
  {
   "cell_type": "code",
   "execution_count": 97,
   "id": "eb2582af-007a-4792-8889-720ce61fb048",
   "metadata": {
    "tags": []
   },
   "outputs": [],
   "source": [
    "torch.save(my_cnn_model, \"dy_dt_CNNy_1000_steps.pkl\")"
   ]
  },
  {
   "cell_type": "code",
   "execution_count": 98,
   "id": "c231caf0-7c32-4fe7-b6fa-de306695306e",
   "metadata": {
    "tags": []
   },
   "outputs": [],
   "source": [
    "torch.save(optimizer, \"dy_dt_CNNy_optim_1000_steps.pkl\")"
   ]
  },
  {
   "cell_type": "code",
   "execution_count": null,
   "id": "60f1e4ea-4d5a-49a1-a5fb-a27fbef879d5",
   "metadata": {},
   "outputs": [],
   "source": [
    "if not args.runCNN:\n",
    "    func_saved = torch.load(\"dy_dt_CNNy_1000_steps.pkl\")\n",
    "    optim_saved = torch.load(\"dy_dt_CNNy_optim_1000_steps.pkl\")"
   ]
  },
  {
   "cell_type": "code",
   "execution_count": null,
   "id": "36b8c306-3d64-4c2b-9f03-2bd8f9cdb6f3",
   "metadata": {},
   "outputs": [],
   "source": []
  },
  {
   "cell_type": "code",
   "execution_count": 104,
   "id": "0cb8c8e1-2acc-4cc0-bf0a-8a8d69c5ac6c",
   "metadata": {
    "tags": []
   },
   "outputs": [],
   "source": [
    "with torch.no_grad():\n",
    "    pred_y_final = my_cnn_model([x_orig_torch_full[[0]], t_torch_full]).cpu().numpy()[:, 0, :, :]"
   ]
  },
  {
   "cell_type": "code",
   "execution_count": 105,
   "id": "c1468ade-4f5f-4995-a81d-90ddf1a4dbb2",
   "metadata": {
    "tags": []
   },
   "outputs": [
    {
     "data": {
      "text/plain": [
       "(69, 64, 256)"
      ]
     },
     "execution_count": 105,
     "metadata": {},
     "output_type": "execute_result"
    }
   ],
   "source": [
    "pred_y_final.shape"
   ]
  },
  {
   "cell_type": "code",
   "execution_count": 106,
   "id": "2a9beec5-7f79-408e-8a4d-bd0614804556",
   "metadata": {
    "tags": []
   },
   "outputs": [],
   "source": [
    "x_orig_full_cpu = x_orig_torch_full.cpu().numpy()[:, 0, :, :]"
   ]
  },
  {
   "cell_type": "code",
   "execution_count": 107,
   "id": "c796f54b-385d-4dbe-8fdc-229e92c7f526",
   "metadata": {
    "tags": []
   },
   "outputs": [
    {
     "data": {
      "text/plain": [
       "(69, 64, 256)"
      ]
     },
     "execution_count": 107,
     "metadata": {},
     "output_type": "execute_result"
    }
   ],
   "source": [
    "x_orig_full_cpu.shape"
   ]
  },
  {
   "cell_type": "code",
   "execution_count": 117,
   "id": "bcd2f5ff-dfd3-4dc6-8155-25bab9d5e57a",
   "metadata": {
    "tags": []
   },
   "outputs": [
    {
     "data": {
      "image/png": "[encoded data removed]",
      "text/plain": [
       "<Figure size 3000x1800 with 4 Axes>"
      ]
     },
     "metadata": {},
     "output_type": "display_data"
    }
   ],
   "source": [
    "fig, ax = plt.subplots(1, 2, figsize=(10, 6))\n",
    "axs = ax.ravel()\n",
    "im0 = axs[0].imshow(x_orig_full_cpu[6, :, :],\n",
    "            origin=\"lower\",\n",
    "            cmap=lc3_reg)\n",
    "axs[0].set_title(\"True\")\n",
    "fig.colorbar(im0, fraction=0.046 * 1/3, pad=0.04, ax=axs[0])\n",
    "\n",
    "im1 = axs[1].imshow(pred_y_final[6, :, :],\n",
    "                   origin=\"lower\",\n",
    "                   cmap=lc3_reg)\n",
    "axs[1].set_title(\"Predicted\")\n",
    "fig.colorbar(im1, fraction=0.046 * 1/3, pad=0.04, ax=axs[1])\n",
    "fig.tight_layout()"
   ]
  },
  {
   "cell_type": "markdown",
   "id": "7bffd25a",
   "metadata": {},
   "source": [
    "#### SCRATCH\n",
    "\n",
    "**Helpful**\n",
    "\n",
    "Downsample a stack of images in PyTorch:\n",
    "https://gist.github.com/patrickmineault/21b8d78f423ac8ea4b006f9ec1a1a1a7\n",
    "\n",
    "\n",
    "Clear batch from GPU memory after each iteration:\n",
    "https://saturncloud.io/blog/how-to-clear-gpu-memory-after-pytorch-model-training-without-restarting-kernel/\n",
    "\n",
    "https://stackoverflow.com/a/70541483"
   ]
  },
  {
   "cell_type": "code",
   "execution_count": null,
   "id": "9988b5f9",
   "metadata": {},
   "outputs": [],
   "source": [
    "# class ODEfuncTrial(nn.Module):\n",
    "#     \"\"\"\n",
    "#     Trial and error for architecture of the ODEfunc with convolutions!\n",
    "#     \"\"\"\n",
    "    \n",
    "#     def __init__(self):\n",
    "#         super(ODEfuncTrial, self).__init__()\n",
    "        \n",
    "#         self.conv1 = nn.Conv2d(in_channels=1,\n",
    "#                              out_channels=1,\n",
    "#                              kernel_size=3,\n",
    "#                              stride=1,\n",
    "#                              padding=1\n",
    "#                               )\n",
    "        \n",
    "#         self.relu1 = nn.ReLU()\n",
    "#         self.mp = nn.MaxPool2d(kernel_size=1)\n",
    "        \n",
    "#         self.norm1 = norm(1)\n",
    "#         self.relu2 = nn.ReLU(inplace=True)\n",
    "#         self.flat = nn.Flatten()\n",
    "#         #         self.lin1 = nn.Linear(16384, 16384)\n",
    "        \n",
    "#     def forward(self, t, x):\n",
    "#         out = self.conv1(x)\n",
    "#         out = self.relu1(out)\n",
    "#         out = self.mp(out)\n",
    "#         out = self.norm1(out)\n",
    "#         out = self.relu2(out)\n",
    "#         out = self.flat(out)\n",
    "#         #         out = self.lin1(out)\n",
    "#         out = self.relu1(out)\n",
    "        \n",
    "#         return out"
   ]
  },
  {
   "cell_type": "code",
   "execution_count": null,
   "id": "89a8d3f5-2a74-4e82-9c38-7ead44b81868",
   "metadata": {
    "tags": []
   },
   "outputs": [],
   "source": [
    "torch.cat((my_model(ds_1[[0]]), my_model(ds_1[[0]])), dim=1).shape"
   ]
  },
  {
   "cell_type": "code",
   "execution_count": null,
   "id": "5f868522-cb87-4eea-aed1-09ba493e4262",
   "metadata": {
    "tags": []
   },
   "outputs": [],
   "source": [
    "# define tensors\n",
    "tens_1 = torch.Tensor([[[11, 12, 13], \n",
    "                       [14, 15, 16]],\n",
    "                       [[1, 2, 3],\n",
    "                        [4, 5, 6]]])\n",
    "tens_2 = torch.Tensor([[[17, 18, 19], \n",
    "                       [20, 21, 22]],\n",
    "                       [[-1, -2, -3],\n",
    "                        [-4, -5, -6]]])"
   ]
  },
  {
   "cell_type": "code",
   "execution_count": null,
   "id": "49e68c6d-aa4f-424e-bf61-53f8c96c4590",
   "metadata": {
    "tags": []
   },
   "outputs": [],
   "source": [
    "tens_1[:, :, 2]"
   ]
  },
  {
   "cell_type": "code",
   "execution_count": null,
   "id": "13ac2135-509a-4103-892d-0845b75b8396",
   "metadata": {
    "tags": []
   },
   "outputs": [],
   "source": [
    "torch.cat((tens_1, tens_2), dim=1)[:, :, 0]"
   ]
  },
  {
   "cell_type": "code",
   "execution_count": null,
   "id": "a775bdb8-2db5-4968-9d41-cba9de68757e",
   "metadata": {
    "tags": []
   },
   "outputs": [],
   "source": [
    "torch.cat([tens_1, tens_2], dim=1)[:, :, 0]"
   ]
  },
  {
   "cell_type": "code",
   "execution_count": null,
   "id": "6ba48ae4-7e04-473d-9429-02e8ec7860d9",
   "metadata": {
    "tags": []
   },
   "outputs": [],
   "source": [
    "torch.cat([tens_2, tens_1], dim=1)[:, :, 0]"
   ]
  },
  {
   "cell_type": "code",
   "execution_count": null,
   "id": "19bdde21-43e0-4df5-b180-e008810ac8b6",
   "metadata": {
    "tags": []
   },
   "outputs": [],
   "source": [
    "s = torch.from_numpy(np.random.choice(np.arange(41, dtype=np.int64), 10,\n",
    "                                          replace=False))"
   ]
  },
  {
   "cell_type": "code",
   "execution_count": null,
   "id": "66be3ef3-929c-4e44-be9c-c1c2558a5c7d",
   "metadata": {
    "tags": []
   },
   "outputs": [],
   "source": [
    "s"
   ]
  },
  {
   "cell_type": "code",
   "execution_count": null,
   "id": "1b7d1b8b-67a5-41d7-bf70-80f7070265ba",
   "metadata": {
    "tags": []
   },
   "outputs": [],
   "source": [
    "x_train_orig_torch.shape"
   ]
  },
  {
   "cell_type": "code",
   "execution_count": null,
   "id": "a48d31c4-a296-4471-8516-394fa310208f",
   "metadata": {
    "tags": []
   },
   "outputs": [],
   "source": [
    "x_batch_sample = x_train_orig_torch[torch.tensor([5, 14, 33])]"
   ]
  },
  {
   "cell_type": "code",
   "execution_count": null,
   "id": "ecaa488a-481c-4d75-af91-d4c7e03bf5c6",
   "metadata": {
    "tags": []
   },
   "outputs": [],
   "source": [
    "ll = [x_train_orig_torch[s + i] for i in range(5)]"
   ]
  },
  {
   "cell_type": "code",
   "execution_count": null,
   "id": "e0984681-33d3-469c-9a60-b79b0aa9f933",
   "metadata": {
    "tags": []
   },
   "outputs": [],
   "source": [
    "ll[0].shape"
   ]
  },
  {
   "cell_type": "code",
   "execution_count": null,
   "id": "b8e4e9b4-7062-4c93-9192-57101b181113",
   "metadata": {
    "tags": []
   },
   "outputs": [],
   "source": [
    "x_batch_sample.shape"
   ]
  },
  {
   "cell_type": "code",
   "execution_count": null,
   "id": "a6a24677-7dcb-4534-bc95-6a8f43b15985",
   "metadata": {
    "tags": []
   },
   "outputs": [],
   "source": [
    "64 * 256"
   ]
  },
  {
   "cell_type": "code",
   "execution_count": null,
   "id": "3a6e2891-e276-4f8a-b6ee-786582f927a9",
   "metadata": {
    "tags": []
   },
   "outputs": [],
   "source": [
    "torch.sum(x_batch_sample[0] == x_train_orig_torch[5])"
   ]
  },
  {
   "cell_type": "code",
   "execution_count": null,
   "id": "e1d95b1f-0963-44e7-a33b-cfee98dc586c",
   "metadata": {
    "tags": []
   },
   "outputs": [],
   "source": [
    "### PROBLEMATIC??? reinitialize model with every fresh batch of integration time - not good. don't make\n",
    "### integration time part of the model attributes!!!!\n",
    "# class ODEBlockCNN(nn.Module):\n",
    "#     \"\"\"\n",
    "#     `dim` sets the dimension of the input channel that goes into the `conv` layers of `ODEfunc`. We keep it at 1\n",
    "#     `integration_time` is a 2D array of size `batch_size` x `batch_time` e.g 10x5. we want to take each row of the array and\n",
    "#     use that for `odeint` on every IC from our sequence.\n",
    "#     \"\"\"\n",
    "#     def __init__(self, dim, integration_time):\n",
    "#         super(ODEBlockCNN, self).__init__()\n",
    "        \n",
    "#         self.dim = dim\n",
    "#         self.downsampling = [nn.Conv2d(in_channels=1, out_channels=16, kernel_size=(3, 3), \n",
    "#                                        stride=(1, 1),\n",
    "#                                        padding=(1, 1),\n",
    "#                                        dilation=(1, 1)),\n",
    "#                             norm(16),\n",
    "#                             nn.ReLU(inplace=True),\n",
    "#                             nn.Conv2d(in_channels=16, out_channels=16, kernel_size=(3, 3), \n",
    "#                                        stride=(1, 1),\n",
    "#                                        padding=(1, 1),\n",
    "#                                        dilation=(1, 1)),\n",
    "#                             norm(16),\n",
    "#                             nn.ReLU(inplace=True),\n",
    "#                             nn.Conv2d(in_channels=16, out_channels=1, kernel_size=(3, 3), \n",
    "#                                        stride=(1, 1),\n",
    "#                                        padding=(1, 1),\n",
    "#                                        dilation=(1, 1))\n",
    "#                             ]\n",
    "        \n",
    "        \n",
    "#         self.odefunc = ODEfunc(self.dim)\n",
    "#         self.integration_time = integration_time\n",
    "#         self.batch_size = self.integration_time.shape[0]\n",
    "#         self.batch_time = self.integration_time.shape[1]\n",
    "        \n",
    "\n",
    "#     def forward(self, x):        \n",
    "#         self.integration_time = self.integration_time.type_as(x)\n",
    "        \n",
    "#         out = torch.cat([odeint(self.odefunc, x[[i]], self.integration_time[i, :], rtol=args.tol,\n",
    "#                                       atol=args.tol) for i in range(batch_size)], dim=1)\n",
    "        \n",
    "#         return out"
   ]
  }
 ],
 "metadata": {
  "kernelspec": {
   "display_name": "pytorch-1.9.0",
   "language": "python",
   "name": "pytorch-1.9.0"
  },
  "language_info": {
   "codemirror_mode": {
    "name": "ipython",
    "version": 3
   },
   "file_extension": ".py",
   "mimetype": "text/x-python",
   "name": "python",
   "nbconvert_exporter": "python",
   "pygments_lexer": "ipython3",
   "version": "3.8.11"
  }
 },
 "nbformat": 4,
 "nbformat_minor": 5
}
