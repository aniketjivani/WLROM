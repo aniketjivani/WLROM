{
 "cells": [
  {
   "cell_type": "markdown",
   "id": "8feef7eb",
   "metadata": {},
   "source": [
    "Carrying the same basic concept as notebook 1.\n",
    "\n",
    "\n",
    "the idea in this notebook involves no prior model, just trying to put a feedforward neural network with reduced state model instead of OpInf. \n",
    "More advanced version will not flatten anything and use convolutions.\n",
    "\n",
    "instead of linear RHS we also put quadratic term. But our quadratic model is very simple Linear tanh scheme for now."
   ]
  },
  {
   "cell_type": "code",
   "execution_count": 1,
   "id": "b8cf90d6",
   "metadata": {},
   "outputs": [
    {
     "data": {
      "text/plain": [
       "'/home/ajivani/WLROM/WhiteLight'"
      ]
     },
     "execution_count": 1,
     "metadata": {},
     "output_type": "execute_result"
    }
   ],
   "source": [
    "import os\n",
    "import opinf\n",
    "import scipy.signal\n",
    "# import cv2\n",
    "os.getcwd()"
   ]
  },
  {
   "cell_type": "code",
   "execution_count": 2,
   "id": "407c576b",
   "metadata": {},
   "outputs": [],
   "source": [
    "import numpy as np\n",
    "from numpy import ogrid\n",
    "import pandas as pd\n",
    "import scipy.linalg as la\n",
    "import scipy.sparse as sparse\n",
    "import matplotlib.pyplot as plt\n",
    "\n",
    "import opinf as op"
   ]
  },
  {
   "cell_type": "code",
   "execution_count": 3,
   "id": "bb5bd971",
   "metadata": {},
   "outputs": [],
   "source": [
    "import time"
   ]
  },
  {
   "cell_type": "code",
   "execution_count": 4,
   "id": "85cbf827",
   "metadata": {},
   "outputs": [],
   "source": [
    "from sunpy.visualization import colormaps as cm"
   ]
  },
  {
   "cell_type": "code",
   "execution_count": 5,
   "id": "b4df4060",
   "metadata": {},
   "outputs": [],
   "source": [
    "import torch\n",
    "import torch.nn as nn\n",
    "import torch.optim as optim"
   ]
  },
  {
   "cell_type": "code",
   "execution_count": 6,
   "id": "9e08df6c",
   "metadata": {},
   "outputs": [],
   "source": [
    "adjoint=True"
   ]
  },
  {
   "cell_type": "code",
   "execution_count": 7,
   "id": "da32ee68",
   "metadata": {},
   "outputs": [],
   "source": [
    "if adjoint:\n",
    "    from torchdiffeq import odeint_adjoint as odeint\n",
    "else:\n",
    "    from torchdiffeq import odeint"
   ]
  },
  {
   "cell_type": "code",
   "execution_count": 8,
   "id": "636140a3",
   "metadata": {},
   "outputs": [],
   "source": [
    "device = torch.device('cuda:0' if torch.cuda.is_available() else 'cpu')"
   ]
  },
  {
   "cell_type": "code",
   "execution_count": 9,
   "id": "14aa9a28",
   "metadata": {},
   "outputs": [
    {
     "data": {
      "image/png": "[encoded data removed]",
      "text/html": [
       "<div style=\"vertical-align: middle;\"><strong>SOHO LASCO C3_r</strong> </div><div class=\"cmap\"><img alt=\"SOHO LASCO C3_r colormap\" title=\"SOHO LASCO C3_r\" style=\"border: 1px solid #555;\" src=\"data:image/png;base64,iVBORw0KGgoAAAANSUhEUgAAAgAAAABACAYAAABsv8+/AAAAHnRFWHRUaXRsZQBTT0hPIExBU0NPIEMzX3IgY29sb3JtYXDMCW5EAAAAJHRFWHREZXNjcmlwdGlvbgBTT0hPIExBU0NPIEMzX3IgY29sb3JtYXAGtYcrAAAAMHRFWHRBdXRob3IATWF0cGxvdGxpYiB2My43LjEsIGh0dHBzOi8vbWF0cGxvdGxpYi5vcmcqr/hNAAAAMnRFWHRTb2Z0d2FyZQBNYXRwbG90bGliIHYzLjcuMSwgaHR0cHM6Ly9tYXRwbG90bGliLm9yZwQJZ2oAAAHFSURBVHic7dZBbsIwFEDB397/zKSLQisR3DQtEos3s0EksWNjCb23bdu2mZnL58dcv+6+L6/P7fo8dfzq+VePX847/xt/ff35c5jb9T+Ov3v/dnn8/P3n7J57vP/VfLO7vxi/mGd2z51b/3a5n+fc+vf7OFj/4T7mx+eOz+Hg/UfncPL3++/5v3r9vz7/68Eu1z8/3z+aZ+Z371nN8z3+3Lpv99fjD9b99b/xx3Xv/r/OrfvV+z9/fs/d/3r8uXW/DwCQIwAAIEgAAECQAACAIAEAAEECAACCBAAABAkAAAgSAAAQJAAAIEgAAECQAACAIAEAAEECAACCBAAABAkAAAgSAAAQJAAAIEgAAECQAACAIAEAAEECAACCBAAABAkAAAgSAAAQJAAAIEgAAECQAACAIAEAAEECAACCBAAABAkAAAgSAAAQJAAAIEgAAECQAACAIAEAAEECAACCBAAABAkAAAgSAAAQJAAAIEgAAECQAACAIAEAAEECAACCBAAABAkAAAgSAAAQJAAAIEgAAECQAACAIAEAAEECAACCBAAABAkAAAgSAAAQJAAAIEgAAECQAACAIAEAAEECAACCBAAABH0A+Gm+nfb+AtsAAAAASUVORK5CYII=\"></div><div style=\"vertical-align: middle; max-width: 514px; display: flex; justify-content: space-between;\"><div style=\"float: left;\"><div title=\"#ffffffff\" style=\"display: inline-block; width: 1em; height: 1em; margin: 0; vertical-align: middle; border: 1px solid #555; background-color: #ffffffff;\"></div> under</div><div style=\"margin: 0 auto; display: inline-block;\">bad <div title=\"#00000000\" style=\"display: inline-block; width: 1em; height: 1em; margin: 0; vertical-align: middle; border: 1px solid #555; background-color: #00000000;\"></div></div><div style=\"float: right;\">over <div title=\"#000000ff\" style=\"display: inline-block; width: 1em; height: 1em; margin: 0; vertical-align: middle; border: 1px solid #555; background-color: #000000ff;\"></div></div>"
      ],
      "text/plain": [
       "<matplotlib.colors.LinearSegmentedColormap at 0x7f93234d3160>"
      ]
     },
     "execution_count": 9,
     "metadata": {},
     "output_type": "execute_result"
    }
   ],
   "source": [
    "lc3 = cm.cmlist['soholasco3'].reversed()\n",
    "lc3"
   ]
  },
  {
   "cell_type": "code",
   "execution_count": 10,
   "id": "5cae42ee",
   "metadata": {},
   "outputs": [
    {
     "data": {
      "image/png": "[encoded data removed]",
      "text/html": [
       "<div style=\"vertical-align: middle;\"><strong>SOHO LASCO C3</strong> </div><div class=\"cmap\"><img alt=\"SOHO LASCO C3 colormap\" title=\"SOHO LASCO C3\" style=\"border: 1px solid #555;\" src=\"data:image/png;base64,iVBORw0KGgoAAAANSUhEUgAAAgAAAABACAYAAABsv8+/AAAAHHRFWHRUaXRsZQBTT0hPIExBU0NPIEMzIGNvbG9ybWFwEdDmtAAAACJ0RVh0RGVzY3JpcHRpb24AU09ITyBMQVNDTyBDMyBjb2xvcm1hcIyACPEAAAAwdEVYdEF1dGhvcgBNYXRwbG90bGliIHYzLjcuMSwgaHR0cHM6Ly9tYXRwbG90bGliLm9yZyqv+E0AAAAydEVYdFNvZnR3YXJlAE1hdHBsb3RsaWIgdjMuNy4xLCBodHRwczovL21hdHBsb3RsaWIub3JnBAlnagAAAaBJREFUeJzt1sFOwkAUQNFH//+fdWHVgE4KUSR4z1nQUPqmUwjJPc3My8zMzOnt9bQ6bt+f3+fm6LrV51/mb1xnOX/lOh/zN+774c//Pr892fNf+/vd+/nn7P1sR/vdj9tifnnd6jhn1y33v1znSfa/XG9x/6uf42D//+X7u/f+9//ftrj+8vx2ef8/nv88/7vzx/t9zPx63Z/O78cBAHIEAAAECQAACBIAABAkAAAgSAAAQJAAAIAgAQAAQQIAAIIEAAAECQAACBIAABAkAAAgSAAAQJAAAIAgAQAAQQIAAIIEAAAECQAACBIAABAkAAAgSAAAQJAAAIAgAQAAQQIAAIIEAAAECQAACBIAABAkAAAgSAAAQJAAAIAgAQAAQQIAAIIEAAAECQAACBIAABAkAAAgSAAAQJAAAIAgAQAAQQIAAIIEAAAECQAACBIAABAkAAAgSAAAQJAAAIAgAQAAQQIAAIIEAAAECQAACBIAABAkAAAgSAAAQJAAAIAgAQAAQQIAAIIEAAAECQAACBIAABAkAAAgSAAAQJAAAICgV2erBHwDlf7mAAAAAElFTkSuQmCC\"></div><div style=\"vertical-align: middle; max-width: 514px; display: flex; justify-content: space-between;\"><div style=\"float: left;\"><div title=\"#000000ff\" style=\"display: inline-block; width: 1em; height: 1em; margin: 0; vertical-align: middle; border: 1px solid #555; background-color: #000000ff;\"></div> under</div><div style=\"margin: 0 auto; display: inline-block;\">bad <div title=\"#00000000\" style=\"display: inline-block; width: 1em; height: 1em; margin: 0; vertical-align: middle; border: 1px solid #555; background-color: #00000000;\"></div></div><div style=\"float: right;\">over <div title=\"#ffffffff\" style=\"display: inline-block; width: 1em; height: 1em; margin: 0; vertical-align: middle; border: 1px solid #555; background-color: #ffffffff;\"></div></div>"
      ],
      "text/plain": [
       "<matplotlib.colors.LinearSegmentedColormap at 0x7f93bc5ed660>"
      ]
     },
     "execution_count": 10,
     "metadata": {},
     "output_type": "execute_result"
    }
   ],
   "source": [
    "lc3_reg = cm.cmlist['soholasco3']\n",
    "lc3_reg"
   ]
  },
  {
   "cell_type": "code",
   "execution_count": 11,
   "id": "d5453419",
   "metadata": {},
   "outputs": [],
   "source": [
    "plt.rc(\"axes.spines\", right=True, top=True)\n",
    "plt.rc(\"figure\", dpi=300,\n",
    "       # figsize=(9, 3)\n",
    "       )\n",
    "plt.rc(\"font\",\n",
    "       family=\"serif\",\n",
    "       size=10\n",
    "       )\n",
    "plt.rc(\"legend\", edgecolor=\"none\", frameon=True)\n",
    "plt.rc(\"text\", usetex=False)\n",
    "# plt.rc(\"text\", usetex=True)"
   ]
  },
  {
   "cell_type": "markdown",
   "id": "48cf5394",
   "metadata": {},
   "source": [
    "### Setup training and testing data"
   ]
  },
  {
   "cell_type": "code",
   "execution_count": 12,
   "id": "ed290b78",
   "metadata": {},
   "outputs": [],
   "source": [
    "m = 71"
   ]
  },
  {
   "cell_type": "code",
   "execution_count": null,
   "id": "e14f3987",
   "metadata": {
    "lines_to_next_cell": 0
   },
   "outputs": [],
   "source": []
  },
  {
   "cell_type": "code",
   "execution_count": 13,
   "id": "816e12c3",
   "metadata": {},
   "outputs": [
    {
     "data": {
      "text/plain": [
       "array([0.        , 0.03333333, 0.06666667, 0.1       , 0.13333333,\n",
       "       0.16666667, 0.2       , 0.23333333, 0.26666667, 0.3       ,\n",
       "       0.33333333, 0.36666667, 0.4       , 0.43333333, 0.46666667,\n",
       "       0.5       , 0.53333333, 0.56666667, 0.6       , 0.63333333,\n",
       "       0.66666667, 0.7       , 0.73333333, 0.76666667, 0.8       ,\n",
       "       0.83333333, 0.86666667, 0.9       , 0.93333333, 0.96666667,\n",
       "       1.        , 1.03333333, 1.06666667, 1.1       , 1.13333333,\n",
       "       1.16666667, 1.2       , 1.23333333, 1.26666667, 1.3       ,\n",
       "       1.33333333, 1.36666667, 1.4       , 1.43333333, 1.46666667,\n",
       "       1.5       , 1.53333333, 1.56666667, 1.6       , 1.63333333,\n",
       "       1.66666667, 1.7       , 1.73333333, 1.76666667, 1.8       ,\n",
       "       1.83333333, 1.86666667, 1.9       , 1.93333333, 1.96666667,\n",
       "       2.        , 2.03333333, 2.06666667, 2.1       , 2.13333333,\n",
       "       2.16666667, 2.2       , 2.23333333, 2.26666667, 2.3       ,\n",
       "       2.33333333])"
      ]
     },
     "execution_count": 13,
     "metadata": {},
     "output_type": "execute_result"
    }
   ],
   "source": [
    "t_vec = (np.linspace(40, 180, m) - 40) / 60\n",
    "t_vec"
   ]
  },
  {
   "cell_type": "code",
   "execution_count": null,
   "id": "adaa866a",
   "metadata": {
    "lines_to_next_cell": 0
   },
   "outputs": [],
   "source": []
  },
  {
   "cell_type": "code",
   "execution_count": 14,
   "id": "7030b200",
   "metadata": {},
   "outputs": [],
   "source": [
    "dt = t_vec[1] - t_vec[0]"
   ]
  },
  {
   "cell_type": "code",
   "execution_count": 15,
   "id": "ebc02e6e",
   "metadata": {},
   "outputs": [],
   "source": [
    "nTrainTime = np.argwhere(t_vec == (120 - 40) / 60)[0, 0]"
   ]
  },
  {
   "cell_type": "code",
   "execution_count": 16,
   "id": "05a44508",
   "metadata": {},
   "outputs": [
    {
     "data": {
      "text/plain": [
       "40"
      ]
     },
     "execution_count": 16,
     "metadata": {},
     "output_type": "execute_result"
    }
   ],
   "source": [
    "nTrainTime"
   ]
  },
  {
   "cell_type": "code",
   "execution_count": 17,
   "id": "153130e0",
   "metadata": {},
   "outputs": [],
   "source": [
    "nTrainTimeAll = np.argwhere(np.linspace(2, 180, 90) == 40)[0,0]"
   ]
  },
  {
   "cell_type": "code",
   "execution_count": null,
   "id": "63b9e377",
   "metadata": {
    "lines_to_next_cell": 0
   },
   "outputs": [],
   "source": []
  },
  {
   "cell_type": "code",
   "execution_count": 18,
   "id": "2bd4219d",
   "metadata": {},
   "outputs": [
    {
     "data": {
      "text/plain": [
       "120.0"
      ]
     },
     "execution_count": 18,
     "metadata": {},
     "output_type": "execute_result"
    }
   ],
   "source": [
    "t_train = t_vec[:(nTrainTime + 1)]\n",
    "t_train[-1] * 60 + 40"
   ]
  },
  {
   "cell_type": "code",
   "execution_count": 19,
   "id": "5ed018dc",
   "metadata": {},
   "outputs": [
    {
     "data": {
      "text/plain": [
       "array([1.36666667, 1.4       , 1.43333333, 1.46666667, 1.5       ,\n",
       "       1.53333333, 1.56666667, 1.6       , 1.63333333, 1.66666667,\n",
       "       1.7       , 1.73333333, 1.76666667, 1.8       , 1.83333333,\n",
       "       1.86666667, 1.9       , 1.93333333, 1.96666667, 2.        ,\n",
       "       2.03333333, 2.06666667, 2.1       , 2.13333333, 2.16666667,\n",
       "       2.2       , 2.23333333, 2.26666667, 2.3       , 2.33333333])"
      ]
     },
     "execution_count": 19,
     "metadata": {},
     "output_type": "execute_result"
    }
   ],
   "source": [
    "t_test = t_vec[(nTrainTime + 1):]\n",
    "t_test"
   ]
  },
  {
   "cell_type": "code",
   "execution_count": 20,
   "id": "6e183cfe",
   "metadata": {},
   "outputs": [],
   "source": [
    "X_orig = np.load(\"./CR2161_tDecay2h_Polar_Compressed.npy\")"
   ]
  },
  {
   "cell_type": "code",
   "execution_count": 21,
   "id": "37c2ea30",
   "metadata": {},
   "outputs": [],
   "source": [
    "X = X_orig.reshape((64 * 256, 90, 278))[:, (nTrainTimeAll):, :]"
   ]
  },
  {
   "cell_type": "code",
   "execution_count": 22,
   "id": "aef8e163",
   "metadata": {},
   "outputs": [
    {
     "data": {
      "text/plain": [
       "array([ 31,  32,  33,  34,  35,  36,  37,  38,  39,  40,  41,  42,  43,\n",
       "        44,  45,  46,  47,  48,  49,  50,  51,  52,  53,  54,  56,  57,\n",
       "        58,  59,  60,  61,  62,  63,  64,  65,  66,  67,  68,  69,  70,\n",
       "        71,  72,  73,  74,  75,  76,  77,  78,  79,  80,  81,  82,  83,\n",
       "        84,  85,  86,  87,  88,  89,  90,  91,  92,  93,  94,  95,  96,\n",
       "        97,  98,  99, 100, 101, 102, 103, 104, 105, 106, 107, 108, 110,\n",
       "       111, 112, 113, 114, 115, 118, 119, 120, 121, 122, 123, 124, 126,\n",
       "       127, 128, 129, 130, 131, 132, 133, 134, 135, 136, 138, 139, 140,\n",
       "       141, 142, 143, 144, 145, 146, 147, 148, 149, 150, 151, 152, 153,\n",
       "       154, 155, 156, 157, 158, 159, 160, 161, 162, 163, 164, 166, 168,\n",
       "       169, 171, 172, 173, 174, 175, 176, 177, 178, 179, 180, 181, 183,\n",
       "       184, 185, 186, 188, 190, 191, 192, 193, 194, 196, 197, 198, 199,\n",
       "       200, 201, 202, 203, 204, 205, 206, 208, 209, 210, 211, 212, 213,\n",
       "       214, 215, 216, 217, 218, 219, 220, 221, 222, 223, 224, 225, 226,\n",
       "       227, 228, 229, 230, 231, 232, 233, 234, 235, 236, 237, 238, 239,\n",
       "       240, 241, 242, 243, 244, 246, 247, 248, 249, 251, 252, 253, 254,\n",
       "       255, 256, 257, 258, 259, 260, 261, 262, 263, 264, 265, 266, 267,\n",
       "       268, 269, 271, 272, 273, 274, 275, 276, 277, 278, 279, 280, 281,\n",
       "       282, 283, 284, 286, 287, 288, 289, 290, 291, 292, 293, 294, 295,\n",
       "       296, 297, 298, 299, 300, 301, 302, 303, 304, 305, 306, 307, 311,\n",
       "       312, 313, 314, 315, 316, 317, 318, 319, 320, 321, 322, 323, 324,\n",
       "       325, 326, 327, 328, 329])"
      ]
     },
     "execution_count": 22,
     "metadata": {},
     "output_type": "execute_result"
    }
   ],
   "source": [
    "import netCDF4 as nc\n",
    "ds = nc.Dataset(\"./20150315_CR2161_code_stable_tDecay2h.nc\")\n",
    "successfulRuns = ds['runs'].successfulRuns + 30\n",
    "successfulRuns"
   ]
  },
  {
   "cell_type": "code",
   "execution_count": 23,
   "id": "2e6ee0e5",
   "metadata": {},
   "outputs": [
    {
     "data": {
      "text/plain": [
       "(array([  0,   1,   2,   3,   5,   6,   7,   8,  10,  11,  12,  13,  14,\n",
       "         15,  16,  17,  18,  19,  20,  21,  22,  23,  26,  27,  28,  30,\n",
       "         31,  32,  34,  35,  36,  37,  38,  39,  41,  42,  44,  45,  48,\n",
       "         49,  50,  51,  52,  54,  55,  56,  57,  58,  59,  61,  63,  64,\n",
       "         65,  66,  67,  68,  69,  70,  71,  72,  73,  74,  75,  77,  78,\n",
       "         79,  82,  84,  85,  86,  87,  88,  90,  91,  92,  93,  94,  95,\n",
       "         96,  98, 100, 102, 103, 104, 105, 106, 107, 108, 110, 113, 114,\n",
       "        115, 116, 118, 120, 123, 124, 125, 126, 127, 128, 129, 130, 131,\n",
       "        132, 133, 134, 135, 136, 138, 139, 140, 142, 143, 146, 147, 148,\n",
       "        149, 151, 152, 153, 155, 156, 157, 158, 159, 160, 161, 162, 163,\n",
       "        165, 166, 167, 169, 170, 171, 172, 174, 175, 176, 177, 178, 179,\n",
       "        180, 181, 182, 183, 184, 185, 186, 187, 188, 189, 194, 196, 197,\n",
       "        198, 199, 200, 201, 202, 205, 206, 207, 208, 209, 210, 211, 212,\n",
       "        213, 214, 216, 217, 219, 220, 221, 222, 223, 224, 226, 227, 228,\n",
       "        230, 231, 232, 233, 234, 235, 237, 238, 239, 240, 241, 242, 243,\n",
       "        246, 248, 249, 250, 251, 252, 253, 254, 255, 256, 257, 258, 259,\n",
       "        260, 261, 262, 263, 265, 266, 267, 269, 272, 273, 274, 275, 276,\n",
       "        277]),\n",
       " array([  4,   9,  24,  25,  29,  33,  40,  43,  46,  47,  53,  60,  62,\n",
       "         76,  80,  81,  83,  89,  97,  99, 101, 109, 111, 112, 117, 119,\n",
       "        121, 122, 137, 141, 144, 145, 150, 154, 164, 168, 173, 190, 191,\n",
       "        192, 193, 195, 203, 204, 215, 218, 225, 229, 236, 244, 245, 247,\n",
       "        264, 268, 270, 271]))"
      ]
     },
     "execution_count": 23,
     "metadata": {},
     "output_type": "execute_result"
    }
   ],
   "source": [
    "train_test_sims = np.load(\"./CR2161_AWSoM2T_CME_tDecay2h_Polar_Clusters.npz\")\n",
    "train_sim = train_test_sims[\"training_id\"]\n",
    "test_sim = train_test_sims[\"test_id\"]\n",
    "train_sim, test_sim"
   ]
  },
  {
   "cell_type": "code",
   "execution_count": 24,
   "id": "959ff49c",
   "metadata": {},
   "outputs": [],
   "source": [
    "tt_sim = np.sort(np.hstack((train_sim, test_sim)))"
   ]
  },
  {
   "cell_type": "code",
   "execution_count": 25,
   "id": "525fe313",
   "metadata": {},
   "outputs": [
    {
     "data": {
      "text/plain": [
       "(16384, 41, 222)"
      ]
     },
     "execution_count": 25,
     "metadata": {},
     "output_type": "execute_result"
    }
   ],
   "source": [
    "X_train_ttrain = X[:, :(nTrainTime + 1), train_sim]\n",
    "X_train_ttrain.shape"
   ]
  },
  {
   "cell_type": "code",
   "execution_count": 26,
   "id": "537044b6",
   "metadata": {},
   "outputs": [],
   "source": [
    "X_test = X[:, :, test_sim]"
   ]
  },
  {
   "cell_type": "code",
   "execution_count": 27,
   "id": "214b4332",
   "metadata": {},
   "outputs": [],
   "source": [
    "X_train_test_ttrain = X[:, :(nTrainTime + 1), :]"
   ]
  },
  {
   "cell_type": "code",
   "execution_count": 28,
   "id": "e3efbffe",
   "metadata": {},
   "outputs": [
    {
     "data": {
      "text/plain": [
       "(16384, 41, 222)"
      ]
     },
     "execution_count": 28,
     "metadata": {},
     "output_type": "execute_result"
    }
   ],
   "source": [
    "X_train_ttrain.shape"
   ]
  },
  {
   "cell_type": "code",
   "execution_count": 29,
   "id": "79785f06",
   "metadata": {},
   "outputs": [
    {
     "data": {
      "text/plain": [
       "32"
      ]
     },
     "execution_count": 29,
     "metadata": {},
     "output_type": "execute_result"
    }
   ],
   "source": [
    "rom_1 = op.ContinuousOpInfROM(modelform=\"AH\")\n",
    "basis_1 = op.pre.PODBasis().fit(X_train_ttrain[:, :, 0], residual_energy=1e-8)\n",
    "basis_1.r"
   ]
  },
  {
   "cell_type": "code",
   "execution_count": 30,
   "id": "20ca8d5e",
   "metadata": {},
   "outputs": [],
   "source": [
    "reduced_states = basis_1.encode(X_train_ttrain[:, :, 0])"
   ]
  },
  {
   "cell_type": "code",
   "execution_count": 31,
   "id": "bf9fc892",
   "metadata": {},
   "outputs": [
    {
     "data": {
      "text/plain": [
       "(32, 41)"
      ]
     },
     "execution_count": 31,
     "metadata": {},
     "output_type": "execute_result"
    }
   ],
   "source": [
    "reduced_states.shape"
   ]
  },
  {
   "cell_type": "code",
   "execution_count": 32,
   "id": "312dc747",
   "metadata": {},
   "outputs": [
    {
     "data": {
      "text/plain": [
       "array([ 5.18753867,  5.4877632 ,  5.74297088,  5.93984572,  6.07472786,\n",
       "        6.14135307,  6.13742178,  6.06361853,  5.92100359,  5.70977877,\n",
       "        5.42965491,  5.08355595,  4.67775802,  4.21922311,  3.71461306,\n",
       "        3.16796246,  2.58665005,  1.98280391,  1.36212992,  0.73077039,\n",
       "        0.09351159, -0.54198027, -1.16760093, -1.77649704, -2.36307699,\n",
       "       -2.92112476, -3.44261899, -3.92287053, -4.35932236, -4.74802847,\n",
       "       -5.08321308, -5.36596717, -5.59438547, -5.76788039, -5.88884099,\n",
       "       -5.95946237, -5.98421062, -5.96423347, -5.90416973, -5.80922226,\n",
       "       -5.68420387])"
      ]
     },
     "execution_count": 32,
     "metadata": {},
     "output_type": "execute_result"
    }
   ],
   "source": [
    "reduced_states[1, :]"
   ]
  },
  {
   "cell_type": "markdown",
   "id": "d0c5f256",
   "metadata": {},
   "source": [
    "### Construction of NODE Architecture"
   ]
  },
  {
   "cell_type": "code",
   "execution_count": 33,
   "id": "bba726d9",
   "metadata": {},
   "outputs": [
    {
     "data": {
      "text/plain": [
       "device(type='cuda', index=0)"
      ]
     },
     "execution_count": 33,
     "metadata": {},
     "output_type": "execute_result"
    }
   ],
   "source": [
    "device"
   ]
  },
  {
   "cell_type": "code",
   "execution_count": 34,
   "id": "4f970687",
   "metadata": {},
   "outputs": [
    {
     "data": {
      "text/plain": [
       "array([0.        , 0.03333333, 0.06666667, 0.1       , 0.13333333,\n",
       "       0.16666667, 0.2       , 0.23333333, 0.26666667, 0.3       ,\n",
       "       0.33333333, 0.36666667, 0.4       , 0.43333333, 0.46666667,\n",
       "       0.5       , 0.53333333, 0.56666667, 0.6       , 0.63333333,\n",
       "       0.66666667, 0.7       , 0.73333333, 0.76666667, 0.8       ,\n",
       "       0.83333333, 0.86666667, 0.9       , 0.93333333, 0.96666667,\n",
       "       1.        , 1.03333333, 1.06666667, 1.1       , 1.13333333,\n",
       "       1.16666667, 1.2       , 1.23333333, 1.26666667, 1.3       ,\n",
       "       1.33333333])"
      ]
     },
     "execution_count": 34,
     "metadata": {},
     "output_type": "execute_result"
    }
   ],
   "source": [
    "t_train"
   ]
  },
  {
   "cell_type": "code",
   "execution_count": 35,
   "id": "57916421",
   "metadata": {},
   "outputs": [
    {
     "name": "stdout",
     "output_type": "stream",
     "text": [
      "Data size =  41  Batch time =  5  Batch size =  10\n"
     ]
    }
   ],
   "source": [
    "data_size = t_train.shape[0]\n",
    "batch_time = 5\n",
    "batch_size = 10\n",
    "print(\"Data size = \", data_size, \" Batch time = \", batch_time, \" Batch size = \", batch_size)"
   ]
  },
  {
   "cell_type": "code",
   "execution_count": 36,
   "id": "a197d26e",
   "metadata": {},
   "outputs": [],
   "source": [
    "t = torch.tensor(np.float32(t_train)).to(device)"
   ]
  },
  {
   "cell_type": "code",
   "execution_count": 37,
   "id": "d1dee920",
   "metadata": {},
   "outputs": [
    {
     "data": {
      "text/plain": [
       "torch.float32"
      ]
     },
     "execution_count": 37,
     "metadata": {},
     "output_type": "execute_result"
    }
   ],
   "source": [
    "t.dtype"
   ]
  },
  {
   "cell_type": "code",
   "execution_count": 38,
   "id": "bc62ce66",
   "metadata": {},
   "outputs": [
    {
     "data": {
      "text/plain": [
       "torch.Size([1, 32])"
      ]
     },
     "execution_count": 38,
     "metadata": {},
     "output_type": "execute_result"
    }
   ],
   "source": [
    "true_y0 = torch.from_numpy(np.float32(reduced_states[:, 0]))\n",
    "true_y0 = true_y0.reshape((1, len(true_y0))).to(device)\n",
    "true_y0.shape"
   ]
  },
  {
   "cell_type": "code",
   "execution_count": 39,
   "id": "663b5bf4",
   "metadata": {},
   "outputs": [
    {
     "data": {
      "text/plain": [
       "torch.float32"
      ]
     },
     "execution_count": 39,
     "metadata": {},
     "output_type": "execute_result"
    }
   ],
   "source": [
    "true_y0.dtype"
   ]
  },
  {
   "cell_type": "code",
   "execution_count": 40,
   "id": "64dc6b8d",
   "metadata": {},
   "outputs": [
    {
     "data": {
      "text/plain": [
       "(32, 41)"
      ]
     },
     "execution_count": 40,
     "metadata": {},
     "output_type": "execute_result"
    }
   ],
   "source": [
    "reduced_states.shape"
   ]
  },
  {
   "cell_type": "code",
   "execution_count": 41,
   "id": "f71d1e3b",
   "metadata": {},
   "outputs": [
    {
     "data": {
      "text/plain": [
       "torch.Size([41, 1, 32])"
      ]
     },
     "execution_count": 41,
     "metadata": {},
     "output_type": "execute_result"
    }
   ],
   "source": [
    "yreduced = np.float32(reduced_states.T)\n",
    "true_y = torch.from_numpy(np.expand_dims(yreduced, axis=1)).to(device)\n",
    "true_y.shape"
   ]
  },
  {
   "cell_type": "code",
   "execution_count": 42,
   "id": "954624f1",
   "metadata": {},
   "outputs": [
    {
     "data": {
      "text/plain": [
       "torch.float32"
      ]
     },
     "execution_count": 42,
     "metadata": {},
     "output_type": "execute_result"
    }
   ],
   "source": [
    "true_y.dtype"
   ]
  },
  {
   "cell_type": "markdown",
   "id": "999f4138",
   "metadata": {},
   "source": [
    "Need functions for getting batch, getting true x, getting ODE func - where we run the \"loss\" metric compared to the true simulation."
   ]
  },
  {
   "cell_type": "markdown",
   "id": "9c1ef3a6",
   "metadata": {},
   "source": [
    "The batch is taking IC as values at different times in the training set, and the solution as the values following the IC upto some predefined batch size for time."
   ]
  },
  {
   "cell_type": "code",
   "execution_count": 43,
   "id": "c43415f5",
   "metadata": {},
   "outputs": [],
   "source": [
    "def get_batch():\n",
    "    s = torch.from_numpy(np.random.choice(np.arange(data_size - batch_time, dtype=np.int64),\n",
    "                                          batch_size, replace=False))\n",
    "    batch_y0 = true_y[s]\n",
    "    batch_t = t[:batch_time]  # (T)\n",
    "    batch_y = torch.stack([true_y[s + i] for i in range(batch_time)], dim=0)  # (T, M, D)\n",
    "    return batch_y0.to(device), batch_t.to(device), batch_y.to(device)"
   ]
  },
  {
   "cell_type": "code",
   "execution_count": 44,
   "id": "8089891f",
   "metadata": {},
   "outputs": [],
   "source": [
    "by0, bt, by = get_batch()"
   ]
  },
  {
   "cell_type": "code",
   "execution_count": 45,
   "id": "a2570a6f",
   "metadata": {},
   "outputs": [
    {
     "data": {
      "text/plain": [
       "5"
      ]
     },
     "execution_count": 45,
     "metadata": {},
     "output_type": "execute_result"
    }
   ],
   "source": [
    "batch_time"
   ]
  },
  {
   "cell_type": "code",
   "execution_count": 46,
   "id": "f3f53a12",
   "metadata": {},
   "outputs": [
    {
     "data": {
      "text/plain": [
       "(torch.Size([10, 1, 32]), torch.Size([5]), torch.Size([5, 10, 1, 32]))"
      ]
     },
     "execution_count": 46,
     "metadata": {},
     "output_type": "execute_result"
    }
   ],
   "source": [
    "by0.shape, bt.shape, by.shape"
   ]
  },
  {
   "cell_type": "code",
   "execution_count": 47,
   "id": "108c0e3a",
   "metadata": {},
   "outputs": [],
   "source": [
    "class RunningAverageMeter(object):\n",
    "    \"\"\"Computes and stores the average and current value\"\"\"\n",
    "\n",
    "    def __init__(self, momentum=0.99):\n",
    "        self.momentum = momentum\n",
    "        self.reset()\n",
    "\n",
    "    def reset(self):\n",
    "        self.val = None\n",
    "        self.avg = 0\n",
    "\n",
    "    def update(self, val):\n",
    "        if self.val is None:\n",
    "            self.avg = val\n",
    "        else:\n",
    "            self.avg = self.avg * self.momentum + val * (1 - self.momentum)\n",
    "        self.val = val"
   ]
  },
  {
   "cell_type": "code",
   "execution_count": 48,
   "id": "4fe8aec6",
   "metadata": {},
   "outputs": [],
   "source": [
    "class ODEFunc(nn.Module):\n",
    "\n",
    "    def __init__(self):\n",
    "        super(ODEFunc, self).__init__()\n",
    "\n",
    "        self.net1 = nn.Sequential(\n",
    "            nn.Linear(32, 50),\n",
    "            nn.Tanh(),\n",
    "            nn.Linear(50, 32),\n",
    "        )\n",
    "        \n",
    "        self.net2 = nn.Sequential(\n",
    "            nn.Linear(528, 32),\n",
    "            nn.Tanh(),\n",
    "        )\n",
    "\n",
    "        for m in self.net1.modules():\n",
    "            if isinstance(m, nn.Linear):\n",
    "                nn.init.normal_(m.weight, mean=0, std=0.1)\n",
    "                nn.init.constant_(m.bias, val=0)\n",
    "                \n",
    "        for m in self.net2.modules():\n",
    "            if isinstance(m, nn.Linear):\n",
    "                nn.init.normal_(m.weight, mean=0, std=0.1)\n",
    "                nn.init.constant_(m.bias, val=0)\n",
    "\n",
    "    \n",
    "    def quadratic_y(self, y):\n",
    "        y_np = torch.squeeze(y, axis=1)\n",
    "        y_np_quad = torch.zeros((y_np.shape[0], 1, int(y_np.shape[1] * (y_np.shape[1] + 1)/2)))\n",
    "        \n",
    "#         y_np = np.squeeze(y.cpu().detach().numpy(), axis=1)\n",
    "#         y_np_quad = np.zeros((y_np.shape[0], int(y_np.shape[1] * (y_np.shape[1] + 1)/2)))\n",
    "        for i in range(y_np.shape[0]):\n",
    "#             y_np_quad[i, :] = np.outer(y_np[i, :], y_np[i, :])[np.tril_indices(y_np.shape[1])]\n",
    "            y_np_quad[i, 0, :] = torch.outer(y_np[i, :], y_np[i, :])[np.tril_indices(y_np.shape[1])]\n",
    "            \n",
    "#         y_t_quad = torch.from_numpy(np.expand_dims(np.float32(y_np_quad), axis=1)).to(device)\n",
    "\n",
    "#         return y_t_quad\n",
    "        return y_np_quad.to(device)\n",
    "            \n",
    "    def forward(self, t, y):\n",
    "            return self.net1(y) + self.net2(self.quadratic_y(y))"
   ]
  },
  {
   "cell_type": "code",
   "execution_count": 55,
   "id": "af45dd82",
   "metadata": {},
   "outputs": [],
   "source": [
    "ii = 0\n",
    "func = ODEFunc().to(device)\n",
    "# optimizer = optim.RMSprop(func.parameters(), lr=1e-3)\n",
    "optimizer = optim.Adam(func.parameters(), lr=1e-3)\n",
    "end = time.time()"
   ]
  },
  {
   "cell_type": "code",
   "execution_count": 56,
   "id": "2bc1c04d",
   "metadata": {},
   "outputs": [],
   "source": [
    "niters = 4000\n",
    "test_freq = 5"
   ]
  },
  {
   "cell_type": "code",
   "execution_count": 57,
   "id": "784f21ce",
   "metadata": {},
   "outputs": [
    {
     "data": {
      "text/plain": [
       "ODEFunc(\n",
       "  (net1): Sequential(\n",
       "    (0): Linear(in_features=32, out_features=50, bias=True)\n",
       "    (1): Tanh()\n",
       "    (2): Linear(in_features=50, out_features=32, bias=True)\n",
       "  )\n",
       "  (net2): Sequential(\n",
       "    (0): Linear(in_features=528, out_features=32, bias=True)\n",
       "    (1): Tanh()\n",
       "  )\n",
       ")"
      ]
     },
     "execution_count": 57,
     "metadata": {},
     "output_type": "execute_result"
    }
   ],
   "source": [
    "func"
   ]
  },
  {
   "cell_type": "code",
   "execution_count": 58,
   "id": "950d0b5b",
   "metadata": {},
   "outputs": [
    {
     "data": {
      "text/plain": [
       "tensor([[[-0.9486, -0.9770,  0.8107, -1.4536,  0.3347, -1.4788, -1.4151,\n",
       "          -1.1777,  1.3249, -1.3134, -1.7252,  0.4984, -0.9349, -1.3901,\n",
       "          -0.7976,  0.9198, -0.9457, -1.9621,  1.3927,  1.0159,  1.0512,\n",
       "           0.7919, -1.7283,  0.9869,  0.2291,  0.8672, -0.5542,  2.3375,\n",
       "           0.4862,  0.8731, -1.8511,  1.0559]],\n",
       "\n",
       "        [[-0.9564, -0.9870,  1.0130, -1.4195,  0.3856, -1.5812, -1.2758,\n",
       "          -1.0547,  1.2974, -1.3962, -1.5318,  0.4250, -0.8742, -1.2951,\n",
       "          -0.6596,  0.8638, -1.0100, -1.9507,  1.3994,  0.7276,  0.9501,\n",
       "           0.7913, -1.8294,  0.9275,  0.3481,  0.6983, -0.6768,  2.3047,\n",
       "           0.4808,  0.8467, -1.8076,  0.9912]],\n",
       "\n",
       "        [[-0.9646, -0.9726,  1.0374, -1.4129,  0.3825, -1.5728, -1.2425,\n",
       "          -1.0596,  1.2714, -1.4058, -1.5003,  0.4315, -0.8628, -1.2608,\n",
       "          -0.6691,  0.8447, -1.0133, -1.9613,  1.4017,  0.6897,  0.9325,\n",
       "           0.7970, -1.8521,  0.9309,  0.3644,  0.6780, -0.6930,  2.3158,\n",
       "           0.4747,  0.8441, -1.7946,  0.9595]],\n",
       "\n",
       "        [[-0.9583, -0.9796,  0.8059, -1.4522,  0.3344, -1.4833, -1.4222,\n",
       "          -1.1802,  1.3259, -1.3217, -1.7303,  0.4992, -0.9464, -1.3995,\n",
       "          -0.7903,  0.9234, -0.9537, -1.9536,  1.3892,  1.0279,  1.0477,\n",
       "           0.7978, -1.7193,  0.9861,  0.2235,  0.8692, -0.5586,  2.3310,\n",
       "           0.4860,  0.8708, -1.8513,  1.0626]],\n",
       "\n",
       "        [[-0.9412, -0.9755,  0.8295, -1.4584,  0.3344, -1.4797, -1.4018,\n",
       "          -1.1662,  1.3204, -1.3048, -1.7103,  0.4924, -0.9163, -1.3803,\n",
       "          -0.7947,  0.9183, -0.9425, -1.9658,  1.3996,  0.9913,  1.0538,\n",
       "           0.7809, -1.7410,  0.9807,  0.2423,  0.8571, -0.5586,  2.3424,\n",
       "           0.4862,  0.8810, -1.8475,  1.0471]],\n",
       "\n",
       "        [[-0.9924, -1.0224,  0.8920, -1.4675,  0.3334, -1.5530, -1.4048,\n",
       "          -1.1289,  1.3242, -1.3666, -1.6862,  0.4760, -0.9543, -1.4195,\n",
       "          -0.6884,  0.9350, -1.0088, -1.9246,  1.3914,  0.9651,  1.0321,\n",
       "           0.7968, -1.7129,  0.9473,  0.2695,  0.8156, -0.6293,  2.2769,\n",
       "           0.5153,  0.8793, -1.8054,  1.0976]],\n",
       "\n",
       "        [[-0.9928, -1.0088,  0.8511, -1.4635,  0.3274, -1.5274, -1.4249,\n",
       "          -1.1554,  1.3244, -1.3543, -1.7153,  0.4908, -0.9656, -1.4271,\n",
       "          -0.7230,  0.9397, -0.9959, -1.9236,  1.3881,  1.0162,  1.0387,\n",
       "           0.8032, -1.7006,  0.9608,  0.2411,  0.8469, -0.6055,  2.2917,\n",
       "           0.5058,  0.8789, -1.8201,  1.0950]],\n",
       "\n",
       "        [[-0.9450, -0.9403,  0.9171, -1.4748,  0.3379, -1.4796, -1.3395,\n",
       "          -1.1021,  1.2785, -1.2612, -1.6264,  0.4487, -0.8241, -1.3553,\n",
       "          -0.7682,  0.9275, -0.9524, -1.9240,  1.4379,  0.8990,  1.0493,\n",
       "           0.7255, -1.7937,  0.9302,  0.2830,  0.8113, -0.5984,  2.3827,\n",
       "           0.4446,  0.9330, -1.8585,  0.9780]],\n",
       "\n",
       "        [[-0.9708, -0.9871,  0.8142, -1.4558,  0.3318, -1.4945, -1.4252,\n",
       "          -1.1758,  1.3241, -1.3313, -1.7290,  0.4974, -0.9541, -1.4100,\n",
       "          -0.7720,  0.9291, -0.9667, -1.9427,  1.3882,  1.0306,  1.0459,\n",
       "           0.7997, -1.7113,  0.9797,  0.2261,  0.8645, -0.5716,  2.3199,\n",
       "           0.4899,  0.8734, -1.8445,  1.0720]],\n",
       "\n",
       "        [[-0.9353, -0.9713,  0.8604, -1.4646,  0.3354, -1.4846, -1.3818,\n",
       "          -1.1452,  1.3131, -1.2949, -1.6845,  0.4794, -0.8889, -1.3695,\n",
       "          -0.7844,  0.9185, -0.9428, -1.9632,  1.4095,  0.9536,  1.0531,\n",
       "           0.7645, -1.7591,  0.9674,  0.2609,  0.8393, -0.5700,  2.3488,\n",
       "           0.4815,  0.8932, -1.8449,  1.0327]]], device='cuda:0',\n",
       "       grad_fn=<AddBackward0>)"
      ]
     },
     "execution_count": 58,
     "metadata": {},
     "output_type": "execute_result"
    }
   ],
   "source": [
    "func(t, by0)"
   ]
  },
  {
   "cell_type": "code",
   "execution_count": 60,
   "id": "8272a3f5",
   "metadata": {
    "scrolled": true
   },
   "outputs": [
    {
     "name": "stdout",
     "output_type": "stream",
     "text": [
      "Iter 0005 | Total Loss 1.105037\n",
      "Iter 0010 | Total Loss 0.994817\n",
      "Iter 0015 | Total Loss 0.902270\n",
      "Iter 0020 | Total Loss 0.828587\n",
      "Iter 0025 | Total Loss 0.768077\n",
      "Iter 0030 | Total Loss 0.715300\n",
      "Iter 0035 | Total Loss 0.670959\n",
      "Iter 0040 | Total Loss 0.613524\n",
      "Iter 0045 | Total Loss 0.594399\n",
      "Iter 0050 | Total Loss 0.579634\n",
      "Iter 0055 | Total Loss 0.564070\n",
      "Iter 0060 | Total Loss 0.552658\n",
      "Iter 0065 | Total Loss 0.545414\n",
      "Iter 0070 | Total Loss 0.539397\n",
      "Iter 0075 | Total Loss 0.530611\n",
      "Iter 0080 | Total Loss 0.523284\n",
      "Iter 0085 | Total Loss 0.515635\n",
      "Iter 0090 | Total Loss 0.502393\n",
      "Iter 0095 | Total Loss 0.496562\n",
      "Iter 0100 | Total Loss 0.485850\n",
      "Iter 0105 | Total Loss 0.481865\n",
      "Iter 0110 | Total Loss 0.471378\n",
      "Iter 0115 | Total Loss 0.454479\n",
      "Iter 0120 | Total Loss 0.449235\n",
      "Iter 0125 | Total Loss 0.446015\n",
      "Iter 0130 | Total Loss 0.449729\n",
      "Iter 0135 | Total Loss 0.444307\n",
      "Iter 0140 | Total Loss 0.438297\n",
      "Iter 0145 | Total Loss 0.429040\n",
      "Iter 0150 | Total Loss 0.419837\n",
      "Iter 0155 | Total Loss 0.414900\n",
      "Iter 0160 | Total Loss 0.408363\n",
      "Iter 0165 | Total Loss 0.407906\n",
      "Iter 0170 | Total Loss 0.402009\n",
      "Iter 0175 | Total Loss 0.397199\n",
      "Iter 0180 | Total Loss 0.395571\n",
      "Iter 0185 | Total Loss 0.395052\n",
      "Iter 0190 | Total Loss 0.393961\n",
      "Iter 0195 | Total Loss 0.390149\n",
      "Iter 0200 | Total Loss 0.390691\n",
      "Iter 0205 | Total Loss 0.389326\n",
      "Iter 0210 | Total Loss 0.386300\n",
      "Iter 0215 | Total Loss 0.386451\n",
      "Iter 0220 | Total Loss 0.388881\n",
      "Iter 0225 | Total Loss 0.384932\n",
      "Iter 0230 | Total Loss 0.383413\n",
      "Iter 0235 | Total Loss 0.378932\n",
      "Iter 0240 | Total Loss 0.376385\n",
      "Iter 0245 | Total Loss 0.373706\n",
      "Iter 0250 | Total Loss 0.369597\n",
      "Iter 0255 | Total Loss 0.369280\n",
      "Iter 0260 | Total Loss 0.364777\n",
      "Iter 0265 | Total Loss 0.370806\n",
      "Iter 0270 | Total Loss 0.368162\n",
      "Iter 0275 | Total Loss 0.368569\n",
      "Iter 0280 | Total Loss 0.372614\n",
      "Iter 0285 | Total Loss 0.370170\n",
      "Iter 0290 | Total Loss 0.372262\n",
      "Iter 0295 | Total Loss 0.374191\n",
      "Iter 0300 | Total Loss 0.374280\n",
      "Iter 0305 | Total Loss 0.373523\n",
      "Iter 0310 | Total Loss 0.370999\n",
      "Iter 0315 | Total Loss 0.371061\n",
      "Iter 0320 | Total Loss 0.369343\n",
      "Iter 0325 | Total Loss 0.373446\n",
      "Iter 0330 | Total Loss 0.369121\n",
      "Iter 0335 | Total Loss 0.368137\n",
      "Iter 0340 | Total Loss 0.368725\n",
      "Iter 0345 | Total Loss 0.369917\n",
      "Iter 0350 | Total Loss 0.370590\n",
      "Iter 0355 | Total Loss 0.372168\n",
      "Iter 0360 | Total Loss 0.372326\n",
      "Iter 0365 | Total Loss 0.376325\n",
      "Iter 0370 | Total Loss 0.369866\n",
      "Iter 0375 | Total Loss 0.369216\n",
      "Iter 0380 | Total Loss 0.370029\n",
      "Iter 0385 | Total Loss 0.366836\n",
      "Iter 0390 | Total Loss 0.366866\n",
      "Iter 0395 | Total Loss 0.372558\n",
      "Iter 0400 | Total Loss 0.373299\n",
      "Iter 0405 | Total Loss 0.376508\n",
      "Iter 0410 | Total Loss 0.376576\n",
      "Iter 0415 | Total Loss 0.388569\n",
      "Iter 0420 | Total Loss 0.381281\n",
      "Iter 0425 | Total Loss 0.379257\n",
      "Iter 0430 | Total Loss 0.380614\n",
      "Iter 0435 | Total Loss 0.381658\n",
      "Iter 0440 | Total Loss 0.386673\n",
      "Iter 0445 | Total Loss 0.379854\n",
      "Iter 0450 | Total Loss 0.379706\n",
      "Iter 0455 | Total Loss 0.386232\n",
      "Iter 0460 | Total Loss 0.391152\n",
      "Iter 0465 | Total Loss 0.388561\n",
      "Iter 0470 | Total Loss 0.390058\n",
      "Iter 0475 | Total Loss 0.394052\n",
      "Iter 0480 | Total Loss 0.387550\n",
      "Iter 0485 | Total Loss 0.382872\n",
      "Iter 0490 | Total Loss 0.375875\n",
      "Iter 0495 | Total Loss 0.371998\n",
      "Iter 0500 | Total Loss 0.376751\n",
      "Iter 0505 | Total Loss 0.381686\n",
      "Iter 0510 | Total Loss 0.379312\n",
      "Iter 0515 | Total Loss 0.379751\n",
      "Iter 0520 | Total Loss 0.377236\n",
      "Iter 0525 | Total Loss 0.380151\n",
      "Iter 0530 | Total Loss 0.386175\n",
      "Iter 0535 | Total Loss 0.384061\n",
      "Iter 0540 | Total Loss 0.375850\n",
      "Iter 0545 | Total Loss 0.368972\n",
      "Iter 0550 | Total Loss 0.374121\n",
      "Iter 0555 | Total Loss 0.371992\n",
      "Iter 0560 | Total Loss 0.368454\n",
      "Iter 0565 | Total Loss 0.370201\n",
      "Iter 0570 | Total Loss 0.367328\n",
      "Iter 0575 | Total Loss 0.363839\n",
      "Iter 0580 | Total Loss 0.364257\n",
      "Iter 0585 | Total Loss 0.359260\n",
      "Iter 0590 | Total Loss 0.361297\n",
      "Iter 0595 | Total Loss 0.358958\n",
      "Iter 0600 | Total Loss 0.356603\n",
      "Iter 0605 | Total Loss 0.355173\n",
      "Iter 0610 | Total Loss 0.358423\n",
      "Iter 0615 | Total Loss 0.362997\n",
      "Iter 0620 | Total Loss 0.361521\n",
      "Iter 0625 | Total Loss 0.360455\n",
      "Iter 0630 | Total Loss 0.359250\n",
      "Iter 0635 | Total Loss 0.355159\n",
      "Iter 0640 | Total Loss 0.355301\n",
      "Iter 0645 | Total Loss 0.352761\n",
      "Iter 0650 | Total Loss 0.344161\n",
      "Iter 0655 | Total Loss 0.343598\n",
      "Iter 0660 | Total Loss 0.346472\n",
      "Iter 0665 | Total Loss 0.344744\n",
      "Iter 0670 | Total Loss 0.338101\n",
      "Iter 0675 | Total Loss 0.337289\n",
      "Iter 0680 | Total Loss 0.332842\n",
      "Iter 0685 | Total Loss 0.331567\n",
      "Iter 0690 | Total Loss 0.332958\n",
      "Iter 0695 | Total Loss 0.328797\n",
      "Iter 0700 | Total Loss 0.324272\n",
      "Iter 0705 | Total Loss 0.321283\n",
      "Iter 0710 | Total Loss 0.316687\n",
      "Iter 0715 | Total Loss 0.316095\n",
      "Iter 0720 | Total Loss 0.320416\n",
      "Iter 0725 | Total Loss 0.321227\n",
      "Iter 0730 | Total Loss 0.321684\n",
      "Iter 0735 | Total Loss 0.319783\n",
      "Iter 0740 | Total Loss 0.318455\n",
      "Iter 0745 | Total Loss 0.316617\n",
      "Iter 0750 | Total Loss 0.323684\n",
      "Iter 0755 | Total Loss 0.323281\n",
      "Iter 0760 | Total Loss 0.320976\n",
      "Iter 0765 | Total Loss 0.324106\n",
      "Iter 0770 | Total Loss 0.328829\n",
      "Iter 0775 | Total Loss 0.333376\n",
      "Iter 0780 | Total Loss 0.335929\n",
      "Iter 0785 | Total Loss 0.327954\n",
      "Iter 0790 | Total Loss 0.325336\n",
      "Iter 0795 | Total Loss 0.324415\n",
      "Iter 0800 | Total Loss 0.323648\n",
      "Iter 0805 | Total Loss 0.327819\n",
      "Iter 0810 | Total Loss 0.322410\n",
      "Iter 0815 | Total Loss 0.321244\n",
      "Iter 0820 | Total Loss 0.320473\n",
      "Iter 0825 | Total Loss 0.314997\n",
      "Iter 0830 | Total Loss 0.317842\n",
      "Iter 0835 | Total Loss 0.325925\n",
      "Iter 0840 | Total Loss 0.325927\n",
      "Iter 0845 | Total Loss 0.324399\n",
      "Iter 0850 | Total Loss 0.320854\n",
      "Iter 0855 | Total Loss 0.314640\n",
      "Iter 0860 | Total Loss 0.316694\n",
      "Iter 0865 | Total Loss 0.320226\n",
      "Iter 0870 | Total Loss 0.321248\n",
      "Iter 0875 | Total Loss 0.322620\n",
      "Iter 0880 | Total Loss 0.318768\n",
      "Iter 0885 | Total Loss 0.317371\n",
      "Iter 0890 | Total Loss 0.316026\n",
      "Iter 0895 | Total Loss 0.317950\n",
      "Iter 0900 | Total Loss 0.324383\n",
      "Iter 0905 | Total Loss 0.326074\n",
      "Iter 0910 | Total Loss 0.322935\n",
      "Iter 0915 | Total Loss 0.315805\n",
      "Iter 0920 | Total Loss 0.313102\n",
      "Iter 0925 | Total Loss 0.311536\n",
      "Iter 0930 | Total Loss 0.318616\n",
      "Iter 0935 | Total Loss 0.320707\n",
      "Iter 0940 | Total Loss 0.320384\n",
      "Iter 0945 | Total Loss 0.320776\n",
      "Iter 0950 | Total Loss 0.320720\n",
      "Iter 0955 | Total Loss 0.323697\n",
      "Iter 0960 | Total Loss 0.323513\n",
      "Iter 0965 | Total Loss 0.322351\n",
      "Iter 0970 | Total Loss 0.320944\n",
      "Iter 0975 | Total Loss 0.316749\n",
      "Iter 0980 | Total Loss 0.313268\n",
      "Iter 0985 | Total Loss 0.312708\n",
      "Iter 0990 | Total Loss 0.305601\n",
      "Iter 0995 | Total Loss 0.301928\n",
      "Iter 1000 | Total Loss 0.305504\n",
      "Iter 1005 | Total Loss 0.301427\n",
      "Iter 1010 | Total Loss 0.302674\n",
      "Iter 1015 | Total Loss 0.301009\n",
      "Iter 1020 | Total Loss 0.302431\n",
      "Iter 1025 | Total Loss 0.301479\n",
      "Iter 1030 | Total Loss 0.295509\n",
      "Iter 1035 | Total Loss 0.292087\n",
      "Iter 1040 | Total Loss 0.287021\n",
      "Iter 1045 | Total Loss 0.290450\n",
      "Iter 1050 | Total Loss 0.291488\n",
      "Iter 1055 | Total Loss 0.290240\n",
      "Iter 1060 | Total Loss 0.285425\n",
      "Iter 1065 | Total Loss 0.288786\n",
      "Iter 1070 | Total Loss 0.293780\n",
      "Iter 1075 | Total Loss 0.294683\n",
      "Iter 1080 | Total Loss 0.290631\n",
      "Iter 1085 | Total Loss 0.292396\n",
      "Iter 1090 | Total Loss 0.299485\n",
      "Iter 1095 | Total Loss 0.291470\n",
      "Iter 1100 | Total Loss 0.292398\n",
      "Iter 1105 | Total Loss 0.297438\n",
      "Iter 1110 | Total Loss 0.294919\n",
      "Iter 1115 | Total Loss 0.290695\n",
      "Iter 1120 | Total Loss 0.286415\n",
      "Iter 1125 | Total Loss 0.285180\n",
      "Iter 1130 | Total Loss 0.292969\n",
      "Iter 1135 | Total Loss 0.292727\n",
      "Iter 1140 | Total Loss 0.289507\n",
      "Iter 1145 | Total Loss 0.279075\n",
      "Iter 1150 | Total Loss 0.280705\n",
      "Iter 1155 | Total Loss 0.281950\n",
      "Iter 1160 | Total Loss 0.276563\n",
      "Iter 1165 | Total Loss 0.279366\n",
      "Iter 1170 | Total Loss 0.286551\n",
      "Iter 1175 | Total Loss 0.284678\n",
      "Iter 1180 | Total Loss 0.279179\n",
      "Iter 1185 | Total Loss 0.274152\n",
      "Iter 1190 | Total Loss 0.281787\n",
      "Iter 1195 | Total Loss 0.281588\n",
      "Iter 1200 | Total Loss 0.276312\n",
      "Iter 1205 | Total Loss 0.281319\n",
      "Iter 1210 | Total Loss 0.285466\n",
      "Iter 1215 | Total Loss 0.284756\n",
      "Iter 1220 | Total Loss 0.289425\n",
      "Iter 1225 | Total Loss 0.294871\n",
      "Iter 1230 | Total Loss 0.304612\n",
      "Iter 1235 | Total Loss 0.306823\n",
      "Iter 1240 | Total Loss 0.303718\n",
      "Iter 1245 | Total Loss 0.290581\n",
      "Iter 1250 | Total Loss 0.291846\n",
      "Iter 1255 | Total Loss 0.294095\n",
      "Iter 1260 | Total Loss 0.290130\n",
      "Iter 1265 | Total Loss 0.294260\n",
      "Iter 1270 | Total Loss 0.293463\n",
      "Iter 1275 | Total Loss 0.287271\n",
      "Iter 1280 | Total Loss 0.285060\n",
      "Iter 1285 | Total Loss 0.293892\n"
     ]
    },
    {
     "name": "stdout",
     "output_type": "stream",
     "text": [
      "Iter 1290 | Total Loss 0.297314\n",
      "Iter 1295 | Total Loss 0.301858\n",
      "Iter 1300 | Total Loss 0.304148\n",
      "Iter 1305 | Total Loss 0.294874\n",
      "Iter 1310 | Total Loss 0.302620\n",
      "Iter 1315 | Total Loss 0.305468\n",
      "Iter 1320 | Total Loss 0.296494\n",
      "Iter 1325 | Total Loss 0.294618\n",
      "Iter 1330 | Total Loss 0.287583\n",
      "Iter 1335 | Total Loss 0.286231\n",
      "Iter 1340 | Total Loss 0.285343\n",
      "Iter 1345 | Total Loss 0.280488\n",
      "Iter 1350 | Total Loss 0.274927\n",
      "Iter 1355 | Total Loss 0.280978\n",
      "Iter 1360 | Total Loss 0.284135\n",
      "Iter 1365 | Total Loss 0.276942\n",
      "Iter 1370 | Total Loss 0.273533\n",
      "Iter 1375 | Total Loss 0.275374\n",
      "Iter 1380 | Total Loss 0.272267\n",
      "Iter 1385 | Total Loss 0.261393\n",
      "Iter 1390 | Total Loss 0.257766\n",
      "Iter 1395 | Total Loss 0.262680\n",
      "Iter 1400 | Total Loss 0.261522\n",
      "Iter 1405 | Total Loss 0.261362\n",
      "Iter 1410 | Total Loss 0.258123\n",
      "Iter 1415 | Total Loss 0.262157\n",
      "Iter 1420 | Total Loss 0.265262\n",
      "Iter 1425 | Total Loss 0.262939\n",
      "Iter 1430 | Total Loss 0.251671\n",
      "Iter 1435 | Total Loss 0.256183\n",
      "Iter 1440 | Total Loss 0.263567\n",
      "Iter 1445 | Total Loss 0.261131\n",
      "Iter 1450 | Total Loss 0.259835\n",
      "Iter 1455 | Total Loss 0.260348\n",
      "Iter 1460 | Total Loss 0.255750\n",
      "Iter 1465 | Total Loss 0.251731\n",
      "Iter 1470 | Total Loss 0.260619\n",
      "Iter 1475 | Total Loss 0.266226\n",
      "Iter 1480 | Total Loss 0.261119\n",
      "Iter 1485 | Total Loss 0.271294\n",
      "Iter 1490 | Total Loss 0.265915\n",
      "Iter 1495 | Total Loss 0.267579\n",
      "Iter 1500 | Total Loss 0.269168\n",
      "Iter 1505 | Total Loss 0.267235\n",
      "Iter 1510 | Total Loss 0.265960\n",
      "Iter 1515 | Total Loss 0.272296\n",
      "Iter 1520 | Total Loss 0.269214\n",
      "Iter 1525 | Total Loss 0.272986\n",
      "Iter 1530 | Total Loss 0.270399\n",
      "Iter 1535 | Total Loss 0.271146\n",
      "Iter 1540 | Total Loss 0.266904\n",
      "Iter 1545 | Total Loss 0.264353\n",
      "Iter 1550 | Total Loss 0.261217\n",
      "Iter 1555 | Total Loss 0.252138\n",
      "Iter 1560 | Total Loss 0.257217\n",
      "Iter 1565 | Total Loss 0.255573\n",
      "Iter 1570 | Total Loss 0.248291\n",
      "Iter 1575 | Total Loss 0.251316\n",
      "Iter 1580 | Total Loss 0.249284\n",
      "Iter 1585 | Total Loss 0.245010\n",
      "Iter 1590 | Total Loss 0.246806\n",
      "Iter 1595 | Total Loss 0.246565\n",
      "Iter 1600 | Total Loss 0.248057\n",
      "Iter 1605 | Total Loss 0.243011\n",
      "Iter 1610 | Total Loss 0.249844\n",
      "Iter 1615 | Total Loss 0.255363\n",
      "Iter 1620 | Total Loss 0.251617\n",
      "Iter 1625 | Total Loss 0.257028\n",
      "Iter 1630 | Total Loss 0.244852\n",
      "Iter 1635 | Total Loss 0.250384\n",
      "Iter 1640 | Total Loss 0.250965\n",
      "Iter 1645 | Total Loss 0.246338\n",
      "Iter 1650 | Total Loss 0.246703\n",
      "Iter 1655 | Total Loss 0.249301\n",
      "Iter 1660 | Total Loss 0.252935\n",
      "Iter 1665 | Total Loss 0.245921\n",
      "Iter 1670 | Total Loss 0.244680\n",
      "Iter 1675 | Total Loss 0.244657\n",
      "Iter 1680 | Total Loss 0.247052\n",
      "Iter 1685 | Total Loss 0.244339\n",
      "Iter 1690 | Total Loss 0.246706\n",
      "Iter 1695 | Total Loss 0.249302\n",
      "Iter 1700 | Total Loss 0.246960\n",
      "Iter 1705 | Total Loss 0.251649\n",
      "Iter 1710 | Total Loss 0.248393\n",
      "Iter 1715 | Total Loss 0.242284\n",
      "Iter 1720 | Total Loss 0.252454\n",
      "Iter 1725 | Total Loss 0.251538\n",
      "Iter 1730 | Total Loss 0.253727\n",
      "Iter 1735 | Total Loss 0.247565\n",
      "Iter 1740 | Total Loss 0.253391\n",
      "Iter 1745 | Total Loss 0.246211\n",
      "Iter 1750 | Total Loss 0.245959\n",
      "Iter 1755 | Total Loss 0.250375\n",
      "Iter 1760 | Total Loss 0.243793\n",
      "Iter 1765 | Total Loss 0.243625\n",
      "Iter 1770 | Total Loss 0.245083\n",
      "Iter 1775 | Total Loss 0.237233\n",
      "Iter 1780 | Total Loss 0.241117\n",
      "Iter 1785 | Total Loss 0.241161\n",
      "Iter 1790 | Total Loss 0.243754\n",
      "Iter 1795 | Total Loss 0.240163\n",
      "Iter 1800 | Total Loss 0.239063\n",
      "Iter 1805 | Total Loss 0.247266\n",
      "Iter 1810 | Total Loss 0.244434\n",
      "Iter 1815 | Total Loss 0.246504\n",
      "Iter 1820 | Total Loss 0.238626\n",
      "Iter 1825 | Total Loss 0.237250\n",
      "Iter 1830 | Total Loss 0.240047\n",
      "Iter 1835 | Total Loss 0.238995\n",
      "Iter 1840 | Total Loss 0.239023\n",
      "Iter 1845 | Total Loss 0.243032\n",
      "Iter 1850 | Total Loss 0.235863\n",
      "Iter 1855 | Total Loss 0.241968\n",
      "Iter 1860 | Total Loss 0.234705\n",
      "Iter 1865 | Total Loss 0.236128\n",
      "Iter 1870 | Total Loss 0.228346\n",
      "Iter 1875 | Total Loss 0.231556\n",
      "Iter 1880 | Total Loss 0.243160\n",
      "Iter 1885 | Total Loss 0.243306\n",
      "Iter 1890 | Total Loss 0.239327\n",
      "Iter 1895 | Total Loss 0.234150\n",
      "Iter 1900 | Total Loss 0.227939\n",
      "Iter 1905 | Total Loss 0.227219\n",
      "Iter 1910 | Total Loss 0.226402\n",
      "Iter 1915 | Total Loss 0.231686\n",
      "Iter 1920 | Total Loss 0.225444\n",
      "Iter 1925 | Total Loss 0.221800\n",
      "Iter 1930 | Total Loss 0.228475\n",
      "Iter 1935 | Total Loss 0.232577\n",
      "Iter 1940 | Total Loss 0.230073\n",
      "Iter 1945 | Total Loss 0.238567\n",
      "Iter 1950 | Total Loss 0.231109\n",
      "Iter 1955 | Total Loss 0.233445\n",
      "Iter 1960 | Total Loss 0.228425\n",
      "Iter 1965 | Total Loss 0.225434\n",
      "Iter 1970 | Total Loss 0.228729\n",
      "Iter 1975 | Total Loss 0.234590\n",
      "Iter 1980 | Total Loss 0.235316\n",
      "Iter 1985 | Total Loss 0.237246\n",
      "Iter 1990 | Total Loss 0.232974\n",
      "Iter 1995 | Total Loss 0.233022\n",
      "Iter 2000 | Total Loss 0.234196\n",
      "Iter 2005 | Total Loss 0.228751\n",
      "Iter 2010 | Total Loss 0.229846\n",
      "Iter 2015 | Total Loss 0.226208\n",
      "Iter 2020 | Total Loss 0.218845\n",
      "Iter 2025 | Total Loss 0.217577\n",
      "Iter 2030 | Total Loss 0.216459\n",
      "Iter 2035 | Total Loss 0.210958\n",
      "Iter 2040 | Total Loss 0.215477\n",
      "Iter 2045 | Total Loss 0.208299\n",
      "Iter 2050 | Total Loss 0.209723\n",
      "Iter 2055 | Total Loss 0.209059\n",
      "Iter 2060 | Total Loss 0.215501\n",
      "Iter 2065 | Total Loss 0.210256\n",
      "Iter 2070 | Total Loss 0.211873\n",
      "Iter 2075 | Total Loss 0.214121\n",
      "Iter 2080 | Total Loss 0.216553\n",
      "Iter 2085 | Total Loss 0.212662\n",
      "Iter 2090 | Total Loss 0.214996\n",
      "Iter 2095 | Total Loss 0.206066\n",
      "Iter 2100 | Total Loss 0.208937\n",
      "Iter 2105 | Total Loss 0.207429\n",
      "Iter 2110 | Total Loss 0.203468\n",
      "Iter 2115 | Total Loss 0.199930\n",
      "Iter 2120 | Total Loss 0.207317\n",
      "Iter 2125 | Total Loss 0.197354\n",
      "Iter 2130 | Total Loss 0.195977\n",
      "Iter 2135 | Total Loss 0.200221\n",
      "Iter 2140 | Total Loss 0.196576\n",
      "Iter 2145 | Total Loss 0.206422\n",
      "Iter 2150 | Total Loss 0.191930\n",
      "Iter 2155 | Total Loss 0.197333\n",
      "Iter 2160 | Total Loss 0.187737\n",
      "Iter 2165 | Total Loss 0.207308\n",
      "Iter 2170 | Total Loss 0.198292\n",
      "Iter 2175 | Total Loss 0.206044\n",
      "Iter 2180 | Total Loss 0.198435\n",
      "Iter 2185 | Total Loss 0.204683\n",
      "Iter 2190 | Total Loss 0.200997\n",
      "Iter 2195 | Total Loss 0.196066\n",
      "Iter 2200 | Total Loss 0.198679\n",
      "Iter 2205 | Total Loss 0.197059\n",
      "Iter 2210 | Total Loss 0.181740\n",
      "Iter 2215 | Total Loss 0.197052\n",
      "Iter 2220 | Total Loss 0.188793\n",
      "Iter 2225 | Total Loss 0.186939\n",
      "Iter 2230 | Total Loss 0.187601\n",
      "Iter 2235 | Total Loss 0.184897\n",
      "Iter 2240 | Total Loss 0.194225\n",
      "Iter 2245 | Total Loss 0.187612\n",
      "Iter 2250 | Total Loss 0.176754\n",
      "Iter 2255 | Total Loss 0.178186\n",
      "Iter 2260 | Total Loss 0.188336\n",
      "Iter 2265 | Total Loss 0.179195\n",
      "Iter 2270 | Total Loss 0.182423\n",
      "Iter 2275 | Total Loss 0.180991\n",
      "Iter 2280 | Total Loss 0.170047\n",
      "Iter 2285 | Total Loss 0.186635\n",
      "Iter 2290 | Total Loss 0.178956\n",
      "Iter 2295 | Total Loss 0.181971\n",
      "Iter 2300 | Total Loss 0.182922\n",
      "Iter 2305 | Total Loss 0.175545\n",
      "Iter 2310 | Total Loss 0.182726\n",
      "Iter 2315 | Total Loss 0.184074\n",
      "Iter 2320 | Total Loss 0.183852\n",
      "Iter 2325 | Total Loss 0.183240\n",
      "Iter 2330 | Total Loss 0.186115\n",
      "Iter 2335 | Total Loss 0.179518\n",
      "Iter 2340 | Total Loss 0.174173\n",
      "Iter 2345 | Total Loss 0.172516\n",
      "Iter 2350 | Total Loss 0.178765\n",
      "Iter 2355 | Total Loss 0.173914\n",
      "Iter 2360 | Total Loss 0.170824\n",
      "Iter 2365 | Total Loss 0.172805\n",
      "Iter 2370 | Total Loss 0.172384\n",
      "Iter 2375 | Total Loss 0.171848\n",
      "Iter 2380 | Total Loss 0.172335\n",
      "Iter 2385 | Total Loss 0.171977\n",
      "Iter 2390 | Total Loss 0.166771\n",
      "Iter 2395 | Total Loss 0.172914\n",
      "Iter 2400 | Total Loss 0.168568\n",
      "Iter 2405 | Total Loss 0.168477\n",
      "Iter 2410 | Total Loss 0.171377\n",
      "Iter 2415 | Total Loss 0.170398\n",
      "Iter 2420 | Total Loss 0.171980\n",
      "Iter 2425 | Total Loss 0.168080\n",
      "Iter 2430 | Total Loss 0.168735\n",
      "Iter 2435 | Total Loss 0.166481\n",
      "Iter 2440 | Total Loss 0.163923\n",
      "Iter 2445 | Total Loss 0.163339\n",
      "Iter 2450 | Total Loss 0.175691\n",
      "Iter 2455 | Total Loss 0.161457\n",
      "Iter 2460 | Total Loss 0.168497\n",
      "Iter 2465 | Total Loss 0.164870\n",
      "Iter 2470 | Total Loss 0.163831\n",
      "Iter 2475 | Total Loss 0.155503\n",
      "Iter 2480 | Total Loss 0.162128\n",
      "Iter 2485 | Total Loss 0.156927\n",
      "Iter 2490 | Total Loss 0.161649\n",
      "Iter 2495 | Total Loss 0.165425\n",
      "Iter 2500 | Total Loss 0.152220\n",
      "Iter 2505 | Total Loss 0.162183\n",
      "Iter 2510 | Total Loss 0.165338\n",
      "Iter 2515 | Total Loss 0.153742\n",
      "Iter 2520 | Total Loss 0.155587\n",
      "Iter 2525 | Total Loss 0.156744\n",
      "Iter 2530 | Total Loss 0.168815\n",
      "Iter 2535 | Total Loss 0.160754\n",
      "Iter 2540 | Total Loss 0.159190\n",
      "Iter 2545 | Total Loss 0.163969\n",
      "Iter 2550 | Total Loss 0.159462\n",
      "Iter 2555 | Total Loss 0.163030\n",
      "Iter 2560 | Total Loss 0.161883\n",
      "Iter 2565 | Total Loss 0.148035\n",
      "Iter 2570 | Total Loss 0.154586\n"
     ]
    },
    {
     "name": "stdout",
     "output_type": "stream",
     "text": [
      "Iter 2575 | Total Loss 0.148660\n",
      "Iter 2580 | Total Loss 0.148822\n",
      "Iter 2585 | Total Loss 0.147865\n",
      "Iter 2590 | Total Loss 0.148427\n",
      "Iter 2595 | Total Loss 0.150158\n",
      "Iter 2600 | Total Loss 0.154721\n",
      "Iter 2605 | Total Loss 0.157548\n",
      "Iter 2610 | Total Loss 0.165447\n",
      "Iter 2615 | Total Loss 0.163401\n",
      "Iter 2620 | Total Loss 0.160078\n",
      "Iter 2625 | Total Loss 0.160951\n",
      "Iter 2630 | Total Loss 0.155481\n",
      "Iter 2635 | Total Loss 0.159262\n",
      "Iter 2640 | Total Loss 0.149665\n",
      "Iter 2645 | Total Loss 0.150608\n",
      "Iter 2650 | Total Loss 0.152380\n",
      "Iter 2655 | Total Loss 0.146110\n",
      "Iter 2660 | Total Loss 0.156877\n",
      "Iter 2665 | Total Loss 0.148191\n",
      "Iter 2670 | Total Loss 0.154740\n",
      "Iter 2675 | Total Loss 0.154172\n",
      "Iter 2680 | Total Loss 0.142939\n",
      "Iter 2685 | Total Loss 0.147358\n",
      "Iter 2690 | Total Loss 0.148212\n",
      "Iter 2695 | Total Loss 0.141022\n",
      "Iter 2700 | Total Loss 0.145571\n",
      "Iter 2705 | Total Loss 0.145431\n",
      "Iter 2710 | Total Loss 0.150453\n",
      "Iter 2715 | Total Loss 0.151030\n",
      "Iter 2720 | Total Loss 0.149836\n",
      "Iter 2725 | Total Loss 0.144229\n",
      "Iter 2730 | Total Loss 0.154294\n",
      "Iter 2735 | Total Loss 0.155548\n",
      "Iter 2740 | Total Loss 0.150762\n",
      "Iter 2745 | Total Loss 0.150476\n",
      "Iter 2750 | Total Loss 0.153707\n",
      "Iter 2755 | Total Loss 0.158762\n",
      "Iter 2760 | Total Loss 0.153203\n",
      "Iter 2765 | Total Loss 0.156955\n",
      "Iter 2770 | Total Loss 0.153171\n",
      "Iter 2775 | Total Loss 0.153416\n",
      "Iter 2780 | Total Loss 0.150245\n",
      "Iter 2785 | Total Loss 0.150157\n",
      "Iter 2790 | Total Loss 0.149813\n",
      "Iter 2795 | Total Loss 0.155606\n",
      "Iter 2800 | Total Loss 0.148025\n",
      "Iter 2805 | Total Loss 0.146034\n",
      "Iter 2810 | Total Loss 0.143015\n",
      "Iter 2815 | Total Loss 0.140333\n",
      "Iter 2820 | Total Loss 0.139948\n",
      "Iter 2825 | Total Loss 0.137878\n",
      "Iter 2830 | Total Loss 0.140311\n",
      "Iter 2835 | Total Loss 0.130521\n",
      "Iter 2840 | Total Loss 0.137536\n",
      "Iter 2845 | Total Loss 0.132549\n",
      "Iter 2850 | Total Loss 0.129690\n",
      "Iter 2855 | Total Loss 0.138441\n",
      "Iter 2860 | Total Loss 0.126621\n",
      "Iter 2865 | Total Loss 0.137719\n",
      "Iter 2870 | Total Loss 0.132178\n",
      "Iter 2875 | Total Loss 0.129907\n",
      "Iter 2880 | Total Loss 0.127286\n",
      "Iter 2885 | Total Loss 0.128698\n",
      "Iter 2890 | Total Loss 0.129306\n",
      "Iter 2895 | Total Loss 0.130529\n",
      "Iter 2900 | Total Loss 0.131956\n",
      "Iter 2905 | Total Loss 0.140239\n",
      "Iter 2910 | Total Loss 0.129652\n",
      "Iter 2915 | Total Loss 0.139273\n",
      "Iter 2920 | Total Loss 0.134138\n",
      "Iter 2925 | Total Loss 0.130356\n",
      "Iter 2930 | Total Loss 0.131513\n",
      "Iter 2935 | Total Loss 0.133957\n",
      "Iter 2940 | Total Loss 0.125375\n",
      "Iter 2945 | Total Loss 0.131077\n",
      "Iter 2950 | Total Loss 0.122014\n",
      "Iter 2955 | Total Loss 0.129894\n",
      "Iter 2960 | Total Loss 0.129817\n",
      "Iter 2965 | Total Loss 0.132681\n",
      "Iter 2970 | Total Loss 0.143000\n",
      "Iter 2975 | Total Loss 0.139297\n",
      "Iter 2980 | Total Loss 0.138018\n",
      "Iter 2985 | Total Loss 0.134755\n",
      "Iter 2990 | Total Loss 0.140567\n",
      "Iter 2995 | Total Loss 0.140345\n",
      "Iter 3000 | Total Loss 0.144589\n",
      "Iter 3005 | Total Loss 0.143360\n",
      "Iter 3010 | Total Loss 0.137791\n",
      "Iter 3015 | Total Loss 0.143198\n",
      "Iter 3020 | Total Loss 0.131956\n",
      "Iter 3025 | Total Loss 0.139775\n",
      "Iter 3030 | Total Loss 0.144712\n",
      "Iter 3035 | Total Loss 0.146404\n",
      "Iter 3040 | Total Loss 0.146494\n",
      "Iter 3045 | Total Loss 0.151461\n",
      "Iter 3050 | Total Loss 0.149222\n",
      "Iter 3055 | Total Loss 0.146215\n",
      "Iter 3060 | Total Loss 0.142967\n",
      "Iter 3065 | Total Loss 0.140078\n",
      "Iter 3070 | Total Loss 0.138775\n",
      "Iter 3075 | Total Loss 0.131598\n",
      "Iter 3080 | Total Loss 0.134502\n",
      "Iter 3085 | Total Loss 0.141580\n",
      "Iter 3090 | Total Loss 0.131997\n",
      "Iter 3095 | Total Loss 0.135694\n",
      "Iter 3100 | Total Loss 0.147922\n",
      "Iter 3105 | Total Loss 0.144826\n",
      "Iter 3110 | Total Loss 0.138940\n",
      "Iter 3115 | Total Loss 0.144578\n",
      "Iter 3120 | Total Loss 0.139123\n",
      "Iter 3125 | Total Loss 0.141566\n",
      "Iter 3130 | Total Loss 0.140553\n",
      "Iter 3135 | Total Loss 0.149736\n",
      "Iter 3140 | Total Loss 0.142709\n",
      "Iter 3145 | Total Loss 0.142351\n",
      "Iter 3150 | Total Loss 0.145473\n",
      "Iter 3155 | Total Loss 0.144277\n",
      "Iter 3160 | Total Loss 0.143419\n",
      "Iter 3165 | Total Loss 0.143888\n",
      "Iter 3170 | Total Loss 0.140473\n",
      "Iter 3175 | Total Loss 0.130725\n",
      "Iter 3180 | Total Loss 0.144943\n",
      "Iter 3185 | Total Loss 0.144262\n",
      "Iter 3190 | Total Loss 0.145978\n",
      "Iter 3195 | Total Loss 0.146215\n",
      "Iter 3200 | Total Loss 0.149714\n",
      "Iter 3205 | Total Loss 0.154095\n",
      "Iter 3210 | Total Loss 0.146295\n",
      "Iter 3215 | Total Loss 0.144918\n",
      "Iter 3220 | Total Loss 0.134010\n",
      "Iter 3225 | Total Loss 0.129029\n",
      "Iter 3230 | Total Loss 0.132226\n",
      "Iter 3235 | Total Loss 0.136105\n",
      "Iter 3240 | Total Loss 0.121397\n",
      "Iter 3245 | Total Loss 0.127704\n",
      "Iter 3250 | Total Loss 0.138158\n",
      "Iter 3255 | Total Loss 0.137459\n",
      "Iter 3260 | Total Loss 0.147268\n",
      "Iter 3265 | Total Loss 0.135684\n",
      "Iter 3270 | Total Loss 0.137290\n",
      "Iter 3275 | Total Loss 0.137458\n",
      "Iter 3280 | Total Loss 0.124858\n",
      "Iter 3285 | Total Loss 0.130659\n",
      "Iter 3290 | Total Loss 0.137246\n",
      "Iter 3295 | Total Loss 0.134179\n",
      "Iter 3300 | Total Loss 0.141327\n",
      "Iter 3305 | Total Loss 0.135646\n",
      "Iter 3310 | Total Loss 0.138832\n",
      "Iter 3315 | Total Loss 0.148477\n",
      "Iter 3320 | Total Loss 0.141478\n",
      "Iter 3325 | Total Loss 0.138792\n",
      "Iter 3330 | Total Loss 0.149037\n",
      "Iter 3335 | Total Loss 0.134502\n",
      "Iter 3340 | Total Loss 0.140455\n",
      "Iter 3345 | Total Loss 0.139190\n",
      "Iter 3350 | Total Loss 0.137456\n",
      "Iter 3355 | Total Loss 0.143398\n",
      "Iter 3360 | Total Loss 0.150395\n",
      "Iter 3365 | Total Loss 0.141218\n",
      "Iter 3370 | Total Loss 0.134179\n",
      "Iter 3375 | Total Loss 0.131924\n",
      "Iter 3380 | Total Loss 0.124185\n",
      "Iter 3385 | Total Loss 0.125981\n",
      "Iter 3390 | Total Loss 0.135816\n",
      "Iter 3395 | Total Loss 0.131172\n",
      "Iter 3400 | Total Loss 0.127857\n",
      "Iter 3405 | Total Loss 0.140788\n",
      "Iter 3410 | Total Loss 0.142525\n",
      "Iter 3415 | Total Loss 0.139884\n",
      "Iter 3420 | Total Loss 0.143944\n",
      "Iter 3425 | Total Loss 0.135008\n",
      "Iter 3430 | Total Loss 0.144902\n",
      "Iter 3435 | Total Loss 0.141320\n",
      "Iter 3440 | Total Loss 0.144742\n",
      "Iter 3445 | Total Loss 0.143930\n",
      "Iter 3450 | Total Loss 0.148744\n",
      "Iter 3455 | Total Loss 0.139387\n",
      "Iter 3460 | Total Loss 0.139737\n",
      "Iter 3465 | Total Loss 0.148868\n",
      "Iter 3470 | Total Loss 0.140001\n",
      "Iter 3475 | Total Loss 0.149340\n",
      "Iter 3480 | Total Loss 0.139844\n",
      "Iter 3485 | Total Loss 0.138745\n",
      "Iter 3490 | Total Loss 0.140001\n",
      "Iter 3495 | Total Loss 0.143444\n",
      "Iter 3500 | Total Loss 0.145562\n",
      "Iter 3505 | Total Loss 0.142211\n",
      "Iter 3510 | Total Loss 0.139610\n",
      "Iter 3515 | Total Loss 0.140021\n",
      "Iter 3520 | Total Loss 0.137547\n",
      "Iter 3525 | Total Loss 0.139350\n",
      "Iter 3530 | Total Loss 0.136276\n",
      "Iter 3535 | Total Loss 0.145698\n",
      "Iter 3540 | Total Loss 0.137649\n",
      "Iter 3545 | Total Loss 0.135656\n",
      "Iter 3550 | Total Loss 0.140688\n",
      "Iter 3555 | Total Loss 0.126457\n",
      "Iter 3560 | Total Loss 0.129168\n",
      "Iter 3565 | Total Loss 0.136831\n",
      "Iter 3570 | Total Loss 0.135577\n",
      "Iter 3575 | Total Loss 0.143670\n",
      "Iter 3580 | Total Loss 0.135029\n",
      "Iter 3585 | Total Loss 0.144476\n",
      "Iter 3590 | Total Loss 0.142025\n",
      "Iter 3595 | Total Loss 0.132740\n",
      "Iter 3600 | Total Loss 0.146679\n",
      "Iter 3605 | Total Loss 0.137030\n",
      "Iter 3610 | Total Loss 0.145506\n",
      "Iter 3615 | Total Loss 0.148689\n",
      "Iter 3620 | Total Loss 0.141707\n",
      "Iter 3625 | Total Loss 0.146888\n",
      "Iter 3630 | Total Loss 0.141627\n",
      "Iter 3635 | Total Loss 0.146368\n",
      "Iter 3640 | Total Loss 0.150645\n",
      "Iter 3645 | Total Loss 0.133718\n",
      "Iter 3650 | Total Loss 0.134653\n",
      "Iter 3655 | Total Loss 0.144333\n",
      "Iter 3660 | Total Loss 0.138283\n",
      "Iter 3665 | Total Loss 0.145923\n",
      "Iter 3670 | Total Loss 0.148901\n",
      "Iter 3675 | Total Loss 0.146734\n",
      "Iter 3680 | Total Loss 0.146533\n",
      "Iter 3685 | Total Loss 0.147428\n",
      "Iter 3690 | Total Loss 0.146424\n",
      "Iter 3695 | Total Loss 0.132117\n",
      "Iter 3700 | Total Loss 0.130827\n",
      "Iter 3705 | Total Loss 0.132937\n",
      "Iter 3710 | Total Loss 0.133071\n",
      "Iter 3715 | Total Loss 0.139884\n",
      "Iter 3720 | Total Loss 0.137569\n",
      "Iter 3725 | Total Loss 0.136304\n",
      "Iter 3730 | Total Loss 0.130621\n",
      "Iter 3735 | Total Loss 0.140913\n",
      "Iter 3740 | Total Loss 0.131933\n",
      "Iter 3745 | Total Loss 0.136086\n",
      "Iter 3750 | Total Loss 0.147060\n",
      "Iter 3755 | Total Loss 0.135401\n",
      "Iter 3760 | Total Loss 0.137756\n",
      "Iter 3765 | Total Loss 0.140830\n",
      "Iter 3770 | Total Loss 0.147994\n",
      "Iter 3775 | Total Loss 0.138728\n",
      "Iter 3780 | Total Loss 0.137107\n",
      "Iter 3785 | Total Loss 0.143990\n",
      "Iter 3790 | Total Loss 0.141525\n",
      "Iter 3795 | Total Loss 0.141799\n",
      "Iter 3800 | Total Loss 0.133583\n",
      "Iter 3805 | Total Loss 0.128164\n",
      "Iter 3810 | Total Loss 0.144563\n",
      "Iter 3815 | Total Loss 0.132794\n",
      "Iter 3820 | Total Loss 0.133925\n",
      "Iter 3825 | Total Loss 0.130117\n",
      "Iter 3830 | Total Loss 0.136789\n",
      "Iter 3835 | Total Loss 0.135503\n",
      "Iter 3840 | Total Loss 0.125099\n",
      "Iter 3845 | Total Loss 0.130185\n",
      "Iter 3850 | Total Loss 0.130180\n",
      "Iter 3855 | Total Loss 0.124431\n"
     ]
    },
    {
     "name": "stdout",
     "output_type": "stream",
     "text": [
      "Iter 3860 | Total Loss 0.129780\n",
      "Iter 3865 | Total Loss 0.131493\n",
      "Iter 3870 | Total Loss 0.129516\n",
      "Iter 3875 | Total Loss 0.124902\n",
      "Iter 3880 | Total Loss 0.127349\n",
      "Iter 3885 | Total Loss 0.131779\n",
      "Iter 3890 | Total Loss 0.130238\n",
      "Iter 3895 | Total Loss 0.136015\n",
      "Iter 3900 | Total Loss 0.134108\n",
      "Iter 3905 | Total Loss 0.132300\n",
      "Iter 3910 | Total Loss 0.130651\n",
      "Iter 3915 | Total Loss 0.131663\n",
      "Iter 3920 | Total Loss 0.128599\n",
      "Iter 3925 | Total Loss 0.129159\n",
      "Iter 3930 | Total Loss 0.128141\n",
      "Iter 3935 | Total Loss 0.128532\n",
      "Iter 3940 | Total Loss 0.123429\n",
      "Iter 3945 | Total Loss 0.120236\n",
      "Iter 3950 | Total Loss 0.129861\n",
      "Iter 3955 | Total Loss 0.120188\n",
      "Iter 3960 | Total Loss 0.118672\n",
      "Iter 3965 | Total Loss 0.121619\n",
      "Iter 3970 | Total Loss 0.122321\n",
      "Iter 3975 | Total Loss 0.119559\n",
      "Iter 3980 | Total Loss 0.121728\n",
      "Iter 3985 | Total Loss 0.122225\n",
      "Iter 3990 | Total Loss 0.126067\n",
      "Iter 3995 | Total Loss 0.124902\n",
      "Iter 4000 | Total Loss 0.120137\n"
     ]
    }
   ],
   "source": [
    "time_meter = RunningAverageMeter(0.97)\n",
    "loss_meter = RunningAverageMeter(0.97)\n",
    "\n",
    "step_loss = []\n",
    "for itr in range(1, niters + 1):\n",
    "    optimizer.zero_grad()\n",
    "    batch_y0, batch_t, batch_y = get_batch()\n",
    "    pred_y = odeint(func, batch_y0, batch_t).to(device)\n",
    "    loss = torch.mean(torch.abs(pred_y - batch_y))\n",
    "    loss.backward()\n",
    "    optimizer.step()\n",
    "\n",
    "    step_loss.append(loss.item())\n",
    "    \n",
    "    time_meter.update(time.time() - end)\n",
    "    loss_meter.update(loss.item())\n",
    "\n",
    "    if itr % test_freq == 0:\n",
    "        with torch.no_grad():\n",
    "            pred_y = odeint(func, true_y0, t)\n",
    "            loss = torch.mean(torch.abs(pred_y - true_y))\n",
    "            print('Iter {:04d} | Total Loss {:.6f}'.format(itr, loss.item()))\n",
    "#             visualize(true_y, pred_y, func, ii)\n",
    "            ii += 1\n",
    "\n",
    "    end = time.time()"
   ]
  },
  {
   "cell_type": "code",
   "execution_count": 76,
   "id": "97b17ce5",
   "metadata": {},
   "outputs": [],
   "source": [
    "# torch.save(func.state_dict(), \"dydt_Ay_Hyy_4000_steps.pt\")"
   ]
  },
  {
   "cell_type": "markdown",
   "id": "3f128701",
   "metadata": {},
   "source": [
    "**good point**: is it even a good idea to train two nets simultaneously by just taking naive sum of predictions and plugging into loss? see responses on: https://stackoverflow.com/questions/67872719/is-it-possible-to-combine-2-neural-networks"
   ]
  },
  {
   "cell_type": "markdown",
   "id": "4a798a38",
   "metadata": {},
   "source": [
    "Effectively, we have two things to check over here:\n",
    "\n",
    "1. What is the error within the training set, if we provide initial condition y0?\n",
    "\n",
    "2. What is the error on the held out part of the data with the same IC?\n",
    "\n",
    "We could just plot the 2D images and check this qualitatively / with RMSE, with the caveat that RMSE is not really the metric we want to be optimizing for. Also is evaluating error between reduced _as opposed to_ full state appropriate?"
   ]
  },
  {
   "cell_type": "markdown",
   "id": "966d2249",
   "metadata": {},
   "source": [
    "If we tried everything with train times in first sim  i.e. `true_y` was derived from reduced states constructed off `X_train_ttrain[:, :, 0]` then `X_train_ttrain[:, :, 0]` is basically decoded shape for the `true_y`."
   ]
  },
  {
   "cell_type": "markdown",
   "id": "02c13192",
   "metadata": {},
   "source": [
    "Predicted `y` i.e. `pred_y` needs to be decoded."
   ]
  },
  {
   "cell_type": "code",
   "execution_count": 61,
   "id": "601fcc0a",
   "metadata": {},
   "outputs": [],
   "source": [
    "with torch.no_grad():\n",
    "    pred_y = odeint(func, true_y0, t)"
   ]
  },
  {
   "cell_type": "code",
   "execution_count": 62,
   "id": "6b0e9253",
   "metadata": {},
   "outputs": [
    {
     "data": {
      "text/plain": [
       "torch.Size([41, 1, 32])"
      ]
     },
     "execution_count": 62,
     "metadata": {},
     "output_type": "execute_result"
    }
   ],
   "source": [
    "pred_y.shape"
   ]
  },
  {
   "cell_type": "code",
   "execution_count": 63,
   "id": "cfeb4d6b",
   "metadata": {},
   "outputs": [],
   "source": [
    "pred_y_np = pred_y.cpu().numpy()[:, 0, :].T"
   ]
  },
  {
   "cell_type": "code",
   "execution_count": 64,
   "id": "5da1d341",
   "metadata": {},
   "outputs": [],
   "source": [
    "pred_y_decoded = basis_1.decode(pred_y_np)"
   ]
  },
  {
   "cell_type": "code",
   "execution_count": 65,
   "id": "18eb53f8",
   "metadata": {},
   "outputs": [],
   "source": [
    "true_y_decoded = X_train_ttrain[:, :, 0]"
   ]
  },
  {
   "cell_type": "code",
   "execution_count": 66,
   "id": "c46d401a",
   "metadata": {},
   "outputs": [
    {
     "data": {
      "text/plain": [
       "(16384, 41)"
      ]
     },
     "execution_count": 66,
     "metadata": {},
     "output_type": "execute_result"
    }
   ],
   "source": [
    "pred_y_decoded.shape"
   ]
  },
  {
   "cell_type": "markdown",
   "id": "b6e89ca2",
   "metadata": {},
   "source": [
    "visualization for if we are able to replicate training properly."
   ]
  },
  {
   "cell_type": "code",
   "execution_count": 67,
   "id": "95ee5322",
   "metadata": {},
   "outputs": [
    {
     "data": {
      "text/plain": [
       "16384"
      ]
     },
     "execution_count": 67,
     "metadata": {},
     "output_type": "execute_result"
    }
   ],
   "source": [
    "64 * 256"
   ]
  },
  {
   "cell_type": "code",
   "execution_count": 68,
   "id": "8b27796d",
   "metadata": {},
   "outputs": [
    {
     "data": {
      "text/plain": [
       "<matplotlib.colorbar.Colorbar at 0x7f932353b8e0>"
      ]
     },
     "execution_count": 68,
     "metadata": {},
     "output_type": "execute_result"
    },
    {
     "data": {
      "image/png": "[encoded data removed]",
      "text/plain": [
       "<Figure size 3000x1800 with 4 Axes>"
      ]
     },
     "metadata": {},
     "output_type": "display_data"
    }
   ],
   "source": [
    "# def visualize():\n",
    "fig, ax = plt.subplots(1, 2, figsize=(10, 6))\n",
    "axs = ax.ravel()\n",
    "im0 = axs[0].imshow(true_y_decoded[:, 40].reshape(64, 256),\n",
    "            origin=\"lower\",\n",
    "            cmap=lc3_reg)\n",
    "axs[0].set_title(\"True\")\n",
    "fig.colorbar(im0, fraction=0.046 * 1/3, pad=0.04)\n",
    "\n",
    "im1 = axs[1].imshow(pred_y_decoded[:, 40].reshape(64, 256),\n",
    "                   origin=\"lower\",\n",
    "                   cmap=lc3_reg)\n",
    "axs[1].set_title(\"Predicted\")\n",
    "fig.colorbar(im1, fraction=0.046 * 1/3, pad=0.04)"
   ]
  },
  {
   "cell_type": "markdown",
   "id": "ad557d2a",
   "metadata": {},
   "source": [
    "by comparison to notebook 1?\n",
    "\n"
   ]
  },
  {
   "cell_type": "markdown",
   "id": "e4bbdd6f",
   "metadata": {},
   "source": [
    "testing times comparison to notebook 1?"
   ]
  },
  {
   "cell_type": "code",
   "execution_count": 69,
   "id": "ef097b53",
   "metadata": {},
   "outputs": [],
   "source": [
    "t_full = torch.tensor(np.float32(t_vec)).to(device)"
   ]
  },
  {
   "cell_type": "code",
   "execution_count": 70,
   "id": "45eb73ee",
   "metadata": {},
   "outputs": [],
   "source": [
    "with torch.no_grad():\n",
    "    pred_y_train_sim_fullt = odeint(func, true_y0, t_full)"
   ]
  },
  {
   "cell_type": "code",
   "execution_count": 71,
   "id": "f4789c97",
   "metadata": {},
   "outputs": [],
   "source": [
    "pred_y_train_sim_fullt_decoded = basis_1.decode(pred_y_train_sim_fullt.cpu().numpy()[:, 0, :].T)"
   ]
  },
  {
   "cell_type": "code",
   "execution_count": 72,
   "id": "fc8dff7a",
   "metadata": {},
   "outputs": [
    {
     "data": {
      "text/plain": [
       "(16384, 71)"
      ]
     },
     "execution_count": 72,
     "metadata": {},
     "output_type": "execute_result"
    }
   ],
   "source": [
    "pred_y_train_sim_fullt_decoded.shape"
   ]
  },
  {
   "cell_type": "code",
   "execution_count": 73,
   "id": "64c0be90",
   "metadata": {},
   "outputs": [
    {
     "data": {
      "text/plain": [
       "(16384, 71)"
      ]
     },
     "execution_count": 73,
     "metadata": {},
     "output_type": "execute_result"
    }
   ],
   "source": [
    "true_y_decoded_fullt = X[:, :, 0]\n",
    "true_y_decoded_fullt.shape"
   ]
  },
  {
   "cell_type": "code",
   "execution_count": 74,
   "id": "880fb602",
   "metadata": {},
   "outputs": [
    {
     "data": {
      "text/plain": [
       "<matplotlib.colorbar.Colorbar at 0x7f93121a3520>"
      ]
     },
     "execution_count": 74,
     "metadata": {},
     "output_type": "execute_result"
    },
    {
     "data": {
      "image/png": "[encoded data removed]",
      "text/plain": [
       "<Figure size 3000x1800 with 4 Axes>"
      ]
     },
     "metadata": {},
     "output_type": "display_data"
    }
   ],
   "source": [
    "fig, ax = plt.subplots(1, 2, figsize=(10, 6))\n",
    "axs = ax.ravel()\n",
    "im0 = axs[0].imshow(true_y_decoded_fullt[:, 70].reshape(64, 256),\n",
    "            origin=\"lower\",\n",
    "            cmap=lc3_reg)\n",
    "axs[0].set_title(\"True\")\n",
    "fig.colorbar(im0, fraction=0.046 * 1/3, pad=0.04)\n",
    "\n",
    "im1 = axs[1].imshow(pred_y_train_sim_fullt_decoded[:, 70].reshape(64, 256),\n",
    "                   origin=\"lower\",\n",
    "                   cmap=lc3_reg)\n",
    "axs[1].set_title(\"Predicted\")\n",
    "fig.colorbar(im1, fraction=0.046 * 1/3, pad=0.04)"
   ]
  },
  {
   "cell_type": "markdown",
   "id": "bce7dec4",
   "metadata": {},
   "source": [
    "Try the same example but with prior learnt OpInf model."
   ]
  },
  {
   "cell_type": "markdown",
   "id": "0efea4b0",
   "metadata": {},
   "source": [
    "#### Scratch Start"
   ]
  },
  {
   "cell_type": "code",
   "execution_count": null,
   "id": "6477336c",
   "metadata": {},
   "outputs": [],
   "source": [
    "32 * (32 + 1) / 2"
   ]
  },
  {
   "cell_type": "code",
   "execution_count": null,
   "id": "97d0322b",
   "metadata": {},
   "outputs": [],
   "source": [
    "np.outer([1, 2, 3, 4], [2, 3, 4, 5])"
   ]
  },
  {
   "cell_type": "code",
   "execution_count": null,
   "id": "d4cb290d",
   "metadata": {},
   "outputs": [],
   "source": [
    "np.tril_indices(4)"
   ]
  },
  {
   "cell_type": "code",
   "execution_count": null,
   "id": "cf73abf8",
   "metadata": {},
   "outputs": [],
   "source": [
    "v_out_flat = np.outer([1, 2, 3, 4], [2, 3, 4, 5])[np.tril_indices(4)]\n",
    "v_out_flat"
   ]
  },
  {
   "cell_type": "code",
   "execution_count": null,
   "id": "ea33c9e5",
   "metadata": {},
   "outputs": [],
   "source": [
    "torch.tensor(v_out_flat)"
   ]
  },
  {
   "cell_type": "code",
   "execution_count": null,
   "id": "6089a3da",
   "metadata": {},
   "outputs": [],
   "source": []
  },
  {
   "cell_type": "code",
   "execution_count": null,
   "id": "1b7f271b",
   "metadata": {},
   "outputs": [],
   "source": [
    "vquad_t = torch.from_numpy(np.float32(v_out_flat)).reshape((1, len(v_out_flat))).to(device)"
   ]
  },
  {
   "cell_type": "code",
   "execution_count": null,
   "id": "292f15c4",
   "metadata": {},
   "outputs": [],
   "source": [
    "v_np = vquad_t.cpu().numpy().flatten()"
   ]
  },
  {
   "cell_type": "code",
   "execution_count": null,
   "id": "c1ec9c1a",
   "metadata": {},
   "outputs": [],
   "source": [
    "v_np"
   ]
  },
  {
   "cell_type": "code",
   "execution_count": null,
   "id": "55f44782",
   "metadata": {},
   "outputs": [],
   "source": [
    "# test bed for getting quadratic term in neural net implemented\n",
    "aaa = np.array([[[1, 2, 3]],\n",
    "               [[10, 11, 12]]\n",
    "               ])\n",
    "aaa\n",
    "\n",
    "\n",
    "aaa[0, :, :]\n",
    "\n",
    "\n",
    "sq = np.squeeze(aaa, axis=1)\n",
    "\n",
    "def qy3(y):\n",
    "    y_np = np.squeeze(y, axis=1)\n",
    "    y_np_quad = np.zeros((y_np.shape[0], int(y_np.shape[1] * (y_np.shape[1] + 1)/2)))\n",
    "    for i in range(y_np.shape[0]):\n",
    "        y_np_quad[i, :] = np.outer(y_np[i, :], y_np[i, :])[np.tril_indices(y_np.shape[1])]\n",
    "\n",
    "    y_t_quad = torch.from_numpy(np.expand_dims(np.float32(y_np_quad), axis=1)).to(device)\n",
    "\n",
    "    return y_t_quad\n",
    "\n",
    "qy3(aaa)\n",
    "\n",
    "aaat = qy3(aaa)\n",
    "aaat.shape"
   ]
  },
  {
   "cell_type": "markdown",
   "id": "a7cb1735",
   "metadata": {},
   "source": [
    "#### Scratch End"
   ]
  }
 ],
 "metadata": {
  "kernelspec": {
   "display_name": "Python 3 (ipykernel)",
   "language": "python",
   "name": "python3"
  },
  "language_info": {
   "codemirror_mode": {
    "name": "ipython",
    "version": 3
   },
   "file_extension": ".py",
   "mimetype": "text/x-python",
   "name": "python",
   "nbconvert_exporter": "python",
   "pygments_lexer": "ipython3",
   "version": "3.10.10"
  }
 },
 "nbformat": 4,
 "nbformat_minor": 5
}
