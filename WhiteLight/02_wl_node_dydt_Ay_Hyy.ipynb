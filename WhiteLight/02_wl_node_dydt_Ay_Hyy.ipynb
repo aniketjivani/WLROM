{
 "cells": [
  {
   "cell_type": "markdown",
   "id": "8feef7eb",
   "metadata": {},
   "source": [
    "Carrying the same basic concept as notebook 1.\n",
    "\n",
    "\n",
    "the idea in this notebook involves no prior model, just trying to put a feedforward neural network with reduced state model instead of OpInf. \n",
    "More advanced version will not flatten anything and use convolutions.\n",
    "\n",
    "instead of linear RHS we also put quadratic term. But our quadratic model is very simple Linear tanh scheme for now."
   ]
  },
  {
   "cell_type": "code",
   "execution_count": 1,
   "id": "b8cf90d6",
   "metadata": {},
   "outputs": [
    {
     "data": {
      "text/plain": [
       "'/home/ajivani/WLROM/WhiteLight'"
      ]
     },
     "execution_count": 1,
     "metadata": {},
     "output_type": "execute_result"
    }
   ],
   "source": [
    "import os\n",
    "import opinf\n",
    "import scipy.signal\n",
    "# import cv2\n",
    "os.getcwd()"
   ]
  },
  {
   "cell_type": "code",
   "execution_count": 2,
   "id": "407c576b",
   "metadata": {},
   "outputs": [],
   "source": [
    "import numpy as np\n",
    "from numpy import ogrid\n",
    "import pandas as pd\n",
    "import scipy.linalg as la\n",
    "import scipy.sparse as sparse\n",
    "import matplotlib.pyplot as plt\n",
    "\n",
    "import opinf as op"
   ]
  },
  {
   "cell_type": "code",
   "execution_count": 3,
   "id": "bb5bd971",
   "metadata": {},
   "outputs": [],
   "source": [
    "import time"
   ]
  },
  {
   "cell_type": "code",
   "execution_count": 4,
   "id": "85cbf827",
   "metadata": {},
   "outputs": [],
   "source": [
    "from sunpy.visualization import colormaps as cm"
   ]
  },
  {
   "cell_type": "code",
   "execution_count": 5,
   "id": "b4df4060",
   "metadata": {},
   "outputs": [],
   "source": [
    "import torch\n",
    "import torch.nn as nn\n",
    "import torch.optim as optim"
   ]
  },
  {
   "cell_type": "code",
   "execution_count": 6,
   "id": "9e08df6c",
   "metadata": {},
   "outputs": [],
   "source": [
    "adjoint=True"
   ]
  },
  {
   "cell_type": "code",
   "execution_count": 7,
   "id": "da32ee68",
   "metadata": {},
   "outputs": [],
   "source": [
    "if adjoint:\n",
    "    from torchdiffeq import odeint_adjoint as odeint\n",
    "else:\n",
    "    from torchdiffeq import odeint"
   ]
  },
  {
   "cell_type": "code",
   "execution_count": 8,
   "id": "636140a3",
   "metadata": {},
   "outputs": [],
   "source": [
    "device = torch.device('cuda:0' if torch.cuda.is_available() else 'cpu')"
   ]
  },
  {
   "cell_type": "code",
   "execution_count": 9,
   "id": "14aa9a28",
   "metadata": {},
   "outputs": [
    {
     "data": {
      "image/png": "[encoded data removed]",
      "text/html": [
       "<div style=\"vertical-align: middle;\"><strong>SOHO LASCO C3_r</strong> </div><div class=\"cmap\"><img alt=\"SOHO LASCO C3_r colormap\" title=\"SOHO LASCO C3_r\" style=\"border: 1px solid #555;\" src=\"data:image/png;base64,iVBORw0KGgoAAAANSUhEUgAAAgAAAABACAYAAABsv8+/AAAAHnRFWHRUaXRsZQBTT0hPIExBU0NPIEMzX3IgY29sb3JtYXDMCW5EAAAAJHRFWHREZXNjcmlwdGlvbgBTT0hPIExBU0NPIEMzX3IgY29sb3JtYXAGtYcrAAAAMHRFWHRBdXRob3IATWF0cGxvdGxpYiB2My43LjEsIGh0dHBzOi8vbWF0cGxvdGxpYi5vcmcqr/hNAAAAMnRFWHRTb2Z0d2FyZQBNYXRwbG90bGliIHYzLjcuMSwgaHR0cHM6Ly9tYXRwbG90bGliLm9yZwQJZ2oAAAHFSURBVHic7dZBbsIwFEDB397/zKSLQisR3DQtEos3s0EksWNjCb23bdu2mZnL58dcv+6+L6/P7fo8dfzq+VePX847/xt/ff35c5jb9T+Ov3v/dnn8/P3n7J57vP/VfLO7vxi/mGd2z51b/3a5n+fc+vf7OFj/4T7mx+eOz+Hg/UfncPL3++/5v3r9vz7/68Eu1z8/3z+aZ+Z371nN8z3+3Lpv99fjD9b99b/xx3Xv/r/OrfvV+z9/fs/d/3r8uXW/DwCQIwAAIEgAAECQAACAIAEAAEECAACCBAAABAkAAAgSAAAQJAAAIEgAAECQAACAIAEAAEECAACCBAAABAkAAAgSAAAQJAAAIEgAAECQAACAIAEAAEECAACCBAAABAkAAAgSAAAQJAAAIEgAAECQAACAIAEAAEECAACCBAAABAkAAAgSAAAQJAAAIEgAAECQAACAIAEAAEECAACCBAAABAkAAAgSAAAQJAAAIEgAAECQAACAIAEAAEECAACCBAAABAkAAAgSAAAQJAAAIEgAAECQAACAIAEAAEECAACCBAAABAkAAAgSAAAQJAAAIEgAAECQAACAIAEAAEECAACCBAAABH0A+Gm+nfb+AtsAAAAASUVORK5CYII=\"></div><div style=\"vertical-align: middle; max-width: 514px; display: flex; justify-content: space-between;\"><div style=\"float: left;\"><div title=\"#ffffffff\" style=\"display: inline-block; width: 1em; height: 1em; margin: 0; vertical-align: middle; border: 1px solid #555; background-color: #ffffffff;\"></div> under</div><div style=\"margin: 0 auto; display: inline-block;\">bad <div title=\"#00000000\" style=\"display: inline-block; width: 1em; height: 1em; margin: 0; vertical-align: middle; border: 1px solid #555; background-color: #00000000;\"></div></div><div style=\"float: right;\">over <div title=\"#000000ff\" style=\"display: inline-block; width: 1em; height: 1em; margin: 0; vertical-align: middle; border: 1px solid #555; background-color: #000000ff;\"></div></div>"
      ],
      "text/plain": [
       "<matplotlib.colors.LinearSegmentedColormap at 0x7fce170baef0>"
      ]
     },
     "execution_count": 9,
     "metadata": {},
     "output_type": "execute_result"
    }
   ],
   "source": [
    "lc3 = cm.cmlist['soholasco3'].reversed()\n",
    "lc3"
   ]
  },
  {
   "cell_type": "code",
   "execution_count": 10,
   "id": "5cae42ee",
   "metadata": {},
   "outputs": [
    {
     "data": {
      "image/png": "[encoded data removed]",
      "text/html": [
       "<div style=\"vertical-align: middle;\"><strong>SOHO LASCO C3</strong> </div><div class=\"cmap\"><img alt=\"SOHO LASCO C3 colormap\" title=\"SOHO LASCO C3\" style=\"border: 1px solid #555;\" src=\"data:image/png;base64,iVBORw0KGgoAAAANSUhEUgAAAgAAAABACAYAAABsv8+/AAAAHHRFWHRUaXRsZQBTT0hPIExBU0NPIEMzIGNvbG9ybWFwEdDmtAAAACJ0RVh0RGVzY3JpcHRpb24AU09ITyBMQVNDTyBDMyBjb2xvcm1hcIyACPEAAAAwdEVYdEF1dGhvcgBNYXRwbG90bGliIHYzLjcuMSwgaHR0cHM6Ly9tYXRwbG90bGliLm9yZyqv+E0AAAAydEVYdFNvZnR3YXJlAE1hdHBsb3RsaWIgdjMuNy4xLCBodHRwczovL21hdHBsb3RsaWIub3JnBAlnagAAAaBJREFUeJzt1sFOwkAUQNFH//+fdWHVgE4KUSR4z1nQUPqmUwjJPc3My8zMzOnt9bQ6bt+f3+fm6LrV51/mb1xnOX/lOh/zN+774c//Pr892fNf+/vd+/nn7P1sR/vdj9tifnnd6jhn1y33v1znSfa/XG9x/6uf42D//+X7u/f+9//ftrj+8vx2ef8/nv88/7vzx/t9zPx63Z/O78cBAHIEAAAECQAACBIAABAkAAAgSAAAQJAAAIAgAQAAQQIAAIIEAAAECQAACBIAABAkAAAgSAAAQJAAAIAgAQAAQQIAAIIEAAAECQAACBIAABAkAAAgSAAAQJAAAIAgAQAAQQIAAIIEAAAECQAACBIAABAkAAAgSAAAQJAAAIAgAQAAQQIAAIIEAAAECQAACBIAABAkAAAgSAAAQJAAAIAgAQAAQQIAAIIEAAAECQAACBIAABAkAAAgSAAAQJAAAIAgAQAAQQIAAIIEAAAECQAACBIAABAkAAAgSAAAQJAAAIAgAQAAQQIAAIIEAAAECQAACBIAABAkAAAgSAAAQJAAAICgV2erBHwDlf7mAAAAAElFTkSuQmCC\"></div><div style=\"vertical-align: middle; max-width: 514px; display: flex; justify-content: space-between;\"><div style=\"float: left;\"><div title=\"#000000ff\" style=\"display: inline-block; width: 1em; height: 1em; margin: 0; vertical-align: middle; border: 1px solid #555; background-color: #000000ff;\"></div> under</div><div style=\"margin: 0 auto; display: inline-block;\">bad <div title=\"#00000000\" style=\"display: inline-block; width: 1em; height: 1em; margin: 0; vertical-align: middle; border: 1px solid #555; background-color: #00000000;\"></div></div><div style=\"float: right;\">over <div title=\"#ffffffff\" style=\"display: inline-block; width: 1em; height: 1em; margin: 0; vertical-align: middle; border: 1px solid #555; background-color: #ffffffff;\"></div></div>"
      ],
      "text/plain": [
       "<matplotlib.colors.LinearSegmentedColormap at 0x7fceb01e1420>"
      ]
     },
     "execution_count": 10,
     "metadata": {},
     "output_type": "execute_result"
    }
   ],
   "source": [
    "lc3_reg = cm.cmlist['soholasco3']\n",
    "lc3_reg"
   ]
  },
  {
   "cell_type": "code",
   "execution_count": 11,
   "id": "d5453419",
   "metadata": {},
   "outputs": [],
   "source": [
    "plt.rc(\"axes.spines\", right=True, top=True)\n",
    "plt.rc(\"figure\", dpi=300,\n",
    "       # figsize=(9, 3)\n",
    "       )\n",
    "plt.rc(\"font\",\n",
    "       family=\"serif\",\n",
    "       size=10\n",
    "       )\n",
    "plt.rc(\"legend\", edgecolor=\"none\", frameon=True)\n",
    "plt.rc(\"text\", usetex=False)\n",
    "# plt.rc(\"text\", usetex=True)"
   ]
  },
  {
   "cell_type": "markdown",
   "id": "48cf5394",
   "metadata": {},
   "source": [
    "### Setup training and testing data"
   ]
  },
  {
   "cell_type": "code",
   "execution_count": 12,
   "id": "ed290b78",
   "metadata": {},
   "outputs": [],
   "source": [
    "m = 71"
   ]
  },
  {
   "cell_type": "code",
   "execution_count": null,
   "id": "e14f3987",
   "metadata": {
    "lines_to_next_cell": 0
   },
   "outputs": [],
   "source": []
  },
  {
   "cell_type": "code",
   "execution_count": 13,
   "id": "816e12c3",
   "metadata": {},
   "outputs": [
    {
     "data": {
      "text/plain": [
       "array([0.        , 0.03333333, 0.06666667, 0.1       , 0.13333333,\n",
       "       0.16666667, 0.2       , 0.23333333, 0.26666667, 0.3       ,\n",
       "       0.33333333, 0.36666667, 0.4       , 0.43333333, 0.46666667,\n",
       "       0.5       , 0.53333333, 0.56666667, 0.6       , 0.63333333,\n",
       "       0.66666667, 0.7       , 0.73333333, 0.76666667, 0.8       ,\n",
       "       0.83333333, 0.86666667, 0.9       , 0.93333333, 0.96666667,\n",
       "       1.        , 1.03333333, 1.06666667, 1.1       , 1.13333333,\n",
       "       1.16666667, 1.2       , 1.23333333, 1.26666667, 1.3       ,\n",
       "       1.33333333, 1.36666667, 1.4       , 1.43333333, 1.46666667,\n",
       "       1.5       , 1.53333333, 1.56666667, 1.6       , 1.63333333,\n",
       "       1.66666667, 1.7       , 1.73333333, 1.76666667, 1.8       ,\n",
       "       1.83333333, 1.86666667, 1.9       , 1.93333333, 1.96666667,\n",
       "       2.        , 2.03333333, 2.06666667, 2.1       , 2.13333333,\n",
       "       2.16666667, 2.2       , 2.23333333, 2.26666667, 2.3       ,\n",
       "       2.33333333])"
      ]
     },
     "execution_count": 13,
     "metadata": {},
     "output_type": "execute_result"
    }
   ],
   "source": [
    "t_vec = (np.linspace(40, 180, m) - 40) / 60\n",
    "t_vec"
   ]
  },
  {
   "cell_type": "code",
   "execution_count": null,
   "id": "adaa866a",
   "metadata": {
    "lines_to_next_cell": 0
   },
   "outputs": [],
   "source": []
  },
  {
   "cell_type": "code",
   "execution_count": 14,
   "id": "7030b200",
   "metadata": {},
   "outputs": [],
   "source": [
    "dt = t_vec[1] - t_vec[0]"
   ]
  },
  {
   "cell_type": "code",
   "execution_count": 15,
   "id": "ebc02e6e",
   "metadata": {},
   "outputs": [],
   "source": [
    "nTrainTime = np.argwhere(t_vec == (120 - 40) / 60)[0, 0]"
   ]
  },
  {
   "cell_type": "code",
   "execution_count": 16,
   "id": "05a44508",
   "metadata": {},
   "outputs": [
    {
     "data": {
      "text/plain": [
       "40"
      ]
     },
     "execution_count": 16,
     "metadata": {},
     "output_type": "execute_result"
    }
   ],
   "source": [
    "nTrainTime"
   ]
  },
  {
   "cell_type": "code",
   "execution_count": 17,
   "id": "153130e0",
   "metadata": {},
   "outputs": [],
   "source": [
    "nTrainTimeAll = np.argwhere(np.linspace(2, 180, 90) == 40)[0,0]"
   ]
  },
  {
   "cell_type": "code",
   "execution_count": null,
   "id": "63b9e377",
   "metadata": {
    "lines_to_next_cell": 0
   },
   "outputs": [],
   "source": []
  },
  {
   "cell_type": "code",
   "execution_count": 18,
   "id": "2bd4219d",
   "metadata": {},
   "outputs": [
    {
     "data": {
      "text/plain": [
       "120.0"
      ]
     },
     "execution_count": 18,
     "metadata": {},
     "output_type": "execute_result"
    }
   ],
   "source": [
    "t_train = t_vec[:(nTrainTime + 1)]\n",
    "t_train[-1] * 60 + 40"
   ]
  },
  {
   "cell_type": "code",
   "execution_count": 19,
   "id": "5ed018dc",
   "metadata": {},
   "outputs": [
    {
     "data": {
      "text/plain": [
       "array([1.36666667, 1.4       , 1.43333333, 1.46666667, 1.5       ,\n",
       "       1.53333333, 1.56666667, 1.6       , 1.63333333, 1.66666667,\n",
       "       1.7       , 1.73333333, 1.76666667, 1.8       , 1.83333333,\n",
       "       1.86666667, 1.9       , 1.93333333, 1.96666667, 2.        ,\n",
       "       2.03333333, 2.06666667, 2.1       , 2.13333333, 2.16666667,\n",
       "       2.2       , 2.23333333, 2.26666667, 2.3       , 2.33333333])"
      ]
     },
     "execution_count": 19,
     "metadata": {},
     "output_type": "execute_result"
    }
   ],
   "source": [
    "t_test = t_vec[(nTrainTime + 1):]\n",
    "t_test"
   ]
  },
  {
   "cell_type": "code",
   "execution_count": 20,
   "id": "6e183cfe",
   "metadata": {},
   "outputs": [],
   "source": [
    "X_orig = np.load(\"./CR2161_tDecay2h_Polar_Compressed.npy\")"
   ]
  },
  {
   "cell_type": "code",
   "execution_count": 21,
   "id": "37c2ea30",
   "metadata": {},
   "outputs": [],
   "source": [
    "X = X_orig.reshape((64 * 256, 90, 278))[:, (nTrainTimeAll):, :]"
   ]
  },
  {
   "cell_type": "code",
   "execution_count": 22,
   "id": "aef8e163",
   "metadata": {},
   "outputs": [
    {
     "data": {
      "text/plain": [
       "array([ 31,  32,  33,  34,  35,  36,  37,  38,  39,  40,  41,  42,  43,\n",
       "        44,  45,  46,  47,  48,  49,  50,  51,  52,  53,  54,  56,  57,\n",
       "        58,  59,  60,  61,  62,  63,  64,  65,  66,  67,  68,  69,  70,\n",
       "        71,  72,  73,  74,  75,  76,  77,  78,  79,  80,  81,  82,  83,\n",
       "        84,  85,  86,  87,  88,  89,  90,  91,  92,  93,  94,  95,  96,\n",
       "        97,  98,  99, 100, 101, 102, 103, 104, 105, 106, 107, 108, 110,\n",
       "       111, 112, 113, 114, 115, 118, 119, 120, 121, 122, 123, 124, 126,\n",
       "       127, 128, 129, 130, 131, 132, 133, 134, 135, 136, 138, 139, 140,\n",
       "       141, 142, 143, 144, 145, 146, 147, 148, 149, 150, 151, 152, 153,\n",
       "       154, 155, 156, 157, 158, 159, 160, 161, 162, 163, 164, 166, 168,\n",
       "       169, 171, 172, 173, 174, 175, 176, 177, 178, 179, 180, 181, 183,\n",
       "       184, 185, 186, 188, 190, 191, 192, 193, 194, 196, 197, 198, 199,\n",
       "       200, 201, 202, 203, 204, 205, 206, 208, 209, 210, 211, 212, 213,\n",
       "       214, 215, 216, 217, 218, 219, 220, 221, 222, 223, 224, 225, 226,\n",
       "       227, 228, 229, 230, 231, 232, 233, 234, 235, 236, 237, 238, 239,\n",
       "       240, 241, 242, 243, 244, 246, 247, 248, 249, 251, 252, 253, 254,\n",
       "       255, 256, 257, 258, 259, 260, 261, 262, 263, 264, 265, 266, 267,\n",
       "       268, 269, 271, 272, 273, 274, 275, 276, 277, 278, 279, 280, 281,\n",
       "       282, 283, 284, 286, 287, 288, 289, 290, 291, 292, 293, 294, 295,\n",
       "       296, 297, 298, 299, 300, 301, 302, 303, 304, 305, 306, 307, 311,\n",
       "       312, 313, 314, 315, 316, 317, 318, 319, 320, 321, 322, 323, 324,\n",
       "       325, 326, 327, 328, 329])"
      ]
     },
     "execution_count": 22,
     "metadata": {},
     "output_type": "execute_result"
    }
   ],
   "source": [
    "import netCDF4 as nc\n",
    "ds = nc.Dataset(\"./20150315_CR2161_code_stable_tDecay2h.nc\")\n",
    "successfulRuns = ds['runs'].successfulRuns + 30\n",
    "successfulRuns"
   ]
  },
  {
   "cell_type": "code",
   "execution_count": 23,
   "id": "2e6ee0e5",
   "metadata": {},
   "outputs": [
    {
     "data": {
      "text/plain": [
       "(array([  0,   1,   2,   3,   5,   6,   7,   8,  10,  11,  12,  13,  14,\n",
       "         15,  16,  17,  18,  19,  20,  21,  22,  23,  26,  27,  28,  30,\n",
       "         31,  32,  34,  35,  36,  37,  38,  39,  41,  42,  44,  45,  48,\n",
       "         49,  50,  51,  52,  54,  55,  56,  57,  58,  59,  61,  63,  64,\n",
       "         65,  66,  67,  68,  69,  70,  71,  72,  73,  74,  75,  77,  78,\n",
       "         79,  82,  84,  85,  86,  87,  88,  90,  91,  92,  93,  94,  95,\n",
       "         96,  98, 100, 102, 103, 104, 105, 106, 107, 108, 110, 113, 114,\n",
       "        115, 116, 118, 120, 123, 124, 125, 126, 127, 128, 129, 130, 131,\n",
       "        132, 133, 134, 135, 136, 138, 139, 140, 142, 143, 146, 147, 148,\n",
       "        149, 151, 152, 153, 155, 156, 157, 158, 159, 160, 161, 162, 163,\n",
       "        165, 166, 167, 169, 170, 171, 172, 174, 175, 176, 177, 178, 179,\n",
       "        180, 181, 182, 183, 184, 185, 186, 187, 188, 189, 194, 196, 197,\n",
       "        198, 199, 200, 201, 202, 205, 206, 207, 208, 209, 210, 211, 212,\n",
       "        213, 214, 216, 217, 219, 220, 221, 222, 223, 224, 226, 227, 228,\n",
       "        230, 231, 232, 233, 234, 235, 237, 238, 239, 240, 241, 242, 243,\n",
       "        246, 248, 249, 250, 251, 252, 253, 254, 255, 256, 257, 258, 259,\n",
       "        260, 261, 262, 263, 265, 266, 267, 269, 272, 273, 274, 275, 276,\n",
       "        277]),\n",
       " array([  4,   9,  24,  25,  29,  33,  40,  43,  46,  47,  53,  60,  62,\n",
       "         76,  80,  81,  83,  89,  97,  99, 101, 109, 111, 112, 117, 119,\n",
       "        121, 122, 137, 141, 144, 145, 150, 154, 164, 168, 173, 190, 191,\n",
       "        192, 193, 195, 203, 204, 215, 218, 225, 229, 236, 244, 245, 247,\n",
       "        264, 268, 270, 271]))"
      ]
     },
     "execution_count": 23,
     "metadata": {},
     "output_type": "execute_result"
    }
   ],
   "source": [
    "train_test_sims = np.load(\"./CR2161_AWSoM2T_CME_tDecay2h_Polar_Clusters.npz\")\n",
    "train_sim = train_test_sims[\"training_id\"]\n",
    "test_sim = train_test_sims[\"test_id\"]\n",
    "train_sim, test_sim"
   ]
  },
  {
   "cell_type": "code",
   "execution_count": 24,
   "id": "959ff49c",
   "metadata": {},
   "outputs": [],
   "source": [
    "tt_sim = np.sort(np.hstack((train_sim, test_sim)))"
   ]
  },
  {
   "cell_type": "code",
   "execution_count": 25,
   "id": "525fe313",
   "metadata": {},
   "outputs": [
    {
     "data": {
      "text/plain": [
       "(16384, 41, 222)"
      ]
     },
     "execution_count": 25,
     "metadata": {},
     "output_type": "execute_result"
    }
   ],
   "source": [
    "X_train_ttrain = X[:, :(nTrainTime + 1), train_sim]\n",
    "X_train_ttrain.shape"
   ]
  },
  {
   "cell_type": "code",
   "execution_count": 26,
   "id": "537044b6",
   "metadata": {},
   "outputs": [],
   "source": [
    "X_test = X[:, :, test_sim]"
   ]
  },
  {
   "cell_type": "code",
   "execution_count": 27,
   "id": "214b4332",
   "metadata": {},
   "outputs": [],
   "source": [
    "X_train_test_ttrain = X[:, :(nTrainTime + 1), :]"
   ]
  },
  {
   "cell_type": "code",
   "execution_count": 28,
   "id": "e3efbffe",
   "metadata": {},
   "outputs": [
    {
     "data": {
      "text/plain": [
       "(16384, 41, 222)"
      ]
     },
     "execution_count": 28,
     "metadata": {},
     "output_type": "execute_result"
    }
   ],
   "source": [
    "X_train_ttrain.shape"
   ]
  },
  {
   "cell_type": "code",
   "execution_count": 29,
   "id": "79785f06",
   "metadata": {},
   "outputs": [
    {
     "data": {
      "text/plain": [
       "32"
      ]
     },
     "execution_count": 29,
     "metadata": {},
     "output_type": "execute_result"
    }
   ],
   "source": [
    "rom_1 = op.ContinuousOpInfROM(modelform=\"AH\")\n",
    "basis_1 = op.pre.PODBasis().fit(X_train_ttrain[:, :, 0], residual_energy=1e-8)\n",
    "basis_1.r"
   ]
  },
  {
   "cell_type": "code",
   "execution_count": 30,
   "id": "20ca8d5e",
   "metadata": {},
   "outputs": [],
   "source": [
    "reduced_states = basis_1.encode(X_train_ttrain[:, :, 0])"
   ]
  },
  {
   "cell_type": "code",
   "execution_count": 31,
   "id": "bf9fc892",
   "metadata": {},
   "outputs": [
    {
     "data": {
      "text/plain": [
       "(32, 41)"
      ]
     },
     "execution_count": 31,
     "metadata": {},
     "output_type": "execute_result"
    }
   ],
   "source": [
    "reduced_states.shape"
   ]
  },
  {
   "cell_type": "code",
   "execution_count": 32,
   "id": "312dc747",
   "metadata": {},
   "outputs": [
    {
     "data": {
      "text/plain": [
       "array([ 5.18753867,  5.4877632 ,  5.74297088,  5.93984572,  6.07472786,\n",
       "        6.14135307,  6.13742178,  6.06361853,  5.92100359,  5.70977877,\n",
       "        5.42965491,  5.08355595,  4.67775802,  4.21922311,  3.71461306,\n",
       "        3.16796246,  2.58665005,  1.98280391,  1.36212992,  0.73077039,\n",
       "        0.09351159, -0.54198027, -1.16760093, -1.77649704, -2.36307699,\n",
       "       -2.92112476, -3.44261899, -3.92287053, -4.35932236, -4.74802847,\n",
       "       -5.08321308, -5.36596717, -5.59438547, -5.76788039, -5.88884099,\n",
       "       -5.95946237, -5.98421062, -5.96423347, -5.90416973, -5.80922226,\n",
       "       -5.68420387])"
      ]
     },
     "execution_count": 32,
     "metadata": {},
     "output_type": "execute_result"
    }
   ],
   "source": [
    "reduced_states[1, :]"
   ]
  },
  {
   "cell_type": "markdown",
   "id": "d0c5f256",
   "metadata": {},
   "source": [
    "### Construction of NODE Architecture"
   ]
  },
  {
   "cell_type": "code",
   "execution_count": 33,
   "id": "bba726d9",
   "metadata": {},
   "outputs": [
    {
     "data": {
      "text/plain": [
       "device(type='cuda', index=0)"
      ]
     },
     "execution_count": 33,
     "metadata": {},
     "output_type": "execute_result"
    }
   ],
   "source": [
    "device"
   ]
  },
  {
   "cell_type": "code",
   "execution_count": 34,
   "id": "4f970687",
   "metadata": {},
   "outputs": [
    {
     "data": {
      "text/plain": [
       "array([0.        , 0.03333333, 0.06666667, 0.1       , 0.13333333,\n",
       "       0.16666667, 0.2       , 0.23333333, 0.26666667, 0.3       ,\n",
       "       0.33333333, 0.36666667, 0.4       , 0.43333333, 0.46666667,\n",
       "       0.5       , 0.53333333, 0.56666667, 0.6       , 0.63333333,\n",
       "       0.66666667, 0.7       , 0.73333333, 0.76666667, 0.8       ,\n",
       "       0.83333333, 0.86666667, 0.9       , 0.93333333, 0.96666667,\n",
       "       1.        , 1.03333333, 1.06666667, 1.1       , 1.13333333,\n",
       "       1.16666667, 1.2       , 1.23333333, 1.26666667, 1.3       ,\n",
       "       1.33333333])"
      ]
     },
     "execution_count": 34,
     "metadata": {},
     "output_type": "execute_result"
    }
   ],
   "source": [
    "t_train"
   ]
  },
  {
   "cell_type": "code",
   "execution_count": 35,
   "id": "57916421",
   "metadata": {},
   "outputs": [
    {
     "name": "stdout",
     "output_type": "stream",
     "text": [
      "Data size =  41  Batch time =  5  Batch size =  10\n"
     ]
    }
   ],
   "source": [
    "data_size = t_train.shape[0]\n",
    "batch_time = 5\n",
    "batch_size = 10\n",
    "print(\"Data size = \", data_size, \" Batch time = \", batch_time, \" Batch size = \", batch_size)"
   ]
  },
  {
   "cell_type": "code",
   "execution_count": 36,
   "id": "a197d26e",
   "metadata": {},
   "outputs": [],
   "source": [
    "t = torch.tensor(np.float32(t_train)).to(device)"
   ]
  },
  {
   "cell_type": "code",
   "execution_count": 37,
   "id": "d1dee920",
   "metadata": {},
   "outputs": [
    {
     "data": {
      "text/plain": [
       "torch.float32"
      ]
     },
     "execution_count": 37,
     "metadata": {},
     "output_type": "execute_result"
    }
   ],
   "source": [
    "t.dtype"
   ]
  },
  {
   "cell_type": "code",
   "execution_count": 38,
   "id": "bc62ce66",
   "metadata": {},
   "outputs": [
    {
     "data": {
      "text/plain": [
       "torch.Size([1, 32])"
      ]
     },
     "execution_count": 38,
     "metadata": {},
     "output_type": "execute_result"
    }
   ],
   "source": [
    "true_y0 = torch.from_numpy(np.float32(reduced_states[:, 0]))\n",
    "true_y0 = true_y0.reshape((1, len(true_y0))).to(device)\n",
    "true_y0.shape"
   ]
  },
  {
   "cell_type": "code",
   "execution_count": 39,
   "id": "663b5bf4",
   "metadata": {},
   "outputs": [
    {
     "data": {
      "text/plain": [
       "torch.float32"
      ]
     },
     "execution_count": 39,
     "metadata": {},
     "output_type": "execute_result"
    }
   ],
   "source": [
    "true_y0.dtype"
   ]
  },
  {
   "cell_type": "code",
   "execution_count": 40,
   "id": "64dc6b8d",
   "metadata": {},
   "outputs": [
    {
     "data": {
      "text/plain": [
       "(32, 41)"
      ]
     },
     "execution_count": 40,
     "metadata": {},
     "output_type": "execute_result"
    }
   ],
   "source": [
    "reduced_states.shape"
   ]
  },
  {
   "cell_type": "code",
   "execution_count": 41,
   "id": "f71d1e3b",
   "metadata": {},
   "outputs": [
    {
     "data": {
      "text/plain": [
       "torch.Size([41, 1, 32])"
      ]
     },
     "execution_count": 41,
     "metadata": {},
     "output_type": "execute_result"
    }
   ],
   "source": [
    "yreduced = np.float32(reduced_states.T)\n",
    "true_y = torch.from_numpy(np.expand_dims(yreduced, axis=1)).to(device)\n",
    "true_y.shape"
   ]
  },
  {
   "cell_type": "code",
   "execution_count": 42,
   "id": "954624f1",
   "metadata": {},
   "outputs": [
    {
     "data": {
      "text/plain": [
       "torch.float32"
      ]
     },
     "execution_count": 42,
     "metadata": {},
     "output_type": "execute_result"
    }
   ],
   "source": [
    "true_y.dtype"
   ]
  },
  {
   "cell_type": "markdown",
   "id": "999f4138",
   "metadata": {},
   "source": [
    "Need functions for getting batch, getting true x, getting ODE func - where we run the \"loss\" metric compared to the true simulation."
   ]
  },
  {
   "cell_type": "markdown",
   "id": "9c1ef3a6",
   "metadata": {},
   "source": [
    "The batch is taking IC as values at different times in the training set, and the solution as the values following the IC upto some predefined batch size for time."
   ]
  },
  {
   "cell_type": "code",
   "execution_count": 43,
   "id": "c43415f5",
   "metadata": {},
   "outputs": [],
   "source": [
    "def get_batch():\n",
    "    s = torch.from_numpy(np.random.choice(np.arange(data_size - batch_time, dtype=np.int64),\n",
    "                                          batch_size, replace=False))\n",
    "    batch_y0 = true_y[s]\n",
    "    batch_t = t[:batch_time]  # (T)\n",
    "    batch_y = torch.stack([true_y[s + i] for i in range(batch_time)], dim=0)  # (T, M, D)\n",
    "    return batch_y0.to(device), batch_t.to(device), batch_y.to(device)"
   ]
  },
  {
   "cell_type": "code",
   "execution_count": 44,
   "id": "8089891f",
   "metadata": {},
   "outputs": [],
   "source": [
    "by0, bt, by = get_batch()"
   ]
  },
  {
   "cell_type": "code",
   "execution_count": 45,
   "id": "a2570a6f",
   "metadata": {},
   "outputs": [
    {
     "data": {
      "text/plain": [
       "5"
      ]
     },
     "execution_count": 45,
     "metadata": {},
     "output_type": "execute_result"
    }
   ],
   "source": [
    "batch_time"
   ]
  },
  {
   "cell_type": "code",
   "execution_count": 46,
   "id": "f3f53a12",
   "metadata": {},
   "outputs": [
    {
     "data": {
      "text/plain": [
       "(torch.Size([10, 1, 32]), torch.Size([5]), torch.Size([5, 10, 1, 32]))"
      ]
     },
     "execution_count": 46,
     "metadata": {},
     "output_type": "execute_result"
    }
   ],
   "source": [
    "by0.shape, bt.shape, by.shape"
   ]
  },
  {
   "cell_type": "code",
   "execution_count": 47,
   "id": "108c0e3a",
   "metadata": {},
   "outputs": [],
   "source": [
    "class RunningAverageMeter(object):\n",
    "    \"\"\"Computes and stores the average and current value\"\"\"\n",
    "\n",
    "    def __init__(self, momentum=0.99):\n",
    "        self.momentum = momentum\n",
    "        self.reset()\n",
    "\n",
    "    def reset(self):\n",
    "        self.val = None\n",
    "        self.avg = 0\n",
    "\n",
    "    def update(self, val):\n",
    "        if self.val is None:\n",
    "            self.avg = val\n",
    "        else:\n",
    "            self.avg = self.avg * self.momentum + val * (1 - self.momentum)\n",
    "        self.val = val"
   ]
  },
  {
   "cell_type": "code",
   "execution_count": 48,
   "id": "4fe8aec6",
   "metadata": {},
   "outputs": [],
   "source": [
    "class ODEFunc(nn.Module):\n",
    "\n",
    "    def __init__(self):\n",
    "        super(ODEFunc, self).__init__()\n",
    "\n",
    "        self.net1 = nn.Sequential(\n",
    "            nn.Linear(32, 50),\n",
    "            nn.Tanh(),\n",
    "            nn.Linear(50, 32),\n",
    "        )\n",
    "        \n",
    "        self.net2 = nn.Sequential(\n",
    "            nn.Linear(528, 32),\n",
    "            nn.Tanh(),\n",
    "        )\n",
    "\n",
    "        for m in self.net1.modules():\n",
    "            if isinstance(m, nn.Linear):\n",
    "                nn.init.normal_(m.weight, mean=0, std=0.1)\n",
    "                nn.init.constant_(m.bias, val=0)\n",
    "                \n",
    "        for m in self.net2.modules():\n",
    "            if isinstance(m, nn.Linear):\n",
    "                nn.init.normal_(m.weight, mean=0, std=0.1)\n",
    "                nn.init.constant_(m.bias, val=0)\n",
    "\n",
    "    \n",
    "    def quadratic_y(self, y):\n",
    "        y_np = torch.squeeze(y, axis=1)\n",
    "        y_np_quad = torch.zeros((y_np.shape[0], 1, int(y_np.shape[1] * (y_np.shape[1] + 1)/2)))\n",
    "        \n",
    "#         y_np = np.squeeze(y.cpu().detach().numpy(), axis=1)\n",
    "#         y_np_quad = np.zeros((y_np.shape[0], int(y_np.shape[1] * (y_np.shape[1] + 1)/2)))\n",
    "        for i in range(y_np.shape[0]):\n",
    "#             y_np_quad[i, :] = np.outer(y_np[i, :], y_np[i, :])[np.tril_indices(y_np.shape[1])]\n",
    "            y_np_quad[i, 0, :] = torch.outer(y_np[i, :], y_np[i, :])[np.tril_indices(y_np.shape[1])]\n",
    "            \n",
    "#         y_t_quad = torch.from_numpy(np.expand_dims(np.float32(y_np_quad), axis=1)).to(device)\n",
    "\n",
    "#         return y_t_quad\n",
    "        return y_np_quad.to(device)\n",
    "            \n",
    "    def forward(self, t, y):\n",
    "            return self.net1(y) + self.net2(self.quadratic_y(y))"
   ]
  },
  {
   "cell_type": "code",
   "execution_count": 49,
   "id": "af45dd82",
   "metadata": {},
   "outputs": [],
   "source": [
    "ii = 0\n",
    "func = ODEFunc().to(device)\n",
    "# optimizer = optim.RMSprop(func.parameters(), lr=1e-3)\n",
    "optimizer = optim.Adam(func.parameters(), lr=1e-3)\n",
    "end = time.time()"
   ]
  },
  {
   "cell_type": "code",
   "execution_count": 50,
   "id": "2bc1c04d",
   "metadata": {},
   "outputs": [],
   "source": [
    "niters = 2000\n",
    "test_freq = 5"
   ]
  },
  {
   "cell_type": "code",
   "execution_count": 51,
   "id": "784f21ce",
   "metadata": {},
   "outputs": [
    {
     "data": {
      "text/plain": [
       "ODEFunc(\n",
       "  (net1): Sequential(\n",
       "    (0): Linear(in_features=32, out_features=50, bias=True)\n",
       "    (1): Tanh()\n",
       "    (2): Linear(in_features=50, out_features=32, bias=True)\n",
       "  )\n",
       "  (net2): Sequential(\n",
       "    (0): Linear(in_features=528, out_features=32, bias=True)\n",
       "    (1): Tanh()\n",
       "  )\n",
       ")"
      ]
     },
     "execution_count": 51,
     "metadata": {},
     "output_type": "execute_result"
    }
   ],
   "source": [
    "func"
   ]
  },
  {
   "cell_type": "code",
   "execution_count": 52,
   "id": "9a188e33",
   "metadata": {},
   "outputs": [
    {
     "data": {
      "text/plain": [
       "tensor([[[-1.3435,  0.3181,  1.8518, -0.6492, -0.2702, -1.1609,  0.6418,\n",
       "          -0.9684,  0.4223,  0.3208, -0.5058,  0.3960,  1.2017, -0.7753,\n",
       "           0.0186,  0.4887,  0.6707,  2.4085,  1.5802,  1.2438, -0.6935,\n",
       "          -1.5361,  0.9209,  0.8585,  0.3817, -0.1870, -1.2471,  1.8615,\n",
       "           1.2117, -0.9599,  1.7493, -0.6953]],\n",
       "\n",
       "        [[-1.3388,  0.2699,  1.8842, -0.6129, -0.2979, -1.1010,  0.7070,\n",
       "          -0.9836,  0.4228,  0.2873, -0.5558,  0.4147,  1.2122, -0.7934,\n",
       "          -0.0520,  0.5540,  0.6886,  2.3887,  1.5644,  1.2396, -0.6594,\n",
       "          -1.5084,  0.9332,  0.8185,  0.4134, -0.1562, -1.2457,  1.8379,\n",
       "           1.1455, -0.9833,  1.7311, -0.7293]],\n",
       "\n",
       "        [[-1.5295,  0.3821,  1.8930, -0.6929, -0.3289, -1.2116,  0.4774,\n",
       "          -0.9227,  0.5652,  0.3587, -0.5118,  0.3563,  1.2265, -0.7200,\n",
       "           0.0077,  0.4653,  0.4015,  2.5296,  1.6493,  1.3601, -0.8221,\n",
       "          -1.4252,  0.9968,  1.0523,  0.4438, -2.1922, -1.1857,  1.8960,\n",
       "           1.2768, -0.9617,  1.7654, -0.7122]],\n",
       "\n",
       "        [[-1.4414,  0.3130,  1.9610, -0.6672, -0.3540, -1.2464,  0.4814,\n",
       "          -0.9309,  0.5546,  0.3359, -0.5264,  0.4296,  1.3159, -0.7904,\n",
       "          -0.0660,  0.4684,  0.3435,  2.5067,  1.5936,  1.3774, -0.8556,\n",
       "          -1.4244,  0.9696,  0.9853,  0.4592, -2.2051, -1.1829,  1.8716,\n",
       "           1.1992, -0.9477,  1.8198, -0.6662]],\n",
       "\n",
       "        [[-1.5913,  0.4839,  1.7682, -0.7215, -0.2639, -1.1652,  0.4998,\n",
       "          -0.8823,  0.5552,  0.3896, -0.4913,  0.2385,  1.0832, -0.6350,\n",
       "           0.1291,  0.4330,  0.5566,  2.5593,  1.7405,  1.3138, -0.7642,\n",
       "          -1.4598,  1.0163,  1.1309,  0.4096, -0.1975, -1.2031,  1.9378,\n",
       "           1.3940, -0.9820,  1.6938, -0.7876]],\n",
       "\n",
       "        [[-1.5659,  0.4819,  1.7591, -0.7186, -0.2512, -1.1812,  0.5084,\n",
       "          -0.8801,  0.5372,  0.3896, -0.4761,  0.2382,  1.0778, -0.6351,\n",
       "           0.1518,  0.4219,  0.5851,  2.5454,  1.7336,  1.2987, -0.7572,\n",
       "          -1.4797,  1.0005,  1.1087,  0.3926, -0.2066, -1.2113,  1.9386,\n",
       "           1.3993, -0.9755,  1.7025, -0.7761]],\n",
       "\n",
       "        [[-1.3461,  0.2695,  1.8945, -0.6121, -0.2978, -1.0850,  0.7064,\n",
       "          -0.9863,  0.4294,  0.2877, -0.5674,  0.4279,  1.2122, -0.7997,\n",
       "          -0.0663,  0.5648,  0.6795,  2.3956,  1.5656,  1.2487, -0.6607,\n",
       "          -1.5019,  0.9436,  0.8223,  0.4249, -0.1521, -1.2430,  1.8390,\n",
       "           1.1422, -0.9871,  1.7299, -0.7324]],\n",
       "\n",
       "        [[-1.4192,  0.3270,  1.9175, -0.6878, -0.3346, -1.2295,  0.4884,\n",
       "          -0.9149,  0.5235,  0.3374, -0.5218,  0.3822,  1.2897, -0.7724,\n",
       "          -0.0253,  0.4496,  0.4012,  2.5000,  1.6191,  1.3427, -0.8281,\n",
       "          -1.4597,  0.9516,  1.0001,  0.4340, -2.2292, -1.1907,  1.8888,\n",
       "           1.2361, -0.9514,  1.8194, -0.6898]],\n",
       "\n",
       "        [[-1.5913,  0.4646,  1.7794, -0.7198, -0.2842, -1.1632,  0.5032,\n",
       "          -0.8936,  0.5591,  0.3811, -0.4995,  0.2414,  1.1048, -0.6401,\n",
       "           0.0998,  0.4451,  0.5372,  2.5497,  1.7274,  1.3144, -0.7622,\n",
       "          -1.4497,  1.0151,  1.1252,  0.4126, -0.1860, -1.1993,  1.9265,\n",
       "           1.3662, -0.9822,  1.6889, -0.7877]],\n",
       "\n",
       "        [[-1.3934,  0.2905,  1.9541, -0.6205, -0.2924, -1.0383,  0.6584,\n",
       "          -1.0087,  0.4563,  0.3053, -0.5953,  0.5121,  1.2300, -0.8375,\n",
       "          -0.1019,  0.5898,  0.5902,  2.4432,  1.5695,  1.3146, -0.7031,\n",
       "          -1.4667,  0.9891,  0.8501,  0.4846, -0.1584, -1.2284,  1.8500,\n",
       "           1.1619, -0.9945,  1.7509, -0.7125]]], device='cuda:0',\n",
       "       grad_fn=<AddBackward0>)"
      ]
     },
     "execution_count": 52,
     "metadata": {},
     "output_type": "execute_result"
    }
   ],
   "source": [
    "func(t, by0)"
   ]
  },
  {
   "cell_type": "code",
   "execution_count": 53,
   "id": "8272a3f5",
   "metadata": {
    "scrolled": true
   },
   "outputs": [
    {
     "name": "stdout",
     "output_type": "stream",
     "text": [
      "Iter 0005 | Total Loss 1.038526\n",
      "Iter 0010 | Total Loss 0.929425\n",
      "Iter 0015 | Total Loss 0.834712\n",
      "Iter 0020 | Total Loss 0.759686\n",
      "Iter 0025 | Total Loss 0.712697\n",
      "Iter 0030 | Total Loss 0.665449\n",
      "Iter 0035 | Total Loss 0.637338\n",
      "Iter 0040 | Total Loss 0.615118\n",
      "Iter 0045 | Total Loss 0.604113\n",
      "Iter 0050 | Total Loss 0.597580\n",
      "Iter 0055 | Total Loss 0.575757\n",
      "Iter 0060 | Total Loss 0.556193\n",
      "Iter 0065 | Total Loss 0.541696\n",
      "Iter 0070 | Total Loss 0.526669\n",
      "Iter 0075 | Total Loss 0.510173\n",
      "Iter 0080 | Total Loss 0.500533\n",
      "Iter 0085 | Total Loss 0.494325\n",
      "Iter 0090 | Total Loss 0.487374\n",
      "Iter 0095 | Total Loss 0.480799\n",
      "Iter 0100 | Total Loss 0.472304\n",
      "Iter 0105 | Total Loss 0.461217\n",
      "Iter 0110 | Total Loss 0.457962\n",
      "Iter 0115 | Total Loss 0.456147\n",
      "Iter 0120 | Total Loss 0.448360\n",
      "Iter 0125 | Total Loss 0.442764\n",
      "Iter 0130 | Total Loss 0.441005\n",
      "Iter 0135 | Total Loss 0.433349\n",
      "Iter 0140 | Total Loss 0.432639\n",
      "Iter 0145 | Total Loss 0.438958\n",
      "Iter 0150 | Total Loss 0.442645\n",
      "Iter 0155 | Total Loss 0.442643\n",
      "Iter 0160 | Total Loss 0.444704\n",
      "Iter 0165 | Total Loss 0.444783\n",
      "Iter 0170 | Total Loss 0.438855\n",
      "Iter 0175 | Total Loss 0.438372\n",
      "Iter 0180 | Total Loss 0.431066\n",
      "Iter 0185 | Total Loss 0.424725\n",
      "Iter 0190 | Total Loss 0.422657\n",
      "Iter 0195 | Total Loss 0.425534\n",
      "Iter 0200 | Total Loss 0.425882\n",
      "Iter 0205 | Total Loss 0.431708\n",
      "Iter 0210 | Total Loss 0.427338\n",
      "Iter 0215 | Total Loss 0.428295\n",
      "Iter 0220 | Total Loss 0.424012\n",
      "Iter 0225 | Total Loss 0.433357\n",
      "Iter 0230 | Total Loss 0.439942\n",
      "Iter 0235 | Total Loss 0.428012\n",
      "Iter 0240 | Total Loss 0.425403\n",
      "Iter 0245 | Total Loss 0.431863\n",
      "Iter 0250 | Total Loss 0.431557\n",
      "Iter 0255 | Total Loss 0.428006\n",
      "Iter 0260 | Total Loss 0.429702\n",
      "Iter 0265 | Total Loss 0.435759\n",
      "Iter 0270 | Total Loss 0.429772\n",
      "Iter 0275 | Total Loss 0.422610\n",
      "Iter 0280 | Total Loss 0.419616\n",
      "Iter 0285 | Total Loss 0.428232\n",
      "Iter 0290 | Total Loss 0.438249\n",
      "Iter 0295 | Total Loss 0.435335\n",
      "Iter 0300 | Total Loss 0.432892\n",
      "Iter 0305 | Total Loss 0.428747\n",
      "Iter 0310 | Total Loss 0.427253\n",
      "Iter 0315 | Total Loss 0.430106\n",
      "Iter 0320 | Total Loss 0.424714\n",
      "Iter 0325 | Total Loss 0.418136\n",
      "Iter 0330 | Total Loss 0.417462\n",
      "Iter 0335 | Total Loss 0.425784\n",
      "Iter 0340 | Total Loss 0.425241\n",
      "Iter 0345 | Total Loss 0.426911\n",
      "Iter 0350 | Total Loss 0.419942\n",
      "Iter 0355 | Total Loss 0.417521\n",
      "Iter 0360 | Total Loss 0.417879\n",
      "Iter 0365 | Total Loss 0.426723\n",
      "Iter 0370 | Total Loss 0.428555\n",
      "Iter 0375 | Total Loss 0.421913\n",
      "Iter 0380 | Total Loss 0.419343\n",
      "Iter 0385 | Total Loss 0.419936\n",
      "Iter 0390 | Total Loss 0.423491\n",
      "Iter 0395 | Total Loss 0.426954\n",
      "Iter 0400 | Total Loss 0.425114\n",
      "Iter 0405 | Total Loss 0.430024\n",
      "Iter 0410 | Total Loss 0.437343\n",
      "Iter 0415 | Total Loss 0.435300\n",
      "Iter 0420 | Total Loss 0.426988\n",
      "Iter 0425 | Total Loss 0.423330\n",
      "Iter 0430 | Total Loss 0.426650\n",
      "Iter 0435 | Total Loss 0.429852\n",
      "Iter 0440 | Total Loss 0.419850\n",
      "Iter 0445 | Total Loss 0.420565\n",
      "Iter 0450 | Total Loss 0.424932\n",
      "Iter 0455 | Total Loss 0.424744\n",
      "Iter 0460 | Total Loss 0.417099\n",
      "Iter 0465 | Total Loss 0.421216\n",
      "Iter 0470 | Total Loss 0.422260\n",
      "Iter 0475 | Total Loss 0.424381\n",
      "Iter 0480 | Total Loss 0.424415\n",
      "Iter 0485 | Total Loss 0.423482\n",
      "Iter 0490 | Total Loss 0.417064\n",
      "Iter 0495 | Total Loss 0.420104\n",
      "Iter 0500 | Total Loss 0.430828\n",
      "Iter 0505 | Total Loss 0.439707\n",
      "Iter 0510 | Total Loss 0.440610\n",
      "Iter 0515 | Total Loss 0.434839\n",
      "Iter 0520 | Total Loss 0.437056\n",
      "Iter 0525 | Total Loss 0.445833\n",
      "Iter 0530 | Total Loss 0.435056\n",
      "Iter 0535 | Total Loss 0.434829\n",
      "Iter 0540 | Total Loss 0.441384\n",
      "Iter 0545 | Total Loss 0.433556\n",
      "Iter 0550 | Total Loss 0.433439\n",
      "Iter 0555 | Total Loss 0.424110\n",
      "Iter 0560 | Total Loss 0.430730\n",
      "Iter 0565 | Total Loss 0.425065\n",
      "Iter 0570 | Total Loss 0.439347\n",
      "Iter 0575 | Total Loss 0.427716\n",
      "Iter 0580 | Total Loss 0.438301\n",
      "Iter 0585 | Total Loss 0.438884\n",
      "Iter 0590 | Total Loss 0.434251\n",
      "Iter 0595 | Total Loss 0.423566\n",
      "Iter 0600 | Total Loss 0.421793\n",
      "Iter 0605 | Total Loss 0.426977\n",
      "Iter 0610 | Total Loss 0.423088\n",
      "Iter 0615 | Total Loss 0.432416\n",
      "Iter 0620 | Total Loss 0.437135\n",
      "Iter 0625 | Total Loss 0.430996\n",
      "Iter 0630 | Total Loss 0.433757\n",
      "Iter 0635 | Total Loss 0.422833\n",
      "Iter 0640 | Total Loss 0.425635\n",
      "Iter 0645 | Total Loss 0.427634\n",
      "Iter 0650 | Total Loss 0.428962\n",
      "Iter 0655 | Total Loss 0.427587\n",
      "Iter 0660 | Total Loss 0.427981\n",
      "Iter 0665 | Total Loss 0.430130\n",
      "Iter 0670 | Total Loss 0.427980\n",
      "Iter 0675 | Total Loss 0.431770\n",
      "Iter 0680 | Total Loss 0.430133\n",
      "Iter 0685 | Total Loss 0.433031\n",
      "Iter 0690 | Total Loss 0.429234\n",
      "Iter 0695 | Total Loss 0.422808\n",
      "Iter 0700 | Total Loss 0.422421\n",
      "Iter 0705 | Total Loss 0.416061\n",
      "Iter 0710 | Total Loss 0.415445\n",
      "Iter 0715 | Total Loss 0.407629\n",
      "Iter 0720 | Total Loss 0.399574\n",
      "Iter 0725 | Total Loss 0.407421\n",
      "Iter 0730 | Total Loss 0.408569\n",
      "Iter 0735 | Total Loss 0.407955\n",
      "Iter 0740 | Total Loss 0.402040\n",
      "Iter 0745 | Total Loss 0.400750\n",
      "Iter 0750 | Total Loss 0.401099\n",
      "Iter 0755 | Total Loss 0.397338\n",
      "Iter 0760 | Total Loss 0.398997\n",
      "Iter 0765 | Total Loss 0.404415\n",
      "Iter 0770 | Total Loss 0.400395\n",
      "Iter 0775 | Total Loss 0.405792\n",
      "Iter 0780 | Total Loss 0.410623\n",
      "Iter 0785 | Total Loss 0.414062\n",
      "Iter 0790 | Total Loss 0.404484\n",
      "Iter 0795 | Total Loss 0.398476\n",
      "Iter 0800 | Total Loss 0.407743\n",
      "Iter 0805 | Total Loss 0.411076\n",
      "Iter 0810 | Total Loss 0.409013\n",
      "Iter 0815 | Total Loss 0.410193\n",
      "Iter 0820 | Total Loss 0.401235\n",
      "Iter 0825 | Total Loss 0.398269\n",
      "Iter 0830 | Total Loss 0.396308\n",
      "Iter 0835 | Total Loss 0.389961\n",
      "Iter 0840 | Total Loss 0.390965\n",
      "Iter 0845 | Total Loss 0.389993\n",
      "Iter 0850 | Total Loss 0.392659\n",
      "Iter 0855 | Total Loss 0.401315\n",
      "Iter 0860 | Total Loss 0.390303\n",
      "Iter 0865 | Total Loss 0.377682\n",
      "Iter 0870 | Total Loss 0.379801\n",
      "Iter 0875 | Total Loss 0.385921\n",
      "Iter 0880 | Total Loss 0.384186\n",
      "Iter 0885 | Total Loss 0.380090\n",
      "Iter 0890 | Total Loss 0.368355\n",
      "Iter 0895 | Total Loss 0.360911\n",
      "Iter 0900 | Total Loss 0.360944\n",
      "Iter 0905 | Total Loss 0.361863\n",
      "Iter 0910 | Total Loss 0.359577\n",
      "Iter 0915 | Total Loss 0.360317\n",
      "Iter 0920 | Total Loss 0.367744\n",
      "Iter 0925 | Total Loss 0.367974\n",
      "Iter 0930 | Total Loss 0.361754\n",
      "Iter 0935 | Total Loss 0.361043\n",
      "Iter 0940 | Total Loss 0.361167\n",
      "Iter 0945 | Total Loss 0.349588\n",
      "Iter 0950 | Total Loss 0.351705\n",
      "Iter 0955 | Total Loss 0.348091\n",
      "Iter 0960 | Total Loss 0.353241\n",
      "Iter 0965 | Total Loss 0.352604\n",
      "Iter 0970 | Total Loss 0.351902\n",
      "Iter 0975 | Total Loss 0.349487\n",
      "Iter 0980 | Total Loss 0.352697\n",
      "Iter 0985 | Total Loss 0.341910\n",
      "Iter 0990 | Total Loss 0.340091\n",
      "Iter 0995 | Total Loss 0.353386\n",
      "Iter 1000 | Total Loss 0.357066\n",
      "Iter 1005 | Total Loss 0.349617\n",
      "Iter 1010 | Total Loss 0.346632\n",
      "Iter 1015 | Total Loss 0.349133\n",
      "Iter 1020 | Total Loss 0.362167\n",
      "Iter 1025 | Total Loss 0.353383\n",
      "Iter 1030 | Total Loss 0.352731\n",
      "Iter 1035 | Total Loss 0.351199\n",
      "Iter 1040 | Total Loss 0.351085\n",
      "Iter 1045 | Total Loss 0.343494\n",
      "Iter 1050 | Total Loss 0.349104\n",
      "Iter 1055 | Total Loss 0.344312\n",
      "Iter 1060 | Total Loss 0.343195\n",
      "Iter 1065 | Total Loss 0.347452\n",
      "Iter 1070 | Total Loss 0.343282\n",
      "Iter 1075 | Total Loss 0.331252\n",
      "Iter 1080 | Total Loss 0.331385\n",
      "Iter 1085 | Total Loss 0.335967\n",
      "Iter 1090 | Total Loss 0.329200\n",
      "Iter 1095 | Total Loss 0.330377\n",
      "Iter 1100 | Total Loss 0.330250\n",
      "Iter 1105 | Total Loss 0.327085\n",
      "Iter 1110 | Total Loss 0.331749\n",
      "Iter 1115 | Total Loss 0.329725\n",
      "Iter 1120 | Total Loss 0.319815\n",
      "Iter 1125 | Total Loss 0.319773\n",
      "Iter 1130 | Total Loss 0.323235\n",
      "Iter 1135 | Total Loss 0.315841\n",
      "Iter 1140 | Total Loss 0.311113\n",
      "Iter 1145 | Total Loss 0.313449\n",
      "Iter 1150 | Total Loss 0.309360\n",
      "Iter 1155 | Total Loss 0.315749\n",
      "Iter 1160 | Total Loss 0.309056\n",
      "Iter 1165 | Total Loss 0.309293\n",
      "Iter 1170 | Total Loss 0.308979\n",
      "Iter 1175 | Total Loss 0.305461\n",
      "Iter 1180 | Total Loss 0.294751\n",
      "Iter 1185 | Total Loss 0.296510\n",
      "Iter 1190 | Total Loss 0.299471\n",
      "Iter 1195 | Total Loss 0.294928\n",
      "Iter 1200 | Total Loss 0.290404\n",
      "Iter 1205 | Total Loss 0.288884\n",
      "Iter 1210 | Total Loss 0.285189\n",
      "Iter 1215 | Total Loss 0.290286\n",
      "Iter 1220 | Total Loss 0.291169\n",
      "Iter 1225 | Total Loss 0.284185\n",
      "Iter 1230 | Total Loss 0.281987\n",
      "Iter 1235 | Total Loss 0.277778\n",
      "Iter 1240 | Total Loss 0.268816\n",
      "Iter 1245 | Total Loss 0.282359\n",
      "Iter 1250 | Total Loss 0.293642\n",
      "Iter 1255 | Total Loss 0.286093\n",
      "Iter 1260 | Total Loss 0.285846\n",
      "Iter 1265 | Total Loss 0.286403\n",
      "Iter 1270 | Total Loss 0.280276\n",
      "Iter 1275 | Total Loss 0.270218\n",
      "Iter 1280 | Total Loss 0.265267\n",
      "Iter 1285 | Total Loss 0.264758\n"
     ]
    },
    {
     "name": "stdout",
     "output_type": "stream",
     "text": [
      "Iter 1290 | Total Loss 0.265913\n",
      "Iter 1295 | Total Loss 0.257823\n",
      "Iter 1300 | Total Loss 0.264189\n",
      "Iter 1305 | Total Loss 0.264906\n",
      "Iter 1310 | Total Loss 0.268879\n",
      "Iter 1315 | Total Loss 0.266559\n",
      "Iter 1320 | Total Loss 0.262818\n",
      "Iter 1325 | Total Loss 0.272701\n",
      "Iter 1330 | Total Loss 0.267377\n",
      "Iter 1335 | Total Loss 0.258130\n",
      "Iter 1340 | Total Loss 0.248394\n",
      "Iter 1345 | Total Loss 0.248768\n",
      "Iter 1350 | Total Loss 0.255110\n",
      "Iter 1355 | Total Loss 0.255399\n",
      "Iter 1360 | Total Loss 0.253492\n",
      "Iter 1365 | Total Loss 0.247903\n",
      "Iter 1370 | Total Loss 0.247851\n",
      "Iter 1375 | Total Loss 0.241472\n",
      "Iter 1380 | Total Loss 0.240135\n",
      "Iter 1385 | Total Loss 0.251108\n",
      "Iter 1390 | Total Loss 0.253536\n",
      "Iter 1395 | Total Loss 0.242185\n",
      "Iter 1400 | Total Loss 0.240848\n",
      "Iter 1405 | Total Loss 0.245911\n",
      "Iter 1410 | Total Loss 0.239353\n",
      "Iter 1415 | Total Loss 0.235650\n",
      "Iter 1420 | Total Loss 0.242285\n",
      "Iter 1425 | Total Loss 0.241109\n",
      "Iter 1430 | Total Loss 0.240214\n",
      "Iter 1435 | Total Loss 0.236744\n",
      "Iter 1440 | Total Loss 0.231975\n",
      "Iter 1445 | Total Loss 0.226483\n",
      "Iter 1450 | Total Loss 0.226526\n",
      "Iter 1455 | Total Loss 0.219165\n",
      "Iter 1460 | Total Loss 0.217753\n",
      "Iter 1465 | Total Loss 0.215962\n",
      "Iter 1470 | Total Loss 0.217391\n",
      "Iter 1475 | Total Loss 0.223048\n",
      "Iter 1480 | Total Loss 0.220754\n",
      "Iter 1485 | Total Loss 0.216768\n",
      "Iter 1490 | Total Loss 0.215357\n",
      "Iter 1495 | Total Loss 0.214496\n",
      "Iter 1500 | Total Loss 0.214074\n",
      "Iter 1505 | Total Loss 0.209547\n",
      "Iter 1510 | Total Loss 0.207119\n",
      "Iter 1515 | Total Loss 0.208458\n",
      "Iter 1520 | Total Loss 0.211716\n",
      "Iter 1525 | Total Loss 0.211063\n",
      "Iter 1530 | Total Loss 0.215203\n",
      "Iter 1535 | Total Loss 0.218296\n",
      "Iter 1540 | Total Loss 0.205453\n",
      "Iter 1545 | Total Loss 0.195998\n",
      "Iter 1550 | Total Loss 0.208511\n",
      "Iter 1555 | Total Loss 0.197082\n",
      "Iter 1560 | Total Loss 0.197783\n",
      "Iter 1565 | Total Loss 0.203561\n",
      "Iter 1570 | Total Loss 0.199677\n",
      "Iter 1575 | Total Loss 0.194360\n",
      "Iter 1580 | Total Loss 0.195794\n",
      "Iter 1585 | Total Loss 0.191599\n",
      "Iter 1590 | Total Loss 0.199269\n",
      "Iter 1595 | Total Loss 0.196254\n",
      "Iter 1600 | Total Loss 0.185262\n",
      "Iter 1605 | Total Loss 0.197196\n",
      "Iter 1610 | Total Loss 0.190224\n",
      "Iter 1615 | Total Loss 0.185715\n",
      "Iter 1620 | Total Loss 0.195650\n",
      "Iter 1625 | Total Loss 0.192412\n",
      "Iter 1630 | Total Loss 0.189468\n",
      "Iter 1635 | Total Loss 0.185015\n",
      "Iter 1640 | Total Loss 0.184839\n",
      "Iter 1645 | Total Loss 0.176635\n",
      "Iter 1650 | Total Loss 0.178348\n",
      "Iter 1655 | Total Loss 0.172738\n",
      "Iter 1660 | Total Loss 0.170066\n",
      "Iter 1665 | Total Loss 0.177651\n",
      "Iter 1670 | Total Loss 0.163291\n",
      "Iter 1675 | Total Loss 0.161356\n",
      "Iter 1680 | Total Loss 0.161091\n",
      "Iter 1685 | Total Loss 0.161494\n",
      "Iter 1690 | Total Loss 0.165737\n",
      "Iter 1695 | Total Loss 0.159201\n",
      "Iter 1700 | Total Loss 0.161957\n",
      "Iter 1705 | Total Loss 0.159804\n",
      "Iter 1710 | Total Loss 0.155337\n",
      "Iter 1715 | Total Loss 0.157355\n",
      "Iter 1720 | Total Loss 0.154807\n",
      "Iter 1725 | Total Loss 0.156684\n",
      "Iter 1730 | Total Loss 0.163639\n",
      "Iter 1735 | Total Loss 0.156135\n",
      "Iter 1740 | Total Loss 0.152125\n",
      "Iter 1745 | Total Loss 0.156498\n",
      "Iter 1750 | Total Loss 0.157067\n",
      "Iter 1755 | Total Loss 0.159012\n",
      "Iter 1760 | Total Loss 0.155069\n",
      "Iter 1765 | Total Loss 0.151468\n",
      "Iter 1770 | Total Loss 0.143516\n",
      "Iter 1775 | Total Loss 0.147014\n",
      "Iter 1780 | Total Loss 0.156465\n",
      "Iter 1785 | Total Loss 0.148752\n",
      "Iter 1790 | Total Loss 0.143232\n",
      "Iter 1795 | Total Loss 0.140335\n",
      "Iter 1800 | Total Loss 0.144206\n",
      "Iter 1805 | Total Loss 0.143169\n",
      "Iter 1810 | Total Loss 0.138235\n",
      "Iter 1815 | Total Loss 0.140903\n",
      "Iter 1820 | Total Loss 0.139427\n",
      "Iter 1825 | Total Loss 0.161256\n",
      "Iter 1830 | Total Loss 0.151415\n",
      "Iter 1835 | Total Loss 0.137871\n",
      "Iter 1840 | Total Loss 0.144881\n",
      "Iter 1845 | Total Loss 0.147116\n",
      "Iter 1850 | Total Loss 0.149081\n",
      "Iter 1855 | Total Loss 0.141186\n",
      "Iter 1860 | Total Loss 0.144877\n",
      "Iter 1865 | Total Loss 0.146549\n",
      "Iter 1870 | Total Loss 0.147602\n",
      "Iter 1875 | Total Loss 0.140775\n",
      "Iter 1880 | Total Loss 0.147886\n",
      "Iter 1885 | Total Loss 0.143581\n",
      "Iter 1890 | Total Loss 0.150114\n",
      "Iter 1895 | Total Loss 0.152078\n",
      "Iter 1900 | Total Loss 0.146801\n",
      "Iter 1905 | Total Loss 0.142087\n",
      "Iter 1910 | Total Loss 0.152182\n",
      "Iter 1915 | Total Loss 0.139740\n",
      "Iter 1920 | Total Loss 0.146460\n",
      "Iter 1925 | Total Loss 0.140301\n",
      "Iter 1930 | Total Loss 0.140705\n",
      "Iter 1935 | Total Loss 0.142125\n",
      "Iter 1940 | Total Loss 0.141309\n",
      "Iter 1945 | Total Loss 0.144334\n",
      "Iter 1950 | Total Loss 0.138790\n",
      "Iter 1955 | Total Loss 0.135821\n",
      "Iter 1960 | Total Loss 0.133765\n",
      "Iter 1965 | Total Loss 0.146550\n",
      "Iter 1970 | Total Loss 0.140031\n",
      "Iter 1975 | Total Loss 0.137811\n",
      "Iter 1980 | Total Loss 0.129972\n",
      "Iter 1985 | Total Loss 0.136889\n",
      "Iter 1990 | Total Loss 0.135523\n",
      "Iter 1995 | Total Loss 0.130221\n",
      "Iter 2000 | Total Loss 0.127654\n"
     ]
    }
   ],
   "source": [
    "time_meter = RunningAverageMeter(0.97)\n",
    "loss_meter = RunningAverageMeter(0.97)\n",
    "\n",
    "for itr in range(1, niters + 1):\n",
    "    optimizer.zero_grad()\n",
    "    batch_y0, batch_t, batch_y = get_batch()\n",
    "    pred_y = odeint(func, batch_y0, batch_t).to(device)\n",
    "    loss = torch.mean(torch.abs(pred_y - batch_y))\n",
    "    loss.backward()\n",
    "    optimizer.step()\n",
    "\n",
    "    time_meter.update(time.time() - end)\n",
    "    loss_meter.update(loss.item())\n",
    "\n",
    "    if itr % test_freq == 0:\n",
    "        with torch.no_grad():\n",
    "            pred_y = odeint(func, true_y0, t)\n",
    "            loss = torch.mean(torch.abs(pred_y - true_y))\n",
    "            print('Iter {:04d} | Total Loss {:.6f}'.format(itr, loss.item()))\n",
    "#             visualize(true_y, pred_y, func, ii)\n",
    "            ii += 1\n",
    "\n",
    "    end = time.time()"
   ]
  },
  {
   "cell_type": "markdown",
   "id": "21de58bf",
   "metadata": {},
   "source": [
    "**good point**: is it even a good idea to train two nets simultaneously by just taking naive sum of predictions and plugging into loss? see responses on: https://stackoverflow.com/questions/67872719/is-it-possible-to-combine-2-neural-networks"
   ]
  },
  {
   "cell_type": "markdown",
   "id": "4a798a38",
   "metadata": {},
   "source": [
    "Effectively, we have two things to check over here:\n",
    "\n",
    "1. What is the error within the training set, if we provide initial condition y0?\n",
    "\n",
    "2. What is the error on the held out part of the data with the same IC?\n",
    "\n",
    "We could just plot the 2D images and check this qualitatively / with RMSE, with the caveat that RMSE is not really the metric we want to be optimizing for. Also is evaluating error between reduced _as opposed to_ full state appropriate?"
   ]
  },
  {
   "cell_type": "markdown",
   "id": "966d2249",
   "metadata": {},
   "source": [
    "If we tried everything with train times in first sim  i.e. `true_y` was derived from reduced states constructed off `X_train_ttrain[:, :, 0]` then `X_train_ttrain[:, :, 0]` is basically decoded shape for the `true_y`."
   ]
  },
  {
   "cell_type": "markdown",
   "id": "02c13192",
   "metadata": {},
   "source": [
    "Predicted `y` i.e. `pred_y` needs to be decoded."
   ]
  },
  {
   "cell_type": "code",
   "execution_count": 54,
   "id": "601fcc0a",
   "metadata": {},
   "outputs": [],
   "source": [
    "with torch.no_grad():\n",
    "    pred_y = odeint(func, true_y0, t)"
   ]
  },
  {
   "cell_type": "code",
   "execution_count": 55,
   "id": "6b0e9253",
   "metadata": {},
   "outputs": [
    {
     "data": {
      "text/plain": [
       "torch.Size([41, 1, 32])"
      ]
     },
     "execution_count": 55,
     "metadata": {},
     "output_type": "execute_result"
    }
   ],
   "source": [
    "pred_y.shape"
   ]
  },
  {
   "cell_type": "code",
   "execution_count": 56,
   "id": "cfeb4d6b",
   "metadata": {},
   "outputs": [],
   "source": [
    "pred_y_np = pred_y.cpu().numpy()[:, 0, :].T"
   ]
  },
  {
   "cell_type": "code",
   "execution_count": 57,
   "id": "5da1d341",
   "metadata": {},
   "outputs": [],
   "source": [
    "pred_y_decoded = basis_1.decode(pred_y_np)"
   ]
  },
  {
   "cell_type": "code",
   "execution_count": 58,
   "id": "18eb53f8",
   "metadata": {},
   "outputs": [],
   "source": [
    "true_y_decoded = X_train_ttrain[:, :, 0]"
   ]
  },
  {
   "cell_type": "code",
   "execution_count": 59,
   "id": "c46d401a",
   "metadata": {},
   "outputs": [
    {
     "data": {
      "text/plain": [
       "(16384, 41)"
      ]
     },
     "execution_count": 59,
     "metadata": {},
     "output_type": "execute_result"
    }
   ],
   "source": [
    "pred_y_decoded.shape"
   ]
  },
  {
   "cell_type": "markdown",
   "id": "b6e89ca2",
   "metadata": {},
   "source": [
    "visualization for if we are able to replicate training properly."
   ]
  },
  {
   "cell_type": "code",
   "execution_count": 60,
   "id": "95ee5322",
   "metadata": {},
   "outputs": [
    {
     "data": {
      "text/plain": [
       "16384"
      ]
     },
     "execution_count": 60,
     "metadata": {},
     "output_type": "execute_result"
    }
   ],
   "source": [
    "64 * 256"
   ]
  },
  {
   "cell_type": "code",
   "execution_count": 61,
   "id": "8b27796d",
   "metadata": {},
   "outputs": [
    {
     "data": {
      "text/plain": [
       "<matplotlib.colorbar.Colorbar at 0x7fccd19d7940>"
      ]
     },
     "execution_count": 61,
     "metadata": {},
     "output_type": "execute_result"
    },
    {
     "data": {
      "image/png": "[encoded data removed]",
      "text/plain": [
       "<Figure size 3000x1800 with 4 Axes>"
      ]
     },
     "metadata": {},
     "output_type": "display_data"
    }
   ],
   "source": [
    "# def visualize():\n",
    "fig, ax = plt.subplots(1, 2, figsize=(10, 6))\n",
    "axs = ax.ravel()\n",
    "im0 = axs[0].imshow(true_y_decoded[:, 40].reshape(64, 256),\n",
    "            origin=\"lower\",\n",
    "            cmap=lc3_reg)\n",
    "axs[0].set_title(\"True\")\n",
    "fig.colorbar(im0, fraction=0.046 * 1/3, pad=0.04)\n",
    "\n",
    "im1 = axs[1].imshow(pred_y_decoded[:, 40].reshape(64, 256),\n",
    "                   origin=\"lower\",\n",
    "                   cmap=lc3_reg)\n",
    "axs[1].set_title(\"Predicted\")\n",
    "fig.colorbar(im1, fraction=0.046 * 1/3, pad=0.04)"
   ]
  },
  {
   "cell_type": "markdown",
   "id": "ad557d2a",
   "metadata": {},
   "source": [
    "by comparison to notebook 1?\n",
    "\n"
   ]
  },
  {
   "cell_type": "markdown",
   "id": "e4bbdd6f",
   "metadata": {},
   "source": [
    "testing times comparison to notebook 1?"
   ]
  },
  {
   "cell_type": "code",
   "execution_count": 62,
   "id": "ef097b53",
   "metadata": {},
   "outputs": [],
   "source": [
    "t_full = torch.tensor(np.float32(t_vec)).to(device)"
   ]
  },
  {
   "cell_type": "code",
   "execution_count": 63,
   "id": "45eb73ee",
   "metadata": {},
   "outputs": [],
   "source": [
    "with torch.no_grad():\n",
    "    pred_y_train_sim_fullt = odeint(func, true_y0, t_full)"
   ]
  },
  {
   "cell_type": "code",
   "execution_count": 64,
   "id": "f4789c97",
   "metadata": {},
   "outputs": [],
   "source": [
    "pred_y_train_sim_fullt_decoded = basis_1.decode(pred_y_train_sim_fullt.cpu().numpy()[:, 0, :].T)"
   ]
  },
  {
   "cell_type": "code",
   "execution_count": 65,
   "id": "fc8dff7a",
   "metadata": {},
   "outputs": [
    {
     "data": {
      "text/plain": [
       "(16384, 71)"
      ]
     },
     "execution_count": 65,
     "metadata": {},
     "output_type": "execute_result"
    }
   ],
   "source": [
    "pred_y_train_sim_fullt_decoded.shape"
   ]
  },
  {
   "cell_type": "code",
   "execution_count": 66,
   "id": "64c0be90",
   "metadata": {},
   "outputs": [
    {
     "data": {
      "text/plain": [
       "(16384, 71)"
      ]
     },
     "execution_count": 66,
     "metadata": {},
     "output_type": "execute_result"
    }
   ],
   "source": [
    "true_y_decoded_fullt = X[:, :, 0]\n",
    "true_y_decoded_fullt.shape"
   ]
  },
  {
   "cell_type": "code",
   "execution_count": 67,
   "id": "880fb602",
   "metadata": {},
   "outputs": [
    {
     "data": {
      "text/plain": [
       "<matplotlib.colorbar.Colorbar at 0x7fcccc2a7be0>"
      ]
     },
     "execution_count": 67,
     "metadata": {},
     "output_type": "execute_result"
    },
    {
     "data": {
      "image/png": "[encoded data removed]",
      "text/plain": [
       "<Figure size 3000x1800 with 4 Axes>"
      ]
     },
     "metadata": {},
     "output_type": "display_data"
    }
   ],
   "source": [
    "fig, ax = plt.subplots(1, 2, figsize=(10, 6))\n",
    "axs = ax.ravel()\n",
    "im0 = axs[0].imshow(true_y_decoded_fullt[:, 70].reshape(64, 256),\n",
    "            origin=\"lower\",\n",
    "            cmap=lc3_reg)\n",
    "axs[0].set_title(\"True\")\n",
    "fig.colorbar(im0, fraction=0.046 * 1/3, pad=0.04)\n",
    "\n",
    "im1 = axs[1].imshow(pred_y_train_sim_fullt_decoded[:, 70].reshape(64, 256),\n",
    "                   origin=\"lower\",\n",
    "                   cmap=lc3_reg)\n",
    "axs[1].set_title(\"Predicted\")\n",
    "fig.colorbar(im1, fraction=0.046 * 1/3, pad=0.04)"
   ]
  },
  {
   "cell_type": "markdown",
   "id": "bce7dec4",
   "metadata": {},
   "source": [
    "Try the same example but with prior learnt OpInf model."
   ]
  },
  {
   "cell_type": "markdown",
   "id": "0efea4b0",
   "metadata": {},
   "source": [
    "#### Scratch Start"
   ]
  },
  {
   "cell_type": "code",
   "execution_count": null,
   "id": "6477336c",
   "metadata": {},
   "outputs": [],
   "source": [
    "32 * (32 + 1) / 2"
   ]
  },
  {
   "cell_type": "code",
   "execution_count": null,
   "id": "97d0322b",
   "metadata": {},
   "outputs": [],
   "source": [
    "np.outer([1, 2, 3, 4], [2, 3, 4, 5])"
   ]
  },
  {
   "cell_type": "code",
   "execution_count": null,
   "id": "d4cb290d",
   "metadata": {},
   "outputs": [],
   "source": [
    "np.tril_indices(4)"
   ]
  },
  {
   "cell_type": "code",
   "execution_count": null,
   "id": "cf73abf8",
   "metadata": {},
   "outputs": [],
   "source": [
    "v_out_flat = np.outer([1, 2, 3, 4], [2, 3, 4, 5])[np.tril_indices(4)]\n",
    "v_out_flat"
   ]
  },
  {
   "cell_type": "code",
   "execution_count": null,
   "id": "ea33c9e5",
   "metadata": {},
   "outputs": [],
   "source": [
    "torch.tensor(v_out_flat)"
   ]
  },
  {
   "cell_type": "code",
   "execution_count": null,
   "id": "6089a3da",
   "metadata": {},
   "outputs": [],
   "source": []
  },
  {
   "cell_type": "code",
   "execution_count": null,
   "id": "1b7f271b",
   "metadata": {},
   "outputs": [],
   "source": [
    "vquad_t = torch.from_numpy(np.float32(v_out_flat)).reshape((1, len(v_out_flat))).to(device)"
   ]
  },
  {
   "cell_type": "code",
   "execution_count": null,
   "id": "292f15c4",
   "metadata": {},
   "outputs": [],
   "source": [
    "v_np = vquad_t.cpu().numpy().flatten()"
   ]
  },
  {
   "cell_type": "code",
   "execution_count": null,
   "id": "c1ec9c1a",
   "metadata": {},
   "outputs": [],
   "source": [
    "v_np"
   ]
  },
  {
   "cell_type": "code",
   "execution_count": null,
   "id": "b4b5609d",
   "metadata": {},
   "outputs": [],
   "source": [
    "# test bed for getting quadratic term in neural net implemented\n",
    "aaa = np.array([[[1, 2, 3]],\n",
    "               [[10, 11, 12]]\n",
    "               ])\n",
    "aaa\n",
    "\n",
    "\n",
    "aaa[0, :, :]\n",
    "\n",
    "\n",
    "sq = np.squeeze(aaa, axis=1)\n",
    "\n",
    "def qy3(y):\n",
    "    y_np = np.squeeze(y, axis=1)\n",
    "    y_np_quad = np.zeros((y_np.shape[0], int(y_np.shape[1] * (y_np.shape[1] + 1)/2)))\n",
    "    for i in range(y_np.shape[0]):\n",
    "        y_np_quad[i, :] = np.outer(y_np[i, :], y_np[i, :])[np.tril_indices(y_np.shape[1])]\n",
    "\n",
    "    y_t_quad = torch.from_numpy(np.expand_dims(np.float32(y_np_quad), axis=1)).to(device)\n",
    "\n",
    "    return y_t_quad\n",
    "\n",
    "qy3(aaa)\n",
    "\n",
    "aaat = qy3(aaa)\n",
    "aaat.shape"
   ]
  },
  {
   "cell_type": "markdown",
   "id": "a7cb1735",
   "metadata": {},
   "source": [
    "#### Scratch End"
   ]
  }
 ],
 "metadata": {
  "kernelspec": {
   "display_name": "Python 3 (ipykernel)",
   "language": "python",
   "name": "python3"
  },
  "language_info": {
   "codemirror_mode": {
    "name": "ipython",
    "version": 3
   },
   "file_extension": ".py",
   "mimetype": "text/x-python",
   "name": "python",
   "nbconvert_exporter": "python",
   "pygments_lexer": "ipython3",
   "version": "3.10.10"
  }
 },
 "nbformat": 4,
 "nbformat_minor": 5
}
