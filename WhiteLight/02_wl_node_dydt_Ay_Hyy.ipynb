{
 "cells": [
  {
   "cell_type": "markdown",
   "id": "8feef7eb",
   "metadata": {},
   "source": [
    "Carrying the same basic concept as notebook 1.\n",
    "\n",
    "\n",
    "the idea in this notebook involves no prior model, just trying to put a feedforward neural network with reduced state model instead of OpInf. \n",
    "More advanced version will not flatten anything and use convolutions.\n",
    "\n",
    "instead of linear RHS we also put quadratic term."
   ]
  },
  {
   "cell_type": "code",
   "execution_count": 1,
   "id": "b8cf90d6",
   "metadata": {},
   "outputs": [
    {
     "data": {
      "text/plain": [
       "'/home/ajivani/WLROM/WhiteLight'"
      ]
     },
     "execution_count": 1,
     "metadata": {},
     "output_type": "execute_result"
    }
   ],
   "source": [
    "import os\n",
    "import opinf\n",
    "import scipy.signal\n",
    "# import cv2\n",
    "os.getcwd()"
   ]
  },
  {
   "cell_type": "code",
   "execution_count": 2,
   "id": "407c576b",
   "metadata": {},
   "outputs": [],
   "source": [
    "import numpy as np\n",
    "from numpy import ogrid\n",
    "import pandas as pd\n",
    "import scipy.linalg as la\n",
    "import scipy.sparse as sparse\n",
    "import matplotlib.pyplot as plt\n",
    "\n",
    "import opinf as op"
   ]
  },
  {
   "cell_type": "code",
   "execution_count": 3,
   "id": "bb5bd971",
   "metadata": {},
   "outputs": [],
   "source": [
    "import time"
   ]
  },
  {
   "cell_type": "code",
   "execution_count": 4,
   "id": "85cbf827",
   "metadata": {},
   "outputs": [],
   "source": [
    "from sunpy.visualization import colormaps as cm"
   ]
  },
  {
   "cell_type": "code",
   "execution_count": 5,
   "id": "b4df4060",
   "metadata": {},
   "outputs": [],
   "source": [
    "import torch\n",
    "import torch.nn as nn\n",
    "import torch.optim as optim"
   ]
  },
  {
   "cell_type": "code",
   "execution_count": 6,
   "id": "9e08df6c",
   "metadata": {},
   "outputs": [],
   "source": [
    "adjoint=True"
   ]
  },
  {
   "cell_type": "code",
   "execution_count": 7,
   "id": "da32ee68",
   "metadata": {},
   "outputs": [],
   "source": [
    "if adjoint:\n",
    "    from torchdiffeq import odeint_adjoint as odeint\n",
    "else:\n",
    "    from torchdiffeq import odeint"
   ]
  },
  {
   "cell_type": "code",
   "execution_count": 8,
   "id": "636140a3",
   "metadata": {},
   "outputs": [],
   "source": [
    "device = torch.device('cuda:0' if torch.cuda.is_available() else 'cpu')"
   ]
  },
  {
   "cell_type": "code",
   "execution_count": 9,
   "id": "14aa9a28",
   "metadata": {},
   "outputs": [
    {
     "data": {
      "image/png": "[encoded data removed]",
      "text/html": [
       "<div style=\"vertical-align: middle;\"><strong>SOHO LASCO C3_r</strong> </div><div class=\"cmap\"><img alt=\"SOHO LASCO C3_r colormap\" title=\"SOHO LASCO C3_r\" style=\"border: 1px solid #555;\" src=\"data:image/png;base64,iVBORw0KGgoAAAANSUhEUgAAAgAAAABACAYAAABsv8+/AAAAHnRFWHRUaXRsZQBTT0hPIExBU0NPIEMzX3IgY29sb3JtYXDMCW5EAAAAJHRFWHREZXNjcmlwdGlvbgBTT0hPIExBU0NPIEMzX3IgY29sb3JtYXAGtYcrAAAAMHRFWHRBdXRob3IATWF0cGxvdGxpYiB2My43LjEsIGh0dHBzOi8vbWF0cGxvdGxpYi5vcmcqr/hNAAAAMnRFWHRTb2Z0d2FyZQBNYXRwbG90bGliIHYzLjcuMSwgaHR0cHM6Ly9tYXRwbG90bGliLm9yZwQJZ2oAAAHFSURBVHic7dZBbsIwFEDB397/zKSLQisR3DQtEos3s0EksWNjCb23bdu2mZnL58dcv+6+L6/P7fo8dfzq+VePX847/xt/ff35c5jb9T+Ov3v/dnn8/P3n7J57vP/VfLO7vxi/mGd2z51b/3a5n+fc+vf7OFj/4T7mx+eOz+Hg/UfncPL3++/5v3r9vz7/68Eu1z8/3z+aZ+Z371nN8z3+3Lpv99fjD9b99b/xx3Xv/r/OrfvV+z9/fs/d/3r8uXW/DwCQIwAAIEgAAECQAACAIAEAAEECAACCBAAABAkAAAgSAAAQJAAAIEgAAECQAACAIAEAAEECAACCBAAABAkAAAgSAAAQJAAAIEgAAECQAACAIAEAAEECAACCBAAABAkAAAgSAAAQJAAAIEgAAECQAACAIAEAAEECAACCBAAABAkAAAgSAAAQJAAAIEgAAECQAACAIAEAAEECAACCBAAABAkAAAgSAAAQJAAAIEgAAECQAACAIAEAAEECAACCBAAABAkAAAgSAAAQJAAAIEgAAECQAACAIAEAAEECAACCBAAABAkAAAgSAAAQJAAAIEgAAECQAACAIAEAAEECAACCBAAABH0A+Gm+nfb+AtsAAAAASUVORK5CYII=\"></div><div style=\"vertical-align: middle; max-width: 514px; display: flex; justify-content: space-between;\"><div style=\"float: left;\"><div title=\"#ffffffff\" style=\"display: inline-block; width: 1em; height: 1em; margin: 0; vertical-align: middle; border: 1px solid #555; background-color: #ffffffff;\"></div> under</div><div style=\"margin: 0 auto; display: inline-block;\">bad <div title=\"#00000000\" style=\"display: inline-block; width: 1em; height: 1em; margin: 0; vertical-align: middle; border: 1px solid #555; background-color: #00000000;\"></div></div><div style=\"float: right;\">over <div title=\"#000000ff\" style=\"display: inline-block; width: 1em; height: 1em; margin: 0; vertical-align: middle; border: 1px solid #555; background-color: #000000ff;\"></div></div>"
      ],
      "text/plain": [
       "<matplotlib.colors.LinearSegmentedColormap at 0x7f8d0774f430>"
      ]
     },
     "execution_count": 9,
     "metadata": {},
     "output_type": "execute_result"
    }
   ],
   "source": [
    "lc3 = cm.cmlist['soholasco3'].reversed()\n",
    "lc3"
   ]
  },
  {
   "cell_type": "code",
   "execution_count": 10,
   "id": "5cae42ee",
   "metadata": {},
   "outputs": [
    {
     "data": {
      "image/png": "[encoded data removed]",
      "text/html": [
       "<div style=\"vertical-align: middle;\"><strong>SOHO LASCO C3</strong> </div><div class=\"cmap\"><img alt=\"SOHO LASCO C3 colormap\" title=\"SOHO LASCO C3\" style=\"border: 1px solid #555;\" src=\"data:image/png;base64,iVBORw0KGgoAAAANSUhEUgAAAgAAAABACAYAAABsv8+/AAAAHHRFWHRUaXRsZQBTT0hPIExBU0NPIEMzIGNvbG9ybWFwEdDmtAAAACJ0RVh0RGVzY3JpcHRpb24AU09ITyBMQVNDTyBDMyBjb2xvcm1hcIyACPEAAAAwdEVYdEF1dGhvcgBNYXRwbG90bGliIHYzLjcuMSwgaHR0cHM6Ly9tYXRwbG90bGliLm9yZyqv+E0AAAAydEVYdFNvZnR3YXJlAE1hdHBsb3RsaWIgdjMuNy4xLCBodHRwczovL21hdHBsb3RsaWIub3JnBAlnagAAAaBJREFUeJzt1sFOwkAUQNFH//+fdWHVgE4KUSR4z1nQUPqmUwjJPc3My8zMzOnt9bQ6bt+f3+fm6LrV51/mb1xnOX/lOh/zN+774c//Pr892fNf+/vd+/nn7P1sR/vdj9tifnnd6jhn1y33v1znSfa/XG9x/6uf42D//+X7u/f+9//ftrj+8vx2ef8/nv88/7vzx/t9zPx63Z/O78cBAHIEAAAECQAACBIAABAkAAAgSAAAQJAAAIAgAQAAQQIAAIIEAAAECQAACBIAABAkAAAgSAAAQJAAAIAgAQAAQQIAAIIEAAAECQAACBIAABAkAAAgSAAAQJAAAIAgAQAAQQIAAIIEAAAECQAACBIAABAkAAAgSAAAQJAAAIAgAQAAQQIAAIIEAAAECQAACBIAABAkAAAgSAAAQJAAAIAgAQAAQQIAAIIEAAAECQAACBIAABAkAAAgSAAAQJAAAIAgAQAAQQIAAIIEAAAECQAACBIAABAkAAAgSAAAQJAAAIAgAQAAQQIAAIIEAAAECQAACBIAABAkAAAgSAAAQJAAAICgV2erBHwDlf7mAAAAAElFTkSuQmCC\"></div><div style=\"vertical-align: middle; max-width: 514px; display: flex; justify-content: space-between;\"><div style=\"float: left;\"><div title=\"#000000ff\" style=\"display: inline-block; width: 1em; height: 1em; margin: 0; vertical-align: middle; border: 1px solid #555; background-color: #000000ff;\"></div> under</div><div style=\"margin: 0 auto; display: inline-block;\">bad <div title=\"#00000000\" style=\"display: inline-block; width: 1em; height: 1em; margin: 0; vertical-align: middle; border: 1px solid #555; background-color: #00000000;\"></div></div><div style=\"float: right;\">over <div title=\"#ffffffff\" style=\"display: inline-block; width: 1em; height: 1em; margin: 0; vertical-align: middle; border: 1px solid #555; background-color: #ffffffff;\"></div></div>"
      ],
      "text/plain": [
       "<matplotlib.colors.LinearSegmentedColormap at 0x7f8d0774da20>"
      ]
     },
     "execution_count": 10,
     "metadata": {},
     "output_type": "execute_result"
    }
   ],
   "source": [
    "lc3_reg = cm.cmlist['soholasco3']\n",
    "lc3_reg"
   ]
  },
  {
   "cell_type": "code",
   "execution_count": 11,
   "id": "d5453419",
   "metadata": {},
   "outputs": [],
   "source": [
    "plt.rc(\"axes.spines\", right=True, top=True)\n",
    "plt.rc(\"figure\", dpi=300,\n",
    "       # figsize=(9, 3)\n",
    "       )\n",
    "plt.rc(\"font\",\n",
    "       family=\"serif\",\n",
    "       size=10\n",
    "       )\n",
    "plt.rc(\"legend\", edgecolor=\"none\", frameon=True)\n",
    "plt.rc(\"text\", usetex=False)\n",
    "# plt.rc(\"text\", usetex=True)"
   ]
  },
  {
   "cell_type": "markdown",
   "id": "48cf5394",
   "metadata": {},
   "source": [
    "### Setup training and testing data"
   ]
  },
  {
   "cell_type": "code",
   "execution_count": 12,
   "id": "ed290b78",
   "metadata": {},
   "outputs": [],
   "source": [
    "m = 71"
   ]
  },
  {
   "cell_type": "code",
   "execution_count": null,
   "id": "e14f3987",
   "metadata": {
    "lines_to_next_cell": 0
   },
   "outputs": [],
   "source": []
  },
  {
   "cell_type": "code",
   "execution_count": 13,
   "id": "816e12c3",
   "metadata": {},
   "outputs": [
    {
     "data": {
      "text/plain": [
       "array([0.        , 0.03333333, 0.06666667, 0.1       , 0.13333333,\n",
       "       0.16666667, 0.2       , 0.23333333, 0.26666667, 0.3       ,\n",
       "       0.33333333, 0.36666667, 0.4       , 0.43333333, 0.46666667,\n",
       "       0.5       , 0.53333333, 0.56666667, 0.6       , 0.63333333,\n",
       "       0.66666667, 0.7       , 0.73333333, 0.76666667, 0.8       ,\n",
       "       0.83333333, 0.86666667, 0.9       , 0.93333333, 0.96666667,\n",
       "       1.        , 1.03333333, 1.06666667, 1.1       , 1.13333333,\n",
       "       1.16666667, 1.2       , 1.23333333, 1.26666667, 1.3       ,\n",
       "       1.33333333, 1.36666667, 1.4       , 1.43333333, 1.46666667,\n",
       "       1.5       , 1.53333333, 1.56666667, 1.6       , 1.63333333,\n",
       "       1.66666667, 1.7       , 1.73333333, 1.76666667, 1.8       ,\n",
       "       1.83333333, 1.86666667, 1.9       , 1.93333333, 1.96666667,\n",
       "       2.        , 2.03333333, 2.06666667, 2.1       , 2.13333333,\n",
       "       2.16666667, 2.2       , 2.23333333, 2.26666667, 2.3       ,\n",
       "       2.33333333])"
      ]
     },
     "execution_count": 13,
     "metadata": {},
     "output_type": "execute_result"
    }
   ],
   "source": [
    "t_vec = (np.linspace(40, 180, m) - 40) / 60\n",
    "t_vec"
   ]
  },
  {
   "cell_type": "code",
   "execution_count": null,
   "id": "adaa866a",
   "metadata": {
    "lines_to_next_cell": 0
   },
   "outputs": [],
   "source": []
  },
  {
   "cell_type": "code",
   "execution_count": 14,
   "id": "7030b200",
   "metadata": {},
   "outputs": [],
   "source": [
    "dt = t_vec[1] - t_vec[0]"
   ]
  },
  {
   "cell_type": "code",
   "execution_count": 15,
   "id": "ebc02e6e",
   "metadata": {},
   "outputs": [],
   "source": [
    "nTrainTime = np.argwhere(t_vec == (120 - 40) / 60)[0, 0]"
   ]
  },
  {
   "cell_type": "code",
   "execution_count": 16,
   "id": "05a44508",
   "metadata": {},
   "outputs": [
    {
     "data": {
      "text/plain": [
       "40"
      ]
     },
     "execution_count": 16,
     "metadata": {},
     "output_type": "execute_result"
    }
   ],
   "source": [
    "nTrainTime"
   ]
  },
  {
   "cell_type": "code",
   "execution_count": 17,
   "id": "153130e0",
   "metadata": {},
   "outputs": [],
   "source": [
    "nTrainTimeAll = np.argwhere(np.linspace(2, 180, 90) == 40)[0,0]"
   ]
  },
  {
   "cell_type": "code",
   "execution_count": null,
   "id": "63b9e377",
   "metadata": {
    "lines_to_next_cell": 0
   },
   "outputs": [],
   "source": []
  },
  {
   "cell_type": "code",
   "execution_count": 18,
   "id": "2bd4219d",
   "metadata": {},
   "outputs": [
    {
     "data": {
      "text/plain": [
       "120.0"
      ]
     },
     "execution_count": 18,
     "metadata": {},
     "output_type": "execute_result"
    }
   ],
   "source": [
    "t_train = t_vec[:(nTrainTime + 1)]\n",
    "t_train[-1] * 60 + 40"
   ]
  },
  {
   "cell_type": "code",
   "execution_count": 19,
   "id": "5ed018dc",
   "metadata": {},
   "outputs": [
    {
     "data": {
      "text/plain": [
       "array([1.36666667, 1.4       , 1.43333333, 1.46666667, 1.5       ,\n",
       "       1.53333333, 1.56666667, 1.6       , 1.63333333, 1.66666667,\n",
       "       1.7       , 1.73333333, 1.76666667, 1.8       , 1.83333333,\n",
       "       1.86666667, 1.9       , 1.93333333, 1.96666667, 2.        ,\n",
       "       2.03333333, 2.06666667, 2.1       , 2.13333333, 2.16666667,\n",
       "       2.2       , 2.23333333, 2.26666667, 2.3       , 2.33333333])"
      ]
     },
     "execution_count": 19,
     "metadata": {},
     "output_type": "execute_result"
    }
   ],
   "source": [
    "t_test = t_vec[(nTrainTime + 1):]\n",
    "t_test"
   ]
  },
  {
   "cell_type": "code",
   "execution_count": 20,
   "id": "6e183cfe",
   "metadata": {},
   "outputs": [],
   "source": [
    "X_orig = np.load(\"./CR2161_tDecay2h_Polar_Compressed.npy\")"
   ]
  },
  {
   "cell_type": "code",
   "execution_count": 21,
   "id": "37c2ea30",
   "metadata": {},
   "outputs": [],
   "source": [
    "X = X_orig.reshape((64 * 256, 90, 278))[:, (nTrainTimeAll):, :]"
   ]
  },
  {
   "cell_type": "code",
   "execution_count": 22,
   "id": "aef8e163",
   "metadata": {},
   "outputs": [
    {
     "data": {
      "text/plain": [
       "array([ 31,  32,  33,  34,  35,  36,  37,  38,  39,  40,  41,  42,  43,\n",
       "        44,  45,  46,  47,  48,  49,  50,  51,  52,  53,  54,  56,  57,\n",
       "        58,  59,  60,  61,  62,  63,  64,  65,  66,  67,  68,  69,  70,\n",
       "        71,  72,  73,  74,  75,  76,  77,  78,  79,  80,  81,  82,  83,\n",
       "        84,  85,  86,  87,  88,  89,  90,  91,  92,  93,  94,  95,  96,\n",
       "        97,  98,  99, 100, 101, 102, 103, 104, 105, 106, 107, 108, 110,\n",
       "       111, 112, 113, 114, 115, 118, 119, 120, 121, 122, 123, 124, 126,\n",
       "       127, 128, 129, 130, 131, 132, 133, 134, 135, 136, 138, 139, 140,\n",
       "       141, 142, 143, 144, 145, 146, 147, 148, 149, 150, 151, 152, 153,\n",
       "       154, 155, 156, 157, 158, 159, 160, 161, 162, 163, 164, 166, 168,\n",
       "       169, 171, 172, 173, 174, 175, 176, 177, 178, 179, 180, 181, 183,\n",
       "       184, 185, 186, 188, 190, 191, 192, 193, 194, 196, 197, 198, 199,\n",
       "       200, 201, 202, 203, 204, 205, 206, 208, 209, 210, 211, 212, 213,\n",
       "       214, 215, 216, 217, 218, 219, 220, 221, 222, 223, 224, 225, 226,\n",
       "       227, 228, 229, 230, 231, 232, 233, 234, 235, 236, 237, 238, 239,\n",
       "       240, 241, 242, 243, 244, 246, 247, 248, 249, 251, 252, 253, 254,\n",
       "       255, 256, 257, 258, 259, 260, 261, 262, 263, 264, 265, 266, 267,\n",
       "       268, 269, 271, 272, 273, 274, 275, 276, 277, 278, 279, 280, 281,\n",
       "       282, 283, 284, 286, 287, 288, 289, 290, 291, 292, 293, 294, 295,\n",
       "       296, 297, 298, 299, 300, 301, 302, 303, 304, 305, 306, 307, 311,\n",
       "       312, 313, 314, 315, 316, 317, 318, 319, 320, 321, 322, 323, 324,\n",
       "       325, 326, 327, 328, 329])"
      ]
     },
     "execution_count": 22,
     "metadata": {},
     "output_type": "execute_result"
    }
   ],
   "source": [
    "import netCDF4 as nc\n",
    "ds = nc.Dataset(\"./20150315_CR2161_code_stable_tDecay2h.nc\")\n",
    "successfulRuns = ds['runs'].successfulRuns + 30\n",
    "successfulRuns"
   ]
  },
  {
   "cell_type": "code",
   "execution_count": 23,
   "id": "2e6ee0e5",
   "metadata": {},
   "outputs": [
    {
     "data": {
      "text/plain": [
       "(array([  0,   1,   2,   3,   5,   6,   7,   8,  10,  11,  12,  13,  14,\n",
       "         15,  16,  17,  18,  19,  20,  21,  22,  23,  26,  27,  28,  30,\n",
       "         31,  32,  34,  35,  36,  37,  38,  39,  41,  42,  44,  45,  48,\n",
       "         49,  50,  51,  52,  54,  55,  56,  57,  58,  59,  61,  63,  64,\n",
       "         65,  66,  67,  68,  69,  70,  71,  72,  73,  74,  75,  77,  78,\n",
       "         79,  82,  84,  85,  86,  87,  88,  90,  91,  92,  93,  94,  95,\n",
       "         96,  98, 100, 102, 103, 104, 105, 106, 107, 108, 110, 113, 114,\n",
       "        115, 116, 118, 120, 123, 124, 125, 126, 127, 128, 129, 130, 131,\n",
       "        132, 133, 134, 135, 136, 138, 139, 140, 142, 143, 146, 147, 148,\n",
       "        149, 151, 152, 153, 155, 156, 157, 158, 159, 160, 161, 162, 163,\n",
       "        165, 166, 167, 169, 170, 171, 172, 174, 175, 176, 177, 178, 179,\n",
       "        180, 181, 182, 183, 184, 185, 186, 187, 188, 189, 194, 196, 197,\n",
       "        198, 199, 200, 201, 202, 205, 206, 207, 208, 209, 210, 211, 212,\n",
       "        213, 214, 216, 217, 219, 220, 221, 222, 223, 224, 226, 227, 228,\n",
       "        230, 231, 232, 233, 234, 235, 237, 238, 239, 240, 241, 242, 243,\n",
       "        246, 248, 249, 250, 251, 252, 253, 254, 255, 256, 257, 258, 259,\n",
       "        260, 261, 262, 263, 265, 266, 267, 269, 272, 273, 274, 275, 276,\n",
       "        277]),\n",
       " array([  4,   9,  24,  25,  29,  33,  40,  43,  46,  47,  53,  60,  62,\n",
       "         76,  80,  81,  83,  89,  97,  99, 101, 109, 111, 112, 117, 119,\n",
       "        121, 122, 137, 141, 144, 145, 150, 154, 164, 168, 173, 190, 191,\n",
       "        192, 193, 195, 203, 204, 215, 218, 225, 229, 236, 244, 245, 247,\n",
       "        264, 268, 270, 271]))"
      ]
     },
     "execution_count": 23,
     "metadata": {},
     "output_type": "execute_result"
    }
   ],
   "source": [
    "train_test_sims = np.load(\"./CR2161_AWSoM2T_CME_tDecay2h_Polar_Clusters.npz\")\n",
    "train_sim = train_test_sims[\"training_id\"]\n",
    "test_sim = train_test_sims[\"test_id\"]\n",
    "train_sim, test_sim"
   ]
  },
  {
   "cell_type": "code",
   "execution_count": 24,
   "id": "959ff49c",
   "metadata": {},
   "outputs": [],
   "source": [
    "tt_sim = np.sort(np.hstack((train_sim, test_sim)))"
   ]
  },
  {
   "cell_type": "code",
   "execution_count": 25,
   "id": "525fe313",
   "metadata": {},
   "outputs": [
    {
     "data": {
      "text/plain": [
       "(16384, 41, 222)"
      ]
     },
     "execution_count": 25,
     "metadata": {},
     "output_type": "execute_result"
    }
   ],
   "source": [
    "X_train_ttrain = X[:, :(nTrainTime + 1), train_sim]\n",
    "X_train_ttrain.shape"
   ]
  },
  {
   "cell_type": "code",
   "execution_count": 26,
   "id": "537044b6",
   "metadata": {},
   "outputs": [],
   "source": [
    "X_test = X[:, :, test_sim]"
   ]
  },
  {
   "cell_type": "code",
   "execution_count": 27,
   "id": "214b4332",
   "metadata": {},
   "outputs": [],
   "source": [
    "X_train_test_ttrain = X[:, :(nTrainTime + 1), :]"
   ]
  },
  {
   "cell_type": "code",
   "execution_count": 28,
   "id": "e3efbffe",
   "metadata": {},
   "outputs": [
    {
     "data": {
      "text/plain": [
       "(16384, 41, 222)"
      ]
     },
     "execution_count": 28,
     "metadata": {},
     "output_type": "execute_result"
    }
   ],
   "source": [
    "X_train_ttrain.shape"
   ]
  },
  {
   "cell_type": "code",
   "execution_count": 29,
   "id": "79785f06",
   "metadata": {},
   "outputs": [
    {
     "data": {
      "text/plain": [
       "32"
      ]
     },
     "execution_count": 29,
     "metadata": {},
     "output_type": "execute_result"
    }
   ],
   "source": [
    "rom_1 = op.ContinuousOpInfROM(modelform=\"AH\")\n",
    "basis_1 = op.pre.PODBasis().fit(X_train_ttrain[:, :, 0], residual_energy=1e-8)\n",
    "basis_1.r"
   ]
  },
  {
   "cell_type": "code",
   "execution_count": 30,
   "id": "20ca8d5e",
   "metadata": {},
   "outputs": [],
   "source": [
    "reduced_states = basis_1.encode(X_train_ttrain[:, :, 0])"
   ]
  },
  {
   "cell_type": "code",
   "execution_count": 31,
   "id": "bf9fc892",
   "metadata": {},
   "outputs": [
    {
     "data": {
      "text/plain": [
       "(32, 41)"
      ]
     },
     "execution_count": 31,
     "metadata": {},
     "output_type": "execute_result"
    }
   ],
   "source": [
    "reduced_states.shape"
   ]
  },
  {
   "cell_type": "code",
   "execution_count": 32,
   "id": "312dc747",
   "metadata": {},
   "outputs": [
    {
     "data": {
      "text/plain": [
       "array([ 5.18753867,  5.4877632 ,  5.74297088,  5.93984572,  6.07472786,\n",
       "        6.14135307,  6.13742178,  6.06361853,  5.92100359,  5.70977877,\n",
       "        5.42965491,  5.08355595,  4.67775802,  4.21922311,  3.71461306,\n",
       "        3.16796246,  2.58665005,  1.98280391,  1.36212992,  0.73077039,\n",
       "        0.09351159, -0.54198027, -1.16760093, -1.77649704, -2.36307699,\n",
       "       -2.92112476, -3.44261899, -3.92287053, -4.35932236, -4.74802847,\n",
       "       -5.08321308, -5.36596717, -5.59438547, -5.76788039, -5.88884099,\n",
       "       -5.95946237, -5.98421062, -5.96423347, -5.90416973, -5.80922226,\n",
       "       -5.68420387])"
      ]
     },
     "execution_count": 32,
     "metadata": {},
     "output_type": "execute_result"
    }
   ],
   "source": [
    "reduced_states[1, :]"
   ]
  },
  {
   "cell_type": "markdown",
   "id": "d0c5f256",
   "metadata": {},
   "source": [
    "### Construction of NODE Architecture"
   ]
  },
  {
   "cell_type": "code",
   "execution_count": 33,
   "id": "bba726d9",
   "metadata": {},
   "outputs": [
    {
     "data": {
      "text/plain": [
       "device(type='cuda', index=0)"
      ]
     },
     "execution_count": 33,
     "metadata": {},
     "output_type": "execute_result"
    }
   ],
   "source": [
    "device"
   ]
  },
  {
   "cell_type": "code",
   "execution_count": 34,
   "id": "4f970687",
   "metadata": {},
   "outputs": [
    {
     "data": {
      "text/plain": [
       "array([0.        , 0.03333333, 0.06666667, 0.1       , 0.13333333,\n",
       "       0.16666667, 0.2       , 0.23333333, 0.26666667, 0.3       ,\n",
       "       0.33333333, 0.36666667, 0.4       , 0.43333333, 0.46666667,\n",
       "       0.5       , 0.53333333, 0.56666667, 0.6       , 0.63333333,\n",
       "       0.66666667, 0.7       , 0.73333333, 0.76666667, 0.8       ,\n",
       "       0.83333333, 0.86666667, 0.9       , 0.93333333, 0.96666667,\n",
       "       1.        , 1.03333333, 1.06666667, 1.1       , 1.13333333,\n",
       "       1.16666667, 1.2       , 1.23333333, 1.26666667, 1.3       ,\n",
       "       1.33333333])"
      ]
     },
     "execution_count": 34,
     "metadata": {},
     "output_type": "execute_result"
    }
   ],
   "source": [
    "t_train"
   ]
  },
  {
   "cell_type": "code",
   "execution_count": 35,
   "id": "57916421",
   "metadata": {},
   "outputs": [
    {
     "name": "stdout",
     "output_type": "stream",
     "text": [
      "Data size =  41  Batch time =  5  Batch size =  10\n"
     ]
    }
   ],
   "source": [
    "data_size = t_train.shape[0]\n",
    "batch_time = 5\n",
    "batch_size = 10\n",
    "print(\"Data size = \", data_size, \" Batch time = \", batch_time, \" Batch size = \", batch_size)"
   ]
  },
  {
   "cell_type": "code",
   "execution_count": 36,
   "id": "a197d26e",
   "metadata": {},
   "outputs": [],
   "source": [
    "t = torch.tensor(np.float32(t_train)).to(device)"
   ]
  },
  {
   "cell_type": "code",
   "execution_count": 37,
   "id": "d1dee920",
   "metadata": {},
   "outputs": [
    {
     "data": {
      "text/plain": [
       "torch.float32"
      ]
     },
     "execution_count": 37,
     "metadata": {},
     "output_type": "execute_result"
    }
   ],
   "source": [
    "t.dtype"
   ]
  },
  {
   "cell_type": "code",
   "execution_count": 38,
   "id": "bc62ce66",
   "metadata": {},
   "outputs": [
    {
     "data": {
      "text/plain": [
       "torch.Size([1, 32])"
      ]
     },
     "execution_count": 38,
     "metadata": {},
     "output_type": "execute_result"
    }
   ],
   "source": [
    "true_y0 = torch.from_numpy(np.float32(reduced_states[:, 0]))\n",
    "true_y0 = true_y0.reshape((1, len(true_y0))).to(device)\n",
    "true_y0.shape"
   ]
  },
  {
   "cell_type": "code",
   "execution_count": 39,
   "id": "663b5bf4",
   "metadata": {},
   "outputs": [
    {
     "data": {
      "text/plain": [
       "torch.float32"
      ]
     },
     "execution_count": 39,
     "metadata": {},
     "output_type": "execute_result"
    }
   ],
   "source": [
    "true_y0.dtype"
   ]
  },
  {
   "cell_type": "code",
   "execution_count": 40,
   "id": "64dc6b8d",
   "metadata": {},
   "outputs": [
    {
     "data": {
      "text/plain": [
       "(32, 41)"
      ]
     },
     "execution_count": 40,
     "metadata": {},
     "output_type": "execute_result"
    }
   ],
   "source": [
    "reduced_states.shape"
   ]
  },
  {
   "cell_type": "code",
   "execution_count": 41,
   "id": "f71d1e3b",
   "metadata": {},
   "outputs": [
    {
     "data": {
      "text/plain": [
       "torch.Size([41, 1, 32])"
      ]
     },
     "execution_count": 41,
     "metadata": {},
     "output_type": "execute_result"
    }
   ],
   "source": [
    "yreduced = np.float32(reduced_states.T)\n",
    "true_y = torch.from_numpy(np.expand_dims(yreduced, axis=1)).to(device)\n",
    "true_y.shape"
   ]
  },
  {
   "cell_type": "code",
   "execution_count": 42,
   "id": "954624f1",
   "metadata": {},
   "outputs": [
    {
     "data": {
      "text/plain": [
       "torch.float32"
      ]
     },
     "execution_count": 42,
     "metadata": {},
     "output_type": "execute_result"
    }
   ],
   "source": [
    "true_y.dtype"
   ]
  },
  {
   "cell_type": "markdown",
   "id": "999f4138",
   "metadata": {},
   "source": [
    "Need functions for getting batch, getting true x, getting ODE func - where we run the \"loss\" metric compared to the true simulation."
   ]
  },
  {
   "cell_type": "markdown",
   "id": "9c1ef3a6",
   "metadata": {},
   "source": [
    "The batch is taking IC as values at different times in the training set, and the solution as the values following the IC upto some predefined batch size for time."
   ]
  },
  {
   "cell_type": "code",
   "execution_count": 43,
   "id": "c43415f5",
   "metadata": {},
   "outputs": [],
   "source": [
    "def get_batch():\n",
    "    s = torch.from_numpy(np.random.choice(np.arange(data_size - batch_time, dtype=np.int64),\n",
    "                                          batch_size, replace=False))\n",
    "    batch_y0 = true_y[s]\n",
    "    batch_t = t[:batch_time]  # (T)\n",
    "    batch_y = torch.stack([true_y[s + i] for i in range(batch_time)], dim=0)  # (T, M, D)\n",
    "    return batch_y0.to(device), batch_t.to(device), batch_y.to(device)"
   ]
  },
  {
   "cell_type": "code",
   "execution_count": 44,
   "id": "8089891f",
   "metadata": {},
   "outputs": [],
   "source": [
    "by0, bt, by = get_batch()"
   ]
  },
  {
   "cell_type": "code",
   "execution_count": 45,
   "id": "a2570a6f",
   "metadata": {},
   "outputs": [
    {
     "data": {
      "text/plain": [
       "5"
      ]
     },
     "execution_count": 45,
     "metadata": {},
     "output_type": "execute_result"
    }
   ],
   "source": [
    "batch_time"
   ]
  },
  {
   "cell_type": "code",
   "execution_count": 46,
   "id": "f3f53a12",
   "metadata": {},
   "outputs": [
    {
     "data": {
      "text/plain": [
       "(torch.Size([10, 1, 32]), torch.Size([5]), torch.Size([5, 10, 1, 32]))"
      ]
     },
     "execution_count": 46,
     "metadata": {},
     "output_type": "execute_result"
    }
   ],
   "source": [
    "by0.shape, bt.shape, by.shape"
   ]
  },
  {
   "cell_type": "code",
   "execution_count": 47,
   "id": "108c0e3a",
   "metadata": {},
   "outputs": [],
   "source": [
    "class RunningAverageMeter(object):\n",
    "    \"\"\"Computes and stores the average and current value\"\"\"\n",
    "\n",
    "    def __init__(self, momentum=0.99):\n",
    "        self.momentum = momentum\n",
    "        self.reset()\n",
    "\n",
    "    def reset(self):\n",
    "        self.val = None\n",
    "        self.avg = 0\n",
    "\n",
    "    def update(self, val):\n",
    "        if self.val is None:\n",
    "            self.avg = val\n",
    "        else:\n",
    "            self.avg = self.avg * self.momentum + val * (1 - self.momentum)\n",
    "        self.val = val"
   ]
  },
  {
   "cell_type": "code",
   "execution_count": 71,
   "id": "4fe8aec6",
   "metadata": {},
   "outputs": [],
   "source": [
    "class ODEFunc(nn.Module):\n",
    "\n",
    "    def __init__(self):\n",
    "        super(ODEFunc, self).__init__()\n",
    "\n",
    "        self.net1 = nn.Sequential(\n",
    "            nn.Linear(32, 50),\n",
    "            nn.Tanh(),\n",
    "            nn.Linear(50, 32),\n",
    "        )\n",
    "        \n",
    "        self.net2 = nn.Sequential(\n",
    "            nn.Linear(528, 700),\n",
    "            nn.Tanh(),\n",
    "            nn.Linear(700, 528),\n",
    "        )\n",
    "\n",
    "        for m in self.net1.modules():\n",
    "            if isinstance(m, nn.Linear):\n",
    "                nn.init.normal_(m.weight, mean=0, std=0.1)\n",
    "                nn.init.constant_(m.bias, val=0)\n",
    "                \n",
    "        for m in self.net2.modules():\n",
    "            if isinstance(m, nn.Linear):\n",
    "                nn.init.normal_(m.weight, mean=0, std=0.1)\n",
    "                nn.init.constant_(m.bias, val=0)\n",
    "\n",
    "    \n",
    "    def quadratic_y(self, y):\n",
    "            y_np = y.cpu().numpy().flatten()\n",
    "            y_np_quad = np.outer(y_np, y_np)[np.tril_indices(len(y_np))]\n",
    "            y_t_quad = torch.from_numpy(np.float32(y_np_quad))\n",
    "            y_t_quad = y_t_quad.reshape((1, len(y_np_quad))).to(device)\n",
    "            return y_t_quad\n",
    "            \n",
    "    def forward(self, t, y):\n",
    "            return self.net1(y) + self.net2(self.quadratic_y(y))"
   ]
  },
  {
   "cell_type": "code",
   "execution_count": 67,
   "id": "af45dd82",
   "metadata": {},
   "outputs": [],
   "source": [
    "ii = 0\n",
    "func = ODEFunc().to(device)\n",
    "optimizer = optim.RMSprop(func.parameters(), lr=1e-3)\n",
    "end = time.time()"
   ]
  },
  {
   "cell_type": "code",
   "execution_count": 68,
   "id": "2bc1c04d",
   "metadata": {},
   "outputs": [],
   "source": [
    "niters = 2000\n",
    "test_freq = 5"
   ]
  },
  {
   "cell_type": "code",
   "execution_count": 69,
   "id": "784f21ce",
   "metadata": {},
   "outputs": [
    {
     "data": {
      "text/plain": [
       "ODEFunc(\n",
       "  (net1): Sequential(\n",
       "    (0): Linear(in_features=32, out_features=50, bias=True)\n",
       "    (1): Tanh()\n",
       "    (2): Linear(in_features=50, out_features=32, bias=True)\n",
       "  )\n",
       "  (net2): Sequential(\n",
       "    (0): Linear(in_features=528, out_features=700, bias=True)\n",
       "    (1): Tanh()\n",
       "    (2): Linear(in_features=700, out_features=528, bias=True)\n",
       "  )\n",
       ")"
      ]
     },
     "execution_count": 69,
     "metadata": {},
     "output_type": "execute_result"
    }
   ],
   "source": [
    "func"
   ]
  },
  {
   "cell_type": "code",
   "execution_count": 70,
   "id": "1f52f7aa",
   "metadata": {},
   "outputs": [
    {
     "ename": "RuntimeError",
     "evalue": "mat1 and mat2 shapes cannot be multiplied (1x51360 and 528x700)",
     "output_type": "error",
     "traceback": [
      "\u001b[0;31m---------------------------------------------------------------------------\u001b[0m",
      "\u001b[0;31mRuntimeError\u001b[0m                              Traceback (most recent call last)",
      "Cell \u001b[0;32mIn[70], line 1\u001b[0m\n\u001b[0;32m----> 1\u001b[0m \u001b[43mfunc\u001b[49m\u001b[38;5;241;43m.\u001b[39;49m\u001b[43mforward\u001b[49m\u001b[43m(\u001b[49m\u001b[43mt\u001b[49m\u001b[43m,\u001b[49m\u001b[43m \u001b[49m\u001b[43mby0\u001b[49m\u001b[43m)\u001b[49m\n",
      "Cell \u001b[0;32mIn[66], line 37\u001b[0m, in \u001b[0;36mODEFunc.forward\u001b[0;34m(self, t, y)\u001b[0m\n\u001b[1;32m     36\u001b[0m \u001b[38;5;28;01mdef\u001b[39;00m \u001b[38;5;21mforward\u001b[39m(\u001b[38;5;28mself\u001b[39m, t, y):\n\u001b[0;32m---> 37\u001b[0m         \u001b[38;5;28;01mreturn\u001b[39;00m \u001b[38;5;28mself\u001b[39m\u001b[38;5;241m.\u001b[39mnet1(y) \u001b[38;5;241m+\u001b[39m \u001b[38;5;28;43mself\u001b[39;49m\u001b[38;5;241;43m.\u001b[39;49m\u001b[43mnet2\u001b[49m\u001b[43m(\u001b[49m\u001b[38;5;28;43mself\u001b[39;49m\u001b[38;5;241;43m.\u001b[39;49m\u001b[43mquadratic_y\u001b[49m\u001b[43m(\u001b[49m\u001b[43my\u001b[49m\u001b[43m)\u001b[49m\u001b[43m)\u001b[49m\n",
      "File \u001b[0;32m~/miniconda3/lib/python3.10/site-packages/torch/nn/modules/module.py:1501\u001b[0m, in \u001b[0;36mModule._call_impl\u001b[0;34m(self, *args, **kwargs)\u001b[0m\n\u001b[1;32m   1496\u001b[0m \u001b[38;5;66;03m# If we don't have any hooks, we want to skip the rest of the logic in\u001b[39;00m\n\u001b[1;32m   1497\u001b[0m \u001b[38;5;66;03m# this function, and just call forward.\u001b[39;00m\n\u001b[1;32m   1498\u001b[0m \u001b[38;5;28;01mif\u001b[39;00m \u001b[38;5;129;01mnot\u001b[39;00m (\u001b[38;5;28mself\u001b[39m\u001b[38;5;241m.\u001b[39m_backward_hooks \u001b[38;5;129;01mor\u001b[39;00m \u001b[38;5;28mself\u001b[39m\u001b[38;5;241m.\u001b[39m_backward_pre_hooks \u001b[38;5;129;01mor\u001b[39;00m \u001b[38;5;28mself\u001b[39m\u001b[38;5;241m.\u001b[39m_forward_hooks \u001b[38;5;129;01mor\u001b[39;00m \u001b[38;5;28mself\u001b[39m\u001b[38;5;241m.\u001b[39m_forward_pre_hooks\n\u001b[1;32m   1499\u001b[0m         \u001b[38;5;129;01mor\u001b[39;00m _global_backward_pre_hooks \u001b[38;5;129;01mor\u001b[39;00m _global_backward_hooks\n\u001b[1;32m   1500\u001b[0m         \u001b[38;5;129;01mor\u001b[39;00m _global_forward_hooks \u001b[38;5;129;01mor\u001b[39;00m _global_forward_pre_hooks):\n\u001b[0;32m-> 1501\u001b[0m     \u001b[38;5;28;01mreturn\u001b[39;00m \u001b[43mforward_call\u001b[49m\u001b[43m(\u001b[49m\u001b[38;5;241;43m*\u001b[39;49m\u001b[43margs\u001b[49m\u001b[43m,\u001b[49m\u001b[43m \u001b[49m\u001b[38;5;241;43m*\u001b[39;49m\u001b[38;5;241;43m*\u001b[39;49m\u001b[43mkwargs\u001b[49m\u001b[43m)\u001b[49m\n\u001b[1;32m   1502\u001b[0m \u001b[38;5;66;03m# Do not call functions when jit is used\u001b[39;00m\n\u001b[1;32m   1503\u001b[0m full_backward_hooks, non_full_backward_hooks \u001b[38;5;241m=\u001b[39m [], []\n",
      "File \u001b[0;32m~/miniconda3/lib/python3.10/site-packages/torch/nn/modules/container.py:217\u001b[0m, in \u001b[0;36mSequential.forward\u001b[0;34m(self, input)\u001b[0m\n\u001b[1;32m    215\u001b[0m \u001b[38;5;28;01mdef\u001b[39;00m \u001b[38;5;21mforward\u001b[39m(\u001b[38;5;28mself\u001b[39m, \u001b[38;5;28minput\u001b[39m):\n\u001b[1;32m    216\u001b[0m     \u001b[38;5;28;01mfor\u001b[39;00m module \u001b[38;5;129;01min\u001b[39;00m \u001b[38;5;28mself\u001b[39m:\n\u001b[0;32m--> 217\u001b[0m         \u001b[38;5;28minput\u001b[39m \u001b[38;5;241m=\u001b[39m \u001b[43mmodule\u001b[49m\u001b[43m(\u001b[49m\u001b[38;5;28;43minput\u001b[39;49m\u001b[43m)\u001b[49m\n\u001b[1;32m    218\u001b[0m     \u001b[38;5;28;01mreturn\u001b[39;00m \u001b[38;5;28minput\u001b[39m\n",
      "File \u001b[0;32m~/miniconda3/lib/python3.10/site-packages/torch/nn/modules/module.py:1501\u001b[0m, in \u001b[0;36mModule._call_impl\u001b[0;34m(self, *args, **kwargs)\u001b[0m\n\u001b[1;32m   1496\u001b[0m \u001b[38;5;66;03m# If we don't have any hooks, we want to skip the rest of the logic in\u001b[39;00m\n\u001b[1;32m   1497\u001b[0m \u001b[38;5;66;03m# this function, and just call forward.\u001b[39;00m\n\u001b[1;32m   1498\u001b[0m \u001b[38;5;28;01mif\u001b[39;00m \u001b[38;5;129;01mnot\u001b[39;00m (\u001b[38;5;28mself\u001b[39m\u001b[38;5;241m.\u001b[39m_backward_hooks \u001b[38;5;129;01mor\u001b[39;00m \u001b[38;5;28mself\u001b[39m\u001b[38;5;241m.\u001b[39m_backward_pre_hooks \u001b[38;5;129;01mor\u001b[39;00m \u001b[38;5;28mself\u001b[39m\u001b[38;5;241m.\u001b[39m_forward_hooks \u001b[38;5;129;01mor\u001b[39;00m \u001b[38;5;28mself\u001b[39m\u001b[38;5;241m.\u001b[39m_forward_pre_hooks\n\u001b[1;32m   1499\u001b[0m         \u001b[38;5;129;01mor\u001b[39;00m _global_backward_pre_hooks \u001b[38;5;129;01mor\u001b[39;00m _global_backward_hooks\n\u001b[1;32m   1500\u001b[0m         \u001b[38;5;129;01mor\u001b[39;00m _global_forward_hooks \u001b[38;5;129;01mor\u001b[39;00m _global_forward_pre_hooks):\n\u001b[0;32m-> 1501\u001b[0m     \u001b[38;5;28;01mreturn\u001b[39;00m \u001b[43mforward_call\u001b[49m\u001b[43m(\u001b[49m\u001b[38;5;241;43m*\u001b[39;49m\u001b[43margs\u001b[49m\u001b[43m,\u001b[49m\u001b[43m \u001b[49m\u001b[38;5;241;43m*\u001b[39;49m\u001b[38;5;241;43m*\u001b[39;49m\u001b[43mkwargs\u001b[49m\u001b[43m)\u001b[49m\n\u001b[1;32m   1502\u001b[0m \u001b[38;5;66;03m# Do not call functions when jit is used\u001b[39;00m\n\u001b[1;32m   1503\u001b[0m full_backward_hooks, non_full_backward_hooks \u001b[38;5;241m=\u001b[39m [], []\n",
      "File \u001b[0;32m~/miniconda3/lib/python3.10/site-packages/torch/nn/modules/linear.py:114\u001b[0m, in \u001b[0;36mLinear.forward\u001b[0;34m(self, input)\u001b[0m\n\u001b[1;32m    113\u001b[0m \u001b[38;5;28;01mdef\u001b[39;00m \u001b[38;5;21mforward\u001b[39m(\u001b[38;5;28mself\u001b[39m, \u001b[38;5;28minput\u001b[39m: Tensor) \u001b[38;5;241m-\u001b[39m\u001b[38;5;241m>\u001b[39m Tensor:\n\u001b[0;32m--> 114\u001b[0m     \u001b[38;5;28;01mreturn\u001b[39;00m \u001b[43mF\u001b[49m\u001b[38;5;241;43m.\u001b[39;49m\u001b[43mlinear\u001b[49m\u001b[43m(\u001b[49m\u001b[38;5;28;43minput\u001b[39;49m\u001b[43m,\u001b[49m\u001b[43m \u001b[49m\u001b[38;5;28;43mself\u001b[39;49m\u001b[38;5;241;43m.\u001b[39;49m\u001b[43mweight\u001b[49m\u001b[43m,\u001b[49m\u001b[43m \u001b[49m\u001b[38;5;28;43mself\u001b[39;49m\u001b[38;5;241;43m.\u001b[39;49m\u001b[43mbias\u001b[49m\u001b[43m)\u001b[49m\n",
      "\u001b[0;31mRuntimeError\u001b[0m: mat1 and mat2 shapes cannot be multiplied (1x51360 and 528x700)"
     ]
    }
   ],
   "source": [
    "func.forward(t, by0)"
   ]
  },
  {
   "cell_type": "code",
   "execution_count": null,
   "id": "8272a3f5",
   "metadata": {
    "scrolled": true
   },
   "outputs": [],
   "source": [
    "time_meter = RunningAverageMeter(0.97)\n",
    "loss_meter = RunningAverageMeter(0.97)\n",
    "\n",
    "for itr in range(1, niters + 1):\n",
    "    optimizer.zero_grad()\n",
    "    batch_y0, batch_t, batch_y = get_batch()\n",
    "    pred_y = odeint(func, batch_y0, batch_t).to(device)\n",
    "    loss = torch.mean(torch.abs(pred_y - batch_y))\n",
    "    loss.backward()\n",
    "    optimizer.step()\n",
    "\n",
    "    time_meter.update(time.time() - end)\n",
    "    loss_meter.update(loss.item())\n",
    "\n",
    "    if itr % test_freq == 0:\n",
    "        with torch.no_grad():\n",
    "            pred_y = odeint(func, true_y0, t)\n",
    "            loss = torch.mean(torch.abs(pred_y - true_y))\n",
    "            print('Iter {:04d} | Total Loss {:.6f}'.format(itr, loss.item()))\n",
    "#             visualize(true_y, pred_y, func, ii)\n",
    "            ii += 1\n",
    "\n",
    "    end = time.time()"
   ]
  },
  {
   "cell_type": "markdown",
   "id": "4a798a38",
   "metadata": {},
   "source": [
    "Effectively, we have two things to check over here:\n",
    "\n",
    "1. What is the error within the training set, if we provide initial condition y0?\n",
    "\n",
    "2. What is the error on the held out part of the data with the same IC?\n",
    "\n",
    "We could just plot the 2D images and check this qualitatively / with RMSE, with the caveat that RMSE is not really the metric we want to be optimizing for. Also is evaluating error between reduced _as opposed to_ full state appropriate?"
   ]
  },
  {
   "cell_type": "markdown",
   "id": "966d2249",
   "metadata": {},
   "source": [
    "If we tried everything with train times in first sim  i.e. `true_y` was derived from reduced states constructed off `X_train_ttrain[:, :, 0]` then `X_train_ttrain[:, :, 0]` is basically decoded shape for the `true_y`."
   ]
  },
  {
   "cell_type": "markdown",
   "id": "02c13192",
   "metadata": {},
   "source": [
    "Predicted `y` i.e. `pred_y` needs to be decoded."
   ]
  },
  {
   "cell_type": "code",
   "execution_count": null,
   "id": "601fcc0a",
   "metadata": {},
   "outputs": [],
   "source": [
    "with torch.no_grad():\n",
    "    pred_y = odeint(func, true_y0, t)"
   ]
  },
  {
   "cell_type": "code",
   "execution_count": null,
   "id": "6b0e9253",
   "metadata": {},
   "outputs": [],
   "source": [
    "pred_y.shape"
   ]
  },
  {
   "cell_type": "code",
   "execution_count": null,
   "id": "cfeb4d6b",
   "metadata": {},
   "outputs": [],
   "source": [
    "pred_y_np = pred_y.cpu().numpy()[:, 0, :].T"
   ]
  },
  {
   "cell_type": "code",
   "execution_count": null,
   "id": "5da1d341",
   "metadata": {},
   "outputs": [],
   "source": [
    "pred_y_decoded = basis_1.decode(pred_y_np)"
   ]
  },
  {
   "cell_type": "code",
   "execution_count": null,
   "id": "18eb53f8",
   "metadata": {},
   "outputs": [],
   "source": [
    "true_y_decoded = X_train_ttrain[:, :, 0]"
   ]
  },
  {
   "cell_type": "code",
   "execution_count": null,
   "id": "c46d401a",
   "metadata": {},
   "outputs": [],
   "source": [
    "pred_y_decoded.shape"
   ]
  },
  {
   "cell_type": "markdown",
   "id": "b6e89ca2",
   "metadata": {},
   "source": [
    "visualization for if we are able to replicate training properly."
   ]
  },
  {
   "cell_type": "code",
   "execution_count": null,
   "id": "95ee5322",
   "metadata": {},
   "outputs": [],
   "source": [
    "64 * 256"
   ]
  },
  {
   "cell_type": "code",
   "execution_count": null,
   "id": "8b27796d",
   "metadata": {},
   "outputs": [],
   "source": [
    "# def visualize():\n",
    "fig, ax = plt.subplots(1, 2, figsize=(10, 6))\n",
    "axs = ax.ravel()\n",
    "im0 = axs[0].imshow(true_y_decoded[:, 40].reshape(64, 256),\n",
    "            origin=\"lower\",\n",
    "            cmap=lc3_reg)\n",
    "axs[0].set_title(\"True\")\n",
    "fig.colorbar(im0, fraction=0.046 * 1/3, pad=0.04)\n",
    "\n",
    "im1 = axs[1].imshow(pred_y_decoded[:, 40].reshape(64, 256),\n",
    "                   origin=\"lower\",\n",
    "                   cmap=lc3_reg)\n",
    "axs[1].set_title(\"Predicted\")\n",
    "fig.colorbar(im1, fraction=0.046 * 1/3, pad=0.04)"
   ]
  },
  {
   "cell_type": "markdown",
   "id": "ad557d2a",
   "metadata": {},
   "source": [
    "by comparison to notebook 1?\n",
    "\n"
   ]
  },
  {
   "cell_type": "markdown",
   "id": "e4bbdd6f",
   "metadata": {},
   "source": [
    "testing times comparison to notebook 1?"
   ]
  },
  {
   "cell_type": "code",
   "execution_count": null,
   "id": "ef097b53",
   "metadata": {},
   "outputs": [],
   "source": [
    "t_full = torch.tensor(np.float32(t_vec)).to(device)"
   ]
  },
  {
   "cell_type": "code",
   "execution_count": null,
   "id": "45eb73ee",
   "metadata": {},
   "outputs": [],
   "source": [
    "with torch.no_grad():\n",
    "    pred_y_train_sim_fullt = odeint(func, true_y0, t_full)"
   ]
  },
  {
   "cell_type": "code",
   "execution_count": null,
   "id": "f4789c97",
   "metadata": {},
   "outputs": [],
   "source": [
    "pred_y_train_sim_fullt_decoded = basis_1.decode(pred_y_train_sim_fullt.cpu().numpy()[:, 0, :].T)"
   ]
  },
  {
   "cell_type": "code",
   "execution_count": null,
   "id": "fc8dff7a",
   "metadata": {},
   "outputs": [],
   "source": [
    "pred_y_train_sim_fullt_decoded.shape"
   ]
  },
  {
   "cell_type": "code",
   "execution_count": null,
   "id": "64c0be90",
   "metadata": {},
   "outputs": [],
   "source": [
    "true_y_decoded_fullt = X[:, :, 0]\n",
    "true_y_decoded_fullt.shape"
   ]
  },
  {
   "cell_type": "code",
   "execution_count": null,
   "id": "880fb602",
   "metadata": {},
   "outputs": [],
   "source": [
    "fig, ax = plt.subplots(1, 2, figsize=(10, 6))\n",
    "axs = ax.ravel()\n",
    "im0 = axs[0].imshow(true_y_decoded_fullt[:, 70].reshape(64, 256),\n",
    "            origin=\"lower\",\n",
    "            cmap=lc3_reg)\n",
    "axs[0].set_title(\"True\")\n",
    "fig.colorbar(im0, fraction=0.046 * 1/3, pad=0.04)\n",
    "\n",
    "im1 = axs[1].imshow(pred_y_train_sim_fullt_decoded[:, 70].reshape(64, 256),\n",
    "                   origin=\"lower\",\n",
    "                   cmap=lc3_reg)\n",
    "axs[1].set_title(\"Predicted\")\n",
    "fig.colorbar(im1, fraction=0.046 * 1/3, pad=0.04)"
   ]
  },
  {
   "cell_type": "markdown",
   "id": "bce7dec4",
   "metadata": {},
   "source": [
    "Try the same example but with prior learnt OpInf model."
   ]
  },
  {
   "cell_type": "markdown",
   "id": "0efea4b0",
   "metadata": {},
   "source": [
    "#### Scratch Start"
   ]
  },
  {
   "cell_type": "code",
   "execution_count": null,
   "id": "6477336c",
   "metadata": {},
   "outputs": [],
   "source": [
    "32 * (32 + 1) / 2"
   ]
  },
  {
   "cell_type": "code",
   "execution_count": null,
   "id": "97d0322b",
   "metadata": {},
   "outputs": [],
   "source": [
    "np.outer([1, 2, 3, 4], [2, 3, 4, 5])"
   ]
  },
  {
   "cell_type": "code",
   "execution_count": null,
   "id": "d4cb290d",
   "metadata": {},
   "outputs": [],
   "source": [
    "np.tril_indices(4)"
   ]
  },
  {
   "cell_type": "code",
   "execution_count": null,
   "id": "cf73abf8",
   "metadata": {},
   "outputs": [],
   "source": [
    "v_out_flat = np.outer([1, 2, 3, 4], [2, 3, 4, 5])[np.tril_indices(4)]\n",
    "v_out_flat"
   ]
  },
  {
   "cell_type": "code",
   "execution_count": null,
   "id": "ea33c9e5",
   "metadata": {},
   "outputs": [],
   "source": [
    "torch.tensor(v_out_flat)"
   ]
  },
  {
   "cell_type": "code",
   "execution_count": null,
   "id": "1af01482",
   "metadata": {},
   "outputs": [],
   "source": []
  },
  {
   "cell_type": "code",
   "execution_count": null,
   "id": "1b7f271b",
   "metadata": {},
   "outputs": [],
   "source": [
    "vquad_t = torch.from_numpy(np.float32(v_out_flat)).reshape((1, len(v_out_flat))).to(device)"
   ]
  },
  {
   "cell_type": "code",
   "execution_count": null,
   "id": "a435ab09",
   "metadata": {},
   "outputs": [],
   "source": [
    "v_np = vquad_t.cpu().numpy().flatten()"
   ]
  },
  {
   "cell_type": "code",
   "execution_count": null,
   "id": "5c452edd",
   "metadata": {},
   "outputs": [],
   "source": [
    "v_np"
   ]
  },
  {
   "cell_type": "markdown",
   "id": "a7cb1735",
   "metadata": {},
   "source": [
    "#### Scratch End"
   ]
  }
 ],
 "metadata": {
  "kernelspec": {
   "display_name": "Python 3 (ipykernel)",
   "language": "python",
   "name": "python3"
  },
  "language_info": {
   "codemirror_mode": {
    "name": "ipython",
    "version": 3
   },
   "file_extension": ".py",
   "mimetype": "text/x-python",
   "name": "python",
   "nbconvert_exporter": "python",
   "pygments_lexer": "ipython3",
   "version": "3.10.10"
  }
 },
 "nbformat": 4,
 "nbformat_minor": 5
}
