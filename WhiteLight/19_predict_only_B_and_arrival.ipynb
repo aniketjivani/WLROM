{
 "cells": [
  {
   "cell_type": "code",
   "execution_count": 1,
   "metadata": {},
   "outputs": [
    {
     "name": "stderr",
     "output_type": "stream",
     "text": [
      "/Users/ajivani/opt/anaconda3/lib/python3.8/site-packages/pandas/core/computation/expressions.py:20: UserWarning: Pandas requires version '2.7.3' or newer of 'numexpr' (version '2.7.1' currently installed).\n",
      "  from pandas.core.computation.check import NUMEXPR_INSTALLED\n"
     ]
    }
   ],
   "source": [
    "import sys\n",
    "import torch\n",
    "import torch.nn\n",
    "import torch.nn as nn\n",
    "from torch.nn.functional import relu\n",
    "import torch.optim as optim\n",
    "from torch.utils.data import DataLoader, TensorDataset, Dataset\n",
    "from torch.utils.data import random_split\n",
    "import pandas as pd\n",
    "import numpy as np\n",
    "import os\n",
    "import re\n",
    "import sys\n",
    "import logging\n",
    "import torchvision\n",
    "import torchvision.transforms as T"
   ]
  },
  {
   "cell_type": "code",
   "execution_count": 2,
   "metadata": {},
   "outputs": [],
   "source": [
    "args = {\n",
    "    \"niters\": 450,\n",
    "    \"lr\": 0.001,\n",
    "    \"save\": \"arr_experiments/\",\n",
    "    \"load\": None,\n",
    "    \"r\": 1991,\n",
    "    \"resize_dims\": (16, 64),\n",
    "    \"param_scaling\": [1, 1],\n",
    "    \"warm_start\": 20376,\n",
    "    \"do_warm_start\": False,\n",
    "    # \"loss\": \"smooth_l1\",\n",
    "    \"loss\": \"mae\",\n",
    "    # \"loss\": \"mse\",\n",
    "    \"batch_size\": 32,\n",
    "    \"dropout\":False\n",
    "}"
   ]
  },
  {
   "cell_type": "code",
   "execution_count": 3,
   "metadata": {},
   "outputs": [],
   "source": [
    "import torch.nn as nn"
   ]
  },
  {
   "cell_type": "code",
   "execution_count": 4,
   "metadata": {},
   "outputs": [
    {
     "data": {
      "image/png": "[encoded data removed]",
      "text/html": [
       "<div style=\"vertical-align: middle;\"><strong>SOHO LASCO C3_r</strong> </div><div class=\"cmap\"><img alt=\"SOHO LASCO C3_r colormap\" title=\"SOHO LASCO C3_r\" style=\"border: 1px solid #555;\" src=\"data:image/png;base64,iVBORw0KGgoAAAANSUhEUgAAAgAAAABACAYAAABsv8+/AAAAHnRFWHRUaXRsZQBTT0hPIExBU0NPIEMzX3IgY29sb3JtYXDMCW5EAAAAJHRFWHREZXNjcmlwdGlvbgBTT0hPIExBU0NPIEMzX3IgY29sb3JtYXAGtYcrAAAAMHRFWHRBdXRob3IATWF0cGxvdGxpYiB2My43LjMsIGh0dHBzOi8vbWF0cGxvdGxpYi5vcme6yd4QAAAAMnRFWHRTb2Z0d2FyZQBNYXRwbG90bGliIHYzLjcuMywgaHR0cHM6Ly9tYXRwbG90bGliLm9yZ5RvQTcAAAHFSURBVHic7dZBbsIwFEDB397/zKSLQisR3DQtEos3s0EksWNjCb23bdu2mZnL58dcv+6+L6/P7fo8dfzq+VePX847/xt/ff35c5jb9T+Ov3v/dnn8/P3n7J57vP/VfLO7vxi/mGd2z51b/3a5n+fc+vf7OFj/4T7mx+eOz+Hg/UfncPL3++/5v3r9vz7/68Eu1z8/3z+aZ+Z371nN8z3+3Lpv99fjD9b99b/xx3Xv/r/OrfvV+z9/fs/d/3r8uXW/DwCQIwAAIEgAAECQAACAIAEAAEECAACCBAAABAkAAAgSAAAQJAAAIEgAAECQAACAIAEAAEECAACCBAAABAkAAAgSAAAQJAAAIEgAAECQAACAIAEAAEECAACCBAAABAkAAAgSAAAQJAAAIEgAAECQAACAIAEAAEECAACCBAAABAkAAAgSAAAQJAAAIEgAAECQAACAIAEAAEECAACCBAAABAkAAAgSAAAQJAAAIEgAAECQAACAIAEAAEECAACCBAAABAkAAAgSAAAQJAAAIEgAAECQAACAIAEAAEECAACCBAAABAkAAAgSAAAQJAAAIEgAAECQAACAIAEAAEECAACCBAAABH0A+Gm+nfb+AtsAAAAASUVORK5CYII=\"></div><div style=\"vertical-align: middle; max-width: 514px; display: flex; justify-content: space-between;\"><div style=\"float: left;\"><div title=\"#ffffffff\" style=\"display: inline-block; width: 1em; height: 1em; margin: 0; vertical-align: middle; border: 1px solid #555; background-color: #ffffffff;\"></div> under</div><div style=\"margin: 0 auto; display: inline-block;\">bad <div title=\"#00000000\" style=\"display: inline-block; width: 1em; height: 1em; margin: 0; vertical-align: middle; border: 1px solid #555; background-color: #00000000;\"></div></div><div style=\"float: right;\">over <div title=\"#000000ff\" style=\"display: inline-block; width: 1em; height: 1em; margin: 0; vertical-align: middle; border: 1px solid #555; background-color: #000000ff;\"></div></div>"
      ],
      "text/plain": [
       "<matplotlib.colors.LinearSegmentedColormap at 0x7f9d43283fa0>"
      ]
     },
     "execution_count": 4,
     "metadata": {},
     "output_type": "execute_result"
    }
   ],
   "source": [
    "from sunpy.visualization import colormaps as cm\n",
    "\n",
    "lc3_reg = cm.cmlist['soholasco3']\n",
    "lc3_reg\n",
    "\n",
    "lc3 = cm.cmlist['soholasco3'].reversed()\n",
    "lc3"
   ]
  },
  {
   "cell_type": "code",
   "execution_count": 5,
   "metadata": {},
   "outputs": [],
   "source": [
    "import time\n",
    "import datetime\n",
    "import argparse\n",
    "from random import SystemRandom\n",
    "\n",
    "from rich.progress import track\n",
    "import tqdm\n",
    "\n",
    "import matplotlib.pyplot as plt\n",
    "\n",
    "import cnn_utils as cu"
   ]
  },
  {
   "cell_type": "code",
   "execution_count": 6,
   "metadata": {},
   "outputs": [],
   "source": [
    "from sklearn.model_selection import train_test_split"
   ]
  },
  {
   "cell_type": "code",
   "execution_count": 7,
   "metadata": {},
   "outputs": [],
   "source": [
    "from sklearn.preprocessing import power_transform\n",
    "from sklearn.preprocessing import PowerTransformer"
   ]
  },
  {
   "cell_type": "code",
   "execution_count": 8,
   "metadata": {},
   "outputs": [],
   "source": [
    "%matplotlib inline\n",
    "%load_ext autoreload\n",
    "%autoreload 2"
   ]
  },
  {
   "cell_type": "code",
   "execution_count": 9,
   "metadata": {},
   "outputs": [
    {
     "data": {
      "text/plain": [
       "device(type='cpu')"
      ]
     },
     "execution_count": 9,
     "metadata": {},
     "output_type": "execute_result"
    }
   ],
   "source": [
    "device = torch.device(\"cuda:0\") if torch.cuda.is_available() else torch.device(\"cpu\")\n",
    "device"
   ]
  },
  {
   "cell_type": "markdown",
   "metadata": {},
   "source": [
    "Filter out runs which arrive very late."
   ]
  },
  {
   "cell_type": "code",
   "execution_count": 10,
   "metadata": {},
   "outputs": [
    {
     "name": "stdout",
     "output_type": "stream",
     "text": [
      "SIMID          9.0\n",
      "shift        -36.0\n",
      "Tshock_sim    88.0\n",
      "Tshock_obs    52.0\n",
      "Name: 8, dtype: float64\n",
      "SIMID         13.0\n",
      "shift        -34.0\n",
      "Tshock_sim    86.0\n",
      "Tshock_obs    52.0\n",
      "Name: 12, dtype: float64\n",
      "SIMID         15.0\n",
      "shift        -37.0\n",
      "Tshock_sim    89.0\n",
      "Tshock_obs    52.0\n",
      "Name: 14, dtype: float64\n"
     ]
    },
    {
     "data": {
      "text/html": [
       "<div>\n",
       "<style scoped>\n",
       "    .dataframe tbody tr th:only-of-type {\n",
       "        vertical-align: middle;\n",
       "    }\n",
       "\n",
       "    .dataframe tbody tr th {\n",
       "        vertical-align: top;\n",
       "    }\n",
       "\n",
       "    .dataframe thead th {\n",
       "        text-align: right;\n",
       "    }\n",
       "</style>\n",
       "<table border=\"1\" class=\"dataframe\">\n",
       "  <thead>\n",
       "    <tr style=\"text-align: right;\">\n",
       "      <th></th>\n",
       "      <th>SIMID</th>\n",
       "      <th>shift</th>\n",
       "      <th>Tshock_sim</th>\n",
       "      <th>Tshock_obs</th>\n",
       "    </tr>\n",
       "  </thead>\n",
       "  <tbody>\n",
       "    <tr>\n",
       "      <th>0</th>\n",
       "      <td>1</td>\n",
       "      <td>-18.0</td>\n",
       "      <td>70.0</td>\n",
       "      <td>52</td>\n",
       "    </tr>\n",
       "    <tr>\n",
       "      <th>2</th>\n",
       "      <td>3</td>\n",
       "      <td>-15.0</td>\n",
       "      <td>67.0</td>\n",
       "      <td>52</td>\n",
       "    </tr>\n",
       "    <tr>\n",
       "      <th>3</th>\n",
       "      <td>4</td>\n",
       "      <td>-7.0</td>\n",
       "      <td>59.0</td>\n",
       "      <td>52</td>\n",
       "    </tr>\n",
       "    <tr>\n",
       "      <th>4</th>\n",
       "      <td>5</td>\n",
       "      <td>-22.0</td>\n",
       "      <td>74.0</td>\n",
       "      <td>52</td>\n",
       "    </tr>\n",
       "    <tr>\n",
       "      <th>6</th>\n",
       "      <td>7</td>\n",
       "      <td>-4.0</td>\n",
       "      <td>56.0</td>\n",
       "      <td>52</td>\n",
       "    </tr>\n",
       "    <tr>\n",
       "      <th>9</th>\n",
       "      <td>10</td>\n",
       "      <td>-7.0</td>\n",
       "      <td>59.0</td>\n",
       "      <td>52</td>\n",
       "    </tr>\n",
       "    <tr>\n",
       "      <th>10</th>\n",
       "      <td>11</td>\n",
       "      <td>-33.0</td>\n",
       "      <td>85.0</td>\n",
       "      <td>52</td>\n",
       "    </tr>\n",
       "    <tr>\n",
       "      <th>11</th>\n",
       "      <td>12</td>\n",
       "      <td>-21.0</td>\n",
       "      <td>73.0</td>\n",
       "      <td>52</td>\n",
       "    </tr>\n",
       "    <tr>\n",
       "      <th>15</th>\n",
       "      <td>16</td>\n",
       "      <td>0.0</td>\n",
       "      <td>52.0</td>\n",
       "      <td>52</td>\n",
       "    </tr>\n",
       "    <tr>\n",
       "      <th>16</th>\n",
       "      <td>17</td>\n",
       "      <td>-1.0</td>\n",
       "      <td>53.0</td>\n",
       "      <td>52</td>\n",
       "    </tr>\n",
       "    <tr>\n",
       "      <th>17</th>\n",
       "      <td>18</td>\n",
       "      <td>-26.0</td>\n",
       "      <td>78.0</td>\n",
       "      <td>52</td>\n",
       "    </tr>\n",
       "    <tr>\n",
       "      <th>18</th>\n",
       "      <td>19</td>\n",
       "      <td>-17.0</td>\n",
       "      <td>69.0</td>\n",
       "      <td>52</td>\n",
       "    </tr>\n",
       "    <tr>\n",
       "      <th>19</th>\n",
       "      <td>20</td>\n",
       "      <td>-15.0</td>\n",
       "      <td>67.0</td>\n",
       "      <td>52</td>\n",
       "    </tr>\n",
       "    <tr>\n",
       "      <th>20</th>\n",
       "      <td>21</td>\n",
       "      <td>-3.0</td>\n",
       "      <td>55.0</td>\n",
       "      <td>52</td>\n",
       "    </tr>\n",
       "    <tr>\n",
       "      <th>22</th>\n",
       "      <td>23</td>\n",
       "      <td>-9.0</td>\n",
       "      <td>61.0</td>\n",
       "      <td>52</td>\n",
       "    </tr>\n",
       "  </tbody>\n",
       "</table>\n",
       "</div>"
      ],
      "text/plain": [
       "    SIMID  shift  Tshock_sim  Tshock_obs\n",
       "0       1  -18.0        70.0          52\n",
       "2       3  -15.0        67.0          52\n",
       "3       4   -7.0        59.0          52\n",
       "4       5  -22.0        74.0          52\n",
       "6       7   -4.0        56.0          52\n",
       "9      10   -7.0        59.0          52\n",
       "10     11  -33.0        85.0          52\n",
       "11     12  -21.0        73.0          52\n",
       "15     16    0.0        52.0          52\n",
       "16     17   -1.0        53.0          52\n",
       "17     18  -26.0        78.0          52\n",
       "18     19  -17.0        69.0          52\n",
       "19     20  -15.0        67.0          52\n",
       "20     21   -3.0        55.0          52\n",
       "22     23   -9.0        61.0          52"
      ]
     },
     "execution_count": 10,
     "metadata": {},
     "output_type": "execute_result"
    }
   ],
   "source": [
    "arr_times_data = pd.read_csv(\"./data_surrogate/UShift_CME3_120runs.csv\")\n",
    "arr_times_data = arr_times_data.dropna()\n",
    "\n",
    "print(arr_times_data.iloc[5, :])\n",
    "print(arr_times_data.iloc[9, :])\n",
    "print(arr_times_data.iloc[10, :])\n",
    "\n",
    "# arr_times_data.head()\n",
    "# arr_times_data.index[5]\n",
    "\n",
    "arr_times_data.drop([arr_times_data.index[5],\n",
    "                     arr_times_data.index[9],\n",
    "                     arr_times_data.index[10]], inplace=True)\n",
    "\n",
    "arr_times_data.head(15)"
   ]
  },
  {
   "cell_type": "code",
   "execution_count": 11,
   "metadata": {},
   "outputs": [],
   "source": [
    "data_sim_ids = arr_times_data['SIMID'].to_numpy()\n",
    "data_arr_time = arr_times_data['Tshock_sim'].to_numpy()\n",
    "data_shifts = arr_times_data['shift'].to_numpy()"
   ]
  },
  {
   "cell_type": "code",
   "execution_count": 12,
   "metadata": {},
   "outputs": [],
   "source": [
    "# First split sim_ids, and arr_time into train and test.\n",
    "# Based on this load param file for sims and index that"
   ]
  },
  {
   "cell_type": "code",
   "execution_count": 13,
   "metadata": {},
   "outputs": [
    {
     "name": "stdout",
     "output_type": "stream",
     "text": [
      "110\n"
     ]
    }
   ],
   "source": [
    "num_sim = len(data_sim_ids)\n",
    "print(num_sim)\n",
    "\n",
    "# train_size = np.int64(num_sim * 0.6)\n",
    "# valid_size = np.int64(num_sim * 0.2)\n",
    "# test_size = num_sim - train_size - valid_size\n",
    "# print(train_size, valid_size, test_size)\n",
    "\n",
    "train_frac, valid_frac, test_frac = 0.6, 0.15, 0.25"
   ]
  },
  {
   "cell_type": "code",
   "execution_count": 14,
   "metadata": {},
   "outputs": [],
   "source": [
    "generator1 = torch.Generator().manual_seed(2024)\n",
    "train_valid_test = random_split(data_sim_ids, \n",
    "                                [train_frac, valid_frac, test_frac],\n",
    "                                # [train_size, valid_size, test_size],\n",
    "                                generator=generator1)\n"
   ]
  },
  {
   "cell_type": "code",
   "execution_count": 15,
   "metadata": {},
   "outputs": [
    {
     "data": {
      "text/plain": [
       "array([  1,   3,   4,   5,   7,  10,  11,  12,  16,  17,  18,  19,  20,\n",
       "        21,  23,  25,  26,  27,  28,  29,  30,  31,  32,  33,  34,  35,\n",
       "        36,  37,  38,  39,  40,  41,  42,  43,  44,  45,  46,  47,  48,\n",
       "        49,  50,  51,  52,  53,  54,  55,  56,  57,  58,  59,  60,  61,\n",
       "        62,  63,  64,  65,  66,  67,  68,  69,  71,  72,  73,  74,  75,\n",
       "        76,  77,  78,  79,  80,  81,  82,  83,  84,  85,  86,  87,  88,\n",
       "        89,  90,  91,  92,  93,  94,  95,  96,  97,  98,  99, 100, 101,\n",
       "       102, 103, 104, 105, 106, 107, 108, 109, 110, 111, 112, 113, 114,\n",
       "       115, 116, 117, 118, 119, 120])"
      ]
     },
     "execution_count": 15,
     "metadata": {},
     "output_type": "execute_result"
    }
   ],
   "source": [
    "data_sim_ids"
   ]
  },
  {
   "cell_type": "code",
   "execution_count": 16,
   "metadata": {},
   "outputs": [],
   "source": [
    "train_idx = np.array(train_valid_test[0].indices)\n",
    "valid_idx = np.array(train_valid_test[1].indices)\n",
    "test_idx = np.array(train_valid_test[2].indices)"
   ]
  },
  {
   "cell_type": "code",
   "execution_count": 17,
   "metadata": {},
   "outputs": [],
   "source": [
    "train_sims = data_sim_ids[train_idx] - 1\n",
    "val_sims = data_sim_ids[valid_idx] - 1\n",
    "test_sims = data_sim_ids[test_idx] - 1"
   ]
  },
  {
   "cell_type": "code",
   "execution_count": 18,
   "metadata": {},
   "outputs": [
    {
     "data": {
      "text/plain": [
       "array([ 22, 105,  30,  74,  51,  10,  76, 106, 103,  31,  87,  84,  61,\n",
       "        35,  80,  33,  97,  12,   8,  45,  37,  18,  48,   2,   9,   6,\n",
       "        85,  50,  79,  55, 100,  65,  13,  47,   0,   7,  60,  32,  19,\n",
       "        90,  98,  92,  44,  95,  29,  23, 107,  17,  78,  94,  99,  36,\n",
       "        14,  52,   3,  20, 108,  62,  75,  54,  11,  24,  57,   4,  16,\n",
       "        72,  27])"
      ]
     },
     "execution_count": 18,
     "metadata": {},
     "output_type": "execute_result"
    }
   ],
   "source": [
    "train_idx"
   ]
  },
  {
   "cell_type": "code",
   "execution_count": 19,
   "metadata": {},
   "outputs": [
    {
     "data": {
      "text/plain": [
       "(67, 16, 27)"
      ]
     },
     "execution_count": 19,
     "metadata": {},
     "output_type": "execute_result"
    }
   ],
   "source": [
    "ntrain = train_idx.shape[0]\n",
    "nval = valid_idx.shape[0]\n",
    "ntest = test_idx.shape[0]\n",
    "ntrain, nval, ntest"
   ]
  },
  {
   "cell_type": "code",
   "execution_count": 20,
   "metadata": {},
   "outputs": [],
   "source": [
    "all_idx = np.concatenate((train_idx, valid_idx, test_idx), axis=0)"
   ]
  },
  {
   "cell_type": "code",
   "execution_count": 21,
   "metadata": {},
   "outputs": [
    {
     "data": {
      "text/plain": [
       "(0, 109)"
      ]
     },
     "execution_count": 21,
     "metadata": {},
     "output_type": "execute_result"
    }
   ],
   "source": [
    "all_idx.min(), all_idx.max()"
   ]
  },
  {
   "cell_type": "code",
   "execution_count": 22,
   "metadata": {},
   "outputs": [
    {
     "data": {
      "text/plain": [
       "(110,)"
      ]
     },
     "execution_count": 22,
     "metadata": {},
     "output_type": "execute_result"
    }
   ],
   "source": [
    "data_arr_time.shape"
   ]
  },
  {
   "cell_type": "code",
   "execution_count": 23,
   "metadata": {},
   "outputs": [
    {
     "data": {
      "text/plain": [
       "array([70., 67., 59., 74., 56., 59., 85., 73., 52., 53., 78., 69., 67.,\n",
       "       55., 61., 54., 59., 74., 71., 67., 51., 73., 56., 63., 51., 77.,\n",
       "       62., 63., 72., 51., 49., 50., 74., 46., 71., 55., 61., 55., 67.,\n",
       "       46., 65., 69., 56., 54., 51., 53., 64., 49., 44., 56., 50., 55.,\n",
       "       47., 54., 73., 46., 43., 53., 66., 44., 38., 45., 54., 46., 46.,\n",
       "       58., 50., 53., 47., 56., 43., 52., 39., 50., 63., 55., 40., 41.,\n",
       "       56., 44., 38., 47., 62., 41., 40., 47., 38., 58., 39., 44., 37.,\n",
       "       45., 49., 42., 39., 47., 35., 42., 33., 40., 40., 41., 36., 40.,\n",
       "       41., 45., 33., 36., 47., 32.])"
      ]
     },
     "execution_count": 23,
     "metadata": {},
     "output_type": "execute_result"
    }
   ],
   "source": [
    "data_arr_time"
   ]
  },
  {
   "cell_type": "code",
   "execution_count": null,
   "metadata": {},
   "outputs": [],
   "source": []
  },
  {
   "cell_type": "code",
   "execution_count": 24,
   "metadata": {},
   "outputs": [],
   "source": [
    "from netCDF4 import Dataset\n",
    "from pathlib import Path"
   ]
  },
  {
   "cell_type": "code",
   "execution_count": 25,
   "metadata": {},
   "outputs": [],
   "source": [
    "fileID = Dataset(\"./data_surrogate/CR2192_manuscript_validation_120runs_20240513.nc\")\n",
    "# print(fileID.variables)\n",
    "\n",
    "# only access sims available in the arrival time dataframe.\n",
    "\n",
    "UxSim = fileID.variables['UxSim'][:].T.data[:, data_sim_ids - 1]\n",
    "UySim = fileID.variables['UySim'][:].T.data[:, data_sim_ids - 1]\n",
    "UzSim = fileID.variables['UzSim'][:].T.data[:, data_sim_ids - 1]\n",
    "\n",
    "USim = np.sqrt(UxSim**2 + UySim**2 + UzSim**2)\n",
    "\n",
    "BxSim = fileID.variables['BxSim'][:].T.data[:, data_sim_ids - 1]\n",
    "BySim = fileID.variables['BySim'][:].T.data[:, data_sim_ids - 1]\n",
    "BzSim = fileID.variables['BzSim'][:].T.data[:, data_sim_ids - 1]\n",
    "\n",
    "BSim = np.sqrt(BxSim**2 + BySim**2 + BzSim**2)\n",
    "\n",
    "NpSim = fileID.variables['NpSim'][:].T.data[:, data_sim_ids - 1]\n",
    "\n",
    "timeSim = fileID.variables['time'][:].data\n",
    "\n",
    "# # access attribute\n",
    "# # startTimeSim = fileID.attributes['startTime']\n",
    "# for name, variable in fileID.variables.items():\n",
    "#     for attrname in variable.ncattrs():\n",
    "#         print(attrname, ':', getattr(variable, attrname))"
   ]
  },
  {
   "cell_type": "code",
   "execution_count": 26,
   "metadata": {},
   "outputs": [
    {
     "data": {
      "text/plain": [
       "((95, 110), (95, 110), (95, 110), (95,))"
      ]
     },
     "execution_count": 26,
     "metadata": {},
     "output_type": "execute_result"
    }
   ],
   "source": [
    "USim.shape, BSim.shape, NpSim.shape, timeSim.shape"
   ]
  },
  {
   "cell_type": "code",
   "execution_count": 27,
   "metadata": {},
   "outputs": [],
   "source": [
    "# convert timeSim to datetime\n",
    "from datetime import datetime, timedelta\n",
    "\n",
    "# add timeSim hours to \"2017_07_14T02:55:00\"\n",
    "start_time = datetime.strptime(\"2017_07_14T02:55:00\", \"%Y_%m_%dT%H:%M:%S\")\n",
    "\n",
    "timedelta(hours=1)\n",
    "\n",
    "all_times = [start_time + timedelta(hours=int(hr)) for hr in timeSim]\n",
    "# all_times"
   ]
  },
  {
   "cell_type": "code",
   "execution_count": 28,
   "metadata": {},
   "outputs": [
    {
     "data": {
      "text/plain": [
       "datetime.datetime(2017, 7, 16, 15, 55)"
      ]
     },
     "execution_count": 28,
     "metadata": {},
     "output_type": "execute_result"
    }
   ],
   "source": [
    "# find time index closest to arr_time\n",
    "arr_time = datetime.strptime(\"2017_07_16T16:00:00\", \"%Y_%m_%dT%H:%M:%S\")\n",
    "\n",
    "arr_time_idx = np.abs(np.array(all_times) - arr_time).argmin()\n",
    "np.array(all_times)[arr_time_idx]"
   ]
  },
  {
   "cell_type": "code",
   "execution_count": 29,
   "metadata": {},
   "outputs": [],
   "source": [
    "# use shift data to find the time index for individual sims\n",
    "\n",
    "shifts_data = arr_times_data['shift'].to_numpy().astype(int)\n",
    "\n",
    "shifts_data\n",
    "sim_arr_times_idx = np.array([arr_time_idx - shift for shift in shifts_data])"
   ]
  },
  {
   "cell_type": "code",
   "execution_count": 30,
   "metadata": {},
   "outputs": [
    {
     "data": {
      "text/plain": [
       "(110,)"
      ]
     },
     "execution_count": 30,
     "metadata": {},
     "output_type": "execute_result"
    }
   ],
   "source": [
    "sim_arr_times_idx.shape"
   ]
  },
  {
   "cell_type": "code",
   "execution_count": 31,
   "metadata": {},
   "outputs": [
    {
     "data": {
      "text/plain": [
       "((110,), (110,), (110,))"
      ]
     },
     "execution_count": 31,
     "metadata": {},
     "output_type": "execute_result"
    }
   ],
   "source": [
    "# extract USim, BSim, NpSim for each sim at respective arr_time_idx\n",
    "\n",
    "USim_target = np.array([USim[sim_arr_times_idx[i], i] for i in range(num_sim)])\n",
    "BSim_target = np.array([BSim[sim_arr_times_idx[i], i] for i in range(num_sim)])\n",
    "NpSim_target = np.array([NpSim[sim_arr_times_idx[i], i] for i in range(num_sim)])\n",
    "\n",
    "USim_target.shape, BSim_target.shape, NpSim_target.shape"
   ]
  },
  {
   "cell_type": "code",
   "execution_count": 32,
   "metadata": {},
   "outputs": [
    {
     "data": {
      "text/plain": [
       "(array([ 9., 12., 18., 21., 24., 15.,  5.,  2.,  1.,  3.]),\n",
       " array([ 0.53035042,  6.66182223, 12.79329404, 18.92476586, 25.05623767,\n",
       "        31.18770949, 37.3191813 , 43.45065311, 49.58212493, 55.71359674,\n",
       "        61.84506855]),\n",
       " <BarContainer object of 10 artists>)"
      ]
     },
     "execution_count": 32,
     "metadata": {},
     "output_type": "execute_result"
    },
    {
     "data": {
      "image/png": "[encoded data removed]",
      "text/plain": [
       "<Figure size 640x480 with 1 Axes>"
      ]
     },
     "metadata": {},
     "output_type": "display_data"
    }
   ],
   "source": [
    "plt.hist(BSim_target)"
   ]
  },
  {
   "cell_type": "code",
   "execution_count": 33,
   "metadata": {},
   "outputs": [
    {
     "data": {
      "text/plain": [
       "(array([27., 31., 20., 13., 10.,  3.,  1.,  1.,  2.,  2.]),\n",
       " array([  6.47185629,  17.16586826,  27.85988024,  38.55389222,\n",
       "         49.24790419,  59.94191617,  70.63592814,  81.32994012,\n",
       "         92.0239521 , 102.71796407, 113.41197605]),\n",
       " <BarContainer object of 10 artists>)"
      ]
     },
     "execution_count": 33,
     "metadata": {},
     "output_type": "execute_result"
    },
    {
     "data": {
      "image/png": "[encoded data removed]",
      "text/plain": [
       "<Figure size 640x480 with 1 Axes>"
      ]
     },
     "metadata": {},
     "output_type": "display_data"
    }
   ],
   "source": [
    "plt.hist(NpSim_target)"
   ]
  },
  {
   "cell_type": "code",
   "execution_count": 34,
   "metadata": {},
   "outputs": [
    {
     "data": {
      "text/plain": [
       "(110, 2)"
      ]
     },
     "execution_count": 34,
     "metadata": {},
     "output_type": "execute_result"
    }
   ],
   "source": [
    "# stack data_arr_time, USim_target, BSim_target, NpSim_target into a single array.\n",
    "\n",
    "target_data = np.stack((data_arr_time, \n",
    "                        # USim_target, \n",
    "                        BSim_target, \n",
    "                        # NpSim_target\n",
    "                        ), axis=1)\n",
    "\n",
    "target_data.shape"
   ]
  },
  {
   "cell_type": "code",
   "execution_count": 35,
   "metadata": {},
   "outputs": [
    {
     "data": {
      "text/plain": [
       "(40,\n",
       " array([102., 104., 106., 108., 110., 112., 114., 116., 118., 120., 122.,\n",
       "        124., 126., 128., 130., 132., 134., 136., 138., 140., 142., 144.,\n",
       "        146., 148., 150., 152., 154., 156., 158., 160., 162., 164., 166.,\n",
       "        168., 170., 172., 174., 176., 178., 180.]))"
      ]
     },
     "execution_count": 35,
     "metadata": {},
     "output_type": "execute_result"
    }
   ],
   "source": [
    "all_timesteps = np.linspace(2, 180, 90, dtype=int)\n",
    "tMinIdx = 50 # hardcoding for now, change later to accomodate variable length sequences\n",
    "tMaxIdx = len(all_timesteps) - 1\n",
    "nTimesteps = tMaxIdx - tMinIdx + 1\n",
    "\n",
    "\n",
    "\n",
    "# scale time appropriately\n",
    "tt_raw = np.linspace(all_timesteps[tMinIdx], all_timesteps[tMaxIdx], nTimesteps)\n",
    "tt = np.linspace(0, 1, tMaxIdx - tMinIdx + 1)\n",
    "tpredict = torch.Tensor(tt).to(device)\n",
    "\n",
    "nTimesteps, tt_raw"
   ]
  },
  {
   "cell_type": "code",
   "execution_count": 36,
   "metadata": {},
   "outputs": [
    {
     "name": "stdout",
     "output_type": "stream",
     "text": [
      "(67, 2) (16, 2) (27, 2)\n"
     ]
    }
   ],
   "source": [
    "import sklearn\n",
    "import copy\n",
    "train_arr_raw = target_data[train_idx, :]\n",
    "val_arr_raw = target_data[valid_idx, :]\n",
    "test_arr_raw = target_data[test_idx, :]\n",
    "\n",
    "print(train_arr_raw.shape, val_arr_raw.shape, test_arr_raw.shape)\n",
    "\n",
    "# pt = PowerTransformer(method='box-cox')\n",
    "# pt = sklearn.preprocessing.RobustScaler()\n",
    "pt = sklearn.preprocessing.MinMaxScaler()\n",
    "pt.fit(train_arr_raw)\n",
    "\n",
    "train_arr_pt = pt.transform(train_arr_raw)\n",
    "val_arr_pt = pt.transform(val_arr_raw)\n",
    "test_arr_pt = pt.transform(test_arr_raw)"
   ]
  },
  {
   "cell_type": "code",
   "execution_count": 37,
   "metadata": {},
   "outputs": [],
   "source": [
    "raw_datafile = np.load(\"./data_surrogate/CR2192_120runs_C3_ratio_PolarTensor.npy\")"
   ]
  },
  {
   "cell_type": "code",
   "execution_count": 38,
   "metadata": {},
   "outputs": [
    {
     "data": {
      "text/plain": [
       "(128, 512, 90, 120)"
      ]
     },
     "execution_count": 38,
     "metadata": {},
     "output_type": "execute_result"
    }
   ],
   "source": [
    "raw_datafile.shape"
   ]
  },
  {
   "cell_type": "code",
   "execution_count": 39,
   "metadata": {},
   "outputs": [
    {
     "data": {
      "text/plain": [
       "(0.799298967364635, 1.5)"
      ]
     },
     "execution_count": 39,
     "metadata": {},
     "output_type": "execute_result"
    }
   ],
   "source": [
    "raw_min, raw_max = raw_datafile.min(), raw_datafile.max()\n",
    "raw_min, raw_max"
   ]
  },
  {
   "cell_type": "code",
   "execution_count": 40,
   "metadata": {},
   "outputs": [],
   "source": [
    "train_data_raw = raw_datafile[:, :, :, train_sims]\n",
    "val_data_raw = raw_datafile[:, :, :, val_sims]\n",
    "test_data_raw = raw_datafile[:, :, :, test_sims]"
   ]
  },
  {
   "cell_type": "code",
   "execution_count": 41,
   "metadata": {},
   "outputs": [],
   "source": [
    "resize_dims = args[\"resize_dims\"]\n",
    "\n",
    "train_data_resized = T.Resize(size=resize_dims,\n",
    "                                  antialias=True\n",
    "                                  )(torch.Tensor(train_data_raw.transpose(3, 2, 0, 1)))\n",
    "    \n",
    "val_data_resized = T.Resize(size=resize_dims,\n",
    "                            antialias=True\n",
    "                            )(torch.Tensor(val_data_raw.transpose(3, 2, 0, 1)))\n",
    "\n",
    "test_data_resized = T.Resize(size=resize_dims,\n",
    "                            antialias=True\n",
    "                            )(torch.Tensor(test_data_raw.transpose(3, 2, 0, 1)))"
   ]
  },
  {
   "cell_type": "code",
   "execution_count": 42,
   "metadata": {},
   "outputs": [
    {
     "data": {
      "text/plain": [
       "(tensor(1.5000), tensor(0.8940))"
      ]
     },
     "execution_count": 42,
     "metadata": {},
     "output_type": "execute_result"
    }
   ],
   "source": [
    "max_train = torch.max(train_data_resized)\n",
    "min_train = torch.min(train_data_resized)\n",
    "\n",
    "max_train, min_train"
   ]
  },
  {
   "cell_type": "code",
   "execution_count": 43,
   "metadata": {},
   "outputs": [],
   "source": [
    "train_data = (train_data_resized[:, tMinIdx:(tMaxIdx + 1), :, :] - min_train)/(max_train - min_train)\n",
    "val_data = (val_data_resized[:, tMinIdx:(tMaxIdx + 1), :, :] - min_train)/(max_train - min_train)\n",
    "test_data = (test_data_resized[:, tMinIdx:(tMaxIdx + 1), :, :] - min_train)/(max_train - min_train)"
   ]
  },
  {
   "cell_type": "code",
   "execution_count": 44,
   "metadata": {},
   "outputs": [
    {
     "data": {
      "text/plain": [
       "(torch.Size([67, 40, 16, 64]),\n",
       " torch.Size([16, 40, 16, 64]),\n",
       " torch.Size([27, 40, 16, 64]))"
      ]
     },
     "execution_count": 44,
     "metadata": {},
     "output_type": "execute_result"
    }
   ],
   "source": [
    "train_data.shape, val_data.shape, test_data.shape"
   ]
  },
  {
   "cell_type": "code",
   "execution_count": 45,
   "metadata": {},
   "outputs": [
    {
     "data": {
      "text/plain": [
       "(tensor(1.), tensor(1.), tensor(1.))"
      ]
     },
     "execution_count": 45,
     "metadata": {},
     "output_type": "execute_result"
    }
   ],
   "source": [
    "train_data.max(), val_data.max(), test_data.max()"
   ]
  },
  {
   "cell_type": "markdown",
   "metadata": {},
   "source": [
    "### Concatenate parameters (optional)"
   ]
  },
  {
   "cell_type": "code",
   "execution_count": 46,
   "metadata": {},
   "outputs": [
    {
     "data": {
      "text/html": [
       "<div>\n",
       "<style scoped>\n",
       "    .dataframe tbody tr th:only-of-type {\n",
       "        vertical-align: middle;\n",
       "    }\n",
       "\n",
       "    .dataframe tbody tr th {\n",
       "        vertical-align: top;\n",
       "    }\n",
       "\n",
       "    .dataframe thead th {\n",
       "        text-align: right;\n",
       "    }\n",
       "</style>\n",
       "<table border=\"1\" class=\"dataframe\">\n",
       "  <thead>\n",
       "    <tr style=\"text-align: right;\">\n",
       "      <th></th>\n",
       "      <th>BStrength</th>\n",
       "      <th>OrientationCme</th>\n",
       "      <th>ApexHeight</th>\n",
       "      <th>iHelicity</th>\n",
       "    </tr>\n",
       "  </thead>\n",
       "  <tbody>\n",
       "    <tr>\n",
       "      <th>0</th>\n",
       "      <td>5.0417</td>\n",
       "      <td>347.475</td>\n",
       "      <td>0.8505</td>\n",
       "      <td>-1</td>\n",
       "    </tr>\n",
       "    <tr>\n",
       "      <th>1</th>\n",
       "      <td>5.1250</td>\n",
       "      <td>330.225</td>\n",
       "      <td>0.7196</td>\n",
       "      <td>1</td>\n",
       "    </tr>\n",
       "    <tr>\n",
       "      <th>2</th>\n",
       "      <td>6.7917</td>\n",
       "      <td>380.475</td>\n",
       "      <td>0.7482</td>\n",
       "      <td>1</td>\n",
       "    </tr>\n",
       "    <tr>\n",
       "      <th>3</th>\n",
       "      <td>5.3750</td>\n",
       "      <td>342.225</td>\n",
       "      <td>0.9123</td>\n",
       "      <td>-1</td>\n",
       "    </tr>\n",
       "    <tr>\n",
       "      <th>4</th>\n",
       "      <td>5.2917</td>\n",
       "      <td>322.725</td>\n",
       "      <td>0.8719</td>\n",
       "      <td>1</td>\n",
       "    </tr>\n",
       "    <tr>\n",
       "      <th>...</th>\n",
       "      <td>...</td>\n",
       "      <td>...</td>\n",
       "      <td>...</td>\n",
       "      <td>...</td>\n",
       "    </tr>\n",
       "    <tr>\n",
       "      <th>115</th>\n",
       "      <td>14.6250</td>\n",
       "      <td>300.225</td>\n",
       "      <td>0.6911</td>\n",
       "      <td>1</td>\n",
       "    </tr>\n",
       "    <tr>\n",
       "      <th>116</th>\n",
       "      <td>14.7083</td>\n",
       "      <td>371.475</td>\n",
       "      <td>0.9337</td>\n",
       "      <td>1</td>\n",
       "    </tr>\n",
       "    <tr>\n",
       "      <th>117</th>\n",
       "      <td>14.7917</td>\n",
       "      <td>348.225</td>\n",
       "      <td>0.7743</td>\n",
       "      <td>1</td>\n",
       "    </tr>\n",
       "    <tr>\n",
       "      <th>118</th>\n",
       "      <td>14.8750</td>\n",
       "      <td>312.975</td>\n",
       "      <td>0.7363</td>\n",
       "      <td>-1</td>\n",
       "    </tr>\n",
       "    <tr>\n",
       "      <th>119</th>\n",
       "      <td>14.9583</td>\n",
       "      <td>340.725</td>\n",
       "      <td>0.8933</td>\n",
       "      <td>-1</td>\n",
       "    </tr>\n",
       "  </tbody>\n",
       "</table>\n",
       "<p>120 rows × 4 columns</p>\n",
       "</div>"
      ],
      "text/plain": [
       "     BStrength  OrientationCme  ApexHeight  iHelicity\n",
       "0       5.0417         347.475      0.8505         -1\n",
       "1       5.1250         330.225      0.7196          1\n",
       "2       6.7917         380.475      0.7482          1\n",
       "3       5.3750         342.225      0.9123         -1\n",
       "4       5.2917         322.725      0.8719          1\n",
       "..         ...             ...         ...        ...\n",
       "115    14.6250         300.225      0.6911          1\n",
       "116    14.7083         371.475      0.9337          1\n",
       "117    14.7917         348.225      0.7743          1\n",
       "118    14.8750         312.975      0.7363         -1\n",
       "119    14.9583         340.725      0.8933         -1\n",
       "\n",
       "[120 rows x 4 columns]"
      ]
     },
     "execution_count": 46,
     "metadata": {},
     "output_type": "execute_result"
    }
   ],
   "source": [
    "raw_params = pd.read_csv(\"./data_surrogate/params_2192_120runs.csv\")\n",
    "raw_params = raw_params[[\"BStrength\", \"OrientationCme\", \"ApexHeight\", \"iHelicity\"]]\n",
    "raw_params"
   ]
  },
  {
   "cell_type": "code",
   "execution_count": 47,
   "metadata": {},
   "outputs": [
    {
     "data": {
      "text/html": [
       "<div>\n",
       "<style scoped>\n",
       "    .dataframe tbody tr th:only-of-type {\n",
       "        vertical-align: middle;\n",
       "    }\n",
       "\n",
       "    .dataframe tbody tr th {\n",
       "        vertical-align: top;\n",
       "    }\n",
       "\n",
       "    .dataframe thead th {\n",
       "        text-align: right;\n",
       "    }\n",
       "</style>\n",
       "<table border=\"1\" class=\"dataframe\">\n",
       "  <thead>\n",
       "    <tr style=\"text-align: right;\">\n",
       "      <th></th>\n",
       "      <th>BStrength</th>\n",
       "      <th>OrientationCme</th>\n",
       "      <th>ApexHeight</th>\n",
       "      <th>iHelicity</th>\n",
       "    </tr>\n",
       "  </thead>\n",
       "  <tbody>\n",
       "    <tr>\n",
       "      <th>min</th>\n",
       "      <td>5.0417</td>\n",
       "      <td>294.975</td>\n",
       "      <td>0.6673</td>\n",
       "      <td>-1</td>\n",
       "    </tr>\n",
       "    <tr>\n",
       "      <th>max</th>\n",
       "      <td>14.9583</td>\n",
       "      <td>384.225</td>\n",
       "      <td>0.9504</td>\n",
       "      <td>1</td>\n",
       "    </tr>\n",
       "  </tbody>\n",
       "</table>\n",
       "</div>"
      ],
      "text/plain": [
       "     BStrength  OrientationCme  ApexHeight  iHelicity\n",
       "min     5.0417         294.975      0.6673         -1\n",
       "max    14.9583         384.225      0.9504          1"
      ]
     },
     "execution_count": 47,
     "metadata": {},
     "output_type": "execute_result"
    }
   ],
   "source": [
    "raw_params.agg(['min', 'max'])"
   ]
  },
  {
   "cell_type": "code",
   "execution_count": 48,
   "metadata": {},
   "outputs": [
    {
     "data": {
      "text/plain": [
       "(110, 4)"
      ]
     },
     "execution_count": 48,
     "metadata": {},
     "output_type": "execute_result"
    }
   ],
   "source": [
    "raw_params_retained = raw_params.to_numpy()[data_sim_ids - 1, :]\n",
    "raw_params_retained.shape"
   ]
  },
  {
   "cell_type": "code",
   "execution_count": 50,
   "metadata": {},
   "outputs": [],
   "source": [
    "param_scaling = [15, 384, 0.95, 1]"
   ]
  },
  {
   "cell_type": "code",
   "execution_count": 51,
   "metadata": {},
   "outputs": [
    {
     "data": {
      "text/plain": [
       "(67, 4)"
      ]
     },
     "execution_count": 51,
     "metadata": {},
     "output_type": "execute_result"
    }
   ],
   "source": [
    "raw_params_retained[train_idx, :].shape"
   ]
  },
  {
   "cell_type": "markdown",
   "metadata": {},
   "source": [
    "### Train-test split and normalization\n",
    "\n",
    "Use train_idx, valid_idx and test_idx"
   ]
  },
  {
   "cell_type": "code",
   "execution_count": 52,
   "metadata": {},
   "outputs": [],
   "source": [
    "train_params_raw = raw_params_retained[train_idx, :] / param_scaling\n",
    "valid_params_raw = raw_params_retained[valid_idx, :] / param_scaling\n",
    "test_params_raw = raw_params_retained[test_idx, :] / param_scaling"
   ]
  },
  {
   "cell_type": "code",
   "execution_count": 53,
   "metadata": {},
   "outputs": [],
   "source": [
    "train_snaps = train_data.reshape((train_data.shape[0], train_data.shape[1], -1))\n",
    "val_snaps = val_data.reshape((val_data.shape[0], val_data.shape[1], -1))\n",
    "test_snaps = test_data.reshape((test_data.shape[0], test_data.shape[1], -1))\n",
    "\n",
    "# repeat parameter values up to number of timesteps\n",
    "train_params_ts = np.repeat(train_params_raw.reshape((train_params_raw.shape[0], train_params_raw.shape[1], 1)), nTimesteps, axis=2)\n",
    "val_params_ts = np.repeat(valid_params_raw.reshape((valid_params_raw.shape[0], valid_params_raw.shape[1], 1)), nTimesteps, axis=2)\n",
    "test_params_ts = np.repeat(test_params_raw.reshape((test_params_raw.shape[0], test_params_raw.shape[1], 1)), nTimesteps, axis=2)\n",
    "\n",
    "# concatenate snaps and params\n",
    "train_all = torch.cat((train_snaps, torch.Tensor(np.transpose(train_params_ts, (0, 2, 1)))), 2)\n",
    "val_all = torch.cat((val_snaps, torch.Tensor(np.transpose(val_params_ts, (0, 2, 1)))), 2)\n",
    "test_all = torch.cat((test_snaps, torch.Tensor(np.transpose(test_params_ts, (0, 2, 1)))), 2)"
   ]
  },
  {
   "cell_type": "code",
   "execution_count": 54,
   "metadata": {},
   "outputs": [
    {
     "data": {
      "text/plain": [
       "(torch.Size([67, 40, 1024]), torch.Size([16, 40, 1024]))"
      ]
     },
     "execution_count": 54,
     "metadata": {},
     "output_type": "execute_result"
    }
   ],
   "source": [
    "train_snaps.shape, val_snaps.shape"
   ]
  },
  {
   "cell_type": "code",
   "execution_count": 55,
   "metadata": {},
   "outputs": [],
   "source": [
    "train_arr_ts = torch.Tensor(train_arr_pt)\n",
    "val_arr_ts = torch.Tensor(val_arr_pt)\n",
    "test_arr_ts = torch.Tensor(test_arr_pt)\n",
    "\n",
    "train_arr_raw_ts = torch.Tensor(train_arr_raw).unsqueeze(1)\n",
    "val_arr_raw_ts = torch.Tensor(val_arr_raw).unsqueeze(1)\n",
    "test_arr_raw_ts = torch.Tensor(test_arr_raw).unsqueeze(1)"
   ]
  },
  {
   "cell_type": "code",
   "execution_count": 56,
   "metadata": {},
   "outputs": [
    {
     "data": {
      "text/plain": [
       "(torch.Size([67, 40, 1028]),\n",
       " torch.Size([16, 40, 1028]),\n",
       " torch.Size([27, 40, 1028]))"
      ]
     },
     "execution_count": 56,
     "metadata": {},
     "output_type": "execute_result"
    }
   ],
   "source": [
    "train_all.shape, val_all.shape, test_all.shape"
   ]
  },
  {
   "cell_type": "code",
   "execution_count": 57,
   "metadata": {},
   "outputs": [
    {
     "data": {
      "text/plain": [
       "(67, 16, 27)"
      ]
     },
     "execution_count": 57,
     "metadata": {},
     "output_type": "execute_result"
    }
   ],
   "source": [
    "ntrain, nval, ntest"
   ]
  },
  {
   "cell_type": "code",
   "execution_count": 58,
   "metadata": {},
   "outputs": [],
   "source": [
    "train_dataset = []\n",
    "val_dataset = []\n",
    "test_dataset = []\n",
    "for i in range(ntrain):\n",
    "    for j in range(1, nTimesteps - 1):\n",
    "        train_dataset.append((train_all[i:(i+1), (j-1):(j+2), :], train_arr_ts[i, :], train_arr_raw_ts[i, :]))\n",
    "\n",
    "for i in range(nval):\n",
    "    for j in range(1, nTimesteps - 1):\n",
    "        val_dataset.append((val_all[i:(i+1), (j-1):(j+2), :], val_arr_ts[i, :], val_arr_raw_ts[i, :]))\n",
    "\n",
    "for i in range(ntest):\n",
    "    for j in range(1, nTimesteps - 1):\n",
    "        test_dataset.append((test_all[i:(i+1), (j-1):(j+2), :], test_arr_ts[i, :], test_arr_raw_ts[i, :]))"
   ]
  },
  {
   "cell_type": "code",
   "execution_count": 59,
   "metadata": {},
   "outputs": [],
   "source": [
    "train_dataloader = DataLoader(train_dataset, \n",
    "                              batch_size = args[\"batch_size\"],\n",
    "                              shuffle=True, \n",
    "                              )\n",
    "\n",
    "val_dataloader = DataLoader(val_dataset,\n",
    "                            batch_size = args[\"batch_size\"],\n",
    "                            shuffle=False,\n",
    "                            )\n",
    "\n",
    "test_dataloader = DataLoader(test_dataset,\n",
    "                             batch_size = len(test_dataset),\n",
    "                             shuffle=False,\n",
    "                             )"
   ]
  },
  {
   "cell_type": "code",
   "execution_count": 60,
   "metadata": {},
   "outputs": [
    {
     "data": {
      "text/plain": [
       "torch.Size([27, 40, 1028])"
      ]
     },
     "execution_count": 60,
     "metadata": {},
     "output_type": "execute_result"
    }
   ],
   "source": [
    "test_all.shape"
   ]
  },
  {
   "cell_type": "code",
   "execution_count": 61,
   "metadata": {},
   "outputs": [
    {
     "data": {
      "text/plain": [
       "(2546, 608, 1026)"
      ]
     },
     "execution_count": 61,
     "metadata": {},
     "output_type": "execute_result"
    }
   ],
   "source": [
    "len(train_dataset), len(val_dataset), len(test_dataset)"
   ]
  },
  {
   "cell_type": "code",
   "execution_count": 62,
   "metadata": {},
   "outputs": [],
   "source": [
    "# blah = train_dataloader.__iter__().__next__()\n",
    "# blah[0].shape, blah[1].shape, blah[2].shape"
   ]
  },
  {
   "cell_type": "code",
   "execution_count": 63,
   "metadata": {},
   "outputs": [],
   "source": [
    "def inf_generator(iterable):\n",
    "    \"\"\"Allows training with DataLoaders in a single infinite loop:\n",
    "        for i, (x, y) in enumerate(inf_generator(train_loader)):\n",
    "    \"\"\"\n",
    "    iterator = iterable.__iter__()\n",
    "    while True:\n",
    "        try:\n",
    "            yield iterator.__next__()\n",
    "        except StopIteration:\n",
    "            iterator = iterable.__iter__()\n",
    "\n",
    "def get_next_batch(dataloader, device=torch.device(\"cuda:0\")):\n",
    "    return dataloader.__next__()"
   ]
  },
  {
   "cell_type": "code",
   "execution_count": 66,
   "metadata": {},
   "outputs": [],
   "source": [
    "class WLCNN_Discrete(torch.nn.Module):\n",
    "    def __init__(self, n_hidden_1,\n",
    "                  n_hidden_2):\n",
    "        super(WLCNN_Discrete, self).__init__()\n",
    "        in_channels = 3\n",
    "\n",
    "        self.features = torch.nn.Sequential(\n",
    "            nn.Conv2d(in_channels, 8, kernel_size=3, stride=1, padding=1),\n",
    "            nn.BatchNorm2d(8),\n",
    "            nn.ELU(),\n",
    "            nn.Conv2d(8, 16, kernel_size=5, stride=3, padding=3),\n",
    "            nn.BatchNorm2d(16),\n",
    "            nn.ELU(),\n",
    "            # nn.ELU(),\n",
    "            # nn.Conv2d(32, 64, kernel_size=7, stride=1, padding=1),\n",
    "            # nn.BatchNorm2d(64),\n",
    "            # nn.ELU(),\n",
    "            nn.MaxPool2d(kernel_size=3, stride=1),\n",
    "        )\n",
    "\n",
    "        self.regressor = torch.nn.Sequential(\n",
    "            # nn.Linear(1280, n_hidden_1),\n",
    "            nn.Linear(1284, n_hidden_1),\n",
    "            nn.BatchNorm1d(n_hidden_1),\n",
    "            nn.ELU(),\n",
    "            nn.Dropout(p=0.5),\n",
    "            nn.Linear(n_hidden_1, n_hidden_2),\n",
    "            nn.BatchNorm1d(n_hidden_2),\n",
    "            nn.Dropout(p=0.5),\n",
    "            nn.ELU(),\n",
    "            nn.Linear(n_hidden_2, 2)\n",
    "        )\n",
    "\n",
    "    def forward(self, x):\n",
    "        x_ip = x[:, 0, :, :1024].reshape(-1, 3, 16, 64)\n",
    "        x_param = x[:, 0, 0, 1024:]\n",
    "        \n",
    "        x_ft = self.features(x_ip)\n",
    "        \n",
    "        x_ft = torch.flatten(x_ft, 1)\n",
    "\n",
    "        x_ft_cat = torch.cat((x_ft, x_param), 1)\n",
    "        # xpred = self.regressor(x_ft)\n",
    "        xpred = self.regressor(x_ft_cat)\n",
    "\n",
    "        return xpred"
   ]
  },
  {
   "cell_type": "code",
   "execution_count": 67,
   "metadata": {},
   "outputs": [],
   "source": [
    "import node_utils as nut\n",
    "import data_utils as dut\n",
    "import copy"
   ]
  },
  {
   "cell_type": "code",
   "execution_count": 68,
   "metadata": {},
   "outputs": [
    {
     "name": "stdout",
     "output_type": "stream",
     "text": [
      "Total number of parameters for model with concatenation:  24250\n",
      "Starting New experiment\n",
      "Experiment ID:  50967\n",
      "Checkpoint path:  /Users/ajivani/Desktop/Research/WLROM/WhiteLight/arr_experiments/experiment_50967.ckpt\n",
      "/Users/ajivani/Desktop/Research/WLROM/WhiteLight\n",
      "WLCNN_Discrete(\n",
      "  (features): Sequential(\n",
      "    (0): Conv2d(3, 8, kernel_size=(3, 3), stride=(1, 1), padding=(1, 1))\n",
      "    (1): BatchNorm2d(8, eps=1e-05, momentum=0.1, affine=True, track_running_stats=True)\n",
      "    (2): ELU(alpha=1.0)\n",
      "    (3): Conv2d(8, 16, kernel_size=(5, 5), stride=(3, 3), padding=(3, 3))\n",
      "    (4): BatchNorm2d(16, eps=1e-05, momentum=0.1, affine=True, track_running_stats=True)\n",
      "    (5): ELU(alpha=1.0)\n",
      "    (6): MaxPool2d(kernel_size=3, stride=1, padding=0, dilation=1, ceil_mode=False)\n",
      "  )\n",
      "  (regressor): Sequential(\n",
      "    (0): Linear(in_features=1284, out_features=16, bias=True)\n",
      "    (1): BatchNorm1d(16, eps=1e-05, momentum=0.1, affine=True, track_running_stats=True)\n",
      "    (2): ELU(alpha=1.0)\n",
      "    (3): Dropout(p=0.5, inplace=False)\n",
      "    (4): Linear(in_features=16, out_features=8, bias=True)\n",
      "    (5): BatchNorm1d(8, eps=1e-05, momentum=0.1, affine=True, track_running_stats=True)\n",
      "    (6): Dropout(p=0.5, inplace=False)\n",
      "    (7): ELU(alpha=1.0)\n",
      "    (8): Linear(in_features=8, out_features=2, bias=True)\n",
      "  )\n",
      ")\n",
      "Number of parameters: 24250\n",
      "{'niters': 450, 'lr': 0.001, 'save': 'arr_experiments/', 'load': None, 'r': 1991, 'resize_dims': (16, 64), 'param_scaling': [1, 1], 'warm_start': 20376, 'do_warm_start': False, 'loss': 'mae', 'batch_size': 32, 'dropout': False}\n",
      "/Users/ajivani/Desktop/Research/WLROM/WhiteLight/arr_experiments/experiment_50967.ckpt\n",
      "cpu\n"
     ]
    }
   ],
   "source": [
    "model = WLCNN_Discrete(n_hidden_1=16,\n",
    "                       n_hidden_2=8).to(device)\n",
    "pmodel = nut.count_parameters(model)\n",
    "\n",
    "\n",
    "print(\"Total number of parameters for model with concatenation: \", pmodel)\n",
    "\n",
    "nut.makedirs(os.path.join(os.getcwd(), \"arr_logs\"))\n",
    "logdir = os.path.join(os.getcwd(), \"arr_logs\")\n",
    "\n",
    "exptdir = os.path.join(os.getcwd(), args[\"save\"])\n",
    "nut.makedirs(exptdir)\n",
    "\n",
    "if args[\"load\"] is not None:\n",
    "    experimentID = args[\"load\"]\n",
    "    print(\"Loading experiment\")\n",
    "else:\n",
    "    if args[\"do_warm_start\"]==True:\n",
    "        experimentID = args[\"warm_start\"]\n",
    "        print(\"Warm starting previous experiment\")\n",
    "    else:\n",
    "        experimentID = int(SystemRandom().random() * 1e5)\n",
    "        print(\"Starting New experiment\")\n",
    "\n",
    "print(\"Experiment ID: \", experimentID)\n",
    "\n",
    "ckpt_path = ckpt_path = os.path.join(exptdir, \"experiment_\" + str(experimentID) + '.ckpt')\n",
    "\n",
    "print(\"Checkpoint path: \", ckpt_path)\n",
    "\n",
    "logger = dut.get_logger(logpath=os.path.join(logdir, \"experiment_\" + str(experimentID) + '.log'))\n",
    "\n",
    "logger.info(os.getcwd())\n",
    "logger.info(model)\n",
    "logger.info(\"Number of parameters: {}\".format(pmodel))\n",
    "logger.info(args)\n",
    "logger.info(ckpt_path)\n",
    "logger.info(device)"
   ]
  },
  {
   "cell_type": "code",
   "execution_count": 69,
   "metadata": {},
   "outputs": [
    {
     "data": {
      "application/vnd.jupyter.widget-view+json": {
       "model_id": "39ccb424221e4fbd89c09ebbc6411ed7",
       "version_major": 2,
       "version_minor": 0
      },
      "text/plain": [
       "Output()"
      ]
     },
     "metadata": {},
     "output_type": "display_data"
    },
    {
     "name": "stdout",
     "output_type": "stream",
     "text": [
      "L1Loss()\n",
      "Starting a new experiment 50967 from Epoch 0\n"
     ]
    },
    {
     "data": {
      "text/html": [
       "<pre style=\"white-space:pre;overflow-x:auto;line-height:normal;font-family:Menlo,'DejaVu Sans Mono',consolas,'Courier New',monospace\">Epoch 0001|Val loss 1.820142e-01|Train loss 3.507789e-01|LR 0.00100|\n",
       "</pre>\n"
      ],
      "text/plain": [
       "Epoch 0001|Val loss 1.820142e-01|Train loss 3.507789e-01|LR 0.00100|\n"
      ]
     },
     "metadata": {},
     "output_type": "display_data"
    },
    {
     "data": {
      "text/html": [
       "<pre style=\"white-space:pre;overflow-x:auto;line-height:normal;font-family:Menlo,'DejaVu Sans Mono',consolas,'Courier New',monospace\">Epoch 0002|Val loss 1.389549e-01|Train loss 2.307990e-01|LR 0.00100|\n",
       "</pre>\n"
      ],
      "text/plain": [
       "Epoch 0002|Val loss 1.389549e-01|Train loss 2.307990e-01|LR 0.00100|\n"
      ]
     },
     "metadata": {},
     "output_type": "display_data"
    },
    {
     "data": {
      "text/html": [
       "<pre style=\"white-space:pre;overflow-x:auto;line-height:normal;font-family:Menlo,'DejaVu Sans Mono',consolas,'Courier New',monospace\">Epoch 0003|Val loss 1.217088e-01|Train loss 1.825922e-01|LR 0.00100|\n",
       "</pre>\n"
      ],
      "text/plain": [
       "Epoch 0003|Val loss 1.217088e-01|Train loss 1.825922e-01|LR 0.00100|\n"
      ]
     },
     "metadata": {},
     "output_type": "display_data"
    },
    {
     "data": {
      "text/html": [
       "<pre style=\"white-space:pre;overflow-x:auto;line-height:normal;font-family:Menlo,'DejaVu Sans Mono',consolas,'Courier New',monospace\">Epoch 0004|Val loss 1.481971e-01|Train loss 1.724718e-01|LR 0.00100|\n",
       "</pre>\n"
      ],
      "text/plain": [
       "Epoch 0004|Val loss 1.481971e-01|Train loss 1.724718e-01|LR 0.00100|\n"
      ]
     },
     "metadata": {},
     "output_type": "display_data"
    },
    {
     "data": {
      "text/html": [
       "<pre style=\"white-space:pre;overflow-x:auto;line-height:normal;font-family:Menlo,'DejaVu Sans Mono',consolas,'Courier New',monospace\">Epoch 0005|Val loss 1.128965e-01|Train loss 1.584614e-01|LR 0.00100|\n",
       "</pre>\n"
      ],
      "text/plain": [
       "Epoch 0005|Val loss 1.128965e-01|Train loss 1.584614e-01|LR 0.00100|\n"
      ]
     },
     "metadata": {},
     "output_type": "display_data"
    },
    {
     "data": {
      "text/html": [
       "<pre style=\"white-space:pre;overflow-x:auto;line-height:normal;font-family:Menlo,'DejaVu Sans Mono',consolas,'Courier New',monospace\">Epoch 0006|Val loss 9.520306e-02|Train loss 1.486409e-01|LR 0.00100|\n",
       "</pre>\n"
      ],
      "text/plain": [
       "Epoch 0006|Val loss 9.520306e-02|Train loss 1.486409e-01|LR 0.00100|\n"
      ]
     },
     "metadata": {},
     "output_type": "display_data"
    },
    {
     "data": {
      "text/html": [
       "<pre style=\"white-space:pre;overflow-x:auto;line-height:normal;font-family:Menlo,'DejaVu Sans Mono',consolas,'Courier New',monospace\">Epoch 0007|Val loss 1.150157e-01|Train loss 1.457559e-01|LR 0.00100|\n",
       "</pre>\n"
      ],
      "text/plain": [
       "Epoch 0007|Val loss 1.150157e-01|Train loss 1.457559e-01|LR 0.00100|\n"
      ]
     },
     "metadata": {},
     "output_type": "display_data"
    },
    {
     "data": {
      "text/html": [
       "<pre style=\"white-space:pre;overflow-x:auto;line-height:normal;font-family:Menlo,'DejaVu Sans Mono',consolas,'Courier New',monospace\">Epoch 0008|Val loss 8.917305e-02|Train loss 1.384204e-01|LR 0.00100|\n",
       "</pre>\n"
      ],
      "text/plain": [
       "Epoch 0008|Val loss 8.917305e-02|Train loss 1.384204e-01|LR 0.00100|\n"
      ]
     },
     "metadata": {},
     "output_type": "display_data"
    },
    {
     "data": {
      "text/html": [
       "<pre style=\"white-space:pre;overflow-x:auto;line-height:normal;font-family:Menlo,'DejaVu Sans Mono',consolas,'Courier New',monospace\">Epoch 0009|Val loss 1.332436e-01|Train loss 1.385650e-01|LR 0.00100|\n",
       "</pre>\n"
      ],
      "text/plain": [
       "Epoch 0009|Val loss 1.332436e-01|Train loss 1.385650e-01|LR 0.00100|\n"
      ]
     },
     "metadata": {},
     "output_type": "display_data"
    },
    {
     "data": {
      "text/html": [
       "<pre style=\"white-space:pre;overflow-x:auto;line-height:normal;font-family:Menlo,'DejaVu Sans Mono',consolas,'Courier New',monospace\">Epoch 0010|Val loss 2.936040e-01|Train loss 1.367414e-01|LR 0.00100|\n",
       "</pre>\n"
      ],
      "text/plain": [
       "Epoch 0010|Val loss 2.936040e-01|Train loss 1.367414e-01|LR 0.00100|\n"
      ]
     },
     "metadata": {},
     "output_type": "display_data"
    },
    {
     "data": {
      "text/html": [
       "<pre style=\"white-space:pre;overflow-x:auto;line-height:normal;font-family:Menlo,'DejaVu Sans Mono',consolas,'Courier New',monospace\">Val loss decreased (inf to 0.29). Model saved\n",
       "</pre>\n"
      ],
      "text/plain": [
       "Val loss decreased (inf to 0.29). Model saved\n"
      ]
     },
     "metadata": {},
     "output_type": "display_data"
    },
    {
     "data": {
      "text/html": [
       "<pre style=\"white-space:pre;overflow-x:auto;line-height:normal;font-family:Menlo,'DejaVu Sans Mono',consolas,'Courier New',monospace\">Epoch 0011|Val loss 1.419477e-01|Train loss 1.372503e-01|LR 0.00100|\n",
       "</pre>\n"
      ],
      "text/plain": [
       "Epoch 0011|Val loss 1.419477e-01|Train loss 1.372503e-01|LR 0.00100|\n"
      ]
     },
     "metadata": {},
     "output_type": "display_data"
    },
    {
     "data": {
      "text/html": [
       "<pre style=\"white-space:pre;overflow-x:auto;line-height:normal;font-family:Menlo,'DejaVu Sans Mono',consolas,'Courier New',monospace\">Epoch 0012|Val loss 1.181208e-01|Train loss 1.377434e-01|LR 0.00100|\n",
       "</pre>\n"
      ],
      "text/plain": [
       "Epoch 0012|Val loss 1.181208e-01|Train loss 1.377434e-01|LR 0.00100|\n"
      ]
     },
     "metadata": {},
     "output_type": "display_data"
    },
    {
     "data": {
      "text/html": [
       "<pre style=\"white-space:pre;overflow-x:auto;line-height:normal;font-family:Menlo,'DejaVu Sans Mono',consolas,'Courier New',monospace\">Epoch 0013|Val loss 8.997354e-02|Train loss 1.396151e-01|LR 0.00100|\n",
       "</pre>\n"
      ],
      "text/plain": [
       "Epoch 0013|Val loss 8.997354e-02|Train loss 1.396151e-01|LR 0.00100|\n"
      ]
     },
     "metadata": {},
     "output_type": "display_data"
    },
    {
     "data": {
      "text/html": [
       "<pre style=\"white-space:pre;overflow-x:auto;line-height:normal;font-family:Menlo,'DejaVu Sans Mono',consolas,'Courier New',monospace\">Epoch 0014|Val loss 1.002796e-01|Train loss 1.386730e-01|LR 0.00100|\n",
       "</pre>\n"
      ],
      "text/plain": [
       "Epoch 0014|Val loss 1.002796e-01|Train loss 1.386730e-01|LR 0.00100|\n"
      ]
     },
     "metadata": {},
     "output_type": "display_data"
    },
    {
     "data": {
      "text/html": [
       "<pre style=\"white-space:pre;overflow-x:auto;line-height:normal;font-family:Menlo,'DejaVu Sans Mono',consolas,'Courier New',monospace\">Epoch 0015|Val loss 1.007714e-01|Train loss 1.317088e-01|LR 0.00100|\n",
       "</pre>\n"
      ],
      "text/plain": [
       "Epoch 0015|Val loss 1.007714e-01|Train loss 1.317088e-01|LR 0.00100|\n"
      ]
     },
     "metadata": {},
     "output_type": "display_data"
    },
    {
     "data": {
      "text/html": [
       "<pre style=\"white-space:pre;overflow-x:auto;line-height:normal;font-family:Menlo,'DejaVu Sans Mono',consolas,'Courier New',monospace\">Epoch 0016|Val loss 1.076239e-01|Train loss 1.339093e-01|LR 0.00100|\n",
       "</pre>\n"
      ],
      "text/plain": [
       "Epoch 0016|Val loss 1.076239e-01|Train loss 1.339093e-01|LR 0.00100|\n"
      ]
     },
     "metadata": {},
     "output_type": "display_data"
    },
    {
     "data": {
      "text/html": [
       "<pre style=\"white-space:pre;overflow-x:auto;line-height:normal;font-family:Menlo,'DejaVu Sans Mono',consolas,'Courier New',monospace\">Epoch 0017|Val loss 1.104525e-01|Train loss 1.324140e-01|LR 0.00100|\n",
       "</pre>\n"
      ],
      "text/plain": [
       "Epoch 0017|Val loss 1.104525e-01|Train loss 1.324140e-01|LR 0.00100|\n"
      ]
     },
     "metadata": {},
     "output_type": "display_data"
    },
    {
     "data": {
      "text/html": [
       "<pre style=\"white-space:pre;overflow-x:auto;line-height:normal;font-family:Menlo,'DejaVu Sans Mono',consolas,'Courier New',monospace\">Epoch 0018|Val loss 1.826563e-01|Train loss 1.312436e-01|LR 0.00100|\n",
       "</pre>\n"
      ],
      "text/plain": [
       "Epoch 0018|Val loss 1.826563e-01|Train loss 1.312436e-01|LR 0.00100|\n"
      ]
     },
     "metadata": {},
     "output_type": "display_data"
    },
    {
     "data": {
      "text/html": [
       "<pre style=\"white-space:pre;overflow-x:auto;line-height:normal;font-family:Menlo,'DejaVu Sans Mono',consolas,'Courier New',monospace\">Epoch 0019|Val loss 1.019384e-01|Train loss 1.305174e-01|LR 0.00100|\n",
       "</pre>\n"
      ],
      "text/plain": [
       "Epoch 0019|Val loss 1.019384e-01|Train loss 1.305174e-01|LR 0.00100|\n"
      ]
     },
     "metadata": {},
     "output_type": "display_data"
    },
    {
     "data": {
      "text/html": [
       "<pre style=\"white-space:pre;overflow-x:auto;line-height:normal;font-family:Menlo,'DejaVu Sans Mono',consolas,'Courier New',monospace\">Epoch 0020|Val loss 1.093359e-01|Train loss 1.324743e-01|LR 0.00100|\n",
       "</pre>\n"
      ],
      "text/plain": [
       "Epoch 0020|Val loss 1.093359e-01|Train loss 1.324743e-01|LR 0.00100|\n"
      ]
     },
     "metadata": {},
     "output_type": "display_data"
    },
    {
     "data": {
      "text/html": [
       "<pre style=\"white-space:pre;overflow-x:auto;line-height:normal;font-family:Menlo,'DejaVu Sans Mono',consolas,'Courier New',monospace\">Val loss decreased (0.29 to 0.11). Model saved\n",
       "</pre>\n"
      ],
      "text/plain": [
       "Val loss decreased (0.29 to 0.11). Model saved\n"
      ]
     },
     "metadata": {},
     "output_type": "display_data"
    },
    {
     "data": {
      "text/html": [
       "<pre style=\"white-space:pre;overflow-x:auto;line-height:normal;font-family:Menlo,'DejaVu Sans Mono',consolas,'Courier New',monospace\">Epoch 0021|Val loss 1.703366e-01|Train loss 1.405848e-01|LR 0.00100|\n",
       "</pre>\n"
      ],
      "text/plain": [
       "Epoch 0021|Val loss 1.703366e-01|Train loss 1.405848e-01|LR 0.00100|\n"
      ]
     },
     "metadata": {},
     "output_type": "display_data"
    },
    {
     "data": {
      "text/html": [
       "<pre style=\"white-space:pre;overflow-x:auto;line-height:normal;font-family:Menlo,'DejaVu Sans Mono',consolas,'Courier New',monospace\">Epoch 0022|Val loss 1.061801e-01|Train loss 1.418794e-01|LR 0.00100|\n",
       "</pre>\n"
      ],
      "text/plain": [
       "Epoch 0022|Val loss 1.061801e-01|Train loss 1.418794e-01|LR 0.00100|\n"
      ]
     },
     "metadata": {},
     "output_type": "display_data"
    },
    {
     "data": {
      "text/html": [
       "<pre style=\"white-space:pre;overflow-x:auto;line-height:normal;font-family:Menlo,'DejaVu Sans Mono',consolas,'Courier New',monospace\">Epoch 0023|Val loss 1.184743e-01|Train loss 1.403138e-01|LR 0.00100|\n",
       "</pre>\n"
      ],
      "text/plain": [
       "Epoch 0023|Val loss 1.184743e-01|Train loss 1.403138e-01|LR 0.00100|\n"
      ]
     },
     "metadata": {},
     "output_type": "display_data"
    },
    {
     "data": {
      "text/html": [
       "<pre style=\"white-space:pre;overflow-x:auto;line-height:normal;font-family:Menlo,'DejaVu Sans Mono',consolas,'Courier New',monospace\">Epoch 0024|Val loss 9.978419e-02|Train loss 1.328117e-01|LR 0.00100|\n",
       "</pre>\n"
      ],
      "text/plain": [
       "Epoch 0024|Val loss 9.978419e-02|Train loss 1.328117e-01|LR 0.00100|\n"
      ]
     },
     "metadata": {},
     "output_type": "display_data"
    },
    {
     "data": {
      "text/html": [
       "<pre style=\"white-space:pre;overflow-x:auto;line-height:normal;font-family:Menlo,'DejaVu Sans Mono',consolas,'Courier New',monospace\">Epoch 0025|Val loss 2.008215e-01|Train loss 1.360930e-01|LR 0.00100|\n",
       "</pre>\n"
      ],
      "text/plain": [
       "Epoch 0025|Val loss 2.008215e-01|Train loss 1.360930e-01|LR 0.00100|\n"
      ]
     },
     "metadata": {},
     "output_type": "display_data"
    },
    {
     "data": {
      "text/html": [
       "<pre style=\"white-space:pre;overflow-x:auto;line-height:normal;font-family:Menlo,'DejaVu Sans Mono',consolas,'Courier New',monospace\">Epoch 0026|Val loss 2.502767e-01|Train loss 1.402711e-01|LR 0.00100|\n",
       "</pre>\n"
      ],
      "text/plain": [
       "Epoch 0026|Val loss 2.502767e-01|Train loss 1.402711e-01|LR 0.00100|\n"
      ]
     },
     "metadata": {},
     "output_type": "display_data"
    },
    {
     "data": {
      "text/html": [
       "<pre style=\"white-space:pre;overflow-x:auto;line-height:normal;font-family:Menlo,'DejaVu Sans Mono',consolas,'Courier New',monospace\">Epoch 0027|Val loss 1.317903e-01|Train loss 1.395783e-01|LR 0.00100|\n",
       "</pre>\n"
      ],
      "text/plain": [
       "Epoch 0027|Val loss 1.317903e-01|Train loss 1.395783e-01|LR 0.00100|\n"
      ]
     },
     "metadata": {},
     "output_type": "display_data"
    },
    {
     "data": {
      "text/html": [
       "<pre style=\"white-space:pre;overflow-x:auto;line-height:normal;font-family:Menlo,'DejaVu Sans Mono',consolas,'Courier New',monospace\">Epoch 0028|Val loss 1.326270e-01|Train loss 1.439219e-01|LR 0.00100|\n",
       "</pre>\n"
      ],
      "text/plain": [
       "Epoch 0028|Val loss 1.326270e-01|Train loss 1.439219e-01|LR 0.00100|\n"
      ]
     },
     "metadata": {},
     "output_type": "display_data"
    },
    {
     "data": {
      "text/html": [
       "<pre style=\"white-space:pre;overflow-x:auto;line-height:normal;font-family:Menlo,'DejaVu Sans Mono',consolas,'Courier New',monospace\">Epoch 0029|Val loss 1.272437e-01|Train loss 1.490291e-01|LR 0.00100|\n",
       "</pre>\n"
      ],
      "text/plain": [
       "Epoch 0029|Val loss 1.272437e-01|Train loss 1.490291e-01|LR 0.00100|\n"
      ]
     },
     "metadata": {},
     "output_type": "display_data"
    },
    {
     "data": {
      "text/html": [
       "<pre style=\"white-space:pre;overflow-x:auto;line-height:normal;font-family:Menlo,'DejaVu Sans Mono',consolas,'Courier New',monospace\">Epoch 0030|Val loss 1.023657e-01|Train loss 1.460956e-01|LR 0.00100|\n",
       "</pre>\n"
      ],
      "text/plain": [
       "Epoch 0030|Val loss 1.023657e-01|Train loss 1.460956e-01|LR 0.00100|\n"
      ]
     },
     "metadata": {},
     "output_type": "display_data"
    },
    {
     "data": {
      "text/html": [
       "<pre style=\"white-space:pre;overflow-x:auto;line-height:normal;font-family:Menlo,'DejaVu Sans Mono',consolas,'Courier New',monospace\">Val loss decreased (0.11 to 0.10). Model saved\n",
       "</pre>\n"
      ],
      "text/plain": [
       "Val loss decreased (0.11 to 0.10). Model saved\n"
      ]
     },
     "metadata": {},
     "output_type": "display_data"
    },
    {
     "data": {
      "text/html": [
       "<pre style=\"white-space:pre;overflow-x:auto;line-height:normal;font-family:Menlo,'DejaVu Sans Mono',consolas,'Courier New',monospace\">Epoch 0031|Val loss 1.293573e-01|Train loss 1.446991e-01|LR 0.00100|\n",
       "</pre>\n"
      ],
      "text/plain": [
       "Epoch 0031|Val loss 1.293573e-01|Train loss 1.446991e-01|LR 0.00100|\n"
      ]
     },
     "metadata": {},
     "output_type": "display_data"
    },
    {
     "data": {
      "text/html": [
       "<pre style=\"white-space:pre;overflow-x:auto;line-height:normal;font-family:Menlo,'DejaVu Sans Mono',consolas,'Courier New',monospace\">Epoch 0032|Val loss 1.157962e-01|Train loss 1.470623e-01|LR 0.00100|\n",
       "</pre>\n"
      ],
      "text/plain": [
       "Epoch 0032|Val loss 1.157962e-01|Train loss 1.470623e-01|LR 0.00100|\n"
      ]
     },
     "metadata": {},
     "output_type": "display_data"
    },
    {
     "data": {
      "text/html": [
       "<pre style=\"white-space:pre;overflow-x:auto;line-height:normal;font-family:Menlo,'DejaVu Sans Mono',consolas,'Courier New',monospace\">Epoch 0033|Val loss 1.439146e-01|Train loss 1.427277e-01|LR 0.00100|\n",
       "</pre>\n"
      ],
      "text/plain": [
       "Epoch 0033|Val loss 1.439146e-01|Train loss 1.427277e-01|LR 0.00100|\n"
      ]
     },
     "metadata": {},
     "output_type": "display_data"
    },
    {
     "data": {
      "text/html": [
       "<pre style=\"white-space:pre;overflow-x:auto;line-height:normal;font-family:Menlo,'DejaVu Sans Mono',consolas,'Courier New',monospace\">Epoch 0034|Val loss 9.818469e-02|Train loss 1.514432e-01|LR 0.00100|\n",
       "</pre>\n"
      ],
      "text/plain": [
       "Epoch 0034|Val loss 9.818469e-02|Train loss 1.514432e-01|LR 0.00100|\n"
      ]
     },
     "metadata": {},
     "output_type": "display_data"
    },
    {
     "data": {
      "text/html": [
       "<pre style=\"white-space:pre;overflow-x:auto;line-height:normal;font-family:Menlo,'DejaVu Sans Mono',consolas,'Courier New',monospace\">Epoch 0035|Val loss 1.245901e-01|Train loss 1.313091e-01|LR 0.00100|\n",
       "</pre>\n"
      ],
      "text/plain": [
       "Epoch 0035|Val loss 1.245901e-01|Train loss 1.313091e-01|LR 0.00100|\n"
      ]
     },
     "metadata": {},
     "output_type": "display_data"
    },
    {
     "data": {
      "text/html": [
       "<pre style=\"white-space:pre;overflow-x:auto;line-height:normal;font-family:Menlo,'DejaVu Sans Mono',consolas,'Courier New',monospace\">Epoch 0036|Val loss 1.160190e-01|Train loss 1.332428e-01|LR 0.00100|\n",
       "</pre>\n"
      ],
      "text/plain": [
       "Epoch 0036|Val loss 1.160190e-01|Train loss 1.332428e-01|LR 0.00100|\n"
      ]
     },
     "metadata": {},
     "output_type": "display_data"
    },
    {
     "data": {
      "text/html": [
       "<pre style=\"white-space:pre;overflow-x:auto;line-height:normal;font-family:Menlo,'DejaVu Sans Mono',consolas,'Courier New',monospace\">Epoch 0037|Val loss 1.395338e-01|Train loss 1.372698e-01|LR 0.00100|\n",
       "</pre>\n"
      ],
      "text/plain": [
       "Epoch 0037|Val loss 1.395338e-01|Train loss 1.372698e-01|LR 0.00100|\n"
      ]
     },
     "metadata": {},
     "output_type": "display_data"
    },
    {
     "data": {
      "text/html": [
       "<pre style=\"white-space:pre;overflow-x:auto;line-height:normal;font-family:Menlo,'DejaVu Sans Mono',consolas,'Courier New',monospace\">Epoch 0038|Val loss 1.030056e-01|Train loss 1.430620e-01|LR 0.00100|\n",
       "</pre>\n"
      ],
      "text/plain": [
       "Epoch 0038|Val loss 1.030056e-01|Train loss 1.430620e-01|LR 0.00100|\n"
      ]
     },
     "metadata": {},
     "output_type": "display_data"
    },
    {
     "data": {
      "text/html": [
       "<pre style=\"white-space:pre;overflow-x:auto;line-height:normal;font-family:Menlo,'DejaVu Sans Mono',consolas,'Courier New',monospace\">Epoch 0039|Val loss 1.333753e-01|Train loss 1.328694e-01|LR 0.00100|\n",
       "</pre>\n"
      ],
      "text/plain": [
       "Epoch 0039|Val loss 1.333753e-01|Train loss 1.328694e-01|LR 0.00100|\n"
      ]
     },
     "metadata": {},
     "output_type": "display_data"
    },
    {
     "data": {
      "text/html": [
       "<pre style=\"white-space:pre;overflow-x:auto;line-height:normal;font-family:Menlo,'DejaVu Sans Mono',consolas,'Courier New',monospace\">Epoch 0040|Val loss 1.127293e-01|Train loss 1.378145e-01|LR 0.00100|\n",
       "</pre>\n"
      ],
      "text/plain": [
       "Epoch 0040|Val loss 1.127293e-01|Train loss 1.378145e-01|LR 0.00100|\n"
      ]
     },
     "metadata": {},
     "output_type": "display_data"
    },
    {
     "data": {
      "text/html": [
       "<pre style=\"white-space:pre;overflow-x:auto;line-height:normal;font-family:Menlo,'DejaVu Sans Mono',consolas,'Courier New',monospace\">EarlyStopping counter: 1 out of 20\n",
       "</pre>\n"
      ],
      "text/plain": [
       "EarlyStopping counter: 1 out of 20\n"
      ]
     },
     "metadata": {},
     "output_type": "display_data"
    },
    {
     "data": {
      "text/html": [
       "<pre style=\"white-space:pre;overflow-x:auto;line-height:normal;font-family:Menlo,'DejaVu Sans Mono',consolas,'Courier New',monospace\">Epoch 0041|Val loss 1.208870e-01|Train loss 1.386716e-01|LR 0.00100|\n",
       "</pre>\n"
      ],
      "text/plain": [
       "Epoch 0041|Val loss 1.208870e-01|Train loss 1.386716e-01|LR 0.00100|\n"
      ]
     },
     "metadata": {},
     "output_type": "display_data"
    },
    {
     "data": {
      "text/html": [
       "<pre style=\"white-space:pre;overflow-x:auto;line-height:normal;font-family:Menlo,'DejaVu Sans Mono',consolas,'Courier New',monospace\">Epoch 0042|Val loss 9.790748e-02|Train loss 1.389186e-01|LR 0.00100|\n",
       "</pre>\n"
      ],
      "text/plain": [
       "Epoch 0042|Val loss 9.790748e-02|Train loss 1.389186e-01|LR 0.00100|\n"
      ]
     },
     "metadata": {},
     "output_type": "display_data"
    },
    {
     "data": {
      "text/html": [
       "<pre style=\"white-space:pre;overflow-x:auto;line-height:normal;font-family:Menlo,'DejaVu Sans Mono',consolas,'Courier New',monospace\">Epoch 0043|Val loss 1.218684e-01|Train loss 1.326557e-01|LR 0.00100|\n",
       "</pre>\n"
      ],
      "text/plain": [
       "Epoch 0043|Val loss 1.218684e-01|Train loss 1.326557e-01|LR 0.00100|\n"
      ]
     },
     "metadata": {},
     "output_type": "display_data"
    },
    {
     "data": {
      "text/html": [
       "<pre style=\"white-space:pre;overflow-x:auto;line-height:normal;font-family:Menlo,'DejaVu Sans Mono',consolas,'Courier New',monospace\">Epoch 0044|Val loss 1.413028e-01|Train loss 1.356616e-01|LR 0.00100|\n",
       "</pre>\n"
      ],
      "text/plain": [
       "Epoch 0044|Val loss 1.413028e-01|Train loss 1.356616e-01|LR 0.00100|\n"
      ]
     },
     "metadata": {},
     "output_type": "display_data"
    },
    {
     "data": {
      "text/html": [
       "<pre style=\"white-space:pre;overflow-x:auto;line-height:normal;font-family:Menlo,'DejaVu Sans Mono',consolas,'Courier New',monospace\">Epoch 0045|Val loss 1.283913e-01|Train loss 1.335243e-01|LR 0.00100|\n",
       "</pre>\n"
      ],
      "text/plain": [
       "Epoch 0045|Val loss 1.283913e-01|Train loss 1.335243e-01|LR 0.00100|\n"
      ]
     },
     "metadata": {},
     "output_type": "display_data"
    },
    {
     "data": {
      "text/html": [
       "<pre style=\"white-space:pre;overflow-x:auto;line-height:normal;font-family:Menlo,'DejaVu Sans Mono',consolas,'Courier New',monospace\">Epoch 0046|Val loss 1.115402e-01|Train loss 1.351793e-01|LR 0.00100|\n",
       "</pre>\n"
      ],
      "text/plain": [
       "Epoch 0046|Val loss 1.115402e-01|Train loss 1.351793e-01|LR 0.00100|\n"
      ]
     },
     "metadata": {},
     "output_type": "display_data"
    },
    {
     "data": {
      "text/html": [
       "<pre style=\"white-space:pre;overflow-x:auto;line-height:normal;font-family:Menlo,'DejaVu Sans Mono',consolas,'Courier New',monospace\">Epoch 0047|Val loss 1.224751e-01|Train loss 1.285718e-01|LR 0.00100|\n",
       "</pre>\n"
      ],
      "text/plain": [
       "Epoch 0047|Val loss 1.224751e-01|Train loss 1.285718e-01|LR 0.00100|\n"
      ]
     },
     "metadata": {},
     "output_type": "display_data"
    },
    {
     "data": {
      "text/html": [
       "<pre style=\"white-space:pre;overflow-x:auto;line-height:normal;font-family:Menlo,'DejaVu Sans Mono',consolas,'Courier New',monospace\">Epoch 0048|Val loss 1.217486e-01|Train loss 1.315650e-01|LR 0.00100|\n",
       "</pre>\n"
      ],
      "text/plain": [
       "Epoch 0048|Val loss 1.217486e-01|Train loss 1.315650e-01|LR 0.00100|\n"
      ]
     },
     "metadata": {},
     "output_type": "display_data"
    },
    {
     "data": {
      "text/html": [
       "<pre style=\"white-space:pre;overflow-x:auto;line-height:normal;font-family:Menlo,'DejaVu Sans Mono',consolas,'Courier New',monospace\">Epoch 0049|Val loss 1.309298e-01|Train loss 1.322366e-01|LR 0.00100|\n",
       "</pre>\n"
      ],
      "text/plain": [
       "Epoch 0049|Val loss 1.309298e-01|Train loss 1.322366e-01|LR 0.00100|\n"
      ]
     },
     "metadata": {},
     "output_type": "display_data"
    },
    {
     "data": {
      "text/html": [
       "<pre style=\"white-space:pre;overflow-x:auto;line-height:normal;font-family:Menlo,'DejaVu Sans Mono',consolas,'Courier New',monospace\">Epoch 0050|Val loss 1.069347e-01|Train loss 1.373942e-01|LR 0.00060|\n",
       "</pre>\n"
      ],
      "text/plain": [
       "Epoch 0050|Val loss 1.069347e-01|Train loss 1.373942e-01|LR 0.00060|\n"
      ]
     },
     "metadata": {},
     "output_type": "display_data"
    },
    {
     "data": {
      "text/html": [
       "<pre style=\"white-space:pre;overflow-x:auto;line-height:normal;font-family:Menlo,'DejaVu Sans Mono',consolas,'Courier New',monospace\">EarlyStopping counter: 2 out of 20\n",
       "</pre>\n"
      ],
      "text/plain": [
       "EarlyStopping counter: 2 out of 20\n"
      ]
     },
     "metadata": {},
     "output_type": "display_data"
    },
    {
     "data": {
      "text/html": [
       "<pre style=\"white-space:pre;overflow-x:auto;line-height:normal;font-family:Menlo,'DejaVu Sans Mono',consolas,'Courier New',monospace\">Epoch 0051|Val loss 9.296100e-02|Train loss 1.262935e-01|LR 0.00060|\n",
       "</pre>\n"
      ],
      "text/plain": [
       "Epoch 0051|Val loss 9.296100e-02|Train loss 1.262935e-01|LR 0.00060|\n"
      ]
     },
     "metadata": {},
     "output_type": "display_data"
    },
    {
     "data": {
      "text/html": [
       "<pre style=\"white-space:pre;overflow-x:auto;line-height:normal;font-family:Menlo,'DejaVu Sans Mono',consolas,'Courier New',monospace\">Epoch 0052|Val loss 9.350420e-02|Train loss 1.250046e-01|LR 0.00060|\n",
       "</pre>\n"
      ],
      "text/plain": [
       "Epoch 0052|Val loss 9.350420e-02|Train loss 1.250046e-01|LR 0.00060|\n"
      ]
     },
     "metadata": {},
     "output_type": "display_data"
    },
    {
     "data": {
      "text/html": [
       "<pre style=\"white-space:pre;overflow-x:auto;line-height:normal;font-family:Menlo,'DejaVu Sans Mono',consolas,'Courier New',monospace\">Epoch 0053|Val loss 1.111903e-01|Train loss 1.295105e-01|LR 0.00060|\n",
       "</pre>\n"
      ],
      "text/plain": [
       "Epoch 0053|Val loss 1.111903e-01|Train loss 1.295105e-01|LR 0.00060|\n"
      ]
     },
     "metadata": {},
     "output_type": "display_data"
    },
    {
     "data": {
      "text/html": [
       "<pre style=\"white-space:pre;overflow-x:auto;line-height:normal;font-family:Menlo,'DejaVu Sans Mono',consolas,'Courier New',monospace\">Epoch 0054|Val loss 1.044024e-01|Train loss 1.350829e-01|LR 0.00060|\n",
       "</pre>\n"
      ],
      "text/plain": [
       "Epoch 0054|Val loss 1.044024e-01|Train loss 1.350829e-01|LR 0.00060|\n"
      ]
     },
     "metadata": {},
     "output_type": "display_data"
    },
    {
     "data": {
      "text/html": [
       "<pre style=\"white-space:pre;overflow-x:auto;line-height:normal;font-family:Menlo,'DejaVu Sans Mono',consolas,'Courier New',monospace\">Epoch 0055|Val loss 9.229400e-02|Train loss 1.362432e-01|LR 0.00060|\n",
       "</pre>\n"
      ],
      "text/plain": [
       "Epoch 0055|Val loss 9.229400e-02|Train loss 1.362432e-01|LR 0.00060|\n"
      ]
     },
     "metadata": {},
     "output_type": "display_data"
    },
    {
     "data": {
      "text/html": [
       "<pre style=\"white-space:pre;overflow-x:auto;line-height:normal;font-family:Menlo,'DejaVu Sans Mono',consolas,'Courier New',monospace\">Epoch 0056|Val loss 1.092564e-01|Train loss 1.274378e-01|LR 0.00060|\n",
       "</pre>\n"
      ],
      "text/plain": [
       "Epoch 0056|Val loss 1.092564e-01|Train loss 1.274378e-01|LR 0.00060|\n"
      ]
     },
     "metadata": {},
     "output_type": "display_data"
    },
    {
     "data": {
      "text/html": [
       "<pre style=\"white-space:pre;overflow-x:auto;line-height:normal;font-family:Menlo,'DejaVu Sans Mono',consolas,'Courier New',monospace\">Epoch 0057|Val loss 1.122684e-01|Train loss 1.250240e-01|LR 0.00060|\n",
       "</pre>\n"
      ],
      "text/plain": [
       "Epoch 0057|Val loss 1.122684e-01|Train loss 1.250240e-01|LR 0.00060|\n"
      ]
     },
     "metadata": {},
     "output_type": "display_data"
    },
    {
     "data": {
      "text/html": [
       "<pre style=\"white-space:pre;overflow-x:auto;line-height:normal;font-family:Menlo,'DejaVu Sans Mono',consolas,'Courier New',monospace\">Epoch 0058|Val loss 1.043214e-01|Train loss 1.243396e-01|LR 0.00060|\n",
       "</pre>\n"
      ],
      "text/plain": [
       "Epoch 0058|Val loss 1.043214e-01|Train loss 1.243396e-01|LR 0.00060|\n"
      ]
     },
     "metadata": {},
     "output_type": "display_data"
    },
    {
     "data": {
      "text/html": [
       "<pre style=\"white-space:pre;overflow-x:auto;line-height:normal;font-family:Menlo,'DejaVu Sans Mono',consolas,'Courier New',monospace\">Epoch 0059|Val loss 9.673769e-02|Train loss 1.239766e-01|LR 0.00060|\n",
       "</pre>\n"
      ],
      "text/plain": [
       "Epoch 0059|Val loss 9.673769e-02|Train loss 1.239766e-01|LR 0.00060|\n"
      ]
     },
     "metadata": {},
     "output_type": "display_data"
    },
    {
     "data": {
      "text/html": [
       "<pre style=\"white-space:pre;overflow-x:auto;line-height:normal;font-family:Menlo,'DejaVu Sans Mono',consolas,'Courier New',monospace\">Epoch 0060|Val loss 1.441508e-01|Train loss 1.259597e-01|LR 0.00060|\n",
       "</pre>\n"
      ],
      "text/plain": [
       "Epoch 0060|Val loss 1.441508e-01|Train loss 1.259597e-01|LR 0.00060|\n"
      ]
     },
     "metadata": {},
     "output_type": "display_data"
    },
    {
     "data": {
      "text/html": [
       "<pre style=\"white-space:pre;overflow-x:auto;line-height:normal;font-family:Menlo,'DejaVu Sans Mono',consolas,'Courier New',monospace\">EarlyStopping counter: 3 out of 20\n",
       "</pre>\n"
      ],
      "text/plain": [
       "EarlyStopping counter: 3 out of 20\n"
      ]
     },
     "metadata": {},
     "output_type": "display_data"
    },
    {
     "data": {
      "text/html": [
       "<pre style=\"white-space:pre;overflow-x:auto;line-height:normal;font-family:Menlo,'DejaVu Sans Mono',consolas,'Courier New',monospace\">Epoch 0061|Val loss 1.565815e-01|Train loss 1.261652e-01|LR 0.00060|\n",
       "</pre>\n"
      ],
      "text/plain": [
       "Epoch 0061|Val loss 1.565815e-01|Train loss 1.261652e-01|LR 0.00060|\n"
      ]
     },
     "metadata": {},
     "output_type": "display_data"
    },
    {
     "data": {
      "text/html": [
       "<pre style=\"white-space:pre;overflow-x:auto;line-height:normal;font-family:Menlo,'DejaVu Sans Mono',consolas,'Courier New',monospace\">Epoch 0062|Val loss 1.242747e-01|Train loss 1.294308e-01|LR 0.00060|\n",
       "</pre>\n"
      ],
      "text/plain": [
       "Epoch 0062|Val loss 1.242747e-01|Train loss 1.294308e-01|LR 0.00060|\n"
      ]
     },
     "metadata": {},
     "output_type": "display_data"
    },
    {
     "data": {
      "text/html": [
       "<pre style=\"white-space:pre;overflow-x:auto;line-height:normal;font-family:Menlo,'DejaVu Sans Mono',consolas,'Courier New',monospace\">Epoch 0063|Val loss 9.549905e-02|Train loss 1.293794e-01|LR 0.00060|\n",
       "</pre>\n"
      ],
      "text/plain": [
       "Epoch 0063|Val loss 9.549905e-02|Train loss 1.293794e-01|LR 0.00060|\n"
      ]
     },
     "metadata": {},
     "output_type": "display_data"
    },
    {
     "data": {
      "text/html": [
       "<pre style=\"white-space:pre;overflow-x:auto;line-height:normal;font-family:Menlo,'DejaVu Sans Mono',consolas,'Courier New',monospace\">Epoch 0064|Val loss 1.401569e-01|Train loss 1.296764e-01|LR 0.00060|\n",
       "</pre>\n"
      ],
      "text/plain": [
       "Epoch 0064|Val loss 1.401569e-01|Train loss 1.296764e-01|LR 0.00060|\n"
      ]
     },
     "metadata": {},
     "output_type": "display_data"
    },
    {
     "data": {
      "text/html": [
       "<pre style=\"white-space:pre;overflow-x:auto;line-height:normal;font-family:Menlo,'DejaVu Sans Mono',consolas,'Courier New',monospace\">Epoch 0065|Val loss 1.634850e-01|Train loss 1.302318e-01|LR 0.00060|\n",
       "</pre>\n"
      ],
      "text/plain": [
       "Epoch 0065|Val loss 1.634850e-01|Train loss 1.302318e-01|LR 0.00060|\n"
      ]
     },
     "metadata": {},
     "output_type": "display_data"
    },
    {
     "data": {
      "text/html": [
       "<pre style=\"white-space:pre;overflow-x:auto;line-height:normal;font-family:Menlo,'DejaVu Sans Mono',consolas,'Courier New',monospace\">Epoch 0066|Val loss 1.254357e-01|Train loss 1.290952e-01|LR 0.00060|\n",
       "</pre>\n"
      ],
      "text/plain": [
       "Epoch 0066|Val loss 1.254357e-01|Train loss 1.290952e-01|LR 0.00060|\n"
      ]
     },
     "metadata": {},
     "output_type": "display_data"
    },
    {
     "data": {
      "text/html": [
       "<pre style=\"white-space:pre;overflow-x:auto;line-height:normal;font-family:Menlo,'DejaVu Sans Mono',consolas,'Courier New',monospace\">Epoch 0067|Val loss 8.814727e-02|Train loss 1.307154e-01|LR 0.00060|\n",
       "</pre>\n"
      ],
      "text/plain": [
       "Epoch 0067|Val loss 8.814727e-02|Train loss 1.307154e-01|LR 0.00060|\n"
      ]
     },
     "metadata": {},
     "output_type": "display_data"
    },
    {
     "data": {
      "text/html": [
       "<pre style=\"white-space:pre;overflow-x:auto;line-height:normal;font-family:Menlo,'DejaVu Sans Mono',consolas,'Courier New',monospace\">Epoch 0068|Val loss 1.234703e-01|Train loss 1.259727e-01|LR 0.00060|\n",
       "</pre>\n"
      ],
      "text/plain": [
       "Epoch 0068|Val loss 1.234703e-01|Train loss 1.259727e-01|LR 0.00060|\n"
      ]
     },
     "metadata": {},
     "output_type": "display_data"
    },
    {
     "data": {
      "text/html": [
       "<pre style=\"white-space:pre;overflow-x:auto;line-height:normal;font-family:Menlo,'DejaVu Sans Mono',consolas,'Courier New',monospace\">Epoch 0069|Val loss 1.412412e-01|Train loss 1.248486e-01|LR 0.00060|\n",
       "</pre>\n"
      ],
      "text/plain": [
       "Epoch 0069|Val loss 1.412412e-01|Train loss 1.248486e-01|LR 0.00060|\n"
      ]
     },
     "metadata": {},
     "output_type": "display_data"
    },
    {
     "data": {
      "text/html": [
       "<pre style=\"white-space:pre;overflow-x:auto;line-height:normal;font-family:Menlo,'DejaVu Sans Mono',consolas,'Courier New',monospace\">Epoch 0070|Val loss 1.085511e-01|Train loss 1.270479e-01|LR 0.00060|\n",
       "</pre>\n"
      ],
      "text/plain": [
       "Epoch 0070|Val loss 1.085511e-01|Train loss 1.270479e-01|LR 0.00060|\n"
      ]
     },
     "metadata": {},
     "output_type": "display_data"
    },
    {
     "data": {
      "text/html": [
       "<pre style=\"white-space:pre;overflow-x:auto;line-height:normal;font-family:Menlo,'DejaVu Sans Mono',consolas,'Courier New',monospace\">EarlyStopping counter: 4 out of 20\n",
       "</pre>\n"
      ],
      "text/plain": [
       "EarlyStopping counter: 4 out of 20\n"
      ]
     },
     "metadata": {},
     "output_type": "display_data"
    },
    {
     "data": {
      "text/html": [
       "<pre style=\"white-space:pre;overflow-x:auto;line-height:normal;font-family:Menlo,'DejaVu Sans Mono',consolas,'Courier New',monospace\">Epoch 0071|Val loss 8.625838e-02|Train loss 1.264052e-01|LR 0.00060|\n",
       "</pre>\n"
      ],
      "text/plain": [
       "Epoch 0071|Val loss 8.625838e-02|Train loss 1.264052e-01|LR 0.00060|\n"
      ]
     },
     "metadata": {},
     "output_type": "display_data"
    },
    {
     "data": {
      "text/html": [
       "<pre style=\"white-space:pre;overflow-x:auto;line-height:normal;font-family:Menlo,'DejaVu Sans Mono',consolas,'Courier New',monospace\">Epoch 0072|Val loss 1.062376e-01|Train loss 1.274210e-01|LR 0.00060|\n",
       "</pre>\n"
      ],
      "text/plain": [
       "Epoch 0072|Val loss 1.062376e-01|Train loss 1.274210e-01|LR 0.00060|\n"
      ]
     },
     "metadata": {},
     "output_type": "display_data"
    },
    {
     "data": {
      "text/html": [
       "<pre style=\"white-space:pre;overflow-x:auto;line-height:normal;font-family:Menlo,'DejaVu Sans Mono',consolas,'Courier New',monospace\">Epoch 0073|Val loss 9.071003e-02|Train loss 1.279985e-01|LR 0.00060|\n",
       "</pre>\n"
      ],
      "text/plain": [
       "Epoch 0073|Val loss 9.071003e-02|Train loss 1.279985e-01|LR 0.00060|\n"
      ]
     },
     "metadata": {},
     "output_type": "display_data"
    },
    {
     "data": {
      "text/html": [
       "<pre style=\"white-space:pre;overflow-x:auto;line-height:normal;font-family:Menlo,'DejaVu Sans Mono',consolas,'Courier New',monospace\">Epoch 0074|Val loss 1.203099e-01|Train loss 1.266547e-01|LR 0.00060|\n",
       "</pre>\n"
      ],
      "text/plain": [
       "Epoch 0074|Val loss 1.203099e-01|Train loss 1.266547e-01|LR 0.00060|\n"
      ]
     },
     "metadata": {},
     "output_type": "display_data"
    },
    {
     "data": {
      "text/html": [
       "<pre style=\"white-space:pre;overflow-x:auto;line-height:normal;font-family:Menlo,'DejaVu Sans Mono',consolas,'Courier New',monospace\">Epoch 0075|Val loss 1.585480e-01|Train loss 1.269535e-01|LR 0.00060|\n",
       "</pre>\n"
      ],
      "text/plain": [
       "Epoch 0075|Val loss 1.585480e-01|Train loss 1.269535e-01|LR 0.00060|\n"
      ]
     },
     "metadata": {},
     "output_type": "display_data"
    },
    {
     "data": {
      "text/html": [
       "<pre style=\"white-space:pre;overflow-x:auto;line-height:normal;font-family:Menlo,'DejaVu Sans Mono',consolas,'Courier New',monospace\">Epoch 0076|Val loss 9.878604e-02|Train loss 1.272066e-01|LR 0.00060|\n",
       "</pre>\n"
      ],
      "text/plain": [
       "Epoch 0076|Val loss 9.878604e-02|Train loss 1.272066e-01|LR 0.00060|\n"
      ]
     },
     "metadata": {},
     "output_type": "display_data"
    },
    {
     "data": {
      "text/html": [
       "<pre style=\"white-space:pre;overflow-x:auto;line-height:normal;font-family:Menlo,'DejaVu Sans Mono',consolas,'Courier New',monospace\">Epoch 0077|Val loss 9.992246e-02|Train loss 1.265621e-01|LR 0.00060|\n",
       "</pre>\n"
      ],
      "text/plain": [
       "Epoch 0077|Val loss 9.992246e-02|Train loss 1.265621e-01|LR 0.00060|\n"
      ]
     },
     "metadata": {},
     "output_type": "display_data"
    },
    {
     "data": {
      "text/html": [
       "<pre style=\"white-space:pre;overflow-x:auto;line-height:normal;font-family:Menlo,'DejaVu Sans Mono',consolas,'Courier New',monospace\">Epoch 0078|Val loss 1.179360e-01|Train loss 1.273137e-01|LR 0.00060|\n",
       "</pre>\n"
      ],
      "text/plain": [
       "Epoch 0078|Val loss 1.179360e-01|Train loss 1.273137e-01|LR 0.00060|\n"
      ]
     },
     "metadata": {},
     "output_type": "display_data"
    },
    {
     "data": {
      "text/html": [
       "<pre style=\"white-space:pre;overflow-x:auto;line-height:normal;font-family:Menlo,'DejaVu Sans Mono',consolas,'Courier New',monospace\">Epoch 0079|Val loss 8.754641e-02|Train loss 1.245618e-01|LR 0.00060|\n",
       "</pre>\n"
      ],
      "text/plain": [
       "Epoch 0079|Val loss 8.754641e-02|Train loss 1.245618e-01|LR 0.00060|\n"
      ]
     },
     "metadata": {},
     "output_type": "display_data"
    },
    {
     "data": {
      "text/html": [
       "<pre style=\"white-space:pre;overflow-x:auto;line-height:normal;font-family:Menlo,'DejaVu Sans Mono',consolas,'Courier New',monospace\">Epoch 0080|Val loss 9.822504e-02|Train loss 1.254345e-01|LR 0.00060|\n",
       "</pre>\n"
      ],
      "text/plain": [
       "Epoch 0080|Val loss 9.822504e-02|Train loss 1.254345e-01|LR 0.00060|\n"
      ]
     },
     "metadata": {},
     "output_type": "display_data"
    },
    {
     "data": {
      "text/html": [
       "<pre style=\"white-space:pre;overflow-x:auto;line-height:normal;font-family:Menlo,'DejaVu Sans Mono',consolas,'Courier New',monospace\">Val loss decreased (0.10 to 0.10). Model saved\n",
       "</pre>\n"
      ],
      "text/plain": [
       "Val loss decreased (0.10 to 0.10). Model saved\n"
      ]
     },
     "metadata": {},
     "output_type": "display_data"
    },
    {
     "data": {
      "text/html": [
       "<pre style=\"white-space:pre;overflow-x:auto;line-height:normal;font-family:Menlo,'DejaVu Sans Mono',consolas,'Courier New',monospace\">Epoch 0081|Val loss 1.061459e-01|Train loss 1.243199e-01|LR 0.00060|\n",
       "</pre>\n"
      ],
      "text/plain": [
       "Epoch 0081|Val loss 1.061459e-01|Train loss 1.243199e-01|LR 0.00060|\n"
      ]
     },
     "metadata": {},
     "output_type": "display_data"
    },
    {
     "data": {
      "text/html": [
       "<pre style=\"white-space:pre;overflow-x:auto;line-height:normal;font-family:Menlo,'DejaVu Sans Mono',consolas,'Courier New',monospace\">Epoch 0082|Val loss 1.562679e-01|Train loss 1.256053e-01|LR 0.00060|\n",
       "</pre>\n"
      ],
      "text/plain": [
       "Epoch 0082|Val loss 1.562679e-01|Train loss 1.256053e-01|LR 0.00060|\n"
      ]
     },
     "metadata": {},
     "output_type": "display_data"
    },
    {
     "data": {
      "text/html": [
       "<pre style=\"white-space:pre;overflow-x:auto;line-height:normal;font-family:Menlo,'DejaVu Sans Mono',consolas,'Courier New',monospace\">Epoch 0083|Val loss 1.736845e-01|Train loss 1.253870e-01|LR 0.00060|\n",
       "</pre>\n"
      ],
      "text/plain": [
       "Epoch 0083|Val loss 1.736845e-01|Train loss 1.253870e-01|LR 0.00060|\n"
      ]
     },
     "metadata": {},
     "output_type": "display_data"
    },
    {
     "data": {
      "text/html": [
       "<pre style=\"white-space:pre;overflow-x:auto;line-height:normal;font-family:Menlo,'DejaVu Sans Mono',consolas,'Courier New',monospace\">Epoch 0084|Val loss 1.130669e-01|Train loss 1.245319e-01|LR 0.00060|\n",
       "</pre>\n"
      ],
      "text/plain": [
       "Epoch 0084|Val loss 1.130669e-01|Train loss 1.245319e-01|LR 0.00060|\n"
      ]
     },
     "metadata": {},
     "output_type": "display_data"
    },
    {
     "data": {
      "text/html": [
       "<pre style=\"white-space:pre;overflow-x:auto;line-height:normal;font-family:Menlo,'DejaVu Sans Mono',consolas,'Courier New',monospace\">Epoch 0085|Val loss 8.447037e-02|Train loss 1.245811e-01|LR 0.00060|\n",
       "</pre>\n"
      ],
      "text/plain": [
       "Epoch 0085|Val loss 8.447037e-02|Train loss 1.245811e-01|LR 0.00060|\n"
      ]
     },
     "metadata": {},
     "output_type": "display_data"
    },
    {
     "data": {
      "text/html": [
       "<pre style=\"white-space:pre;overflow-x:auto;line-height:normal;font-family:Menlo,'DejaVu Sans Mono',consolas,'Courier New',monospace\">Epoch 0086|Val loss 1.112774e-01|Train loss 1.256360e-01|LR 0.00060|\n",
       "</pre>\n"
      ],
      "text/plain": [
       "Epoch 0086|Val loss 1.112774e-01|Train loss 1.256360e-01|LR 0.00060|\n"
      ]
     },
     "metadata": {},
     "output_type": "display_data"
    },
    {
     "data": {
      "text/html": [
       "<pre style=\"white-space:pre;overflow-x:auto;line-height:normal;font-family:Menlo,'DejaVu Sans Mono',consolas,'Courier New',monospace\">Epoch 0087|Val loss 9.730600e-02|Train loss 1.257633e-01|LR 0.00060|\n",
       "</pre>\n"
      ],
      "text/plain": [
       "Epoch 0087|Val loss 9.730600e-02|Train loss 1.257633e-01|LR 0.00060|\n"
      ]
     },
     "metadata": {},
     "output_type": "display_data"
    },
    {
     "data": {
      "text/html": [
       "<pre style=\"white-space:pre;overflow-x:auto;line-height:normal;font-family:Menlo,'DejaVu Sans Mono',consolas,'Courier New',monospace\">Epoch 0088|Val loss 1.220829e-01|Train loss 1.315722e-01|LR 0.00060|\n",
       "</pre>\n"
      ],
      "text/plain": [
       "Epoch 0088|Val loss 1.220829e-01|Train loss 1.315722e-01|LR 0.00060|\n"
      ]
     },
     "metadata": {},
     "output_type": "display_data"
    },
    {
     "data": {
      "text/html": [
       "<pre style=\"white-space:pre;overflow-x:auto;line-height:normal;font-family:Menlo,'DejaVu Sans Mono',consolas,'Courier New',monospace\">Epoch 0089|Val loss 1.561307e-01|Train loss 1.346057e-01|LR 0.00060|\n",
       "</pre>\n"
      ],
      "text/plain": [
       "Epoch 0089|Val loss 1.561307e-01|Train loss 1.346057e-01|LR 0.00060|\n"
      ]
     },
     "metadata": {},
     "output_type": "display_data"
    },
    {
     "data": {
      "text/html": [
       "<pre style=\"white-space:pre;overflow-x:auto;line-height:normal;font-family:Menlo,'DejaVu Sans Mono',consolas,'Courier New',monospace\">Epoch 0090|Val loss 1.140117e-01|Train loss 1.306675e-01|LR 0.00060|\n",
       "</pre>\n"
      ],
      "text/plain": [
       "Epoch 0090|Val loss 1.140117e-01|Train loss 1.306675e-01|LR 0.00060|\n"
      ]
     },
     "metadata": {},
     "output_type": "display_data"
    },
    {
     "data": {
      "text/html": [
       "<pre style=\"white-space:pre;overflow-x:auto;line-height:normal;font-family:Menlo,'DejaVu Sans Mono',consolas,'Courier New',monospace\">EarlyStopping counter: 1 out of 20\n",
       "</pre>\n"
      ],
      "text/plain": [
       "EarlyStopping counter: 1 out of 20\n"
      ]
     },
     "metadata": {},
     "output_type": "display_data"
    },
    {
     "data": {
      "text/html": [
       "<pre style=\"white-space:pre;overflow-x:auto;line-height:normal;font-family:Menlo,'DejaVu Sans Mono',consolas,'Courier New',monospace\">Epoch 0091|Val loss 1.166040e-01|Train loss 1.288787e-01|LR 0.00060|\n",
       "</pre>\n"
      ],
      "text/plain": [
       "Epoch 0091|Val loss 1.166040e-01|Train loss 1.288787e-01|LR 0.00060|\n"
      ]
     },
     "metadata": {},
     "output_type": "display_data"
    },
    {
     "data": {
      "text/html": [
       "<pre style=\"white-space:pre;overflow-x:auto;line-height:normal;font-family:Menlo,'DejaVu Sans Mono',consolas,'Courier New',monospace\">Epoch 0092|Val loss 1.052650e-01|Train loss 1.272324e-01|LR 0.00060|\n",
       "</pre>\n"
      ],
      "text/plain": [
       "Epoch 0092|Val loss 1.052650e-01|Train loss 1.272324e-01|LR 0.00060|\n"
      ]
     },
     "metadata": {},
     "output_type": "display_data"
    },
    {
     "data": {
      "text/html": [
       "<pre style=\"white-space:pre;overflow-x:auto;line-height:normal;font-family:Menlo,'DejaVu Sans Mono',consolas,'Courier New',monospace\">Epoch 0093|Val loss 1.294315e-01|Train loss 1.260285e-01|LR 0.00060|\n",
       "</pre>\n"
      ],
      "text/plain": [
       "Epoch 0093|Val loss 1.294315e-01|Train loss 1.260285e-01|LR 0.00060|\n"
      ]
     },
     "metadata": {},
     "output_type": "display_data"
    },
    {
     "data": {
      "text/html": [
       "<pre style=\"white-space:pre;overflow-x:auto;line-height:normal;font-family:Menlo,'DejaVu Sans Mono',consolas,'Courier New',monospace\">Epoch 0094|Val loss 1.104823e-01|Train loss 1.242992e-01|LR 0.00060|\n",
       "</pre>\n"
      ],
      "text/plain": [
       "Epoch 0094|Val loss 1.104823e-01|Train loss 1.242992e-01|LR 0.00060|\n"
      ]
     },
     "metadata": {},
     "output_type": "display_data"
    },
    {
     "data": {
      "text/html": [
       "<pre style=\"white-space:pre;overflow-x:auto;line-height:normal;font-family:Menlo,'DejaVu Sans Mono',consolas,'Courier New',monospace\">Epoch 0095|Val loss 1.055622e-01|Train loss 1.255765e-01|LR 0.00060|\n",
       "</pre>\n"
      ],
      "text/plain": [
       "Epoch 0095|Val loss 1.055622e-01|Train loss 1.255765e-01|LR 0.00060|\n"
      ]
     },
     "metadata": {},
     "output_type": "display_data"
    },
    {
     "data": {
      "text/html": [
       "<pre style=\"white-space:pre;overflow-x:auto;line-height:normal;font-family:Menlo,'DejaVu Sans Mono',consolas,'Courier New',monospace\">Epoch 0096|Val loss 8.930286e-02|Train loss 1.247359e-01|LR 0.00060|\n",
       "</pre>\n"
      ],
      "text/plain": [
       "Epoch 0096|Val loss 8.930286e-02|Train loss 1.247359e-01|LR 0.00060|\n"
      ]
     },
     "metadata": {},
     "output_type": "display_data"
    },
    {
     "data": {
      "text/html": [
       "<pre style=\"white-space:pre;overflow-x:auto;line-height:normal;font-family:Menlo,'DejaVu Sans Mono',consolas,'Courier New',monospace\">Epoch 0097|Val loss 1.065269e-01|Train loss 1.270115e-01|LR 0.00060|\n",
       "</pre>\n"
      ],
      "text/plain": [
       "Epoch 0097|Val loss 1.065269e-01|Train loss 1.270115e-01|LR 0.00060|\n"
      ]
     },
     "metadata": {},
     "output_type": "display_data"
    },
    {
     "data": {
      "text/html": [
       "<pre style=\"white-space:pre;overflow-x:auto;line-height:normal;font-family:Menlo,'DejaVu Sans Mono',consolas,'Courier New',monospace\">Epoch 0098|Val loss 9.228512e-02|Train loss 1.278372e-01|LR 0.00060|\n",
       "</pre>\n"
      ],
      "text/plain": [
       "Epoch 0098|Val loss 9.228512e-02|Train loss 1.278372e-01|LR 0.00060|\n"
      ]
     },
     "metadata": {},
     "output_type": "display_data"
    },
    {
     "data": {
      "text/html": [
       "<pre style=\"white-space:pre;overflow-x:auto;line-height:normal;font-family:Menlo,'DejaVu Sans Mono',consolas,'Courier New',monospace\">Epoch 0099|Val loss 9.709771e-02|Train loss 1.282434e-01|LR 0.00060|\n",
       "</pre>\n"
      ],
      "text/plain": [
       "Epoch 0099|Val loss 9.709771e-02|Train loss 1.282434e-01|LR 0.00060|\n"
      ]
     },
     "metadata": {},
     "output_type": "display_data"
    },
    {
     "data": {
      "text/html": [
       "<pre style=\"white-space:pre;overflow-x:auto;line-height:normal;font-family:Menlo,'DejaVu Sans Mono',consolas,'Courier New',monospace\">Epoch 0100|Val loss 1.037053e-01|Train loss 1.285967e-01|LR 0.00060|\n",
       "</pre>\n"
      ],
      "text/plain": [
       "Epoch 0100|Val loss 1.037053e-01|Train loss 1.285967e-01|LR 0.00060|\n"
      ]
     },
     "metadata": {},
     "output_type": "display_data"
    },
    {
     "data": {
      "text/html": [
       "<pre style=\"white-space:pre;overflow-x:auto;line-height:normal;font-family:Menlo,'DejaVu Sans Mono',consolas,'Courier New',monospace\">EarlyStopping counter: 2 out of 20\n",
       "</pre>\n"
      ],
      "text/plain": [
       "EarlyStopping counter: 2 out of 20\n"
      ]
     },
     "metadata": {},
     "output_type": "display_data"
    },
    {
     "data": {
      "text/html": [
       "<pre style=\"white-space:pre;overflow-x:auto;line-height:normal;font-family:Menlo,'DejaVu Sans Mono',consolas,'Courier New',monospace\">Epoch 0101|Val loss 1.028731e-01|Train loss 1.282706e-01|LR 0.00060|\n",
       "</pre>\n"
      ],
      "text/plain": [
       "Epoch 0101|Val loss 1.028731e-01|Train loss 1.282706e-01|LR 0.00060|\n"
      ]
     },
     "metadata": {},
     "output_type": "display_data"
    },
    {
     "data": {
      "text/html": [
       "<pre style=\"white-space:pre;overflow-x:auto;line-height:normal;font-family:Menlo,'DejaVu Sans Mono',consolas,'Courier New',monospace\">Epoch 0102|Val loss 1.023351e-01|Train loss 1.267314e-01|LR 0.00060|\n",
       "</pre>\n"
      ],
      "text/plain": [
       "Epoch 0102|Val loss 1.023351e-01|Train loss 1.267314e-01|LR 0.00060|\n"
      ]
     },
     "metadata": {},
     "output_type": "display_data"
    },
    {
     "data": {
      "text/html": [
       "<pre style=\"white-space:pre;overflow-x:auto;line-height:normal;font-family:Menlo,'DejaVu Sans Mono',consolas,'Courier New',monospace\">Epoch 0103|Val loss 1.074559e-01|Train loss 1.282835e-01|LR 0.00060|\n",
       "</pre>\n"
      ],
      "text/plain": [
       "Epoch 0103|Val loss 1.074559e-01|Train loss 1.282835e-01|LR 0.00060|\n"
      ]
     },
     "metadata": {},
     "output_type": "display_data"
    },
    {
     "data": {
      "text/html": [
       "<pre style=\"white-space:pre;overflow-x:auto;line-height:normal;font-family:Menlo,'DejaVu Sans Mono',consolas,'Courier New',monospace\">Epoch 0104|Val loss 9.354909e-02|Train loss 1.265446e-01|LR 0.00060|\n",
       "</pre>\n"
      ],
      "text/plain": [
       "Epoch 0104|Val loss 9.354909e-02|Train loss 1.265446e-01|LR 0.00060|\n"
      ]
     },
     "metadata": {},
     "output_type": "display_data"
    },
    {
     "data": {
      "text/html": [
       "<pre style=\"white-space:pre;overflow-x:auto;line-height:normal;font-family:Menlo,'DejaVu Sans Mono',consolas,'Courier New',monospace\">Epoch 0105|Val loss 1.266932e-01|Train loss 1.302219e-01|LR 0.00060|\n",
       "</pre>\n"
      ],
      "text/plain": [
       "Epoch 0105|Val loss 1.266932e-01|Train loss 1.302219e-01|LR 0.00060|\n"
      ]
     },
     "metadata": {},
     "output_type": "display_data"
    },
    {
     "data": {
      "text/html": [
       "<pre style=\"white-space:pre;overflow-x:auto;line-height:normal;font-family:Menlo,'DejaVu Sans Mono',consolas,'Courier New',monospace\">Epoch 0106|Val loss 1.331484e-01|Train loss 1.311736e-01|LR 0.00060|\n",
       "</pre>\n"
      ],
      "text/plain": [
       "Epoch 0106|Val loss 1.331484e-01|Train loss 1.311736e-01|LR 0.00060|\n"
      ]
     },
     "metadata": {},
     "output_type": "display_data"
    },
    {
     "data": {
      "text/html": [
       "<pre style=\"white-space:pre;overflow-x:auto;line-height:normal;font-family:Menlo,'DejaVu Sans Mono',consolas,'Courier New',monospace\">Epoch 0107|Val loss 1.175243e-01|Train loss 1.269629e-01|LR 0.00060|\n",
       "</pre>\n"
      ],
      "text/plain": [
       "Epoch 0107|Val loss 1.175243e-01|Train loss 1.269629e-01|LR 0.00060|\n"
      ]
     },
     "metadata": {},
     "output_type": "display_data"
    },
    {
     "data": {
      "text/html": [
       "<pre style=\"white-space:pre;overflow-x:auto;line-height:normal;font-family:Menlo,'DejaVu Sans Mono',consolas,'Courier New',monospace\">Epoch 0108|Val loss 9.005327e-02|Train loss 1.266643e-01|LR 0.00060|\n",
       "</pre>\n"
      ],
      "text/plain": [
       "Epoch 0108|Val loss 9.005327e-02|Train loss 1.266643e-01|LR 0.00060|\n"
      ]
     },
     "metadata": {},
     "output_type": "display_data"
    },
    {
     "data": {
      "text/html": [
       "<pre style=\"white-space:pre;overflow-x:auto;line-height:normal;font-family:Menlo,'DejaVu Sans Mono',consolas,'Courier New',monospace\">Epoch 0109|Val loss 1.319607e-01|Train loss 1.239851e-01|LR 0.00060|\n",
       "</pre>\n"
      ],
      "text/plain": [
       "Epoch 0109|Val loss 1.319607e-01|Train loss 1.239851e-01|LR 0.00060|\n"
      ]
     },
     "metadata": {},
     "output_type": "display_data"
    },
    {
     "data": {
      "text/html": [
       "<pre style=\"white-space:pre;overflow-x:auto;line-height:normal;font-family:Menlo,'DejaVu Sans Mono',consolas,'Courier New',monospace\">Epoch 0110|Val loss 1.182711e-01|Train loss 1.248686e-01|LR 0.00060|\n",
       "</pre>\n"
      ],
      "text/plain": [
       "Epoch 0110|Val loss 1.182711e-01|Train loss 1.248686e-01|LR 0.00060|\n"
      ]
     },
     "metadata": {},
     "output_type": "display_data"
    },
    {
     "data": {
      "text/html": [
       "<pre style=\"white-space:pre;overflow-x:auto;line-height:normal;font-family:Menlo,'DejaVu Sans Mono',consolas,'Courier New',monospace\">EarlyStopping counter: 3 out of 20\n",
       "</pre>\n"
      ],
      "text/plain": [
       "EarlyStopping counter: 3 out of 20\n"
      ]
     },
     "metadata": {},
     "output_type": "display_data"
    },
    {
     "data": {
      "text/html": [
       "<pre style=\"white-space:pre;overflow-x:auto;line-height:normal;font-family:Menlo,'DejaVu Sans Mono',consolas,'Courier New',monospace\">Epoch 0111|Val loss 1.134183e-01|Train loss 1.268123e-01|LR 0.00060|\n",
       "</pre>\n"
      ],
      "text/plain": [
       "Epoch 0111|Val loss 1.134183e-01|Train loss 1.268123e-01|LR 0.00060|\n"
      ]
     },
     "metadata": {},
     "output_type": "display_data"
    },
    {
     "data": {
      "text/html": [
       "<pre style=\"white-space:pre;overflow-x:auto;line-height:normal;font-family:Menlo,'DejaVu Sans Mono',consolas,'Courier New',monospace\">Epoch 0112|Val loss 9.072711e-02|Train loss 1.247901e-01|LR 0.00060|\n",
       "</pre>\n"
      ],
      "text/plain": [
       "Epoch 0112|Val loss 9.072711e-02|Train loss 1.247901e-01|LR 0.00060|\n"
      ]
     },
     "metadata": {},
     "output_type": "display_data"
    },
    {
     "data": {
      "text/html": [
       "<pre style=\"white-space:pre;overflow-x:auto;line-height:normal;font-family:Menlo,'DejaVu Sans Mono',consolas,'Courier New',monospace\">Epoch 0113|Val loss 1.058382e-01|Train loss 1.269586e-01|LR 0.00060|\n",
       "</pre>\n"
      ],
      "text/plain": [
       "Epoch 0113|Val loss 1.058382e-01|Train loss 1.269586e-01|LR 0.00060|\n"
      ]
     },
     "metadata": {},
     "output_type": "display_data"
    },
    {
     "data": {
      "text/html": [
       "<pre style=\"white-space:pre;overflow-x:auto;line-height:normal;font-family:Menlo,'DejaVu Sans Mono',consolas,'Courier New',monospace\">Epoch 0114|Val loss 9.111123e-02|Train loss 1.267435e-01|LR 0.00060|\n",
       "</pre>\n"
      ],
      "text/plain": [
       "Epoch 0114|Val loss 9.111123e-02|Train loss 1.267435e-01|LR 0.00060|\n"
      ]
     },
     "metadata": {},
     "output_type": "display_data"
    },
    {
     "data": {
      "text/html": [
       "<pre style=\"white-space:pre;overflow-x:auto;line-height:normal;font-family:Menlo,'DejaVu Sans Mono',consolas,'Courier New',monospace\">Epoch 0115|Val loss 1.152206e-01|Train loss 1.262474e-01|LR 0.00060|\n",
       "</pre>\n"
      ],
      "text/plain": [
       "Epoch 0115|Val loss 1.152206e-01|Train loss 1.262474e-01|LR 0.00060|\n"
      ]
     },
     "metadata": {},
     "output_type": "display_data"
    },
    {
     "data": {
      "text/html": [
       "<pre style=\"white-space:pre;overflow-x:auto;line-height:normal;font-family:Menlo,'DejaVu Sans Mono',consolas,'Courier New',monospace\">Epoch 0116|Val loss 1.176443e-01|Train loss 1.296681e-01|LR 0.00060|\n",
       "</pre>\n"
      ],
      "text/plain": [
       "Epoch 0116|Val loss 1.176443e-01|Train loss 1.296681e-01|LR 0.00060|\n"
      ]
     },
     "metadata": {},
     "output_type": "display_data"
    },
    {
     "data": {
      "text/html": [
       "<pre style=\"white-space:pre;overflow-x:auto;line-height:normal;font-family:Menlo,'DejaVu Sans Mono',consolas,'Courier New',monospace\">Epoch 0117|Val loss 1.198045e-01|Train loss 1.298207e-01|LR 0.00060|\n",
       "</pre>\n"
      ],
      "text/plain": [
       "Epoch 0117|Val loss 1.198045e-01|Train loss 1.298207e-01|LR 0.00060|\n"
      ]
     },
     "metadata": {},
     "output_type": "display_data"
    },
    {
     "data": {
      "text/html": [
       "<pre style=\"white-space:pre;overflow-x:auto;line-height:normal;font-family:Menlo,'DejaVu Sans Mono',consolas,'Courier New',monospace\">Epoch 0118|Val loss 9.051828e-02|Train loss 1.310714e-01|LR 0.00060|\n",
       "</pre>\n"
      ],
      "text/plain": [
       "Epoch 0118|Val loss 9.051828e-02|Train loss 1.310714e-01|LR 0.00060|\n"
      ]
     },
     "metadata": {},
     "output_type": "display_data"
    },
    {
     "data": {
      "text/html": [
       "<pre style=\"white-space:pre;overflow-x:auto;line-height:normal;font-family:Menlo,'DejaVu Sans Mono',consolas,'Courier New',monospace\">Epoch 0119|Val loss 1.050635e-01|Train loss 1.309166e-01|LR 0.00060|\n",
       "</pre>\n"
      ],
      "text/plain": [
       "Epoch 0119|Val loss 1.050635e-01|Train loss 1.309166e-01|LR 0.00060|\n"
      ]
     },
     "metadata": {},
     "output_type": "display_data"
    },
    {
     "data": {
      "text/html": [
       "<pre style=\"white-space:pre;overflow-x:auto;line-height:normal;font-family:Menlo,'DejaVu Sans Mono',consolas,'Courier New',monospace\">Epoch 0120|Val loss 1.051430e-01|Train loss 1.294870e-01|LR 0.00060|\n",
       "</pre>\n"
      ],
      "text/plain": [
       "Epoch 0120|Val loss 1.051430e-01|Train loss 1.294870e-01|LR 0.00060|\n"
      ]
     },
     "metadata": {},
     "output_type": "display_data"
    },
    {
     "data": {
      "text/html": [
       "<pre style=\"white-space:pre;overflow-x:auto;line-height:normal;font-family:Menlo,'DejaVu Sans Mono',consolas,'Courier New',monospace\">EarlyStopping counter: 4 out of 20\n",
       "</pre>\n"
      ],
      "text/plain": [
       "EarlyStopping counter: 4 out of 20\n"
      ]
     },
     "metadata": {},
     "output_type": "display_data"
    },
    {
     "data": {
      "text/html": [
       "<pre style=\"white-space:pre;overflow-x:auto;line-height:normal;font-family:Menlo,'DejaVu Sans Mono',consolas,'Courier New',monospace\">Epoch 0121|Val loss 9.558485e-02|Train loss 1.246441e-01|LR 0.00060|\n",
       "</pre>\n"
      ],
      "text/plain": [
       "Epoch 0121|Val loss 9.558485e-02|Train loss 1.246441e-01|LR 0.00060|\n"
      ]
     },
     "metadata": {},
     "output_type": "display_data"
    },
    {
     "data": {
      "text/html": [
       "<pre style=\"white-space:pre;overflow-x:auto;line-height:normal;font-family:Menlo,'DejaVu Sans Mono',consolas,'Courier New',monospace\">Epoch 0122|Val loss 9.044191e-02|Train loss 1.261391e-01|LR 0.00060|\n",
       "</pre>\n"
      ],
      "text/plain": [
       "Epoch 0122|Val loss 9.044191e-02|Train loss 1.261391e-01|LR 0.00060|\n"
      ]
     },
     "metadata": {},
     "output_type": "display_data"
    },
    {
     "data": {
      "text/html": [
       "<pre style=\"white-space:pre;overflow-x:auto;line-height:normal;font-family:Menlo,'DejaVu Sans Mono',consolas,'Courier New',monospace\">Epoch 0123|Val loss 1.055957e-01|Train loss 1.266275e-01|LR 0.00060|\n",
       "</pre>\n"
      ],
      "text/plain": [
       "Epoch 0123|Val loss 1.055957e-01|Train loss 1.266275e-01|LR 0.00060|\n"
      ]
     },
     "metadata": {},
     "output_type": "display_data"
    },
    {
     "data": {
      "text/html": [
       "<pre style=\"white-space:pre;overflow-x:auto;line-height:normal;font-family:Menlo,'DejaVu Sans Mono',consolas,'Courier New',monospace\">Epoch 0124|Val loss 1.253501e-01|Train loss 1.260148e-01|LR 0.00060|\n",
       "</pre>\n"
      ],
      "text/plain": [
       "Epoch 0124|Val loss 1.253501e-01|Train loss 1.260148e-01|LR 0.00060|\n"
      ]
     },
     "metadata": {},
     "output_type": "display_data"
    },
    {
     "data": {
      "text/html": [
       "<pre style=\"white-space:pre;overflow-x:auto;line-height:normal;font-family:Menlo,'DejaVu Sans Mono',consolas,'Courier New',monospace\">Epoch 0125|Val loss 1.164795e-01|Train loss 1.247470e-01|LR 0.00060|\n",
       "</pre>\n"
      ],
      "text/plain": [
       "Epoch 0125|Val loss 1.164795e-01|Train loss 1.247470e-01|LR 0.00060|\n"
      ]
     },
     "metadata": {},
     "output_type": "display_data"
    },
    {
     "data": {
      "text/html": [
       "<pre style=\"white-space:pre;overflow-x:auto;line-height:normal;font-family:Menlo,'DejaVu Sans Mono',consolas,'Courier New',monospace\">Epoch 0126|Val loss 1.188684e-01|Train loss 1.258915e-01|LR 0.00060|\n",
       "</pre>\n"
      ],
      "text/plain": [
       "Epoch 0126|Val loss 1.188684e-01|Train loss 1.258915e-01|LR 0.00060|\n"
      ]
     },
     "metadata": {},
     "output_type": "display_data"
    },
    {
     "data": {
      "text/html": [
       "<pre style=\"white-space:pre;overflow-x:auto;line-height:normal;font-family:Menlo,'DejaVu Sans Mono',consolas,'Courier New',monospace\">Epoch 0127|Val loss 1.018852e-01|Train loss 1.237051e-01|LR 0.00036|\n",
       "</pre>\n"
      ],
      "text/plain": [
       "Epoch 0127|Val loss 1.018852e-01|Train loss 1.237051e-01|LR 0.00036|\n"
      ]
     },
     "metadata": {},
     "output_type": "display_data"
    },
    {
     "data": {
      "text/html": [
       "<pre style=\"white-space:pre;overflow-x:auto;line-height:normal;font-family:Menlo,'DejaVu Sans Mono',consolas,'Courier New',monospace\">Epoch 0128|Val loss 8.941673e-02|Train loss 1.199282e-01|LR 0.00036|\n",
       "</pre>\n"
      ],
      "text/plain": [
       "Epoch 0128|Val loss 8.941673e-02|Train loss 1.199282e-01|LR 0.00036|\n"
      ]
     },
     "metadata": {},
     "output_type": "display_data"
    },
    {
     "data": {
      "text/html": [
       "<pre style=\"white-space:pre;overflow-x:auto;line-height:normal;font-family:Menlo,'DejaVu Sans Mono',consolas,'Courier New',monospace\">Epoch 0129|Val loss 9.478925e-02|Train loss 1.211538e-01|LR 0.00036|\n",
       "</pre>\n"
      ],
      "text/plain": [
       "Epoch 0129|Val loss 9.478925e-02|Train loss 1.211538e-01|LR 0.00036|\n"
      ]
     },
     "metadata": {},
     "output_type": "display_data"
    },
    {
     "data": {
      "text/html": [
       "<pre style=\"white-space:pre;overflow-x:auto;line-height:normal;font-family:Menlo,'DejaVu Sans Mono',consolas,'Courier New',monospace\">Epoch 0130|Val loss 8.432381e-02|Train loss 1.200665e-01|LR 0.00036|\n",
       "</pre>\n"
      ],
      "text/plain": [
       "Epoch 0130|Val loss 8.432381e-02|Train loss 1.200665e-01|LR 0.00036|\n"
      ]
     },
     "metadata": {},
     "output_type": "display_data"
    },
    {
     "data": {
      "text/html": [
       "<pre style=\"white-space:pre;overflow-x:auto;line-height:normal;font-family:Menlo,'DejaVu Sans Mono',consolas,'Courier New',monospace\">Val loss decreased (0.10 to 0.08). Model saved\n",
       "</pre>\n"
      ],
      "text/plain": [
       "Val loss decreased (0.10 to 0.08). Model saved\n"
      ]
     },
     "metadata": {},
     "output_type": "display_data"
    },
    {
     "data": {
      "text/html": [
       "<pre style=\"white-space:pre;overflow-x:auto;line-height:normal;font-family:Menlo,'DejaVu Sans Mono',consolas,'Courier New',monospace\">Epoch 0131|Val loss 9.070899e-02|Train loss 1.197494e-01|LR 0.00036|\n",
       "</pre>\n"
      ],
      "text/plain": [
       "Epoch 0131|Val loss 9.070899e-02|Train loss 1.197494e-01|LR 0.00036|\n"
      ]
     },
     "metadata": {},
     "output_type": "display_data"
    },
    {
     "data": {
      "text/html": [
       "<pre style=\"white-space:pre;overflow-x:auto;line-height:normal;font-family:Menlo,'DejaVu Sans Mono',consolas,'Courier New',monospace\">Epoch 0132|Val loss 8.953863e-02|Train loss 1.198312e-01|LR 0.00036|\n",
       "</pre>\n"
      ],
      "text/plain": [
       "Epoch 0132|Val loss 8.953863e-02|Train loss 1.198312e-01|LR 0.00036|\n"
      ]
     },
     "metadata": {},
     "output_type": "display_data"
    },
    {
     "data": {
      "text/html": [
       "<pre style=\"white-space:pre;overflow-x:auto;line-height:normal;font-family:Menlo,'DejaVu Sans Mono',consolas,'Courier New',monospace\">Epoch 0133|Val loss 9.707864e-02|Train loss 1.195690e-01|LR 0.00036|\n",
       "</pre>\n"
      ],
      "text/plain": [
       "Epoch 0133|Val loss 9.707864e-02|Train loss 1.195690e-01|LR 0.00036|\n"
      ]
     },
     "metadata": {},
     "output_type": "display_data"
    },
    {
     "data": {
      "text/html": [
       "<pre style=\"white-space:pre;overflow-x:auto;line-height:normal;font-family:Menlo,'DejaVu Sans Mono',consolas,'Courier New',monospace\">Epoch 0134|Val loss 1.093133e-01|Train loss 1.209403e-01|LR 0.00036|\n",
       "</pre>\n"
      ],
      "text/plain": [
       "Epoch 0134|Val loss 1.093133e-01|Train loss 1.209403e-01|LR 0.00036|\n"
      ]
     },
     "metadata": {},
     "output_type": "display_data"
    },
    {
     "data": {
      "text/html": [
       "<pre style=\"white-space:pre;overflow-x:auto;line-height:normal;font-family:Menlo,'DejaVu Sans Mono',consolas,'Courier New',monospace\">Epoch 0135|Val loss 1.130659e-01|Train loss 1.205820e-01|LR 0.00036|\n",
       "</pre>\n"
      ],
      "text/plain": [
       "Epoch 0135|Val loss 1.130659e-01|Train loss 1.205820e-01|LR 0.00036|\n"
      ]
     },
     "metadata": {},
     "output_type": "display_data"
    },
    {
     "data": {
      "text/html": [
       "<pre style=\"white-space:pre;overflow-x:auto;line-height:normal;font-family:Menlo,'DejaVu Sans Mono',consolas,'Courier New',monospace\">Epoch 0136|Val loss 1.023558e-01|Train loss 1.209278e-01|LR 0.00036|\n",
       "</pre>\n"
      ],
      "text/plain": [
       "Epoch 0136|Val loss 1.023558e-01|Train loss 1.209278e-01|LR 0.00036|\n"
      ]
     },
     "metadata": {},
     "output_type": "display_data"
    },
    {
     "data": {
      "text/html": [
       "<pre style=\"white-space:pre;overflow-x:auto;line-height:normal;font-family:Menlo,'DejaVu Sans Mono',consolas,'Courier New',monospace\">Epoch 0137|Val loss 8.906233e-02|Train loss 1.218312e-01|LR 0.00036|\n",
       "</pre>\n"
      ],
      "text/plain": [
       "Epoch 0137|Val loss 8.906233e-02|Train loss 1.218312e-01|LR 0.00036|\n"
      ]
     },
     "metadata": {},
     "output_type": "display_data"
    },
    {
     "data": {
      "text/html": [
       "<pre style=\"white-space:pre;overflow-x:auto;line-height:normal;font-family:Menlo,'DejaVu Sans Mono',consolas,'Courier New',monospace\">Epoch 0138|Val loss 1.135162e-01|Train loss 1.222623e-01|LR 0.00036|\n",
       "</pre>\n"
      ],
      "text/plain": [
       "Epoch 0138|Val loss 1.135162e-01|Train loss 1.222623e-01|LR 0.00036|\n"
      ]
     },
     "metadata": {},
     "output_type": "display_data"
    },
    {
     "data": {
      "text/html": [
       "<pre style=\"white-space:pre;overflow-x:auto;line-height:normal;font-family:Menlo,'DejaVu Sans Mono',consolas,'Courier New',monospace\">Epoch 0139|Val loss 1.151004e-01|Train loss 1.226486e-01|LR 0.00036|\n",
       "</pre>\n"
      ],
      "text/plain": [
       "Epoch 0139|Val loss 1.151004e-01|Train loss 1.226486e-01|LR 0.00036|\n"
      ]
     },
     "metadata": {},
     "output_type": "display_data"
    },
    {
     "data": {
      "text/html": [
       "<pre style=\"white-space:pre;overflow-x:auto;line-height:normal;font-family:Menlo,'DejaVu Sans Mono',consolas,'Courier New',monospace\">Epoch 0140|Val loss 1.080783e-01|Train loss 1.245355e-01|LR 0.00036|\n",
       "</pre>\n"
      ],
      "text/plain": [
       "Epoch 0140|Val loss 1.080783e-01|Train loss 1.245355e-01|LR 0.00036|\n"
      ]
     },
     "metadata": {},
     "output_type": "display_data"
    },
    {
     "data": {
      "text/html": [
       "<pre style=\"white-space:pre;overflow-x:auto;line-height:normal;font-family:Menlo,'DejaVu Sans Mono',consolas,'Courier New',monospace\">EarlyStopping counter: 1 out of 20\n",
       "</pre>\n"
      ],
      "text/plain": [
       "EarlyStopping counter: 1 out of 20\n"
      ]
     },
     "metadata": {},
     "output_type": "display_data"
    },
    {
     "data": {
      "text/html": [
       "<pre style=\"white-space:pre;overflow-x:auto;line-height:normal;font-family:Menlo,'DejaVu Sans Mono',consolas,'Courier New',monospace\">Epoch 0141|Val loss 8.626457e-02|Train loss 1.229115e-01|LR 0.00036|\n",
       "</pre>\n"
      ],
      "text/plain": [
       "Epoch 0141|Val loss 8.626457e-02|Train loss 1.229115e-01|LR 0.00036|\n"
      ]
     },
     "metadata": {},
     "output_type": "display_data"
    },
    {
     "data": {
      "text/html": [
       "<pre style=\"white-space:pre;overflow-x:auto;line-height:normal;font-family:Menlo,'DejaVu Sans Mono',consolas,'Courier New',monospace\">Epoch 0142|Val loss 1.008267e-01|Train loss 1.211747e-01|LR 0.00036|\n",
       "</pre>\n"
      ],
      "text/plain": [
       "Epoch 0142|Val loss 1.008267e-01|Train loss 1.211747e-01|LR 0.00036|\n"
      ]
     },
     "metadata": {},
     "output_type": "display_data"
    },
    {
     "data": {
      "text/html": [
       "<pre style=\"white-space:pre;overflow-x:auto;line-height:normal;font-family:Menlo,'DejaVu Sans Mono',consolas,'Courier New',monospace\">Epoch 0143|Val loss 8.525727e-02|Train loss 1.231128e-01|LR 0.00036|\n",
       "</pre>\n"
      ],
      "text/plain": [
       "Epoch 0143|Val loss 8.525727e-02|Train loss 1.231128e-01|LR 0.00036|\n"
      ]
     },
     "metadata": {},
     "output_type": "display_data"
    },
    {
     "data": {
      "text/html": [
       "<pre style=\"white-space:pre;overflow-x:auto;line-height:normal;font-family:Menlo,'DejaVu Sans Mono',consolas,'Courier New',monospace\">Epoch 0144|Val loss 9.655798e-02|Train loss 1.225811e-01|LR 0.00036|\n",
       "</pre>\n"
      ],
      "text/plain": [
       "Epoch 0144|Val loss 9.655798e-02|Train loss 1.225811e-01|LR 0.00036|\n"
      ]
     },
     "metadata": {},
     "output_type": "display_data"
    },
    {
     "data": {
      "text/html": [
       "<pre style=\"white-space:pre;overflow-x:auto;line-height:normal;font-family:Menlo,'DejaVu Sans Mono',consolas,'Courier New',monospace\">Epoch 0145|Val loss 8.285931e-02|Train loss 1.235974e-01|LR 0.00036|\n",
       "</pre>\n"
      ],
      "text/plain": [
       "Epoch 0145|Val loss 8.285931e-02|Train loss 1.235974e-01|LR 0.00036|\n"
      ]
     },
     "metadata": {},
     "output_type": "display_data"
    },
    {
     "data": {
      "text/html": [
       "<pre style=\"white-space:pre;overflow-x:auto;line-height:normal;font-family:Menlo,'DejaVu Sans Mono',consolas,'Courier New',monospace\">Epoch 0146|Val loss 9.580063e-02|Train loss 1.220574e-01|LR 0.00036|\n",
       "</pre>\n"
      ],
      "text/plain": [
       "Epoch 0146|Val loss 9.580063e-02|Train loss 1.220574e-01|LR 0.00036|\n"
      ]
     },
     "metadata": {},
     "output_type": "display_data"
    },
    {
     "data": {
      "text/html": [
       "<pre style=\"white-space:pre;overflow-x:auto;line-height:normal;font-family:Menlo,'DejaVu Sans Mono',consolas,'Courier New',monospace\">Epoch 0147|Val loss 9.704469e-02|Train loss 1.222602e-01|LR 0.00036|\n",
       "</pre>\n"
      ],
      "text/plain": [
       "Epoch 0147|Val loss 9.704469e-02|Train loss 1.222602e-01|LR 0.00036|\n"
      ]
     },
     "metadata": {},
     "output_type": "display_data"
    },
    {
     "data": {
      "text/html": [
       "<pre style=\"white-space:pre;overflow-x:auto;line-height:normal;font-family:Menlo,'DejaVu Sans Mono',consolas,'Courier New',monospace\">Epoch 0148|Val loss 9.466330e-02|Train loss 1.228308e-01|LR 0.00036|\n",
       "</pre>\n"
      ],
      "text/plain": [
       "Epoch 0148|Val loss 9.466330e-02|Train loss 1.228308e-01|LR 0.00036|\n"
      ]
     },
     "metadata": {},
     "output_type": "display_data"
    },
    {
     "data": {
      "text/html": [
       "<pre style=\"white-space:pre;overflow-x:auto;line-height:normal;font-family:Menlo,'DejaVu Sans Mono',consolas,'Courier New',monospace\">Epoch 0149|Val loss 8.568537e-02|Train loss 1.208886e-01|LR 0.00036|\n",
       "</pre>\n"
      ],
      "text/plain": [
       "Epoch 0149|Val loss 8.568537e-02|Train loss 1.208886e-01|LR 0.00036|\n"
      ]
     },
     "metadata": {},
     "output_type": "display_data"
    },
    {
     "data": {
      "text/html": [
       "<pre style=\"white-space:pre;overflow-x:auto;line-height:normal;font-family:Menlo,'DejaVu Sans Mono',consolas,'Courier New',monospace\">Epoch 0150|Val loss 1.017841e-01|Train loss 1.240197e-01|LR 0.00036|\n",
       "</pre>\n"
      ],
      "text/plain": [
       "Epoch 0150|Val loss 1.017841e-01|Train loss 1.240197e-01|LR 0.00036|\n"
      ]
     },
     "metadata": {},
     "output_type": "display_data"
    },
    {
     "data": {
      "text/html": [
       "<pre style=\"white-space:pre;overflow-x:auto;line-height:normal;font-family:Menlo,'DejaVu Sans Mono',consolas,'Courier New',monospace\">EarlyStopping counter: 2 out of 20\n",
       "</pre>\n"
      ],
      "text/plain": [
       "EarlyStopping counter: 2 out of 20\n"
      ]
     },
     "metadata": {},
     "output_type": "display_data"
    },
    {
     "data": {
      "text/html": [
       "<pre style=\"white-space:pre;overflow-x:auto;line-height:normal;font-family:Menlo,'DejaVu Sans Mono',consolas,'Courier New',monospace\">Epoch 0151|Val loss 1.042211e-01|Train loss 1.243882e-01|LR 0.00036|\n",
       "</pre>\n"
      ],
      "text/plain": [
       "Epoch 0151|Val loss 1.042211e-01|Train loss 1.243882e-01|LR 0.00036|\n"
      ]
     },
     "metadata": {},
     "output_type": "display_data"
    },
    {
     "data": {
      "text/html": [
       "<pre style=\"white-space:pre;overflow-x:auto;line-height:normal;font-family:Menlo,'DejaVu Sans Mono',consolas,'Courier New',monospace\">Epoch 0152|Val loss 1.002455e-01|Train loss 1.240101e-01|LR 0.00036|\n",
       "</pre>\n"
      ],
      "text/plain": [
       "Epoch 0152|Val loss 1.002455e-01|Train loss 1.240101e-01|LR 0.00036|\n"
      ]
     },
     "metadata": {},
     "output_type": "display_data"
    },
    {
     "data": {
      "text/html": [
       "<pre style=\"white-space:pre;overflow-x:auto;line-height:normal;font-family:Menlo,'DejaVu Sans Mono',consolas,'Courier New',monospace\">Epoch 0153|Val loss 8.638837e-02|Train loss 1.237685e-01|LR 0.00036|\n",
       "</pre>\n"
      ],
      "text/plain": [
       "Epoch 0153|Val loss 8.638837e-02|Train loss 1.237685e-01|LR 0.00036|\n"
      ]
     },
     "metadata": {},
     "output_type": "display_data"
    },
    {
     "data": {
      "text/html": [
       "<pre style=\"white-space:pre;overflow-x:auto;line-height:normal;font-family:Menlo,'DejaVu Sans Mono',consolas,'Courier New',monospace\">Epoch 0154|Val loss 1.047578e-01|Train loss 1.228032e-01|LR 0.00036|\n",
       "</pre>\n"
      ],
      "text/plain": [
       "Epoch 0154|Val loss 1.047578e-01|Train loss 1.228032e-01|LR 0.00036|\n"
      ]
     },
     "metadata": {},
     "output_type": "display_data"
    },
    {
     "data": {
      "text/html": [
       "<pre style=\"white-space:pre;overflow-x:auto;line-height:normal;font-family:Menlo,'DejaVu Sans Mono',consolas,'Courier New',monospace\">Epoch 0155|Val loss 9.107267e-02|Train loss 1.232730e-01|LR 0.00036|\n",
       "</pre>\n"
      ],
      "text/plain": [
       "Epoch 0155|Val loss 9.107267e-02|Train loss 1.232730e-01|LR 0.00036|\n"
      ]
     },
     "metadata": {},
     "output_type": "display_data"
    },
    {
     "data": {
      "text/html": [
       "<pre style=\"white-space:pre;overflow-x:auto;line-height:normal;font-family:Menlo,'DejaVu Sans Mono',consolas,'Courier New',monospace\">Epoch 0156|Val loss 1.015613e-01|Train loss 1.214487e-01|LR 0.00036|\n",
       "</pre>\n"
      ],
      "text/plain": [
       "Epoch 0156|Val loss 1.015613e-01|Train loss 1.214487e-01|LR 0.00036|\n"
      ]
     },
     "metadata": {},
     "output_type": "display_data"
    },
    {
     "data": {
      "text/html": [
       "<pre style=\"white-space:pre;overflow-x:auto;line-height:normal;font-family:Menlo,'DejaVu Sans Mono',consolas,'Courier New',monospace\">Epoch 0157|Val loss 1.089392e-01|Train loss 1.237515e-01|LR 0.00036|\n",
       "</pre>\n"
      ],
      "text/plain": [
       "Epoch 0157|Val loss 1.089392e-01|Train loss 1.237515e-01|LR 0.00036|\n"
      ]
     },
     "metadata": {},
     "output_type": "display_data"
    },
    {
     "data": {
      "text/html": [
       "<pre style=\"white-space:pre;overflow-x:auto;line-height:normal;font-family:Menlo,'DejaVu Sans Mono',consolas,'Courier New',monospace\">Epoch 0158|Val loss 1.131497e-01|Train loss 1.211995e-01|LR 0.00036|\n",
       "</pre>\n"
      ],
      "text/plain": [
       "Epoch 0158|Val loss 1.131497e-01|Train loss 1.211995e-01|LR 0.00036|\n"
      ]
     },
     "metadata": {},
     "output_type": "display_data"
    },
    {
     "data": {
      "text/html": [
       "<pre style=\"white-space:pre;overflow-x:auto;line-height:normal;font-family:Menlo,'DejaVu Sans Mono',consolas,'Courier New',monospace\">Epoch 0159|Val loss 1.409129e-01|Train loss 1.214097e-01|LR 0.00036|\n",
       "</pre>\n"
      ],
      "text/plain": [
       "Epoch 0159|Val loss 1.409129e-01|Train loss 1.214097e-01|LR 0.00036|\n"
      ]
     },
     "metadata": {},
     "output_type": "display_data"
    },
    {
     "data": {
      "text/html": [
       "<pre style=\"white-space:pre;overflow-x:auto;line-height:normal;font-family:Menlo,'DejaVu Sans Mono',consolas,'Courier New',monospace\">Epoch 0160|Val loss 1.001203e-01|Train loss 1.222635e-01|LR 0.00036|\n",
       "</pre>\n"
      ],
      "text/plain": [
       "Epoch 0160|Val loss 1.001203e-01|Train loss 1.222635e-01|LR 0.00036|\n"
      ]
     },
     "metadata": {},
     "output_type": "display_data"
    },
    {
     "data": {
      "text/html": [
       "<pre style=\"white-space:pre;overflow-x:auto;line-height:normal;font-family:Menlo,'DejaVu Sans Mono',consolas,'Courier New',monospace\">EarlyStopping counter: 3 out of 20\n",
       "</pre>\n"
      ],
      "text/plain": [
       "EarlyStopping counter: 3 out of 20\n"
      ]
     },
     "metadata": {},
     "output_type": "display_data"
    },
    {
     "data": {
      "text/html": [
       "<pre style=\"white-space:pre;overflow-x:auto;line-height:normal;font-family:Menlo,'DejaVu Sans Mono',consolas,'Courier New',monospace\">Epoch 0161|Val loss 9.335604e-02|Train loss 1.214843e-01|LR 0.00036|\n",
       "</pre>\n"
      ],
      "text/plain": [
       "Epoch 0161|Val loss 9.335604e-02|Train loss 1.214843e-01|LR 0.00036|\n"
      ]
     },
     "metadata": {},
     "output_type": "display_data"
    },
    {
     "data": {
      "text/html": [
       "<pre style=\"white-space:pre;overflow-x:auto;line-height:normal;font-family:Menlo,'DejaVu Sans Mono',consolas,'Courier New',monospace\">Epoch 0162|Val loss 9.432242e-02|Train loss 1.190525e-01|LR 0.00036|\n",
       "</pre>\n"
      ],
      "text/plain": [
       "Epoch 0162|Val loss 9.432242e-02|Train loss 1.190525e-01|LR 0.00036|\n"
      ]
     },
     "metadata": {},
     "output_type": "display_data"
    },
    {
     "data": {
      "text/html": [
       "<pre style=\"white-space:pre;overflow-x:auto;line-height:normal;font-family:Menlo,'DejaVu Sans Mono',consolas,'Courier New',monospace\">Epoch 0163|Val loss 9.281702e-02|Train loss 1.203577e-01|LR 0.00036|\n",
       "</pre>\n"
      ],
      "text/plain": [
       "Epoch 0163|Val loss 9.281702e-02|Train loss 1.203577e-01|LR 0.00036|\n"
      ]
     },
     "metadata": {},
     "output_type": "display_data"
    },
    {
     "data": {
      "text/html": [
       "<pre style=\"white-space:pre;overflow-x:auto;line-height:normal;font-family:Menlo,'DejaVu Sans Mono',consolas,'Courier New',monospace\">Epoch 0164|Val loss 1.137927e-01|Train loss 1.211737e-01|LR 0.00036|\n",
       "</pre>\n"
      ],
      "text/plain": [
       "Epoch 0164|Val loss 1.137927e-01|Train loss 1.211737e-01|LR 0.00036|\n"
      ]
     },
     "metadata": {},
     "output_type": "display_data"
    },
    {
     "data": {
      "text/html": [
       "<pre style=\"white-space:pre;overflow-x:auto;line-height:normal;font-family:Menlo,'DejaVu Sans Mono',consolas,'Courier New',monospace\">Epoch 0165|Val loss 8.851409e-02|Train loss 1.222063e-01|LR 0.00036|\n",
       "</pre>\n"
      ],
      "text/plain": [
       "Epoch 0165|Val loss 8.851409e-02|Train loss 1.222063e-01|LR 0.00036|\n"
      ]
     },
     "metadata": {},
     "output_type": "display_data"
    },
    {
     "data": {
      "text/html": [
       "<pre style=\"white-space:pre;overflow-x:auto;line-height:normal;font-family:Menlo,'DejaVu Sans Mono',consolas,'Courier New',monospace\">Epoch 0166|Val loss 9.572212e-02|Train loss 1.220712e-01|LR 0.00036|\n",
       "</pre>\n"
      ],
      "text/plain": [
       "Epoch 0166|Val loss 9.572212e-02|Train loss 1.220712e-01|LR 0.00036|\n"
      ]
     },
     "metadata": {},
     "output_type": "display_data"
    },
    {
     "data": {
      "text/html": [
       "<pre style=\"white-space:pre;overflow-x:auto;line-height:normal;font-family:Menlo,'DejaVu Sans Mono',consolas,'Courier New',monospace\">Epoch 0167|Val loss 9.084963e-02|Train loss 1.209051e-01|LR 0.00036|\n",
       "</pre>\n"
      ],
      "text/plain": [
       "Epoch 0167|Val loss 9.084963e-02|Train loss 1.209051e-01|LR 0.00036|\n"
      ]
     },
     "metadata": {},
     "output_type": "display_data"
    },
    {
     "data": {
      "text/html": [
       "<pre style=\"white-space:pre;overflow-x:auto;line-height:normal;font-family:Menlo,'DejaVu Sans Mono',consolas,'Courier New',monospace\">Epoch 0168|Val loss 9.671462e-02|Train loss 1.211348e-01|LR 0.00036|\n",
       "</pre>\n"
      ],
      "text/plain": [
       "Epoch 0168|Val loss 9.671462e-02|Train loss 1.211348e-01|LR 0.00036|\n"
      ]
     },
     "metadata": {},
     "output_type": "display_data"
    },
    {
     "data": {
      "text/html": [
       "<pre style=\"white-space:pre;overflow-x:auto;line-height:normal;font-family:Menlo,'DejaVu Sans Mono',consolas,'Courier New',monospace\">Epoch 0169|Val loss 8.445281e-02|Train loss 1.217068e-01|LR 0.00036|\n",
       "</pre>\n"
      ],
      "text/plain": [
       "Epoch 0169|Val loss 8.445281e-02|Train loss 1.217068e-01|LR 0.00036|\n"
      ]
     },
     "metadata": {},
     "output_type": "display_data"
    },
    {
     "data": {
      "text/html": [
       "<pre style=\"white-space:pre;overflow-x:auto;line-height:normal;font-family:Menlo,'DejaVu Sans Mono',consolas,'Courier New',monospace\">Epoch 0170|Val loss 1.018504e-01|Train loss 1.213073e-01|LR 0.00036|\n",
       "</pre>\n"
      ],
      "text/plain": [
       "Epoch 0170|Val loss 1.018504e-01|Train loss 1.213073e-01|LR 0.00036|\n"
      ]
     },
     "metadata": {},
     "output_type": "display_data"
    },
    {
     "data": {
      "text/html": [
       "<pre style=\"white-space:pre;overflow-x:auto;line-height:normal;font-family:Menlo,'DejaVu Sans Mono',consolas,'Courier New',monospace\">EarlyStopping counter: 4 out of 20\n",
       "</pre>\n"
      ],
      "text/plain": [
       "EarlyStopping counter: 4 out of 20\n"
      ]
     },
     "metadata": {},
     "output_type": "display_data"
    },
    {
     "data": {
      "text/html": [
       "<pre style=\"white-space:pre;overflow-x:auto;line-height:normal;font-family:Menlo,'DejaVu Sans Mono',consolas,'Courier New',monospace\">Epoch 0171|Val loss 9.203823e-02|Train loss 1.233548e-01|LR 0.00036|\n",
       "</pre>\n"
      ],
      "text/plain": [
       "Epoch 0171|Val loss 9.203823e-02|Train loss 1.233548e-01|LR 0.00036|\n"
      ]
     },
     "metadata": {},
     "output_type": "display_data"
    },
    {
     "data": {
      "text/html": [
       "<pre style=\"white-space:pre;overflow-x:auto;line-height:normal;font-family:Menlo,'DejaVu Sans Mono',consolas,'Courier New',monospace\">Epoch 0172|Val loss 1.054291e-01|Train loss 1.225941e-01|LR 0.00036|\n",
       "</pre>\n"
      ],
      "text/plain": [
       "Epoch 0172|Val loss 1.054291e-01|Train loss 1.225941e-01|LR 0.00036|\n"
      ]
     },
     "metadata": {},
     "output_type": "display_data"
    },
    {
     "data": {
      "text/html": [
       "<pre style=\"white-space:pre;overflow-x:auto;line-height:normal;font-family:Menlo,'DejaVu Sans Mono',consolas,'Courier New',monospace\">Epoch 0173|Val loss 1.085483e-01|Train loss 1.245753e-01|LR 0.00036|\n",
       "</pre>\n"
      ],
      "text/plain": [
       "Epoch 0173|Val loss 1.085483e-01|Train loss 1.245753e-01|LR 0.00036|\n"
      ]
     },
     "metadata": {},
     "output_type": "display_data"
    },
    {
     "data": {
      "text/html": [
       "<pre style=\"white-space:pre;overflow-x:auto;line-height:normal;font-family:Menlo,'DejaVu Sans Mono',consolas,'Courier New',monospace\">Epoch 0174|Val loss 1.067956e-01|Train loss 1.235304e-01|LR 0.00036|\n",
       "</pre>\n"
      ],
      "text/plain": [
       "Epoch 0174|Val loss 1.067956e-01|Train loss 1.235304e-01|LR 0.00036|\n"
      ]
     },
     "metadata": {},
     "output_type": "display_data"
    },
    {
     "data": {
      "text/html": [
       "<pre style=\"white-space:pre;overflow-x:auto;line-height:normal;font-family:Menlo,'DejaVu Sans Mono',consolas,'Courier New',monospace\">Epoch 0175|Val loss 9.193743e-02|Train loss 1.238145e-01|LR 0.00036|\n",
       "</pre>\n"
      ],
      "text/plain": [
       "Epoch 0175|Val loss 9.193743e-02|Train loss 1.238145e-01|LR 0.00036|\n"
      ]
     },
     "metadata": {},
     "output_type": "display_data"
    },
    {
     "data": {
      "text/html": [
       "<pre style=\"white-space:pre;overflow-x:auto;line-height:normal;font-family:Menlo,'DejaVu Sans Mono',consolas,'Courier New',monospace\">Epoch 0176|Val loss 1.018743e-01|Train loss 1.247747e-01|LR 0.00036|\n",
       "</pre>\n"
      ],
      "text/plain": [
       "Epoch 0176|Val loss 1.018743e-01|Train loss 1.247747e-01|LR 0.00036|\n"
      ]
     },
     "metadata": {},
     "output_type": "display_data"
    },
    {
     "data": {
      "text/html": [
       "<pre style=\"white-space:pre;overflow-x:auto;line-height:normal;font-family:Menlo,'DejaVu Sans Mono',consolas,'Courier New',monospace\">Epoch 0177|Val loss 8.992994e-02|Train loss 1.229428e-01|LR 0.00036|\n",
       "</pre>\n"
      ],
      "text/plain": [
       "Epoch 0177|Val loss 8.992994e-02|Train loss 1.229428e-01|LR 0.00036|\n"
      ]
     },
     "metadata": {},
     "output_type": "display_data"
    },
    {
     "data": {
      "text/html": [
       "<pre style=\"white-space:pre;overflow-x:auto;line-height:normal;font-family:Menlo,'DejaVu Sans Mono',consolas,'Courier New',monospace\">Epoch 0178|Val loss 1.031124e-01|Train loss 1.242143e-01|LR 0.00036|\n",
       "</pre>\n"
      ],
      "text/plain": [
       "Epoch 0178|Val loss 1.031124e-01|Train loss 1.242143e-01|LR 0.00036|\n"
      ]
     },
     "metadata": {},
     "output_type": "display_data"
    },
    {
     "data": {
      "text/html": [
       "<pre style=\"white-space:pre;overflow-x:auto;line-height:normal;font-family:Menlo,'DejaVu Sans Mono',consolas,'Courier New',monospace\">Epoch 0179|Val loss 8.667568e-02|Train loss 1.238561e-01|LR 0.00036|\n",
       "</pre>\n"
      ],
      "text/plain": [
       "Epoch 0179|Val loss 8.667568e-02|Train loss 1.238561e-01|LR 0.00036|\n"
      ]
     },
     "metadata": {},
     "output_type": "display_data"
    },
    {
     "data": {
      "text/html": [
       "<pre style=\"white-space:pre;overflow-x:auto;line-height:normal;font-family:Menlo,'DejaVu Sans Mono',consolas,'Courier New',monospace\">Epoch 0180|Val loss 1.007457e-01|Train loss 1.224561e-01|LR 0.00036|\n",
       "</pre>\n"
      ],
      "text/plain": [
       "Epoch 0180|Val loss 1.007457e-01|Train loss 1.224561e-01|LR 0.00036|\n"
      ]
     },
     "metadata": {},
     "output_type": "display_data"
    },
    {
     "data": {
      "text/html": [
       "<pre style=\"white-space:pre;overflow-x:auto;line-height:normal;font-family:Menlo,'DejaVu Sans Mono',consolas,'Courier New',monospace\">EarlyStopping counter: 5 out of 20\n",
       "</pre>\n"
      ],
      "text/plain": [
       "EarlyStopping counter: 5 out of 20\n"
      ]
     },
     "metadata": {},
     "output_type": "display_data"
    },
    {
     "data": {
      "text/html": [
       "<pre style=\"white-space:pre;overflow-x:auto;line-height:normal;font-family:Menlo,'DejaVu Sans Mono',consolas,'Courier New',monospace\">Epoch 0181|Val loss 1.072139e-01|Train loss 1.232978e-01|LR 0.00036|\n",
       "</pre>\n"
      ],
      "text/plain": [
       "Epoch 0181|Val loss 1.072139e-01|Train loss 1.232978e-01|LR 0.00036|\n"
      ]
     },
     "metadata": {},
     "output_type": "display_data"
    },
    {
     "data": {
      "text/html": [
       "<pre style=\"white-space:pre;overflow-x:auto;line-height:normal;font-family:Menlo,'DejaVu Sans Mono',consolas,'Courier New',monospace\">Epoch 0182|Val loss 1.005812e-01|Train loss 1.222282e-01|LR 0.00036|\n",
       "</pre>\n"
      ],
      "text/plain": [
       "Epoch 0182|Val loss 1.005812e-01|Train loss 1.222282e-01|LR 0.00036|\n"
      ]
     },
     "metadata": {},
     "output_type": "display_data"
    },
    {
     "data": {
      "text/html": [
       "<pre style=\"white-space:pre;overflow-x:auto;line-height:normal;font-family:Menlo,'DejaVu Sans Mono',consolas,'Courier New',monospace\">Epoch 0183|Val loss 1.175748e-01|Train loss 1.222583e-01|LR 0.00036|\n",
       "</pre>\n"
      ],
      "text/plain": [
       "Epoch 0183|Val loss 1.175748e-01|Train loss 1.222583e-01|LR 0.00036|\n"
      ]
     },
     "metadata": {},
     "output_type": "display_data"
    },
    {
     "data": {
      "text/html": [
       "<pre style=\"white-space:pre;overflow-x:auto;line-height:normal;font-family:Menlo,'DejaVu Sans Mono',consolas,'Courier New',monospace\">Epoch 0184|Val loss 1.049221e-01|Train loss 1.221883e-01|LR 0.00036|\n",
       "</pre>\n"
      ],
      "text/plain": [
       "Epoch 0184|Val loss 1.049221e-01|Train loss 1.221883e-01|LR 0.00036|\n"
      ]
     },
     "metadata": {},
     "output_type": "display_data"
    },
    {
     "data": {
      "text/html": [
       "<pre style=\"white-space:pre;overflow-x:auto;line-height:normal;font-family:Menlo,'DejaVu Sans Mono',consolas,'Courier New',monospace\">Epoch 0185|Val loss 9.793799e-02|Train loss 1.225668e-01|LR 0.00036|\n",
       "</pre>\n"
      ],
      "text/plain": [
       "Epoch 0185|Val loss 9.793799e-02|Train loss 1.225668e-01|LR 0.00036|\n"
      ]
     },
     "metadata": {},
     "output_type": "display_data"
    },
    {
     "data": {
      "text/html": [
       "<pre style=\"white-space:pre;overflow-x:auto;line-height:normal;font-family:Menlo,'DejaVu Sans Mono',consolas,'Courier New',monospace\">Epoch 0186|Val loss 8.755305e-02|Train loss 1.211521e-01|LR 0.00036|\n",
       "</pre>\n"
      ],
      "text/plain": [
       "Epoch 0186|Val loss 8.755305e-02|Train loss 1.211521e-01|LR 0.00036|\n"
      ]
     },
     "metadata": {},
     "output_type": "display_data"
    },
    {
     "data": {
      "text/html": [
       "<pre style=\"white-space:pre;overflow-x:auto;line-height:normal;font-family:Menlo,'DejaVu Sans Mono',consolas,'Courier New',monospace\">Epoch 0187|Val loss 9.826818e-02|Train loss 1.224050e-01|LR 0.00022|\n",
       "</pre>\n"
      ],
      "text/plain": [
       "Epoch 0187|Val loss 9.826818e-02|Train loss 1.224050e-01|LR 0.00022|\n"
      ]
     },
     "metadata": {},
     "output_type": "display_data"
    },
    {
     "data": {
      "text/html": [
       "<pre style=\"white-space:pre;overflow-x:auto;line-height:normal;font-family:Menlo,'DejaVu Sans Mono',consolas,'Courier New',monospace\">Epoch 0188|Val loss 9.930202e-02|Train loss 1.191356e-01|LR 0.00022|\n",
       "</pre>\n"
      ],
      "text/plain": [
       "Epoch 0188|Val loss 9.930202e-02|Train loss 1.191356e-01|LR 0.00022|\n"
      ]
     },
     "metadata": {},
     "output_type": "display_data"
    },
    {
     "data": {
      "text/html": [
       "<pre style=\"white-space:pre;overflow-x:auto;line-height:normal;font-family:Menlo,'DejaVu Sans Mono',consolas,'Courier New',monospace\">Epoch 0189|Val loss 9.449144e-02|Train loss 1.215396e-01|LR 0.00022|\n",
       "</pre>\n"
      ],
      "text/plain": [
       "Epoch 0189|Val loss 9.449144e-02|Train loss 1.215396e-01|LR 0.00022|\n"
      ]
     },
     "metadata": {},
     "output_type": "display_data"
    },
    {
     "data": {
      "text/html": [
       "<pre style=\"white-space:pre;overflow-x:auto;line-height:normal;font-family:Menlo,'DejaVu Sans Mono',consolas,'Courier New',monospace\">Epoch 0190|Val loss 9.803018e-02|Train loss 1.199415e-01|LR 0.00022|\n",
       "</pre>\n"
      ],
      "text/plain": [
       "Epoch 0190|Val loss 9.803018e-02|Train loss 1.199415e-01|LR 0.00022|\n"
      ]
     },
     "metadata": {},
     "output_type": "display_data"
    },
    {
     "data": {
      "text/html": [
       "<pre style=\"white-space:pre;overflow-x:auto;line-height:normal;font-family:Menlo,'DejaVu Sans Mono',consolas,'Courier New',monospace\">EarlyStopping counter: 6 out of 20\n",
       "</pre>\n"
      ],
      "text/plain": [
       "EarlyStopping counter: 6 out of 20\n"
      ]
     },
     "metadata": {},
     "output_type": "display_data"
    },
    {
     "data": {
      "text/html": [
       "<pre style=\"white-space:pre;overflow-x:auto;line-height:normal;font-family:Menlo,'DejaVu Sans Mono',consolas,'Courier New',monospace\">Epoch 0191|Val loss 9.432806e-02|Train loss 1.204557e-01|LR 0.00022|\n",
       "</pre>\n"
      ],
      "text/plain": [
       "Epoch 0191|Val loss 9.432806e-02|Train loss 1.204557e-01|LR 0.00022|\n"
      ]
     },
     "metadata": {},
     "output_type": "display_data"
    },
    {
     "data": {
      "text/html": [
       "<pre style=\"white-space:pre;overflow-x:auto;line-height:normal;font-family:Menlo,'DejaVu Sans Mono',consolas,'Courier New',monospace\">Epoch 0192|Val loss 8.870872e-02|Train loss 1.209787e-01|LR 0.00022|\n",
       "</pre>\n"
      ],
      "text/plain": [
       "Epoch 0192|Val loss 8.870872e-02|Train loss 1.209787e-01|LR 0.00022|\n"
      ]
     },
     "metadata": {},
     "output_type": "display_data"
    },
    {
     "data": {
      "text/html": [
       "<pre style=\"white-space:pre;overflow-x:auto;line-height:normal;font-family:Menlo,'DejaVu Sans Mono',consolas,'Courier New',monospace\">Epoch 0193|Val loss 8.642787e-02|Train loss 1.200110e-01|LR 0.00022|\n",
       "</pre>\n"
      ],
      "text/plain": [
       "Epoch 0193|Val loss 8.642787e-02|Train loss 1.200110e-01|LR 0.00022|\n"
      ]
     },
     "metadata": {},
     "output_type": "display_data"
    },
    {
     "data": {
      "text/html": [
       "<pre style=\"white-space:pre;overflow-x:auto;line-height:normal;font-family:Menlo,'DejaVu Sans Mono',consolas,'Courier New',monospace\">Epoch 0194|Val loss 9.239763e-02|Train loss 1.184969e-01|LR 0.00022|\n",
       "</pre>\n"
      ],
      "text/plain": [
       "Epoch 0194|Val loss 9.239763e-02|Train loss 1.184969e-01|LR 0.00022|\n"
      ]
     },
     "metadata": {},
     "output_type": "display_data"
    },
    {
     "data": {
      "text/html": [
       "<pre style=\"white-space:pre;overflow-x:auto;line-height:normal;font-family:Menlo,'DejaVu Sans Mono',consolas,'Courier New',monospace\">Epoch 0195|Val loss 9.315470e-02|Train loss 1.219312e-01|LR 0.00022|\n",
       "</pre>\n"
      ],
      "text/plain": [
       "Epoch 0195|Val loss 9.315470e-02|Train loss 1.219312e-01|LR 0.00022|\n"
      ]
     },
     "metadata": {},
     "output_type": "display_data"
    },
    {
     "data": {
      "text/html": [
       "<pre style=\"white-space:pre;overflow-x:auto;line-height:normal;font-family:Menlo,'DejaVu Sans Mono',consolas,'Courier New',monospace\">Epoch 0196|Val loss 8.780381e-02|Train loss 1.190155e-01|LR 0.00022|\n",
       "</pre>\n"
      ],
      "text/plain": [
       "Epoch 0196|Val loss 8.780381e-02|Train loss 1.190155e-01|LR 0.00022|\n"
      ]
     },
     "metadata": {},
     "output_type": "display_data"
    },
    {
     "data": {
      "text/html": [
       "<pre style=\"white-space:pre;overflow-x:auto;line-height:normal;font-family:Menlo,'DejaVu Sans Mono',consolas,'Courier New',monospace\">Epoch 0197|Val loss 8.441043e-02|Train loss 1.184720e-01|LR 0.00022|\n",
       "</pre>\n"
      ],
      "text/plain": [
       "Epoch 0197|Val loss 8.441043e-02|Train loss 1.184720e-01|LR 0.00022|\n"
      ]
     },
     "metadata": {},
     "output_type": "display_data"
    },
    {
     "data": {
      "text/html": [
       "<pre style=\"white-space:pre;overflow-x:auto;line-height:normal;font-family:Menlo,'DejaVu Sans Mono',consolas,'Courier New',monospace\">Epoch 0198|Val loss 8.762732e-02|Train loss 1.182577e-01|LR 0.00022|\n",
       "</pre>\n"
      ],
      "text/plain": [
       "Epoch 0198|Val loss 8.762732e-02|Train loss 1.182577e-01|LR 0.00022|\n"
      ]
     },
     "metadata": {},
     "output_type": "display_data"
    },
    {
     "data": {
      "text/html": [
       "<pre style=\"white-space:pre;overflow-x:auto;line-height:normal;font-family:Menlo,'DejaVu Sans Mono',consolas,'Courier New',monospace\">Epoch 0199|Val loss 8.662065e-02|Train loss 1.214860e-01|LR 0.00022|\n",
       "</pre>\n"
      ],
      "text/plain": [
       "Epoch 0199|Val loss 8.662065e-02|Train loss 1.214860e-01|LR 0.00022|\n"
      ]
     },
     "metadata": {},
     "output_type": "display_data"
    },
    {
     "data": {
      "text/html": [
       "<pre style=\"white-space:pre;overflow-x:auto;line-height:normal;font-family:Menlo,'DejaVu Sans Mono',consolas,'Courier New',monospace\">Epoch 0200|Val loss 9.790243e-02|Train loss 1.192496e-01|LR 0.00022|\n",
       "</pre>\n"
      ],
      "text/plain": [
       "Epoch 0200|Val loss 9.790243e-02|Train loss 1.192496e-01|LR 0.00022|\n"
      ]
     },
     "metadata": {},
     "output_type": "display_data"
    },
    {
     "data": {
      "text/html": [
       "<pre style=\"white-space:pre;overflow-x:auto;line-height:normal;font-family:Menlo,'DejaVu Sans Mono',consolas,'Courier New',monospace\">EarlyStopping counter: 7 out of 20\n",
       "</pre>\n"
      ],
      "text/plain": [
       "EarlyStopping counter: 7 out of 20\n"
      ]
     },
     "metadata": {},
     "output_type": "display_data"
    },
    {
     "data": {
      "text/html": [
       "<pre style=\"white-space:pre;overflow-x:auto;line-height:normal;font-family:Menlo,'DejaVu Sans Mono',consolas,'Courier New',monospace\">Epoch 0201|Val loss 8.895630e-02|Train loss 1.187739e-01|LR 0.00022|\n",
       "</pre>\n"
      ],
      "text/plain": [
       "Epoch 0201|Val loss 8.895630e-02|Train loss 1.187739e-01|LR 0.00022|\n"
      ]
     },
     "metadata": {},
     "output_type": "display_data"
    },
    {
     "data": {
      "text/html": [
       "<pre style=\"white-space:pre;overflow-x:auto;line-height:normal;font-family:Menlo,'DejaVu Sans Mono',consolas,'Courier New',monospace\">Epoch 0202|Val loss 9.072946e-02|Train loss 1.189639e-01|LR 0.00022|\n",
       "</pre>\n"
      ],
      "text/plain": [
       "Epoch 0202|Val loss 9.072946e-02|Train loss 1.189639e-01|LR 0.00022|\n"
      ]
     },
     "metadata": {},
     "output_type": "display_data"
    },
    {
     "data": {
      "text/html": [
       "<pre style=\"white-space:pre;overflow-x:auto;line-height:normal;font-family:Menlo,'DejaVu Sans Mono',consolas,'Courier New',monospace\">Epoch 0203|Val loss 9.219694e-02|Train loss 1.212370e-01|LR 0.00022|\n",
       "</pre>\n"
      ],
      "text/plain": [
       "Epoch 0203|Val loss 9.219694e-02|Train loss 1.212370e-01|LR 0.00022|\n"
      ]
     },
     "metadata": {},
     "output_type": "display_data"
    },
    {
     "data": {
      "text/html": [
       "<pre style=\"white-space:pre;overflow-x:auto;line-height:normal;font-family:Menlo,'DejaVu Sans Mono',consolas,'Courier New',monospace\">Epoch 0204|Val loss 9.275755e-02|Train loss 1.193716e-01|LR 0.00022|\n",
       "</pre>\n"
      ],
      "text/plain": [
       "Epoch 0204|Val loss 9.275755e-02|Train loss 1.193716e-01|LR 0.00022|\n"
      ]
     },
     "metadata": {},
     "output_type": "display_data"
    },
    {
     "data": {
      "text/html": [
       "<pre style=\"white-space:pre;overflow-x:auto;line-height:normal;font-family:Menlo,'DejaVu Sans Mono',consolas,'Courier New',monospace\">Epoch 0205|Val loss 8.508134e-02|Train loss 1.197369e-01|LR 0.00022|\n",
       "</pre>\n"
      ],
      "text/plain": [
       "Epoch 0205|Val loss 8.508134e-02|Train loss 1.197369e-01|LR 0.00022|\n"
      ]
     },
     "metadata": {},
     "output_type": "display_data"
    },
    {
     "data": {
      "text/html": [
       "<pre style=\"white-space:pre;overflow-x:auto;line-height:normal;font-family:Menlo,'DejaVu Sans Mono',consolas,'Courier New',monospace\">Epoch 0206|Val loss 8.502451e-02|Train loss 1.191657e-01|LR 0.00022|\n",
       "</pre>\n"
      ],
      "text/plain": [
       "Epoch 0206|Val loss 8.502451e-02|Train loss 1.191657e-01|LR 0.00022|\n"
      ]
     },
     "metadata": {},
     "output_type": "display_data"
    },
    {
     "data": {
      "text/html": [
       "<pre style=\"white-space:pre;overflow-x:auto;line-height:normal;font-family:Menlo,'DejaVu Sans Mono',consolas,'Courier New',monospace\">Epoch 0207|Val loss 8.691994e-02|Train loss 1.194779e-01|LR 0.00022|\n",
       "</pre>\n"
      ],
      "text/plain": [
       "Epoch 0207|Val loss 8.691994e-02|Train loss 1.194779e-01|LR 0.00022|\n"
      ]
     },
     "metadata": {},
     "output_type": "display_data"
    },
    {
     "data": {
      "text/html": [
       "<pre style=\"white-space:pre;overflow-x:auto;line-height:normal;font-family:Menlo,'DejaVu Sans Mono',consolas,'Courier New',monospace\">Epoch 0208|Val loss 8.563615e-02|Train loss 1.222214e-01|LR 0.00022|\n",
       "</pre>\n"
      ],
      "text/plain": [
       "Epoch 0208|Val loss 8.563615e-02|Train loss 1.222214e-01|LR 0.00022|\n"
      ]
     },
     "metadata": {},
     "output_type": "display_data"
    },
    {
     "data": {
      "text/html": [
       "<pre style=\"white-space:pre;overflow-x:auto;line-height:normal;font-family:Menlo,'DejaVu Sans Mono',consolas,'Courier New',monospace\">Epoch 0209|Val loss 1.020232e-01|Train loss 1.202906e-01|LR 0.00022|\n",
       "</pre>\n"
      ],
      "text/plain": [
       "Epoch 0209|Val loss 1.020232e-01|Train loss 1.202906e-01|LR 0.00022|\n"
      ]
     },
     "metadata": {},
     "output_type": "display_data"
    },
    {
     "data": {
      "text/html": [
       "<pre style=\"white-space:pre;overflow-x:auto;line-height:normal;font-family:Menlo,'DejaVu Sans Mono',consolas,'Courier New',monospace\">Epoch 0210|Val loss 8.695783e-02|Train loss 1.204560e-01|LR 0.00022|\n",
       "</pre>\n"
      ],
      "text/plain": [
       "Epoch 0210|Val loss 8.695783e-02|Train loss 1.204560e-01|LR 0.00022|\n"
      ]
     },
     "metadata": {},
     "output_type": "display_data"
    },
    {
     "data": {
      "text/html": [
       "<pre style=\"white-space:pre;overflow-x:auto;line-height:normal;font-family:Menlo,'DejaVu Sans Mono',consolas,'Courier New',monospace\">EarlyStopping counter: 8 out of 20\n",
       "</pre>\n"
      ],
      "text/plain": [
       "EarlyStopping counter: 8 out of 20\n"
      ]
     },
     "metadata": {},
     "output_type": "display_data"
    },
    {
     "data": {
      "text/html": [
       "<pre style=\"white-space:pre;overflow-x:auto;line-height:normal;font-family:Menlo,'DejaVu Sans Mono',consolas,'Courier New',monospace\">Epoch 0211|Val loss 8.987342e-02|Train loss 1.207812e-01|LR 0.00022|\n",
       "</pre>\n"
      ],
      "text/plain": [
       "Epoch 0211|Val loss 8.987342e-02|Train loss 1.207812e-01|LR 0.00022|\n"
      ]
     },
     "metadata": {},
     "output_type": "display_data"
    },
    {
     "data": {
      "text/html": [
       "<pre style=\"white-space:pre;overflow-x:auto;line-height:normal;font-family:Menlo,'DejaVu Sans Mono',consolas,'Courier New',monospace\">Epoch 0212|Val loss 8.616647e-02|Train loss 1.221146e-01|LR 0.00022|\n",
       "</pre>\n"
      ],
      "text/plain": [
       "Epoch 0212|Val loss 8.616647e-02|Train loss 1.221146e-01|LR 0.00022|\n"
      ]
     },
     "metadata": {},
     "output_type": "display_data"
    },
    {
     "data": {
      "text/html": [
       "<pre style=\"white-space:pre;overflow-x:auto;line-height:normal;font-family:Menlo,'DejaVu Sans Mono',consolas,'Courier New',monospace\">Epoch 0213|Val loss 8.480224e-02|Train loss 1.196611e-01|LR 0.00022|\n",
       "</pre>\n"
      ],
      "text/plain": [
       "Epoch 0213|Val loss 8.480224e-02|Train loss 1.196611e-01|LR 0.00022|\n"
      ]
     },
     "metadata": {},
     "output_type": "display_data"
    },
    {
     "data": {
      "text/html": [
       "<pre style=\"white-space:pre;overflow-x:auto;line-height:normal;font-family:Menlo,'DejaVu Sans Mono',consolas,'Courier New',monospace\">Epoch 0214|Val loss 8.814085e-02|Train loss 1.193350e-01|LR 0.00022|\n",
       "</pre>\n"
      ],
      "text/plain": [
       "Epoch 0214|Val loss 8.814085e-02|Train loss 1.193350e-01|LR 0.00022|\n"
      ]
     },
     "metadata": {},
     "output_type": "display_data"
    },
    {
     "data": {
      "text/html": [
       "<pre style=\"white-space:pre;overflow-x:auto;line-height:normal;font-family:Menlo,'DejaVu Sans Mono',consolas,'Courier New',monospace\">Epoch 0215|Val loss 9.109253e-02|Train loss 1.201549e-01|LR 0.00022|\n",
       "</pre>\n"
      ],
      "text/plain": [
       "Epoch 0215|Val loss 9.109253e-02|Train loss 1.201549e-01|LR 0.00022|\n"
      ]
     },
     "metadata": {},
     "output_type": "display_data"
    },
    {
     "data": {
      "text/html": [
       "<pre style=\"white-space:pre;overflow-x:auto;line-height:normal;font-family:Menlo,'DejaVu Sans Mono',consolas,'Courier New',monospace\">Epoch 0216|Val loss 8.919135e-02|Train loss 1.187183e-01|LR 0.00022|\n",
       "</pre>\n"
      ],
      "text/plain": [
       "Epoch 0216|Val loss 8.919135e-02|Train loss 1.187183e-01|LR 0.00022|\n"
      ]
     },
     "metadata": {},
     "output_type": "display_data"
    },
    {
     "data": {
      "text/html": [
       "<pre style=\"white-space:pre;overflow-x:auto;line-height:normal;font-family:Menlo,'DejaVu Sans Mono',consolas,'Courier New',monospace\">Epoch 0217|Val loss 8.683408e-02|Train loss 1.213091e-01|LR 0.00022|\n",
       "</pre>\n"
      ],
      "text/plain": [
       "Epoch 0217|Val loss 8.683408e-02|Train loss 1.213091e-01|LR 0.00022|\n"
      ]
     },
     "metadata": {},
     "output_type": "display_data"
    },
    {
     "data": {
      "text/html": [
       "<pre style=\"white-space:pre;overflow-x:auto;line-height:normal;font-family:Menlo,'DejaVu Sans Mono',consolas,'Courier New',monospace\">Epoch 0218|Val loss 8.788216e-02|Train loss 1.204475e-01|LR 0.00022|\n",
       "</pre>\n"
      ],
      "text/plain": [
       "Epoch 0218|Val loss 8.788216e-02|Train loss 1.204475e-01|LR 0.00022|\n"
      ]
     },
     "metadata": {},
     "output_type": "display_data"
    },
    {
     "data": {
      "text/html": [
       "<pre style=\"white-space:pre;overflow-x:auto;line-height:normal;font-family:Menlo,'DejaVu Sans Mono',consolas,'Courier New',monospace\">Epoch 0219|Val loss 9.283736e-02|Train loss 1.211572e-01|LR 0.00022|\n",
       "</pre>\n"
      ],
      "text/plain": [
       "Epoch 0219|Val loss 9.283736e-02|Train loss 1.211572e-01|LR 0.00022|\n"
      ]
     },
     "metadata": {},
     "output_type": "display_data"
    },
    {
     "data": {
      "text/html": [
       "<pre style=\"white-space:pre;overflow-x:auto;line-height:normal;font-family:Menlo,'DejaVu Sans Mono',consolas,'Courier New',monospace\">Epoch 0220|Val loss 8.615937e-02|Train loss 1.200965e-01|LR 0.00022|\n",
       "</pre>\n"
      ],
      "text/plain": [
       "Epoch 0220|Val loss 8.615937e-02|Train loss 1.200965e-01|LR 0.00022|\n"
      ]
     },
     "metadata": {},
     "output_type": "display_data"
    },
    {
     "data": {
      "text/html": [
       "<pre style=\"white-space:pre;overflow-x:auto;line-height:normal;font-family:Menlo,'DejaVu Sans Mono',consolas,'Courier New',monospace\">EarlyStopping counter: 9 out of 20\n",
       "</pre>\n"
      ],
      "text/plain": [
       "EarlyStopping counter: 9 out of 20\n"
      ]
     },
     "metadata": {},
     "output_type": "display_data"
    },
    {
     "data": {
      "text/html": [
       "<pre style=\"white-space:pre;overflow-x:auto;line-height:normal;font-family:Menlo,'DejaVu Sans Mono',consolas,'Courier New',monospace\">Epoch 0221|Val loss 9.383644e-02|Train loss 1.199498e-01|LR 0.00022|\n",
       "</pre>\n"
      ],
      "text/plain": [
       "Epoch 0221|Val loss 9.383644e-02|Train loss 1.199498e-01|LR 0.00022|\n"
      ]
     },
     "metadata": {},
     "output_type": "display_data"
    },
    {
     "data": {
      "text/html": [
       "<pre style=\"white-space:pre;overflow-x:auto;line-height:normal;font-family:Menlo,'DejaVu Sans Mono',consolas,'Courier New',monospace\">Epoch 0222|Val loss 8.398099e-02|Train loss 1.188287e-01|LR 0.00022|\n",
       "</pre>\n"
      ],
      "text/plain": [
       "Epoch 0222|Val loss 8.398099e-02|Train loss 1.188287e-01|LR 0.00022|\n"
      ]
     },
     "metadata": {},
     "output_type": "display_data"
    },
    {
     "data": {
      "text/html": [
       "<pre style=\"white-space:pre;overflow-x:auto;line-height:normal;font-family:Menlo,'DejaVu Sans Mono',consolas,'Courier New',monospace\">Epoch 0223|Val loss 9.103270e-02|Train loss 1.178719e-01|LR 0.00022|\n",
       "</pre>\n"
      ],
      "text/plain": [
       "Epoch 0223|Val loss 9.103270e-02|Train loss 1.178719e-01|LR 0.00022|\n"
      ]
     },
     "metadata": {},
     "output_type": "display_data"
    },
    {
     "data": {
      "text/html": [
       "<pre style=\"white-space:pre;overflow-x:auto;line-height:normal;font-family:Menlo,'DejaVu Sans Mono',consolas,'Courier New',monospace\">Epoch 0224|Val loss 8.643370e-02|Train loss 1.167617e-01|LR 0.00022|\n",
       "</pre>\n"
      ],
      "text/plain": [
       "Epoch 0224|Val loss 8.643370e-02|Train loss 1.167617e-01|LR 0.00022|\n"
      ]
     },
     "metadata": {},
     "output_type": "display_data"
    },
    {
     "data": {
      "text/html": [
       "<pre style=\"white-space:pre;overflow-x:auto;line-height:normal;font-family:Menlo,'DejaVu Sans Mono',consolas,'Courier New',monospace\">Epoch 0225|Val loss 9.124040e-02|Train loss 1.168436e-01|LR 0.00022|\n",
       "</pre>\n"
      ],
      "text/plain": [
       "Epoch 0225|Val loss 9.124040e-02|Train loss 1.168436e-01|LR 0.00022|\n"
      ]
     },
     "metadata": {},
     "output_type": "display_data"
    },
    {
     "data": {
      "text/html": [
       "<pre style=\"white-space:pre;overflow-x:auto;line-height:normal;font-family:Menlo,'DejaVu Sans Mono',consolas,'Courier New',monospace\">Epoch 0226|Val loss 8.043342e-02|Train loss 1.181375e-01|LR 0.00022|\n",
       "</pre>\n"
      ],
      "text/plain": [
       "Epoch 0226|Val loss 8.043342e-02|Train loss 1.181375e-01|LR 0.00022|\n"
      ]
     },
     "metadata": {},
     "output_type": "display_data"
    },
    {
     "data": {
      "text/html": [
       "<pre style=\"white-space:pre;overflow-x:auto;line-height:normal;font-family:Menlo,'DejaVu Sans Mono',consolas,'Courier New',monospace\">Epoch 0227|Val loss 8.331643e-02|Train loss 1.207280e-01|LR 0.00022|\n",
       "</pre>\n"
      ],
      "text/plain": [
       "Epoch 0227|Val loss 8.331643e-02|Train loss 1.207280e-01|LR 0.00022|\n"
      ]
     },
     "metadata": {},
     "output_type": "display_data"
    },
    {
     "data": {
      "text/html": [
       "<pre style=\"white-space:pre;overflow-x:auto;line-height:normal;font-family:Menlo,'DejaVu Sans Mono',consolas,'Courier New',monospace\">Epoch 0228|Val loss 8.102067e-02|Train loss 1.167713e-01|LR 0.00022|\n",
       "</pre>\n"
      ],
      "text/plain": [
       "Epoch 0228|Val loss 8.102067e-02|Train loss 1.167713e-01|LR 0.00022|\n"
      ]
     },
     "metadata": {},
     "output_type": "display_data"
    },
    {
     "data": {
      "text/html": [
       "<pre style=\"white-space:pre;overflow-x:auto;line-height:normal;font-family:Menlo,'DejaVu Sans Mono',consolas,'Courier New',monospace\">Epoch 0229|Val loss 8.291845e-02|Train loss 1.169582e-01|LR 0.00022|\n",
       "</pre>\n"
      ],
      "text/plain": [
       "Epoch 0229|Val loss 8.291845e-02|Train loss 1.169582e-01|LR 0.00022|\n"
      ]
     },
     "metadata": {},
     "output_type": "display_data"
    },
    {
     "data": {
      "text/html": [
       "<pre style=\"white-space:pre;overflow-x:auto;line-height:normal;font-family:Menlo,'DejaVu Sans Mono',consolas,'Courier New',monospace\">Epoch 0230|Val loss 8.774710e-02|Train loss 1.150328e-01|LR 0.00022|\n",
       "</pre>\n"
      ],
      "text/plain": [
       "Epoch 0230|Val loss 8.774710e-02|Train loss 1.150328e-01|LR 0.00022|\n"
      ]
     },
     "metadata": {},
     "output_type": "display_data"
    },
    {
     "data": {
      "text/html": [
       "<pre style=\"white-space:pre;overflow-x:auto;line-height:normal;font-family:Menlo,'DejaVu Sans Mono',consolas,'Courier New',monospace\">EarlyStopping counter: 10 out of 20\n",
       "</pre>\n"
      ],
      "text/plain": [
       "EarlyStopping counter: 10 out of 20\n"
      ]
     },
     "metadata": {},
     "output_type": "display_data"
    },
    {
     "data": {
      "text/html": [
       "<pre style=\"white-space:pre;overflow-x:auto;line-height:normal;font-family:Menlo,'DejaVu Sans Mono',consolas,'Courier New',monospace\">Epoch 0231|Val loss 7.777311e-02|Train loss 1.171450e-01|LR 0.00022|\n",
       "</pre>\n"
      ],
      "text/plain": [
       "Epoch 0231|Val loss 7.777311e-02|Train loss 1.171450e-01|LR 0.00022|\n"
      ]
     },
     "metadata": {},
     "output_type": "display_data"
    },
    {
     "data": {
      "text/html": [
       "<pre style=\"white-space:pre;overflow-x:auto;line-height:normal;font-family:Menlo,'DejaVu Sans Mono',consolas,'Courier New',monospace\">Epoch 0232|Val loss 7.528323e-02|Train loss 1.156872e-01|LR 0.00022|\n",
       "</pre>\n"
      ],
      "text/plain": [
       "Epoch 0232|Val loss 7.528323e-02|Train loss 1.156872e-01|LR 0.00022|\n"
      ]
     },
     "metadata": {},
     "output_type": "display_data"
    },
    {
     "data": {
      "text/html": [
       "<pre style=\"white-space:pre;overflow-x:auto;line-height:normal;font-family:Menlo,'DejaVu Sans Mono',consolas,'Courier New',monospace\">Epoch 0233|Val loss 8.643731e-02|Train loss 1.158418e-01|LR 0.00022|\n",
       "</pre>\n"
      ],
      "text/plain": [
       "Epoch 0233|Val loss 8.643731e-02|Train loss 1.158418e-01|LR 0.00022|\n"
      ]
     },
     "metadata": {},
     "output_type": "display_data"
    },
    {
     "data": {
      "text/html": [
       "<pre style=\"white-space:pre;overflow-x:auto;line-height:normal;font-family:Menlo,'DejaVu Sans Mono',consolas,'Courier New',monospace\">Epoch 0234|Val loss 7.370785e-02|Train loss 1.130882e-01|LR 0.00022|\n",
       "</pre>\n"
      ],
      "text/plain": [
       "Epoch 0234|Val loss 7.370785e-02|Train loss 1.130882e-01|LR 0.00022|\n"
      ]
     },
     "metadata": {},
     "output_type": "display_data"
    },
    {
     "data": {
      "text/html": [
       "<pre style=\"white-space:pre;overflow-x:auto;line-height:normal;font-family:Menlo,'DejaVu Sans Mono',consolas,'Courier New',monospace\">Epoch 0235|Val loss 6.987570e-02|Train loss 1.117690e-01|LR 0.00022|\n",
       "</pre>\n"
      ],
      "text/plain": [
       "Epoch 0235|Val loss 6.987570e-02|Train loss 1.117690e-01|LR 0.00022|\n"
      ]
     },
     "metadata": {},
     "output_type": "display_data"
    },
    {
     "data": {
      "text/html": [
       "<pre style=\"white-space:pre;overflow-x:auto;line-height:normal;font-family:Menlo,'DejaVu Sans Mono',consolas,'Courier New',monospace\">Epoch 0236|Val loss 7.698010e-02|Train loss 1.116582e-01|LR 0.00022|\n",
       "</pre>\n"
      ],
      "text/plain": [
       "Epoch 0236|Val loss 7.698010e-02|Train loss 1.116582e-01|LR 0.00022|\n"
      ]
     },
     "metadata": {},
     "output_type": "display_data"
    },
    {
     "data": {
      "text/html": [
       "<pre style=\"white-space:pre;overflow-x:auto;line-height:normal;font-family:Menlo,'DejaVu Sans Mono',consolas,'Courier New',monospace\">Epoch 0237|Val loss 8.009108e-02|Train loss 1.134574e-01|LR 0.00022|\n",
       "</pre>\n"
      ],
      "text/plain": [
       "Epoch 0237|Val loss 8.009108e-02|Train loss 1.134574e-01|LR 0.00022|\n"
      ]
     },
     "metadata": {},
     "output_type": "display_data"
    },
    {
     "data": {
      "text/html": [
       "<pre style=\"white-space:pre;overflow-x:auto;line-height:normal;font-family:Menlo,'DejaVu Sans Mono',consolas,'Courier New',monospace\">Epoch 0238|Val loss 8.009865e-02|Train loss 1.150065e-01|LR 0.00022|\n",
       "</pre>\n"
      ],
      "text/plain": [
       "Epoch 0238|Val loss 8.009865e-02|Train loss 1.150065e-01|LR 0.00022|\n"
      ]
     },
     "metadata": {},
     "output_type": "display_data"
    },
    {
     "data": {
      "text/html": [
       "<pre style=\"white-space:pre;overflow-x:auto;line-height:normal;font-family:Menlo,'DejaVu Sans Mono',consolas,'Courier New',monospace\">Epoch 0239|Val loss 7.441907e-02|Train loss 1.143332e-01|LR 0.00022|\n",
       "</pre>\n"
      ],
      "text/plain": [
       "Epoch 0239|Val loss 7.441907e-02|Train loss 1.143332e-01|LR 0.00022|\n"
      ]
     },
     "metadata": {},
     "output_type": "display_data"
    },
    {
     "data": {
      "text/html": [
       "<pre style=\"white-space:pre;overflow-x:auto;line-height:normal;font-family:Menlo,'DejaVu Sans Mono',consolas,'Courier New',monospace\">Epoch 0240|Val loss 7.608026e-02|Train loss 1.120406e-01|LR 0.00022|\n",
       "</pre>\n"
      ],
      "text/plain": [
       "Epoch 0240|Val loss 7.608026e-02|Train loss 1.120406e-01|LR 0.00022|\n"
      ]
     },
     "metadata": {},
     "output_type": "display_data"
    },
    {
     "data": {
      "text/html": [
       "<pre style=\"white-space:pre;overflow-x:auto;line-height:normal;font-family:Menlo,'DejaVu Sans Mono',consolas,'Courier New',monospace\">Val loss decreased (0.08 to 0.08). Model saved\n",
       "</pre>\n"
      ],
      "text/plain": [
       "Val loss decreased (0.08 to 0.08). Model saved\n"
      ]
     },
     "metadata": {},
     "output_type": "display_data"
    },
    {
     "data": {
      "text/html": [
       "<pre style=\"white-space:pre;overflow-x:auto;line-height:normal;font-family:Menlo,'DejaVu Sans Mono',consolas,'Courier New',monospace\">Epoch 0241|Val loss 7.153077e-02|Train loss 1.124974e-01|LR 0.00022|\n",
       "</pre>\n"
      ],
      "text/plain": [
       "Epoch 0241|Val loss 7.153077e-02|Train loss 1.124974e-01|LR 0.00022|\n"
      ]
     },
     "metadata": {},
     "output_type": "display_data"
    },
    {
     "data": {
      "text/html": [
       "<pre style=\"white-space:pre;overflow-x:auto;line-height:normal;font-family:Menlo,'DejaVu Sans Mono',consolas,'Courier New',monospace\">Epoch 0242|Val loss 7.631310e-02|Train loss 1.122857e-01|LR 0.00022|\n",
       "</pre>\n"
      ],
      "text/plain": [
       "Epoch 0242|Val loss 7.631310e-02|Train loss 1.122857e-01|LR 0.00022|\n"
      ]
     },
     "metadata": {},
     "output_type": "display_data"
    },
    {
     "data": {
      "text/html": [
       "<pre style=\"white-space:pre;overflow-x:auto;line-height:normal;font-family:Menlo,'DejaVu Sans Mono',consolas,'Courier New',monospace\">Epoch 0243|Val loss 7.605876e-02|Train loss 1.128506e-01|LR 0.00022|\n",
       "</pre>\n"
      ],
      "text/plain": [
       "Epoch 0243|Val loss 7.605876e-02|Train loss 1.128506e-01|LR 0.00022|\n"
      ]
     },
     "metadata": {},
     "output_type": "display_data"
    },
    {
     "data": {
      "text/html": [
       "<pre style=\"white-space:pre;overflow-x:auto;line-height:normal;font-family:Menlo,'DejaVu Sans Mono',consolas,'Courier New',monospace\">Epoch 0244|Val loss 7.324904e-02|Train loss 1.120938e-01|LR 0.00022|\n",
       "</pre>\n"
      ],
      "text/plain": [
       "Epoch 0244|Val loss 7.324904e-02|Train loss 1.120938e-01|LR 0.00022|\n"
      ]
     },
     "metadata": {},
     "output_type": "display_data"
    },
    {
     "data": {
      "text/html": [
       "<pre style=\"white-space:pre;overflow-x:auto;line-height:normal;font-family:Menlo,'DejaVu Sans Mono',consolas,'Courier New',monospace\">Epoch 0245|Val loss 7.195181e-02|Train loss 1.079443e-01|LR 0.00022|\n",
       "</pre>\n"
      ],
      "text/plain": [
       "Epoch 0245|Val loss 7.195181e-02|Train loss 1.079443e-01|LR 0.00022|\n"
      ]
     },
     "metadata": {},
     "output_type": "display_data"
    },
    {
     "data": {
      "text/html": [
       "<pre style=\"white-space:pre;overflow-x:auto;line-height:normal;font-family:Menlo,'DejaVu Sans Mono',consolas,'Courier New',monospace\">Epoch 0246|Val loss 7.870822e-02|Train loss 1.094060e-01|LR 0.00022|\n",
       "</pre>\n"
      ],
      "text/plain": [
       "Epoch 0246|Val loss 7.870822e-02|Train loss 1.094060e-01|LR 0.00022|\n"
      ]
     },
     "metadata": {},
     "output_type": "display_data"
    },
    {
     "data": {
      "text/html": [
       "<pre style=\"white-space:pre;overflow-x:auto;line-height:normal;font-family:Menlo,'DejaVu Sans Mono',consolas,'Courier New',monospace\">Epoch 0247|Val loss 7.882759e-02|Train loss 1.123383e-01|LR 0.00022|\n",
       "</pre>\n"
      ],
      "text/plain": [
       "Epoch 0247|Val loss 7.882759e-02|Train loss 1.123383e-01|LR 0.00022|\n"
      ]
     },
     "metadata": {},
     "output_type": "display_data"
    },
    {
     "data": {
      "text/html": [
       "<pre style=\"white-space:pre;overflow-x:auto;line-height:normal;font-family:Menlo,'DejaVu Sans Mono',consolas,'Courier New',monospace\">Epoch 0248|Val loss 6.942821e-02|Train loss 1.137873e-01|LR 0.00022|\n",
       "</pre>\n"
      ],
      "text/plain": [
       "Epoch 0248|Val loss 6.942821e-02|Train loss 1.137873e-01|LR 0.00022|\n"
      ]
     },
     "metadata": {},
     "output_type": "display_data"
    },
    {
     "data": {
      "text/html": [
       "<pre style=\"white-space:pre;overflow-x:auto;line-height:normal;font-family:Menlo,'DejaVu Sans Mono',consolas,'Courier New',monospace\">Epoch 0249|Val loss 7.628716e-02|Train loss 1.137211e-01|LR 0.00022|\n",
       "</pre>\n"
      ],
      "text/plain": [
       "Epoch 0249|Val loss 7.628716e-02|Train loss 1.137211e-01|LR 0.00022|\n"
      ]
     },
     "metadata": {},
     "output_type": "display_data"
    },
    {
     "data": {
      "text/html": [
       "<pre style=\"white-space:pre;overflow-x:auto;line-height:normal;font-family:Menlo,'DejaVu Sans Mono',consolas,'Courier New',monospace\">Epoch 0250|Val loss 6.941539e-02|Train loss 1.109851e-01|LR 0.00022|\n",
       "</pre>\n"
      ],
      "text/plain": [
       "Epoch 0250|Val loss 6.941539e-02|Train loss 1.109851e-01|LR 0.00022|\n"
      ]
     },
     "metadata": {},
     "output_type": "display_data"
    },
    {
     "data": {
      "text/html": [
       "<pre style=\"white-space:pre;overflow-x:auto;line-height:normal;font-family:Menlo,'DejaVu Sans Mono',consolas,'Courier New',monospace\">Val loss decreased (0.08 to 0.07). Model saved\n",
       "</pre>\n"
      ],
      "text/plain": [
       "Val loss decreased (0.08 to 0.07). Model saved\n"
      ]
     },
     "metadata": {},
     "output_type": "display_data"
    },
    {
     "data": {
      "text/html": [
       "<pre style=\"white-space:pre;overflow-x:auto;line-height:normal;font-family:Menlo,'DejaVu Sans Mono',consolas,'Courier New',monospace\">Epoch 0251|Val loss 7.856779e-02|Train loss 1.119755e-01|LR 0.00022|\n",
       "</pre>\n"
      ],
      "text/plain": [
       "Epoch 0251|Val loss 7.856779e-02|Train loss 1.119755e-01|LR 0.00022|\n"
      ]
     },
     "metadata": {},
     "output_type": "display_data"
    },
    {
     "data": {
      "text/html": [
       "<pre style=\"white-space:pre;overflow-x:auto;line-height:normal;font-family:Menlo,'DejaVu Sans Mono',consolas,'Courier New',monospace\">Epoch 0252|Val loss 7.298602e-02|Train loss 1.102841e-01|LR 0.00022|\n",
       "</pre>\n"
      ],
      "text/plain": [
       "Epoch 0252|Val loss 7.298602e-02|Train loss 1.102841e-01|LR 0.00022|\n"
      ]
     },
     "metadata": {},
     "output_type": "display_data"
    },
    {
     "data": {
      "text/html": [
       "<pre style=\"white-space:pre;overflow-x:auto;line-height:normal;font-family:Menlo,'DejaVu Sans Mono',consolas,'Courier New',monospace\">Epoch 0253|Val loss 7.219441e-02|Train loss 1.082379e-01|LR 0.00022|\n",
       "</pre>\n"
      ],
      "text/plain": [
       "Epoch 0253|Val loss 7.219441e-02|Train loss 1.082379e-01|LR 0.00022|\n"
      ]
     },
     "metadata": {},
     "output_type": "display_data"
    },
    {
     "data": {
      "text/html": [
       "<pre style=\"white-space:pre;overflow-x:auto;line-height:normal;font-family:Menlo,'DejaVu Sans Mono',consolas,'Courier New',monospace\">Epoch 0254|Val loss 7.538709e-02|Train loss 1.105965e-01|LR 0.00022|\n",
       "</pre>\n"
      ],
      "text/plain": [
       "Epoch 0254|Val loss 7.538709e-02|Train loss 1.105965e-01|LR 0.00022|\n"
      ]
     },
     "metadata": {},
     "output_type": "display_data"
    },
    {
     "data": {
      "text/html": [
       "<pre style=\"white-space:pre;overflow-x:auto;line-height:normal;font-family:Menlo,'DejaVu Sans Mono',consolas,'Courier New',monospace\">Epoch 0255|Val loss 7.259134e-02|Train loss 1.076240e-01|LR 0.00022|\n",
       "</pre>\n"
      ],
      "text/plain": [
       "Epoch 0255|Val loss 7.259134e-02|Train loss 1.076240e-01|LR 0.00022|\n"
      ]
     },
     "metadata": {},
     "output_type": "display_data"
    },
    {
     "data": {
      "text/html": [
       "<pre style=\"white-space:pre;overflow-x:auto;line-height:normal;font-family:Menlo,'DejaVu Sans Mono',consolas,'Courier New',monospace\">Epoch 0256|Val loss 7.530944e-02|Train loss 1.078187e-01|LR 0.00022|\n",
       "</pre>\n"
      ],
      "text/plain": [
       "Epoch 0256|Val loss 7.530944e-02|Train loss 1.078187e-01|LR 0.00022|\n"
      ]
     },
     "metadata": {},
     "output_type": "display_data"
    },
    {
     "data": {
      "text/html": [
       "<pre style=\"white-space:pre;overflow-x:auto;line-height:normal;font-family:Menlo,'DejaVu Sans Mono',consolas,'Courier New',monospace\">Epoch 0257|Val loss 7.171312e-02|Train loss 1.109071e-01|LR 0.00022|\n",
       "</pre>\n"
      ],
      "text/plain": [
       "Epoch 0257|Val loss 7.171312e-02|Train loss 1.109071e-01|LR 0.00022|\n"
      ]
     },
     "metadata": {},
     "output_type": "display_data"
    },
    {
     "data": {
      "text/html": [
       "<pre style=\"white-space:pre;overflow-x:auto;line-height:normal;font-family:Menlo,'DejaVu Sans Mono',consolas,'Courier New',monospace\">Epoch 0258|Val loss 7.846040e-02|Train loss 1.089832e-01|LR 0.00022|\n",
       "</pre>\n"
      ],
      "text/plain": [
       "Epoch 0258|Val loss 7.846040e-02|Train loss 1.089832e-01|LR 0.00022|\n"
      ]
     },
     "metadata": {},
     "output_type": "display_data"
    },
    {
     "data": {
      "text/html": [
       "<pre style=\"white-space:pre;overflow-x:auto;line-height:normal;font-family:Menlo,'DejaVu Sans Mono',consolas,'Courier New',monospace\">Epoch 0259|Val loss 7.252484e-02|Train loss 1.100975e-01|LR 0.00022|\n",
       "</pre>\n"
      ],
      "text/plain": [
       "Epoch 0259|Val loss 7.252484e-02|Train loss 1.100975e-01|LR 0.00022|\n"
      ]
     },
     "metadata": {},
     "output_type": "display_data"
    },
    {
     "data": {
      "text/html": [
       "<pre style=\"white-space:pre;overflow-x:auto;line-height:normal;font-family:Menlo,'DejaVu Sans Mono',consolas,'Courier New',monospace\">Epoch 0260|Val loss 7.571429e-02|Train loss 1.096419e-01|LR 0.00022|\n",
       "</pre>\n"
      ],
      "text/plain": [
       "Epoch 0260|Val loss 7.571429e-02|Train loss 1.096419e-01|LR 0.00022|\n"
      ]
     },
     "metadata": {},
     "output_type": "display_data"
    },
    {
     "data": {
      "text/html": [
       "<pre style=\"white-space:pre;overflow-x:auto;line-height:normal;font-family:Menlo,'DejaVu Sans Mono',consolas,'Courier New',monospace\">EarlyStopping counter: 1 out of 20\n",
       "</pre>\n"
      ],
      "text/plain": [
       "EarlyStopping counter: 1 out of 20\n"
      ]
     },
     "metadata": {},
     "output_type": "display_data"
    },
    {
     "data": {
      "text/html": [
       "<pre style=\"white-space:pre;overflow-x:auto;line-height:normal;font-family:Menlo,'DejaVu Sans Mono',consolas,'Courier New',monospace\">Epoch 0261|Val loss 7.765682e-02|Train loss 1.100557e-01|LR 0.00022|\n",
       "</pre>\n"
      ],
      "text/plain": [
       "Epoch 0261|Val loss 7.765682e-02|Train loss 1.100557e-01|LR 0.00022|\n"
      ]
     },
     "metadata": {},
     "output_type": "display_data"
    },
    {
     "data": {
      "text/html": [
       "<pre style=\"white-space:pre;overflow-x:auto;line-height:normal;font-family:Menlo,'DejaVu Sans Mono',consolas,'Courier New',monospace\">Epoch 0262|Val loss 8.411673e-02|Train loss 1.093327e-01|LR 0.00022|\n",
       "</pre>\n"
      ],
      "text/plain": [
       "Epoch 0262|Val loss 8.411673e-02|Train loss 1.093327e-01|LR 0.00022|\n"
      ]
     },
     "metadata": {},
     "output_type": "display_data"
    },
    {
     "data": {
      "text/html": [
       "<pre style=\"white-space:pre;overflow-x:auto;line-height:normal;font-family:Menlo,'DejaVu Sans Mono',consolas,'Courier New',monospace\">Epoch 0263|Val loss 8.698104e-02|Train loss 1.103661e-01|LR 0.00022|\n",
       "</pre>\n"
      ],
      "text/plain": [
       "Epoch 0263|Val loss 8.698104e-02|Train loss 1.103661e-01|LR 0.00022|\n"
      ]
     },
     "metadata": {},
     "output_type": "display_data"
    },
    {
     "data": {
      "text/html": [
       "<pre style=\"white-space:pre;overflow-x:auto;line-height:normal;font-family:Menlo,'DejaVu Sans Mono',consolas,'Courier New',monospace\">Epoch 0264|Val loss 1.070309e-01|Train loss 1.089933e-01|LR 0.00022|\n",
       "</pre>\n"
      ],
      "text/plain": [
       "Epoch 0264|Val loss 1.070309e-01|Train loss 1.089933e-01|LR 0.00022|\n"
      ]
     },
     "metadata": {},
     "output_type": "display_data"
    },
    {
     "data": {
      "text/html": [
       "<pre style=\"white-space:pre;overflow-x:auto;line-height:normal;font-family:Menlo,'DejaVu Sans Mono',consolas,'Courier New',monospace\">Epoch 0265|Val loss 7.933790e-02|Train loss 1.064606e-01|LR 0.00022|\n",
       "</pre>\n"
      ],
      "text/plain": [
       "Epoch 0265|Val loss 7.933790e-02|Train loss 1.064606e-01|LR 0.00022|\n"
      ]
     },
     "metadata": {},
     "output_type": "display_data"
    },
    {
     "data": {
      "text/html": [
       "<pre style=\"white-space:pre;overflow-x:auto;line-height:normal;font-family:Menlo,'DejaVu Sans Mono',consolas,'Courier New',monospace\">Epoch 0266|Val loss 7.691216e-02|Train loss 1.068809e-01|LR 0.00022|\n",
       "</pre>\n"
      ],
      "text/plain": [
       "Epoch 0266|Val loss 7.691216e-02|Train loss 1.068809e-01|LR 0.00022|\n"
      ]
     },
     "metadata": {},
     "output_type": "display_data"
    },
    {
     "data": {
      "text/html": [
       "<pre style=\"white-space:pre;overflow-x:auto;line-height:normal;font-family:Menlo,'DejaVu Sans Mono',consolas,'Courier New',monospace\">Epoch 0267|Val loss 6.550469e-02|Train loss 1.089787e-01|LR 0.00022|\n",
       "</pre>\n"
      ],
      "text/plain": [
       "Epoch 0267|Val loss 6.550469e-02|Train loss 1.089787e-01|LR 0.00022|\n"
      ]
     },
     "metadata": {},
     "output_type": "display_data"
    },
    {
     "data": {
      "text/html": [
       "<pre style=\"white-space:pre;overflow-x:auto;line-height:normal;font-family:Menlo,'DejaVu Sans Mono',consolas,'Courier New',monospace\">Epoch 0268|Val loss 7.660784e-02|Train loss 1.079113e-01|LR 0.00022|\n",
       "</pre>\n"
      ],
      "text/plain": [
       "Epoch 0268|Val loss 7.660784e-02|Train loss 1.079113e-01|LR 0.00022|\n"
      ]
     },
     "metadata": {},
     "output_type": "display_data"
    },
    {
     "data": {
      "text/html": [
       "<pre style=\"white-space:pre;overflow-x:auto;line-height:normal;font-family:Menlo,'DejaVu Sans Mono',consolas,'Courier New',monospace\">Epoch 0269|Val loss 6.794145e-02|Train loss 1.074256e-01|LR 0.00022|\n",
       "</pre>\n"
      ],
      "text/plain": [
       "Epoch 0269|Val loss 6.794145e-02|Train loss 1.074256e-01|LR 0.00022|\n"
      ]
     },
     "metadata": {},
     "output_type": "display_data"
    },
    {
     "data": {
      "text/html": [
       "<pre style=\"white-space:pre;overflow-x:auto;line-height:normal;font-family:Menlo,'DejaVu Sans Mono',consolas,'Courier New',monospace\">Epoch 0270|Val loss 8.073946e-02|Train loss 1.090414e-01|LR 0.00022|\n",
       "</pre>\n"
      ],
      "text/plain": [
       "Epoch 0270|Val loss 8.073946e-02|Train loss 1.090414e-01|LR 0.00022|\n"
      ]
     },
     "metadata": {},
     "output_type": "display_data"
    },
    {
     "data": {
      "text/html": [
       "<pre style=\"white-space:pre;overflow-x:auto;line-height:normal;font-family:Menlo,'DejaVu Sans Mono',consolas,'Courier New',monospace\">Epoch 0271|Val loss 6.884320e-02|Train loss 1.083005e-01|LR 0.00022|\n",
       "</pre>\n"
      ],
      "text/plain": [
       "Epoch 0271|Val loss 6.884320e-02|Train loss 1.083005e-01|LR 0.00022|\n"
      ]
     },
     "metadata": {},
     "output_type": "display_data"
    },
    {
     "data": {
      "text/html": [
       "<pre style=\"white-space:pre;overflow-x:auto;line-height:normal;font-family:Menlo,'DejaVu Sans Mono',consolas,'Courier New',monospace\">Epoch 0272|Val loss 8.138680e-02|Train loss 1.083088e-01|LR 0.00022|\n",
       "</pre>\n"
      ],
      "text/plain": [
       "Epoch 0272|Val loss 8.138680e-02|Train loss 1.083088e-01|LR 0.00022|\n"
      ]
     },
     "metadata": {},
     "output_type": "display_data"
    },
    {
     "data": {
      "text/html": [
       "<pre style=\"white-space:pre;overflow-x:auto;line-height:normal;font-family:Menlo,'DejaVu Sans Mono',consolas,'Courier New',monospace\">Epoch 0273|Val loss 7.837185e-02|Train loss 1.068821e-01|LR 0.00022|\n",
       "</pre>\n"
      ],
      "text/plain": [
       "Epoch 0273|Val loss 7.837185e-02|Train loss 1.068821e-01|LR 0.00022|\n"
      ]
     },
     "metadata": {},
     "output_type": "display_data"
    },
    {
     "data": {
      "text/html": [
       "<pre style=\"white-space:pre;overflow-x:auto;line-height:normal;font-family:Menlo,'DejaVu Sans Mono',consolas,'Courier New',monospace\">Epoch 0274|Val loss 8.208936e-02|Train loss 1.056410e-01|LR 0.00022|\n",
       "</pre>\n"
      ],
      "text/plain": [
       "Epoch 0274|Val loss 8.208936e-02|Train loss 1.056410e-01|LR 0.00022|\n"
      ]
     },
     "metadata": {},
     "output_type": "display_data"
    },
    {
     "data": {
      "text/html": [
       "<pre style=\"white-space:pre;overflow-x:auto;line-height:normal;font-family:Menlo,'DejaVu Sans Mono',consolas,'Courier New',monospace\">Epoch 0275|Val loss 7.458095e-02|Train loss 1.106526e-01|LR 0.00022|\n",
       "</pre>\n"
      ],
      "text/plain": [
       "Epoch 0275|Val loss 7.458095e-02|Train loss 1.106526e-01|LR 0.00022|\n"
      ]
     },
     "metadata": {},
     "output_type": "display_data"
    },
    {
     "data": {
      "text/html": [
       "<pre style=\"white-space:pre;overflow-x:auto;line-height:normal;font-family:Menlo,'DejaVu Sans Mono',consolas,'Courier New',monospace\">Epoch 0276|Val loss 7.653625e-02|Train loss 1.063884e-01|LR 0.00022|\n",
       "</pre>\n"
      ],
      "text/plain": [
       "Epoch 0276|Val loss 7.653625e-02|Train loss 1.063884e-01|LR 0.00022|\n"
      ]
     },
     "metadata": {},
     "output_type": "display_data"
    },
    {
     "data": {
      "text/html": [
       "<pre style=\"white-space:pre;overflow-x:auto;line-height:normal;font-family:Menlo,'DejaVu Sans Mono',consolas,'Courier New',monospace\">Epoch 0277|Val loss 6.797398e-02|Train loss 1.070517e-01|LR 0.00022|\n",
       "</pre>\n"
      ],
      "text/plain": [
       "Epoch 0277|Val loss 6.797398e-02|Train loss 1.070517e-01|LR 0.00022|\n"
      ]
     },
     "metadata": {},
     "output_type": "display_data"
    },
    {
     "data": {
      "text/html": [
       "<pre style=\"white-space:pre;overflow-x:auto;line-height:normal;font-family:Menlo,'DejaVu Sans Mono',consolas,'Courier New',monospace\">Epoch 0278|Val loss 7.735117e-02|Train loss 1.073565e-01|LR 0.00022|\n",
       "</pre>\n"
      ],
      "text/plain": [
       "Epoch 0278|Val loss 7.735117e-02|Train loss 1.073565e-01|LR 0.00022|\n"
      ]
     },
     "metadata": {},
     "output_type": "display_data"
    },
    {
     "data": {
      "text/html": [
       "<pre style=\"white-space:pre;overflow-x:auto;line-height:normal;font-family:Menlo,'DejaVu Sans Mono',consolas,'Courier New',monospace\">Epoch 0279|Val loss 6.711120e-02|Train loss 1.077678e-01|LR 0.00022|\n",
       "</pre>\n"
      ],
      "text/plain": [
       "Epoch 0279|Val loss 6.711120e-02|Train loss 1.077678e-01|LR 0.00022|\n"
      ]
     },
     "metadata": {},
     "output_type": "display_data"
    },
    {
     "data": {
      "text/html": [
       "<pre style=\"white-space:pre;overflow-x:auto;line-height:normal;font-family:Menlo,'DejaVu Sans Mono',consolas,'Courier New',monospace\">Epoch 0280|Val loss 8.077116e-02|Train loss 1.069327e-01|LR 0.00022|\n",
       "</pre>\n"
      ],
      "text/plain": [
       "Epoch 0280|Val loss 8.077116e-02|Train loss 1.069327e-01|LR 0.00022|\n"
      ]
     },
     "metadata": {},
     "output_type": "display_data"
    },
    {
     "data": {
      "text/html": [
       "<pre style=\"white-space:pre;overflow-x:auto;line-height:normal;font-family:Menlo,'DejaVu Sans Mono',consolas,'Courier New',monospace\">EarlyStopping counter: 3 out of 20\n",
       "</pre>\n"
      ],
      "text/plain": [
       "EarlyStopping counter: 3 out of 20\n"
      ]
     },
     "metadata": {},
     "output_type": "display_data"
    },
    {
     "data": {
      "text/html": [
       "<pre style=\"white-space:pre;overflow-x:auto;line-height:normal;font-family:Menlo,'DejaVu Sans Mono',consolas,'Courier New',monospace\">Epoch 0281|Val loss 6.734419e-02|Train loss 1.050615e-01|LR 0.00022|\n",
       "</pre>\n"
      ],
      "text/plain": [
       "Epoch 0281|Val loss 6.734419e-02|Train loss 1.050615e-01|LR 0.00022|\n"
      ]
     },
     "metadata": {},
     "output_type": "display_data"
    },
    {
     "data": {
      "text/html": [
       "<pre style=\"white-space:pre;overflow-x:auto;line-height:normal;font-family:Menlo,'DejaVu Sans Mono',consolas,'Courier New',monospace\">Epoch 0282|Val loss 7.005288e-02|Train loss 1.051844e-01|LR 0.00022|\n",
       "</pre>\n"
      ],
      "text/plain": [
       "Epoch 0282|Val loss 7.005288e-02|Train loss 1.051844e-01|LR 0.00022|\n"
      ]
     },
     "metadata": {},
     "output_type": "display_data"
    },
    {
     "data": {
      "text/html": [
       "<pre style=\"white-space:pre;overflow-x:auto;line-height:normal;font-family:Menlo,'DejaVu Sans Mono',consolas,'Courier New',monospace\">Epoch 0283|Val loss 7.928824e-02|Train loss 1.035613e-01|LR 0.00022|\n",
       "</pre>\n"
      ],
      "text/plain": [
       "Epoch 0283|Val loss 7.928824e-02|Train loss 1.035613e-01|LR 0.00022|\n"
      ]
     },
     "metadata": {},
     "output_type": "display_data"
    },
    {
     "data": {
      "text/html": [
       "<pre style=\"white-space:pre;overflow-x:auto;line-height:normal;font-family:Menlo,'DejaVu Sans Mono',consolas,'Courier New',monospace\">Epoch 0284|Val loss 7.515599e-02|Train loss 1.039916e-01|LR 0.00022|\n",
       "</pre>\n"
      ],
      "text/plain": [
       "Epoch 0284|Val loss 7.515599e-02|Train loss 1.039916e-01|LR 0.00022|\n"
      ]
     },
     "metadata": {},
     "output_type": "display_data"
    },
    {
     "data": {
      "text/html": [
       "<pre style=\"white-space:pre;overflow-x:auto;line-height:normal;font-family:Menlo,'DejaVu Sans Mono',consolas,'Courier New',monospace\">Epoch 0285|Val loss 6.998068e-02|Train loss 1.046802e-01|LR 0.00022|\n",
       "</pre>\n"
      ],
      "text/plain": [
       "Epoch 0285|Val loss 6.998068e-02|Train loss 1.046802e-01|LR 0.00022|\n"
      ]
     },
     "metadata": {},
     "output_type": "display_data"
    },
    {
     "data": {
      "text/html": [
       "<pre style=\"white-space:pre;overflow-x:auto;line-height:normal;font-family:Menlo,'DejaVu Sans Mono',consolas,'Courier New',monospace\">Epoch 0286|Val loss 8.424345e-02|Train loss 1.055508e-01|LR 0.00022|\n",
       "</pre>\n"
      ],
      "text/plain": [
       "Epoch 0286|Val loss 8.424345e-02|Train loss 1.055508e-01|LR 0.00022|\n"
      ]
     },
     "metadata": {},
     "output_type": "display_data"
    },
    {
     "data": {
      "text/html": [
       "<pre style=\"white-space:pre;overflow-x:auto;line-height:normal;font-family:Menlo,'DejaVu Sans Mono',consolas,'Courier New',monospace\">Epoch 0287|Val loss 8.531991e-02|Train loss 1.080988e-01|LR 0.00022|\n",
       "</pre>\n"
      ],
      "text/plain": [
       "Epoch 0287|Val loss 8.531991e-02|Train loss 1.080988e-01|LR 0.00022|\n"
      ]
     },
     "metadata": {},
     "output_type": "display_data"
    },
    {
     "data": {
      "text/html": [
       "<pre style=\"white-space:pre;overflow-x:auto;line-height:normal;font-family:Menlo,'DejaVu Sans Mono',consolas,'Courier New',monospace\">Epoch 0288|Val loss 7.965784e-02|Train loss 1.062672e-01|LR 0.00022|\n",
       "</pre>\n"
      ],
      "text/plain": [
       "Epoch 0288|Val loss 7.965784e-02|Train loss 1.062672e-01|LR 0.00022|\n"
      ]
     },
     "metadata": {},
     "output_type": "display_data"
    },
    {
     "data": {
      "text/html": [
       "<pre style=\"white-space:pre;overflow-x:auto;line-height:normal;font-family:Menlo,'DejaVu Sans Mono',consolas,'Courier New',monospace\">Epoch 0289|Val loss 6.977830e-02|Train loss 1.083238e-01|LR 0.00022|\n",
       "</pre>\n"
      ],
      "text/plain": [
       "Epoch 0289|Val loss 6.977830e-02|Train loss 1.083238e-01|LR 0.00022|\n"
      ]
     },
     "metadata": {},
     "output_type": "display_data"
    },
    {
     "data": {
      "text/html": [
       "<pre style=\"white-space:pre;overflow-x:auto;line-height:normal;font-family:Menlo,'DejaVu Sans Mono',consolas,'Courier New',monospace\">Epoch 0290|Val loss 8.829871e-02|Train loss 1.075569e-01|LR 0.00022|\n",
       "</pre>\n"
      ],
      "text/plain": [
       "Epoch 0290|Val loss 8.829871e-02|Train loss 1.075569e-01|LR 0.00022|\n"
      ]
     },
     "metadata": {},
     "output_type": "display_data"
    },
    {
     "data": {
      "text/html": [
       "<pre style=\"white-space:pre;overflow-x:auto;line-height:normal;font-family:Menlo,'DejaVu Sans Mono',consolas,'Courier New',monospace\">EarlyStopping counter: 4 out of 20\n",
       "</pre>\n"
      ],
      "text/plain": [
       "EarlyStopping counter: 4 out of 20\n"
      ]
     },
     "metadata": {},
     "output_type": "display_data"
    },
    {
     "data": {
      "text/html": [
       "<pre style=\"white-space:pre;overflow-x:auto;line-height:normal;font-family:Menlo,'DejaVu Sans Mono',consolas,'Courier New',monospace\">Epoch 0291|Val loss 7.111803e-02|Train loss 1.069452e-01|LR 0.00022|\n",
       "</pre>\n"
      ],
      "text/plain": [
       "Epoch 0291|Val loss 7.111803e-02|Train loss 1.069452e-01|LR 0.00022|\n"
      ]
     },
     "metadata": {},
     "output_type": "display_data"
    },
    {
     "data": {
      "text/html": [
       "<pre style=\"white-space:pre;overflow-x:auto;line-height:normal;font-family:Menlo,'DejaVu Sans Mono',consolas,'Courier New',monospace\">Epoch 0292|Val loss 8.249219e-02|Train loss 1.072972e-01|LR 0.00022|\n",
       "</pre>\n"
      ],
      "text/plain": [
       "Epoch 0292|Val loss 8.249219e-02|Train loss 1.072972e-01|LR 0.00022|\n"
      ]
     },
     "metadata": {},
     "output_type": "display_data"
    },
    {
     "data": {
      "text/html": [
       "<pre style=\"white-space:pre;overflow-x:auto;line-height:normal;font-family:Menlo,'DejaVu Sans Mono',consolas,'Courier New',monospace\">Epoch 0293|Val loss 6.711598e-02|Train loss 1.079606e-01|LR 0.00022|\n",
       "</pre>\n"
      ],
      "text/plain": [
       "Epoch 0293|Val loss 6.711598e-02|Train loss 1.079606e-01|LR 0.00022|\n"
      ]
     },
     "metadata": {},
     "output_type": "display_data"
    },
    {
     "data": {
      "text/html": [
       "<pre style=\"white-space:pre;overflow-x:auto;line-height:normal;font-family:Menlo,'DejaVu Sans Mono',consolas,'Courier New',monospace\">Epoch 0294|Val loss 7.511114e-02|Train loss 1.070600e-01|LR 0.00022|\n",
       "</pre>\n"
      ],
      "text/plain": [
       "Epoch 0294|Val loss 7.511114e-02|Train loss 1.070600e-01|LR 0.00022|\n"
      ]
     },
     "metadata": {},
     "output_type": "display_data"
    },
    {
     "data": {
      "text/html": [
       "<pre style=\"white-space:pre;overflow-x:auto;line-height:normal;font-family:Menlo,'DejaVu Sans Mono',consolas,'Courier New',monospace\">Epoch 0295|Val loss 7.152127e-02|Train loss 1.073982e-01|LR 0.00022|\n",
       "</pre>\n"
      ],
      "text/plain": [
       "Epoch 0295|Val loss 7.152127e-02|Train loss 1.073982e-01|LR 0.00022|\n"
      ]
     },
     "metadata": {},
     "output_type": "display_data"
    },
    {
     "data": {
      "text/html": [
       "<pre style=\"white-space:pre;overflow-x:auto;line-height:normal;font-family:Menlo,'DejaVu Sans Mono',consolas,'Courier New',monospace\">Epoch 0296|Val loss 7.315903e-02|Train loss 1.071178e-01|LR 0.00022|\n",
       "</pre>\n"
      ],
      "text/plain": [
       "Epoch 0296|Val loss 7.315903e-02|Train loss 1.071178e-01|LR 0.00022|\n"
      ]
     },
     "metadata": {},
     "output_type": "display_data"
    },
    {
     "data": {
      "text/html": [
       "<pre style=\"white-space:pre;overflow-x:auto;line-height:normal;font-family:Menlo,'DejaVu Sans Mono',consolas,'Courier New',monospace\">Epoch 0297|Val loss 7.085506e-02|Train loss 1.081018e-01|LR 0.00022|\n",
       "</pre>\n"
      ],
      "text/plain": [
       "Epoch 0297|Val loss 7.085506e-02|Train loss 1.081018e-01|LR 0.00022|\n"
      ]
     },
     "metadata": {},
     "output_type": "display_data"
    },
    {
     "data": {
      "text/html": [
       "<pre style=\"white-space:pre;overflow-x:auto;line-height:normal;font-family:Menlo,'DejaVu Sans Mono',consolas,'Courier New',monospace\">Epoch 0298|Val loss 7.764952e-02|Train loss 1.046942e-01|LR 0.00022|\n",
       "</pre>\n"
      ],
      "text/plain": [
       "Epoch 0298|Val loss 7.764952e-02|Train loss 1.046942e-01|LR 0.00022|\n"
      ]
     },
     "metadata": {},
     "output_type": "display_data"
    },
    {
     "data": {
      "text/html": [
       "<pre style=\"white-space:pre;overflow-x:auto;line-height:normal;font-family:Menlo,'DejaVu Sans Mono',consolas,'Courier New',monospace\">Epoch 0299|Val loss 7.847933e-02|Train loss 1.062704e-01|LR 0.00022|\n",
       "</pre>\n"
      ],
      "text/plain": [
       "Epoch 0299|Val loss 7.847933e-02|Train loss 1.062704e-01|LR 0.00022|\n"
      ]
     },
     "metadata": {},
     "output_type": "display_data"
    },
    {
     "data": {
      "text/html": [
       "<pre style=\"white-space:pre;overflow-x:auto;line-height:normal;font-family:Menlo,'DejaVu Sans Mono',consolas,'Courier New',monospace\">Epoch 0300|Val loss 7.282845e-02|Train loss 1.047370e-01|LR 0.00022|\n",
       "</pre>\n"
      ],
      "text/plain": [
       "Epoch 0300|Val loss 7.282845e-02|Train loss 1.047370e-01|LR 0.00022|\n"
      ]
     },
     "metadata": {},
     "output_type": "display_data"
    },
    {
     "data": {
      "text/html": [
       "<pre style=\"white-space:pre;overflow-x:auto;line-height:normal;font-family:Menlo,'DejaVu Sans Mono',consolas,'Courier New',monospace\">EarlyStopping counter: 5 out of 20\n",
       "</pre>\n"
      ],
      "text/plain": [
       "EarlyStopping counter: 5 out of 20\n"
      ]
     },
     "metadata": {},
     "output_type": "display_data"
    },
    {
     "data": {
      "text/html": [
       "<pre style=\"white-space:pre;overflow-x:auto;line-height:normal;font-family:Menlo,'DejaVu Sans Mono',consolas,'Courier New',monospace\">Epoch 0301|Val loss 7.353072e-02|Train loss 1.055920e-01|LR 0.00022|\n",
       "</pre>\n"
      ],
      "text/plain": [
       "Epoch 0301|Val loss 7.353072e-02|Train loss 1.055920e-01|LR 0.00022|\n"
      ]
     },
     "metadata": {},
     "output_type": "display_data"
    },
    {
     "data": {
      "text/html": [
       "<pre style=\"white-space:pre;overflow-x:auto;line-height:normal;font-family:Menlo,'DejaVu Sans Mono',consolas,'Courier New',monospace\">Epoch 0302|Val loss 7.088429e-02|Train loss 1.083408e-01|LR 0.00022|\n",
       "</pre>\n"
      ],
      "text/plain": [
       "Epoch 0302|Val loss 7.088429e-02|Train loss 1.083408e-01|LR 0.00022|\n"
      ]
     },
     "metadata": {},
     "output_type": "display_data"
    },
    {
     "data": {
      "text/html": [
       "<pre style=\"white-space:pre;overflow-x:auto;line-height:normal;font-family:Menlo,'DejaVu Sans Mono',consolas,'Courier New',monospace\">Epoch 0303|Val loss 7.299873e-02|Train loss 1.062831e-01|LR 0.00022|\n",
       "</pre>\n"
      ],
      "text/plain": [
       "Epoch 0303|Val loss 7.299873e-02|Train loss 1.062831e-01|LR 0.00022|\n"
      ]
     },
     "metadata": {},
     "output_type": "display_data"
    },
    {
     "data": {
      "text/html": [
       "<pre style=\"white-space:pre;overflow-x:auto;line-height:normal;font-family:Menlo,'DejaVu Sans Mono',consolas,'Courier New',monospace\">Epoch 0304|Val loss 7.559324e-02|Train loss 1.062187e-01|LR 0.00022|\n",
       "</pre>\n"
      ],
      "text/plain": [
       "Epoch 0304|Val loss 7.559324e-02|Train loss 1.062187e-01|LR 0.00022|\n"
      ]
     },
     "metadata": {},
     "output_type": "display_data"
    },
    {
     "data": {
      "text/html": [
       "<pre style=\"white-space:pre;overflow-x:auto;line-height:normal;font-family:Menlo,'DejaVu Sans Mono',consolas,'Courier New',monospace\">Epoch 0305|Val loss 7.505548e-02|Train loss 1.037361e-01|LR 0.00022|\n",
       "</pre>\n"
      ],
      "text/plain": [
       "Epoch 0305|Val loss 7.505548e-02|Train loss 1.037361e-01|LR 0.00022|\n"
      ]
     },
     "metadata": {},
     "output_type": "display_data"
    },
    {
     "data": {
      "text/html": [
       "<pre style=\"white-space:pre;overflow-x:auto;line-height:normal;font-family:Menlo,'DejaVu Sans Mono',consolas,'Courier New',monospace\">Epoch 0306|Val loss 7.852214e-02|Train loss 1.064982e-01|LR 0.00022|\n",
       "</pre>\n"
      ],
      "text/plain": [
       "Epoch 0306|Val loss 7.852214e-02|Train loss 1.064982e-01|LR 0.00022|\n"
      ]
     },
     "metadata": {},
     "output_type": "display_data"
    },
    {
     "data": {
      "text/html": [
       "<pre style=\"white-space:pre;overflow-x:auto;line-height:normal;font-family:Menlo,'DejaVu Sans Mono',consolas,'Courier New',monospace\">Epoch 0307|Val loss 6.617988e-02|Train loss 1.028541e-01|LR 0.00022|\n",
       "</pre>\n"
      ],
      "text/plain": [
       "Epoch 0307|Val loss 6.617988e-02|Train loss 1.028541e-01|LR 0.00022|\n"
      ]
     },
     "metadata": {},
     "output_type": "display_data"
    },
    {
     "data": {
      "text/html": [
       "<pre style=\"white-space:pre;overflow-x:auto;line-height:normal;font-family:Menlo,'DejaVu Sans Mono',consolas,'Courier New',monospace\">Epoch 0308|Val loss 9.480641e-02|Train loss 1.061529e-01|LR 0.00022|\n",
       "</pre>\n"
      ],
      "text/plain": [
       "Epoch 0308|Val loss 9.480641e-02|Train loss 1.061529e-01|LR 0.00022|\n"
      ]
     },
     "metadata": {},
     "output_type": "display_data"
    },
    {
     "data": {
      "text/html": [
       "<pre style=\"white-space:pre;overflow-x:auto;line-height:normal;font-family:Menlo,'DejaVu Sans Mono',consolas,'Courier New',monospace\">Epoch 0309|Val loss 7.417032e-02|Train loss 1.056950e-01|LR 0.00013|\n",
       "</pre>\n"
      ],
      "text/plain": [
       "Epoch 0309|Val loss 7.417032e-02|Train loss 1.056950e-01|LR 0.00013|\n"
      ]
     },
     "metadata": {},
     "output_type": "display_data"
    },
    {
     "data": {
      "text/html": [
       "<pre style=\"white-space:pre;overflow-x:auto;line-height:normal;font-family:Menlo,'DejaVu Sans Mono',consolas,'Courier New',monospace\">Epoch 0310|Val loss 7.711313e-02|Train loss 1.034702e-01|LR 0.00013|\n",
       "</pre>\n"
      ],
      "text/plain": [
       "Epoch 0310|Val loss 7.711313e-02|Train loss 1.034702e-01|LR 0.00013|\n"
      ]
     },
     "metadata": {},
     "output_type": "display_data"
    },
    {
     "data": {
      "text/html": [
       "<pre style=\"white-space:pre;overflow-x:auto;line-height:normal;font-family:Menlo,'DejaVu Sans Mono',consolas,'Courier New',monospace\">EarlyStopping counter: 6 out of 20\n",
       "</pre>\n"
      ],
      "text/plain": [
       "EarlyStopping counter: 6 out of 20\n"
      ]
     },
     "metadata": {},
     "output_type": "display_data"
    },
    {
     "data": {
      "text/html": [
       "<pre style=\"white-space:pre;overflow-x:auto;line-height:normal;font-family:Menlo,'DejaVu Sans Mono',consolas,'Courier New',monospace\">Epoch 0311|Val loss 7.208083e-02|Train loss 1.019563e-01|LR 0.00013|\n",
       "</pre>\n"
      ],
      "text/plain": [
       "Epoch 0311|Val loss 7.208083e-02|Train loss 1.019563e-01|LR 0.00013|\n"
      ]
     },
     "metadata": {},
     "output_type": "display_data"
    },
    {
     "data": {
      "text/html": [
       "<pre style=\"white-space:pre;overflow-x:auto;line-height:normal;font-family:Menlo,'DejaVu Sans Mono',consolas,'Courier New',monospace\">Epoch 0312|Val loss 7.379839e-02|Train loss 1.058743e-01|LR 0.00013|\n",
       "</pre>\n"
      ],
      "text/plain": [
       "Epoch 0312|Val loss 7.379839e-02|Train loss 1.058743e-01|LR 0.00013|\n"
      ]
     },
     "metadata": {},
     "output_type": "display_data"
    },
    {
     "data": {
      "text/html": [
       "<pre style=\"white-space:pre;overflow-x:auto;line-height:normal;font-family:Menlo,'DejaVu Sans Mono',consolas,'Courier New',monospace\">Epoch 0313|Val loss 7.658855e-02|Train loss 1.018830e-01|LR 0.00013|\n",
       "</pre>\n"
      ],
      "text/plain": [
       "Epoch 0313|Val loss 7.658855e-02|Train loss 1.018830e-01|LR 0.00013|\n"
      ]
     },
     "metadata": {},
     "output_type": "display_data"
    },
    {
     "data": {
      "text/html": [
       "<pre style=\"white-space:pre;overflow-x:auto;line-height:normal;font-family:Menlo,'DejaVu Sans Mono',consolas,'Courier New',monospace\">Epoch 0314|Val loss 7.505304e-02|Train loss 1.025049e-01|LR 0.00013|\n",
       "</pre>\n"
      ],
      "text/plain": [
       "Epoch 0314|Val loss 7.505304e-02|Train loss 1.025049e-01|LR 0.00013|\n"
      ]
     },
     "metadata": {},
     "output_type": "display_data"
    },
    {
     "data": {
      "text/html": [
       "<pre style=\"white-space:pre;overflow-x:auto;line-height:normal;font-family:Menlo,'DejaVu Sans Mono',consolas,'Courier New',monospace\">Epoch 0315|Val loss 7.242576e-02|Train loss 1.037731e-01|LR 0.00013|\n",
       "</pre>\n"
      ],
      "text/plain": [
       "Epoch 0315|Val loss 7.242576e-02|Train loss 1.037731e-01|LR 0.00013|\n"
      ]
     },
     "metadata": {},
     "output_type": "display_data"
    },
    {
     "data": {
      "text/html": [
       "<pre style=\"white-space:pre;overflow-x:auto;line-height:normal;font-family:Menlo,'DejaVu Sans Mono',consolas,'Courier New',monospace\">Epoch 0316|Val loss 7.181835e-02|Train loss 1.035110e-01|LR 0.00013|\n",
       "</pre>\n"
      ],
      "text/plain": [
       "Epoch 0316|Val loss 7.181835e-02|Train loss 1.035110e-01|LR 0.00013|\n"
      ]
     },
     "metadata": {},
     "output_type": "display_data"
    },
    {
     "data": {
      "text/html": [
       "<pre style=\"white-space:pre;overflow-x:auto;line-height:normal;font-family:Menlo,'DejaVu Sans Mono',consolas,'Courier New',monospace\">Epoch 0317|Val loss 6.787152e-02|Train loss 1.025333e-01|LR 0.00013|\n",
       "</pre>\n"
      ],
      "text/plain": [
       "Epoch 0317|Val loss 6.787152e-02|Train loss 1.025333e-01|LR 0.00013|\n"
      ]
     },
     "metadata": {},
     "output_type": "display_data"
    },
    {
     "data": {
      "text/html": [
       "<pre style=\"white-space:pre;overflow-x:auto;line-height:normal;font-family:Menlo,'DejaVu Sans Mono',consolas,'Courier New',monospace\">Epoch 0318|Val loss 7.426192e-02|Train loss 1.021307e-01|LR 0.00013|\n",
       "</pre>\n"
      ],
      "text/plain": [
       "Epoch 0318|Val loss 7.426192e-02|Train loss 1.021307e-01|LR 0.00013|\n"
      ]
     },
     "metadata": {},
     "output_type": "display_data"
    },
    {
     "data": {
      "text/html": [
       "<pre style=\"white-space:pre;overflow-x:auto;line-height:normal;font-family:Menlo,'DejaVu Sans Mono',consolas,'Courier New',monospace\">Epoch 0319|Val loss 6.782576e-02|Train loss 1.047829e-01|LR 0.00013|\n",
       "</pre>\n"
      ],
      "text/plain": [
       "Epoch 0319|Val loss 6.782576e-02|Train loss 1.047829e-01|LR 0.00013|\n"
      ]
     },
     "metadata": {},
     "output_type": "display_data"
    },
    {
     "data": {
      "text/html": [
       "<pre style=\"white-space:pre;overflow-x:auto;line-height:normal;font-family:Menlo,'DejaVu Sans Mono',consolas,'Courier New',monospace\">Epoch 0320|Val loss 7.008563e-02|Train loss 1.010373e-01|LR 0.00013|\n",
       "</pre>\n"
      ],
      "text/plain": [
       "Epoch 0320|Val loss 7.008563e-02|Train loss 1.010373e-01|LR 0.00013|\n"
      ]
     },
     "metadata": {},
     "output_type": "display_data"
    },
    {
     "data": {
      "text/html": [
       "<pre style=\"white-space:pre;overflow-x:auto;line-height:normal;font-family:Menlo,'DejaVu Sans Mono',consolas,'Courier New',monospace\">EarlyStopping counter: 7 out of 20\n",
       "</pre>\n"
      ],
      "text/plain": [
       "EarlyStopping counter: 7 out of 20\n"
      ]
     },
     "metadata": {},
     "output_type": "display_data"
    },
    {
     "data": {
      "text/html": [
       "<pre style=\"white-space:pre;overflow-x:auto;line-height:normal;font-family:Menlo,'DejaVu Sans Mono',consolas,'Courier New',monospace\">Epoch 0321|Val loss 6.411687e-02|Train loss 1.010146e-01|LR 0.00013|\n",
       "</pre>\n"
      ],
      "text/plain": [
       "Epoch 0321|Val loss 6.411687e-02|Train loss 1.010146e-01|LR 0.00013|\n"
      ]
     },
     "metadata": {},
     "output_type": "display_data"
    },
    {
     "data": {
      "text/html": [
       "<pre style=\"white-space:pre;overflow-x:auto;line-height:normal;font-family:Menlo,'DejaVu Sans Mono',consolas,'Courier New',monospace\">Epoch 0322|Val loss 7.992342e-02|Train loss 1.032255e-01|LR 0.00013|\n",
       "</pre>\n"
      ],
      "text/plain": [
       "Epoch 0322|Val loss 7.992342e-02|Train loss 1.032255e-01|LR 0.00013|\n"
      ]
     },
     "metadata": {},
     "output_type": "display_data"
    },
    {
     "data": {
      "text/html": [
       "<pre style=\"white-space:pre;overflow-x:auto;line-height:normal;font-family:Menlo,'DejaVu Sans Mono',consolas,'Courier New',monospace\">Epoch 0323|Val loss 6.649183e-02|Train loss 1.035998e-01|LR 0.00013|\n",
       "</pre>\n"
      ],
      "text/plain": [
       "Epoch 0323|Val loss 6.649183e-02|Train loss 1.035998e-01|LR 0.00013|\n"
      ]
     },
     "metadata": {},
     "output_type": "display_data"
    },
    {
     "data": {
      "text/html": [
       "<pre style=\"white-space:pre;overflow-x:auto;line-height:normal;font-family:Menlo,'DejaVu Sans Mono',consolas,'Courier New',monospace\">Epoch 0324|Val loss 7.349829e-02|Train loss 1.026619e-01|LR 0.00013|\n",
       "</pre>\n"
      ],
      "text/plain": [
       "Epoch 0324|Val loss 7.349829e-02|Train loss 1.026619e-01|LR 0.00013|\n"
      ]
     },
     "metadata": {},
     "output_type": "display_data"
    },
    {
     "data": {
      "text/html": [
       "<pre style=\"white-space:pre;overflow-x:auto;line-height:normal;font-family:Menlo,'DejaVu Sans Mono',consolas,'Courier New',monospace\">Epoch 0325|Val loss 6.792789e-02|Train loss 1.040016e-01|LR 0.00013|\n",
       "</pre>\n"
      ],
      "text/plain": [
       "Epoch 0325|Val loss 6.792789e-02|Train loss 1.040016e-01|LR 0.00013|\n"
      ]
     },
     "metadata": {},
     "output_type": "display_data"
    },
    {
     "data": {
      "text/html": [
       "<pre style=\"white-space:pre;overflow-x:auto;line-height:normal;font-family:Menlo,'DejaVu Sans Mono',consolas,'Courier New',monospace\">Epoch 0326|Val loss 6.877105e-02|Train loss 1.021368e-01|LR 0.00013|\n",
       "</pre>\n"
      ],
      "text/plain": [
       "Epoch 0326|Val loss 6.877105e-02|Train loss 1.021368e-01|LR 0.00013|\n"
      ]
     },
     "metadata": {},
     "output_type": "display_data"
    },
    {
     "data": {
      "text/html": [
       "<pre style=\"white-space:pre;overflow-x:auto;line-height:normal;font-family:Menlo,'DejaVu Sans Mono',consolas,'Courier New',monospace\">Epoch 0327|Val loss 6.840627e-02|Train loss 1.064502e-01|LR 0.00013|\n",
       "</pre>\n"
      ],
      "text/plain": [
       "Epoch 0327|Val loss 6.840627e-02|Train loss 1.064502e-01|LR 0.00013|\n"
      ]
     },
     "metadata": {},
     "output_type": "display_data"
    },
    {
     "data": {
      "text/html": [
       "<pre style=\"white-space:pre;overflow-x:auto;line-height:normal;font-family:Menlo,'DejaVu Sans Mono',consolas,'Courier New',monospace\">Epoch 0328|Val loss 7.327325e-02|Train loss 1.044069e-01|LR 0.00013|\n",
       "</pre>\n"
      ],
      "text/plain": [
       "Epoch 0328|Val loss 7.327325e-02|Train loss 1.044069e-01|LR 0.00013|\n"
      ]
     },
     "metadata": {},
     "output_type": "display_data"
    },
    {
     "data": {
      "text/html": [
       "<pre style=\"white-space:pre;overflow-x:auto;line-height:normal;font-family:Menlo,'DejaVu Sans Mono',consolas,'Courier New',monospace\">Epoch 0329|Val loss 6.581994e-02|Train loss 1.032005e-01|LR 0.00013|\n",
       "</pre>\n"
      ],
      "text/plain": [
       "Epoch 0329|Val loss 6.581994e-02|Train loss 1.032005e-01|LR 0.00013|\n"
      ]
     },
     "metadata": {},
     "output_type": "display_data"
    },
    {
     "data": {
      "text/html": [
       "<pre style=\"white-space:pre;overflow-x:auto;line-height:normal;font-family:Menlo,'DejaVu Sans Mono',consolas,'Courier New',monospace\">Epoch 0330|Val loss 7.375021e-02|Train loss 1.003004e-01|LR 0.00013|\n",
       "</pre>\n"
      ],
      "text/plain": [
       "Epoch 0330|Val loss 7.375021e-02|Train loss 1.003004e-01|LR 0.00013|\n"
      ]
     },
     "metadata": {},
     "output_type": "display_data"
    },
    {
     "data": {
      "text/html": [
       "<pre style=\"white-space:pre;overflow-x:auto;line-height:normal;font-family:Menlo,'DejaVu Sans Mono',consolas,'Courier New',monospace\">EarlyStopping counter: 8 out of 20\n",
       "</pre>\n"
      ],
      "text/plain": [
       "EarlyStopping counter: 8 out of 20\n"
      ]
     },
     "metadata": {},
     "output_type": "display_data"
    },
    {
     "data": {
      "text/html": [
       "<pre style=\"white-space:pre;overflow-x:auto;line-height:normal;font-family:Menlo,'DejaVu Sans Mono',consolas,'Courier New',monospace\">Epoch 0331|Val loss 7.020524e-02|Train loss 1.004113e-01|LR 0.00013|\n",
       "</pre>\n"
      ],
      "text/plain": [
       "Epoch 0331|Val loss 7.020524e-02|Train loss 1.004113e-01|LR 0.00013|\n"
      ]
     },
     "metadata": {},
     "output_type": "display_data"
    },
    {
     "data": {
      "text/html": [
       "<pre style=\"white-space:pre;overflow-x:auto;line-height:normal;font-family:Menlo,'DejaVu Sans Mono',consolas,'Courier New',monospace\">Epoch 0332|Val loss 7.366810e-02|Train loss 1.021209e-01|LR 0.00013|\n",
       "</pre>\n"
      ],
      "text/plain": [
       "Epoch 0332|Val loss 7.366810e-02|Train loss 1.021209e-01|LR 0.00013|\n"
      ]
     },
     "metadata": {},
     "output_type": "display_data"
    },
    {
     "data": {
      "text/html": [
       "<pre style=\"white-space:pre;overflow-x:auto;line-height:normal;font-family:Menlo,'DejaVu Sans Mono',consolas,'Courier New',monospace\">Epoch 0333|Val loss 7.026153e-02|Train loss 1.005743e-01|LR 0.00013|\n",
       "</pre>\n"
      ],
      "text/plain": [
       "Epoch 0333|Val loss 7.026153e-02|Train loss 1.005743e-01|LR 0.00013|\n"
      ]
     },
     "metadata": {},
     "output_type": "display_data"
    },
    {
     "data": {
      "text/html": [
       "<pre style=\"white-space:pre;overflow-x:auto;line-height:normal;font-family:Menlo,'DejaVu Sans Mono',consolas,'Courier New',monospace\">Epoch 0334|Val loss 7.018279e-02|Train loss 1.014208e-01|LR 0.00013|\n",
       "</pre>\n"
      ],
      "text/plain": [
       "Epoch 0334|Val loss 7.018279e-02|Train loss 1.014208e-01|LR 0.00013|\n"
      ]
     },
     "metadata": {},
     "output_type": "display_data"
    },
    {
     "data": {
      "text/html": [
       "<pre style=\"white-space:pre;overflow-x:auto;line-height:normal;font-family:Menlo,'DejaVu Sans Mono',consolas,'Courier New',monospace\">Epoch 0335|Val loss 6.630106e-02|Train loss 1.012309e-01|LR 0.00013|\n",
       "</pre>\n"
      ],
      "text/plain": [
       "Epoch 0335|Val loss 6.630106e-02|Train loss 1.012309e-01|LR 0.00013|\n"
      ]
     },
     "metadata": {},
     "output_type": "display_data"
    },
    {
     "data": {
      "text/html": [
       "<pre style=\"white-space:pre;overflow-x:auto;line-height:normal;font-family:Menlo,'DejaVu Sans Mono',consolas,'Courier New',monospace\">Epoch 0336|Val loss 7.736755e-02|Train loss 1.009597e-01|LR 0.00013|\n",
       "</pre>\n"
      ],
      "text/plain": [
       "Epoch 0336|Val loss 7.736755e-02|Train loss 1.009597e-01|LR 0.00013|\n"
      ]
     },
     "metadata": {},
     "output_type": "display_data"
    },
    {
     "data": {
      "text/html": [
       "<pre style=\"white-space:pre;overflow-x:auto;line-height:normal;font-family:Menlo,'DejaVu Sans Mono',consolas,'Courier New',monospace\">Epoch 0337|Val loss 6.310343e-02|Train loss 1.019156e-01|LR 0.00013|\n",
       "</pre>\n"
      ],
      "text/plain": [
       "Epoch 0337|Val loss 6.310343e-02|Train loss 1.019156e-01|LR 0.00013|\n"
      ]
     },
     "metadata": {},
     "output_type": "display_data"
    },
    {
     "data": {
      "text/html": [
       "<pre style=\"white-space:pre;overflow-x:auto;line-height:normal;font-family:Menlo,'DejaVu Sans Mono',consolas,'Courier New',monospace\">Epoch 0338|Val loss 7.019249e-02|Train loss 1.015310e-01|LR 0.00013|\n",
       "</pre>\n"
      ],
      "text/plain": [
       "Epoch 0338|Val loss 7.019249e-02|Train loss 1.015310e-01|LR 0.00013|\n"
      ]
     },
     "metadata": {},
     "output_type": "display_data"
    },
    {
     "data": {
      "text/html": [
       "<pre style=\"white-space:pre;overflow-x:auto;line-height:normal;font-family:Menlo,'DejaVu Sans Mono',consolas,'Courier New',monospace\">Epoch 0339|Val loss 7.124335e-02|Train loss 1.010321e-01|LR 0.00013|\n",
       "</pre>\n"
      ],
      "text/plain": [
       "Epoch 0339|Val loss 7.124335e-02|Train loss 1.010321e-01|LR 0.00013|\n"
      ]
     },
     "metadata": {},
     "output_type": "display_data"
    },
    {
     "data": {
      "text/html": [
       "<pre style=\"white-space:pre;overflow-x:auto;line-height:normal;font-family:Menlo,'DejaVu Sans Mono',consolas,'Courier New',monospace\">Epoch 0340|Val loss 7.536964e-02|Train loss 1.016448e-01|LR 0.00013|\n",
       "</pre>\n"
      ],
      "text/plain": [
       "Epoch 0340|Val loss 7.536964e-02|Train loss 1.016448e-01|LR 0.00013|\n"
      ]
     },
     "metadata": {},
     "output_type": "display_data"
    },
    {
     "data": {
      "text/html": [
       "<pre style=\"white-space:pre;overflow-x:auto;line-height:normal;font-family:Menlo,'DejaVu Sans Mono',consolas,'Courier New',monospace\">EarlyStopping counter: 9 out of 20\n",
       "</pre>\n"
      ],
      "text/plain": [
       "EarlyStopping counter: 9 out of 20\n"
      ]
     },
     "metadata": {},
     "output_type": "display_data"
    },
    {
     "data": {
      "text/html": [
       "<pre style=\"white-space:pre;overflow-x:auto;line-height:normal;font-family:Menlo,'DejaVu Sans Mono',consolas,'Courier New',monospace\">Epoch 0341|Val loss 6.941046e-02|Train loss 1.027671e-01|LR 0.00013|\n",
       "</pre>\n"
      ],
      "text/plain": [
       "Epoch 0341|Val loss 6.941046e-02|Train loss 1.027671e-01|LR 0.00013|\n"
      ]
     },
     "metadata": {},
     "output_type": "display_data"
    },
    {
     "data": {
      "text/html": [
       "<pre style=\"white-space:pre;overflow-x:auto;line-height:normal;font-family:Menlo,'DejaVu Sans Mono',consolas,'Courier New',monospace\">Epoch 0342|Val loss 7.642663e-02|Train loss 1.032521e-01|LR 0.00013|\n",
       "</pre>\n"
      ],
      "text/plain": [
       "Epoch 0342|Val loss 7.642663e-02|Train loss 1.032521e-01|LR 0.00013|\n"
      ]
     },
     "metadata": {},
     "output_type": "display_data"
    },
    {
     "data": {
      "text/html": [
       "<pre style=\"white-space:pre;overflow-x:auto;line-height:normal;font-family:Menlo,'DejaVu Sans Mono',consolas,'Courier New',monospace\">Epoch 0343|Val loss 6.467247e-02|Train loss 1.009133e-01|LR 0.00013|\n",
       "</pre>\n"
      ],
      "text/plain": [
       "Epoch 0343|Val loss 6.467247e-02|Train loss 1.009133e-01|LR 0.00013|\n"
      ]
     },
     "metadata": {},
     "output_type": "display_data"
    },
    {
     "data": {
      "text/html": [
       "<pre style=\"white-space:pre;overflow-x:auto;line-height:normal;font-family:Menlo,'DejaVu Sans Mono',consolas,'Courier New',monospace\">Epoch 0344|Val loss 7.137708e-02|Train loss 1.018373e-01|LR 0.00013|\n",
       "</pre>\n"
      ],
      "text/plain": [
       "Epoch 0344|Val loss 7.137708e-02|Train loss 1.018373e-01|LR 0.00013|\n"
      ]
     },
     "metadata": {},
     "output_type": "display_data"
    },
    {
     "data": {
      "text/html": [
       "<pre style=\"white-space:pre;overflow-x:auto;line-height:normal;font-family:Menlo,'DejaVu Sans Mono',consolas,'Courier New',monospace\">Epoch 0345|Val loss 6.983811e-02|Train loss 1.005386e-01|LR 0.00013|\n",
       "</pre>\n"
      ],
      "text/plain": [
       "Epoch 0345|Val loss 6.983811e-02|Train loss 1.005386e-01|LR 0.00013|\n"
      ]
     },
     "metadata": {},
     "output_type": "display_data"
    },
    {
     "data": {
      "text/html": [
       "<pre style=\"white-space:pre;overflow-x:auto;line-height:normal;font-family:Menlo,'DejaVu Sans Mono',consolas,'Courier New',monospace\">Epoch 0346|Val loss 6.512787e-02|Train loss 1.011988e-01|LR 0.00013|\n",
       "</pre>\n"
      ],
      "text/plain": [
       "Epoch 0346|Val loss 6.512787e-02|Train loss 1.011988e-01|LR 0.00013|\n"
      ]
     },
     "metadata": {},
     "output_type": "display_data"
    },
    {
     "data": {
      "text/html": [
       "<pre style=\"white-space:pre;overflow-x:auto;line-height:normal;font-family:Menlo,'DejaVu Sans Mono',consolas,'Courier New',monospace\">Epoch 0347|Val loss 6.670966e-02|Train loss 1.013310e-01|LR 0.00013|\n",
       "</pre>\n"
      ],
      "text/plain": [
       "Epoch 0347|Val loss 6.670966e-02|Train loss 1.013310e-01|LR 0.00013|\n"
      ]
     },
     "metadata": {},
     "output_type": "display_data"
    },
    {
     "data": {
      "text/html": [
       "<pre style=\"white-space:pre;overflow-x:auto;line-height:normal;font-family:Menlo,'DejaVu Sans Mono',consolas,'Courier New',monospace\">Epoch 0348|Val loss 6.718392e-02|Train loss 1.015435e-01|LR 0.00013|\n",
       "</pre>\n"
      ],
      "text/plain": [
       "Epoch 0348|Val loss 6.718392e-02|Train loss 1.015435e-01|LR 0.00013|\n"
      ]
     },
     "metadata": {},
     "output_type": "display_data"
    },
    {
     "data": {
      "text/html": [
       "<pre style=\"white-space:pre;overflow-x:auto;line-height:normal;font-family:Menlo,'DejaVu Sans Mono',consolas,'Courier New',monospace\">Epoch 0349|Val loss 6.982784e-02|Train loss 9.978695e-02|LR 0.00013|\n",
       "</pre>\n"
      ],
      "text/plain": [
       "Epoch 0349|Val loss 6.982784e-02|Train loss 9.978695e-02|LR 0.00013|\n"
      ]
     },
     "metadata": {},
     "output_type": "display_data"
    },
    {
     "data": {
      "text/html": [
       "<pre style=\"white-space:pre;overflow-x:auto;line-height:normal;font-family:Menlo,'DejaVu Sans Mono',consolas,'Courier New',monospace\">Epoch 0350|Val loss 8.761254e-02|Train loss 9.899614e-02|LR 0.00013|\n",
       "</pre>\n"
      ],
      "text/plain": [
       "Epoch 0350|Val loss 8.761254e-02|Train loss 9.899614e-02|LR 0.00013|\n"
      ]
     },
     "metadata": {},
     "output_type": "display_data"
    },
    {
     "data": {
      "text/html": [
       "<pre style=\"white-space:pre;overflow-x:auto;line-height:normal;font-family:Menlo,'DejaVu Sans Mono',consolas,'Courier New',monospace\">EarlyStopping counter: 10 out of 20\n",
       "</pre>\n"
      ],
      "text/plain": [
       "EarlyStopping counter: 10 out of 20\n"
      ]
     },
     "metadata": {},
     "output_type": "display_data"
    },
    {
     "data": {
      "text/html": [
       "<pre style=\"white-space:pre;overflow-x:auto;line-height:normal;font-family:Menlo,'DejaVu Sans Mono',consolas,'Courier New',monospace\">Epoch 0351|Val loss 6.788415e-02|Train loss 1.015352e-01|LR 0.00013|\n",
       "</pre>\n"
      ],
      "text/plain": [
       "Epoch 0351|Val loss 6.788415e-02|Train loss 1.015352e-01|LR 0.00013|\n"
      ]
     },
     "metadata": {},
     "output_type": "display_data"
    },
    {
     "data": {
      "text/html": [
       "<pre style=\"white-space:pre;overflow-x:auto;line-height:normal;font-family:Menlo,'DejaVu Sans Mono',consolas,'Courier New',monospace\">Epoch 0352|Val loss 7.605220e-02|Train loss 1.000775e-01|LR 0.00013|\n",
       "</pre>\n"
      ],
      "text/plain": [
       "Epoch 0352|Val loss 7.605220e-02|Train loss 1.000775e-01|LR 0.00013|\n"
      ]
     },
     "metadata": {},
     "output_type": "display_data"
    },
    {
     "data": {
      "text/html": [
       "<pre style=\"white-space:pre;overflow-x:auto;line-height:normal;font-family:Menlo,'DejaVu Sans Mono',consolas,'Courier New',monospace\">Epoch 0353|Val loss 7.547935e-02|Train loss 1.016060e-01|LR 0.00013|\n",
       "</pre>\n"
      ],
      "text/plain": [
       "Epoch 0353|Val loss 7.547935e-02|Train loss 1.016060e-01|LR 0.00013|\n"
      ]
     },
     "metadata": {},
     "output_type": "display_data"
    },
    {
     "data": {
      "text/html": [
       "<pre style=\"white-space:pre;overflow-x:auto;line-height:normal;font-family:Menlo,'DejaVu Sans Mono',consolas,'Courier New',monospace\">Epoch 0354|Val loss 7.805797e-02|Train loss 9.947234e-02|LR 0.00013|\n",
       "</pre>\n"
      ],
      "text/plain": [
       "Epoch 0354|Val loss 7.805797e-02|Train loss 9.947234e-02|LR 0.00013|\n"
      ]
     },
     "metadata": {},
     "output_type": "display_data"
    },
    {
     "data": {
      "text/html": [
       "<pre style=\"white-space:pre;overflow-x:auto;line-height:normal;font-family:Menlo,'DejaVu Sans Mono',consolas,'Courier New',monospace\">Epoch 0355|Val loss 7.464116e-02|Train loss 1.024748e-01|LR 0.00013|\n",
       "</pre>\n"
      ],
      "text/plain": [
       "Epoch 0355|Val loss 7.464116e-02|Train loss 1.024748e-01|LR 0.00013|\n"
      ]
     },
     "metadata": {},
     "output_type": "display_data"
    },
    {
     "data": {
      "text/html": [
       "<pre style=\"white-space:pre;overflow-x:auto;line-height:normal;font-family:Menlo,'DejaVu Sans Mono',consolas,'Courier New',monospace\">Epoch 0356|Val loss 8.634814e-02|Train loss 9.919622e-02|LR 0.00013|\n",
       "</pre>\n"
      ],
      "text/plain": [
       "Epoch 0356|Val loss 8.634814e-02|Train loss 9.919622e-02|LR 0.00013|\n"
      ]
     },
     "metadata": {},
     "output_type": "display_data"
    },
    {
     "data": {
      "text/html": [
       "<pre style=\"white-space:pre;overflow-x:auto;line-height:normal;font-family:Menlo,'DejaVu Sans Mono',consolas,'Courier New',monospace\">Epoch 0357|Val loss 7.153330e-02|Train loss 1.016130e-01|LR 0.00013|\n",
       "</pre>\n"
      ],
      "text/plain": [
       "Epoch 0357|Val loss 7.153330e-02|Train loss 1.016130e-01|LR 0.00013|\n"
      ]
     },
     "metadata": {},
     "output_type": "display_data"
    },
    {
     "data": {
      "text/html": [
       "<pre style=\"white-space:pre;overflow-x:auto;line-height:normal;font-family:Menlo,'DejaVu Sans Mono',consolas,'Courier New',monospace\">Epoch 0358|Val loss 7.667149e-02|Train loss 1.008484e-01|LR 0.00013|\n",
       "</pre>\n"
      ],
      "text/plain": [
       "Epoch 0358|Val loss 7.667149e-02|Train loss 1.008484e-01|LR 0.00013|\n"
      ]
     },
     "metadata": {},
     "output_type": "display_data"
    },
    {
     "data": {
      "text/html": [
       "<pre style=\"white-space:pre;overflow-x:auto;line-height:normal;font-family:Menlo,'DejaVu Sans Mono',consolas,'Courier New',monospace\">Epoch 0359|Val loss 6.541398e-02|Train loss 1.012254e-01|LR 0.00013|\n",
       "</pre>\n"
      ],
      "text/plain": [
       "Epoch 0359|Val loss 6.541398e-02|Train loss 1.012254e-01|LR 0.00013|\n"
      ]
     },
     "metadata": {},
     "output_type": "display_data"
    },
    {
     "data": {
      "text/html": [
       "<pre style=\"white-space:pre;overflow-x:auto;line-height:normal;font-family:Menlo,'DejaVu Sans Mono',consolas,'Courier New',monospace\">Epoch 0360|Val loss 6.961586e-02|Train loss 1.005352e-01|LR 0.00013|\n",
       "</pre>\n"
      ],
      "text/plain": [
       "Epoch 0360|Val loss 6.961586e-02|Train loss 1.005352e-01|LR 0.00013|\n"
      ]
     },
     "metadata": {},
     "output_type": "display_data"
    },
    {
     "data": {
      "text/html": [
       "<pre style=\"white-space:pre;overflow-x:auto;line-height:normal;font-family:Menlo,'DejaVu Sans Mono',consolas,'Courier New',monospace\">EarlyStopping counter: 11 out of 20\n",
       "</pre>\n"
      ],
      "text/plain": [
       "EarlyStopping counter: 11 out of 20\n"
      ]
     },
     "metadata": {},
     "output_type": "display_data"
    },
    {
     "data": {
      "text/html": [
       "<pre style=\"white-space:pre;overflow-x:auto;line-height:normal;font-family:Menlo,'DejaVu Sans Mono',consolas,'Courier New',monospace\">Epoch 0361|Val loss 6.485928e-02|Train loss 9.999375e-02|LR 0.00013|\n",
       "</pre>\n"
      ],
      "text/plain": [
       "Epoch 0361|Val loss 6.485928e-02|Train loss 9.999375e-02|LR 0.00013|\n"
      ]
     },
     "metadata": {},
     "output_type": "display_data"
    },
    {
     "data": {
      "text/html": [
       "<pre style=\"white-space:pre;overflow-x:auto;line-height:normal;font-family:Menlo,'DejaVu Sans Mono',consolas,'Courier New',monospace\">Epoch 0362|Val loss 7.190611e-02|Train loss 9.957776e-02|LR 0.00013|\n",
       "</pre>\n"
      ],
      "text/plain": [
       "Epoch 0362|Val loss 7.190611e-02|Train loss 9.957776e-02|LR 0.00013|\n"
      ]
     },
     "metadata": {},
     "output_type": "display_data"
    },
    {
     "data": {
      "text/html": [
       "<pre style=\"white-space:pre;overflow-x:auto;line-height:normal;font-family:Menlo,'DejaVu Sans Mono',consolas,'Courier New',monospace\">Epoch 0363|Val loss 8.265280e-02|Train loss 9.994040e-02|LR 0.00013|\n",
       "</pre>\n"
      ],
      "text/plain": [
       "Epoch 0363|Val loss 8.265280e-02|Train loss 9.994040e-02|LR 0.00013|\n"
      ]
     },
     "metadata": {},
     "output_type": "display_data"
    },
    {
     "data": {
      "text/html": [
       "<pre style=\"white-space:pre;overflow-x:auto;line-height:normal;font-family:Menlo,'DejaVu Sans Mono',consolas,'Courier New',monospace\">Epoch 0364|Val loss 7.353497e-02|Train loss 9.929850e-02|LR 0.00013|\n",
       "</pre>\n"
      ],
      "text/plain": [
       "Epoch 0364|Val loss 7.353497e-02|Train loss 9.929850e-02|LR 0.00013|\n"
      ]
     },
     "metadata": {},
     "output_type": "display_data"
    },
    {
     "data": {
      "text/html": [
       "<pre style=\"white-space:pre;overflow-x:auto;line-height:normal;font-family:Menlo,'DejaVu Sans Mono',consolas,'Courier New',monospace\">Epoch 0365|Val loss 6.868079e-02|Train loss 1.016230e-01|LR 0.00013|\n",
       "</pre>\n"
      ],
      "text/plain": [
       "Epoch 0365|Val loss 6.868079e-02|Train loss 1.016230e-01|LR 0.00013|\n"
      ]
     },
     "metadata": {},
     "output_type": "display_data"
    },
    {
     "data": {
      "text/html": [
       "<pre style=\"white-space:pre;overflow-x:auto;line-height:normal;font-family:Menlo,'DejaVu Sans Mono',consolas,'Courier New',monospace\">Epoch 0366|Val loss 6.945140e-02|Train loss 1.013596e-01|LR 0.00013|\n",
       "</pre>\n"
      ],
      "text/plain": [
       "Epoch 0366|Val loss 6.945140e-02|Train loss 1.013596e-01|LR 0.00013|\n"
      ]
     },
     "metadata": {},
     "output_type": "display_data"
    },
    {
     "data": {
      "text/html": [
       "<pre style=\"white-space:pre;overflow-x:auto;line-height:normal;font-family:Menlo,'DejaVu Sans Mono',consolas,'Courier New',monospace\">Epoch 0367|Val loss 7.173849e-02|Train loss 1.005103e-01|LR 0.00013|\n",
       "</pre>\n"
      ],
      "text/plain": [
       "Epoch 0367|Val loss 7.173849e-02|Train loss 1.005103e-01|LR 0.00013|\n"
      ]
     },
     "metadata": {},
     "output_type": "display_data"
    },
    {
     "data": {
      "text/html": [
       "<pre style=\"white-space:pre;overflow-x:auto;line-height:normal;font-family:Menlo,'DejaVu Sans Mono',consolas,'Courier New',monospace\">Epoch 0368|Val loss 7.005250e-02|Train loss 9.997262e-02|LR 0.00013|\n",
       "</pre>\n"
      ],
      "text/plain": [
       "Epoch 0368|Val loss 7.005250e-02|Train loss 9.997262e-02|LR 0.00013|\n"
      ]
     },
     "metadata": {},
     "output_type": "display_data"
    },
    {
     "data": {
      "text/html": [
       "<pre style=\"white-space:pre;overflow-x:auto;line-height:normal;font-family:Menlo,'DejaVu Sans Mono',consolas,'Courier New',monospace\">Epoch 0369|Val loss 7.349334e-02|Train loss 1.002733e-01|LR 0.00013|\n",
       "</pre>\n"
      ],
      "text/plain": [
       "Epoch 0369|Val loss 7.349334e-02|Train loss 1.002733e-01|LR 0.00013|\n"
      ]
     },
     "metadata": {},
     "output_type": "display_data"
    },
    {
     "data": {
      "text/html": [
       "<pre style=\"white-space:pre;overflow-x:auto;line-height:normal;font-family:Menlo,'DejaVu Sans Mono',consolas,'Courier New',monospace\">Epoch 0370|Val loss 6.978830e-02|Train loss 9.868227e-02|LR 0.00013|\n",
       "</pre>\n"
      ],
      "text/plain": [
       "Epoch 0370|Val loss 6.978830e-02|Train loss 9.868227e-02|LR 0.00013|\n"
      ]
     },
     "metadata": {},
     "output_type": "display_data"
    },
    {
     "data": {
      "text/html": [
       "<pre style=\"white-space:pre;overflow-x:auto;line-height:normal;font-family:Menlo,'DejaVu Sans Mono',consolas,'Courier New',monospace\">EarlyStopping counter: 12 out of 20\n",
       "</pre>\n"
      ],
      "text/plain": [
       "EarlyStopping counter: 12 out of 20\n"
      ]
     },
     "metadata": {},
     "output_type": "display_data"
    },
    {
     "data": {
      "text/html": [
       "<pre style=\"white-space:pre;overflow-x:auto;line-height:normal;font-family:Menlo,'DejaVu Sans Mono',consolas,'Courier New',monospace\">Epoch 0371|Val loss 6.198831e-02|Train loss 9.903189e-02|LR 0.00013|\n",
       "</pre>\n"
      ],
      "text/plain": [
       "Epoch 0371|Val loss 6.198831e-02|Train loss 9.903189e-02|LR 0.00013|\n"
      ]
     },
     "metadata": {},
     "output_type": "display_data"
    },
    {
     "data": {
      "text/html": [
       "<pre style=\"white-space:pre;overflow-x:auto;line-height:normal;font-family:Menlo,'DejaVu Sans Mono',consolas,'Courier New',monospace\">Epoch 0372|Val loss 6.764887e-02|Train loss 1.008629e-01|LR 0.00013|\n",
       "</pre>\n"
      ],
      "text/plain": [
       "Epoch 0372|Val loss 6.764887e-02|Train loss 1.008629e-01|LR 0.00013|\n"
      ]
     },
     "metadata": {},
     "output_type": "display_data"
    },
    {
     "data": {
      "text/html": [
       "<pre style=\"white-space:pre;overflow-x:auto;line-height:normal;font-family:Menlo,'DejaVu Sans Mono',consolas,'Courier New',monospace\">Epoch 0373|Val loss 6.704616e-02|Train loss 9.858228e-02|LR 0.00013|\n",
       "</pre>\n"
      ],
      "text/plain": [
       "Epoch 0373|Val loss 6.704616e-02|Train loss 9.858228e-02|LR 0.00013|\n"
      ]
     },
     "metadata": {},
     "output_type": "display_data"
    },
    {
     "data": {
      "text/html": [
       "<pre style=\"white-space:pre;overflow-x:auto;line-height:normal;font-family:Menlo,'DejaVu Sans Mono',consolas,'Courier New',monospace\">Epoch 0374|Val loss 7.138525e-02|Train loss 9.953464e-02|LR 0.00013|\n",
       "</pre>\n"
      ],
      "text/plain": [
       "Epoch 0374|Val loss 7.138525e-02|Train loss 9.953464e-02|LR 0.00013|\n"
      ]
     },
     "metadata": {},
     "output_type": "display_data"
    },
    {
     "data": {
      "text/html": [
       "<pre style=\"white-space:pre;overflow-x:auto;line-height:normal;font-family:Menlo,'DejaVu Sans Mono',consolas,'Courier New',monospace\">Epoch 0375|Val loss 6.707000e-02|Train loss 1.013767e-01|LR 0.00013|\n",
       "</pre>\n"
      ],
      "text/plain": [
       "Epoch 0375|Val loss 6.707000e-02|Train loss 1.013767e-01|LR 0.00013|\n"
      ]
     },
     "metadata": {},
     "output_type": "display_data"
    },
    {
     "data": {
      "text/html": [
       "<pre style=\"white-space:pre;overflow-x:auto;line-height:normal;font-family:Menlo,'DejaVu Sans Mono',consolas,'Courier New',monospace\">Epoch 0376|Val loss 7.294865e-02|Train loss 1.003246e-01|LR 0.00013|\n",
       "</pre>\n"
      ],
      "text/plain": [
       "Epoch 0376|Val loss 7.294865e-02|Train loss 1.003246e-01|LR 0.00013|\n"
      ]
     },
     "metadata": {},
     "output_type": "display_data"
    },
    {
     "data": {
      "text/html": [
       "<pre style=\"white-space:pre;overflow-x:auto;line-height:normal;font-family:Menlo,'DejaVu Sans Mono',consolas,'Courier New',monospace\">Epoch 0377|Val loss 6.666079e-02|Train loss 9.979685e-02|LR 0.00013|\n",
       "</pre>\n"
      ],
      "text/plain": [
       "Epoch 0377|Val loss 6.666079e-02|Train loss 9.979685e-02|LR 0.00013|\n"
      ]
     },
     "metadata": {},
     "output_type": "display_data"
    },
    {
     "data": {
      "text/html": [
       "<pre style=\"white-space:pre;overflow-x:auto;line-height:normal;font-family:Menlo,'DejaVu Sans Mono',consolas,'Courier New',monospace\">Epoch 0378|Val loss 6.992978e-02|Train loss 1.015295e-01|LR 0.00013|\n",
       "</pre>\n"
      ],
      "text/plain": [
       "Epoch 0378|Val loss 6.992978e-02|Train loss 1.015295e-01|LR 0.00013|\n"
      ]
     },
     "metadata": {},
     "output_type": "display_data"
    },
    {
     "data": {
      "text/html": [
       "<pre style=\"white-space:pre;overflow-x:auto;line-height:normal;font-family:Menlo,'DejaVu Sans Mono',consolas,'Courier New',monospace\">Epoch 0379|Val loss 6.485766e-02|Train loss 1.017629e-01|LR 0.00013|\n",
       "</pre>\n"
      ],
      "text/plain": [
       "Epoch 0379|Val loss 6.485766e-02|Train loss 1.017629e-01|LR 0.00013|\n"
      ]
     },
     "metadata": {},
     "output_type": "display_data"
    },
    {
     "data": {
      "text/html": [
       "<pre style=\"white-space:pre;overflow-x:auto;line-height:normal;font-family:Menlo,'DejaVu Sans Mono',consolas,'Courier New',monospace\">Epoch 0380|Val loss 6.877095e-02|Train loss 1.012868e-01|LR 0.00013|\n",
       "</pre>\n"
      ],
      "text/plain": [
       "Epoch 0380|Val loss 6.877095e-02|Train loss 1.012868e-01|LR 0.00013|\n"
      ]
     },
     "metadata": {},
     "output_type": "display_data"
    },
    {
     "data": {
      "text/html": [
       "<pre style=\"white-space:pre;overflow-x:auto;line-height:normal;font-family:Menlo,'DejaVu Sans Mono',consolas,'Courier New',monospace\">Val loss decreased (0.07 to 0.07). Model saved\n",
       "</pre>\n"
      ],
      "text/plain": [
       "Val loss decreased (0.07 to 0.07). Model saved\n"
      ]
     },
     "metadata": {},
     "output_type": "display_data"
    },
    {
     "data": {
      "text/html": [
       "<pre style=\"white-space:pre;overflow-x:auto;line-height:normal;font-family:Menlo,'DejaVu Sans Mono',consolas,'Courier New',monospace\">Epoch 0381|Val loss 6.638368e-02|Train loss 1.000169e-01|LR 0.00013|\n",
       "</pre>\n"
      ],
      "text/plain": [
       "Epoch 0381|Val loss 6.638368e-02|Train loss 1.000169e-01|LR 0.00013|\n"
      ]
     },
     "metadata": {},
     "output_type": "display_data"
    },
    {
     "data": {
      "text/html": [
       "<pre style=\"white-space:pre;overflow-x:auto;line-height:normal;font-family:Menlo,'DejaVu Sans Mono',consolas,'Courier New',monospace\">Epoch 0382|Val loss 7.318909e-02|Train loss 1.024982e-01|LR 0.00013|\n",
       "</pre>\n"
      ],
      "text/plain": [
       "Epoch 0382|Val loss 7.318909e-02|Train loss 1.024982e-01|LR 0.00013|\n"
      ]
     },
     "metadata": {},
     "output_type": "display_data"
    },
    {
     "data": {
      "text/html": [
       "<pre style=\"white-space:pre;overflow-x:auto;line-height:normal;font-family:Menlo,'DejaVu Sans Mono',consolas,'Courier New',monospace\">Epoch 0383|Val loss 6.964448e-02|Train loss 9.830849e-02|LR 0.00013|\n",
       "</pre>\n"
      ],
      "text/plain": [
       "Epoch 0383|Val loss 6.964448e-02|Train loss 9.830849e-02|LR 0.00013|\n"
      ]
     },
     "metadata": {},
     "output_type": "display_data"
    },
    {
     "data": {
      "text/html": [
       "<pre style=\"white-space:pre;overflow-x:auto;line-height:normal;font-family:Menlo,'DejaVu Sans Mono',consolas,'Courier New',monospace\">Epoch 0384|Val loss 7.142457e-02|Train loss 1.008242e-01|LR 0.00013|\n",
       "</pre>\n"
      ],
      "text/plain": [
       "Epoch 0384|Val loss 7.142457e-02|Train loss 1.008242e-01|LR 0.00013|\n"
      ]
     },
     "metadata": {},
     "output_type": "display_data"
    },
    {
     "data": {
      "text/html": [
       "<pre style=\"white-space:pre;overflow-x:auto;line-height:normal;font-family:Menlo,'DejaVu Sans Mono',consolas,'Courier New',monospace\">Epoch 0385|Val loss 6.980701e-02|Train loss 9.968158e-02|LR 0.00013|\n",
       "</pre>\n"
      ],
      "text/plain": [
       "Epoch 0385|Val loss 6.980701e-02|Train loss 9.968158e-02|LR 0.00013|\n"
      ]
     },
     "metadata": {},
     "output_type": "display_data"
    },
    {
     "data": {
      "text/html": [
       "<pre style=\"white-space:pre;overflow-x:auto;line-height:normal;font-family:Menlo,'DejaVu Sans Mono',consolas,'Courier New',monospace\">Epoch 0386|Val loss 6.818130e-02|Train loss 1.002039e-01|LR 0.00013|\n",
       "</pre>\n"
      ],
      "text/plain": [
       "Epoch 0386|Val loss 6.818130e-02|Train loss 1.002039e-01|LR 0.00013|\n"
      ]
     },
     "metadata": {},
     "output_type": "display_data"
    },
    {
     "data": {
      "text/html": [
       "<pre style=\"white-space:pre;overflow-x:auto;line-height:normal;font-family:Menlo,'DejaVu Sans Mono',consolas,'Courier New',monospace\">Epoch 0387|Val loss 6.911651e-02|Train loss 9.991108e-02|LR 0.00013|\n",
       "</pre>\n"
      ],
      "text/plain": [
       "Epoch 0387|Val loss 6.911651e-02|Train loss 9.991108e-02|LR 0.00013|\n"
      ]
     },
     "metadata": {},
     "output_type": "display_data"
    },
    {
     "data": {
      "text/html": [
       "<pre style=\"white-space:pre;overflow-x:auto;line-height:normal;font-family:Menlo,'DejaVu Sans Mono',consolas,'Courier New',monospace\">Epoch 0388|Val loss 7.051762e-02|Train loss 9.926530e-02|LR 0.00013|\n",
       "</pre>\n"
      ],
      "text/plain": [
       "Epoch 0388|Val loss 7.051762e-02|Train loss 9.926530e-02|LR 0.00013|\n"
      ]
     },
     "metadata": {},
     "output_type": "display_data"
    },
    {
     "data": {
      "text/html": [
       "<pre style=\"white-space:pre;overflow-x:auto;line-height:normal;font-family:Menlo,'DejaVu Sans Mono',consolas,'Courier New',monospace\">Epoch 0389|Val loss 6.543996e-02|Train loss 9.870903e-02|LR 0.00013|\n",
       "</pre>\n"
      ],
      "text/plain": [
       "Epoch 0389|Val loss 6.543996e-02|Train loss 9.870903e-02|LR 0.00013|\n"
      ]
     },
     "metadata": {},
     "output_type": "display_data"
    },
    {
     "data": {
      "text/html": [
       "<pre style=\"white-space:pre;overflow-x:auto;line-height:normal;font-family:Menlo,'DejaVu Sans Mono',consolas,'Courier New',monospace\">Epoch 0390|Val loss 7.247578e-02|Train loss 9.969351e-02|LR 0.00013|\n",
       "</pre>\n"
      ],
      "text/plain": [
       "Epoch 0390|Val loss 7.247578e-02|Train loss 9.969351e-02|LR 0.00013|\n"
      ]
     },
     "metadata": {},
     "output_type": "display_data"
    },
    {
     "data": {
      "text/html": [
       "<pre style=\"white-space:pre;overflow-x:auto;line-height:normal;font-family:Menlo,'DejaVu Sans Mono',consolas,'Courier New',monospace\">EarlyStopping counter: 1 out of 20\n",
       "</pre>\n"
      ],
      "text/plain": [
       "EarlyStopping counter: 1 out of 20\n"
      ]
     },
     "metadata": {},
     "output_type": "display_data"
    },
    {
     "data": {
      "text/html": [
       "<pre style=\"white-space:pre;overflow-x:auto;line-height:normal;font-family:Menlo,'DejaVu Sans Mono',consolas,'Courier New',monospace\">Epoch 0391|Val loss 7.410759e-02|Train loss 1.012544e-01|LR 0.00013|\n",
       "</pre>\n"
      ],
      "text/plain": [
       "Epoch 0391|Val loss 7.410759e-02|Train loss 1.012544e-01|LR 0.00013|\n"
      ]
     },
     "metadata": {},
     "output_type": "display_data"
    },
    {
     "data": {
      "text/html": [
       "<pre style=\"white-space:pre;overflow-x:auto;line-height:normal;font-family:Menlo,'DejaVu Sans Mono',consolas,'Courier New',monospace\">Epoch 0392|Val loss 7.192183e-02|Train loss 1.006881e-01|LR 0.00013|\n",
       "</pre>\n"
      ],
      "text/plain": [
       "Epoch 0392|Val loss 7.192183e-02|Train loss 1.006881e-01|LR 0.00013|\n"
      ]
     },
     "metadata": {},
     "output_type": "display_data"
    },
    {
     "data": {
      "text/html": [
       "<pre style=\"white-space:pre;overflow-x:auto;line-height:normal;font-family:Menlo,'DejaVu Sans Mono',consolas,'Courier New',monospace\">Epoch 0393|Val loss 6.300762e-02|Train loss 1.017157e-01|LR 0.00013|\n",
       "</pre>\n"
      ],
      "text/plain": [
       "Epoch 0393|Val loss 6.300762e-02|Train loss 1.017157e-01|LR 0.00013|\n"
      ]
     },
     "metadata": {},
     "output_type": "display_data"
    },
    {
     "data": {
      "text/html": [
       "<pre style=\"white-space:pre;overflow-x:auto;line-height:normal;font-family:Menlo,'DejaVu Sans Mono',consolas,'Courier New',monospace\">Epoch 0394|Val loss 7.083517e-02|Train loss 9.884885e-02|LR 0.00013|\n",
       "</pre>\n"
      ],
      "text/plain": [
       "Epoch 0394|Val loss 7.083517e-02|Train loss 9.884885e-02|LR 0.00013|\n"
      ]
     },
     "metadata": {},
     "output_type": "display_data"
    },
    {
     "data": {
      "text/html": [
       "<pre style=\"white-space:pre;overflow-x:auto;line-height:normal;font-family:Menlo,'DejaVu Sans Mono',consolas,'Courier New',monospace\">Epoch 0395|Val loss 6.723563e-02|Train loss 1.002112e-01|LR 0.00013|\n",
       "</pre>\n"
      ],
      "text/plain": [
       "Epoch 0395|Val loss 6.723563e-02|Train loss 1.002112e-01|LR 0.00013|\n"
      ]
     },
     "metadata": {},
     "output_type": "display_data"
    },
    {
     "data": {
      "text/html": [
       "<pre style=\"white-space:pre;overflow-x:auto;line-height:normal;font-family:Menlo,'DejaVu Sans Mono',consolas,'Courier New',monospace\">Epoch 0396|Val loss 6.931350e-02|Train loss 9.785414e-02|LR 0.00013|\n",
       "</pre>\n"
      ],
      "text/plain": [
       "Epoch 0396|Val loss 6.931350e-02|Train loss 9.785414e-02|LR 0.00013|\n"
      ]
     },
     "metadata": {},
     "output_type": "display_data"
    },
    {
     "data": {
      "text/html": [
       "<pre style=\"white-space:pre;overflow-x:auto;line-height:normal;font-family:Menlo,'DejaVu Sans Mono',consolas,'Courier New',monospace\">Epoch 0397|Val loss 6.924937e-02|Train loss 9.624655e-02|LR 0.00013|\n",
       "</pre>\n"
      ],
      "text/plain": [
       "Epoch 0397|Val loss 6.924937e-02|Train loss 9.624655e-02|LR 0.00013|\n"
      ]
     },
     "metadata": {},
     "output_type": "display_data"
    },
    {
     "data": {
      "text/html": [
       "<pre style=\"white-space:pre;overflow-x:auto;line-height:normal;font-family:Menlo,'DejaVu Sans Mono',consolas,'Courier New',monospace\">Epoch 0398|Val loss 7.324623e-02|Train loss 9.773754e-02|LR 0.00013|\n",
       "</pre>\n"
      ],
      "text/plain": [
       "Epoch 0398|Val loss 7.324623e-02|Train loss 9.773754e-02|LR 0.00013|\n"
      ]
     },
     "metadata": {},
     "output_type": "display_data"
    },
    {
     "data": {
      "text/html": [
       "<pre style=\"white-space:pre;overflow-x:auto;line-height:normal;font-family:Menlo,'DejaVu Sans Mono',consolas,'Courier New',monospace\">Epoch 0399|Val loss 6.531135e-02|Train loss 9.956919e-02|LR 0.00013|\n",
       "</pre>\n"
      ],
      "text/plain": [
       "Epoch 0399|Val loss 6.531135e-02|Train loss 9.956919e-02|LR 0.00013|\n"
      ]
     },
     "metadata": {},
     "output_type": "display_data"
    },
    {
     "data": {
      "text/html": [
       "<pre style=\"white-space:pre;overflow-x:auto;line-height:normal;font-family:Menlo,'DejaVu Sans Mono',consolas,'Courier New',monospace\">Epoch 0400|Val loss 7.400555e-02|Train loss 1.024798e-01|LR 0.00013|\n",
       "</pre>\n"
      ],
      "text/plain": [
       "Epoch 0400|Val loss 7.400555e-02|Train loss 1.024798e-01|LR 0.00013|\n"
      ]
     },
     "metadata": {},
     "output_type": "display_data"
    },
    {
     "data": {
      "text/html": [
       "<pre style=\"white-space:pre;overflow-x:auto;line-height:normal;font-family:Menlo,'DejaVu Sans Mono',consolas,'Courier New',monospace\">EarlyStopping counter: 2 out of 20\n",
       "</pre>\n"
      ],
      "text/plain": [
       "EarlyStopping counter: 2 out of 20\n"
      ]
     },
     "metadata": {},
     "output_type": "display_data"
    },
    {
     "data": {
      "text/html": [
       "<pre style=\"white-space:pre;overflow-x:auto;line-height:normal;font-family:Menlo,'DejaVu Sans Mono',consolas,'Courier New',monospace\">Epoch 0401|Val loss 7.475674e-02|Train loss 9.971741e-02|LR 0.00013|\n",
       "</pre>\n"
      ],
      "text/plain": [
       "Epoch 0401|Val loss 7.475674e-02|Train loss 9.971741e-02|LR 0.00013|\n"
      ]
     },
     "metadata": {},
     "output_type": "display_data"
    },
    {
     "data": {
      "text/html": [
       "<pre style=\"white-space:pre;overflow-x:auto;line-height:normal;font-family:Menlo,'DejaVu Sans Mono',consolas,'Courier New',monospace\">Epoch 0402|Val loss 6.927336e-02|Train loss 9.824359e-02|LR 0.00013|\n",
       "</pre>\n"
      ],
      "text/plain": [
       "Epoch 0402|Val loss 6.927336e-02|Train loss 9.824359e-02|LR 0.00013|\n"
      ]
     },
     "metadata": {},
     "output_type": "display_data"
    },
    {
     "data": {
      "text/html": [
       "<pre style=\"white-space:pre;overflow-x:auto;line-height:normal;font-family:Menlo,'DejaVu Sans Mono',consolas,'Courier New',monospace\">Epoch 0403|Val loss 7.182581e-02|Train loss 9.816527e-02|LR 0.00013|\n",
       "</pre>\n"
      ],
      "text/plain": [
       "Epoch 0403|Val loss 7.182581e-02|Train loss 9.816527e-02|LR 0.00013|\n"
      ]
     },
     "metadata": {},
     "output_type": "display_data"
    },
    {
     "data": {
      "text/html": [
       "<pre style=\"white-space:pre;overflow-x:auto;line-height:normal;font-family:Menlo,'DejaVu Sans Mono',consolas,'Courier New',monospace\">Epoch 0404|Val loss 6.987156e-02|Train loss 9.909830e-02|LR 0.00013|\n",
       "</pre>\n"
      ],
      "text/plain": [
       "Epoch 0404|Val loss 6.987156e-02|Train loss 9.909830e-02|LR 0.00013|\n"
      ]
     },
     "metadata": {},
     "output_type": "display_data"
    },
    {
     "data": {
      "text/html": [
       "<pre style=\"white-space:pre;overflow-x:auto;line-height:normal;font-family:Menlo,'DejaVu Sans Mono',consolas,'Courier New',monospace\">Epoch 0405|Val loss 7.234730e-02|Train loss 9.841289e-02|LR 0.00013|\n",
       "</pre>\n"
      ],
      "text/plain": [
       "Epoch 0405|Val loss 7.234730e-02|Train loss 9.841289e-02|LR 0.00013|\n"
      ]
     },
     "metadata": {},
     "output_type": "display_data"
    },
    {
     "data": {
      "text/html": [
       "<pre style=\"white-space:pre;overflow-x:auto;line-height:normal;font-family:Menlo,'DejaVu Sans Mono',consolas,'Courier New',monospace\">Epoch 0406|Val loss 8.628256e-02|Train loss 9.985754e-02|LR 0.00013|\n",
       "</pre>\n"
      ],
      "text/plain": [
       "Epoch 0406|Val loss 8.628256e-02|Train loss 9.985754e-02|LR 0.00013|\n"
      ]
     },
     "metadata": {},
     "output_type": "display_data"
    },
    {
     "data": {
      "text/html": [
       "<pre style=\"white-space:pre;overflow-x:auto;line-height:normal;font-family:Menlo,'DejaVu Sans Mono',consolas,'Courier New',monospace\">Epoch 0407|Val loss 6.731542e-02|Train loss 9.969158e-02|LR 0.00013|\n",
       "</pre>\n"
      ],
      "text/plain": [
       "Epoch 0407|Val loss 6.731542e-02|Train loss 9.969158e-02|LR 0.00013|\n"
      ]
     },
     "metadata": {},
     "output_type": "display_data"
    },
    {
     "data": {
      "text/html": [
       "<pre style=\"white-space:pre;overflow-x:auto;line-height:normal;font-family:Menlo,'DejaVu Sans Mono',consolas,'Courier New',monospace\">Epoch 0408|Val loss 7.084066e-02|Train loss 9.947388e-02|LR 0.00013|\n",
       "</pre>\n"
      ],
      "text/plain": [
       "Epoch 0408|Val loss 7.084066e-02|Train loss 9.947388e-02|LR 0.00013|\n"
      ]
     },
     "metadata": {},
     "output_type": "display_data"
    },
    {
     "data": {
      "text/html": [
       "<pre style=\"white-space:pre;overflow-x:auto;line-height:normal;font-family:Menlo,'DejaVu Sans Mono',consolas,'Courier New',monospace\">Epoch 0409|Val loss 6.544911e-02|Train loss 9.705281e-02|LR 0.00013|\n",
       "</pre>\n"
      ],
      "text/plain": [
       "Epoch 0409|Val loss 6.544911e-02|Train loss 9.705281e-02|LR 0.00013|\n"
      ]
     },
     "metadata": {},
     "output_type": "display_data"
    },
    {
     "data": {
      "text/html": [
       "<pre style=\"white-space:pre;overflow-x:auto;line-height:normal;font-family:Menlo,'DejaVu Sans Mono',consolas,'Courier New',monospace\">Epoch 0410|Val loss 7.000885e-02|Train loss 9.714663e-02|LR 0.00013|\n",
       "</pre>\n"
      ],
      "text/plain": [
       "Epoch 0410|Val loss 7.000885e-02|Train loss 9.714663e-02|LR 0.00013|\n"
      ]
     },
     "metadata": {},
     "output_type": "display_data"
    },
    {
     "data": {
      "text/html": [
       "<pre style=\"white-space:pre;overflow-x:auto;line-height:normal;font-family:Menlo,'DejaVu Sans Mono',consolas,'Courier New',monospace\">EarlyStopping counter: 3 out of 20\n",
       "</pre>\n"
      ],
      "text/plain": [
       "EarlyStopping counter: 3 out of 20\n"
      ]
     },
     "metadata": {},
     "output_type": "display_data"
    },
    {
     "data": {
      "text/html": [
       "<pre style=\"white-space:pre;overflow-x:auto;line-height:normal;font-family:Menlo,'DejaVu Sans Mono',consolas,'Courier New',monospace\">Epoch 0411|Val loss 6.546333e-02|Train loss 9.866536e-02|LR 0.00013|\n",
       "</pre>\n"
      ],
      "text/plain": [
       "Epoch 0411|Val loss 6.546333e-02|Train loss 9.866536e-02|LR 0.00013|\n"
      ]
     },
     "metadata": {},
     "output_type": "display_data"
    },
    {
     "data": {
      "text/html": [
       "<pre style=\"white-space:pre;overflow-x:auto;line-height:normal;font-family:Menlo,'DejaVu Sans Mono',consolas,'Courier New',monospace\">Epoch 0412|Val loss 7.011573e-02|Train loss 9.777219e-02|LR 0.00013|\n",
       "</pre>\n"
      ],
      "text/plain": [
       "Epoch 0412|Val loss 7.011573e-02|Train loss 9.777219e-02|LR 0.00013|\n"
      ]
     },
     "metadata": {},
     "output_type": "display_data"
    },
    {
     "data": {
      "text/html": [
       "<pre style=\"white-space:pre;overflow-x:auto;line-height:normal;font-family:Menlo,'DejaVu Sans Mono',consolas,'Courier New',monospace\">Epoch 0413|Val loss 6.713986e-02|Train loss 1.015961e-01|LR 0.00008|\n",
       "</pre>\n"
      ],
      "text/plain": [
       "Epoch 0413|Val loss 6.713986e-02|Train loss 1.015961e-01|LR 0.00008|\n"
      ]
     },
     "metadata": {},
     "output_type": "display_data"
    },
    {
     "data": {
      "text/html": [
       "<pre style=\"white-space:pre;overflow-x:auto;line-height:normal;font-family:Menlo,'DejaVu Sans Mono',consolas,'Courier New',monospace\">Epoch 0414|Val loss 7.011098e-02|Train loss 9.638484e-02|LR 0.00008|\n",
       "</pre>\n"
      ],
      "text/plain": [
       "Epoch 0414|Val loss 7.011098e-02|Train loss 9.638484e-02|LR 0.00008|\n"
      ]
     },
     "metadata": {},
     "output_type": "display_data"
    },
    {
     "data": {
      "text/html": [
       "<pre style=\"white-space:pre;overflow-x:auto;line-height:normal;font-family:Menlo,'DejaVu Sans Mono',consolas,'Courier New',monospace\">Epoch 0415|Val loss 6.628218e-02|Train loss 9.816794e-02|LR 0.00008|\n",
       "</pre>\n"
      ],
      "text/plain": [
       "Epoch 0415|Val loss 6.628218e-02|Train loss 9.816794e-02|LR 0.00008|\n"
      ]
     },
     "metadata": {},
     "output_type": "display_data"
    },
    {
     "data": {
      "text/html": [
       "<pre style=\"white-space:pre;overflow-x:auto;line-height:normal;font-family:Menlo,'DejaVu Sans Mono',consolas,'Courier New',monospace\">Epoch 0416|Val loss 6.867629e-02|Train loss 9.770404e-02|LR 0.00008|\n",
       "</pre>\n"
      ],
      "text/plain": [
       "Epoch 0416|Val loss 6.867629e-02|Train loss 9.770404e-02|LR 0.00008|\n"
      ]
     },
     "metadata": {},
     "output_type": "display_data"
    },
    {
     "data": {
      "text/html": [
       "<pre style=\"white-space:pre;overflow-x:auto;line-height:normal;font-family:Menlo,'DejaVu Sans Mono',consolas,'Courier New',monospace\">Epoch 0417|Val loss 6.827826e-02|Train loss 9.792328e-02|LR 0.00008|\n",
       "</pre>\n"
      ],
      "text/plain": [
       "Epoch 0417|Val loss 6.827826e-02|Train loss 9.792328e-02|LR 0.00008|\n"
      ]
     },
     "metadata": {},
     "output_type": "display_data"
    },
    {
     "data": {
      "text/html": [
       "<pre style=\"white-space:pre;overflow-x:auto;line-height:normal;font-family:Menlo,'DejaVu Sans Mono',consolas,'Courier New',monospace\">Epoch 0418|Val loss 7.019109e-02|Train loss 9.698977e-02|LR 0.00008|\n",
       "</pre>\n"
      ],
      "text/plain": [
       "Epoch 0418|Val loss 7.019109e-02|Train loss 9.698977e-02|LR 0.00008|\n"
      ]
     },
     "metadata": {},
     "output_type": "display_data"
    },
    {
     "data": {
      "text/html": [
       "<pre style=\"white-space:pre;overflow-x:auto;line-height:normal;font-family:Menlo,'DejaVu Sans Mono',consolas,'Courier New',monospace\">Epoch 0419|Val loss 6.944994e-02|Train loss 9.759110e-02|LR 0.00008|\n",
       "</pre>\n"
      ],
      "text/plain": [
       "Epoch 0419|Val loss 6.944994e-02|Train loss 9.759110e-02|LR 0.00008|\n"
      ]
     },
     "metadata": {},
     "output_type": "display_data"
    },
    {
     "data": {
      "text/html": [
       "<pre style=\"white-space:pre;overflow-x:auto;line-height:normal;font-family:Menlo,'DejaVu Sans Mono',consolas,'Courier New',monospace\">Epoch 0420|Val loss 7.033492e-02|Train loss 9.919070e-02|LR 0.00008|\n",
       "</pre>\n"
      ],
      "text/plain": [
       "Epoch 0420|Val loss 7.033492e-02|Train loss 9.919070e-02|LR 0.00008|\n"
      ]
     },
     "metadata": {},
     "output_type": "display_data"
    },
    {
     "data": {
      "text/html": [
       "<pre style=\"white-space:pre;overflow-x:auto;line-height:normal;font-family:Menlo,'DejaVu Sans Mono',consolas,'Courier New',monospace\">EarlyStopping counter: 4 out of 20\n",
       "</pre>\n"
      ],
      "text/plain": [
       "EarlyStopping counter: 4 out of 20\n"
      ]
     },
     "metadata": {},
     "output_type": "display_data"
    },
    {
     "data": {
      "text/html": [
       "<pre style=\"white-space:pre;overflow-x:auto;line-height:normal;font-family:Menlo,'DejaVu Sans Mono',consolas,'Courier New',monospace\">Epoch 0421|Val loss 7.024385e-02|Train loss 9.729658e-02|LR 0.00008|\n",
       "</pre>\n"
      ],
      "text/plain": [
       "Epoch 0421|Val loss 7.024385e-02|Train loss 9.729658e-02|LR 0.00008|\n"
      ]
     },
     "metadata": {},
     "output_type": "display_data"
    },
    {
     "data": {
      "text/html": [
       "<pre style=\"white-space:pre;overflow-x:auto;line-height:normal;font-family:Menlo,'DejaVu Sans Mono',consolas,'Courier New',monospace\">Epoch 0422|Val loss 6.702142e-02|Train loss 9.714245e-02|LR 0.00008|\n",
       "</pre>\n"
      ],
      "text/plain": [
       "Epoch 0422|Val loss 6.702142e-02|Train loss 9.714245e-02|LR 0.00008|\n"
      ]
     },
     "metadata": {},
     "output_type": "display_data"
    },
    {
     "data": {
      "text/html": [
       "<pre style=\"white-space:pre;overflow-x:auto;line-height:normal;font-family:Menlo,'DejaVu Sans Mono',consolas,'Courier New',monospace\">Epoch 0423|Val loss 7.256072e-02|Train loss 9.500463e-02|LR 0.00008|\n",
       "</pre>\n"
      ],
      "text/plain": [
       "Epoch 0423|Val loss 7.256072e-02|Train loss 9.500463e-02|LR 0.00008|\n"
      ]
     },
     "metadata": {},
     "output_type": "display_data"
    },
    {
     "data": {
      "text/html": [
       "<pre style=\"white-space:pre;overflow-x:auto;line-height:normal;font-family:Menlo,'DejaVu Sans Mono',consolas,'Courier New',monospace\">Epoch 0424|Val loss 6.595207e-02|Train loss 9.829323e-02|LR 0.00008|\n",
       "</pre>\n"
      ],
      "text/plain": [
       "Epoch 0424|Val loss 6.595207e-02|Train loss 9.829323e-02|LR 0.00008|\n"
      ]
     },
     "metadata": {},
     "output_type": "display_data"
    },
    {
     "data": {
      "text/html": [
       "<pre style=\"white-space:pre;overflow-x:auto;line-height:normal;font-family:Menlo,'DejaVu Sans Mono',consolas,'Courier New',monospace\">Epoch 0425|Val loss 7.459891e-02|Train loss 9.858040e-02|LR 0.00008|\n",
       "</pre>\n"
      ],
      "text/plain": [
       "Epoch 0425|Val loss 7.459891e-02|Train loss 9.858040e-02|LR 0.00008|\n"
      ]
     },
     "metadata": {},
     "output_type": "display_data"
    },
    {
     "data": {
      "text/html": [
       "<pre style=\"white-space:pre;overflow-x:auto;line-height:normal;font-family:Menlo,'DejaVu Sans Mono',consolas,'Courier New',monospace\">Epoch 0426|Val loss 6.888813e-02|Train loss 9.646448e-02|LR 0.00008|\n",
       "</pre>\n"
      ],
      "text/plain": [
       "Epoch 0426|Val loss 6.888813e-02|Train loss 9.646448e-02|LR 0.00008|\n"
      ]
     },
     "metadata": {},
     "output_type": "display_data"
    },
    {
     "data": {
      "text/html": [
       "<pre style=\"white-space:pre;overflow-x:auto;line-height:normal;font-family:Menlo,'DejaVu Sans Mono',consolas,'Courier New',monospace\">Epoch 0427|Val loss 7.186209e-02|Train loss 9.845940e-02|LR 0.00008|\n",
       "</pre>\n"
      ],
      "text/plain": [
       "Epoch 0427|Val loss 7.186209e-02|Train loss 9.845940e-02|LR 0.00008|\n"
      ]
     },
     "metadata": {},
     "output_type": "display_data"
    },
    {
     "data": {
      "text/html": [
       "<pre style=\"white-space:pre;overflow-x:auto;line-height:normal;font-family:Menlo,'DejaVu Sans Mono',consolas,'Courier New',monospace\">Epoch 0428|Val loss 6.385552e-02|Train loss 9.863643e-02|LR 0.00008|\n",
       "</pre>\n"
      ],
      "text/plain": [
       "Epoch 0428|Val loss 6.385552e-02|Train loss 9.863643e-02|LR 0.00008|\n"
      ]
     },
     "metadata": {},
     "output_type": "display_data"
    },
    {
     "data": {
      "text/html": [
       "<pre style=\"white-space:pre;overflow-x:auto;line-height:normal;font-family:Menlo,'DejaVu Sans Mono',consolas,'Courier New',monospace\">Epoch 0429|Val loss 7.341904e-02|Train loss 9.597618e-02|LR 0.00008|\n",
       "</pre>\n"
      ],
      "text/plain": [
       "Epoch 0429|Val loss 7.341904e-02|Train loss 9.597618e-02|LR 0.00008|\n"
      ]
     },
     "metadata": {},
     "output_type": "display_data"
    },
    {
     "data": {
      "text/html": [
       "<pre style=\"white-space:pre;overflow-x:auto;line-height:normal;font-family:Menlo,'DejaVu Sans Mono',consolas,'Courier New',monospace\">Epoch 0430|Val loss 6.840239e-02|Train loss 9.775001e-02|LR 0.00008|\n",
       "</pre>\n"
      ],
      "text/plain": [
       "Epoch 0430|Val loss 6.840239e-02|Train loss 9.775001e-02|LR 0.00008|\n"
      ]
     },
     "metadata": {},
     "output_type": "display_data"
    },
    {
     "data": {
      "text/html": [
       "<pre style=\"white-space:pre;overflow-x:auto;line-height:normal;font-family:Menlo,'DejaVu Sans Mono',consolas,'Courier New',monospace\">Val loss decreased (0.07 to 0.07). Model saved\n",
       "</pre>\n"
      ],
      "text/plain": [
       "Val loss decreased (0.07 to 0.07). Model saved\n"
      ]
     },
     "metadata": {},
     "output_type": "display_data"
    },
    {
     "data": {
      "text/html": [
       "<pre style=\"white-space:pre;overflow-x:auto;line-height:normal;font-family:Menlo,'DejaVu Sans Mono',consolas,'Courier New',monospace\">Epoch 0431|Val loss 6.827904e-02|Train loss 9.675664e-02|LR 0.00008|\n",
       "</pre>\n"
      ],
      "text/plain": [
       "Epoch 0431|Val loss 6.827904e-02|Train loss 9.675664e-02|LR 0.00008|\n"
      ]
     },
     "metadata": {},
     "output_type": "display_data"
    },
    {
     "data": {
      "text/html": [
       "<pre style=\"white-space:pre;overflow-x:auto;line-height:normal;font-family:Menlo,'DejaVu Sans Mono',consolas,'Courier New',monospace\">Epoch 0432|Val loss 6.404831e-02|Train loss 1.006924e-01|LR 0.00008|\n",
       "</pre>\n"
      ],
      "text/plain": [
       "Epoch 0432|Val loss 6.404831e-02|Train loss 1.006924e-01|LR 0.00008|\n"
      ]
     },
     "metadata": {},
     "output_type": "display_data"
    },
    {
     "data": {
      "text/html": [
       "<pre style=\"white-space:pre;overflow-x:auto;line-height:normal;font-family:Menlo,'DejaVu Sans Mono',consolas,'Courier New',monospace\">Epoch 0433|Val loss 7.224438e-02|Train loss 9.772795e-02|LR 0.00008|\n",
       "</pre>\n"
      ],
      "text/plain": [
       "Epoch 0433|Val loss 7.224438e-02|Train loss 9.772795e-02|LR 0.00008|\n"
      ]
     },
     "metadata": {},
     "output_type": "display_data"
    },
    {
     "data": {
      "text/html": [
       "<pre style=\"white-space:pre;overflow-x:auto;line-height:normal;font-family:Menlo,'DejaVu Sans Mono',consolas,'Courier New',monospace\">Epoch 0434|Val loss 6.828668e-02|Train loss 9.695580e-02|LR 0.00008|\n",
       "</pre>\n"
      ],
      "text/plain": [
       "Epoch 0434|Val loss 6.828668e-02|Train loss 9.695580e-02|LR 0.00008|\n"
      ]
     },
     "metadata": {},
     "output_type": "display_data"
    },
    {
     "data": {
      "text/html": [
       "<pre style=\"white-space:pre;overflow-x:auto;line-height:normal;font-family:Menlo,'DejaVu Sans Mono',consolas,'Courier New',monospace\">Epoch 0435|Val loss 7.348201e-02|Train loss 9.584687e-02|LR 0.00008|\n",
       "</pre>\n"
      ],
      "text/plain": [
       "Epoch 0435|Val loss 7.348201e-02|Train loss 9.584687e-02|LR 0.00008|\n"
      ]
     },
     "metadata": {},
     "output_type": "display_data"
    },
    {
     "data": {
      "text/html": [
       "<pre style=\"white-space:pre;overflow-x:auto;line-height:normal;font-family:Menlo,'DejaVu Sans Mono',consolas,'Courier New',monospace\">Epoch 0436|Val loss 6.770259e-02|Train loss 9.747533e-02|LR 0.00008|\n",
       "</pre>\n"
      ],
      "text/plain": [
       "Epoch 0436|Val loss 6.770259e-02|Train loss 9.747533e-02|LR 0.00008|\n"
      ]
     },
     "metadata": {},
     "output_type": "display_data"
    },
    {
     "data": {
      "text/html": [
       "<pre style=\"white-space:pre;overflow-x:auto;line-height:normal;font-family:Menlo,'DejaVu Sans Mono',consolas,'Courier New',monospace\">Epoch 0437|Val loss 7.559964e-02|Train loss 9.970898e-02|LR 0.00008|\n",
       "</pre>\n"
      ],
      "text/plain": [
       "Epoch 0437|Val loss 7.559964e-02|Train loss 9.970898e-02|LR 0.00008|\n"
      ]
     },
     "metadata": {},
     "output_type": "display_data"
    },
    {
     "data": {
      "text/html": [
       "<pre style=\"white-space:pre;overflow-x:auto;line-height:normal;font-family:Menlo,'DejaVu Sans Mono',consolas,'Courier New',monospace\">Epoch 0438|Val loss 6.634650e-02|Train loss 9.694012e-02|LR 0.00008|\n",
       "</pre>\n"
      ],
      "text/plain": [
       "Epoch 0438|Val loss 6.634650e-02|Train loss 9.694012e-02|LR 0.00008|\n"
      ]
     },
     "metadata": {},
     "output_type": "display_data"
    },
    {
     "data": {
      "text/html": [
       "<pre style=\"white-space:pre;overflow-x:auto;line-height:normal;font-family:Menlo,'DejaVu Sans Mono',consolas,'Courier New',monospace\">Epoch 0439|Val loss 6.548200e-02|Train loss 9.925629e-02|LR 0.00008|\n",
       "</pre>\n"
      ],
      "text/plain": [
       "Epoch 0439|Val loss 6.548200e-02|Train loss 9.925629e-02|LR 0.00008|\n"
      ]
     },
     "metadata": {},
     "output_type": "display_data"
    },
    {
     "data": {
      "text/html": [
       "<pre style=\"white-space:pre;overflow-x:auto;line-height:normal;font-family:Menlo,'DejaVu Sans Mono',consolas,'Courier New',monospace\">Epoch 0440|Val loss 6.816513e-02|Train loss 9.486421e-02|LR 0.00008|\n",
       "</pre>\n"
      ],
      "text/plain": [
       "Epoch 0440|Val loss 6.816513e-02|Train loss 9.486421e-02|LR 0.00008|\n"
      ]
     },
     "metadata": {},
     "output_type": "display_data"
    },
    {
     "data": {
      "text/html": [
       "<pre style=\"white-space:pre;overflow-x:auto;line-height:normal;font-family:Menlo,'DejaVu Sans Mono',consolas,'Courier New',monospace\">Val loss decreased (0.07 to 0.07). Model saved\n",
       "</pre>\n"
      ],
      "text/plain": [
       "Val loss decreased (0.07 to 0.07). Model saved\n"
      ]
     },
     "metadata": {},
     "output_type": "display_data"
    },
    {
     "data": {
      "text/html": [
       "<pre style=\"white-space:pre;overflow-x:auto;line-height:normal;font-family:Menlo,'DejaVu Sans Mono',consolas,'Courier New',monospace\">Epoch 0441|Val loss 7.271290e-02|Train loss 9.554894e-02|LR 0.00008|\n",
       "</pre>\n"
      ],
      "text/plain": [
       "Epoch 0441|Val loss 7.271290e-02|Train loss 9.554894e-02|LR 0.00008|\n"
      ]
     },
     "metadata": {},
     "output_type": "display_data"
    },
    {
     "data": {
      "text/html": [
       "<pre style=\"white-space:pre;overflow-x:auto;line-height:normal;font-family:Menlo,'DejaVu Sans Mono',consolas,'Courier New',monospace\">Epoch 0442|Val loss 6.979981e-02|Train loss 9.542334e-02|LR 0.00008|\n",
       "</pre>\n"
      ],
      "text/plain": [
       "Epoch 0442|Val loss 6.979981e-02|Train loss 9.542334e-02|LR 0.00008|\n"
      ]
     },
     "metadata": {},
     "output_type": "display_data"
    },
    {
     "data": {
      "text/html": [
       "<pre style=\"white-space:pre;overflow-x:auto;line-height:normal;font-family:Menlo,'DejaVu Sans Mono',consolas,'Courier New',monospace\">Epoch 0443|Val loss 6.947839e-02|Train loss 9.830747e-02|LR 0.00008|\n",
       "</pre>\n"
      ],
      "text/plain": [
       "Epoch 0443|Val loss 6.947839e-02|Train loss 9.830747e-02|LR 0.00008|\n"
      ]
     },
     "metadata": {},
     "output_type": "display_data"
    },
    {
     "data": {
      "text/html": [
       "<pre style=\"white-space:pre;overflow-x:auto;line-height:normal;font-family:Menlo,'DejaVu Sans Mono',consolas,'Courier New',monospace\">Epoch 0444|Val loss 6.913306e-02|Train loss 9.880741e-02|LR 0.00008|\n",
       "</pre>\n"
      ],
      "text/plain": [
       "Epoch 0444|Val loss 6.913306e-02|Train loss 9.880741e-02|LR 0.00008|\n"
      ]
     },
     "metadata": {},
     "output_type": "display_data"
    },
    {
     "data": {
      "text/html": [
       "<pre style=\"white-space:pre;overflow-x:auto;line-height:normal;font-family:Menlo,'DejaVu Sans Mono',consolas,'Courier New',monospace\">Epoch 0445|Val loss 6.670418e-02|Train loss 9.691823e-02|LR 0.00008|\n",
       "</pre>\n"
      ],
      "text/plain": [
       "Epoch 0445|Val loss 6.670418e-02|Train loss 9.691823e-02|LR 0.00008|\n"
      ]
     },
     "metadata": {},
     "output_type": "display_data"
    },
    {
     "data": {
      "text/html": [
       "<pre style=\"white-space:pre;overflow-x:auto;line-height:normal;font-family:Menlo,'DejaVu Sans Mono',consolas,'Courier New',monospace\">Epoch 0446|Val loss 6.399636e-02|Train loss 9.689480e-02|LR 0.00008|\n",
       "</pre>\n"
      ],
      "text/plain": [
       "Epoch 0446|Val loss 6.399636e-02|Train loss 9.689480e-02|LR 0.00008|\n"
      ]
     },
     "metadata": {},
     "output_type": "display_data"
    },
    {
     "data": {
      "text/html": [
       "<pre style=\"white-space:pre;overflow-x:auto;line-height:normal;font-family:Menlo,'DejaVu Sans Mono',consolas,'Courier New',monospace\">Epoch 0447|Val loss 6.718239e-02|Train loss 9.536880e-02|LR 0.00008|\n",
       "</pre>\n"
      ],
      "text/plain": [
       "Epoch 0447|Val loss 6.718239e-02|Train loss 9.536880e-02|LR 0.00008|\n"
      ]
     },
     "metadata": {},
     "output_type": "display_data"
    },
    {
     "data": {
      "text/html": [
       "<pre style=\"white-space:pre;overflow-x:auto;line-height:normal;font-family:Menlo,'DejaVu Sans Mono',consolas,'Courier New',monospace\">Epoch 0448|Val loss 6.664373e-02|Train loss 9.478657e-02|LR 0.00008|\n",
       "</pre>\n"
      ],
      "text/plain": [
       "Epoch 0448|Val loss 6.664373e-02|Train loss 9.478657e-02|LR 0.00008|\n"
      ]
     },
     "metadata": {},
     "output_type": "display_data"
    },
    {
     "data": {
      "text/html": [
       "<pre style=\"white-space:pre;overflow-x:auto;line-height:normal;font-family:Menlo,'DejaVu Sans Mono',consolas,'Courier New',monospace\">Epoch 0449|Val loss 7.005897e-02|Train loss 9.633501e-02|LR 0.00008|\n",
       "</pre>\n"
      ],
      "text/plain": [
       "Epoch 0449|Val loss 7.005897e-02|Train loss 9.633501e-02|LR 0.00008|\n"
      ]
     },
     "metadata": {},
     "output_type": "display_data"
    },
    {
     "data": {
      "text/html": [
       "<pre style=\"white-space:pre;overflow-x:auto;line-height:normal;font-family:Menlo,'DejaVu Sans Mono',consolas,'Courier New',monospace\">Epoch 0450|Val loss 6.978465e-02|Train loss 9.575115e-02|LR 0.00008|\n",
       "</pre>\n"
      ],
      "text/plain": [
       "Epoch 0450|Val loss 6.978465e-02|Train loss 9.575115e-02|LR 0.00008|\n"
      ]
     },
     "metadata": {},
     "output_type": "display_data"
    },
    {
     "data": {
      "text/html": [
       "<pre style=\"white-space:pre;overflow-x:auto;line-height:normal;font-family:Menlo,'DejaVu Sans Mono',consolas,'Courier New',monospace\">EarlyStopping counter: 1 out of 20\n",
       "</pre>\n"
      ],
      "text/plain": [
       "EarlyStopping counter: 1 out of 20\n"
      ]
     },
     "metadata": {},
     "output_type": "display_data"
    },
    {
     "data": {
      "text/html": [
       "<pre style=\"white-space:pre;overflow-x:auto;line-height:normal;font-family:Menlo,'DejaVu Sans Mono',consolas,'Courier New',monospace\"></pre>\n"
      ],
      "text/plain": []
     },
     "metadata": {},
     "output_type": "display_data"
    },
    {
     "data": {
      "text/html": [
       "<pre style=\"white-space:pre;overflow-x:auto;line-height:normal;font-family:Menlo,'DejaVu Sans Mono',consolas,'Courier New',monospace\">\n",
       "</pre>\n"
      ],
      "text/plain": [
       "\n"
      ]
     },
     "metadata": {},
     "output_type": "display_data"
    }
   ],
   "source": [
    "optimizer = optim.Adam(model.parameters(), lr=args[\"lr\"])\n",
    "if args[\"loss\"] == \"smooth_l1\":\n",
    "    criterion = nn.SmoothL1Loss().to(device)\n",
    "elif args[\"loss\"] == \"mae\":\n",
    "    criterion = nn.L1Loss().to(device)\n",
    "elif args[\"loss\"] == \"mse\":\n",
    "    criterion = nn.MSELoss().to(device)\n",
    "\n",
    "# criterion = InverseBoxCoxLoss(pt)\n",
    "\n",
    "print(criterion)\n",
    "early_stopping = nut.EarlyStopping(patience=20,\n",
    "                                verbose=True,\n",
    "                                path=ckpt_path)\n",
    "\n",
    "scheduler = torch.optim.lr_scheduler.ReduceLROnPlateau(optimizer, 'min', factor=0.6, patience=40)\n",
    "N_EPOCHS = args[\"niters\"]\n",
    "\n",
    "num_batches = 1\n",
    "all_train_loss = []\n",
    "all_valid_loss = []\n",
    "ckpt_freq = 10\n",
    "if args[\"load\"] is None:\n",
    "    if args[\"do_warm_start\"] == True:\n",
    "        checkpoint = torch.load(ckpt_path)\n",
    "        model.load_state_dict(checkpoint['model'])\n",
    "        start_epoch = checkpoint['epoch']\n",
    "        optimizer.load_state_dict(checkpoint['optimizer_state'])\n",
    "        print(\"Warm Starting Experiment {} from Epoch {}\".format(experimentID, start_epoch))\n",
    "    else:\n",
    "        start_epoch = 0\n",
    "        print(\"Starting a new experiment {} from Epoch {}\".format(experimentID, start_epoch))\n",
    "\n",
    "    # Resume training from specific epoch\n",
    "    for itr in track(range(start_epoch + 1, num_batches * (args[\"niters\"] + 1)), description=\"Looping over epochs...\"):\n",
    "        train_loss = 0.0\n",
    "        valid_loss = 0.0\n",
    "        model.train()\n",
    "        optimizer.zero_grad()\n",
    "\n",
    "        for i, (raw_img, arr_target_scaled, arr_target) in enumerate(train_dataloader):\n",
    "            raw_img = raw_img.to(device)\n",
    "            # arr_target = arr_target.to(device)\n",
    "            arr_target = arr_target_scaled.to(device)\n",
    "\n",
    "            # Forward pass\n",
    "            arr_pred = model(raw_img)\n",
    "\n",
    "            # Compute Loss\n",
    "            loss = criterion(arr_pred, arr_target)\n",
    "\n",
    "            # Backward pass\n",
    "            loss.backward()\n",
    "            optimizer.step()\n",
    "            train_loss += loss.item()\n",
    "\n",
    "        model.eval()\n",
    "        with torch.no_grad():\n",
    "            for i, (raw_img_val, arr_target_val_scaled, arr_target_val) in enumerate(val_dataloader):\n",
    "                raw_img_val = raw_img_val.to(device)\n",
    "                # arr_target_val = arr_target_val.to(device)\n",
    "                arr_target_val = arr_target_val_scaled.to(device)\n",
    "\n",
    "                # Forward pass\n",
    "                arr_pred_val = model(raw_img_val)\n",
    "\n",
    "                val_loss = criterion(arr_pred_val, arr_target_val)\n",
    "\n",
    "                valid_loss += val_loss.item()\n",
    "\n",
    "        train_loss = train_loss / len(train_dataloader)\n",
    "        valid_loss = valid_loss / len(val_dataloader)\n",
    "\n",
    "        all_train_loss.append(train_loss)\n",
    "        all_valid_loss.append(valid_loss)\n",
    "\n",
    "\n",
    "        message = 'Epoch {:04d}|Val loss {:.6e}|Train loss {:.6e}|LR {:.5f}|'.format(\n",
    "                        itr//num_batches,\n",
    "                        valid_loss,\n",
    "                        train_loss,\n",
    "                        optimizer.param_groups[0][\"lr\"])\n",
    "        \n",
    "        logger.info(message)\n",
    "        scheduler.step(valid_loss)\n",
    "\n",
    "        if itr % ckpt_freq == 0:\n",
    "            early_stopping(val_loss, all_valid_loss, all_train_loss, model, optimizer, itr, args)\n",
    "\n",
    "        if early_stopping.early_stop:\n",
    "            logger.info(\"Early stopping\")\n",
    "            torch.save({'epoch': itr,\n",
    "                    'model': model.state_dict(),\n",
    "                    'optimizer_state': optimizer.state_dict(),\n",
    "                    'val_loss': val_loss,\n",
    "                    'all_train_loss': all_train_loss,\n",
    "                    'all_valid_loss': all_valid_loss,\n",
    "                    'args': args},\n",
    "                    os.path.join(args[\"save\"], \"experiment_\" + str(experimentID) + \"_earlystopping.ckpt\"))\n",
    "            break\n",
    "else:\n",
    "    # check if early stopped model is available!\n",
    "    early_stop_filepath = os.path.join(args[\"save\"], \"experiment_\" + str(experimentID) + \"_earlystopping.ckpt\")\n",
    "\n",
    "    if os.path.exists(early_stop_filepath):\n",
    "        if args[\"load\"] == 56:\n",
    "            early_stp_ckpt = torch.load(early_stop_filepath)\n",
    "            model.load_state_dict(early_stp_ckpt)\n",
    "        else:\n",
    "            nut.get_ckpt_model(early_stop_filepath, model, optimizer, device)\n",
    "        print(\"Loading early stopped model ID {} from {}\".format(experimentID, early_stop_filepath))\n",
    "    else:\n",
    "        nut.get_ckpt_model(ckpt_path, model, optimizer, device)\n",
    "        print(\"Loading existing model ID {} from {}\".format(experimentID, ckpt_path))"
   ]
  },
  {
   "cell_type": "code",
   "execution_count": 70,
   "metadata": {},
   "outputs": [
    {
     "data": {
      "image/png": "[encoded data removed]",
      "text/plain": [
       "<Figure size 640x480 with 1 Axes>"
      ]
     },
     "metadata": {},
     "output_type": "display_data"
    }
   ],
   "source": [
    "if args[\"load\"] is None: # can remove this loop condition for future experiments since early stopping will also save all_train_loss and all_valid_loss quantities henceforth (Sep 24)\n",
    "    plt.plot(all_train_loss, label=\"train\")\n",
    "    plt.plot(all_valid_loss, label=\"val\")\n",
    "    plt.legend()"
   ]
  },
  {
   "cell_type": "code",
   "execution_count": 71,
   "metadata": {},
   "outputs": [],
   "source": [
    "train_data_eval = DataLoader(train_dataset, \n",
    "        batch_size = len(train_dataset),\n",
    "        shuffle=False, \n",
    "        )\n",
    "\n",
    "train_eval_batch = get_next_batch(inf_generator(train_data_eval))"
   ]
  },
  {
   "cell_type": "code",
   "execution_count": 76,
   "metadata": {},
   "outputs": [
    {
     "data": {
      "image/png": "[encoded data removed]",
      "text/plain": [
       "<Figure size 1000x1000 with 4 Axes>"
      ]
     },
     "metadata": {},
     "output_type": "display_data"
    }
   ],
   "source": [
    "model.eval()\n",
    "with torch.no_grad():\n",
    "    train_preds_scaled = model(train_eval_batch[0]).cpu().numpy()\n",
    "\n",
    "train_preds_unscaled = pt.inverse_transform(train_preds_scaled)\n",
    "train_targets_all = train_eval_batch[2].squeeze(1).cpu().numpy()\n",
    "\n",
    "train_preds_unscaled.shape, train_targets_all.shape\n",
    "\n",
    "fig, axs = plt.subplots(2, 2, figsize=(10, 10))\n",
    "\n",
    "axs[0, 0].scatter(train_targets_all[:, 0], train_preds_unscaled[:, 0], s=3)\n",
    "axs[0, 0].plot(np.linspace(35, 100, 40), np.linspace(35, 100, 40), '--', color='black')\n",
    "axs[0, 0].set_xlabel(\"Train Arrival Time (hrs)\", fontsize=14)\n",
    "axs[0, 0].set_ylabel(\"Predicted Arrival Time on Train (hrs)\", fontsize=14)\n",
    "axs[0, 0].set_title(\"{:.3f}\".format(np.corrcoef(train_targets_all[:, 0], train_preds_unscaled[:, 0])[0, 1]))\n",
    "\n",
    "# axs[0, 1].scatter(train_targets_all[:, 1], train_preds_unscaled[:, 1], s=3)\n",
    "# axs[0, 1].plot(np.linspace(300, 900, 40), np.linspace(300, 900, 40), '--', color='black')\n",
    "# axs[0, 1].set_xlabel(\"Train USim (km / s)\", fontsize=14)\n",
    "# axs[0, 1].set_ylabel(\"Predicted USim on Train (km / s)\", fontsize=14)\n",
    "# axs[0, 1].set_title(\"{:.3f}\".format(np.corrcoef(train_targets_all[:, 1], train_preds_unscaled[:, 1])[0, 1]))\n",
    "\n",
    "axs[1, 0].scatter(train_targets_all[:, 1], train_preds_unscaled[:, 1], s=3)\n",
    "axs[1, 0].plot(np.linspace(0, 70, 40), np.linspace(0, 70, 40), '--', color='black')\n",
    "axs[1, 0].set_xlabel(\"Train BSim (nT)\", fontsize=14)\n",
    "axs[1, 0].set_ylabel(\"Predicted BSim on Train (nT)\", fontsize=14)\n",
    "axs[1, 0].set_title(\"{:.3f}\".format(np.corrcoef(train_targets_all[:, 1], train_preds_unscaled[:, 1])[0, 1]))\n",
    "\n",
    "# axs[1, 1].scatter(train_targets_all[:, 3], train_preds_unscaled[:, 3], s=3)\n",
    "# axs[1, 1].plot(np.linspace(0, 100, 40), np.linspace(0, 100, 40), '--', color='black')\n",
    "# axs[1, 1].set_xlabel(\"Train NpSim (cm^-3)\", fontsize=14)\n",
    "# axs[1, 1].set_ylabel(\"Predicted NpSim on Train (cm^-3)\", fontsize=14)\n",
    "# axs[1, 1].set_title(\"{:.3f}\".format(np.corrcoef(train_targets_all[:, 3], train_preds_unscaled[:, 3])[0, 1]))\n",
    "\n",
    "plt.tight_layout()"
   ]
  },
  {
   "cell_type": "code",
   "execution_count": 77,
   "metadata": {},
   "outputs": [
    {
     "name": "stdout",
     "output_type": "stream",
     "text": [
      "(1026, 2) (1026, 2)\n"
     ]
    },
    {
     "data": {
      "image/png": "[encoded data removed]",
      "text/plain": [
       "<Figure size 1000x1000 with 4 Axes>"
      ]
     },
     "metadata": {},
     "output_type": "display_data"
    }
   ],
   "source": [
    "test_data_all = get_next_batch(inf_generator(test_dataloader))\n",
    "# true_test_arrs = pt.inverse_transform(test_data_all[1].cpu().numpy())\n",
    "true_test_arrs = test_data_all[2].squeeze(1).cpu().numpy()\n",
    "model.eval()\n",
    "with torch.no_grad():\n",
    "    test_preds = model(test_data_all[0].to(device)).cpu().numpy()\n",
    "\n",
    "test_preds_unscaled = pt.inverse_transform(test_preds)\n",
    "\n",
    "print(test_preds_unscaled.shape, true_test_arrs.shape)\n",
    "\n",
    "fig, axs = plt.subplots(2, 2, figsize=(10, 10))\n",
    "\n",
    "axs[0, 0].scatter(true_test_arrs[:, 0], test_preds_unscaled[:, 0], s=3)\n",
    "axs[0, 0].plot(np.linspace(35, 100, 40), np.linspace(35, 100, 40), '--', color='black')\n",
    "axs[0, 0].set_xlabel(\"Test Arrival Time (hrs)\", fontsize=14)\n",
    "axs[0, 0].set_ylabel(\"Predicted Arrival Time on Test (hrs)\", fontsize=14)\n",
    "axs[0, 0].set_title(\"{:.3f}\".format(np.corrcoef(true_test_arrs[:, 0], test_preds_unscaled[:, 0])[0, 1]))\n",
    "\n",
    "# axs[0, 1].scatter(true_test_arrs[:, 1], test_preds_unscaled[:, 1], s=3)\n",
    "# axs[0, 1].plot(np.linspace(300, 900, 40), np.linspace(300, 900, 40), '--', color='black')\n",
    "# axs[0, 1].set_xlabel(\"Test USim (km / s)\", fontsize=14)\n",
    "# axs[0, 1].set_ylabel(\"Predicted USim on Test (km / s)\", fontsize=14)\n",
    "# axs[0, 1].set_title(\"{:.3f}\".format(np.corrcoef(true_test_arrs[:, 1], test_preds_unscaled[:, 1])[0, 1]))\n",
    "\n",
    "axs[1, 0].scatter(true_test_arrs[:, 1], test_preds_unscaled[:, 1], s=3)\n",
    "axs[1, 0].plot(np.linspace(0, 70, 40), np.linspace(0, 70, 40), '--', color='black')\n",
    "axs[1, 0].set_xlabel(\"Test BSim (nT)\", fontsize=14)\n",
    "axs[1, 0].set_ylabel(\"Predicted BSim on Test (nT)\", fontsize=14)\n",
    "axs[1, 0].set_title(\"{:.3f}\".format(np.corrcoef(true_test_arrs[:, 1], test_preds_unscaled[:, 1])[0, 1]))\n",
    "\n",
    "# axs[1, 1].scatter(true_test_arrs[:, 3], test_preds_unscaled[:, 3], s=3)\n",
    "# axs[1, 1].plot(np.linspace(0, 100, 40), np.linspace(0, 100, 40), '--', color='black')\n",
    "# axs[1, 1].set_xlabel(\"Test NpSim (cm^-3)\", fontsize=14)\n",
    "# axs[1, 1].set_ylabel(\"Predicted NpSim on Test (cm^-3)\", fontsize=14)\n",
    "# axs[1, 1].set_title(\"{:.3f}\".format(np.corrcoef(true_test_arrs[:, 3], test_preds_unscaled[:, 3])[0, 1]))\n",
    "\n",
    "plt.tight_layout()"
   ]
  },
  {
   "cell_type": "code",
   "execution_count": 97,
   "metadata": {},
   "outputs": [
    {
     "data": {
      "text/plain": [
       "(1026, 2)"
      ]
     },
     "execution_count": 97,
     "metadata": {},
     "output_type": "execute_result"
    }
   ],
   "source": [
    "test_preds.shape"
   ]
  },
  {
   "cell_type": "code",
   "execution_count": 79,
   "metadata": {},
   "outputs": [],
   "source": [
    "import argparse\n",
    "import os\n",
    "import cv2\n",
    "import numpy as np\n",
    "import torch\n",
    "from pytorch_grad_cam import (\n",
    "    GradCAM, HiResCAM, ScoreCAM, GradCAMPlusPlus,\n",
    "    AblationCAM, XGradCAM, EigenCAM, EigenGradCAM,\n",
    "    LayerCAM, FullGrad, GradCAMElementWise\n",
    ")\n",
    "\n",
    "from pytorch_grad_cam import GuidedBackpropReLUModel\n",
    "from pytorch_grad_cam.utils.image import (\n",
    "    show_cam_on_image, deprocess_image, preprocess_image\n",
    ")\n",
    "from pytorch_grad_cam.utils.model_targets import ClassifierOutputTarget, RawScoresOutputTarget"
   ]
  },
  {
   "cell_type": "code",
   "execution_count": 98,
   "metadata": {},
   "outputs": [],
   "source": [
    "class RegressionOutputTarget:\n",
    "    def __init__(self, output_index=0):\n",
    "        self.output_index = output_index\n",
    "\n",
    "    def __call__(self, model_output):\n",
    "        if len(model_output.shape) == 1:\n",
    "            return model_output[self.output_index]\n",
    "        return model_output[:, self.output_index]"
   ]
  },
  {
   "cell_type": "code",
   "execution_count": 88,
   "metadata": {},
   "outputs": [
    {
     "data": {
      "text/plain": [
       "torch.Size([1026, 1, 3, 1028])"
      ]
     },
     "execution_count": 88,
     "metadata": {},
     "output_type": "execute_result"
    }
   ],
   "source": [
    "target_layers = [model.regressor[-1]]\n",
    "input_tensor = test_data_all[0].to(device)\n",
    "input_tensor.shape"
   ]
  },
  {
   "cell_type": "code",
   "execution_count": 99,
   "metadata": {},
   "outputs": [],
   "source": [
    "# targets = [RawScoresOutputTarget()]\n",
    "targets = [RegressionOutputTarget(output_index=0)]"
   ]
  },
  {
   "cell_type": "code",
   "execution_count": 100,
   "metadata": {},
   "outputs": [],
   "source": [
    "cam_algorithm = GradCAM(model=model, target_layers=target_layers)"
   ]
  },
  {
   "cell_type": "code",
   "execution_count": 101,
   "metadata": {},
   "outputs": [
    {
     "data": {
      "text/plain": [
       "32.0625"
      ]
     },
     "execution_count": 101,
     "metadata": {},
     "output_type": "execute_result"
    }
   ],
   "source": [
    "1026/32"
   ]
  },
  {
   "cell_type": "code",
   "execution_count": 102,
   "metadata": {},
   "outputs": [
    {
     "ename": "ValueError",
     "evalue": "Invalid grads shape.Shape of grads should be 4 (2D image) or 5 (3D image).",
     "output_type": "error",
     "traceback": [
      "\u001b[0;31m---------------------------------------------------------------------------\u001b[0m",
      "\u001b[0;31mValueError\u001b[0m                                Traceback (most recent call last)",
      "\u001b[0;32m/var/folders/0m/401pb5hj7y59vbxjhd49jjj80000gp/T/ipykernel_43184/2136526356.py\u001b[0m in \u001b[0;36m<module>\u001b[0;34m\u001b[0m\n\u001b[1;32m      3\u001b[0m     \u001b[0;31m# You can override the internal batch size for faster computation.\u001b[0m\u001b[0;34m\u001b[0m\u001b[0;34m\u001b[0m\u001b[0;34m\u001b[0m\u001b[0m\n\u001b[1;32m      4\u001b[0m     \u001b[0mcam\u001b[0m\u001b[0;34m.\u001b[0m\u001b[0mbatch_size\u001b[0m \u001b[0;34m=\u001b[0m \u001b[0;36m32\u001b[0m\u001b[0;34m\u001b[0m\u001b[0;34m\u001b[0m\u001b[0m\n\u001b[0;32m----> 5\u001b[0;31m     grayscale_cam = cam(input_tensor=input_tensor,\n\u001b[0m\u001b[1;32m      6\u001b[0m                         \u001b[0mtargets\u001b[0m\u001b[0;34m=\u001b[0m\u001b[0mtargets\u001b[0m\u001b[0;34m,\u001b[0m\u001b[0;34m\u001b[0m\u001b[0;34m\u001b[0m\u001b[0m\n\u001b[1;32m      7\u001b[0m                         \u001b[0maug_smooth\u001b[0m\u001b[0;34m=\u001b[0m\u001b[0;32mTrue\u001b[0m\u001b[0;34m,\u001b[0m\u001b[0;34m\u001b[0m\u001b[0;34m\u001b[0m\u001b[0m\n",
      "\u001b[0;32m~/opt/anaconda3/lib/python3.8/site-packages/pytorch_grad_cam/base_cam.py\u001b[0m in \u001b[0;36m__call__\u001b[0;34m(self, input_tensor, targets, aug_smooth, eigen_smooth)\u001b[0m\n\u001b[1;32m    182\u001b[0m         \u001b[0;31m# Smooth the CAM result with test time augmentation\u001b[0m\u001b[0;34m\u001b[0m\u001b[0;34m\u001b[0m\u001b[0;34m\u001b[0m\u001b[0m\n\u001b[1;32m    183\u001b[0m         \u001b[0;32mif\u001b[0m \u001b[0maug_smooth\u001b[0m \u001b[0;32mis\u001b[0m \u001b[0;32mTrue\u001b[0m\u001b[0;34m:\u001b[0m\u001b[0;34m\u001b[0m\u001b[0;34m\u001b[0m\u001b[0m\n\u001b[0;32m--> 184\u001b[0;31m             \u001b[0;32mreturn\u001b[0m \u001b[0mself\u001b[0m\u001b[0;34m.\u001b[0m\u001b[0mforward_augmentation_smoothing\u001b[0m\u001b[0;34m(\u001b[0m\u001b[0minput_tensor\u001b[0m\u001b[0;34m,\u001b[0m \u001b[0mtargets\u001b[0m\u001b[0;34m,\u001b[0m \u001b[0meigen_smooth\u001b[0m\u001b[0;34m)\u001b[0m\u001b[0;34m\u001b[0m\u001b[0;34m\u001b[0m\u001b[0m\n\u001b[0m\u001b[1;32m    185\u001b[0m \u001b[0;34m\u001b[0m\u001b[0m\n\u001b[1;32m    186\u001b[0m         \u001b[0;32mreturn\u001b[0m \u001b[0mself\u001b[0m\u001b[0;34m.\u001b[0m\u001b[0mforward\u001b[0m\u001b[0;34m(\u001b[0m\u001b[0minput_tensor\u001b[0m\u001b[0;34m,\u001b[0m \u001b[0mtargets\u001b[0m\u001b[0;34m,\u001b[0m \u001b[0meigen_smooth\u001b[0m\u001b[0;34m)\u001b[0m\u001b[0;34m\u001b[0m\u001b[0;34m\u001b[0m\u001b[0m\n",
      "\u001b[0;32m~/opt/anaconda3/lib/python3.8/site-packages/pytorch_grad_cam/base_cam.py\u001b[0m in \u001b[0;36mforward_augmentation_smoothing\u001b[0;34m(self, input_tensor, targets, eigen_smooth)\u001b[0m\n\u001b[1;32m    158\u001b[0m         \u001b[0;32mfor\u001b[0m \u001b[0mtransform\u001b[0m \u001b[0;32min\u001b[0m \u001b[0mself\u001b[0m\u001b[0;34m.\u001b[0m\u001b[0mtta_transforms\u001b[0m\u001b[0;34m:\u001b[0m\u001b[0;34m\u001b[0m\u001b[0;34m\u001b[0m\u001b[0m\n\u001b[1;32m    159\u001b[0m             \u001b[0maugmented_tensor\u001b[0m \u001b[0;34m=\u001b[0m \u001b[0mtransform\u001b[0m\u001b[0;34m.\u001b[0m\u001b[0maugment_image\u001b[0m\u001b[0;34m(\u001b[0m\u001b[0minput_tensor\u001b[0m\u001b[0;34m)\u001b[0m\u001b[0;34m\u001b[0m\u001b[0;34m\u001b[0m\u001b[0m\n\u001b[0;32m--> 160\u001b[0;31m             \u001b[0mcam\u001b[0m \u001b[0;34m=\u001b[0m \u001b[0mself\u001b[0m\u001b[0;34m.\u001b[0m\u001b[0mforward\u001b[0m\u001b[0;34m(\u001b[0m\u001b[0maugmented_tensor\u001b[0m\u001b[0;34m,\u001b[0m \u001b[0mtargets\u001b[0m\u001b[0;34m,\u001b[0m \u001b[0meigen_smooth\u001b[0m\u001b[0;34m)\u001b[0m\u001b[0;34m\u001b[0m\u001b[0;34m\u001b[0m\u001b[0m\n\u001b[0m\u001b[1;32m    161\u001b[0m \u001b[0;34m\u001b[0m\u001b[0m\n\u001b[1;32m    162\u001b[0m             \u001b[0;31m# The ttach library expects a tensor of size BxCxHxW\u001b[0m\u001b[0;34m\u001b[0m\u001b[0;34m\u001b[0m\u001b[0;34m\u001b[0m\u001b[0m\n",
      "\u001b[0;32m~/opt/anaconda3/lib/python3.8/site-packages/pytorch_grad_cam/base_cam.py\u001b[0m in \u001b[0;36mforward\u001b[0;34m(self, input_tensor, targets, eigen_smooth)\u001b[0m\n\u001b[1;32m    108\u001b[0m         \u001b[0;31m# use all conv layers for example, all Batchnorm layers,\u001b[0m\u001b[0;34m\u001b[0m\u001b[0;34m\u001b[0m\u001b[0;34m\u001b[0m\u001b[0m\n\u001b[1;32m    109\u001b[0m         \u001b[0;31m# or something else.\u001b[0m\u001b[0;34m\u001b[0m\u001b[0;34m\u001b[0m\u001b[0;34m\u001b[0m\u001b[0m\n\u001b[0;32m--> 110\u001b[0;31m         \u001b[0mcam_per_layer\u001b[0m \u001b[0;34m=\u001b[0m \u001b[0mself\u001b[0m\u001b[0;34m.\u001b[0m\u001b[0mcompute_cam_per_layer\u001b[0m\u001b[0;34m(\u001b[0m\u001b[0minput_tensor\u001b[0m\u001b[0;34m,\u001b[0m \u001b[0mtargets\u001b[0m\u001b[0;34m,\u001b[0m \u001b[0meigen_smooth\u001b[0m\u001b[0;34m)\u001b[0m\u001b[0;34m\u001b[0m\u001b[0;34m\u001b[0m\u001b[0m\n\u001b[0m\u001b[1;32m    111\u001b[0m         \u001b[0;32mreturn\u001b[0m \u001b[0mself\u001b[0m\u001b[0;34m.\u001b[0m\u001b[0maggregate_multi_layers\u001b[0m\u001b[0;34m(\u001b[0m\u001b[0mcam_per_layer\u001b[0m\u001b[0;34m)\u001b[0m\u001b[0;34m\u001b[0m\u001b[0;34m\u001b[0m\u001b[0m\n\u001b[1;32m    112\u001b[0m \u001b[0;34m\u001b[0m\u001b[0m\n",
      "\u001b[0;32m~/opt/anaconda3/lib/python3.8/site-packages/pytorch_grad_cam/base_cam.py\u001b[0m in \u001b[0;36mcompute_cam_per_layer\u001b[0;34m(self, input_tensor, targets, eigen_smooth)\u001b[0m\n\u001b[1;32m    139\u001b[0m                 \u001b[0mlayer_grads\u001b[0m \u001b[0;34m=\u001b[0m \u001b[0mgrads_list\u001b[0m\u001b[0;34m[\u001b[0m\u001b[0mi\u001b[0m\u001b[0;34m]\u001b[0m\u001b[0;34m\u001b[0m\u001b[0;34m\u001b[0m\u001b[0m\n\u001b[1;32m    140\u001b[0m \u001b[0;34m\u001b[0m\u001b[0m\n\u001b[0;32m--> 141\u001b[0;31m             \u001b[0mcam\u001b[0m \u001b[0;34m=\u001b[0m \u001b[0mself\u001b[0m\u001b[0;34m.\u001b[0m\u001b[0mget_cam_image\u001b[0m\u001b[0;34m(\u001b[0m\u001b[0minput_tensor\u001b[0m\u001b[0;34m,\u001b[0m \u001b[0mtarget_layer\u001b[0m\u001b[0;34m,\u001b[0m \u001b[0mtargets\u001b[0m\u001b[0;34m,\u001b[0m \u001b[0mlayer_activations\u001b[0m\u001b[0;34m,\u001b[0m \u001b[0mlayer_grads\u001b[0m\u001b[0;34m,\u001b[0m \u001b[0meigen_smooth\u001b[0m\u001b[0;34m)\u001b[0m\u001b[0;34m\u001b[0m\u001b[0;34m\u001b[0m\u001b[0m\n\u001b[0m\u001b[1;32m    142\u001b[0m             \u001b[0mcam\u001b[0m \u001b[0;34m=\u001b[0m \u001b[0mnp\u001b[0m\u001b[0;34m.\u001b[0m\u001b[0mmaximum\u001b[0m\u001b[0;34m(\u001b[0m\u001b[0mcam\u001b[0m\u001b[0;34m,\u001b[0m \u001b[0;36m0\u001b[0m\u001b[0;34m)\u001b[0m\u001b[0;34m\u001b[0m\u001b[0;34m\u001b[0m\u001b[0m\n\u001b[1;32m    143\u001b[0m             \u001b[0mscaled\u001b[0m \u001b[0;34m=\u001b[0m \u001b[0mscale_cam_image\u001b[0m\u001b[0;34m(\u001b[0m\u001b[0mcam\u001b[0m\u001b[0;34m,\u001b[0m \u001b[0mtarget_size\u001b[0m\u001b[0;34m)\u001b[0m\u001b[0;34m\u001b[0m\u001b[0;34m\u001b[0m\u001b[0m\n",
      "\u001b[0;32m~/opt/anaconda3/lib/python3.8/site-packages/pytorch_grad_cam/base_cam.py\u001b[0m in \u001b[0;36mget_cam_image\u001b[0;34m(self, input_tensor, target_layer, targets, activations, grads, eigen_smooth)\u001b[0m\n\u001b[1;32m     64\u001b[0m         \u001b[0meigen_smooth\u001b[0m\u001b[0;34m:\u001b[0m \u001b[0mbool\u001b[0m \u001b[0;34m=\u001b[0m \u001b[0;32mFalse\u001b[0m\u001b[0;34m,\u001b[0m\u001b[0;34m\u001b[0m\u001b[0;34m\u001b[0m\u001b[0m\n\u001b[1;32m     65\u001b[0m     ) -> np.ndarray:\n\u001b[0;32m---> 66\u001b[0;31m         \u001b[0mweights\u001b[0m \u001b[0;34m=\u001b[0m \u001b[0mself\u001b[0m\u001b[0;34m.\u001b[0m\u001b[0mget_cam_weights\u001b[0m\u001b[0;34m(\u001b[0m\u001b[0minput_tensor\u001b[0m\u001b[0;34m,\u001b[0m \u001b[0mtarget_layer\u001b[0m\u001b[0;34m,\u001b[0m \u001b[0mtargets\u001b[0m\u001b[0;34m,\u001b[0m \u001b[0mactivations\u001b[0m\u001b[0;34m,\u001b[0m \u001b[0mgrads\u001b[0m\u001b[0;34m)\u001b[0m\u001b[0;34m\u001b[0m\u001b[0;34m\u001b[0m\u001b[0m\n\u001b[0m\u001b[1;32m     67\u001b[0m         \u001b[0;31m# 2D conv\u001b[0m\u001b[0;34m\u001b[0m\u001b[0;34m\u001b[0m\u001b[0;34m\u001b[0m\u001b[0m\n\u001b[1;32m     68\u001b[0m         \u001b[0;32mif\u001b[0m \u001b[0mlen\u001b[0m\u001b[0;34m(\u001b[0m\u001b[0mactivations\u001b[0m\u001b[0;34m.\u001b[0m\u001b[0mshape\u001b[0m\u001b[0;34m)\u001b[0m \u001b[0;34m==\u001b[0m \u001b[0;36m4\u001b[0m\u001b[0;34m:\u001b[0m\u001b[0;34m\u001b[0m\u001b[0;34m\u001b[0m\u001b[0m\n",
      "\u001b[0;32m~/opt/anaconda3/lib/python3.8/site-packages/pytorch_grad_cam/grad_cam.py\u001b[0m in \u001b[0;36mget_cam_weights\u001b[0;34m(self, input_tensor, target_layer, target_category, activations, grads)\u001b[0m\n\u001b[1;32m     29\u001b[0m \u001b[0;34m\u001b[0m\u001b[0m\n\u001b[1;32m     30\u001b[0m         \u001b[0;32melse\u001b[0m\u001b[0;34m:\u001b[0m\u001b[0;34m\u001b[0m\u001b[0;34m\u001b[0m\u001b[0m\n\u001b[0;32m---> 31\u001b[0;31m             raise ValueError(\"Invalid grads shape.\" \n\u001b[0m\u001b[1;32m     32\u001b[0m                              \"Shape of grads should be 4 (2D image) or 5 (3D image).\")\n",
      "\u001b[0;31mValueError\u001b[0m: Invalid grads shape.Shape of grads should be 4 (2D image) or 5 (3D image)."
     ]
    }
   ],
   "source": [
    "with cam_algorithm as cam:\n",
    "    # AblationCAM and ScoreCAM have batched implementations.\n",
    "    # You can override the internal batch size for faster computation.\n",
    "    cam.batch_size = 32\n",
    "    grayscale_cam = cam(input_tensor=input_tensor,\n",
    "                        targets=targets,\n",
    "                        aug_smooth=True,\n",
    "                        eigen_smooth=True,\n",
    "                        )\n",
    "\n",
    "    grayscale_cam = grayscale_cam[0, :]\n",
    "\n",
    "    # cam_image = show_cam_on_image(rgb_img, grayscale_cam, use_rgb=True)\n",
    "    # cam_image = cv2.cvtColor(cam_image, cv2.COLOR_RGB2BGR)"
   ]
  },
  {
   "cell_type": "code",
   "execution_count": null,
   "metadata": {},
   "outputs": [],
   "source": []
  }
 ],
 "metadata": {
  "kernelspec": {
   "display_name": "base",
   "language": "python",
   "name": "python3"
  },
  "language_info": {
   "codemirror_mode": {
    "name": "ipython",
    "version": 3
   },
   "file_extension": ".py",
   "mimetype": "text/x-python",
   "name": "python",
   "nbconvert_exporter": "python",
   "pygments_lexer": "ipython3",
   "version": "undefined.undefined.undefined"
  }
 },
 "nbformat": 4,
 "nbformat_minor": 2
}
