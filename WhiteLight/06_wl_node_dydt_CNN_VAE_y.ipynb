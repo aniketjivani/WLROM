{
 "cells": [
  {
   "cell_type": "markdown",
   "id": "39143329-3665-4b3a-9d48-69048c9f1fe1",
   "metadata": {},
   "source": [
    "We will follow the architecture of Variational Autoencoder to compress the representation into a latent space first. Then we will pass it through the probabilistic decoder for one simulation and see if it can reconstruct things at all time series.\n",
    "\n",
    "Reference notebook: See `global/homes/a/ajivani/VAE_Cahn_Hillard.ipynb`. Based off https://github.com/sedaoturak/vae_cahn-hilliard/blob/main/VAE_Cahn_Hillard.ipynb\n",
    "\n",
    "Basically if this works we can make two improvements:\n",
    "\n",
    "1. Run Neural ODE on learnt latent space samples\n",
    "\n",
    "2. Put in an additional conditional step on VAE e.g. passing in flux rope parameters as a so called \"label\" or \"latent feature\" we want to learn representation on."
   ]
  },
  {
   "cell_type": "code",
   "execution_count": 2,
   "id": "89dace2d-fe9f-448a-bf4c-00b5be7aa8db",
   "metadata": {},
   "outputs": [
    {
     "data": {
      "text/plain": [
       "'/global/u1/a/ajivani/WLROM/WhiteLight'"
      ]
     },
     "execution_count": 2,
     "metadata": {},
     "output_type": "execute_result"
    }
   ],
   "source": [
    "import os\n",
    "import scipy.signal\n",
    "os.getcwd()"
   ]
  },
  {
   "cell_type": "code",
   "execution_count": 3,
   "id": "09c59b9c-c151-4006-9897-b4ad9fcd213b",
   "metadata": {},
   "outputs": [],
   "source": [
    "current_dir = os.getcwd()"
   ]
  },
  {
   "cell_type": "code",
   "execution_count": 4,
   "id": "76036163-f2ea-4f1c-bed6-34e6145738c8",
   "metadata": {},
   "outputs": [],
   "source": [
    "import numpy as np\n",
    "from numpy import ogrid\n",
    "import pandas as pd\n",
    "import scipy.linalg as la\n",
    "import scipy.sparse as sparse\n",
    "import matplotlib.pyplot as plt\n",
    "\n",
    "import copy"
   ]
  },
  {
   "cell_type": "code",
   "execution_count": 5,
   "id": "cb9e4462-ab87-436b-99b6-95d6543c570f",
   "metadata": {},
   "outputs": [],
   "source": [
    "%matplotlib inline"
   ]
  },
  {
   "cell_type": "code",
   "execution_count": 6,
   "id": "2e802949-ef30-4f3f-88b3-25b57df31fad",
   "metadata": {
    "tags": []
   },
   "outputs": [],
   "source": [
    "%load_ext autoreload\n",
    "%autoreload 2"
   ]
  },
  {
   "cell_type": "code",
   "execution_count": 7,
   "id": "c21ccc84-cb81-4025-9215-6106becfd346",
   "metadata": {},
   "outputs": [],
   "source": [
    "import time"
   ]
  },
  {
   "cell_type": "code",
   "execution_count": 8,
   "id": "59d1908d-1e58-4774-be0b-6929238037ac",
   "metadata": {},
   "outputs": [],
   "source": [
    "from sunpy.visualization import colormaps as cm"
   ]
  },
  {
   "cell_type": "code",
   "execution_count": 9,
   "id": "d5a09465-78c6-4462-90af-a6d97bed4c56",
   "metadata": {},
   "outputs": [],
   "source": [
    "import torch\n",
    "import torch.nn as nn\n",
    "import torch.optim as optim\n",
    "import torch.nn.functional as F"
   ]
  },
  {
   "cell_type": "code",
   "execution_count": 10,
   "id": "39bf0b7a-ab80-484b-8343-8b197f2f0d93",
   "metadata": {},
   "outputs": [],
   "source": [
    "import argparse"
   ]
  },
  {
   "cell_type": "code",
   "execution_count": 11,
   "id": "9c7b1e47-d56b-485a-85c6-631518f5a384",
   "metadata": {},
   "outputs": [],
   "source": [
    "parser = argparse.ArgumentParser()\n",
    "parser.add_argument('--tol', type=float, default=1e-3)\n",
    "parser.add_argument('--adjoint', type=eval, default=True, choices=[True, False])\n",
    "parser.add_argument('--lr', type=float, default=0.1)\n",
    "parser.add_argument('--debug', action='store_true')\n",
    "parser.add_argument('-runCNN', type=eval, default=True, choices=[True, False])\n",
    "parser.add_argument('-resize', type=eval, default=False, choices=[True, False]) # whether or not to resize the images. We will try wo resizing for VAE!!!\n",
    "parser.add_argument('-latent_dim', type=int, default=16)\n",
    "\n",
    "args = parser.parse_args(args=())"
   ]
  },
  {
   "cell_type": "code",
   "execution_count": 12,
   "id": "40d7f6d7-695f-4f36-a6e5-d1c23cec69f8",
   "metadata": {
    "tags": []
   },
   "outputs": [
    {
     "data": {
      "text/plain": [
       "Namespace(adjoint=True, debug=False, latent_dim=16, lr=0.1, resize=False, runCNN=True, tol=0.001)"
      ]
     },
     "execution_count": 12,
     "metadata": {},
     "output_type": "execute_result"
    }
   ],
   "source": [
    "args"
   ]
  },
  {
   "cell_type": "code",
   "execution_count": 13,
   "id": "2a45feb9-33d3-4cb2-9dd4-7573a8033efc",
   "metadata": {},
   "outputs": [
    {
     "data": {
      "text/plain": [
       "0.001"
      ]
     },
     "execution_count": 13,
     "metadata": {},
     "output_type": "execute_result"
    }
   ],
   "source": [
    "args.tol"
   ]
  },
  {
   "cell_type": "code",
   "execution_count": 14,
   "id": "5aa670d8-489b-4765-add1-a7706afa0132",
   "metadata": {
    "tags": []
   },
   "outputs": [],
   "source": [
    "!pip install -q --user torchdiffeq"
   ]
  },
  {
   "cell_type": "code",
   "execution_count": 15,
   "id": "f0e3294b-d98f-4a24-be39-d4c12c554a61",
   "metadata": {},
   "outputs": [],
   "source": [
    "if args.adjoint:\n",
    "    from torchdiffeq import odeint_adjoint as odeint\n",
    "else:\n",
    "    from torchdiffeq import odeint"
   ]
  },
  {
   "cell_type": "code",
   "execution_count": 16,
   "id": "ec0bf6dc-8569-4ca7-8d42-b9f9e437c916",
   "metadata": {},
   "outputs": [],
   "source": [
    "device = torch.device('cuda:0' if torch.cuda.is_available() else 'cpu')"
   ]
  },
  {
   "cell_type": "code",
   "execution_count": 17,
   "id": "f44c3ebb-9049-40ae-84a1-c85dd9c80f00",
   "metadata": {},
   "outputs": [
    {
     "data": {
      "text/plain": [
       "device(type='cuda', index=0)"
      ]
     },
     "execution_count": 17,
     "metadata": {},
     "output_type": "execute_result"
    }
   ],
   "source": [
    "device"
   ]
  },
  {
   "cell_type": "code",
   "execution_count": 18,
   "id": "74a4b036-2a0d-47f4-9da2-3f4aaa55f9cd",
   "metadata": {},
   "outputs": [
    {
     "data": {
      "image/png": "[encoded data removed]",
      "text/html": [
       "<div style=\"vertical-align: middle;\"><strong>SOHO LASCO C3_r</strong> </div><div class=\"cmap\"><img alt=\"SOHO LASCO C3_r colormap\" title=\"SOHO LASCO C3_r\" style=\"border: 1px solid #555;\" src=\"data:image/png;base64,iVBORw0KGgoAAAANSUhEUgAAAgAAAABACAYAAABsv8+/AAAAHnRFWHRUaXRsZQBTT0hPIExBU0NPIEMzX3IgY29sb3JtYXDMCW5EAAAAJHRFWHREZXNjcmlwdGlvbgBTT0hPIExBU0NPIEMzX3IgY29sb3JtYXAGtYcrAAAAMHRFWHRBdXRob3IATWF0cGxvdGxpYiB2My40LjIsIGh0dHBzOi8vbWF0cGxvdGxpYi5vcmes1mPdAAAAMnRFWHRTb2Z0d2FyZQBNYXRwbG90bGliIHYzLjQuMiwgaHR0cHM6Ly9tYXRwbG90bGliLm9yZ4Jw/PoAAAHFSURBVHic7dZBbsIwFEDB397/zKSLQisR3DQtEos3s0EksWNjCb23bdu2mZnL58dcv+6+L6/P7fo8dfzq+VePX847/xt/ff35c5jb9T+Ov3v/dnn8/P3n7J57vP/VfLO7vxi/mGd2z51b/3a5n+fc+vf7OFj/4T7mx+eOz+Hg/UfncPL3++/5v3r9vz7/68Eu1z8/3z+aZ+Z371nN8z3+3Lpv99fjD9b99b/xx3Xv/r/OrfvV+z9/fs/d/3r8uXW/DwCQIwAAIEgAAECQAACAIAEAAEECAACCBAAABAkAAAgSAAAQJAAAIEgAAECQAACAIAEAAEECAACCBAAABAkAAAgSAAAQJAAAIEgAAECQAACAIAEAAEECAACCBAAABAkAAAgSAAAQJAAAIEgAAECQAACAIAEAAEECAACCBAAABAkAAAgSAAAQJAAAIEgAAECQAACAIAEAAEECAACCBAAABAkAAAgSAAAQJAAAIEgAAECQAACAIAEAAEECAACCBAAABAkAAAgSAAAQJAAAIEgAAECQAACAIAEAAEECAACCBAAABAkAAAgSAAAQJAAAIEgAAECQAACAIAEAAEECAACCBAAABH0A+Gm+nfb+AtsAAAAASUVORK5CYII=\"></div><div style=\"vertical-align: middle; max-width: 514px; display: flex; justify-content: space-between;\"><div style=\"float: left;\"><div title=\"#ffffffff\" style=\"display: inline-block; width: 1em; height: 1em; margin: 0; vertical-align: middle; border: 1px solid #555; background-color: #ffffffff;\"></div> under</div><div style=\"margin: 0 auto; display: inline-block;\">bad <div title=\"#00000000\" style=\"display: inline-block; width: 1em; height: 1em; margin: 0; vertical-align: middle; border: 1px solid #555; background-color: #00000000;\"></div></div><div style=\"float: right;\">over <div title=\"#000000ff\" style=\"display: inline-block; width: 1em; height: 1em; margin: 0; vertical-align: middle; border: 1px solid #555; background-color: #000000ff;\"></div></div>"
      ],
      "text/plain": [
       "<matplotlib.colors.LinearSegmentedColormap at 0x7f4d957bd1f0>"
      ]
     },
     "execution_count": 18,
     "metadata": {},
     "output_type": "execute_result"
    }
   ],
   "source": [
    "lc3 = cm.cmlist['soholasco3'].reversed()\n",
    "lc3"
   ]
  },
  {
   "cell_type": "code",
   "execution_count": 19,
   "id": "f9c4c03b-3a19-4383-8142-b8c0ce45620b",
   "metadata": {},
   "outputs": [
    {
     "data": {
      "image/png": "[encoded data removed]",
      "text/html": [
       "<div style=\"vertical-align: middle;\"><strong>SOHO LASCO C3</strong> </div><div class=\"cmap\"><img alt=\"SOHO LASCO C3 colormap\" title=\"SOHO LASCO C3\" style=\"border: 1px solid #555;\" src=\"data:image/png;base64,iVBORw0KGgoAAAANSUhEUgAAAgAAAABACAYAAABsv8+/AAAAHHRFWHRUaXRsZQBTT0hPIExBU0NPIEMzIGNvbG9ybWFwEdDmtAAAACJ0RVh0RGVzY3JpcHRpb24AU09ITyBMQVNDTyBDMyBjb2xvcm1hcIyACPEAAAAwdEVYdEF1dGhvcgBNYXRwbG90bGliIHYzLjQuMiwgaHR0cHM6Ly9tYXRwbG90bGliLm9yZ6zWY90AAAAydEVYdFNvZnR3YXJlAE1hdHBsb3RsaWIgdjMuNC4yLCBodHRwczovL21hdHBsb3RsaWIub3JngnD8+gAAAaBJREFUeJzt1sFOwkAUQNFH//+fdWHVgE4KUSR4z1nQUPqmUwjJPc3My8zMzOnt9bQ6bt+f3+fm6LrV51/mb1xnOX/lOh/zN+774c//Pr892fNf+/vd+/nn7P1sR/vdj9tifnnd6jhn1y33v1znSfa/XG9x/6uf42D//+X7u/f+9//ftrj+8vx2ef8/nv88/7vzx/t9zPx63Z/O78cBAHIEAAAECQAACBIAABAkAAAgSAAAQJAAAIAgAQAAQQIAAIIEAAAECQAACBIAABAkAAAgSAAAQJAAAIAgAQAAQQIAAIIEAAAECQAACBIAABAkAAAgSAAAQJAAAIAgAQAAQQIAAIIEAAAECQAACBIAABAkAAAgSAAAQJAAAIAgAQAAQQIAAIIEAAAECQAACBIAABAkAAAgSAAAQJAAAIAgAQAAQQIAAIIEAAAECQAACBIAABAkAAAgSAAAQJAAAIAgAQAAQQIAAIIEAAAECQAACBIAABAkAAAgSAAAQJAAAIAgAQAAQQIAAIIEAAAECQAACBIAABAkAAAgSAAAQJAAAICgV2erBHwDlf7mAAAAAElFTkSuQmCC\"></div><div style=\"vertical-align: middle; max-width: 514px; display: flex; justify-content: space-between;\"><div style=\"float: left;\"><div title=\"#000000ff\" style=\"display: inline-block; width: 1em; height: 1em; margin: 0; vertical-align: middle; border: 1px solid #555; background-color: #000000ff;\"></div> under</div><div style=\"margin: 0 auto; display: inline-block;\">bad <div title=\"#00000000\" style=\"display: inline-block; width: 1em; height: 1em; margin: 0; vertical-align: middle; border: 1px solid #555; background-color: #00000000;\"></div></div><div style=\"float: right;\">over <div title=\"#ffffffff\" style=\"display: inline-block; width: 1em; height: 1em; margin: 0; vertical-align: middle; border: 1px solid #555; background-color: #ffffffff;\"></div></div>"
      ],
      "text/plain": [
       "<matplotlib.colors.LinearSegmentedColormap at 0x7f4e2f8d7640>"
      ]
     },
     "execution_count": 19,
     "metadata": {},
     "output_type": "execute_result"
    }
   ],
   "source": [
    "lc3_reg = cm.cmlist['soholasco3']\n",
    "lc3_reg"
   ]
  },
  {
   "cell_type": "code",
   "execution_count": 20,
   "id": "e3413479-155a-40f1-a7ba-daa5dfb5d094",
   "metadata": {},
   "outputs": [],
   "source": [
    "plt.rc(\"axes.spines\", right=True, top=True)\n",
    "plt.rc(\"figure\", dpi=300, \n",
    "       figsize=(9, 3)\n",
    "      )\n",
    "plt.rc(\"font\", family=\"serif\")\n",
    "plt.rc(\"legend\", edgecolor=\"none\", frameon=True)\n",
    "plt.style.use(\"dark_background\")"
   ]
  },
  {
   "cell_type": "code",
   "execution_count": 21,
   "id": "df9ec26f-eea4-4fdd-a29b-17fa860aab7e",
   "metadata": {},
   "outputs": [],
   "source": [
    "import sys\n",
    "# sys.path.insert(1, '/home/ajivani/WLROM/EdgeSS')\n",
    "sys.path.insert(1, os.path.join(current_dir, \"..\", \"EdgeSS\"))"
   ]
  },
  {
   "cell_type": "code",
   "execution_count": 22,
   "id": "494b619e-a904-43d9-ac37-59577163aadf",
   "metadata": {},
   "outputs": [],
   "source": [
    "import edge_utils as edut"
   ]
  },
  {
   "cell_type": "code",
   "execution_count": 23,
   "id": "670f58eb-0259-4792-bf64-f6be8aa287e8",
   "metadata": {
    "tags": []
   },
   "outputs": [],
   "source": [
    "import cnn_utils as ut"
   ]
  },
  {
   "cell_type": "markdown",
   "id": "00ca01ce-bb8b-4099-a413-26e6e7d70c86",
   "metadata": {},
   "source": [
    "### RESIZE DATA APPROPRIATELY"
   ]
  },
  {
   "cell_type": "code",
   "execution_count": 24,
   "id": "e02b0a51-3173-4f27-93c7-c4895237dda3",
   "metadata": {},
   "outputs": [],
   "source": [
    "X_orig = np.load(\"./CR2161_tDecay2h_Polar_Compressed.npy\")"
   ]
  },
  {
   "cell_type": "code",
   "execution_count": 25,
   "id": "27f4566d-ec57-48c9-beb3-f787d5fc03ee",
   "metadata": {
    "tags": []
   },
   "outputs": [
    {
     "data": {
      "text/plain": [
       "(64, 256, 90, 278)"
      ]
     },
     "execution_count": 25,
     "metadata": {},
     "output_type": "execute_result"
    }
   ],
   "source": [
    "X_orig.shape"
   ]
  },
  {
   "cell_type": "code",
   "execution_count": 26,
   "id": "3f4b49a9-95c9-41ac-bad5-490e5ea71690",
   "metadata": {},
   "outputs": [],
   "source": [
    "X = X_orig.reshape((64 * 256, 90, 278))[:, :, :]"
   ]
  },
  {
   "cell_type": "code",
   "execution_count": 27,
   "id": "f4a65e15-d0e4-463e-92b0-58ddbfc35a52",
   "metadata": {},
   "outputs": [
    {
     "data": {
      "text/plain": [
       "(16384, 90, 278)"
      ]
     },
     "execution_count": 27,
     "metadata": {},
     "output_type": "execute_result"
    }
   ],
   "source": [
    "X.shape"
   ]
  },
  {
   "cell_type": "code",
   "execution_count": 28,
   "id": "7726baa4-7777-4b5c-83ec-d97967f5d287",
   "metadata": {},
   "outputs": [],
   "source": [
    "sid=0"
   ]
  },
  {
   "cell_type": "code",
   "execution_count": 29,
   "id": "1027704b-fb2b-4b63-afbf-65ec94de760a",
   "metadata": {},
   "outputs": [],
   "source": [
    "ed_2161, sd_2161 = edut.load_edge_data_blobfree(2161)"
   ]
  },
  {
   "cell_type": "code",
   "execution_count": 30,
   "id": "bafd9c32-45c5-4693-90cb-5da7b7a2f69c",
   "metadata": {},
   "outputs": [],
   "source": [
    "tMinIdx, tMin, tMaxIdx, tMax = edut.getTMinTMax(ed_2161, simIdx=sid)"
   ]
  },
  {
   "cell_type": "code",
   "execution_count": 31,
   "id": "258fc6e1-80a4-4e83-990f-e43329ee801c",
   "metadata": {},
   "outputs": [
    {
     "data": {
      "text/plain": [
       "11"
      ]
     },
     "execution_count": 31,
     "metadata": {},
     "output_type": "execute_result"
    }
   ],
   "source": [
    "tMinIdx"
   ]
  },
  {
   "cell_type": "code",
   "execution_count": 32,
   "id": "75227b48-8429-4a0b-a04d-9afb9cbd07bc",
   "metadata": {
    "tags": []
   },
   "outputs": [
    {
     "data": {
      "text/plain": [
       "79"
      ]
     },
     "execution_count": 32,
     "metadata": {},
     "output_type": "execute_result"
    }
   ],
   "source": [
    "tMaxIdx"
   ]
  },
  {
   "cell_type": "code",
   "execution_count": 33,
   "id": "dfb5aad6-0a04-4ddd-ac21-d0ef0dfa0839",
   "metadata": {},
   "outputs": [],
   "source": [
    "all_times = np.linspace(2, 180, 90)"
   ]
  },
  {
   "cell_type": "code",
   "execution_count": 34,
   "id": "80775e67-0681-4c19-bbb4-71169851ef99",
   "metadata": {
    "lines_to_next_cell": 0
   },
   "outputs": [
    {
     "data": {
      "text/plain": [
       "array([ 24.,  26.,  28.,  30.,  32.,  34.,  36.,  38.,  40.,  42.,  44.,\n",
       "        46.,  48.,  50.,  52.,  54.,  56.,  58.,  60.,  62.,  64.,  66.,\n",
       "        68.,  70.,  72.,  74.,  76.,  78.,  80.,  82.,  84.,  86.,  88.,\n",
       "        90.,  92.,  94.,  96.,  98., 100., 102., 104., 106., 108., 110.,\n",
       "       112., 114., 116., 118., 120., 122., 124., 126., 128., 130., 132.,\n",
       "       134., 136., 138., 140., 142., 144., 146., 148., 150., 152., 154.,\n",
       "       156., 158., 160.])"
      ]
     },
     "execution_count": 34,
     "metadata": {},
     "output_type": "execute_result"
    }
   ],
   "source": [
    "valid_times = np.arange(tMin, tMax + 2, step=2)\n",
    "valid_times"
   ]
  },
  {
   "cell_type": "code",
   "execution_count": 35,
   "id": "9d9b8ef1-0040-49a0-92e5-fdb2102d923a",
   "metadata": {},
   "outputs": [
    {
     "data": {
      "text/plain": [
       "11"
      ]
     },
     "execution_count": 35,
     "metadata": {},
     "output_type": "execute_result"
    }
   ],
   "source": [
    "validTimeStartIdx = np.argwhere(all_times == valid_times[0])[0][0]\n",
    "validTimeStartIdx"
   ]
  },
  {
   "cell_type": "code",
   "execution_count": 36,
   "id": "89ed0264-4a49-4e76-a2cc-f639c80d7461",
   "metadata": {},
   "outputs": [
    {
     "data": {
      "text/plain": [
       "114.0"
      ]
     },
     "execution_count": 36,
     "metadata": {},
     "output_type": "execute_result"
    }
   ],
   "source": [
    "tTrainEnd = tMin + np.floor((2/3)*(tMax - tMin))\n",
    "tTrainEnd"
   ]
  },
  {
   "cell_type": "code",
   "execution_count": 37,
   "id": "0e594911-96f2-4cc7-9fca-31ddf5ac0437",
   "metadata": {},
   "outputs": [
    {
     "data": {
      "text/plain": [
       "45"
      ]
     },
     "execution_count": 37,
     "metadata": {},
     "output_type": "execute_result"
    }
   ],
   "source": [
    "trainEndIdx = np.argwhere(valid_times == tTrainEnd)[0][0]\n",
    "trainEndIdx"
   ]
  },
  {
   "cell_type": "code",
   "execution_count": 38,
   "id": "5a23b9d6-d57d-428c-bbcd-b9dc1d54c01f",
   "metadata": {},
   "outputs": [
    {
     "data": {
      "text/plain": [
       "56"
      ]
     },
     "execution_count": 38,
     "metadata": {},
     "output_type": "execute_result"
    }
   ],
   "source": [
    "trainEndIdxAllTimes = np.argwhere(all_times == tTrainEnd)[0][0]\n",
    "trainEndIdxAllTimes"
   ]
  },
  {
   "cell_type": "code",
   "execution_count": 39,
   "id": "322c9b44-5383-4bb5-90d2-16344e371cf0",
   "metadata": {
    "tags": []
   },
   "outputs": [
    {
     "data": {
      "text/plain": [
       "array([116., 118., 120., 122., 124., 126., 128., 130., 132., 134., 136.,\n",
       "       138., 140., 142., 144., 146., 148., 150., 152., 154., 156., 158.,\n",
       "       160., 162., 164., 166., 168., 170., 172., 174., 176., 178., 180.])"
      ]
     },
     "execution_count": 39,
     "metadata": {},
     "output_type": "execute_result"
    }
   ],
   "source": [
    "all_times[(trainEndIdxAllTimes + 1):]"
   ]
  },
  {
   "cell_type": "code",
   "execution_count": 40,
   "id": "cae94244-f206-45c9-945d-f8f71c6930cc",
   "metadata": {},
   "outputs": [],
   "source": [
    "tTrain = valid_times[:(trainEndIdx + 1)]"
   ]
  },
  {
   "cell_type": "code",
   "execution_count": 41,
   "id": "2e94cd31-01c2-41b1-b089-826d61401854",
   "metadata": {
    "tags": []
   },
   "outputs": [
    {
     "data": {
      "text/plain": [
       "array([ 24.,  26.,  28.,  30.,  32.,  34.,  36.,  38.,  40.,  42.,  44.,\n",
       "        46.,  48.,  50.,  52.,  54.,  56.,  58.,  60.,  62.,  64.,  66.,\n",
       "        68.,  70.,  72.,  74.,  76.,  78.,  80.,  82.,  84.,  86.,  88.,\n",
       "        90.,  92.,  94.,  96.,  98., 100., 102., 104., 106., 108., 110.,\n",
       "       112., 114.])"
      ]
     },
     "execution_count": 41,
     "metadata": {},
     "output_type": "execute_result"
    }
   ],
   "source": [
    "tTrain"
   ]
  },
  {
   "cell_type": "code",
   "execution_count": 42,
   "id": "16e04413-d0e1-4223-9ebe-32345a58868f",
   "metadata": {},
   "outputs": [
    {
     "data": {
      "text/plain": [
       "array([116., 118., 120., 122., 124., 126., 128., 130., 132., 134., 136.,\n",
       "       138., 140., 142., 144., 146., 148., 150., 152., 154., 156., 158.,\n",
       "       160.])"
      ]
     },
     "execution_count": 42,
     "metadata": {},
     "output_type": "execute_result"
    }
   ],
   "source": [
    "tTest = valid_times[(trainEndIdx + 1):]\n",
    "tTest"
   ]
  },
  {
   "cell_type": "code",
   "execution_count": 43,
   "id": "969037a4-af44-4445-b53a-5d151d57c8ca",
   "metadata": {},
   "outputs": [],
   "source": [
    "tTrainScaled = (tTrain - tMin) / (tMax - tMin)\n",
    "tTestScaled = (tTest - tMin) / (tMax - tMin)\n",
    "\n",
    "tAllScaled = (valid_times - tMin) / (tMax - tMin)"
   ]
  },
  {
   "cell_type": "code",
   "execution_count": 44,
   "id": "7f294577-23a5-4a21-b61a-f0884a94d3aa",
   "metadata": {
    "tags": []
   },
   "outputs": [
    {
     "data": {
      "text/plain": [
       "(69,)"
      ]
     },
     "execution_count": 44,
     "metadata": {},
     "output_type": "execute_result"
    }
   ],
   "source": [
    "tAllScaled.shape"
   ]
  },
  {
   "cell_type": "code",
   "execution_count": 45,
   "id": "88a8e6f7-2a04-4c6e-b6f6-8877c6cd085a",
   "metadata": {},
   "outputs": [
    {
     "data": {
      "text/plain": [
       "46"
      ]
     },
     "execution_count": 45,
     "metadata": {},
     "output_type": "execute_result"
    }
   ],
   "source": [
    "nTrain = len(tTrain)\n",
    "nTrain"
   ]
  },
  {
   "cell_type": "code",
   "execution_count": 46,
   "id": "834cde70-d06c-492a-9dcb-fd7fc6c62463",
   "metadata": {
    "tags": []
   },
   "outputs": [
    {
     "data": {
      "text/plain": [
       "torch.Size([69, 1, 64, 256])"
      ]
     },
     "execution_count": 46,
     "metadata": {},
     "output_type": "execute_result"
    }
   ],
   "source": [
    "x_orig_torch_full = X_orig[:, :, tMinIdx:(tMaxIdx + 1), sid]\n",
    "x_orig_torch_full = x_orig_torch_full.transpose((2, 0, 1))\n",
    "x_orig_torch_full = torch.from_numpy(np.expand_dims(np.float32(x_orig_torch_full), axis=1)).to(device)\n",
    "\n",
    "x_orig_torch_full.shape"
   ]
  },
  {
   "cell_type": "code",
   "execution_count": 47,
   "id": "fcd57191-bf19-4a76-b7e0-931cf73e1634",
   "metadata": {
    "tags": []
   },
   "outputs": [],
   "source": [
    "import torchvision\n",
    "import torchvision.transforms as T\n",
    "\n",
    "rs_dims = (32, 128)"
   ]
  },
  {
   "cell_type": "code",
   "execution_count": 48,
   "id": "2e44b711-1f37-4fa7-a472-a33df0dd8560",
   "metadata": {},
   "outputs": [
    {
     "data": {
      "text/plain": [
       "(torch.Size([69, 1, 64, 256]),\n",
       " torch.Size([46, 1, 64, 256]),\n",
       " torch.Size([46, 1, 16384]))"
      ]
     },
     "execution_count": 48,
     "metadata": {},
     "output_type": "execute_result"
    }
   ],
   "source": [
    "# Slice data for a particular sID!\n",
    "x_train_orig = X_orig[:, :, validTimeStartIdx:(trainEndIdxAllTimes + 1), sid]\n",
    "x_train_orig = x_train_orig.transpose((2, 0, 1))\n",
    "x_train_orig_torch = torch.from_numpy(np.expand_dims(np.float32(x_train_orig), axis=1)).to(device)\n",
    "\n",
    "x_orig_torch_full = X_orig[:, :, tMinIdx:(tMaxIdx + 1), sid]\n",
    "x_orig_torch_full = x_orig_torch_full.transpose((2, 0, 1))\n",
    "x_orig_torch_full = torch.from_numpy(np.expand_dims(np.float32(x_orig_torch_full), axis=1)).to(device)\n",
    "\n",
    "x_train_flat = X[:, validTimeStartIdx:(trainEndIdxAllTimes + 1), sid]\n",
    "x_train_flat = x_train_flat.transpose((1, 0))\n",
    "x_train_flat_torch = torch.from_numpy(np.expand_dims(np.float32(x_train_flat), axis=1)).to(device)\n",
    "\n",
    "if args.resize:\n",
    "    x_train_orig_torch = T.Resize(size=rs_dims, antialias=True)(x_train_orig_torch)\n",
    "    x_orig_torch_full = T.Resize(size=rs_dims, antialias=True)(x_orig_torch_full)\n",
    "    x_train_flat_torch = x_train_orig_torch.flatten(start_dim=2, end_dim=3)\n",
    "\n",
    "x_orig_torch_full.shape, x_train_orig_torch.shape, x_train_flat_torch.shape"
   ]
  },
  {
   "cell_type": "code",
   "execution_count": 49,
   "id": "b42b4402-8d57-4eef-ac6f-79743a497cdc",
   "metadata": {
    "tags": []
   },
   "outputs": [
    {
     "data": {
      "text/plain": [
       "(torch.Size([1, 1, 64, 256]), torch.Size([1, 16384]))"
      ]
     },
     "execution_count": 49,
     "metadata": {},
     "output_type": "execute_result"
    }
   ],
   "source": [
    "x0_train_orig = x_train_orig[tMinIdx, :, :]\n",
    "x0_train_orig_torch = torch.from_numpy(np.expand_dims(np.float32(x0_train_orig), axis=(0, 1))).to(device)\n",
    "\n",
    "if args.resize:\n",
    "    x0_train_orig_torch = T.Resize(size=rs_dims, antialias=True)(x0_train_orig_torch)\n",
    "\n",
    "\n",
    "# x0_train_flat = x0_train_orig.flatten()\n",
    "# x0_train_flat_torch = torch.from_numpy(np.float32(x0_train_flat)).reshape((1, len(x0_train_flat))).to(device)\n",
    "\n",
    "x0_train_flat_torch = torch.flatten(x0_train_orig_torch, start_dim=1)\n",
    "\n",
    "x0_train_orig_torch.shape, x0_train_flat_torch.shape"
   ]
  },
  {
   "cell_type": "code",
   "execution_count": 50,
   "id": "3a1839e4-4ed9-47de-890b-a5e4e64379ae",
   "metadata": {
    "tags": []
   },
   "outputs": [
    {
     "data": {
      "text/plain": [
       "torch.Size([46, 1, 16384])"
      ]
     },
     "execution_count": 50,
     "metadata": {},
     "output_type": "execute_result"
    }
   ],
   "source": [
    "torch.flatten(x_train_orig_torch, start_dim=2, end_dim=3).shape"
   ]
  },
  {
   "cell_type": "code",
   "execution_count": 51,
   "id": "dddd70db-9c4e-4376-a234-df1fb0d05109",
   "metadata": {
    "tags": []
   },
   "outputs": [
    {
     "data": {
      "text/plain": [
       "(torch.Size([69]), torch.Size([46]))"
      ]
     },
     "execution_count": 51,
     "metadata": {},
     "output_type": "execute_result"
    }
   ],
   "source": [
    "t_train_torch = torch.tensor(np.float32(tTrainScaled)).to(device)\n",
    "t_torch_full = torch.tensor(np.float32(tAllScaled)).to(device)\n",
    "\n",
    "t_torch_full.shape, t_train_torch.shape"
   ]
  },
  {
   "cell_type": "code",
   "execution_count": 52,
   "id": "efa9b297-2405-45f0-8a08-bbf1ff7cc910",
   "metadata": {
    "tags": []
   },
   "outputs": [],
   "source": [
    "data_size = t_train_torch.shape[0]\n",
    "batch_time = 5\n",
    "batch_size = 10"
   ]
  },
  {
   "cell_type": "markdown",
   "id": "d289d020-82f3-4920-aff6-2d5f1645f07c",
   "metadata": {},
   "source": [
    "#### Define Convolutional VAE architecture.\n",
    "\n",
    "Since the Fully Connected layers would map to latent dimension here and not a full flattened image, the number of parameters will not grow as quickly.\n",
    "\n",
    "We need to check if we still need the `GroupNorm` we were defining for the original CNN based architecture."
   ]
  },
  {
   "cell_type": "code",
   "execution_count": 53,
   "id": "b0c50221-5349-42d4-909a-b0afb86b1daa",
   "metadata": {
    "tags": []
   },
   "outputs": [],
   "source": [
    "kernel_size = 4\n",
    "init_channels = 16\n",
    "image_channels = 1\n",
    "latent_dim = args.latent_dim"
   ]
  },
  {
   "cell_type": "code",
   "execution_count": 54,
   "id": "58a0923d-56ee-4321-8fe8-4b3cde6ab989",
   "metadata": {
    "tags": []
   },
   "outputs": [],
   "source": [
    "class ConvVAE(nn.Module):\n",
    "    def __init__(self, ldim):\n",
    "        super(ConvVAE, self).__init__()\n",
    "\n",
    "        # encoder\n",
    "        self.enc1 = nn.Conv2d(in_channels=image_channels, out_channels=init_channels*4, kernel_size=kernel_size - 1,\n",
    "            stride=2, padding=1)\n",
    "        self.enc2 = nn.Conv2d(in_channels=init_channels*4, out_channels=init_channels*8, kernel_size=kernel_size - 1,\n",
    "            stride=2, padding=1)\n",
    "        self.enc3 = nn.Conv2d(in_channels=init_channels*8, out_channels=init_channels*8, kernel_size=kernel_size - 1,\n",
    "            stride=2, padding=1)\n",
    "        self.enc4 = nn.Conv2d(in_channels=init_channels*8, out_channels=64, kernel_size=kernel_size - 1,\n",
    "            stride=2, padding=1)\n",
    "        self.dropout = nn.Dropout(0.25)\n",
    "        # fully connected layers for learning representations\n",
    "        self.fc1 = nn.Linear(64 * 4 * 16, 128)  # Adjust the input size\n",
    "        self.fc_mu = nn.Linear(128, ldim)\n",
    "        self.fc_log_var = nn.Linear(128, ldim)\n",
    "        self.fc2 = nn.Linear(ldim, 64 * 4 * 16)  # Adjust the output size\n",
    "        # decoder\n",
    "        self.dec1 = nn.ConvTranspose2d(in_channels=64, out_channels=init_channels*8, kernel_size=kernel_size,\n",
    "            stride=2, padding=1)\n",
    "        self.dec2 = nn.ConvTranspose2d(in_channels=init_channels*8, out_channels=init_channels*8, kernel_size=kernel_size,\n",
    "            stride=2, padding=1)\n",
    "        self.dec3 = nn.ConvTranspose2d(in_channels=init_channels*8, out_channels=init_channels*4, kernel_size=kernel_size,\n",
    "            stride=2, padding=1)\n",
    "        self.dec4 = nn.ConvTranspose2d(in_channels=init_channels*4, out_channels=image_channels, kernel_size=kernel_size,\n",
    "            stride=2, padding=1)\n",
    "\n",
    "    def encoder(self, x):\n",
    "        x = F.relu(self.enc1(x))\n",
    "        x = self.dropout(x)\n",
    "        x = F.relu(self.enc2(x))\n",
    "        x = F.relu(self.enc3(x))\n",
    "        x = F.relu(self.enc4(x))\n",
    "        batch, _, _, _ = x.shape\n",
    "        x = x.view(batch, -1)  # Adjust the shape\n",
    "        hidden = self.fc1(x)\n",
    "        return hidden\n",
    "\n",
    "    def reparameterize(self, mu, log_var):\n",
    "        std = torch.exp(0.5*log_var)  # standard deviation\n",
    "        eps = torch.randn_like(std)  # 'randn_like' as we need the same size\n",
    "        sample = mu + (eps * std)  # sampling\n",
    "        return sample\n",
    "\n",
    "    def decoder(self, z):\n",
    "        x = self.fc2(z)\n",
    "        x = x.view(-1, 64, 4, 16)  # Adjust the shape\n",
    "        x = F.relu(self.dec1(x))\n",
    "        x = F.relu(self.dec2(x))\n",
    "        x = F.relu(self.dec3(x))\n",
    "        x = self.dropout(x)\n",
    "        reconstruction = torch.sigmoid(self.dec4(x))\n",
    "        return reconstruction\n",
    "\n",
    "    def forward(self, x):\n",
    "        hidden = self.encoder(x)\n",
    "        mu = self.fc_mu(hidden)\n",
    "        log_var = self.fc_log_var(hidden)\n",
    "        # get the latent vector through reparameterization\n",
    "        z = self.reparameterize(mu, log_var)\n",
    "        \n",
    "        out = self.decoder(z)\n",
    "        return z, mu, log_var, out"
   ]
  },
  {
   "cell_type": "code",
   "execution_count": 55,
   "id": "ba4d2e89-8a01-4e1e-99d4-6583a9370c8d",
   "metadata": {
    "tags": []
   },
   "outputs": [],
   "source": [
    "tmin_all_sims = []\n",
    "tmax_all_sims = []\n",
    "\n",
    "for simIdx in range(len(sd_2161)):\n",
    "    tminidx, tmin, tmaxidx, tmax = edut.getTMinTMax(ed_2161, simIdx)\n",
    "    tmin_all_sims.append(tminidx)\n",
    "    tmax_all_sims.append(tmaxidx)"
   ]
  },
  {
   "cell_type": "code",
   "execution_count": 56,
   "id": "5ad916a9-8ab8-476f-bd6b-7812af6bedd6",
   "metadata": {
    "tags": []
   },
   "outputs": [
    {
     "data": {
      "text/plain": [
       "array([11, 32, 45, 36, 20, 22, 19, 16, 42, 15, 27, 31, 30, 39, 42, 20, 23,\n",
       "       35, 19, 22, 20, 30, 21, 30, 28, 15, 33, 20, 23, 14, 17, 39, 16, 14,\n",
       "       13, 31, 24, 16, 23, 19, 16, 37, 26, 35, 32, 22, 27, 21, 23, 42, 22,\n",
       "       20, 15, 23, 12, 23, 27, 18, 11, 18, 26, 10, 13, 19, 30, 24, 17, 15,\n",
       "       28, 16, 22, 25, 21, 20, 14, 27, 26, 18, 24, 19, 14, 25, 12, 32, 10,\n",
       "       20, 19, 15, 24, 17, 18, 12, 47, 21, 35, 17, 17, 21, 20, 24, 23, 13,\n",
       "       17, 28, 15, 44, 28, 23, 17, 27, 23, 16, 11, 29, 30, 25, 17, 32, 33,\n",
       "       14, 17, 15, 21, 19, 17, 11, 21, 26, 31, 21, 13, 19, 19, 12, 20, 40,\n",
       "       17, 13, 31, 29, 15, 16, 20, 26, 29, 17, 10, 13, 13, 15, 88, 24, 16,\n",
       "       18, 18, 16, 18, 30, 32, 19, 22, 22, 25, 12, 14, 17, 16, 19, 18, 24,\n",
       "       22, 24, 27, 38, 26, 11,  9, 24, 18, 12, 26, 16, 15, 25, 12, 17, 26,\n",
       "       37, 35, 20, 36, 33, 23, 16, 19, 21, 25, 25, 14, 15, 21, 15, 11, 12,\n",
       "       25, 35, 36, 20, 35, 25, 24, 16, 19, 21, 23, 22, 14, 16, 16, 21, 16,\n",
       "       13, 12, 26, 36, 36, 21, 36, 25, 24, 16, 19, 21, 23, 22, 14, 16, 21,\n",
       "       16, 13, 12, 17, 27, 36, 36, 20, 37, 33, 24, 16, 19, 21, 25, 26, 15,\n",
       "       17, 17, 22, 16, 26, 35, 35, 21, 35, 25, 24, 16, 20, 21, 24, 23, 15,\n",
       "       16, 16, 21, 16, 13, 12])"
      ]
     },
     "execution_count": 56,
     "metadata": {},
     "output_type": "execute_result"
    }
   ],
   "source": [
    "np.array(tmin_all_sims)"
   ]
  },
  {
   "cell_type": "code",
   "execution_count": 68,
   "id": "750b40b2-c7ed-4f5f-a393-847121234c32",
   "metadata": {
    "tags": []
   },
   "outputs": [],
   "source": [
    "x_orig_all_ics = torch.zeros((278, 1, 64, 256))\n",
    "for i in range(len(sd_2161)):\n",
    "    x_orig_all_ics[i, 0, :, :] = torch.tensor(np.float32(X_orig[:, :, 70, i])).to(device)"
   ]
  },
  {
   "cell_type": "code",
   "execution_count": 69,
   "id": "4eb85b10-8702-4406-bb6f-1c2070893de1",
   "metadata": {
    "tags": []
   },
   "outputs": [],
   "source": [
    "### LOAD FROM FILE FOR NOW FOR REPRODUCIBILITY\n",
    "scratch_dir = os.environ[\"PSCRATCH\"]\n",
    "\n",
    "sd_train = np.load(os.path.join(scratch_dir, \"trained_models_1d_edge\", \"sd_train.npy\"))\n",
    "sd_test  = np.load(os.path.join(scratch_dir, \"trained_models_1d_edge\", \"sd_test.npy\"))\n",
    "sd_calib = np.load(os.path.join(scratch_dir, \"trained_models_1d_edge\", \"sd_calib.npy\"))"
   ]
  },
  {
   "cell_type": "markdown",
   "id": "f4d99ae7-df9d-4eff-ae0a-71a33ef9e1f2",
   "metadata": {},
   "source": [
    "Split initial conditions according to train test etc. This is just to see if VAE can work across different samples and reproduce initial conditions accurately. Then the full version will also include a module for saving things in the latent space."
   ]
  },
  {
   "cell_type": "code",
   "execution_count": 70,
   "id": "a9e6ccf6-ebe8-456b-b65e-02a7481ffd76",
   "metadata": {
    "tags": []
   },
   "outputs": [
    {
     "data": {
      "text/plain": [
       "(torch.Size([157, 1, 64, 256]),\n",
       " torch.Size([52, 1, 64, 256]),\n",
       " torch.Size([53, 1, 64, 256]))"
      ]
     },
     "execution_count": 70,
     "metadata": {},
     "output_type": "execute_result"
    }
   ],
   "source": [
    "x_all_ics_train = x_orig_all_ics[[np.argwhere(sd_2161 == i)[0][0] for i in sd_train], :, :, :]\n",
    "x_all_ics_validation = x_orig_all_ics[[np.argwhere(sd_2161 == i)[0][0] for i in sd_calib], :, :, :]\n",
    "x_all_ics_test = x_orig_all_ics[[np.argwhere(sd_2161 == i)[0][0] for i in sd_test], :, :, :]\n",
    "\n",
    "x_all_ics_train.shape, x_all_ics_validation.shape, x_all_ics_test.shape"
   ]
  },
  {
   "cell_type": "markdown",
   "id": "fabde530-5367-4423-add8-f73b1756534a",
   "metadata": {},
   "source": [
    "One thought is that the VAE may have really sparse data to learn on. But let's not jump to conclusions."
   ]
  },
  {
   "cell_type": "code",
   "execution_count": 71,
   "id": "bb462765-ebe3-43f5-a192-a5709e19f7fb",
   "metadata": {},
   "outputs": [],
   "source": [
    "from tqdm import tqdm"
   ]
  },
  {
   "cell_type": "code",
   "execution_count": 72,
   "id": "d41b210b-17f6-4577-ac3c-4399559c5ab3",
   "metadata": {
    "tags": []
   },
   "outputs": [],
   "source": [
    "from torch.utils.data import Dataset\n",
    "from torchvision import datasets\n",
    "from torchvision.transforms import ToTensor\n",
    "from torch.utils.data import random_split\n",
    "from torch.utils.data import DataLoader"
   ]
  },
  {
   "cell_type": "code",
   "execution_count": 73,
   "id": "a8f2ac55-d364-4df1-9a2b-1b8fcebe1158",
   "metadata": {
    "tags": []
   },
   "outputs": [],
   "source": [
    "import torch.backends.cudnn as cudnn\n",
    "from torch.autograd.variable import Variable\n",
    "import torchvision\n",
    "from torchvision import datasets, models, transforms"
   ]
  },
  {
   "cell_type": "code",
   "execution_count": 74,
   "id": "956988eb-a2f3-4c8f-82e4-ea3801271ea1",
   "metadata": {},
   "outputs": [],
   "source": [
    "batch_size = 10\n",
    "trainloader = DataLoader(x_all_ics_train, batch_size=batch_size, shuffle=True, num_workers= 2)\n",
    "valloader = DataLoader(x_all_ics_validation, batch_size=batch_size, shuffle=True, num_workers= 2)"
   ]
  },
  {
   "cell_type": "code",
   "execution_count": 64,
   "id": "8a02ff37-3b6a-4507-a776-e6f41f9a3323",
   "metadata": {},
   "outputs": [],
   "source": [
    "torch.backends.cudnn.benchmark = True\n",
    "\n",
    "mae_loss = lambda x, y : torch.mean(torch.abs(x - y))\n",
    "\n",
    "def final_loss(some_loss, beta, mu, logvar):\n",
    "    BCE = some_loss \n",
    "    KLD = torch.mean(-0.5 * torch.sum(1 + logvar - mu ** 2 - logvar.exp(), dim = 1), dim = 0)\n",
    "    return BCE + beta*KLD\n",
    "\n",
    "\n",
    "def train(dataloader, dataset, beta, loss_ct):\n",
    "    model.train()\n",
    "    running_loss = 0.0\n",
    "    counter = 0\n",
    "    for i, data in tqdm(enumerate(dataloader)):\n",
    "        counter += 1\n",
    "        data = data.to(device)\n",
    "        optimizer.zero_grad(set_to_none=True)\n",
    "\n",
    "        z, mu, logvar, out = model(data)\n",
    "        bce_loss = loss_ct(out, data)\n",
    "        loss = final_loss(bce_loss, beta, mu, logvar)\n",
    "\n",
    "        loss.backward()\n",
    "        running_loss += loss.item()\n",
    "        optimizer.step()\n",
    "        \n",
    "    train_loss = running_loss\n",
    "    # train_loss = running_loss / counter \n",
    "    return z, train_loss\n",
    "\n",
    "def validate(dataloader, dataset, beta, loss_ct):\n",
    "    model.eval()\n",
    "    running_loss = 0.0\n",
    "    counter = 0\n",
    "    with torch.no_grad():\n",
    "        for i, data in tqdm(enumerate(dataloader)):\n",
    "            counter += 1\n",
    "            data = data.to(device)\n",
    "            z, mu, logvar, out = model(data)\n",
    "            bce_loss = loss_ct(out, data)\n",
    "            loss = final_loss(bce_loss, beta, mu, logvar)\n",
    "            running_loss += loss.item()\n",
    "        \n",
    "    val_loss = running_loss\n",
    "    # val_loss = running_loss / counter\n",
    "    return z, val_loss"
   ]
  },
  {
   "cell_type": "code",
   "execution_count": 75,
   "id": "d32adf68-179f-4125-9825-137dc64453b3",
   "metadata": {
    "tags": []
   },
   "outputs": [],
   "source": [
    "import torch.optim as optim\n",
    "\n",
    "model = ConvVAE(latent_dim).to(device)\n",
    "# set the learning parameters\n",
    "lr = 0.001\n",
    "optimizer = optim.Adam(model.parameters(), lr=lr)\n",
    "criterion = torch.nn.MSELoss(reduction='mean')"
   ]
  },
  {
   "cell_type": "code",
   "execution_count": 76,
   "id": "5b314ca0-3370-4927-884d-ce32d4051d2f",
   "metadata": {
    "tags": []
   },
   "outputs": [],
   "source": [
    "def inf_generator(iterable):\n",
    "    \"\"\"Allows training with DataLoaders in a single infinite loop:\n",
    "        for i, (x, y) in enumerate(inf_generator(train_loader)):\n",
    "    \"\"\"\n",
    "    iterator = iterable.__iter__()\n",
    "    while True:\n",
    "        try:\n",
    "            yield iterator.__next__()\n",
    "        except StopIteration:\n",
    "            iterator = iterable.__iter__()"
   ]
  },
  {
   "cell_type": "code",
   "execution_count": 80,
   "id": "8b330cfd-2f2e-45f9-8163-1aca831a7a39",
   "metadata": {
    "tags": []
   },
   "outputs": [
    {
     "name": "stdout",
     "output_type": "stream",
     "text": [
      "Iter 1 | Val Loss 0.7074 | Train Loss 0.6103\n",
      "Iter 2 | Val Loss 0.5711 | Train Loss 0.7611\n",
      "Iter 3 | Val Loss 0.5380 | Train Loss 0.5567\n",
      "Iter 4 | Val Loss 0.4961 | Train Loss 0.5426\n",
      "Iter 5 | Val Loss 0.4643 | Train Loss 0.4906\n",
      "Iter 6 | Val Loss 0.3629 | Train Loss 0.4316\n",
      "Iter 7 | Val Loss 0.2921 | Train Loss 0.3558\n",
      "Iter 8 | Val Loss 0.2116 | Train Loss 0.2816\n",
      "Iter 9 | Val Loss 0.1711 | Train Loss 0.2232\n",
      "Iter 10 | Val Loss 0.1086 | Train Loss 0.1513\n",
      "Iter 11 | Val Loss 0.0703 | Train Loss 0.1069\n",
      "Iter 12 | Val Loss 0.0589 | Train Loss 0.0774\n",
      "Iter 13 | Val Loss 0.0492 | Train Loss 0.0695\n",
      "Iter 14 | Val Loss 0.0536 | Train Loss 0.0518\n",
      "Iter 15 | Val Loss 0.0517 | Train Loss 0.0457\n",
      "Iter 16 | Val Loss 0.0451 | Train Loss 0.0397\n",
      "Iter 17 | Val Loss 0.0406 | Train Loss 0.0450\n",
      "Iter 18 | Val Loss 0.0417 | Train Loss 0.0328\n",
      "Iter 19 | Val Loss 0.0383 | Train Loss 0.0434\n",
      "Iter 20 | Val Loss 0.0490 | Train Loss 0.0361\n",
      "Iter 21 | Val Loss 0.0448 | Train Loss 0.0354\n",
      "Iter 22 | Val Loss 0.0403 | Train Loss 0.0467\n",
      "Iter 23 | Val Loss 0.0366 | Train Loss 0.0222\n",
      "Iter 24 | Val Loss 0.0329 | Train Loss 0.0348\n",
      "Iter 25 | Val Loss 0.0396 | Train Loss 0.0325\n",
      "Iter 26 | Val Loss 0.0380 | Train Loss 0.0379\n",
      "Iter 27 | Val Loss 0.0427 | Train Loss 0.0271\n",
      "Iter 28 | Val Loss 0.0380 | Train Loss 0.0255\n",
      "Iter 29 | Val Loss 0.0338 | Train Loss 0.0223\n",
      "Iter 30 | Val Loss 0.0374 | Train Loss 0.0323\n",
      "Iter 31 | Val Loss 0.0355 | Train Loss 0.0192\n",
      "Iter 32 | Val Loss 0.0422 | Train Loss 0.0265\n",
      "Iter 33 | Val Loss 0.0393 | Train Loss 0.0422\n",
      "Iter 34 | Val Loss 0.0281 | Train Loss 0.0295\n",
      "Iter 35 | Val Loss 0.0215 | Train Loss 0.0219\n",
      "Iter 36 | Val Loss 0.0317 | Train Loss 0.0257\n",
      "Iter 37 | Val Loss 0.0362 | Train Loss 0.0383\n",
      "Iter 38 | Val Loss 0.0341 | Train Loss 0.0289\n",
      "Iter 39 | Val Loss 0.0492 | Train Loss 0.0210\n",
      "Iter 40 | Val Loss 0.0410 | Train Loss 0.0204\n",
      "Iter 41 | Val Loss 0.0266 | Train Loss 0.0187\n",
      "Iter 42 | Val Loss 0.0258 | Train Loss 0.0303\n",
      "Iter 43 | Val Loss 0.0251 | Train Loss 0.0279\n",
      "Iter 44 | Val Loss 0.0344 | Train Loss 0.0269\n",
      "Iter 45 | Val Loss 0.0327 | Train Loss 0.0220\n",
      "Iter 46 | Val Loss 0.0303 | Train Loss 0.0394\n",
      "Iter 47 | Val Loss 0.0399 | Train Loss 0.0265\n",
      "Iter 48 | Val Loss 0.0405 | Train Loss 0.0296\n",
      "Iter 49 | Val Loss 0.0306 | Train Loss 0.0277\n",
      "Iter 50 | Val Loss 0.0383 | Train Loss 0.0223\n",
      "Iter 51 | Val Loss 0.0422 | Train Loss 0.0324\n",
      "Iter 52 | Val Loss 0.0321 | Train Loss 0.0144\n",
      "Iter 53 | Val Loss 0.0282 | Train Loss 0.0362\n",
      "Iter 54 | Val Loss 0.0378 | Train Loss 0.0297\n",
      "Iter 55 | Val Loss 0.0369 | Train Loss 0.0266\n",
      "Iter 56 | Val Loss 0.0381 | Train Loss 0.0230\n",
      "Iter 57 | Val Loss 0.0293 | Train Loss 0.0260\n",
      "Iter 58 | Val Loss 0.0483 | Train Loss 0.0321\n",
      "Iter 59 | Val Loss 0.0285 | Train Loss 0.0273\n",
      "Iter 60 | Val Loss 0.0233 | Train Loss 0.0232\n",
      "Iter 61 | Val Loss 0.0365 | Train Loss 0.0237\n",
      "Iter 62 | Val Loss 0.0451 | Train Loss 0.0305\n",
      "Iter 63 | Val Loss 0.0262 | Train Loss 0.0459\n",
      "Iter 64 | Val Loss 0.0453 | Train Loss 0.0185\n",
      "Iter 65 | Val Loss 0.0349 | Train Loss 0.0341\n",
      "Iter 66 | Val Loss 0.0260 | Train Loss 0.0339\n",
      "Iter 67 | Val Loss 0.0414 | Train Loss 0.0270\n",
      "Iter 68 | Val Loss 0.0325 | Train Loss 0.0306\n",
      "Iter 69 | Val Loss 0.0406 | Train Loss 0.0273\n",
      "Iter 70 | Val Loss 0.0269 | Train Loss 0.0170\n",
      "Iter 71 | Val Loss 0.0353 | Train Loss 0.0327\n",
      "Iter 72 | Val Loss 0.0313 | Train Loss 0.0250\n",
      "Iter 73 | Val Loss 0.0398 | Train Loss 0.0289\n",
      "Iter 74 | Val Loss 0.0393 | Train Loss 0.0300\n",
      "Iter 75 | Val Loss 0.0424 | Train Loss 0.0279\n",
      "Iter 76 | Val Loss 0.0364 | Train Loss 0.0221\n",
      "Iter 77 | Val Loss 0.0352 | Train Loss 0.0230\n",
      "Iter 78 | Val Loss 0.0257 | Train Loss 0.0226\n",
      "Iter 79 | Val Loss 0.0368 | Train Loss 0.0239\n",
      "Iter 80 | Val Loss 0.0351 | Train Loss 0.0373\n",
      "Iter 81 | Val Loss 0.0373 | Train Loss 0.0225\n",
      "Iter 82 | Val Loss 0.0332 | Train Loss 0.0282\n",
      "Iter 83 | Val Loss 0.0439 | Train Loss 0.0283\n",
      "Iter 84 | Val Loss 0.0264 | Train Loss 0.0260\n",
      "Iter 85 | Val Loss 0.0365 | Train Loss 0.0230\n",
      "Iter 86 | Val Loss 0.0393 | Train Loss 0.0325\n",
      "Iter 87 | Val Loss 0.0385 | Train Loss 0.0248\n",
      "Iter 88 | Val Loss 0.0372 | Train Loss 0.0203\n",
      "Iter 89 | Val Loss 0.0501 | Train Loss 0.0270\n",
      "Iter 90 | Val Loss 0.0302 | Train Loss 0.0186\n",
      "Iter 91 | Val Loss 0.0364 | Train Loss 0.0278\n",
      "Iter 92 | Val Loss 0.0341 | Train Loss 0.0306\n",
      "Iter 93 | Val Loss 0.0292 | Train Loss 0.0430\n",
      "Iter 94 | Val Loss 0.0309 | Train Loss 0.0350\n",
      "Iter 95 | Val Loss 0.0278 | Train Loss 0.0278\n",
      "Iter 96 | Val Loss 0.0328 | Train Loss 0.0226\n",
      "Iter 97 | Val Loss 0.0332 | Train Loss 0.0247\n",
      "Iter 98 | Val Loss 0.0309 | Train Loss 0.0240\n",
      "Iter 99 | Val Loss 0.0256 | Train Loss 0.0319\n",
      "Iter 100 | Val Loss 0.0296 | Train Loss 0.0334\n",
      "Iter 101 | Val Loss 0.0375 | Train Loss 0.0270\n",
      "Iter 102 | Val Loss 0.0393 | Train Loss 0.0226\n",
      "Iter 103 | Val Loss 0.0290 | Train Loss 0.0275\n",
      "Iter 104 | Val Loss 0.0408 | Train Loss 0.0316\n",
      "Iter 105 | Val Loss 0.0357 | Train Loss 0.0305\n",
      "Iter 106 | Val Loss 0.0365 | Train Loss 0.0210\n",
      "Iter 107 | Val Loss 0.0320 | Train Loss 0.0338\n",
      "Iter 108 | Val Loss 0.0313 | Train Loss 0.0195\n",
      "Iter 109 | Val Loss 0.0273 | Train Loss 0.0307\n",
      "Iter 110 | Val Loss 0.0311 | Train Loss 0.0235\n",
      "Iter 111 | Val Loss 0.0298 | Train Loss 0.0303\n",
      "Iter 112 | Val Loss 0.0319 | Train Loss 0.0270\n",
      "Iter 113 | Val Loss 0.0313 | Train Loss 0.0199\n",
      "Iter 114 | Val Loss 0.0340 | Train Loss 0.0284\n",
      "Iter 115 | Val Loss 0.0388 | Train Loss 0.0251\n",
      "Iter 116 | Val Loss 0.0197 | Train Loss 0.0184\n",
      "Iter 117 | Val Loss 0.0359 | Train Loss 0.0239\n",
      "Iter 118 | Val Loss 0.0341 | Train Loss 0.0283\n",
      "Iter 119 | Val Loss 0.0345 | Train Loss 0.0376\n",
      "Iter 120 | Val Loss 0.0328 | Train Loss 0.0237\n",
      "Iter 121 | Val Loss 0.0373 | Train Loss 0.0293\n",
      "Iter 122 | Val Loss 0.0430 | Train Loss 0.0282\n",
      "Iter 123 | Val Loss 0.0458 | Train Loss 0.0268\n",
      "Iter 124 | Val Loss 0.0292 | Train Loss 0.0296\n",
      "Iter 125 | Val Loss 0.0427 | Train Loss 0.0240\n",
      "Iter 126 | Val Loss 0.0459 | Train Loss 0.0299\n",
      "Iter 127 | Val Loss 0.0468 | Train Loss 0.0387\n",
      "Iter 128 | Val Loss 0.0360 | Train Loss 0.0270\n",
      "Iter 129 | Val Loss 0.0320 | Train Loss 0.0409\n",
      "Iter 130 | Val Loss 0.0340 | Train Loss 0.0200\n",
      "Iter 131 | Val Loss 0.0310 | Train Loss 0.0330\n",
      "Iter 132 | Val Loss 0.0264 | Train Loss 0.0218\n",
      "Iter 133 | Val Loss 0.0459 | Train Loss 0.0283\n",
      "Iter 134 | Val Loss 0.0325 | Train Loss 0.0304\n",
      "Iter 135 | Val Loss 0.0327 | Train Loss 0.0383\n",
      "Iter 136 | Val Loss 0.0281 | Train Loss 0.0214\n",
      "Iter 137 | Val Loss 0.0310 | Train Loss 0.0267\n",
      "Iter 138 | Val Loss 0.0408 | Train Loss 0.0324\n",
      "Iter 139 | Val Loss 0.0413 | Train Loss 0.0162\n",
      "Iter 140 | Val Loss 0.0364 | Train Loss 0.0280\n",
      "Iter 141 | Val Loss 0.0361 | Train Loss 0.0169\n",
      "Iter 142 | Val Loss 0.0449 | Train Loss 0.0220\n",
      "Iter 143 | Val Loss 0.0317 | Train Loss 0.0352\n",
      "Iter 144 | Val Loss 0.0390 | Train Loss 0.0269\n",
      "Iter 145 | Val Loss 0.0453 | Train Loss 0.0223\n",
      "Iter 146 | Val Loss 0.0354 | Train Loss 0.0265\n",
      "Iter 147 | Val Loss 0.0462 | Train Loss 0.0286\n",
      "Iter 148 | Val Loss 0.0367 | Train Loss 0.0239\n",
      "Iter 149 | Val Loss 0.0319 | Train Loss 0.0330\n",
      "Iter 150 | Val Loss 0.0463 | Train Loss 0.0306\n",
      "Iter 151 | Val Loss 0.0354 | Train Loss 0.0188\n",
      "Iter 152 | Val Loss 0.0281 | Train Loss 0.0277\n",
      "Iter 153 | Val Loss 0.0254 | Train Loss 0.0190\n",
      "Iter 154 | Val Loss 0.0294 | Train Loss 0.0279\n",
      "Iter 155 | Val Loss 0.0345 | Train Loss 0.0250\n",
      "Iter 156 | Val Loss 0.0400 | Train Loss 0.0365\n",
      "Iter 157 | Val Loss 0.0341 | Train Loss 0.0277\n",
      "Iter 158 | Val Loss 0.0319 | Train Loss 0.0256\n",
      "Iter 159 | Val Loss 0.0405 | Train Loss 0.0341\n",
      "Iter 160 | Val Loss 0.0416 | Train Loss 0.0328\n",
      "Iter 161 | Val Loss 0.0258 | Train Loss 0.0321\n",
      "Iter 162 | Val Loss 0.0420 | Train Loss 0.0216\n",
      "Iter 163 | Val Loss 0.0202 | Train Loss 0.0320\n",
      "Iter 164 | Val Loss 0.0236 | Train Loss 0.0272\n",
      "Iter 165 | Val Loss 0.0376 | Train Loss 0.0275\n",
      "Iter 166 | Val Loss 0.0378 | Train Loss 0.0109\n",
      "Iter 167 | Val Loss 0.0395 | Train Loss 0.0392\n",
      "Iter 168 | Val Loss 0.0270 | Train Loss 0.0287\n",
      "Iter 169 | Val Loss 0.0284 | Train Loss 0.0317\n",
      "Iter 170 | Val Loss 0.0433 | Train Loss 0.0334\n",
      "Iter 171 | Val Loss 0.0238 | Train Loss 0.0287\n",
      "Iter 172 | Val Loss 0.0350 | Train Loss 0.0260\n",
      "Iter 173 | Val Loss 0.0308 | Train Loss 0.0337\n",
      "Iter 174 | Val Loss 0.0391 | Train Loss 0.0244\n",
      "Iter 175 | Val Loss 0.0264 | Train Loss 0.0177\n",
      "Iter 176 | Val Loss 0.0371 | Train Loss 0.0211\n",
      "Iter 177 | Val Loss 0.0259 | Train Loss 0.0281\n",
      "Iter 178 | Val Loss 0.0374 | Train Loss 0.0294\n",
      "Iter 179 | Val Loss 0.0432 | Train Loss 0.0148\n",
      "Iter 180 | Val Loss 0.0302 | Train Loss 0.0262\n",
      "Iter 181 | Val Loss 0.0415 | Train Loss 0.0175\n",
      "Iter 182 | Val Loss 0.0395 | Train Loss 0.0309\n",
      "Iter 183 | Val Loss 0.0310 | Train Loss 0.0396\n",
      "Iter 184 | Val Loss 0.0268 | Train Loss 0.0269\n",
      "Iter 185 | Val Loss 0.0313 | Train Loss 0.0284\n",
      "Iter 186 | Val Loss 0.0415 | Train Loss 0.0337\n",
      "Iter 187 | Val Loss 0.0285 | Train Loss 0.0334\n",
      "Iter 188 | Val Loss 0.0370 | Train Loss 0.0230\n",
      "Iter 189 | Val Loss 0.0273 | Train Loss 0.0246\n",
      "Iter 190 | Val Loss 0.0487 | Train Loss 0.0256\n",
      "Iter 191 | Val Loss 0.0252 | Train Loss 0.0260\n",
      "Iter 192 | Val Loss 0.0373 | Train Loss 0.0304\n",
      "Iter 193 | Val Loss 0.0329 | Train Loss 0.0279\n",
      "Iter 194 | Val Loss 0.0435 | Train Loss 0.0337\n",
      "Iter 195 | Val Loss 0.0324 | Train Loss 0.0257\n",
      "Iter 196 | Val Loss 0.0373 | Train Loss 0.0244\n",
      "Iter 197 | Val Loss 0.0301 | Train Loss 0.0287\n",
      "Iter 198 | Val Loss 0.0363 | Train Loss 0.0240\n",
      "Iter 199 | Val Loss 0.0398 | Train Loss 0.0298\n",
      "Iter 200 | Val Loss 0.0280 | Train Loss 0.0313\n",
      "Iter 201 | Val Loss 0.0331 | Train Loss 0.0277\n",
      "Iter 202 | Val Loss 0.0357 | Train Loss 0.0183\n",
      "Iter 203 | Val Loss 0.0347 | Train Loss 0.0254\n",
      "Iter 204 | Val Loss 0.0277 | Train Loss 0.0209\n",
      "Iter 205 | Val Loss 0.0440 | Train Loss 0.0317\n",
      "Iter 206 | Val Loss 0.0395 | Train Loss 0.0266\n",
      "Iter 207 | Val Loss 0.0375 | Train Loss 0.0247\n",
      "Iter 208 | Val Loss 0.0372 | Train Loss 0.0409\n",
      "Iter 209 | Val Loss 0.0354 | Train Loss 0.0192\n",
      "Iter 210 | Val Loss 0.0328 | Train Loss 0.0260\n",
      "Iter 211 | Val Loss 0.0342 | Train Loss 0.0266\n",
      "Iter 212 | Val Loss 0.0381 | Train Loss 0.0304\n",
      "Iter 213 | Val Loss 0.0361 | Train Loss 0.0269\n",
      "Iter 214 | Val Loss 0.0319 | Train Loss 0.0291\n",
      "Iter 215 | Val Loss 0.0239 | Train Loss 0.0155\n",
      "Iter 216 | Val Loss 0.0356 | Train Loss 0.0367\n",
      "Iter 217 | Val Loss 0.0292 | Train Loss 0.0222\n",
      "Iter 218 | Val Loss 0.0334 | Train Loss 0.0238\n",
      "Iter 219 | Val Loss 0.0301 | Train Loss 0.0320\n",
      "Iter 220 | Val Loss 0.0522 | Train Loss 0.0477\n",
      "Iter 221 | Val Loss 0.0255 | Train Loss 0.0258\n",
      "Iter 222 | Val Loss 0.0401 | Train Loss 0.0295\n",
      "Iter 223 | Val Loss 0.0423 | Train Loss 0.0163\n",
      "Iter 224 | Val Loss 0.0284 | Train Loss 0.0308\n",
      "Iter 225 | Val Loss 0.0324 | Train Loss 0.0300\n",
      "Iter 226 | Val Loss 0.0332 | Train Loss 0.0294\n",
      "Iter 227 | Val Loss 0.0467 | Train Loss 0.0298\n",
      "Iter 228 | Val Loss 0.0353 | Train Loss 0.0317\n",
      "Iter 229 | Val Loss 0.0477 | Train Loss 0.0328\n",
      "Iter 230 | Val Loss 0.0333 | Train Loss 0.0256\n",
      "Iter 231 | Val Loss 0.0343 | Train Loss 0.0373\n",
      "Iter 232 | Val Loss 0.0380 | Train Loss 0.0222\n",
      "Iter 233 | Val Loss 0.0262 | Train Loss 0.0228\n",
      "Iter 234 | Val Loss 0.0256 | Train Loss 0.0222\n",
      "Iter 235 | Val Loss 0.0259 | Train Loss 0.0278\n",
      "Iter 236 | Val Loss 0.0369 | Train Loss 0.0287\n",
      "Iter 237 | Val Loss 0.0306 | Train Loss 0.0144\n",
      "Iter 238 | Val Loss 0.0389 | Train Loss 0.0314\n",
      "Iter 239 | Val Loss 0.0423 | Train Loss 0.0217\n",
      "Iter 240 | Val Loss 0.0216 | Train Loss 0.0304\n",
      "Iter 241 | Val Loss 0.0356 | Train Loss 0.0393\n",
      "Iter 242 | Val Loss 0.0371 | Train Loss 0.0369\n",
      "Iter 243 | Val Loss 0.0297 | Train Loss 0.0214\n",
      "Iter 244 | Val Loss 0.0300 | Train Loss 0.0175\n",
      "Iter 245 | Val Loss 0.0430 | Train Loss 0.0279\n",
      "Iter 246 | Val Loss 0.0354 | Train Loss 0.0235\n",
      "Iter 247 | Val Loss 0.0348 | Train Loss 0.0215\n",
      "Iter 248 | Val Loss 0.0371 | Train Loss 0.0280\n",
      "Iter 249 | Val Loss 0.0385 | Train Loss 0.0307\n",
      "Iter 250 | Val Loss 0.0260 | Train Loss 0.0357\n",
      "Iter 251 | Val Loss 0.0439 | Train Loss 0.0339\n",
      "Iter 252 | Val Loss 0.0358 | Train Loss 0.0239\n",
      "Iter 253 | Val Loss 0.0369 | Train Loss 0.0167\n",
      "Iter 254 | Val Loss 0.0293 | Train Loss 0.0226\n",
      "Iter 255 | Val Loss 0.0402 | Train Loss 0.0330\n",
      "Iter 256 | Val Loss 0.0351 | Train Loss 0.0236\n",
      "Iter 257 | Val Loss 0.0339 | Train Loss 0.0326\n",
      "Iter 258 | Val Loss 0.0342 | Train Loss 0.0327\n",
      "Iter 259 | Val Loss 0.0436 | Train Loss 0.0271\n",
      "Iter 260 | Val Loss 0.0343 | Train Loss 0.0211\n",
      "Iter 261 | Val Loss 0.0377 | Train Loss 0.0274\n",
      "Iter 262 | Val Loss 0.0433 | Train Loss 0.0254\n",
      "Iter 263 | Val Loss 0.0447 | Train Loss 0.0323\n",
      "Iter 264 | Val Loss 0.0287 | Train Loss 0.0378\n",
      "Iter 265 | Val Loss 0.0346 | Train Loss 0.0284\n",
      "Iter 266 | Val Loss 0.0314 | Train Loss 0.0206\n",
      "Iter 267 | Val Loss 0.0336 | Train Loss 0.0262\n",
      "Iter 268 | Val Loss 0.0386 | Train Loss 0.0162\n",
      "Iter 269 | Val Loss 0.0288 | Train Loss 0.0291\n",
      "Iter 270 | Val Loss 0.0406 | Train Loss 0.0245\n",
      "Iter 271 | Val Loss 0.0319 | Train Loss 0.0327\n",
      "Iter 272 | Val Loss 0.0360 | Train Loss 0.0216\n",
      "Iter 273 | Val Loss 0.0330 | Train Loss 0.0373\n",
      "Iter 274 | Val Loss 0.0347 | Train Loss 0.0331\n",
      "Iter 275 | Val Loss 0.0305 | Train Loss 0.0367\n",
      "Iter 276 | Val Loss 0.0234 | Train Loss 0.0181\n",
      "Iter 277 | Val Loss 0.0225 | Train Loss 0.0337\n",
      "Iter 278 | Val Loss 0.0319 | Train Loss 0.0273\n",
      "Iter 279 | Val Loss 0.0325 | Train Loss 0.0342\n",
      "Iter 280 | Val Loss 0.0334 | Train Loss 0.0224\n",
      "Iter 281 | Val Loss 0.0316 | Train Loss 0.0265\n",
      "Iter 282 | Val Loss 0.0415 | Train Loss 0.0219\n",
      "Iter 283 | Val Loss 0.0359 | Train Loss 0.0177\n",
      "Iter 284 | Val Loss 0.0290 | Train Loss 0.0359\n",
      "Iter 285 | Val Loss 0.0344 | Train Loss 0.0236\n",
      "Iter 286 | Val Loss 0.0300 | Train Loss 0.0303\n",
      "Iter 287 | Val Loss 0.0329 | Train Loss 0.0187\n",
      "Iter 288 | Val Loss 0.0331 | Train Loss 0.0163\n",
      "Iter 289 | Val Loss 0.0319 | Train Loss 0.0333\n",
      "Iter 290 | Val Loss 0.0338 | Train Loss 0.0253\n",
      "Iter 291 | Val Loss 0.0373 | Train Loss 0.0374\n",
      "Iter 292 | Val Loss 0.0303 | Train Loss 0.0246\n",
      "Iter 293 | Val Loss 0.0271 | Train Loss 0.0329\n",
      "Iter 294 | Val Loss 0.0312 | Train Loss 0.0322\n",
      "Iter 295 | Val Loss 0.0355 | Train Loss 0.0255\n",
      "Iter 296 | Val Loss 0.0349 | Train Loss 0.0246\n",
      "Iter 297 | Val Loss 0.0296 | Train Loss 0.0194\n",
      "Iter 298 | Val Loss 0.0259 | Train Loss 0.0260\n",
      "Iter 299 | Val Loss 0.0306 | Train Loss 0.0336\n",
      "Iter 300 | Val Loss 0.0337 | Train Loss 0.0222\n",
      "Iter 301 | Val Loss 0.0451 | Train Loss 0.0269\n",
      "Iter 302 | Val Loss 0.0367 | Train Loss 0.0170\n",
      "Iter 303 | Val Loss 0.0322 | Train Loss 0.0263\n",
      "Iter 304 | Val Loss 0.0392 | Train Loss 0.0311\n",
      "Iter 305 | Val Loss 0.0384 | Train Loss 0.0283\n",
      "Iter 306 | Val Loss 0.0305 | Train Loss 0.0357\n",
      "Iter 307 | Val Loss 0.0404 | Train Loss 0.0212\n",
      "Iter 308 | Val Loss 0.0373 | Train Loss 0.0225\n",
      "Iter 309 | Val Loss 0.0403 | Train Loss 0.0308\n",
      "Iter 310 | Val Loss 0.0331 | Train Loss 0.0233\n",
      "Iter 311 | Val Loss 0.0341 | Train Loss 0.0283\n",
      "Iter 312 | Val Loss 0.0312 | Train Loss 0.0203\n",
      "Iter 313 | Val Loss 0.0239 | Train Loss 0.0301\n",
      "Iter 314 | Val Loss 0.0340 | Train Loss 0.0385\n",
      "Iter 315 | Val Loss 0.0320 | Train Loss 0.0184\n",
      "Iter 316 | Val Loss 0.0345 | Train Loss 0.0345\n",
      "Iter 317 | Val Loss 0.0377 | Train Loss 0.0177\n",
      "Iter 318 | Val Loss 0.0414 | Train Loss 0.0180\n",
      "Iter 319 | Val Loss 0.0294 | Train Loss 0.0284\n",
      "Iter 320 | Val Loss 0.0311 | Train Loss 0.0469\n",
      "Iter 321 | Val Loss 0.0316 | Train Loss 0.0412\n",
      "Iter 322 | Val Loss 0.0347 | Train Loss 0.0333\n",
      "Iter 323 | Val Loss 0.0244 | Train Loss 0.0232\n",
      "Iter 324 | Val Loss 0.0405 | Train Loss 0.0336\n",
      "Iter 325 | Val Loss 0.0311 | Train Loss 0.0185\n",
      "Iter 326 | Val Loss 0.0280 | Train Loss 0.0229\n",
      "Iter 327 | Val Loss 0.0335 | Train Loss 0.0245\n",
      "Iter 328 | Val Loss 0.0383 | Train Loss 0.0241\n",
      "Iter 329 | Val Loss 0.0311 | Train Loss 0.0240\n",
      "Iter 330 | Val Loss 0.0418 | Train Loss 0.0279\n",
      "Iter 331 | Val Loss 0.0396 | Train Loss 0.0253\n",
      "Iter 332 | Val Loss 0.0291 | Train Loss 0.0223\n",
      "Iter 333 | Val Loss 0.0443 | Train Loss 0.0351\n",
      "Iter 334 | Val Loss 0.0376 | Train Loss 0.0300\n",
      "Iter 335 | Val Loss 0.0373 | Train Loss 0.0237\n",
      "Iter 336 | Val Loss 0.0286 | Train Loss 0.0274\n",
      "Iter 337 | Val Loss 0.0275 | Train Loss 0.0335\n",
      "Iter 338 | Val Loss 0.0270 | Train Loss 0.0182\n",
      "Iter 339 | Val Loss 0.0255 | Train Loss 0.0235\n",
      "Iter 340 | Val Loss 0.0292 | Train Loss 0.0326\n",
      "Iter 341 | Val Loss 0.0257 | Train Loss 0.0230\n",
      "Iter 342 | Val Loss 0.0235 | Train Loss 0.0273\n",
      "Iter 343 | Val Loss 0.0399 | Train Loss 0.0279\n",
      "Iter 344 | Val Loss 0.0444 | Train Loss 0.0256\n",
      "Iter 345 | Val Loss 0.0265 | Train Loss 0.0276\n",
      "Iter 346 | Val Loss 0.0295 | Train Loss 0.0309\n",
      "Iter 347 | Val Loss 0.0460 | Train Loss 0.0330\n",
      "Iter 348 | Val Loss 0.0297 | Train Loss 0.0370\n",
      "Iter 349 | Val Loss 0.0262 | Train Loss 0.0186\n",
      "Iter 350 | Val Loss 0.0390 | Train Loss 0.0296\n",
      "Iter 351 | Val Loss 0.0310 | Train Loss 0.0257\n",
      "Iter 352 | Val Loss 0.0218 | Train Loss 0.0209\n",
      "Iter 353 | Val Loss 0.0428 | Train Loss 0.0335\n",
      "Iter 354 | Val Loss 0.0281 | Train Loss 0.0177\n",
      "Iter 355 | Val Loss 0.0482 | Train Loss 0.0235\n",
      "Iter 356 | Val Loss 0.0341 | Train Loss 0.0319\n",
      "Iter 357 | Val Loss 0.0331 | Train Loss 0.0337\n",
      "Iter 358 | Val Loss 0.0398 | Train Loss 0.0319\n",
      "Iter 359 | Val Loss 0.0448 | Train Loss 0.0335\n",
      "Iter 360 | Val Loss 0.0426 | Train Loss 0.0284\n",
      "Iter 361 | Val Loss 0.0412 | Train Loss 0.0215\n",
      "Iter 362 | Val Loss 0.0432 | Train Loss 0.0317\n",
      "Iter 363 | Val Loss 0.0312 | Train Loss 0.0226\n",
      "Iter 364 | Val Loss 0.0251 | Train Loss 0.0169\n",
      "Iter 365 | Val Loss 0.0258 | Train Loss 0.0299\n",
      "Iter 366 | Val Loss 0.0327 | Train Loss 0.0207\n",
      "Iter 367 | Val Loss 0.0293 | Train Loss 0.0352\n",
      "Iter 368 | Val Loss 0.0380 | Train Loss 0.0228\n",
      "Iter 369 | Val Loss 0.0343 | Train Loss 0.0210\n",
      "Iter 370 | Val Loss 0.0343 | Train Loss 0.0206\n",
      "Iter 371 | Val Loss 0.0348 | Train Loss 0.0245\n",
      "Iter 372 | Val Loss 0.0275 | Train Loss 0.0351\n",
      "Iter 373 | Val Loss 0.0377 | Train Loss 0.0342\n",
      "Iter 374 | Val Loss 0.0376 | Train Loss 0.0259\n",
      "Iter 375 | Val Loss 0.0410 | Train Loss 0.0323\n",
      "Iter 376 | Val Loss 0.0297 | Train Loss 0.0294\n",
      "Iter 377 | Val Loss 0.0342 | Train Loss 0.0282\n",
      "Iter 378 | Val Loss 0.0295 | Train Loss 0.0268\n",
      "Iter 379 | Val Loss 0.0319 | Train Loss 0.0399\n",
      "Iter 380 | Val Loss 0.0345 | Train Loss 0.0221\n",
      "Iter 381 | Val Loss 0.0286 | Train Loss 0.0308\n",
      "Iter 382 | Val Loss 0.0354 | Train Loss 0.0255\n",
      "Iter 383 | Val Loss 0.0366 | Train Loss 0.0187\n",
      "Iter 384 | Val Loss 0.0310 | Train Loss 0.0193\n",
      "Iter 385 | Val Loss 0.0363 | Train Loss 0.0292\n",
      "Iter 386 | Val Loss 0.0367 | Train Loss 0.0200\n",
      "Iter 387 | Val Loss 0.0287 | Train Loss 0.0284\n",
      "Iter 388 | Val Loss 0.0251 | Train Loss 0.0383\n",
      "Iter 389 | Val Loss 0.0354 | Train Loss 0.0262\n",
      "Iter 390 | Val Loss 0.0328 | Train Loss 0.0257\n",
      "Iter 391 | Val Loss 0.0413 | Train Loss 0.0367\n",
      "Iter 392 | Val Loss 0.0278 | Train Loss 0.0306\n",
      "Iter 393 | Val Loss 0.0289 | Train Loss 0.0310\n",
      "Iter 394 | Val Loss 0.0409 | Train Loss 0.0213\n",
      "Iter 395 | Val Loss 0.0302 | Train Loss 0.0227\n",
      "Iter 396 | Val Loss 0.0391 | Train Loss 0.0275\n",
      "Iter 397 | Val Loss 0.0321 | Train Loss 0.0263\n",
      "Iter 398 | Val Loss 0.0381 | Train Loss 0.0186\n",
      "Iter 399 | Val Loss 0.0333 | Train Loss 0.0289\n",
      "Iter 400 | Val Loss 0.0366 | Train Loss 0.0244\n",
      "Iter 401 | Val Loss 0.0341 | Train Loss 0.0287\n",
      "Iter 402 | Val Loss 0.0384 | Train Loss 0.0274\n",
      "Iter 403 | Val Loss 0.0376 | Train Loss 0.0269\n",
      "Iter 404 | Val Loss 0.0319 | Train Loss 0.0230\n",
      "Iter 405 | Val Loss 0.0414 | Train Loss 0.0278\n",
      "Iter 406 | Val Loss 0.0370 | Train Loss 0.0275\n",
      "Iter 407 | Val Loss 0.0336 | Train Loss 0.0285\n",
      "Iter 408 | Val Loss 0.0452 | Train Loss 0.0356\n",
      "Iter 409 | Val Loss 0.0366 | Train Loss 0.0171\n",
      "Iter 410 | Val Loss 0.0464 | Train Loss 0.0308\n",
      "Iter 411 | Val Loss 0.0286 | Train Loss 0.0197\n",
      "Iter 412 | Val Loss 0.0443 | Train Loss 0.0320\n",
      "Iter 413 | Val Loss 0.0319 | Train Loss 0.0263\n",
      "Iter 414 | Val Loss 0.0211 | Train Loss 0.0186\n",
      "Iter 415 | Val Loss 0.0288 | Train Loss 0.0423\n",
      "Iter 416 | Val Loss 0.0401 | Train Loss 0.0233\n",
      "Iter 417 | Val Loss 0.0222 | Train Loss 0.0251\n",
      "Iter 418 | Val Loss 0.0471 | Train Loss 0.0227\n",
      "Iter 419 | Val Loss 0.0404 | Train Loss 0.0162\n",
      "Iter 420 | Val Loss 0.0364 | Train Loss 0.0192\n",
      "Iter 421 | Val Loss 0.0388 | Train Loss 0.0331\n",
      "Iter 422 | Val Loss 0.0350 | Train Loss 0.0268\n",
      "Iter 423 | Val Loss 0.0257 | Train Loss 0.0239\n",
      "Iter 424 | Val Loss 0.0296 | Train Loss 0.0381\n",
      "Iter 425 | Val Loss 0.0354 | Train Loss 0.0294\n",
      "Iter 426 | Val Loss 0.0338 | Train Loss 0.0216\n",
      "Iter 427 | Val Loss 0.0357 | Train Loss 0.0284\n",
      "Iter 428 | Val Loss 0.0359 | Train Loss 0.0351\n",
      "Iter 429 | Val Loss 0.0322 | Train Loss 0.0314\n",
      "Iter 430 | Val Loss 0.0447 | Train Loss 0.0177\n",
      "Iter 431 | Val Loss 0.0256 | Train Loss 0.0414\n",
      "Iter 432 | Val Loss 0.0334 | Train Loss 0.0267\n",
      "Iter 433 | Val Loss 0.0444 | Train Loss 0.0146\n",
      "Iter 434 | Val Loss 0.0291 | Train Loss 0.0290\n",
      "Iter 435 | Val Loss 0.0316 | Train Loss 0.0259\n",
      "Iter 436 | Val Loss 0.0414 | Train Loss 0.0263\n",
      "Iter 437 | Val Loss 0.0366 | Train Loss 0.0292\n",
      "Iter 438 | Val Loss 0.0268 | Train Loss 0.0191\n",
      "Iter 439 | Val Loss 0.0386 | Train Loss 0.0294\n",
      "Iter 440 | Val Loss 0.0249 | Train Loss 0.0229\n",
      "Iter 441 | Val Loss 0.0325 | Train Loss 0.0267\n",
      "Iter 442 | Val Loss 0.0337 | Train Loss 0.0346\n",
      "Iter 443 | Val Loss 0.0350 | Train Loss 0.0252\n",
      "Iter 444 | Val Loss 0.0487 | Train Loss 0.0213\n",
      "Iter 445 | Val Loss 0.0361 | Train Loss 0.0320\n",
      "Iter 446 | Val Loss 0.0358 | Train Loss 0.0420\n",
      "Iter 447 | Val Loss 0.0367 | Train Loss 0.0324\n",
      "Iter 448 | Val Loss 0.0328 | Train Loss 0.0257\n",
      "Iter 449 | Val Loss 0.0337 | Train Loss 0.0237\n",
      "Iter 450 | Val Loss 0.0353 | Train Loss 0.0330\n",
      "Iter 451 | Val Loss 0.0288 | Train Loss 0.0314\n",
      "Iter 452 | Val Loss 0.0292 | Train Loss 0.0265\n",
      "Iter 453 | Val Loss 0.0418 | Train Loss 0.0283\n",
      "Iter 454 | Val Loss 0.0266 | Train Loss 0.0367\n",
      "Iter 455 | Val Loss 0.0329 | Train Loss 0.0225\n",
      "Iter 456 | Val Loss 0.0410 | Train Loss 0.0224\n",
      "Iter 457 | Val Loss 0.0408 | Train Loss 0.0242\n",
      "Iter 458 | Val Loss 0.0322 | Train Loss 0.0291\n",
      "Iter 459 | Val Loss 0.0310 | Train Loss 0.0390\n",
      "Iter 460 | Val Loss 0.0357 | Train Loss 0.0347\n",
      "Iter 461 | Val Loss 0.0255 | Train Loss 0.0179\n",
      "Iter 462 | Val Loss 0.0297 | Train Loss 0.0227\n",
      "Iter 463 | Val Loss 0.0392 | Train Loss 0.0202\n",
      "Iter 464 | Val Loss 0.0432 | Train Loss 0.0234\n",
      "Iter 465 | Val Loss 0.0436 | Train Loss 0.0280\n",
      "Iter 466 | Val Loss 0.0273 | Train Loss 0.0206\n",
      "Iter 467 | Val Loss 0.0281 | Train Loss 0.0234\n",
      "Iter 468 | Val Loss 0.0330 | Train Loss 0.0324\n",
      "Iter 469 | Val Loss 0.0390 | Train Loss 0.0289\n",
      "Iter 470 | Val Loss 0.0291 | Train Loss 0.0263\n",
      "Iter 471 | Val Loss 0.0252 | Train Loss 0.0142\n",
      "Iter 472 | Val Loss 0.0279 | Train Loss 0.0264\n",
      "Iter 473 | Val Loss 0.0389 | Train Loss 0.0258\n",
      "Iter 474 | Val Loss 0.0270 | Train Loss 0.0314\n",
      "Iter 475 | Val Loss 0.0354 | Train Loss 0.0234\n",
      "Iter 476 | Val Loss 0.0381 | Train Loss 0.0354\n",
      "Iter 477 | Val Loss 0.0425 | Train Loss 0.0221\n",
      "Iter 478 | Val Loss 0.0260 | Train Loss 0.0301\n",
      "Iter 479 | Val Loss 0.0217 | Train Loss 0.0356\n",
      "Iter 480 | Val Loss 0.0285 | Train Loss 0.0353\n",
      "Iter 481 | Val Loss 0.0376 | Train Loss 0.0293\n",
      "Iter 482 | Val Loss 0.0366 | Train Loss 0.0313\n",
      "Iter 483 | Val Loss 0.0240 | Train Loss 0.0332\n",
      "Iter 484 | Val Loss 0.0409 | Train Loss 0.0272\n",
      "Iter 485 | Val Loss 0.0382 | Train Loss 0.0298\n",
      "Iter 486 | Val Loss 0.0302 | Train Loss 0.0188\n",
      "Iter 487 | Val Loss 0.0443 | Train Loss 0.0250\n",
      "Iter 488 | Val Loss 0.0376 | Train Loss 0.0307\n",
      "Iter 489 | Val Loss 0.0255 | Train Loss 0.0332\n",
      "Iter 490 | Val Loss 0.0305 | Train Loss 0.0295\n",
      "Iter 491 | Val Loss 0.0416 | Train Loss 0.0223\n",
      "Iter 492 | Val Loss 0.0391 | Train Loss 0.0295\n",
      "Iter 493 | Val Loss 0.0315 | Train Loss 0.0354\n",
      "Iter 494 | Val Loss 0.0395 | Train Loss 0.0214\n",
      "Iter 495 | Val Loss 0.0328 | Train Loss 0.0234\n",
      "Iter 496 | Val Loss 0.0384 | Train Loss 0.0122\n",
      "Iter 497 | Val Loss 0.0398 | Train Loss 0.0236\n",
      "Iter 498 | Val Loss 0.0332 | Train Loss 0.0228\n",
      "Iter 499 | Val Loss 0.0278 | Train Loss 0.0307\n",
      "Iter 500 | Val Loss 0.0341 | Train Loss 0.0368\n",
      "Iter 501 | Val Loss 0.0328 | Train Loss 0.0210\n",
      "Iter 502 | Val Loss 0.0372 | Train Loss 0.0291\n",
      "Iter 503 | Val Loss 0.0354 | Train Loss 0.0213\n",
      "Iter 504 | Val Loss 0.0352 | Train Loss 0.0245\n",
      "Iter 505 | Val Loss 0.0316 | Train Loss 0.0281\n",
      "Iter 506 | Val Loss 0.0233 | Train Loss 0.0269\n",
      "Iter 507 | Val Loss 0.0313 | Train Loss 0.0249\n",
      "Iter 508 | Val Loss 0.0438 | Train Loss 0.0211\n",
      "Iter 509 | Val Loss 0.0315 | Train Loss 0.0216\n",
      "Iter 510 | Val Loss 0.0501 | Train Loss 0.0324\n",
      "Iter 511 | Val Loss 0.0348 | Train Loss 0.0401\n",
      "Iter 512 | Val Loss 0.0477 | Train Loss 0.0342\n",
      "Iter 513 | Val Loss 0.0346 | Train Loss 0.0415\n",
      "Iter 514 | Val Loss 0.0233 | Train Loss 0.0236\n",
      "Iter 515 | Val Loss 0.0377 | Train Loss 0.0264\n",
      "Iter 516 | Val Loss 0.0365 | Train Loss 0.0182\n",
      "Iter 517 | Val Loss 0.0293 | Train Loss 0.0341\n",
      "Iter 518 | Val Loss 0.0402 | Train Loss 0.0246\n",
      "Iter 519 | Val Loss 0.0271 | Train Loss 0.0239\n",
      "Iter 520 | Val Loss 0.0422 | Train Loss 0.0289\n",
      "Iter 521 | Val Loss 0.0345 | Train Loss 0.0243\n",
      "Iter 522 | Val Loss 0.0358 | Train Loss 0.0225\n",
      "Iter 523 | Val Loss 0.0313 | Train Loss 0.0260\n",
      "Iter 524 | Val Loss 0.0411 | Train Loss 0.0293\n",
      "Iter 525 | Val Loss 0.0311 | Train Loss 0.0291\n",
      "Iter 526 | Val Loss 0.0248 | Train Loss 0.0284\n",
      "Iter 527 | Val Loss 0.0453 | Train Loss 0.0298\n",
      "Iter 528 | Val Loss 0.0366 | Train Loss 0.0257\n",
      "Iter 529 | Val Loss 0.0354 | Train Loss 0.0266\n",
      "Iter 530 | Val Loss 0.0289 | Train Loss 0.0226\n",
      "Iter 531 | Val Loss 0.0335 | Train Loss 0.0333\n",
      "Iter 532 | Val Loss 0.0198 | Train Loss 0.0256\n",
      "Iter 533 | Val Loss 0.0457 | Train Loss 0.0249\n",
      "Iter 534 | Val Loss 0.0237 | Train Loss 0.0282\n",
      "Iter 535 | Val Loss 0.0210 | Train Loss 0.0256\n",
      "Iter 536 | Val Loss 0.0483 | Train Loss 0.0248\n",
      "Iter 537 | Val Loss 0.0412 | Train Loss 0.0301\n",
      "Iter 538 | Val Loss 0.0390 | Train Loss 0.0235\n",
      "Iter 539 | Val Loss 0.0320 | Train Loss 0.0359\n",
      "Iter 540 | Val Loss 0.0333 | Train Loss 0.0238\n",
      "Iter 541 | Val Loss 0.0390 | Train Loss 0.0330\n",
      "Iter 542 | Val Loss 0.0261 | Train Loss 0.0182\n",
      "Iter 543 | Val Loss 0.0293 | Train Loss 0.0359\n",
      "Iter 544 | Val Loss 0.0338 | Train Loss 0.0238\n",
      "Iter 545 | Val Loss 0.0394 | Train Loss 0.0260\n",
      "Iter 546 | Val Loss 0.0453 | Train Loss 0.0189\n",
      "Iter 547 | Val Loss 0.0373 | Train Loss 0.0243\n",
      "Iter 548 | Val Loss 0.0402 | Train Loss 0.0268\n",
      "Iter 549 | Val Loss 0.0443 | Train Loss 0.0348\n",
      "Iter 550 | Val Loss 0.0292 | Train Loss 0.0333\n",
      "Iter 551 | Val Loss 0.0383 | Train Loss 0.0264\n",
      "Iter 552 | Val Loss 0.0380 | Train Loss 0.0204\n",
      "Iter 553 | Val Loss 0.0377 | Train Loss 0.0286\n",
      "Iter 554 | Val Loss 0.0414 | Train Loss 0.0428\n",
      "Iter 555 | Val Loss 0.0491 | Train Loss 0.0271\n",
      "Iter 556 | Val Loss 0.0344 | Train Loss 0.0293\n",
      "Iter 557 | Val Loss 0.0345 | Train Loss 0.0191\n",
      "Iter 558 | Val Loss 0.0257 | Train Loss 0.0153\n",
      "Iter 559 | Val Loss 0.0378 | Train Loss 0.0317\n",
      "Iter 560 | Val Loss 0.0266 | Train Loss 0.0341\n",
      "Iter 561 | Val Loss 0.0443 | Train Loss 0.0345\n",
      "Iter 562 | Val Loss 0.0207 | Train Loss 0.0209\n",
      "Iter 563 | Val Loss 0.0278 | Train Loss 0.0186\n",
      "Iter 564 | Val Loss 0.0353 | Train Loss 0.0285\n",
      "Iter 565 | Val Loss 0.0362 | Train Loss 0.0433\n",
      "Iter 566 | Val Loss 0.0331 | Train Loss 0.0243\n",
      "Iter 567 | Val Loss 0.0336 | Train Loss 0.0228\n",
      "Iter 568 | Val Loss 0.0374 | Train Loss 0.0314\n",
      "Iter 569 | Val Loss 0.0304 | Train Loss 0.0264\n",
      "Iter 570 | Val Loss 0.0240 | Train Loss 0.0231\n",
      "Iter 571 | Val Loss 0.0422 | Train Loss 0.0339\n",
      "Iter 572 | Val Loss 0.0322 | Train Loss 0.0325\n",
      "Iter 573 | Val Loss 0.0366 | Train Loss 0.0228\n",
      "Iter 574 | Val Loss 0.0280 | Train Loss 0.0222\n",
      "Iter 575 | Val Loss 0.0334 | Train Loss 0.0242\n",
      "Iter 576 | Val Loss 0.0406 | Train Loss 0.0276\n",
      "Iter 577 | Val Loss 0.0293 | Train Loss 0.0257\n",
      "Iter 578 | Val Loss 0.0318 | Train Loss 0.0239\n",
      "Iter 579 | Val Loss 0.0211 | Train Loss 0.0240\n",
      "Iter 580 | Val Loss 0.0244 | Train Loss 0.0377\n",
      "Iter 581 | Val Loss 0.0432 | Train Loss 0.0300\n",
      "Iter 582 | Val Loss 0.0335 | Train Loss 0.0216\n",
      "Iter 583 | Val Loss 0.0321 | Train Loss 0.0257\n",
      "Iter 584 | Val Loss 0.0271 | Train Loss 0.0313\n",
      "Iter 585 | Val Loss 0.0388 | Train Loss 0.0246\n",
      "Iter 586 | Val Loss 0.0455 | Train Loss 0.0298\n",
      "Iter 587 | Val Loss 0.0388 | Train Loss 0.0209\n",
      "Iter 588 | Val Loss 0.0324 | Train Loss 0.0181\n",
      "Iter 589 | Val Loss 0.0301 | Train Loss 0.0259\n",
      "Iter 590 | Val Loss 0.0315 | Train Loss 0.0318\n",
      "Iter 591 | Val Loss 0.0308 | Train Loss 0.0348\n",
      "Iter 592 | Val Loss 0.0386 | Train Loss 0.0323\n",
      "Iter 593 | Val Loss 0.0391 | Train Loss 0.0304\n",
      "Iter 594 | Val Loss 0.0317 | Train Loss 0.0199\n",
      "Iter 595 | Val Loss 0.0446 | Train Loss 0.0280\n",
      "Iter 596 | Val Loss 0.0387 | Train Loss 0.0275\n",
      "Iter 597 | Val Loss 0.0353 | Train Loss 0.0281\n",
      "Iter 598 | Val Loss 0.0363 | Train Loss 0.0347\n",
      "Iter 599 | Val Loss 0.0324 | Train Loss 0.0232\n",
      "Iter 600 | Val Loss 0.0309 | Train Loss 0.0325\n",
      "Iter 601 | Val Loss 0.0359 | Train Loss 0.0208\n",
      "Iter 602 | Val Loss 0.0409 | Train Loss 0.0174\n",
      "Iter 603 | Val Loss 0.0400 | Train Loss 0.0282\n",
      "Iter 604 | Val Loss 0.0334 | Train Loss 0.0344\n",
      "Iter 605 | Val Loss 0.0289 | Train Loss 0.0312\n",
      "Iter 606 | Val Loss 0.0345 | Train Loss 0.0242\n",
      "Iter 607 | Val Loss 0.0312 | Train Loss 0.0267\n",
      "Iter 608 | Val Loss 0.0390 | Train Loss 0.0305\n",
      "Iter 609 | Val Loss 0.0211 | Train Loss 0.0255\n",
      "Iter 610 | Val Loss 0.0256 | Train Loss 0.0130\n",
      "Iter 611 | Val Loss 0.0365 | Train Loss 0.0275\n",
      "Iter 612 | Val Loss 0.0286 | Train Loss 0.0327\n",
      "Iter 613 | Val Loss 0.0431 | Train Loss 0.0187\n",
      "Iter 614 | Val Loss 0.0390 | Train Loss 0.0338\n",
      "Iter 615 | Val Loss 0.0281 | Train Loss 0.0262\n",
      "Iter 616 | Val Loss 0.0237 | Train Loss 0.0218\n",
      "Iter 617 | Val Loss 0.0340 | Train Loss 0.0329\n",
      "Iter 618 | Val Loss 0.0356 | Train Loss 0.0288\n",
      "Iter 619 | Val Loss 0.0376 | Train Loss 0.0316\n",
      "Iter 620 | Val Loss 0.0274 | Train Loss 0.0264\n",
      "Iter 621 | Val Loss 0.0357 | Train Loss 0.0361\n",
      "Iter 622 | Val Loss 0.0310 | Train Loss 0.0241\n",
      "Iter 623 | Val Loss 0.0403 | Train Loss 0.0365\n",
      "Iter 624 | Val Loss 0.0259 | Train Loss 0.0183\n",
      "Iter 625 | Val Loss 0.0311 | Train Loss 0.0319\n",
      "Iter 626 | Val Loss 0.0408 | Train Loss 0.0305\n",
      "Iter 627 | Val Loss 0.0362 | Train Loss 0.0307\n",
      "Iter 628 | Val Loss 0.0431 | Train Loss 0.0264\n",
      "Iter 629 | Val Loss 0.0293 | Train Loss 0.0278\n",
      "Iter 630 | Val Loss 0.0333 | Train Loss 0.0212\n",
      "Iter 631 | Val Loss 0.0292 | Train Loss 0.0310\n",
      "Iter 632 | Val Loss 0.0310 | Train Loss 0.0258\n",
      "Iter 633 | Val Loss 0.0365 | Train Loss 0.0307\n",
      "Iter 634 | Val Loss 0.0363 | Train Loss 0.0316\n",
      "Iter 635 | Val Loss 0.0271 | Train Loss 0.0246\n",
      "Iter 636 | Val Loss 0.0376 | Train Loss 0.0322\n",
      "Iter 637 | Val Loss 0.0413 | Train Loss 0.0223\n",
      "Iter 638 | Val Loss 0.0399 | Train Loss 0.0308\n",
      "Iter 639 | Val Loss 0.0395 | Train Loss 0.0187\n",
      "Iter 640 | Val Loss 0.0365 | Train Loss 0.0174\n",
      "Iter 641 | Val Loss 0.0378 | Train Loss 0.0208\n",
      "Iter 642 | Val Loss 0.0310 | Train Loss 0.0231\n",
      "Iter 643 | Val Loss 0.0523 | Train Loss 0.0248\n",
      "Iter 644 | Val Loss 0.0378 | Train Loss 0.0320\n",
      "Iter 645 | Val Loss 0.0327 | Train Loss 0.0321\n",
      "Iter 646 | Val Loss 0.0367 | Train Loss 0.0238\n",
      "Iter 647 | Val Loss 0.0371 | Train Loss 0.0301\n",
      "Iter 648 | Val Loss 0.0324 | Train Loss 0.0333\n",
      "Iter 649 | Val Loss 0.0237 | Train Loss 0.0283\n",
      "Iter 650 | Val Loss 0.0374 | Train Loss 0.0288\n",
      "Iter 651 | Val Loss 0.0376 | Train Loss 0.0256\n",
      "Iter 652 | Val Loss 0.0376 | Train Loss 0.0202\n",
      "Iter 653 | Val Loss 0.0363 | Train Loss 0.0297\n",
      "Iter 654 | Val Loss 0.0257 | Train Loss 0.0270\n",
      "Iter 655 | Val Loss 0.0333 | Train Loss 0.0254\n",
      "Iter 656 | Val Loss 0.0380 | Train Loss 0.0336\n",
      "Iter 657 | Val Loss 0.0267 | Train Loss 0.0207\n",
      "Iter 658 | Val Loss 0.0331 | Train Loss 0.0266\n",
      "Iter 659 | Val Loss 0.0351 | Train Loss 0.0289\n",
      "Iter 660 | Val Loss 0.0303 | Train Loss 0.0167\n",
      "Iter 661 | Val Loss 0.0286 | Train Loss 0.0168\n",
      "Iter 662 | Val Loss 0.0344 | Train Loss 0.0280\n",
      "Iter 663 | Val Loss 0.0404 | Train Loss 0.0275\n",
      "Iter 664 | Val Loss 0.0360 | Train Loss 0.0345\n",
      "Iter 665 | Val Loss 0.0348 | Train Loss 0.0314\n",
      "Iter 666 | Val Loss 0.0394 | Train Loss 0.0227\n",
      "Iter 667 | Val Loss 0.0396 | Train Loss 0.0199\n",
      "Iter 668 | Val Loss 0.0338 | Train Loss 0.0394\n",
      "Iter 669 | Val Loss 0.0365 | Train Loss 0.0349\n",
      "Iter 670 | Val Loss 0.0405 | Train Loss 0.0285\n",
      "Iter 671 | Val Loss 0.0345 | Train Loss 0.0335\n",
      "Iter 672 | Val Loss 0.0258 | Train Loss 0.0263\n",
      "Iter 673 | Val Loss 0.0416 | Train Loss 0.0253\n",
      "Iter 674 | Val Loss 0.0295 | Train Loss 0.0330\n",
      "Iter 675 | Val Loss 0.0491 | Train Loss 0.0364\n",
      "Iter 676 | Val Loss 0.0394 | Train Loss 0.0272\n",
      "Iter 677 | Val Loss 0.0397 | Train Loss 0.0302\n",
      "Iter 678 | Val Loss 0.0342 | Train Loss 0.0308\n",
      "Iter 679 | Val Loss 0.0267 | Train Loss 0.0272\n",
      "Iter 680 | Val Loss 0.0428 | Train Loss 0.0157\n",
      "Iter 681 | Val Loss 0.0322 | Train Loss 0.0264\n",
      "Iter 682 | Val Loss 0.0390 | Train Loss 0.0327\n",
      "Iter 683 | Val Loss 0.0308 | Train Loss 0.0227\n",
      "Iter 684 | Val Loss 0.0216 | Train Loss 0.0282\n",
      "Iter 685 | Val Loss 0.0242 | Train Loss 0.0234\n",
      "Iter 686 | Val Loss 0.0398 | Train Loss 0.0267\n",
      "Iter 687 | Val Loss 0.0289 | Train Loss 0.0230\n",
      "Iter 688 | Val Loss 0.0384 | Train Loss 0.0280\n",
      "Iter 689 | Val Loss 0.0416 | Train Loss 0.0204\n",
      "Iter 690 | Val Loss 0.0386 | Train Loss 0.0274\n",
      "Iter 691 | Val Loss 0.0432 | Train Loss 0.0316\n",
      "Iter 692 | Val Loss 0.0292 | Train Loss 0.0204\n",
      "Iter 693 | Val Loss 0.0393 | Train Loss 0.0330\n",
      "Iter 694 | Val Loss 0.0264 | Train Loss 0.0266\n",
      "Iter 695 | Val Loss 0.0334 | Train Loss 0.0210\n",
      "Iter 696 | Val Loss 0.0360 | Train Loss 0.0342\n",
      "Iter 697 | Val Loss 0.0361 | Train Loss 0.0297\n",
      "Iter 698 | Val Loss 0.0334 | Train Loss 0.0302\n",
      "Iter 699 | Val Loss 0.0329 | Train Loss 0.0260\n",
      "Iter 700 | Val Loss 0.0375 | Train Loss 0.0253\n",
      "Iter 701 | Val Loss 0.0305 | Train Loss 0.0266\n",
      "Iter 702 | Val Loss 0.0425 | Train Loss 0.0313\n",
      "Iter 703 | Val Loss 0.0419 | Train Loss 0.0331\n",
      "Iter 704 | Val Loss 0.0346 | Train Loss 0.0168\n",
      "Iter 705 | Val Loss 0.0313 | Train Loss 0.0244\n",
      "Iter 706 | Val Loss 0.0324 | Train Loss 0.0318\n",
      "Iter 707 | Val Loss 0.0422 | Train Loss 0.0265\n",
      "Iter 708 | Val Loss 0.0364 | Train Loss 0.0273\n",
      "Iter 709 | Val Loss 0.0449 | Train Loss 0.0302\n",
      "Iter 710 | Val Loss 0.0286 | Train Loss 0.0164\n",
      "Iter 711 | Val Loss 0.0346 | Train Loss 0.0287\n",
      "Iter 712 | Val Loss 0.0313 | Train Loss 0.0329\n",
      "Iter 713 | Val Loss 0.0332 | Train Loss 0.0246\n",
      "Iter 714 | Val Loss 0.0284 | Train Loss 0.0369\n",
      "Iter 715 | Val Loss 0.0226 | Train Loss 0.0255\n",
      "Iter 716 | Val Loss 0.0413 | Train Loss 0.0310\n",
      "Iter 717 | Val Loss 0.0345 | Train Loss 0.0304\n",
      "Iter 718 | Val Loss 0.0350 | Train Loss 0.0213\n",
      "Iter 719 | Val Loss 0.0361 | Train Loss 0.0241\n",
      "Iter 720 | Val Loss 0.0292 | Train Loss 0.0238\n",
      "Iter 721 | Val Loss 0.0398 | Train Loss 0.0254\n",
      "Iter 722 | Val Loss 0.0263 | Train Loss 0.0224\n",
      "Iter 723 | Val Loss 0.0337 | Train Loss 0.0278\n",
      "Iter 724 | Val Loss 0.0258 | Train Loss 0.0262\n",
      "Iter 725 | Val Loss 0.0397 | Train Loss 0.0263\n",
      "Iter 726 | Val Loss 0.0305 | Train Loss 0.0265\n",
      "Iter 727 | Val Loss 0.0420 | Train Loss 0.0409\n",
      "Iter 728 | Val Loss 0.0264 | Train Loss 0.0273\n",
      "Iter 729 | Val Loss 0.0334 | Train Loss 0.0254\n",
      "Iter 730 | Val Loss 0.0357 | Train Loss 0.0271\n",
      "Iter 731 | Val Loss 0.0429 | Train Loss 0.0279\n",
      "Iter 732 | Val Loss 0.0340 | Train Loss 0.0326\n",
      "Iter 733 | Val Loss 0.0369 | Train Loss 0.0178\n",
      "Iter 734 | Val Loss 0.0313 | Train Loss 0.0331\n",
      "Iter 735 | Val Loss 0.0286 | Train Loss 0.0268\n",
      "Iter 736 | Val Loss 0.0322 | Train Loss 0.0215\n",
      "Iter 737 | Val Loss 0.0363 | Train Loss 0.0274\n",
      "Iter 738 | Val Loss 0.0446 | Train Loss 0.0306\n",
      "Iter 739 | Val Loss 0.0242 | Train Loss 0.0172\n",
      "Iter 740 | Val Loss 0.0254 | Train Loss 0.0347\n",
      "Iter 741 | Val Loss 0.0434 | Train Loss 0.0287\n",
      "Iter 742 | Val Loss 0.0357 | Train Loss 0.0389\n",
      "Iter 743 | Val Loss 0.0306 | Train Loss 0.0282\n",
      "Iter 744 | Val Loss 0.0305 | Train Loss 0.0186\n",
      "Iter 745 | Val Loss 0.0337 | Train Loss 0.0233\n",
      "Iter 746 | Val Loss 0.0365 | Train Loss 0.0211\n",
      "Iter 747 | Val Loss 0.0391 | Train Loss 0.0283\n",
      "Iter 748 | Val Loss 0.0392 | Train Loss 0.0285\n",
      "Iter 749 | Val Loss 0.0331 | Train Loss 0.0280\n",
      "Iter 750 | Val Loss 0.0278 | Train Loss 0.0328\n",
      "Iter 751 | Val Loss 0.0285 | Train Loss 0.0201\n",
      "Iter 752 | Val Loss 0.0361 | Train Loss 0.0317\n",
      "Iter 753 | Val Loss 0.0315 | Train Loss 0.0274\n",
      "Iter 754 | Val Loss 0.0318 | Train Loss 0.0306\n",
      "Iter 755 | Val Loss 0.0356 | Train Loss 0.0212\n",
      "Iter 756 | Val Loss 0.0333 | Train Loss 0.0341\n",
      "Iter 757 | Val Loss 0.0375 | Train Loss 0.0237\n",
      "Iter 758 | Val Loss 0.0311 | Train Loss 0.0289\n",
      "Iter 759 | Val Loss 0.0355 | Train Loss 0.0387\n",
      "Iter 760 | Val Loss 0.0393 | Train Loss 0.0218\n",
      "Iter 761 | Val Loss 0.0326 | Train Loss 0.0221\n",
      "Iter 762 | Val Loss 0.0364 | Train Loss 0.0261\n",
      "Iter 763 | Val Loss 0.0307 | Train Loss 0.0314\n",
      "Iter 764 | Val Loss 0.0427 | Train Loss 0.0247\n",
      "Iter 765 | Val Loss 0.0419 | Train Loss 0.0257\n",
      "Iter 766 | Val Loss 0.0326 | Train Loss 0.0349\n",
      "Iter 767 | Val Loss 0.0348 | Train Loss 0.0199\n",
      "Iter 768 | Val Loss 0.0284 | Train Loss 0.0248\n",
      "Iter 769 | Val Loss 0.0268 | Train Loss 0.0264\n",
      "Iter 770 | Val Loss 0.0303 | Train Loss 0.0176\n",
      "Iter 771 | Val Loss 0.0376 | Train Loss 0.0272\n",
      "Iter 772 | Val Loss 0.0375 | Train Loss 0.0247\n",
      "Iter 773 | Val Loss 0.0378 | Train Loss 0.0259\n",
      "Iter 774 | Val Loss 0.0456 | Train Loss 0.0360\n",
      "Iter 775 | Val Loss 0.0378 | Train Loss 0.0250\n",
      "Iter 776 | Val Loss 0.0335 | Train Loss 0.0335\n",
      "Iter 777 | Val Loss 0.0389 | Train Loss 0.0205\n",
      "Iter 778 | Val Loss 0.0379 | Train Loss 0.0333\n",
      "Iter 779 | Val Loss 0.0266 | Train Loss 0.0246\n",
      "Iter 780 | Val Loss 0.0280 | Train Loss 0.0240\n",
      "Iter 781 | Val Loss 0.0295 | Train Loss 0.0279\n",
      "Iter 782 | Val Loss 0.0391 | Train Loss 0.0338\n",
      "Iter 783 | Val Loss 0.0415 | Train Loss 0.0255\n",
      "Iter 784 | Val Loss 0.0378 | Train Loss 0.0325\n",
      "Iter 785 | Val Loss 0.0423 | Train Loss 0.0383\n",
      "Iter 786 | Val Loss 0.0393 | Train Loss 0.0310\n",
      "Iter 787 | Val Loss 0.0268 | Train Loss 0.0210\n",
      "Iter 788 | Val Loss 0.0450 | Train Loss 0.0268\n",
      "Iter 789 | Val Loss 0.0323 | Train Loss 0.0210\n",
      "Iter 790 | Val Loss 0.0376 | Train Loss 0.0163\n",
      "Iter 791 | Val Loss 0.0341 | Train Loss 0.0339\n",
      "Iter 792 | Val Loss 0.0329 | Train Loss 0.0354\n",
      "Iter 793 | Val Loss 0.0304 | Train Loss 0.0240\n",
      "Iter 794 | Val Loss 0.0361 | Train Loss 0.0212\n",
      "Iter 795 | Val Loss 0.0284 | Train Loss 0.0285\n",
      "Iter 796 | Val Loss 0.0357 | Train Loss 0.0213\n",
      "Iter 797 | Val Loss 0.0254 | Train Loss 0.0263\n",
      "Iter 798 | Val Loss 0.0378 | Train Loss 0.0305\n",
      "Iter 799 | Val Loss 0.0316 | Train Loss 0.0324\n",
      "Iter 800 | Val Loss 0.0311 | Train Loss 0.0295\n",
      "Iter 801 | Val Loss 0.0245 | Train Loss 0.0228\n",
      "Iter 802 | Val Loss 0.0375 | Train Loss 0.0296\n",
      "Iter 803 | Val Loss 0.0354 | Train Loss 0.0352\n",
      "Iter 804 | Val Loss 0.0240 | Train Loss 0.0241\n",
      "Iter 805 | Val Loss 0.0382 | Train Loss 0.0289\n",
      "Iter 806 | Val Loss 0.0359 | Train Loss 0.0249\n",
      "Iter 807 | Val Loss 0.0373 | Train Loss 0.0263\n",
      "Iter 808 | Val Loss 0.0368 | Train Loss 0.0214\n",
      "Iter 809 | Val Loss 0.0361 | Train Loss 0.0266\n",
      "Iter 810 | Val Loss 0.0339 | Train Loss 0.0225\n",
      "Iter 811 | Val Loss 0.0274 | Train Loss 0.0328\n",
      "Iter 812 | Val Loss 0.0403 | Train Loss 0.0260\n",
      "Iter 813 | Val Loss 0.0405 | Train Loss 0.0359\n",
      "Iter 814 | Val Loss 0.0364 | Train Loss 0.0300\n",
      "Iter 815 | Val Loss 0.0375 | Train Loss 0.0266\n",
      "Iter 816 | Val Loss 0.0300 | Train Loss 0.0212\n",
      "Iter 817 | Val Loss 0.0475 | Train Loss 0.0286\n",
      "Iter 818 | Val Loss 0.0259 | Train Loss 0.0277\n",
      "Iter 819 | Val Loss 0.0275 | Train Loss 0.0269\n",
      "Iter 820 | Val Loss 0.0316 | Train Loss 0.0250\n",
      "Iter 821 | Val Loss 0.0319 | Train Loss 0.0328\n",
      "Iter 822 | Val Loss 0.0317 | Train Loss 0.0242\n",
      "Iter 823 | Val Loss 0.0302 | Train Loss 0.0308\n",
      "Iter 824 | Val Loss 0.0384 | Train Loss 0.0190\n",
      "Iter 825 | Val Loss 0.0442 | Train Loss 0.0194\n",
      "Iter 826 | Val Loss 0.0417 | Train Loss 0.0229\n",
      "Iter 827 | Val Loss 0.0407 | Train Loss 0.0281\n",
      "Iter 828 | Val Loss 0.0317 | Train Loss 0.0315\n",
      "Iter 829 | Val Loss 0.0335 | Train Loss 0.0365\n",
      "Iter 830 | Val Loss 0.0376 | Train Loss 0.0337\n",
      "Iter 831 | Val Loss 0.0334 | Train Loss 0.0207\n",
      "Iter 832 | Val Loss 0.0277 | Train Loss 0.0293\n",
      "Iter 833 | Val Loss 0.0409 | Train Loss 0.0282\n",
      "Iter 834 | Val Loss 0.0311 | Train Loss 0.0313\n",
      "Iter 835 | Val Loss 0.0332 | Train Loss 0.0434\n",
      "Iter 836 | Val Loss 0.0385 | Train Loss 0.0240\n",
      "Iter 837 | Val Loss 0.0196 | Train Loss 0.0308\n",
      "Iter 838 | Val Loss 0.0286 | Train Loss 0.0256\n",
      "Iter 839 | Val Loss 0.0379 | Train Loss 0.0309\n",
      "Iter 840 | Val Loss 0.0421 | Train Loss 0.0258\n",
      "Iter 841 | Val Loss 0.0326 | Train Loss 0.0228\n",
      "Iter 842 | Val Loss 0.0359 | Train Loss 0.0260\n",
      "Iter 843 | Val Loss 0.0348 | Train Loss 0.0238\n",
      "Iter 844 | Val Loss 0.0525 | Train Loss 0.0256\n",
      "Iter 845 | Val Loss 0.0290 | Train Loss 0.0283\n",
      "Iter 846 | Val Loss 0.0393 | Train Loss 0.0321\n",
      "Iter 847 | Val Loss 0.0427 | Train Loss 0.0194\n",
      "Iter 848 | Val Loss 0.0316 | Train Loss 0.0148\n",
      "Iter 849 | Val Loss 0.0319 | Train Loss 0.0318\n",
      "Iter 850 | Val Loss 0.0229 | Train Loss 0.0355\n",
      "Iter 851 | Val Loss 0.0318 | Train Loss 0.0275\n",
      "Iter 852 | Val Loss 0.0389 | Train Loss 0.0277\n",
      "Iter 853 | Val Loss 0.0307 | Train Loss 0.0315\n",
      "Iter 854 | Val Loss 0.0414 | Train Loss 0.0227\n",
      "Iter 855 | Val Loss 0.0419 | Train Loss 0.0277\n",
      "Iter 856 | Val Loss 0.0314 | Train Loss 0.0238\n",
      "Iter 857 | Val Loss 0.0234 | Train Loss 0.0228\n",
      "Iter 858 | Val Loss 0.0353 | Train Loss 0.0361\n",
      "Iter 859 | Val Loss 0.0262 | Train Loss 0.0295\n",
      "Iter 860 | Val Loss 0.0317 | Train Loss 0.0217\n",
      "Iter 861 | Val Loss 0.0464 | Train Loss 0.0331\n",
      "Iter 862 | Val Loss 0.0377 | Train Loss 0.0157\n",
      "Iter 863 | Val Loss 0.0375 | Train Loss 0.0275\n",
      "Iter 864 | Val Loss 0.0322 | Train Loss 0.0201\n",
      "Iter 865 | Val Loss 0.0248 | Train Loss 0.0248\n",
      "Iter 866 | Val Loss 0.0399 | Train Loss 0.0208\n",
      "Iter 867 | Val Loss 0.0260 | Train Loss 0.0433\n",
      "Iter 868 | Val Loss 0.0331 | Train Loss 0.0271\n",
      "Iter 869 | Val Loss 0.0294 | Train Loss 0.0268\n",
      "Iter 870 | Val Loss 0.0416 | Train Loss 0.0231\n",
      "Iter 871 | Val Loss 0.0286 | Train Loss 0.0267\n",
      "Iter 872 | Val Loss 0.0371 | Train Loss 0.0201\n",
      "Iter 873 | Val Loss 0.0359 | Train Loss 0.0328\n",
      "Iter 874 | Val Loss 0.0272 | Train Loss 0.0259\n",
      "Iter 875 | Val Loss 0.0443 | Train Loss 0.0313\n",
      "Iter 876 | Val Loss 0.0310 | Train Loss 0.0240\n",
      "Iter 877 | Val Loss 0.0396 | Train Loss 0.0326\n",
      "Iter 878 | Val Loss 0.0338 | Train Loss 0.0343\n",
      "Iter 879 | Val Loss 0.0387 | Train Loss 0.0197\n",
      "Iter 880 | Val Loss 0.0246 | Train Loss 0.0219\n",
      "Iter 881 | Val Loss 0.0417 | Train Loss 0.0149\n",
      "Iter 882 | Val Loss 0.0293 | Train Loss 0.0269\n",
      "Iter 883 | Val Loss 0.0364 | Train Loss 0.0232\n",
      "Iter 884 | Val Loss 0.0417 | Train Loss 0.0337\n",
      "Iter 885 | Val Loss 0.0342 | Train Loss 0.0274\n",
      "Iter 886 | Val Loss 0.0381 | Train Loss 0.0273\n",
      "Iter 887 | Val Loss 0.0347 | Train Loss 0.0273\n",
      "Iter 888 | Val Loss 0.0367 | Train Loss 0.0278\n",
      "Iter 889 | Val Loss 0.0305 | Train Loss 0.0250\n",
      "Iter 890 | Val Loss 0.0307 | Train Loss 0.0151\n",
      "Iter 891 | Val Loss 0.0378 | Train Loss 0.0293\n",
      "Iter 892 | Val Loss 0.0413 | Train Loss 0.0311\n",
      "Iter 893 | Val Loss 0.0360 | Train Loss 0.0362\n",
      "Iter 894 | Val Loss 0.0380 | Train Loss 0.0289\n",
      "Iter 895 | Val Loss 0.0346 | Train Loss 0.0299\n",
      "Iter 896 | Val Loss 0.0238 | Train Loss 0.0352\n",
      "Iter 897 | Val Loss 0.0345 | Train Loss 0.0297\n",
      "Iter 898 | Val Loss 0.0317 | Train Loss 0.0183\n",
      "Iter 899 | Val Loss 0.0438 | Train Loss 0.0217\n",
      "Iter 900 | Val Loss 0.0361 | Train Loss 0.0286\n",
      "Iter 901 | Val Loss 0.0455 | Train Loss 0.0295\n",
      "Iter 902 | Val Loss 0.0237 | Train Loss 0.0256\n",
      "Iter 903 | Val Loss 0.0335 | Train Loss 0.0201\n",
      "Iter 904 | Val Loss 0.0395 | Train Loss 0.0293\n",
      "Iter 905 | Val Loss 0.0454 | Train Loss 0.0266\n",
      "Iter 906 | Val Loss 0.0291 | Train Loss 0.0416\n",
      "Iter 907 | Val Loss 0.0298 | Train Loss 0.0433\n",
      "Iter 908 | Val Loss 0.0270 | Train Loss 0.0236\n",
      "Iter 909 | Val Loss 0.0370 | Train Loss 0.0174\n",
      "Iter 910 | Val Loss 0.0410 | Train Loss 0.0286\n",
      "Iter 911 | Val Loss 0.0348 | Train Loss 0.0250\n",
      "Iter 912 | Val Loss 0.0325 | Train Loss 0.0280\n",
      "Iter 913 | Val Loss 0.0305 | Train Loss 0.0265\n",
      "Iter 914 | Val Loss 0.0297 | Train Loss 0.0326\n",
      "Iter 915 | Val Loss 0.0379 | Train Loss 0.0260\n",
      "Iter 916 | Val Loss 0.0351 | Train Loss 0.0343\n",
      "Iter 917 | Val Loss 0.0421 | Train Loss 0.0252\n",
      "Iter 918 | Val Loss 0.0378 | Train Loss 0.0213\n",
      "Iter 919 | Val Loss 0.0422 | Train Loss 0.0298\n",
      "Iter 920 | Val Loss 0.0363 | Train Loss 0.0247\n",
      "Iter 921 | Val Loss 0.0256 | Train Loss 0.0285\n",
      "Iter 922 | Val Loss 0.0440 | Train Loss 0.0243\n",
      "Iter 923 | Val Loss 0.0387 | Train Loss 0.0232\n",
      "Iter 924 | Val Loss 0.0256 | Train Loss 0.0285\n",
      "Iter 925 | Val Loss 0.0327 | Train Loss 0.0291\n",
      "Iter 926 | Val Loss 0.0301 | Train Loss 0.0248\n",
      "Iter 927 | Val Loss 0.0362 | Train Loss 0.0269\n",
      "Iter 928 | Val Loss 0.0285 | Train Loss 0.0327\n",
      "Iter 929 | Val Loss 0.0345 | Train Loss 0.0226\n",
      "Iter 930 | Val Loss 0.0363 | Train Loss 0.0254\n",
      "Iter 931 | Val Loss 0.0392 | Train Loss 0.0294\n",
      "Iter 932 | Val Loss 0.0295 | Train Loss 0.0253\n",
      "Iter 933 | Val Loss 0.0392 | Train Loss 0.0272\n",
      "Iter 934 | Val Loss 0.0436 | Train Loss 0.0238\n",
      "Iter 935 | Val Loss 0.0361 | Train Loss 0.0219\n",
      "Iter 936 | Val Loss 0.0266 | Train Loss 0.0332\n",
      "Iter 937 | Val Loss 0.0329 | Train Loss 0.0302\n",
      "Iter 938 | Val Loss 0.0354 | Train Loss 0.0304\n",
      "Iter 939 | Val Loss 0.0346 | Train Loss 0.0349\n",
      "Iter 940 | Val Loss 0.0301 | Train Loss 0.0298\n",
      "Iter 941 | Val Loss 0.0272 | Train Loss 0.0199\n",
      "Iter 942 | Val Loss 0.0401 | Train Loss 0.0278\n",
      "Iter 943 | Val Loss 0.0416 | Train Loss 0.0265\n",
      "Iter 944 | Val Loss 0.0323 | Train Loss 0.0290\n",
      "Iter 945 | Val Loss 0.0261 | Train Loss 0.0227\n",
      "Iter 946 | Val Loss 0.0375 | Train Loss 0.0400\n",
      "Iter 947 | Val Loss 0.0343 | Train Loss 0.0227\n",
      "Iter 948 | Val Loss 0.0380 | Train Loss 0.0207\n",
      "Iter 949 | Val Loss 0.0378 | Train Loss 0.0383\n",
      "Iter 950 | Val Loss 0.0370 | Train Loss 0.0246\n",
      "Iter 951 | Val Loss 0.0422 | Train Loss 0.0256\n",
      "Iter 952 | Val Loss 0.0361 | Train Loss 0.0285\n",
      "Iter 953 | Val Loss 0.0376 | Train Loss 0.0284\n",
      "Iter 954 | Val Loss 0.0356 | Train Loss 0.0264\n",
      "Iter 955 | Val Loss 0.0345 | Train Loss 0.0230\n",
      "Iter 956 | Val Loss 0.0287 | Train Loss 0.0271\n",
      "Iter 957 | Val Loss 0.0335 | Train Loss 0.0256\n",
      "Iter 958 | Val Loss 0.0353 | Train Loss 0.0286\n",
      "Iter 959 | Val Loss 0.0412 | Train Loss 0.0268\n",
      "Iter 960 | Val Loss 0.0306 | Train Loss 0.0279\n",
      "Iter 961 | Val Loss 0.0364 | Train Loss 0.0202\n",
      "Iter 962 | Val Loss 0.0271 | Train Loss 0.0203\n",
      "Iter 963 | Val Loss 0.0400 | Train Loss 0.0300\n",
      "Iter 964 | Val Loss 0.0268 | Train Loss 0.0287\n",
      "Iter 965 | Val Loss 0.0273 | Train Loss 0.0351\n",
      "Iter 966 | Val Loss 0.0320 | Train Loss 0.0249\n",
      "Iter 967 | Val Loss 0.0319 | Train Loss 0.0338\n",
      "Iter 968 | Val Loss 0.0246 | Train Loss 0.0188\n",
      "Iter 969 | Val Loss 0.0385 | Train Loss 0.0313\n",
      "Iter 970 | Val Loss 0.0341 | Train Loss 0.0414\n",
      "Iter 971 | Val Loss 0.0351 | Train Loss 0.0242\n",
      "Iter 972 | Val Loss 0.0426 | Train Loss 0.0236\n",
      "Iter 973 | Val Loss 0.0355 | Train Loss 0.0323\n",
      "Iter 974 | Val Loss 0.0377 | Train Loss 0.0256\n",
      "Iter 975 | Val Loss 0.0283 | Train Loss 0.0232\n",
      "Iter 976 | Val Loss 0.0457 | Train Loss 0.0217\n",
      "Iter 977 | Val Loss 0.0423 | Train Loss 0.0333\n",
      "Iter 978 | Val Loss 0.0462 | Train Loss 0.0254\n",
      "Iter 979 | Val Loss 0.0406 | Train Loss 0.0130\n",
      "Iter 980 | Val Loss 0.0412 | Train Loss 0.0383\n",
      "Iter 981 | Val Loss 0.0316 | Train Loss 0.0181\n",
      "Iter 982 | Val Loss 0.0348 | Train Loss 0.0213\n",
      "Iter 983 | Val Loss 0.0382 | Train Loss 0.0330\n",
      "Iter 984 | Val Loss 0.0309 | Train Loss 0.0248\n",
      "Iter 985 | Val Loss 0.0372 | Train Loss 0.0214\n",
      "Iter 986 | Val Loss 0.0254 | Train Loss 0.0355\n",
      "Iter 987 | Val Loss 0.0353 | Train Loss 0.0296\n",
      "Iter 988 | Val Loss 0.0291 | Train Loss 0.0241\n",
      "Iter 989 | Val Loss 0.0378 | Train Loss 0.0265\n",
      "Iter 990 | Val Loss 0.0344 | Train Loss 0.0402\n",
      "Iter 991 | Val Loss 0.0242 | Train Loss 0.0283\n",
      "Iter 992 | Val Loss 0.0385 | Train Loss 0.0227\n",
      "Iter 993 | Val Loss 0.0393 | Train Loss 0.0273\n",
      "Iter 994 | Val Loss 0.0296 | Train Loss 0.0303\n",
      "Iter 995 | Val Loss 0.0474 | Train Loss 0.0357\n",
      "Iter 996 | Val Loss 0.0268 | Train Loss 0.0227\n",
      "Iter 997 | Val Loss 0.0250 | Train Loss 0.0289\n",
      "Iter 998 | Val Loss 0.0324 | Train Loss 0.0349\n",
      "Iter 999 | Val Loss 0.0416 | Train Loss 0.0243\n",
      "Iter 1000 | Val Loss 0.0264 | Train Loss 0.0240\n"
     ]
    }
   ],
   "source": [
    "data_gen = inf_generator(trainloader)\n",
    "val_gen = inf_generator(valloader)\n",
    "\n",
    "training_iters = 1000\n",
    "running_loss = 0.0\n",
    "\n",
    "for itr in range(1, training_iters + 1):\n",
    "    model.train()\n",
    "    optimizer.zero_grad()\n",
    "    \n",
    "    ex = data_gen.__next__().to(device)\n",
    "    \n",
    "    z, mu, log_var, out = model(ex)\n",
    "    bce_loss = mae_loss(out, ex)\n",
    "    kld_loss = torch.mean(-0.5 * torch.sum(1 + log_var - mu ** 2 - log_var.exp(), dim = 1), dim = 0)\n",
    "    loss = bce_loss + kld_loss\n",
    "    loss.backward()\n",
    "    optimizer.step()\n",
    "    \n",
    "    running_loss += loss.item()\n",
    "    \n",
    "    with torch.no_grad():\n",
    "        model.eval()\n",
    "        val_ex = inf_generator(valloader).__next__().to(device)\n",
    "        z, mu, log_var, out = model(val_ex)\n",
    "        bce_loss = mae_loss(out, val_ex)\n",
    "        kld_loss = torch.mean(-0.5 * torch.sum(1 + log_var - mu ** 2 - log_var.exp(), dim = 1), dim = 0)\n",
    "        val_loss = bce_loss + kld_loss\n",
    "        print(\"Iter {} | Val Loss {:.4f} | Train Loss {:.4f}\".format(itr, val_loss, loss))"
   ]
  },
  {
   "cell_type": "code",
   "execution_count": null,
   "id": "8ff42a16-22cf-499d-b4a1-296f6f231c47",
   "metadata": {},
   "outputs": [],
   "source": []
  },
  {
   "cell_type": "code",
   "execution_count": 82,
   "id": "0d1771f1-7c19-4e1d-93e3-e7c17aad4b77",
   "metadata": {
    "tags": []
   },
   "outputs": [
    {
     "name": "stderr",
     "output_type": "stream",
     "text": [
      "16it [00:00, 117.97it/s]\n"
     ]
    }
   ],
   "source": [
    "original_images = []\n",
    "reconstructed_images = []\n",
    "\n",
    "for i, d in tqdm(enumerate(trainloader)):\n",
    "    d = d.to(device)\n",
    "    z, _, _, out = model(d)\n",
    "    original_images.append(d.cpu().detach().numpy())\n",
    "    reconstructed_images.append(out.cpu().detach().numpy())"
   ]
  },
  {
   "cell_type": "code",
   "execution_count": 85,
   "id": "218feed8-e415-4ceb-827a-fa6e88d03bc1",
   "metadata": {
    "tags": []
   },
   "outputs": [
    {
     "data": {
      "text/plain": [
       "(10, 1, 64, 256)"
      ]
     },
     "execution_count": 85,
     "metadata": {},
     "output_type": "execute_result"
    }
   ],
   "source": [
    "original_images[0].shape"
   ]
  },
  {
   "cell_type": "code",
   "execution_count": 86,
   "id": "156c8ffb-996e-4416-85a7-0696477c34ca",
   "metadata": {
    "tags": []
   },
   "outputs": [
    {
     "data": {
      "text/plain": [
       "(10, 1, 64, 256)"
      ]
     },
     "execution_count": 86,
     "metadata": {},
     "output_type": "execute_result"
    }
   ],
   "source": [
    "reconstructed_images[0].shape"
   ]
  },
  {
   "cell_type": "code",
   "execution_count": 88,
   "id": "abb8e382-5d4e-4ed2-96f5-a094246b027d",
   "metadata": {
    "tags": []
   },
   "outputs": [
    {
     "data": {
      "text/plain": [
       "(16, 16)"
      ]
     },
     "execution_count": 88,
     "metadata": {},
     "output_type": "execute_result"
    }
   ],
   "source": [
    "len(original_images), len(reconstructed_images)"
   ]
  },
  {
   "cell_type": "code",
   "execution_count": 90,
   "id": "afd82f3a-89e9-4ba0-9eda-45805badc3cb",
   "metadata": {
    "tags": []
   },
   "outputs": [
    {
     "data": {
      "image/png": "[encoded data removed]",
      "text/plain": [
       "<Figure size 4500x2400 with 10 Axes>"
      ]
     },
     "metadata": {},
     "output_type": "display_data"
    }
   ],
   "source": [
    "f, axs = plt.subplots(2,5, figsize=(15, 8))\n",
    "for i, ind in enumerate(np.random.randint(0,9,5)):\n",
    "    axs[0,i].imshow(original_images[2][ind, 0, :, :], \n",
    "                    origin=\"lower\",\n",
    "                    cmap=lc3_reg)\n",
    "    axs[0,i].axes.xaxis.set_visible(False)\n",
    "    axs[0,i].axes.yaxis.set_visible(False)\n",
    "    axs[1,i].imshow(reconstructed_images[2][ind, 0, :, :],\n",
    "                   origin=\"lower\",\n",
    "                   cmap=lc3_reg)\n",
    "    axs[1,i].axes.xaxis.set_visible(False)\n",
    "    axs[1,i].axes.yaxis.set_visible(False)\n",
    "    \n",
    "f.tight_layout()"
   ]
  },
  {
   "cell_type": "code",
   "execution_count": null,
   "id": "286361e3-34cf-4f7b-bccb-acbb0cf6f13c",
   "metadata": {
    "tags": []
   },
   "outputs": [],
   "source": [
    "# # plot and check?\n",
    "# dl_1 = trainloader.__iter__().__next__()\n",
    "\n",
    "# dl_1.shape\n",
    "# plt.imshow(dl_1[8][0].cpu(),\n",
    "#             origin=\"lower\",\n",
    "#             cmap=lc3_reg)\n",
    "# plt.title(\"Sample Plot\")\n",
    "# plt.colorbar(fraction=0.046 * 1/3, pad=0.04)"
   ]
  },
  {
   "cell_type": "code",
   "execution_count": null,
   "id": "d343de5c-3f83-47d5-9ca7-89c84c535b7d",
   "metadata": {
    "tags": []
   },
   "outputs": [],
   "source": [
    "# z, mu, logvar, out = model(dl_1.to(device))"
   ]
  },
  {
   "cell_type": "code",
   "execution_count": null,
   "id": "44d8db6e-6750-4d15-9fbf-15a1bcc25227",
   "metadata": {
    "tags": []
   },
   "outputs": [],
   "source": [
    "# out.shape"
   ]
  },
  {
   "cell_type": "code",
   "execution_count": null,
   "id": "fe73bbde-ad2b-46b4-9f91-182d23c73bda",
   "metadata": {
    "tags": []
   },
   "outputs": [],
   "source": [
    "# bce_loss = mae_loss(out, dl_1.to(device))\n",
    "# bce_loss"
   ]
  },
  {
   "cell_type": "code",
   "execution_count": null,
   "id": "ea5973cb-a3d7-4f73-90ce-e9ef28820d6a",
   "metadata": {
    "tags": []
   },
   "outputs": [],
   "source": [
    "# KLD = torch.mean(-0.5 * torch.sum(1 + logvar - mu ** 2 - logvar.exp(), dim = 1), dim = 0)\n",
    "# KLD"
   ]
  },
  {
   "cell_type": "code",
   "execution_count": null,
   "id": "51768279-32c9-40fa-ac31-304a0051defa",
   "metadata": {
    "tags": []
   },
   "outputs": [],
   "source": [
    "# EVERYTHING IS NAN. NEED TO REWRITE IN SIMPLER UPDATE STEPS!!!!!!"
   ]
  },
  {
   "cell_type": "code",
   "execution_count": null,
   "id": "5a50cb2b-b52c-4461-a6a1-c2099f0019d7",
   "metadata": {},
   "outputs": [],
   "source": [
    "# epochs = 20\n",
    "\n",
    "# train_loss = []\n",
    "# valid_loss = []\n",
    "# for epoch in range(epochs):\n",
    "#     print(f\"Epoch {epoch+1} of {epochs}\")\n",
    "#     # beta annealing\n",
    "#     if epoch<30:\n",
    "#         beta=0\n",
    "#     else:\n",
    "#         beta=1e-4\n",
    "\n",
    "#     ztrain, train_epoch_loss = train(trainloader, x_all_ics_train, beta, mae_loss)\n",
    "#     zval, valid_epoch_loss = validate(valloader, x_all_ics_validation, beta, mae_loss)\n",
    "#     train_loss.append(train_epoch_loss)\n",
    "#     valid_loss.append(valid_epoch_loss)\n",
    "\n",
    "#     print(train_loss, valid_loss)\n",
    "#     # print(f\"Train Loss: {train_epoch_loss:.4f}\")\n",
    "#     # print(f\"Val Loss: {valid_epoch_loss:.4f}\")"
   ]
  },
  {
   "cell_type": "markdown",
   "id": "2234d167-7e9d-4f3a-94c8-59eb79efcac6",
   "metadata": {},
   "source": [
    "Consistently producing `nan` losses! Need to rethink."
   ]
  },
  {
   "cell_type": "markdown",
   "id": "4f9ad86d-7034-4781-9a56-a98798709096",
   "metadata": {},
   "source": [
    "Simpler update loop without complicated train-validation routines."
   ]
  },
  {
   "cell_type": "code",
   "execution_count": null,
   "id": "43f3c42c-b928-4920-a02a-a3802a54eadb",
   "metadata": {},
   "outputs": [],
   "source": []
  },
  {
   "cell_type": "code",
   "execution_count": null,
   "id": "be7e6395-8ceb-4223-a2e3-861fe8dbafc1",
   "metadata": {},
   "outputs": [],
   "source": []
  },
  {
   "cell_type": "code",
   "execution_count": null,
   "id": "caf0a372-4eb0-4e22-8597-20ee2957e440",
   "metadata": {},
   "outputs": [],
   "source": []
  }
 ],
 "metadata": {
  "kernelspec": {
   "display_name": "pytorch-1.9.0",
   "language": "python",
   "name": "pytorch-1.9.0"
  },
  "language_info": {
   "codemirror_mode": {
    "name": "ipython",
    "version": 3
   },
   "file_extension": ".py",
   "mimetype": "text/x-python",
   "name": "python",
   "nbconvert_exporter": "python",
   "pygments_lexer": "ipython3",
   "version": "3.8.11"
  }
 },
 "nbformat": 4,
 "nbformat_minor": 5
}
