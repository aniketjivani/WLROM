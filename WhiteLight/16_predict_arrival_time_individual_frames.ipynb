{
 "cells": [
  {
   "cell_type": "markdown",
   "metadata": {},
   "source": [
    "Associate each image with a unique arrival time depending on what time it represents in C3. Pass batches of frames and param values through a conv NODE, followed by fully connected layers to predict the arrival time of the image.\n",
    "\n",
    "We explore two methods of parameter augmentation: Concatenation to flattened output of conv prior to passing through linear layer vs affine transformation of conv output with scale and bias learnt through additional linear layers i.e. FiLM modulation - https://arxiv.org/pdf/1709.07871"
   ]
  },
  {
   "cell_type": "code",
   "execution_count": 1,
   "metadata": {},
   "outputs": [
    {
     "name": "stderr",
     "output_type": "stream",
     "text": [
      "/Users/ajivani/opt/anaconda3/lib/python3.8/site-packages/pandas/core/computation/expressions.py:20: UserWarning: Pandas requires version '2.7.3' or newer of 'numexpr' (version '2.7.1' currently installed).\n",
      "  from pandas.core.computation.check import NUMEXPR_INSTALLED\n"
     ]
    }
   ],
   "source": [
    "import sys\n",
    "import torch\n",
    "import torch.nn\n",
    "import torch.nn as nn\n",
    "from torch.nn.functional import relu\n",
    "import torch.optim as optim\n",
    "from torch.utils.data import DataLoader, TensorDataset, Dataset\n",
    "from torch.utils.data import random_split\n",
    "import pandas as pd\n",
    "import numpy as np\n",
    "import os\n",
    "import re\n",
    "import sys\n",
    "import logging\n",
    "import torchvision\n",
    "import torchvision.transforms as T"
   ]
  },
  {
   "cell_type": "code",
   "execution_count": 2,
   "metadata": {},
   "outputs": [],
   "source": [
    "args = {\n",
    "    \"niters\":400,\n",
    "    \"lr\": 0.001,\n",
    "    \"save\": \"arr_experiments/\",\n",
    "    \"load\": None,\n",
    "    \"r\": 1991,\n",
    "    \"resize_dims\": (16, 64),\n",
    "    \"param_scaling\": [1, 1],\n",
    "    \"warm_start\": 20376,\n",
    "    \"do_warm_start\": False,\n",
    "    # \"loss\": \"smooth_l1\",\n",
    "    \"loss\": \"mae\",\n",
    "    # \"loss\": \"mse\",\n",
    "    \"batch_size\": 32,\n",
    "    \"dropout\":False\n",
    "}"
   ]
  },
  {
   "cell_type": "code",
   "execution_count": 3,
   "metadata": {},
   "outputs": [],
   "source": [
    "import torch.nn as nn"
   ]
  },
  {
   "cell_type": "code",
   "execution_count": 4,
   "metadata": {},
   "outputs": [
    {
     "data": {
      "image/png": "[encoded data removed]",
      "text/html": [
       "<div style=\"vertical-align: middle;\"><strong>SOHO LASCO C3_r</strong> </div><div class=\"cmap\"><img alt=\"SOHO LASCO C3_r colormap\" title=\"SOHO LASCO C3_r\" style=\"border: 1px solid #555;\" src=\"data:image/png;base64,iVBORw0KGgoAAAANSUhEUgAAAgAAAABACAYAAABsv8+/AAAAHnRFWHRUaXRsZQBTT0hPIExBU0NPIEMzX3IgY29sb3JtYXDMCW5EAAAAJHRFWHREZXNjcmlwdGlvbgBTT0hPIExBU0NPIEMzX3IgY29sb3JtYXAGtYcrAAAAMHRFWHRBdXRob3IATWF0cGxvdGxpYiB2My43LjMsIGh0dHBzOi8vbWF0cGxvdGxpYi5vcme6yd4QAAAAMnRFWHRTb2Z0d2FyZQBNYXRwbG90bGliIHYzLjcuMywgaHR0cHM6Ly9tYXRwbG90bGliLm9yZ5RvQTcAAAHFSURBVHic7dZBbsIwFEDB397/zKSLQisR3DQtEos3s0EksWNjCb23bdu2mZnL58dcv+6+L6/P7fo8dfzq+VePX847/xt/ff35c5jb9T+Ov3v/dnn8/P3n7J57vP/VfLO7vxi/mGd2z51b/3a5n+fc+vf7OFj/4T7mx+eOz+Hg/UfncPL3++/5v3r9vz7/68Eu1z8/3z+aZ+Z371nN8z3+3Lpv99fjD9b99b/xx3Xv/r/OrfvV+z9/fs/d/3r8uXW/DwCQIwAAIEgAAECQAACAIAEAAEECAACCBAAABAkAAAgSAAAQJAAAIEgAAECQAACAIAEAAEECAACCBAAABAkAAAgSAAAQJAAAIEgAAECQAACAIAEAAEECAACCBAAABAkAAAgSAAAQJAAAIEgAAECQAACAIAEAAEECAACCBAAABAkAAAgSAAAQJAAAIEgAAECQAACAIAEAAEECAACCBAAABAkAAAgSAAAQJAAAIEgAAECQAACAIAEAAEECAACCBAAABAkAAAgSAAAQJAAAIEgAAECQAACAIAEAAEECAACCBAAABAkAAAgSAAAQJAAAIEgAAECQAACAIAEAAEECAACCBAAABH0A+Gm+nfb+AtsAAAAASUVORK5CYII=\"></div><div style=\"vertical-align: middle; max-width: 514px; display: flex; justify-content: space-between;\"><div style=\"float: left;\"><div title=\"#ffffffff\" style=\"display: inline-block; width: 1em; height: 1em; margin: 0; vertical-align: middle; border: 1px solid #555; background-color: #ffffffff;\"></div> under</div><div style=\"margin: 0 auto; display: inline-block;\">bad <div title=\"#00000000\" style=\"display: inline-block; width: 1em; height: 1em; margin: 0; vertical-align: middle; border: 1px solid #555; background-color: #00000000;\"></div></div><div style=\"float: right;\">over <div title=\"#000000ff\" style=\"display: inline-block; width: 1em; height: 1em; margin: 0; vertical-align: middle; border: 1px solid #555; background-color: #000000ff;\"></div></div>"
      ],
      "text/plain": [
       "<matplotlib.colors.LinearSegmentedColormap at 0x7f9ffff765e0>"
      ]
     },
     "execution_count": 4,
     "metadata": {},
     "output_type": "execute_result"
    }
   ],
   "source": [
    "from sunpy.visualization import colormaps as cm\n",
    "\n",
    "lc3_reg = cm.cmlist['soholasco3']\n",
    "lc3_reg\n",
    "\n",
    "lc3 = cm.cmlist['soholasco3'].reversed()\n",
    "lc3"
   ]
  },
  {
   "cell_type": "code",
   "execution_count": 5,
   "metadata": {},
   "outputs": [],
   "source": [
    "import time\n",
    "import datetime\n",
    "import argparse\n",
    "from random import SystemRandom\n",
    "\n",
    "from rich.progress import track\n",
    "import tqdm\n",
    "\n",
    "import matplotlib.pyplot as plt\n",
    "\n",
    "import cnn_utils as cu"
   ]
  },
  {
   "cell_type": "code",
   "execution_count": 6,
   "metadata": {},
   "outputs": [],
   "source": [
    "from sklearn.model_selection import train_test_split"
   ]
  },
  {
   "cell_type": "code",
   "execution_count": 7,
   "metadata": {},
   "outputs": [],
   "source": [
    "from sklearn.preprocessing import power_transform\n",
    "from sklearn.preprocessing import PowerTransformer"
   ]
  },
  {
   "cell_type": "code",
   "execution_count": 8,
   "metadata": {},
   "outputs": [],
   "source": [
    "%matplotlib inline\n",
    "%load_ext autoreload\n",
    "%autoreload 2"
   ]
  },
  {
   "cell_type": "code",
   "execution_count": 9,
   "metadata": {},
   "outputs": [
    {
     "data": {
      "text/plain": [
       "device(type='cpu')"
      ]
     },
     "execution_count": 9,
     "metadata": {},
     "output_type": "execute_result"
    }
   ],
   "source": [
    "device = torch.device(\"cuda:0\") if torch.cuda.is_available() else torch.device(\"cpu\")\n",
    "device"
   ]
  },
  {
   "cell_type": "markdown",
   "metadata": {},
   "source": [
    "Filter out runs which arrive very late."
   ]
  },
  {
   "cell_type": "code",
   "execution_count": 10,
   "metadata": {},
   "outputs": [
    {
     "data": {
      "text/html": [
       "<div>\n",
       "<style scoped>\n",
       "    .dataframe tbody tr th:only-of-type {\n",
       "        vertical-align: middle;\n",
       "    }\n",
       "\n",
       "    .dataframe tbody tr th {\n",
       "        vertical-align: top;\n",
       "    }\n",
       "\n",
       "    .dataframe thead th {\n",
       "        text-align: right;\n",
       "    }\n",
       "</style>\n",
       "<table border=\"1\" class=\"dataframe\">\n",
       "  <thead>\n",
       "    <tr style=\"text-align: right;\">\n",
       "      <th></th>\n",
       "      <th>SIMID</th>\n",
       "      <th>shift</th>\n",
       "      <th>Tshock_sim</th>\n",
       "      <th>Tshock_obs</th>\n",
       "    </tr>\n",
       "  </thead>\n",
       "  <tbody>\n",
       "    <tr>\n",
       "      <th>0</th>\n",
       "      <td>1</td>\n",
       "      <td>-18.0</td>\n",
       "      <td>70.0</td>\n",
       "      <td>52</td>\n",
       "    </tr>\n",
       "    <tr>\n",
       "      <th>2</th>\n",
       "      <td>3</td>\n",
       "      <td>-15.0</td>\n",
       "      <td>67.0</td>\n",
       "      <td>52</td>\n",
       "    </tr>\n",
       "    <tr>\n",
       "      <th>3</th>\n",
       "      <td>4</td>\n",
       "      <td>-7.0</td>\n",
       "      <td>59.0</td>\n",
       "      <td>52</td>\n",
       "    </tr>\n",
       "    <tr>\n",
       "      <th>4</th>\n",
       "      <td>5</td>\n",
       "      <td>-22.0</td>\n",
       "      <td>74.0</td>\n",
       "      <td>52</td>\n",
       "    </tr>\n",
       "    <tr>\n",
       "      <th>6</th>\n",
       "      <td>7</td>\n",
       "      <td>-4.0</td>\n",
       "      <td>56.0</td>\n",
       "      <td>52</td>\n",
       "    </tr>\n",
       "    <tr>\n",
       "      <th>...</th>\n",
       "      <td>...</td>\n",
       "      <td>...</td>\n",
       "      <td>...</td>\n",
       "      <td>...</td>\n",
       "    </tr>\n",
       "    <tr>\n",
       "      <th>114</th>\n",
       "      <td>116</td>\n",
       "      <td>7.0</td>\n",
       "      <td>45.0</td>\n",
       "      <td>52</td>\n",
       "    </tr>\n",
       "    <tr>\n",
       "      <th>115</th>\n",
       "      <td>117</td>\n",
       "      <td>19.0</td>\n",
       "      <td>33.0</td>\n",
       "      <td>52</td>\n",
       "    </tr>\n",
       "    <tr>\n",
       "      <th>116</th>\n",
       "      <td>118</td>\n",
       "      <td>16.0</td>\n",
       "      <td>36.0</td>\n",
       "      <td>52</td>\n",
       "    </tr>\n",
       "    <tr>\n",
       "      <th>117</th>\n",
       "      <td>119</td>\n",
       "      <td>5.0</td>\n",
       "      <td>47.0</td>\n",
       "      <td>52</td>\n",
       "    </tr>\n",
       "    <tr>\n",
       "      <th>118</th>\n",
       "      <td>120</td>\n",
       "      <td>20.0</td>\n",
       "      <td>32.0</td>\n",
       "      <td>52</td>\n",
       "    </tr>\n",
       "  </tbody>\n",
       "</table>\n",
       "<p>113 rows × 4 columns</p>\n",
       "</div>"
      ],
      "text/plain": [
       "     SIMID  shift  Tshock_sim  Tshock_obs\n",
       "0        1  -18.0        70.0          52\n",
       "2        3  -15.0        67.0          52\n",
       "3        4   -7.0        59.0          52\n",
       "4        5  -22.0        74.0          52\n",
       "6        7   -4.0        56.0          52\n",
       "..     ...    ...         ...         ...\n",
       "114    116    7.0        45.0          52\n",
       "115    117   19.0        33.0          52\n",
       "116    118   16.0        36.0          52\n",
       "117    119    5.0        47.0          52\n",
       "118    120   20.0        32.0          52\n",
       "\n",
       "[113 rows x 4 columns]"
      ]
     },
     "execution_count": 10,
     "metadata": {},
     "output_type": "execute_result"
    }
   ],
   "source": [
    "arr_times_data = pd.read_csv(\"./data_surrogate/UShift_CME3_120runs.csv\")\n",
    "arr_times_data = arr_times_data.dropna()\n",
    "\n",
    "arr_times_data"
   ]
  },
  {
   "cell_type": "code",
   "execution_count": 11,
   "metadata": {},
   "outputs": [],
   "source": [
    "data_sim_ids = arr_times_data['SIMID'].to_numpy()\n",
    "data_arr_time = arr_times_data['Tshock_sim'].to_numpy()\n",
    "data_shifts = arr_times_data['shift'].to_numpy()"
   ]
  },
  {
   "cell_type": "code",
   "execution_count": 12,
   "metadata": {},
   "outputs": [],
   "source": [
    "# First split sim_ids, and arr_time into train and test.\n",
    "# Based on this load param file for sims and index that"
   ]
  },
  {
   "cell_type": "code",
   "execution_count": 13,
   "metadata": {},
   "outputs": [
    {
     "name": "stdout",
     "output_type": "stream",
     "text": [
      "113\n"
     ]
    }
   ],
   "source": [
    "num_sim = len(data_sim_ids)\n",
    "print(num_sim)\n",
    "\n",
    "# train_size = np.int64(num_sim * 0.6)\n",
    "# valid_size = np.int64(num_sim * 0.2)\n",
    "# test_size = num_sim - train_size - valid_size\n",
    "# print(train_size, valid_size, test_size)\n",
    "\n",
    "train_frac, valid_frac, test_frac = 0.6, 0.15, 0.25"
   ]
  },
  {
   "cell_type": "code",
   "execution_count": 14,
   "metadata": {},
   "outputs": [],
   "source": [
    "generator1 = torch.Generator().manual_seed(2024)\n",
    "train_valid_test = random_split(data_sim_ids, \n",
    "                                [train_frac, valid_frac, test_frac],\n",
    "                                # [train_size, valid_size, test_size],\n",
    "                                generator=generator1)\n"
   ]
  },
  {
   "cell_type": "code",
   "execution_count": 15,
   "metadata": {},
   "outputs": [
    {
     "data": {
      "text/plain": [
       "array([  1,   3,   4,   5,   7,   9,  10,  11,  12,  13,  15,  16,  17,\n",
       "        18,  19,  20,  21,  23,  25,  26,  27,  28,  29,  30,  31,  32,\n",
       "        33,  34,  35,  36,  37,  38,  39,  40,  41,  42,  43,  44,  45,\n",
       "        46,  47,  48,  49,  50,  51,  52,  53,  54,  55,  56,  57,  58,\n",
       "        59,  60,  61,  62,  63,  64,  65,  66,  67,  68,  69,  71,  72,\n",
       "        73,  74,  75,  76,  77,  78,  79,  80,  81,  82,  83,  84,  85,\n",
       "        86,  87,  88,  89,  90,  91,  92,  93,  94,  95,  96,  97,  98,\n",
       "        99, 100, 101, 102, 103, 104, 105, 106, 107, 108, 109, 110, 111,\n",
       "       112, 113, 114, 115, 116, 117, 118, 119, 120])"
      ]
     },
     "execution_count": 15,
     "metadata": {},
     "output_type": "execute_result"
    }
   ],
   "source": [
    "data_sim_ids"
   ]
  },
  {
   "cell_type": "code",
   "execution_count": 16,
   "metadata": {},
   "outputs": [],
   "source": [
    "train_idx = np.array(train_valid_test[0].indices)\n",
    "valid_idx = np.array(train_valid_test[1].indices)\n",
    "test_idx = np.array(train_valid_test[2].indices)"
   ]
  },
  {
   "cell_type": "code",
   "execution_count": 17,
   "metadata": {},
   "outputs": [],
   "source": [
    "train_sims = data_sim_ids[train_idx] - 1\n",
    "val_sims = data_sim_ids[valid_idx] - 1\n",
    "test_sims = data_sim_ids[test_idx] - 1"
   ]
  },
  {
   "cell_type": "code",
   "execution_count": 18,
   "metadata": {},
   "outputs": [
    {
     "data": {
      "text/plain": [
       "array([  7,  43,  63,  33,  38,  73,  66,  20,  46,  80,  32,  21,  52,\n",
       "        91, 101, 105,  35, 109,  19,  61,  82,  72,  92,  81,  90,   9,\n",
       "        85,  39,  70,  40,  22,  45,  95,  24,  12,  97,   5,  67,  84,\n",
       "        74, 110,  30,  71, 100,  37,  98, 102,  94,  57,  53,  75,  83,\n",
       "       107,  42,  68,  69,  15,  59,  26,  10, 103, 112,  14,  56,  29,\n",
       "       111,  87,  49])"
      ]
     },
     "execution_count": 18,
     "metadata": {},
     "output_type": "execute_result"
    }
   ],
   "source": [
    "train_idx"
   ]
  },
  {
   "cell_type": "code",
   "execution_count": 19,
   "metadata": {},
   "outputs": [
    {
     "data": {
      "text/plain": [
       "(68, 17, 28)"
      ]
     },
     "execution_count": 19,
     "metadata": {},
     "output_type": "execute_result"
    }
   ],
   "source": [
    "ntrain = train_idx.shape[0]\n",
    "nval = valid_idx.shape[0]\n",
    "ntest = test_idx.shape[0]\n",
    "ntrain, nval, ntest"
   ]
  },
  {
   "cell_type": "code",
   "execution_count": 20,
   "metadata": {},
   "outputs": [],
   "source": [
    "all_idx = np.concatenate((train_idx, valid_idx, test_idx), axis=0)"
   ]
  },
  {
   "cell_type": "code",
   "execution_count": 21,
   "metadata": {},
   "outputs": [
    {
     "data": {
      "text/plain": [
       "(0, 112)"
      ]
     },
     "execution_count": 21,
     "metadata": {},
     "output_type": "execute_result"
    }
   ],
   "source": [
    "all_idx.min(), all_idx.max()"
   ]
  },
  {
   "cell_type": "code",
   "execution_count": 22,
   "metadata": {},
   "outputs": [
    {
     "data": {
      "text/plain": [
       "(113,)"
      ]
     },
     "execution_count": 22,
     "metadata": {},
     "output_type": "execute_result"
    }
   ],
   "source": [
    "data_arr_time.shape"
   ]
  },
  {
   "cell_type": "code",
   "execution_count": 23,
   "metadata": {},
   "outputs": [
    {
     "data": {
      "text/plain": [
       "array([70., 67., 59., 74., 56., 88., 59., 85., 73., 86., 89., 52., 53.,\n",
       "       78., 69., 67., 55., 61., 54., 59., 74., 71., 67., 51., 73., 56.,\n",
       "       63., 51., 77., 62., 63., 72., 51., 49., 50., 74., 46., 71., 55.,\n",
       "       61., 55., 67., 46., 65., 69., 56., 54., 51., 53., 64., 49., 44.,\n",
       "       56., 50., 55., 47., 54., 73., 46., 43., 53., 66., 44., 38., 45.,\n",
       "       54., 46., 46., 58., 50., 53., 47., 56., 43., 52., 39., 50., 63.,\n",
       "       55., 40., 41., 56., 44., 38., 47., 62., 41., 40., 47., 38., 58.,\n",
       "       39., 44., 37., 45., 49., 42., 39., 47., 35., 42., 33., 40., 40.,\n",
       "       41., 36., 40., 41., 45., 33., 36., 47., 32.])"
      ]
     },
     "execution_count": 23,
     "metadata": {},
     "output_type": "execute_result"
    }
   ],
   "source": [
    "data_arr_time"
   ]
  },
  {
   "cell_type": "markdown",
   "metadata": {},
   "source": [
    "Split `data_arr_time` into multiple targets. If the time is T1 for a given sim, split it into T1-50, T1 - 52, ..., T1 - 180 to associate each image of a time series for parameter $\\mu$ with a unique target."
   ]
  },
  {
   "cell_type": "code",
   "execution_count": 24,
   "metadata": {},
   "outputs": [
    {
     "data": {
      "text/plain": [
       "(40,\n",
       " array([102., 104., 106., 108., 110., 112., 114., 116., 118., 120., 122.,\n",
       "        124., 126., 128., 130., 132., 134., 136., 138., 140., 142., 144.,\n",
       "        146., 148., 150., 152., 154., 156., 158., 160., 162., 164., 166.,\n",
       "        168., 170., 172., 174., 176., 178., 180.]))"
      ]
     },
     "execution_count": 24,
     "metadata": {},
     "output_type": "execute_result"
    }
   ],
   "source": [
    "all_timesteps = np.linspace(2, 180, 90, dtype=int)\n",
    "tMinIdx = 50 # hardcoding for now, change later to accomodate variable length sequences\n",
    "tMaxIdx = len(all_timesteps) - 1\n",
    "nTimesteps = tMaxIdx - tMinIdx + 1\n",
    "\n",
    "\n",
    "\n",
    "# scale time appropriately\n",
    "tt_raw = np.linspace(all_timesteps[tMinIdx], all_timesteps[tMaxIdx], nTimesteps)\n",
    "tt = np.linspace(0, 1, tMaxIdx - tMinIdx + 1)\n",
    "tpredict = torch.Tensor(tt).to(device)\n",
    "\n",
    "nTimesteps, tt_raw"
   ]
  },
  {
   "cell_type": "code",
   "execution_count": 25,
   "metadata": {},
   "outputs": [],
   "source": [
    "data_arr_time_all_timesteps = np.zeros((num_sim, nTimesteps))\n",
    "for i in range(num_sim):\n",
    "    data_arr_time_all_timesteps[i, :] = data_arr_time[i] - (tt_raw / 60.0)"
   ]
  },
  {
   "cell_type": "code",
   "execution_count": 26,
   "metadata": {},
   "outputs": [
    {
     "data": {
      "text/plain": [
       "59.0"
      ]
     },
     "execution_count": 26,
     "metadata": {},
     "output_type": "execute_result"
    }
   ],
   "source": [
    "data_arr_time[2]"
   ]
  },
  {
   "cell_type": "code",
   "execution_count": 27,
   "metadata": {},
   "outputs": [
    {
     "data": {
      "text/plain": [
       "array([  7,  43,  63,  33,  38,  73,  66,  20,  46,  80,  32,  21,  52,\n",
       "        91, 101, 105,  35, 109,  19,  61,  82,  72,  92,  81,  90,   9,\n",
       "        85,  39,  70,  40,  22,  45,  95,  24,  12,  97,   5,  67,  84,\n",
       "        74, 110,  30,  71, 100,  37,  98, 102,  94,  57,  53,  75,  83,\n",
       "       107,  42,  68,  69,  15,  59,  26,  10, 103, 112,  14,  56,  29,\n",
       "       111,  87,  49])"
      ]
     },
     "execution_count": 27,
     "metadata": {},
     "output_type": "execute_result"
    }
   ],
   "source": [
    "train_idx"
   ]
  },
  {
   "cell_type": "code",
   "execution_count": 28,
   "metadata": {},
   "outputs": [],
   "source": [
    "# now split the all timesteps array correctly."
   ]
  },
  {
   "cell_type": "code",
   "execution_count": 29,
   "metadata": {},
   "outputs": [],
   "source": [
    "import sklearn\n",
    "import copy"
   ]
  },
  {
   "cell_type": "code",
   "execution_count": 74,
   "metadata": {},
   "outputs": [
    {
     "name": "stdout",
     "output_type": "stream",
     "text": [
      "(68, 40) (17, 40) (28, 40)\n"
     ]
    }
   ],
   "source": [
    "train_arr_raw = data_arr_time_all_timesteps[train_idx, :]\n",
    "val_arr_raw = data_arr_time_all_timesteps[valid_idx, :]\n",
    "test_arr_raw = data_arr_time_all_timesteps[test_idx, :]\n",
    "\n",
    "print(train_arr_raw.shape, val_arr_raw.shape, test_arr_raw.shape)\n",
    "\n",
    "# pt = PowerTransformer(method='box-cox')\n",
    "pt = sklearn.preprocessing.RobustScaler()\n",
    "# pt = sklearn.preprocessing.MinMaxScaler()\n",
    "pt.fit(train_arr_raw.reshape(-1, 1))\n",
    "\n",
    "train_arr_pt = pt.transform(train_arr_raw.reshape(-1, 1)).reshape(ntrain, nTimesteps)\n",
    "val_arr_pt = pt.transform(val_arr_raw.reshape(-1, 1)).reshape(nval, nTimesteps)\n",
    "test_arr_pt = pt.transform(test_arr_raw.reshape(-1, 1)).reshape(ntest, nTimesteps)\n",
    "\n",
    "# train_arr_pt = copy.deepcopy(train_arr_raw)\n",
    "# val_arr_pt = copy.deepcopy(val_arr_raw)\n",
    "# test_arr_pt = copy.deepcopy(test_arr_raw)"
   ]
  },
  {
   "cell_type": "code",
   "execution_count": 31,
   "metadata": {},
   "outputs": [
    {
     "data": {
      "text/plain": [
       "(array([200., 480., 470., 390., 345., 305., 210., 160.,   0., 160.]),\n",
       " array([29.  , 34.83, 40.66, 46.49, 52.32, 58.15, 63.98, 69.81, 75.64,\n",
       "        81.47, 87.3 ]),\n",
       " <BarContainer object of 10 artists>)"
      ]
     },
     "execution_count": 31,
     "metadata": {},
     "output_type": "execute_result"
    },
    {
     "data": {
      "image/png": "[encoded data removed]",
      "text/plain": [
       "<Figure size 640x480 with 1 Axes>"
      ]
     },
     "metadata": {},
     "output_type": "display_data"
    }
   ],
   "source": [
    "plt.hist(train_arr_raw.flatten())"
   ]
  },
  {
   "cell_type": "code",
   "execution_count": 32,
   "metadata": {},
   "outputs": [
    {
     "data": {
      "text/plain": [
       "(array([200., 480., 470., 390., 345., 305., 210., 160.,   0., 160.]),\n",
       " array([0. , 0.1, 0.2, 0.3, 0.4, 0.5, 0.6, 0.7, 0.8, 0.9, 1. ]),\n",
       " <BarContainer object of 10 artists>)"
      ]
     },
     "execution_count": 32,
     "metadata": {},
     "output_type": "execute_result"
    },
    {
     "data": {
      "image/png": "[encoded data removed]",
      "text/plain": [
       "<Figure size 640x480 with 1 Axes>"
      ]
     },
     "metadata": {},
     "output_type": "display_data"
    }
   ],
   "source": [
    "plt.hist(train_arr_pt.flatten())"
   ]
  },
  {
   "cell_type": "code",
   "execution_count": 33,
   "metadata": {},
   "outputs": [],
   "source": [
    "# Process image datasets in pretty much the same way as before."
   ]
  },
  {
   "cell_type": "code",
   "execution_count": 34,
   "metadata": {},
   "outputs": [],
   "source": [
    "raw_datafile = np.load(\"./data_surrogate/CR2192_120runs_C3_ratio_PolarTensor.npy\")"
   ]
  },
  {
   "cell_type": "code",
   "execution_count": 35,
   "metadata": {},
   "outputs": [
    {
     "data": {
      "text/plain": [
       "(128, 512, 90, 120)"
      ]
     },
     "execution_count": 35,
     "metadata": {},
     "output_type": "execute_result"
    }
   ],
   "source": [
    "raw_datafile.shape"
   ]
  },
  {
   "cell_type": "code",
   "execution_count": 36,
   "metadata": {},
   "outputs": [
    {
     "data": {
      "text/plain": [
       "(0.799298967364635, 1.5)"
      ]
     },
     "execution_count": 36,
     "metadata": {},
     "output_type": "execute_result"
    }
   ],
   "source": [
    "raw_min, raw_max = raw_datafile.min(), raw_datafile.max()\n",
    "raw_min, raw_max"
   ]
  },
  {
   "cell_type": "code",
   "execution_count": 37,
   "metadata": {},
   "outputs": [],
   "source": [
    "train_data_raw = raw_datafile[:, :, :, train_sims]\n",
    "val_data_raw = raw_datafile[:, :, :, val_sims]\n",
    "test_data_raw = raw_datafile[:, :, :, test_sims]"
   ]
  },
  {
   "cell_type": "code",
   "execution_count": 38,
   "metadata": {},
   "outputs": [],
   "source": [
    "resize_dims = args[\"resize_dims\"]\n",
    "\n",
    "train_data_resized = T.Resize(size=resize_dims,\n",
    "                                  antialias=True\n",
    "                                  )(torch.Tensor(train_data_raw.transpose(3, 2, 0, 1)))\n",
    "    \n",
    "val_data_resized = T.Resize(size=resize_dims,\n",
    "                            antialias=True\n",
    "                            )(torch.Tensor(val_data_raw.transpose(3, 2, 0, 1)))\n",
    "\n",
    "test_data_resized = T.Resize(size=resize_dims,\n",
    "                            antialias=True\n",
    "                            )(torch.Tensor(test_data_raw.transpose(3, 2, 0, 1)))"
   ]
  },
  {
   "cell_type": "code",
   "execution_count": 39,
   "metadata": {},
   "outputs": [
    {
     "data": {
      "text/plain": [
       "(tensor(1.5000), tensor(0.8940))"
      ]
     },
     "execution_count": 39,
     "metadata": {},
     "output_type": "execute_result"
    }
   ],
   "source": [
    "max_train = torch.max(train_data_resized)\n",
    "min_train = torch.min(train_data_resized)\n",
    "\n",
    "max_train, min_train"
   ]
  },
  {
   "cell_type": "code",
   "execution_count": 40,
   "metadata": {},
   "outputs": [],
   "source": [
    "train_data = (train_data_resized[:, tMinIdx:(tMaxIdx + 1), :, :] - min_train)/(max_train - min_train)\n",
    "val_data = (val_data_resized[:, tMinIdx:(tMaxIdx + 1), :, :] - min_train)/(max_train - min_train)\n",
    "test_data = (test_data_resized[:, tMinIdx:(tMaxIdx + 1), :, :] - min_train)/(max_train - min_train)"
   ]
  },
  {
   "cell_type": "code",
   "execution_count": 41,
   "metadata": {},
   "outputs": [
    {
     "data": {
      "text/plain": [
       "(torch.Size([68, 40, 16, 64]),\n",
       " torch.Size([17, 40, 16, 64]),\n",
       " torch.Size([28, 40, 16, 64]))"
      ]
     },
     "execution_count": 41,
     "metadata": {},
     "output_type": "execute_result"
    }
   ],
   "source": [
    "train_data.shape, val_data.shape, test_data.shape"
   ]
  },
  {
   "cell_type": "code",
   "execution_count": 42,
   "metadata": {},
   "outputs": [
    {
     "data": {
      "text/plain": [
       "(tensor(1.), tensor(1.), tensor(1.))"
      ]
     },
     "execution_count": 42,
     "metadata": {},
     "output_type": "execute_result"
    }
   ],
   "source": [
    "train_data.max(), val_data.max(), test_data.max()"
   ]
  },
  {
   "cell_type": "markdown",
   "metadata": {},
   "source": [
    "### Concatenate parameters (optional)"
   ]
  },
  {
   "cell_type": "code",
   "execution_count": 43,
   "metadata": {},
   "outputs": [
    {
     "data": {
      "text/html": [
       "<div>\n",
       "<style scoped>\n",
       "    .dataframe tbody tr th:only-of-type {\n",
       "        vertical-align: middle;\n",
       "    }\n",
       "\n",
       "    .dataframe tbody tr th {\n",
       "        vertical-align: top;\n",
       "    }\n",
       "\n",
       "    .dataframe thead th {\n",
       "        text-align: right;\n",
       "    }\n",
       "</style>\n",
       "<table border=\"1\" class=\"dataframe\">\n",
       "  <thead>\n",
       "    <tr style=\"text-align: right;\">\n",
       "      <th></th>\n",
       "      <th>BStrength</th>\n",
       "      <th>OrientationCme</th>\n",
       "      <th>ApexHeight</th>\n",
       "      <th>iHelicity</th>\n",
       "    </tr>\n",
       "  </thead>\n",
       "  <tbody>\n",
       "    <tr>\n",
       "      <th>0</th>\n",
       "      <td>5.0417</td>\n",
       "      <td>347.475</td>\n",
       "      <td>0.8505</td>\n",
       "      <td>-1</td>\n",
       "    </tr>\n",
       "    <tr>\n",
       "      <th>1</th>\n",
       "      <td>5.1250</td>\n",
       "      <td>330.225</td>\n",
       "      <td>0.7196</td>\n",
       "      <td>1</td>\n",
       "    </tr>\n",
       "    <tr>\n",
       "      <th>2</th>\n",
       "      <td>6.7917</td>\n",
       "      <td>380.475</td>\n",
       "      <td>0.7482</td>\n",
       "      <td>1</td>\n",
       "    </tr>\n",
       "    <tr>\n",
       "      <th>3</th>\n",
       "      <td>5.3750</td>\n",
       "      <td>342.225</td>\n",
       "      <td>0.9123</td>\n",
       "      <td>-1</td>\n",
       "    </tr>\n",
       "    <tr>\n",
       "      <th>4</th>\n",
       "      <td>5.2917</td>\n",
       "      <td>322.725</td>\n",
       "      <td>0.8719</td>\n",
       "      <td>1</td>\n",
       "    </tr>\n",
       "    <tr>\n",
       "      <th>...</th>\n",
       "      <td>...</td>\n",
       "      <td>...</td>\n",
       "      <td>...</td>\n",
       "      <td>...</td>\n",
       "    </tr>\n",
       "    <tr>\n",
       "      <th>115</th>\n",
       "      <td>14.6250</td>\n",
       "      <td>300.225</td>\n",
       "      <td>0.6911</td>\n",
       "      <td>1</td>\n",
       "    </tr>\n",
       "    <tr>\n",
       "      <th>116</th>\n",
       "      <td>14.7083</td>\n",
       "      <td>371.475</td>\n",
       "      <td>0.9337</td>\n",
       "      <td>1</td>\n",
       "    </tr>\n",
       "    <tr>\n",
       "      <th>117</th>\n",
       "      <td>14.7917</td>\n",
       "      <td>348.225</td>\n",
       "      <td>0.7743</td>\n",
       "      <td>1</td>\n",
       "    </tr>\n",
       "    <tr>\n",
       "      <th>118</th>\n",
       "      <td>14.8750</td>\n",
       "      <td>312.975</td>\n",
       "      <td>0.7363</td>\n",
       "      <td>-1</td>\n",
       "    </tr>\n",
       "    <tr>\n",
       "      <th>119</th>\n",
       "      <td>14.9583</td>\n",
       "      <td>340.725</td>\n",
       "      <td>0.8933</td>\n",
       "      <td>-1</td>\n",
       "    </tr>\n",
       "  </tbody>\n",
       "</table>\n",
       "<p>120 rows × 4 columns</p>\n",
       "</div>"
      ],
      "text/plain": [
       "     BStrength  OrientationCme  ApexHeight  iHelicity\n",
       "0       5.0417         347.475      0.8505         -1\n",
       "1       5.1250         330.225      0.7196          1\n",
       "2       6.7917         380.475      0.7482          1\n",
       "3       5.3750         342.225      0.9123         -1\n",
       "4       5.2917         322.725      0.8719          1\n",
       "..         ...             ...         ...        ...\n",
       "115    14.6250         300.225      0.6911          1\n",
       "116    14.7083         371.475      0.9337          1\n",
       "117    14.7917         348.225      0.7743          1\n",
       "118    14.8750         312.975      0.7363         -1\n",
       "119    14.9583         340.725      0.8933         -1\n",
       "\n",
       "[120 rows x 4 columns]"
      ]
     },
     "execution_count": 43,
     "metadata": {},
     "output_type": "execute_result"
    }
   ],
   "source": [
    "raw_params = pd.read_csv(\"./data_surrogate/params_2192_120runs.csv\")\n",
    "raw_params = raw_params[[\"BStrength\", \"OrientationCme\", \"ApexHeight\", \"iHelicity\"]]\n",
    "raw_params"
   ]
  },
  {
   "cell_type": "code",
   "execution_count": 44,
   "metadata": {},
   "outputs": [
    {
     "data": {
      "text/html": [
       "<div>\n",
       "<style scoped>\n",
       "    .dataframe tbody tr th:only-of-type {\n",
       "        vertical-align: middle;\n",
       "    }\n",
       "\n",
       "    .dataframe tbody tr th {\n",
       "        vertical-align: top;\n",
       "    }\n",
       "\n",
       "    .dataframe thead th {\n",
       "        text-align: right;\n",
       "    }\n",
       "</style>\n",
       "<table border=\"1\" class=\"dataframe\">\n",
       "  <thead>\n",
       "    <tr style=\"text-align: right;\">\n",
       "      <th></th>\n",
       "      <th>BStrength</th>\n",
       "      <th>OrientationCme</th>\n",
       "      <th>ApexHeight</th>\n",
       "      <th>iHelicity</th>\n",
       "    </tr>\n",
       "  </thead>\n",
       "  <tbody>\n",
       "    <tr>\n",
       "      <th>min</th>\n",
       "      <td>5.0417</td>\n",
       "      <td>294.975</td>\n",
       "      <td>0.6673</td>\n",
       "      <td>-1</td>\n",
       "    </tr>\n",
       "    <tr>\n",
       "      <th>max</th>\n",
       "      <td>14.9583</td>\n",
       "      <td>384.225</td>\n",
       "      <td>0.9504</td>\n",
       "      <td>1</td>\n",
       "    </tr>\n",
       "  </tbody>\n",
       "</table>\n",
       "</div>"
      ],
      "text/plain": [
       "     BStrength  OrientationCme  ApexHeight  iHelicity\n",
       "min     5.0417         294.975      0.6673         -1\n",
       "max    14.9583         384.225      0.9504          1"
      ]
     },
     "execution_count": 44,
     "metadata": {},
     "output_type": "execute_result"
    }
   ],
   "source": [
    "raw_params.agg(['min', 'max'])"
   ]
  },
  {
   "cell_type": "code",
   "execution_count": 45,
   "metadata": {},
   "outputs": [
    {
     "data": {
      "text/plain": [
       "(113, 4)"
      ]
     },
     "execution_count": 45,
     "metadata": {},
     "output_type": "execute_result"
    }
   ],
   "source": [
    "raw_params_retained = raw_params.to_numpy()[data_sim_ids - 1, :]\n",
    "raw_params_retained.shape"
   ]
  },
  {
   "cell_type": "code",
   "execution_count": 46,
   "metadata": {},
   "outputs": [],
   "source": [
    "# raw_params_np = raw_params_retained.to_numpy()"
   ]
  },
  {
   "cell_type": "code",
   "execution_count": 47,
   "metadata": {},
   "outputs": [],
   "source": [
    "param_scaling = [15, 384, 0.95, 1]"
   ]
  },
  {
   "cell_type": "code",
   "execution_count": 48,
   "metadata": {},
   "outputs": [
    {
     "data": {
      "text/plain": [
       "(68, 4)"
      ]
     },
     "execution_count": 48,
     "metadata": {},
     "output_type": "execute_result"
    }
   ],
   "source": [
    "raw_params_retained[train_idx, :].shape"
   ]
  },
  {
   "cell_type": "markdown",
   "metadata": {},
   "source": [
    "### Train-test split and normalization\n",
    "\n",
    "Use train_idx, valid_idx and test_idx"
   ]
  },
  {
   "cell_type": "code",
   "execution_count": 49,
   "metadata": {},
   "outputs": [],
   "source": [
    "train_params_raw = raw_params_retained[train_idx, :] / param_scaling\n",
    "valid_params_raw = raw_params_retained[valid_idx, :] / param_scaling\n",
    "test_params_raw = raw_params_retained[test_idx, :] / param_scaling"
   ]
  },
  {
   "cell_type": "code",
   "execution_count": 50,
   "metadata": {},
   "outputs": [],
   "source": [
    "train_snaps = train_data.reshape((train_data.shape[0], train_data.shape[1], -1))\n",
    "val_snaps = val_data.reshape((val_data.shape[0], val_data.shape[1], -1))\n",
    "test_snaps = test_data.reshape((test_data.shape[0], test_data.shape[1], -1))\n",
    "\n",
    "# repeat parameter values up to number of timesteps\n",
    "train_params_ts = np.repeat(train_params_raw.reshape((train_params_raw.shape[0], train_params_raw.shape[1], 1)), nTimesteps, axis=2)\n",
    "val_params_ts = np.repeat(valid_params_raw.reshape((valid_params_raw.shape[0], valid_params_raw.shape[1], 1)), nTimesteps, axis=2)\n",
    "test_params_ts = np.repeat(test_params_raw.reshape((test_params_raw.shape[0], test_params_raw.shape[1], 1)), nTimesteps, axis=2)\n",
    "\n",
    "# concatenate snaps and params\n",
    "train_all = torch.cat((train_snaps, torch.Tensor(np.transpose(train_params_ts, (0, 2, 1)))), 2)\n",
    "val_all = torch.cat((val_snaps, torch.Tensor(np.transpose(val_params_ts, (0, 2, 1)))), 2)\n",
    "test_all = torch.cat((test_snaps, torch.Tensor(np.transpose(test_params_ts, (0, 2, 1)))), 2)"
   ]
  },
  {
   "cell_type": "code",
   "execution_count": 51,
   "metadata": {},
   "outputs": [
    {
     "data": {
      "text/plain": [
       "(torch.Size([68, 40, 1024]), torch.Size([17, 40, 1024]))"
      ]
     },
     "execution_count": 51,
     "metadata": {},
     "output_type": "execute_result"
    }
   ],
   "source": [
    "train_snaps.shape, val_snaps.shape"
   ]
  },
  {
   "cell_type": "code",
   "execution_count": 96,
   "metadata": {},
   "outputs": [],
   "source": [
    "train_arr_ts = torch.Tensor(train_arr_pt)\n",
    "val_arr_ts = torch.Tensor(val_arr_pt)\n",
    "test_arr_ts = torch.Tensor(test_arr_pt)\n",
    "\n",
    "train_arr_raw_ts = torch.Tensor(train_arr_raw)\n",
    "val_arr_raw_ts = torch.Tensor(val_arr_raw)\n",
    "test_arr_raw_ts = torch.Tensor(test_arr_raw)"
   ]
  },
  {
   "cell_type": "code",
   "execution_count": 97,
   "metadata": {},
   "outputs": [],
   "source": [
    "# create lists\n",
    "train_dataset = [(train_all[i:(i+1), j, :], train_arr_ts[i, [j]], train_arr_raw_ts[i, [j]]) for i in range(train_all.shape[0]) for j in range(nTimesteps)]\n",
    "val_dataset = [(val_all[i:(i+1), j, :], val_arr_ts[i, [j]], val_arr_raw_ts[i, [j]]) for i in range(val_all.shape[0]) for j in range(nTimesteps)]\n",
    "test_dataset = [(test_all[i:(i+1), j, :], test_arr_ts[i, [j]], test_arr_raw_ts[i, [j]]) for i in range(test_all.shape[0]) for j in range(nTimesteps)]"
   ]
  },
  {
   "cell_type": "code",
   "execution_count": 98,
   "metadata": {},
   "outputs": [
    {
     "name": "stdout",
     "output_type": "stream",
     "text": [
      "torch.Size([1, 1028])\n",
      "2720 680 1120\n"
     ]
    }
   ],
   "source": [
    "print(train_dataset[0][0].shape)\n",
    "print(len(train_dataset), len(val_dataset), len(test_dataset))"
   ]
  },
  {
   "cell_type": "code",
   "execution_count": 99,
   "metadata": {},
   "outputs": [],
   "source": [
    "train_dataloader = DataLoader(train_dataset, \n",
    "                              batch_size = args[\"batch_size\"],\n",
    "                              shuffle=True, \n",
    "                              )\n",
    "\n",
    "val_dataloader = DataLoader(val_dataset,\n",
    "                            batch_size = args[\"batch_size\"],\n",
    "                            shuffle=False,\n",
    "                            )\n",
    "\n",
    "test_dataloader = DataLoader(test_dataset,\n",
    "                             batch_size = len(test_dataset),\n",
    "                             shuffle=False,\n",
    "                             )"
   ]
  },
  {
   "cell_type": "code",
   "execution_count": 100,
   "metadata": {},
   "outputs": [],
   "source": [
    "# blah = train_dataloader.__iter__().__next__()\n",
    "# print(blah[0].shape, blah[1].shape)\n",
    "# (torch.Size([batch_size, 1, 1028]), torch.Size([batch_size]))"
   ]
  },
  {
   "cell_type": "code",
   "execution_count": 101,
   "metadata": {},
   "outputs": [],
   "source": [
    "def inf_generator(iterable):\n",
    "    \"\"\"Allows training with DataLoaders in a single infinite loop:\n",
    "        for i, (x, y) in enumerate(inf_generator(train_loader)):\n",
    "    \"\"\"\n",
    "    iterator = iterable.__iter__()\n",
    "    while True:\n",
    "        try:\n",
    "            yield iterator.__next__()\n",
    "        except StopIteration:\n",
    "            iterator = iterable.__iter__()\n",
    "\n",
    "def get_next_batch(dataloader, device=torch.device(\"cuda:0\")):\n",
    "    return dataloader.__next__()"
   ]
  },
  {
   "cell_type": "markdown",
   "metadata": {},
   "source": [
    "Define WLCNN model architecture"
   ]
  },
  {
   "cell_type": "code",
   "execution_count": 102,
   "metadata": {},
   "outputs": [],
   "source": [
    "def norm_cnn(dim):\n",
    "    \"\"\"\n",
    "    GroupNorm: https://arxiv.org/pdf/1803.08494\n",
    "    In BatchNorm, typically pixels sharing the same channel index are normalized together. However, BN error increases rapidly with batch size. GroupNorm computes statistics along (H, W) axes for channel groups, so the error is independent of batch size and comparable to / lower than BN for the same batch size.\n",
    "    \"\"\"\n",
    "    return nn.GroupNorm(min(32, dim), dim)"
   ]
  },
  {
   "cell_type": "code",
   "execution_count": 103,
   "metadata": {},
   "outputs": [],
   "source": [
    "class FiLMLayer(nn.Module):\n",
    "    def __init__(self, num_features, feature_dim):\n",
    "        super(FiLMLayer, self).__init__()\n",
    "        self.num_features = num_features\n",
    "        \n",
    "        # Linear layers to generate scale and bias from the feature vector\n",
    "        self.scale_generator = nn.Linear(feature_dim, num_features)\n",
    "        self.bias_generator = nn.Linear(feature_dim, num_features)\n",
    "        \n",
    "    def forward(self, x, feature):\n",
    "        # x shape: (batch_size, num_features, height, width)\n",
    "        # feature shape: (batch_size, feature_dim)\n",
    "        \n",
    "        # Generate scale and bias\n",
    "        scale = self.scale_generator(feature) # no unsqueeze since we flatten to 1x1 image.\n",
    "        bias = self.bias_generator(feature)\n",
    "        \n",
    "        # Apply FiLM modulation\n",
    "        # Hadamard \n",
    "        return scale * x + bias\n",
    "\n",
    "\n",
    "class WLCNN_Film_Discrete(torch.nn.Module):\n",
    "    \"\"\"\n",
    "    Convolutional layers operating on image concatenated with parameter values followed by fully connected layers to predict arrival time per image. In between, FiLM layer conditioned on latent features modulates feature maps through affine transformations.\n",
    "    \"\"\"\n",
    "    # def __init__(self, power_transformer):\n",
    "    #     super(WLCNN_Film_Discrete, self).__init__()\n",
    "\n",
    "    #     self.power_transformer = power_transformer\n",
    "    #     self.lambdas = torch.tensor(self.power_transformer.lambdas_, dtype=torch.float32)\n",
    "    #     self.method = self.power_transformer.method\n",
    "    def __init__(self):\n",
    "        super(WLCNN_Film_Discrete, self).__init__()\n",
    "        self.features = nn.Sequential(\n",
    "            nn.Conv2d(1, 4, kernel_size=3, padding=1),\n",
    "            norm_cnn(4),\n",
    "            nn.ELU(),\n",
    "            nn.Conv2d(4, 8, kernel_size=3, padding=1),\n",
    "            norm_cnn(8),\n",
    "            nn.ELU(),\n",
    "            nn.Conv2d(8, 16, kernel_size=3, padding=1),\n",
    "            norm_cnn(16),\n",
    "            nn.ELU(),\n",
    "            nn.AdaptiveAvgPool2d((1, 1)),\n",
    "            nn.Flatten(),\n",
    "        )\n",
    "\n",
    "        self.fc_layers = nn.Sequential(nn.Linear(16, 32),\n",
    "                                    nn.ELU(),\n",
    "                                    nn.Linear(32, 1)\n",
    "                                        )\n",
    "        \n",
    "        self.film = FiLMLayer(16, 4)\n",
    "    def forward(self, x):\n",
    "        x_img = x[:, :, :1024].reshape(-1, 1, 16, 64)\n",
    "        x_params = x[:, :, 1024:].squeeze(1)\n",
    "\n",
    "        x_ft = self.features(x_img)\n",
    "        x_film = self.film(x_ft, x_params)\n",
    "        x_pred = self.fc_layers(x_film)\n",
    "\n",
    "        # if self.method == 'box-cox':\n",
    "        #     if torch.any(self.lambdas == 0):\n",
    "        #         x_pred = torch.exp(x_pred)\n",
    "        #     else:\n",
    "        #         x_pred = torch.pow(x_pred * self.lambdas + 1, 1 / self.lambdas)\n",
    "\n",
    "        return x_pred"
   ]
  },
  {
   "cell_type": "code",
   "execution_count": 104,
   "metadata": {},
   "outputs": [],
   "source": [
    "class WLCNN_Discrete(torch.nn.Module):\n",
    "    \"\"\"\n",
    "    Convolutional layers operating on image concatenated with parameter values followed by fully connected layers to predict arrival time per image. Also implement a crude Box-Cox inverse transform on the predictions.\n",
    "    \"\"\"\n",
    "    # def __init__(self, power_transformer):\n",
    "        # super(WLCNN_Discrete, self).__init__()\n",
    "        # self.power_transformer = power_transformer\n",
    "        # self.lambdas = torch.tensor(self.power_transformer.lambdas_, dtype=torch.float32)\n",
    "        # self.method = self.power_transformer.method\n",
    "    def __init__(self):\n",
    "        super(WLCNN_Discrete, self).__init__()\n",
    "        self.features = nn.Sequential(\n",
    "            nn.Conv2d(1, 4, kernel_size=3, padding=1),\n",
    "            norm_cnn(4),\n",
    "            nn.ELU(),\n",
    "            nn.Conv2d(4, 8, kernel_size=3, padding=1),\n",
    "            norm_cnn(8),\n",
    "            nn.ELU(),\n",
    "            nn.Conv2d(8, 16, kernel_size=3, padding=1),\n",
    "            norm_cnn(16),\n",
    "            nn.ELU(),\n",
    "            nn.AdaptiveAvgPool2d((1, 1)),\n",
    "            nn.Flatten(),\n",
    "        )\n",
    "\n",
    "        self.fc_layers = nn.Sequential(nn.Linear(20, 32),\n",
    "                                    nn.ELU(),\n",
    "                                    nn.Linear(32, 1)\n",
    "                                        )\n",
    "    \n",
    "    def forward(self, x):\n",
    "        x_img = x[:, :, :1024].reshape(-1, 1, 16, 64)\n",
    "        x_params = x[:, :, 1024:].squeeze(1)\n",
    "\n",
    "        x_ft = self.features(x_img)\n",
    "\n",
    "        # concatenate with parameters\n",
    "        x_ft_cat = torch.cat((x_ft, x_params), 1)\n",
    "        x_pred = self.fc_layers(x_ft_cat)\n",
    "\n",
    "        # if self.method == 'box-cox':\n",
    "        #     if torch.any(self.lambdas == 0):\n",
    "        #         x_pred = torch.exp(x_pred)\n",
    "        #     else:\n",
    "        #         x_pred = torch.pow(x_pred * self.lambdas + 1, 1 / self.lambdas)\n",
    "\n",
    "        return x_pred"
   ]
  },
  {
   "cell_type": "code",
   "execution_count": 105,
   "metadata": {},
   "outputs": [],
   "source": [
    "class WLCNN_Discrete(torch.nn.Module):\n",
    "    \"\"\"\n",
    "    Convolutional layers operating on image concatenated with parameter values followed by fully connected layers to predict arrival time per image.\n",
    "    \"\"\"\n",
    "    def __init__(self):\n",
    "        super(WLCNN_Discrete, self).__init__()\n",
    "        self.features = nn.Sequential(\n",
    "            nn.Conv2d(1, 4, kernel_size=3, padding=1),\n",
    "            # nn.BatchNorm2d(4),\n",
    "            norm_cnn(4),\n",
    "            nn.ELU(),\n",
    "            nn.Conv2d(4, 8, kernel_size=3, padding=1),\n",
    "            # nn.BatchNorm2d\n",
    "            norm_cnn(8),\n",
    "            nn.ELU(),\n",
    "            nn.Conv2d(8, 16, kernel_size=3, padding=1),\n",
    "            norm_cnn(16),\n",
    "            nn.ELU(),\n",
    "            nn.AdaptiveAvgPool2d((1, 1)),\n",
    "            nn.Flatten(),\n",
    "        )\n",
    "\n",
    "        self.fc_layers = nn.Sequential(nn.Linear(20, 32),\n",
    "                                    nn.ELU(),\n",
    "                                    nn.Linear(32, 1)\n",
    "                                        )\n",
    "    \n",
    "    def forward(self, x):\n",
    "        x_img = x[:, :, :1024].reshape(-1, 1, 16, 64)\n",
    "        x_params = x[:, :, 1024:].squeeze(1)\n",
    "\n",
    "        x_ft = self.features(x_img)\n",
    "\n",
    "        # concatenate with parameters\n",
    "        x_ft_cat = torch.cat((x_ft, x_params), 1)\n",
    "        x_pred = self.fc_layers(x_ft_cat)\n",
    "\n",
    "        # if self.method == 'box-cox':\n",
    "        #     if torch.any(self.lambdas == 0):\n",
    "        #         x_pred = torch.exp(x_pred)\n",
    "        #     else:\n",
    "        #         x_pred = torch.pow(x_pred * self.lambdas + 1, 1 / self.lambdas)\n",
    "\n",
    "        return x_pred"
   ]
  },
  {
   "cell_type": "code",
   "execution_count": 62,
   "metadata": {},
   "outputs": [],
   "source": [
    "# blah = train_dataloader.__iter__().__next__()\n",
    "# raw_img = blah[0]\n",
    "# arr_target = blah[1]\n",
    "# raw_img.shape, arr_target.shape"
   ]
  },
  {
   "cell_type": "code",
   "execution_count": 106,
   "metadata": {},
   "outputs": [],
   "source": [
    "import node_utils as nut\n",
    "import data_utils as dut\n",
    "import copy"
   ]
  },
  {
   "cell_type": "code",
   "execution_count": 107,
   "metadata": {},
   "outputs": [
    {
     "name": "stdout",
     "output_type": "stream",
     "text": [
      "Total number of parameters for model with concatenation:  2265\n",
      "Starting New experiment\n",
      "Experiment ID:  43553\n",
      "Checkpoint path:  /Users/ajivani/Desktop/Research/WLROM/WhiteLight/arr_experiments/experiment_43553.ckpt\n",
      "/Users/ajivani/Desktop/Research/WLROM/WhiteLight\n",
      "WLCNN_Discrete(\n",
      "  (features): Sequential(\n",
      "    (0): Conv2d(1, 4, kernel_size=(3, 3), stride=(1, 1), padding=(1, 1))\n",
      "    (1): GroupNorm(4, 4, eps=1e-05, affine=True)\n",
      "    (2): ELU(alpha=1.0)\n",
      "    (3): Conv2d(4, 8, kernel_size=(3, 3), stride=(1, 1), padding=(1, 1))\n",
      "    (4): GroupNorm(8, 8, eps=1e-05, affine=True)\n",
      "    (5): ELU(alpha=1.0)\n",
      "    (6): Conv2d(8, 16, kernel_size=(3, 3), stride=(1, 1), padding=(1, 1))\n",
      "    (7): GroupNorm(16, 16, eps=1e-05, affine=True)\n",
      "    (8): ELU(alpha=1.0)\n",
      "    (9): AdaptiveAvgPool2d(output_size=(1, 1))\n",
      "    (10): Flatten(start_dim=1, end_dim=-1)\n",
      "  )\n",
      "  (fc_layers): Sequential(\n",
      "    (0): Linear(in_features=20, out_features=32, bias=True)\n",
      "    (1): ELU(alpha=1.0)\n",
      "    (2): Linear(in_features=32, out_features=1, bias=True)\n",
      "  )\n",
      ")\n",
      "Number of parameters: 2265\n",
      "{'niters': 400, 'lr': 0.001, 'save': 'arr_experiments/', 'load': None, 'r': 1991, 'resize_dims': (16, 64), 'param_scaling': [1, 1], 'warm_start': 20376, 'do_warm_start': False, 'loss': 'mae', 'batch_size': 32, 'dropout': False}\n",
      "/Users/ajivani/Desktop/Research/WLROM/WhiteLight/arr_experiments/experiment_43553.ckpt\n",
      "cpu\n"
     ]
    }
   ],
   "source": [
    "# model = WLCNN_Discrete(pt).to(device)\n",
    "# model = WLCNN_Film_Discrete(pt).to(device)\n",
    "\n",
    "model = WLCNN_Discrete().to(device)\n",
    "\n",
    "pmodel = nut.count_parameters(model)\n",
    "# pFilm = nut.count_parameters(model_film)\n",
    "\n",
    "print(\"Total number of parameters for model with concatenation: \", pmodel)\n",
    "\n",
    "nut.makedirs(os.path.join(os.getcwd(), \"arr_logs\"))\n",
    "logdir = os.path.join(os.getcwd(), \"arr_logs\")\n",
    "\n",
    "exptdir = os.path.join(os.getcwd(), args[\"save\"])\n",
    "nut.makedirs(exptdir)\n",
    "\n",
    "if args[\"load\"] is not None:\n",
    "    experimentID = args[\"load\"]\n",
    "    print(\"Loading experiment\")\n",
    "else:\n",
    "    if args[\"do_warm_start\"]==True:\n",
    "        experimentID = args[\"warm_start\"]\n",
    "        print(\"Warm starting previous experiment\")\n",
    "    else:\n",
    "        experimentID = int(SystemRandom().random() * 1e5)\n",
    "        print(\"Starting New experiment\")\n",
    "\n",
    "print(\"Experiment ID: \", experimentID)\n",
    "\n",
    "ckpt_path = ckpt_path = os.path.join(exptdir, \"experiment_\" + str(experimentID) + '.ckpt')\n",
    "\n",
    "print(\"Checkpoint path: \", ckpt_path)\n",
    "\n",
    "logger = dut.get_logger(logpath=os.path.join(logdir, \"experiment_\" + str(experimentID) + '.log'))\n",
    "\n",
    "logger.info(os.getcwd())\n",
    "logger.info(model)\n",
    "logger.info(\"Number of parameters: {}\".format(pmodel))\n",
    "logger.info(args)\n",
    "logger.info(ckpt_path)\n",
    "logger.info(device)"
   ]
  },
  {
   "cell_type": "code",
   "execution_count": 108,
   "metadata": {},
   "outputs": [],
   "source": [
    "# import numpy as np\n",
    "# pt2 = PowerTransformer(method='box-cox')\n",
    "# rng = np.random.RandomState(304)\n",
    "# X_lognormal = rng.lognormal(size=(1000, 1))\n",
    "# pt2.fit(X_lognormal)\n",
    "# xtrans = pt2.transform(X_lognormal)\n",
    "# x2 = pt2.inverse_transform(xtrans)\n",
    "# lll = pt2.lambdas_\n",
    "# x3 = ((xtrans * lll) + 1) ** (1 / lll)\n",
    "# np.hstack((X_lognormal, x2, x3))"
   ]
  },
  {
   "cell_type": "code",
   "execution_count": 109,
   "metadata": {},
   "outputs": [],
   "source": [
    "# class InverseBoxCoxLoss(nn.Module):\n",
    "#     def __init__(self, power_transformer):\n",
    "#         super().__init__()\n",
    "#         self.power_transformer = power_transformer\n",
    "#         self.lambdas = torch.tensor(self.power_transformer.lambdas_, dtype=torch.float32)\n",
    "#         # self.scale = torch.tensor(self.power_transformer.scale_, dtype=torch.float32)\n",
    "#         # self.mean = torch.tensor(self.power_transformer.mean_, dtype=torch.float32)\n",
    "#         self.method = self.power_transformer.method\n",
    "\n",
    "#     def forward(self, predictions, targets):\n",
    "#     # def forward(self, predictions):\n",
    "#         # Move parameters to the same device as input tensors\n",
    "#         device = predictions.device\n",
    "#         self.lambdas = self.lambdas.to(device)\n",
    "#         # self.scale = self.scale.to(device)\n",
    "#         # self.mean = self.mean.to(device)\n",
    "\n",
    "#         # Inverse transform function\n",
    "#         def inverse_transform(X):\n",
    "#             if self.method == 'box-cox':\n",
    "#                 if torch.any(self.lambdas == 0):\n",
    "#                     X = torch.exp(X)\n",
    "#                 else:\n",
    "#                     X = torch.pow(X * self.lambdas + 1, 1 / self.lambdas)\n",
    "\n",
    "#             # return X * self.scale + self.mean\n",
    "#             return X\n",
    "        \n",
    "#         predictions_inv = inverse_transform(predictions)\n",
    "#         targets_inv = inverse_transform(targets)\n",
    "\n",
    "#         # return predictions_inv\n",
    "#         # Calculate MSE loss\n",
    "#         loss = nn.MSELoss()(predictions_inv, targets_inv)\n",
    "\n",
    "#         return loss"
   ]
  },
  {
   "cell_type": "code",
   "execution_count": 110,
   "metadata": {},
   "outputs": [
    {
     "data": {
      "application/vnd.jupyter.widget-view+json": {
       "model_id": "67b29688b8094e79a5ee24eae452b0b5",
       "version_major": 2,
       "version_minor": 0
      },
      "text/plain": [
       "Output()"
      ]
     },
     "metadata": {},
     "output_type": "display_data"
    },
    {
     "name": "stdout",
     "output_type": "stream",
     "text": [
      "L1Loss()\n",
      "Starting a new experiment 43553 from Epoch 0\n"
     ]
    },
    {
     "data": {
      "text/html": [
       "<pre style=\"white-space:pre;overflow-x:auto;line-height:normal;font-family:Menlo,'DejaVu Sans Mono',consolas,'Courier New',monospace\">Epoch 0001|Val loss 2.814846e-01|Train loss 4.920854e-01|LR 0.00100|\n",
       "</pre>\n"
      ],
      "text/plain": [
       "Epoch 0001|Val loss 2.814846e-01|Train loss 4.920854e-01|LR 0.00100|\n"
      ]
     },
     "metadata": {},
     "output_type": "display_data"
    },
    {
     "data": {
      "text/html": [
       "<pre style=\"white-space:pre;overflow-x:auto;line-height:normal;font-family:Menlo,'DejaVu Sans Mono',consolas,'Courier New',monospace\">Epoch 0002|Val loss 3.243083e-01|Train loss 6.659009e-01|LR 0.00100|\n",
       "</pre>\n"
      ],
      "text/plain": [
       "Epoch 0002|Val loss 3.243083e-01|Train loss 6.659009e-01|LR 0.00100|\n"
      ]
     },
     "metadata": {},
     "output_type": "display_data"
    },
    {
     "data": {
      "text/html": [
       "<pre style=\"white-space:pre;overflow-x:auto;line-height:normal;font-family:Menlo,'DejaVu Sans Mono',consolas,'Courier New',monospace\">Epoch 0003|Val loss 3.435848e-01|Train loss 5.183002e-01|LR 0.00100|\n",
       "</pre>\n"
      ],
      "text/plain": [
       "Epoch 0003|Val loss 3.435848e-01|Train loss 5.183002e-01|LR 0.00100|\n"
      ]
     },
     "metadata": {},
     "output_type": "display_data"
    },
    {
     "data": {
      "text/html": [
       "<pre style=\"white-space:pre;overflow-x:auto;line-height:normal;font-family:Menlo,'DejaVu Sans Mono',consolas,'Courier New',monospace\">Epoch 0004|Val loss 5.464304e-01|Train loss 5.847880e-01|LR 0.00100|\n",
       "</pre>\n"
      ],
      "text/plain": [
       "Epoch 0004|Val loss 5.464304e-01|Train loss 5.847880e-01|LR 0.00100|\n"
      ]
     },
     "metadata": {},
     "output_type": "display_data"
    },
    {
     "data": {
      "text/html": [
       "<pre style=\"white-space:pre;overflow-x:auto;line-height:normal;font-family:Menlo,'DejaVu Sans Mono',consolas,'Courier New',monospace\">Epoch 0005|Val loss 3.017951e-01|Train loss 5.163698e-01|LR 0.00100|\n",
       "</pre>\n"
      ],
      "text/plain": [
       "Epoch 0005|Val loss 3.017951e-01|Train loss 5.163698e-01|LR 0.00100|\n"
      ]
     },
     "metadata": {},
     "output_type": "display_data"
    },
    {
     "data": {
      "text/html": [
       "<pre style=\"white-space:pre;overflow-x:auto;line-height:normal;font-family:Menlo,'DejaVu Sans Mono',consolas,'Courier New',monospace\">Epoch 0006|Val loss 5.290395e-01|Train loss 5.067454e-01|LR 0.00100|\n",
       "</pre>\n"
      ],
      "text/plain": [
       "Epoch 0006|Val loss 5.290395e-01|Train loss 5.067454e-01|LR 0.00100|\n"
      ]
     },
     "metadata": {},
     "output_type": "display_data"
    },
    {
     "data": {
      "text/html": [
       "<pre style=\"white-space:pre;overflow-x:auto;line-height:normal;font-family:Menlo,'DejaVu Sans Mono',consolas,'Courier New',monospace\">Epoch 0007|Val loss 2.422172e-01|Train loss 4.370222e-01|LR 0.00100|\n",
       "</pre>\n"
      ],
      "text/plain": [
       "Epoch 0007|Val loss 2.422172e-01|Train loss 4.370222e-01|LR 0.00100|\n"
      ]
     },
     "metadata": {},
     "output_type": "display_data"
    },
    {
     "data": {
      "text/html": [
       "<pre style=\"white-space:pre;overflow-x:auto;line-height:normal;font-family:Menlo,'DejaVu Sans Mono',consolas,'Courier New',monospace\">Epoch 0008|Val loss 1.029918e+00|Train loss 4.342348e-01|LR 0.00100|\n",
       "</pre>\n"
      ],
      "text/plain": [
       "Epoch 0008|Val loss 1.029918e+00|Train loss 4.342348e-01|LR 0.00100|\n"
      ]
     },
     "metadata": {},
     "output_type": "display_data"
    },
    {
     "data": {
      "text/html": [
       "<pre style=\"white-space:pre;overflow-x:auto;line-height:normal;font-family:Menlo,'DejaVu Sans Mono',consolas,'Courier New',monospace\">Epoch 0009|Val loss 5.187882e-01|Train loss 6.263212e-01|LR 0.00100|\n",
       "</pre>\n"
      ],
      "text/plain": [
       "Epoch 0009|Val loss 5.187882e-01|Train loss 6.263212e-01|LR 0.00100|\n"
      ]
     },
     "metadata": {},
     "output_type": "display_data"
    },
    {
     "data": {
      "text/html": [
       "<pre style=\"white-space:pre;overflow-x:auto;line-height:normal;font-family:Menlo,'DejaVu Sans Mono',consolas,'Courier New',monospace\">Epoch 0010|Val loss 3.281859e-01|Train loss 7.214207e-01|LR 0.00100|\n",
       "</pre>\n"
      ],
      "text/plain": [
       "Epoch 0010|Val loss 3.281859e-01|Train loss 7.214207e-01|LR 0.00100|\n"
      ]
     },
     "metadata": {},
     "output_type": "display_data"
    },
    {
     "data": {
      "text/html": [
       "<pre style=\"white-space:pre;overflow-x:auto;line-height:normal;font-family:Menlo,'DejaVu Sans Mono',consolas,'Courier New',monospace\">Validation loss decreased (inf --&gt; 0.02).  Saving model ...\n",
       "</pre>\n"
      ],
      "text/plain": [
       "Validation loss decreased (inf --> 0.02).  Saving model ...\n"
      ]
     },
     "metadata": {},
     "output_type": "display_data"
    },
    {
     "data": {
      "text/html": [
       "<pre style=\"white-space:pre;overflow-x:auto;line-height:normal;font-family:Menlo,'DejaVu Sans Mono',consolas,'Courier New',monospace\">Epoch 0011|Val loss 3.066360e-01|Train loss 5.201039e-01|LR 0.00100|\n",
       "</pre>\n"
      ],
      "text/plain": [
       "Epoch 0011|Val loss 3.066360e-01|Train loss 5.201039e-01|LR 0.00100|\n"
      ]
     },
     "metadata": {},
     "output_type": "display_data"
    },
    {
     "data": {
      "text/html": [
       "<pre style=\"white-space:pre;overflow-x:auto;line-height:normal;font-family:Menlo,'DejaVu Sans Mono',consolas,'Courier New',monospace\">Epoch 0012|Val loss 2.393613e-01|Train loss 4.688591e-01|LR 0.00100|\n",
       "</pre>\n"
      ],
      "text/plain": [
       "Epoch 0012|Val loss 2.393613e-01|Train loss 4.688591e-01|LR 0.00100|\n"
      ]
     },
     "metadata": {},
     "output_type": "display_data"
    },
    {
     "data": {
      "text/html": [
       "<pre style=\"white-space:pre;overflow-x:auto;line-height:normal;font-family:Menlo,'DejaVu Sans Mono',consolas,'Courier New',monospace\">Epoch 0013|Val loss 3.568400e-01|Train loss 3.936324e-01|LR 0.00100|\n",
       "</pre>\n"
      ],
      "text/plain": [
       "Epoch 0013|Val loss 3.568400e-01|Train loss 3.936324e-01|LR 0.00100|\n"
      ]
     },
     "metadata": {},
     "output_type": "display_data"
    },
    {
     "data": {
      "text/html": [
       "<pre style=\"white-space:pre;overflow-x:auto;line-height:normal;font-family:Menlo,'DejaVu Sans Mono',consolas,'Courier New',monospace\">Epoch 0014|Val loss 1.348924e+00|Train loss 5.032098e-01|LR 0.00100|\n",
       "</pre>\n"
      ],
      "text/plain": [
       "Epoch 0014|Val loss 1.348924e+00|Train loss 5.032098e-01|LR 0.00100|\n"
      ]
     },
     "metadata": {},
     "output_type": "display_data"
    },
    {
     "data": {
      "text/html": [
       "<pre style=\"white-space:pre;overflow-x:auto;line-height:normal;font-family:Menlo,'DejaVu Sans Mono',consolas,'Courier New',monospace\">Epoch 0015|Val loss 3.212596e-01|Train loss 8.583158e-01|LR 0.00100|\n",
       "</pre>\n"
      ],
      "text/plain": [
       "Epoch 0015|Val loss 3.212596e-01|Train loss 8.583158e-01|LR 0.00100|\n"
      ]
     },
     "metadata": {},
     "output_type": "display_data"
    },
    {
     "data": {
      "text/html": [
       "<pre style=\"white-space:pre;overflow-x:auto;line-height:normal;font-family:Menlo,'DejaVu Sans Mono',consolas,'Courier New',monospace\">Epoch 0016|Val loss 3.050992e-01|Train loss 5.537958e-01|LR 0.00100|\n",
       "</pre>\n"
      ],
      "text/plain": [
       "Epoch 0016|Val loss 3.050992e-01|Train loss 5.537958e-01|LR 0.00100|\n"
      ]
     },
     "metadata": {},
     "output_type": "display_data"
    },
    {
     "data": {
      "text/html": [
       "<pre style=\"white-space:pre;overflow-x:auto;line-height:normal;font-family:Menlo,'DejaVu Sans Mono',consolas,'Courier New',monospace\">Epoch 0017|Val loss 3.808839e-01|Train loss 4.960425e-01|LR 0.00100|\n",
       "</pre>\n"
      ],
      "text/plain": [
       "Epoch 0017|Val loss 3.808839e-01|Train loss 4.960425e-01|LR 0.00100|\n"
      ]
     },
     "metadata": {},
     "output_type": "display_data"
    },
    {
     "data": {
      "text/html": [
       "<pre style=\"white-space:pre;overflow-x:auto;line-height:normal;font-family:Menlo,'DejaVu Sans Mono',consolas,'Courier New',monospace\">Epoch 0018|Val loss 5.961987e-01|Train loss 5.224490e-01|LR 0.00100|\n",
       "</pre>\n"
      ],
      "text/plain": [
       "Epoch 0018|Val loss 5.961987e-01|Train loss 5.224490e-01|LR 0.00100|\n"
      ]
     },
     "metadata": {},
     "output_type": "display_data"
    },
    {
     "data": {
      "text/html": [
       "<pre style=\"white-space:pre;overflow-x:auto;line-height:normal;font-family:Menlo,'DejaVu Sans Mono',consolas,'Courier New',monospace\">Epoch 0019|Val loss 2.374223e-01|Train loss 4.742925e-01|LR 0.00100|\n",
       "</pre>\n"
      ],
      "text/plain": [
       "Epoch 0019|Val loss 2.374223e-01|Train loss 4.742925e-01|LR 0.00100|\n"
      ]
     },
     "metadata": {},
     "output_type": "display_data"
    },
    {
     "data": {
      "text/html": [
       "<pre style=\"white-space:pre;overflow-x:auto;line-height:normal;font-family:Menlo,'DejaVu Sans Mono',consolas,'Courier New',monospace\">Epoch 0020|Val loss 2.903995e-01|Train loss 3.324796e-01|LR 0.00100|\n",
       "</pre>\n"
      ],
      "text/plain": [
       "Epoch 0020|Val loss 2.903995e-01|Train loss 3.324796e-01|LR 0.00100|\n"
      ]
     },
     "metadata": {},
     "output_type": "display_data"
    },
    {
     "data": {
      "text/html": [
       "<pre style=\"white-space:pre;overflow-x:auto;line-height:normal;font-family:Menlo,'DejaVu Sans Mono',consolas,'Courier New',monospace\">EarlyStopping counter: 1 out of 20\n",
       "</pre>\n"
      ],
      "text/plain": [
       "EarlyStopping counter: 1 out of 20\n"
      ]
     },
     "metadata": {},
     "output_type": "display_data"
    },
    {
     "data": {
      "text/html": [
       "<pre style=\"white-space:pre;overflow-x:auto;line-height:normal;font-family:Menlo,'DejaVu Sans Mono',consolas,'Courier New',monospace\">Epoch 0021|Val loss 8.064418e-01|Train loss 3.722069e-01|LR 0.00100|\n",
       "</pre>\n"
      ],
      "text/plain": [
       "Epoch 0021|Val loss 8.064418e-01|Train loss 3.722069e-01|LR 0.00100|\n"
      ]
     },
     "metadata": {},
     "output_type": "display_data"
    },
    {
     "data": {
      "text/html": [
       "<pre style=\"white-space:pre;overflow-x:auto;line-height:normal;font-family:Menlo,'DejaVu Sans Mono',consolas,'Courier New',monospace\">Epoch 0022|Val loss 5.144318e-01|Train loss 7.220041e-01|LR 0.00100|\n",
       "</pre>\n"
      ],
      "text/plain": [
       "Epoch 0022|Val loss 5.144318e-01|Train loss 7.220041e-01|LR 0.00100|\n"
      ]
     },
     "metadata": {},
     "output_type": "display_data"
    },
    {
     "data": {
      "text/html": [
       "<pre style=\"white-space:pre;overflow-x:auto;line-height:normal;font-family:Menlo,'DejaVu Sans Mono',consolas,'Courier New',monospace\">Epoch 0023|Val loss 3.823113e-01|Train loss 5.579885e-01|LR 0.00100|\n",
       "</pre>\n"
      ],
      "text/plain": [
       "Epoch 0023|Val loss 3.823113e-01|Train loss 5.579885e-01|LR 0.00100|\n"
      ]
     },
     "metadata": {},
     "output_type": "display_data"
    },
    {
     "data": {
      "text/html": [
       "<pre style=\"white-space:pre;overflow-x:auto;line-height:normal;font-family:Menlo,'DejaVu Sans Mono',consolas,'Courier New',monospace\">Epoch 0024|Val loss 3.478125e-01|Train loss 3.493660e-01|LR 0.00100|\n",
       "</pre>\n"
      ],
      "text/plain": [
       "Epoch 0024|Val loss 3.478125e-01|Train loss 3.493660e-01|LR 0.00100|\n"
      ]
     },
     "metadata": {},
     "output_type": "display_data"
    },
    {
     "data": {
      "text/html": [
       "<pre style=\"white-space:pre;overflow-x:auto;line-height:normal;font-family:Menlo,'DejaVu Sans Mono',consolas,'Courier New',monospace\">Epoch 0025|Val loss 8.625519e-01|Train loss 3.417807e-01|LR 0.00100|\n",
       "</pre>\n"
      ],
      "text/plain": [
       "Epoch 0025|Val loss 8.625519e-01|Train loss 3.417807e-01|LR 0.00100|\n"
      ]
     },
     "metadata": {},
     "output_type": "display_data"
    },
    {
     "data": {
      "text/html": [
       "<pre style=\"white-space:pre;overflow-x:auto;line-height:normal;font-family:Menlo,'DejaVu Sans Mono',consolas,'Courier New',monospace\">Epoch 0026|Val loss 5.279775e-01|Train loss 7.680561e-01|LR 0.00100|\n",
       "</pre>\n"
      ],
      "text/plain": [
       "Epoch 0026|Val loss 5.279775e-01|Train loss 7.680561e-01|LR 0.00100|\n"
      ]
     },
     "metadata": {},
     "output_type": "display_data"
    },
    {
     "data": {
      "text/html": [
       "<pre style=\"white-space:pre;overflow-x:auto;line-height:normal;font-family:Menlo,'DejaVu Sans Mono',consolas,'Courier New',monospace\">Epoch 0027|Val loss 6.533764e-01|Train loss 5.591242e-01|LR 0.00100|\n",
       "</pre>\n"
      ],
      "text/plain": [
       "Epoch 0027|Val loss 6.533764e-01|Train loss 5.591242e-01|LR 0.00100|\n"
      ]
     },
     "metadata": {},
     "output_type": "display_data"
    },
    {
     "data": {
      "text/html": [
       "<pre style=\"white-space:pre;overflow-x:auto;line-height:normal;font-family:Menlo,'DejaVu Sans Mono',consolas,'Courier New',monospace\">Epoch 0028|Val loss 3.091470e-01|Train loss 4.534061e-01|LR 0.00100|\n",
       "</pre>\n"
      ],
      "text/plain": [
       "Epoch 0028|Val loss 3.091470e-01|Train loss 4.534061e-01|LR 0.00100|\n"
      ]
     },
     "metadata": {},
     "output_type": "display_data"
    },
    {
     "data": {
      "text/html": [
       "<pre style=\"white-space:pre;overflow-x:auto;line-height:normal;font-family:Menlo,'DejaVu Sans Mono',consolas,'Courier New',monospace\">Epoch 0029|Val loss 5.656099e-01|Train loss 4.529062e-01|LR 0.00100|\n",
       "</pre>\n"
      ],
      "text/plain": [
       "Epoch 0029|Val loss 5.656099e-01|Train loss 4.529062e-01|LR 0.00100|\n"
      ]
     },
     "metadata": {},
     "output_type": "display_data"
    },
    {
     "data": {
      "text/html": [
       "<pre style=\"white-space:pre;overflow-x:auto;line-height:normal;font-family:Menlo,'DejaVu Sans Mono',consolas,'Courier New',monospace\">Epoch 0030|Val loss 2.482953e-01|Train loss 3.859326e-01|LR 0.00100|\n",
       "</pre>\n"
      ],
      "text/plain": [
       "Epoch 0030|Val loss 2.482953e-01|Train loss 3.859326e-01|LR 0.00100|\n"
      ]
     },
     "metadata": {},
     "output_type": "display_data"
    },
    {
     "data": {
      "text/html": [
       "<pre style=\"white-space:pre;overflow-x:auto;line-height:normal;font-family:Menlo,'DejaVu Sans Mono',consolas,'Courier New',monospace\">EarlyStopping counter: 2 out of 20\n",
       "</pre>\n"
      ],
      "text/plain": [
       "EarlyStopping counter: 2 out of 20\n"
      ]
     },
     "metadata": {},
     "output_type": "display_data"
    },
    {
     "data": {
      "text/html": [
       "<pre style=\"white-space:pre;overflow-x:auto;line-height:normal;font-family:Menlo,'DejaVu Sans Mono',consolas,'Courier New',monospace\">Epoch 0031|Val loss 4.050474e-01|Train loss 3.592343e-01|LR 0.00100|\n",
       "</pre>\n"
      ],
      "text/plain": [
       "Epoch 0031|Val loss 4.050474e-01|Train loss 3.592343e-01|LR 0.00100|\n"
      ]
     },
     "metadata": {},
     "output_type": "display_data"
    },
    {
     "data": {
      "text/html": [
       "<pre style=\"white-space:pre;overflow-x:auto;line-height:normal;font-family:Menlo,'DejaVu Sans Mono',consolas,'Courier New',monospace\">Epoch 0032|Val loss 4.373124e-01|Train loss 2.632900e-01|LR 0.00100|\n",
       "</pre>\n"
      ],
      "text/plain": [
       "Epoch 0032|Val loss 4.373124e-01|Train loss 2.632900e-01|LR 0.00100|\n"
      ]
     },
     "metadata": {},
     "output_type": "display_data"
    },
    {
     "data": {
      "text/html": [
       "<pre style=\"white-space:pre;overflow-x:auto;line-height:normal;font-family:Menlo,'DejaVu Sans Mono',consolas,'Courier New',monospace\">Epoch 0033|Val loss 1.899576e-01|Train loss 3.980160e-01|LR 0.00100|\n",
       "</pre>\n"
      ],
      "text/plain": [
       "Epoch 0033|Val loss 1.899576e-01|Train loss 3.980160e-01|LR 0.00100|\n"
      ]
     },
     "metadata": {},
     "output_type": "display_data"
    },
    {
     "data": {
      "text/html": [
       "<pre style=\"white-space:pre;overflow-x:auto;line-height:normal;font-family:Menlo,'DejaVu Sans Mono',consolas,'Courier New',monospace\">Epoch 0034|Val loss 3.951942e-01|Train loss 2.747992e-01|LR 0.00100|\n",
       "</pre>\n"
      ],
      "text/plain": [
       "Epoch 0034|Val loss 3.951942e-01|Train loss 2.747992e-01|LR 0.00100|\n"
      ]
     },
     "metadata": {},
     "output_type": "display_data"
    },
    {
     "data": {
      "text/html": [
       "<pre style=\"white-space:pre;overflow-x:auto;line-height:normal;font-family:Menlo,'DejaVu Sans Mono',consolas,'Courier New',monospace\">Epoch 0035|Val loss 1.737300e-01|Train loss 2.405368e-01|LR 0.00100|\n",
       "</pre>\n"
      ],
      "text/plain": [
       "Epoch 0035|Val loss 1.737300e-01|Train loss 2.405368e-01|LR 0.00100|\n"
      ]
     },
     "metadata": {},
     "output_type": "display_data"
    },
    {
     "data": {
      "text/html": [
       "<pre style=\"white-space:pre;overflow-x:auto;line-height:normal;font-family:Menlo,'DejaVu Sans Mono',consolas,'Courier New',monospace\">Epoch 0036|Val loss 4.272892e-01|Train loss 2.616200e-01|LR 0.00100|\n",
       "</pre>\n"
      ],
      "text/plain": [
       "Epoch 0036|Val loss 4.272892e-01|Train loss 2.616200e-01|LR 0.00100|\n"
      ]
     },
     "metadata": {},
     "output_type": "display_data"
    },
    {
     "data": {
      "text/html": [
       "<pre style=\"white-space:pre;overflow-x:auto;line-height:normal;font-family:Menlo,'DejaVu Sans Mono',consolas,'Courier New',monospace\">Epoch 0037|Val loss 1.822611e-01|Train loss 2.471025e-01|LR 0.00100|\n",
       "</pre>\n"
      ],
      "text/plain": [
       "Epoch 0037|Val loss 1.822611e-01|Train loss 2.471025e-01|LR 0.00100|\n"
      ]
     },
     "metadata": {},
     "output_type": "display_data"
    },
    {
     "data": {
      "text/html": [
       "<pre style=\"white-space:pre;overflow-x:auto;line-height:normal;font-family:Menlo,'DejaVu Sans Mono',consolas,'Courier New',monospace\">Epoch 0038|Val loss 3.188294e-01|Train loss 2.397431e-01|LR 0.00100|\n",
       "</pre>\n"
      ],
      "text/plain": [
       "Epoch 0038|Val loss 3.188294e-01|Train loss 2.397431e-01|LR 0.00100|\n"
      ]
     },
     "metadata": {},
     "output_type": "display_data"
    },
    {
     "data": {
      "text/html": [
       "<pre style=\"white-space:pre;overflow-x:auto;line-height:normal;font-family:Menlo,'DejaVu Sans Mono',consolas,'Courier New',monospace\">Epoch 0039|Val loss 3.541923e-01|Train loss 3.304511e-01|LR 0.00100|\n",
       "</pre>\n"
      ],
      "text/plain": [
       "Epoch 0039|Val loss 3.541923e-01|Train loss 3.304511e-01|LR 0.00100|\n"
      ]
     },
     "metadata": {},
     "output_type": "display_data"
    },
    {
     "data": {
      "text/html": [
       "<pre style=\"white-space:pre;overflow-x:auto;line-height:normal;font-family:Menlo,'DejaVu Sans Mono',consolas,'Courier New',monospace\">Epoch 0040|Val loss 5.260680e-01|Train loss 2.565993e-01|LR 0.00100|\n",
       "</pre>\n"
      ],
      "text/plain": [
       "Epoch 0040|Val loss 5.260680e-01|Train loss 2.565993e-01|LR 0.00100|\n"
      ]
     },
     "metadata": {},
     "output_type": "display_data"
    },
    {
     "data": {
      "text/html": [
       "<pre style=\"white-space:pre;overflow-x:auto;line-height:normal;font-family:Menlo,'DejaVu Sans Mono',consolas,'Courier New',monospace\">EarlyStopping counter: 3 out of 20\n",
       "</pre>\n"
      ],
      "text/plain": [
       "EarlyStopping counter: 3 out of 20\n"
      ]
     },
     "metadata": {},
     "output_type": "display_data"
    },
    {
     "data": {
      "text/html": [
       "<pre style=\"white-space:pre;overflow-x:auto;line-height:normal;font-family:Menlo,'DejaVu Sans Mono',consolas,'Courier New',monospace\">Epoch 0041|Val loss 2.422769e-01|Train loss 4.591334e-01|LR 0.00100|\n",
       "</pre>\n"
      ],
      "text/plain": [
       "Epoch 0041|Val loss 2.422769e-01|Train loss 4.591334e-01|LR 0.00100|\n"
      ]
     },
     "metadata": {},
     "output_type": "display_data"
    },
    {
     "data": {
      "text/html": [
       "<pre style=\"white-space:pre;overflow-x:auto;line-height:normal;font-family:Menlo,'DejaVu Sans Mono',consolas,'Courier New',monospace\">Epoch 0042|Val loss 2.224425e-01|Train loss 4.046983e-01|LR 0.00100|\n",
       "</pre>\n"
      ],
      "text/plain": [
       "Epoch 0042|Val loss 2.224425e-01|Train loss 4.046983e-01|LR 0.00100|\n"
      ]
     },
     "metadata": {},
     "output_type": "display_data"
    },
    {
     "data": {
      "text/html": [
       "<pre style=\"white-space:pre;overflow-x:auto;line-height:normal;font-family:Menlo,'DejaVu Sans Mono',consolas,'Courier New',monospace\">Epoch 0043|Val loss 2.305468e-01|Train loss 3.309055e-01|LR 0.00100|\n",
       "</pre>\n"
      ],
      "text/plain": [
       "Epoch 0043|Val loss 2.305468e-01|Train loss 3.309055e-01|LR 0.00100|\n"
      ]
     },
     "metadata": {},
     "output_type": "display_data"
    },
    {
     "data": {
      "text/html": [
       "<pre style=\"white-space:pre;overflow-x:auto;line-height:normal;font-family:Menlo,'DejaVu Sans Mono',consolas,'Courier New',monospace\">Epoch 0044|Val loss 7.481524e-01|Train loss 3.895417e-01|LR 0.00100|\n",
       "</pre>\n"
      ],
      "text/plain": [
       "Epoch 0044|Val loss 7.481524e-01|Train loss 3.895417e-01|LR 0.00100|\n"
      ]
     },
     "metadata": {},
     "output_type": "display_data"
    },
    {
     "data": {
      "text/html": [
       "<pre style=\"white-space:pre;overflow-x:auto;line-height:normal;font-family:Menlo,'DejaVu Sans Mono',consolas,'Courier New',monospace\">Epoch 0045|Val loss 4.891477e-01|Train loss 4.592824e-01|LR 0.00100|\n",
       "</pre>\n"
      ],
      "text/plain": [
       "Epoch 0045|Val loss 4.891477e-01|Train loss 4.592824e-01|LR 0.00100|\n"
      ]
     },
     "metadata": {},
     "output_type": "display_data"
    },
    {
     "data": {
      "text/html": [
       "<pre style=\"white-space:pre;overflow-x:auto;line-height:normal;font-family:Menlo,'DejaVu Sans Mono',consolas,'Courier New',monospace\">Epoch 0046|Val loss 7.884912e-01|Train loss 6.059818e-01|LR 0.00100|\n",
       "</pre>\n"
      ],
      "text/plain": [
       "Epoch 0046|Val loss 7.884912e-01|Train loss 6.059818e-01|LR 0.00100|\n"
      ]
     },
     "metadata": {},
     "output_type": "display_data"
    },
    {
     "data": {
      "text/html": [
       "<pre style=\"white-space:pre;overflow-x:auto;line-height:normal;font-family:Menlo,'DejaVu Sans Mono',consolas,'Courier New',monospace\">Epoch 0047|Val loss 2.265546e-01|Train loss 4.686593e-01|LR 0.00100|\n",
       "</pre>\n"
      ],
      "text/plain": [
       "Epoch 0047|Val loss 2.265546e-01|Train loss 4.686593e-01|LR 0.00100|\n"
      ]
     },
     "metadata": {},
     "output_type": "display_data"
    },
    {
     "data": {
      "text/html": [
       "<pre style=\"white-space:pre;overflow-x:auto;line-height:normal;font-family:Menlo,'DejaVu Sans Mono',consolas,'Courier New',monospace\">Epoch 0048|Val loss 3.094172e-01|Train loss 3.330632e-01|LR 0.00100|\n",
       "</pre>\n"
      ],
      "text/plain": [
       "Epoch 0048|Val loss 3.094172e-01|Train loss 3.330632e-01|LR 0.00100|\n"
      ]
     },
     "metadata": {},
     "output_type": "display_data"
    },
    {
     "data": {
      "text/html": [
       "<pre style=\"white-space:pre;overflow-x:auto;line-height:normal;font-family:Menlo,'DejaVu Sans Mono',consolas,'Courier New',monospace\">Epoch 0049|Val loss 1.824640e-01|Train loss 2.759211e-01|LR 0.00100|\n",
       "</pre>\n"
      ],
      "text/plain": [
       "Epoch 0049|Val loss 1.824640e-01|Train loss 2.759211e-01|LR 0.00100|\n"
      ]
     },
     "metadata": {},
     "output_type": "display_data"
    },
    {
     "data": {
      "text/html": [
       "<pre style=\"white-space:pre;overflow-x:auto;line-height:normal;font-family:Menlo,'DejaVu Sans Mono',consolas,'Courier New',monospace\">Epoch 0050|Val loss 3.673358e-01|Train loss 2.275614e-01|LR 0.00100|\n",
       "</pre>\n"
      ],
      "text/plain": [
       "Epoch 0050|Val loss 3.673358e-01|Train loss 2.275614e-01|LR 0.00100|\n"
      ]
     },
     "metadata": {},
     "output_type": "display_data"
    },
    {
     "data": {
      "text/html": [
       "<pre style=\"white-space:pre;overflow-x:auto;line-height:normal;font-family:Menlo,'DejaVu Sans Mono',consolas,'Courier New',monospace\">EarlyStopping counter: 4 out of 20\n",
       "</pre>\n"
      ],
      "text/plain": [
       "EarlyStopping counter: 4 out of 20\n"
      ]
     },
     "metadata": {},
     "output_type": "display_data"
    },
    {
     "data": {
      "text/html": [
       "<pre style=\"white-space:pre;overflow-x:auto;line-height:normal;font-family:Menlo,'DejaVu Sans Mono',consolas,'Courier New',monospace\">Epoch 0051|Val loss 3.042356e-01|Train loss 2.908772e-01|LR 0.00100|\n",
       "</pre>\n"
      ],
      "text/plain": [
       "Epoch 0051|Val loss 3.042356e-01|Train loss 2.908772e-01|LR 0.00100|\n"
      ]
     },
     "metadata": {},
     "output_type": "display_data"
    },
    {
     "data": {
      "text/html": [
       "<pre style=\"white-space:pre;overflow-x:auto;line-height:normal;font-family:Menlo,'DejaVu Sans Mono',consolas,'Courier New',monospace\">Epoch 0052|Val loss 3.066003e-01|Train loss 2.601434e-01|LR 0.00100|\n",
       "</pre>\n"
      ],
      "text/plain": [
       "Epoch 0052|Val loss 3.066003e-01|Train loss 2.601434e-01|LR 0.00100|\n"
      ]
     },
     "metadata": {},
     "output_type": "display_data"
    },
    {
     "data": {
      "text/html": [
       "<pre style=\"white-space:pre;overflow-x:auto;line-height:normal;font-family:Menlo,'DejaVu Sans Mono',consolas,'Courier New',monospace\">Epoch 0053|Val loss 2.988043e-01|Train loss 2.486018e-01|LR 0.00100|\n",
       "</pre>\n"
      ],
      "text/plain": [
       "Epoch 0053|Val loss 2.988043e-01|Train loss 2.486018e-01|LR 0.00100|\n"
      ]
     },
     "metadata": {},
     "output_type": "display_data"
    },
    {
     "data": {
      "text/html": [
       "<pre style=\"white-space:pre;overflow-x:auto;line-height:normal;font-family:Menlo,'DejaVu Sans Mono',consolas,'Courier New',monospace\">Epoch 0054|Val loss 2.134674e-01|Train loss 2.935931e-01|LR 0.00100|\n",
       "</pre>\n"
      ],
      "text/plain": [
       "Epoch 0054|Val loss 2.134674e-01|Train loss 2.935931e-01|LR 0.00100|\n"
      ]
     },
     "metadata": {},
     "output_type": "display_data"
    },
    {
     "data": {
      "text/html": [
       "<pre style=\"white-space:pre;overflow-x:auto;line-height:normal;font-family:Menlo,'DejaVu Sans Mono',consolas,'Courier New',monospace\">Epoch 0055|Val loss 2.599858e-01|Train loss 2.407581e-01|LR 0.00100|\n",
       "</pre>\n"
      ],
      "text/plain": [
       "Epoch 0055|Val loss 2.599858e-01|Train loss 2.407581e-01|LR 0.00100|\n"
      ]
     },
     "metadata": {},
     "output_type": "display_data"
    },
    {
     "data": {
      "text/html": [
       "<pre style=\"white-space:pre;overflow-x:auto;line-height:normal;font-family:Menlo,'DejaVu Sans Mono',consolas,'Courier New',monospace\">Epoch 0056|Val loss 4.372655e-01|Train loss 3.552190e-01|LR 0.00100|\n",
       "</pre>\n"
      ],
      "text/plain": [
       "Epoch 0056|Val loss 4.372655e-01|Train loss 3.552190e-01|LR 0.00100|\n"
      ]
     },
     "metadata": {},
     "output_type": "display_data"
    },
    {
     "data": {
      "text/html": [
       "<pre style=\"white-space:pre;overflow-x:auto;line-height:normal;font-family:Menlo,'DejaVu Sans Mono',consolas,'Courier New',monospace\">Epoch 0057|Val loss 6.711439e-01|Train loss 2.894768e-01|LR 0.00100|\n",
       "</pre>\n"
      ],
      "text/plain": [
       "Epoch 0057|Val loss 6.711439e-01|Train loss 2.894768e-01|LR 0.00100|\n"
      ]
     },
     "metadata": {},
     "output_type": "display_data"
    },
    {
     "data": {
      "text/html": [
       "<pre style=\"white-space:pre;overflow-x:auto;line-height:normal;font-family:Menlo,'DejaVu Sans Mono',consolas,'Courier New',monospace\">Epoch 0058|Val loss 2.423636e-01|Train loss 4.748590e-01|LR 0.00100|\n",
       "</pre>\n"
      ],
      "text/plain": [
       "Epoch 0058|Val loss 2.423636e-01|Train loss 4.748590e-01|LR 0.00100|\n"
      ]
     },
     "metadata": {},
     "output_type": "display_data"
    },
    {
     "data": {
      "text/html": [
       "<pre style=\"white-space:pre;overflow-x:auto;line-height:normal;font-family:Menlo,'DejaVu Sans Mono',consolas,'Courier New',monospace\">Epoch 0059|Val loss 2.617273e-01|Train loss 3.360624e-01|LR 0.00100|\n",
       "</pre>\n"
      ],
      "text/plain": [
       "Epoch 0059|Val loss 2.617273e-01|Train loss 3.360624e-01|LR 0.00100|\n"
      ]
     },
     "metadata": {},
     "output_type": "display_data"
    },
    {
     "data": {
      "text/html": [
       "<pre style=\"white-space:pre;overflow-x:auto;line-height:normal;font-family:Menlo,'DejaVu Sans Mono',consolas,'Courier New',monospace\">Epoch 0060|Val loss 1.986546e-01|Train loss 2.185124e-01|LR 0.00100|\n",
       "</pre>\n"
      ],
      "text/plain": [
       "Epoch 0060|Val loss 1.986546e-01|Train loss 2.185124e-01|LR 0.00100|\n"
      ]
     },
     "metadata": {},
     "output_type": "display_data"
    },
    {
     "data": {
      "text/html": [
       "<pre style=\"white-space:pre;overflow-x:auto;line-height:normal;font-family:Menlo,'DejaVu Sans Mono',consolas,'Courier New',monospace\">EarlyStopping counter: 5 out of 20\n",
       "</pre>\n"
      ],
      "text/plain": [
       "EarlyStopping counter: 5 out of 20\n"
      ]
     },
     "metadata": {},
     "output_type": "display_data"
    },
    {
     "data": {
      "text/html": [
       "<pre style=\"white-space:pre;overflow-x:auto;line-height:normal;font-family:Menlo,'DejaVu Sans Mono',consolas,'Courier New',monospace\">Epoch 0061|Val loss 5.382197e-01|Train loss 4.045776e-01|LR 0.00100|\n",
       "</pre>\n"
      ],
      "text/plain": [
       "Epoch 0061|Val loss 5.382197e-01|Train loss 4.045776e-01|LR 0.00100|\n"
      ]
     },
     "metadata": {},
     "output_type": "display_data"
    },
    {
     "data": {
      "text/html": [
       "<pre style=\"white-space:pre;overflow-x:auto;line-height:normal;font-family:Menlo,'DejaVu Sans Mono',consolas,'Courier New',monospace\">Epoch 0062|Val loss 3.669259e-01|Train loss 3.140924e-01|LR 0.00100|\n",
       "</pre>\n"
      ],
      "text/plain": [
       "Epoch 0062|Val loss 3.669259e-01|Train loss 3.140924e-01|LR 0.00100|\n"
      ]
     },
     "metadata": {},
     "output_type": "display_data"
    },
    {
     "data": {
      "text/html": [
       "<pre style=\"white-space:pre;overflow-x:auto;line-height:normal;font-family:Menlo,'DejaVu Sans Mono',consolas,'Courier New',monospace\">Epoch 0063|Val loss 3.176290e-01|Train loss 4.007519e-01|LR 0.00100|\n",
       "</pre>\n"
      ],
      "text/plain": [
       "Epoch 0063|Val loss 3.176290e-01|Train loss 4.007519e-01|LR 0.00100|\n"
      ]
     },
     "metadata": {},
     "output_type": "display_data"
    },
    {
     "data": {
      "text/html": [
       "<pre style=\"white-space:pre;overflow-x:auto;line-height:normal;font-family:Menlo,'DejaVu Sans Mono',consolas,'Courier New',monospace\">Epoch 0064|Val loss 5.361898e-01|Train loss 3.769782e-01|LR 0.00100|\n",
       "</pre>\n"
      ],
      "text/plain": [
       "Epoch 0064|Val loss 5.361898e-01|Train loss 3.769782e-01|LR 0.00100|\n"
      ]
     },
     "metadata": {},
     "output_type": "display_data"
    },
    {
     "data": {
      "text/html": [
       "<pre style=\"white-space:pre;overflow-x:auto;line-height:normal;font-family:Menlo,'DejaVu Sans Mono',consolas,'Courier New',monospace\">Epoch 0065|Val loss 2.229627e-01|Train loss 3.342560e-01|LR 0.00100|\n",
       "</pre>\n"
      ],
      "text/plain": [
       "Epoch 0065|Val loss 2.229627e-01|Train loss 3.342560e-01|LR 0.00100|\n"
      ]
     },
     "metadata": {},
     "output_type": "display_data"
    },
    {
     "data": {
      "text/html": [
       "<pre style=\"white-space:pre;overflow-x:auto;line-height:normal;font-family:Menlo,'DejaVu Sans Mono',consolas,'Courier New',monospace\">Epoch 0066|Val loss 2.389900e-01|Train loss 2.138598e-01|LR 0.00100|\n",
       "</pre>\n"
      ],
      "text/plain": [
       "Epoch 0066|Val loss 2.389900e-01|Train loss 2.138598e-01|LR 0.00100|\n"
      ]
     },
     "metadata": {},
     "output_type": "display_data"
    },
    {
     "data": {
      "text/html": [
       "<pre style=\"white-space:pre;overflow-x:auto;line-height:normal;font-family:Menlo,'DejaVu Sans Mono',consolas,'Courier New',monospace\">Epoch 0067|Val loss 2.462879e-01|Train loss 2.231646e-01|LR 0.00100|\n",
       "</pre>\n"
      ],
      "text/plain": [
       "Epoch 0067|Val loss 2.462879e-01|Train loss 2.231646e-01|LR 0.00100|\n"
      ]
     },
     "metadata": {},
     "output_type": "display_data"
    },
    {
     "data": {
      "text/html": [
       "<pre style=\"white-space:pre;overflow-x:auto;line-height:normal;font-family:Menlo,'DejaVu Sans Mono',consolas,'Courier New',monospace\">Epoch 0068|Val loss 3.521830e-01|Train loss 2.049174e-01|LR 0.00100|\n",
       "</pre>\n"
      ],
      "text/plain": [
       "Epoch 0068|Val loss 3.521830e-01|Train loss 2.049174e-01|LR 0.00100|\n"
      ]
     },
     "metadata": {},
     "output_type": "display_data"
    },
    {
     "data": {
      "text/html": [
       "<pre style=\"white-space:pre;overflow-x:auto;line-height:normal;font-family:Menlo,'DejaVu Sans Mono',consolas,'Courier New',monospace\">Epoch 0069|Val loss 2.136193e-01|Train loss 2.359478e-01|LR 0.00100|\n",
       "</pre>\n"
      ],
      "text/plain": [
       "Epoch 0069|Val loss 2.136193e-01|Train loss 2.359478e-01|LR 0.00100|\n"
      ]
     },
     "metadata": {},
     "output_type": "display_data"
    },
    {
     "data": {
      "text/html": [
       "<pre style=\"white-space:pre;overflow-x:auto;line-height:normal;font-family:Menlo,'DejaVu Sans Mono',consolas,'Courier New',monospace\">Epoch 0070|Val loss 2.642578e-01|Train loss 2.413504e-01|LR 0.00100|\n",
       "</pre>\n"
      ],
      "text/plain": [
       "Epoch 0070|Val loss 2.642578e-01|Train loss 2.413504e-01|LR 0.00100|\n"
      ]
     },
     "metadata": {},
     "output_type": "display_data"
    },
    {
     "data": {
      "text/html": [
       "<pre style=\"white-space:pre;overflow-x:auto;line-height:normal;font-family:Menlo,'DejaVu Sans Mono',consolas,'Courier New',monospace\">EarlyStopping counter: 6 out of 20\n",
       "</pre>\n"
      ],
      "text/plain": [
       "EarlyStopping counter: 6 out of 20\n"
      ]
     },
     "metadata": {},
     "output_type": "display_data"
    },
    {
     "data": {
      "text/html": [
       "<pre style=\"white-space:pre;overflow-x:auto;line-height:normal;font-family:Menlo,'DejaVu Sans Mono',consolas,'Courier New',monospace\">Epoch 0071|Val loss 1.761316e-01|Train loss 2.077979e-01|LR 0.00100|\n",
       "</pre>\n"
      ],
      "text/plain": [
       "Epoch 0071|Val loss 1.761316e-01|Train loss 2.077979e-01|LR 0.00100|\n"
      ]
     },
     "metadata": {},
     "output_type": "display_data"
    },
    {
     "data": {
      "text/html": [
       "<pre style=\"white-space:pre;overflow-x:auto;line-height:normal;font-family:Menlo,'DejaVu Sans Mono',consolas,'Courier New',monospace\">Epoch 0072|Val loss 4.063136e-01|Train loss 2.260648e-01|LR 0.00100|\n",
       "</pre>\n"
      ],
      "text/plain": [
       "Epoch 0072|Val loss 4.063136e-01|Train loss 2.260648e-01|LR 0.00100|\n"
      ]
     },
     "metadata": {},
     "output_type": "display_data"
    },
    {
     "data": {
      "text/html": [
       "<pre style=\"white-space:pre;overflow-x:auto;line-height:normal;font-family:Menlo,'DejaVu Sans Mono',consolas,'Courier New',monospace\">Epoch 0073|Val loss 2.312288e-01|Train loss 2.128647e-01|LR 0.00100|\n",
       "</pre>\n"
      ],
      "text/plain": [
       "Epoch 0073|Val loss 2.312288e-01|Train loss 2.128647e-01|LR 0.00100|\n"
      ]
     },
     "metadata": {},
     "output_type": "display_data"
    },
    {
     "data": {
      "text/html": [
       "<pre style=\"white-space:pre;overflow-x:auto;line-height:normal;font-family:Menlo,'DejaVu Sans Mono',consolas,'Courier New',monospace\">Epoch 0074|Val loss 2.181763e-01|Train loss 2.335365e-01|LR 0.00100|\n",
       "</pre>\n"
      ],
      "text/plain": [
       "Epoch 0074|Val loss 2.181763e-01|Train loss 2.335365e-01|LR 0.00100|\n"
      ]
     },
     "metadata": {},
     "output_type": "display_data"
    },
    {
     "data": {
      "text/html": [
       "<pre style=\"white-space:pre;overflow-x:auto;line-height:normal;font-family:Menlo,'DejaVu Sans Mono',consolas,'Courier New',monospace\">Epoch 0075|Val loss 1.856158e-01|Train loss 2.233506e-01|LR 0.00100|\n",
       "</pre>\n"
      ],
      "text/plain": [
       "Epoch 0075|Val loss 1.856158e-01|Train loss 2.233506e-01|LR 0.00100|\n"
      ]
     },
     "metadata": {},
     "output_type": "display_data"
    },
    {
     "data": {
      "text/html": [
       "<pre style=\"white-space:pre;overflow-x:auto;line-height:normal;font-family:Menlo,'DejaVu Sans Mono',consolas,'Courier New',monospace\">Epoch 0076|Val loss 4.264030e-01|Train loss 2.911137e-01|LR 0.00100|\n",
       "</pre>\n"
      ],
      "text/plain": [
       "Epoch 0076|Val loss 4.264030e-01|Train loss 2.911137e-01|LR 0.00100|\n"
      ]
     },
     "metadata": {},
     "output_type": "display_data"
    },
    {
     "data": {
      "text/html": [
       "<pre style=\"white-space:pre;overflow-x:auto;line-height:normal;font-family:Menlo,'DejaVu Sans Mono',consolas,'Courier New',monospace\">Epoch 0077|Val loss 1.881970e-01|Train loss 2.666492e-01|LR 0.00060|\n",
       "</pre>\n"
      ],
      "text/plain": [
       "Epoch 0077|Val loss 1.881970e-01|Train loss 2.666492e-01|LR 0.00060|\n"
      ]
     },
     "metadata": {},
     "output_type": "display_data"
    },
    {
     "data": {
      "text/html": [
       "<pre style=\"white-space:pre;overflow-x:auto;line-height:normal;font-family:Menlo,'DejaVu Sans Mono',consolas,'Courier New',monospace\">Epoch 0078|Val loss 2.183599e-01|Train loss 1.848716e-01|LR 0.00060|\n",
       "</pre>\n"
      ],
      "text/plain": [
       "Epoch 0078|Val loss 2.183599e-01|Train loss 1.848716e-01|LR 0.00060|\n"
      ]
     },
     "metadata": {},
     "output_type": "display_data"
    },
    {
     "data": {
      "text/html": [
       "<pre style=\"white-space:pre;overflow-x:auto;line-height:normal;font-family:Menlo,'DejaVu Sans Mono',consolas,'Courier New',monospace\">Epoch 0079|Val loss 2.971428e-01|Train loss 2.141534e-01|LR 0.00060|\n",
       "</pre>\n"
      ],
      "text/plain": [
       "Epoch 0079|Val loss 2.971428e-01|Train loss 2.141534e-01|LR 0.00060|\n"
      ]
     },
     "metadata": {},
     "output_type": "display_data"
    },
    {
     "data": {
      "text/html": [
       "<pre style=\"white-space:pre;overflow-x:auto;line-height:normal;font-family:Menlo,'DejaVu Sans Mono',consolas,'Courier New',monospace\">Epoch 0080|Val loss 2.385255e-01|Train loss 1.966449e-01|LR 0.00060|\n",
       "</pre>\n"
      ],
      "text/plain": [
       "Epoch 0080|Val loss 2.385255e-01|Train loss 1.966449e-01|LR 0.00060|\n"
      ]
     },
     "metadata": {},
     "output_type": "display_data"
    },
    {
     "data": {
      "text/html": [
       "<pre style=\"white-space:pre;overflow-x:auto;line-height:normal;font-family:Menlo,'DejaVu Sans Mono',consolas,'Courier New',monospace\">EarlyStopping counter: 7 out of 20\n",
       "</pre>\n"
      ],
      "text/plain": [
       "EarlyStopping counter: 7 out of 20\n"
      ]
     },
     "metadata": {},
     "output_type": "display_data"
    },
    {
     "data": {
      "text/html": [
       "<pre style=\"white-space:pre;overflow-x:auto;line-height:normal;font-family:Menlo,'DejaVu Sans Mono',consolas,'Courier New',monospace\">Epoch 0081|Val loss 1.991187e-01|Train loss 1.784327e-01|LR 0.00060|\n",
       "</pre>\n"
      ],
      "text/plain": [
       "Epoch 0081|Val loss 1.991187e-01|Train loss 1.784327e-01|LR 0.00060|\n"
      ]
     },
     "metadata": {},
     "output_type": "display_data"
    },
    {
     "data": {
      "text/html": [
       "<pre style=\"white-space:pre;overflow-x:auto;line-height:normal;font-family:Menlo,'DejaVu Sans Mono',consolas,'Courier New',monospace\">Epoch 0082|Val loss 2.848207e-01|Train loss 1.828535e-01|LR 0.00060|\n",
       "</pre>\n"
      ],
      "text/plain": [
       "Epoch 0082|Val loss 2.848207e-01|Train loss 1.828535e-01|LR 0.00060|\n"
      ]
     },
     "metadata": {},
     "output_type": "display_data"
    },
    {
     "data": {
      "text/html": [
       "<pre style=\"white-space:pre;overflow-x:auto;line-height:normal;font-family:Menlo,'DejaVu Sans Mono',consolas,'Courier New',monospace\">Epoch 0083|Val loss 2.193824e-01|Train loss 1.726079e-01|LR 0.00060|\n",
       "</pre>\n"
      ],
      "text/plain": [
       "Epoch 0083|Val loss 2.193824e-01|Train loss 1.726079e-01|LR 0.00060|\n"
      ]
     },
     "metadata": {},
     "output_type": "display_data"
    },
    {
     "data": {
      "text/html": [
       "<pre style=\"white-space:pre;overflow-x:auto;line-height:normal;font-family:Menlo,'DejaVu Sans Mono',consolas,'Courier New',monospace\">Epoch 0084|Val loss 2.765272e-01|Train loss 1.727605e-01|LR 0.00060|\n",
       "</pre>\n"
      ],
      "text/plain": [
       "Epoch 0084|Val loss 2.765272e-01|Train loss 1.727605e-01|LR 0.00060|\n"
      ]
     },
     "metadata": {},
     "output_type": "display_data"
    },
    {
     "data": {
      "text/html": [
       "<pre style=\"white-space:pre;overflow-x:auto;line-height:normal;font-family:Menlo,'DejaVu Sans Mono',consolas,'Courier New',monospace\">Epoch 0085|Val loss 2.784398e-01|Train loss 1.804978e-01|LR 0.00060|\n",
       "</pre>\n"
      ],
      "text/plain": [
       "Epoch 0085|Val loss 2.784398e-01|Train loss 1.804978e-01|LR 0.00060|\n"
      ]
     },
     "metadata": {},
     "output_type": "display_data"
    },
    {
     "data": {
      "text/html": [
       "<pre style=\"white-space:pre;overflow-x:auto;line-height:normal;font-family:Menlo,'DejaVu Sans Mono',consolas,'Courier New',monospace\">Epoch 0086|Val loss 2.517701e-01|Train loss 2.019307e-01|LR 0.00060|\n",
       "</pre>\n"
      ],
      "text/plain": [
       "Epoch 0086|Val loss 2.517701e-01|Train loss 2.019307e-01|LR 0.00060|\n"
      ]
     },
     "metadata": {},
     "output_type": "display_data"
    },
    {
     "data": {
      "text/html": [
       "<pre style=\"white-space:pre;overflow-x:auto;line-height:normal;font-family:Menlo,'DejaVu Sans Mono',consolas,'Courier New',monospace\">Epoch 0087|Val loss 1.770848e-01|Train loss 1.959285e-01|LR 0.00060|\n",
       "</pre>\n"
      ],
      "text/plain": [
       "Epoch 0087|Val loss 1.770848e-01|Train loss 1.959285e-01|LR 0.00060|\n"
      ]
     },
     "metadata": {},
     "output_type": "display_data"
    },
    {
     "data": {
      "text/html": [
       "<pre style=\"white-space:pre;overflow-x:auto;line-height:normal;font-family:Menlo,'DejaVu Sans Mono',consolas,'Courier New',monospace\">Epoch 0088|Val loss 2.909410e-01|Train loss 2.015193e-01|LR 0.00060|\n",
       "</pre>\n"
      ],
      "text/plain": [
       "Epoch 0088|Val loss 2.909410e-01|Train loss 2.015193e-01|LR 0.00060|\n"
      ]
     },
     "metadata": {},
     "output_type": "display_data"
    },
    {
     "data": {
      "text/html": [
       "<pre style=\"white-space:pre;overflow-x:auto;line-height:normal;font-family:Menlo,'DejaVu Sans Mono',consolas,'Courier New',monospace\">Epoch 0089|Val loss 2.398993e-01|Train loss 1.795783e-01|LR 0.00060|\n",
       "</pre>\n"
      ],
      "text/plain": [
       "Epoch 0089|Val loss 2.398993e-01|Train loss 1.795783e-01|LR 0.00060|\n"
      ]
     },
     "metadata": {},
     "output_type": "display_data"
    },
    {
     "data": {
      "text/html": [
       "<pre style=\"white-space:pre;overflow-x:auto;line-height:normal;font-family:Menlo,'DejaVu Sans Mono',consolas,'Courier New',monospace\">Epoch 0090|Val loss 2.456940e-01|Train loss 1.888299e-01|LR 0.00060|\n",
       "</pre>\n"
      ],
      "text/plain": [
       "Epoch 0090|Val loss 2.456940e-01|Train loss 1.888299e-01|LR 0.00060|\n"
      ]
     },
     "metadata": {},
     "output_type": "display_data"
    },
    {
     "data": {
      "text/html": [
       "<pre style=\"white-space:pre;overflow-x:auto;line-height:normal;font-family:Menlo,'DejaVu Sans Mono',consolas,'Courier New',monospace\">EarlyStopping counter: 8 out of 20\n",
       "</pre>\n"
      ],
      "text/plain": [
       "EarlyStopping counter: 8 out of 20\n"
      ]
     },
     "metadata": {},
     "output_type": "display_data"
    },
    {
     "data": {
      "text/html": [
       "<pre style=\"white-space:pre;overflow-x:auto;line-height:normal;font-family:Menlo,'DejaVu Sans Mono',consolas,'Courier New',monospace\">Epoch 0091|Val loss 1.740155e-01|Train loss 1.791129e-01|LR 0.00060|\n",
       "</pre>\n"
      ],
      "text/plain": [
       "Epoch 0091|Val loss 1.740155e-01|Train loss 1.791129e-01|LR 0.00060|\n"
      ]
     },
     "metadata": {},
     "output_type": "display_data"
    },
    {
     "data": {
      "text/html": [
       "<pre style=\"white-space:pre;overflow-x:auto;line-height:normal;font-family:Menlo,'DejaVu Sans Mono',consolas,'Courier New',monospace\">Epoch 0092|Val loss 2.665596e-01|Train loss 1.877130e-01|LR 0.00060|\n",
       "</pre>\n"
      ],
      "text/plain": [
       "Epoch 0092|Val loss 2.665596e-01|Train loss 1.877130e-01|LR 0.00060|\n"
      ]
     },
     "metadata": {},
     "output_type": "display_data"
    },
    {
     "data": {
      "text/html": [
       "<pre style=\"white-space:pre;overflow-x:auto;line-height:normal;font-family:Menlo,'DejaVu Sans Mono',consolas,'Courier New',monospace\">Epoch 0093|Val loss 2.351270e-01|Train loss 1.941472e-01|LR 0.00060|\n",
       "</pre>\n"
      ],
      "text/plain": [
       "Epoch 0093|Val loss 2.351270e-01|Train loss 1.941472e-01|LR 0.00060|\n"
      ]
     },
     "metadata": {},
     "output_type": "display_data"
    },
    {
     "data": {
      "text/html": [
       "<pre style=\"white-space:pre;overflow-x:auto;line-height:normal;font-family:Menlo,'DejaVu Sans Mono',consolas,'Courier New',monospace\">Epoch 0094|Val loss 2.974846e-01|Train loss 1.808205e-01|LR 0.00060|\n",
       "</pre>\n"
      ],
      "text/plain": [
       "Epoch 0094|Val loss 2.974846e-01|Train loss 1.808205e-01|LR 0.00060|\n"
      ]
     },
     "metadata": {},
     "output_type": "display_data"
    },
    {
     "data": {
      "text/html": [
       "<pre style=\"white-space:pre;overflow-x:auto;line-height:normal;font-family:Menlo,'DejaVu Sans Mono',consolas,'Courier New',monospace\">Epoch 0095|Val loss 2.182436e-01|Train loss 1.863753e-01|LR 0.00060|\n",
       "</pre>\n"
      ],
      "text/plain": [
       "Epoch 0095|Val loss 2.182436e-01|Train loss 1.863753e-01|LR 0.00060|\n"
      ]
     },
     "metadata": {},
     "output_type": "display_data"
    },
    {
     "data": {
      "text/html": [
       "<pre style=\"white-space:pre;overflow-x:auto;line-height:normal;font-family:Menlo,'DejaVu Sans Mono',consolas,'Courier New',monospace\">Epoch 0096|Val loss 2.112807e-01|Train loss 2.049348e-01|LR 0.00060|\n",
       "</pre>\n"
      ],
      "text/plain": [
       "Epoch 0096|Val loss 2.112807e-01|Train loss 2.049348e-01|LR 0.00060|\n"
      ]
     },
     "metadata": {},
     "output_type": "display_data"
    },
    {
     "data": {
      "text/html": [
       "<pre style=\"white-space:pre;overflow-x:auto;line-height:normal;font-family:Menlo,'DejaVu Sans Mono',consolas,'Courier New',monospace\">Epoch 0097|Val loss 2.181825e-01|Train loss 2.032366e-01|LR 0.00060|\n",
       "</pre>\n"
      ],
      "text/plain": [
       "Epoch 0097|Val loss 2.181825e-01|Train loss 2.032366e-01|LR 0.00060|\n"
      ]
     },
     "metadata": {},
     "output_type": "display_data"
    },
    {
     "data": {
      "text/html": [
       "<pre style=\"white-space:pre;overflow-x:auto;line-height:normal;font-family:Menlo,'DejaVu Sans Mono',consolas,'Courier New',monospace\">Epoch 0098|Val loss 3.358681e-01|Train loss 1.972662e-01|LR 0.00060|\n",
       "</pre>\n"
      ],
      "text/plain": [
       "Epoch 0098|Val loss 3.358681e-01|Train loss 1.972662e-01|LR 0.00060|\n"
      ]
     },
     "metadata": {},
     "output_type": "display_data"
    },
    {
     "data": {
      "text/html": [
       "<pre style=\"white-space:pre;overflow-x:auto;line-height:normal;font-family:Menlo,'DejaVu Sans Mono',consolas,'Courier New',monospace\">Epoch 0099|Val loss 2.240379e-01|Train loss 2.119175e-01|LR 0.00060|\n",
       "</pre>\n"
      ],
      "text/plain": [
       "Epoch 0099|Val loss 2.240379e-01|Train loss 2.119175e-01|LR 0.00060|\n"
      ]
     },
     "metadata": {},
     "output_type": "display_data"
    },
    {
     "data": {
      "text/html": [
       "<pre style=\"white-space:pre;overflow-x:auto;line-height:normal;font-family:Menlo,'DejaVu Sans Mono',consolas,'Courier New',monospace\">Epoch 0100|Val loss 1.996238e-01|Train loss 1.927132e-01|LR 0.00060|\n",
       "</pre>\n"
      ],
      "text/plain": [
       "Epoch 0100|Val loss 1.996238e-01|Train loss 1.927132e-01|LR 0.00060|\n"
      ]
     },
     "metadata": {},
     "output_type": "display_data"
    },
    {
     "data": {
      "text/html": [
       "<pre style=\"white-space:pre;overflow-x:auto;line-height:normal;font-family:Menlo,'DejaVu Sans Mono',consolas,'Courier New',monospace\">EarlyStopping counter: 9 out of 20\n",
       "</pre>\n"
      ],
      "text/plain": [
       "EarlyStopping counter: 9 out of 20\n"
      ]
     },
     "metadata": {},
     "output_type": "display_data"
    },
    {
     "data": {
      "text/html": [
       "<pre style=\"white-space:pre;overflow-x:auto;line-height:normal;font-family:Menlo,'DejaVu Sans Mono',consolas,'Courier New',monospace\">Epoch 0101|Val loss 1.888038e-01|Train loss 1.874561e-01|LR 0.00060|\n",
       "</pre>\n"
      ],
      "text/plain": [
       "Epoch 0101|Val loss 1.888038e-01|Train loss 1.874561e-01|LR 0.00060|\n"
      ]
     },
     "metadata": {},
     "output_type": "display_data"
    },
    {
     "data": {
      "text/html": [
       "<pre style=\"white-space:pre;overflow-x:auto;line-height:normal;font-family:Menlo,'DejaVu Sans Mono',consolas,'Courier New',monospace\">Epoch 0102|Val loss 3.160612e-01|Train loss 2.322551e-01|LR 0.00060|\n",
       "</pre>\n"
      ],
      "text/plain": [
       "Epoch 0102|Val loss 3.160612e-01|Train loss 2.322551e-01|LR 0.00060|\n"
      ]
     },
     "metadata": {},
     "output_type": "display_data"
    },
    {
     "data": {
      "text/html": [
       "<pre style=\"white-space:pre;overflow-x:auto;line-height:normal;font-family:Menlo,'DejaVu Sans Mono',consolas,'Courier New',monospace\">Epoch 0103|Val loss 3.155946e-01|Train loss 1.824879e-01|LR 0.00060|\n",
       "</pre>\n"
      ],
      "text/plain": [
       "Epoch 0103|Val loss 3.155946e-01|Train loss 1.824879e-01|LR 0.00060|\n"
      ]
     },
     "metadata": {},
     "output_type": "display_data"
    },
    {
     "data": {
      "text/html": [
       "<pre style=\"white-space:pre;overflow-x:auto;line-height:normal;font-family:Menlo,'DejaVu Sans Mono',consolas,'Courier New',monospace\">Epoch 0104|Val loss 2.031734e-01|Train loss 2.350189e-01|LR 0.00060|\n",
       "</pre>\n"
      ],
      "text/plain": [
       "Epoch 0104|Val loss 2.031734e-01|Train loss 2.350189e-01|LR 0.00060|\n"
      ]
     },
     "metadata": {},
     "output_type": "display_data"
    },
    {
     "data": {
      "text/html": [
       "<pre style=\"white-space:pre;overflow-x:auto;line-height:normal;font-family:Menlo,'DejaVu Sans Mono',consolas,'Courier New',monospace\">Epoch 0105|Val loss 1.942438e-01|Train loss 2.187281e-01|LR 0.00060|\n",
       "</pre>\n"
      ],
      "text/plain": [
       "Epoch 0105|Val loss 1.942438e-01|Train loss 2.187281e-01|LR 0.00060|\n"
      ]
     },
     "metadata": {},
     "output_type": "display_data"
    },
    {
     "data": {
      "text/html": [
       "<pre style=\"white-space:pre;overflow-x:auto;line-height:normal;font-family:Menlo,'DejaVu Sans Mono',consolas,'Courier New',monospace\">Epoch 0106|Val loss 2.867154e-01|Train loss 1.863652e-01|LR 0.00060|\n",
       "</pre>\n"
      ],
      "text/plain": [
       "Epoch 0106|Val loss 2.867154e-01|Train loss 1.863652e-01|LR 0.00060|\n"
      ]
     },
     "metadata": {},
     "output_type": "display_data"
    },
    {
     "data": {
      "text/html": [
       "<pre style=\"white-space:pre;overflow-x:auto;line-height:normal;font-family:Menlo,'DejaVu Sans Mono',consolas,'Courier New',monospace\">Epoch 0107|Val loss 2.309827e-01|Train loss 1.716360e-01|LR 0.00060|\n",
       "</pre>\n"
      ],
      "text/plain": [
       "Epoch 0107|Val loss 2.309827e-01|Train loss 1.716360e-01|LR 0.00060|\n"
      ]
     },
     "metadata": {},
     "output_type": "display_data"
    },
    {
     "data": {
      "text/html": [
       "<pre style=\"white-space:pre;overflow-x:auto;line-height:normal;font-family:Menlo,'DejaVu Sans Mono',consolas,'Courier New',monospace\">Epoch 0108|Val loss 2.283658e-01|Train loss 1.951636e-01|LR 0.00060|\n",
       "</pre>\n"
      ],
      "text/plain": [
       "Epoch 0108|Val loss 2.283658e-01|Train loss 1.951636e-01|LR 0.00060|\n"
      ]
     },
     "metadata": {},
     "output_type": "display_data"
    },
    {
     "data": {
      "text/html": [
       "<pre style=\"white-space:pre;overflow-x:auto;line-height:normal;font-family:Menlo,'DejaVu Sans Mono',consolas,'Courier New',monospace\">Epoch 0109|Val loss 1.624534e-01|Train loss 1.783678e-01|LR 0.00060|\n",
       "</pre>\n"
      ],
      "text/plain": [
       "Epoch 0109|Val loss 1.624534e-01|Train loss 1.783678e-01|LR 0.00060|\n"
      ]
     },
     "metadata": {},
     "output_type": "display_data"
    },
    {
     "data": {
      "text/html": [
       "<pre style=\"white-space:pre;overflow-x:auto;line-height:normal;font-family:Menlo,'DejaVu Sans Mono',consolas,'Courier New',monospace\">Epoch 0110|Val loss 3.426183e-01|Train loss 2.207160e-01|LR 0.00060|\n",
       "</pre>\n"
      ],
      "text/plain": [
       "Epoch 0110|Val loss 3.426183e-01|Train loss 2.207160e-01|LR 0.00060|\n"
      ]
     },
     "metadata": {},
     "output_type": "display_data"
    },
    {
     "data": {
      "text/html": [
       "<pre style=\"white-space:pre;overflow-x:auto;line-height:normal;font-family:Menlo,'DejaVu Sans Mono',consolas,'Courier New',monospace\">EarlyStopping counter: 10 out of 20\n",
       "</pre>\n"
      ],
      "text/plain": [
       "EarlyStopping counter: 10 out of 20\n"
      ]
     },
     "metadata": {},
     "output_type": "display_data"
    },
    {
     "data": {
      "text/html": [
       "<pre style=\"white-space:pre;overflow-x:auto;line-height:normal;font-family:Menlo,'DejaVu Sans Mono',consolas,'Courier New',monospace\">Epoch 0111|Val loss 3.080093e-01|Train loss 1.877213e-01|LR 0.00060|\n",
       "</pre>\n"
      ],
      "text/plain": [
       "Epoch 0111|Val loss 3.080093e-01|Train loss 1.877213e-01|LR 0.00060|\n"
      ]
     },
     "metadata": {},
     "output_type": "display_data"
    },
    {
     "data": {
      "text/html": [
       "<pre style=\"white-space:pre;overflow-x:auto;line-height:normal;font-family:Menlo,'DejaVu Sans Mono',consolas,'Courier New',monospace\">Epoch 0112|Val loss 1.833362e-01|Train loss 2.417424e-01|LR 0.00060|\n",
       "</pre>\n"
      ],
      "text/plain": [
       "Epoch 0112|Val loss 1.833362e-01|Train loss 2.417424e-01|LR 0.00060|\n"
      ]
     },
     "metadata": {},
     "output_type": "display_data"
    },
    {
     "data": {
      "text/html": [
       "<pre style=\"white-space:pre;overflow-x:auto;line-height:normal;font-family:Menlo,'DejaVu Sans Mono',consolas,'Courier New',monospace\">Epoch 0113|Val loss 1.760991e-01|Train loss 1.995441e-01|LR 0.00060|\n",
       "</pre>\n"
      ],
      "text/plain": [
       "Epoch 0113|Val loss 1.760991e-01|Train loss 1.995441e-01|LR 0.00060|\n"
      ]
     },
     "metadata": {},
     "output_type": "display_data"
    },
    {
     "data": {
      "text/html": [
       "<pre style=\"white-space:pre;overflow-x:auto;line-height:normal;font-family:Menlo,'DejaVu Sans Mono',consolas,'Courier New',monospace\">Epoch 0114|Val loss 2.440719e-01|Train loss 2.481229e-01|LR 0.00060|\n",
       "</pre>\n"
      ],
      "text/plain": [
       "Epoch 0114|Val loss 2.440719e-01|Train loss 2.481229e-01|LR 0.00060|\n"
      ]
     },
     "metadata": {},
     "output_type": "display_data"
    },
    {
     "data": {
      "text/html": [
       "<pre style=\"white-space:pre;overflow-x:auto;line-height:normal;font-family:Menlo,'DejaVu Sans Mono',consolas,'Courier New',monospace\">Epoch 0115|Val loss 2.034929e-01|Train loss 2.164207e-01|LR 0.00060|\n",
       "</pre>\n"
      ],
      "text/plain": [
       "Epoch 0115|Val loss 2.034929e-01|Train loss 2.164207e-01|LR 0.00060|\n"
      ]
     },
     "metadata": {},
     "output_type": "display_data"
    },
    {
     "data": {
      "text/html": [
       "<pre style=\"white-space:pre;overflow-x:auto;line-height:normal;font-family:Menlo,'DejaVu Sans Mono',consolas,'Courier New',monospace\">Epoch 0116|Val loss 3.614382e-01|Train loss 2.519925e-01|LR 0.00060|\n",
       "</pre>\n"
      ],
      "text/plain": [
       "Epoch 0116|Val loss 3.614382e-01|Train loss 2.519925e-01|LR 0.00060|\n"
      ]
     },
     "metadata": {},
     "output_type": "display_data"
    },
    {
     "data": {
      "text/html": [
       "<pre style=\"white-space:pre;overflow-x:auto;line-height:normal;font-family:Menlo,'DejaVu Sans Mono',consolas,'Courier New',monospace\">Epoch 0117|Val loss 2.463313e-01|Train loss 2.202507e-01|LR 0.00060|\n",
       "</pre>\n"
      ],
      "text/plain": [
       "Epoch 0117|Val loss 2.463313e-01|Train loss 2.202507e-01|LR 0.00060|\n"
      ]
     },
     "metadata": {},
     "output_type": "display_data"
    },
    {
     "data": {
      "text/html": [
       "<pre style=\"white-space:pre;overflow-x:auto;line-height:normal;font-family:Menlo,'DejaVu Sans Mono',consolas,'Courier New',monospace\">Epoch 0118|Val loss 1.540160e-01|Train loss 1.899088e-01|LR 0.00060|\n",
       "</pre>\n"
      ],
      "text/plain": [
       "Epoch 0118|Val loss 1.540160e-01|Train loss 1.899088e-01|LR 0.00060|\n"
      ]
     },
     "metadata": {},
     "output_type": "display_data"
    },
    {
     "data": {
      "text/html": [
       "<pre style=\"white-space:pre;overflow-x:auto;line-height:normal;font-family:Menlo,'DejaVu Sans Mono',consolas,'Courier New',monospace\">Epoch 0119|Val loss 2.722612e-01|Train loss 1.860328e-01|LR 0.00060|\n",
       "</pre>\n"
      ],
      "text/plain": [
       "Epoch 0119|Val loss 2.722612e-01|Train loss 1.860328e-01|LR 0.00060|\n"
      ]
     },
     "metadata": {},
     "output_type": "display_data"
    },
    {
     "data": {
      "text/html": [
       "<pre style=\"white-space:pre;overflow-x:auto;line-height:normal;font-family:Menlo,'DejaVu Sans Mono',consolas,'Courier New',monospace\">Epoch 0120|Val loss 2.548373e-01|Train loss 1.942288e-01|LR 0.00060|\n",
       "</pre>\n"
      ],
      "text/plain": [
       "Epoch 0120|Val loss 2.548373e-01|Train loss 1.942288e-01|LR 0.00060|\n"
      ]
     },
     "metadata": {},
     "output_type": "display_data"
    },
    {
     "data": {
      "text/html": [
       "<pre style=\"white-space:pre;overflow-x:auto;line-height:normal;font-family:Menlo,'DejaVu Sans Mono',consolas,'Courier New',monospace\">EarlyStopping counter: 11 out of 20\n",
       "</pre>\n"
      ],
      "text/plain": [
       "EarlyStopping counter: 11 out of 20\n"
      ]
     },
     "metadata": {},
     "output_type": "display_data"
    },
    {
     "data": {
      "text/html": [
       "<pre style=\"white-space:pre;overflow-x:auto;line-height:normal;font-family:Menlo,'DejaVu Sans Mono',consolas,'Courier New',monospace\">Epoch 0121|Val loss 3.013222e-01|Train loss 1.841925e-01|LR 0.00060|\n",
       "</pre>\n"
      ],
      "text/plain": [
       "Epoch 0121|Val loss 3.013222e-01|Train loss 1.841925e-01|LR 0.00060|\n"
      ]
     },
     "metadata": {},
     "output_type": "display_data"
    },
    {
     "data": {
      "text/html": [
       "<pre style=\"white-space:pre;overflow-x:auto;line-height:normal;font-family:Menlo,'DejaVu Sans Mono',consolas,'Courier New',monospace\">Epoch 0122|Val loss 1.508353e-01|Train loss 2.281877e-01|LR 0.00060|\n",
       "</pre>\n"
      ],
      "text/plain": [
       "Epoch 0122|Val loss 1.508353e-01|Train loss 2.281877e-01|LR 0.00060|\n"
      ]
     },
     "metadata": {},
     "output_type": "display_data"
    },
    {
     "data": {
      "text/html": [
       "<pre style=\"white-space:pre;overflow-x:auto;line-height:normal;font-family:Menlo,'DejaVu Sans Mono',consolas,'Courier New',monospace\">Epoch 0123|Val loss 2.644224e-01|Train loss 1.947950e-01|LR 0.00060|\n",
       "</pre>\n"
      ],
      "text/plain": [
       "Epoch 0123|Val loss 2.644224e-01|Train loss 1.947950e-01|LR 0.00060|\n"
      ]
     },
     "metadata": {},
     "output_type": "display_data"
    },
    {
     "data": {
      "text/html": [
       "<pre style=\"white-space:pre;overflow-x:auto;line-height:normal;font-family:Menlo,'DejaVu Sans Mono',consolas,'Courier New',monospace\">Epoch 0124|Val loss 1.531335e-01|Train loss 1.967431e-01|LR 0.00060|\n",
       "</pre>\n"
      ],
      "text/plain": [
       "Epoch 0124|Val loss 1.531335e-01|Train loss 1.967431e-01|LR 0.00060|\n"
      ]
     },
     "metadata": {},
     "output_type": "display_data"
    },
    {
     "data": {
      "text/html": [
       "<pre style=\"white-space:pre;overflow-x:auto;line-height:normal;font-family:Menlo,'DejaVu Sans Mono',consolas,'Courier New',monospace\">Epoch 0125|Val loss 2.676941e-01|Train loss 2.260065e-01|LR 0.00060|\n",
       "</pre>\n"
      ],
      "text/plain": [
       "Epoch 0125|Val loss 2.676941e-01|Train loss 2.260065e-01|LR 0.00060|\n"
      ]
     },
     "metadata": {},
     "output_type": "display_data"
    },
    {
     "data": {
      "text/html": [
       "<pre style=\"white-space:pre;overflow-x:auto;line-height:normal;font-family:Menlo,'DejaVu Sans Mono',consolas,'Courier New',monospace\">Epoch 0126|Val loss 2.608342e-01|Train loss 2.032719e-01|LR 0.00060|\n",
       "</pre>\n"
      ],
      "text/plain": [
       "Epoch 0126|Val loss 2.608342e-01|Train loss 2.032719e-01|LR 0.00060|\n"
      ]
     },
     "metadata": {},
     "output_type": "display_data"
    },
    {
     "data": {
      "text/html": [
       "<pre style=\"white-space:pre;overflow-x:auto;line-height:normal;font-family:Menlo,'DejaVu Sans Mono',consolas,'Courier New',monospace\">Epoch 0127|Val loss 2.838276e-01|Train loss 1.756427e-01|LR 0.00060|\n",
       "</pre>\n"
      ],
      "text/plain": [
       "Epoch 0127|Val loss 2.838276e-01|Train loss 1.756427e-01|LR 0.00060|\n"
      ]
     },
     "metadata": {},
     "output_type": "display_data"
    },
    {
     "data": {
      "text/html": [
       "<pre style=\"white-space:pre;overflow-x:auto;line-height:normal;font-family:Menlo,'DejaVu Sans Mono',consolas,'Courier New',monospace\">Epoch 0128|Val loss 1.757182e-01|Train loss 2.269062e-01|LR 0.00060|\n",
       "</pre>\n"
      ],
      "text/plain": [
       "Epoch 0128|Val loss 1.757182e-01|Train loss 2.269062e-01|LR 0.00060|\n"
      ]
     },
     "metadata": {},
     "output_type": "display_data"
    },
    {
     "data": {
      "text/html": [
       "<pre style=\"white-space:pre;overflow-x:auto;line-height:normal;font-family:Menlo,'DejaVu Sans Mono',consolas,'Courier New',monospace\">Epoch 0129|Val loss 2.058808e-01|Train loss 1.753334e-01|LR 0.00060|\n",
       "</pre>\n"
      ],
      "text/plain": [
       "Epoch 0129|Val loss 2.058808e-01|Train loss 1.753334e-01|LR 0.00060|\n"
      ]
     },
     "metadata": {},
     "output_type": "display_data"
    },
    {
     "data": {
      "text/html": [
       "<pre style=\"white-space:pre;overflow-x:auto;line-height:normal;font-family:Menlo,'DejaVu Sans Mono',consolas,'Courier New',monospace\">Epoch 0130|Val loss 2.405772e-01|Train loss 1.956932e-01|LR 0.00060|\n",
       "</pre>\n"
      ],
      "text/plain": [
       "Epoch 0130|Val loss 2.405772e-01|Train loss 1.956932e-01|LR 0.00060|\n"
      ]
     },
     "metadata": {},
     "output_type": "display_data"
    },
    {
     "data": {
      "text/html": [
       "<pre style=\"white-space:pre;overflow-x:auto;line-height:normal;font-family:Menlo,'DejaVu Sans Mono',consolas,'Courier New',monospace\">EarlyStopping counter: 12 out of 20\n",
       "</pre>\n"
      ],
      "text/plain": [
       "EarlyStopping counter: 12 out of 20\n"
      ]
     },
     "metadata": {},
     "output_type": "display_data"
    },
    {
     "data": {
      "text/html": [
       "<pre style=\"white-space:pre;overflow-x:auto;line-height:normal;font-family:Menlo,'DejaVu Sans Mono',consolas,'Courier New',monospace\">Epoch 0131|Val loss 2.808846e-01|Train loss 1.685598e-01|LR 0.00060|\n",
       "</pre>\n"
      ],
      "text/plain": [
       "Epoch 0131|Val loss 2.808846e-01|Train loss 1.685598e-01|LR 0.00060|\n"
      ]
     },
     "metadata": {},
     "output_type": "display_data"
    },
    {
     "data": {
      "text/html": [
       "<pre style=\"white-space:pre;overflow-x:auto;line-height:normal;font-family:Menlo,'DejaVu Sans Mono',consolas,'Courier New',monospace\">Epoch 0132|Val loss 2.248345e-01|Train loss 1.803671e-01|LR 0.00060|\n",
       "</pre>\n"
      ],
      "text/plain": [
       "Epoch 0132|Val loss 2.248345e-01|Train loss 1.803671e-01|LR 0.00060|\n"
      ]
     },
     "metadata": {},
     "output_type": "display_data"
    },
    {
     "data": {
      "text/html": [
       "<pre style=\"white-space:pre;overflow-x:auto;line-height:normal;font-family:Menlo,'DejaVu Sans Mono',consolas,'Courier New',monospace\">Epoch 0133|Val loss 1.985108e-01|Train loss 1.976313e-01|LR 0.00060|\n",
       "</pre>\n"
      ],
      "text/plain": [
       "Epoch 0133|Val loss 1.985108e-01|Train loss 1.976313e-01|LR 0.00060|\n"
      ]
     },
     "metadata": {},
     "output_type": "display_data"
    },
    {
     "data": {
      "text/html": [
       "<pre style=\"white-space:pre;overflow-x:auto;line-height:normal;font-family:Menlo,'DejaVu Sans Mono',consolas,'Courier New',monospace\">Epoch 0134|Val loss 1.529397e-01|Train loss 1.749561e-01|LR 0.00060|\n",
       "</pre>\n"
      ],
      "text/plain": [
       "Epoch 0134|Val loss 1.529397e-01|Train loss 1.749561e-01|LR 0.00060|\n"
      ]
     },
     "metadata": {},
     "output_type": "display_data"
    },
    {
     "data": {
      "text/html": [
       "<pre style=\"white-space:pre;overflow-x:auto;line-height:normal;font-family:Menlo,'DejaVu Sans Mono',consolas,'Courier New',monospace\">Epoch 0135|Val loss 2.876590e-01|Train loss 2.444384e-01|LR 0.00060|\n",
       "</pre>\n"
      ],
      "text/plain": [
       "Epoch 0135|Val loss 2.876590e-01|Train loss 2.444384e-01|LR 0.00060|\n"
      ]
     },
     "metadata": {},
     "output_type": "display_data"
    },
    {
     "data": {
      "text/html": [
       "<pre style=\"white-space:pre;overflow-x:auto;line-height:normal;font-family:Menlo,'DejaVu Sans Mono',consolas,'Courier New',monospace\">Epoch 0136|Val loss 2.673009e-01|Train loss 1.855520e-01|LR 0.00060|\n",
       "</pre>\n"
      ],
      "text/plain": [
       "Epoch 0136|Val loss 2.673009e-01|Train loss 1.855520e-01|LR 0.00060|\n"
      ]
     },
     "metadata": {},
     "output_type": "display_data"
    },
    {
     "data": {
      "text/html": [
       "<pre style=\"white-space:pre;overflow-x:auto;line-height:normal;font-family:Menlo,'DejaVu Sans Mono',consolas,'Courier New',monospace\">Epoch 0137|Val loss 2.899301e-01|Train loss 1.691766e-01|LR 0.00060|\n",
       "</pre>\n"
      ],
      "text/plain": [
       "Epoch 0137|Val loss 2.899301e-01|Train loss 1.691766e-01|LR 0.00060|\n"
      ]
     },
     "metadata": {},
     "output_type": "display_data"
    },
    {
     "data": {
      "text/html": [
       "<pre style=\"white-space:pre;overflow-x:auto;line-height:normal;font-family:Menlo,'DejaVu Sans Mono',consolas,'Courier New',monospace\">Epoch 0138|Val loss 3.388357e-01|Train loss 1.921970e-01|LR 0.00060|\n",
       "</pre>\n"
      ],
      "text/plain": [
       "Epoch 0138|Val loss 3.388357e-01|Train loss 1.921970e-01|LR 0.00060|\n"
      ]
     },
     "metadata": {},
     "output_type": "display_data"
    },
    {
     "data": {
      "text/html": [
       "<pre style=\"white-space:pre;overflow-x:auto;line-height:normal;font-family:Menlo,'DejaVu Sans Mono',consolas,'Courier New',monospace\">Epoch 0139|Val loss 1.753832e-01|Train loss 2.852637e-01|LR 0.00060|\n",
       "</pre>\n"
      ],
      "text/plain": [
       "Epoch 0139|Val loss 1.753832e-01|Train loss 2.852637e-01|LR 0.00060|\n"
      ]
     },
     "metadata": {},
     "output_type": "display_data"
    },
    {
     "data": {
      "text/html": [
       "<pre style=\"white-space:pre;overflow-x:auto;line-height:normal;font-family:Menlo,'DejaVu Sans Mono',consolas,'Courier New',monospace\">Epoch 0140|Val loss 2.260041e-01|Train loss 2.422401e-01|LR 0.00060|\n",
       "</pre>\n"
      ],
      "text/plain": [
       "Epoch 0140|Val loss 2.260041e-01|Train loss 2.422401e-01|LR 0.00060|\n"
      ]
     },
     "metadata": {},
     "output_type": "display_data"
    },
    {
     "data": {
      "text/html": [
       "<pre style=\"white-space:pre;overflow-x:auto;line-height:normal;font-family:Menlo,'DejaVu Sans Mono',consolas,'Courier New',monospace\">EarlyStopping counter: 13 out of 20\n",
       "</pre>\n"
      ],
      "text/plain": [
       "EarlyStopping counter: 13 out of 20\n"
      ]
     },
     "metadata": {},
     "output_type": "display_data"
    },
    {
     "data": {
      "text/html": [
       "<pre style=\"white-space:pre;overflow-x:auto;line-height:normal;font-family:Menlo,'DejaVu Sans Mono',consolas,'Courier New',monospace\">Epoch 0141|Val loss 2.958416e-01|Train loss 3.017395e-01|LR 0.00060|\n",
       "</pre>\n"
      ],
      "text/plain": [
       "Epoch 0141|Val loss 2.958416e-01|Train loss 3.017395e-01|LR 0.00060|\n"
      ]
     },
     "metadata": {},
     "output_type": "display_data"
    },
    {
     "data": {
      "text/html": [
       "<pre style=\"white-space:pre;overflow-x:auto;line-height:normal;font-family:Menlo,'DejaVu Sans Mono',consolas,'Courier New',monospace\">Epoch 0142|Val loss 3.191843e-01|Train loss 2.317835e-01|LR 0.00060|\n",
       "</pre>\n"
      ],
      "text/plain": [
       "Epoch 0142|Val loss 3.191843e-01|Train loss 2.317835e-01|LR 0.00060|\n"
      ]
     },
     "metadata": {},
     "output_type": "display_data"
    },
    {
     "data": {
      "text/html": [
       "<pre style=\"white-space:pre;overflow-x:auto;line-height:normal;font-family:Menlo,'DejaVu Sans Mono',consolas,'Courier New',monospace\">Epoch 0143|Val loss 1.570973e-01|Train loss 2.393532e-01|LR 0.00060|\n",
       "</pre>\n"
      ],
      "text/plain": [
       "Epoch 0143|Val loss 1.570973e-01|Train loss 2.393532e-01|LR 0.00060|\n"
      ]
     },
     "metadata": {},
     "output_type": "display_data"
    },
    {
     "data": {
      "text/html": [
       "<pre style=\"white-space:pre;overflow-x:auto;line-height:normal;font-family:Menlo,'DejaVu Sans Mono',consolas,'Courier New',monospace\">Epoch 0144|Val loss 3.834956e-01|Train loss 2.235557e-01|LR 0.00060|\n",
       "</pre>\n"
      ],
      "text/plain": [
       "Epoch 0144|Val loss 3.834956e-01|Train loss 2.235557e-01|LR 0.00060|\n"
      ]
     },
     "metadata": {},
     "output_type": "display_data"
    },
    {
     "data": {
      "text/html": [
       "<pre style=\"white-space:pre;overflow-x:auto;line-height:normal;font-family:Menlo,'DejaVu Sans Mono',consolas,'Courier New',monospace\">Epoch 0145|Val loss 2.408186e-01|Train loss 2.014501e-01|LR 0.00060|\n",
       "</pre>\n"
      ],
      "text/plain": [
       "Epoch 0145|Val loss 2.408186e-01|Train loss 2.014501e-01|LR 0.00060|\n"
      ]
     },
     "metadata": {},
     "output_type": "display_data"
    },
    {
     "data": {
      "text/html": [
       "<pre style=\"white-space:pre;overflow-x:auto;line-height:normal;font-family:Menlo,'DejaVu Sans Mono',consolas,'Courier New',monospace\">Epoch 0146|Val loss 1.873284e-01|Train loss 2.595422e-01|LR 0.00060|\n",
       "</pre>\n"
      ],
      "text/plain": [
       "Epoch 0146|Val loss 1.873284e-01|Train loss 2.595422e-01|LR 0.00060|\n"
      ]
     },
     "metadata": {},
     "output_type": "display_data"
    },
    {
     "data": {
      "text/html": [
       "<pre style=\"white-space:pre;overflow-x:auto;line-height:normal;font-family:Menlo,'DejaVu Sans Mono',consolas,'Courier New',monospace\">Epoch 0147|Val loss 1.921849e-01|Train loss 2.215689e-01|LR 0.00060|\n",
       "</pre>\n"
      ],
      "text/plain": [
       "Epoch 0147|Val loss 1.921849e-01|Train loss 2.215689e-01|LR 0.00060|\n"
      ]
     },
     "metadata": {},
     "output_type": "display_data"
    },
    {
     "data": {
      "text/html": [
       "<pre style=\"white-space:pre;overflow-x:auto;line-height:normal;font-family:Menlo,'DejaVu Sans Mono',consolas,'Courier New',monospace\">Epoch 0148|Val loss 3.577869e-01|Train loss 2.270730e-01|LR 0.00060|\n",
       "</pre>\n"
      ],
      "text/plain": [
       "Epoch 0148|Val loss 3.577869e-01|Train loss 2.270730e-01|LR 0.00060|\n"
      ]
     },
     "metadata": {},
     "output_type": "display_data"
    },
    {
     "data": {
      "text/html": [
       "<pre style=\"white-space:pre;overflow-x:auto;line-height:normal;font-family:Menlo,'DejaVu Sans Mono',consolas,'Courier New',monospace\">Epoch 0149|Val loss 1.718565e-01|Train loss 2.118337e-01|LR 0.00060|\n",
       "</pre>\n"
      ],
      "text/plain": [
       "Epoch 0149|Val loss 1.718565e-01|Train loss 2.118337e-01|LR 0.00060|\n"
      ]
     },
     "metadata": {},
     "output_type": "display_data"
    },
    {
     "data": {
      "text/html": [
       "<pre style=\"white-space:pre;overflow-x:auto;line-height:normal;font-family:Menlo,'DejaVu Sans Mono',consolas,'Courier New',monospace\">Epoch 0150|Val loss 2.264660e-01|Train loss 1.862402e-01|LR 0.00060|\n",
       "</pre>\n"
      ],
      "text/plain": [
       "Epoch 0150|Val loss 2.264660e-01|Train loss 1.862402e-01|LR 0.00060|\n"
      ]
     },
     "metadata": {},
     "output_type": "display_data"
    },
    {
     "data": {
      "text/html": [
       "<pre style=\"white-space:pre;overflow-x:auto;line-height:normal;font-family:Menlo,'DejaVu Sans Mono',consolas,'Courier New',monospace\">EarlyStopping counter: 14 out of 20\n",
       "</pre>\n"
      ],
      "text/plain": [
       "EarlyStopping counter: 14 out of 20\n"
      ]
     },
     "metadata": {},
     "output_type": "display_data"
    },
    {
     "data": {
      "text/html": [
       "<pre style=\"white-space:pre;overflow-x:auto;line-height:normal;font-family:Menlo,'DejaVu Sans Mono',consolas,'Courier New',monospace\">Epoch 0151|Val loss 2.808677e-01|Train loss 1.556325e-01|LR 0.00060|\n",
       "</pre>\n"
      ],
      "text/plain": [
       "Epoch 0151|Val loss 2.808677e-01|Train loss 1.556325e-01|LR 0.00060|\n"
      ]
     },
     "metadata": {},
     "output_type": "display_data"
    },
    {
     "data": {
      "text/html": [
       "<pre style=\"white-space:pre;overflow-x:auto;line-height:normal;font-family:Menlo,'DejaVu Sans Mono',consolas,'Courier New',monospace\">Epoch 0152|Val loss 1.860536e-01|Train loss 1.749591e-01|LR 0.00060|\n",
       "</pre>\n"
      ],
      "text/plain": [
       "Epoch 0152|Val loss 1.860536e-01|Train loss 1.749591e-01|LR 0.00060|\n"
      ]
     },
     "metadata": {},
     "output_type": "display_data"
    },
    {
     "data": {
      "text/html": [
       "<pre style=\"white-space:pre;overflow-x:auto;line-height:normal;font-family:Menlo,'DejaVu Sans Mono',consolas,'Courier New',monospace\">Epoch 0153|Val loss 1.879995e-01|Train loss 1.643786e-01|LR 0.00060|\n",
       "</pre>\n"
      ],
      "text/plain": [
       "Epoch 0153|Val loss 1.879995e-01|Train loss 1.643786e-01|LR 0.00060|\n"
      ]
     },
     "metadata": {},
     "output_type": "display_data"
    },
    {
     "data": {
      "text/html": [
       "<pre style=\"white-space:pre;overflow-x:auto;line-height:normal;font-family:Menlo,'DejaVu Sans Mono',consolas,'Courier New',monospace\">Epoch 0154|Val loss 1.490926e-01|Train loss 1.649678e-01|LR 0.00060|\n",
       "</pre>\n"
      ],
      "text/plain": [
       "Epoch 0154|Val loss 1.490926e-01|Train loss 1.649678e-01|LR 0.00060|\n"
      ]
     },
     "metadata": {},
     "output_type": "display_data"
    },
    {
     "data": {
      "text/html": [
       "<pre style=\"white-space:pre;overflow-x:auto;line-height:normal;font-family:Menlo,'DejaVu Sans Mono',consolas,'Courier New',monospace\">Epoch 0155|Val loss 4.254481e-01|Train loss 2.406474e-01|LR 0.00060|\n",
       "</pre>\n"
      ],
      "text/plain": [
       "Epoch 0155|Val loss 4.254481e-01|Train loss 2.406474e-01|LR 0.00060|\n"
      ]
     },
     "metadata": {},
     "output_type": "display_data"
    },
    {
     "data": {
      "text/html": [
       "<pre style=\"white-space:pre;overflow-x:auto;line-height:normal;font-family:Menlo,'DejaVu Sans Mono',consolas,'Courier New',monospace\">Epoch 0156|Val loss 2.041218e-01|Train loss 2.835923e-01|LR 0.00060|\n",
       "</pre>\n"
      ],
      "text/plain": [
       "Epoch 0156|Val loss 2.041218e-01|Train loss 2.835923e-01|LR 0.00060|\n"
      ]
     },
     "metadata": {},
     "output_type": "display_data"
    },
    {
     "data": {
      "text/html": [
       "<pre style=\"white-space:pre;overflow-x:auto;line-height:normal;font-family:Menlo,'DejaVu Sans Mono',consolas,'Courier New',monospace\">Epoch 0157|Val loss 4.049333e-01|Train loss 2.541914e-01|LR 0.00060|\n",
       "</pre>\n"
      ],
      "text/plain": [
       "Epoch 0157|Val loss 4.049333e-01|Train loss 2.541914e-01|LR 0.00060|\n"
      ]
     },
     "metadata": {},
     "output_type": "display_data"
    },
    {
     "data": {
      "text/html": [
       "<pre style=\"white-space:pre;overflow-x:auto;line-height:normal;font-family:Menlo,'DejaVu Sans Mono',consolas,'Courier New',monospace\">Epoch 0158|Val loss 1.587762e-01|Train loss 2.843932e-01|LR 0.00060|\n",
       "</pre>\n"
      ],
      "text/plain": [
       "Epoch 0158|Val loss 1.587762e-01|Train loss 2.843932e-01|LR 0.00060|\n"
      ]
     },
     "metadata": {},
     "output_type": "display_data"
    },
    {
     "data": {
      "text/html": [
       "<pre style=\"white-space:pre;overflow-x:auto;line-height:normal;font-family:Menlo,'DejaVu Sans Mono',consolas,'Courier New',monospace\">Epoch 0159|Val loss 1.788493e-01|Train loss 1.873011e-01|LR 0.00060|\n",
       "</pre>\n"
      ],
      "text/plain": [
       "Epoch 0159|Val loss 1.788493e-01|Train loss 1.873011e-01|LR 0.00060|\n"
      ]
     },
     "metadata": {},
     "output_type": "display_data"
    },
    {
     "data": {
      "text/html": [
       "<pre style=\"white-space:pre;overflow-x:auto;line-height:normal;font-family:Menlo,'DejaVu Sans Mono',consolas,'Courier New',monospace\">Epoch 0160|Val loss 2.441756e-01|Train loss 1.959155e-01|LR 0.00060|\n",
       "</pre>\n"
      ],
      "text/plain": [
       "Epoch 0160|Val loss 2.441756e-01|Train loss 1.959155e-01|LR 0.00060|\n"
      ]
     },
     "metadata": {},
     "output_type": "display_data"
    },
    {
     "data": {
      "text/html": [
       "<pre style=\"white-space:pre;overflow-x:auto;line-height:normal;font-family:Menlo,'DejaVu Sans Mono',consolas,'Courier New',monospace\">Validation loss decreased (0.02 --&gt; 0.01).  Saving model ...\n",
       "</pre>\n"
      ],
      "text/plain": [
       "Validation loss decreased (0.02 --> 0.01).  Saving model ...\n"
      ]
     },
     "metadata": {},
     "output_type": "display_data"
    },
    {
     "data": {
      "text/html": [
       "<pre style=\"white-space:pre;overflow-x:auto;line-height:normal;font-family:Menlo,'DejaVu Sans Mono',consolas,'Courier New',monospace\">Epoch 0161|Val loss 2.319749e-01|Train loss 1.652753e-01|LR 0.00060|\n",
       "</pre>\n"
      ],
      "text/plain": [
       "Epoch 0161|Val loss 2.319749e-01|Train loss 1.652753e-01|LR 0.00060|\n"
      ]
     },
     "metadata": {},
     "output_type": "display_data"
    },
    {
     "data": {
      "text/html": [
       "<pre style=\"white-space:pre;overflow-x:auto;line-height:normal;font-family:Menlo,'DejaVu Sans Mono',consolas,'Courier New',monospace\">Epoch 0162|Val loss 1.673195e-01|Train loss 1.590096e-01|LR 0.00060|\n",
       "</pre>\n"
      ],
      "text/plain": [
       "Epoch 0162|Val loss 1.673195e-01|Train loss 1.590096e-01|LR 0.00060|\n"
      ]
     },
     "metadata": {},
     "output_type": "display_data"
    },
    {
     "data": {
      "text/html": [
       "<pre style=\"white-space:pre;overflow-x:auto;line-height:normal;font-family:Menlo,'DejaVu Sans Mono',consolas,'Courier New',monospace\">Epoch 0163|Val loss 2.573206e-01|Train loss 1.569667e-01|LR 0.00060|\n",
       "</pre>\n"
      ],
      "text/plain": [
       "Epoch 0163|Val loss 2.573206e-01|Train loss 1.569667e-01|LR 0.00060|\n"
      ]
     },
     "metadata": {},
     "output_type": "display_data"
    },
    {
     "data": {
      "text/html": [
       "<pre style=\"white-space:pre;overflow-x:auto;line-height:normal;font-family:Menlo,'DejaVu Sans Mono',consolas,'Courier New',monospace\">Epoch 0164|Val loss 1.783712e-01|Train loss 1.596803e-01|LR 0.00060|\n",
       "</pre>\n"
      ],
      "text/plain": [
       "Epoch 0164|Val loss 1.783712e-01|Train loss 1.596803e-01|LR 0.00060|\n"
      ]
     },
     "metadata": {},
     "output_type": "display_data"
    },
    {
     "data": {
      "text/html": [
       "<pre style=\"white-space:pre;overflow-x:auto;line-height:normal;font-family:Menlo,'DejaVu Sans Mono',consolas,'Courier New',monospace\">Epoch 0165|Val loss 2.189196e-01|Train loss 1.652737e-01|LR 0.00060|\n",
       "</pre>\n"
      ],
      "text/plain": [
       "Epoch 0165|Val loss 2.189196e-01|Train loss 1.652737e-01|LR 0.00060|\n"
      ]
     },
     "metadata": {},
     "output_type": "display_data"
    },
    {
     "data": {
      "text/html": [
       "<pre style=\"white-space:pre;overflow-x:auto;line-height:normal;font-family:Menlo,'DejaVu Sans Mono',consolas,'Courier New',monospace\">Epoch 0166|Val loss 1.459050e-01|Train loss 1.563228e-01|LR 0.00060|\n",
       "</pre>\n"
      ],
      "text/plain": [
       "Epoch 0166|Val loss 1.459050e-01|Train loss 1.563228e-01|LR 0.00060|\n"
      ]
     },
     "metadata": {},
     "output_type": "display_data"
    },
    {
     "data": {
      "text/html": [
       "<pre style=\"white-space:pre;overflow-x:auto;line-height:normal;font-family:Menlo,'DejaVu Sans Mono',consolas,'Courier New',monospace\">Epoch 0167|Val loss 2.501235e-01|Train loss 1.865903e-01|LR 0.00060|\n",
       "</pre>\n"
      ],
      "text/plain": [
       "Epoch 0167|Val loss 2.501235e-01|Train loss 1.865903e-01|LR 0.00060|\n"
      ]
     },
     "metadata": {},
     "output_type": "display_data"
    },
    {
     "data": {
      "text/html": [
       "<pre style=\"white-space:pre;overflow-x:auto;line-height:normal;font-family:Menlo,'DejaVu Sans Mono',consolas,'Courier New',monospace\">Epoch 0168|Val loss 2.193165e-01|Train loss 1.497837e-01|LR 0.00060|\n",
       "</pre>\n"
      ],
      "text/plain": [
       "Epoch 0168|Val loss 2.193165e-01|Train loss 1.497837e-01|LR 0.00060|\n"
      ]
     },
     "metadata": {},
     "output_type": "display_data"
    },
    {
     "data": {
      "text/html": [
       "<pre style=\"white-space:pre;overflow-x:auto;line-height:normal;font-family:Menlo,'DejaVu Sans Mono',consolas,'Courier New',monospace\">Epoch 0169|Val loss 2.700224e-01|Train loss 1.411408e-01|LR 0.00060|\n",
       "</pre>\n"
      ],
      "text/plain": [
       "Epoch 0169|Val loss 2.700224e-01|Train loss 1.411408e-01|LR 0.00060|\n"
      ]
     },
     "metadata": {},
     "output_type": "display_data"
    },
    {
     "data": {
      "text/html": [
       "<pre style=\"white-space:pre;overflow-x:auto;line-height:normal;font-family:Menlo,'DejaVu Sans Mono',consolas,'Courier New',monospace\">Epoch 0170|Val loss 2.288897e-01|Train loss 1.742848e-01|LR 0.00060|\n",
       "</pre>\n"
      ],
      "text/plain": [
       "Epoch 0170|Val loss 2.288897e-01|Train loss 1.742848e-01|LR 0.00060|\n"
      ]
     },
     "metadata": {},
     "output_type": "display_data"
    },
    {
     "data": {
      "text/html": [
       "<pre style=\"white-space:pre;overflow-x:auto;line-height:normal;font-family:Menlo,'DejaVu Sans Mono',consolas,'Courier New',monospace\">EarlyStopping counter: 1 out of 20\n",
       "</pre>\n"
      ],
      "text/plain": [
       "EarlyStopping counter: 1 out of 20\n"
      ]
     },
     "metadata": {},
     "output_type": "display_data"
    },
    {
     "data": {
      "text/html": [
       "<pre style=\"white-space:pre;overflow-x:auto;line-height:normal;font-family:Menlo,'DejaVu Sans Mono',consolas,'Courier New',monospace\">Epoch 0171|Val loss 1.766631e-01|Train loss 2.175436e-01|LR 0.00060|\n",
       "</pre>\n"
      ],
      "text/plain": [
       "Epoch 0171|Val loss 1.766631e-01|Train loss 2.175436e-01|LR 0.00060|\n"
      ]
     },
     "metadata": {},
     "output_type": "display_data"
    },
    {
     "data": {
      "text/html": [
       "<pre style=\"white-space:pre;overflow-x:auto;line-height:normal;font-family:Menlo,'DejaVu Sans Mono',consolas,'Courier New',monospace\">Epoch 0172|Val loss 1.851888e-01|Train loss 2.297019e-01|LR 0.00060|\n",
       "</pre>\n"
      ],
      "text/plain": [
       "Epoch 0172|Val loss 1.851888e-01|Train loss 2.297019e-01|LR 0.00060|\n"
      ]
     },
     "metadata": {},
     "output_type": "display_data"
    },
    {
     "data": {
      "text/html": [
       "<pre style=\"white-space:pre;overflow-x:auto;line-height:normal;font-family:Menlo,'DejaVu Sans Mono',consolas,'Courier New',monospace\">Epoch 0173|Val loss 2.441850e-01|Train loss 1.838174e-01|LR 0.00060|\n",
       "</pre>\n"
      ],
      "text/plain": [
       "Epoch 0173|Val loss 2.441850e-01|Train loss 1.838174e-01|LR 0.00060|\n"
      ]
     },
     "metadata": {},
     "output_type": "display_data"
    },
    {
     "data": {
      "text/html": [
       "<pre style=\"white-space:pre;overflow-x:auto;line-height:normal;font-family:Menlo,'DejaVu Sans Mono',consolas,'Courier New',monospace\">Epoch 0174|Val loss 2.303108e-01|Train loss 1.412815e-01|LR 0.00060|\n",
       "</pre>\n"
      ],
      "text/plain": [
       "Epoch 0174|Val loss 2.303108e-01|Train loss 1.412815e-01|LR 0.00060|\n"
      ]
     },
     "metadata": {},
     "output_type": "display_data"
    },
    {
     "data": {
      "text/html": [
       "<pre style=\"white-space:pre;overflow-x:auto;line-height:normal;font-family:Menlo,'DejaVu Sans Mono',consolas,'Courier New',monospace\">Epoch 0175|Val loss 2.533334e-01|Train loss 1.473702e-01|LR 0.00060|\n",
       "</pre>\n"
      ],
      "text/plain": [
       "Epoch 0175|Val loss 2.533334e-01|Train loss 1.473702e-01|LR 0.00060|\n"
      ]
     },
     "metadata": {},
     "output_type": "display_data"
    },
    {
     "data": {
      "text/html": [
       "<pre style=\"white-space:pre;overflow-x:auto;line-height:normal;font-family:Menlo,'DejaVu Sans Mono',consolas,'Courier New',monospace\">Epoch 0176|Val loss 1.561389e-01|Train loss 1.977668e-01|LR 0.00060|\n",
       "</pre>\n"
      ],
      "text/plain": [
       "Epoch 0176|Val loss 1.561389e-01|Train loss 1.977668e-01|LR 0.00060|\n"
      ]
     },
     "metadata": {},
     "output_type": "display_data"
    },
    {
     "data": {
      "text/html": [
       "<pre style=\"white-space:pre;overflow-x:auto;line-height:normal;font-family:Menlo,'DejaVu Sans Mono',consolas,'Courier New',monospace\">Epoch 0177|Val loss 1.839812e-01|Train loss 1.638045e-01|LR 0.00060|\n",
       "</pre>\n"
      ],
      "text/plain": [
       "Epoch 0177|Val loss 1.839812e-01|Train loss 1.638045e-01|LR 0.00060|\n"
      ]
     },
     "metadata": {},
     "output_type": "display_data"
    },
    {
     "data": {
      "text/html": [
       "<pre style=\"white-space:pre;overflow-x:auto;line-height:normal;font-family:Menlo,'DejaVu Sans Mono',consolas,'Courier New',monospace\">Epoch 0178|Val loss 1.920954e-01|Train loss 1.908124e-01|LR 0.00060|\n",
       "</pre>\n"
      ],
      "text/plain": [
       "Epoch 0178|Val loss 1.920954e-01|Train loss 1.908124e-01|LR 0.00060|\n"
      ]
     },
     "metadata": {},
     "output_type": "display_data"
    },
    {
     "data": {
      "text/html": [
       "<pre style=\"white-space:pre;overflow-x:auto;line-height:normal;font-family:Menlo,'DejaVu Sans Mono',consolas,'Courier New',monospace\">Epoch 0179|Val loss 2.577690e-01|Train loss 1.725228e-01|LR 0.00060|\n",
       "</pre>\n"
      ],
      "text/plain": [
       "Epoch 0179|Val loss 2.577690e-01|Train loss 1.725228e-01|LR 0.00060|\n"
      ]
     },
     "metadata": {},
     "output_type": "display_data"
    },
    {
     "data": {
      "text/html": [
       "<pre style=\"white-space:pre;overflow-x:auto;line-height:normal;font-family:Menlo,'DejaVu Sans Mono',consolas,'Courier New',monospace\">Epoch 0180|Val loss 1.809028e-01|Train loss 1.498413e-01|LR 0.00060|\n",
       "</pre>\n"
      ],
      "text/plain": [
       "Epoch 0180|Val loss 1.809028e-01|Train loss 1.498413e-01|LR 0.00060|\n"
      ]
     },
     "metadata": {},
     "output_type": "display_data"
    },
    {
     "data": {
      "text/html": [
       "<pre style=\"white-space:pre;overflow-x:auto;line-height:normal;font-family:Menlo,'DejaVu Sans Mono',consolas,'Courier New',monospace\">EarlyStopping counter: 2 out of 20\n",
       "</pre>\n"
      ],
      "text/plain": [
       "EarlyStopping counter: 2 out of 20\n"
      ]
     },
     "metadata": {},
     "output_type": "display_data"
    },
    {
     "data": {
      "text/html": [
       "<pre style=\"white-space:pre;overflow-x:auto;line-height:normal;font-family:Menlo,'DejaVu Sans Mono',consolas,'Courier New',monospace\">Epoch 0181|Val loss 2.729748e-01|Train loss 1.429820e-01|LR 0.00060|\n",
       "</pre>\n"
      ],
      "text/plain": [
       "Epoch 0181|Val loss 2.729748e-01|Train loss 1.429820e-01|LR 0.00060|\n"
      ]
     },
     "metadata": {},
     "output_type": "display_data"
    },
    {
     "data": {
      "text/html": [
       "<pre style=\"white-space:pre;overflow-x:auto;line-height:normal;font-family:Menlo,'DejaVu Sans Mono',consolas,'Courier New',monospace\">Epoch 0182|Val loss 2.129047e-01|Train loss 1.495813e-01|LR 0.00060|\n",
       "</pre>\n"
      ],
      "text/plain": [
       "Epoch 0182|Val loss 2.129047e-01|Train loss 1.495813e-01|LR 0.00060|\n"
      ]
     },
     "metadata": {},
     "output_type": "display_data"
    },
    {
     "data": {
      "text/html": [
       "<pre style=\"white-space:pre;overflow-x:auto;line-height:normal;font-family:Menlo,'DejaVu Sans Mono',consolas,'Courier New',monospace\">Epoch 0183|Val loss 3.140514e-01|Train loss 1.712559e-01|LR 0.00060|\n",
       "</pre>\n"
      ],
      "text/plain": [
       "Epoch 0183|Val loss 3.140514e-01|Train loss 1.712559e-01|LR 0.00060|\n"
      ]
     },
     "metadata": {},
     "output_type": "display_data"
    },
    {
     "data": {
      "text/html": [
       "<pre style=\"white-space:pre;overflow-x:auto;line-height:normal;font-family:Menlo,'DejaVu Sans Mono',consolas,'Courier New',monospace\">Epoch 0184|Val loss 1.762550e-01|Train loss 2.916063e-01|LR 0.00060|\n",
       "</pre>\n"
      ],
      "text/plain": [
       "Epoch 0184|Val loss 1.762550e-01|Train loss 2.916063e-01|LR 0.00060|\n"
      ]
     },
     "metadata": {},
     "output_type": "display_data"
    },
    {
     "data": {
      "text/html": [
       "<pre style=\"white-space:pre;overflow-x:auto;line-height:normal;font-family:Menlo,'DejaVu Sans Mono',consolas,'Courier New',monospace\">Epoch 0185|Val loss 1.599517e-01|Train loss 1.861421e-01|LR 0.00060|\n",
       "</pre>\n"
      ],
      "text/plain": [
       "Epoch 0185|Val loss 1.599517e-01|Train loss 1.861421e-01|LR 0.00060|\n"
      ]
     },
     "metadata": {},
     "output_type": "display_data"
    },
    {
     "data": {
      "text/html": [
       "<pre style=\"white-space:pre;overflow-x:auto;line-height:normal;font-family:Menlo,'DejaVu Sans Mono',consolas,'Courier New',monospace\">Epoch 0186|Val loss 2.167126e-01|Train loss 1.568776e-01|LR 0.00060|\n",
       "</pre>\n"
      ],
      "text/plain": [
       "Epoch 0186|Val loss 2.167126e-01|Train loss 1.568776e-01|LR 0.00060|\n"
      ]
     },
     "metadata": {},
     "output_type": "display_data"
    },
    {
     "data": {
      "text/html": [
       "<pre style=\"white-space:pre;overflow-x:auto;line-height:normal;font-family:Menlo,'DejaVu Sans Mono',consolas,'Courier New',monospace\">Epoch 0187|Val loss 1.589563e-01|Train loss 1.742671e-01|LR 0.00060|\n",
       "</pre>\n"
      ],
      "text/plain": [
       "Epoch 0187|Val loss 1.589563e-01|Train loss 1.742671e-01|LR 0.00060|\n"
      ]
     },
     "metadata": {},
     "output_type": "display_data"
    },
    {
     "data": {
      "text/html": [
       "<pre style=\"white-space:pre;overflow-x:auto;line-height:normal;font-family:Menlo,'DejaVu Sans Mono',consolas,'Courier New',monospace\">Epoch 0188|Val loss 1.934225e-01|Train loss 1.734660e-01|LR 0.00060|\n",
       "</pre>\n"
      ],
      "text/plain": [
       "Epoch 0188|Val loss 1.934225e-01|Train loss 1.734660e-01|LR 0.00060|\n"
      ]
     },
     "metadata": {},
     "output_type": "display_data"
    },
    {
     "data": {
      "text/html": [
       "<pre style=\"white-space:pre;overflow-x:auto;line-height:normal;font-family:Menlo,'DejaVu Sans Mono',consolas,'Courier New',monospace\">Epoch 0189|Val loss 1.486963e-01|Train loss 1.636015e-01|LR 0.00060|\n",
       "</pre>\n"
      ],
      "text/plain": [
       "Epoch 0189|Val loss 1.486963e-01|Train loss 1.636015e-01|LR 0.00060|\n"
      ]
     },
     "metadata": {},
     "output_type": "display_data"
    },
    {
     "data": {
      "text/html": [
       "<pre style=\"white-space:pre;overflow-x:auto;line-height:normal;font-family:Menlo,'DejaVu Sans Mono',consolas,'Courier New',monospace\">Epoch 0190|Val loss 1.974278e-01|Train loss 1.413555e-01|LR 0.00060|\n",
       "</pre>\n"
      ],
      "text/plain": [
       "Epoch 0190|Val loss 1.974278e-01|Train loss 1.413555e-01|LR 0.00060|\n"
      ]
     },
     "metadata": {},
     "output_type": "display_data"
    },
    {
     "data": {
      "text/html": [
       "<pre style=\"white-space:pre;overflow-x:auto;line-height:normal;font-family:Menlo,'DejaVu Sans Mono',consolas,'Courier New',monospace\">EarlyStopping counter: 3 out of 20\n",
       "</pre>\n"
      ],
      "text/plain": [
       "EarlyStopping counter: 3 out of 20\n"
      ]
     },
     "metadata": {},
     "output_type": "display_data"
    },
    {
     "data": {
      "text/html": [
       "<pre style=\"white-space:pre;overflow-x:auto;line-height:normal;font-family:Menlo,'DejaVu Sans Mono',consolas,'Courier New',monospace\">Epoch 0191|Val loss 1.324695e-01|Train loss 1.448641e-01|LR 0.00060|\n",
       "</pre>\n"
      ],
      "text/plain": [
       "Epoch 0191|Val loss 1.324695e-01|Train loss 1.448641e-01|LR 0.00060|\n"
      ]
     },
     "metadata": {},
     "output_type": "display_data"
    },
    {
     "data": {
      "text/html": [
       "<pre style=\"white-space:pre;overflow-x:auto;line-height:normal;font-family:Menlo,'DejaVu Sans Mono',consolas,'Courier New',monospace\">Epoch 0192|Val loss 1.838370e-01|Train loss 1.722710e-01|LR 0.00060|\n",
       "</pre>\n"
      ],
      "text/plain": [
       "Epoch 0192|Val loss 1.838370e-01|Train loss 1.722710e-01|LR 0.00060|\n"
      ]
     },
     "metadata": {},
     "output_type": "display_data"
    },
    {
     "data": {
      "text/html": [
       "<pre style=\"white-space:pre;overflow-x:auto;line-height:normal;font-family:Menlo,'DejaVu Sans Mono',consolas,'Courier New',monospace\">Epoch 0193|Val loss 2.627812e-01|Train loss 2.041295e-01|LR 0.00060|\n",
       "</pre>\n"
      ],
      "text/plain": [
       "Epoch 0193|Val loss 2.627812e-01|Train loss 2.041295e-01|LR 0.00060|\n"
      ]
     },
     "metadata": {},
     "output_type": "display_data"
    },
    {
     "data": {
      "text/html": [
       "<pre style=\"white-space:pre;overflow-x:auto;line-height:normal;font-family:Menlo,'DejaVu Sans Mono',consolas,'Courier New',monospace\">Epoch 0194|Val loss 2.116237e-01|Train loss 1.707299e-01|LR 0.00060|\n",
       "</pre>\n"
      ],
      "text/plain": [
       "Epoch 0194|Val loss 2.116237e-01|Train loss 1.707299e-01|LR 0.00060|\n"
      ]
     },
     "metadata": {},
     "output_type": "display_data"
    },
    {
     "data": {
      "text/html": [
       "<pre style=\"white-space:pre;overflow-x:auto;line-height:normal;font-family:Menlo,'DejaVu Sans Mono',consolas,'Courier New',monospace\">Epoch 0195|Val loss 2.510012e-01|Train loss 1.524790e-01|LR 0.00060|\n",
       "</pre>\n"
      ],
      "text/plain": [
       "Epoch 0195|Val loss 2.510012e-01|Train loss 1.524790e-01|LR 0.00060|\n"
      ]
     },
     "metadata": {},
     "output_type": "display_data"
    },
    {
     "data": {
      "text/html": [
       "<pre style=\"white-space:pre;overflow-x:auto;line-height:normal;font-family:Menlo,'DejaVu Sans Mono',consolas,'Courier New',monospace\">Epoch 0196|Val loss 2.815847e-01|Train loss 1.493903e-01|LR 0.00060|\n",
       "</pre>\n"
      ],
      "text/plain": [
       "Epoch 0196|Val loss 2.815847e-01|Train loss 1.493903e-01|LR 0.00060|\n"
      ]
     },
     "metadata": {},
     "output_type": "display_data"
    },
    {
     "data": {
      "text/html": [
       "<pre style=\"white-space:pre;overflow-x:auto;line-height:normal;font-family:Menlo,'DejaVu Sans Mono',consolas,'Courier New',monospace\">Epoch 0197|Val loss 1.490348e-01|Train loss 2.532822e-01|LR 0.00060|\n",
       "</pre>\n"
      ],
      "text/plain": [
       "Epoch 0197|Val loss 1.490348e-01|Train loss 2.532822e-01|LR 0.00060|\n"
      ]
     },
     "metadata": {},
     "output_type": "display_data"
    },
    {
     "data": {
      "text/html": [
       "<pre style=\"white-space:pre;overflow-x:auto;line-height:normal;font-family:Menlo,'DejaVu Sans Mono',consolas,'Courier New',monospace\">Epoch 0198|Val loss 1.628976e-01|Train loss 1.668461e-01|LR 0.00060|\n",
       "</pre>\n"
      ],
      "text/plain": [
       "Epoch 0198|Val loss 1.628976e-01|Train loss 1.668461e-01|LR 0.00060|\n"
      ]
     },
     "metadata": {},
     "output_type": "display_data"
    },
    {
     "data": {
      "text/html": [
       "<pre style=\"white-space:pre;overflow-x:auto;line-height:normal;font-family:Menlo,'DejaVu Sans Mono',consolas,'Courier New',monospace\">Epoch 0199|Val loss 2.225131e-01|Train loss 2.266892e-01|LR 0.00060|\n",
       "</pre>\n"
      ],
      "text/plain": [
       "Epoch 0199|Val loss 2.225131e-01|Train loss 2.266892e-01|LR 0.00060|\n"
      ]
     },
     "metadata": {},
     "output_type": "display_data"
    },
    {
     "data": {
      "text/html": [
       "<pre style=\"white-space:pre;overflow-x:auto;line-height:normal;font-family:Menlo,'DejaVu Sans Mono',consolas,'Courier New',monospace\">Epoch 0200|Val loss 2.487930e-01|Train loss 1.702480e-01|LR 0.00060|\n",
       "</pre>\n"
      ],
      "text/plain": [
       "Epoch 0200|Val loss 2.487930e-01|Train loss 1.702480e-01|LR 0.00060|\n"
      ]
     },
     "metadata": {},
     "output_type": "display_data"
    },
    {
     "data": {
      "text/html": [
       "<pre style=\"white-space:pre;overflow-x:auto;line-height:normal;font-family:Menlo,'DejaVu Sans Mono',consolas,'Courier New',monospace\">EarlyStopping counter: 4 out of 20\n",
       "</pre>\n"
      ],
      "text/plain": [
       "EarlyStopping counter: 4 out of 20\n"
      ]
     },
     "metadata": {},
     "output_type": "display_data"
    },
    {
     "data": {
      "text/html": [
       "<pre style=\"white-space:pre;overflow-x:auto;line-height:normal;font-family:Menlo,'DejaVu Sans Mono',consolas,'Courier New',monospace\">Epoch 0201|Val loss 2.014314e-01|Train loss 1.408124e-01|LR 0.00060|\n",
       "</pre>\n"
      ],
      "text/plain": [
       "Epoch 0201|Val loss 2.014314e-01|Train loss 1.408124e-01|LR 0.00060|\n"
      ]
     },
     "metadata": {},
     "output_type": "display_data"
    },
    {
     "data": {
      "text/html": [
       "<pre style=\"white-space:pre;overflow-x:auto;line-height:normal;font-family:Menlo,'DejaVu Sans Mono',consolas,'Courier New',monospace\">Epoch 0202|Val loss 2.796653e-01|Train loss 1.383439e-01|LR 0.00060|\n",
       "</pre>\n"
      ],
      "text/plain": [
       "Epoch 0202|Val loss 2.796653e-01|Train loss 1.383439e-01|LR 0.00060|\n"
      ]
     },
     "metadata": {},
     "output_type": "display_data"
    },
    {
     "data": {
      "text/html": [
       "<pre style=\"white-space:pre;overflow-x:auto;line-height:normal;font-family:Menlo,'DejaVu Sans Mono',consolas,'Courier New',monospace\">Epoch 0203|Val loss 1.661408e-01|Train loss 2.148161e-01|LR 0.00060|\n",
       "</pre>\n"
      ],
      "text/plain": [
       "Epoch 0203|Val loss 1.661408e-01|Train loss 2.148161e-01|LR 0.00060|\n"
      ]
     },
     "metadata": {},
     "output_type": "display_data"
    },
    {
     "data": {
      "text/html": [
       "<pre style=\"white-space:pre;overflow-x:auto;line-height:normal;font-family:Menlo,'DejaVu Sans Mono',consolas,'Courier New',monospace\">Epoch 0204|Val loss 1.998974e-01|Train loss 1.594324e-01|LR 0.00060|\n",
       "</pre>\n"
      ],
      "text/plain": [
       "Epoch 0204|Val loss 1.998974e-01|Train loss 1.594324e-01|LR 0.00060|\n"
      ]
     },
     "metadata": {},
     "output_type": "display_data"
    },
    {
     "data": {
      "text/html": [
       "<pre style=\"white-space:pre;overflow-x:auto;line-height:normal;font-family:Menlo,'DejaVu Sans Mono',consolas,'Courier New',monospace\">Epoch 0205|Val loss 1.311111e-01|Train loss 1.363181e-01|LR 0.00060|\n",
       "</pre>\n"
      ],
      "text/plain": [
       "Epoch 0205|Val loss 1.311111e-01|Train loss 1.363181e-01|LR 0.00060|\n"
      ]
     },
     "metadata": {},
     "output_type": "display_data"
    },
    {
     "data": {
      "text/html": [
       "<pre style=\"white-space:pre;overflow-x:auto;line-height:normal;font-family:Menlo,'DejaVu Sans Mono',consolas,'Courier New',monospace\">Epoch 0206|Val loss 1.853366e-01|Train loss 1.491039e-01|LR 0.00060|\n",
       "</pre>\n"
      ],
      "text/plain": [
       "Epoch 0206|Val loss 1.853366e-01|Train loss 1.491039e-01|LR 0.00060|\n"
      ]
     },
     "metadata": {},
     "output_type": "display_data"
    },
    {
     "data": {
      "text/html": [
       "<pre style=\"white-space:pre;overflow-x:auto;line-height:normal;font-family:Menlo,'DejaVu Sans Mono',consolas,'Courier New',monospace\">Epoch 0207|Val loss 2.093920e-01|Train loss 2.068420e-01|LR 0.00060|\n",
       "</pre>\n"
      ],
      "text/plain": [
       "Epoch 0207|Val loss 2.093920e-01|Train loss 2.068420e-01|LR 0.00060|\n"
      ]
     },
     "metadata": {},
     "output_type": "display_data"
    },
    {
     "data": {
      "text/html": [
       "<pre style=\"white-space:pre;overflow-x:auto;line-height:normal;font-family:Menlo,'DejaVu Sans Mono',consolas,'Courier New',monospace\">Epoch 0208|Val loss 2.061190e-01|Train loss 2.045595e-01|LR 0.00060|\n",
       "</pre>\n"
      ],
      "text/plain": [
       "Epoch 0208|Val loss 2.061190e-01|Train loss 2.045595e-01|LR 0.00060|\n"
      ]
     },
     "metadata": {},
     "output_type": "display_data"
    },
    {
     "data": {
      "text/html": [
       "<pre style=\"white-space:pre;overflow-x:auto;line-height:normal;font-family:Menlo,'DejaVu Sans Mono',consolas,'Courier New',monospace\">Epoch 0209|Val loss 2.871837e-01|Train loss 1.606465e-01|LR 0.00060|\n",
       "</pre>\n"
      ],
      "text/plain": [
       "Epoch 0209|Val loss 2.871837e-01|Train loss 1.606465e-01|LR 0.00060|\n"
      ]
     },
     "metadata": {},
     "output_type": "display_data"
    },
    {
     "data": {
      "text/html": [
       "<pre style=\"white-space:pre;overflow-x:auto;line-height:normal;font-family:Menlo,'DejaVu Sans Mono',consolas,'Courier New',monospace\">Epoch 0210|Val loss 1.594982e-01|Train loss 1.483752e-01|LR 0.00060|\n",
       "</pre>\n"
      ],
      "text/plain": [
       "Epoch 0210|Val loss 1.594982e-01|Train loss 1.483752e-01|LR 0.00060|\n"
      ]
     },
     "metadata": {},
     "output_type": "display_data"
    },
    {
     "data": {
      "text/html": [
       "<pre style=\"white-space:pre;overflow-x:auto;line-height:normal;font-family:Menlo,'DejaVu Sans Mono',consolas,'Courier New',monospace\">EarlyStopping counter: 5 out of 20\n",
       "</pre>\n"
      ],
      "text/plain": [
       "EarlyStopping counter: 5 out of 20\n"
      ]
     },
     "metadata": {},
     "output_type": "display_data"
    },
    {
     "data": {
      "text/html": [
       "<pre style=\"white-space:pre;overflow-x:auto;line-height:normal;font-family:Menlo,'DejaVu Sans Mono',consolas,'Courier New',monospace\">Epoch 0211|Val loss 3.429279e-01|Train loss 1.463682e-01|LR 0.00060|\n",
       "</pre>\n"
      ],
      "text/plain": [
       "Epoch 0211|Val loss 3.429279e-01|Train loss 1.463682e-01|LR 0.00060|\n"
      ]
     },
     "metadata": {},
     "output_type": "display_data"
    },
    {
     "data": {
      "text/html": [
       "<pre style=\"white-space:pre;overflow-x:auto;line-height:normal;font-family:Menlo,'DejaVu Sans Mono',consolas,'Courier New',monospace\">Epoch 0212|Val loss 1.852004e-01|Train loss 2.076987e-01|LR 0.00060|\n",
       "</pre>\n"
      ],
      "text/plain": [
       "Epoch 0212|Val loss 1.852004e-01|Train loss 2.076987e-01|LR 0.00060|\n"
      ]
     },
     "metadata": {},
     "output_type": "display_data"
    },
    {
     "data": {
      "text/html": [
       "<pre style=\"white-space:pre;overflow-x:auto;line-height:normal;font-family:Menlo,'DejaVu Sans Mono',consolas,'Courier New',monospace\">Epoch 0213|Val loss 1.967740e-01|Train loss 1.965158e-01|LR 0.00060|\n",
       "</pre>\n"
      ],
      "text/plain": [
       "Epoch 0213|Val loss 1.967740e-01|Train loss 1.965158e-01|LR 0.00060|\n"
      ]
     },
     "metadata": {},
     "output_type": "display_data"
    },
    {
     "data": {
      "text/html": [
       "<pre style=\"white-space:pre;overflow-x:auto;line-height:normal;font-family:Menlo,'DejaVu Sans Mono',consolas,'Courier New',monospace\">Epoch 0214|Val loss 1.670112e-01|Train loss 1.756264e-01|LR 0.00060|\n",
       "</pre>\n"
      ],
      "text/plain": [
       "Epoch 0214|Val loss 1.670112e-01|Train loss 1.756264e-01|LR 0.00060|\n"
      ]
     },
     "metadata": {},
     "output_type": "display_data"
    },
    {
     "data": {
      "text/html": [
       "<pre style=\"white-space:pre;overflow-x:auto;line-height:normal;font-family:Menlo,'DejaVu Sans Mono',consolas,'Courier New',monospace\">Epoch 0215|Val loss 1.843747e-01|Train loss 1.705459e-01|LR 0.00060|\n",
       "</pre>\n"
      ],
      "text/plain": [
       "Epoch 0215|Val loss 1.843747e-01|Train loss 1.705459e-01|LR 0.00060|\n"
      ]
     },
     "metadata": {},
     "output_type": "display_data"
    },
    {
     "data": {
      "text/html": [
       "<pre style=\"white-space:pre;overflow-x:auto;line-height:normal;font-family:Menlo,'DejaVu Sans Mono',consolas,'Courier New',monospace\">Epoch 0216|Val loss 1.766680e-01|Train loss 1.443921e-01|LR 0.00060|\n",
       "</pre>\n"
      ],
      "text/plain": [
       "Epoch 0216|Val loss 1.766680e-01|Train loss 1.443921e-01|LR 0.00060|\n"
      ]
     },
     "metadata": {},
     "output_type": "display_data"
    },
    {
     "data": {
      "text/html": [
       "<pre style=\"white-space:pre;overflow-x:auto;line-height:normal;font-family:Menlo,'DejaVu Sans Mono',consolas,'Courier New',monospace\">Epoch 0217|Val loss 2.126539e-01|Train loss 1.487341e-01|LR 0.00060|\n",
       "</pre>\n"
      ],
      "text/plain": [
       "Epoch 0217|Val loss 2.126539e-01|Train loss 1.487341e-01|LR 0.00060|\n"
      ]
     },
     "metadata": {},
     "output_type": "display_data"
    },
    {
     "data": {
      "text/html": [
       "<pre style=\"white-space:pre;overflow-x:auto;line-height:normal;font-family:Menlo,'DejaVu Sans Mono',consolas,'Courier New',monospace\">Epoch 0218|Val loss 1.751833e-01|Train loss 1.499264e-01|LR 0.00060|\n",
       "</pre>\n"
      ],
      "text/plain": [
       "Epoch 0218|Val loss 1.751833e-01|Train loss 1.499264e-01|LR 0.00060|\n"
      ]
     },
     "metadata": {},
     "output_type": "display_data"
    },
    {
     "data": {
      "text/html": [
       "<pre style=\"white-space:pre;overflow-x:auto;line-height:normal;font-family:Menlo,'DejaVu Sans Mono',consolas,'Courier New',monospace\">Epoch 0219|Val loss 1.918459e-01|Train loss 1.425299e-01|LR 0.00060|\n",
       "</pre>\n"
      ],
      "text/plain": [
       "Epoch 0219|Val loss 1.918459e-01|Train loss 1.425299e-01|LR 0.00060|\n"
      ]
     },
     "metadata": {},
     "output_type": "display_data"
    },
    {
     "data": {
      "text/html": [
       "<pre style=\"white-space:pre;overflow-x:auto;line-height:normal;font-family:Menlo,'DejaVu Sans Mono',consolas,'Courier New',monospace\">Epoch 0220|Val loss 1.730596e-01|Train loss 1.358774e-01|LR 0.00060|\n",
       "</pre>\n"
      ],
      "text/plain": [
       "Epoch 0220|Val loss 1.730596e-01|Train loss 1.358774e-01|LR 0.00060|\n"
      ]
     },
     "metadata": {},
     "output_type": "display_data"
    },
    {
     "data": {
      "text/html": [
       "<pre style=\"white-space:pre;overflow-x:auto;line-height:normal;font-family:Menlo,'DejaVu Sans Mono',consolas,'Courier New',monospace\">EarlyStopping counter: 6 out of 20\n",
       "</pre>\n"
      ],
      "text/plain": [
       "EarlyStopping counter: 6 out of 20\n"
      ]
     },
     "metadata": {},
     "output_type": "display_data"
    },
    {
     "data": {
      "text/html": [
       "<pre style=\"white-space:pre;overflow-x:auto;line-height:normal;font-family:Menlo,'DejaVu Sans Mono',consolas,'Courier New',monospace\">Epoch 0221|Val loss 2.289105e-01|Train loss 1.526172e-01|LR 0.00060|\n",
       "</pre>\n"
      ],
      "text/plain": [
       "Epoch 0221|Val loss 2.289105e-01|Train loss 1.526172e-01|LR 0.00060|\n"
      ]
     },
     "metadata": {},
     "output_type": "display_data"
    },
    {
     "data": {
      "text/html": [
       "<pre style=\"white-space:pre;overflow-x:auto;line-height:normal;font-family:Menlo,'DejaVu Sans Mono',consolas,'Courier New',monospace\">Epoch 0222|Val loss 1.299355e-01|Train loss 1.861662e-01|LR 0.00060|\n",
       "</pre>\n"
      ],
      "text/plain": [
       "Epoch 0222|Val loss 1.299355e-01|Train loss 1.861662e-01|LR 0.00060|\n"
      ]
     },
     "metadata": {},
     "output_type": "display_data"
    },
    {
     "data": {
      "text/html": [
       "<pre style=\"white-space:pre;overflow-x:auto;line-height:normal;font-family:Menlo,'DejaVu Sans Mono',consolas,'Courier New',monospace\">Epoch 0223|Val loss 1.520121e-01|Train loss 1.467749e-01|LR 0.00060|\n",
       "</pre>\n"
      ],
      "text/plain": [
       "Epoch 0223|Val loss 1.520121e-01|Train loss 1.467749e-01|LR 0.00060|\n"
      ]
     },
     "metadata": {},
     "output_type": "display_data"
    },
    {
     "data": {
      "text/html": [
       "<pre style=\"white-space:pre;overflow-x:auto;line-height:normal;font-family:Menlo,'DejaVu Sans Mono',consolas,'Courier New',monospace\">Epoch 0224|Val loss 4.189189e-01|Train loss 2.895971e-01|LR 0.00060|\n",
       "</pre>\n"
      ],
      "text/plain": [
       "Epoch 0224|Val loss 4.189189e-01|Train loss 2.895971e-01|LR 0.00060|\n"
      ]
     },
     "metadata": {},
     "output_type": "display_data"
    },
    {
     "data": {
      "text/html": [
       "<pre style=\"white-space:pre;overflow-x:auto;line-height:normal;font-family:Menlo,'DejaVu Sans Mono',consolas,'Courier New',monospace\">Epoch 0225|Val loss 3.822068e-01|Train loss 2.288698e-01|LR 0.00060|\n",
       "</pre>\n"
      ],
      "text/plain": [
       "Epoch 0225|Val loss 3.822068e-01|Train loss 2.288698e-01|LR 0.00060|\n"
      ]
     },
     "metadata": {},
     "output_type": "display_data"
    },
    {
     "data": {
      "text/html": [
       "<pre style=\"white-space:pre;overflow-x:auto;line-height:normal;font-family:Menlo,'DejaVu Sans Mono',consolas,'Courier New',monospace\">Epoch 0226|Val loss 1.563420e-01|Train loss 3.001402e-01|LR 0.00060|\n",
       "</pre>\n"
      ],
      "text/plain": [
       "Epoch 0226|Val loss 1.563420e-01|Train loss 3.001402e-01|LR 0.00060|\n"
      ]
     },
     "metadata": {},
     "output_type": "display_data"
    },
    {
     "data": {
      "text/html": [
       "<pre style=\"white-space:pre;overflow-x:auto;line-height:normal;font-family:Menlo,'DejaVu Sans Mono',consolas,'Courier New',monospace\">Epoch 0227|Val loss 2.094125e-01|Train loss 1.802032e-01|LR 0.00060|\n",
       "</pre>\n"
      ],
      "text/plain": [
       "Epoch 0227|Val loss 2.094125e-01|Train loss 1.802032e-01|LR 0.00060|\n"
      ]
     },
     "metadata": {},
     "output_type": "display_data"
    },
    {
     "data": {
      "text/html": [
       "<pre style=\"white-space:pre;overflow-x:auto;line-height:normal;font-family:Menlo,'DejaVu Sans Mono',consolas,'Courier New',monospace\">Epoch 0228|Val loss 2.533687e-01|Train loss 1.649984e-01|LR 0.00060|\n",
       "</pre>\n"
      ],
      "text/plain": [
       "Epoch 0228|Val loss 2.533687e-01|Train loss 1.649984e-01|LR 0.00060|\n"
      ]
     },
     "metadata": {},
     "output_type": "display_data"
    },
    {
     "data": {
      "text/html": [
       "<pre style=\"white-space:pre;overflow-x:auto;line-height:normal;font-family:Menlo,'DejaVu Sans Mono',consolas,'Courier New',monospace\">Epoch 0229|Val loss 2.008450e-01|Train loss 2.730503e-01|LR 0.00060|\n",
       "</pre>\n"
      ],
      "text/plain": [
       "Epoch 0229|Val loss 2.008450e-01|Train loss 2.730503e-01|LR 0.00060|\n"
      ]
     },
     "metadata": {},
     "output_type": "display_data"
    },
    {
     "data": {
      "text/html": [
       "<pre style=\"white-space:pre;overflow-x:auto;line-height:normal;font-family:Menlo,'DejaVu Sans Mono',consolas,'Courier New',monospace\">Epoch 0230|Val loss 2.695858e-01|Train loss 2.490701e-01|LR 0.00060|\n",
       "</pre>\n"
      ],
      "text/plain": [
       "Epoch 0230|Val loss 2.695858e-01|Train loss 2.490701e-01|LR 0.00060|\n"
      ]
     },
     "metadata": {},
     "output_type": "display_data"
    },
    {
     "data": {
      "text/html": [
       "<pre style=\"white-space:pre;overflow-x:auto;line-height:normal;font-family:Menlo,'DejaVu Sans Mono',consolas,'Courier New',monospace\">Validation loss decreased (0.01 --&gt; 0.01).  Saving model ...\n",
       "</pre>\n"
      ],
      "text/plain": [
       "Validation loss decreased (0.01 --> 0.01).  Saving model ...\n"
      ]
     },
     "metadata": {},
     "output_type": "display_data"
    },
    {
     "data": {
      "text/html": [
       "<pre style=\"white-space:pre;overflow-x:auto;line-height:normal;font-family:Menlo,'DejaVu Sans Mono',consolas,'Courier New',monospace\">Epoch 0231|Val loss 2.522178e-01|Train loss 1.502184e-01|LR 0.00060|\n",
       "</pre>\n"
      ],
      "text/plain": [
       "Epoch 0231|Val loss 2.522178e-01|Train loss 1.502184e-01|LR 0.00060|\n"
      ]
     },
     "metadata": {},
     "output_type": "display_data"
    },
    {
     "data": {
      "text/html": [
       "<pre style=\"white-space:pre;overflow-x:auto;line-height:normal;font-family:Menlo,'DejaVu Sans Mono',consolas,'Courier New',monospace\">Epoch 0232|Val loss 1.963113e-01|Train loss 2.155960e-01|LR 0.00060|\n",
       "</pre>\n"
      ],
      "text/plain": [
       "Epoch 0232|Val loss 1.963113e-01|Train loss 2.155960e-01|LR 0.00060|\n"
      ]
     },
     "metadata": {},
     "output_type": "display_data"
    },
    {
     "data": {
      "text/html": [
       "<pre style=\"white-space:pre;overflow-x:auto;line-height:normal;font-family:Menlo,'DejaVu Sans Mono',consolas,'Courier New',monospace\">Epoch 0233|Val loss 4.262907e-01|Train loss 2.694085e-01|LR 0.00060|\n",
       "</pre>\n"
      ],
      "text/plain": [
       "Epoch 0233|Val loss 4.262907e-01|Train loss 2.694085e-01|LR 0.00060|\n"
      ]
     },
     "metadata": {},
     "output_type": "display_data"
    },
    {
     "data": {
      "text/html": [
       "<pre style=\"white-space:pre;overflow-x:auto;line-height:normal;font-family:Menlo,'DejaVu Sans Mono',consolas,'Courier New',monospace\">Epoch 0234|Val loss 1.854306e-01|Train loss 2.400113e-01|LR 0.00060|\n",
       "</pre>\n"
      ],
      "text/plain": [
       "Epoch 0234|Val loss 1.854306e-01|Train loss 2.400113e-01|LR 0.00060|\n"
      ]
     },
     "metadata": {},
     "output_type": "display_data"
    },
    {
     "data": {
      "text/html": [
       "<pre style=\"white-space:pre;overflow-x:auto;line-height:normal;font-family:Menlo,'DejaVu Sans Mono',consolas,'Courier New',monospace\">Epoch 0235|Val loss 1.565617e-01|Train loss 2.271201e-01|LR 0.00060|\n",
       "</pre>\n"
      ],
      "text/plain": [
       "Epoch 0235|Val loss 1.565617e-01|Train loss 2.271201e-01|LR 0.00060|\n"
      ]
     },
     "metadata": {},
     "output_type": "display_data"
    },
    {
     "data": {
      "text/html": [
       "<pre style=\"white-space:pre;overflow-x:auto;line-height:normal;font-family:Menlo,'DejaVu Sans Mono',consolas,'Courier New',monospace\">Epoch 0236|Val loss 3.906890e-01|Train loss 2.249033e-01|LR 0.00060|\n",
       "</pre>\n"
      ],
      "text/plain": [
       "Epoch 0236|Val loss 3.906890e-01|Train loss 2.249033e-01|LR 0.00060|\n"
      ]
     },
     "metadata": {},
     "output_type": "display_data"
    },
    {
     "data": {
      "text/html": [
       "<pre style=\"white-space:pre;overflow-x:auto;line-height:normal;font-family:Menlo,'DejaVu Sans Mono',consolas,'Courier New',monospace\">Epoch 0237|Val loss 1.591682e-01|Train loss 2.644687e-01|LR 0.00060|\n",
       "</pre>\n"
      ],
      "text/plain": [
       "Epoch 0237|Val loss 1.591682e-01|Train loss 2.644687e-01|LR 0.00060|\n"
      ]
     },
     "metadata": {},
     "output_type": "display_data"
    },
    {
     "data": {
      "text/html": [
       "<pre style=\"white-space:pre;overflow-x:auto;line-height:normal;font-family:Menlo,'DejaVu Sans Mono',consolas,'Courier New',monospace\">Epoch 0238|Val loss 2.313188e-01|Train loss 1.791538e-01|LR 0.00060|\n",
       "</pre>\n"
      ],
      "text/plain": [
       "Epoch 0238|Val loss 2.313188e-01|Train loss 1.791538e-01|LR 0.00060|\n"
      ]
     },
     "metadata": {},
     "output_type": "display_data"
    },
    {
     "data": {
      "text/html": [
       "<pre style=\"white-space:pre;overflow-x:auto;line-height:normal;font-family:Menlo,'DejaVu Sans Mono',consolas,'Courier New',monospace\">Epoch 0239|Val loss 2.204914e-01|Train loss 1.407756e-01|LR 0.00060|\n",
       "</pre>\n"
      ],
      "text/plain": [
       "Epoch 0239|Val loss 2.204914e-01|Train loss 1.407756e-01|LR 0.00060|\n"
      ]
     },
     "metadata": {},
     "output_type": "display_data"
    },
    {
     "data": {
      "text/html": [
       "<pre style=\"white-space:pre;overflow-x:auto;line-height:normal;font-family:Menlo,'DejaVu Sans Mono',consolas,'Courier New',monospace\">Epoch 0240|Val loss 1.575023e-01|Train loss 1.771349e-01|LR 0.00060|\n",
       "</pre>\n"
      ],
      "text/plain": [
       "Epoch 0240|Val loss 1.575023e-01|Train loss 1.771349e-01|LR 0.00060|\n"
      ]
     },
     "metadata": {},
     "output_type": "display_data"
    },
    {
     "data": {
      "text/html": [
       "<pre style=\"white-space:pre;overflow-x:auto;line-height:normal;font-family:Menlo,'DejaVu Sans Mono',consolas,'Courier New',monospace\">EarlyStopping counter: 1 out of 20\n",
       "</pre>\n"
      ],
      "text/plain": [
       "EarlyStopping counter: 1 out of 20\n"
      ]
     },
     "metadata": {},
     "output_type": "display_data"
    },
    {
     "data": {
      "text/html": [
       "<pre style=\"white-space:pre;overflow-x:auto;line-height:normal;font-family:Menlo,'DejaVu Sans Mono',consolas,'Courier New',monospace\">Epoch 0241|Val loss 1.789877e-01|Train loss 1.516987e-01|LR 0.00060|\n",
       "</pre>\n"
      ],
      "text/plain": [
       "Epoch 0241|Val loss 1.789877e-01|Train loss 1.516987e-01|LR 0.00060|\n"
      ]
     },
     "metadata": {},
     "output_type": "display_data"
    },
    {
     "data": {
      "text/html": [
       "<pre style=\"white-space:pre;overflow-x:auto;line-height:normal;font-family:Menlo,'DejaVu Sans Mono',consolas,'Courier New',monospace\">Epoch 0242|Val loss 2.532025e-01|Train loss 1.535902e-01|LR 0.00060|\n",
       "</pre>\n"
      ],
      "text/plain": [
       "Epoch 0242|Val loss 2.532025e-01|Train loss 1.535902e-01|LR 0.00060|\n"
      ]
     },
     "metadata": {},
     "output_type": "display_data"
    },
    {
     "data": {
      "text/html": [
       "<pre style=\"white-space:pre;overflow-x:auto;line-height:normal;font-family:Menlo,'DejaVu Sans Mono',consolas,'Courier New',monospace\">Epoch 0243|Val loss 1.563997e-01|Train loss 1.558557e-01|LR 0.00060|\n",
       "</pre>\n"
      ],
      "text/plain": [
       "Epoch 0243|Val loss 1.563997e-01|Train loss 1.558557e-01|LR 0.00060|\n"
      ]
     },
     "metadata": {},
     "output_type": "display_data"
    },
    {
     "data": {
      "text/html": [
       "<pre style=\"white-space:pre;overflow-x:auto;line-height:normal;font-family:Menlo,'DejaVu Sans Mono',consolas,'Courier New',monospace\">Epoch 0244|Val loss 1.537760e-01|Train loss 1.277675e-01|LR 0.00060|\n",
       "</pre>\n"
      ],
      "text/plain": [
       "Epoch 0244|Val loss 1.537760e-01|Train loss 1.277675e-01|LR 0.00060|\n"
      ]
     },
     "metadata": {},
     "output_type": "display_data"
    },
    {
     "data": {
      "text/html": [
       "<pre style=\"white-space:pre;overflow-x:auto;line-height:normal;font-family:Menlo,'DejaVu Sans Mono',consolas,'Courier New',monospace\">Epoch 0245|Val loss 2.021676e-01|Train loss 1.395593e-01|LR 0.00060|\n",
       "</pre>\n"
      ],
      "text/plain": [
       "Epoch 0245|Val loss 2.021676e-01|Train loss 1.395593e-01|LR 0.00060|\n"
      ]
     },
     "metadata": {},
     "output_type": "display_data"
    },
    {
     "data": {
      "text/html": [
       "<pre style=\"white-space:pre;overflow-x:auto;line-height:normal;font-family:Menlo,'DejaVu Sans Mono',consolas,'Courier New',monospace\">Epoch 0246|Val loss 2.146250e-01|Train loss 1.312597e-01|LR 0.00060|\n",
       "</pre>\n"
      ],
      "text/plain": [
       "Epoch 0246|Val loss 2.146250e-01|Train loss 1.312597e-01|LR 0.00060|\n"
      ]
     },
     "metadata": {},
     "output_type": "display_data"
    },
    {
     "data": {
      "text/html": [
       "<pre style=\"white-space:pre;overflow-x:auto;line-height:normal;font-family:Menlo,'DejaVu Sans Mono',consolas,'Courier New',monospace\">Epoch 0247|Val loss 2.349928e-01|Train loss 1.282818e-01|LR 0.00060|\n",
       "</pre>\n"
      ],
      "text/plain": [
       "Epoch 0247|Val loss 2.349928e-01|Train loss 1.282818e-01|LR 0.00060|\n"
      ]
     },
     "metadata": {},
     "output_type": "display_data"
    },
    {
     "data": {
      "text/html": [
       "<pre style=\"white-space:pre;overflow-x:auto;line-height:normal;font-family:Menlo,'DejaVu Sans Mono',consolas,'Courier New',monospace\">Epoch 0248|Val loss 1.690549e-01|Train loss 1.744831e-01|LR 0.00060|\n",
       "</pre>\n"
      ],
      "text/plain": [
       "Epoch 0248|Val loss 1.690549e-01|Train loss 1.744831e-01|LR 0.00060|\n"
      ]
     },
     "metadata": {},
     "output_type": "display_data"
    },
    {
     "data": {
      "text/html": [
       "<pre style=\"white-space:pre;overflow-x:auto;line-height:normal;font-family:Menlo,'DejaVu Sans Mono',consolas,'Courier New',monospace\">Epoch 0249|Val loss 1.345510e-01|Train loss 1.370655e-01|LR 0.00060|\n",
       "</pre>\n"
      ],
      "text/plain": [
       "Epoch 0249|Val loss 1.345510e-01|Train loss 1.370655e-01|LR 0.00060|\n"
      ]
     },
     "metadata": {},
     "output_type": "display_data"
    },
    {
     "data": {
      "text/html": [
       "<pre style=\"white-space:pre;overflow-x:auto;line-height:normal;font-family:Menlo,'DejaVu Sans Mono',consolas,'Courier New',monospace\">Epoch 0250|Val loss 2.466753e-01|Train loss 1.616396e-01|LR 0.00060|\n",
       "</pre>\n"
      ],
      "text/plain": [
       "Epoch 0250|Val loss 2.466753e-01|Train loss 1.616396e-01|LR 0.00060|\n"
      ]
     },
     "metadata": {},
     "output_type": "display_data"
    },
    {
     "data": {
      "text/html": [
       "<pre style=\"white-space:pre;overflow-x:auto;line-height:normal;font-family:Menlo,'DejaVu Sans Mono',consolas,'Courier New',monospace\">EarlyStopping counter: 2 out of 20\n",
       "</pre>\n"
      ],
      "text/plain": [
       "EarlyStopping counter: 2 out of 20\n"
      ]
     },
     "metadata": {},
     "output_type": "display_data"
    },
    {
     "data": {
      "text/html": [
       "<pre style=\"white-space:pre;overflow-x:auto;line-height:normal;font-family:Menlo,'DejaVu Sans Mono',consolas,'Courier New',monospace\">Epoch 0251|Val loss 1.959806e-01|Train loss 1.287984e-01|LR 0.00060|\n",
       "</pre>\n"
      ],
      "text/plain": [
       "Epoch 0251|Val loss 1.959806e-01|Train loss 1.287984e-01|LR 0.00060|\n"
      ]
     },
     "metadata": {},
     "output_type": "display_data"
    },
    {
     "data": {
      "text/html": [
       "<pre style=\"white-space:pre;overflow-x:auto;line-height:normal;font-family:Menlo,'DejaVu Sans Mono',consolas,'Courier New',monospace\">Epoch 0252|Val loss 2.282584e-01|Train loss 1.557965e-01|LR 0.00060|\n",
       "</pre>\n"
      ],
      "text/plain": [
       "Epoch 0252|Val loss 2.282584e-01|Train loss 1.557965e-01|LR 0.00060|\n"
      ]
     },
     "metadata": {},
     "output_type": "display_data"
    },
    {
     "data": {
      "text/html": [
       "<pre style=\"white-space:pre;overflow-x:auto;line-height:normal;font-family:Menlo,'DejaVu Sans Mono',consolas,'Courier New',monospace\">Epoch 0253|Val loss 1.355535e-01|Train loss 1.696613e-01|LR 0.00060|\n",
       "</pre>\n"
      ],
      "text/plain": [
       "Epoch 0253|Val loss 1.355535e-01|Train loss 1.696613e-01|LR 0.00060|\n"
      ]
     },
     "metadata": {},
     "output_type": "display_data"
    },
    {
     "data": {
      "text/html": [
       "<pre style=\"white-space:pre;overflow-x:auto;line-height:normal;font-family:Menlo,'DejaVu Sans Mono',consolas,'Courier New',monospace\">Epoch 0254|Val loss 1.802825e-01|Train loss 1.500571e-01|LR 0.00060|\n",
       "</pre>\n"
      ],
      "text/plain": [
       "Epoch 0254|Val loss 1.802825e-01|Train loss 1.500571e-01|LR 0.00060|\n"
      ]
     },
     "metadata": {},
     "output_type": "display_data"
    },
    {
     "data": {
      "text/html": [
       "<pre style=\"white-space:pre;overflow-x:auto;line-height:normal;font-family:Menlo,'DejaVu Sans Mono',consolas,'Courier New',monospace\">Epoch 0255|Val loss 1.726192e-01|Train loss 1.626806e-01|LR 0.00060|\n",
       "</pre>\n"
      ],
      "text/plain": [
       "Epoch 0255|Val loss 1.726192e-01|Train loss 1.626806e-01|LR 0.00060|\n"
      ]
     },
     "metadata": {},
     "output_type": "display_data"
    },
    {
     "data": {
      "text/html": [
       "<pre style=\"white-space:pre;overflow-x:auto;line-height:normal;font-family:Menlo,'DejaVu Sans Mono',consolas,'Courier New',monospace\">Epoch 0256|Val loss 2.657075e-01|Train loss 2.338494e-01|LR 0.00060|\n",
       "</pre>\n"
      ],
      "text/plain": [
       "Epoch 0256|Val loss 2.657075e-01|Train loss 2.338494e-01|LR 0.00060|\n"
      ]
     },
     "metadata": {},
     "output_type": "display_data"
    },
    {
     "data": {
      "text/html": [
       "<pre style=\"white-space:pre;overflow-x:auto;line-height:normal;font-family:Menlo,'DejaVu Sans Mono',consolas,'Courier New',monospace\">Epoch 0257|Val loss 3.370401e-01|Train loss 3.448593e-01|LR 0.00060|\n",
       "</pre>\n"
      ],
      "text/plain": [
       "Epoch 0257|Val loss 3.370401e-01|Train loss 3.448593e-01|LR 0.00060|\n"
      ]
     },
     "metadata": {},
     "output_type": "display_data"
    },
    {
     "data": {
      "text/html": [
       "<pre style=\"white-space:pre;overflow-x:auto;line-height:normal;font-family:Menlo,'DejaVu Sans Mono',consolas,'Courier New',monospace\">Epoch 0258|Val loss 4.155748e-01|Train loss 1.931091e-01|LR 0.00060|\n",
       "</pre>\n"
      ],
      "text/plain": [
       "Epoch 0258|Val loss 4.155748e-01|Train loss 1.931091e-01|LR 0.00060|\n"
      ]
     },
     "metadata": {},
     "output_type": "display_data"
    },
    {
     "data": {
      "text/html": [
       "<pre style=\"white-space:pre;overflow-x:auto;line-height:normal;font-family:Menlo,'DejaVu Sans Mono',consolas,'Courier New',monospace\">Epoch 0259|Val loss 3.654782e-01|Train loss 3.434118e-01|LR 0.00060|\n",
       "</pre>\n"
      ],
      "text/plain": [
       "Epoch 0259|Val loss 3.654782e-01|Train loss 3.434118e-01|LR 0.00060|\n"
      ]
     },
     "metadata": {},
     "output_type": "display_data"
    },
    {
     "data": {
      "text/html": [
       "<pre style=\"white-space:pre;overflow-x:auto;line-height:normal;font-family:Menlo,'DejaVu Sans Mono',consolas,'Courier New',monospace\">Epoch 0260|Val loss 3.414048e-01|Train loss 3.770836e-01|LR 0.00060|\n",
       "</pre>\n"
      ],
      "text/plain": [
       "Epoch 0260|Val loss 3.414048e-01|Train loss 3.770836e-01|LR 0.00060|\n"
      ]
     },
     "metadata": {},
     "output_type": "display_data"
    },
    {
     "data": {
      "text/html": [
       "<pre style=\"white-space:pre;overflow-x:auto;line-height:normal;font-family:Menlo,'DejaVu Sans Mono',consolas,'Courier New',monospace\">EarlyStopping counter: 3 out of 20\n",
       "</pre>\n"
      ],
      "text/plain": [
       "EarlyStopping counter: 3 out of 20\n"
      ]
     },
     "metadata": {},
     "output_type": "display_data"
    },
    {
     "data": {
      "text/html": [
       "<pre style=\"white-space:pre;overflow-x:auto;line-height:normal;font-family:Menlo,'DejaVu Sans Mono',consolas,'Courier New',monospace\">Epoch 0261|Val loss 3.863811e-01|Train loss 1.893083e-01|LR 0.00060|\n",
       "</pre>\n"
      ],
      "text/plain": [
       "Epoch 0261|Val loss 3.863811e-01|Train loss 1.893083e-01|LR 0.00060|\n"
      ]
     },
     "metadata": {},
     "output_type": "display_data"
    },
    {
     "data": {
      "text/html": [
       "<pre style=\"white-space:pre;overflow-x:auto;line-height:normal;font-family:Menlo,'DejaVu Sans Mono',consolas,'Courier New',monospace\">Epoch 0262|Val loss 2.168280e-01|Train loss 3.002022e-01|LR 0.00060|\n",
       "</pre>\n"
      ],
      "text/plain": [
       "Epoch 0262|Val loss 2.168280e-01|Train loss 3.002022e-01|LR 0.00060|\n"
      ]
     },
     "metadata": {},
     "output_type": "display_data"
    },
    {
     "data": {
      "text/html": [
       "<pre style=\"white-space:pre;overflow-x:auto;line-height:normal;font-family:Menlo,'DejaVu Sans Mono',consolas,'Courier New',monospace\">Epoch 0263|Val loss 2.120949e-01|Train loss 2.404884e-01|LR 0.00060|\n",
       "</pre>\n"
      ],
      "text/plain": [
       "Epoch 0263|Val loss 2.120949e-01|Train loss 2.404884e-01|LR 0.00060|\n"
      ]
     },
     "metadata": {},
     "output_type": "display_data"
    },
    {
     "data": {
      "text/html": [
       "<pre style=\"white-space:pre;overflow-x:auto;line-height:normal;font-family:Menlo,'DejaVu Sans Mono',consolas,'Courier New',monospace\">Epoch 0264|Val loss 1.817877e-01|Train loss 1.536456e-01|LR 0.00036|\n",
       "</pre>\n"
      ],
      "text/plain": [
       "Epoch 0264|Val loss 1.817877e-01|Train loss 1.536456e-01|LR 0.00036|\n"
      ]
     },
     "metadata": {},
     "output_type": "display_data"
    },
    {
     "data": {
      "text/html": [
       "<pre style=\"white-space:pre;overflow-x:auto;line-height:normal;font-family:Menlo,'DejaVu Sans Mono',consolas,'Courier New',monospace\">Epoch 0265|Val loss 1.952973e-01|Train loss 1.427474e-01|LR 0.00036|\n",
       "</pre>\n"
      ],
      "text/plain": [
       "Epoch 0265|Val loss 1.952973e-01|Train loss 1.427474e-01|LR 0.00036|\n"
      ]
     },
     "metadata": {},
     "output_type": "display_data"
    },
    {
     "data": {
      "text/html": [
       "<pre style=\"white-space:pre;overflow-x:auto;line-height:normal;font-family:Menlo,'DejaVu Sans Mono',consolas,'Courier New',monospace\">Epoch 0266|Val loss 1.954052e-01|Train loss 1.238026e-01|LR 0.00036|\n",
       "</pre>\n"
      ],
      "text/plain": [
       "Epoch 0266|Val loss 1.954052e-01|Train loss 1.238026e-01|LR 0.00036|\n"
      ]
     },
     "metadata": {},
     "output_type": "display_data"
    },
    {
     "data": {
      "text/html": [
       "<pre style=\"white-space:pre;overflow-x:auto;line-height:normal;font-family:Menlo,'DejaVu Sans Mono',consolas,'Courier New',monospace\">Epoch 0267|Val loss 1.579666e-01|Train loss 1.218282e-01|LR 0.00036|\n",
       "</pre>\n"
      ],
      "text/plain": [
       "Epoch 0267|Val loss 1.579666e-01|Train loss 1.218282e-01|LR 0.00036|\n"
      ]
     },
     "metadata": {},
     "output_type": "display_data"
    },
    {
     "data": {
      "text/html": [
       "<pre style=\"white-space:pre;overflow-x:auto;line-height:normal;font-family:Menlo,'DejaVu Sans Mono',consolas,'Courier New',monospace\">Epoch 0268|Val loss 1.729397e-01|Train loss 1.161629e-01|LR 0.00036|\n",
       "</pre>\n"
      ],
      "text/plain": [
       "Epoch 0268|Val loss 1.729397e-01|Train loss 1.161629e-01|LR 0.00036|\n"
      ]
     },
     "metadata": {},
     "output_type": "display_data"
    },
    {
     "data": {
      "text/html": [
       "<pre style=\"white-space:pre;overflow-x:auto;line-height:normal;font-family:Menlo,'DejaVu Sans Mono',consolas,'Courier New',monospace\">Epoch 0269|Val loss 1.798126e-01|Train loss 1.288987e-01|LR 0.00036|\n",
       "</pre>\n"
      ],
      "text/plain": [
       "Epoch 0269|Val loss 1.798126e-01|Train loss 1.288987e-01|LR 0.00036|\n"
      ]
     },
     "metadata": {},
     "output_type": "display_data"
    },
    {
     "data": {
      "text/html": [
       "<pre style=\"white-space:pre;overflow-x:auto;line-height:normal;font-family:Menlo,'DejaVu Sans Mono',consolas,'Courier New',monospace\">Epoch 0270|Val loss 2.105105e-01|Train loss 1.237046e-01|LR 0.00036|\n",
       "</pre>\n"
      ],
      "text/plain": [
       "Epoch 0270|Val loss 2.105105e-01|Train loss 1.237046e-01|LR 0.00036|\n"
      ]
     },
     "metadata": {},
     "output_type": "display_data"
    },
    {
     "data": {
      "text/html": [
       "<pre style=\"white-space:pre;overflow-x:auto;line-height:normal;font-family:Menlo,'DejaVu Sans Mono',consolas,'Courier New',monospace\">EarlyStopping counter: 4 out of 20\n",
       "</pre>\n"
      ],
      "text/plain": [
       "EarlyStopping counter: 4 out of 20\n"
      ]
     },
     "metadata": {},
     "output_type": "display_data"
    },
    {
     "data": {
      "text/html": [
       "<pre style=\"white-space:pre;overflow-x:auto;line-height:normal;font-family:Menlo,'DejaVu Sans Mono',consolas,'Courier New',monospace\">Epoch 0271|Val loss 2.040974e-01|Train loss 1.177366e-01|LR 0.00036|\n",
       "</pre>\n"
      ],
      "text/plain": [
       "Epoch 0271|Val loss 2.040974e-01|Train loss 1.177366e-01|LR 0.00036|\n"
      ]
     },
     "metadata": {},
     "output_type": "display_data"
    },
    {
     "data": {
      "text/html": [
       "<pre style=\"white-space:pre;overflow-x:auto;line-height:normal;font-family:Menlo,'DejaVu Sans Mono',consolas,'Courier New',monospace\">Epoch 0272|Val loss 1.641104e-01|Train loss 1.439428e-01|LR 0.00036|\n",
       "</pre>\n"
      ],
      "text/plain": [
       "Epoch 0272|Val loss 1.641104e-01|Train loss 1.439428e-01|LR 0.00036|\n"
      ]
     },
     "metadata": {},
     "output_type": "display_data"
    },
    {
     "data": {
      "text/html": [
       "<pre style=\"white-space:pre;overflow-x:auto;line-height:normal;font-family:Menlo,'DejaVu Sans Mono',consolas,'Courier New',monospace\">Epoch 0273|Val loss 1.606872e-01|Train loss 1.265978e-01|LR 0.00036|\n",
       "</pre>\n"
      ],
      "text/plain": [
       "Epoch 0273|Val loss 1.606872e-01|Train loss 1.265978e-01|LR 0.00036|\n"
      ]
     },
     "metadata": {},
     "output_type": "display_data"
    },
    {
     "data": {
      "text/html": [
       "<pre style=\"white-space:pre;overflow-x:auto;line-height:normal;font-family:Menlo,'DejaVu Sans Mono',consolas,'Courier New',monospace\">Epoch 0274|Val loss 1.773660e-01|Train loss 1.254407e-01|LR 0.00036|\n",
       "</pre>\n"
      ],
      "text/plain": [
       "Epoch 0274|Val loss 1.773660e-01|Train loss 1.254407e-01|LR 0.00036|\n"
      ]
     },
     "metadata": {},
     "output_type": "display_data"
    },
    {
     "data": {
      "text/html": [
       "<pre style=\"white-space:pre;overflow-x:auto;line-height:normal;font-family:Menlo,'DejaVu Sans Mono',consolas,'Courier New',monospace\">Epoch 0275|Val loss 2.167790e-01|Train loss 1.192702e-01|LR 0.00036|\n",
       "</pre>\n"
      ],
      "text/plain": [
       "Epoch 0275|Val loss 2.167790e-01|Train loss 1.192702e-01|LR 0.00036|\n"
      ]
     },
     "metadata": {},
     "output_type": "display_data"
    },
    {
     "data": {
      "text/html": [
       "<pre style=\"white-space:pre;overflow-x:auto;line-height:normal;font-family:Menlo,'DejaVu Sans Mono',consolas,'Courier New',monospace\">Epoch 0276|Val loss 1.876761e-01|Train loss 1.221239e-01|LR 0.00036|\n",
       "</pre>\n"
      ],
      "text/plain": [
       "Epoch 0276|Val loss 1.876761e-01|Train loss 1.221239e-01|LR 0.00036|\n"
      ]
     },
     "metadata": {},
     "output_type": "display_data"
    },
    {
     "data": {
      "text/html": [
       "<pre style=\"white-space:pre;overflow-x:auto;line-height:normal;font-family:Menlo,'DejaVu Sans Mono',consolas,'Courier New',monospace\">Epoch 0277|Val loss 1.633754e-01|Train loss 1.453731e-01|LR 0.00036|\n",
       "</pre>\n"
      ],
      "text/plain": [
       "Epoch 0277|Val loss 1.633754e-01|Train loss 1.453731e-01|LR 0.00036|\n"
      ]
     },
     "metadata": {},
     "output_type": "display_data"
    },
    {
     "data": {
      "text/html": [
       "<pre style=\"white-space:pre;overflow-x:auto;line-height:normal;font-family:Menlo,'DejaVu Sans Mono',consolas,'Courier New',monospace\">Epoch 0278|Val loss 1.533498e-01|Train loss 1.200783e-01|LR 0.00036|\n",
       "</pre>\n"
      ],
      "text/plain": [
       "Epoch 0278|Val loss 1.533498e-01|Train loss 1.200783e-01|LR 0.00036|\n"
      ]
     },
     "metadata": {},
     "output_type": "display_data"
    },
    {
     "data": {
      "text/html": [
       "<pre style=\"white-space:pre;overflow-x:auto;line-height:normal;font-family:Menlo,'DejaVu Sans Mono',consolas,'Courier New',monospace\">Epoch 0279|Val loss 2.039354e-01|Train loss 1.265024e-01|LR 0.00036|\n",
       "</pre>\n"
      ],
      "text/plain": [
       "Epoch 0279|Val loss 2.039354e-01|Train loss 1.265024e-01|LR 0.00036|\n"
      ]
     },
     "metadata": {},
     "output_type": "display_data"
    },
    {
     "data": {
      "text/html": [
       "<pre style=\"white-space:pre;overflow-x:auto;line-height:normal;font-family:Menlo,'DejaVu Sans Mono',consolas,'Courier New',monospace\">Epoch 0280|Val loss 1.815236e-01|Train loss 1.191648e-01|LR 0.00036|\n",
       "</pre>\n"
      ],
      "text/plain": [
       "Epoch 0280|Val loss 1.815236e-01|Train loss 1.191648e-01|LR 0.00036|\n"
      ]
     },
     "metadata": {},
     "output_type": "display_data"
    },
    {
     "data": {
      "text/html": [
       "<pre style=\"white-space:pre;overflow-x:auto;line-height:normal;font-family:Menlo,'DejaVu Sans Mono',consolas,'Courier New',monospace\">EarlyStopping counter: 5 out of 20\n",
       "</pre>\n"
      ],
      "text/plain": [
       "EarlyStopping counter: 5 out of 20\n"
      ]
     },
     "metadata": {},
     "output_type": "display_data"
    },
    {
     "data": {
      "text/html": [
       "<pre style=\"white-space:pre;overflow-x:auto;line-height:normal;font-family:Menlo,'DejaVu Sans Mono',consolas,'Courier New',monospace\">Epoch 0281|Val loss 1.989908e-01|Train loss 1.144968e-01|LR 0.00036|\n",
       "</pre>\n"
      ],
      "text/plain": [
       "Epoch 0281|Val loss 1.989908e-01|Train loss 1.144968e-01|LR 0.00036|\n"
      ]
     },
     "metadata": {},
     "output_type": "display_data"
    },
    {
     "data": {
      "text/html": [
       "<pre style=\"white-space:pre;overflow-x:auto;line-height:normal;font-family:Menlo,'DejaVu Sans Mono',consolas,'Courier New',monospace\">Epoch 0282|Val loss 1.934527e-01|Train loss 1.136602e-01|LR 0.00036|\n",
       "</pre>\n"
      ],
      "text/plain": [
       "Epoch 0282|Val loss 1.934527e-01|Train loss 1.136602e-01|LR 0.00036|\n"
      ]
     },
     "metadata": {},
     "output_type": "display_data"
    },
    {
     "data": {
      "text/html": [
       "<pre style=\"white-space:pre;overflow-x:auto;line-height:normal;font-family:Menlo,'DejaVu Sans Mono',consolas,'Courier New',monospace\">Epoch 0283|Val loss 2.136320e-01|Train loss 1.237125e-01|LR 0.00036|\n",
       "</pre>\n"
      ],
      "text/plain": [
       "Epoch 0283|Val loss 2.136320e-01|Train loss 1.237125e-01|LR 0.00036|\n"
      ]
     },
     "metadata": {},
     "output_type": "display_data"
    },
    {
     "data": {
      "text/html": [
       "<pre style=\"white-space:pre;overflow-x:auto;line-height:normal;font-family:Menlo,'DejaVu Sans Mono',consolas,'Courier New',monospace\">Epoch 0284|Val loss 1.258127e-01|Train loss 1.623759e-01|LR 0.00036|\n",
       "</pre>\n"
      ],
      "text/plain": [
       "Epoch 0284|Val loss 1.258127e-01|Train loss 1.623759e-01|LR 0.00036|\n"
      ]
     },
     "metadata": {},
     "output_type": "display_data"
    },
    {
     "data": {
      "text/html": [
       "<pre style=\"white-space:pre;overflow-x:auto;line-height:normal;font-family:Menlo,'DejaVu Sans Mono',consolas,'Courier New',monospace\">Epoch 0285|Val loss 2.007343e-01|Train loss 1.404505e-01|LR 0.00036|\n",
       "</pre>\n"
      ],
      "text/plain": [
       "Epoch 0285|Val loss 2.007343e-01|Train loss 1.404505e-01|LR 0.00036|\n"
      ]
     },
     "metadata": {},
     "output_type": "display_data"
    },
    {
     "data": {
      "text/html": [
       "<pre style=\"white-space:pre;overflow-x:auto;line-height:normal;font-family:Menlo,'DejaVu Sans Mono',consolas,'Courier New',monospace\">Epoch 0286|Val loss 2.003577e-01|Train loss 1.132573e-01|LR 0.00036|\n",
       "</pre>\n"
      ],
      "text/plain": [
       "Epoch 0286|Val loss 2.003577e-01|Train loss 1.132573e-01|LR 0.00036|\n"
      ]
     },
     "metadata": {},
     "output_type": "display_data"
    },
    {
     "data": {
      "text/html": [
       "<pre style=\"white-space:pre;overflow-x:auto;line-height:normal;font-family:Menlo,'DejaVu Sans Mono',consolas,'Courier New',monospace\">Epoch 0287|Val loss 1.914356e-01|Train loss 1.117717e-01|LR 0.00036|\n",
       "</pre>\n"
      ],
      "text/plain": [
       "Epoch 0287|Val loss 1.914356e-01|Train loss 1.117717e-01|LR 0.00036|\n"
      ]
     },
     "metadata": {},
     "output_type": "display_data"
    },
    {
     "data": {
      "text/html": [
       "<pre style=\"white-space:pre;overflow-x:auto;line-height:normal;font-family:Menlo,'DejaVu Sans Mono',consolas,'Courier New',monospace\">Epoch 0288|Val loss 1.633478e-01|Train loss 1.383732e-01|LR 0.00036|\n",
       "</pre>\n"
      ],
      "text/plain": [
       "Epoch 0288|Val loss 1.633478e-01|Train loss 1.383732e-01|LR 0.00036|\n"
      ]
     },
     "metadata": {},
     "output_type": "display_data"
    },
    {
     "data": {
      "text/html": [
       "<pre style=\"white-space:pre;overflow-x:auto;line-height:normal;font-family:Menlo,'DejaVu Sans Mono',consolas,'Courier New',monospace\">Epoch 0289|Val loss 1.407856e-01|Train loss 1.148931e-01|LR 0.00036|\n",
       "</pre>\n"
      ],
      "text/plain": [
       "Epoch 0289|Val loss 1.407856e-01|Train loss 1.148931e-01|LR 0.00036|\n"
      ]
     },
     "metadata": {},
     "output_type": "display_data"
    },
    {
     "data": {
      "text/html": [
       "<pre style=\"white-space:pre;overflow-x:auto;line-height:normal;font-family:Menlo,'DejaVu Sans Mono',consolas,'Courier New',monospace\">Epoch 0290|Val loss 1.593840e-01|Train loss 1.220053e-01|LR 0.00036|\n",
       "</pre>\n"
      ],
      "text/plain": [
       "Epoch 0290|Val loss 1.593840e-01|Train loss 1.220053e-01|LR 0.00036|\n"
      ]
     },
     "metadata": {},
     "output_type": "display_data"
    },
    {
     "data": {
      "text/html": [
       "<pre style=\"white-space:pre;overflow-x:auto;line-height:normal;font-family:Menlo,'DejaVu Sans Mono',consolas,'Courier New',monospace\">EarlyStopping counter: 6 out of 20\n",
       "</pre>\n"
      ],
      "text/plain": [
       "EarlyStopping counter: 6 out of 20\n"
      ]
     },
     "metadata": {},
     "output_type": "display_data"
    },
    {
     "data": {
      "text/html": [
       "<pre style=\"white-space:pre;overflow-x:auto;line-height:normal;font-family:Menlo,'DejaVu Sans Mono',consolas,'Courier New',monospace\">Epoch 0291|Val loss 2.808033e-01|Train loss 1.635235e-01|LR 0.00036|\n",
       "</pre>\n"
      ],
      "text/plain": [
       "Epoch 0291|Val loss 2.808033e-01|Train loss 1.635235e-01|LR 0.00036|\n"
      ]
     },
     "metadata": {},
     "output_type": "display_data"
    },
    {
     "data": {
      "text/html": [
       "<pre style=\"white-space:pre;overflow-x:auto;line-height:normal;font-family:Menlo,'DejaVu Sans Mono',consolas,'Courier New',monospace\">Epoch 0292|Val loss 1.484749e-01|Train loss 1.753117e-01|LR 0.00036|\n",
       "</pre>\n"
      ],
      "text/plain": [
       "Epoch 0292|Val loss 1.484749e-01|Train loss 1.753117e-01|LR 0.00036|\n"
      ]
     },
     "metadata": {},
     "output_type": "display_data"
    },
    {
     "data": {
      "text/html": [
       "<pre style=\"white-space:pre;overflow-x:auto;line-height:normal;font-family:Menlo,'DejaVu Sans Mono',consolas,'Courier New',monospace\">Epoch 0293|Val loss 1.653664e-01|Train loss 1.249689e-01|LR 0.00036|\n",
       "</pre>\n"
      ],
      "text/plain": [
       "Epoch 0293|Val loss 1.653664e-01|Train loss 1.249689e-01|LR 0.00036|\n"
      ]
     },
     "metadata": {},
     "output_type": "display_data"
    },
    {
     "data": {
      "text/html": [
       "<pre style=\"white-space:pre;overflow-x:auto;line-height:normal;font-family:Menlo,'DejaVu Sans Mono',consolas,'Courier New',monospace\">Epoch 0294|Val loss 2.287630e-01|Train loss 1.288392e-01|LR 0.00036|\n",
       "</pre>\n"
      ],
      "text/plain": [
       "Epoch 0294|Val loss 2.287630e-01|Train loss 1.288392e-01|LR 0.00036|\n"
      ]
     },
     "metadata": {},
     "output_type": "display_data"
    },
    {
     "data": {
      "text/html": [
       "<pre style=\"white-space:pre;overflow-x:auto;line-height:normal;font-family:Menlo,'DejaVu Sans Mono',consolas,'Courier New',monospace\">Epoch 0295|Val loss 1.651393e-01|Train loss 1.290831e-01|LR 0.00036|\n",
       "</pre>\n"
      ],
      "text/plain": [
       "Epoch 0295|Val loss 1.651393e-01|Train loss 1.290831e-01|LR 0.00036|\n"
      ]
     },
     "metadata": {},
     "output_type": "display_data"
    },
    {
     "data": {
      "text/html": [
       "<pre style=\"white-space:pre;overflow-x:auto;line-height:normal;font-family:Menlo,'DejaVu Sans Mono',consolas,'Courier New',monospace\">Epoch 0296|Val loss 1.370627e-01|Train loss 1.167391e-01|LR 0.00036|\n",
       "</pre>\n"
      ],
      "text/plain": [
       "Epoch 0296|Val loss 1.370627e-01|Train loss 1.167391e-01|LR 0.00036|\n"
      ]
     },
     "metadata": {},
     "output_type": "display_data"
    },
    {
     "data": {
      "text/html": [
       "<pre style=\"white-space:pre;overflow-x:auto;line-height:normal;font-family:Menlo,'DejaVu Sans Mono',consolas,'Courier New',monospace\">Epoch 0297|Val loss 1.918539e-01|Train loss 1.239695e-01|LR 0.00036|\n",
       "</pre>\n"
      ],
      "text/plain": [
       "Epoch 0297|Val loss 1.918539e-01|Train loss 1.239695e-01|LR 0.00036|\n"
      ]
     },
     "metadata": {},
     "output_type": "display_data"
    },
    {
     "data": {
      "text/html": [
       "<pre style=\"white-space:pre;overflow-x:auto;line-height:normal;font-family:Menlo,'DejaVu Sans Mono',consolas,'Courier New',monospace\">Epoch 0298|Val loss 2.015859e-01|Train loss 1.214864e-01|LR 0.00036|\n",
       "</pre>\n"
      ],
      "text/plain": [
       "Epoch 0298|Val loss 2.015859e-01|Train loss 1.214864e-01|LR 0.00036|\n"
      ]
     },
     "metadata": {},
     "output_type": "display_data"
    },
    {
     "data": {
      "text/html": [
       "<pre style=\"white-space:pre;overflow-x:auto;line-height:normal;font-family:Menlo,'DejaVu Sans Mono',consolas,'Courier New',monospace\">Epoch 0299|Val loss 2.027120e-01|Train loss 1.197755e-01|LR 0.00036|\n",
       "</pre>\n"
      ],
      "text/plain": [
       "Epoch 0299|Val loss 2.027120e-01|Train loss 1.197755e-01|LR 0.00036|\n"
      ]
     },
     "metadata": {},
     "output_type": "display_data"
    },
    {
     "data": {
      "text/html": [
       "<pre style=\"white-space:pre;overflow-x:auto;line-height:normal;font-family:Menlo,'DejaVu Sans Mono',consolas,'Courier New',monospace\">Epoch 0300|Val loss 1.377347e-01|Train loss 1.445770e-01|LR 0.00036|\n",
       "</pre>\n"
      ],
      "text/plain": [
       "Epoch 0300|Val loss 1.377347e-01|Train loss 1.445770e-01|LR 0.00036|\n"
      ]
     },
     "metadata": {},
     "output_type": "display_data"
    },
    {
     "data": {
      "text/html": [
       "<pre style=\"white-space:pre;overflow-x:auto;line-height:normal;font-family:Menlo,'DejaVu Sans Mono',consolas,'Courier New',monospace\">EarlyStopping counter: 7 out of 20\n",
       "</pre>\n"
      ],
      "text/plain": [
       "EarlyStopping counter: 7 out of 20\n"
      ]
     },
     "metadata": {},
     "output_type": "display_data"
    },
    {
     "data": {
      "text/html": [
       "<pre style=\"white-space:pre;overflow-x:auto;line-height:normal;font-family:Menlo,'DejaVu Sans Mono',consolas,'Courier New',monospace\">Epoch 0301|Val loss 1.554954e-01|Train loss 1.293981e-01|LR 0.00036|\n",
       "</pre>\n"
      ],
      "text/plain": [
       "Epoch 0301|Val loss 1.554954e-01|Train loss 1.293981e-01|LR 0.00036|\n"
      ]
     },
     "metadata": {},
     "output_type": "display_data"
    },
    {
     "data": {
      "text/html": [
       "<pre style=\"white-space:pre;overflow-x:auto;line-height:normal;font-family:Menlo,'DejaVu Sans Mono',consolas,'Courier New',monospace\">Epoch 0302|Val loss 2.466899e-01|Train loss 1.490755e-01|LR 0.00036|\n",
       "</pre>\n"
      ],
      "text/plain": [
       "Epoch 0302|Val loss 2.466899e-01|Train loss 1.490755e-01|LR 0.00036|\n"
      ]
     },
     "metadata": {},
     "output_type": "display_data"
    },
    {
     "data": {
      "text/html": [
       "<pre style=\"white-space:pre;overflow-x:auto;line-height:normal;font-family:Menlo,'DejaVu Sans Mono',consolas,'Courier New',monospace\">Epoch 0303|Val loss 1.752037e-01|Train loss 1.335994e-01|LR 0.00036|\n",
       "</pre>\n"
      ],
      "text/plain": [
       "Epoch 0303|Val loss 1.752037e-01|Train loss 1.335994e-01|LR 0.00036|\n"
      ]
     },
     "metadata": {},
     "output_type": "display_data"
    },
    {
     "data": {
      "text/html": [
       "<pre style=\"white-space:pre;overflow-x:auto;line-height:normal;font-family:Menlo,'DejaVu Sans Mono',consolas,'Courier New',monospace\">Epoch 0304|Val loss 1.378015e-01|Train loss 1.189221e-01|LR 0.00036|\n",
       "</pre>\n"
      ],
      "text/plain": [
       "Epoch 0304|Val loss 1.378015e-01|Train loss 1.189221e-01|LR 0.00036|\n"
      ]
     },
     "metadata": {},
     "output_type": "display_data"
    },
    {
     "data": {
      "text/html": [
       "<pre style=\"white-space:pre;overflow-x:auto;line-height:normal;font-family:Menlo,'DejaVu Sans Mono',consolas,'Courier New',monospace\">Epoch 0305|Val loss 1.637170e-01|Train loss 1.135181e-01|LR 0.00036|\n",
       "</pre>\n"
      ],
      "text/plain": [
       "Epoch 0305|Val loss 1.637170e-01|Train loss 1.135181e-01|LR 0.00036|\n"
      ]
     },
     "metadata": {},
     "output_type": "display_data"
    },
    {
     "data": {
      "text/html": [
       "<pre style=\"white-space:pre;overflow-x:auto;line-height:normal;font-family:Menlo,'DejaVu Sans Mono',consolas,'Courier New',monospace\">Epoch 0306|Val loss 1.961713e-01|Train loss 1.265703e-01|LR 0.00036|\n",
       "</pre>\n"
      ],
      "text/plain": [
       "Epoch 0306|Val loss 1.961713e-01|Train loss 1.265703e-01|LR 0.00036|\n"
      ]
     },
     "metadata": {},
     "output_type": "display_data"
    },
    {
     "data": {
      "text/html": [
       "<pre style=\"white-space:pre;overflow-x:auto;line-height:normal;font-family:Menlo,'DejaVu Sans Mono',consolas,'Courier New',monospace\">Epoch 0307|Val loss 2.060595e-01|Train loss 1.125668e-01|LR 0.00036|\n",
       "</pre>\n"
      ],
      "text/plain": [
       "Epoch 0307|Val loss 2.060595e-01|Train loss 1.125668e-01|LR 0.00036|\n"
      ]
     },
     "metadata": {},
     "output_type": "display_data"
    },
    {
     "data": {
      "text/html": [
       "<pre style=\"white-space:pre;overflow-x:auto;line-height:normal;font-family:Menlo,'DejaVu Sans Mono',consolas,'Courier New',monospace\">Epoch 0308|Val loss 1.894135e-01|Train loss 1.416328e-01|LR 0.00036|\n",
       "</pre>\n"
      ],
      "text/plain": [
       "Epoch 0308|Val loss 1.894135e-01|Train loss 1.416328e-01|LR 0.00036|\n"
      ]
     },
     "metadata": {},
     "output_type": "display_data"
    },
    {
     "data": {
      "text/html": [
       "<pre style=\"white-space:pre;overflow-x:auto;line-height:normal;font-family:Menlo,'DejaVu Sans Mono',consolas,'Courier New',monospace\">Epoch 0309|Val loss 1.328423e-01|Train loss 1.267828e-01|LR 0.00036|\n",
       "</pre>\n"
      ],
      "text/plain": [
       "Epoch 0309|Val loss 1.328423e-01|Train loss 1.267828e-01|LR 0.00036|\n"
      ]
     },
     "metadata": {},
     "output_type": "display_data"
    },
    {
     "data": {
      "text/html": [
       "<pre style=\"white-space:pre;overflow-x:auto;line-height:normal;font-family:Menlo,'DejaVu Sans Mono',consolas,'Courier New',monospace\">Epoch 0310|Val loss 1.327838e-01|Train loss 1.152379e-01|LR 0.00036|\n",
       "</pre>\n"
      ],
      "text/plain": [
       "Epoch 0310|Val loss 1.327838e-01|Train loss 1.152379e-01|LR 0.00036|\n"
      ]
     },
     "metadata": {},
     "output_type": "display_data"
    },
    {
     "data": {
      "text/html": [
       "<pre style=\"white-space:pre;overflow-x:auto;line-height:normal;font-family:Menlo,'DejaVu Sans Mono',consolas,'Courier New',monospace\">EarlyStopping counter: 8 out of 20\n",
       "</pre>\n"
      ],
      "text/plain": [
       "EarlyStopping counter: 8 out of 20\n"
      ]
     },
     "metadata": {},
     "output_type": "display_data"
    },
    {
     "data": {
      "text/html": [
       "<pre style=\"white-space:pre;overflow-x:auto;line-height:normal;font-family:Menlo,'DejaVu Sans Mono',consolas,'Courier New',monospace\">Epoch 0311|Val loss 2.920323e-01|Train loss 1.760996e-01|LR 0.00036|\n",
       "</pre>\n"
      ],
      "text/plain": [
       "Epoch 0311|Val loss 2.920323e-01|Train loss 1.760996e-01|LR 0.00036|\n"
      ]
     },
     "metadata": {},
     "output_type": "display_data"
    },
    {
     "data": {
      "text/html": [
       "<pre style=\"white-space:pre;overflow-x:auto;line-height:normal;font-family:Menlo,'DejaVu Sans Mono',consolas,'Courier New',monospace\">Epoch 0312|Val loss 2.781646e-01|Train loss 1.789161e-01|LR 0.00036|\n",
       "</pre>\n"
      ],
      "text/plain": [
       "Epoch 0312|Val loss 2.781646e-01|Train loss 1.789161e-01|LR 0.00036|\n"
      ]
     },
     "metadata": {},
     "output_type": "display_data"
    },
    {
     "data": {
      "text/html": [
       "<pre style=\"white-space:pre;overflow-x:auto;line-height:normal;font-family:Menlo,'DejaVu Sans Mono',consolas,'Courier New',monospace\">Epoch 0313|Val loss 1.596393e-01|Train loss 1.967376e-01|LR 0.00036|\n",
       "</pre>\n"
      ],
      "text/plain": [
       "Epoch 0313|Val loss 1.596393e-01|Train loss 1.967376e-01|LR 0.00036|\n"
      ]
     },
     "metadata": {},
     "output_type": "display_data"
    },
    {
     "data": {
      "text/html": [
       "<pre style=\"white-space:pre;overflow-x:auto;line-height:normal;font-family:Menlo,'DejaVu Sans Mono',consolas,'Courier New',monospace\">Epoch 0314|Val loss 2.164653e-01|Train loss 1.805110e-01|LR 0.00036|\n",
       "</pre>\n"
      ],
      "text/plain": [
       "Epoch 0314|Val loss 2.164653e-01|Train loss 1.805110e-01|LR 0.00036|\n"
      ]
     },
     "metadata": {},
     "output_type": "display_data"
    },
    {
     "data": {
      "text/html": [
       "<pre style=\"white-space:pre;overflow-x:auto;line-height:normal;font-family:Menlo,'DejaVu Sans Mono',consolas,'Courier New',monospace\">Epoch 0315|Val loss 2.069229e-01|Train loss 1.391065e-01|LR 0.00036|\n",
       "</pre>\n"
      ],
      "text/plain": [
       "Epoch 0315|Val loss 2.069229e-01|Train loss 1.391065e-01|LR 0.00036|\n"
      ]
     },
     "metadata": {},
     "output_type": "display_data"
    },
    {
     "data": {
      "text/html": [
       "<pre style=\"white-space:pre;overflow-x:auto;line-height:normal;font-family:Menlo,'DejaVu Sans Mono',consolas,'Courier New',monospace\">Epoch 0316|Val loss 1.455561e-01|Train loss 1.573356e-01|LR 0.00036|\n",
       "</pre>\n"
      ],
      "text/plain": [
       "Epoch 0316|Val loss 1.455561e-01|Train loss 1.573356e-01|LR 0.00036|\n"
      ]
     },
     "metadata": {},
     "output_type": "display_data"
    },
    {
     "data": {
      "text/html": [
       "<pre style=\"white-space:pre;overflow-x:auto;line-height:normal;font-family:Menlo,'DejaVu Sans Mono',consolas,'Courier New',monospace\">Epoch 0317|Val loss 1.584358e-01|Train loss 1.188929e-01|LR 0.00036|\n",
       "</pre>\n"
      ],
      "text/plain": [
       "Epoch 0317|Val loss 1.584358e-01|Train loss 1.188929e-01|LR 0.00036|\n"
      ]
     },
     "metadata": {},
     "output_type": "display_data"
    },
    {
     "data": {
      "text/html": [
       "<pre style=\"white-space:pre;overflow-x:auto;line-height:normal;font-family:Menlo,'DejaVu Sans Mono',consolas,'Courier New',monospace\">Epoch 0318|Val loss 2.211104e-01|Train loss 1.225365e-01|LR 0.00036|\n",
       "</pre>\n"
      ],
      "text/plain": [
       "Epoch 0318|Val loss 2.211104e-01|Train loss 1.225365e-01|LR 0.00036|\n"
      ]
     },
     "metadata": {},
     "output_type": "display_data"
    },
    {
     "data": {
      "text/html": [
       "<pre style=\"white-space:pre;overflow-x:auto;line-height:normal;font-family:Menlo,'DejaVu Sans Mono',consolas,'Courier New',monospace\">Epoch 0319|Val loss 1.687234e-01|Train loss 1.159995e-01|LR 0.00036|\n",
       "</pre>\n"
      ],
      "text/plain": [
       "Epoch 0319|Val loss 1.687234e-01|Train loss 1.159995e-01|LR 0.00036|\n"
      ]
     },
     "metadata": {},
     "output_type": "display_data"
    },
    {
     "data": {
      "text/html": [
       "<pre style=\"white-space:pre;overflow-x:auto;line-height:normal;font-family:Menlo,'DejaVu Sans Mono',consolas,'Courier New',monospace\">Epoch 0320|Val loss 1.432055e-01|Train loss 1.156827e-01|LR 0.00036|\n",
       "</pre>\n"
      ],
      "text/plain": [
       "Epoch 0320|Val loss 1.432055e-01|Train loss 1.156827e-01|LR 0.00036|\n"
      ]
     },
     "metadata": {},
     "output_type": "display_data"
    },
    {
     "data": {
      "text/html": [
       "<pre style=\"white-space:pre;overflow-x:auto;line-height:normal;font-family:Menlo,'DejaVu Sans Mono',consolas,'Courier New',monospace\">EarlyStopping counter: 9 out of 20\n",
       "</pre>\n"
      ],
      "text/plain": [
       "EarlyStopping counter: 9 out of 20\n"
      ]
     },
     "metadata": {},
     "output_type": "display_data"
    },
    {
     "data": {
      "text/html": [
       "<pre style=\"white-space:pre;overflow-x:auto;line-height:normal;font-family:Menlo,'DejaVu Sans Mono',consolas,'Courier New',monospace\">Epoch 0321|Val loss 1.680672e-01|Train loss 1.109318e-01|LR 0.00036|\n",
       "</pre>\n"
      ],
      "text/plain": [
       "Epoch 0321|Val loss 1.680672e-01|Train loss 1.109318e-01|LR 0.00036|\n"
      ]
     },
     "metadata": {},
     "output_type": "display_data"
    },
    {
     "data": {
      "text/html": [
       "<pre style=\"white-space:pre;overflow-x:auto;line-height:normal;font-family:Menlo,'DejaVu Sans Mono',consolas,'Courier New',monospace\">Epoch 0322|Val loss 1.826425e-01|Train loss 1.211052e-01|LR 0.00036|\n",
       "</pre>\n"
      ],
      "text/plain": [
       "Epoch 0322|Val loss 1.826425e-01|Train loss 1.211052e-01|LR 0.00036|\n"
      ]
     },
     "metadata": {},
     "output_type": "display_data"
    },
    {
     "data": {
      "text/html": [
       "<pre style=\"white-space:pre;overflow-x:auto;line-height:normal;font-family:Menlo,'DejaVu Sans Mono',consolas,'Courier New',monospace\">Epoch 0323|Val loss 2.227751e-01|Train loss 1.150436e-01|LR 0.00036|\n",
       "</pre>\n"
      ],
      "text/plain": [
       "Epoch 0323|Val loss 2.227751e-01|Train loss 1.150436e-01|LR 0.00036|\n"
      ]
     },
     "metadata": {},
     "output_type": "display_data"
    },
    {
     "data": {
      "text/html": [
       "<pre style=\"white-space:pre;overflow-x:auto;line-height:normal;font-family:Menlo,'DejaVu Sans Mono',consolas,'Courier New',monospace\">Epoch 0324|Val loss 1.371332e-01|Train loss 1.476817e-01|LR 0.00036|\n",
       "</pre>\n"
      ],
      "text/plain": [
       "Epoch 0324|Val loss 1.371332e-01|Train loss 1.476817e-01|LR 0.00036|\n"
      ]
     },
     "metadata": {},
     "output_type": "display_data"
    },
    {
     "data": {
      "text/html": [
       "<pre style=\"white-space:pre;overflow-x:auto;line-height:normal;font-family:Menlo,'DejaVu Sans Mono',consolas,'Courier New',monospace\">Epoch 0325|Val loss 1.539475e-01|Train loss 1.154962e-01|LR 0.00036|\n",
       "</pre>\n"
      ],
      "text/plain": [
       "Epoch 0325|Val loss 1.539475e-01|Train loss 1.154962e-01|LR 0.00036|\n"
      ]
     },
     "metadata": {},
     "output_type": "display_data"
    },
    {
     "data": {
      "text/html": [
       "<pre style=\"white-space:pre;overflow-x:auto;line-height:normal;font-family:Menlo,'DejaVu Sans Mono',consolas,'Courier New',monospace\">Epoch 0326|Val loss 2.393632e-01|Train loss 1.227531e-01|LR 0.00022|\n",
       "</pre>\n"
      ],
      "text/plain": [
       "Epoch 0326|Val loss 2.393632e-01|Train loss 1.227531e-01|LR 0.00022|\n"
      ]
     },
     "metadata": {},
     "output_type": "display_data"
    },
    {
     "data": {
      "text/html": [
       "<pre style=\"white-space:pre;overflow-x:auto;line-height:normal;font-family:Menlo,'DejaVu Sans Mono',consolas,'Courier New',monospace\">Epoch 0327|Val loss 1.568977e-01|Train loss 1.472405e-01|LR 0.00022|\n",
       "</pre>\n"
      ],
      "text/plain": [
       "Epoch 0327|Val loss 1.568977e-01|Train loss 1.472405e-01|LR 0.00022|\n"
      ]
     },
     "metadata": {},
     "output_type": "display_data"
    },
    {
     "data": {
      "text/html": [
       "<pre style=\"white-space:pre;overflow-x:auto;line-height:normal;font-family:Menlo,'DejaVu Sans Mono',consolas,'Courier New',monospace\">Epoch 0328|Val loss 3.411756e-01|Train loss 1.756962e-01|LR 0.00022|\n",
       "</pre>\n"
      ],
      "text/plain": [
       "Epoch 0328|Val loss 3.411756e-01|Train loss 1.756962e-01|LR 0.00022|\n"
      ]
     },
     "metadata": {},
     "output_type": "display_data"
    },
    {
     "data": {
      "text/html": [
       "<pre style=\"white-space:pre;overflow-x:auto;line-height:normal;font-family:Menlo,'DejaVu Sans Mono',consolas,'Courier New',monospace\">Epoch 0329|Val loss 1.478895e-01|Train loss 2.043160e-01|LR 0.00022|\n",
       "</pre>\n"
      ],
      "text/plain": [
       "Epoch 0329|Val loss 1.478895e-01|Train loss 2.043160e-01|LR 0.00022|\n"
      ]
     },
     "metadata": {},
     "output_type": "display_data"
    },
    {
     "data": {
      "text/html": [
       "<pre style=\"white-space:pre;overflow-x:auto;line-height:normal;font-family:Menlo,'DejaVu Sans Mono',consolas,'Courier New',monospace\">Epoch 0330|Val loss 2.842748e-01|Train loss 1.873653e-01|LR 0.00022|\n",
       "</pre>\n"
      ],
      "text/plain": [
       "Epoch 0330|Val loss 2.842748e-01|Train loss 1.873653e-01|LR 0.00022|\n"
      ]
     },
     "metadata": {},
     "output_type": "display_data"
    },
    {
     "data": {
      "text/html": [
       "<pre style=\"white-space:pre;overflow-x:auto;line-height:normal;font-family:Menlo,'DejaVu Sans Mono',consolas,'Courier New',monospace\">EarlyStopping counter: 10 out of 20\n",
       "</pre>\n"
      ],
      "text/plain": [
       "EarlyStopping counter: 10 out of 20\n"
      ]
     },
     "metadata": {},
     "output_type": "display_data"
    },
    {
     "data": {
      "text/html": [
       "<pre style=\"white-space:pre;overflow-x:auto;line-height:normal;font-family:Menlo,'DejaVu Sans Mono',consolas,'Courier New',monospace\">Epoch 0331|Val loss 1.502254e-01|Train loss 1.697793e-01|LR 0.00022|\n",
       "</pre>\n"
      ],
      "text/plain": [
       "Epoch 0331|Val loss 1.502254e-01|Train loss 1.697793e-01|LR 0.00022|\n"
      ]
     },
     "metadata": {},
     "output_type": "display_data"
    },
    {
     "data": {
      "text/html": [
       "<pre style=\"white-space:pre;overflow-x:auto;line-height:normal;font-family:Menlo,'DejaVu Sans Mono',consolas,'Courier New',monospace\">Epoch 0332|Val loss 2.995499e-01|Train loss 1.743984e-01|LR 0.00022|\n",
       "</pre>\n"
      ],
      "text/plain": [
       "Epoch 0332|Val loss 2.995499e-01|Train loss 1.743984e-01|LR 0.00022|\n"
      ]
     },
     "metadata": {},
     "output_type": "display_data"
    },
    {
     "data": {
      "text/html": [
       "<pre style=\"white-space:pre;overflow-x:auto;line-height:normal;font-family:Menlo,'DejaVu Sans Mono',consolas,'Courier New',monospace\">Epoch 0333|Val loss 1.324849e-01|Train loss 1.706263e-01|LR 0.00022|\n",
       "</pre>\n"
      ],
      "text/plain": [
       "Epoch 0333|Val loss 1.324849e-01|Train loss 1.706263e-01|LR 0.00022|\n"
      ]
     },
     "metadata": {},
     "output_type": "display_data"
    },
    {
     "data": {
      "text/html": [
       "<pre style=\"white-space:pre;overflow-x:auto;line-height:normal;font-family:Menlo,'DejaVu Sans Mono',consolas,'Courier New',monospace\">Epoch 0334|Val loss 2.279218e-01|Train loss 1.421191e-01|LR 0.00022|\n",
       "</pre>\n"
      ],
      "text/plain": [
       "Epoch 0334|Val loss 2.279218e-01|Train loss 1.421191e-01|LR 0.00022|\n"
      ]
     },
     "metadata": {},
     "output_type": "display_data"
    },
    {
     "data": {
      "text/html": [
       "<pre style=\"white-space:pre;overflow-x:auto;line-height:normal;font-family:Menlo,'DejaVu Sans Mono',consolas,'Courier New',monospace\">Epoch 0335|Val loss 1.358778e-01|Train loss 1.367881e-01|LR 0.00022|\n",
       "</pre>\n"
      ],
      "text/plain": [
       "Epoch 0335|Val loss 1.358778e-01|Train loss 1.367881e-01|LR 0.00022|\n"
      ]
     },
     "metadata": {},
     "output_type": "display_data"
    },
    {
     "data": {
      "text/html": [
       "<pre style=\"white-space:pre;overflow-x:auto;line-height:normal;font-family:Menlo,'DejaVu Sans Mono',consolas,'Courier New',monospace\">Epoch 0336|Val loss 2.116654e-01|Train loss 1.268191e-01|LR 0.00022|\n",
       "</pre>\n"
      ],
      "text/plain": [
       "Epoch 0336|Val loss 2.116654e-01|Train loss 1.268191e-01|LR 0.00022|\n"
      ]
     },
     "metadata": {},
     "output_type": "display_data"
    },
    {
     "data": {
      "text/html": [
       "<pre style=\"white-space:pre;overflow-x:auto;line-height:normal;font-family:Menlo,'DejaVu Sans Mono',consolas,'Courier New',monospace\">Epoch 0337|Val loss 1.359743e-01|Train loss 1.260959e-01|LR 0.00022|\n",
       "</pre>\n"
      ],
      "text/plain": [
       "Epoch 0337|Val loss 1.359743e-01|Train loss 1.260959e-01|LR 0.00022|\n"
      ]
     },
     "metadata": {},
     "output_type": "display_data"
    },
    {
     "data": {
      "text/html": [
       "<pre style=\"white-space:pre;overflow-x:auto;line-height:normal;font-family:Menlo,'DejaVu Sans Mono',consolas,'Courier New',monospace\">Epoch 0338|Val loss 2.066073e-01|Train loss 1.260275e-01|LR 0.00022|\n",
       "</pre>\n"
      ],
      "text/plain": [
       "Epoch 0338|Val loss 2.066073e-01|Train loss 1.260275e-01|LR 0.00022|\n"
      ]
     },
     "metadata": {},
     "output_type": "display_data"
    },
    {
     "data": {
      "text/html": [
       "<pre style=\"white-space:pre;overflow-x:auto;line-height:normal;font-family:Menlo,'DejaVu Sans Mono',consolas,'Courier New',monospace\">Epoch 0339|Val loss 1.335006e-01|Train loss 1.233526e-01|LR 0.00022|\n",
       "</pre>\n"
      ],
      "text/plain": [
       "Epoch 0339|Val loss 1.335006e-01|Train loss 1.233526e-01|LR 0.00022|\n"
      ]
     },
     "metadata": {},
     "output_type": "display_data"
    },
    {
     "data": {
      "text/html": [
       "<pre style=\"white-space:pre;overflow-x:auto;line-height:normal;font-family:Menlo,'DejaVu Sans Mono',consolas,'Courier New',monospace\">Epoch 0340|Val loss 2.072049e-01|Train loss 1.244094e-01|LR 0.00022|\n",
       "</pre>\n"
      ],
      "text/plain": [
       "Epoch 0340|Val loss 2.072049e-01|Train loss 1.244094e-01|LR 0.00022|\n"
      ]
     },
     "metadata": {},
     "output_type": "display_data"
    },
    {
     "data": {
      "text/html": [
       "<pre style=\"white-space:pre;overflow-x:auto;line-height:normal;font-family:Menlo,'DejaVu Sans Mono',consolas,'Courier New',monospace\">EarlyStopping counter: 11 out of 20\n",
       "</pre>\n"
      ],
      "text/plain": [
       "EarlyStopping counter: 11 out of 20\n"
      ]
     },
     "metadata": {},
     "output_type": "display_data"
    },
    {
     "data": {
      "text/html": [
       "<pre style=\"white-space:pre;overflow-x:auto;line-height:normal;font-family:Menlo,'DejaVu Sans Mono',consolas,'Courier New',monospace\">Epoch 0341|Val loss 1.335630e-01|Train loss 1.229865e-01|LR 0.00022|\n",
       "</pre>\n"
      ],
      "text/plain": [
       "Epoch 0341|Val loss 1.335630e-01|Train loss 1.229865e-01|LR 0.00022|\n"
      ]
     },
     "metadata": {},
     "output_type": "display_data"
    },
    {
     "data": {
      "text/html": [
       "<pre style=\"white-space:pre;overflow-x:auto;line-height:normal;font-family:Menlo,'DejaVu Sans Mono',consolas,'Courier New',monospace\">Epoch 0342|Val loss 2.080620e-01|Train loss 1.242399e-01|LR 0.00022|\n",
       "</pre>\n"
      ],
      "text/plain": [
       "Epoch 0342|Val loss 2.080620e-01|Train loss 1.242399e-01|LR 0.00022|\n"
      ]
     },
     "metadata": {},
     "output_type": "display_data"
    },
    {
     "data": {
      "text/html": [
       "<pre style=\"white-space:pre;overflow-x:auto;line-height:normal;font-family:Menlo,'DejaVu Sans Mono',consolas,'Courier New',monospace\">Epoch 0343|Val loss 1.359229e-01|Train loss 1.211761e-01|LR 0.00022|\n",
       "</pre>\n"
      ],
      "text/plain": [
       "Epoch 0343|Val loss 1.359229e-01|Train loss 1.211761e-01|LR 0.00022|\n"
      ]
     },
     "metadata": {},
     "output_type": "display_data"
    },
    {
     "data": {
      "text/html": [
       "<pre style=\"white-space:pre;overflow-x:auto;line-height:normal;font-family:Menlo,'DejaVu Sans Mono',consolas,'Courier New',monospace\">Epoch 0344|Val loss 2.069855e-01|Train loss 1.209260e-01|LR 0.00022|\n",
       "</pre>\n"
      ],
      "text/plain": [
       "Epoch 0344|Val loss 2.069855e-01|Train loss 1.209260e-01|LR 0.00022|\n"
      ]
     },
     "metadata": {},
     "output_type": "display_data"
    },
    {
     "data": {
      "text/html": [
       "<pre style=\"white-space:pre;overflow-x:auto;line-height:normal;font-family:Menlo,'DejaVu Sans Mono',consolas,'Courier New',monospace\">Epoch 0345|Val loss 1.364737e-01|Train loss 1.199329e-01|LR 0.00022|\n",
       "</pre>\n"
      ],
      "text/plain": [
       "Epoch 0345|Val loss 1.364737e-01|Train loss 1.199329e-01|LR 0.00022|\n"
      ]
     },
     "metadata": {},
     "output_type": "display_data"
    },
    {
     "data": {
      "text/html": [
       "<pre style=\"white-space:pre;overflow-x:auto;line-height:normal;font-family:Menlo,'DejaVu Sans Mono',consolas,'Courier New',monospace\">Epoch 0346|Val loss 2.040224e-01|Train loss 1.207612e-01|LR 0.00022|\n",
       "</pre>\n"
      ],
      "text/plain": [
       "Epoch 0346|Val loss 2.040224e-01|Train loss 1.207612e-01|LR 0.00022|\n"
      ]
     },
     "metadata": {},
     "output_type": "display_data"
    },
    {
     "data": {
      "text/html": [
       "<pre style=\"white-space:pre;overflow-x:auto;line-height:normal;font-family:Menlo,'DejaVu Sans Mono',consolas,'Courier New',monospace\">Epoch 0347|Val loss 1.339718e-01|Train loss 1.198548e-01|LR 0.00022|\n",
       "</pre>\n"
      ],
      "text/plain": [
       "Epoch 0347|Val loss 1.339718e-01|Train loss 1.198548e-01|LR 0.00022|\n"
      ]
     },
     "metadata": {},
     "output_type": "display_data"
    },
    {
     "data": {
      "text/html": [
       "<pre style=\"white-space:pre;overflow-x:auto;line-height:normal;font-family:Menlo,'DejaVu Sans Mono',consolas,'Courier New',monospace\">Epoch 0348|Val loss 2.063363e-01|Train loss 1.201547e-01|LR 0.00022|\n",
       "</pre>\n"
      ],
      "text/plain": [
       "Epoch 0348|Val loss 2.063363e-01|Train loss 1.201547e-01|LR 0.00022|\n"
      ]
     },
     "metadata": {},
     "output_type": "display_data"
    },
    {
     "data": {
      "text/html": [
       "<pre style=\"white-space:pre;overflow-x:auto;line-height:normal;font-family:Menlo,'DejaVu Sans Mono',consolas,'Courier New',monospace\">Epoch 0349|Val loss 1.306126e-01|Train loss 1.195351e-01|LR 0.00022|\n",
       "</pre>\n"
      ],
      "text/plain": [
       "Epoch 0349|Val loss 1.306126e-01|Train loss 1.195351e-01|LR 0.00022|\n"
      ]
     },
     "metadata": {},
     "output_type": "display_data"
    },
    {
     "data": {
      "text/html": [
       "<pre style=\"white-space:pre;overflow-x:auto;line-height:normal;font-family:Menlo,'DejaVu Sans Mono',consolas,'Courier New',monospace\">Epoch 0350|Val loss 2.059742e-01|Train loss 1.198481e-01|LR 0.00022|\n",
       "</pre>\n"
      ],
      "text/plain": [
       "Epoch 0350|Val loss 2.059742e-01|Train loss 1.198481e-01|LR 0.00022|\n"
      ]
     },
     "metadata": {},
     "output_type": "display_data"
    },
    {
     "data": {
      "text/html": [
       "<pre style=\"white-space:pre;overflow-x:auto;line-height:normal;font-family:Menlo,'DejaVu Sans Mono',consolas,'Courier New',monospace\">EarlyStopping counter: 12 out of 20\n",
       "</pre>\n"
      ],
      "text/plain": [
       "EarlyStopping counter: 12 out of 20\n"
      ]
     },
     "metadata": {},
     "output_type": "display_data"
    },
    {
     "data": {
      "text/html": [
       "<pre style=\"white-space:pre;overflow-x:auto;line-height:normal;font-family:Menlo,'DejaVu Sans Mono',consolas,'Courier New',monospace\">Epoch 0351|Val loss 1.298413e-01|Train loss 1.222333e-01|LR 0.00022|\n",
       "</pre>\n"
      ],
      "text/plain": [
       "Epoch 0351|Val loss 1.298413e-01|Train loss 1.222333e-01|LR 0.00022|\n"
      ]
     },
     "metadata": {},
     "output_type": "display_data"
    },
    {
     "data": {
      "text/html": [
       "<pre style=\"white-space:pre;overflow-x:auto;line-height:normal;font-family:Menlo,'DejaVu Sans Mono',consolas,'Courier New',monospace\">Epoch 0352|Val loss 2.095909e-01|Train loss 1.232539e-01|LR 0.00022|\n",
       "</pre>\n"
      ],
      "text/plain": [
       "Epoch 0352|Val loss 2.095909e-01|Train loss 1.232539e-01|LR 0.00022|\n"
      ]
     },
     "metadata": {},
     "output_type": "display_data"
    },
    {
     "data": {
      "text/html": [
       "<pre style=\"white-space:pre;overflow-x:auto;line-height:normal;font-family:Menlo,'DejaVu Sans Mono',consolas,'Courier New',monospace\">Epoch 0353|Val loss 1.244596e-01|Train loss 1.208591e-01|LR 0.00022|\n",
       "</pre>\n"
      ],
      "text/plain": [
       "Epoch 0353|Val loss 1.244596e-01|Train loss 1.208591e-01|LR 0.00022|\n"
      ]
     },
     "metadata": {},
     "output_type": "display_data"
    },
    {
     "data": {
      "text/html": [
       "<pre style=\"white-space:pre;overflow-x:auto;line-height:normal;font-family:Menlo,'DejaVu Sans Mono',consolas,'Courier New',monospace\">Epoch 0354|Val loss 2.127596e-01|Train loss 1.229658e-01|LR 0.00022|\n",
       "</pre>\n"
      ],
      "text/plain": [
       "Epoch 0354|Val loss 2.127596e-01|Train loss 1.229658e-01|LR 0.00022|\n"
      ]
     },
     "metadata": {},
     "output_type": "display_data"
    },
    {
     "data": {
      "text/html": [
       "<pre style=\"white-space:pre;overflow-x:auto;line-height:normal;font-family:Menlo,'DejaVu Sans Mono',consolas,'Courier New',monospace\">Epoch 0355|Val loss 1.365951e-01|Train loss 1.271644e-01|LR 0.00022|\n",
       "</pre>\n"
      ],
      "text/plain": [
       "Epoch 0355|Val loss 1.365951e-01|Train loss 1.271644e-01|LR 0.00022|\n"
      ]
     },
     "metadata": {},
     "output_type": "display_data"
    },
    {
     "data": {
      "text/html": [
       "<pre style=\"white-space:pre;overflow-x:auto;line-height:normal;font-family:Menlo,'DejaVu Sans Mono',consolas,'Courier New',monospace\">Epoch 0356|Val loss 2.290676e-01|Train loss 1.332977e-01|LR 0.00022|\n",
       "</pre>\n"
      ],
      "text/plain": [
       "Epoch 0356|Val loss 2.290676e-01|Train loss 1.332977e-01|LR 0.00022|\n"
      ]
     },
     "metadata": {},
     "output_type": "display_data"
    },
    {
     "data": {
      "text/html": [
       "<pre style=\"white-space:pre;overflow-x:auto;line-height:normal;font-family:Menlo,'DejaVu Sans Mono',consolas,'Courier New',monospace\">Epoch 0357|Val loss 1.258304e-01|Train loss 1.337046e-01|LR 0.00022|\n",
       "</pre>\n"
      ],
      "text/plain": [
       "Epoch 0357|Val loss 1.258304e-01|Train loss 1.337046e-01|LR 0.00022|\n"
      ]
     },
     "metadata": {},
     "output_type": "display_data"
    },
    {
     "data": {
      "text/html": [
       "<pre style=\"white-space:pre;overflow-x:auto;line-height:normal;font-family:Menlo,'DejaVu Sans Mono',consolas,'Courier New',monospace\">Epoch 0358|Val loss 2.308680e-01|Train loss 1.393446e-01|LR 0.00022|\n",
       "</pre>\n"
      ],
      "text/plain": [
       "Epoch 0358|Val loss 2.308680e-01|Train loss 1.393446e-01|LR 0.00022|\n"
      ]
     },
     "metadata": {},
     "output_type": "display_data"
    },
    {
     "data": {
      "text/html": [
       "<pre style=\"white-space:pre;overflow-x:auto;line-height:normal;font-family:Menlo,'DejaVu Sans Mono',consolas,'Courier New',monospace\">Epoch 0359|Val loss 1.335266e-01|Train loss 1.389109e-01|LR 0.00022|\n",
       "</pre>\n"
      ],
      "text/plain": [
       "Epoch 0359|Val loss 1.335266e-01|Train loss 1.389109e-01|LR 0.00022|\n"
      ]
     },
     "metadata": {},
     "output_type": "display_data"
    },
    {
     "data": {
      "text/html": [
       "<pre style=\"white-space:pre;overflow-x:auto;line-height:normal;font-family:Menlo,'DejaVu Sans Mono',consolas,'Courier New',monospace\">Epoch 0360|Val loss 2.205589e-01|Train loss 1.338606e-01|LR 0.00022|\n",
       "</pre>\n"
      ],
      "text/plain": [
       "Epoch 0360|Val loss 2.205589e-01|Train loss 1.338606e-01|LR 0.00022|\n"
      ]
     },
     "metadata": {},
     "output_type": "display_data"
    },
    {
     "data": {
      "text/html": [
       "<pre style=\"white-space:pre;overflow-x:auto;line-height:normal;font-family:Menlo,'DejaVu Sans Mono',consolas,'Courier New',monospace\">EarlyStopping counter: 13 out of 20\n",
       "</pre>\n"
      ],
      "text/plain": [
       "EarlyStopping counter: 13 out of 20\n"
      ]
     },
     "metadata": {},
     "output_type": "display_data"
    },
    {
     "data": {
      "text/html": [
       "<pre style=\"white-space:pre;overflow-x:auto;line-height:normal;font-family:Menlo,'DejaVu Sans Mono',consolas,'Courier New',monospace\">Epoch 0361|Val loss 1.266970e-01|Train loss 1.304659e-01|LR 0.00022|\n",
       "</pre>\n"
      ],
      "text/plain": [
       "Epoch 0361|Val loss 1.266970e-01|Train loss 1.304659e-01|LR 0.00022|\n"
      ]
     },
     "metadata": {},
     "output_type": "display_data"
    },
    {
     "data": {
      "text/html": [
       "<pre style=\"white-space:pre;overflow-x:auto;line-height:normal;font-family:Menlo,'DejaVu Sans Mono',consolas,'Courier New',monospace\">Epoch 0362|Val loss 2.023954e-01|Train loss 1.251678e-01|LR 0.00022|\n",
       "</pre>\n"
      ],
      "text/plain": [
       "Epoch 0362|Val loss 2.023954e-01|Train loss 1.251678e-01|LR 0.00022|\n"
      ]
     },
     "metadata": {},
     "output_type": "display_data"
    },
    {
     "data": {
      "text/html": [
       "<pre style=\"white-space:pre;overflow-x:auto;line-height:normal;font-family:Menlo,'DejaVu Sans Mono',consolas,'Courier New',monospace\">Epoch 0363|Val loss 1.403533e-01|Train loss 1.230854e-01|LR 0.00022|\n",
       "</pre>\n"
      ],
      "text/plain": [
       "Epoch 0363|Val loss 1.403533e-01|Train loss 1.230854e-01|LR 0.00022|\n"
      ]
     },
     "metadata": {},
     "output_type": "display_data"
    },
    {
     "data": {
      "text/html": [
       "<pre style=\"white-space:pre;overflow-x:auto;line-height:normal;font-family:Menlo,'DejaVu Sans Mono',consolas,'Courier New',monospace\">Epoch 0364|Val loss 2.012204e-01|Train loss 1.198222e-01|LR 0.00022|\n",
       "</pre>\n"
      ],
      "text/plain": [
       "Epoch 0364|Val loss 2.012204e-01|Train loss 1.198222e-01|LR 0.00022|\n"
      ]
     },
     "metadata": {},
     "output_type": "display_data"
    },
    {
     "data": {
      "text/html": [
       "<pre style=\"white-space:pre;overflow-x:auto;line-height:normal;font-family:Menlo,'DejaVu Sans Mono',consolas,'Courier New',monospace\">Epoch 0365|Val loss 1.339536e-01|Train loss 1.171581e-01|LR 0.00022|\n",
       "</pre>\n"
      ],
      "text/plain": [
       "Epoch 0365|Val loss 1.339536e-01|Train loss 1.171581e-01|LR 0.00022|\n"
      ]
     },
     "metadata": {},
     "output_type": "display_data"
    },
    {
     "data": {
      "text/html": [
       "<pre style=\"white-space:pre;overflow-x:auto;line-height:normal;font-family:Menlo,'DejaVu Sans Mono',consolas,'Courier New',monospace\">Epoch 0366|Val loss 2.001552e-01|Train loss 1.190174e-01|LR 0.00022|\n",
       "</pre>\n"
      ],
      "text/plain": [
       "Epoch 0366|Val loss 2.001552e-01|Train loss 1.190174e-01|LR 0.00022|\n"
      ]
     },
     "metadata": {},
     "output_type": "display_data"
    },
    {
     "data": {
      "text/html": [
       "<pre style=\"white-space:pre;overflow-x:auto;line-height:normal;font-family:Menlo,'DejaVu Sans Mono',consolas,'Courier New',monospace\">Epoch 0367|Val loss 1.318586e-01|Train loss 1.141802e-01|LR 0.00022|\n",
       "</pre>\n"
      ],
      "text/plain": [
       "Epoch 0367|Val loss 1.318586e-01|Train loss 1.141802e-01|LR 0.00022|\n"
      ]
     },
     "metadata": {},
     "output_type": "display_data"
    },
    {
     "data": {
      "text/html": [
       "<pre style=\"white-space:pre;overflow-x:auto;line-height:normal;font-family:Menlo,'DejaVu Sans Mono',consolas,'Courier New',monospace\">Epoch 0368|Val loss 2.043752e-01|Train loss 1.151850e-01|LR 0.00022|\n",
       "</pre>\n"
      ],
      "text/plain": [
       "Epoch 0368|Val loss 2.043752e-01|Train loss 1.151850e-01|LR 0.00022|\n"
      ]
     },
     "metadata": {},
     "output_type": "display_data"
    },
    {
     "data": {
      "text/html": [
       "<pre style=\"white-space:pre;overflow-x:auto;line-height:normal;font-family:Menlo,'DejaVu Sans Mono',consolas,'Courier New',monospace\">Epoch 0369|Val loss 1.335495e-01|Train loss 1.155656e-01|LR 0.00022|\n",
       "</pre>\n"
      ],
      "text/plain": [
       "Epoch 0369|Val loss 1.335495e-01|Train loss 1.155656e-01|LR 0.00022|\n"
      ]
     },
     "metadata": {},
     "output_type": "display_data"
    },
    {
     "data": {
      "text/html": [
       "<pre style=\"white-space:pre;overflow-x:auto;line-height:normal;font-family:Menlo,'DejaVu Sans Mono',consolas,'Courier New',monospace\">Epoch 0370|Val loss 2.006448e-01|Train loss 1.166687e-01|LR 0.00022|\n",
       "</pre>\n"
      ],
      "text/plain": [
       "Epoch 0370|Val loss 2.006448e-01|Train loss 1.166687e-01|LR 0.00022|\n"
      ]
     },
     "metadata": {},
     "output_type": "display_data"
    },
    {
     "data": {
      "text/html": [
       "<pre style=\"white-space:pre;overflow-x:auto;line-height:normal;font-family:Menlo,'DejaVu Sans Mono',consolas,'Courier New',monospace\">EarlyStopping counter: 14 out of 20\n",
       "</pre>\n"
      ],
      "text/plain": [
       "EarlyStopping counter: 14 out of 20\n"
      ]
     },
     "metadata": {},
     "output_type": "display_data"
    },
    {
     "data": {
      "text/html": [
       "<pre style=\"white-space:pre;overflow-x:auto;line-height:normal;font-family:Menlo,'DejaVu Sans Mono',consolas,'Courier New',monospace\">Epoch 0371|Val loss 1.335472e-01|Train loss 1.181826e-01|LR 0.00022|\n",
       "</pre>\n"
      ],
      "text/plain": [
       "Epoch 0371|Val loss 1.335472e-01|Train loss 1.181826e-01|LR 0.00022|\n"
      ]
     },
     "metadata": {},
     "output_type": "display_data"
    },
    {
     "data": {
      "text/html": [
       "<pre style=\"white-space:pre;overflow-x:auto;line-height:normal;font-family:Menlo,'DejaVu Sans Mono',consolas,'Courier New',monospace\">Epoch 0372|Val loss 2.003459e-01|Train loss 1.224490e-01|LR 0.00022|\n",
       "</pre>\n"
      ],
      "text/plain": [
       "Epoch 0372|Val loss 2.003459e-01|Train loss 1.224490e-01|LR 0.00022|\n"
      ]
     },
     "metadata": {},
     "output_type": "display_data"
    },
    {
     "data": {
      "text/html": [
       "<pre style=\"white-space:pre;overflow-x:auto;line-height:normal;font-family:Menlo,'DejaVu Sans Mono',consolas,'Courier New',monospace\">Epoch 0373|Val loss 1.307268e-01|Train loss 1.195470e-01|LR 0.00022|\n",
       "</pre>\n"
      ],
      "text/plain": [
       "Epoch 0373|Val loss 1.307268e-01|Train loss 1.195470e-01|LR 0.00022|\n"
      ]
     },
     "metadata": {},
     "output_type": "display_data"
    },
    {
     "data": {
      "text/html": [
       "<pre style=\"white-space:pre;overflow-x:auto;line-height:normal;font-family:Menlo,'DejaVu Sans Mono',consolas,'Courier New',monospace\">Epoch 0374|Val loss 2.042158e-01|Train loss 1.200954e-01|LR 0.00022|\n",
       "</pre>\n"
      ],
      "text/plain": [
       "Epoch 0374|Val loss 2.042158e-01|Train loss 1.200954e-01|LR 0.00022|\n"
      ]
     },
     "metadata": {},
     "output_type": "display_data"
    },
    {
     "data": {
      "text/html": [
       "<pre style=\"white-space:pre;overflow-x:auto;line-height:normal;font-family:Menlo,'DejaVu Sans Mono',consolas,'Courier New',monospace\">Epoch 0375|Val loss 1.317269e-01|Train loss 1.199765e-01|LR 0.00022|\n",
       "</pre>\n"
      ],
      "text/plain": [
       "Epoch 0375|Val loss 1.317269e-01|Train loss 1.199765e-01|LR 0.00022|\n"
      ]
     },
     "metadata": {},
     "output_type": "display_data"
    },
    {
     "data": {
      "text/html": [
       "<pre style=\"white-space:pre;overflow-x:auto;line-height:normal;font-family:Menlo,'DejaVu Sans Mono',consolas,'Courier New',monospace\">Epoch 0376|Val loss 2.077090e-01|Train loss 1.203986e-01|LR 0.00022|\n",
       "</pre>\n"
      ],
      "text/plain": [
       "Epoch 0376|Val loss 2.077090e-01|Train loss 1.203986e-01|LR 0.00022|\n"
      ]
     },
     "metadata": {},
     "output_type": "display_data"
    },
    {
     "data": {
      "text/html": [
       "<pre style=\"white-space:pre;overflow-x:auto;line-height:normal;font-family:Menlo,'DejaVu Sans Mono',consolas,'Courier New',monospace\">Epoch 0377|Val loss 1.204227e-01|Train loss 1.190784e-01|LR 0.00022|\n",
       "</pre>\n"
      ],
      "text/plain": [
       "Epoch 0377|Val loss 1.204227e-01|Train loss 1.190784e-01|LR 0.00022|\n"
      ]
     },
     "metadata": {},
     "output_type": "display_data"
    },
    {
     "data": {
      "text/html": [
       "<pre style=\"white-space:pre;overflow-x:auto;line-height:normal;font-family:Menlo,'DejaVu Sans Mono',consolas,'Courier New',monospace\">Epoch 0378|Val loss 2.208367e-01|Train loss 1.242715e-01|LR 0.00022|\n",
       "</pre>\n"
      ],
      "text/plain": [
       "Epoch 0378|Val loss 2.208367e-01|Train loss 1.242715e-01|LR 0.00022|\n"
      ]
     },
     "metadata": {},
     "output_type": "display_data"
    },
    {
     "data": {
      "text/html": [
       "<pre style=\"white-space:pre;overflow-x:auto;line-height:normal;font-family:Menlo,'DejaVu Sans Mono',consolas,'Courier New',monospace\">Epoch 0379|Val loss 1.228135e-01|Train loss 1.282436e-01|LR 0.00022|\n",
       "</pre>\n"
      ],
      "text/plain": [
       "Epoch 0379|Val loss 1.228135e-01|Train loss 1.282436e-01|LR 0.00022|\n"
      ]
     },
     "metadata": {},
     "output_type": "display_data"
    },
    {
     "data": {
      "text/html": [
       "<pre style=\"white-space:pre;overflow-x:auto;line-height:normal;font-family:Menlo,'DejaVu Sans Mono',consolas,'Courier New',monospace\">Epoch 0380|Val loss 2.298830e-01|Train loss 1.315297e-01|LR 0.00022|\n",
       "</pre>\n"
      ],
      "text/plain": [
       "Epoch 0380|Val loss 2.298830e-01|Train loss 1.315297e-01|LR 0.00022|\n"
      ]
     },
     "metadata": {},
     "output_type": "display_data"
    },
    {
     "data": {
      "text/html": [
       "<pre style=\"white-space:pre;overflow-x:auto;line-height:normal;font-family:Menlo,'DejaVu Sans Mono',consolas,'Courier New',monospace\">Validation loss decreased (0.01 --&gt; 0.01).  Saving model ...\n",
       "</pre>\n"
      ],
      "text/plain": [
       "Validation loss decreased (0.01 --> 0.01).  Saving model ...\n"
      ]
     },
     "metadata": {},
     "output_type": "display_data"
    },
    {
     "data": {
      "text/html": [
       "<pre style=\"white-space:pre;overflow-x:auto;line-height:normal;font-family:Menlo,'DejaVu Sans Mono',consolas,'Courier New',monospace\">Epoch 0381|Val loss 1.180023e-01|Train loss 1.332424e-01|LR 0.00022|\n",
       "</pre>\n"
      ],
      "text/plain": [
       "Epoch 0381|Val loss 1.180023e-01|Train loss 1.332424e-01|LR 0.00022|\n"
      ]
     },
     "metadata": {},
     "output_type": "display_data"
    },
    {
     "data": {
      "text/html": [
       "<pre style=\"white-space:pre;overflow-x:auto;line-height:normal;font-family:Menlo,'DejaVu Sans Mono',consolas,'Courier New',monospace\">Epoch 0382|Val loss 2.403057e-01|Train loss 1.356200e-01|LR 0.00022|\n",
       "</pre>\n"
      ],
      "text/plain": [
       "Epoch 0382|Val loss 2.403057e-01|Train loss 1.356200e-01|LR 0.00022|\n"
      ]
     },
     "metadata": {},
     "output_type": "display_data"
    },
    {
     "data": {
      "text/html": [
       "<pre style=\"white-space:pre;overflow-x:auto;line-height:normal;font-family:Menlo,'DejaVu Sans Mono',consolas,'Courier New',monospace\">Epoch 0383|Val loss 1.342668e-01|Train loss 1.365277e-01|LR 0.00022|\n",
       "</pre>\n"
      ],
      "text/plain": [
       "Epoch 0383|Val loss 1.342668e-01|Train loss 1.365277e-01|LR 0.00022|\n"
      ]
     },
     "metadata": {},
     "output_type": "display_data"
    },
    {
     "data": {
      "text/html": [
       "<pre style=\"white-space:pre;overflow-x:auto;line-height:normal;font-family:Menlo,'DejaVu Sans Mono',consolas,'Courier New',monospace\">Epoch 0384|Val loss 2.035477e-01|Train loss 1.316542e-01|LR 0.00022|\n",
       "</pre>\n"
      ],
      "text/plain": [
       "Epoch 0384|Val loss 2.035477e-01|Train loss 1.316542e-01|LR 0.00022|\n"
      ]
     },
     "metadata": {},
     "output_type": "display_data"
    },
    {
     "data": {
      "text/html": [
       "<pre style=\"white-space:pre;overflow-x:auto;line-height:normal;font-family:Menlo,'DejaVu Sans Mono',consolas,'Courier New',monospace\">Epoch 0385|Val loss 1.348892e-01|Train loss 1.278916e-01|LR 0.00022|\n",
       "</pre>\n"
      ],
      "text/plain": [
       "Epoch 0385|Val loss 1.348892e-01|Train loss 1.278916e-01|LR 0.00022|\n"
      ]
     },
     "metadata": {},
     "output_type": "display_data"
    },
    {
     "data": {
      "text/html": [
       "<pre style=\"white-space:pre;overflow-x:auto;line-height:normal;font-family:Menlo,'DejaVu Sans Mono',consolas,'Courier New',monospace\">Epoch 0386|Val loss 2.017588e-01|Train loss 1.245782e-01|LR 0.00022|\n",
       "</pre>\n"
      ],
      "text/plain": [
       "Epoch 0386|Val loss 2.017588e-01|Train loss 1.245782e-01|LR 0.00022|\n"
      ]
     },
     "metadata": {},
     "output_type": "display_data"
    },
    {
     "data": {
      "text/html": [
       "<pre style=\"white-space:pre;overflow-x:auto;line-height:normal;font-family:Menlo,'DejaVu Sans Mono',consolas,'Courier New',monospace\">Epoch 0387|Val loss 1.351701e-01|Train loss 1.206714e-01|LR 0.00022|\n",
       "</pre>\n"
      ],
      "text/plain": [
       "Epoch 0387|Val loss 1.351701e-01|Train loss 1.206714e-01|LR 0.00022|\n"
      ]
     },
     "metadata": {},
     "output_type": "display_data"
    },
    {
     "data": {
      "text/html": [
       "<pre style=\"white-space:pre;overflow-x:auto;line-height:normal;font-family:Menlo,'DejaVu Sans Mono',consolas,'Courier New',monospace\">Epoch 0388|Val loss 1.974109e-01|Train loss 1.189550e-01|LR 0.00022|\n",
       "</pre>\n"
      ],
      "text/plain": [
       "Epoch 0388|Val loss 1.974109e-01|Train loss 1.189550e-01|LR 0.00022|\n"
      ]
     },
     "metadata": {},
     "output_type": "display_data"
    },
    {
     "data": {
      "text/html": [
       "<pre style=\"white-space:pre;overflow-x:auto;line-height:normal;font-family:Menlo,'DejaVu Sans Mono',consolas,'Courier New',monospace\">Epoch 0389|Val loss 1.307188e-01|Train loss 1.151128e-01|LR 0.00022|\n",
       "</pre>\n"
      ],
      "text/plain": [
       "Epoch 0389|Val loss 1.307188e-01|Train loss 1.151128e-01|LR 0.00022|\n"
      ]
     },
     "metadata": {},
     "output_type": "display_data"
    },
    {
     "data": {
      "text/html": [
       "<pre style=\"white-space:pre;overflow-x:auto;line-height:normal;font-family:Menlo,'DejaVu Sans Mono',consolas,'Courier New',monospace\">Epoch 0390|Val loss 2.019040e-01|Train loss 1.158825e-01|LR 0.00022|\n",
       "</pre>\n"
      ],
      "text/plain": [
       "Epoch 0390|Val loss 2.019040e-01|Train loss 1.158825e-01|LR 0.00022|\n"
      ]
     },
     "metadata": {},
     "output_type": "display_data"
    },
    {
     "data": {
      "text/html": [
       "<pre style=\"white-space:pre;overflow-x:auto;line-height:normal;font-family:Menlo,'DejaVu Sans Mono',consolas,'Courier New',monospace\">EarlyStopping counter: 1 out of 20\n",
       "</pre>\n"
      ],
      "text/plain": [
       "EarlyStopping counter: 1 out of 20\n"
      ]
     },
     "metadata": {},
     "output_type": "display_data"
    },
    {
     "data": {
      "text/html": [
       "<pre style=\"white-space:pre;overflow-x:auto;line-height:normal;font-family:Menlo,'DejaVu Sans Mono',consolas,'Courier New',monospace\">Epoch 0391|Val loss 1.320721e-01|Train loss 1.143365e-01|LR 0.00022|\n",
       "</pre>\n"
      ],
      "text/plain": [
       "Epoch 0391|Val loss 1.320721e-01|Train loss 1.143365e-01|LR 0.00022|\n"
      ]
     },
     "metadata": {},
     "output_type": "display_data"
    },
    {
     "data": {
      "text/html": [
       "<pre style=\"white-space:pre;overflow-x:auto;line-height:normal;font-family:Menlo,'DejaVu Sans Mono',consolas,'Courier New',monospace\">Epoch 0392|Val loss 2.014256e-01|Train loss 1.158085e-01|LR 0.00022|\n",
       "</pre>\n"
      ],
      "text/plain": [
       "Epoch 0392|Val loss 2.014256e-01|Train loss 1.158085e-01|LR 0.00022|\n"
      ]
     },
     "metadata": {},
     "output_type": "display_data"
    },
    {
     "data": {
      "text/html": [
       "<pre style=\"white-space:pre;overflow-x:auto;line-height:normal;font-family:Menlo,'DejaVu Sans Mono',consolas,'Courier New',monospace\">Epoch 0393|Val loss 1.364135e-01|Train loss 1.167618e-01|LR 0.00022|\n",
       "</pre>\n"
      ],
      "text/plain": [
       "Epoch 0393|Val loss 1.364135e-01|Train loss 1.167618e-01|LR 0.00022|\n"
      ]
     },
     "metadata": {},
     "output_type": "display_data"
    },
    {
     "data": {
      "text/html": [
       "<pre style=\"white-space:pre;overflow-x:auto;line-height:normal;font-family:Menlo,'DejaVu Sans Mono',consolas,'Courier New',monospace\">Epoch 0394|Val loss 1.985214e-01|Train loss 1.194116e-01|LR 0.00022|\n",
       "</pre>\n"
      ],
      "text/plain": [
       "Epoch 0394|Val loss 1.985214e-01|Train loss 1.194116e-01|LR 0.00022|\n"
      ]
     },
     "metadata": {},
     "output_type": "display_data"
    },
    {
     "data": {
      "text/html": [
       "<pre style=\"white-space:pre;overflow-x:auto;line-height:normal;font-family:Menlo,'DejaVu Sans Mono',consolas,'Courier New',monospace\">Epoch 0395|Val loss 1.277793e-01|Train loss 1.157248e-01|LR 0.00022|\n",
       "</pre>\n"
      ],
      "text/plain": [
       "Epoch 0395|Val loss 1.277793e-01|Train loss 1.157248e-01|LR 0.00022|\n"
      ]
     },
     "metadata": {},
     "output_type": "display_data"
    },
    {
     "data": {
      "text/html": [
       "<pre style=\"white-space:pre;overflow-x:auto;line-height:normal;font-family:Menlo,'DejaVu Sans Mono',consolas,'Courier New',monospace\">Epoch 0396|Val loss 2.062158e-01|Train loss 1.186835e-01|LR 0.00022|\n",
       "</pre>\n"
      ],
      "text/plain": [
       "Epoch 0396|Val loss 2.062158e-01|Train loss 1.186835e-01|LR 0.00022|\n"
      ]
     },
     "metadata": {},
     "output_type": "display_data"
    },
    {
     "data": {
      "text/html": [
       "<pre style=\"white-space:pre;overflow-x:auto;line-height:normal;font-family:Menlo,'DejaVu Sans Mono',consolas,'Courier New',monospace\">Epoch 0397|Val loss 1.329193e-01|Train loss 1.178181e-01|LR 0.00022|\n",
       "</pre>\n"
      ],
      "text/plain": [
       "Epoch 0397|Val loss 1.329193e-01|Train loss 1.178181e-01|LR 0.00022|\n"
      ]
     },
     "metadata": {},
     "output_type": "display_data"
    },
    {
     "data": {
      "text/html": [
       "<pre style=\"white-space:pre;overflow-x:auto;line-height:normal;font-family:Menlo,'DejaVu Sans Mono',consolas,'Courier New',monospace\">Epoch 0398|Val loss 2.120931e-01|Train loss 1.200802e-01|LR 0.00022|\n",
       "</pre>\n"
      ],
      "text/plain": [
       "Epoch 0398|Val loss 2.120931e-01|Train loss 1.200802e-01|LR 0.00022|\n"
      ]
     },
     "metadata": {},
     "output_type": "display_data"
    },
    {
     "data": {
      "text/html": [
       "<pre style=\"white-space:pre;overflow-x:auto;line-height:normal;font-family:Menlo,'DejaVu Sans Mono',consolas,'Courier New',monospace\">Epoch 0399|Val loss 1.204340e-01|Train loss 1.208601e-01|LR 0.00022|\n",
       "</pre>\n"
      ],
      "text/plain": [
       "Epoch 0399|Val loss 1.204340e-01|Train loss 1.208601e-01|LR 0.00022|\n"
      ]
     },
     "metadata": {},
     "output_type": "display_data"
    },
    {
     "data": {
      "text/html": [
       "<pre style=\"white-space:pre;overflow-x:auto;line-height:normal;font-family:Menlo,'DejaVu Sans Mono',consolas,'Courier New',monospace\">Epoch 0400|Val loss 2.154352e-01|Train loss 1.243352e-01|LR 0.00022|\n",
       "</pre>\n"
      ],
      "text/plain": [
       "Epoch 0400|Val loss 2.154352e-01|Train loss 1.243352e-01|LR 0.00022|\n"
      ]
     },
     "metadata": {},
     "output_type": "display_data"
    },
    {
     "data": {
      "text/html": [
       "<pre style=\"white-space:pre;overflow-x:auto;line-height:normal;font-family:Menlo,'DejaVu Sans Mono',consolas,'Courier New',monospace\">EarlyStopping counter: 2 out of 20\n",
       "</pre>\n"
      ],
      "text/plain": [
       "EarlyStopping counter: 2 out of 20\n"
      ]
     },
     "metadata": {},
     "output_type": "display_data"
    },
    {
     "data": {
      "text/html": [
       "<pre style=\"white-space:pre;overflow-x:auto;line-height:normal;font-family:Menlo,'DejaVu Sans Mono',consolas,'Courier New',monospace\"></pre>\n"
      ],
      "text/plain": []
     },
     "metadata": {},
     "output_type": "display_data"
    },
    {
     "data": {
      "text/html": [
       "<pre style=\"white-space:pre;overflow-x:auto;line-height:normal;font-family:Menlo,'DejaVu Sans Mono',consolas,'Courier New',monospace\">\n",
       "</pre>\n"
      ],
      "text/plain": [
       "\n"
      ]
     },
     "metadata": {},
     "output_type": "display_data"
    }
   ],
   "source": [
    "optimizer = optim.Adam(model.parameters(), lr=args[\"lr\"])\n",
    "if args[\"loss\"] == \"smooth_l1\":\n",
    "    criterion = nn.SmoothL1Loss().to(device)\n",
    "elif args[\"loss\"] == \"mae\":\n",
    "    criterion = nn.L1Loss().to(device)\n",
    "elif args[\"loss\"] == \"mse\":\n",
    "    criterion = nn.MSELoss().to(device)\n",
    "\n",
    "# criterion = InverseBoxCoxLoss(pt)\n",
    "\n",
    "print(criterion)\n",
    "early_stopping = nut.EarlyStopping(patience=20,\n",
    "                                verbose=True,\n",
    "                                path=ckpt_path)\n",
    "\n",
    "scheduler = torch.optim.lr_scheduler.ReduceLROnPlateau(optimizer, 'min', factor=0.6, patience=40)\n",
    "N_EPOCHS = args[\"niters\"]\n",
    "\n",
    "num_batches = 1\n",
    "all_train_loss = []\n",
    "all_valid_loss = []\n",
    "ckpt_freq = 10\n",
    "if args[\"load\"] is None:\n",
    "    if args[\"do_warm_start\"] == True:\n",
    "        checkpoint = torch.load(ckpt_path)\n",
    "        model.load_state_dict(checkpoint['model'])\n",
    "        start_epoch = checkpoint['epoch']\n",
    "        optimizer.load_state_dict(checkpoint['optimizer_state'])\n",
    "        print(\"Warm Starting Experiment {} from Epoch {}\".format(experimentID, start_epoch))\n",
    "    else:\n",
    "        start_epoch = 0\n",
    "        print(\"Starting a new experiment {} from Epoch {}\".format(experimentID, start_epoch))\n",
    "\n",
    "    # Resume training from specific epoch\n",
    "    for itr in track(range(start_epoch + 1, num_batches * (args[\"niters\"] + 1)), description=\"Looping over epochs...\"):\n",
    "        train_loss = 0.0\n",
    "        valid_loss = 0.0\n",
    "        model.train()\n",
    "        optimizer.zero_grad()\n",
    "\n",
    "        for i, (raw_img, arr_target_scaled, arr_target) in enumerate(train_dataloader):\n",
    "            raw_img = raw_img.to(device)\n",
    "            # arr_target = arr_target.to(device)\n",
    "            arr_target = arr_target_scaled.to(device)\n",
    "\n",
    "            # Forward pass\n",
    "            arr_pred = model(raw_img)\n",
    "\n",
    "            # Compute Loss\n",
    "            loss = criterion(arr_pred, arr_target)\n",
    "\n",
    "            # Backward pass\n",
    "            loss.backward()\n",
    "            optimizer.step()\n",
    "            train_loss += loss.item()\n",
    "\n",
    "        model.eval()\n",
    "        with torch.no_grad():\n",
    "            for i, (raw_img_val, arr_target_val_scaled, arr_target_val) in enumerate(val_dataloader):\n",
    "                raw_img_val = raw_img_val.to(device)\n",
    "                # arr_target_val = arr_target_val.to(device)\n",
    "                arr_target_val = arr_target_val_scaled.to(device)\n",
    "\n",
    "                # Forward pass\n",
    "                arr_pred_val = model(raw_img_val)\n",
    "\n",
    "                val_loss = criterion(arr_pred_val, arr_target_val)\n",
    "\n",
    "                valid_loss += val_loss.item()\n",
    "\n",
    "        train_loss = train_loss / len(train_dataloader)\n",
    "        valid_loss = valid_loss / len(val_dataloader)\n",
    "\n",
    "        all_train_loss.append(train_loss)\n",
    "        all_valid_loss.append(valid_loss)\n",
    "\n",
    "\n",
    "        message = 'Epoch {:04d}|Val loss {:.6e}|Train loss {:.6e}|LR {:.5f}|'.format(\n",
    "                        itr//num_batches,\n",
    "                        valid_loss,\n",
    "                        train_loss,\n",
    "                        optimizer.param_groups[0][\"lr\"])\n",
    "        \n",
    "        logger.info(message)\n",
    "        scheduler.step(valid_loss)\n",
    "\n",
    "        if itr % ckpt_freq == 0:\n",
    "            early_stopping(val_loss, model, optimizer, itr, args)\n",
    "\n",
    "        if early_stopping.early_stop:\n",
    "            logger.info(\"Early stopping\")\n",
    "            torch.save(model.state_dict(), os.path.join(args[\"save\"], \"experiment_\" + str(experimentID) + \"_earlystopping.ckpt\"))\n",
    "            break\n",
    "else:\n",
    "    nut.get_ckpt_model(ckpt_path, model, device)\n"
   ]
  },
  {
   "cell_type": "code",
   "execution_count": 111,
   "metadata": {},
   "outputs": [
    {
     "data": {
      "text/plain": [
       "<matplotlib.legend.Legend at 0x7f9ce5986460>"
      ]
     },
     "execution_count": 111,
     "metadata": {},
     "output_type": "execute_result"
    },
    {
     "data": {
      "image/png": "[encoded data removed]",
      "text/plain": [
       "<Figure size 640x480 with 1 Axes>"
      ]
     },
     "metadata": {},
     "output_type": "display_data"
    }
   ],
   "source": [
    "plt.plot(all_train_loss, label=\"train\")\n",
    "plt.plot(all_valid_loss, label=\"val\")\n",
    "plt.legend()"
   ]
  },
  {
   "cell_type": "code",
   "execution_count": 112,
   "metadata": {},
   "outputs": [],
   "source": [
    "# ARE WE PREDICTING THE TRAINING SET?\n",
    "train_data_eval = DataLoader(train_dataset, \n",
    "        batch_size = len(train_dataset),\n",
    "        shuffle=False, \n",
    "        )\n",
    "\n",
    "train_eval_batch = get_next_batch(inf_generator(train_data_eval))"
   ]
  },
  {
   "cell_type": "code",
   "execution_count": 116,
   "metadata": {},
   "outputs": [
    {
     "name": "stdout",
     "output_type": "stream",
     "text": [
      "0.9768347236851886\n"
     ]
    },
    {
     "data": {
      "image/png": "[encoded data removed]",
      "text/plain": [
       "<Figure size 640x480 with 1 Axes>"
      ]
     },
     "metadata": {},
     "output_type": "display_data"
    }
   ],
   "source": [
    "model.eval()\n",
    "with torch.no_grad():\n",
    "    train_preds_scaled = model(train_eval_batch[0]).cpu().numpy()\n",
    "\n",
    "train_preds_unscaled = pt.inverse_transform(train_preds_scaled)\n",
    "train_targets_all = train_eval_batch[2].cpu().numpy()\n",
    "\n",
    "plt.scatter(train_targets_all[::40], train_preds_unscaled[::40])\n",
    "plt.plot(np.linspace(35, 100, 40), np.linspace(35, 100, 40), '--')\n",
    "plt.xlabel(\"Train Arrival Time\")\n",
    "plt.ylabel(\"Predicted Arrival Time on Train\")\n",
    "\n",
    "print(np.corrcoef(train_targets_all[::40].flatten(), train_preds_unscaled[::40].flatten())[1][0])"
   ]
  },
  {
   "cell_type": "code",
   "execution_count": 117,
   "metadata": {},
   "outputs": [
    {
     "name": "stdout",
     "output_type": "stream",
     "text": [
      "0.9645824611257613\n"
     ]
    },
    {
     "data": {
      "image/png": "[encoded data removed]",
      "text/plain": [
       "<Figure size 640x480 with 1 Axes>"
      ]
     },
     "metadata": {},
     "output_type": "display_data"
    }
   ],
   "source": [
    "test_data_all = get_next_batch(inf_generator(test_dataloader))\n",
    "# true_test_arrs = pt.inverse_transform(test_data_all[1].cpu().numpy())\n",
    "true_test_arrs = test_data_all[2].cpu().numpy()\n",
    "model.eval()\n",
    "with torch.no_grad():\n",
    "    test_preds = model(test_data_all[0].to(device)).cpu().numpy()\n",
    "\n",
    "test_preds_unscaled = pt.inverse_transform(test_preds)\n",
    "\n",
    "plt.scatter(true_test_arrs, test_preds_unscaled)\n",
    "plt.plot(np.linspace(35, 80, 40), np.linspace(35, 80, 40), '--')\n",
    "plt.xlabel(\"Test Arrival Time\")\n",
    "plt.ylabel(\"Predicted Arrival Time on Test (All Frames)\")\n",
    "\n",
    "print(np.corrcoef(true_test_arrs.flatten(), test_preds_unscaled.flatten())[1][0])"
   ]
  },
  {
   "cell_type": "code",
   "execution_count": 139,
   "metadata": {},
   "outputs": [],
   "source": [
    "# test_data_all[0].shape, test_data_all[1].shape, test_data_all[2].shape"
   ]
  },
  {
   "cell_type": "code",
   "execution_count": 118,
   "metadata": {},
   "outputs": [
    {
     "name": "stdout",
     "output_type": "stream",
     "text": [
      "0.9663283815732326\n"
     ]
    },
    {
     "data": {
      "image/png": "[encoded data removed]",
      "text/plain": [
       "<Figure size 640x480 with 1 Axes>"
      ]
     },
     "metadata": {},
     "output_type": "display_data"
    }
   ],
   "source": [
    "plt.scatter(true_test_arrs[::40], test_preds_unscaled[::40])\n",
    "plt.plot(np.linspace(35, 80, 40), np.linspace(35, 80, 40), '--')\n",
    "plt.xlabel(\"Test Arrival Time\")\n",
    "plt.ylabel(\"Predicted Arrival Time on Test (Last Frame)\")\n",
    "print(np.corrcoef(true_test_arrs[::40].flatten(), test_preds_unscaled[::40].flatten())[1][0])"
   ]
  },
  {
   "cell_type": "code",
   "execution_count": null,
   "metadata": {},
   "outputs": [],
   "source": [
    "# print(np.corrcoef(true_test_arrs.flatten(), test_preds_unscaled.flatten())[1][0])\n",
    "print(np.corrcoef(true_test_arrs.flatten(), test_preds_unscaled.flatten())[1][0])"
   ]
  },
  {
   "cell_type": "code",
   "execution_count": 69,
   "metadata": {},
   "outputs": [],
   "source": [
    "# Training Loop"
   ]
  },
  {
   "cell_type": "code",
   "execution_count": 70,
   "metadata": {},
   "outputs": [],
   "source": [
    "# Predictions and plots"
   ]
  },
  {
   "cell_type": "code",
   "execution_count": null,
   "metadata": {},
   "outputs": [],
   "source": []
  },
  {
   "cell_type": "code",
   "execution_count": null,
   "metadata": {},
   "outputs": [],
   "source": []
  },
  {
   "cell_type": "code",
   "execution_count": null,
   "metadata": {},
   "outputs": [],
   "source": []
  }
 ],
 "metadata": {
  "kernelspec": {
   "display_name": "base",
   "language": "python",
   "name": "python3"
  },
  "language_info": {
   "codemirror_mode": {
    "name": "ipython",
    "version": 3
   },
   "file_extension": ".py",
   "mimetype": "text/x-python",
   "name": "python",
   "nbconvert_exporter": "python",
   "pygments_lexer": "ipython3",
   "version": "3.8.13"
  }
 },
 "nbformat": 4,
 "nbformat_minor": 2
}
