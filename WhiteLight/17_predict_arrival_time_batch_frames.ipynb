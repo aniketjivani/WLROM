{
 "cells": [
  {
   "cell_type": "markdown",
   "metadata": {},
   "source": [
    "Based on results from notebook 16, modify to revert to multiple frames mapping to single target, maximizing the training points used (all consecutive subsets of 3 frames as input to CNN)"
   ]
  },
  {
   "cell_type": "markdown",
   "metadata": {},
   "source": [
    "Experiment 56 - decent-ish results on train and test arrival times? Pending - doing `ConcatConv2D` to append time features, reporting summary stats and extending to multiple QoIs - see notebook 18 for these and more!"
   ]
  },
  {
   "cell_type": "code",
   "execution_count": 1,
   "metadata": {},
   "outputs": [
    {
     "name": "stderr",
     "output_type": "stream",
     "text": [
      "/Users/ajivani/opt/anaconda3/lib/python3.8/site-packages/pandas/core/computation/expressions.py:20: UserWarning: Pandas requires version '2.7.3' or newer of 'numexpr' (version '2.7.1' currently installed).\n",
      "  from pandas.core.computation.check import NUMEXPR_INSTALLED\n"
     ]
    }
   ],
   "source": [
    "import sys\n",
    "import torch\n",
    "import torch.nn\n",
    "import torch.nn as nn\n",
    "from torch.nn.functional import relu\n",
    "import torch.optim as optim\n",
    "from torch.utils.data import DataLoader, TensorDataset, Dataset\n",
    "from torch.utils.data import random_split\n",
    "import pandas as pd\n",
    "import numpy as np\n",
    "import os\n",
    "import re\n",
    "import sys\n",
    "import logging\n",
    "import torchvision\n",
    "import torchvision.transforms as T"
   ]
  },
  {
   "cell_type": "code",
   "execution_count": 2,
   "metadata": {},
   "outputs": [],
   "source": [
    "args = {\n",
    "    \"niters\":400,\n",
    "    \"lr\": 0.001,\n",
    "    \"save\": \"arr_experiments/\",\n",
    "    \"load\": 56,\n",
    "    # \"load\": None,\n",
    "    \"r\": 1991,\n",
    "    \"resize_dims\": (16, 64),\n",
    "    \"param_scaling\": [1, 1],\n",
    "    \"warm_start\": 20376,\n",
    "    \"do_warm_start\": False,\n",
    "    # \"loss\": \"smooth_l1\",\n",
    "    \"loss\": \"mae\",\n",
    "    # \"loss\": \"mse\",\n",
    "    \"batch_size\": 32,\n",
    "    \"dropout\":False\n",
    "}"
   ]
  },
  {
   "cell_type": "code",
   "execution_count": 3,
   "metadata": {},
   "outputs": [],
   "source": [
    "import torch.nn as nn"
   ]
  },
  {
   "cell_type": "code",
   "execution_count": 4,
   "metadata": {},
   "outputs": [
    {
     "data": {
      "image/png": "[encoded data removed]",
      "text/html": [
       "<div style=\"vertical-align: middle;\"><strong>SOHO LASCO C3_r</strong> </div><div class=\"cmap\"><img alt=\"SOHO LASCO C3_r colormap\" title=\"SOHO LASCO C3_r\" style=\"border: 1px solid #555;\" src=\"data:image/png;base64,iVBORw0KGgoAAAANSUhEUgAAAgAAAABACAYAAABsv8+/AAAAHnRFWHRUaXRsZQBTT0hPIExBU0NPIEMzX3IgY29sb3JtYXDMCW5EAAAAJHRFWHREZXNjcmlwdGlvbgBTT0hPIExBU0NPIEMzX3IgY29sb3JtYXAGtYcrAAAAMHRFWHRBdXRob3IATWF0cGxvdGxpYiB2My43LjMsIGh0dHBzOi8vbWF0cGxvdGxpYi5vcme6yd4QAAAAMnRFWHRTb2Z0d2FyZQBNYXRwbG90bGliIHYzLjcuMywgaHR0cHM6Ly9tYXRwbG90bGliLm9yZ5RvQTcAAAHFSURBVHic7dZBbsIwFEDB397/zKSLQisR3DQtEos3s0EksWNjCb23bdu2mZnL58dcv+6+L6/P7fo8dfzq+VePX847/xt/ff35c5jb9T+Ov3v/dnn8/P3n7J57vP/VfLO7vxi/mGd2z51b/3a5n+fc+vf7OFj/4T7mx+eOz+Hg/UfncPL3++/5v3r9vz7/68Eu1z8/3z+aZ+Z371nN8z3+3Lpv99fjD9b99b/xx3Xv/r/OrfvV+z9/fs/d/3r8uXW/DwCQIwAAIEgAAECQAACAIAEAAEECAACCBAAABAkAAAgSAAAQJAAAIEgAAECQAACAIAEAAEECAACCBAAABAkAAAgSAAAQJAAAIEgAAECQAACAIAEAAEECAACCBAAABAkAAAgSAAAQJAAAIEgAAECQAACAIAEAAEECAACCBAAABAkAAAgSAAAQJAAAIEgAAECQAACAIAEAAEECAACCBAAABAkAAAgSAAAQJAAAIEgAAECQAACAIAEAAEECAACCBAAABAkAAAgSAAAQJAAAIEgAAECQAACAIAEAAEECAACCBAAABAkAAAgSAAAQJAAAIEgAAECQAACAIAEAAEECAACCBAAABH0A+Gm+nfb+AtsAAAAASUVORK5CYII=\"></div><div style=\"vertical-align: middle; max-width: 514px; display: flex; justify-content: space-between;\"><div style=\"float: left;\"><div title=\"#ffffffff\" style=\"display: inline-block; width: 1em; height: 1em; margin: 0; vertical-align: middle; border: 1px solid #555; background-color: #ffffffff;\"></div> under</div><div style=\"margin: 0 auto; display: inline-block;\">bad <div title=\"#00000000\" style=\"display: inline-block; width: 1em; height: 1em; margin: 0; vertical-align: middle; border: 1px solid #555; background-color: #00000000;\"></div></div><div style=\"float: right;\">over <div title=\"#000000ff\" style=\"display: inline-block; width: 1em; height: 1em; margin: 0; vertical-align: middle; border: 1px solid #555; background-color: #000000ff;\"></div></div>"
      ],
      "text/plain": [
       "<matplotlib.colors.LinearSegmentedColormap at 0x7fb8283c6850>"
      ]
     },
     "execution_count": 4,
     "metadata": {},
     "output_type": "execute_result"
    }
   ],
   "source": [
    "from sunpy.visualization import colormaps as cm\n",
    "\n",
    "lc3_reg = cm.cmlist['soholasco3']\n",
    "lc3_reg\n",
    "\n",
    "lc3 = cm.cmlist['soholasco3'].reversed()\n",
    "lc3"
   ]
  },
  {
   "cell_type": "code",
   "execution_count": 5,
   "metadata": {},
   "outputs": [],
   "source": [
    "import time\n",
    "import datetime\n",
    "import argparse\n",
    "from random import SystemRandom\n",
    "\n",
    "from rich.progress import track\n",
    "import tqdm\n",
    "\n",
    "import matplotlib.pyplot as plt\n",
    "\n",
    "import cnn_utils as cu"
   ]
  },
  {
   "cell_type": "code",
   "execution_count": 6,
   "metadata": {},
   "outputs": [],
   "source": [
    "from sklearn.model_selection import train_test_split"
   ]
  },
  {
   "cell_type": "code",
   "execution_count": 7,
   "metadata": {},
   "outputs": [],
   "source": [
    "from sklearn.preprocessing import power_transform\n",
    "from sklearn.preprocessing import PowerTransformer"
   ]
  },
  {
   "cell_type": "code",
   "execution_count": 8,
   "metadata": {},
   "outputs": [],
   "source": [
    "%matplotlib inline\n",
    "%load_ext autoreload\n",
    "%autoreload 2"
   ]
  },
  {
   "cell_type": "code",
   "execution_count": 9,
   "metadata": {},
   "outputs": [
    {
     "data": {
      "text/plain": [
       "device(type='cpu')"
      ]
     },
     "execution_count": 9,
     "metadata": {},
     "output_type": "execute_result"
    }
   ],
   "source": [
    "device = torch.device(\"cuda:0\") if torch.cuda.is_available() else torch.device(\"cpu\")\n",
    "device"
   ]
  },
  {
   "cell_type": "markdown",
   "metadata": {},
   "source": [
    "Filter out runs which arrive very late."
   ]
  },
  {
   "cell_type": "code",
   "execution_count": 10,
   "metadata": {},
   "outputs": [
    {
     "data": {
      "text/html": [
       "<div>\n",
       "<style scoped>\n",
       "    .dataframe tbody tr th:only-of-type {\n",
       "        vertical-align: middle;\n",
       "    }\n",
       "\n",
       "    .dataframe tbody tr th {\n",
       "        vertical-align: top;\n",
       "    }\n",
       "\n",
       "    .dataframe thead th {\n",
       "        text-align: right;\n",
       "    }\n",
       "</style>\n",
       "<table border=\"1\" class=\"dataframe\">\n",
       "  <thead>\n",
       "    <tr style=\"text-align: right;\">\n",
       "      <th></th>\n",
       "      <th>SIMID</th>\n",
       "      <th>shift</th>\n",
       "      <th>Tshock_sim</th>\n",
       "      <th>Tshock_obs</th>\n",
       "    </tr>\n",
       "  </thead>\n",
       "  <tbody>\n",
       "    <tr>\n",
       "      <th>0</th>\n",
       "      <td>1</td>\n",
       "      <td>-18.0</td>\n",
       "      <td>70.0</td>\n",
       "      <td>52</td>\n",
       "    </tr>\n",
       "    <tr>\n",
       "      <th>2</th>\n",
       "      <td>3</td>\n",
       "      <td>-15.0</td>\n",
       "      <td>67.0</td>\n",
       "      <td>52</td>\n",
       "    </tr>\n",
       "    <tr>\n",
       "      <th>3</th>\n",
       "      <td>4</td>\n",
       "      <td>-7.0</td>\n",
       "      <td>59.0</td>\n",
       "      <td>52</td>\n",
       "    </tr>\n",
       "    <tr>\n",
       "      <th>4</th>\n",
       "      <td>5</td>\n",
       "      <td>-22.0</td>\n",
       "      <td>74.0</td>\n",
       "      <td>52</td>\n",
       "    </tr>\n",
       "    <tr>\n",
       "      <th>6</th>\n",
       "      <td>7</td>\n",
       "      <td>-4.0</td>\n",
       "      <td>56.0</td>\n",
       "      <td>52</td>\n",
       "    </tr>\n",
       "    <tr>\n",
       "      <th>...</th>\n",
       "      <td>...</td>\n",
       "      <td>...</td>\n",
       "      <td>...</td>\n",
       "      <td>...</td>\n",
       "    </tr>\n",
       "    <tr>\n",
       "      <th>114</th>\n",
       "      <td>116</td>\n",
       "      <td>7.0</td>\n",
       "      <td>45.0</td>\n",
       "      <td>52</td>\n",
       "    </tr>\n",
       "    <tr>\n",
       "      <th>115</th>\n",
       "      <td>117</td>\n",
       "      <td>19.0</td>\n",
       "      <td>33.0</td>\n",
       "      <td>52</td>\n",
       "    </tr>\n",
       "    <tr>\n",
       "      <th>116</th>\n",
       "      <td>118</td>\n",
       "      <td>16.0</td>\n",
       "      <td>36.0</td>\n",
       "      <td>52</td>\n",
       "    </tr>\n",
       "    <tr>\n",
       "      <th>117</th>\n",
       "      <td>119</td>\n",
       "      <td>5.0</td>\n",
       "      <td>47.0</td>\n",
       "      <td>52</td>\n",
       "    </tr>\n",
       "    <tr>\n",
       "      <th>118</th>\n",
       "      <td>120</td>\n",
       "      <td>20.0</td>\n",
       "      <td>32.0</td>\n",
       "      <td>52</td>\n",
       "    </tr>\n",
       "  </tbody>\n",
       "</table>\n",
       "<p>113 rows × 4 columns</p>\n",
       "</div>"
      ],
      "text/plain": [
       "     SIMID  shift  Tshock_sim  Tshock_obs\n",
       "0        1  -18.0        70.0          52\n",
       "2        3  -15.0        67.0          52\n",
       "3        4   -7.0        59.0          52\n",
       "4        5  -22.0        74.0          52\n",
       "6        7   -4.0        56.0          52\n",
       "..     ...    ...         ...         ...\n",
       "114    116    7.0        45.0          52\n",
       "115    117   19.0        33.0          52\n",
       "116    118   16.0        36.0          52\n",
       "117    119    5.0        47.0          52\n",
       "118    120   20.0        32.0          52\n",
       "\n",
       "[113 rows x 4 columns]"
      ]
     },
     "execution_count": 10,
     "metadata": {},
     "output_type": "execute_result"
    }
   ],
   "source": [
    "arr_times_data = pd.read_csv(\"./data_surrogate/UShift_CME3_120runs.csv\")\n",
    "arr_times_data = arr_times_data.dropna()\n",
    "\n",
    "arr_times_data"
   ]
  },
  {
   "cell_type": "code",
   "execution_count": 11,
   "metadata": {},
   "outputs": [],
   "source": [
    "data_sim_ids = arr_times_data['SIMID'].to_numpy()\n",
    "data_arr_time = arr_times_data['Tshock_sim'].to_numpy()\n",
    "data_shifts = arr_times_data['shift'].to_numpy()"
   ]
  },
  {
   "cell_type": "code",
   "execution_count": 12,
   "metadata": {},
   "outputs": [],
   "source": [
    "# First split sim_ids, and arr_time into train and test.\n",
    "# Based on this load param file for sims and index that"
   ]
  },
  {
   "cell_type": "code",
   "execution_count": 13,
   "metadata": {},
   "outputs": [
    {
     "name": "stdout",
     "output_type": "stream",
     "text": [
      "113\n"
     ]
    }
   ],
   "source": [
    "num_sim = len(data_sim_ids)\n",
    "print(num_sim)\n",
    "\n",
    "# train_size = np.int64(num_sim * 0.6)\n",
    "# valid_size = np.int64(num_sim * 0.2)\n",
    "# test_size = num_sim - train_size - valid_size\n",
    "# print(train_size, valid_size, test_size)\n",
    "\n",
    "train_frac, valid_frac, test_frac = 0.6, 0.15, 0.25"
   ]
  },
  {
   "cell_type": "code",
   "execution_count": 14,
   "metadata": {},
   "outputs": [],
   "source": [
    "generator1 = torch.Generator().manual_seed(2024)\n",
    "train_valid_test = random_split(data_sim_ids, \n",
    "                                [train_frac, valid_frac, test_frac],\n",
    "                                # [train_size, valid_size, test_size],\n",
    "                                generator=generator1)\n"
   ]
  },
  {
   "cell_type": "code",
   "execution_count": 15,
   "metadata": {},
   "outputs": [
    {
     "data": {
      "text/plain": [
       "array([  1,   3,   4,   5,   7,   9,  10,  11,  12,  13,  15,  16,  17,\n",
       "        18,  19,  20,  21,  23,  25,  26,  27,  28,  29,  30,  31,  32,\n",
       "        33,  34,  35,  36,  37,  38,  39,  40,  41,  42,  43,  44,  45,\n",
       "        46,  47,  48,  49,  50,  51,  52,  53,  54,  55,  56,  57,  58,\n",
       "        59,  60,  61,  62,  63,  64,  65,  66,  67,  68,  69,  71,  72,\n",
       "        73,  74,  75,  76,  77,  78,  79,  80,  81,  82,  83,  84,  85,\n",
       "        86,  87,  88,  89,  90,  91,  92,  93,  94,  95,  96,  97,  98,\n",
       "        99, 100, 101, 102, 103, 104, 105, 106, 107, 108, 109, 110, 111,\n",
       "       112, 113, 114, 115, 116, 117, 118, 119, 120])"
      ]
     },
     "execution_count": 15,
     "metadata": {},
     "output_type": "execute_result"
    }
   ],
   "source": [
    "data_sim_ids"
   ]
  },
  {
   "cell_type": "code",
   "execution_count": 16,
   "metadata": {},
   "outputs": [],
   "source": [
    "train_idx = np.array(train_valid_test[0].indices)\n",
    "valid_idx = np.array(train_valid_test[1].indices)\n",
    "test_idx = np.array(train_valid_test[2].indices)"
   ]
  },
  {
   "cell_type": "code",
   "execution_count": 17,
   "metadata": {},
   "outputs": [],
   "source": [
    "train_sims = data_sim_ids[train_idx] - 1\n",
    "val_sims = data_sim_ids[valid_idx] - 1\n",
    "test_sims = data_sim_ids[test_idx] - 1"
   ]
  },
  {
   "cell_type": "code",
   "execution_count": 18,
   "metadata": {},
   "outputs": [
    {
     "data": {
      "text/plain": [
       "array([  7,  43,  63,  33,  38,  73,  66,  20,  46,  80,  32,  21,  52,\n",
       "        91, 101, 105,  35, 109,  19,  61,  82,  72,  92,  81,  90,   9,\n",
       "        85,  39,  70,  40,  22,  45,  95,  24,  12,  97,   5,  67,  84,\n",
       "        74, 110,  30,  71, 100,  37,  98, 102,  94,  57,  53,  75,  83,\n",
       "       107,  42,  68,  69,  15,  59,  26,  10, 103, 112,  14,  56,  29,\n",
       "       111,  87,  49])"
      ]
     },
     "execution_count": 18,
     "metadata": {},
     "output_type": "execute_result"
    }
   ],
   "source": [
    "train_idx"
   ]
  },
  {
   "cell_type": "code",
   "execution_count": 19,
   "metadata": {},
   "outputs": [
    {
     "data": {
      "text/plain": [
       "(68, 17, 28)"
      ]
     },
     "execution_count": 19,
     "metadata": {},
     "output_type": "execute_result"
    }
   ],
   "source": [
    "ntrain = train_idx.shape[0]\n",
    "nval = valid_idx.shape[0]\n",
    "ntest = test_idx.shape[0]\n",
    "ntrain, nval, ntest"
   ]
  },
  {
   "cell_type": "code",
   "execution_count": 20,
   "metadata": {},
   "outputs": [],
   "source": [
    "all_idx = np.concatenate((train_idx, valid_idx, test_idx), axis=0)"
   ]
  },
  {
   "cell_type": "code",
   "execution_count": 21,
   "metadata": {},
   "outputs": [
    {
     "data": {
      "text/plain": [
       "(0, 112)"
      ]
     },
     "execution_count": 21,
     "metadata": {},
     "output_type": "execute_result"
    }
   ],
   "source": [
    "all_idx.min(), all_idx.max()"
   ]
  },
  {
   "cell_type": "code",
   "execution_count": 22,
   "metadata": {},
   "outputs": [
    {
     "data": {
      "text/plain": [
       "(113,)"
      ]
     },
     "execution_count": 22,
     "metadata": {},
     "output_type": "execute_result"
    }
   ],
   "source": [
    "data_arr_time.shape"
   ]
  },
  {
   "cell_type": "code",
   "execution_count": 23,
   "metadata": {},
   "outputs": [
    {
     "data": {
      "text/plain": [
       "array([70., 67., 59., 74., 56., 88., 59., 85., 73., 86., 89., 52., 53.,\n",
       "       78., 69., 67., 55., 61., 54., 59., 74., 71., 67., 51., 73., 56.,\n",
       "       63., 51., 77., 62., 63., 72., 51., 49., 50., 74., 46., 71., 55.,\n",
       "       61., 55., 67., 46., 65., 69., 56., 54., 51., 53., 64., 49., 44.,\n",
       "       56., 50., 55., 47., 54., 73., 46., 43., 53., 66., 44., 38., 45.,\n",
       "       54., 46., 46., 58., 50., 53., 47., 56., 43., 52., 39., 50., 63.,\n",
       "       55., 40., 41., 56., 44., 38., 47., 62., 41., 40., 47., 38., 58.,\n",
       "       39., 44., 37., 45., 49., 42., 39., 47., 35., 42., 33., 40., 40.,\n",
       "       41., 36., 40., 41., 45., 33., 36., 47., 32.])"
      ]
     },
     "execution_count": 23,
     "metadata": {},
     "output_type": "execute_result"
    }
   ],
   "source": [
    "data_arr_time"
   ]
  },
  {
   "cell_type": "markdown",
   "metadata": {},
   "source": [
    "Split `data_arr_time` into multiple targets. If the time is T1 for a given sim, split it into T1-50, T1 - 52, ..., T1 - 180 to associate each image of a time series for parameter $\\mu$ with a unique target."
   ]
  },
  {
   "cell_type": "code",
   "execution_count": 24,
   "metadata": {},
   "outputs": [
    {
     "data": {
      "text/plain": [
       "(40,\n",
       " array([102., 104., 106., 108., 110., 112., 114., 116., 118., 120., 122.,\n",
       "        124., 126., 128., 130., 132., 134., 136., 138., 140., 142., 144.,\n",
       "        146., 148., 150., 152., 154., 156., 158., 160., 162., 164., 166.,\n",
       "        168., 170., 172., 174., 176., 178., 180.]))"
      ]
     },
     "execution_count": 24,
     "metadata": {},
     "output_type": "execute_result"
    }
   ],
   "source": [
    "all_timesteps = np.linspace(2, 180, 90, dtype=int)\n",
    "tMinIdx = 50 # hardcoding for now, change later to accomodate variable length sequences\n",
    "tMaxIdx = len(all_timesteps) - 1\n",
    "nTimesteps = tMaxIdx - tMinIdx + 1\n",
    "\n",
    "\n",
    "\n",
    "# scale time appropriately\n",
    "tt_raw = np.linspace(all_timesteps[tMinIdx], all_timesteps[tMaxIdx], nTimesteps)\n",
    "tt = np.linspace(0, 1, tMaxIdx - tMinIdx + 1)\n",
    "tpredict = torch.Tensor(tt).to(device)\n",
    "\n",
    "nTimesteps, tt_raw"
   ]
  },
  {
   "cell_type": "code",
   "execution_count": 25,
   "metadata": {},
   "outputs": [],
   "source": [
    "data_arr_time_all_timesteps = np.zeros((num_sim, nTimesteps))\n",
    "for i in range(num_sim):\n",
    "    data_arr_time_all_timesteps[i, :] = data_arr_time[i] - (tt_raw / 60.0)"
   ]
  },
  {
   "cell_type": "code",
   "execution_count": 26,
   "metadata": {},
   "outputs": [
    {
     "data": {
      "text/plain": [
       "59.0"
      ]
     },
     "execution_count": 26,
     "metadata": {},
     "output_type": "execute_result"
    }
   ],
   "source": [
    "data_arr_time[2]"
   ]
  },
  {
   "cell_type": "code",
   "execution_count": 27,
   "metadata": {},
   "outputs": [
    {
     "data": {
      "text/plain": [
       "array([  7,  43,  63,  33,  38,  73,  66,  20,  46,  80,  32,  21,  52,\n",
       "        91, 101, 105,  35, 109,  19,  61,  82,  72,  92,  81,  90,   9,\n",
       "        85,  39,  70,  40,  22,  45,  95,  24,  12,  97,   5,  67,  84,\n",
       "        74, 110,  30,  71, 100,  37,  98, 102,  94,  57,  53,  75,  83,\n",
       "       107,  42,  68,  69,  15,  59,  26,  10, 103, 112,  14,  56,  29,\n",
       "       111,  87,  49])"
      ]
     },
     "execution_count": 27,
     "metadata": {},
     "output_type": "execute_result"
    }
   ],
   "source": [
    "train_idx"
   ]
  },
  {
   "cell_type": "code",
   "execution_count": 28,
   "metadata": {},
   "outputs": [],
   "source": [
    "# now split the all timesteps array correctly."
   ]
  },
  {
   "cell_type": "code",
   "execution_count": 29,
   "metadata": {},
   "outputs": [],
   "source": [
    "import sklearn\n",
    "import copy"
   ]
  },
  {
   "cell_type": "code",
   "execution_count": 30,
   "metadata": {},
   "outputs": [
    {
     "name": "stdout",
     "output_type": "stream",
     "text": [
      "(68,) (17,) (28,)\n"
     ]
    }
   ],
   "source": [
    "train_arr_raw = data_arr_time[train_idx]\n",
    "val_arr_raw = data_arr_time[valid_idx]\n",
    "test_arr_raw = data_arr_time[test_idx]\n",
    "\n",
    "print(train_arr_raw.shape, val_arr_raw.shape, test_arr_raw.shape)\n",
    "\n",
    "# pt = PowerTransformer(method='box-cox')\n",
    "# pt = sklearn.preprocessing.RobustScaler()\n",
    "pt = sklearn.preprocessing.MinMaxScaler()\n",
    "pt.fit(train_arr_raw.reshape(-1, 1))\n",
    "\n",
    "train_arr_pt = pt.transform(train_arr_raw.reshape(-1, 1))\n",
    "val_arr_pt = pt.transform(val_arr_raw.reshape(-1, 1))\n",
    "test_arr_pt = pt.transform(test_arr_raw.reshape(-1, 1))"
   ]
  },
  {
   "cell_type": "code",
   "execution_count": 31,
   "metadata": {},
   "outputs": [
    {
     "data": {
      "text/plain": [
       "(array([ 5., 13., 12.,  8.,  9.,  8.,  5.,  4.,  0.,  4.]),\n",
       " array([32. , 37.7, 43.4, 49.1, 54.8, 60.5, 66.2, 71.9, 77.6, 83.3, 89. ]),\n",
       " <BarContainer object of 10 artists>)"
      ]
     },
     "execution_count": 31,
     "metadata": {},
     "output_type": "execute_result"
    },
    {
     "data": {
      "image/png": "[encoded data removed]",
      "text/plain": [
       "<Figure size 640x480 with 1 Axes>"
      ]
     },
     "metadata": {},
     "output_type": "display_data"
    }
   ],
   "source": [
    "plt.hist(train_arr_raw.flatten())"
   ]
  },
  {
   "cell_type": "code",
   "execution_count": 32,
   "metadata": {},
   "outputs": [
    {
     "data": {
      "text/plain": [
       "(array([ 5., 13., 12.,  8.,  9.,  8.,  5.,  4.,  0.,  4.]),\n",
       " array([0. , 0.1, 0.2, 0.3, 0.4, 0.5, 0.6, 0.7, 0.8, 0.9, 1. ]),\n",
       " <BarContainer object of 10 artists>)"
      ]
     },
     "execution_count": 32,
     "metadata": {},
     "output_type": "execute_result"
    },
    {
     "data": {
      "image/png": "[encoded data removed]",
      "text/plain": [
       "<Figure size 640x480 with 1 Axes>"
      ]
     },
     "metadata": {},
     "output_type": "display_data"
    }
   ],
   "source": [
    "plt.hist(train_arr_pt.flatten())"
   ]
  },
  {
   "cell_type": "code",
   "execution_count": 33,
   "metadata": {},
   "outputs": [],
   "source": [
    "# Process image datasets in pretty much the same way as before."
   ]
  },
  {
   "cell_type": "code",
   "execution_count": 34,
   "metadata": {},
   "outputs": [],
   "source": [
    "raw_datafile = np.load(\"./data_surrogate/CR2192_120runs_C3_ratio_PolarTensor.npy\")"
   ]
  },
  {
   "cell_type": "code",
   "execution_count": 35,
   "metadata": {},
   "outputs": [
    {
     "data": {
      "text/plain": [
       "(128, 512, 90, 120)"
      ]
     },
     "execution_count": 35,
     "metadata": {},
     "output_type": "execute_result"
    }
   ],
   "source": [
    "raw_datafile.shape"
   ]
  },
  {
   "cell_type": "code",
   "execution_count": 36,
   "metadata": {},
   "outputs": [
    {
     "data": {
      "text/plain": [
       "(0.799298967364635, 1.5)"
      ]
     },
     "execution_count": 36,
     "metadata": {},
     "output_type": "execute_result"
    }
   ],
   "source": [
    "raw_min, raw_max = raw_datafile.min(), raw_datafile.max()\n",
    "raw_min, raw_max"
   ]
  },
  {
   "cell_type": "code",
   "execution_count": 37,
   "metadata": {},
   "outputs": [],
   "source": [
    "train_data_raw = raw_datafile[:, :, :, train_sims]\n",
    "val_data_raw = raw_datafile[:, :, :, val_sims]\n",
    "test_data_raw = raw_datafile[:, :, :, test_sims]"
   ]
  },
  {
   "cell_type": "code",
   "execution_count": 38,
   "metadata": {},
   "outputs": [],
   "source": [
    "resize_dims = args[\"resize_dims\"]\n",
    "\n",
    "train_data_resized = T.Resize(size=resize_dims,\n",
    "                                  antialias=True\n",
    "                                  )(torch.Tensor(train_data_raw.transpose(3, 2, 0, 1)))\n",
    "    \n",
    "val_data_resized = T.Resize(size=resize_dims,\n",
    "                            antialias=True\n",
    "                            )(torch.Tensor(val_data_raw.transpose(3, 2, 0, 1)))\n",
    "\n",
    "test_data_resized = T.Resize(size=resize_dims,\n",
    "                            antialias=True\n",
    "                            )(torch.Tensor(test_data_raw.transpose(3, 2, 0, 1)))"
   ]
  },
  {
   "cell_type": "code",
   "execution_count": 39,
   "metadata": {},
   "outputs": [
    {
     "data": {
      "text/plain": [
       "(tensor(1.5000), tensor(0.8940))"
      ]
     },
     "execution_count": 39,
     "metadata": {},
     "output_type": "execute_result"
    }
   ],
   "source": [
    "max_train = torch.max(train_data_resized)\n",
    "min_train = torch.min(train_data_resized)\n",
    "\n",
    "max_train, min_train"
   ]
  },
  {
   "cell_type": "code",
   "execution_count": 40,
   "metadata": {},
   "outputs": [],
   "source": [
    "train_data = (train_data_resized[:, tMinIdx:(tMaxIdx + 1), :, :] - min_train)/(max_train - min_train)\n",
    "val_data = (val_data_resized[:, tMinIdx:(tMaxIdx + 1), :, :] - min_train)/(max_train - min_train)\n",
    "test_data = (test_data_resized[:, tMinIdx:(tMaxIdx + 1), :, :] - min_train)/(max_train - min_train)"
   ]
  },
  {
   "cell_type": "code",
   "execution_count": 41,
   "metadata": {},
   "outputs": [
    {
     "data": {
      "text/plain": [
       "(torch.Size([68, 40, 16, 64]),\n",
       " torch.Size([17, 40, 16, 64]),\n",
       " torch.Size([28, 40, 16, 64]))"
      ]
     },
     "execution_count": 41,
     "metadata": {},
     "output_type": "execute_result"
    }
   ],
   "source": [
    "train_data.shape, val_data.shape, test_data.shape"
   ]
  },
  {
   "cell_type": "code",
   "execution_count": 42,
   "metadata": {},
   "outputs": [
    {
     "data": {
      "text/plain": [
       "(tensor(1.), tensor(1.), tensor(1.))"
      ]
     },
     "execution_count": 42,
     "metadata": {},
     "output_type": "execute_result"
    }
   ],
   "source": [
    "train_data.max(), val_data.max(), test_data.max()"
   ]
  },
  {
   "cell_type": "markdown",
   "metadata": {},
   "source": [
    "### Concatenate parameters (optional)"
   ]
  },
  {
   "cell_type": "code",
   "execution_count": 43,
   "metadata": {},
   "outputs": [
    {
     "data": {
      "text/html": [
       "<div>\n",
       "<style scoped>\n",
       "    .dataframe tbody tr th:only-of-type {\n",
       "        vertical-align: middle;\n",
       "    }\n",
       "\n",
       "    .dataframe tbody tr th {\n",
       "        vertical-align: top;\n",
       "    }\n",
       "\n",
       "    .dataframe thead th {\n",
       "        text-align: right;\n",
       "    }\n",
       "</style>\n",
       "<table border=\"1\" class=\"dataframe\">\n",
       "  <thead>\n",
       "    <tr style=\"text-align: right;\">\n",
       "      <th></th>\n",
       "      <th>BStrength</th>\n",
       "      <th>OrientationCme</th>\n",
       "      <th>ApexHeight</th>\n",
       "      <th>iHelicity</th>\n",
       "    </tr>\n",
       "  </thead>\n",
       "  <tbody>\n",
       "    <tr>\n",
       "      <th>0</th>\n",
       "      <td>5.0417</td>\n",
       "      <td>347.475</td>\n",
       "      <td>0.8505</td>\n",
       "      <td>-1</td>\n",
       "    </tr>\n",
       "    <tr>\n",
       "      <th>1</th>\n",
       "      <td>5.1250</td>\n",
       "      <td>330.225</td>\n",
       "      <td>0.7196</td>\n",
       "      <td>1</td>\n",
       "    </tr>\n",
       "    <tr>\n",
       "      <th>2</th>\n",
       "      <td>6.7917</td>\n",
       "      <td>380.475</td>\n",
       "      <td>0.7482</td>\n",
       "      <td>1</td>\n",
       "    </tr>\n",
       "    <tr>\n",
       "      <th>3</th>\n",
       "      <td>5.3750</td>\n",
       "      <td>342.225</td>\n",
       "      <td>0.9123</td>\n",
       "      <td>-1</td>\n",
       "    </tr>\n",
       "    <tr>\n",
       "      <th>4</th>\n",
       "      <td>5.2917</td>\n",
       "      <td>322.725</td>\n",
       "      <td>0.8719</td>\n",
       "      <td>1</td>\n",
       "    </tr>\n",
       "    <tr>\n",
       "      <th>...</th>\n",
       "      <td>...</td>\n",
       "      <td>...</td>\n",
       "      <td>...</td>\n",
       "      <td>...</td>\n",
       "    </tr>\n",
       "    <tr>\n",
       "      <th>115</th>\n",
       "      <td>14.6250</td>\n",
       "      <td>300.225</td>\n",
       "      <td>0.6911</td>\n",
       "      <td>1</td>\n",
       "    </tr>\n",
       "    <tr>\n",
       "      <th>116</th>\n",
       "      <td>14.7083</td>\n",
       "      <td>371.475</td>\n",
       "      <td>0.9337</td>\n",
       "      <td>1</td>\n",
       "    </tr>\n",
       "    <tr>\n",
       "      <th>117</th>\n",
       "      <td>14.7917</td>\n",
       "      <td>348.225</td>\n",
       "      <td>0.7743</td>\n",
       "      <td>1</td>\n",
       "    </tr>\n",
       "    <tr>\n",
       "      <th>118</th>\n",
       "      <td>14.8750</td>\n",
       "      <td>312.975</td>\n",
       "      <td>0.7363</td>\n",
       "      <td>-1</td>\n",
       "    </tr>\n",
       "    <tr>\n",
       "      <th>119</th>\n",
       "      <td>14.9583</td>\n",
       "      <td>340.725</td>\n",
       "      <td>0.8933</td>\n",
       "      <td>-1</td>\n",
       "    </tr>\n",
       "  </tbody>\n",
       "</table>\n",
       "<p>120 rows × 4 columns</p>\n",
       "</div>"
      ],
      "text/plain": [
       "     BStrength  OrientationCme  ApexHeight  iHelicity\n",
       "0       5.0417         347.475      0.8505         -1\n",
       "1       5.1250         330.225      0.7196          1\n",
       "2       6.7917         380.475      0.7482          1\n",
       "3       5.3750         342.225      0.9123         -1\n",
       "4       5.2917         322.725      0.8719          1\n",
       "..         ...             ...         ...        ...\n",
       "115    14.6250         300.225      0.6911          1\n",
       "116    14.7083         371.475      0.9337          1\n",
       "117    14.7917         348.225      0.7743          1\n",
       "118    14.8750         312.975      0.7363         -1\n",
       "119    14.9583         340.725      0.8933         -1\n",
       "\n",
       "[120 rows x 4 columns]"
      ]
     },
     "execution_count": 43,
     "metadata": {},
     "output_type": "execute_result"
    }
   ],
   "source": [
    "raw_params = pd.read_csv(\"./data_surrogate/params_2192_120runs.csv\")\n",
    "raw_params = raw_params[[\"BStrength\", \"OrientationCme\", \"ApexHeight\", \"iHelicity\"]]\n",
    "raw_params"
   ]
  },
  {
   "cell_type": "code",
   "execution_count": 44,
   "metadata": {},
   "outputs": [
    {
     "data": {
      "text/html": [
       "<div>\n",
       "<style scoped>\n",
       "    .dataframe tbody tr th:only-of-type {\n",
       "        vertical-align: middle;\n",
       "    }\n",
       "\n",
       "    .dataframe tbody tr th {\n",
       "        vertical-align: top;\n",
       "    }\n",
       "\n",
       "    .dataframe thead th {\n",
       "        text-align: right;\n",
       "    }\n",
       "</style>\n",
       "<table border=\"1\" class=\"dataframe\">\n",
       "  <thead>\n",
       "    <tr style=\"text-align: right;\">\n",
       "      <th></th>\n",
       "      <th>BStrength</th>\n",
       "      <th>OrientationCme</th>\n",
       "      <th>ApexHeight</th>\n",
       "      <th>iHelicity</th>\n",
       "    </tr>\n",
       "  </thead>\n",
       "  <tbody>\n",
       "    <tr>\n",
       "      <th>min</th>\n",
       "      <td>5.0417</td>\n",
       "      <td>294.975</td>\n",
       "      <td>0.6673</td>\n",
       "      <td>-1</td>\n",
       "    </tr>\n",
       "    <tr>\n",
       "      <th>max</th>\n",
       "      <td>14.9583</td>\n",
       "      <td>384.225</td>\n",
       "      <td>0.9504</td>\n",
       "      <td>1</td>\n",
       "    </tr>\n",
       "  </tbody>\n",
       "</table>\n",
       "</div>"
      ],
      "text/plain": [
       "     BStrength  OrientationCme  ApexHeight  iHelicity\n",
       "min     5.0417         294.975      0.6673         -1\n",
       "max    14.9583         384.225      0.9504          1"
      ]
     },
     "execution_count": 44,
     "metadata": {},
     "output_type": "execute_result"
    }
   ],
   "source": [
    "raw_params.agg(['min', 'max'])"
   ]
  },
  {
   "cell_type": "code",
   "execution_count": 45,
   "metadata": {},
   "outputs": [
    {
     "data": {
      "text/plain": [
       "(113, 4)"
      ]
     },
     "execution_count": 45,
     "metadata": {},
     "output_type": "execute_result"
    }
   ],
   "source": [
    "raw_params_retained = raw_params.to_numpy()[data_sim_ids - 1, :]\n",
    "raw_params_retained.shape"
   ]
  },
  {
   "cell_type": "code",
   "execution_count": 46,
   "metadata": {},
   "outputs": [],
   "source": [
    "# raw_params_np = raw_params_retained.to_numpy()"
   ]
  },
  {
   "cell_type": "code",
   "execution_count": 47,
   "metadata": {},
   "outputs": [],
   "source": [
    "param_scaling = [15, 384, 0.95, 1]"
   ]
  },
  {
   "cell_type": "code",
   "execution_count": 48,
   "metadata": {},
   "outputs": [
    {
     "data": {
      "text/plain": [
       "(68, 4)"
      ]
     },
     "execution_count": 48,
     "metadata": {},
     "output_type": "execute_result"
    }
   ],
   "source": [
    "raw_params_retained[train_idx, :].shape"
   ]
  },
  {
   "cell_type": "markdown",
   "metadata": {},
   "source": [
    "### Train-test split and normalization\n",
    "\n",
    "Use train_idx, valid_idx and test_idx"
   ]
  },
  {
   "cell_type": "code",
   "execution_count": 49,
   "metadata": {},
   "outputs": [],
   "source": [
    "train_params_raw = raw_params_retained[train_idx, :] / param_scaling\n",
    "valid_params_raw = raw_params_retained[valid_idx, :] / param_scaling\n",
    "test_params_raw = raw_params_retained[test_idx, :] / param_scaling"
   ]
  },
  {
   "cell_type": "code",
   "execution_count": 50,
   "metadata": {},
   "outputs": [],
   "source": [
    "train_snaps = train_data.reshape((train_data.shape[0], train_data.shape[1], -1))\n",
    "val_snaps = val_data.reshape((val_data.shape[0], val_data.shape[1], -1))\n",
    "test_snaps = test_data.reshape((test_data.shape[0], test_data.shape[1], -1))\n",
    "\n",
    "# repeat parameter values up to number of timesteps\n",
    "train_params_ts = np.repeat(train_params_raw.reshape((train_params_raw.shape[0], train_params_raw.shape[1], 1)), nTimesteps, axis=2)\n",
    "val_params_ts = np.repeat(valid_params_raw.reshape((valid_params_raw.shape[0], valid_params_raw.shape[1], 1)), nTimesteps, axis=2)\n",
    "test_params_ts = np.repeat(test_params_raw.reshape((test_params_raw.shape[0], test_params_raw.shape[1], 1)), nTimesteps, axis=2)\n",
    "\n",
    "# concatenate snaps and params\n",
    "train_all = torch.cat((train_snaps, torch.Tensor(np.transpose(train_params_ts, (0, 2, 1)))), 2)\n",
    "val_all = torch.cat((val_snaps, torch.Tensor(np.transpose(val_params_ts, (0, 2, 1)))), 2)\n",
    "test_all = torch.cat((test_snaps, torch.Tensor(np.transpose(test_params_ts, (0, 2, 1)))), 2)"
   ]
  },
  {
   "cell_type": "code",
   "execution_count": 51,
   "metadata": {},
   "outputs": [
    {
     "data": {
      "text/plain": [
       "(torch.Size([68, 40, 1024]), torch.Size([17, 40, 1024]))"
      ]
     },
     "execution_count": 51,
     "metadata": {},
     "output_type": "execute_result"
    }
   ],
   "source": [
    "train_snaps.shape, val_snaps.shape"
   ]
  },
  {
   "cell_type": "code",
   "execution_count": 52,
   "metadata": {},
   "outputs": [],
   "source": [
    "train_arr_ts = torch.Tensor(train_arr_pt)\n",
    "val_arr_ts = torch.Tensor(val_arr_pt)\n",
    "test_arr_ts = torch.Tensor(test_arr_pt)\n",
    "\n",
    "train_arr_raw_ts = torch.Tensor(train_arr_raw).unsqueeze(1)\n",
    "val_arr_raw_ts = torch.Tensor(val_arr_raw).unsqueeze(1)\n",
    "test_arr_raw_ts = torch.Tensor(test_arr_raw).unsqueeze(1)"
   ]
  },
  {
   "cell_type": "code",
   "execution_count": 53,
   "metadata": {},
   "outputs": [
    {
     "data": {
      "text/plain": [
       "(torch.Size([68, 40, 1028]),\n",
       " torch.Size([17, 40, 1028]),\n",
       " torch.Size([28, 40, 1028]))"
      ]
     },
     "execution_count": 53,
     "metadata": {},
     "output_type": "execute_result"
    }
   ],
   "source": [
    "train_all.shape, val_all.shape, test_all.shape"
   ]
  },
  {
   "cell_type": "code",
   "execution_count": 54,
   "metadata": {},
   "outputs": [
    {
     "data": {
      "text/plain": [
       "(68, 17, 28)"
      ]
     },
     "execution_count": 54,
     "metadata": {},
     "output_type": "execute_result"
    }
   ],
   "source": [
    "ntrain, nval, ntest"
   ]
  },
  {
   "cell_type": "code",
   "execution_count": 55,
   "metadata": {},
   "outputs": [],
   "source": [
    "train_dataset = []\n",
    "val_dataset = []\n",
    "test_dataset = []\n",
    "for i in range(ntrain):\n",
    "    for j in range(1, nTimesteps - 1):\n",
    "        train_dataset.append((train_all[i:(i+1), (j-1):(j+2), :], train_arr_ts[i, :], train_arr_raw_ts[i, :]))\n",
    "\n",
    "for i in range(nval):\n",
    "    for j in range(1, nTimesteps - 1):\n",
    "        val_dataset.append((val_all[i:(i+1), (j-1):(j+2), :], val_arr_ts[i, :], val_arr_raw_ts[i, :]))\n",
    "\n",
    "for i in range(ntest):\n",
    "    for j in range(1, nTimesteps - 1):\n",
    "        test_dataset.append((test_all[i:(i+1), (j-1):(j+2), :], test_arr_ts[i, :], test_arr_raw_ts[i, :]))"
   ]
  },
  {
   "cell_type": "code",
   "execution_count": 56,
   "metadata": {},
   "outputs": [],
   "source": [
    "train_dataloader = DataLoader(train_dataset, \n",
    "                              batch_size = args[\"batch_size\"],\n",
    "                              shuffle=True, \n",
    "                              )\n",
    "\n",
    "val_dataloader = DataLoader(val_dataset,\n",
    "                            batch_size = args[\"batch_size\"],\n",
    "                            shuffle=False,\n",
    "                            )\n",
    "\n",
    "test_dataloader = DataLoader(test_dataset,\n",
    "                             batch_size = len(test_dataset),\n",
    "                             shuffle=False,\n",
    "                             )"
   ]
  },
  {
   "cell_type": "code",
   "execution_count": 57,
   "metadata": {},
   "outputs": [
    {
     "data": {
      "text/plain": [
       "torch.Size([28, 40, 1028])"
      ]
     },
     "execution_count": 57,
     "metadata": {},
     "output_type": "execute_result"
    }
   ],
   "source": [
    "test_all.shape"
   ]
  },
  {
   "cell_type": "code",
   "execution_count": 58,
   "metadata": {},
   "outputs": [
    {
     "data": {
      "text/plain": [
       "(2584, 646, 1064)"
      ]
     },
     "execution_count": 58,
     "metadata": {},
     "output_type": "execute_result"
    }
   ],
   "source": [
    "len(train_dataset), len(val_dataset), len(test_dataset)"
   ]
  },
  {
   "cell_type": "code",
   "execution_count": 59,
   "metadata": {},
   "outputs": [],
   "source": [
    "def inf_generator(iterable):\n",
    "    \"\"\"Allows training with DataLoaders in a single infinite loop:\n",
    "        for i, (x, y) in enumerate(inf_generator(train_loader)):\n",
    "    \"\"\"\n",
    "    iterator = iterable.__iter__()\n",
    "    while True:\n",
    "        try:\n",
    "            yield iterator.__next__()\n",
    "        except StopIteration:\n",
    "            iterator = iterable.__iter__()\n",
    "\n",
    "def get_next_batch(dataloader, device=torch.device(\"cuda:0\")):\n",
    "    return dataloader.__next__()"
   ]
  },
  {
   "cell_type": "code",
   "execution_count": 60,
   "metadata": {},
   "outputs": [],
   "source": [
    "# blah = train_dataloader.__iter__().__next__()\n",
    "# print(blah[0].shape, blah[1].shape, blah[2].shape)\n",
    "# x_ip = blah[0][:, 0, :, :1024].reshape(-1, 3, 16, 64)\n",
    "# x_param = blah[0][:, 0, 0, 1024:]\n",
    "# x_ft = torch.flatten(model.features(x_ip), 1)\n",
    "# x_ft_cat = torch.cat((x_ft, x_param), 1)\n",
    "# model.regressor(x_ft_cat).shape"
   ]
  },
  {
   "cell_type": "code",
   "execution_count": 61,
   "metadata": {},
   "outputs": [],
   "source": [
    "class WLCNN_Discrete(torch.nn.Module):\n",
    "    def __init__(self, n_hidden_1,\n",
    "                  n_hidden_2):\n",
    "        super(WLCNN_Discrete, self).__init__()\n",
    "        in_channels = 3\n",
    "\n",
    "        self.features = torch.nn.Sequential(\n",
    "            nn.Conv2d(in_channels, 8, kernel_size=3, stride=1, padding=1),\n",
    "            nn.BatchNorm2d(8),\n",
    "            nn.ELU(),\n",
    "            nn.Conv2d(8, 16, kernel_size=5, stride=3, padding=3),\n",
    "            nn.BatchNorm2d(16),\n",
    "            nn.ELU(),\n",
    "            # nn.ELU(),\n",
    "            # nn.Conv2d(32, 64, kernel_size=7, stride=1, padding=1),\n",
    "            # nn.BatchNorm2d(64),\n",
    "            # nn.ELU(),\n",
    "            nn.MaxPool2d(kernel_size=3, stride=1),\n",
    "        )\n",
    "\n",
    "        self.regressor = torch.nn.Sequential(\n",
    "            # nn.Linear(1280, n_hidden_1),\n",
    "            nn.Linear(1284, n_hidden_1),\n",
    "            nn.BatchNorm1d(n_hidden_1),\n",
    "            nn.ELU(),\n",
    "            nn.Dropout(p=0.5),\n",
    "            nn.Linear(n_hidden_1, n_hidden_2),\n",
    "            nn.BatchNorm1d(n_hidden_2),\n",
    "            nn.Dropout(p=0.5),\n",
    "            nn.ELU(),\n",
    "            nn.Linear(n_hidden_2, 1)\n",
    "        )\n",
    "\n",
    "    def forward(self, x):\n",
    "        x_ip = x[:, 0, :, :1024].reshape(-1, 3, 16, 64)\n",
    "        x_param = x[:, 0, 0, 1024:]\n",
    "        \n",
    "        x_ft = self.features(x_ip)\n",
    "        \n",
    "        x_ft = torch.flatten(x_ft, 1)\n",
    "\n",
    "        x_ft_cat = torch.cat((x_ft, x_param), 1)\n",
    "        # xpred = self.regressor(x_ft)\n",
    "        xpred = self.regressor(x_ft_cat)\n",
    "\n",
    "        return xpred\n",
    "\n",
    "    # def predict(self, x):\n",
    "    #     xpred = self(x)\n",
    "    #     return xpred"
   ]
  },
  {
   "cell_type": "code",
   "execution_count": 62,
   "metadata": {},
   "outputs": [],
   "source": [
    "# model = WLCNN_Discrete(n_hidden_1=16,\n",
    "#                        n_hidden_2=8).to(device)"
   ]
  },
  {
   "cell_type": "code",
   "execution_count": 63,
   "metadata": {},
   "outputs": [],
   "source": [
    "import node_utils as nut\n",
    "import data_utils as dut\n",
    "import copy"
   ]
  },
  {
   "cell_type": "code",
   "execution_count": 64,
   "metadata": {},
   "outputs": [
    {
     "name": "stdout",
     "output_type": "stream",
     "text": [
      "Total number of parameters for model with concatenation:  24241\n",
      "Loading experiment\n",
      "Experiment ID:  56\n",
      "Checkpoint path:  /Users/ajivani/Desktop/Research/WLROM/WhiteLight/arr_experiments/experiment_56.ckpt\n",
      "/Users/ajivani/Desktop/Research/WLROM/WhiteLight\n",
      "WLCNN_Discrete(\n",
      "  (features): Sequential(\n",
      "    (0): Conv2d(3, 8, kernel_size=(3, 3), stride=(1, 1), padding=(1, 1))\n",
      "    (1): BatchNorm2d(8, eps=1e-05, momentum=0.1, affine=True, track_running_stats=True)\n",
      "    (2): ELU(alpha=1.0)\n",
      "    (3): Conv2d(8, 16, kernel_size=(5, 5), stride=(3, 3), padding=(3, 3))\n",
      "    (4): BatchNorm2d(16, eps=1e-05, momentum=0.1, affine=True, track_running_stats=True)\n",
      "    (5): ELU(alpha=1.0)\n",
      "    (6): MaxPool2d(kernel_size=3, stride=1, padding=0, dilation=1, ceil_mode=False)\n",
      "  )\n",
      "  (regressor): Sequential(\n",
      "    (0): Linear(in_features=1284, out_features=16, bias=True)\n",
      "    (1): BatchNorm1d(16, eps=1e-05, momentum=0.1, affine=True, track_running_stats=True)\n",
      "    (2): ELU(alpha=1.0)\n",
      "    (3): Dropout(p=0.5, inplace=False)\n",
      "    (4): Linear(in_features=16, out_features=8, bias=True)\n",
      "    (5): BatchNorm1d(8, eps=1e-05, momentum=0.1, affine=True, track_running_stats=True)\n",
      "    (6): Dropout(p=0.5, inplace=False)\n",
      "    (7): ELU(alpha=1.0)\n",
      "    (8): Linear(in_features=8, out_features=1, bias=True)\n",
      "  )\n",
      ")\n",
      "Number of parameters: 24241\n",
      "{'niters': 400, 'lr': 0.001, 'save': 'arr_experiments/', 'load': 56, 'r': 1991, 'resize_dims': (16, 64), 'param_scaling': [1, 1], 'warm_start': 20376, 'do_warm_start': False, 'loss': 'mae', 'batch_size': 32, 'dropout': False}\n",
      "/Users/ajivani/Desktop/Research/WLROM/WhiteLight/arr_experiments/experiment_56.ckpt\n",
      "cpu\n"
     ]
    }
   ],
   "source": [
    "model = WLCNN_Discrete(n_hidden_1=16,\n",
    "                       n_hidden_2=8).to(device)\n",
    "pmodel = nut.count_parameters(model)\n",
    "\n",
    "\n",
    "print(\"Total number of parameters for model with concatenation: \", pmodel)\n",
    "\n",
    "nut.makedirs(os.path.join(os.getcwd(), \"arr_logs\"))\n",
    "logdir = os.path.join(os.getcwd(), \"arr_logs\")\n",
    "\n",
    "exptdir = os.path.join(os.getcwd(), args[\"save\"])\n",
    "nut.makedirs(exptdir)\n",
    "\n",
    "if args[\"load\"] is not None:\n",
    "    experimentID = args[\"load\"]\n",
    "    print(\"Loading experiment\")\n",
    "else:\n",
    "    if args[\"do_warm_start\"]==True:\n",
    "        experimentID = args[\"warm_start\"]\n",
    "        print(\"Warm starting previous experiment\")\n",
    "    else:\n",
    "        experimentID = int(SystemRandom().random() * 1e5)\n",
    "        print(\"Starting New experiment\")\n",
    "\n",
    "print(\"Experiment ID: \", experimentID)\n",
    "\n",
    "ckpt_path = ckpt_path = os.path.join(exptdir, \"experiment_\" + str(experimentID) + '.ckpt')\n",
    "\n",
    "print(\"Checkpoint path: \", ckpt_path)\n",
    "\n",
    "logger = dut.get_logger(logpath=os.path.join(logdir, \"experiment_\" + str(experimentID) + '.log'))\n",
    "\n",
    "logger.info(os.getcwd())\n",
    "logger.info(model)\n",
    "logger.info(\"Number of parameters: {}\".format(pmodel))\n",
    "logger.info(args)\n",
    "logger.info(ckpt_path)\n",
    "logger.info(device)"
   ]
  },
  {
   "cell_type": "code",
   "execution_count": 66,
   "metadata": {},
   "outputs": [
    {
     "name": "stdout",
     "output_type": "stream",
     "text": [
      "L1Loss()\n",
      "Loading early stopped model ID 56 from arr_experiments/experiment_56_earlystopping.ckpt\n"
     ]
    }
   ],
   "source": [
    "optimizer = optim.Adam(model.parameters(), lr=args[\"lr\"])\n",
    "if args[\"loss\"] == \"smooth_l1\":\n",
    "    criterion = nn.SmoothL1Loss().to(device)\n",
    "elif args[\"loss\"] == \"mae\":\n",
    "    criterion = nn.L1Loss().to(device)\n",
    "elif args[\"loss\"] == \"mse\":\n",
    "    criterion = nn.MSELoss().to(device)\n",
    "\n",
    "# criterion = InverseBoxCoxLoss(pt)\n",
    "\n",
    "print(criterion)\n",
    "early_stopping = nut.EarlyStopping(patience=20,\n",
    "                                verbose=True,\n",
    "                                path=ckpt_path)\n",
    "\n",
    "scheduler = torch.optim.lr_scheduler.ReduceLROnPlateau(optimizer, 'min', factor=0.6, patience=40)\n",
    "N_EPOCHS = args[\"niters\"]\n",
    "\n",
    "num_batches = 1\n",
    "all_train_loss = []\n",
    "all_valid_loss = []\n",
    "ckpt_freq = 10\n",
    "if args[\"load\"] is None:\n",
    "    if args[\"do_warm_start\"] == True:\n",
    "        checkpoint = torch.load(ckpt_path)\n",
    "        model.load_state_dict(checkpoint['model'])\n",
    "        start_epoch = checkpoint['epoch']\n",
    "        optimizer.load_state_dict(checkpoint['optimizer_state'])\n",
    "        print(\"Warm Starting Experiment {} from Epoch {}\".format(experimentID, start_epoch))\n",
    "    else:\n",
    "        start_epoch = 0\n",
    "        print(\"Starting a new experiment {} from Epoch {}\".format(experimentID, start_epoch))\n",
    "\n",
    "    # Resume training from specific epoch\n",
    "    for itr in track(range(start_epoch + 1, num_batches * (args[\"niters\"] + 1)), description=\"Looping over epochs...\"):\n",
    "        train_loss = 0.0\n",
    "        valid_loss = 0.0\n",
    "        model.train()\n",
    "        optimizer.zero_grad()\n",
    "\n",
    "        for i, (raw_img, arr_target_scaled, arr_target) in enumerate(train_dataloader):\n",
    "            raw_img = raw_img.to(device)\n",
    "            # arr_target = arr_target.to(device)\n",
    "            arr_target = arr_target_scaled.to(device)\n",
    "\n",
    "            # Forward pass\n",
    "            arr_pred = model(raw_img)\n",
    "\n",
    "            # Compute Loss\n",
    "            loss = criterion(arr_pred, arr_target)\n",
    "\n",
    "            # Backward pass\n",
    "            loss.backward()\n",
    "            optimizer.step()\n",
    "            train_loss += loss.item()\n",
    "\n",
    "        model.eval()\n",
    "        with torch.no_grad():\n",
    "            for i, (raw_img_val, arr_target_val_scaled, arr_target_val) in enumerate(val_dataloader):\n",
    "                raw_img_val = raw_img_val.to(device)\n",
    "                # arr_target_val = arr_target_val.to(device)\n",
    "                arr_target_val = arr_target_val_scaled.to(device)\n",
    "\n",
    "                # Forward pass\n",
    "                arr_pred_val = model(raw_img_val)\n",
    "\n",
    "                val_loss = criterion(arr_pred_val, arr_target_val)\n",
    "\n",
    "                valid_loss += val_loss.item()\n",
    "\n",
    "        train_loss = train_loss / len(train_dataloader)\n",
    "        valid_loss = valid_loss / len(val_dataloader)\n",
    "\n",
    "        all_train_loss.append(train_loss)\n",
    "        all_valid_loss.append(valid_loss)\n",
    "\n",
    "\n",
    "        message = 'Epoch {:04d}|Val loss {:.6e}|Train loss {:.6e}|LR {:.5f}|'.format(\n",
    "                        itr//num_batches,\n",
    "                        valid_loss,\n",
    "                        train_loss,\n",
    "                        optimizer.param_groups[0][\"lr\"])\n",
    "        \n",
    "        logger.info(message)\n",
    "        scheduler.step(valid_loss)\n",
    "\n",
    "        if itr % ckpt_freq == 0:\n",
    "            early_stopping(val_loss, all_valid_loss, all_train_loss, model, optimizer, itr, args)\n",
    "\n",
    "        if early_stopping.early_stop:\n",
    "            logger.info(\"Early stopping\")\n",
    "            torch.save({'epoch': itr,\n",
    "                    'model': model.state_dict(),\n",
    "                    'optimizer_state': optimizer.state_dict(),\n",
    "                    'val_loss': val_loss,\n",
    "                    'all_train_loss': all_train_loss,\n",
    "                    'all_valid_loss': all_valid_loss,\n",
    "                    'args': args},\n",
    "                    os.path.join(args[\"save\"], \"experiment_\" + str(experimentID) + \"_earlystopping.ckpt\"))\n",
    "            break\n",
    "else:\n",
    "    # check if early stopped model is available!\n",
    "    early_stop_filepath = os.path.join(args[\"save\"], \"experiment_\" + str(experimentID) + \"_earlystopping.ckpt\")\n",
    "\n",
    "    if os.path.exists(early_stop_filepath):\n",
    "        if args[\"load\"] == 56:\n",
    "            early_stp_ckpt = torch.load(early_stop_filepath)\n",
    "            model.load_state_dict(early_stp_ckpt)\n",
    "        else:\n",
    "            nut.get_ckpt_model(early_stop_filepath, model, optimizer, device)\n",
    "        print(\"Loading early stopped model ID {} from {}\".format(experimentID, early_stop_filepath))\n",
    "    else:\n",
    "        nut.get_ckpt_model(ckpt_path, model, optimizer, device)\n",
    "        print(\"Loading existing model ID {} from {}\".format(experimentID, ckpt_path))\n"
   ]
  },
  {
   "cell_type": "code",
   "execution_count": 67,
   "metadata": {},
   "outputs": [],
   "source": [
    "if args[\"load\"] is None: # can remove this loop condition for future experiments since early stopping will also save all_train_loss and all_valid_loss quantities henceforth (Sep 24)\n",
    "    plt.plot(all_train_loss, label=\"train\")\n",
    "    plt.plot(all_valid_loss, label=\"val\")\n",
    "    plt.legend()"
   ]
  },
  {
   "cell_type": "code",
   "execution_count": 68,
   "metadata": {},
   "outputs": [],
   "source": [
    "train_data_eval = DataLoader(train_dataset, \n",
    "        batch_size = len(train_dataset),\n",
    "        shuffle=False, \n",
    "        )\n",
    "\n",
    "train_eval_batch = get_next_batch(inf_generator(train_data_eval))"
   ]
  },
  {
   "cell_type": "code",
   "execution_count": 69,
   "metadata": {},
   "outputs": [
    {
     "name": "stdout",
     "output_type": "stream",
     "text": [
      "0.9979828558374385\n"
     ]
    },
    {
     "data": {
      "image/png": "[encoded data removed]",
      "text/plain": [
       "<Figure size 640x480 with 1 Axes>"
      ]
     },
     "metadata": {},
     "output_type": "display_data"
    }
   ],
   "source": [
    "model.eval()\n",
    "with torch.no_grad():\n",
    "    train_preds_scaled = model(train_eval_batch[0]).cpu().numpy()\n",
    "\n",
    "train_preds_unscaled = pt.inverse_transform(train_preds_scaled)\n",
    "train_targets_all = train_eval_batch[2].cpu().numpy()\n",
    "\n",
    "plt.scatter(train_targets_all, train_preds_unscaled)\n",
    "plt.plot(np.linspace(35, 100, 40), np.linspace(35, 100, 40), '--')\n",
    "plt.xlabel(\"Train Arrival Time\")\n",
    "plt.ylabel(\"Predicted Arrival Time on Train\")\n",
    "\n",
    "print(np.corrcoef(train_targets_all.flatten(), train_preds_unscaled.flatten())[1][0])"
   ]
  },
  {
   "cell_type": "code",
   "execution_count": 70,
   "metadata": {},
   "outputs": [
    {
     "name": "stdout",
     "output_type": "stream",
     "text": [
      "0.9804379529048162\n"
     ]
    },
    {
     "data": {
      "image/png": "[encoded data removed]",
      "text/plain": [
       "<Figure size 640x480 with 1 Axes>"
      ]
     },
     "metadata": {},
     "output_type": "display_data"
    }
   ],
   "source": [
    "test_data_all = get_next_batch(inf_generator(test_dataloader))\n",
    "# true_test_arrs = pt.inverse_transform(test_data_all[1].cpu().numpy())\n",
    "true_test_arrs = test_data_all[2].cpu().numpy()\n",
    "model.eval()\n",
    "with torch.no_grad():\n",
    "    test_preds = model(test_data_all[0].to(device)).cpu().numpy()\n",
    "\n",
    "test_preds_unscaled = pt.inverse_transform(test_preds)\n",
    "\n",
    "plt.scatter(true_test_arrs, test_preds_unscaled)\n",
    "plt.plot(np.linspace(35, 100, 40), np.linspace(35, 100, 40), '--')\n",
    "plt.xlabel(\"Test Arrival Time\")\n",
    "plt.ylabel(\"Predicted Arrival Time on Test (All Frames)\")\n",
    "\n",
    "print(np.corrcoef(true_test_arrs.flatten(), test_preds_unscaled.flatten())[1][0])"
   ]
  },
  {
   "cell_type": "code",
   "execution_count": null,
   "metadata": {},
   "outputs": [],
   "source": []
  },
  {
   "cell_type": "code",
   "execution_count": 71,
   "metadata": {},
   "outputs": [
    {
     "name": "stdout",
     "output_type": "stream",
     "text": [
      "0.9804379529048162\n"
     ]
    },
    {
     "data": {
      "image/png": "[encoded data removed]",
      "text/plain": [
       "<Figure size 640x480 with 1 Axes>"
      ]
     },
     "metadata": {},
     "output_type": "display_data"
    }
   ],
   "source": [
    "test_data_all = get_next_batch(inf_generator(test_dataloader))\n",
    "# true_test_arrs = pt.inverse_transform(test_data_all[1].cpu().numpy())\n",
    "true_test_arrs = test_data_all[2].cpu().numpy()\n",
    "model.eval()\n",
    "with torch.no_grad():\n",
    "    test_preds = model(test_data_all[0].to(device)).cpu().numpy()\n",
    "\n",
    "test_preds_unscaled = pt.inverse_transform(test_preds)\n",
    "\n",
    "plt.scatter(true_test_arrs[0::2], test_preds_unscaled[0::2], s=1)\n",
    "plt.scatter(true_test_arrs[1::2], test_preds_unscaled[1::2], s=1)\n",
    "plt.scatter(true_test_arrs[2::2], test_preds_unscaled[2::2], s=1)\n",
    "\n",
    "plt.plot(np.linspace(35, 100, 40), np.linspace(35, 100, 40), '--')\n",
    "plt.xlabel(\"Test Arrival Time\")\n",
    "plt.ylabel(\"Predicted Arrival Time on Test (All Frames)\")\n",
    "\n",
    "print(np.corrcoef(true_test_arrs.flatten(), test_preds_unscaled.flatten())[1][0])"
   ]
  },
  {
   "cell_type": "code",
   "execution_count": null,
   "metadata": {},
   "outputs": [],
   "source": []
  }
 ],
 "metadata": {
  "kernelspec": {
   "display_name": "base",
   "language": "python",
   "name": "python3"
  },
  "language_info": {
   "codemirror_mode": {
    "name": "ipython",
    "version": 3
   },
   "file_extension": ".py",
   "mimetype": "text/x-python",
   "name": "python",
   "nbconvert_exporter": "python",
   "pygments_lexer": "ipython3",
   "version": "undefined.undefined.undefined"
  }
 },
 "nbformat": 4,
 "nbformat_minor": 2
}
