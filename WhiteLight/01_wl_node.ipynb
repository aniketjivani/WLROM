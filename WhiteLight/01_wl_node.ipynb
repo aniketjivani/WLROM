{
 "cells": [
  {
   "cell_type": "markdown",
   "id": "8feef7eb",
   "metadata": {},
   "source": [
    "the idea in this notebook involves no prior model, just trying to put a feedforward neural network with reduced state model instead of OpInf. More advanced version will not flatten anything and use convolutions."
   ]
  },
  {
   "cell_type": "code",
   "execution_count": 1,
   "id": "b8cf90d6",
   "metadata": {},
   "outputs": [
    {
     "data": {
      "text/plain": [
       "'/home/ajivani/WLROM/WhiteLight'"
      ]
     },
     "execution_count": 1,
     "metadata": {},
     "output_type": "execute_result"
    }
   ],
   "source": [
    "import os\n",
    "import opinf\n",
    "import scipy.signal\n",
    "# import cv2\n",
    "os.getcwd()"
   ]
  },
  {
   "cell_type": "code",
   "execution_count": 2,
   "id": "407c576b",
   "metadata": {},
   "outputs": [],
   "source": [
    "import numpy as np\n",
    "from numpy import ogrid\n",
    "import pandas as pd\n",
    "import scipy.linalg as la\n",
    "import scipy.sparse as sparse\n",
    "import matplotlib.pyplot as plt\n",
    "\n",
    "import opinf as op"
   ]
  },
  {
   "cell_type": "code",
   "execution_count": 3,
   "id": "1af8d4ad",
   "metadata": {},
   "outputs": [],
   "source": [
    "import time"
   ]
  },
  {
   "cell_type": "code",
   "execution_count": 4,
   "id": "85cbf827",
   "metadata": {},
   "outputs": [],
   "source": [
    "from sunpy.visualization import colormaps as cm"
   ]
  },
  {
   "cell_type": "code",
   "execution_count": 5,
   "id": "b4df4060",
   "metadata": {},
   "outputs": [],
   "source": [
    "import torch\n",
    "import torch.nn as nn\n",
    "import torch.optim as optim"
   ]
  },
  {
   "cell_type": "code",
   "execution_count": 6,
   "id": "9e08df6c",
   "metadata": {},
   "outputs": [],
   "source": [
    "adjoint=True"
   ]
  },
  {
   "cell_type": "code",
   "execution_count": 7,
   "id": "da32ee68",
   "metadata": {},
   "outputs": [],
   "source": [
    "if adjoint:\n",
    "    from torchdiffeq import odeint_adjoint as odeint\n",
    "else:\n",
    "    from torchdiffeq import odeint"
   ]
  },
  {
   "cell_type": "code",
   "execution_count": null,
   "id": "30e73423",
   "metadata": {
    "lines_to_next_cell": 0
   },
   "outputs": [],
   "source": []
  },
  {
   "cell_type": "code",
   "execution_count": 8,
   "id": "14aa9a28",
   "metadata": {},
   "outputs": [
    {
     "data": {
      "image/png": "[encoded data removed]",
      "text/html": [
       "<div style=\"vertical-align: middle;\"><strong>SOHO LASCO C3_r</strong> </div><div class=\"cmap\"><img alt=\"SOHO LASCO C3_r colormap\" title=\"SOHO LASCO C3_r\" style=\"border: 1px solid #555;\" src=\"data:image/png;base64,iVBORw0KGgoAAAANSUhEUgAAAgAAAABACAYAAABsv8+/AAAAHnRFWHRUaXRsZQBTT0hPIExBU0NPIEMzX3IgY29sb3JtYXDMCW5EAAAAJHRFWHREZXNjcmlwdGlvbgBTT0hPIExBU0NPIEMzX3IgY29sb3JtYXAGtYcrAAAAMHRFWHRBdXRob3IATWF0cGxvdGxpYiB2My43LjEsIGh0dHBzOi8vbWF0cGxvdGxpYi5vcmcqr/hNAAAAMnRFWHRTb2Z0d2FyZQBNYXRwbG90bGliIHYzLjcuMSwgaHR0cHM6Ly9tYXRwbG90bGliLm9yZwQJZ2oAAAHFSURBVHic7dZBbsIwFEDB397/zKSLQisR3DQtEos3s0EksWNjCb23bdu2mZnL58dcv+6+L6/P7fo8dfzq+VePX847/xt/ff35c5jb9T+Ov3v/dnn8/P3n7J57vP/VfLO7vxi/mGd2z51b/3a5n+fc+vf7OFj/4T7mx+eOz+Hg/UfncPL3++/5v3r9vz7/68Eu1z8/3z+aZ+Z371nN8z3+3Lpv99fjD9b99b/xx3Xv/r/OrfvV+z9/fs/d/3r8uXW/DwCQIwAAIEgAAECQAACAIAEAAEECAACCBAAABAkAAAgSAAAQJAAAIEgAAECQAACAIAEAAEECAACCBAAABAkAAAgSAAAQJAAAIEgAAECQAACAIAEAAEECAACCBAAABAkAAAgSAAAQJAAAIEgAAECQAACAIAEAAEECAACCBAAABAkAAAgSAAAQJAAAIEgAAECQAACAIAEAAEECAACCBAAABAkAAAgSAAAQJAAAIEgAAECQAACAIAEAAEECAACCBAAABAkAAAgSAAAQJAAAIEgAAECQAACAIAEAAEECAACCBAAABAkAAAgSAAAQJAAAIEgAAECQAACAIAEAAEECAACCBAAABH0A+Gm+nfb+AtsAAAAASUVORK5CYII=\"></div><div style=\"vertical-align: middle; max-width: 514px; display: flex; justify-content: space-between;\"><div style=\"float: left;\"><div title=\"#ffffffff\" style=\"display: inline-block; width: 1em; height: 1em; margin: 0; vertical-align: middle; border: 1px solid #555; background-color: #ffffffff;\"></div> under</div><div style=\"margin: 0 auto; display: inline-block;\">bad <div title=\"#00000000\" style=\"display: inline-block; width: 1em; height: 1em; margin: 0; vertical-align: middle; border: 1px solid #555; background-color: #00000000;\"></div></div><div style=\"float: right;\">over <div title=\"#000000ff\" style=\"display: inline-block; width: 1em; height: 1em; margin: 0; vertical-align: middle; border: 1px solid #555; background-color: #000000ff;\"></div></div>"
      ],
      "text/plain": [
       "<matplotlib.colors.LinearSegmentedColormap at 0x7fef0c0186d0>"
      ]
     },
     "execution_count": 8,
     "metadata": {},
     "output_type": "execute_result"
    }
   ],
   "source": [
    "lc3 = cm.cmlist['soholasco3'].reversed()\n",
    "lc3"
   ]
  },
  {
   "cell_type": "code",
   "execution_count": 9,
   "id": "5cae42ee",
   "metadata": {},
   "outputs": [
    {
     "data": {
      "image/png": "[encoded data removed]",
      "text/html": [
       "<div style=\"vertical-align: middle;\"><strong>SOHO LASCO C3</strong> </div><div class=\"cmap\"><img alt=\"SOHO LASCO C3 colormap\" title=\"SOHO LASCO C3\" style=\"border: 1px solid #555;\" src=\"data:image/png;base64,iVBORw0KGgoAAAANSUhEUgAAAgAAAABACAYAAABsv8+/AAAAHHRFWHRUaXRsZQBTT0hPIExBU0NPIEMzIGNvbG9ybWFwEdDmtAAAACJ0RVh0RGVzY3JpcHRpb24AU09ITyBMQVNDTyBDMyBjb2xvcm1hcIyACPEAAAAwdEVYdEF1dGhvcgBNYXRwbG90bGliIHYzLjcuMSwgaHR0cHM6Ly9tYXRwbG90bGliLm9yZyqv+E0AAAAydEVYdFNvZnR3YXJlAE1hdHBsb3RsaWIgdjMuNy4xLCBodHRwczovL21hdHBsb3RsaWIub3JnBAlnagAAAaBJREFUeJzt1sFOwkAUQNFH//+fdWHVgE4KUSR4z1nQUPqmUwjJPc3My8zMzOnt9bQ6bt+f3+fm6LrV51/mb1xnOX/lOh/zN+774c//Pr892fNf+/vd+/nn7P1sR/vdj9tifnnd6jhn1y33v1znSfa/XG9x/6uf42D//+X7u/f+9//ftrj+8vx2ef8/nv88/7vzx/t9zPx63Z/O78cBAHIEAAAECQAACBIAABAkAAAgSAAAQJAAAIAgAQAAQQIAAIIEAAAECQAACBIAABAkAAAgSAAAQJAAAIAgAQAAQQIAAIIEAAAECQAACBIAABAkAAAgSAAAQJAAAIAgAQAAQQIAAIIEAAAECQAACBIAABAkAAAgSAAAQJAAAIAgAQAAQQIAAIIEAAAECQAACBIAABAkAAAgSAAAQJAAAIAgAQAAQQIAAIIEAAAECQAACBIAABAkAAAgSAAAQJAAAIAgAQAAQQIAAIIEAAAECQAACBIAABAkAAAgSAAAQJAAAIAgAQAAQQIAAIIEAAAECQAACBIAABAkAAAgSAAAQJAAAICgV2erBHwDlf7mAAAAAElFTkSuQmCC\"></div><div style=\"vertical-align: middle; max-width: 514px; display: flex; justify-content: space-between;\"><div style=\"float: left;\"><div title=\"#000000ff\" style=\"display: inline-block; width: 1em; height: 1em; margin: 0; vertical-align: middle; border: 1px solid #555; background-color: #000000ff;\"></div> under</div><div style=\"margin: 0 auto; display: inline-block;\">bad <div title=\"#00000000\" style=\"display: inline-block; width: 1em; height: 1em; margin: 0; vertical-align: middle; border: 1px solid #555; background-color: #00000000;\"></div></div><div style=\"float: right;\">over <div title=\"#ffffffff\" style=\"display: inline-block; width: 1em; height: 1em; margin: 0; vertical-align: middle; border: 1px solid #555; background-color: #ffffffff;\"></div></div>"
      ],
      "text/plain": [
       "<matplotlib.colors.LinearSegmentedColormap at 0x7fefa526fa60>"
      ]
     },
     "execution_count": 9,
     "metadata": {},
     "output_type": "execute_result"
    }
   ],
   "source": [
    "lc3_reg = cm.cmlist['soholasco3']\n",
    "lc3_reg"
   ]
  },
  {
   "cell_type": "code",
   "execution_count": 10,
   "id": "d5453419",
   "metadata": {},
   "outputs": [],
   "source": [
    "plt.rc(\"axes.spines\", right=True, top=True)\n",
    "plt.rc(\"figure\", dpi=300,\n",
    "       # figsize=(9, 3)\n",
    "       )\n",
    "plt.rc(\"font\",\n",
    "       family=\"serif\",\n",
    "       size=10\n",
    "       )\n",
    "plt.rc(\"legend\", edgecolor=\"none\", frameon=True)\n",
    "plt.rc(\"text\", usetex=True)"
   ]
  },
  {
   "cell_type": "markdown",
   "id": "48cf5394",
   "metadata": {},
   "source": [
    "### Setup training and testing data"
   ]
  },
  {
   "cell_type": "code",
   "execution_count": 11,
   "id": "ed290b78",
   "metadata": {},
   "outputs": [],
   "source": [
    "m = 71"
   ]
  },
  {
   "cell_type": "code",
   "execution_count": null,
   "id": "e14f3987",
   "metadata": {
    "lines_to_next_cell": 0
   },
   "outputs": [],
   "source": []
  },
  {
   "cell_type": "code",
   "execution_count": 12,
   "id": "816e12c3",
   "metadata": {},
   "outputs": [
    {
     "data": {
      "text/plain": [
       "array([0.        , 0.03333333, 0.06666667, 0.1       , 0.13333333,\n",
       "       0.16666667, 0.2       , 0.23333333, 0.26666667, 0.3       ,\n",
       "       0.33333333, 0.36666667, 0.4       , 0.43333333, 0.46666667,\n",
       "       0.5       , 0.53333333, 0.56666667, 0.6       , 0.63333333,\n",
       "       0.66666667, 0.7       , 0.73333333, 0.76666667, 0.8       ,\n",
       "       0.83333333, 0.86666667, 0.9       , 0.93333333, 0.96666667,\n",
       "       1.        , 1.03333333, 1.06666667, 1.1       , 1.13333333,\n",
       "       1.16666667, 1.2       , 1.23333333, 1.26666667, 1.3       ,\n",
       "       1.33333333, 1.36666667, 1.4       , 1.43333333, 1.46666667,\n",
       "       1.5       , 1.53333333, 1.56666667, 1.6       , 1.63333333,\n",
       "       1.66666667, 1.7       , 1.73333333, 1.76666667, 1.8       ,\n",
       "       1.83333333, 1.86666667, 1.9       , 1.93333333, 1.96666667,\n",
       "       2.        , 2.03333333, 2.06666667, 2.1       , 2.13333333,\n",
       "       2.16666667, 2.2       , 2.23333333, 2.26666667, 2.3       ,\n",
       "       2.33333333])"
      ]
     },
     "execution_count": 12,
     "metadata": {},
     "output_type": "execute_result"
    }
   ],
   "source": [
    "t_vec = (np.linspace(40, 180, m) - 40) / 60\n",
    "t_vec"
   ]
  },
  {
   "cell_type": "code",
   "execution_count": null,
   "id": "adaa866a",
   "metadata": {
    "lines_to_next_cell": 0
   },
   "outputs": [],
   "source": []
  },
  {
   "cell_type": "code",
   "execution_count": 13,
   "id": "7030b200",
   "metadata": {},
   "outputs": [],
   "source": [
    "dt = t_vec[1] - t_vec[0]"
   ]
  },
  {
   "cell_type": "code",
   "execution_count": 14,
   "id": "ebc02e6e",
   "metadata": {},
   "outputs": [],
   "source": [
    "nTrainTime = np.argwhere(t_vec == (120 - 40) / 60)[0, 0]"
   ]
  },
  {
   "cell_type": "code",
   "execution_count": 15,
   "id": "05a44508",
   "metadata": {},
   "outputs": [
    {
     "data": {
      "text/plain": [
       "40"
      ]
     },
     "execution_count": 15,
     "metadata": {},
     "output_type": "execute_result"
    }
   ],
   "source": [
    "nTrainTime"
   ]
  },
  {
   "cell_type": "code",
   "execution_count": 16,
   "id": "153130e0",
   "metadata": {},
   "outputs": [],
   "source": [
    "nTrainTimeAll = np.argwhere(np.linspace(2, 180, 90) == 40)[0,0]"
   ]
  },
  {
   "cell_type": "code",
   "execution_count": null,
   "id": "63b9e377",
   "metadata": {
    "lines_to_next_cell": 0
   },
   "outputs": [],
   "source": []
  },
  {
   "cell_type": "code",
   "execution_count": 17,
   "id": "2bd4219d",
   "metadata": {},
   "outputs": [
    {
     "data": {
      "text/plain": [
       "120.0"
      ]
     },
     "execution_count": 17,
     "metadata": {},
     "output_type": "execute_result"
    }
   ],
   "source": [
    "t_train = t_vec[:(nTrainTime + 1)]\n",
    "t_train[-1] * 60 + 40"
   ]
  },
  {
   "cell_type": "code",
   "execution_count": 18,
   "id": "5ed018dc",
   "metadata": {},
   "outputs": [
    {
     "data": {
      "text/plain": [
       "array([1.36666667, 1.4       , 1.43333333, 1.46666667, 1.5       ,\n",
       "       1.53333333, 1.56666667, 1.6       , 1.63333333, 1.66666667,\n",
       "       1.7       , 1.73333333, 1.76666667, 1.8       , 1.83333333,\n",
       "       1.86666667, 1.9       , 1.93333333, 1.96666667, 2.        ,\n",
       "       2.03333333, 2.06666667, 2.1       , 2.13333333, 2.16666667,\n",
       "       2.2       , 2.23333333, 2.26666667, 2.3       , 2.33333333])"
      ]
     },
     "execution_count": 18,
     "metadata": {},
     "output_type": "execute_result"
    }
   ],
   "source": [
    "t_test = t_vec[(nTrainTime + 1):]\n",
    "t_test"
   ]
  },
  {
   "cell_type": "code",
   "execution_count": 19,
   "id": "6e183cfe",
   "metadata": {},
   "outputs": [],
   "source": [
    "X_orig = np.load(\"./CR2161_tDecay2h_Polar_Compressed.npy\")"
   ]
  },
  {
   "cell_type": "code",
   "execution_count": 20,
   "id": "37c2ea30",
   "metadata": {},
   "outputs": [],
   "source": [
    "X = X_orig.reshape((64 * 256, 90, 278))[:, (nTrainTimeAll):, :]"
   ]
  },
  {
   "cell_type": "code",
   "execution_count": 21,
   "id": "aef8e163",
   "metadata": {},
   "outputs": [
    {
     "data": {
      "text/plain": [
       "array([ 31,  32,  33,  34,  35,  36,  37,  38,  39,  40,  41,  42,  43,\n",
       "        44,  45,  46,  47,  48,  49,  50,  51,  52,  53,  54,  56,  57,\n",
       "        58,  59,  60,  61,  62,  63,  64,  65,  66,  67,  68,  69,  70,\n",
       "        71,  72,  73,  74,  75,  76,  77,  78,  79,  80,  81,  82,  83,\n",
       "        84,  85,  86,  87,  88,  89,  90,  91,  92,  93,  94,  95,  96,\n",
       "        97,  98,  99, 100, 101, 102, 103, 104, 105, 106, 107, 108, 110,\n",
       "       111, 112, 113, 114, 115, 118, 119, 120, 121, 122, 123, 124, 126,\n",
       "       127, 128, 129, 130, 131, 132, 133, 134, 135, 136, 138, 139, 140,\n",
       "       141, 142, 143, 144, 145, 146, 147, 148, 149, 150, 151, 152, 153,\n",
       "       154, 155, 156, 157, 158, 159, 160, 161, 162, 163, 164, 166, 168,\n",
       "       169, 171, 172, 173, 174, 175, 176, 177, 178, 179, 180, 181, 183,\n",
       "       184, 185, 186, 188, 190, 191, 192, 193, 194, 196, 197, 198, 199,\n",
       "       200, 201, 202, 203, 204, 205, 206, 208, 209, 210, 211, 212, 213,\n",
       "       214, 215, 216, 217, 218, 219, 220, 221, 222, 223, 224, 225, 226,\n",
       "       227, 228, 229, 230, 231, 232, 233, 234, 235, 236, 237, 238, 239,\n",
       "       240, 241, 242, 243, 244, 246, 247, 248, 249, 251, 252, 253, 254,\n",
       "       255, 256, 257, 258, 259, 260, 261, 262, 263, 264, 265, 266, 267,\n",
       "       268, 269, 271, 272, 273, 274, 275, 276, 277, 278, 279, 280, 281,\n",
       "       282, 283, 284, 286, 287, 288, 289, 290, 291, 292, 293, 294, 295,\n",
       "       296, 297, 298, 299, 300, 301, 302, 303, 304, 305, 306, 307, 311,\n",
       "       312, 313, 314, 315, 316, 317, 318, 319, 320, 321, 322, 323, 324,\n",
       "       325, 326, 327, 328, 329])"
      ]
     },
     "execution_count": 21,
     "metadata": {},
     "output_type": "execute_result"
    }
   ],
   "source": [
    "import netCDF4 as nc\n",
    "ds = nc.Dataset(\"./20150315_CR2161_code_stable_tDecay2h.nc\")\n",
    "successfulRuns = ds['runs'].successfulRuns + 30\n",
    "successfulRuns"
   ]
  },
  {
   "cell_type": "code",
   "execution_count": 22,
   "id": "2e6ee0e5",
   "metadata": {},
   "outputs": [
    {
     "data": {
      "text/plain": [
       "(array([  0,   1,   2,   3,   5,   6,   7,   8,  10,  11,  12,  13,  14,\n",
       "         15,  16,  17,  18,  19,  20,  21,  22,  23,  26,  27,  28,  30,\n",
       "         31,  32,  34,  35,  36,  37,  38,  39,  41,  42,  44,  45,  48,\n",
       "         49,  50,  51,  52,  54,  55,  56,  57,  58,  59,  61,  63,  64,\n",
       "         65,  66,  67,  68,  69,  70,  71,  72,  73,  74,  75,  77,  78,\n",
       "         79,  82,  84,  85,  86,  87,  88,  90,  91,  92,  93,  94,  95,\n",
       "         96,  98, 100, 102, 103, 104, 105, 106, 107, 108, 110, 113, 114,\n",
       "        115, 116, 118, 120, 123, 124, 125, 126, 127, 128, 129, 130, 131,\n",
       "        132, 133, 134, 135, 136, 138, 139, 140, 142, 143, 146, 147, 148,\n",
       "        149, 151, 152, 153, 155, 156, 157, 158, 159, 160, 161, 162, 163,\n",
       "        165, 166, 167, 169, 170, 171, 172, 174, 175, 176, 177, 178, 179,\n",
       "        180, 181, 182, 183, 184, 185, 186, 187, 188, 189, 194, 196, 197,\n",
       "        198, 199, 200, 201, 202, 205, 206, 207, 208, 209, 210, 211, 212,\n",
       "        213, 214, 216, 217, 219, 220, 221, 222, 223, 224, 226, 227, 228,\n",
       "        230, 231, 232, 233, 234, 235, 237, 238, 239, 240, 241, 242, 243,\n",
       "        246, 248, 249, 250, 251, 252, 253, 254, 255, 256, 257, 258, 259,\n",
       "        260, 261, 262, 263, 265, 266, 267, 269, 272, 273, 274, 275, 276,\n",
       "        277]),\n",
       " array([  4,   9,  24,  25,  29,  33,  40,  43,  46,  47,  53,  60,  62,\n",
       "         76,  80,  81,  83,  89,  97,  99, 101, 109, 111, 112, 117, 119,\n",
       "        121, 122, 137, 141, 144, 145, 150, 154, 164, 168, 173, 190, 191,\n",
       "        192, 193, 195, 203, 204, 215, 218, 225, 229, 236, 244, 245, 247,\n",
       "        264, 268, 270, 271]))"
      ]
     },
     "execution_count": 22,
     "metadata": {},
     "output_type": "execute_result"
    }
   ],
   "source": [
    "train_test_sims = np.load(\"./CR2161_AWSoM2T_CME_tDecay2h_Polar_Clusters.npz\")\n",
    "train_sim = train_test_sims[\"training_id\"]\n",
    "test_sim = train_test_sims[\"test_id\"]\n",
    "train_sim, test_sim"
   ]
  },
  {
   "cell_type": "code",
   "execution_count": 23,
   "id": "959ff49c",
   "metadata": {},
   "outputs": [],
   "source": [
    "tt_sim = np.sort(np.hstack((train_sim, test_sim)))"
   ]
  },
  {
   "cell_type": "code",
   "execution_count": 24,
   "id": "525fe313",
   "metadata": {},
   "outputs": [
    {
     "data": {
      "text/plain": [
       "(16384, 41, 222)"
      ]
     },
     "execution_count": 24,
     "metadata": {},
     "output_type": "execute_result"
    }
   ],
   "source": [
    "X_train_ttrain = X[:, :(nTrainTime + 1), train_sim]\n",
    "X_train_ttrain.shape"
   ]
  },
  {
   "cell_type": "code",
   "execution_count": 25,
   "id": "537044b6",
   "metadata": {},
   "outputs": [],
   "source": [
    "X_test = X[:, :, test_sim]"
   ]
  },
  {
   "cell_type": "code",
   "execution_count": 26,
   "id": "214b4332",
   "metadata": {},
   "outputs": [],
   "source": [
    "X_train_test_ttrain = X[:, :(nTrainTime + 1), :]"
   ]
  },
  {
   "cell_type": "code",
   "execution_count": null,
   "id": "b2434167",
   "metadata": {},
   "outputs": [],
   "source": []
  },
  {
   "cell_type": "code",
   "execution_count": 27,
   "id": "79785f06",
   "metadata": {},
   "outputs": [
    {
     "data": {
      "text/plain": [
       "32"
      ]
     },
     "execution_count": 27,
     "metadata": {},
     "output_type": "execute_result"
    }
   ],
   "source": [
    "rom_1 = op.ContinuousOpInfROM(modelform=\"AH\")\n",
    "basis_1 = op.pre.PODBasis().fit(X_train_ttrain[:, :, 0], residual_energy=1e-8)\n",
    "basis_1.r"
   ]
  },
  {
   "cell_type": "code",
   "execution_count": 28,
   "id": "20ca8d5e",
   "metadata": {},
   "outputs": [],
   "source": [
    "reduced_states = basis_1.encode(X_train_ttrain[:, :, 0])"
   ]
  },
  {
   "cell_type": "code",
   "execution_count": 29,
   "id": "d62254ab",
   "metadata": {},
   "outputs": [
    {
     "data": {
      "text/plain": [
       "(32, 41)"
      ]
     },
     "execution_count": 29,
     "metadata": {},
     "output_type": "execute_result"
    }
   ],
   "source": [
    "reduced_states.shape"
   ]
  },
  {
   "cell_type": "code",
   "execution_count": 30,
   "id": "b34b06a2",
   "metadata": {},
   "outputs": [
    {
     "data": {
      "text/plain": [
       "array([ 5.18753867,  5.4877632 ,  5.74297088,  5.93984572,  6.07472786,\n",
       "        6.14135307,  6.13742178,  6.06361853,  5.92100359,  5.70977877,\n",
       "        5.42965491,  5.08355595,  4.67775802,  4.21922311,  3.71461306,\n",
       "        3.16796246,  2.58665005,  1.98280391,  1.36212992,  0.73077039,\n",
       "        0.09351159, -0.54198027, -1.16760093, -1.77649704, -2.36307699,\n",
       "       -2.92112476, -3.44261899, -3.92287053, -4.35932236, -4.74802847,\n",
       "       -5.08321308, -5.36596717, -5.59438547, -5.76788039, -5.88884099,\n",
       "       -5.95946237, -5.98421062, -5.96423347, -5.90416973, -5.80922226,\n",
       "       -5.68420387])"
      ]
     },
     "execution_count": 30,
     "metadata": {},
     "output_type": "execute_result"
    }
   ],
   "source": [
    "reduced_states[1, :]"
   ]
  },
  {
   "cell_type": "markdown",
   "id": "d0c5f256",
   "metadata": {},
   "source": [
    "### Construction of NODE Architecture"
   ]
  },
  {
   "cell_type": "code",
   "execution_count": 31,
   "id": "636140a3",
   "metadata": {},
   "outputs": [],
   "source": [
    "device = torch.device('cuda:0' if torch.cuda.is_available() else 'cpu')"
   ]
  },
  {
   "cell_type": "code",
   "execution_count": 32,
   "id": "bba726d9",
   "metadata": {},
   "outputs": [
    {
     "data": {
      "text/plain": [
       "device(type='cuda', index=0)"
      ]
     },
     "execution_count": 32,
     "metadata": {},
     "output_type": "execute_result"
    }
   ],
   "source": [
    "device"
   ]
  },
  {
   "cell_type": "code",
   "execution_count": 33,
   "id": "4f970687",
   "metadata": {},
   "outputs": [
    {
     "data": {
      "text/plain": [
       "array([0.        , 0.03333333, 0.06666667, 0.1       , 0.13333333,\n",
       "       0.16666667, 0.2       , 0.23333333, 0.26666667, 0.3       ,\n",
       "       0.33333333, 0.36666667, 0.4       , 0.43333333, 0.46666667,\n",
       "       0.5       , 0.53333333, 0.56666667, 0.6       , 0.63333333,\n",
       "       0.66666667, 0.7       , 0.73333333, 0.76666667, 0.8       ,\n",
       "       0.83333333, 0.86666667, 0.9       , 0.93333333, 0.96666667,\n",
       "       1.        , 1.03333333, 1.06666667, 1.1       , 1.13333333,\n",
       "       1.16666667, 1.2       , 1.23333333, 1.26666667, 1.3       ,\n",
       "       1.33333333])"
      ]
     },
     "execution_count": 33,
     "metadata": {},
     "output_type": "execute_result"
    }
   ],
   "source": [
    "t_train"
   ]
  },
  {
   "cell_type": "code",
   "execution_count": 34,
   "id": "2051591e",
   "metadata": {},
   "outputs": [
    {
     "name": "stdout",
     "output_type": "stream",
     "text": [
      "Data size =  41  Batch time =  5  Batch size =  10\n"
     ]
    }
   ],
   "source": [
    "data_size = t_train.shape[0]\n",
    "batch_time = 5\n",
    "batch_size = 10\n",
    "print(\"Data size = \", data_size, \" Batch time = \", batch_time, \" Batch size = \", batch_size)"
   ]
  },
  {
   "cell_type": "code",
   "execution_count": null,
   "id": "5e788ef7",
   "metadata": {},
   "outputs": [],
   "source": []
  },
  {
   "cell_type": "code",
   "execution_count": 35,
   "id": "a197d26e",
   "metadata": {},
   "outputs": [],
   "source": [
    "t = torch.tensor(np.float32(t_train)).to(device)"
   ]
  },
  {
   "cell_type": "code",
   "execution_count": 36,
   "id": "86d9c120",
   "metadata": {},
   "outputs": [
    {
     "data": {
      "text/plain": [
       "torch.float32"
      ]
     },
     "execution_count": 36,
     "metadata": {},
     "output_type": "execute_result"
    }
   ],
   "source": [
    "t.dtype"
   ]
  },
  {
   "cell_type": "code",
   "execution_count": 37,
   "id": "a08d790c",
   "metadata": {},
   "outputs": [
    {
     "data": {
      "text/plain": [
       "torch.Size([1, 32])"
      ]
     },
     "execution_count": 37,
     "metadata": {},
     "output_type": "execute_result"
    }
   ],
   "source": [
    "true_y0 = torch.from_numpy(np.float32(reduced_states[:, 0]))\n",
    "true_y0 = true_y0.reshape((1, len(true_y0))).to(device)\n",
    "true_y0.shape"
   ]
  },
  {
   "cell_type": "code",
   "execution_count": 38,
   "id": "c2f920bb",
   "metadata": {},
   "outputs": [
    {
     "data": {
      "text/plain": [
       "torch.float32"
      ]
     },
     "execution_count": 38,
     "metadata": {},
     "output_type": "execute_result"
    }
   ],
   "source": [
    "true_y0.dtype"
   ]
  },
  {
   "cell_type": "code",
   "execution_count": 39,
   "id": "5055adbc",
   "metadata": {},
   "outputs": [
    {
     "data": {
      "text/plain": [
       "torch.Size([41, 1, 32])"
      ]
     },
     "execution_count": 39,
     "metadata": {},
     "output_type": "execute_result"
    }
   ],
   "source": [
    "yreduced = np.float32(reduced_states.T)\n",
    "true_y = torch.from_numpy(np.expand_dims(yreduced, axis=1)).to(device)\n",
    "true_y.shape"
   ]
  },
  {
   "cell_type": "code",
   "execution_count": 40,
   "id": "11d833b6",
   "metadata": {},
   "outputs": [
    {
     "data": {
      "text/plain": [
       "torch.float32"
      ]
     },
     "execution_count": 40,
     "metadata": {},
     "output_type": "execute_result"
    }
   ],
   "source": [
    "true_y.dtype"
   ]
  },
  {
   "cell_type": "markdown",
   "id": "999f4138",
   "metadata": {},
   "source": [
    "Need functions for getting batch, getting true x, getting ODE func - where we run the \"loss\" metric compared to the true simulation."
   ]
  },
  {
   "cell_type": "code",
   "execution_count": 41,
   "id": "a2440e44",
   "metadata": {},
   "outputs": [],
   "source": [
    "def get_batch():\n",
    "    s = torch.from_numpy(np.random.choice(np.arange(data_size - batch_time, dtype=np.int64),\n",
    "                                          batch_size, replace=False))\n",
    "    batch_y0 = true_y[s]\n",
    "    batch_t = t[:batch_time]  # (T)\n",
    "    batch_y = torch.stack([true_y[s + i] for i in range(batch_time)], dim=0)  # (T, M, D)\n",
    "    return batch_y0.to(device), batch_t.to(device), batch_y.to(device)"
   ]
  },
  {
   "cell_type": "code",
   "execution_count": 42,
   "id": "ff375d60",
   "metadata": {},
   "outputs": [],
   "source": [
    "by0, bt, by = get_batch()"
   ]
  },
  {
   "cell_type": "code",
   "execution_count": 43,
   "id": "c9a365ac",
   "metadata": {},
   "outputs": [
    {
     "data": {
      "text/plain": [
       "(torch.Size([10, 1, 32]), torch.Size([5]), torch.Size([5, 10, 1, 32]))"
      ]
     },
     "execution_count": 43,
     "metadata": {},
     "output_type": "execute_result"
    }
   ],
   "source": [
    "by0.shape, bt.shape, by.shape"
   ]
  },
  {
   "cell_type": "code",
   "execution_count": 44,
   "id": "a2189c0c",
   "metadata": {},
   "outputs": [],
   "source": [
    "class RunningAverageMeter(object):\n",
    "    \"\"\"Computes and stores the average and current value\"\"\"\n",
    "\n",
    "    def __init__(self, momentum=0.99):\n",
    "        self.momentum = momentum\n",
    "        self.reset()\n",
    "\n",
    "    def reset(self):\n",
    "        self.val = None\n",
    "        self.avg = 0\n",
    "\n",
    "    def update(self, val):\n",
    "        if self.val is None:\n",
    "            self.avg = val\n",
    "        else:\n",
    "            self.avg = self.avg * self.momentum + val * (1 - self.momentum)\n",
    "        self.val = val"
   ]
  },
  {
   "cell_type": "code",
   "execution_count": 45,
   "id": "3791a404",
   "metadata": {},
   "outputs": [],
   "source": [
    "class ODEFunc(nn.Module):\n",
    "\n",
    "    def __init__(self):\n",
    "        super(ODEFunc, self).__init__()\n",
    "\n",
    "        self.net1 = nn.Sequential(\n",
    "            nn.Linear(32, 50),\n",
    "            nn.Tanh(),\n",
    "            nn.Linear(50, 32),\n",
    "        )\n",
    "        \n",
    "#         self.net2 = nn.Sequential(\n",
    "#             nn.Linear(32, 50),\n",
    "#             nn.Tanh(),\n",
    "#             nn.Linear(50, 2),\n",
    "#             nn.Linear(2, 50),\n",
    "#             nn.Tanh(),\n",
    "#             nn.Linear(50, 32),\n",
    "#         )\n",
    "\n",
    "        for m in self.net1.modules():\n",
    "            if isinstance(m, nn.Linear):\n",
    "                nn.init.normal_(m.weight, mean=0, std=0.1)\n",
    "                nn.init.constant_(m.bias, val=0)\n",
    "                \n",
    "#         for m in self.net2.modules():\n",
    "#             if isinstance(m, nn.Linear):\n",
    "#                 nn.init.normal_(m.weight, mean=0, std=0.1)\n",
    "#                 nn.init.constant_(m.bias, val=0)\n",
    "\n",
    "    \n",
    "    def forward(self, t, y):\n",
    "        return self.net1(y)\n",
    "#     def forward(self, t, y):\n",
    "#         return self.net1(y) + self.net2(y**2)"
   ]
  },
  {
   "cell_type": "markdown",
   "id": "6f809841",
   "metadata": {},
   "source": [
    "Check the ODE demo in a parallel notebook and replicate these functions for our case."
   ]
  },
  {
   "cell_type": "code",
   "execution_count": 46,
   "id": "af45dd82",
   "metadata": {},
   "outputs": [],
   "source": [
    "ii = 0\n",
    "func = ODEFunc().to(device)\n",
    "optimizer = optim.RMSprop(func.parameters(), lr=1e-3)\n",
    "end = time.time()"
   ]
  },
  {
   "cell_type": "code",
   "execution_count": 47,
   "id": "418e72fa",
   "metadata": {},
   "outputs": [],
   "source": [
    "niters = 500\n",
    "test_freq = 10"
   ]
  },
  {
   "cell_type": "code",
   "execution_count": 48,
   "id": "7b375e63",
   "metadata": {},
   "outputs": [
    {
     "data": {
      "text/plain": [
       "ODEFunc(\n",
       "  (net1): Sequential(\n",
       "    (0): Linear(in_features=32, out_features=50, bias=True)\n",
       "    (1): Tanh()\n",
       "    (2): Linear(in_features=50, out_features=32, bias=True)\n",
       "  )\n",
       ")"
      ]
     },
     "execution_count": 48,
     "metadata": {},
     "output_type": "execute_result"
    }
   ],
   "source": [
    "func"
   ]
  },
  {
   "cell_type": "code",
   "execution_count": 49,
   "id": "8272a3f5",
   "metadata": {},
   "outputs": [
    {
     "name": "stdout",
     "output_type": "stream",
     "text": [
      "Iter 0010 | Total Loss 0.639950\n",
      "Iter 0020 | Total Loss 0.585868\n",
      "Iter 0030 | Total Loss 0.579665\n",
      "Iter 0040 | Total Loss 0.555417\n",
      "Iter 0050 | Total Loss 0.521286\n",
      "Iter 0060 | Total Loss 0.495812\n",
      "Iter 0070 | Total Loss 0.483611\n",
      "Iter 0080 | Total Loss 0.467063\n",
      "Iter 0090 | Total Loss 0.457827\n",
      "Iter 0100 | Total Loss 0.456479\n",
      "Iter 0110 | Total Loss 0.450448\n",
      "Iter 0120 | Total Loss 0.466032\n",
      "Iter 0130 | Total Loss 0.461665\n",
      "Iter 0140 | Total Loss 0.453271\n",
      "Iter 0150 | Total Loss 0.449431\n",
      "Iter 0160 | Total Loss 0.447148\n",
      "Iter 0170 | Total Loss 0.423575\n",
      "Iter 0180 | Total Loss 0.427317\n",
      "Iter 0190 | Total Loss 0.419672\n",
      "Iter 0200 | Total Loss 0.414142\n",
      "Iter 0210 | Total Loss 0.426678\n",
      "Iter 0220 | Total Loss 0.423006\n",
      "Iter 0230 | Total Loss 0.417828\n",
      "Iter 0240 | Total Loss 0.414060\n",
      "Iter 0250 | Total Loss 0.405885\n",
      "Iter 0260 | Total Loss 0.418110\n",
      "Iter 0270 | Total Loss 0.411312\n",
      "Iter 0280 | Total Loss 0.411817\n",
      "Iter 0290 | Total Loss 0.400057\n",
      "Iter 0300 | Total Loss 0.399632\n",
      "Iter 0310 | Total Loss 0.405404\n",
      "Iter 0320 | Total Loss 0.406830\n",
      "Iter 0330 | Total Loss 0.404866\n",
      "Iter 0340 | Total Loss 0.400467\n",
      "Iter 0350 | Total Loss 0.392602\n",
      "Iter 0360 | Total Loss 0.396449\n",
      "Iter 0370 | Total Loss 0.397566\n",
      "Iter 0380 | Total Loss 0.396399\n",
      "Iter 0390 | Total Loss 0.398061\n",
      "Iter 0400 | Total Loss 0.395487\n",
      "Iter 0410 | Total Loss 0.383969\n",
      "Iter 0420 | Total Loss 0.382603\n",
      "Iter 0430 | Total Loss 0.364669\n",
      "Iter 0440 | Total Loss 0.378984\n",
      "Iter 0450 | Total Loss 0.378193\n",
      "Iter 0460 | Total Loss 0.377750\n",
      "Iter 0470 | Total Loss 0.377874\n",
      "Iter 0480 | Total Loss 0.373685\n",
      "Iter 0490 | Total Loss 0.366064\n",
      "Iter 0500 | Total Loss 0.365926\n"
     ]
    }
   ],
   "source": [
    "time_meter = RunningAverageMeter(0.97)\n",
    "loss_meter = RunningAverageMeter(0.97)\n",
    "\n",
    "for itr in range(1, niters + 1):\n",
    "    optimizer.zero_grad()\n",
    "    batch_y0, batch_t, batch_y = get_batch()\n",
    "    pred_y = odeint(func, batch_y0, batch_t).to(device)\n",
    "    loss = torch.mean(torch.abs(pred_y - batch_y))\n",
    "    loss.backward()\n",
    "    optimizer.step()\n",
    "\n",
    "    time_meter.update(time.time() - end)\n",
    "    loss_meter.update(loss.item())\n",
    "\n",
    "    if itr % test_freq == 0:\n",
    "        with torch.no_grad():\n",
    "            pred_y = odeint(func, true_y0, t)\n",
    "            loss = torch.mean(torch.abs(pred_y - true_y))\n",
    "            print('Iter {:04d} | Total Loss {:.6f}'.format(itr, loss.item()))\n",
    "#             visualize(true_y, pred_y, func, ii)\n",
    "            ii += 1\n",
    "\n",
    "    end = time.time()"
   ]
  },
  {
   "cell_type": "code",
   "execution_count": null,
   "id": "4afa066b",
   "metadata": {},
   "outputs": [],
   "source": []
  },
  {
   "cell_type": "markdown",
   "id": "bce7dec4",
   "metadata": {},
   "source": [
    "Try the same example but with prior learnt OpInf model."
   ]
  },
  {
   "cell_type": "markdown",
   "id": "0bf673d8",
   "metadata": {},
   "source": [
    "### Scratch: Try resizing"
   ]
  },
  {
   "cell_type": "markdown",
   "id": "5b1feaa1",
   "metadata": {},
   "source": [
    "(using coarse images for training), but Resize doesn't seem to be a good idea, we seem to be losing too much information, keep like this for now. If we use reduced states for training, it negates some of the need for resizing anyways."
   ]
  },
  {
   "cell_type": "code",
   "execution_count": null,
   "id": "78c03dae",
   "metadata": {},
   "outputs": [],
   "source": [
    "# X_orig.shape"
   ]
  },
  {
   "cell_type": "code",
   "execution_count": null,
   "id": "3df3fc1e",
   "metadata": {},
   "outputs": [],
   "source": [
    "# scale_percent_ht = 70\n",
    "# scale_percent_width = 40\n",
    "# new_width = int(X.shape[1] * scale_percent_width / 100)\n",
    "# new_height = int(X.shape[0] * scale_percent_ht / 100)\n",
    "# new_dims = (new_width, new_height)\n",
    "# print(new_dims)"
   ]
  },
  {
   "cell_type": "code",
   "execution_count": null,
   "id": "ee2e19e7",
   "metadata": {},
   "outputs": [],
   "source": [
    "# x_sample_rs = cv2.resize(X_orig[:, :, nTrainTime, 0], new_dims, interpolation = cv2.INTER_AREA)"
   ]
  },
  {
   "cell_type": "code",
   "execution_count": null,
   "id": "705b4397",
   "metadata": {},
   "outputs": [],
   "source": [
    "# x_sample_rs.min(), x_sample_rs.max()"
   ]
  },
  {
   "cell_type": "code",
   "execution_count": null,
   "id": "3471b5e3",
   "metadata": {},
   "outputs": [],
   "source": [
    "# X_orig[:, :, nTrainTime, 0].min(), X[:, :, nTrainTime, 0].max()"
   ]
  },
  {
   "cell_type": "code",
   "execution_count": null,
   "id": "d9da3fd3",
   "metadata": {},
   "outputs": [],
   "source": [
    "# fig, ax = plt.subplots(2, 1, sharex=True, figsize=(12, 6))\n",
    "# axs = ax.ravel()\n",
    "# im = axs[0].imshow(X_orig[:, :, nTrainTime, 0],\n",
    "#               origin=\"lower\",\n",
    "#               extent=(0, 2 * np.pi, 4, 24),\n",
    "#               aspect=0.05,\n",
    "#               cmap=lc3_reg,\n",
    "#               vmin = 0,\n",
    "#               vmax = 1.5\n",
    "#              )\n",
    "# plt.colorbar(im, fraction=0.046, pad=0.04, ax=axs[0])\n",
    "\n",
    "# im = axs[1].imshow(x_sample_rs,\n",
    "#                   origin=\"lower\",\n",
    "#                   extent=(0, 2 * np.pi, 4, 24),\n",
    "#                   aspect=0.05,\n",
    "#                   cmap=lc3_reg,\n",
    "#                   vmin=0,\n",
    "#                   vmax=1.5\n",
    "#                   )\n",
    "# plt.colorbar(im, fraction=0.046, pad=0.04, ax=axs[1])"
   ]
  }
 ],
 "metadata": {
  "jupytext": {
   "formats": "ipynb,py:percent"
  },
  "kernelspec": {
   "display_name": "Python 3 (ipykernel)",
   "language": "python",
   "name": "python3"
  },
  "language_info": {
   "codemirror_mode": {
    "name": "ipython",
    "version": 3
   },
   "file_extension": ".py",
   "mimetype": "text/x-python",
   "name": "python",
   "nbconvert_exporter": "python",
   "pygments_lexer": "ipython3",
   "version": "3.10.10"
  }
 },
 "nbformat": 4,
 "nbformat_minor": 5
}
