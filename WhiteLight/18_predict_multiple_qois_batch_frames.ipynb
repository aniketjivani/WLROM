{
 "cells": [
  {
   "cell_type": "markdown",
   "metadata": {},
   "source": [
    "- Add `ConcatConv2D` channel for time.\n",
    "- Visualize and preprocess other QoIs (max U, max N, max |B|), concatenate to arrival time targets.\n",
    "\n",
    "- Plot predictions on test set.\n",
    "\n",
    "- visualize GradCAM mappings!"
   ]
  },
  {
   "cell_type": "code",
   "execution_count": 154,
   "metadata": {},
   "outputs": [],
   "source": [
    "import sys\n",
    "import torch\n",
    "import torch.nn\n",
    "import torch.nn as nn\n",
    "from torch.nn.functional import relu\n",
    "import torch.optim as optim\n",
    "from torch.utils.data import DataLoader, TensorDataset, Dataset\n",
    "from torch.utils.data import random_split\n",
    "import pandas as pd\n",
    "import numpy as np\n",
    "import os\n",
    "import re\n",
    "import sys\n",
    "import logging\n",
    "import torchvision\n",
    "import torchvision.transforms as T"
   ]
  },
  {
   "cell_type": "code",
   "execution_count": 155,
   "metadata": {},
   "outputs": [],
   "source": [
    "args = {\n",
    "    \"niters\": 450,\n",
    "    \"lr\": 0.001,\n",
    "    \"save\": \"arr_experiments/\",\n",
    "    \"load\": None,\n",
    "    \"r\": 1991,\n",
    "    \"resize_dims\": (16, 64),\n",
    "    \"param_scaling\": [1, 1],\n",
    "    \"warm_start\": 20376,\n",
    "    \"do_warm_start\": False,\n",
    "    # \"loss\": \"smooth_l1\",\n",
    "    \"loss\": \"mae\",\n",
    "    # \"loss\": \"mse\",\n",
    "    \"batch_size\": 32,\n",
    "    \"dropout\":False\n",
    "}"
   ]
  },
  {
   "cell_type": "code",
   "execution_count": 156,
   "metadata": {},
   "outputs": [],
   "source": [
    "import torch.nn as nn"
   ]
  },
  {
   "cell_type": "code",
   "execution_count": 157,
   "metadata": {},
   "outputs": [
    {
     "data": {
      "image/png": "[encoded data removed]",
      "text/html": [
       "<div style=\"vertical-align: middle;\"><strong>SOHO LASCO C3_r</strong> </div><div class=\"cmap\"><img alt=\"SOHO LASCO C3_r colormap\" title=\"SOHO LASCO C3_r\" style=\"border: 1px solid #555;\" src=\"data:image/png;base64,iVBORw0KGgoAAAANSUhEUgAAAgAAAABACAYAAABsv8+/AAAAHnRFWHRUaXRsZQBTT0hPIExBU0NPIEMzX3IgY29sb3JtYXDMCW5EAAAAJHRFWHREZXNjcmlwdGlvbgBTT0hPIExBU0NPIEMzX3IgY29sb3JtYXAGtYcrAAAAMHRFWHRBdXRob3IATWF0cGxvdGxpYiB2My43LjMsIGh0dHBzOi8vbWF0cGxvdGxpYi5vcme6yd4QAAAAMnRFWHRTb2Z0d2FyZQBNYXRwbG90bGliIHYzLjcuMywgaHR0cHM6Ly9tYXRwbG90bGliLm9yZ5RvQTcAAAHFSURBVHic7dZBbsIwFEDB397/zKSLQisR3DQtEos3s0EksWNjCb23bdu2mZnL58dcv+6+L6/P7fo8dfzq+VePX847/xt/ff35c5jb9T+Ov3v/dnn8/P3n7J57vP/VfLO7vxi/mGd2z51b/3a5n+fc+vf7OFj/4T7mx+eOz+Hg/UfncPL3++/5v3r9vz7/68Eu1z8/3z+aZ+Z371nN8z3+3Lpv99fjD9b99b/xx3Xv/r/OrfvV+z9/fs/d/3r8uXW/DwCQIwAAIEgAAECQAACAIAEAAEECAACCBAAABAkAAAgSAAAQJAAAIEgAAECQAACAIAEAAEECAACCBAAABAkAAAgSAAAQJAAAIEgAAECQAACAIAEAAEECAACCBAAABAkAAAgSAAAQJAAAIEgAAECQAACAIAEAAEECAACCBAAABAkAAAgSAAAQJAAAIEgAAECQAACAIAEAAEECAACCBAAABAkAAAgSAAAQJAAAIEgAAECQAACAIAEAAEECAACCBAAABAkAAAgSAAAQJAAAIEgAAECQAACAIAEAAEECAACCBAAABAkAAAgSAAAQJAAAIEgAAECQAACAIAEAAEECAACCBAAABH0A+Gm+nfb+AtsAAAAASUVORK5CYII=\"></div><div style=\"vertical-align: middle; max-width: 514px; display: flex; justify-content: space-between;\"><div style=\"float: left;\"><div title=\"#ffffffff\" style=\"display: inline-block; width: 1em; height: 1em; margin: 0; vertical-align: middle; border: 1px solid #555; background-color: #ffffffff;\"></div> under</div><div style=\"margin: 0 auto; display: inline-block;\">bad <div title=\"#00000000\" style=\"display: inline-block; width: 1em; height: 1em; margin: 0; vertical-align: middle; border: 1px solid #555; background-color: #00000000;\"></div></div><div style=\"float: right;\">over <div title=\"#000000ff\" style=\"display: inline-block; width: 1em; height: 1em; margin: 0; vertical-align: middle; border: 1px solid #555; background-color: #000000ff;\"></div></div>"
      ],
      "text/plain": [
       "<matplotlib.colors.LinearSegmentedColormap at 0x7fcd26563250>"
      ]
     },
     "execution_count": 157,
     "metadata": {},
     "output_type": "execute_result"
    }
   ],
   "source": [
    "from sunpy.visualization import colormaps as cm\n",
    "\n",
    "lc3_reg = cm.cmlist['soholasco3']\n",
    "lc3_reg\n",
    "\n",
    "lc3 = cm.cmlist['soholasco3'].reversed()\n",
    "lc3"
   ]
  },
  {
   "cell_type": "code",
   "execution_count": 158,
   "metadata": {},
   "outputs": [],
   "source": [
    "import time\n",
    "import datetime\n",
    "import argparse\n",
    "from random import SystemRandom\n",
    "\n",
    "from rich.progress import track\n",
    "import tqdm\n",
    "\n",
    "import matplotlib.pyplot as plt\n",
    "\n",
    "import cnn_utils as cu"
   ]
  },
  {
   "cell_type": "code",
   "execution_count": 159,
   "metadata": {},
   "outputs": [],
   "source": [
    "from sklearn.model_selection import train_test_split"
   ]
  },
  {
   "cell_type": "code",
   "execution_count": 160,
   "metadata": {},
   "outputs": [],
   "source": [
    "from sklearn.preprocessing import power_transform\n",
    "from sklearn.preprocessing import PowerTransformer"
   ]
  },
  {
   "cell_type": "code",
   "execution_count": 161,
   "metadata": {},
   "outputs": [
    {
     "name": "stdout",
     "output_type": "stream",
     "text": [
      "The autoreload extension is already loaded. To reload it, use:\n",
      "  %reload_ext autoreload\n"
     ]
    }
   ],
   "source": [
    "%matplotlib inline\n",
    "%load_ext autoreload\n",
    "%autoreload 2"
   ]
  },
  {
   "cell_type": "code",
   "execution_count": 162,
   "metadata": {},
   "outputs": [
    {
     "data": {
      "text/plain": [
       "device(type='cpu')"
      ]
     },
     "execution_count": 162,
     "metadata": {},
     "output_type": "execute_result"
    }
   ],
   "source": [
    "device = torch.device(\"cuda:0\") if torch.cuda.is_available() else torch.device(\"cpu\")\n",
    "device"
   ]
  },
  {
   "cell_type": "markdown",
   "metadata": {},
   "source": [
    "Filter out runs which arrive very late."
   ]
  },
  {
   "cell_type": "code",
   "execution_count": 163,
   "metadata": {},
   "outputs": [
    {
     "name": "stdout",
     "output_type": "stream",
     "text": [
      "SIMID          9.0\n",
      "shift        -36.0\n",
      "Tshock_sim    88.0\n",
      "Tshock_obs    52.0\n",
      "Name: 8, dtype: float64\n",
      "SIMID         13.0\n",
      "shift        -34.0\n",
      "Tshock_sim    86.0\n",
      "Tshock_obs    52.0\n",
      "Name: 12, dtype: float64\n",
      "SIMID         15.0\n",
      "shift        -37.0\n",
      "Tshock_sim    89.0\n",
      "Tshock_obs    52.0\n",
      "Name: 14, dtype: float64\n"
     ]
    },
    {
     "data": {
      "text/html": [
       "<div>\n",
       "<style scoped>\n",
       "    .dataframe tbody tr th:only-of-type {\n",
       "        vertical-align: middle;\n",
       "    }\n",
       "\n",
       "    .dataframe tbody tr th {\n",
       "        vertical-align: top;\n",
       "    }\n",
       "\n",
       "    .dataframe thead th {\n",
       "        text-align: right;\n",
       "    }\n",
       "</style>\n",
       "<table border=\"1\" class=\"dataframe\">\n",
       "  <thead>\n",
       "    <tr style=\"text-align: right;\">\n",
       "      <th></th>\n",
       "      <th>SIMID</th>\n",
       "      <th>shift</th>\n",
       "      <th>Tshock_sim</th>\n",
       "      <th>Tshock_obs</th>\n",
       "    </tr>\n",
       "  </thead>\n",
       "  <tbody>\n",
       "    <tr>\n",
       "      <th>0</th>\n",
       "      <td>1</td>\n",
       "      <td>-18.0</td>\n",
       "      <td>70.0</td>\n",
       "      <td>52</td>\n",
       "    </tr>\n",
       "    <tr>\n",
       "      <th>2</th>\n",
       "      <td>3</td>\n",
       "      <td>-15.0</td>\n",
       "      <td>67.0</td>\n",
       "      <td>52</td>\n",
       "    </tr>\n",
       "    <tr>\n",
       "      <th>3</th>\n",
       "      <td>4</td>\n",
       "      <td>-7.0</td>\n",
       "      <td>59.0</td>\n",
       "      <td>52</td>\n",
       "    </tr>\n",
       "    <tr>\n",
       "      <th>4</th>\n",
       "      <td>5</td>\n",
       "      <td>-22.0</td>\n",
       "      <td>74.0</td>\n",
       "      <td>52</td>\n",
       "    </tr>\n",
       "    <tr>\n",
       "      <th>6</th>\n",
       "      <td>7</td>\n",
       "      <td>-4.0</td>\n",
       "      <td>56.0</td>\n",
       "      <td>52</td>\n",
       "    </tr>\n",
       "    <tr>\n",
       "      <th>9</th>\n",
       "      <td>10</td>\n",
       "      <td>-7.0</td>\n",
       "      <td>59.0</td>\n",
       "      <td>52</td>\n",
       "    </tr>\n",
       "    <tr>\n",
       "      <th>10</th>\n",
       "      <td>11</td>\n",
       "      <td>-33.0</td>\n",
       "      <td>85.0</td>\n",
       "      <td>52</td>\n",
       "    </tr>\n",
       "    <tr>\n",
       "      <th>11</th>\n",
       "      <td>12</td>\n",
       "      <td>-21.0</td>\n",
       "      <td>73.0</td>\n",
       "      <td>52</td>\n",
       "    </tr>\n",
       "    <tr>\n",
       "      <th>15</th>\n",
       "      <td>16</td>\n",
       "      <td>0.0</td>\n",
       "      <td>52.0</td>\n",
       "      <td>52</td>\n",
       "    </tr>\n",
       "    <tr>\n",
       "      <th>16</th>\n",
       "      <td>17</td>\n",
       "      <td>-1.0</td>\n",
       "      <td>53.0</td>\n",
       "      <td>52</td>\n",
       "    </tr>\n",
       "    <tr>\n",
       "      <th>17</th>\n",
       "      <td>18</td>\n",
       "      <td>-26.0</td>\n",
       "      <td>78.0</td>\n",
       "      <td>52</td>\n",
       "    </tr>\n",
       "    <tr>\n",
       "      <th>18</th>\n",
       "      <td>19</td>\n",
       "      <td>-17.0</td>\n",
       "      <td>69.0</td>\n",
       "      <td>52</td>\n",
       "    </tr>\n",
       "    <tr>\n",
       "      <th>19</th>\n",
       "      <td>20</td>\n",
       "      <td>-15.0</td>\n",
       "      <td>67.0</td>\n",
       "      <td>52</td>\n",
       "    </tr>\n",
       "    <tr>\n",
       "      <th>20</th>\n",
       "      <td>21</td>\n",
       "      <td>-3.0</td>\n",
       "      <td>55.0</td>\n",
       "      <td>52</td>\n",
       "    </tr>\n",
       "    <tr>\n",
       "      <th>22</th>\n",
       "      <td>23</td>\n",
       "      <td>-9.0</td>\n",
       "      <td>61.0</td>\n",
       "      <td>52</td>\n",
       "    </tr>\n",
       "  </tbody>\n",
       "</table>\n",
       "</div>"
      ],
      "text/plain": [
       "    SIMID  shift  Tshock_sim  Tshock_obs\n",
       "0       1  -18.0        70.0          52\n",
       "2       3  -15.0        67.0          52\n",
       "3       4   -7.0        59.0          52\n",
       "4       5  -22.0        74.0          52\n",
       "6       7   -4.0        56.0          52\n",
       "9      10   -7.0        59.0          52\n",
       "10     11  -33.0        85.0          52\n",
       "11     12  -21.0        73.0          52\n",
       "15     16    0.0        52.0          52\n",
       "16     17   -1.0        53.0          52\n",
       "17     18  -26.0        78.0          52\n",
       "18     19  -17.0        69.0          52\n",
       "19     20  -15.0        67.0          52\n",
       "20     21   -3.0        55.0          52\n",
       "22     23   -9.0        61.0          52"
      ]
     },
     "execution_count": 163,
     "metadata": {},
     "output_type": "execute_result"
    }
   ],
   "source": [
    "arr_times_data = pd.read_csv(\"./data_surrogate/UShift_CME3_120runs.csv\")\n",
    "arr_times_data = arr_times_data.dropna()\n",
    "\n",
    "print(arr_times_data.iloc[5, :])\n",
    "print(arr_times_data.iloc[9, :])\n",
    "print(arr_times_data.iloc[10, :])\n",
    "\n",
    "# arr_times_data.head()\n",
    "# arr_times_data.index[5]\n",
    "\n",
    "arr_times_data.drop([arr_times_data.index[5],\n",
    "                     arr_times_data.index[9],\n",
    "                     arr_times_data.index[10]], inplace=True)\n",
    "\n",
    "arr_times_data.head(15)"
   ]
  },
  {
   "cell_type": "code",
   "execution_count": 164,
   "metadata": {},
   "outputs": [],
   "source": [
    "data_sim_ids = arr_times_data['SIMID'].to_numpy()\n",
    "data_arr_time = arr_times_data['Tshock_sim'].to_numpy()\n",
    "data_shifts = arr_times_data['shift'].to_numpy()"
   ]
  },
  {
   "cell_type": "code",
   "execution_count": 165,
   "metadata": {},
   "outputs": [],
   "source": [
    "# First split sim_ids, and arr_time into train and test.\n",
    "# Based on this load param file for sims and index that"
   ]
  },
  {
   "cell_type": "code",
   "execution_count": 166,
   "metadata": {},
   "outputs": [
    {
     "name": "stdout",
     "output_type": "stream",
     "text": [
      "110\n"
     ]
    }
   ],
   "source": [
    "num_sim = len(data_sim_ids)\n",
    "print(num_sim)\n",
    "\n",
    "# train_size = np.int64(num_sim * 0.6)\n",
    "# valid_size = np.int64(num_sim * 0.2)\n",
    "# test_size = num_sim - train_size - valid_size\n",
    "# print(train_size, valid_size, test_size)\n",
    "\n",
    "train_frac, valid_frac, test_frac = 0.6, 0.15, 0.25"
   ]
  },
  {
   "cell_type": "code",
   "execution_count": 167,
   "metadata": {},
   "outputs": [],
   "source": [
    "generator1 = torch.Generator().manual_seed(2024)\n",
    "train_valid_test = random_split(data_sim_ids, \n",
    "                                [train_frac, valid_frac, test_frac],\n",
    "                                # [train_size, valid_size, test_size],\n",
    "                                generator=generator1)\n"
   ]
  },
  {
   "cell_type": "code",
   "execution_count": 168,
   "metadata": {},
   "outputs": [
    {
     "data": {
      "text/plain": [
       "array([  1,   3,   4,   5,   7,  10,  11,  12,  16,  17,  18,  19,  20,\n",
       "        21,  23,  25,  26,  27,  28,  29,  30,  31,  32,  33,  34,  35,\n",
       "        36,  37,  38,  39,  40,  41,  42,  43,  44,  45,  46,  47,  48,\n",
       "        49,  50,  51,  52,  53,  54,  55,  56,  57,  58,  59,  60,  61,\n",
       "        62,  63,  64,  65,  66,  67,  68,  69,  71,  72,  73,  74,  75,\n",
       "        76,  77,  78,  79,  80,  81,  82,  83,  84,  85,  86,  87,  88,\n",
       "        89,  90,  91,  92,  93,  94,  95,  96,  97,  98,  99, 100, 101,\n",
       "       102, 103, 104, 105, 106, 107, 108, 109, 110, 111, 112, 113, 114,\n",
       "       115, 116, 117, 118, 119, 120])"
      ]
     },
     "execution_count": 168,
     "metadata": {},
     "output_type": "execute_result"
    }
   ],
   "source": [
    "data_sim_ids"
   ]
  },
  {
   "cell_type": "code",
   "execution_count": 169,
   "metadata": {},
   "outputs": [],
   "source": [
    "train_idx = np.array(train_valid_test[0].indices)\n",
    "valid_idx = np.array(train_valid_test[1].indices)\n",
    "test_idx = np.array(train_valid_test[2].indices)"
   ]
  },
  {
   "cell_type": "code",
   "execution_count": 170,
   "metadata": {},
   "outputs": [],
   "source": [
    "train_sims = data_sim_ids[train_idx] - 1\n",
    "val_sims = data_sim_ids[valid_idx] - 1\n",
    "test_sims = data_sim_ids[test_idx] - 1"
   ]
  },
  {
   "cell_type": "code",
   "execution_count": 171,
   "metadata": {},
   "outputs": [
    {
     "data": {
      "text/plain": [
       "array([ 22, 105,  30,  74,  51,  10,  76, 106, 103,  31,  87,  84,  61,\n",
       "        35,  80,  33,  97,  12,   8,  45,  37,  18,  48,   2,   9,   6,\n",
       "        85,  50,  79,  55, 100,  65,  13,  47,   0,   7,  60,  32,  19,\n",
       "        90,  98,  92,  44,  95,  29,  23, 107,  17,  78,  94,  99,  36,\n",
       "        14,  52,   3,  20, 108,  62,  75,  54,  11,  24,  57,   4,  16,\n",
       "        72,  27])"
      ]
     },
     "execution_count": 171,
     "metadata": {},
     "output_type": "execute_result"
    }
   ],
   "source": [
    "train_idx"
   ]
  },
  {
   "cell_type": "code",
   "execution_count": 172,
   "metadata": {},
   "outputs": [
    {
     "data": {
      "text/plain": [
       "(67, 16, 27)"
      ]
     },
     "execution_count": 172,
     "metadata": {},
     "output_type": "execute_result"
    }
   ],
   "source": [
    "ntrain = train_idx.shape[0]\n",
    "nval = valid_idx.shape[0]\n",
    "ntest = test_idx.shape[0]\n",
    "ntrain, nval, ntest"
   ]
  },
  {
   "cell_type": "code",
   "execution_count": 173,
   "metadata": {},
   "outputs": [],
   "source": [
    "all_idx = np.concatenate((train_idx, valid_idx, test_idx), axis=0)"
   ]
  },
  {
   "cell_type": "code",
   "execution_count": 174,
   "metadata": {},
   "outputs": [
    {
     "data": {
      "text/plain": [
       "(0, 109)"
      ]
     },
     "execution_count": 174,
     "metadata": {},
     "output_type": "execute_result"
    }
   ],
   "source": [
    "all_idx.min(), all_idx.max()"
   ]
  },
  {
   "cell_type": "code",
   "execution_count": 175,
   "metadata": {},
   "outputs": [
    {
     "data": {
      "text/plain": [
       "(110,)"
      ]
     },
     "execution_count": 175,
     "metadata": {},
     "output_type": "execute_result"
    }
   ],
   "source": [
    "data_arr_time.shape"
   ]
  },
  {
   "cell_type": "code",
   "execution_count": 176,
   "metadata": {},
   "outputs": [
    {
     "data": {
      "text/plain": [
       "array([70., 67., 59., 74., 56., 59., 85., 73., 52., 53., 78., 69., 67.,\n",
       "       55., 61., 54., 59., 74., 71., 67., 51., 73., 56., 63., 51., 77.,\n",
       "       62., 63., 72., 51., 49., 50., 74., 46., 71., 55., 61., 55., 67.,\n",
       "       46., 65., 69., 56., 54., 51., 53., 64., 49., 44., 56., 50., 55.,\n",
       "       47., 54., 73., 46., 43., 53., 66., 44., 38., 45., 54., 46., 46.,\n",
       "       58., 50., 53., 47., 56., 43., 52., 39., 50., 63., 55., 40., 41.,\n",
       "       56., 44., 38., 47., 62., 41., 40., 47., 38., 58., 39., 44., 37.,\n",
       "       45., 49., 42., 39., 47., 35., 42., 33., 40., 40., 41., 36., 40.,\n",
       "       41., 45., 33., 36., 47., 32.])"
      ]
     },
     "execution_count": 176,
     "metadata": {},
     "output_type": "execute_result"
    }
   ],
   "source": [
    "data_arr_time"
   ]
  },
  {
   "cell_type": "code",
   "execution_count": null,
   "metadata": {},
   "outputs": [],
   "source": []
  },
  {
   "cell_type": "code",
   "execution_count": 177,
   "metadata": {},
   "outputs": [],
   "source": [
    "from netCDF4 import Dataset\n",
    "from pathlib import Path"
   ]
  },
  {
   "cell_type": "code",
   "execution_count": 178,
   "metadata": {},
   "outputs": [],
   "source": [
    "fileID = Dataset(\"./data_surrogate/CR2192_manuscript_validation_120runs_20240513.nc\")\n",
    "# print(fileID.variables)\n",
    "\n",
    "# only access sims available in the arrival time dataframe.\n",
    "\n",
    "UxSim = fileID.variables['UxSim'][:].T.data[:, data_sim_ids - 1]\n",
    "UySim = fileID.variables['UySim'][:].T.data[:, data_sim_ids - 1]\n",
    "UzSim = fileID.variables['UzSim'][:].T.data[:, data_sim_ids - 1]\n",
    "\n",
    "USim = np.sqrt(UxSim**2 + UySim**2 + UzSim**2)\n",
    "\n",
    "BxSim = fileID.variables['BxSim'][:].T.data[:, data_sim_ids - 1]\n",
    "BySim = fileID.variables['BySim'][:].T.data[:, data_sim_ids - 1]\n",
    "BzSim = fileID.variables['BzSim'][:].T.data[:, data_sim_ids - 1]\n",
    "\n",
    "BSim = np.sqrt(BxSim**2 + BySim**2 + BzSim**2)\n",
    "\n",
    "NpSim = fileID.variables['NpSim'][:].T.data[:, data_sim_ids - 1]\n",
    "\n",
    "timeSim = fileID.variables['time'][:].data\n",
    "\n",
    "# # access attribute\n",
    "# # startTimeSim = fileID.attributes['startTime']\n",
    "# for name, variable in fileID.variables.items():\n",
    "#     for attrname in variable.ncattrs():\n",
    "#         print(attrname, ':', getattr(variable, attrname))"
   ]
  },
  {
   "cell_type": "code",
   "execution_count": 179,
   "metadata": {},
   "outputs": [
    {
     "data": {
      "text/plain": [
       "((95, 110), (95, 110), (95, 110), (95,))"
      ]
     },
     "execution_count": 179,
     "metadata": {},
     "output_type": "execute_result"
    }
   ],
   "source": [
    "USim.shape, BSim.shape, NpSim.shape, timeSim.shape"
   ]
  },
  {
   "cell_type": "code",
   "execution_count": 180,
   "metadata": {},
   "outputs": [],
   "source": [
    "# convert timeSim to datetime\n",
    "from datetime import datetime, timedelta\n",
    "\n",
    "# add timeSim hours to \"2017_07_14T02:55:00\"\n",
    "start_time = datetime.strptime(\"2017_07_14T02:55:00\", \"%Y_%m_%dT%H:%M:%S\")\n",
    "\n",
    "timedelta(hours=1)\n",
    "\n",
    "all_times = [start_time + timedelta(hours=int(hr)) for hr in timeSim]\n",
    "# all_times"
   ]
  },
  {
   "cell_type": "code",
   "execution_count": 181,
   "metadata": {},
   "outputs": [
    {
     "data": {
      "text/plain": [
       "datetime.datetime(2017, 7, 16, 15, 55)"
      ]
     },
     "execution_count": 181,
     "metadata": {},
     "output_type": "execute_result"
    }
   ],
   "source": [
    "# find time index closest to arr_time\n",
    "arr_time = datetime.strptime(\"2017_07_16T16:00:00\", \"%Y_%m_%dT%H:%M:%S\")\n",
    "\n",
    "arr_time_idx = np.abs(np.array(all_times) - arr_time).argmin()\n",
    "np.array(all_times)[arr_time_idx]"
   ]
  },
  {
   "cell_type": "code",
   "execution_count": 182,
   "metadata": {},
   "outputs": [],
   "source": [
    "# use shift data to find the time index for individual sims\n",
    "\n",
    "shifts_data = arr_times_data['shift'].to_numpy().astype(int)\n",
    "\n",
    "shifts_data\n",
    "sim_arr_times_idx = np.array([arr_time_idx - shift for shift in shifts_data])"
   ]
  },
  {
   "cell_type": "code",
   "execution_count": 183,
   "metadata": {},
   "outputs": [
    {
     "data": {
      "text/plain": [
       "(110,)"
      ]
     },
     "execution_count": 183,
     "metadata": {},
     "output_type": "execute_result"
    }
   ],
   "source": [
    "sim_arr_times_idx.shape"
   ]
  },
  {
   "cell_type": "code",
   "execution_count": 184,
   "metadata": {},
   "outputs": [
    {
     "data": {
      "text/plain": [
       "((110,), (110,), (110,))"
      ]
     },
     "execution_count": 184,
     "metadata": {},
     "output_type": "execute_result"
    }
   ],
   "source": [
    "# extract USim, BSim, NpSim for each sim at respective arr_time_idx\n",
    "\n",
    "USim_target = np.array([USim[sim_arr_times_idx[i], i] for i in range(num_sim)])\n",
    "BSim_target = np.array([BSim[sim_arr_times_idx[i], i] for i in range(num_sim)])\n",
    "NpSim_target = np.array([NpSim[sim_arr_times_idx[i], i] for i in range(num_sim)])\n",
    "\n",
    "USim_target.shape, BSim_target.shape, NpSim_target.shape"
   ]
  },
  {
   "cell_type": "code",
   "execution_count": 185,
   "metadata": {},
   "outputs": [
    {
     "data": {
      "text/plain": [
       "(array([ 9., 12., 18., 21., 24., 15.,  5.,  2.,  1.,  3.]),\n",
       " array([ 0.53035042,  6.66182223, 12.79329404, 18.92476586, 25.05623767,\n",
       "        31.18770949, 37.3191813 , 43.45065311, 49.58212493, 55.71359674,\n",
       "        61.84506855]),\n",
       " <BarContainer object of 10 artists>)"
      ]
     },
     "execution_count": 185,
     "metadata": {},
     "output_type": "execute_result"
    },
    {
     "data": {
      "image/png": "[encoded data removed]",
      "text/plain": [
       "<Figure size 640x480 with 1 Axes>"
      ]
     },
     "metadata": {},
     "output_type": "display_data"
    }
   ],
   "source": [
    "plt.hist(BSim_target)"
   ]
  },
  {
   "cell_type": "code",
   "execution_count": 186,
   "metadata": {},
   "outputs": [
    {
     "data": {
      "text/plain": [
       "(array([27., 31., 20., 13., 10.,  3.,  1.,  1.,  2.,  2.]),\n",
       " array([  6.47185629,  17.16586826,  27.85988024,  38.55389222,\n",
       "         49.24790419,  59.94191617,  70.63592814,  81.32994012,\n",
       "         92.0239521 , 102.71796407, 113.41197605]),\n",
       " <BarContainer object of 10 artists>)"
      ]
     },
     "execution_count": 186,
     "metadata": {},
     "output_type": "execute_result"
    },
    {
     "data": {
      "image/png": "[encoded data removed]",
      "text/plain": [
       "<Figure size 640x480 with 1 Axes>"
      ]
     },
     "metadata": {},
     "output_type": "display_data"
    }
   ],
   "source": [
    "plt.hist(NpSim_target)"
   ]
  },
  {
   "cell_type": "code",
   "execution_count": 187,
   "metadata": {},
   "outputs": [
    {
     "data": {
      "text/plain": [
       "(110, 4)"
      ]
     },
     "execution_count": 187,
     "metadata": {},
     "output_type": "execute_result"
    }
   ],
   "source": [
    "# stack data_arr_time, USim_target, BSim_target, NpSim_target into a single array.\n",
    "\n",
    "target_data = np.stack((data_arr_time, USim_target, BSim_target, NpSim_target), axis=1)\n",
    "\n",
    "target_data.shape"
   ]
  },
  {
   "cell_type": "code",
   "execution_count": 188,
   "metadata": {},
   "outputs": [
    {
     "data": {
      "text/plain": [
       "(40,\n",
       " array([102., 104., 106., 108., 110., 112., 114., 116., 118., 120., 122.,\n",
       "        124., 126., 128., 130., 132., 134., 136., 138., 140., 142., 144.,\n",
       "        146., 148., 150., 152., 154., 156., 158., 160., 162., 164., 166.,\n",
       "        168., 170., 172., 174., 176., 178., 180.]))"
      ]
     },
     "execution_count": 188,
     "metadata": {},
     "output_type": "execute_result"
    }
   ],
   "source": [
    "all_timesteps = np.linspace(2, 180, 90, dtype=int)\n",
    "tMinIdx = 50 # hardcoding for now, change later to accomodate variable length sequences\n",
    "tMaxIdx = len(all_timesteps) - 1\n",
    "nTimesteps = tMaxIdx - tMinIdx + 1\n",
    "\n",
    "\n",
    "\n",
    "# scale time appropriately\n",
    "tt_raw = np.linspace(all_timesteps[tMinIdx], all_timesteps[tMaxIdx], nTimesteps)\n",
    "tt = np.linspace(0, 1, tMaxIdx - tMinIdx + 1)\n",
    "tpredict = torch.Tensor(tt).to(device)\n",
    "\n",
    "nTimesteps, tt_raw"
   ]
  },
  {
   "cell_type": "code",
   "execution_count": 189,
   "metadata": {},
   "outputs": [
    {
     "name": "stdout",
     "output_type": "stream",
     "text": [
      "(67, 4) (16, 4) (27, 4)\n"
     ]
    }
   ],
   "source": [
    "import sklearn\n",
    "import copy\n",
    "train_arr_raw = target_data[train_idx, :]\n",
    "val_arr_raw = target_data[valid_idx, :]\n",
    "test_arr_raw = target_data[test_idx, :]\n",
    "\n",
    "print(train_arr_raw.shape, val_arr_raw.shape, test_arr_raw.shape)\n",
    "\n",
    "# pt = PowerTransformer(method='box-cox')\n",
    "# pt = sklearn.preprocessing.RobustScaler()\n",
    "pt = sklearn.preprocessing.MinMaxScaler()\n",
    "pt.fit(train_arr_raw)\n",
    "\n",
    "train_arr_pt = pt.transform(train_arr_raw)\n",
    "val_arr_pt = pt.transform(val_arr_raw)\n",
    "test_arr_pt = pt.transform(test_arr_raw)"
   ]
  },
  {
   "cell_type": "code",
   "execution_count": 190,
   "metadata": {},
   "outputs": [],
   "source": [
    "raw_datafile = np.load(\"./data_surrogate/CR2192_120runs_C3_ratio_PolarTensor.npy\")"
   ]
  },
  {
   "cell_type": "code",
   "execution_count": 191,
   "metadata": {},
   "outputs": [
    {
     "data": {
      "text/plain": [
       "(128, 512, 90, 120)"
      ]
     },
     "execution_count": 191,
     "metadata": {},
     "output_type": "execute_result"
    }
   ],
   "source": [
    "raw_datafile.shape"
   ]
  },
  {
   "cell_type": "code",
   "execution_count": 192,
   "metadata": {},
   "outputs": [
    {
     "data": {
      "text/plain": [
       "(0.799298967364635, 1.5)"
      ]
     },
     "execution_count": 192,
     "metadata": {},
     "output_type": "execute_result"
    }
   ],
   "source": [
    "raw_min, raw_max = raw_datafile.min(), raw_datafile.max()\n",
    "raw_min, raw_max"
   ]
  },
  {
   "cell_type": "code",
   "execution_count": 193,
   "metadata": {},
   "outputs": [],
   "source": [
    "train_data_raw = raw_datafile[:, :, :, train_sims]\n",
    "val_data_raw = raw_datafile[:, :, :, val_sims]\n",
    "test_data_raw = raw_datafile[:, :, :, test_sims]"
   ]
  },
  {
   "cell_type": "code",
   "execution_count": 194,
   "metadata": {},
   "outputs": [],
   "source": [
    "resize_dims = args[\"resize_dims\"]\n",
    "\n",
    "train_data_resized = T.Resize(size=resize_dims,\n",
    "                                  antialias=True\n",
    "                                  )(torch.Tensor(train_data_raw.transpose(3, 2, 0, 1)))\n",
    "    \n",
    "val_data_resized = T.Resize(size=resize_dims,\n",
    "                            antialias=True\n",
    "                            )(torch.Tensor(val_data_raw.transpose(3, 2, 0, 1)))\n",
    "\n",
    "test_data_resized = T.Resize(size=resize_dims,\n",
    "                            antialias=True\n",
    "                            )(torch.Tensor(test_data_raw.transpose(3, 2, 0, 1)))"
   ]
  },
  {
   "cell_type": "code",
   "execution_count": 195,
   "metadata": {},
   "outputs": [
    {
     "data": {
      "text/plain": [
       "(tensor(1.5000), tensor(0.8940))"
      ]
     },
     "execution_count": 195,
     "metadata": {},
     "output_type": "execute_result"
    }
   ],
   "source": [
    "max_train = torch.max(train_data_resized)\n",
    "min_train = torch.min(train_data_resized)\n",
    "\n",
    "max_train, min_train"
   ]
  },
  {
   "cell_type": "code",
   "execution_count": 196,
   "metadata": {},
   "outputs": [],
   "source": [
    "train_data = (train_data_resized[:, tMinIdx:(tMaxIdx + 1), :, :] - min_train)/(max_train - min_train)\n",
    "val_data = (val_data_resized[:, tMinIdx:(tMaxIdx + 1), :, :] - min_train)/(max_train - min_train)\n",
    "test_data = (test_data_resized[:, tMinIdx:(tMaxIdx + 1), :, :] - min_train)/(max_train - min_train)"
   ]
  },
  {
   "cell_type": "code",
   "execution_count": 197,
   "metadata": {},
   "outputs": [
    {
     "data": {
      "text/plain": [
       "(torch.Size([67, 40, 16, 64]),\n",
       " torch.Size([16, 40, 16, 64]),\n",
       " torch.Size([27, 40, 16, 64]))"
      ]
     },
     "execution_count": 197,
     "metadata": {},
     "output_type": "execute_result"
    }
   ],
   "source": [
    "train_data.shape, val_data.shape, test_data.shape"
   ]
  },
  {
   "cell_type": "code",
   "execution_count": 198,
   "metadata": {},
   "outputs": [
    {
     "data": {
      "text/plain": [
       "(tensor(1.), tensor(1.), tensor(1.))"
      ]
     },
     "execution_count": 198,
     "metadata": {},
     "output_type": "execute_result"
    }
   ],
   "source": [
    "train_data.max(), val_data.max(), test_data.max()"
   ]
  },
  {
   "cell_type": "markdown",
   "metadata": {},
   "source": [
    "### Concatenate parameters (optional)"
   ]
  },
  {
   "cell_type": "code",
   "execution_count": 199,
   "metadata": {},
   "outputs": [
    {
     "data": {
      "text/html": [
       "<div>\n",
       "<style scoped>\n",
       "    .dataframe tbody tr th:only-of-type {\n",
       "        vertical-align: middle;\n",
       "    }\n",
       "\n",
       "    .dataframe tbody tr th {\n",
       "        vertical-align: top;\n",
       "    }\n",
       "\n",
       "    .dataframe thead th {\n",
       "        text-align: right;\n",
       "    }\n",
       "</style>\n",
       "<table border=\"1\" class=\"dataframe\">\n",
       "  <thead>\n",
       "    <tr style=\"text-align: right;\">\n",
       "      <th></th>\n",
       "      <th>BStrength</th>\n",
       "      <th>OrientationCme</th>\n",
       "      <th>ApexHeight</th>\n",
       "      <th>iHelicity</th>\n",
       "    </tr>\n",
       "  </thead>\n",
       "  <tbody>\n",
       "    <tr>\n",
       "      <th>0</th>\n",
       "      <td>5.0417</td>\n",
       "      <td>347.475</td>\n",
       "      <td>0.8505</td>\n",
       "      <td>-1</td>\n",
       "    </tr>\n",
       "    <tr>\n",
       "      <th>1</th>\n",
       "      <td>5.1250</td>\n",
       "      <td>330.225</td>\n",
       "      <td>0.7196</td>\n",
       "      <td>1</td>\n",
       "    </tr>\n",
       "    <tr>\n",
       "      <th>2</th>\n",
       "      <td>6.7917</td>\n",
       "      <td>380.475</td>\n",
       "      <td>0.7482</td>\n",
       "      <td>1</td>\n",
       "    </tr>\n",
       "    <tr>\n",
       "      <th>3</th>\n",
       "      <td>5.3750</td>\n",
       "      <td>342.225</td>\n",
       "      <td>0.9123</td>\n",
       "      <td>-1</td>\n",
       "    </tr>\n",
       "    <tr>\n",
       "      <th>4</th>\n",
       "      <td>5.2917</td>\n",
       "      <td>322.725</td>\n",
       "      <td>0.8719</td>\n",
       "      <td>1</td>\n",
       "    </tr>\n",
       "    <tr>\n",
       "      <th>...</th>\n",
       "      <td>...</td>\n",
       "      <td>...</td>\n",
       "      <td>...</td>\n",
       "      <td>...</td>\n",
       "    </tr>\n",
       "    <tr>\n",
       "      <th>115</th>\n",
       "      <td>14.6250</td>\n",
       "      <td>300.225</td>\n",
       "      <td>0.6911</td>\n",
       "      <td>1</td>\n",
       "    </tr>\n",
       "    <tr>\n",
       "      <th>116</th>\n",
       "      <td>14.7083</td>\n",
       "      <td>371.475</td>\n",
       "      <td>0.9337</td>\n",
       "      <td>1</td>\n",
       "    </tr>\n",
       "    <tr>\n",
       "      <th>117</th>\n",
       "      <td>14.7917</td>\n",
       "      <td>348.225</td>\n",
       "      <td>0.7743</td>\n",
       "      <td>1</td>\n",
       "    </tr>\n",
       "    <tr>\n",
       "      <th>118</th>\n",
       "      <td>14.8750</td>\n",
       "      <td>312.975</td>\n",
       "      <td>0.7363</td>\n",
       "      <td>-1</td>\n",
       "    </tr>\n",
       "    <tr>\n",
       "      <th>119</th>\n",
       "      <td>14.9583</td>\n",
       "      <td>340.725</td>\n",
       "      <td>0.8933</td>\n",
       "      <td>-1</td>\n",
       "    </tr>\n",
       "  </tbody>\n",
       "</table>\n",
       "<p>120 rows × 4 columns</p>\n",
       "</div>"
      ],
      "text/plain": [
       "     BStrength  OrientationCme  ApexHeight  iHelicity\n",
       "0       5.0417         347.475      0.8505         -1\n",
       "1       5.1250         330.225      0.7196          1\n",
       "2       6.7917         380.475      0.7482          1\n",
       "3       5.3750         342.225      0.9123         -1\n",
       "4       5.2917         322.725      0.8719          1\n",
       "..         ...             ...         ...        ...\n",
       "115    14.6250         300.225      0.6911          1\n",
       "116    14.7083         371.475      0.9337          1\n",
       "117    14.7917         348.225      0.7743          1\n",
       "118    14.8750         312.975      0.7363         -1\n",
       "119    14.9583         340.725      0.8933         -1\n",
       "\n",
       "[120 rows x 4 columns]"
      ]
     },
     "execution_count": 199,
     "metadata": {},
     "output_type": "execute_result"
    }
   ],
   "source": [
    "raw_params = pd.read_csv(\"./data_surrogate/params_2192_120runs.csv\")\n",
    "raw_params = raw_params[[\"BStrength\", \"OrientationCme\", \"ApexHeight\", \"iHelicity\"]]\n",
    "raw_params"
   ]
  },
  {
   "cell_type": "code",
   "execution_count": 200,
   "metadata": {},
   "outputs": [
    {
     "data": {
      "text/html": [
       "<div>\n",
       "<style scoped>\n",
       "    .dataframe tbody tr th:only-of-type {\n",
       "        vertical-align: middle;\n",
       "    }\n",
       "\n",
       "    .dataframe tbody tr th {\n",
       "        vertical-align: top;\n",
       "    }\n",
       "\n",
       "    .dataframe thead th {\n",
       "        text-align: right;\n",
       "    }\n",
       "</style>\n",
       "<table border=\"1\" class=\"dataframe\">\n",
       "  <thead>\n",
       "    <tr style=\"text-align: right;\">\n",
       "      <th></th>\n",
       "      <th>BStrength</th>\n",
       "      <th>OrientationCme</th>\n",
       "      <th>ApexHeight</th>\n",
       "      <th>iHelicity</th>\n",
       "    </tr>\n",
       "  </thead>\n",
       "  <tbody>\n",
       "    <tr>\n",
       "      <th>min</th>\n",
       "      <td>5.0417</td>\n",
       "      <td>294.975</td>\n",
       "      <td>0.6673</td>\n",
       "      <td>-1</td>\n",
       "    </tr>\n",
       "    <tr>\n",
       "      <th>max</th>\n",
       "      <td>14.9583</td>\n",
       "      <td>384.225</td>\n",
       "      <td>0.9504</td>\n",
       "      <td>1</td>\n",
       "    </tr>\n",
       "  </tbody>\n",
       "</table>\n",
       "</div>"
      ],
      "text/plain": [
       "     BStrength  OrientationCme  ApexHeight  iHelicity\n",
       "min     5.0417         294.975      0.6673         -1\n",
       "max    14.9583         384.225      0.9504          1"
      ]
     },
     "execution_count": 200,
     "metadata": {},
     "output_type": "execute_result"
    }
   ],
   "source": [
    "raw_params.agg(['min', 'max'])"
   ]
  },
  {
   "cell_type": "code",
   "execution_count": 201,
   "metadata": {},
   "outputs": [
    {
     "data": {
      "text/plain": [
       "(110, 4)"
      ]
     },
     "execution_count": 201,
     "metadata": {},
     "output_type": "execute_result"
    }
   ],
   "source": [
    "raw_params_retained = raw_params.to_numpy()[data_sim_ids - 1, :]\n",
    "raw_params_retained.shape"
   ]
  },
  {
   "cell_type": "code",
   "execution_count": 202,
   "metadata": {},
   "outputs": [],
   "source": [
    "# raw_params_np = raw_params_retained.to_numpy()"
   ]
  },
  {
   "cell_type": "code",
   "execution_count": 203,
   "metadata": {},
   "outputs": [],
   "source": [
    "param_scaling = [15, 384, 0.95, 1]"
   ]
  },
  {
   "cell_type": "code",
   "execution_count": 204,
   "metadata": {},
   "outputs": [
    {
     "data": {
      "text/plain": [
       "(67, 4)"
      ]
     },
     "execution_count": 204,
     "metadata": {},
     "output_type": "execute_result"
    }
   ],
   "source": [
    "raw_params_retained[train_idx, :].shape"
   ]
  },
  {
   "cell_type": "markdown",
   "metadata": {},
   "source": [
    "### Train-test split and normalization\n",
    "\n",
    "Use train_idx, valid_idx and test_idx"
   ]
  },
  {
   "cell_type": "code",
   "execution_count": 205,
   "metadata": {},
   "outputs": [],
   "source": [
    "train_params_raw = raw_params_retained[train_idx, :] / param_scaling\n",
    "valid_params_raw = raw_params_retained[valid_idx, :] / param_scaling\n",
    "test_params_raw = raw_params_retained[test_idx, :] / param_scaling"
   ]
  },
  {
   "cell_type": "code",
   "execution_count": 206,
   "metadata": {},
   "outputs": [],
   "source": [
    "train_snaps = train_data.reshape((train_data.shape[0], train_data.shape[1], -1))\n",
    "val_snaps = val_data.reshape((val_data.shape[0], val_data.shape[1], -1))\n",
    "test_snaps = test_data.reshape((test_data.shape[0], test_data.shape[1], -1))\n",
    "\n",
    "# repeat parameter values up to number of timesteps\n",
    "train_params_ts = np.repeat(train_params_raw.reshape((train_params_raw.shape[0], train_params_raw.shape[1], 1)), nTimesteps, axis=2)\n",
    "val_params_ts = np.repeat(valid_params_raw.reshape((valid_params_raw.shape[0], valid_params_raw.shape[1], 1)), nTimesteps, axis=2)\n",
    "test_params_ts = np.repeat(test_params_raw.reshape((test_params_raw.shape[0], test_params_raw.shape[1], 1)), nTimesteps, axis=2)\n",
    "\n",
    "# concatenate snaps and params\n",
    "train_all = torch.cat((train_snaps, torch.Tensor(np.transpose(train_params_ts, (0, 2, 1)))), 2)\n",
    "val_all = torch.cat((val_snaps, torch.Tensor(np.transpose(val_params_ts, (0, 2, 1)))), 2)\n",
    "test_all = torch.cat((test_snaps, torch.Tensor(np.transpose(test_params_ts, (0, 2, 1)))), 2)"
   ]
  },
  {
   "cell_type": "code",
   "execution_count": 207,
   "metadata": {},
   "outputs": [
    {
     "data": {
      "text/plain": [
       "(torch.Size([67, 40, 1024]), torch.Size([16, 40, 1024]))"
      ]
     },
     "execution_count": 207,
     "metadata": {},
     "output_type": "execute_result"
    }
   ],
   "source": [
    "train_snaps.shape, val_snaps.shape"
   ]
  },
  {
   "cell_type": "code",
   "execution_count": 208,
   "metadata": {},
   "outputs": [],
   "source": [
    "train_arr_ts = torch.Tensor(train_arr_pt)\n",
    "val_arr_ts = torch.Tensor(val_arr_pt)\n",
    "test_arr_ts = torch.Tensor(test_arr_pt)\n",
    "\n",
    "train_arr_raw_ts = torch.Tensor(train_arr_raw).unsqueeze(1)\n",
    "val_arr_raw_ts = torch.Tensor(val_arr_raw).unsqueeze(1)\n",
    "test_arr_raw_ts = torch.Tensor(test_arr_raw).unsqueeze(1)"
   ]
  },
  {
   "cell_type": "code",
   "execution_count": 209,
   "metadata": {},
   "outputs": [
    {
     "data": {
      "text/plain": [
       "(torch.Size([67, 40, 1028]),\n",
       " torch.Size([16, 40, 1028]),\n",
       " torch.Size([27, 40, 1028]))"
      ]
     },
     "execution_count": 209,
     "metadata": {},
     "output_type": "execute_result"
    }
   ],
   "source": [
    "train_all.shape, val_all.shape, test_all.shape"
   ]
  },
  {
   "cell_type": "code",
   "execution_count": 210,
   "metadata": {},
   "outputs": [
    {
     "data": {
      "text/plain": [
       "(67, 16, 27)"
      ]
     },
     "execution_count": 210,
     "metadata": {},
     "output_type": "execute_result"
    }
   ],
   "source": [
    "ntrain, nval, ntest"
   ]
  },
  {
   "cell_type": "code",
   "execution_count": 211,
   "metadata": {},
   "outputs": [],
   "source": [
    "train_dataset = []\n",
    "val_dataset = []\n",
    "test_dataset = []\n",
    "for i in range(ntrain):\n",
    "    for j in range(1, nTimesteps - 1):\n",
    "        train_dataset.append((train_all[i:(i+1), (j-1):(j+2), :], train_arr_ts[i, :], train_arr_raw_ts[i, :]))\n",
    "\n",
    "for i in range(nval):\n",
    "    for j in range(1, nTimesteps - 1):\n",
    "        val_dataset.append((val_all[i:(i+1), (j-1):(j+2), :], val_arr_ts[i, :], val_arr_raw_ts[i, :]))\n",
    "\n",
    "for i in range(ntest):\n",
    "    for j in range(1, nTimesteps - 1):\n",
    "        test_dataset.append((test_all[i:(i+1), (j-1):(j+2), :], test_arr_ts[i, :], test_arr_raw_ts[i, :]))"
   ]
  },
  {
   "cell_type": "code",
   "execution_count": 212,
   "metadata": {},
   "outputs": [],
   "source": [
    "train_dataloader = DataLoader(train_dataset, \n",
    "                              batch_size = args[\"batch_size\"],\n",
    "                              shuffle=True, \n",
    "                              )\n",
    "\n",
    "val_dataloader = DataLoader(val_dataset,\n",
    "                            batch_size = args[\"batch_size\"],\n",
    "                            shuffle=False,\n",
    "                            )\n",
    "\n",
    "test_dataloader = DataLoader(test_dataset,\n",
    "                             batch_size = len(test_dataset),\n",
    "                             shuffle=False,\n",
    "                             )"
   ]
  },
  {
   "cell_type": "code",
   "execution_count": 213,
   "metadata": {},
   "outputs": [
    {
     "data": {
      "text/plain": [
       "torch.Size([27, 40, 1028])"
      ]
     },
     "execution_count": 213,
     "metadata": {},
     "output_type": "execute_result"
    }
   ],
   "source": [
    "test_all.shape"
   ]
  },
  {
   "cell_type": "code",
   "execution_count": 214,
   "metadata": {},
   "outputs": [
    {
     "data": {
      "text/plain": [
       "(2546, 608, 1026)"
      ]
     },
     "execution_count": 214,
     "metadata": {},
     "output_type": "execute_result"
    }
   ],
   "source": [
    "len(train_dataset), len(val_dataset), len(test_dataset)"
   ]
  },
  {
   "cell_type": "code",
   "execution_count": 215,
   "metadata": {},
   "outputs": [],
   "source": [
    "# blah = train_dataloader.__iter__().__next__()\n",
    "# blah[0].shape, blah[1].shape, blah[2].shape"
   ]
  },
  {
   "cell_type": "code",
   "execution_count": 216,
   "metadata": {},
   "outputs": [],
   "source": [
    "def inf_generator(iterable):\n",
    "    \"\"\"Allows training with DataLoaders in a single infinite loop:\n",
    "        for i, (x, y) in enumerate(inf_generator(train_loader)):\n",
    "    \"\"\"\n",
    "    iterator = iterable.__iter__()\n",
    "    while True:\n",
    "        try:\n",
    "            yield iterator.__next__()\n",
    "        except StopIteration:\n",
    "            iterator = iterable.__iter__()\n",
    "\n",
    "def get_next_batch(dataloader, device=torch.device(\"cuda:0\")):\n",
    "    return dataloader.__next__()"
   ]
  },
  {
   "cell_type": "code",
   "execution_count": 217,
   "metadata": {},
   "outputs": [],
   "source": [
    "class WLCNN_Discrete(torch.nn.Module):\n",
    "    def __init__(self, n_hidden_1,\n",
    "                  n_hidden_2):\n",
    "        super(WLCNN_Discrete, self).__init__()\n",
    "        in_channels = 3\n",
    "\n",
    "        self.features = torch.nn.Sequential(\n",
    "            nn.Conv2d(in_channels, 8, kernel_size=3, stride=1, padding=1),\n",
    "            nn.BatchNorm2d(8),\n",
    "            nn.ELU(),\n",
    "            nn.Conv2d(8, 16, kernel_size=5, stride=3, padding=3),\n",
    "            nn.BatchNorm2d(16),\n",
    "            nn.ELU(),\n",
    "            # nn.ELU(),\n",
    "            # nn.Conv2d(32, 64, kernel_size=7, stride=1, padding=1),\n",
    "            # nn.BatchNorm2d(64),\n",
    "            # nn.ELU(),\n",
    "            nn.MaxPool2d(kernel_size=3, stride=1),\n",
    "        )\n",
    "\n",
    "        self.regressor = torch.nn.Sequential(\n",
    "            # nn.Linear(1280, n_hidden_1),\n",
    "            nn.Linear(1284, n_hidden_1),\n",
    "            nn.BatchNorm1d(n_hidden_1),\n",
    "            nn.ELU(),\n",
    "            nn.Dropout(p=0.5),\n",
    "            nn.Linear(n_hidden_1, n_hidden_2),\n",
    "            nn.BatchNorm1d(n_hidden_2),\n",
    "            nn.Dropout(p=0.5),\n",
    "            nn.ELU(),\n",
    "            nn.Linear(n_hidden_2, 4)\n",
    "        )\n",
    "\n",
    "    def forward(self, x):\n",
    "        x_ip = x[:, 0, :, :1024].reshape(-1, 3, 16, 64)\n",
    "        x_param = x[:, 0, 0, 1024:]\n",
    "        \n",
    "        x_ft = self.features(x_ip)\n",
    "        \n",
    "        x_ft = torch.flatten(x_ft, 1)\n",
    "\n",
    "        x_ft_cat = torch.cat((x_ft, x_param), 1)\n",
    "        # xpred = self.regressor(x_ft)\n",
    "        xpred = self.regressor(x_ft_cat)\n",
    "\n",
    "        return xpred"
   ]
  },
  {
   "cell_type": "code",
   "execution_count": 218,
   "metadata": {},
   "outputs": [],
   "source": [
    "import node_utils as nut\n",
    "import data_utils as dut\n",
    "import copy"
   ]
  },
  {
   "cell_type": "code",
   "execution_count": 219,
   "metadata": {},
   "outputs": [
    {
     "name": "stdout",
     "output_type": "stream",
     "text": [
      "Total number of parameters for model with concatenation:  24268\n",
      "Starting New experiment\n",
      "Experiment ID:  77561\n",
      "Checkpoint path:  /Users/ajivani/Desktop/Research/WLROM/WhiteLight/arr_experiments/experiment_77561.ckpt\n",
      "/Users/ajivani/Desktop/Research/WLROM/WhiteLight\n",
      "WLCNN_Discrete(\n",
      "  (features): Sequential(\n",
      "    (0): Conv2d(3, 8, kernel_size=(3, 3), stride=(1, 1), padding=(1, 1))\n",
      "    (1): BatchNorm2d(8, eps=1e-05, momentum=0.1, affine=True, track_running_stats=True)\n",
      "    (2): ELU(alpha=1.0)\n",
      "    (3): Conv2d(8, 16, kernel_size=(5, 5), stride=(3, 3), padding=(3, 3))\n",
      "    (4): BatchNorm2d(16, eps=1e-05, momentum=0.1, affine=True, track_running_stats=True)\n",
      "    (5): ELU(alpha=1.0)\n",
      "    (6): MaxPool2d(kernel_size=3, stride=1, padding=0, dilation=1, ceil_mode=False)\n",
      "  )\n",
      "  (regressor): Sequential(\n",
      "    (0): Linear(in_features=1284, out_features=16, bias=True)\n",
      "    (1): BatchNorm1d(16, eps=1e-05, momentum=0.1, affine=True, track_running_stats=True)\n",
      "    (2): ELU(alpha=1.0)\n",
      "    (3): Dropout(p=0.5, inplace=False)\n",
      "    (4): Linear(in_features=16, out_features=8, bias=True)\n",
      "    (5): BatchNorm1d(8, eps=1e-05, momentum=0.1, affine=True, track_running_stats=True)\n",
      "    (6): Dropout(p=0.5, inplace=False)\n",
      "    (7): ELU(alpha=1.0)\n",
      "    (8): Linear(in_features=8, out_features=4, bias=True)\n",
      "  )\n",
      ")\n",
      "Number of parameters: 24268\n",
      "{'niters': 450, 'lr': 0.001, 'save': 'arr_experiments/', 'load': None, 'r': 1991, 'resize_dims': (16, 64), 'param_scaling': [1, 1], 'warm_start': 20376, 'do_warm_start': False, 'loss': 'mae', 'batch_size': 32, 'dropout': False}\n",
      "/Users/ajivani/Desktop/Research/WLROM/WhiteLight/arr_experiments/experiment_77561.ckpt\n",
      "cpu\n"
     ]
    }
   ],
   "source": [
    "model = WLCNN_Discrete(n_hidden_1=16,\n",
    "                       n_hidden_2=8).to(device)\n",
    "pmodel = nut.count_parameters(model)\n",
    "\n",
    "\n",
    "print(\"Total number of parameters for model with concatenation: \", pmodel)\n",
    "\n",
    "nut.makedirs(os.path.join(os.getcwd(), \"arr_logs\"))\n",
    "logdir = os.path.join(os.getcwd(), \"arr_logs\")\n",
    "\n",
    "exptdir = os.path.join(os.getcwd(), args[\"save\"])\n",
    "nut.makedirs(exptdir)\n",
    "\n",
    "if args[\"load\"] is not None:\n",
    "    experimentID = args[\"load\"]\n",
    "    print(\"Loading experiment\")\n",
    "else:\n",
    "    if args[\"do_warm_start\"]==True:\n",
    "        experimentID = args[\"warm_start\"]\n",
    "        print(\"Warm starting previous experiment\")\n",
    "    else:\n",
    "        experimentID = int(SystemRandom().random() * 1e5)\n",
    "        print(\"Starting New experiment\")\n",
    "\n",
    "print(\"Experiment ID: \", experimentID)\n",
    "\n",
    "ckpt_path = ckpt_path = os.path.join(exptdir, \"experiment_\" + str(experimentID) + '.ckpt')\n",
    "\n",
    "print(\"Checkpoint path: \", ckpt_path)\n",
    "\n",
    "logger = dut.get_logger(logpath=os.path.join(logdir, \"experiment_\" + str(experimentID) + '.log'))\n",
    "\n",
    "logger.info(os.getcwd())\n",
    "logger.info(model)\n",
    "logger.info(\"Number of parameters: {}\".format(pmodel))\n",
    "logger.info(args)\n",
    "logger.info(ckpt_path)\n",
    "logger.info(device)"
   ]
  },
  {
   "cell_type": "code",
   "execution_count": 220,
   "metadata": {},
   "outputs": [
    {
     "data": {
      "application/vnd.jupyter.widget-view+json": {
       "model_id": "0d82abd8c2194244aaaac7f2068f86a7",
       "version_major": 2,
       "version_minor": 0
      },
      "text/plain": [
       "Output()"
      ]
     },
     "metadata": {},
     "output_type": "display_data"
    },
    {
     "name": "stdout",
     "output_type": "stream",
     "text": [
      "L1Loss()\n",
      "Starting a new experiment 77561 from Epoch 0\n"
     ]
    },
    {
     "data": {
      "text/html": [
       "<pre style=\"white-space:pre;overflow-x:auto;line-height:normal;font-family:Menlo,'DejaVu Sans Mono',consolas,'Courier New',monospace\">Epoch 0001|Val loss 2.804832e-01|Train loss 3.735861e-01|LR 0.00100|\n",
       "</pre>\n"
      ],
      "text/plain": [
       "Epoch 0001|Val loss 2.804832e-01|Train loss 3.735861e-01|LR 0.00100|\n"
      ]
     },
     "metadata": {},
     "output_type": "display_data"
    },
    {
     "data": {
      "text/html": [
       "<pre style=\"white-space:pre;overflow-x:auto;line-height:normal;font-family:Menlo,'DejaVu Sans Mono',consolas,'Courier New',monospace\">Epoch 0002|Val loss 1.712347e-01|Train loss 2.395945e-01|LR 0.00100|\n",
       "</pre>\n"
      ],
      "text/plain": [
       "Epoch 0002|Val loss 1.712347e-01|Train loss 2.395945e-01|LR 0.00100|\n"
      ]
     },
     "metadata": {},
     "output_type": "display_data"
    },
    {
     "data": {
      "text/html": [
       "<pre style=\"white-space:pre;overflow-x:auto;line-height:normal;font-family:Menlo,'DejaVu Sans Mono',consolas,'Courier New',monospace\">Epoch 0003|Val loss 1.843657e-01|Train loss 2.021080e-01|LR 0.00100|\n",
       "</pre>\n"
      ],
      "text/plain": [
       "Epoch 0003|Val loss 1.843657e-01|Train loss 2.021080e-01|LR 0.00100|\n"
      ]
     },
     "metadata": {},
     "output_type": "display_data"
    },
    {
     "data": {
      "text/html": [
       "<pre style=\"white-space:pre;overflow-x:auto;line-height:normal;font-family:Menlo,'DejaVu Sans Mono',consolas,'Courier New',monospace\">Epoch 0004|Val loss 1.546348e-01|Train loss 1.853778e-01|LR 0.00100|\n",
       "</pre>\n"
      ],
      "text/plain": [
       "Epoch 0004|Val loss 1.546348e-01|Train loss 1.853778e-01|LR 0.00100|\n"
      ]
     },
     "metadata": {},
     "output_type": "display_data"
    },
    {
     "data": {
      "text/html": [
       "<pre style=\"white-space:pre;overflow-x:auto;line-height:normal;font-family:Menlo,'DejaVu Sans Mono',consolas,'Courier New',monospace\">Epoch 0005|Val loss 1.873206e-01|Train loss 1.751190e-01|LR 0.00100|\n",
       "</pre>\n"
      ],
      "text/plain": [
       "Epoch 0005|Val loss 1.873206e-01|Train loss 1.751190e-01|LR 0.00100|\n"
      ]
     },
     "metadata": {},
     "output_type": "display_data"
    },
    {
     "data": {
      "text/html": [
       "<pre style=\"white-space:pre;overflow-x:auto;line-height:normal;font-family:Menlo,'DejaVu Sans Mono',consolas,'Courier New',monospace\">Epoch 0006|Val loss 1.455224e-01|Train loss 1.661775e-01|LR 0.00100|\n",
       "</pre>\n"
      ],
      "text/plain": [
       "Epoch 0006|Val loss 1.455224e-01|Train loss 1.661775e-01|LR 0.00100|\n"
      ]
     },
     "metadata": {},
     "output_type": "display_data"
    },
    {
     "data": {
      "text/html": [
       "<pre style=\"white-space:pre;overflow-x:auto;line-height:normal;font-family:Menlo,'DejaVu Sans Mono',consolas,'Courier New',monospace\">Epoch 0007|Val loss 1.375934e-01|Train loss 1.603255e-01|LR 0.00100|\n",
       "</pre>\n"
      ],
      "text/plain": [
       "Epoch 0007|Val loss 1.375934e-01|Train loss 1.603255e-01|LR 0.00100|\n"
      ]
     },
     "metadata": {},
     "output_type": "display_data"
    },
    {
     "data": {
      "text/html": [
       "<pre style=\"white-space:pre;overflow-x:auto;line-height:normal;font-family:Menlo,'DejaVu Sans Mono',consolas,'Courier New',monospace\">Epoch 0008|Val loss 1.284641e-01|Train loss 1.570361e-01|LR 0.00100|\n",
       "</pre>\n"
      ],
      "text/plain": [
       "Epoch 0008|Val loss 1.284641e-01|Train loss 1.570361e-01|LR 0.00100|\n"
      ]
     },
     "metadata": {},
     "output_type": "display_data"
    },
    {
     "data": {
      "text/html": [
       "<pre style=\"white-space:pre;overflow-x:auto;line-height:normal;font-family:Menlo,'DejaVu Sans Mono',consolas,'Courier New',monospace\">Epoch 0009|Val loss 1.163111e-01|Train loss 1.470110e-01|LR 0.00100|\n",
       "</pre>\n"
      ],
      "text/plain": [
       "Epoch 0009|Val loss 1.163111e-01|Train loss 1.470110e-01|LR 0.00100|\n"
      ]
     },
     "metadata": {},
     "output_type": "display_data"
    },
    {
     "data": {
      "text/html": [
       "<pre style=\"white-space:pre;overflow-x:auto;line-height:normal;font-family:Menlo,'DejaVu Sans Mono',consolas,'Courier New',monospace\">Epoch 0010|Val loss 1.148082e-01|Train loss 1.409450e-01|LR 0.00100|\n",
       "</pre>\n"
      ],
      "text/plain": [
       "Epoch 0010|Val loss 1.148082e-01|Train loss 1.409450e-01|LR 0.00100|\n"
      ]
     },
     "metadata": {},
     "output_type": "display_data"
    },
    {
     "data": {
      "text/html": [
       "<pre style=\"white-space:pre;overflow-x:auto;line-height:normal;font-family:Menlo,'DejaVu Sans Mono',consolas,'Courier New',monospace\">Val loss decreased (inf to 0.15). Model saved\n",
       "</pre>\n"
      ],
      "text/plain": [
       "Val loss decreased (inf to 0.15). Model saved\n"
      ]
     },
     "metadata": {},
     "output_type": "display_data"
    },
    {
     "data": {
      "text/html": [
       "<pre style=\"white-space:pre;overflow-x:auto;line-height:normal;font-family:Menlo,'DejaVu Sans Mono',consolas,'Courier New',monospace\">Epoch 0011|Val loss 1.248597e-01|Train loss 1.410151e-01|LR 0.00100|\n",
       "</pre>\n"
      ],
      "text/plain": [
       "Epoch 0011|Val loss 1.248597e-01|Train loss 1.410151e-01|LR 0.00100|\n"
      ]
     },
     "metadata": {},
     "output_type": "display_data"
    },
    {
     "data": {
      "text/html": [
       "<pre style=\"white-space:pre;overflow-x:auto;line-height:normal;font-family:Menlo,'DejaVu Sans Mono',consolas,'Courier New',monospace\">Epoch 0012|Val loss 1.268598e-01|Train loss 1.418760e-01|LR 0.00100|\n",
       "</pre>\n"
      ],
      "text/plain": [
       "Epoch 0012|Val loss 1.268598e-01|Train loss 1.418760e-01|LR 0.00100|\n"
      ]
     },
     "metadata": {},
     "output_type": "display_data"
    },
    {
     "data": {
      "text/html": [
       "<pre style=\"white-space:pre;overflow-x:auto;line-height:normal;font-family:Menlo,'DejaVu Sans Mono',consolas,'Courier New',monospace\">Epoch 0013|Val loss 1.253572e-01|Train loss 1.470086e-01|LR 0.00100|\n",
       "</pre>\n"
      ],
      "text/plain": [
       "Epoch 0013|Val loss 1.253572e-01|Train loss 1.470086e-01|LR 0.00100|\n"
      ]
     },
     "metadata": {},
     "output_type": "display_data"
    },
    {
     "data": {
      "text/html": [
       "<pre style=\"white-space:pre;overflow-x:auto;line-height:normal;font-family:Menlo,'DejaVu Sans Mono',consolas,'Courier New',monospace\">Epoch 0014|Val loss 1.414305e-01|Train loss 1.477572e-01|LR 0.00100|\n",
       "</pre>\n"
      ],
      "text/plain": [
       "Epoch 0014|Val loss 1.414305e-01|Train loss 1.477572e-01|LR 0.00100|\n"
      ]
     },
     "metadata": {},
     "output_type": "display_data"
    },
    {
     "data": {
      "text/html": [
       "<pre style=\"white-space:pre;overflow-x:auto;line-height:normal;font-family:Menlo,'DejaVu Sans Mono',consolas,'Courier New',monospace\">Epoch 0015|Val loss 1.071595e-01|Train loss 1.449430e-01|LR 0.00100|\n",
       "</pre>\n"
      ],
      "text/plain": [
       "Epoch 0015|Val loss 1.071595e-01|Train loss 1.449430e-01|LR 0.00100|\n"
      ]
     },
     "metadata": {},
     "output_type": "display_data"
    },
    {
     "data": {
      "text/html": [
       "<pre style=\"white-space:pre;overflow-x:auto;line-height:normal;font-family:Menlo,'DejaVu Sans Mono',consolas,'Courier New',monospace\">Epoch 0016|Val loss 1.252512e-01|Train loss 1.402715e-01|LR 0.00100|\n",
       "</pre>\n"
      ],
      "text/plain": [
       "Epoch 0016|Val loss 1.252512e-01|Train loss 1.402715e-01|LR 0.00100|\n"
      ]
     },
     "metadata": {},
     "output_type": "display_data"
    },
    {
     "data": {
      "text/html": [
       "<pre style=\"white-space:pre;overflow-x:auto;line-height:normal;font-family:Menlo,'DejaVu Sans Mono',consolas,'Courier New',monospace\">Epoch 0017|Val loss 1.186956e-01|Train loss 1.400345e-01|LR 0.00100|\n",
       "</pre>\n"
      ],
      "text/plain": [
       "Epoch 0017|Val loss 1.186956e-01|Train loss 1.400345e-01|LR 0.00100|\n"
      ]
     },
     "metadata": {},
     "output_type": "display_data"
    },
    {
     "data": {
      "text/html": [
       "<pre style=\"white-space:pre;overflow-x:auto;line-height:normal;font-family:Menlo,'DejaVu Sans Mono',consolas,'Courier New',monospace\">Epoch 0018|Val loss 1.163666e-01|Train loss 1.408103e-01|LR 0.00100|\n",
       "</pre>\n"
      ],
      "text/plain": [
       "Epoch 0018|Val loss 1.163666e-01|Train loss 1.408103e-01|LR 0.00100|\n"
      ]
     },
     "metadata": {},
     "output_type": "display_data"
    },
    {
     "data": {
      "text/html": [
       "<pre style=\"white-space:pre;overflow-x:auto;line-height:normal;font-family:Menlo,'DejaVu Sans Mono',consolas,'Courier New',monospace\">Epoch 0019|Val loss 1.230787e-01|Train loss 1.382347e-01|LR 0.00100|\n",
       "</pre>\n"
      ],
      "text/plain": [
       "Epoch 0019|Val loss 1.230787e-01|Train loss 1.382347e-01|LR 0.00100|\n"
      ]
     },
     "metadata": {},
     "output_type": "display_data"
    },
    {
     "data": {
      "text/html": [
       "<pre style=\"white-space:pre;overflow-x:auto;line-height:normal;font-family:Menlo,'DejaVu Sans Mono',consolas,'Courier New',monospace\">Epoch 0020|Val loss 1.110305e-01|Train loss 1.390634e-01|LR 0.00100|\n",
       "</pre>\n"
      ],
      "text/plain": [
       "Epoch 0020|Val loss 1.110305e-01|Train loss 1.390634e-01|LR 0.00100|\n"
      ]
     },
     "metadata": {},
     "output_type": "display_data"
    },
    {
     "data": {
      "text/html": [
       "<pre style=\"white-space:pre;overflow-x:auto;line-height:normal;font-family:Menlo,'DejaVu Sans Mono',consolas,'Courier New',monospace\">Val loss decreased (0.11 to 0.13). Model saved\n",
       "</pre>\n"
      ],
      "text/plain": [
       "Val loss decreased (0.11 to 0.13). Model saved\n"
      ]
     },
     "metadata": {},
     "output_type": "display_data"
    },
    {
     "data": {
      "text/html": [
       "<pre style=\"white-space:pre;overflow-x:auto;line-height:normal;font-family:Menlo,'DejaVu Sans Mono',consolas,'Courier New',monospace\">Epoch 0021|Val loss 1.173990e-01|Train loss 1.398194e-01|LR 0.00100|\n",
       "</pre>\n"
      ],
      "text/plain": [
       "Epoch 0021|Val loss 1.173990e-01|Train loss 1.398194e-01|LR 0.00100|\n"
      ]
     },
     "metadata": {},
     "output_type": "display_data"
    },
    {
     "data": {
      "text/html": [
       "<pre style=\"white-space:pre;overflow-x:auto;line-height:normal;font-family:Menlo,'DejaVu Sans Mono',consolas,'Courier New',monospace\">Epoch 0022|Val loss 1.479160e-01|Train loss 1.394874e-01|LR 0.00100|\n",
       "</pre>\n"
      ],
      "text/plain": [
       "Epoch 0022|Val loss 1.479160e-01|Train loss 1.394874e-01|LR 0.00100|\n"
      ]
     },
     "metadata": {},
     "output_type": "display_data"
    },
    {
     "data": {
      "text/html": [
       "<pre style=\"white-space:pre;overflow-x:auto;line-height:normal;font-family:Menlo,'DejaVu Sans Mono',consolas,'Courier New',monospace\">Epoch 0023|Val loss 1.152860e-01|Train loss 1.393396e-01|LR 0.00100|\n",
       "</pre>\n"
      ],
      "text/plain": [
       "Epoch 0023|Val loss 1.152860e-01|Train loss 1.393396e-01|LR 0.00100|\n"
      ]
     },
     "metadata": {},
     "output_type": "display_data"
    },
    {
     "data": {
      "text/html": [
       "<pre style=\"white-space:pre;overflow-x:auto;line-height:normal;font-family:Menlo,'DejaVu Sans Mono',consolas,'Courier New',monospace\">Epoch 0024|Val loss 1.325307e-01|Train loss 1.380100e-01|LR 0.00100|\n",
       "</pre>\n"
      ],
      "text/plain": [
       "Epoch 0024|Val loss 1.325307e-01|Train loss 1.380100e-01|LR 0.00100|\n"
      ]
     },
     "metadata": {},
     "output_type": "display_data"
    },
    {
     "data": {
      "text/html": [
       "<pre style=\"white-space:pre;overflow-x:auto;line-height:normal;font-family:Menlo,'DejaVu Sans Mono',consolas,'Courier New',monospace\">Epoch 0025|Val loss 1.219042e-01|Train loss 1.382861e-01|LR 0.00100|\n",
       "</pre>\n"
      ],
      "text/plain": [
       "Epoch 0025|Val loss 1.219042e-01|Train loss 1.382861e-01|LR 0.00100|\n"
      ]
     },
     "metadata": {},
     "output_type": "display_data"
    },
    {
     "data": {
      "text/html": [
       "<pre style=\"white-space:pre;overflow-x:auto;line-height:normal;font-family:Menlo,'DejaVu Sans Mono',consolas,'Courier New',monospace\">Epoch 0026|Val loss 1.252492e-01|Train loss 1.399815e-01|LR 0.00100|\n",
       "</pre>\n"
      ],
      "text/plain": [
       "Epoch 0026|Val loss 1.252492e-01|Train loss 1.399815e-01|LR 0.00100|\n"
      ]
     },
     "metadata": {},
     "output_type": "display_data"
    },
    {
     "data": {
      "text/html": [
       "<pre style=\"white-space:pre;overflow-x:auto;line-height:normal;font-family:Menlo,'DejaVu Sans Mono',consolas,'Courier New',monospace\">Epoch 0027|Val loss 1.190869e-01|Train loss 1.397112e-01|LR 0.00100|\n",
       "</pre>\n"
      ],
      "text/plain": [
       "Epoch 0027|Val loss 1.190869e-01|Train loss 1.397112e-01|LR 0.00100|\n"
      ]
     },
     "metadata": {},
     "output_type": "display_data"
    },
    {
     "data": {
      "text/html": [
       "<pre style=\"white-space:pre;overflow-x:auto;line-height:normal;font-family:Menlo,'DejaVu Sans Mono',consolas,'Courier New',monospace\">Epoch 0028|Val loss 1.730558e-01|Train loss 1.366559e-01|LR 0.00100|\n",
       "</pre>\n"
      ],
      "text/plain": [
       "Epoch 0028|Val loss 1.730558e-01|Train loss 1.366559e-01|LR 0.00100|\n"
      ]
     },
     "metadata": {},
     "output_type": "display_data"
    },
    {
     "data": {
      "text/html": [
       "<pre style=\"white-space:pre;overflow-x:auto;line-height:normal;font-family:Menlo,'DejaVu Sans Mono',consolas,'Courier New',monospace\">Epoch 0029|Val loss 1.311881e-01|Train loss 1.364095e-01|LR 0.00100|\n",
       "</pre>\n"
      ],
      "text/plain": [
       "Epoch 0029|Val loss 1.311881e-01|Train loss 1.364095e-01|LR 0.00100|\n"
      ]
     },
     "metadata": {},
     "output_type": "display_data"
    },
    {
     "data": {
      "text/html": [
       "<pre style=\"white-space:pre;overflow-x:auto;line-height:normal;font-family:Menlo,'DejaVu Sans Mono',consolas,'Courier New',monospace\">Epoch 0030|Val loss 1.004946e-01|Train loss 1.360145e-01|LR 0.00100|\n",
       "</pre>\n"
      ],
      "text/plain": [
       "Epoch 0030|Val loss 1.004946e-01|Train loss 1.360145e-01|LR 0.00100|\n"
      ]
     },
     "metadata": {},
     "output_type": "display_data"
    },
    {
     "data": {
      "text/html": [
       "<pre style=\"white-space:pre;overflow-x:auto;line-height:normal;font-family:Menlo,'DejaVu Sans Mono',consolas,'Courier New',monospace\">Val loss decreased (0.11 to 0.10). Model saved\n",
       "</pre>\n"
      ],
      "text/plain": [
       "Val loss decreased (0.11 to 0.10). Model saved\n"
      ]
     },
     "metadata": {},
     "output_type": "display_data"
    },
    {
     "data": {
      "text/html": [
       "<pre style=\"white-space:pre;overflow-x:auto;line-height:normal;font-family:Menlo,'DejaVu Sans Mono',consolas,'Courier New',monospace\">Epoch 0031|Val loss 1.158465e-01|Train loss 1.354819e-01|LR 0.00100|\n",
       "</pre>\n"
      ],
      "text/plain": [
       "Epoch 0031|Val loss 1.158465e-01|Train loss 1.354819e-01|LR 0.00100|\n"
      ]
     },
     "metadata": {},
     "output_type": "display_data"
    },
    {
     "data": {
      "text/html": [
       "<pre style=\"white-space:pre;overflow-x:auto;line-height:normal;font-family:Menlo,'DejaVu Sans Mono',consolas,'Courier New',monospace\">Epoch 0032|Val loss 1.315973e-01|Train loss 1.345643e-01|LR 0.00100|\n",
       "</pre>\n"
      ],
      "text/plain": [
       "Epoch 0032|Val loss 1.315973e-01|Train loss 1.345643e-01|LR 0.00100|\n"
      ]
     },
     "metadata": {},
     "output_type": "display_data"
    },
    {
     "data": {
      "text/html": [
       "<pre style=\"white-space:pre;overflow-x:auto;line-height:normal;font-family:Menlo,'DejaVu Sans Mono',consolas,'Courier New',monospace\">Epoch 0033|Val loss 1.169088e-01|Train loss 1.338882e-01|LR 0.00100|\n",
       "</pre>\n"
      ],
      "text/plain": [
       "Epoch 0033|Val loss 1.169088e-01|Train loss 1.338882e-01|LR 0.00100|\n"
      ]
     },
     "metadata": {},
     "output_type": "display_data"
    },
    {
     "data": {
      "text/html": [
       "<pre style=\"white-space:pre;overflow-x:auto;line-height:normal;font-family:Menlo,'DejaVu Sans Mono',consolas,'Courier New',monospace\">Epoch 0034|Val loss 1.151245e-01|Train loss 1.365179e-01|LR 0.00100|\n",
       "</pre>\n"
      ],
      "text/plain": [
       "Epoch 0034|Val loss 1.151245e-01|Train loss 1.365179e-01|LR 0.00100|\n"
      ]
     },
     "metadata": {},
     "output_type": "display_data"
    },
    {
     "data": {
      "text/html": [
       "<pre style=\"white-space:pre;overflow-x:auto;line-height:normal;font-family:Menlo,'DejaVu Sans Mono',consolas,'Courier New',monospace\">Epoch 0035|Val loss 1.344424e-01|Train loss 1.408699e-01|LR 0.00100|\n",
       "</pre>\n"
      ],
      "text/plain": [
       "Epoch 0035|Val loss 1.344424e-01|Train loss 1.408699e-01|LR 0.00100|\n"
      ]
     },
     "metadata": {},
     "output_type": "display_data"
    },
    {
     "data": {
      "text/html": [
       "<pre style=\"white-space:pre;overflow-x:auto;line-height:normal;font-family:Menlo,'DejaVu Sans Mono',consolas,'Courier New',monospace\">Epoch 0036|Val loss 1.176143e-01|Train loss 1.400091e-01|LR 0.00100|\n",
       "</pre>\n"
      ],
      "text/plain": [
       "Epoch 0036|Val loss 1.176143e-01|Train loss 1.400091e-01|LR 0.00100|\n"
      ]
     },
     "metadata": {},
     "output_type": "display_data"
    },
    {
     "data": {
      "text/html": [
       "<pre style=\"white-space:pre;overflow-x:auto;line-height:normal;font-family:Menlo,'DejaVu Sans Mono',consolas,'Courier New',monospace\">Epoch 0037|Val loss 1.234695e-01|Train loss 1.375372e-01|LR 0.00100|\n",
       "</pre>\n"
      ],
      "text/plain": [
       "Epoch 0037|Val loss 1.234695e-01|Train loss 1.375372e-01|LR 0.00100|\n"
      ]
     },
     "metadata": {},
     "output_type": "display_data"
    },
    {
     "data": {
      "text/html": [
       "<pre style=\"white-space:pre;overflow-x:auto;line-height:normal;font-family:Menlo,'DejaVu Sans Mono',consolas,'Courier New',monospace\">Epoch 0038|Val loss 1.601846e-01|Train loss 1.380124e-01|LR 0.00100|\n",
       "</pre>\n"
      ],
      "text/plain": [
       "Epoch 0038|Val loss 1.601846e-01|Train loss 1.380124e-01|LR 0.00100|\n"
      ]
     },
     "metadata": {},
     "output_type": "display_data"
    },
    {
     "data": {
      "text/html": [
       "<pre style=\"white-space:pre;overflow-x:auto;line-height:normal;font-family:Menlo,'DejaVu Sans Mono',consolas,'Courier New',monospace\">Epoch 0039|Val loss 1.328016e-01|Train loss 1.398890e-01|LR 0.00100|\n",
       "</pre>\n"
      ],
      "text/plain": [
       "Epoch 0039|Val loss 1.328016e-01|Train loss 1.398890e-01|LR 0.00100|\n"
      ]
     },
     "metadata": {},
     "output_type": "display_data"
    },
    {
     "data": {
      "text/html": [
       "<pre style=\"white-space:pre;overflow-x:auto;line-height:normal;font-family:Menlo,'DejaVu Sans Mono',consolas,'Courier New',monospace\">Epoch 0040|Val loss 1.494724e-01|Train loss 1.315107e-01|LR 0.00100|\n",
       "</pre>\n"
      ],
      "text/plain": [
       "Epoch 0040|Val loss 1.494724e-01|Train loss 1.315107e-01|LR 0.00100|\n"
      ]
     },
     "metadata": {},
     "output_type": "display_data"
    },
    {
     "data": {
      "text/html": [
       "<pre style=\"white-space:pre;overflow-x:auto;line-height:normal;font-family:Menlo,'DejaVu Sans Mono',consolas,'Courier New',monospace\">EarlyStopping counter: 1 out of 20\n",
       "</pre>\n"
      ],
      "text/plain": [
       "EarlyStopping counter: 1 out of 20\n"
      ]
     },
     "metadata": {},
     "output_type": "display_data"
    },
    {
     "data": {
      "text/html": [
       "<pre style=\"white-space:pre;overflow-x:auto;line-height:normal;font-family:Menlo,'DejaVu Sans Mono',consolas,'Courier New',monospace\">Epoch 0041|Val loss 1.255306e-01|Train loss 1.343158e-01|LR 0.00100|\n",
       "</pre>\n"
      ],
      "text/plain": [
       "Epoch 0041|Val loss 1.255306e-01|Train loss 1.343158e-01|LR 0.00100|\n"
      ]
     },
     "metadata": {},
     "output_type": "display_data"
    },
    {
     "data": {
      "text/html": [
       "<pre style=\"white-space:pre;overflow-x:auto;line-height:normal;font-family:Menlo,'DejaVu Sans Mono',consolas,'Courier New',monospace\">Epoch 0042|Val loss 1.224643e-01|Train loss 1.344274e-01|LR 0.00100|\n",
       "</pre>\n"
      ],
      "text/plain": [
       "Epoch 0042|Val loss 1.224643e-01|Train loss 1.344274e-01|LR 0.00100|\n"
      ]
     },
     "metadata": {},
     "output_type": "display_data"
    },
    {
     "data": {
      "text/html": [
       "<pre style=\"white-space:pre;overflow-x:auto;line-height:normal;font-family:Menlo,'DejaVu Sans Mono',consolas,'Courier New',monospace\">Epoch 0043|Val loss 1.136175e-01|Train loss 1.352719e-01|LR 0.00100|\n",
       "</pre>\n"
      ],
      "text/plain": [
       "Epoch 0043|Val loss 1.136175e-01|Train loss 1.352719e-01|LR 0.00100|\n"
      ]
     },
     "metadata": {},
     "output_type": "display_data"
    },
    {
     "data": {
      "text/html": [
       "<pre style=\"white-space:pre;overflow-x:auto;line-height:normal;font-family:Menlo,'DejaVu Sans Mono',consolas,'Courier New',monospace\">Epoch 0044|Val loss 1.247623e-01|Train loss 1.376472e-01|LR 0.00100|\n",
       "</pre>\n"
      ],
      "text/plain": [
       "Epoch 0044|Val loss 1.247623e-01|Train loss 1.376472e-01|LR 0.00100|\n"
      ]
     },
     "metadata": {},
     "output_type": "display_data"
    },
    {
     "data": {
      "text/html": [
       "<pre style=\"white-space:pre;overflow-x:auto;line-height:normal;font-family:Menlo,'DejaVu Sans Mono',consolas,'Courier New',monospace\">Epoch 0045|Val loss 1.220953e-01|Train loss 1.364910e-01|LR 0.00100|\n",
       "</pre>\n"
      ],
      "text/plain": [
       "Epoch 0045|Val loss 1.220953e-01|Train loss 1.364910e-01|LR 0.00100|\n"
      ]
     },
     "metadata": {},
     "output_type": "display_data"
    },
    {
     "data": {
      "text/html": [
       "<pre style=\"white-space:pre;overflow-x:auto;line-height:normal;font-family:Menlo,'DejaVu Sans Mono',consolas,'Courier New',monospace\">Epoch 0046|Val loss 1.249057e-01|Train loss 1.352246e-01|LR 0.00100|\n",
       "</pre>\n"
      ],
      "text/plain": [
       "Epoch 0046|Val loss 1.249057e-01|Train loss 1.352246e-01|LR 0.00100|\n"
      ]
     },
     "metadata": {},
     "output_type": "display_data"
    },
    {
     "data": {
      "text/html": [
       "<pre style=\"white-space:pre;overflow-x:auto;line-height:normal;font-family:Menlo,'DejaVu Sans Mono',consolas,'Courier New',monospace\">Epoch 0047|Val loss 1.583547e-01|Train loss 1.350405e-01|LR 0.00100|\n",
       "</pre>\n"
      ],
      "text/plain": [
       "Epoch 0047|Val loss 1.583547e-01|Train loss 1.350405e-01|LR 0.00100|\n"
      ]
     },
     "metadata": {},
     "output_type": "display_data"
    },
    {
     "data": {
      "text/html": [
       "<pre style=\"white-space:pre;overflow-x:auto;line-height:normal;font-family:Menlo,'DejaVu Sans Mono',consolas,'Courier New',monospace\">Epoch 0048|Val loss 1.547200e-01|Train loss 1.351012e-01|LR 0.00100|\n",
       "</pre>\n"
      ],
      "text/plain": [
       "Epoch 0048|Val loss 1.547200e-01|Train loss 1.351012e-01|LR 0.00100|\n"
      ]
     },
     "metadata": {},
     "output_type": "display_data"
    },
    {
     "data": {
      "text/html": [
       "<pre style=\"white-space:pre;overflow-x:auto;line-height:normal;font-family:Menlo,'DejaVu Sans Mono',consolas,'Courier New',monospace\">Epoch 0049|Val loss 1.088044e-01|Train loss 1.334910e-01|LR 0.00100|\n",
       "</pre>\n"
      ],
      "text/plain": [
       "Epoch 0049|Val loss 1.088044e-01|Train loss 1.334910e-01|LR 0.00100|\n"
      ]
     },
     "metadata": {},
     "output_type": "display_data"
    },
    {
     "data": {
      "text/html": [
       "<pre style=\"white-space:pre;overflow-x:auto;line-height:normal;font-family:Menlo,'DejaVu Sans Mono',consolas,'Courier New',monospace\">Epoch 0050|Val loss 1.181506e-01|Train loss 1.345499e-01|LR 0.00100|\n",
       "</pre>\n"
      ],
      "text/plain": [
       "Epoch 0050|Val loss 1.181506e-01|Train loss 1.345499e-01|LR 0.00100|\n"
      ]
     },
     "metadata": {},
     "output_type": "display_data"
    },
    {
     "data": {
      "text/html": [
       "<pre style=\"white-space:pre;overflow-x:auto;line-height:normal;font-family:Menlo,'DejaVu Sans Mono',consolas,'Courier New',monospace\">EarlyStopping counter: 2 out of 20\n",
       "</pre>\n"
      ],
      "text/plain": [
       "EarlyStopping counter: 2 out of 20\n"
      ]
     },
     "metadata": {},
     "output_type": "display_data"
    },
    {
     "data": {
      "text/html": [
       "<pre style=\"white-space:pre;overflow-x:auto;line-height:normal;font-family:Menlo,'DejaVu Sans Mono',consolas,'Courier New',monospace\">Epoch 0051|Val loss 1.091977e-01|Train loss 1.345643e-01|LR 0.00100|\n",
       "</pre>\n"
      ],
      "text/plain": [
       "Epoch 0051|Val loss 1.091977e-01|Train loss 1.345643e-01|LR 0.00100|\n"
      ]
     },
     "metadata": {},
     "output_type": "display_data"
    },
    {
     "data": {
      "text/html": [
       "<pre style=\"white-space:pre;overflow-x:auto;line-height:normal;font-family:Menlo,'DejaVu Sans Mono',consolas,'Courier New',monospace\">Epoch 0052|Val loss 1.149014e-01|Train loss 1.317227e-01|LR 0.00100|\n",
       "</pre>\n"
      ],
      "text/plain": [
       "Epoch 0052|Val loss 1.149014e-01|Train loss 1.317227e-01|LR 0.00100|\n"
      ]
     },
     "metadata": {},
     "output_type": "display_data"
    },
    {
     "data": {
      "text/html": [
       "<pre style=\"white-space:pre;overflow-x:auto;line-height:normal;font-family:Menlo,'DejaVu Sans Mono',consolas,'Courier New',monospace\">Epoch 0053|Val loss 1.037444e-01|Train loss 1.337556e-01|LR 0.00100|\n",
       "</pre>\n"
      ],
      "text/plain": [
       "Epoch 0053|Val loss 1.037444e-01|Train loss 1.337556e-01|LR 0.00100|\n"
      ]
     },
     "metadata": {},
     "output_type": "display_data"
    },
    {
     "data": {
      "text/html": [
       "<pre style=\"white-space:pre;overflow-x:auto;line-height:normal;font-family:Menlo,'DejaVu Sans Mono',consolas,'Courier New',monospace\">Epoch 0054|Val loss 1.137809e-01|Train loss 1.322226e-01|LR 0.00100|\n",
       "</pre>\n"
      ],
      "text/plain": [
       "Epoch 0054|Val loss 1.137809e-01|Train loss 1.322226e-01|LR 0.00100|\n"
      ]
     },
     "metadata": {},
     "output_type": "display_data"
    },
    {
     "data": {
      "text/html": [
       "<pre style=\"white-space:pre;overflow-x:auto;line-height:normal;font-family:Menlo,'DejaVu Sans Mono',consolas,'Courier New',monospace\">Epoch 0055|Val loss 1.083127e-01|Train loss 1.338205e-01|LR 0.00100|\n",
       "</pre>\n"
      ],
      "text/plain": [
       "Epoch 0055|Val loss 1.083127e-01|Train loss 1.338205e-01|LR 0.00100|\n"
      ]
     },
     "metadata": {},
     "output_type": "display_data"
    },
    {
     "data": {
      "text/html": [
       "<pre style=\"white-space:pre;overflow-x:auto;line-height:normal;font-family:Menlo,'DejaVu Sans Mono',consolas,'Courier New',monospace\">Epoch 0056|Val loss 1.172600e-01|Train loss 1.339606e-01|LR 0.00100|\n",
       "</pre>\n"
      ],
      "text/plain": [
       "Epoch 0056|Val loss 1.172600e-01|Train loss 1.339606e-01|LR 0.00100|\n"
      ]
     },
     "metadata": {},
     "output_type": "display_data"
    },
    {
     "data": {
      "text/html": [
       "<pre style=\"white-space:pre;overflow-x:auto;line-height:normal;font-family:Menlo,'DejaVu Sans Mono',consolas,'Courier New',monospace\">Epoch 0057|Val loss 1.471807e-01|Train loss 1.337791e-01|LR 0.00100|\n",
       "</pre>\n"
      ],
      "text/plain": [
       "Epoch 0057|Val loss 1.471807e-01|Train loss 1.337791e-01|LR 0.00100|\n"
      ]
     },
     "metadata": {},
     "output_type": "display_data"
    },
    {
     "data": {
      "text/html": [
       "<pre style=\"white-space:pre;overflow-x:auto;line-height:normal;font-family:Menlo,'DejaVu Sans Mono',consolas,'Courier New',monospace\">Epoch 0058|Val loss 1.276400e-01|Train loss 1.331338e-01|LR 0.00100|\n",
       "</pre>\n"
      ],
      "text/plain": [
       "Epoch 0058|Val loss 1.276400e-01|Train loss 1.331338e-01|LR 0.00100|\n"
      ]
     },
     "metadata": {},
     "output_type": "display_data"
    },
    {
     "data": {
      "text/html": [
       "<pre style=\"white-space:pre;overflow-x:auto;line-height:normal;font-family:Menlo,'DejaVu Sans Mono',consolas,'Courier New',monospace\">Epoch 0059|Val loss 1.044794e-01|Train loss 1.305757e-01|LR 0.00100|\n",
       "</pre>\n"
      ],
      "text/plain": [
       "Epoch 0059|Val loss 1.044794e-01|Train loss 1.305757e-01|LR 0.00100|\n"
      ]
     },
     "metadata": {},
     "output_type": "display_data"
    },
    {
     "data": {
      "text/html": [
       "<pre style=\"white-space:pre;overflow-x:auto;line-height:normal;font-family:Menlo,'DejaVu Sans Mono',consolas,'Courier New',monospace\">Epoch 0060|Val loss 1.185832e-01|Train loss 1.310758e-01|LR 0.00100|\n",
       "</pre>\n"
      ],
      "text/plain": [
       "Epoch 0060|Val loss 1.185832e-01|Train loss 1.310758e-01|LR 0.00100|\n"
      ]
     },
     "metadata": {},
     "output_type": "display_data"
    },
    {
     "data": {
      "text/html": [
       "<pre style=\"white-space:pre;overflow-x:auto;line-height:normal;font-family:Menlo,'DejaVu Sans Mono',consolas,'Courier New',monospace\">EarlyStopping counter: 3 out of 20\n",
       "</pre>\n"
      ],
      "text/plain": [
       "EarlyStopping counter: 3 out of 20\n"
      ]
     },
     "metadata": {},
     "output_type": "display_data"
    },
    {
     "data": {
      "text/html": [
       "<pre style=\"white-space:pre;overflow-x:auto;line-height:normal;font-family:Menlo,'DejaVu Sans Mono',consolas,'Courier New',monospace\">Epoch 0061|Val loss 1.019201e-01|Train loss 1.342775e-01|LR 0.00100|\n",
       "</pre>\n"
      ],
      "text/plain": [
       "Epoch 0061|Val loss 1.019201e-01|Train loss 1.342775e-01|LR 0.00100|\n"
      ]
     },
     "metadata": {},
     "output_type": "display_data"
    },
    {
     "data": {
      "text/html": [
       "<pre style=\"white-space:pre;overflow-x:auto;line-height:normal;font-family:Menlo,'DejaVu Sans Mono',consolas,'Courier New',monospace\">Epoch 0062|Val loss 1.236051e-01|Train loss 1.306923e-01|LR 0.00100|\n",
       "</pre>\n"
      ],
      "text/plain": [
       "Epoch 0062|Val loss 1.236051e-01|Train loss 1.306923e-01|LR 0.00100|\n"
      ]
     },
     "metadata": {},
     "output_type": "display_data"
    },
    {
     "data": {
      "text/html": [
       "<pre style=\"white-space:pre;overflow-x:auto;line-height:normal;font-family:Menlo,'DejaVu Sans Mono',consolas,'Courier New',monospace\">Epoch 0063|Val loss 1.055681e-01|Train loss 1.308319e-01|LR 0.00100|\n",
       "</pre>\n"
      ],
      "text/plain": [
       "Epoch 0063|Val loss 1.055681e-01|Train loss 1.308319e-01|LR 0.00100|\n"
      ]
     },
     "metadata": {},
     "output_type": "display_data"
    },
    {
     "data": {
      "text/html": [
       "<pre style=\"white-space:pre;overflow-x:auto;line-height:normal;font-family:Menlo,'DejaVu Sans Mono',consolas,'Courier New',monospace\">Epoch 0064|Val loss 1.177302e-01|Train loss 1.330942e-01|LR 0.00100|\n",
       "</pre>\n"
      ],
      "text/plain": [
       "Epoch 0064|Val loss 1.177302e-01|Train loss 1.330942e-01|LR 0.00100|\n"
      ]
     },
     "metadata": {},
     "output_type": "display_data"
    },
    {
     "data": {
      "text/html": [
       "<pre style=\"white-space:pre;overflow-x:auto;line-height:normal;font-family:Menlo,'DejaVu Sans Mono',consolas,'Courier New',monospace\">Epoch 0065|Val loss 1.117677e-01|Train loss 1.327922e-01|LR 0.00100|\n",
       "</pre>\n"
      ],
      "text/plain": [
       "Epoch 0065|Val loss 1.117677e-01|Train loss 1.327922e-01|LR 0.00100|\n"
      ]
     },
     "metadata": {},
     "output_type": "display_data"
    },
    {
     "data": {
      "text/html": [
       "<pre style=\"white-space:pre;overflow-x:auto;line-height:normal;font-family:Menlo,'DejaVu Sans Mono',consolas,'Courier New',monospace\">Epoch 0066|Val loss 1.056705e-01|Train loss 1.292872e-01|LR 0.00100|\n",
       "</pre>\n"
      ],
      "text/plain": [
       "Epoch 0066|Val loss 1.056705e-01|Train loss 1.292872e-01|LR 0.00100|\n"
      ]
     },
     "metadata": {},
     "output_type": "display_data"
    },
    {
     "data": {
      "text/html": [
       "<pre style=\"white-space:pre;overflow-x:auto;line-height:normal;font-family:Menlo,'DejaVu Sans Mono',consolas,'Courier New',monospace\">Epoch 0067|Val loss 1.264757e-01|Train loss 1.312429e-01|LR 0.00100|\n",
       "</pre>\n"
      ],
      "text/plain": [
       "Epoch 0067|Val loss 1.264757e-01|Train loss 1.312429e-01|LR 0.00100|\n"
      ]
     },
     "metadata": {},
     "output_type": "display_data"
    },
    {
     "data": {
      "text/html": [
       "<pre style=\"white-space:pre;overflow-x:auto;line-height:normal;font-family:Menlo,'DejaVu Sans Mono',consolas,'Courier New',monospace\">Epoch 0068|Val loss 1.409848e-01|Train loss 1.323837e-01|LR 0.00100|\n",
       "</pre>\n"
      ],
      "text/plain": [
       "Epoch 0068|Val loss 1.409848e-01|Train loss 1.323837e-01|LR 0.00100|\n"
      ]
     },
     "metadata": {},
     "output_type": "display_data"
    },
    {
     "data": {
      "text/html": [
       "<pre style=\"white-space:pre;overflow-x:auto;line-height:normal;font-family:Menlo,'DejaVu Sans Mono',consolas,'Courier New',monospace\">Epoch 0069|Val loss 1.314387e-01|Train loss 1.328569e-01|LR 0.00100|\n",
       "</pre>\n"
      ],
      "text/plain": [
       "Epoch 0069|Val loss 1.314387e-01|Train loss 1.328569e-01|LR 0.00100|\n"
      ]
     },
     "metadata": {},
     "output_type": "display_data"
    },
    {
     "data": {
      "text/html": [
       "<pre style=\"white-space:pre;overflow-x:auto;line-height:normal;font-family:Menlo,'DejaVu Sans Mono',consolas,'Courier New',monospace\">Epoch 0070|Val loss 1.213247e-01|Train loss 1.319714e-01|LR 0.00100|\n",
       "</pre>\n"
      ],
      "text/plain": [
       "Epoch 0070|Val loss 1.213247e-01|Train loss 1.319714e-01|LR 0.00100|\n"
      ]
     },
     "metadata": {},
     "output_type": "display_data"
    },
    {
     "data": {
      "text/html": [
       "<pre style=\"white-space:pre;overflow-x:auto;line-height:normal;font-family:Menlo,'DejaVu Sans Mono',consolas,'Courier New',monospace\">EarlyStopping counter: 4 out of 20\n",
       "</pre>\n"
      ],
      "text/plain": [
       "EarlyStopping counter: 4 out of 20\n"
      ]
     },
     "metadata": {},
     "output_type": "display_data"
    },
    {
     "data": {
      "text/html": [
       "<pre style=\"white-space:pre;overflow-x:auto;line-height:normal;font-family:Menlo,'DejaVu Sans Mono',consolas,'Courier New',monospace\">Epoch 0071|Val loss 1.030642e-01|Train loss 1.321230e-01|LR 0.00100|\n",
       "</pre>\n"
      ],
      "text/plain": [
       "Epoch 0071|Val loss 1.030642e-01|Train loss 1.321230e-01|LR 0.00100|\n"
      ]
     },
     "metadata": {},
     "output_type": "display_data"
    },
    {
     "data": {
      "text/html": [
       "<pre style=\"white-space:pre;overflow-x:auto;line-height:normal;font-family:Menlo,'DejaVu Sans Mono',consolas,'Courier New',monospace\">Epoch 0072|Val loss 1.253824e-01|Train loss 1.308604e-01|LR 0.00060|\n",
       "</pre>\n"
      ],
      "text/plain": [
       "Epoch 0072|Val loss 1.253824e-01|Train loss 1.308604e-01|LR 0.00060|\n"
      ]
     },
     "metadata": {},
     "output_type": "display_data"
    },
    {
     "data": {
      "text/html": [
       "<pre style=\"white-space:pre;overflow-x:auto;line-height:normal;font-family:Menlo,'DejaVu Sans Mono',consolas,'Courier New',monospace\">Epoch 0073|Val loss 8.969984e-02|Train loss 1.284217e-01|LR 0.00060|\n",
       "</pre>\n"
      ],
      "text/plain": [
       "Epoch 0073|Val loss 8.969984e-02|Train loss 1.284217e-01|LR 0.00060|\n"
      ]
     },
     "metadata": {},
     "output_type": "display_data"
    },
    {
     "data": {
      "text/html": [
       "<pre style=\"white-space:pre;overflow-x:auto;line-height:normal;font-family:Menlo,'DejaVu Sans Mono',consolas,'Courier New',monospace\">Epoch 0074|Val loss 1.198497e-01|Train loss 1.252210e-01|LR 0.00060|\n",
       "</pre>\n"
      ],
      "text/plain": [
       "Epoch 0074|Val loss 1.198497e-01|Train loss 1.252210e-01|LR 0.00060|\n"
      ]
     },
     "metadata": {},
     "output_type": "display_data"
    },
    {
     "data": {
      "text/html": [
       "<pre style=\"white-space:pre;overflow-x:auto;line-height:normal;font-family:Menlo,'DejaVu Sans Mono',consolas,'Courier New',monospace\">Epoch 0075|Val loss 9.510390e-02|Train loss 1.242380e-01|LR 0.00060|\n",
       "</pre>\n"
      ],
      "text/plain": [
       "Epoch 0075|Val loss 9.510390e-02|Train loss 1.242380e-01|LR 0.00060|\n"
      ]
     },
     "metadata": {},
     "output_type": "display_data"
    },
    {
     "data": {
      "text/html": [
       "<pre style=\"white-space:pre;overflow-x:auto;line-height:normal;font-family:Menlo,'DejaVu Sans Mono',consolas,'Courier New',monospace\">Epoch 0076|Val loss 1.143648e-01|Train loss 1.241650e-01|LR 0.00060|\n",
       "</pre>\n"
      ],
      "text/plain": [
       "Epoch 0076|Val loss 1.143648e-01|Train loss 1.241650e-01|LR 0.00060|\n"
      ]
     },
     "metadata": {},
     "output_type": "display_data"
    },
    {
     "data": {
      "text/html": [
       "<pre style=\"white-space:pre;overflow-x:auto;line-height:normal;font-family:Menlo,'DejaVu Sans Mono',consolas,'Courier New',monospace\">Epoch 0077|Val loss 1.181224e-01|Train loss 1.236481e-01|LR 0.00060|\n",
       "</pre>\n"
      ],
      "text/plain": [
       "Epoch 0077|Val loss 1.181224e-01|Train loss 1.236481e-01|LR 0.00060|\n"
      ]
     },
     "metadata": {},
     "output_type": "display_data"
    },
    {
     "data": {
      "text/html": [
       "<pre style=\"white-space:pre;overflow-x:auto;line-height:normal;font-family:Menlo,'DejaVu Sans Mono',consolas,'Courier New',monospace\">Epoch 0078|Val loss 1.140873e-01|Train loss 1.245026e-01|LR 0.00060|\n",
       "</pre>\n"
      ],
      "text/plain": [
       "Epoch 0078|Val loss 1.140873e-01|Train loss 1.245026e-01|LR 0.00060|\n"
      ]
     },
     "metadata": {},
     "output_type": "display_data"
    },
    {
     "data": {
      "text/html": [
       "<pre style=\"white-space:pre;overflow-x:auto;line-height:normal;font-family:Menlo,'DejaVu Sans Mono',consolas,'Courier New',monospace\">Epoch 0079|Val loss 1.056282e-01|Train loss 1.247023e-01|LR 0.00060|\n",
       "</pre>\n"
      ],
      "text/plain": [
       "Epoch 0079|Val loss 1.056282e-01|Train loss 1.247023e-01|LR 0.00060|\n"
      ]
     },
     "metadata": {},
     "output_type": "display_data"
    },
    {
     "data": {
      "text/html": [
       "<pre style=\"white-space:pre;overflow-x:auto;line-height:normal;font-family:Menlo,'DejaVu Sans Mono',consolas,'Courier New',monospace\">Epoch 0080|Val loss 1.116199e-01|Train loss 1.266828e-01|LR 0.00060|\n",
       "</pre>\n"
      ],
      "text/plain": [
       "Epoch 0080|Val loss 1.116199e-01|Train loss 1.266828e-01|LR 0.00060|\n"
      ]
     },
     "metadata": {},
     "output_type": "display_data"
    },
    {
     "data": {
      "text/html": [
       "<pre style=\"white-space:pre;overflow-x:auto;line-height:normal;font-family:Menlo,'DejaVu Sans Mono',consolas,'Courier New',monospace\">EarlyStopping counter: 5 out of 20\n",
       "</pre>\n"
      ],
      "text/plain": [
       "EarlyStopping counter: 5 out of 20\n"
      ]
     },
     "metadata": {},
     "output_type": "display_data"
    },
    {
     "data": {
      "text/html": [
       "<pre style=\"white-space:pre;overflow-x:auto;line-height:normal;font-family:Menlo,'DejaVu Sans Mono',consolas,'Courier New',monospace\">Epoch 0081|Val loss 9.609997e-02|Train loss 1.258927e-01|LR 0.00060|\n",
       "</pre>\n"
      ],
      "text/plain": [
       "Epoch 0081|Val loss 9.609997e-02|Train loss 1.258927e-01|LR 0.00060|\n"
      ]
     },
     "metadata": {},
     "output_type": "display_data"
    },
    {
     "data": {
      "text/html": [
       "<pre style=\"white-space:pre;overflow-x:auto;line-height:normal;font-family:Menlo,'DejaVu Sans Mono',consolas,'Courier New',monospace\">Epoch 0082|Val loss 1.040134e-01|Train loss 1.250876e-01|LR 0.00060|\n",
       "</pre>\n"
      ],
      "text/plain": [
       "Epoch 0082|Val loss 1.040134e-01|Train loss 1.250876e-01|LR 0.00060|\n"
      ]
     },
     "metadata": {},
     "output_type": "display_data"
    },
    {
     "data": {
      "text/html": [
       "<pre style=\"white-space:pre;overflow-x:auto;line-height:normal;font-family:Menlo,'DejaVu Sans Mono',consolas,'Courier New',monospace\">Epoch 0083|Val loss 9.155792e-02|Train loss 1.229454e-01|LR 0.00060|\n",
       "</pre>\n"
      ],
      "text/plain": [
       "Epoch 0083|Val loss 9.155792e-02|Train loss 1.229454e-01|LR 0.00060|\n"
      ]
     },
     "metadata": {},
     "output_type": "display_data"
    },
    {
     "data": {
      "text/html": [
       "<pre style=\"white-space:pre;overflow-x:auto;line-height:normal;font-family:Menlo,'DejaVu Sans Mono',consolas,'Courier New',monospace\">Epoch 0084|Val loss 1.117261e-01|Train loss 1.255394e-01|LR 0.00060|\n",
       "</pre>\n"
      ],
      "text/plain": [
       "Epoch 0084|Val loss 1.117261e-01|Train loss 1.255394e-01|LR 0.00060|\n"
      ]
     },
     "metadata": {},
     "output_type": "display_data"
    },
    {
     "data": {
      "text/html": [
       "<pre style=\"white-space:pre;overflow-x:auto;line-height:normal;font-family:Menlo,'DejaVu Sans Mono',consolas,'Courier New',monospace\">Epoch 0085|Val loss 9.124662e-02|Train loss 1.248009e-01|LR 0.00060|\n",
       "</pre>\n"
      ],
      "text/plain": [
       "Epoch 0085|Val loss 9.124662e-02|Train loss 1.248009e-01|LR 0.00060|\n"
      ]
     },
     "metadata": {},
     "output_type": "display_data"
    },
    {
     "data": {
      "text/html": [
       "<pre style=\"white-space:pre;overflow-x:auto;line-height:normal;font-family:Menlo,'DejaVu Sans Mono',consolas,'Courier New',monospace\">Epoch 0086|Val loss 1.066206e-01|Train loss 1.245295e-01|LR 0.00060|\n",
       "</pre>\n"
      ],
      "text/plain": [
       "Epoch 0086|Val loss 1.066206e-01|Train loss 1.245295e-01|LR 0.00060|\n"
      ]
     },
     "metadata": {},
     "output_type": "display_data"
    },
    {
     "data": {
      "text/html": [
       "<pre style=\"white-space:pre;overflow-x:auto;line-height:normal;font-family:Menlo,'DejaVu Sans Mono',consolas,'Courier New',monospace\">Epoch 0087|Val loss 1.008508e-01|Train loss 1.259529e-01|LR 0.00060|\n",
       "</pre>\n"
      ],
      "text/plain": [
       "Epoch 0087|Val loss 1.008508e-01|Train loss 1.259529e-01|LR 0.00060|\n"
      ]
     },
     "metadata": {},
     "output_type": "display_data"
    },
    {
     "data": {
      "text/html": [
       "<pre style=\"white-space:pre;overflow-x:auto;line-height:normal;font-family:Menlo,'DejaVu Sans Mono',consolas,'Courier New',monospace\">Epoch 0088|Val loss 1.237858e-01|Train loss 1.255798e-01|LR 0.00060|\n",
       "</pre>\n"
      ],
      "text/plain": [
       "Epoch 0088|Val loss 1.237858e-01|Train loss 1.255798e-01|LR 0.00060|\n"
      ]
     },
     "metadata": {},
     "output_type": "display_data"
    },
    {
     "data": {
      "text/html": [
       "<pre style=\"white-space:pre;overflow-x:auto;line-height:normal;font-family:Menlo,'DejaVu Sans Mono',consolas,'Courier New',monospace\">Epoch 0089|Val loss 1.015183e-01|Train loss 1.276344e-01|LR 0.00060|\n",
       "</pre>\n"
      ],
      "text/plain": [
       "Epoch 0089|Val loss 1.015183e-01|Train loss 1.276344e-01|LR 0.00060|\n"
      ]
     },
     "metadata": {},
     "output_type": "display_data"
    },
    {
     "data": {
      "text/html": [
       "<pre style=\"white-space:pre;overflow-x:auto;line-height:normal;font-family:Menlo,'DejaVu Sans Mono',consolas,'Courier New',monospace\">Epoch 0090|Val loss 1.205925e-01|Train loss 1.267484e-01|LR 0.00060|\n",
       "</pre>\n"
      ],
      "text/plain": [
       "Epoch 0090|Val loss 1.205925e-01|Train loss 1.267484e-01|LR 0.00060|\n"
      ]
     },
     "metadata": {},
     "output_type": "display_data"
    },
    {
     "data": {
      "text/html": [
       "<pre style=\"white-space:pre;overflow-x:auto;line-height:normal;font-family:Menlo,'DejaVu Sans Mono',consolas,'Courier New',monospace\">EarlyStopping counter: 6 out of 20\n",
       "</pre>\n"
      ],
      "text/plain": [
       "EarlyStopping counter: 6 out of 20\n"
      ]
     },
     "metadata": {},
     "output_type": "display_data"
    },
    {
     "data": {
      "text/html": [
       "<pre style=\"white-space:pre;overflow-x:auto;line-height:normal;font-family:Menlo,'DejaVu Sans Mono',consolas,'Courier New',monospace\">Epoch 0091|Val loss 1.044626e-01|Train loss 1.240116e-01|LR 0.00060|\n",
       "</pre>\n"
      ],
      "text/plain": [
       "Epoch 0091|Val loss 1.044626e-01|Train loss 1.240116e-01|LR 0.00060|\n"
      ]
     },
     "metadata": {},
     "output_type": "display_data"
    },
    {
     "data": {
      "text/html": [
       "<pre style=\"white-space:pre;overflow-x:auto;line-height:normal;font-family:Menlo,'DejaVu Sans Mono',consolas,'Courier New',monospace\">Epoch 0092|Val loss 1.171296e-01|Train loss 1.232199e-01|LR 0.00060|\n",
       "</pre>\n"
      ],
      "text/plain": [
       "Epoch 0092|Val loss 1.171296e-01|Train loss 1.232199e-01|LR 0.00060|\n"
      ]
     },
     "metadata": {},
     "output_type": "display_data"
    },
    {
     "data": {
      "text/html": [
       "<pre style=\"white-space:pre;overflow-x:auto;line-height:normal;font-family:Menlo,'DejaVu Sans Mono',consolas,'Courier New',monospace\">Epoch 0093|Val loss 9.415566e-02|Train loss 1.248309e-01|LR 0.00060|\n",
       "</pre>\n"
      ],
      "text/plain": [
       "Epoch 0093|Val loss 9.415566e-02|Train loss 1.248309e-01|LR 0.00060|\n"
      ]
     },
     "metadata": {},
     "output_type": "display_data"
    },
    {
     "data": {
      "text/html": [
       "<pre style=\"white-space:pre;overflow-x:auto;line-height:normal;font-family:Menlo,'DejaVu Sans Mono',consolas,'Courier New',monospace\">Epoch 0094|Val loss 1.140170e-01|Train loss 1.245834e-01|LR 0.00060|\n",
       "</pre>\n"
      ],
      "text/plain": [
       "Epoch 0094|Val loss 1.140170e-01|Train loss 1.245834e-01|LR 0.00060|\n"
      ]
     },
     "metadata": {},
     "output_type": "display_data"
    },
    {
     "data": {
      "text/html": [
       "<pre style=\"white-space:pre;overflow-x:auto;line-height:normal;font-family:Menlo,'DejaVu Sans Mono',consolas,'Courier New',monospace\">Epoch 0095|Val loss 9.360516e-02|Train loss 1.232661e-01|LR 0.00060|\n",
       "</pre>\n"
      ],
      "text/plain": [
       "Epoch 0095|Val loss 9.360516e-02|Train loss 1.232661e-01|LR 0.00060|\n"
      ]
     },
     "metadata": {},
     "output_type": "display_data"
    },
    {
     "data": {
      "text/html": [
       "<pre style=\"white-space:pre;overflow-x:auto;line-height:normal;font-family:Menlo,'DejaVu Sans Mono',consolas,'Courier New',monospace\">Epoch 0096|Val loss 1.086641e-01|Train loss 1.246598e-01|LR 0.00060|\n",
       "</pre>\n"
      ],
      "text/plain": [
       "Epoch 0096|Val loss 1.086641e-01|Train loss 1.246598e-01|LR 0.00060|\n"
      ]
     },
     "metadata": {},
     "output_type": "display_data"
    },
    {
     "data": {
      "text/html": [
       "<pre style=\"white-space:pre;overflow-x:auto;line-height:normal;font-family:Menlo,'DejaVu Sans Mono',consolas,'Courier New',monospace\">Epoch 0097|Val loss 1.003647e-01|Train loss 1.237750e-01|LR 0.00060|\n",
       "</pre>\n"
      ],
      "text/plain": [
       "Epoch 0097|Val loss 1.003647e-01|Train loss 1.237750e-01|LR 0.00060|\n"
      ]
     },
     "metadata": {},
     "output_type": "display_data"
    },
    {
     "data": {
      "text/html": [
       "<pre style=\"white-space:pre;overflow-x:auto;line-height:normal;font-family:Menlo,'DejaVu Sans Mono',consolas,'Courier New',monospace\">Epoch 0098|Val loss 1.201321e-01|Train loss 1.229893e-01|LR 0.00060|\n",
       "</pre>\n"
      ],
      "text/plain": [
       "Epoch 0098|Val loss 1.201321e-01|Train loss 1.229893e-01|LR 0.00060|\n"
      ]
     },
     "metadata": {},
     "output_type": "display_data"
    },
    {
     "data": {
      "text/html": [
       "<pre style=\"white-space:pre;overflow-x:auto;line-height:normal;font-family:Menlo,'DejaVu Sans Mono',consolas,'Courier New',monospace\">Epoch 0099|Val loss 1.032428e-01|Train loss 1.230377e-01|LR 0.00060|\n",
       "</pre>\n"
      ],
      "text/plain": [
       "Epoch 0099|Val loss 1.032428e-01|Train loss 1.230377e-01|LR 0.00060|\n"
      ]
     },
     "metadata": {},
     "output_type": "display_data"
    },
    {
     "data": {
      "text/html": [
       "<pre style=\"white-space:pre;overflow-x:auto;line-height:normal;font-family:Menlo,'DejaVu Sans Mono',consolas,'Courier New',monospace\">Epoch 0100|Val loss 1.025926e-01|Train loss 1.246452e-01|LR 0.00060|\n",
       "</pre>\n"
      ],
      "text/plain": [
       "Epoch 0100|Val loss 1.025926e-01|Train loss 1.246452e-01|LR 0.00060|\n"
      ]
     },
     "metadata": {},
     "output_type": "display_data"
    },
    {
     "data": {
      "text/html": [
       "<pre style=\"white-space:pre;overflow-x:auto;line-height:normal;font-family:Menlo,'DejaVu Sans Mono',consolas,'Courier New',monospace\">EarlyStopping counter: 7 out of 20\n",
       "</pre>\n"
      ],
      "text/plain": [
       "EarlyStopping counter: 7 out of 20\n"
      ]
     },
     "metadata": {},
     "output_type": "display_data"
    },
    {
     "data": {
      "text/html": [
       "<pre style=\"white-space:pre;overflow-x:auto;line-height:normal;font-family:Menlo,'DejaVu Sans Mono',consolas,'Courier New',monospace\">Epoch 0101|Val loss 1.037489e-01|Train loss 1.226309e-01|LR 0.00060|\n",
       "</pre>\n"
      ],
      "text/plain": [
       "Epoch 0101|Val loss 1.037489e-01|Train loss 1.226309e-01|LR 0.00060|\n"
      ]
     },
     "metadata": {},
     "output_type": "display_data"
    },
    {
     "data": {
      "text/html": [
       "<pre style=\"white-space:pre;overflow-x:auto;line-height:normal;font-family:Menlo,'DejaVu Sans Mono',consolas,'Courier New',monospace\">Epoch 0102|Val loss 1.008748e-01|Train loss 1.236746e-01|LR 0.00060|\n",
       "</pre>\n"
      ],
      "text/plain": [
       "Epoch 0102|Val loss 1.008748e-01|Train loss 1.236746e-01|LR 0.00060|\n"
      ]
     },
     "metadata": {},
     "output_type": "display_data"
    },
    {
     "data": {
      "text/html": [
       "<pre style=\"white-space:pre;overflow-x:auto;line-height:normal;font-family:Menlo,'DejaVu Sans Mono',consolas,'Courier New',monospace\">Epoch 0103|Val loss 1.092712e-01|Train loss 1.224770e-01|LR 0.00060|\n",
       "</pre>\n"
      ],
      "text/plain": [
       "Epoch 0103|Val loss 1.092712e-01|Train loss 1.224770e-01|LR 0.00060|\n"
      ]
     },
     "metadata": {},
     "output_type": "display_data"
    },
    {
     "data": {
      "text/html": [
       "<pre style=\"white-space:pre;overflow-x:auto;line-height:normal;font-family:Menlo,'DejaVu Sans Mono',consolas,'Courier New',monospace\">Epoch 0104|Val loss 9.836921e-02|Train loss 1.237373e-01|LR 0.00060|\n",
       "</pre>\n"
      ],
      "text/plain": [
       "Epoch 0104|Val loss 9.836921e-02|Train loss 1.237373e-01|LR 0.00060|\n"
      ]
     },
     "metadata": {},
     "output_type": "display_data"
    },
    {
     "data": {
      "text/html": [
       "<pre style=\"white-space:pre;overflow-x:auto;line-height:normal;font-family:Menlo,'DejaVu Sans Mono',consolas,'Courier New',monospace\">Epoch 0105|Val loss 1.008853e-01|Train loss 1.219406e-01|LR 0.00060|\n",
       "</pre>\n"
      ],
      "text/plain": [
       "Epoch 0105|Val loss 1.008853e-01|Train loss 1.219406e-01|LR 0.00060|\n"
      ]
     },
     "metadata": {},
     "output_type": "display_data"
    },
    {
     "data": {
      "text/html": [
       "<pre style=\"white-space:pre;overflow-x:auto;line-height:normal;font-family:Menlo,'DejaVu Sans Mono',consolas,'Courier New',monospace\">Epoch 0106|Val loss 9.564020e-02|Train loss 1.224116e-01|LR 0.00060|\n",
       "</pre>\n"
      ],
      "text/plain": [
       "Epoch 0106|Val loss 9.564020e-02|Train loss 1.224116e-01|LR 0.00060|\n"
      ]
     },
     "metadata": {},
     "output_type": "display_data"
    },
    {
     "data": {
      "text/html": [
       "<pre style=\"white-space:pre;overflow-x:auto;line-height:normal;font-family:Menlo,'DejaVu Sans Mono',consolas,'Courier New',monospace\">Epoch 0107|Val loss 9.258859e-02|Train loss 1.196628e-01|LR 0.00060|\n",
       "</pre>\n"
      ],
      "text/plain": [
       "Epoch 0107|Val loss 9.258859e-02|Train loss 1.196628e-01|LR 0.00060|\n"
      ]
     },
     "metadata": {},
     "output_type": "display_data"
    },
    {
     "data": {
      "text/html": [
       "<pre style=\"white-space:pre;overflow-x:auto;line-height:normal;font-family:Menlo,'DejaVu Sans Mono',consolas,'Courier New',monospace\">Epoch 0108|Val loss 1.107022e-01|Train loss 1.201959e-01|LR 0.00060|\n",
       "</pre>\n"
      ],
      "text/plain": [
       "Epoch 0108|Val loss 1.107022e-01|Train loss 1.201959e-01|LR 0.00060|\n"
      ]
     },
     "metadata": {},
     "output_type": "display_data"
    },
    {
     "data": {
      "text/html": [
       "<pre style=\"white-space:pre;overflow-x:auto;line-height:normal;font-family:Menlo,'DejaVu Sans Mono',consolas,'Courier New',monospace\">Epoch 0109|Val loss 9.003237e-02|Train loss 1.219168e-01|LR 0.00060|\n",
       "</pre>\n"
      ],
      "text/plain": [
       "Epoch 0109|Val loss 9.003237e-02|Train loss 1.219168e-01|LR 0.00060|\n"
      ]
     },
     "metadata": {},
     "output_type": "display_data"
    },
    {
     "data": {
      "text/html": [
       "<pre style=\"white-space:pre;overflow-x:auto;line-height:normal;font-family:Menlo,'DejaVu Sans Mono',consolas,'Courier New',monospace\">Epoch 0110|Val loss 1.051229e-01|Train loss 1.223234e-01|LR 0.00060|\n",
       "</pre>\n"
      ],
      "text/plain": [
       "Epoch 0110|Val loss 1.051229e-01|Train loss 1.223234e-01|LR 0.00060|\n"
      ]
     },
     "metadata": {},
     "output_type": "display_data"
    },
    {
     "data": {
      "text/html": [
       "<pre style=\"white-space:pre;overflow-x:auto;line-height:normal;font-family:Menlo,'DejaVu Sans Mono',consolas,'Courier New',monospace\">EarlyStopping counter: 8 out of 20\n",
       "</pre>\n"
      ],
      "text/plain": [
       "EarlyStopping counter: 8 out of 20\n"
      ]
     },
     "metadata": {},
     "output_type": "display_data"
    },
    {
     "data": {
      "text/html": [
       "<pre style=\"white-space:pre;overflow-x:auto;line-height:normal;font-family:Menlo,'DejaVu Sans Mono',consolas,'Courier New',monospace\">Epoch 0111|Val loss 9.216157e-02|Train loss 1.221662e-01|LR 0.00060|\n",
       "</pre>\n"
      ],
      "text/plain": [
       "Epoch 0111|Val loss 9.216157e-02|Train loss 1.221662e-01|LR 0.00060|\n"
      ]
     },
     "metadata": {},
     "output_type": "display_data"
    },
    {
     "data": {
      "text/html": [
       "<pre style=\"white-space:pre;overflow-x:auto;line-height:normal;font-family:Menlo,'DejaVu Sans Mono',consolas,'Courier New',monospace\">Epoch 0112|Val loss 9.849019e-02|Train loss 1.192574e-01|LR 0.00060|\n",
       "</pre>\n"
      ],
      "text/plain": [
       "Epoch 0112|Val loss 9.849019e-02|Train loss 1.192574e-01|LR 0.00060|\n"
      ]
     },
     "metadata": {},
     "output_type": "display_data"
    },
    {
     "data": {
      "text/html": [
       "<pre style=\"white-space:pre;overflow-x:auto;line-height:normal;font-family:Menlo,'DejaVu Sans Mono',consolas,'Courier New',monospace\">Epoch 0113|Val loss 9.220486e-02|Train loss 1.200700e-01|LR 0.00060|\n",
       "</pre>\n"
      ],
      "text/plain": [
       "Epoch 0113|Val loss 9.220486e-02|Train loss 1.200700e-01|LR 0.00060|\n"
      ]
     },
     "metadata": {},
     "output_type": "display_data"
    },
    {
     "data": {
      "text/html": [
       "<pre style=\"white-space:pre;overflow-x:auto;line-height:normal;font-family:Menlo,'DejaVu Sans Mono',consolas,'Courier New',monospace\">Epoch 0114|Val loss 1.081696e-01|Train loss 1.203102e-01|LR 0.00060|\n",
       "</pre>\n"
      ],
      "text/plain": [
       "Epoch 0114|Val loss 1.081696e-01|Train loss 1.203102e-01|LR 0.00060|\n"
      ]
     },
     "metadata": {},
     "output_type": "display_data"
    },
    {
     "data": {
      "text/html": [
       "<pre style=\"white-space:pre;overflow-x:auto;line-height:normal;font-family:Menlo,'DejaVu Sans Mono',consolas,'Courier New',monospace\">Epoch 0115|Val loss 9.429473e-02|Train loss 1.217018e-01|LR 0.00036|\n",
       "</pre>\n"
      ],
      "text/plain": [
       "Epoch 0115|Val loss 9.429473e-02|Train loss 1.217018e-01|LR 0.00036|\n"
      ]
     },
     "metadata": {},
     "output_type": "display_data"
    },
    {
     "data": {
      "text/html": [
       "<pre style=\"white-space:pre;overflow-x:auto;line-height:normal;font-family:Menlo,'DejaVu Sans Mono',consolas,'Courier New',monospace\">Epoch 0116|Val loss 9.252348e-02|Train loss 1.164138e-01|LR 0.00036|\n",
       "</pre>\n"
      ],
      "text/plain": [
       "Epoch 0116|Val loss 9.252348e-02|Train loss 1.164138e-01|LR 0.00036|\n"
      ]
     },
     "metadata": {},
     "output_type": "display_data"
    },
    {
     "data": {
      "text/html": [
       "<pre style=\"white-space:pre;overflow-x:auto;line-height:normal;font-family:Menlo,'DejaVu Sans Mono',consolas,'Courier New',monospace\">Epoch 0117|Val loss 9.090094e-02|Train loss 1.156177e-01|LR 0.00036|\n",
       "</pre>\n"
      ],
      "text/plain": [
       "Epoch 0117|Val loss 9.090094e-02|Train loss 1.156177e-01|LR 0.00036|\n"
      ]
     },
     "metadata": {},
     "output_type": "display_data"
    },
    {
     "data": {
      "text/html": [
       "<pre style=\"white-space:pre;overflow-x:auto;line-height:normal;font-family:Menlo,'DejaVu Sans Mono',consolas,'Courier New',monospace\">Epoch 0118|Val loss 9.570127e-02|Train loss 1.175526e-01|LR 0.00036|\n",
       "</pre>\n"
      ],
      "text/plain": [
       "Epoch 0118|Val loss 9.570127e-02|Train loss 1.175526e-01|LR 0.00036|\n"
      ]
     },
     "metadata": {},
     "output_type": "display_data"
    },
    {
     "data": {
      "text/html": [
       "<pre style=\"white-space:pre;overflow-x:auto;line-height:normal;font-family:Menlo,'DejaVu Sans Mono',consolas,'Courier New',monospace\">Epoch 0119|Val loss 9.737735e-02|Train loss 1.159926e-01|LR 0.00036|\n",
       "</pre>\n"
      ],
      "text/plain": [
       "Epoch 0119|Val loss 9.737735e-02|Train loss 1.159926e-01|LR 0.00036|\n"
      ]
     },
     "metadata": {},
     "output_type": "display_data"
    },
    {
     "data": {
      "text/html": [
       "<pre style=\"white-space:pre;overflow-x:auto;line-height:normal;font-family:Menlo,'DejaVu Sans Mono',consolas,'Courier New',monospace\">Epoch 0120|Val loss 1.001620e-01|Train loss 1.161821e-01|LR 0.00036|\n",
       "</pre>\n"
      ],
      "text/plain": [
       "Epoch 0120|Val loss 1.001620e-01|Train loss 1.161821e-01|LR 0.00036|\n"
      ]
     },
     "metadata": {},
     "output_type": "display_data"
    },
    {
     "data": {
      "text/html": [
       "<pre style=\"white-space:pre;overflow-x:auto;line-height:normal;font-family:Menlo,'DejaVu Sans Mono',consolas,'Courier New',monospace\">Val loss decreased (0.10 to 0.13). Model saved\n",
       "</pre>\n"
      ],
      "text/plain": [
       "Val loss decreased (0.10 to 0.13). Model saved\n"
      ]
     },
     "metadata": {},
     "output_type": "display_data"
    },
    {
     "data": {
      "text/html": [
       "<pre style=\"white-space:pre;overflow-x:auto;line-height:normal;font-family:Menlo,'DejaVu Sans Mono',consolas,'Courier New',monospace\">Epoch 0121|Val loss 8.820773e-02|Train loss 1.164876e-01|LR 0.00036|\n",
       "</pre>\n"
      ],
      "text/plain": [
       "Epoch 0121|Val loss 8.820773e-02|Train loss 1.164876e-01|LR 0.00036|\n"
      ]
     },
     "metadata": {},
     "output_type": "display_data"
    },
    {
     "data": {
      "text/html": [
       "<pre style=\"white-space:pre;overflow-x:auto;line-height:normal;font-family:Menlo,'DejaVu Sans Mono',consolas,'Courier New',monospace\">Epoch 0122|Val loss 1.095774e-01|Train loss 1.171530e-01|LR 0.00036|\n",
       "</pre>\n"
      ],
      "text/plain": [
       "Epoch 0122|Val loss 1.095774e-01|Train loss 1.171530e-01|LR 0.00036|\n"
      ]
     },
     "metadata": {},
     "output_type": "display_data"
    },
    {
     "data": {
      "text/html": [
       "<pre style=\"white-space:pre;overflow-x:auto;line-height:normal;font-family:Menlo,'DejaVu Sans Mono',consolas,'Courier New',monospace\">Epoch 0123|Val loss 9.129402e-02|Train loss 1.181852e-01|LR 0.00036|\n",
       "</pre>\n"
      ],
      "text/plain": [
       "Epoch 0123|Val loss 9.129402e-02|Train loss 1.181852e-01|LR 0.00036|\n"
      ]
     },
     "metadata": {},
     "output_type": "display_data"
    },
    {
     "data": {
      "text/html": [
       "<pre style=\"white-space:pre;overflow-x:auto;line-height:normal;font-family:Menlo,'DejaVu Sans Mono',consolas,'Courier New',monospace\">Epoch 0124|Val loss 1.027263e-01|Train loss 1.190759e-01|LR 0.00036|\n",
       "</pre>\n"
      ],
      "text/plain": [
       "Epoch 0124|Val loss 1.027263e-01|Train loss 1.190759e-01|LR 0.00036|\n"
      ]
     },
     "metadata": {},
     "output_type": "display_data"
    },
    {
     "data": {
      "text/html": [
       "<pre style=\"white-space:pre;overflow-x:auto;line-height:normal;font-family:Menlo,'DejaVu Sans Mono',consolas,'Courier New',monospace\">Epoch 0125|Val loss 8.828680e-02|Train loss 1.161191e-01|LR 0.00036|\n",
       "</pre>\n"
      ],
      "text/plain": [
       "Epoch 0125|Val loss 8.828680e-02|Train loss 1.161191e-01|LR 0.00036|\n"
      ]
     },
     "metadata": {},
     "output_type": "display_data"
    },
    {
     "data": {
      "text/html": [
       "<pre style=\"white-space:pre;overflow-x:auto;line-height:normal;font-family:Menlo,'DejaVu Sans Mono',consolas,'Courier New',monospace\">Epoch 0126|Val loss 9.809297e-02|Train loss 1.156388e-01|LR 0.00036|\n",
       "</pre>\n"
      ],
      "text/plain": [
       "Epoch 0126|Val loss 9.809297e-02|Train loss 1.156388e-01|LR 0.00036|\n"
      ]
     },
     "metadata": {},
     "output_type": "display_data"
    },
    {
     "data": {
      "text/html": [
       "<pre style=\"white-space:pre;overflow-x:auto;line-height:normal;font-family:Menlo,'DejaVu Sans Mono',consolas,'Courier New',monospace\">Epoch 0127|Val loss 9.177502e-02|Train loss 1.157541e-01|LR 0.00036|\n",
       "</pre>\n"
      ],
      "text/plain": [
       "Epoch 0127|Val loss 9.177502e-02|Train loss 1.157541e-01|LR 0.00036|\n"
      ]
     },
     "metadata": {},
     "output_type": "display_data"
    },
    {
     "data": {
      "text/html": [
       "<pre style=\"white-space:pre;overflow-x:auto;line-height:normal;font-family:Menlo,'DejaVu Sans Mono',consolas,'Courier New',monospace\">Epoch 0128|Val loss 9.458456e-02|Train loss 1.153908e-01|LR 0.00036|\n",
       "</pre>\n"
      ],
      "text/plain": [
       "Epoch 0128|Val loss 9.458456e-02|Train loss 1.153908e-01|LR 0.00036|\n"
      ]
     },
     "metadata": {},
     "output_type": "display_data"
    },
    {
     "data": {
      "text/html": [
       "<pre style=\"white-space:pre;overflow-x:auto;line-height:normal;font-family:Menlo,'DejaVu Sans Mono',consolas,'Courier New',monospace\">Epoch 0129|Val loss 9.579853e-02|Train loss 1.166451e-01|LR 0.00036|\n",
       "</pre>\n"
      ],
      "text/plain": [
       "Epoch 0129|Val loss 9.579853e-02|Train loss 1.166451e-01|LR 0.00036|\n"
      ]
     },
     "metadata": {},
     "output_type": "display_data"
    },
    {
     "data": {
      "text/html": [
       "<pre style=\"white-space:pre;overflow-x:auto;line-height:normal;font-family:Menlo,'DejaVu Sans Mono',consolas,'Courier New',monospace\">Epoch 0130|Val loss 9.554810e-02|Train loss 1.154715e-01|LR 0.00036|\n",
       "</pre>\n"
      ],
      "text/plain": [
       "Epoch 0130|Val loss 9.554810e-02|Train loss 1.154715e-01|LR 0.00036|\n"
      ]
     },
     "metadata": {},
     "output_type": "display_data"
    },
    {
     "data": {
      "text/html": [
       "<pre style=\"white-space:pre;overflow-x:auto;line-height:normal;font-family:Menlo,'DejaVu Sans Mono',consolas,'Courier New',monospace\">Val loss decreased (0.10 to 0.13). Model saved\n",
       "</pre>\n"
      ],
      "text/plain": [
       "Val loss decreased (0.10 to 0.13). Model saved\n"
      ]
     },
     "metadata": {},
     "output_type": "display_data"
    },
    {
     "data": {
      "text/html": [
       "<pre style=\"white-space:pre;overflow-x:auto;line-height:normal;font-family:Menlo,'DejaVu Sans Mono',consolas,'Courier New',monospace\">Epoch 0131|Val loss 9.838258e-02|Train loss 1.159996e-01|LR 0.00036|\n",
       "</pre>\n"
      ],
      "text/plain": [
       "Epoch 0131|Val loss 9.838258e-02|Train loss 1.159996e-01|LR 0.00036|\n"
      ]
     },
     "metadata": {},
     "output_type": "display_data"
    },
    {
     "data": {
      "text/html": [
       "<pre style=\"white-space:pre;overflow-x:auto;line-height:normal;font-family:Menlo,'DejaVu Sans Mono',consolas,'Courier New',monospace\">Epoch 0132|Val loss 9.861887e-02|Train loss 1.158262e-01|LR 0.00036|\n",
       "</pre>\n"
      ],
      "text/plain": [
       "Epoch 0132|Val loss 9.861887e-02|Train loss 1.158262e-01|LR 0.00036|\n"
      ]
     },
     "metadata": {},
     "output_type": "display_data"
    },
    {
     "data": {
      "text/html": [
       "<pre style=\"white-space:pre;overflow-x:auto;line-height:normal;font-family:Menlo,'DejaVu Sans Mono',consolas,'Courier New',monospace\">Epoch 0133|Val loss 1.059970e-01|Train loss 1.161540e-01|LR 0.00036|\n",
       "</pre>\n"
      ],
      "text/plain": [
       "Epoch 0133|Val loss 1.059970e-01|Train loss 1.161540e-01|LR 0.00036|\n"
      ]
     },
     "metadata": {},
     "output_type": "display_data"
    },
    {
     "data": {
      "text/html": [
       "<pre style=\"white-space:pre;overflow-x:auto;line-height:normal;font-family:Menlo,'DejaVu Sans Mono',consolas,'Courier New',monospace\">Epoch 0134|Val loss 9.732145e-02|Train loss 1.163128e-01|LR 0.00036|\n",
       "</pre>\n"
      ],
      "text/plain": [
       "Epoch 0134|Val loss 9.732145e-02|Train loss 1.163128e-01|LR 0.00036|\n"
      ]
     },
     "metadata": {},
     "output_type": "display_data"
    },
    {
     "data": {
      "text/html": [
       "<pre style=\"white-space:pre;overflow-x:auto;line-height:normal;font-family:Menlo,'DejaVu Sans Mono',consolas,'Courier New',monospace\">Epoch 0135|Val loss 1.081370e-01|Train loss 1.154270e-01|LR 0.00036|\n",
       "</pre>\n"
      ],
      "text/plain": [
       "Epoch 0135|Val loss 1.081370e-01|Train loss 1.154270e-01|LR 0.00036|\n"
      ]
     },
     "metadata": {},
     "output_type": "display_data"
    },
    {
     "data": {
      "text/html": [
       "<pre style=\"white-space:pre;overflow-x:auto;line-height:normal;font-family:Menlo,'DejaVu Sans Mono',consolas,'Courier New',monospace\">Epoch 0136|Val loss 1.022382e-01|Train loss 1.154370e-01|LR 0.00036|\n",
       "</pre>\n"
      ],
      "text/plain": [
       "Epoch 0136|Val loss 1.022382e-01|Train loss 1.154370e-01|LR 0.00036|\n"
      ]
     },
     "metadata": {},
     "output_type": "display_data"
    },
    {
     "data": {
      "text/html": [
       "<pre style=\"white-space:pre;overflow-x:auto;line-height:normal;font-family:Menlo,'DejaVu Sans Mono',consolas,'Courier New',monospace\">Epoch 0137|Val loss 1.023380e-01|Train loss 1.145174e-01|LR 0.00036|\n",
       "</pre>\n"
      ],
      "text/plain": [
       "Epoch 0137|Val loss 1.023380e-01|Train loss 1.145174e-01|LR 0.00036|\n"
      ]
     },
     "metadata": {},
     "output_type": "display_data"
    },
    {
     "data": {
      "text/html": [
       "<pre style=\"white-space:pre;overflow-x:auto;line-height:normal;font-family:Menlo,'DejaVu Sans Mono',consolas,'Courier New',monospace\">Epoch 0138|Val loss 9.759700e-02|Train loss 1.137420e-01|LR 0.00036|\n",
       "</pre>\n"
      ],
      "text/plain": [
       "Epoch 0138|Val loss 9.759700e-02|Train loss 1.137420e-01|LR 0.00036|\n"
      ]
     },
     "metadata": {},
     "output_type": "display_data"
    },
    {
     "data": {
      "text/html": [
       "<pre style=\"white-space:pre;overflow-x:auto;line-height:normal;font-family:Menlo,'DejaVu Sans Mono',consolas,'Courier New',monospace\">Epoch 0139|Val loss 9.928580e-02|Train loss 1.157636e-01|LR 0.00036|\n",
       "</pre>\n"
      ],
      "text/plain": [
       "Epoch 0139|Val loss 9.928580e-02|Train loss 1.157636e-01|LR 0.00036|\n"
      ]
     },
     "metadata": {},
     "output_type": "display_data"
    },
    {
     "data": {
      "text/html": [
       "<pre style=\"white-space:pre;overflow-x:auto;line-height:normal;font-family:Menlo,'DejaVu Sans Mono',consolas,'Courier New',monospace\">Epoch 0140|Val loss 9.718871e-02|Train loss 1.167343e-01|LR 0.00036|\n",
       "</pre>\n"
      ],
      "text/plain": [
       "Epoch 0140|Val loss 9.718871e-02|Train loss 1.167343e-01|LR 0.00036|\n"
      ]
     },
     "metadata": {},
     "output_type": "display_data"
    },
    {
     "data": {
      "text/html": [
       "<pre style=\"white-space:pre;overflow-x:auto;line-height:normal;font-family:Menlo,'DejaVu Sans Mono',consolas,'Courier New',monospace\">EarlyStopping counter: 1 out of 20\n",
       "</pre>\n"
      ],
      "text/plain": [
       "EarlyStopping counter: 1 out of 20\n"
      ]
     },
     "metadata": {},
     "output_type": "display_data"
    },
    {
     "data": {
      "text/html": [
       "<pre style=\"white-space:pre;overflow-x:auto;line-height:normal;font-family:Menlo,'DejaVu Sans Mono',consolas,'Courier New',monospace\">Epoch 0141|Val loss 9.950218e-02|Train loss 1.161569e-01|LR 0.00036|\n",
       "</pre>\n"
      ],
      "text/plain": [
       "Epoch 0141|Val loss 9.950218e-02|Train loss 1.161569e-01|LR 0.00036|\n"
      ]
     },
     "metadata": {},
     "output_type": "display_data"
    },
    {
     "data": {
      "text/html": [
       "<pre style=\"white-space:pre;overflow-x:auto;line-height:normal;font-family:Menlo,'DejaVu Sans Mono',consolas,'Courier New',monospace\">Epoch 0142|Val loss 9.549905e-02|Train loss 1.163347e-01|LR 0.00036|\n",
       "</pre>\n"
      ],
      "text/plain": [
       "Epoch 0142|Val loss 9.549905e-02|Train loss 1.163347e-01|LR 0.00036|\n"
      ]
     },
     "metadata": {},
     "output_type": "display_data"
    },
    {
     "data": {
      "text/html": [
       "<pre style=\"white-space:pre;overflow-x:auto;line-height:normal;font-family:Menlo,'DejaVu Sans Mono',consolas,'Courier New',monospace\">Epoch 0143|Val loss 1.009239e-01|Train loss 1.152366e-01|LR 0.00036|\n",
       "</pre>\n"
      ],
      "text/plain": [
       "Epoch 0143|Val loss 1.009239e-01|Train loss 1.152366e-01|LR 0.00036|\n"
      ]
     },
     "metadata": {},
     "output_type": "display_data"
    },
    {
     "data": {
      "text/html": [
       "<pre style=\"white-space:pre;overflow-x:auto;line-height:normal;font-family:Menlo,'DejaVu Sans Mono',consolas,'Courier New',monospace\">Epoch 0144|Val loss 9.706623e-02|Train loss 1.147823e-01|LR 0.00036|\n",
       "</pre>\n"
      ],
      "text/plain": [
       "Epoch 0144|Val loss 9.706623e-02|Train loss 1.147823e-01|LR 0.00036|\n"
      ]
     },
     "metadata": {},
     "output_type": "display_data"
    },
    {
     "data": {
      "text/html": [
       "<pre style=\"white-space:pre;overflow-x:auto;line-height:normal;font-family:Menlo,'DejaVu Sans Mono',consolas,'Courier New',monospace\">Epoch 0145|Val loss 1.065842e-01|Train loss 1.138654e-01|LR 0.00036|\n",
       "</pre>\n"
      ],
      "text/plain": [
       "Epoch 0145|Val loss 1.065842e-01|Train loss 1.138654e-01|LR 0.00036|\n"
      ]
     },
     "metadata": {},
     "output_type": "display_data"
    },
    {
     "data": {
      "text/html": [
       "<pre style=\"white-space:pre;overflow-x:auto;line-height:normal;font-family:Menlo,'DejaVu Sans Mono',consolas,'Courier New',monospace\">Epoch 0146|Val loss 9.075110e-02|Train loss 1.143103e-01|LR 0.00036|\n",
       "</pre>\n"
      ],
      "text/plain": [
       "Epoch 0146|Val loss 9.075110e-02|Train loss 1.143103e-01|LR 0.00036|\n"
      ]
     },
     "metadata": {},
     "output_type": "display_data"
    },
    {
     "data": {
      "text/html": [
       "<pre style=\"white-space:pre;overflow-x:auto;line-height:normal;font-family:Menlo,'DejaVu Sans Mono',consolas,'Courier New',monospace\">Epoch 0147|Val loss 1.115891e-01|Train loss 1.164438e-01|LR 0.00036|\n",
       "</pre>\n"
      ],
      "text/plain": [
       "Epoch 0147|Val loss 1.115891e-01|Train loss 1.164438e-01|LR 0.00036|\n"
      ]
     },
     "metadata": {},
     "output_type": "display_data"
    },
    {
     "data": {
      "text/html": [
       "<pre style=\"white-space:pre;overflow-x:auto;line-height:normal;font-family:Menlo,'DejaVu Sans Mono',consolas,'Courier New',monospace\">Epoch 0148|Val loss 9.433428e-02|Train loss 1.159518e-01|LR 0.00036|\n",
       "</pre>\n"
      ],
      "text/plain": [
       "Epoch 0148|Val loss 9.433428e-02|Train loss 1.159518e-01|LR 0.00036|\n"
      ]
     },
     "metadata": {},
     "output_type": "display_data"
    },
    {
     "data": {
      "text/html": [
       "<pre style=\"white-space:pre;overflow-x:auto;line-height:normal;font-family:Menlo,'DejaVu Sans Mono',consolas,'Courier New',monospace\">Epoch 0149|Val loss 1.059142e-01|Train loss 1.151759e-01|LR 0.00036|\n",
       "</pre>\n"
      ],
      "text/plain": [
       "Epoch 0149|Val loss 1.059142e-01|Train loss 1.151759e-01|LR 0.00036|\n"
      ]
     },
     "metadata": {},
     "output_type": "display_data"
    },
    {
     "data": {
      "text/html": [
       "<pre style=\"white-space:pre;overflow-x:auto;line-height:normal;font-family:Menlo,'DejaVu Sans Mono',consolas,'Courier New',monospace\">Epoch 0150|Val loss 9.551925e-02|Train loss 1.132059e-01|LR 0.00036|\n",
       "</pre>\n"
      ],
      "text/plain": [
       "Epoch 0150|Val loss 9.551925e-02|Train loss 1.132059e-01|LR 0.00036|\n"
      ]
     },
     "metadata": {},
     "output_type": "display_data"
    },
    {
     "data": {
      "text/html": [
       "<pre style=\"white-space:pre;overflow-x:auto;line-height:normal;font-family:Menlo,'DejaVu Sans Mono',consolas,'Courier New',monospace\">Val loss decreased (0.10 to 0.12). Model saved\n",
       "</pre>\n"
      ],
      "text/plain": [
       "Val loss decreased (0.10 to 0.12). Model saved\n"
      ]
     },
     "metadata": {},
     "output_type": "display_data"
    },
    {
     "data": {
      "text/html": [
       "<pre style=\"white-space:pre;overflow-x:auto;line-height:normal;font-family:Menlo,'DejaVu Sans Mono',consolas,'Courier New',monospace\">Epoch 0151|Val loss 1.082249e-01|Train loss 1.159976e-01|LR 0.00036|\n",
       "</pre>\n"
      ],
      "text/plain": [
       "Epoch 0151|Val loss 1.082249e-01|Train loss 1.159976e-01|LR 0.00036|\n"
      ]
     },
     "metadata": {},
     "output_type": "display_data"
    },
    {
     "data": {
      "text/html": [
       "<pre style=\"white-space:pre;overflow-x:auto;line-height:normal;font-family:Menlo,'DejaVu Sans Mono',consolas,'Courier New',monospace\">Epoch 0152|Val loss 9.543649e-02|Train loss 1.164990e-01|LR 0.00036|\n",
       "</pre>\n"
      ],
      "text/plain": [
       "Epoch 0152|Val loss 9.543649e-02|Train loss 1.164990e-01|LR 0.00036|\n"
      ]
     },
     "metadata": {},
     "output_type": "display_data"
    },
    {
     "data": {
      "text/html": [
       "<pre style=\"white-space:pre;overflow-x:auto;line-height:normal;font-family:Menlo,'DejaVu Sans Mono',consolas,'Courier New',monospace\">Epoch 0153|Val loss 1.065058e-01|Train loss 1.158007e-01|LR 0.00036|\n",
       "</pre>\n"
      ],
      "text/plain": [
       "Epoch 0153|Val loss 1.065058e-01|Train loss 1.158007e-01|LR 0.00036|\n"
      ]
     },
     "metadata": {},
     "output_type": "display_data"
    },
    {
     "data": {
      "text/html": [
       "<pre style=\"white-space:pre;overflow-x:auto;line-height:normal;font-family:Menlo,'DejaVu Sans Mono',consolas,'Courier New',monospace\">Epoch 0154|Val loss 9.311204e-02|Train loss 1.137354e-01|LR 0.00036|\n",
       "</pre>\n"
      ],
      "text/plain": [
       "Epoch 0154|Val loss 9.311204e-02|Train loss 1.137354e-01|LR 0.00036|\n"
      ]
     },
     "metadata": {},
     "output_type": "display_data"
    },
    {
     "data": {
      "text/html": [
       "<pre style=\"white-space:pre;overflow-x:auto;line-height:normal;font-family:Menlo,'DejaVu Sans Mono',consolas,'Courier New',monospace\">Epoch 0155|Val loss 1.117569e-01|Train loss 1.149210e-01|LR 0.00036|\n",
       "</pre>\n"
      ],
      "text/plain": [
       "Epoch 0155|Val loss 1.117569e-01|Train loss 1.149210e-01|LR 0.00036|\n"
      ]
     },
     "metadata": {},
     "output_type": "display_data"
    },
    {
     "data": {
      "text/html": [
       "<pre style=\"white-space:pre;overflow-x:auto;line-height:normal;font-family:Menlo,'DejaVu Sans Mono',consolas,'Courier New',monospace\">Epoch 0156|Val loss 9.498580e-02|Train loss 1.158500e-01|LR 0.00036|\n",
       "</pre>\n"
      ],
      "text/plain": [
       "Epoch 0156|Val loss 9.498580e-02|Train loss 1.158500e-01|LR 0.00036|\n"
      ]
     },
     "metadata": {},
     "output_type": "display_data"
    },
    {
     "data": {
      "text/html": [
       "<pre style=\"white-space:pre;overflow-x:auto;line-height:normal;font-family:Menlo,'DejaVu Sans Mono',consolas,'Courier New',monospace\">Epoch 0157|Val loss 1.145062e-01|Train loss 1.158258e-01|LR 0.00036|\n",
       "</pre>\n"
      ],
      "text/plain": [
       "Epoch 0157|Val loss 1.145062e-01|Train loss 1.158258e-01|LR 0.00036|\n"
      ]
     },
     "metadata": {},
     "output_type": "display_data"
    },
    {
     "data": {
      "text/html": [
       "<pre style=\"white-space:pre;overflow-x:auto;line-height:normal;font-family:Menlo,'DejaVu Sans Mono',consolas,'Courier New',monospace\">Epoch 0158|Val loss 9.482774e-02|Train loss 1.161932e-01|LR 0.00036|\n",
       "</pre>\n"
      ],
      "text/plain": [
       "Epoch 0158|Val loss 9.482774e-02|Train loss 1.161932e-01|LR 0.00036|\n"
      ]
     },
     "metadata": {},
     "output_type": "display_data"
    },
    {
     "data": {
      "text/html": [
       "<pre style=\"white-space:pre;overflow-x:auto;line-height:normal;font-family:Menlo,'DejaVu Sans Mono',consolas,'Courier New',monospace\">Epoch 0159|Val loss 1.042582e-01|Train loss 1.167034e-01|LR 0.00036|\n",
       "</pre>\n"
      ],
      "text/plain": [
       "Epoch 0159|Val loss 1.042582e-01|Train loss 1.167034e-01|LR 0.00036|\n"
      ]
     },
     "metadata": {},
     "output_type": "display_data"
    },
    {
     "data": {
      "text/html": [
       "<pre style=\"white-space:pre;overflow-x:auto;line-height:normal;font-family:Menlo,'DejaVu Sans Mono',consolas,'Courier New',monospace\">Epoch 0160|Val loss 9.614141e-02|Train loss 1.150658e-01|LR 0.00036|\n",
       "</pre>\n"
      ],
      "text/plain": [
       "Epoch 0160|Val loss 9.614141e-02|Train loss 1.150658e-01|LR 0.00036|\n"
      ]
     },
     "metadata": {},
     "output_type": "display_data"
    },
    {
     "data": {
      "text/html": [
       "<pre style=\"white-space:pre;overflow-x:auto;line-height:normal;font-family:Menlo,'DejaVu Sans Mono',consolas,'Courier New',monospace\">EarlyStopping counter: 1 out of 20\n",
       "</pre>\n"
      ],
      "text/plain": [
       "EarlyStopping counter: 1 out of 20\n"
      ]
     },
     "metadata": {},
     "output_type": "display_data"
    },
    {
     "data": {
      "text/html": [
       "<pre style=\"white-space:pre;overflow-x:auto;line-height:normal;font-family:Menlo,'DejaVu Sans Mono',consolas,'Courier New',monospace\">Epoch 0161|Val loss 1.018969e-01|Train loss 1.150244e-01|LR 0.00036|\n",
       "</pre>\n"
      ],
      "text/plain": [
       "Epoch 0161|Val loss 1.018969e-01|Train loss 1.150244e-01|LR 0.00036|\n"
      ]
     },
     "metadata": {},
     "output_type": "display_data"
    },
    {
     "data": {
      "text/html": [
       "<pre style=\"white-space:pre;overflow-x:auto;line-height:normal;font-family:Menlo,'DejaVu Sans Mono',consolas,'Courier New',monospace\">Epoch 0162|Val loss 9.472237e-02|Train loss 1.140388e-01|LR 0.00036|\n",
       "</pre>\n"
      ],
      "text/plain": [
       "Epoch 0162|Val loss 9.472237e-02|Train loss 1.140388e-01|LR 0.00036|\n"
      ]
     },
     "metadata": {},
     "output_type": "display_data"
    },
    {
     "data": {
      "text/html": [
       "<pre style=\"white-space:pre;overflow-x:auto;line-height:normal;font-family:Menlo,'DejaVu Sans Mono',consolas,'Courier New',monospace\">Epoch 0163|Val loss 9.729005e-02|Train loss 1.139268e-01|LR 0.00022|\n",
       "</pre>\n"
      ],
      "text/plain": [
       "Epoch 0163|Val loss 9.729005e-02|Train loss 1.139268e-01|LR 0.00022|\n"
      ]
     },
     "metadata": {},
     "output_type": "display_data"
    },
    {
     "data": {
      "text/html": [
       "<pre style=\"white-space:pre;overflow-x:auto;line-height:normal;font-family:Menlo,'DejaVu Sans Mono',consolas,'Courier New',monospace\">Epoch 0164|Val loss 9.340279e-02|Train loss 1.120241e-01|LR 0.00022|\n",
       "</pre>\n"
      ],
      "text/plain": [
       "Epoch 0164|Val loss 9.340279e-02|Train loss 1.120241e-01|LR 0.00022|\n"
      ]
     },
     "metadata": {},
     "output_type": "display_data"
    },
    {
     "data": {
      "text/html": [
       "<pre style=\"white-space:pre;overflow-x:auto;line-height:normal;font-family:Menlo,'DejaVu Sans Mono',consolas,'Courier New',monospace\">Epoch 0165|Val loss 9.620938e-02|Train loss 1.108461e-01|LR 0.00022|\n",
       "</pre>\n"
      ],
      "text/plain": [
       "Epoch 0165|Val loss 9.620938e-02|Train loss 1.108461e-01|LR 0.00022|\n"
      ]
     },
     "metadata": {},
     "output_type": "display_data"
    },
    {
     "data": {
      "text/html": [
       "<pre style=\"white-space:pre;overflow-x:auto;line-height:normal;font-family:Menlo,'DejaVu Sans Mono',consolas,'Courier New',monospace\">Epoch 0166|Val loss 9.490336e-02|Train loss 1.103208e-01|LR 0.00022|\n",
       "</pre>\n"
      ],
      "text/plain": [
       "Epoch 0166|Val loss 9.490336e-02|Train loss 1.103208e-01|LR 0.00022|\n"
      ]
     },
     "metadata": {},
     "output_type": "display_data"
    },
    {
     "data": {
      "text/html": [
       "<pre style=\"white-space:pre;overflow-x:auto;line-height:normal;font-family:Menlo,'DejaVu Sans Mono',consolas,'Courier New',monospace\">Epoch 0167|Val loss 1.020209e-01|Train loss 1.118850e-01|LR 0.00022|\n",
       "</pre>\n"
      ],
      "text/plain": [
       "Epoch 0167|Val loss 1.020209e-01|Train loss 1.118850e-01|LR 0.00022|\n"
      ]
     },
     "metadata": {},
     "output_type": "display_data"
    },
    {
     "data": {
      "text/html": [
       "<pre style=\"white-space:pre;overflow-x:auto;line-height:normal;font-family:Menlo,'DejaVu Sans Mono',consolas,'Courier New',monospace\">Epoch 0168|Val loss 9.594187e-02|Train loss 1.100869e-01|LR 0.00022|\n",
       "</pre>\n"
      ],
      "text/plain": [
       "Epoch 0168|Val loss 9.594187e-02|Train loss 1.100869e-01|LR 0.00022|\n"
      ]
     },
     "metadata": {},
     "output_type": "display_data"
    },
    {
     "data": {
      "text/html": [
       "<pre style=\"white-space:pre;overflow-x:auto;line-height:normal;font-family:Menlo,'DejaVu Sans Mono',consolas,'Courier New',monospace\">Epoch 0169|Val loss 1.031098e-01|Train loss 1.114311e-01|LR 0.00022|\n",
       "</pre>\n"
      ],
      "text/plain": [
       "Epoch 0169|Val loss 1.031098e-01|Train loss 1.114311e-01|LR 0.00022|\n"
      ]
     },
     "metadata": {},
     "output_type": "display_data"
    },
    {
     "data": {
      "text/html": [
       "<pre style=\"white-space:pre;overflow-x:auto;line-height:normal;font-family:Menlo,'DejaVu Sans Mono',consolas,'Courier New',monospace\">Epoch 0170|Val loss 9.153972e-02|Train loss 1.117273e-01|LR 0.00022|\n",
       "</pre>\n"
      ],
      "text/plain": [
       "Epoch 0170|Val loss 9.153972e-02|Train loss 1.117273e-01|LR 0.00022|\n"
      ]
     },
     "metadata": {},
     "output_type": "display_data"
    },
    {
     "data": {
      "text/html": [
       "<pre style=\"white-space:pre;overflow-x:auto;line-height:normal;font-family:Menlo,'DejaVu Sans Mono',consolas,'Courier New',monospace\">Val loss decreased (0.10 to 0.12). Model saved\n",
       "</pre>\n"
      ],
      "text/plain": [
       "Val loss decreased (0.10 to 0.12). Model saved\n"
      ]
     },
     "metadata": {},
     "output_type": "display_data"
    },
    {
     "data": {
      "text/html": [
       "<pre style=\"white-space:pre;overflow-x:auto;line-height:normal;font-family:Menlo,'DejaVu Sans Mono',consolas,'Courier New',monospace\">Epoch 0171|Val loss 1.020823e-01|Train loss 1.095341e-01|LR 0.00022|\n",
       "</pre>\n"
      ],
      "text/plain": [
       "Epoch 0171|Val loss 1.020823e-01|Train loss 1.095341e-01|LR 0.00022|\n"
      ]
     },
     "metadata": {},
     "output_type": "display_data"
    },
    {
     "data": {
      "text/html": [
       "<pre style=\"white-space:pre;overflow-x:auto;line-height:normal;font-family:Menlo,'DejaVu Sans Mono',consolas,'Courier New',monospace\">Epoch 0172|Val loss 9.461390e-02|Train loss 1.113389e-01|LR 0.00022|\n",
       "</pre>\n"
      ],
      "text/plain": [
       "Epoch 0172|Val loss 9.461390e-02|Train loss 1.113389e-01|LR 0.00022|\n"
      ]
     },
     "metadata": {},
     "output_type": "display_data"
    },
    {
     "data": {
      "text/html": [
       "<pre style=\"white-space:pre;overflow-x:auto;line-height:normal;font-family:Menlo,'DejaVu Sans Mono',consolas,'Courier New',monospace\">Epoch 0173|Val loss 1.050114e-01|Train loss 1.104726e-01|LR 0.00022|\n",
       "</pre>\n"
      ],
      "text/plain": [
       "Epoch 0173|Val loss 1.050114e-01|Train loss 1.104726e-01|LR 0.00022|\n"
      ]
     },
     "metadata": {},
     "output_type": "display_data"
    },
    {
     "data": {
      "text/html": [
       "<pre style=\"white-space:pre;overflow-x:auto;line-height:normal;font-family:Menlo,'DejaVu Sans Mono',consolas,'Courier New',monospace\">Epoch 0174|Val loss 9.672716e-02|Train loss 1.118449e-01|LR 0.00022|\n",
       "</pre>\n"
      ],
      "text/plain": [
       "Epoch 0174|Val loss 9.672716e-02|Train loss 1.118449e-01|LR 0.00022|\n"
      ]
     },
     "metadata": {},
     "output_type": "display_data"
    },
    {
     "data": {
      "text/html": [
       "<pre style=\"white-space:pre;overflow-x:auto;line-height:normal;font-family:Menlo,'DejaVu Sans Mono',consolas,'Courier New',monospace\">Epoch 0175|Val loss 1.004423e-01|Train loss 1.111137e-01|LR 0.00022|\n",
       "</pre>\n"
      ],
      "text/plain": [
       "Epoch 0175|Val loss 1.004423e-01|Train loss 1.111137e-01|LR 0.00022|\n"
      ]
     },
     "metadata": {},
     "output_type": "display_data"
    },
    {
     "data": {
      "text/html": [
       "<pre style=\"white-space:pre;overflow-x:auto;line-height:normal;font-family:Menlo,'DejaVu Sans Mono',consolas,'Courier New',monospace\">Epoch 0176|Val loss 9.287281e-02|Train loss 1.105328e-01|LR 0.00022|\n",
       "</pre>\n"
      ],
      "text/plain": [
       "Epoch 0176|Val loss 9.287281e-02|Train loss 1.105328e-01|LR 0.00022|\n"
      ]
     },
     "metadata": {},
     "output_type": "display_data"
    },
    {
     "data": {
      "text/html": [
       "<pre style=\"white-space:pre;overflow-x:auto;line-height:normal;font-family:Menlo,'DejaVu Sans Mono',consolas,'Courier New',monospace\">Epoch 0177|Val loss 1.008578e-01|Train loss 1.100760e-01|LR 0.00022|\n",
       "</pre>\n"
      ],
      "text/plain": [
       "Epoch 0177|Val loss 1.008578e-01|Train loss 1.100760e-01|LR 0.00022|\n"
      ]
     },
     "metadata": {},
     "output_type": "display_data"
    },
    {
     "data": {
      "text/html": [
       "<pre style=\"white-space:pre;overflow-x:auto;line-height:normal;font-family:Menlo,'DejaVu Sans Mono',consolas,'Courier New',monospace\">Epoch 0178|Val loss 9.236703e-02|Train loss 1.122574e-01|LR 0.00022|\n",
       "</pre>\n"
      ],
      "text/plain": [
       "Epoch 0178|Val loss 9.236703e-02|Train loss 1.122574e-01|LR 0.00022|\n"
      ]
     },
     "metadata": {},
     "output_type": "display_data"
    },
    {
     "data": {
      "text/html": [
       "<pre style=\"white-space:pre;overflow-x:auto;line-height:normal;font-family:Menlo,'DejaVu Sans Mono',consolas,'Courier New',monospace\">Epoch 0179|Val loss 1.018462e-01|Train loss 1.126913e-01|LR 0.00022|\n",
       "</pre>\n"
      ],
      "text/plain": [
       "Epoch 0179|Val loss 1.018462e-01|Train loss 1.126913e-01|LR 0.00022|\n"
      ]
     },
     "metadata": {},
     "output_type": "display_data"
    },
    {
     "data": {
      "text/html": [
       "<pre style=\"white-space:pre;overflow-x:auto;line-height:normal;font-family:Menlo,'DejaVu Sans Mono',consolas,'Courier New',monospace\">Epoch 0180|Val loss 9.737332e-02|Train loss 1.114536e-01|LR 0.00022|\n",
       "</pre>\n"
      ],
      "text/plain": [
       "Epoch 0180|Val loss 9.737332e-02|Train loss 1.114536e-01|LR 0.00022|\n"
      ]
     },
     "metadata": {},
     "output_type": "display_data"
    },
    {
     "data": {
      "text/html": [
       "<pre style=\"white-space:pre;overflow-x:auto;line-height:normal;font-family:Menlo,'DejaVu Sans Mono',consolas,'Courier New',monospace\">EarlyStopping counter: 1 out of 20\n",
       "</pre>\n"
      ],
      "text/plain": [
       "EarlyStopping counter: 1 out of 20\n"
      ]
     },
     "metadata": {},
     "output_type": "display_data"
    },
    {
     "data": {
      "text/html": [
       "<pre style=\"white-space:pre;overflow-x:auto;line-height:normal;font-family:Menlo,'DejaVu Sans Mono',consolas,'Courier New',monospace\">Epoch 0181|Val loss 1.028789e-01|Train loss 1.097120e-01|LR 0.00022|\n",
       "</pre>\n"
      ],
      "text/plain": [
       "Epoch 0181|Val loss 1.028789e-01|Train loss 1.097120e-01|LR 0.00022|\n"
      ]
     },
     "metadata": {},
     "output_type": "display_data"
    },
    {
     "data": {
      "text/html": [
       "<pre style=\"white-space:pre;overflow-x:auto;line-height:normal;font-family:Menlo,'DejaVu Sans Mono',consolas,'Courier New',monospace\">Epoch 0182|Val loss 9.472847e-02|Train loss 1.102942e-01|LR 0.00022|\n",
       "</pre>\n"
      ],
      "text/plain": [
       "Epoch 0182|Val loss 9.472847e-02|Train loss 1.102942e-01|LR 0.00022|\n"
      ]
     },
     "metadata": {},
     "output_type": "display_data"
    },
    {
     "data": {
      "text/html": [
       "<pre style=\"white-space:pre;overflow-x:auto;line-height:normal;font-family:Menlo,'DejaVu Sans Mono',consolas,'Courier New',monospace\">Epoch 0183|Val loss 1.013495e-01|Train loss 1.118940e-01|LR 0.00022|\n",
       "</pre>\n"
      ],
      "text/plain": [
       "Epoch 0183|Val loss 1.013495e-01|Train loss 1.118940e-01|LR 0.00022|\n"
      ]
     },
     "metadata": {},
     "output_type": "display_data"
    },
    {
     "data": {
      "text/html": [
       "<pre style=\"white-space:pre;overflow-x:auto;line-height:normal;font-family:Menlo,'DejaVu Sans Mono',consolas,'Courier New',monospace\">Epoch 0184|Val loss 9.312769e-02|Train loss 1.104012e-01|LR 0.00022|\n",
       "</pre>\n"
      ],
      "text/plain": [
       "Epoch 0184|Val loss 9.312769e-02|Train loss 1.104012e-01|LR 0.00022|\n"
      ]
     },
     "metadata": {},
     "output_type": "display_data"
    },
    {
     "data": {
      "text/html": [
       "<pre style=\"white-space:pre;overflow-x:auto;line-height:normal;font-family:Menlo,'DejaVu Sans Mono',consolas,'Courier New',monospace\">Epoch 0185|Val loss 1.041655e-01|Train loss 1.114281e-01|LR 0.00022|\n",
       "</pre>\n"
      ],
      "text/plain": [
       "Epoch 0185|Val loss 1.041655e-01|Train loss 1.114281e-01|LR 0.00022|\n"
      ]
     },
     "metadata": {},
     "output_type": "display_data"
    },
    {
     "data": {
      "text/html": [
       "<pre style=\"white-space:pre;overflow-x:auto;line-height:normal;font-family:Menlo,'DejaVu Sans Mono',consolas,'Courier New',monospace\">Epoch 0186|Val loss 9.512713e-02|Train loss 1.105363e-01|LR 0.00022|\n",
       "</pre>\n"
      ],
      "text/plain": [
       "Epoch 0186|Val loss 9.512713e-02|Train loss 1.105363e-01|LR 0.00022|\n"
      ]
     },
     "metadata": {},
     "output_type": "display_data"
    },
    {
     "data": {
      "text/html": [
       "<pre style=\"white-space:pre;overflow-x:auto;line-height:normal;font-family:Menlo,'DejaVu Sans Mono',consolas,'Courier New',monospace\">Epoch 0187|Val loss 9.806703e-02|Train loss 1.117829e-01|LR 0.00022|\n",
       "</pre>\n"
      ],
      "text/plain": [
       "Epoch 0187|Val loss 9.806703e-02|Train loss 1.117829e-01|LR 0.00022|\n"
      ]
     },
     "metadata": {},
     "output_type": "display_data"
    },
    {
     "data": {
      "text/html": [
       "<pre style=\"white-space:pre;overflow-x:auto;line-height:normal;font-family:Menlo,'DejaVu Sans Mono',consolas,'Courier New',monospace\">Epoch 0188|Val loss 9.675359e-02|Train loss 1.113077e-01|LR 0.00022|\n",
       "</pre>\n"
      ],
      "text/plain": [
       "Epoch 0188|Val loss 9.675359e-02|Train loss 1.113077e-01|LR 0.00022|\n"
      ]
     },
     "metadata": {},
     "output_type": "display_data"
    },
    {
     "data": {
      "text/html": [
       "<pre style=\"white-space:pre;overflow-x:auto;line-height:normal;font-family:Menlo,'DejaVu Sans Mono',consolas,'Courier New',monospace\">Epoch 0189|Val loss 1.011663e-01|Train loss 1.101082e-01|LR 0.00022|\n",
       "</pre>\n"
      ],
      "text/plain": [
       "Epoch 0189|Val loss 1.011663e-01|Train loss 1.101082e-01|LR 0.00022|\n"
      ]
     },
     "metadata": {},
     "output_type": "display_data"
    },
    {
     "data": {
      "text/html": [
       "<pre style=\"white-space:pre;overflow-x:auto;line-height:normal;font-family:Menlo,'DejaVu Sans Mono',consolas,'Courier New',monospace\">Epoch 0190|Val loss 9.485130e-02|Train loss 1.119759e-01|LR 0.00022|\n",
       "</pre>\n"
      ],
      "text/plain": [
       "Epoch 0190|Val loss 9.485130e-02|Train loss 1.119759e-01|LR 0.00022|\n"
      ]
     },
     "metadata": {},
     "output_type": "display_data"
    },
    {
     "data": {
      "text/html": [
       "<pre style=\"white-space:pre;overflow-x:auto;line-height:normal;font-family:Menlo,'DejaVu Sans Mono',consolas,'Courier New',monospace\">EarlyStopping counter: 2 out of 20\n",
       "</pre>\n"
      ],
      "text/plain": [
       "EarlyStopping counter: 2 out of 20\n"
      ]
     },
     "metadata": {},
     "output_type": "display_data"
    },
    {
     "data": {
      "text/html": [
       "<pre style=\"white-space:pre;overflow-x:auto;line-height:normal;font-family:Menlo,'DejaVu Sans Mono',consolas,'Courier New',monospace\">Epoch 0191|Val loss 9.997182e-02|Train loss 1.104347e-01|LR 0.00022|\n",
       "</pre>\n"
      ],
      "text/plain": [
       "Epoch 0191|Val loss 9.997182e-02|Train loss 1.104347e-01|LR 0.00022|\n"
      ]
     },
     "metadata": {},
     "output_type": "display_data"
    },
    {
     "data": {
      "text/html": [
       "<pre style=\"white-space:pre;overflow-x:auto;line-height:normal;font-family:Menlo,'DejaVu Sans Mono',consolas,'Courier New',monospace\">Epoch 0192|Val loss 9.324879e-02|Train loss 1.112438e-01|LR 0.00022|\n",
       "</pre>\n"
      ],
      "text/plain": [
       "Epoch 0192|Val loss 9.324879e-02|Train loss 1.112438e-01|LR 0.00022|\n"
      ]
     },
     "metadata": {},
     "output_type": "display_data"
    },
    {
     "data": {
      "text/html": [
       "<pre style=\"white-space:pre;overflow-x:auto;line-height:normal;font-family:Menlo,'DejaVu Sans Mono',consolas,'Courier New',monospace\">Epoch 0193|Val loss 9.862330e-02|Train loss 1.112208e-01|LR 0.00022|\n",
       "</pre>\n"
      ],
      "text/plain": [
       "Epoch 0193|Val loss 9.862330e-02|Train loss 1.112208e-01|LR 0.00022|\n"
      ]
     },
     "metadata": {},
     "output_type": "display_data"
    },
    {
     "data": {
      "text/html": [
       "<pre style=\"white-space:pre;overflow-x:auto;line-height:normal;font-family:Menlo,'DejaVu Sans Mono',consolas,'Courier New',monospace\">Epoch 0194|Val loss 9.252622e-02|Train loss 1.117919e-01|LR 0.00022|\n",
       "</pre>\n"
      ],
      "text/plain": [
       "Epoch 0194|Val loss 9.252622e-02|Train loss 1.117919e-01|LR 0.00022|\n"
      ]
     },
     "metadata": {},
     "output_type": "display_data"
    },
    {
     "data": {
      "text/html": [
       "<pre style=\"white-space:pre;overflow-x:auto;line-height:normal;font-family:Menlo,'DejaVu Sans Mono',consolas,'Courier New',monospace\">Epoch 0195|Val loss 9.900640e-02|Train loss 1.099967e-01|LR 0.00022|\n",
       "</pre>\n"
      ],
      "text/plain": [
       "Epoch 0195|Val loss 9.900640e-02|Train loss 1.099967e-01|LR 0.00022|\n"
      ]
     },
     "metadata": {},
     "output_type": "display_data"
    },
    {
     "data": {
      "text/html": [
       "<pre style=\"white-space:pre;overflow-x:auto;line-height:normal;font-family:Menlo,'DejaVu Sans Mono',consolas,'Courier New',monospace\">Epoch 0196|Val loss 9.432939e-02|Train loss 1.096189e-01|LR 0.00022|\n",
       "</pre>\n"
      ],
      "text/plain": [
       "Epoch 0196|Val loss 9.432939e-02|Train loss 1.096189e-01|LR 0.00022|\n"
      ]
     },
     "metadata": {},
     "output_type": "display_data"
    },
    {
     "data": {
      "text/html": [
       "<pre style=\"white-space:pre;overflow-x:auto;line-height:normal;font-family:Menlo,'DejaVu Sans Mono',consolas,'Courier New',monospace\">Epoch 0197|Val loss 1.036283e-01|Train loss 1.114016e-01|LR 0.00022|\n",
       "</pre>\n"
      ],
      "text/plain": [
       "Epoch 0197|Val loss 1.036283e-01|Train loss 1.114016e-01|LR 0.00022|\n"
      ]
     },
     "metadata": {},
     "output_type": "display_data"
    },
    {
     "data": {
      "text/html": [
       "<pre style=\"white-space:pre;overflow-x:auto;line-height:normal;font-family:Menlo,'DejaVu Sans Mono',consolas,'Courier New',monospace\">Epoch 0198|Val loss 1.005295e-01|Train loss 1.104457e-01|LR 0.00022|\n",
       "</pre>\n"
      ],
      "text/plain": [
       "Epoch 0198|Val loss 1.005295e-01|Train loss 1.104457e-01|LR 0.00022|\n"
      ]
     },
     "metadata": {},
     "output_type": "display_data"
    },
    {
     "data": {
      "text/html": [
       "<pre style=\"white-space:pre;overflow-x:auto;line-height:normal;font-family:Menlo,'DejaVu Sans Mono',consolas,'Courier New',monospace\">Epoch 0199|Val loss 1.082846e-01|Train loss 1.107439e-01|LR 0.00022|\n",
       "</pre>\n"
      ],
      "text/plain": [
       "Epoch 0199|Val loss 1.082846e-01|Train loss 1.107439e-01|LR 0.00022|\n"
      ]
     },
     "metadata": {},
     "output_type": "display_data"
    },
    {
     "data": {
      "text/html": [
       "<pre style=\"white-space:pre;overflow-x:auto;line-height:normal;font-family:Menlo,'DejaVu Sans Mono',consolas,'Courier New',monospace\">Epoch 0200|Val loss 9.657006e-02|Train loss 1.102703e-01|LR 0.00022|\n",
       "</pre>\n"
      ],
      "text/plain": [
       "Epoch 0200|Val loss 9.657006e-02|Train loss 1.102703e-01|LR 0.00022|\n"
      ]
     },
     "metadata": {},
     "output_type": "display_data"
    },
    {
     "data": {
      "text/html": [
       "<pre style=\"white-space:pre;overflow-x:auto;line-height:normal;font-family:Menlo,'DejaVu Sans Mono',consolas,'Courier New',monospace\">EarlyStopping counter: 3 out of 20\n",
       "</pre>\n"
      ],
      "text/plain": [
       "EarlyStopping counter: 3 out of 20\n"
      ]
     },
     "metadata": {},
     "output_type": "display_data"
    },
    {
     "data": {
      "text/html": [
       "<pre style=\"white-space:pre;overflow-x:auto;line-height:normal;font-family:Menlo,'DejaVu Sans Mono',consolas,'Courier New',monospace\">Epoch 0201|Val loss 1.037068e-01|Train loss 1.103801e-01|LR 0.00022|\n",
       "</pre>\n"
      ],
      "text/plain": [
       "Epoch 0201|Val loss 1.037068e-01|Train loss 1.103801e-01|LR 0.00022|\n"
      ]
     },
     "metadata": {},
     "output_type": "display_data"
    },
    {
     "data": {
      "text/html": [
       "<pre style=\"white-space:pre;overflow-x:auto;line-height:normal;font-family:Menlo,'DejaVu Sans Mono',consolas,'Courier New',monospace\">Epoch 0202|Val loss 9.091483e-02|Train loss 1.108119e-01|LR 0.00022|\n",
       "</pre>\n"
      ],
      "text/plain": [
       "Epoch 0202|Val loss 9.091483e-02|Train loss 1.108119e-01|LR 0.00022|\n"
      ]
     },
     "metadata": {},
     "output_type": "display_data"
    },
    {
     "data": {
      "text/html": [
       "<pre style=\"white-space:pre;overflow-x:auto;line-height:normal;font-family:Menlo,'DejaVu Sans Mono',consolas,'Courier New',monospace\">Epoch 0203|Val loss 9.939187e-02|Train loss 1.107591e-01|LR 0.00022|\n",
       "</pre>\n"
      ],
      "text/plain": [
       "Epoch 0203|Val loss 9.939187e-02|Train loss 1.107591e-01|LR 0.00022|\n"
      ]
     },
     "metadata": {},
     "output_type": "display_data"
    },
    {
     "data": {
      "text/html": [
       "<pre style=\"white-space:pre;overflow-x:auto;line-height:normal;font-family:Menlo,'DejaVu Sans Mono',consolas,'Courier New',monospace\">Epoch 0204|Val loss 9.750670e-02|Train loss 1.104068e-01|LR 0.00013|\n",
       "</pre>\n"
      ],
      "text/plain": [
       "Epoch 0204|Val loss 9.750670e-02|Train loss 1.104068e-01|LR 0.00013|\n"
      ]
     },
     "metadata": {},
     "output_type": "display_data"
    },
    {
     "data": {
      "text/html": [
       "<pre style=\"white-space:pre;overflow-x:auto;line-height:normal;font-family:Menlo,'DejaVu Sans Mono',consolas,'Courier New',monospace\">Epoch 0205|Val loss 9.554169e-02|Train loss 1.097401e-01|LR 0.00013|\n",
       "</pre>\n"
      ],
      "text/plain": [
       "Epoch 0205|Val loss 9.554169e-02|Train loss 1.097401e-01|LR 0.00013|\n"
      ]
     },
     "metadata": {},
     "output_type": "display_data"
    },
    {
     "data": {
      "text/html": [
       "<pre style=\"white-space:pre;overflow-x:auto;line-height:normal;font-family:Menlo,'DejaVu Sans Mono',consolas,'Courier New',monospace\">Epoch 0206|Val loss 9.909148e-02|Train loss 1.087770e-01|LR 0.00013|\n",
       "</pre>\n"
      ],
      "text/plain": [
       "Epoch 0206|Val loss 9.909148e-02|Train loss 1.087770e-01|LR 0.00013|\n"
      ]
     },
     "metadata": {},
     "output_type": "display_data"
    },
    {
     "data": {
      "text/html": [
       "<pre style=\"white-space:pre;overflow-x:auto;line-height:normal;font-family:Menlo,'DejaVu Sans Mono',consolas,'Courier New',monospace\">Epoch 0207|Val loss 1.003444e-01|Train loss 1.083721e-01|LR 0.00013|\n",
       "</pre>\n"
      ],
      "text/plain": [
       "Epoch 0207|Val loss 1.003444e-01|Train loss 1.083721e-01|LR 0.00013|\n"
      ]
     },
     "metadata": {},
     "output_type": "display_data"
    },
    {
     "data": {
      "text/html": [
       "<pre style=\"white-space:pre;overflow-x:auto;line-height:normal;font-family:Menlo,'DejaVu Sans Mono',consolas,'Courier New',monospace\">Epoch 0208|Val loss 9.681753e-02|Train loss 1.088209e-01|LR 0.00013|\n",
       "</pre>\n"
      ],
      "text/plain": [
       "Epoch 0208|Val loss 9.681753e-02|Train loss 1.088209e-01|LR 0.00013|\n"
      ]
     },
     "metadata": {},
     "output_type": "display_data"
    },
    {
     "data": {
      "text/html": [
       "<pre style=\"white-space:pre;overflow-x:auto;line-height:normal;font-family:Menlo,'DejaVu Sans Mono',consolas,'Courier New',monospace\">Epoch 0209|Val loss 9.970459e-02|Train loss 1.094592e-01|LR 0.00013|\n",
       "</pre>\n"
      ],
      "text/plain": [
       "Epoch 0209|Val loss 9.970459e-02|Train loss 1.094592e-01|LR 0.00013|\n"
      ]
     },
     "metadata": {},
     "output_type": "display_data"
    },
    {
     "data": {
      "text/html": [
       "<pre style=\"white-space:pre;overflow-x:auto;line-height:normal;font-family:Menlo,'DejaVu Sans Mono',consolas,'Courier New',monospace\">Epoch 0210|Val loss 1.006174e-01|Train loss 1.082529e-01|LR 0.00013|\n",
       "</pre>\n"
      ],
      "text/plain": [
       "Epoch 0210|Val loss 1.006174e-01|Train loss 1.082529e-01|LR 0.00013|\n"
      ]
     },
     "metadata": {},
     "output_type": "display_data"
    },
    {
     "data": {
      "text/html": [
       "<pre style=\"white-space:pre;overflow-x:auto;line-height:normal;font-family:Menlo,'DejaVu Sans Mono',consolas,'Courier New',monospace\">EarlyStopping counter: 4 out of 20\n",
       "</pre>\n"
      ],
      "text/plain": [
       "EarlyStopping counter: 4 out of 20\n"
      ]
     },
     "metadata": {},
     "output_type": "display_data"
    },
    {
     "data": {
      "text/html": [
       "<pre style=\"white-space:pre;overflow-x:auto;line-height:normal;font-family:Menlo,'DejaVu Sans Mono',consolas,'Courier New',monospace\">Epoch 0211|Val loss 9.741687e-02|Train loss 1.096893e-01|LR 0.00013|\n",
       "</pre>\n"
      ],
      "text/plain": [
       "Epoch 0211|Val loss 9.741687e-02|Train loss 1.096893e-01|LR 0.00013|\n"
      ]
     },
     "metadata": {},
     "output_type": "display_data"
    },
    {
     "data": {
      "text/html": [
       "<pre style=\"white-space:pre;overflow-x:auto;line-height:normal;font-family:Menlo,'DejaVu Sans Mono',consolas,'Courier New',monospace\">Epoch 0212|Val loss 9.851502e-02|Train loss 1.092601e-01|LR 0.00013|\n",
       "</pre>\n"
      ],
      "text/plain": [
       "Epoch 0212|Val loss 9.851502e-02|Train loss 1.092601e-01|LR 0.00013|\n"
      ]
     },
     "metadata": {},
     "output_type": "display_data"
    },
    {
     "data": {
      "text/html": [
       "<pre style=\"white-space:pre;overflow-x:auto;line-height:normal;font-family:Menlo,'DejaVu Sans Mono',consolas,'Courier New',monospace\">Epoch 0213|Val loss 1.002651e-01|Train loss 1.094586e-01|LR 0.00013|\n",
       "</pre>\n"
      ],
      "text/plain": [
       "Epoch 0213|Val loss 1.002651e-01|Train loss 1.094586e-01|LR 0.00013|\n"
      ]
     },
     "metadata": {},
     "output_type": "display_data"
    },
    {
     "data": {
      "text/html": [
       "<pre style=\"white-space:pre;overflow-x:auto;line-height:normal;font-family:Menlo,'DejaVu Sans Mono',consolas,'Courier New',monospace\">Epoch 0214|Val loss 9.809634e-02|Train loss 1.082754e-01|LR 0.00013|\n",
       "</pre>\n"
      ],
      "text/plain": [
       "Epoch 0214|Val loss 9.809634e-02|Train loss 1.082754e-01|LR 0.00013|\n"
      ]
     },
     "metadata": {},
     "output_type": "display_data"
    },
    {
     "data": {
      "text/html": [
       "<pre style=\"white-space:pre;overflow-x:auto;line-height:normal;font-family:Menlo,'DejaVu Sans Mono',consolas,'Courier New',monospace\">Epoch 0215|Val loss 9.716234e-02|Train loss 1.084564e-01|LR 0.00013|\n",
       "</pre>\n"
      ],
      "text/plain": [
       "Epoch 0215|Val loss 9.716234e-02|Train loss 1.084564e-01|LR 0.00013|\n"
      ]
     },
     "metadata": {},
     "output_type": "display_data"
    },
    {
     "data": {
      "text/html": [
       "<pre style=\"white-space:pre;overflow-x:auto;line-height:normal;font-family:Menlo,'DejaVu Sans Mono',consolas,'Courier New',monospace\">Epoch 0216|Val loss 1.005885e-01|Train loss 1.079730e-01|LR 0.00013|\n",
       "</pre>\n"
      ],
      "text/plain": [
       "Epoch 0216|Val loss 1.005885e-01|Train loss 1.079730e-01|LR 0.00013|\n"
      ]
     },
     "metadata": {},
     "output_type": "display_data"
    },
    {
     "data": {
      "text/html": [
       "<pre style=\"white-space:pre;overflow-x:auto;line-height:normal;font-family:Menlo,'DejaVu Sans Mono',consolas,'Courier New',monospace\">Epoch 0217|Val loss 9.775161e-02|Train loss 1.067974e-01|LR 0.00013|\n",
       "</pre>\n"
      ],
      "text/plain": [
       "Epoch 0217|Val loss 9.775161e-02|Train loss 1.067974e-01|LR 0.00013|\n"
      ]
     },
     "metadata": {},
     "output_type": "display_data"
    },
    {
     "data": {
      "text/html": [
       "<pre style=\"white-space:pre;overflow-x:auto;line-height:normal;font-family:Menlo,'DejaVu Sans Mono',consolas,'Courier New',monospace\">Epoch 0218|Val loss 1.012072e-01|Train loss 1.096762e-01|LR 0.00013|\n",
       "</pre>\n"
      ],
      "text/plain": [
       "Epoch 0218|Val loss 1.012072e-01|Train loss 1.096762e-01|LR 0.00013|\n"
      ]
     },
     "metadata": {},
     "output_type": "display_data"
    },
    {
     "data": {
      "text/html": [
       "<pre style=\"white-space:pre;overflow-x:auto;line-height:normal;font-family:Menlo,'DejaVu Sans Mono',consolas,'Courier New',monospace\">Epoch 0219|Val loss 9.357084e-02|Train loss 1.088105e-01|LR 0.00013|\n",
       "</pre>\n"
      ],
      "text/plain": [
       "Epoch 0219|Val loss 9.357084e-02|Train loss 1.088105e-01|LR 0.00013|\n"
      ]
     },
     "metadata": {},
     "output_type": "display_data"
    },
    {
     "data": {
      "text/html": [
       "<pre style=\"white-space:pre;overflow-x:auto;line-height:normal;font-family:Menlo,'DejaVu Sans Mono',consolas,'Courier New',monospace\">Epoch 0220|Val loss 9.812574e-02|Train loss 1.092159e-01|LR 0.00013|\n",
       "</pre>\n"
      ],
      "text/plain": [
       "Epoch 0220|Val loss 9.812574e-02|Train loss 1.092159e-01|LR 0.00013|\n"
      ]
     },
     "metadata": {},
     "output_type": "display_data"
    },
    {
     "data": {
      "text/html": [
       "<pre style=\"white-space:pre;overflow-x:auto;line-height:normal;font-family:Menlo,'DejaVu Sans Mono',consolas,'Courier New',monospace\">EarlyStopping counter: 5 out of 20\n",
       "</pre>\n"
      ],
      "text/plain": [
       "EarlyStopping counter: 5 out of 20\n"
      ]
     },
     "metadata": {},
     "output_type": "display_data"
    },
    {
     "data": {
      "text/html": [
       "<pre style=\"white-space:pre;overflow-x:auto;line-height:normal;font-family:Menlo,'DejaVu Sans Mono',consolas,'Courier New',monospace\">Epoch 0221|Val loss 9.714872e-02|Train loss 1.089782e-01|LR 0.00013|\n",
       "</pre>\n"
      ],
      "text/plain": [
       "Epoch 0221|Val loss 9.714872e-02|Train loss 1.089782e-01|LR 0.00013|\n"
      ]
     },
     "metadata": {},
     "output_type": "display_data"
    },
    {
     "data": {
      "text/html": [
       "<pre style=\"white-space:pre;overflow-x:auto;line-height:normal;font-family:Menlo,'DejaVu Sans Mono',consolas,'Courier New',monospace\">Epoch 0222|Val loss 9.840575e-02|Train loss 1.095159e-01|LR 0.00013|\n",
       "</pre>\n"
      ],
      "text/plain": [
       "Epoch 0222|Val loss 9.840575e-02|Train loss 1.095159e-01|LR 0.00013|\n"
      ]
     },
     "metadata": {},
     "output_type": "display_data"
    },
    {
     "data": {
      "text/html": [
       "<pre style=\"white-space:pre;overflow-x:auto;line-height:normal;font-family:Menlo,'DejaVu Sans Mono',consolas,'Courier New',monospace\">Epoch 0223|Val loss 9.601925e-02|Train loss 1.090184e-01|LR 0.00013|\n",
       "</pre>\n"
      ],
      "text/plain": [
       "Epoch 0223|Val loss 9.601925e-02|Train loss 1.090184e-01|LR 0.00013|\n"
      ]
     },
     "metadata": {},
     "output_type": "display_data"
    },
    {
     "data": {
      "text/html": [
       "<pre style=\"white-space:pre;overflow-x:auto;line-height:normal;font-family:Menlo,'DejaVu Sans Mono',consolas,'Courier New',monospace\">Epoch 0224|Val loss 9.834716e-02|Train loss 1.085134e-01|LR 0.00013|\n",
       "</pre>\n"
      ],
      "text/plain": [
       "Epoch 0224|Val loss 9.834716e-02|Train loss 1.085134e-01|LR 0.00013|\n"
      ]
     },
     "metadata": {},
     "output_type": "display_data"
    },
    {
     "data": {
      "text/html": [
       "<pre style=\"white-space:pre;overflow-x:auto;line-height:normal;font-family:Menlo,'DejaVu Sans Mono',consolas,'Courier New',monospace\">Epoch 0225|Val loss 1.021871e-01|Train loss 1.066443e-01|LR 0.00013|\n",
       "</pre>\n"
      ],
      "text/plain": [
       "Epoch 0225|Val loss 1.021871e-01|Train loss 1.066443e-01|LR 0.00013|\n"
      ]
     },
     "metadata": {},
     "output_type": "display_data"
    },
    {
     "data": {
      "text/html": [
       "<pre style=\"white-space:pre;overflow-x:auto;line-height:normal;font-family:Menlo,'DejaVu Sans Mono',consolas,'Courier New',monospace\">Epoch 0226|Val loss 1.008960e-01|Train loss 1.074349e-01|LR 0.00013|\n",
       "</pre>\n"
      ],
      "text/plain": [
       "Epoch 0226|Val loss 1.008960e-01|Train loss 1.074349e-01|LR 0.00013|\n"
      ]
     },
     "metadata": {},
     "output_type": "display_data"
    },
    {
     "data": {
      "text/html": [
       "<pre style=\"white-space:pre;overflow-x:auto;line-height:normal;font-family:Menlo,'DejaVu Sans Mono',consolas,'Courier New',monospace\">Epoch 0227|Val loss 9.967034e-02|Train loss 1.071812e-01|LR 0.00013|\n",
       "</pre>\n"
      ],
      "text/plain": [
       "Epoch 0227|Val loss 9.967034e-02|Train loss 1.071812e-01|LR 0.00013|\n"
      ]
     },
     "metadata": {},
     "output_type": "display_data"
    },
    {
     "data": {
      "text/html": [
       "<pre style=\"white-space:pre;overflow-x:auto;line-height:normal;font-family:Menlo,'DejaVu Sans Mono',consolas,'Courier New',monospace\">Epoch 0228|Val loss 1.042974e-01|Train loss 1.078220e-01|LR 0.00013|\n",
       "</pre>\n"
      ],
      "text/plain": [
       "Epoch 0228|Val loss 1.042974e-01|Train loss 1.078220e-01|LR 0.00013|\n"
      ]
     },
     "metadata": {},
     "output_type": "display_data"
    },
    {
     "data": {
      "text/html": [
       "<pre style=\"white-space:pre;overflow-x:auto;line-height:normal;font-family:Menlo,'DejaVu Sans Mono',consolas,'Courier New',monospace\">Epoch 0229|Val loss 9.342427e-02|Train loss 1.080236e-01|LR 0.00013|\n",
       "</pre>\n"
      ],
      "text/plain": [
       "Epoch 0229|Val loss 9.342427e-02|Train loss 1.080236e-01|LR 0.00013|\n"
      ]
     },
     "metadata": {},
     "output_type": "display_data"
    },
    {
     "data": {
      "text/html": [
       "<pre style=\"white-space:pre;overflow-x:auto;line-height:normal;font-family:Menlo,'DejaVu Sans Mono',consolas,'Courier New',monospace\">Epoch 0230|Val loss 1.007035e-01|Train loss 1.075330e-01|LR 0.00013|\n",
       "</pre>\n"
      ],
      "text/plain": [
       "Epoch 0230|Val loss 1.007035e-01|Train loss 1.075330e-01|LR 0.00013|\n"
      ]
     },
     "metadata": {},
     "output_type": "display_data"
    },
    {
     "data": {
      "text/html": [
       "<pre style=\"white-space:pre;overflow-x:auto;line-height:normal;font-family:Menlo,'DejaVu Sans Mono',consolas,'Courier New',monospace\">EarlyStopping counter: 6 out of 20\n",
       "</pre>\n"
      ],
      "text/plain": [
       "EarlyStopping counter: 6 out of 20\n"
      ]
     },
     "metadata": {},
     "output_type": "display_data"
    },
    {
     "data": {
      "text/html": [
       "<pre style=\"white-space:pre;overflow-x:auto;line-height:normal;font-family:Menlo,'DejaVu Sans Mono',consolas,'Courier New',monospace\">Epoch 0231|Val loss 1.004017e-01|Train loss 1.071992e-01|LR 0.00013|\n",
       "</pre>\n"
      ],
      "text/plain": [
       "Epoch 0231|Val loss 1.004017e-01|Train loss 1.071992e-01|LR 0.00013|\n"
      ]
     },
     "metadata": {},
     "output_type": "display_data"
    },
    {
     "data": {
      "text/html": [
       "<pre style=\"white-space:pre;overflow-x:auto;line-height:normal;font-family:Menlo,'DejaVu Sans Mono',consolas,'Courier New',monospace\">Epoch 0232|Val loss 9.968188e-02|Train loss 1.074221e-01|LR 0.00013|\n",
       "</pre>\n"
      ],
      "text/plain": [
       "Epoch 0232|Val loss 9.968188e-02|Train loss 1.074221e-01|LR 0.00013|\n"
      ]
     },
     "metadata": {},
     "output_type": "display_data"
    },
    {
     "data": {
      "text/html": [
       "<pre style=\"white-space:pre;overflow-x:auto;line-height:normal;font-family:Menlo,'DejaVu Sans Mono',consolas,'Courier New',monospace\">Epoch 0233|Val loss 9.785032e-02|Train loss 1.081829e-01|LR 0.00013|\n",
       "</pre>\n"
      ],
      "text/plain": [
       "Epoch 0233|Val loss 9.785032e-02|Train loss 1.081829e-01|LR 0.00013|\n"
      ]
     },
     "metadata": {},
     "output_type": "display_data"
    },
    {
     "data": {
      "text/html": [
       "<pre style=\"white-space:pre;overflow-x:auto;line-height:normal;font-family:Menlo,'DejaVu Sans Mono',consolas,'Courier New',monospace\">Epoch 0234|Val loss 9.721777e-02|Train loss 1.080498e-01|LR 0.00013|\n",
       "</pre>\n"
      ],
      "text/plain": [
       "Epoch 0234|Val loss 9.721777e-02|Train loss 1.080498e-01|LR 0.00013|\n"
      ]
     },
     "metadata": {},
     "output_type": "display_data"
    },
    {
     "data": {
      "text/html": [
       "<pre style=\"white-space:pre;overflow-x:auto;line-height:normal;font-family:Menlo,'DejaVu Sans Mono',consolas,'Courier New',monospace\">Epoch 0235|Val loss 9.840865e-02|Train loss 1.087219e-01|LR 0.00013|\n",
       "</pre>\n"
      ],
      "text/plain": [
       "Epoch 0235|Val loss 9.840865e-02|Train loss 1.087219e-01|LR 0.00013|\n"
      ]
     },
     "metadata": {},
     "output_type": "display_data"
    },
    {
     "data": {
      "text/html": [
       "<pre style=\"white-space:pre;overflow-x:auto;line-height:normal;font-family:Menlo,'DejaVu Sans Mono',consolas,'Courier New',monospace\">Epoch 0236|Val loss 9.850737e-02|Train loss 1.081480e-01|LR 0.00013|\n",
       "</pre>\n"
      ],
      "text/plain": [
       "Epoch 0236|Val loss 9.850737e-02|Train loss 1.081480e-01|LR 0.00013|\n"
      ]
     },
     "metadata": {},
     "output_type": "display_data"
    },
    {
     "data": {
      "text/html": [
       "<pre style=\"white-space:pre;overflow-x:auto;line-height:normal;font-family:Menlo,'DejaVu Sans Mono',consolas,'Courier New',monospace\">Epoch 0237|Val loss 9.546092e-02|Train loss 1.078411e-01|LR 0.00013|\n",
       "</pre>\n"
      ],
      "text/plain": [
       "Epoch 0237|Val loss 9.546092e-02|Train loss 1.078411e-01|LR 0.00013|\n"
      ]
     },
     "metadata": {},
     "output_type": "display_data"
    },
    {
     "data": {
      "text/html": [
       "<pre style=\"white-space:pre;overflow-x:auto;line-height:normal;font-family:Menlo,'DejaVu Sans Mono',consolas,'Courier New',monospace\">Epoch 0238|Val loss 1.015457e-01|Train loss 1.077430e-01|LR 0.00013|\n",
       "</pre>\n"
      ],
      "text/plain": [
       "Epoch 0238|Val loss 1.015457e-01|Train loss 1.077430e-01|LR 0.00013|\n"
      ]
     },
     "metadata": {},
     "output_type": "display_data"
    },
    {
     "data": {
      "text/html": [
       "<pre style=\"white-space:pre;overflow-x:auto;line-height:normal;font-family:Menlo,'DejaVu Sans Mono',consolas,'Courier New',monospace\">Epoch 0239|Val loss 9.599351e-02|Train loss 1.082587e-01|LR 0.00013|\n",
       "</pre>\n"
      ],
      "text/plain": [
       "Epoch 0239|Val loss 9.599351e-02|Train loss 1.082587e-01|LR 0.00013|\n"
      ]
     },
     "metadata": {},
     "output_type": "display_data"
    },
    {
     "data": {
      "text/html": [
       "<pre style=\"white-space:pre;overflow-x:auto;line-height:normal;font-family:Menlo,'DejaVu Sans Mono',consolas,'Courier New',monospace\">Epoch 0240|Val loss 1.008350e-01|Train loss 1.082946e-01|LR 0.00013|\n",
       "</pre>\n"
      ],
      "text/plain": [
       "Epoch 0240|Val loss 1.008350e-01|Train loss 1.082946e-01|LR 0.00013|\n"
      ]
     },
     "metadata": {},
     "output_type": "display_data"
    },
    {
     "data": {
      "text/html": [
       "<pre style=\"white-space:pre;overflow-x:auto;line-height:normal;font-family:Menlo,'DejaVu Sans Mono',consolas,'Courier New',monospace\">EarlyStopping counter: 7 out of 20\n",
       "</pre>\n"
      ],
      "text/plain": [
       "EarlyStopping counter: 7 out of 20\n"
      ]
     },
     "metadata": {},
     "output_type": "display_data"
    },
    {
     "data": {
      "text/html": [
       "<pre style=\"white-space:pre;overflow-x:auto;line-height:normal;font-family:Menlo,'DejaVu Sans Mono',consolas,'Courier New',monospace\">Epoch 0241|Val loss 9.585553e-02|Train loss 1.095420e-01|LR 0.00013|\n",
       "</pre>\n"
      ],
      "text/plain": [
       "Epoch 0241|Val loss 9.585553e-02|Train loss 1.095420e-01|LR 0.00013|\n"
      ]
     },
     "metadata": {},
     "output_type": "display_data"
    },
    {
     "data": {
      "text/html": [
       "<pre style=\"white-space:pre;overflow-x:auto;line-height:normal;font-family:Menlo,'DejaVu Sans Mono',consolas,'Courier New',monospace\">Epoch 0242|Val loss 1.033259e-01|Train loss 1.086619e-01|LR 0.00013|\n",
       "</pre>\n"
      ],
      "text/plain": [
       "Epoch 0242|Val loss 1.033259e-01|Train loss 1.086619e-01|LR 0.00013|\n"
      ]
     },
     "metadata": {},
     "output_type": "display_data"
    },
    {
     "data": {
      "text/html": [
       "<pre style=\"white-space:pre;overflow-x:auto;line-height:normal;font-family:Menlo,'DejaVu Sans Mono',consolas,'Courier New',monospace\">Epoch 0243|Val loss 9.603925e-02|Train loss 1.072831e-01|LR 0.00013|\n",
       "</pre>\n"
      ],
      "text/plain": [
       "Epoch 0243|Val loss 9.603925e-02|Train loss 1.072831e-01|LR 0.00013|\n"
      ]
     },
     "metadata": {},
     "output_type": "display_data"
    },
    {
     "data": {
      "text/html": [
       "<pre style=\"white-space:pre;overflow-x:auto;line-height:normal;font-family:Menlo,'DejaVu Sans Mono',consolas,'Courier New',monospace\">Epoch 0244|Val loss 1.026526e-01|Train loss 1.059358e-01|LR 0.00013|\n",
       "</pre>\n"
      ],
      "text/plain": [
       "Epoch 0244|Val loss 1.026526e-01|Train loss 1.059358e-01|LR 0.00013|\n"
      ]
     },
     "metadata": {},
     "output_type": "display_data"
    },
    {
     "data": {
      "text/html": [
       "<pre style=\"white-space:pre;overflow-x:auto;line-height:normal;font-family:Menlo,'DejaVu Sans Mono',consolas,'Courier New',monospace\">Epoch 0245|Val loss 1.004079e-01|Train loss 1.058049e-01|LR 0.00008|\n",
       "</pre>\n"
      ],
      "text/plain": [
       "Epoch 0245|Val loss 1.004079e-01|Train loss 1.058049e-01|LR 0.00008|\n"
      ]
     },
     "metadata": {},
     "output_type": "display_data"
    },
    {
     "data": {
      "text/html": [
       "<pre style=\"white-space:pre;overflow-x:auto;line-height:normal;font-family:Menlo,'DejaVu Sans Mono',consolas,'Courier New',monospace\">Epoch 0246|Val loss 9.642818e-02|Train loss 1.083254e-01|LR 0.00008|\n",
       "</pre>\n"
      ],
      "text/plain": [
       "Epoch 0246|Val loss 9.642818e-02|Train loss 1.083254e-01|LR 0.00008|\n"
      ]
     },
     "metadata": {},
     "output_type": "display_data"
    },
    {
     "data": {
      "text/html": [
       "<pre style=\"white-space:pre;overflow-x:auto;line-height:normal;font-family:Menlo,'DejaVu Sans Mono',consolas,'Courier New',monospace\">Epoch 0247|Val loss 9.913909e-02|Train loss 1.081327e-01|LR 0.00008|\n",
       "</pre>\n"
      ],
      "text/plain": [
       "Epoch 0247|Val loss 9.913909e-02|Train loss 1.081327e-01|LR 0.00008|\n"
      ]
     },
     "metadata": {},
     "output_type": "display_data"
    },
    {
     "data": {
      "text/html": [
       "<pre style=\"white-space:pre;overflow-x:auto;line-height:normal;font-family:Menlo,'DejaVu Sans Mono',consolas,'Courier New',monospace\">Epoch 0248|Val loss 1.005788e-01|Train loss 1.081964e-01|LR 0.00008|\n",
       "</pre>\n"
      ],
      "text/plain": [
       "Epoch 0248|Val loss 1.005788e-01|Train loss 1.081964e-01|LR 0.00008|\n"
      ]
     },
     "metadata": {},
     "output_type": "display_data"
    },
    {
     "data": {
      "text/html": [
       "<pre style=\"white-space:pre;overflow-x:auto;line-height:normal;font-family:Menlo,'DejaVu Sans Mono',consolas,'Courier New',monospace\">Epoch 0249|Val loss 9.913895e-02|Train loss 1.066391e-01|LR 0.00008|\n",
       "</pre>\n"
      ],
      "text/plain": [
       "Epoch 0249|Val loss 9.913895e-02|Train loss 1.066391e-01|LR 0.00008|\n"
      ]
     },
     "metadata": {},
     "output_type": "display_data"
    },
    {
     "data": {
      "text/html": [
       "<pre style=\"white-space:pre;overflow-x:auto;line-height:normal;font-family:Menlo,'DejaVu Sans Mono',consolas,'Courier New',monospace\">Epoch 0250|Val loss 9.928769e-02|Train loss 1.073117e-01|LR 0.00008|\n",
       "</pre>\n"
      ],
      "text/plain": [
       "Epoch 0250|Val loss 9.928769e-02|Train loss 1.073117e-01|LR 0.00008|\n"
      ]
     },
     "metadata": {},
     "output_type": "display_data"
    },
    {
     "data": {
      "text/html": [
       "<pre style=\"white-space:pre;overflow-x:auto;line-height:normal;font-family:Menlo,'DejaVu Sans Mono',consolas,'Courier New',monospace\">EarlyStopping counter: 8 out of 20\n",
       "</pre>\n"
      ],
      "text/plain": [
       "EarlyStopping counter: 8 out of 20\n"
      ]
     },
     "metadata": {},
     "output_type": "display_data"
    },
    {
     "data": {
      "text/html": [
       "<pre style=\"white-space:pre;overflow-x:auto;line-height:normal;font-family:Menlo,'DejaVu Sans Mono',consolas,'Courier New',monospace\">Epoch 0251|Val loss 9.860792e-02|Train loss 1.058218e-01|LR 0.00008|\n",
       "</pre>\n"
      ],
      "text/plain": [
       "Epoch 0251|Val loss 9.860792e-02|Train loss 1.058218e-01|LR 0.00008|\n"
      ]
     },
     "metadata": {},
     "output_type": "display_data"
    },
    {
     "data": {
      "text/html": [
       "<pre style=\"white-space:pre;overflow-x:auto;line-height:normal;font-family:Menlo,'DejaVu Sans Mono',consolas,'Courier New',monospace\">Epoch 0252|Val loss 1.010296e-01|Train loss 1.063615e-01|LR 0.00008|\n",
       "</pre>\n"
      ],
      "text/plain": [
       "Epoch 0252|Val loss 1.010296e-01|Train loss 1.063615e-01|LR 0.00008|\n"
      ]
     },
     "metadata": {},
     "output_type": "display_data"
    },
    {
     "data": {
      "text/html": [
       "<pre style=\"white-space:pre;overflow-x:auto;line-height:normal;font-family:Menlo,'DejaVu Sans Mono',consolas,'Courier New',monospace\">Epoch 0253|Val loss 1.002549e-01|Train loss 1.068949e-01|LR 0.00008|\n",
       "</pre>\n"
      ],
      "text/plain": [
       "Epoch 0253|Val loss 1.002549e-01|Train loss 1.068949e-01|LR 0.00008|\n"
      ]
     },
     "metadata": {},
     "output_type": "display_data"
    },
    {
     "data": {
      "text/html": [
       "<pre style=\"white-space:pre;overflow-x:auto;line-height:normal;font-family:Menlo,'DejaVu Sans Mono',consolas,'Courier New',monospace\">Epoch 0254|Val loss 9.660969e-02|Train loss 1.070300e-01|LR 0.00008|\n",
       "</pre>\n"
      ],
      "text/plain": [
       "Epoch 0254|Val loss 9.660969e-02|Train loss 1.070300e-01|LR 0.00008|\n"
      ]
     },
     "metadata": {},
     "output_type": "display_data"
    },
    {
     "data": {
      "text/html": [
       "<pre style=\"white-space:pre;overflow-x:auto;line-height:normal;font-family:Menlo,'DejaVu Sans Mono',consolas,'Courier New',monospace\">Epoch 0255|Val loss 9.848535e-02|Train loss 1.065702e-01|LR 0.00008|\n",
       "</pre>\n"
      ],
      "text/plain": [
       "Epoch 0255|Val loss 9.848535e-02|Train loss 1.065702e-01|LR 0.00008|\n"
      ]
     },
     "metadata": {},
     "output_type": "display_data"
    },
    {
     "data": {
      "text/html": [
       "<pre style=\"white-space:pre;overflow-x:auto;line-height:normal;font-family:Menlo,'DejaVu Sans Mono',consolas,'Courier New',monospace\">Epoch 0256|Val loss 9.732926e-02|Train loss 1.064949e-01|LR 0.00008|\n",
       "</pre>\n"
      ],
      "text/plain": [
       "Epoch 0256|Val loss 9.732926e-02|Train loss 1.064949e-01|LR 0.00008|\n"
      ]
     },
     "metadata": {},
     "output_type": "display_data"
    },
    {
     "data": {
      "text/html": [
       "<pre style=\"white-space:pre;overflow-x:auto;line-height:normal;font-family:Menlo,'DejaVu Sans Mono',consolas,'Courier New',monospace\">Epoch 0257|Val loss 9.981929e-02|Train loss 1.069876e-01|LR 0.00008|\n",
       "</pre>\n"
      ],
      "text/plain": [
       "Epoch 0257|Val loss 9.981929e-02|Train loss 1.069876e-01|LR 0.00008|\n"
      ]
     },
     "metadata": {},
     "output_type": "display_data"
    },
    {
     "data": {
      "text/html": [
       "<pre style=\"white-space:pre;overflow-x:auto;line-height:normal;font-family:Menlo,'DejaVu Sans Mono',consolas,'Courier New',monospace\">Epoch 0258|Val loss 9.685683e-02|Train loss 1.062761e-01|LR 0.00008|\n",
       "</pre>\n"
      ],
      "text/plain": [
       "Epoch 0258|Val loss 9.685683e-02|Train loss 1.062761e-01|LR 0.00008|\n"
      ]
     },
     "metadata": {},
     "output_type": "display_data"
    },
    {
     "data": {
      "text/html": [
       "<pre style=\"white-space:pre;overflow-x:auto;line-height:normal;font-family:Menlo,'DejaVu Sans Mono',consolas,'Courier New',monospace\">Epoch 0259|Val loss 9.931215e-02|Train loss 1.077258e-01|LR 0.00008|\n",
       "</pre>\n"
      ],
      "text/plain": [
       "Epoch 0259|Val loss 9.931215e-02|Train loss 1.077258e-01|LR 0.00008|\n"
      ]
     },
     "metadata": {},
     "output_type": "display_data"
    },
    {
     "data": {
      "text/html": [
       "<pre style=\"white-space:pre;overflow-x:auto;line-height:normal;font-family:Menlo,'DejaVu Sans Mono',consolas,'Courier New',monospace\">Epoch 0260|Val loss 9.884831e-02|Train loss 1.066305e-01|LR 0.00008|\n",
       "</pre>\n"
      ],
      "text/plain": [
       "Epoch 0260|Val loss 9.884831e-02|Train loss 1.066305e-01|LR 0.00008|\n"
      ]
     },
     "metadata": {},
     "output_type": "display_data"
    },
    {
     "data": {
      "text/html": [
       "<pre style=\"white-space:pre;overflow-x:auto;line-height:normal;font-family:Menlo,'DejaVu Sans Mono',consolas,'Courier New',monospace\">EarlyStopping counter: 9 out of 20\n",
       "</pre>\n"
      ],
      "text/plain": [
       "EarlyStopping counter: 9 out of 20\n"
      ]
     },
     "metadata": {},
     "output_type": "display_data"
    },
    {
     "data": {
      "text/html": [
       "<pre style=\"white-space:pre;overflow-x:auto;line-height:normal;font-family:Menlo,'DejaVu Sans Mono',consolas,'Courier New',monospace\">Epoch 0261|Val loss 1.000896e-01|Train loss 1.064611e-01|LR 0.00008|\n",
       "</pre>\n"
      ],
      "text/plain": [
       "Epoch 0261|Val loss 1.000896e-01|Train loss 1.064611e-01|LR 0.00008|\n"
      ]
     },
     "metadata": {},
     "output_type": "display_data"
    },
    {
     "data": {
      "text/html": [
       "<pre style=\"white-space:pre;overflow-x:auto;line-height:normal;font-family:Menlo,'DejaVu Sans Mono',consolas,'Courier New',monospace\">Epoch 0262|Val loss 9.798701e-02|Train loss 1.077656e-01|LR 0.00008|\n",
       "</pre>\n"
      ],
      "text/plain": [
       "Epoch 0262|Val loss 9.798701e-02|Train loss 1.077656e-01|LR 0.00008|\n"
      ]
     },
     "metadata": {},
     "output_type": "display_data"
    },
    {
     "data": {
      "text/html": [
       "<pre style=\"white-space:pre;overflow-x:auto;line-height:normal;font-family:Menlo,'DejaVu Sans Mono',consolas,'Courier New',monospace\">Epoch 0263|Val loss 1.016900e-01|Train loss 1.067208e-01|LR 0.00008|\n",
       "</pre>\n"
      ],
      "text/plain": [
       "Epoch 0263|Val loss 1.016900e-01|Train loss 1.067208e-01|LR 0.00008|\n"
      ]
     },
     "metadata": {},
     "output_type": "display_data"
    },
    {
     "data": {
      "text/html": [
       "<pre style=\"white-space:pre;overflow-x:auto;line-height:normal;font-family:Menlo,'DejaVu Sans Mono',consolas,'Courier New',monospace\">Epoch 0264|Val loss 9.983340e-02|Train loss 1.077828e-01|LR 0.00008|\n",
       "</pre>\n"
      ],
      "text/plain": [
       "Epoch 0264|Val loss 9.983340e-02|Train loss 1.077828e-01|LR 0.00008|\n"
      ]
     },
     "metadata": {},
     "output_type": "display_data"
    },
    {
     "data": {
      "text/html": [
       "<pre style=\"white-space:pre;overflow-x:auto;line-height:normal;font-family:Menlo,'DejaVu Sans Mono',consolas,'Courier New',monospace\">Epoch 0265|Val loss 1.019378e-01|Train loss 1.070912e-01|LR 0.00008|\n",
       "</pre>\n"
      ],
      "text/plain": [
       "Epoch 0265|Val loss 1.019378e-01|Train loss 1.070912e-01|LR 0.00008|\n"
      ]
     },
     "metadata": {},
     "output_type": "display_data"
    },
    {
     "data": {
      "text/html": [
       "<pre style=\"white-space:pre;overflow-x:auto;line-height:normal;font-family:Menlo,'DejaVu Sans Mono',consolas,'Courier New',monospace\">Epoch 0266|Val loss 1.002832e-01|Train loss 1.073521e-01|LR 0.00008|\n",
       "</pre>\n"
      ],
      "text/plain": [
       "Epoch 0266|Val loss 1.002832e-01|Train loss 1.073521e-01|LR 0.00008|\n"
      ]
     },
     "metadata": {},
     "output_type": "display_data"
    },
    {
     "data": {
      "text/html": [
       "<pre style=\"white-space:pre;overflow-x:auto;line-height:normal;font-family:Menlo,'DejaVu Sans Mono',consolas,'Courier New',monospace\">Epoch 0267|Val loss 9.849436e-02|Train loss 1.061833e-01|LR 0.00008|\n",
       "</pre>\n"
      ],
      "text/plain": [
       "Epoch 0267|Val loss 9.849436e-02|Train loss 1.061833e-01|LR 0.00008|\n"
      ]
     },
     "metadata": {},
     "output_type": "display_data"
    },
    {
     "data": {
      "text/html": [
       "<pre style=\"white-space:pre;overflow-x:auto;line-height:normal;font-family:Menlo,'DejaVu Sans Mono',consolas,'Courier New',monospace\">Epoch 0268|Val loss 9.766414e-02|Train loss 1.067057e-01|LR 0.00008|\n",
       "</pre>\n"
      ],
      "text/plain": [
       "Epoch 0268|Val loss 9.766414e-02|Train loss 1.067057e-01|LR 0.00008|\n"
      ]
     },
     "metadata": {},
     "output_type": "display_data"
    },
    {
     "data": {
      "text/html": [
       "<pre style=\"white-space:pre;overflow-x:auto;line-height:normal;font-family:Menlo,'DejaVu Sans Mono',consolas,'Courier New',monospace\">Epoch 0269|Val loss 9.892336e-02|Train loss 1.053865e-01|LR 0.00008|\n",
       "</pre>\n"
      ],
      "text/plain": [
       "Epoch 0269|Val loss 9.892336e-02|Train loss 1.053865e-01|LR 0.00008|\n"
      ]
     },
     "metadata": {},
     "output_type": "display_data"
    },
    {
     "data": {
      "text/html": [
       "<pre style=\"white-space:pre;overflow-x:auto;line-height:normal;font-family:Menlo,'DejaVu Sans Mono',consolas,'Courier New',monospace\">Epoch 0270|Val loss 1.010411e-01|Train loss 1.065813e-01|LR 0.00008|\n",
       "</pre>\n"
      ],
      "text/plain": [
       "Epoch 0270|Val loss 1.010411e-01|Train loss 1.065813e-01|LR 0.00008|\n"
      ]
     },
     "metadata": {},
     "output_type": "display_data"
    },
    {
     "data": {
      "text/html": [
       "<pre style=\"white-space:pre;overflow-x:auto;line-height:normal;font-family:Menlo,'DejaVu Sans Mono',consolas,'Courier New',monospace\">EarlyStopping counter: 10 out of 20\n",
       "</pre>\n"
      ],
      "text/plain": [
       "EarlyStopping counter: 10 out of 20\n"
      ]
     },
     "metadata": {},
     "output_type": "display_data"
    },
    {
     "data": {
      "text/html": [
       "<pre style=\"white-space:pre;overflow-x:auto;line-height:normal;font-family:Menlo,'DejaVu Sans Mono',consolas,'Courier New',monospace\">Epoch 0271|Val loss 9.946058e-02|Train loss 1.058187e-01|LR 0.00008|\n",
       "</pre>\n"
      ],
      "text/plain": [
       "Epoch 0271|Val loss 9.946058e-02|Train loss 1.058187e-01|LR 0.00008|\n"
      ]
     },
     "metadata": {},
     "output_type": "display_data"
    },
    {
     "data": {
      "text/html": [
       "<pre style=\"white-space:pre;overflow-x:auto;line-height:normal;font-family:Menlo,'DejaVu Sans Mono',consolas,'Courier New',monospace\">Epoch 0272|Val loss 9.861118e-02|Train loss 1.071600e-01|LR 0.00008|\n",
       "</pre>\n"
      ],
      "text/plain": [
       "Epoch 0272|Val loss 9.861118e-02|Train loss 1.071600e-01|LR 0.00008|\n"
      ]
     },
     "metadata": {},
     "output_type": "display_data"
    },
    {
     "data": {
      "text/html": [
       "<pre style=\"white-space:pre;overflow-x:auto;line-height:normal;font-family:Menlo,'DejaVu Sans Mono',consolas,'Courier New',monospace\">Epoch 0273|Val loss 9.896636e-02|Train loss 1.065176e-01|LR 0.00008|\n",
       "</pre>\n"
      ],
      "text/plain": [
       "Epoch 0273|Val loss 9.896636e-02|Train loss 1.065176e-01|LR 0.00008|\n"
      ]
     },
     "metadata": {},
     "output_type": "display_data"
    },
    {
     "data": {
      "text/html": [
       "<pre style=\"white-space:pre;overflow-x:auto;line-height:normal;font-family:Menlo,'DejaVu Sans Mono',consolas,'Courier New',monospace\">Epoch 0274|Val loss 1.003220e-01|Train loss 1.069404e-01|LR 0.00008|\n",
       "</pre>\n"
      ],
      "text/plain": [
       "Epoch 0274|Val loss 1.003220e-01|Train loss 1.069404e-01|LR 0.00008|\n"
      ]
     },
     "metadata": {},
     "output_type": "display_data"
    },
    {
     "data": {
      "text/html": [
       "<pre style=\"white-space:pre;overflow-x:auto;line-height:normal;font-family:Menlo,'DejaVu Sans Mono',consolas,'Courier New',monospace\">Epoch 0275|Val loss 9.896460e-02|Train loss 1.071627e-01|LR 0.00008|\n",
       "</pre>\n"
      ],
      "text/plain": [
       "Epoch 0275|Val loss 9.896460e-02|Train loss 1.071627e-01|LR 0.00008|\n"
      ]
     },
     "metadata": {},
     "output_type": "display_data"
    },
    {
     "data": {
      "text/html": [
       "<pre style=\"white-space:pre;overflow-x:auto;line-height:normal;font-family:Menlo,'DejaVu Sans Mono',consolas,'Courier New',monospace\">Epoch 0276|Val loss 9.967950e-02|Train loss 1.073710e-01|LR 0.00008|\n",
       "</pre>\n"
      ],
      "text/plain": [
       "Epoch 0276|Val loss 9.967950e-02|Train loss 1.073710e-01|LR 0.00008|\n"
      ]
     },
     "metadata": {},
     "output_type": "display_data"
    },
    {
     "data": {
      "text/html": [
       "<pre style=\"white-space:pre;overflow-x:auto;line-height:normal;font-family:Menlo,'DejaVu Sans Mono',consolas,'Courier New',monospace\">Epoch 0277|Val loss 9.867960e-02|Train loss 1.070334e-01|LR 0.00008|\n",
       "</pre>\n"
      ],
      "text/plain": [
       "Epoch 0277|Val loss 9.867960e-02|Train loss 1.070334e-01|LR 0.00008|\n"
      ]
     },
     "metadata": {},
     "output_type": "display_data"
    },
    {
     "data": {
      "text/html": [
       "<pre style=\"white-space:pre;overflow-x:auto;line-height:normal;font-family:Menlo,'DejaVu Sans Mono',consolas,'Courier New',monospace\">Epoch 0278|Val loss 9.910608e-02|Train loss 1.059402e-01|LR 0.00008|\n",
       "</pre>\n"
      ],
      "text/plain": [
       "Epoch 0278|Val loss 9.910608e-02|Train loss 1.059402e-01|LR 0.00008|\n"
      ]
     },
     "metadata": {},
     "output_type": "display_data"
    },
    {
     "data": {
      "text/html": [
       "<pre style=\"white-space:pre;overflow-x:auto;line-height:normal;font-family:Menlo,'DejaVu Sans Mono',consolas,'Courier New',monospace\">Epoch 0279|Val loss 1.002214e-01|Train loss 1.058787e-01|LR 0.00008|\n",
       "</pre>\n"
      ],
      "text/plain": [
       "Epoch 0279|Val loss 1.002214e-01|Train loss 1.058787e-01|LR 0.00008|\n"
      ]
     },
     "metadata": {},
     "output_type": "display_data"
    },
    {
     "data": {
      "text/html": [
       "<pre style=\"white-space:pre;overflow-x:auto;line-height:normal;font-family:Menlo,'DejaVu Sans Mono',consolas,'Courier New',monospace\">Epoch 0280|Val loss 9.843484e-02|Train loss 1.047114e-01|LR 0.00008|\n",
       "</pre>\n"
      ],
      "text/plain": [
       "Epoch 0280|Val loss 9.843484e-02|Train loss 1.047114e-01|LR 0.00008|\n"
      ]
     },
     "metadata": {},
     "output_type": "display_data"
    },
    {
     "data": {
      "text/html": [
       "<pre style=\"white-space:pre;overflow-x:auto;line-height:normal;font-family:Menlo,'DejaVu Sans Mono',consolas,'Courier New',monospace\">EarlyStopping counter: 11 out of 20\n",
       "</pre>\n"
      ],
      "text/plain": [
       "EarlyStopping counter: 11 out of 20\n"
      ]
     },
     "metadata": {},
     "output_type": "display_data"
    },
    {
     "data": {
      "text/html": [
       "<pre style=\"white-space:pre;overflow-x:auto;line-height:normal;font-family:Menlo,'DejaVu Sans Mono',consolas,'Courier New',monospace\">Epoch 0281|Val loss 9.978601e-02|Train loss 1.056880e-01|LR 0.00008|\n",
       "</pre>\n"
      ],
      "text/plain": [
       "Epoch 0281|Val loss 9.978601e-02|Train loss 1.056880e-01|LR 0.00008|\n"
      ]
     },
     "metadata": {},
     "output_type": "display_data"
    },
    {
     "data": {
      "text/html": [
       "<pre style=\"white-space:pre;overflow-x:auto;line-height:normal;font-family:Menlo,'DejaVu Sans Mono',consolas,'Courier New',monospace\">Epoch 0282|Val loss 1.015827e-01|Train loss 1.055563e-01|LR 0.00008|\n",
       "</pre>\n"
      ],
      "text/plain": [
       "Epoch 0282|Val loss 1.015827e-01|Train loss 1.055563e-01|LR 0.00008|\n"
      ]
     },
     "metadata": {},
     "output_type": "display_data"
    },
    {
     "data": {
      "text/html": [
       "<pre style=\"white-space:pre;overflow-x:auto;line-height:normal;font-family:Menlo,'DejaVu Sans Mono',consolas,'Courier New',monospace\">Epoch 0283|Val loss 1.013385e-01|Train loss 1.059127e-01|LR 0.00008|\n",
       "</pre>\n"
      ],
      "text/plain": [
       "Epoch 0283|Val loss 1.013385e-01|Train loss 1.059127e-01|LR 0.00008|\n"
      ]
     },
     "metadata": {},
     "output_type": "display_data"
    },
    {
     "data": {
      "text/html": [
       "<pre style=\"white-space:pre;overflow-x:auto;line-height:normal;font-family:Menlo,'DejaVu Sans Mono',consolas,'Courier New',monospace\">Epoch 0284|Val loss 1.013858e-01|Train loss 1.067483e-01|LR 0.00008|\n",
       "</pre>\n"
      ],
      "text/plain": [
       "Epoch 0284|Val loss 1.013858e-01|Train loss 1.067483e-01|LR 0.00008|\n"
      ]
     },
     "metadata": {},
     "output_type": "display_data"
    },
    {
     "data": {
      "text/html": [
       "<pre style=\"white-space:pre;overflow-x:auto;line-height:normal;font-family:Menlo,'DejaVu Sans Mono',consolas,'Courier New',monospace\">Epoch 0285|Val loss 9.824411e-02|Train loss 1.083477e-01|LR 0.00008|\n",
       "</pre>\n"
      ],
      "text/plain": [
       "Epoch 0285|Val loss 9.824411e-02|Train loss 1.083477e-01|LR 0.00008|\n"
      ]
     },
     "metadata": {},
     "output_type": "display_data"
    },
    {
     "data": {
      "text/html": [
       "<pre style=\"white-space:pre;overflow-x:auto;line-height:normal;font-family:Menlo,'DejaVu Sans Mono',consolas,'Courier New',monospace\">Epoch 0286|Val loss 1.007875e-01|Train loss 1.054969e-01|LR 0.00005|\n",
       "</pre>\n"
      ],
      "text/plain": [
       "Epoch 0286|Val loss 1.007875e-01|Train loss 1.054969e-01|LR 0.00005|\n"
      ]
     },
     "metadata": {},
     "output_type": "display_data"
    },
    {
     "data": {
      "text/html": [
       "<pre style=\"white-space:pre;overflow-x:auto;line-height:normal;font-family:Menlo,'DejaVu Sans Mono',consolas,'Courier New',monospace\">Epoch 0287|Val loss 9.779193e-02|Train loss 1.066463e-01|LR 0.00005|\n",
       "</pre>\n"
      ],
      "text/plain": [
       "Epoch 0287|Val loss 9.779193e-02|Train loss 1.066463e-01|LR 0.00005|\n"
      ]
     },
     "metadata": {},
     "output_type": "display_data"
    },
    {
     "data": {
      "text/html": [
       "<pre style=\"white-space:pre;overflow-x:auto;line-height:normal;font-family:Menlo,'DejaVu Sans Mono',consolas,'Courier New',monospace\">Epoch 0288|Val loss 9.817589e-02|Train loss 1.047871e-01|LR 0.00005|\n",
       "</pre>\n"
      ],
      "text/plain": [
       "Epoch 0288|Val loss 9.817589e-02|Train loss 1.047871e-01|LR 0.00005|\n"
      ]
     },
     "metadata": {},
     "output_type": "display_data"
    },
    {
     "data": {
      "text/html": [
       "<pre style=\"white-space:pre;overflow-x:auto;line-height:normal;font-family:Menlo,'DejaVu Sans Mono',consolas,'Courier New',monospace\">Epoch 0289|Val loss 9.998410e-02|Train loss 1.056539e-01|LR 0.00005|\n",
       "</pre>\n"
      ],
      "text/plain": [
       "Epoch 0289|Val loss 9.998410e-02|Train loss 1.056539e-01|LR 0.00005|\n"
      ]
     },
     "metadata": {},
     "output_type": "display_data"
    },
    {
     "data": {
      "text/html": [
       "<pre style=\"white-space:pre;overflow-x:auto;line-height:normal;font-family:Menlo,'DejaVu Sans Mono',consolas,'Courier New',monospace\">Epoch 0290|Val loss 9.967572e-02|Train loss 1.059967e-01|LR 0.00005|\n",
       "</pre>\n"
      ],
      "text/plain": [
       "Epoch 0290|Val loss 9.967572e-02|Train loss 1.059967e-01|LR 0.00005|\n"
      ]
     },
     "metadata": {},
     "output_type": "display_data"
    },
    {
     "data": {
      "text/html": [
       "<pre style=\"white-space:pre;overflow-x:auto;line-height:normal;font-family:Menlo,'DejaVu Sans Mono',consolas,'Courier New',monospace\">EarlyStopping counter: 12 out of 20\n",
       "</pre>\n"
      ],
      "text/plain": [
       "EarlyStopping counter: 12 out of 20\n"
      ]
     },
     "metadata": {},
     "output_type": "display_data"
    },
    {
     "data": {
      "text/html": [
       "<pre style=\"white-space:pre;overflow-x:auto;line-height:normal;font-family:Menlo,'DejaVu Sans Mono',consolas,'Courier New',monospace\">Epoch 0291|Val loss 9.982962e-02|Train loss 1.054070e-01|LR 0.00005|\n",
       "</pre>\n"
      ],
      "text/plain": [
       "Epoch 0291|Val loss 9.982962e-02|Train loss 1.054070e-01|LR 0.00005|\n"
      ]
     },
     "metadata": {},
     "output_type": "display_data"
    },
    {
     "data": {
      "text/html": [
       "<pre style=\"white-space:pre;overflow-x:auto;line-height:normal;font-family:Menlo,'DejaVu Sans Mono',consolas,'Courier New',monospace\">Epoch 0292|Val loss 1.006941e-01|Train loss 1.064963e-01|LR 0.00005|\n",
       "</pre>\n"
      ],
      "text/plain": [
       "Epoch 0292|Val loss 1.006941e-01|Train loss 1.064963e-01|LR 0.00005|\n"
      ]
     },
     "metadata": {},
     "output_type": "display_data"
    },
    {
     "data": {
      "text/html": [
       "<pre style=\"white-space:pre;overflow-x:auto;line-height:normal;font-family:Menlo,'DejaVu Sans Mono',consolas,'Courier New',monospace\">Epoch 0293|Val loss 1.021918e-01|Train loss 1.068334e-01|LR 0.00005|\n",
       "</pre>\n"
      ],
      "text/plain": [
       "Epoch 0293|Val loss 1.021918e-01|Train loss 1.068334e-01|LR 0.00005|\n"
      ]
     },
     "metadata": {},
     "output_type": "display_data"
    },
    {
     "data": {
      "text/html": [
       "<pre style=\"white-space:pre;overflow-x:auto;line-height:normal;font-family:Menlo,'DejaVu Sans Mono',consolas,'Courier New',monospace\">Epoch 0294|Val loss 1.042993e-01|Train loss 1.065245e-01|LR 0.00005|\n",
       "</pre>\n"
      ],
      "text/plain": [
       "Epoch 0294|Val loss 1.042993e-01|Train loss 1.065245e-01|LR 0.00005|\n"
      ]
     },
     "metadata": {},
     "output_type": "display_data"
    },
    {
     "data": {
      "text/html": [
       "<pre style=\"white-space:pre;overflow-x:auto;line-height:normal;font-family:Menlo,'DejaVu Sans Mono',consolas,'Courier New',monospace\">Epoch 0295|Val loss 9.955380e-02|Train loss 1.053606e-01|LR 0.00005|\n",
       "</pre>\n"
      ],
      "text/plain": [
       "Epoch 0295|Val loss 9.955380e-02|Train loss 1.053606e-01|LR 0.00005|\n"
      ]
     },
     "metadata": {},
     "output_type": "display_data"
    },
    {
     "data": {
      "text/html": [
       "<pre style=\"white-space:pre;overflow-x:auto;line-height:normal;font-family:Menlo,'DejaVu Sans Mono',consolas,'Courier New',monospace\">Epoch 0296|Val loss 9.932097e-02|Train loss 1.050916e-01|LR 0.00005|\n",
       "</pre>\n"
      ],
      "text/plain": [
       "Epoch 0296|Val loss 9.932097e-02|Train loss 1.050916e-01|LR 0.00005|\n"
      ]
     },
     "metadata": {},
     "output_type": "display_data"
    },
    {
     "data": {
      "text/html": [
       "<pre style=\"white-space:pre;overflow-x:auto;line-height:normal;font-family:Menlo,'DejaVu Sans Mono',consolas,'Courier New',monospace\">Epoch 0297|Val loss 9.910231e-02|Train loss 1.056814e-01|LR 0.00005|\n",
       "</pre>\n"
      ],
      "text/plain": [
       "Epoch 0297|Val loss 9.910231e-02|Train loss 1.056814e-01|LR 0.00005|\n"
      ]
     },
     "metadata": {},
     "output_type": "display_data"
    },
    {
     "data": {
      "text/html": [
       "<pre style=\"white-space:pre;overflow-x:auto;line-height:normal;font-family:Menlo,'DejaVu Sans Mono',consolas,'Courier New',monospace\">Epoch 0298|Val loss 9.830766e-02|Train loss 1.054846e-01|LR 0.00005|\n",
       "</pre>\n"
      ],
      "text/plain": [
       "Epoch 0298|Val loss 9.830766e-02|Train loss 1.054846e-01|LR 0.00005|\n"
      ]
     },
     "metadata": {},
     "output_type": "display_data"
    },
    {
     "data": {
      "text/html": [
       "<pre style=\"white-space:pre;overflow-x:auto;line-height:normal;font-family:Menlo,'DejaVu Sans Mono',consolas,'Courier New',monospace\">Epoch 0299|Val loss 9.943051e-02|Train loss 1.065501e-01|LR 0.00005|\n",
       "</pre>\n"
      ],
      "text/plain": [
       "Epoch 0299|Val loss 9.943051e-02|Train loss 1.065501e-01|LR 0.00005|\n"
      ]
     },
     "metadata": {},
     "output_type": "display_data"
    },
    {
     "data": {
      "text/html": [
       "<pre style=\"white-space:pre;overflow-x:auto;line-height:normal;font-family:Menlo,'DejaVu Sans Mono',consolas,'Courier New',monospace\">Epoch 0300|Val loss 9.945809e-02|Train loss 1.047378e-01|LR 0.00005|\n",
       "</pre>\n"
      ],
      "text/plain": [
       "Epoch 0300|Val loss 9.945809e-02|Train loss 1.047378e-01|LR 0.00005|\n"
      ]
     },
     "metadata": {},
     "output_type": "display_data"
    },
    {
     "data": {
      "text/html": [
       "<pre style=\"white-space:pre;overflow-x:auto;line-height:normal;font-family:Menlo,'DejaVu Sans Mono',consolas,'Courier New',monospace\">EarlyStopping counter: 13 out of 20\n",
       "</pre>\n"
      ],
      "text/plain": [
       "EarlyStopping counter: 13 out of 20\n"
      ]
     },
     "metadata": {},
     "output_type": "display_data"
    },
    {
     "data": {
      "text/html": [
       "<pre style=\"white-space:pre;overflow-x:auto;line-height:normal;font-family:Menlo,'DejaVu Sans Mono',consolas,'Courier New',monospace\">Epoch 0301|Val loss 9.973146e-02|Train loss 1.061440e-01|LR 0.00005|\n",
       "</pre>\n"
      ],
      "text/plain": [
       "Epoch 0301|Val loss 9.973146e-02|Train loss 1.061440e-01|LR 0.00005|\n"
      ]
     },
     "metadata": {},
     "output_type": "display_data"
    },
    {
     "data": {
      "text/html": [
       "<pre style=\"white-space:pre;overflow-x:auto;line-height:normal;font-family:Menlo,'DejaVu Sans Mono',consolas,'Courier New',monospace\">Epoch 0302|Val loss 9.956971e-02|Train loss 1.038783e-01|LR 0.00005|\n",
       "</pre>\n"
      ],
      "text/plain": [
       "Epoch 0302|Val loss 9.956971e-02|Train loss 1.038783e-01|LR 0.00005|\n"
      ]
     },
     "metadata": {},
     "output_type": "display_data"
    },
    {
     "data": {
      "text/html": [
       "<pre style=\"white-space:pre;overflow-x:auto;line-height:normal;font-family:Menlo,'DejaVu Sans Mono',consolas,'Courier New',monospace\">Epoch 0303|Val loss 1.019859e-01|Train loss 1.044916e-01|LR 0.00005|\n",
       "</pre>\n"
      ],
      "text/plain": [
       "Epoch 0303|Val loss 1.019859e-01|Train loss 1.044916e-01|LR 0.00005|\n"
      ]
     },
     "metadata": {},
     "output_type": "display_data"
    },
    {
     "data": {
      "text/html": [
       "<pre style=\"white-space:pre;overflow-x:auto;line-height:normal;font-family:Menlo,'DejaVu Sans Mono',consolas,'Courier New',monospace\">Epoch 0304|Val loss 1.013949e-01|Train loss 1.060529e-01|LR 0.00005|\n",
       "</pre>\n"
      ],
      "text/plain": [
       "Epoch 0304|Val loss 1.013949e-01|Train loss 1.060529e-01|LR 0.00005|\n"
      ]
     },
     "metadata": {},
     "output_type": "display_data"
    },
    {
     "data": {
      "text/html": [
       "<pre style=\"white-space:pre;overflow-x:auto;line-height:normal;font-family:Menlo,'DejaVu Sans Mono',consolas,'Courier New',monospace\">Epoch 0305|Val loss 1.009696e-01|Train loss 1.052622e-01|LR 0.00005|\n",
       "</pre>\n"
      ],
      "text/plain": [
       "Epoch 0305|Val loss 1.009696e-01|Train loss 1.052622e-01|LR 0.00005|\n"
      ]
     },
     "metadata": {},
     "output_type": "display_data"
    },
    {
     "data": {
      "text/html": [
       "<pre style=\"white-space:pre;overflow-x:auto;line-height:normal;font-family:Menlo,'DejaVu Sans Mono',consolas,'Courier New',monospace\">Epoch 0306|Val loss 9.955240e-02|Train loss 1.046259e-01|LR 0.00005|\n",
       "</pre>\n"
      ],
      "text/plain": [
       "Epoch 0306|Val loss 9.955240e-02|Train loss 1.046259e-01|LR 0.00005|\n"
      ]
     },
     "metadata": {},
     "output_type": "display_data"
    },
    {
     "data": {
      "text/html": [
       "<pre style=\"white-space:pre;overflow-x:auto;line-height:normal;font-family:Menlo,'DejaVu Sans Mono',consolas,'Courier New',monospace\">Epoch 0307|Val loss 1.009104e-01|Train loss 1.055394e-01|LR 0.00005|\n",
       "</pre>\n"
      ],
      "text/plain": [
       "Epoch 0307|Val loss 1.009104e-01|Train loss 1.055394e-01|LR 0.00005|\n"
      ]
     },
     "metadata": {},
     "output_type": "display_data"
    },
    {
     "data": {
      "text/html": [
       "<pre style=\"white-space:pre;overflow-x:auto;line-height:normal;font-family:Menlo,'DejaVu Sans Mono',consolas,'Courier New',monospace\">Epoch 0308|Val loss 1.009612e-01|Train loss 1.062238e-01|LR 0.00005|\n",
       "</pre>\n"
      ],
      "text/plain": [
       "Epoch 0308|Val loss 1.009612e-01|Train loss 1.062238e-01|LR 0.00005|\n"
      ]
     },
     "metadata": {},
     "output_type": "display_data"
    },
    {
     "data": {
      "text/html": [
       "<pre style=\"white-space:pre;overflow-x:auto;line-height:normal;font-family:Menlo,'DejaVu Sans Mono',consolas,'Courier New',monospace\">Epoch 0309|Val loss 9.957742e-02|Train loss 1.049297e-01|LR 0.00005|\n",
       "</pre>\n"
      ],
      "text/plain": [
       "Epoch 0309|Val loss 9.957742e-02|Train loss 1.049297e-01|LR 0.00005|\n"
      ]
     },
     "metadata": {},
     "output_type": "display_data"
    },
    {
     "data": {
      "text/html": [
       "<pre style=\"white-space:pre;overflow-x:auto;line-height:normal;font-family:Menlo,'DejaVu Sans Mono',consolas,'Courier New',monospace\">Epoch 0310|Val loss 1.001242e-01|Train loss 1.045778e-01|LR 0.00005|\n",
       "</pre>\n"
      ],
      "text/plain": [
       "Epoch 0310|Val loss 1.001242e-01|Train loss 1.045778e-01|LR 0.00005|\n"
      ]
     },
     "metadata": {},
     "output_type": "display_data"
    },
    {
     "data": {
      "text/html": [
       "<pre style=\"white-space:pre;overflow-x:auto;line-height:normal;font-family:Menlo,'DejaVu Sans Mono',consolas,'Courier New',monospace\">EarlyStopping counter: 14 out of 20\n",
       "</pre>\n"
      ],
      "text/plain": [
       "EarlyStopping counter: 14 out of 20\n"
      ]
     },
     "metadata": {},
     "output_type": "display_data"
    },
    {
     "data": {
      "text/html": [
       "<pre style=\"white-space:pre;overflow-x:auto;line-height:normal;font-family:Menlo,'DejaVu Sans Mono',consolas,'Courier New',monospace\">Epoch 0311|Val loss 1.007264e-01|Train loss 1.067024e-01|LR 0.00005|\n",
       "</pre>\n"
      ],
      "text/plain": [
       "Epoch 0311|Val loss 1.007264e-01|Train loss 1.067024e-01|LR 0.00005|\n"
      ]
     },
     "metadata": {},
     "output_type": "display_data"
    },
    {
     "data": {
      "text/html": [
       "<pre style=\"white-space:pre;overflow-x:auto;line-height:normal;font-family:Menlo,'DejaVu Sans Mono',consolas,'Courier New',monospace\">Epoch 0312|Val loss 1.024774e-01|Train loss 1.046378e-01|LR 0.00005|\n",
       "</pre>\n"
      ],
      "text/plain": [
       "Epoch 0312|Val loss 1.024774e-01|Train loss 1.046378e-01|LR 0.00005|\n"
      ]
     },
     "metadata": {},
     "output_type": "display_data"
    },
    {
     "data": {
      "text/html": [
       "<pre style=\"white-space:pre;overflow-x:auto;line-height:normal;font-family:Menlo,'DejaVu Sans Mono',consolas,'Courier New',monospace\">Epoch 0313|Val loss 1.021463e-01|Train loss 1.056118e-01|LR 0.00005|\n",
       "</pre>\n"
      ],
      "text/plain": [
       "Epoch 0313|Val loss 1.021463e-01|Train loss 1.056118e-01|LR 0.00005|\n"
      ]
     },
     "metadata": {},
     "output_type": "display_data"
    },
    {
     "data": {
      "text/html": [
       "<pre style=\"white-space:pre;overflow-x:auto;line-height:normal;font-family:Menlo,'DejaVu Sans Mono',consolas,'Courier New',monospace\">Epoch 0314|Val loss 1.028334e-01|Train loss 1.044633e-01|LR 0.00005|\n",
       "</pre>\n"
      ],
      "text/plain": [
       "Epoch 0314|Val loss 1.028334e-01|Train loss 1.044633e-01|LR 0.00005|\n"
      ]
     },
     "metadata": {},
     "output_type": "display_data"
    },
    {
     "data": {
      "text/html": [
       "<pre style=\"white-space:pre;overflow-x:auto;line-height:normal;font-family:Menlo,'DejaVu Sans Mono',consolas,'Courier New',monospace\">Epoch 0315|Val loss 9.970450e-02|Train loss 1.050803e-01|LR 0.00005|\n",
       "</pre>\n"
      ],
      "text/plain": [
       "Epoch 0315|Val loss 9.970450e-02|Train loss 1.050803e-01|LR 0.00005|\n"
      ]
     },
     "metadata": {},
     "output_type": "display_data"
    },
    {
     "data": {
      "text/html": [
       "<pre style=\"white-space:pre;overflow-x:auto;line-height:normal;font-family:Menlo,'DejaVu Sans Mono',consolas,'Courier New',monospace\">Epoch 0316|Val loss 1.038234e-01|Train loss 1.065460e-01|LR 0.00005|\n",
       "</pre>\n"
      ],
      "text/plain": [
       "Epoch 0316|Val loss 1.038234e-01|Train loss 1.065460e-01|LR 0.00005|\n"
      ]
     },
     "metadata": {},
     "output_type": "display_data"
    },
    {
     "data": {
      "text/html": [
       "<pre style=\"white-space:pre;overflow-x:auto;line-height:normal;font-family:Menlo,'DejaVu Sans Mono',consolas,'Courier New',monospace\">Epoch 0317|Val loss 1.014733e-01|Train loss 1.049831e-01|LR 0.00005|\n",
       "</pre>\n"
      ],
      "text/plain": [
       "Epoch 0317|Val loss 1.014733e-01|Train loss 1.049831e-01|LR 0.00005|\n"
      ]
     },
     "metadata": {},
     "output_type": "display_data"
    },
    {
     "data": {
      "text/html": [
       "<pre style=\"white-space:pre;overflow-x:auto;line-height:normal;font-family:Menlo,'DejaVu Sans Mono',consolas,'Courier New',monospace\">Epoch 0318|Val loss 1.005348e-01|Train loss 1.062930e-01|LR 0.00005|\n",
       "</pre>\n"
      ],
      "text/plain": [
       "Epoch 0318|Val loss 1.005348e-01|Train loss 1.062930e-01|LR 0.00005|\n"
      ]
     },
     "metadata": {},
     "output_type": "display_data"
    },
    {
     "data": {
      "text/html": [
       "<pre style=\"white-space:pre;overflow-x:auto;line-height:normal;font-family:Menlo,'DejaVu Sans Mono',consolas,'Courier New',monospace\">Epoch 0319|Val loss 9.822879e-02|Train loss 1.059879e-01|LR 0.00005|\n",
       "</pre>\n"
      ],
      "text/plain": [
       "Epoch 0319|Val loss 9.822879e-02|Train loss 1.059879e-01|LR 0.00005|\n"
      ]
     },
     "metadata": {},
     "output_type": "display_data"
    },
    {
     "data": {
      "text/html": [
       "<pre style=\"white-space:pre;overflow-x:auto;line-height:normal;font-family:Menlo,'DejaVu Sans Mono',consolas,'Courier New',monospace\">Epoch 0320|Val loss 1.004826e-01|Train loss 1.046600e-01|LR 0.00005|\n",
       "</pre>\n"
      ],
      "text/plain": [
       "Epoch 0320|Val loss 1.004826e-01|Train loss 1.046600e-01|LR 0.00005|\n"
      ]
     },
     "metadata": {},
     "output_type": "display_data"
    },
    {
     "data": {
      "text/html": [
       "<pre style=\"white-space:pre;overflow-x:auto;line-height:normal;font-family:Menlo,'DejaVu Sans Mono',consolas,'Courier New',monospace\">EarlyStopping counter: 15 out of 20\n",
       "</pre>\n"
      ],
      "text/plain": [
       "EarlyStopping counter: 15 out of 20\n"
      ]
     },
     "metadata": {},
     "output_type": "display_data"
    },
    {
     "data": {
      "text/html": [
       "<pre style=\"white-space:pre;overflow-x:auto;line-height:normal;font-family:Menlo,'DejaVu Sans Mono',consolas,'Courier New',monospace\">Epoch 0321|Val loss 1.017782e-01|Train loss 1.048004e-01|LR 0.00005|\n",
       "</pre>\n"
      ],
      "text/plain": [
       "Epoch 0321|Val loss 1.017782e-01|Train loss 1.048004e-01|LR 0.00005|\n"
      ]
     },
     "metadata": {},
     "output_type": "display_data"
    },
    {
     "data": {
      "text/html": [
       "<pre style=\"white-space:pre;overflow-x:auto;line-height:normal;font-family:Menlo,'DejaVu Sans Mono',consolas,'Courier New',monospace\">Epoch 0322|Val loss 9.825688e-02|Train loss 1.053518e-01|LR 0.00005|\n",
       "</pre>\n"
      ],
      "text/plain": [
       "Epoch 0322|Val loss 9.825688e-02|Train loss 1.053518e-01|LR 0.00005|\n"
      ]
     },
     "metadata": {},
     "output_type": "display_data"
    },
    {
     "data": {
      "text/html": [
       "<pre style=\"white-space:pre;overflow-x:auto;line-height:normal;font-family:Menlo,'DejaVu Sans Mono',consolas,'Courier New',monospace\">Epoch 0323|Val loss 9.825693e-02|Train loss 1.062075e-01|LR 0.00005|\n",
       "</pre>\n"
      ],
      "text/plain": [
       "Epoch 0323|Val loss 9.825693e-02|Train loss 1.062075e-01|LR 0.00005|\n"
      ]
     },
     "metadata": {},
     "output_type": "display_data"
    },
    {
     "data": {
      "text/html": [
       "<pre style=\"white-space:pre;overflow-x:auto;line-height:normal;font-family:Menlo,'DejaVu Sans Mono',consolas,'Courier New',monospace\">Epoch 0324|Val loss 1.009094e-01|Train loss 1.052776e-01|LR 0.00005|\n",
       "</pre>\n"
      ],
      "text/plain": [
       "Epoch 0324|Val loss 1.009094e-01|Train loss 1.052776e-01|LR 0.00005|\n"
      ]
     },
     "metadata": {},
     "output_type": "display_data"
    },
    {
     "data": {
      "text/html": [
       "<pre style=\"white-space:pre;overflow-x:auto;line-height:normal;font-family:Menlo,'DejaVu Sans Mono',consolas,'Courier New',monospace\">Epoch 0325|Val loss 9.925897e-02|Train loss 1.055743e-01|LR 0.00005|\n",
       "</pre>\n"
      ],
      "text/plain": [
       "Epoch 0325|Val loss 9.925897e-02|Train loss 1.055743e-01|LR 0.00005|\n"
      ]
     },
     "metadata": {},
     "output_type": "display_data"
    },
    {
     "data": {
      "text/html": [
       "<pre style=\"white-space:pre;overflow-x:auto;line-height:normal;font-family:Menlo,'DejaVu Sans Mono',consolas,'Courier New',monospace\">Epoch 0326|Val loss 1.039713e-01|Train loss 1.054929e-01|LR 0.00005|\n",
       "</pre>\n"
      ],
      "text/plain": [
       "Epoch 0326|Val loss 1.039713e-01|Train loss 1.054929e-01|LR 0.00005|\n"
      ]
     },
     "metadata": {},
     "output_type": "display_data"
    },
    {
     "data": {
      "text/html": [
       "<pre style=\"white-space:pre;overflow-x:auto;line-height:normal;font-family:Menlo,'DejaVu Sans Mono',consolas,'Courier New',monospace\">Epoch 0327|Val loss 1.014896e-01|Train loss 1.047757e-01|LR 0.00003|\n",
       "</pre>\n"
      ],
      "text/plain": [
       "Epoch 0327|Val loss 1.014896e-01|Train loss 1.047757e-01|LR 0.00003|\n"
      ]
     },
     "metadata": {},
     "output_type": "display_data"
    },
    {
     "data": {
      "text/html": [
       "<pre style=\"white-space:pre;overflow-x:auto;line-height:normal;font-family:Menlo,'DejaVu Sans Mono',consolas,'Courier New',monospace\">Epoch 0328|Val loss 1.025451e-01|Train loss 1.069968e-01|LR 0.00003|\n",
       "</pre>\n"
      ],
      "text/plain": [
       "Epoch 0328|Val loss 1.025451e-01|Train loss 1.069968e-01|LR 0.00003|\n"
      ]
     },
     "metadata": {},
     "output_type": "display_data"
    },
    {
     "data": {
      "text/html": [
       "<pre style=\"white-space:pre;overflow-x:auto;line-height:normal;font-family:Menlo,'DejaVu Sans Mono',consolas,'Courier New',monospace\">Epoch 0329|Val loss 1.010079e-01|Train loss 1.048069e-01|LR 0.00003|\n",
       "</pre>\n"
      ],
      "text/plain": [
       "Epoch 0329|Val loss 1.010079e-01|Train loss 1.048069e-01|LR 0.00003|\n"
      ]
     },
     "metadata": {},
     "output_type": "display_data"
    },
    {
     "data": {
      "text/html": [
       "<pre style=\"white-space:pre;overflow-x:auto;line-height:normal;font-family:Menlo,'DejaVu Sans Mono',consolas,'Courier New',monospace\">Epoch 0330|Val loss 1.024621e-01|Train loss 1.047277e-01|LR 0.00003|\n",
       "</pre>\n"
      ],
      "text/plain": [
       "Epoch 0330|Val loss 1.024621e-01|Train loss 1.047277e-01|LR 0.00003|\n"
      ]
     },
     "metadata": {},
     "output_type": "display_data"
    },
    {
     "data": {
      "text/html": [
       "<pre style=\"white-space:pre;overflow-x:auto;line-height:normal;font-family:Menlo,'DejaVu Sans Mono',consolas,'Courier New',monospace\">EarlyStopping counter: 16 out of 20\n",
       "</pre>\n"
      ],
      "text/plain": [
       "EarlyStopping counter: 16 out of 20\n"
      ]
     },
     "metadata": {},
     "output_type": "display_data"
    },
    {
     "data": {
      "text/html": [
       "<pre style=\"white-space:pre;overflow-x:auto;line-height:normal;font-family:Menlo,'DejaVu Sans Mono',consolas,'Courier New',monospace\">Epoch 0331|Val loss 9.963192e-02|Train loss 1.047784e-01|LR 0.00003|\n",
       "</pre>\n"
      ],
      "text/plain": [
       "Epoch 0331|Val loss 9.963192e-02|Train loss 1.047784e-01|LR 0.00003|\n"
      ]
     },
     "metadata": {},
     "output_type": "display_data"
    },
    {
     "data": {
      "text/html": [
       "<pre style=\"white-space:pre;overflow-x:auto;line-height:normal;font-family:Menlo,'DejaVu Sans Mono',consolas,'Courier New',monospace\">Epoch 0332|Val loss 9.994804e-02|Train loss 1.035387e-01|LR 0.00003|\n",
       "</pre>\n"
      ],
      "text/plain": [
       "Epoch 0332|Val loss 9.994804e-02|Train loss 1.035387e-01|LR 0.00003|\n"
      ]
     },
     "metadata": {},
     "output_type": "display_data"
    },
    {
     "data": {
      "text/html": [
       "<pre style=\"white-space:pre;overflow-x:auto;line-height:normal;font-family:Menlo,'DejaVu Sans Mono',consolas,'Courier New',monospace\">Epoch 0333|Val loss 1.019912e-01|Train loss 1.038728e-01|LR 0.00003|\n",
       "</pre>\n"
      ],
      "text/plain": [
       "Epoch 0333|Val loss 1.019912e-01|Train loss 1.038728e-01|LR 0.00003|\n"
      ]
     },
     "metadata": {},
     "output_type": "display_data"
    },
    {
     "data": {
      "text/html": [
       "<pre style=\"white-space:pre;overflow-x:auto;line-height:normal;font-family:Menlo,'DejaVu Sans Mono',consolas,'Courier New',monospace\">Epoch 0334|Val loss 1.017220e-01|Train loss 1.052341e-01|LR 0.00003|\n",
       "</pre>\n"
      ],
      "text/plain": [
       "Epoch 0334|Val loss 1.017220e-01|Train loss 1.052341e-01|LR 0.00003|\n"
      ]
     },
     "metadata": {},
     "output_type": "display_data"
    },
    {
     "data": {
      "text/html": [
       "<pre style=\"white-space:pre;overflow-x:auto;line-height:normal;font-family:Menlo,'DejaVu Sans Mono',consolas,'Courier New',monospace\">Epoch 0335|Val loss 9.946275e-02|Train loss 1.050980e-01|LR 0.00003|\n",
       "</pre>\n"
      ],
      "text/plain": [
       "Epoch 0335|Val loss 9.946275e-02|Train loss 1.050980e-01|LR 0.00003|\n"
      ]
     },
     "metadata": {},
     "output_type": "display_data"
    },
    {
     "data": {
      "text/html": [
       "<pre style=\"white-space:pre;overflow-x:auto;line-height:normal;font-family:Menlo,'DejaVu Sans Mono',consolas,'Courier New',monospace\">Epoch 0336|Val loss 1.031640e-01|Train loss 1.048867e-01|LR 0.00003|\n",
       "</pre>\n"
      ],
      "text/plain": [
       "Epoch 0336|Val loss 1.031640e-01|Train loss 1.048867e-01|LR 0.00003|\n"
      ]
     },
     "metadata": {},
     "output_type": "display_data"
    },
    {
     "data": {
      "text/html": [
       "<pre style=\"white-space:pre;overflow-x:auto;line-height:normal;font-family:Menlo,'DejaVu Sans Mono',consolas,'Courier New',monospace\">Epoch 0337|Val loss 1.017824e-01|Train loss 1.058275e-01|LR 0.00003|\n",
       "</pre>\n"
      ],
      "text/plain": [
       "Epoch 0337|Val loss 1.017824e-01|Train loss 1.058275e-01|LR 0.00003|\n"
      ]
     },
     "metadata": {},
     "output_type": "display_data"
    },
    {
     "data": {
      "text/html": [
       "<pre style=\"white-space:pre;overflow-x:auto;line-height:normal;font-family:Menlo,'DejaVu Sans Mono',consolas,'Courier New',monospace\">Epoch 0338|Val loss 1.013157e-01|Train loss 1.040602e-01|LR 0.00003|\n",
       "</pre>\n"
      ],
      "text/plain": [
       "Epoch 0338|Val loss 1.013157e-01|Train loss 1.040602e-01|LR 0.00003|\n"
      ]
     },
     "metadata": {},
     "output_type": "display_data"
    },
    {
     "data": {
      "text/html": [
       "<pre style=\"white-space:pre;overflow-x:auto;line-height:normal;font-family:Menlo,'DejaVu Sans Mono',consolas,'Courier New',monospace\">Epoch 0339|Val loss 1.005997e-01|Train loss 1.054031e-01|LR 0.00003|\n",
       "</pre>\n"
      ],
      "text/plain": [
       "Epoch 0339|Val loss 1.005997e-01|Train loss 1.054031e-01|LR 0.00003|\n"
      ]
     },
     "metadata": {},
     "output_type": "display_data"
    },
    {
     "data": {
      "text/html": [
       "<pre style=\"white-space:pre;overflow-x:auto;line-height:normal;font-family:Menlo,'DejaVu Sans Mono',consolas,'Courier New',monospace\">Epoch 0340|Val loss 9.832188e-02|Train loss 1.045780e-01|LR 0.00003|\n",
       "</pre>\n"
      ],
      "text/plain": [
       "Epoch 0340|Val loss 9.832188e-02|Train loss 1.045780e-01|LR 0.00003|\n"
      ]
     },
     "metadata": {},
     "output_type": "display_data"
    },
    {
     "data": {
      "text/html": [
       "<pre style=\"white-space:pre;overflow-x:auto;line-height:normal;font-family:Menlo,'DejaVu Sans Mono',consolas,'Courier New',monospace\">EarlyStopping counter: 17 out of 20\n",
       "</pre>\n"
      ],
      "text/plain": [
       "EarlyStopping counter: 17 out of 20\n"
      ]
     },
     "metadata": {},
     "output_type": "display_data"
    },
    {
     "data": {
      "text/html": [
       "<pre style=\"white-space:pre;overflow-x:auto;line-height:normal;font-family:Menlo,'DejaVu Sans Mono',consolas,'Courier New',monospace\">Epoch 0341|Val loss 1.012731e-01|Train loss 1.051455e-01|LR 0.00003|\n",
       "</pre>\n"
      ],
      "text/plain": [
       "Epoch 0341|Val loss 1.012731e-01|Train loss 1.051455e-01|LR 0.00003|\n"
      ]
     },
     "metadata": {},
     "output_type": "display_data"
    },
    {
     "data": {
      "text/html": [
       "<pre style=\"white-space:pre;overflow-x:auto;line-height:normal;font-family:Menlo,'DejaVu Sans Mono',consolas,'Courier New',monospace\">Epoch 0342|Val loss 1.000450e-01|Train loss 1.044147e-01|LR 0.00003|\n",
       "</pre>\n"
      ],
      "text/plain": [
       "Epoch 0342|Val loss 1.000450e-01|Train loss 1.044147e-01|LR 0.00003|\n"
      ]
     },
     "metadata": {},
     "output_type": "display_data"
    },
    {
     "data": {
      "text/html": [
       "<pre style=\"white-space:pre;overflow-x:auto;line-height:normal;font-family:Menlo,'DejaVu Sans Mono',consolas,'Courier New',monospace\">Epoch 0343|Val loss 1.009298e-01|Train loss 1.060028e-01|LR 0.00003|\n",
       "</pre>\n"
      ],
      "text/plain": [
       "Epoch 0343|Val loss 1.009298e-01|Train loss 1.060028e-01|LR 0.00003|\n"
      ]
     },
     "metadata": {},
     "output_type": "display_data"
    },
    {
     "data": {
      "text/html": [
       "<pre style=\"white-space:pre;overflow-x:auto;line-height:normal;font-family:Menlo,'DejaVu Sans Mono',consolas,'Courier New',monospace\">Epoch 0344|Val loss 1.010976e-01|Train loss 1.044333e-01|LR 0.00003|\n",
       "</pre>\n"
      ],
      "text/plain": [
       "Epoch 0344|Val loss 1.010976e-01|Train loss 1.044333e-01|LR 0.00003|\n"
      ]
     },
     "metadata": {},
     "output_type": "display_data"
    },
    {
     "data": {
      "text/html": [
       "<pre style=\"white-space:pre;overflow-x:auto;line-height:normal;font-family:Menlo,'DejaVu Sans Mono',consolas,'Courier New',monospace\">Epoch 0345|Val loss 1.009740e-01|Train loss 1.046264e-01|LR 0.00003|\n",
       "</pre>\n"
      ],
      "text/plain": [
       "Epoch 0345|Val loss 1.009740e-01|Train loss 1.046264e-01|LR 0.00003|\n"
      ]
     },
     "metadata": {},
     "output_type": "display_data"
    },
    {
     "data": {
      "text/html": [
       "<pre style=\"white-space:pre;overflow-x:auto;line-height:normal;font-family:Menlo,'DejaVu Sans Mono',consolas,'Courier New',monospace\">Epoch 0346|Val loss 9.946312e-02|Train loss 1.032730e-01|LR 0.00003|\n",
       "</pre>\n"
      ],
      "text/plain": [
       "Epoch 0346|Val loss 9.946312e-02|Train loss 1.032730e-01|LR 0.00003|\n"
      ]
     },
     "metadata": {},
     "output_type": "display_data"
    },
    {
     "data": {
      "text/html": [
       "<pre style=\"white-space:pre;overflow-x:auto;line-height:normal;font-family:Menlo,'DejaVu Sans Mono',consolas,'Courier New',monospace\">Epoch 0347|Val loss 1.010327e-01|Train loss 1.036980e-01|LR 0.00003|\n",
       "</pre>\n"
      ],
      "text/plain": [
       "Epoch 0347|Val loss 1.010327e-01|Train loss 1.036980e-01|LR 0.00003|\n"
      ]
     },
     "metadata": {},
     "output_type": "display_data"
    },
    {
     "data": {
      "text/html": [
       "<pre style=\"white-space:pre;overflow-x:auto;line-height:normal;font-family:Menlo,'DejaVu Sans Mono',consolas,'Courier New',monospace\">Epoch 0348|Val loss 1.010579e-01|Train loss 1.055555e-01|LR 0.00003|\n",
       "</pre>\n"
      ],
      "text/plain": [
       "Epoch 0348|Val loss 1.010579e-01|Train loss 1.055555e-01|LR 0.00003|\n"
      ]
     },
     "metadata": {},
     "output_type": "display_data"
    },
    {
     "data": {
      "text/html": [
       "<pre style=\"white-space:pre;overflow-x:auto;line-height:normal;font-family:Menlo,'DejaVu Sans Mono',consolas,'Courier New',monospace\">Epoch 0349|Val loss 1.035277e-01|Train loss 1.051646e-01|LR 0.00003|\n",
       "</pre>\n"
      ],
      "text/plain": [
       "Epoch 0349|Val loss 1.035277e-01|Train loss 1.051646e-01|LR 0.00003|\n"
      ]
     },
     "metadata": {},
     "output_type": "display_data"
    },
    {
     "data": {
      "text/html": [
       "<pre style=\"white-space:pre;overflow-x:auto;line-height:normal;font-family:Menlo,'DejaVu Sans Mono',consolas,'Courier New',monospace\">Epoch 0350|Val loss 1.039328e-01|Train loss 1.055483e-01|LR 0.00003|\n",
       "</pre>\n"
      ],
      "text/plain": [
       "Epoch 0350|Val loss 1.039328e-01|Train loss 1.055483e-01|LR 0.00003|\n"
      ]
     },
     "metadata": {},
     "output_type": "display_data"
    },
    {
     "data": {
      "text/html": [
       "<pre style=\"white-space:pre;overflow-x:auto;line-height:normal;font-family:Menlo,'DejaVu Sans Mono',consolas,'Courier New',monospace\">EarlyStopping counter: 18 out of 20\n",
       "</pre>\n"
      ],
      "text/plain": [
       "EarlyStopping counter: 18 out of 20\n"
      ]
     },
     "metadata": {},
     "output_type": "display_data"
    },
    {
     "data": {
      "text/html": [
       "<pre style=\"white-space:pre;overflow-x:auto;line-height:normal;font-family:Menlo,'DejaVu Sans Mono',consolas,'Courier New',monospace\">Epoch 0351|Val loss 1.008767e-01|Train loss 1.066716e-01|LR 0.00003|\n",
       "</pre>\n"
      ],
      "text/plain": [
       "Epoch 0351|Val loss 1.008767e-01|Train loss 1.066716e-01|LR 0.00003|\n"
      ]
     },
     "metadata": {},
     "output_type": "display_data"
    },
    {
     "data": {
      "text/html": [
       "<pre style=\"white-space:pre;overflow-x:auto;line-height:normal;font-family:Menlo,'DejaVu Sans Mono',consolas,'Courier New',monospace\">Epoch 0352|Val loss 1.002771e-01|Train loss 1.033441e-01|LR 0.00003|\n",
       "</pre>\n"
      ],
      "text/plain": [
       "Epoch 0352|Val loss 1.002771e-01|Train loss 1.033441e-01|LR 0.00003|\n"
      ]
     },
     "metadata": {},
     "output_type": "display_data"
    },
    {
     "data": {
      "text/html": [
       "<pre style=\"white-space:pre;overflow-x:auto;line-height:normal;font-family:Menlo,'DejaVu Sans Mono',consolas,'Courier New',monospace\">Epoch 0353|Val loss 1.043205e-01|Train loss 1.039771e-01|LR 0.00003|\n",
       "</pre>\n"
      ],
      "text/plain": [
       "Epoch 0353|Val loss 1.043205e-01|Train loss 1.039771e-01|LR 0.00003|\n"
      ]
     },
     "metadata": {},
     "output_type": "display_data"
    },
    {
     "data": {
      "text/html": [
       "<pre style=\"white-space:pre;overflow-x:auto;line-height:normal;font-family:Menlo,'DejaVu Sans Mono',consolas,'Courier New',monospace\">Epoch 0354|Val loss 1.003198e-01|Train loss 1.046202e-01|LR 0.00003|\n",
       "</pre>\n"
      ],
      "text/plain": [
       "Epoch 0354|Val loss 1.003198e-01|Train loss 1.046202e-01|LR 0.00003|\n"
      ]
     },
     "metadata": {},
     "output_type": "display_data"
    },
    {
     "data": {
      "text/html": [
       "<pre style=\"white-space:pre;overflow-x:auto;line-height:normal;font-family:Menlo,'DejaVu Sans Mono',consolas,'Courier New',monospace\">Epoch 0355|Val loss 1.023085e-01|Train loss 1.044126e-01|LR 0.00003|\n",
       "</pre>\n"
      ],
      "text/plain": [
       "Epoch 0355|Val loss 1.023085e-01|Train loss 1.044126e-01|LR 0.00003|\n"
      ]
     },
     "metadata": {},
     "output_type": "display_data"
    },
    {
     "data": {
      "text/html": [
       "<pre style=\"white-space:pre;overflow-x:auto;line-height:normal;font-family:Menlo,'DejaVu Sans Mono',consolas,'Courier New',monospace\">Epoch 0356|Val loss 1.012441e-01|Train loss 1.048447e-01|LR 0.00003|\n",
       "</pre>\n"
      ],
      "text/plain": [
       "Epoch 0356|Val loss 1.012441e-01|Train loss 1.048447e-01|LR 0.00003|\n"
      ]
     },
     "metadata": {},
     "output_type": "display_data"
    },
    {
     "data": {
      "text/html": [
       "<pre style=\"white-space:pre;overflow-x:auto;line-height:normal;font-family:Menlo,'DejaVu Sans Mono',consolas,'Courier New',monospace\">Epoch 0357|Val loss 1.006491e-01|Train loss 1.057531e-01|LR 0.00003|\n",
       "</pre>\n"
      ],
      "text/plain": [
       "Epoch 0357|Val loss 1.006491e-01|Train loss 1.057531e-01|LR 0.00003|\n"
      ]
     },
     "metadata": {},
     "output_type": "display_data"
    },
    {
     "data": {
      "text/html": [
       "<pre style=\"white-space:pre;overflow-x:auto;line-height:normal;font-family:Menlo,'DejaVu Sans Mono',consolas,'Courier New',monospace\">Epoch 0358|Val loss 1.005160e-01|Train loss 1.050532e-01|LR 0.00003|\n",
       "</pre>\n"
      ],
      "text/plain": [
       "Epoch 0358|Val loss 1.005160e-01|Train loss 1.050532e-01|LR 0.00003|\n"
      ]
     },
     "metadata": {},
     "output_type": "display_data"
    },
    {
     "data": {
      "text/html": [
       "<pre style=\"white-space:pre;overflow-x:auto;line-height:normal;font-family:Menlo,'DejaVu Sans Mono',consolas,'Courier New',monospace\">Epoch 0359|Val loss 1.029504e-01|Train loss 1.048546e-01|LR 0.00003|\n",
       "</pre>\n"
      ],
      "text/plain": [
       "Epoch 0359|Val loss 1.029504e-01|Train loss 1.048546e-01|LR 0.00003|\n"
      ]
     },
     "metadata": {},
     "output_type": "display_data"
    },
    {
     "data": {
      "text/html": [
       "<pre style=\"white-space:pre;overflow-x:auto;line-height:normal;font-family:Menlo,'DejaVu Sans Mono',consolas,'Courier New',monospace\">Epoch 0360|Val loss 1.044821e-01|Train loss 1.043912e-01|LR 0.00003|\n",
       "</pre>\n"
      ],
      "text/plain": [
       "Epoch 0360|Val loss 1.044821e-01|Train loss 1.043912e-01|LR 0.00003|\n"
      ]
     },
     "metadata": {},
     "output_type": "display_data"
    },
    {
     "data": {
      "text/html": [
       "<pre style=\"white-space:pre;overflow-x:auto;line-height:normal;font-family:Menlo,'DejaVu Sans Mono',consolas,'Courier New',monospace\">EarlyStopping counter: 19 out of 20\n",
       "</pre>\n"
      ],
      "text/plain": [
       "EarlyStopping counter: 19 out of 20\n"
      ]
     },
     "metadata": {},
     "output_type": "display_data"
    },
    {
     "data": {
      "text/html": [
       "<pre style=\"white-space:pre;overflow-x:auto;line-height:normal;font-family:Menlo,'DejaVu Sans Mono',consolas,'Courier New',monospace\">Epoch 0361|Val loss 1.013179e-01|Train loss 1.041733e-01|LR 0.00003|\n",
       "</pre>\n"
      ],
      "text/plain": [
       "Epoch 0361|Val loss 1.013179e-01|Train loss 1.041733e-01|LR 0.00003|\n"
      ]
     },
     "metadata": {},
     "output_type": "display_data"
    },
    {
     "data": {
      "text/html": [
       "<pre style=\"white-space:pre;overflow-x:auto;line-height:normal;font-family:Menlo,'DejaVu Sans Mono',consolas,'Courier New',monospace\">Epoch 0362|Val loss 1.020797e-01|Train loss 1.037281e-01|LR 0.00003|\n",
       "</pre>\n"
      ],
      "text/plain": [
       "Epoch 0362|Val loss 1.020797e-01|Train loss 1.037281e-01|LR 0.00003|\n"
      ]
     },
     "metadata": {},
     "output_type": "display_data"
    },
    {
     "data": {
      "text/html": [
       "<pre style=\"white-space:pre;overflow-x:auto;line-height:normal;font-family:Menlo,'DejaVu Sans Mono',consolas,'Courier New',monospace\">Epoch 0363|Val loss 1.014091e-01|Train loss 1.047136e-01|LR 0.00003|\n",
       "</pre>\n"
      ],
      "text/plain": [
       "Epoch 0363|Val loss 1.014091e-01|Train loss 1.047136e-01|LR 0.00003|\n"
      ]
     },
     "metadata": {},
     "output_type": "display_data"
    },
    {
     "data": {
      "text/html": [
       "<pre style=\"white-space:pre;overflow-x:auto;line-height:normal;font-family:Menlo,'DejaVu Sans Mono',consolas,'Courier New',monospace\">Epoch 0364|Val loss 1.016525e-01|Train loss 1.069301e-01|LR 0.00003|\n",
       "</pre>\n"
      ],
      "text/plain": [
       "Epoch 0364|Val loss 1.016525e-01|Train loss 1.069301e-01|LR 0.00003|\n"
      ]
     },
     "metadata": {},
     "output_type": "display_data"
    },
    {
     "data": {
      "text/html": [
       "<pre style=\"white-space:pre;overflow-x:auto;line-height:normal;font-family:Menlo,'DejaVu Sans Mono',consolas,'Courier New',monospace\">Epoch 0365|Val loss 1.005283e-01|Train loss 1.044634e-01|LR 0.00003|\n",
       "</pre>\n"
      ],
      "text/plain": [
       "Epoch 0365|Val loss 1.005283e-01|Train loss 1.044634e-01|LR 0.00003|\n"
      ]
     },
     "metadata": {},
     "output_type": "display_data"
    },
    {
     "data": {
      "text/html": [
       "<pre style=\"white-space:pre;overflow-x:auto;line-height:normal;font-family:Menlo,'DejaVu Sans Mono',consolas,'Courier New',monospace\">Epoch 0366|Val loss 1.009958e-01|Train loss 1.045439e-01|LR 0.00003|\n",
       "</pre>\n"
      ],
      "text/plain": [
       "Epoch 0366|Val loss 1.009958e-01|Train loss 1.045439e-01|LR 0.00003|\n"
      ]
     },
     "metadata": {},
     "output_type": "display_data"
    },
    {
     "data": {
      "text/html": [
       "<pre style=\"white-space:pre;overflow-x:auto;line-height:normal;font-family:Menlo,'DejaVu Sans Mono',consolas,'Courier New',monospace\">Epoch 0367|Val loss 1.004987e-01|Train loss 1.034951e-01|LR 0.00003|\n",
       "</pre>\n"
      ],
      "text/plain": [
       "Epoch 0367|Val loss 1.004987e-01|Train loss 1.034951e-01|LR 0.00003|\n"
      ]
     },
     "metadata": {},
     "output_type": "display_data"
    },
    {
     "data": {
      "text/html": [
       "<pre style=\"white-space:pre;overflow-x:auto;line-height:normal;font-family:Menlo,'DejaVu Sans Mono',consolas,'Courier New',monospace\">Epoch 0368|Val loss 1.015626e-01|Train loss 1.054763e-01|LR 0.00002|\n",
       "</pre>\n"
      ],
      "text/plain": [
       "Epoch 0368|Val loss 1.015626e-01|Train loss 1.054763e-01|LR 0.00002|\n"
      ]
     },
     "metadata": {},
     "output_type": "display_data"
    },
    {
     "data": {
      "text/html": [
       "<pre style=\"white-space:pre;overflow-x:auto;line-height:normal;font-family:Menlo,'DejaVu Sans Mono',consolas,'Courier New',monospace\">Epoch 0369|Val loss 1.003640e-01|Train loss 1.052524e-01|LR 0.00002|\n",
       "</pre>\n"
      ],
      "text/plain": [
       "Epoch 0369|Val loss 1.003640e-01|Train loss 1.052524e-01|LR 0.00002|\n"
      ]
     },
     "metadata": {},
     "output_type": "display_data"
    },
    {
     "data": {
      "text/html": [
       "<pre style=\"white-space:pre;overflow-x:auto;line-height:normal;font-family:Menlo,'DejaVu Sans Mono',consolas,'Courier New',monospace\">Epoch 0370|Val loss 9.988944e-02|Train loss 1.012374e-01|LR 0.00002|\n",
       "</pre>\n"
      ],
      "text/plain": [
       "Epoch 0370|Val loss 9.988944e-02|Train loss 1.012374e-01|LR 0.00002|\n"
      ]
     },
     "metadata": {},
     "output_type": "display_data"
    },
    {
     "data": {
      "text/html": [
       "<pre style=\"white-space:pre;overflow-x:auto;line-height:normal;font-family:Menlo,'DejaVu Sans Mono',consolas,'Courier New',monospace\">EarlyStopping counter: 20 out of 20\n",
       "</pre>\n"
      ],
      "text/plain": [
       "EarlyStopping counter: 20 out of 20\n"
      ]
     },
     "metadata": {},
     "output_type": "display_data"
    },
    {
     "data": {
      "text/html": [
       "<pre style=\"white-space:pre;overflow-x:auto;line-height:normal;font-family:Menlo,'DejaVu Sans Mono',consolas,'Courier New',monospace\">Early stopping\n",
       "</pre>\n"
      ],
      "text/plain": [
       "Early stopping\n"
      ]
     },
     "metadata": {},
     "output_type": "display_data"
    },
    {
     "data": {
      "text/html": [
       "<pre style=\"white-space:pre;overflow-x:auto;line-height:normal;font-family:Menlo,'DejaVu Sans Mono',consolas,'Courier New',monospace\"></pre>\n"
      ],
      "text/plain": []
     },
     "metadata": {},
     "output_type": "display_data"
    },
    {
     "data": {
      "text/html": [
       "<pre style=\"white-space:pre;overflow-x:auto;line-height:normal;font-family:Menlo,'DejaVu Sans Mono',consolas,'Courier New',monospace\">\n",
       "</pre>\n"
      ],
      "text/plain": [
       "\n"
      ]
     },
     "metadata": {},
     "output_type": "display_data"
    }
   ],
   "source": [
    "optimizer = optim.Adam(model.parameters(), lr=args[\"lr\"])\n",
    "if args[\"loss\"] == \"smooth_l1\":\n",
    "    criterion = nn.SmoothL1Loss().to(device)\n",
    "elif args[\"loss\"] == \"mae\":\n",
    "    criterion = nn.L1Loss().to(device)\n",
    "elif args[\"loss\"] == \"mse\":\n",
    "    criterion = nn.MSELoss().to(device)\n",
    "\n",
    "# criterion = InverseBoxCoxLoss(pt)\n",
    "\n",
    "print(criterion)\n",
    "early_stopping = nut.EarlyStopping(patience=20,\n",
    "                                verbose=True,\n",
    "                                path=ckpt_path)\n",
    "\n",
    "scheduler = torch.optim.lr_scheduler.ReduceLROnPlateau(optimizer, 'min', factor=0.6, patience=40)\n",
    "N_EPOCHS = args[\"niters\"]\n",
    "\n",
    "num_batches = 1\n",
    "all_train_loss = []\n",
    "all_valid_loss = []\n",
    "ckpt_freq = 10\n",
    "if args[\"load\"] is None:\n",
    "    if args[\"do_warm_start\"] == True:\n",
    "        checkpoint = torch.load(ckpt_path)\n",
    "        model.load_state_dict(checkpoint['model'])\n",
    "        start_epoch = checkpoint['epoch']\n",
    "        optimizer.load_state_dict(checkpoint['optimizer_state'])\n",
    "        print(\"Warm Starting Experiment {} from Epoch {}\".format(experimentID, start_epoch))\n",
    "    else:\n",
    "        start_epoch = 0\n",
    "        print(\"Starting a new experiment {} from Epoch {}\".format(experimentID, start_epoch))\n",
    "\n",
    "    # Resume training from specific epoch\n",
    "    for itr in track(range(start_epoch + 1, num_batches * (args[\"niters\"] + 1)), description=\"Looping over epochs...\"):\n",
    "        train_loss = 0.0\n",
    "        valid_loss = 0.0\n",
    "        model.train()\n",
    "        optimizer.zero_grad()\n",
    "\n",
    "        for i, (raw_img, arr_target_scaled, arr_target) in enumerate(train_dataloader):\n",
    "            raw_img = raw_img.to(device)\n",
    "            # arr_target = arr_target.to(device)\n",
    "            arr_target = arr_target_scaled.to(device)\n",
    "\n",
    "            # Forward pass\n",
    "            arr_pred = model(raw_img)\n",
    "\n",
    "            # Compute Loss\n",
    "            loss = criterion(arr_pred, arr_target)\n",
    "\n",
    "            # Backward pass\n",
    "            loss.backward()\n",
    "            optimizer.step()\n",
    "            train_loss += loss.item()\n",
    "\n",
    "        model.eval()\n",
    "        with torch.no_grad():\n",
    "            for i, (raw_img_val, arr_target_val_scaled, arr_target_val) in enumerate(val_dataloader):\n",
    "                raw_img_val = raw_img_val.to(device)\n",
    "                # arr_target_val = arr_target_val.to(device)\n",
    "                arr_target_val = arr_target_val_scaled.to(device)\n",
    "\n",
    "                # Forward pass\n",
    "                arr_pred_val = model(raw_img_val)\n",
    "\n",
    "                val_loss = criterion(arr_pred_val, arr_target_val)\n",
    "\n",
    "                valid_loss += val_loss.item()\n",
    "\n",
    "        train_loss = train_loss / len(train_dataloader)\n",
    "        valid_loss = valid_loss / len(val_dataloader)\n",
    "\n",
    "        all_train_loss.append(train_loss)\n",
    "        all_valid_loss.append(valid_loss)\n",
    "\n",
    "\n",
    "        message = 'Epoch {:04d}|Val loss {:.6e}|Train loss {:.6e}|LR {:.5f}|'.format(\n",
    "                        itr//num_batches,\n",
    "                        valid_loss,\n",
    "                        train_loss,\n",
    "                        optimizer.param_groups[0][\"lr\"])\n",
    "        \n",
    "        logger.info(message)\n",
    "        scheduler.step(valid_loss)\n",
    "\n",
    "        if itr % ckpt_freq == 0:\n",
    "            early_stopping(val_loss, all_valid_loss, all_train_loss, model, optimizer, itr, args)\n",
    "\n",
    "        if early_stopping.early_stop:\n",
    "            logger.info(\"Early stopping\")\n",
    "            torch.save({'epoch': itr,\n",
    "                    'model': model.state_dict(),\n",
    "                    'optimizer_state': optimizer.state_dict(),\n",
    "                    'val_loss': val_loss,\n",
    "                    'all_train_loss': all_train_loss,\n",
    "                    'all_valid_loss': all_valid_loss,\n",
    "                    'args': args},\n",
    "                    os.path.join(args[\"save\"], \"experiment_\" + str(experimentID) + \"_earlystopping.ckpt\"))\n",
    "            break\n",
    "else:\n",
    "    # check if early stopped model is available!\n",
    "    early_stop_filepath = os.path.join(args[\"save\"], \"experiment_\" + str(experimentID) + \"_earlystopping.ckpt\")\n",
    "\n",
    "    if os.path.exists(early_stop_filepath):\n",
    "        if args[\"load\"] == 56:\n",
    "            early_stp_ckpt = torch.load(early_stop_filepath)\n",
    "            model.load_state_dict(early_stp_ckpt)\n",
    "        else:\n",
    "            nut.get_ckpt_model(early_stop_filepath, model, optimizer, device)\n",
    "        print(\"Loading early stopped model ID {} from {}\".format(experimentID, early_stop_filepath))\n",
    "    else:\n",
    "        nut.get_ckpt_model(ckpt_path, model, optimizer, device)\n",
    "        print(\"Loading existing model ID {} from {}\".format(experimentID, ckpt_path))"
   ]
  },
  {
   "cell_type": "code",
   "execution_count": 223,
   "metadata": {},
   "outputs": [
    {
     "data": {
      "image/png": "[encoded data removed]",
      "text/plain": [
       "<Figure size 640x480 with 1 Axes>"
      ]
     },
     "metadata": {},
     "output_type": "display_data"
    }
   ],
   "source": [
    "if args[\"load\"] is None: # can remove this loop condition for future experiments since early stopping will also save all_train_loss and all_valid_loss quantities henceforth (Sep 24)\n",
    "    plt.plot(all_train_loss, label=\"train\")\n",
    "    plt.plot(all_valid_loss, label=\"val\")\n",
    "    plt.legend()"
   ]
  },
  {
   "cell_type": "code",
   "execution_count": 224,
   "metadata": {},
   "outputs": [],
   "source": [
    "train_data_eval = DataLoader(train_dataset, \n",
    "        batch_size = len(train_dataset),\n",
    "        shuffle=False, \n",
    "        )\n",
    "\n",
    "train_eval_batch = get_next_batch(inf_generator(train_data_eval))"
   ]
  },
  {
   "cell_type": "code",
   "execution_count": 225,
   "metadata": {},
   "outputs": [
    {
     "data": {
      "image/png": "[encoded data removed]",
      "text/plain": [
       "<Figure size 1000x1000 with 4 Axes>"
      ]
     },
     "metadata": {},
     "output_type": "display_data"
    }
   ],
   "source": [
    "model.eval()\n",
    "with torch.no_grad():\n",
    "    train_preds_scaled = model(train_eval_batch[0]).cpu().numpy()\n",
    "\n",
    "train_preds_unscaled = pt.inverse_transform(train_preds_scaled)\n",
    "train_targets_all = train_eval_batch[2].squeeze(1).cpu().numpy()\n",
    "\n",
    "train_preds_unscaled.shape, train_targets_all.shape\n",
    "\n",
    "fig, axs = plt.subplots(2, 2, figsize=(10, 10))\n",
    "\n",
    "axs[0, 0].scatter(train_targets_all[:, 0], train_preds_unscaled[:, 0], s=3)\n",
    "axs[0, 0].plot(np.linspace(35, 100, 40), np.linspace(35, 100, 40), '--', color='black')\n",
    "axs[0, 0].set_xlabel(\"Train Arrival Time (hrs)\", fontsize=14)\n",
    "axs[0, 0].set_ylabel(\"Predicted Arrival Time on Train (hrs)\", fontsize=14)\n",
    "axs[0, 0].set_title(\"{:.3f}\".format(np.corrcoef(train_targets_all[:, 0], train_preds_unscaled[:, 0])[0, 1]))\n",
    "\n",
    "axs[0, 1].scatter(train_targets_all[:, 1], train_preds_unscaled[:, 1], s=3)\n",
    "axs[0, 1].plot(np.linspace(300, 900, 40), np.linspace(300, 900, 40), '--', color='black')\n",
    "axs[0, 1].set_xlabel(\"Train USim (km / s)\", fontsize=14)\n",
    "axs[0, 1].set_ylabel(\"Predicted USim on Train (km / s)\", fontsize=14)\n",
    "axs[0, 1].set_title(\"{:.3f}\".format(np.corrcoef(train_targets_all[:, 1], train_preds_unscaled[:, 1])[0, 1]))\n",
    "\n",
    "axs[1, 0].scatter(train_targets_all[:, 2], train_preds_unscaled[:, 2], s=3)\n",
    "axs[1, 0].plot(np.linspace(0, 70, 40), np.linspace(0, 70, 40), '--', color='black')\n",
    "axs[1, 0].set_xlabel(\"Train BSim (nT)\", fontsize=14)\n",
    "axs[1, 0].set_ylabel(\"Predicted BSim on Train (nT)\", fontsize=14)\n",
    "axs[1, 0].set_title(\"{:.3f}\".format(np.corrcoef(train_targets_all[:, 2], train_preds_unscaled[:, 2])[0, 1]))\n",
    "\n",
    "axs[1, 1].scatter(train_targets_all[:, 3], train_preds_unscaled[:, 3], s=3)\n",
    "axs[1, 1].plot(np.linspace(0, 100, 40), np.linspace(0, 100, 40), '--', color='black')\n",
    "axs[1, 1].set_xlabel(\"Train NpSim (cm^-3)\", fontsize=14)\n",
    "axs[1, 1].set_ylabel(\"Predicted NpSim on Train (cm^-3)\", fontsize=14)\n",
    "axs[1, 1].set_title(\"{:.3f}\".format(np.corrcoef(train_targets_all[:, 3], train_preds_unscaled[:, 3])[0, 1]))\n",
    "\n",
    "plt.tight_layout()"
   ]
  },
  {
   "cell_type": "code",
   "execution_count": 227,
   "metadata": {},
   "outputs": [
    {
     "name": "stdout",
     "output_type": "stream",
     "text": [
      "(1026, 4) (1026, 4)\n"
     ]
    },
    {
     "data": {
      "image/png": "[encoded data removed]",
      "text/plain": [
       "<Figure size 1000x1000 with 4 Axes>"
      ]
     },
     "metadata": {},
     "output_type": "display_data"
    }
   ],
   "source": [
    "test_data_all = get_next_batch(inf_generator(test_dataloader))\n",
    "# true_test_arrs = pt.inverse_transform(test_data_all[1].cpu().numpy())\n",
    "true_test_arrs = test_data_all[2].squeeze(1).cpu().numpy()\n",
    "model.eval()\n",
    "with torch.no_grad():\n",
    "    test_preds = model(test_data_all[0].to(device)).cpu().numpy()\n",
    "\n",
    "test_preds_unscaled = pt.inverse_transform(test_preds)\n",
    "\n",
    "print(test_preds_unscaled.shape, true_test_arrs.shape)\n",
    "\n",
    "fig, axs = plt.subplots(2, 2, figsize=(10, 10))\n",
    "\n",
    "axs[0, 0].scatter(true_test_arrs[:, 0], test_preds_unscaled[:, 0], s=3)\n",
    "axs[0, 0].plot(np.linspace(35, 100, 40), np.linspace(35, 100, 40), '--', color='black')\n",
    "axs[0, 0].set_xlabel(\"Test Arrival Time (hrs)\", fontsize=14)\n",
    "axs[0, 0].set_ylabel(\"Predicted Arrival Time on Test (hrs)\", fontsize=14)\n",
    "axs[0, 0].set_title(\"{:.3f}\".format(np.corrcoef(true_test_arrs[:, 0], test_preds_unscaled[:, 0])[0, 1]))\n",
    "\n",
    "axs[0, 1].scatter(true_test_arrs[:, 1], test_preds_unscaled[:, 1], s=3)\n",
    "axs[0, 1].plot(np.linspace(300, 900, 40), np.linspace(300, 900, 40), '--', color='black')\n",
    "axs[0, 1].set_xlabel(\"Test USim (km / s)\", fontsize=14)\n",
    "axs[0, 1].set_ylabel(\"Predicted USim on Test (km / s)\", fontsize=14)\n",
    "axs[0, 1].set_title(\"{:.3f}\".format(np.corrcoef(true_test_arrs[:, 1], test_preds_unscaled[:, 1])[0, 1]))\n",
    "\n",
    "axs[1, 0].scatter(true_test_arrs[:, 2], test_preds_unscaled[:, 2], s=3)\n",
    "axs[1, 0].plot(np.linspace(0, 70, 40), np.linspace(0, 70, 40), '--', color='black')\n",
    "axs[1, 0].set_xlabel(\"Test BSim (nT)\", fontsize=14)\n",
    "axs[1, 0].set_ylabel(\"Predicted BSim on Test (nT)\", fontsize=14)\n",
    "axs[1, 0].set_title(\"{:.3f}\".format(np.corrcoef(true_test_arrs[:, 2], test_preds_unscaled[:, 2])[0, 1]))\n",
    "\n",
    "axs[1, 1].scatter(true_test_arrs[:, 3], test_preds_unscaled[:, 3], s=3)\n",
    "axs[1, 1].plot(np.linspace(0, 100, 40), np.linspace(0, 100, 40), '--', color='black')\n",
    "axs[1, 1].set_xlabel(\"Test NpSim (cm^-3)\", fontsize=14)\n",
    "axs[1, 1].set_ylabel(\"Predicted NpSim on Test (cm^-3)\", fontsize=14)\n",
    "axs[1, 1].set_title(\"{:.3f}\".format(np.corrcoef(true_test_arrs[:, 3], test_preds_unscaled[:, 3])[0, 1]))\n",
    "\n",
    "plt.tight_layout()"
   ]
  },
  {
   "cell_type": "code",
   "execution_count": null,
   "metadata": {},
   "outputs": [],
   "source": []
  }
 ],
 "metadata": {
  "kernelspec": {
   "display_name": "base",
   "language": "python",
   "name": "python3"
  },
  "language_info": {
   "codemirror_mode": {
    "name": "ipython",
    "version": 3
   },
   "file_extension": ".py",
   "mimetype": "text/x-python",
   "name": "python",
   "nbconvert_exporter": "python",
   "pygments_lexer": "ipython3",
   "version": "3.8.13"
  }
 },
 "nbformat": 4,
 "nbformat_minor": 2
}
