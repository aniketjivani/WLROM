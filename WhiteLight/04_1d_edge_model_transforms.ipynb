{
 "cells": [
  {
   "cell_type": "markdown",
   "id": "5dc398f7",
   "metadata": {},
   "source": [
    "Load stacked edge data, and write basic viz functions to plot edges etc."
   ]
  },
  {
   "cell_type": "code",
   "execution_count": 1,
   "id": "aa715cc3",
   "metadata": {},
   "outputs": [],
   "source": [
    "import numpy as np\n",
    "import pandas as pd\n",
    "import scipy.linalg as la\n",
    "import scipy.sparse as sparse\n",
    "import matplotlib.pyplot as plt\n",
    "\n",
    "import opinf"
   ]
  },
  {
   "cell_type": "code",
   "execution_count": 2,
   "id": "2fe598f1",
   "metadata": {},
   "outputs": [],
   "source": [
    "import re\n",
    "import os"
   ]
  },
  {
   "cell_type": "code",
   "execution_count": 3,
   "id": "c1b7d47e",
   "metadata": {},
   "outputs": [],
   "source": [
    "from multiprocessing import Pool\n",
    "from itertools import repeat"
   ]
  },
  {
   "cell_type": "code",
   "execution_count": 4,
   "id": "770efe08",
   "metadata": {},
   "outputs": [],
   "source": [
    "plt.rc(\"axes.spines\", right=True, top=True)\n",
    "plt.rc(\"figure\", dpi=300, \n",
    "       figsize=(9, 3)\n",
    "      )\n",
    "plt.rc(\"font\", family=\"serif\")\n",
    "plt.rc(\"legend\", edgecolor=\"none\", frameon=True)\n",
    "# plt.rc(\"text\", usetex=True)"
   ]
  },
  {
   "cell_type": "code",
   "execution_count": 5,
   "id": "889ba275",
   "metadata": {},
   "outputs": [],
   "source": [
    "def load_edge_data(eventID):\n",
    "    edge_data = np.load(\"./edge_data/CR{}_stacked_edge.npy\".format(eventID))\n",
    "    simID_data = np.load(\"./edge_data/CR{}_SimID4edge.npy\".format(eventID))\n",
    "    \n",
    "    all_sims = []\n",
    "    \n",
    "    for s in simID_data:\n",
    "        mm = re.search(\"run\\d\\d\\d_AWSoM2T\", s)\n",
    "        all_sims.append(int(mm.group().split(\"run\")[1].split(\"_\")[0]))\n",
    "    \n",
    "    return edge_data, np.array(all_sims)"
   ]
  },
  {
   "cell_type": "code",
   "execution_count": 6,
   "id": "f8d103a1",
   "metadata": {},
   "outputs": [],
   "source": [
    "ed_2161, sd_2161 = load_edge_data(2161)\n",
    "ed_2192, sd_2192 = load_edge_data(2192)\n",
    "ed_2154, sd_2154 = load_edge_data(2154)"
   ]
  },
  {
   "cell_type": "code",
   "execution_count": 7,
   "id": "c8542e4f",
   "metadata": {},
   "outputs": [
    {
     "data": {
      "text/plain": [
       "90"
      ]
     },
     "execution_count": 7,
     "metadata": {},
     "output_type": "execute_result"
    }
   ],
   "source": [
    "nTimes = ed_2161.shape[0]\n",
    "nTimes"
   ]
  },
  {
   "cell_type": "code",
   "execution_count": 8,
   "id": "8855be15",
   "metadata": {},
   "outputs": [
    {
     "data": {
      "text/plain": [
       "(200, 185, 400)"
      ]
     },
     "execution_count": 8,
     "metadata": {},
     "output_type": "execute_result"
    }
   ],
   "source": [
    "nTheta_2161 = ed_2161.shape[1]\n",
    "nTheta_2192 = ed_2192.shape[1]\n",
    "nTheta_2154 = ed_2154.shape[1]\n",
    "nTheta_2161, nTheta_2192, nTheta_2154"
   ]
  },
  {
   "cell_type": "code",
   "execution_count": 9,
   "id": "133a6153",
   "metadata": {},
   "outputs": [
    {
     "data": {
      "text/plain": [
       "(278, 231, 141)"
      ]
     },
     "execution_count": 9,
     "metadata": {},
     "output_type": "execute_result"
    }
   ],
   "source": [
    "nSims_2161 = ed_2161.shape[2]\n",
    "nSims_2192 = ed_2192.shape[2]\n",
    "nSims_2154 = ed_2154.shape[2]\n",
    "nSims_2161, nSims_2192, nSims_2154"
   ]
  },
  {
   "cell_type": "markdown",
   "id": "f75e4d12",
   "metadata": {},
   "source": [
    "Workflow to filter data before it reaches boundary i.e. look for values going along indices above 120 , pick the minimum row index as cutoff for entire range of angles, and set that as the time up to which we have training and or testing data."
   ]
  },
  {
   "cell_type": "code",
   "execution_count": 10,
   "id": "c5ce696e",
   "metadata": {},
   "outputs": [],
   "source": [
    "R_inner = 4.05\n",
    "R_outer = 23.6"
   ]
  },
  {
   "cell_type": "code",
   "execution_count": 11,
   "id": "feb2c3ec",
   "metadata": {},
   "outputs": [
    {
     "data": {
      "text/plain": [
       "array([  0,  21,  42,  63,  84, 105, 126])"
      ]
     },
     "execution_count": 11,
     "metadata": {},
     "output_type": "execute_result"
    }
   ],
   "source": [
    "height_flattened=128\n",
    "np.arange(0, height_flattened, step=21)"
   ]
  },
  {
   "cell_type": "code",
   "execution_count": 12,
   "id": "2f62cbda",
   "metadata": {},
   "outputs": [
    {
     "data": {
      "text/plain": [
       "array([  0.,   1.,   2.,   3.,   4.,   5.,   6.,   7.,   8.,   9.,  10.,\n",
       "        11.,  12.,  13.,  14.,  15.,  16.,  17.,  18.,  19.,  20.,  21.,\n",
       "        22.,  23.,  24.,  25.,  26.,  27.,  28.,  29.,  30.,  31.,  32.,\n",
       "        33.,  34.,  35.,  36.,  37.,  38.,  39.,  40.,  41.,  42.,  43.,\n",
       "        44.,  45.,  46.,  47.,  48.,  49.,  50.,  51.,  52.,  53.,  54.,\n",
       "        55.,  56.,  57.,  58.,  59.,  60.,  61.,  62.,  63.,  64.,  65.,\n",
       "        66.,  67.,  68.,  69.,  70.,  71.,  72.,  73.,  74.,  75.,  76.,\n",
       "        77.,  78.,  79.,  80.,  81.,  82.,  83.,  84.,  85.,  86.,  87.,\n",
       "        88.,  89.,  90.,  91.,  92.,  93.,  94.,  95.,  96.,  97.,  98.,\n",
       "        99., 100., 101., 102., 103., 104., 105., 106., 107., 108., 109.,\n",
       "       110., 111., 112., 113., 114., 115., 116., 117., 118., 119., 120.,\n",
       "       121., 122., 123., 124., 125., 126., 127., 128.])"
      ]
     },
     "execution_count": 12,
     "metadata": {},
     "output_type": "execute_result"
    }
   ],
   "source": [
    "hts_pixel = np.linspace(0, height_flattened, height_flattened + 1)\n",
    "hts_pixel"
   ]
  },
  {
   "cell_type": "code",
   "execution_count": 13,
   "id": "75311797",
   "metadata": {},
   "outputs": [
    {
     "data": {
      "text/plain": [
       "array([ 4.05      ,  4.20273437,  4.35546875,  4.50820312,  4.6609375 ,\n",
       "        4.81367187,  4.96640625,  5.11914062,  5.271875  ,  5.42460938,\n",
       "        5.57734375,  5.73007813,  5.8828125 ,  6.03554687,  6.18828125,\n",
       "        6.34101562,  6.49375   ,  6.64648438,  6.79921875,  6.95195312,\n",
       "        7.1046875 ,  7.25742188,  7.41015625,  7.56289062,  7.715625  ,\n",
       "        7.86835937,  8.02109375,  8.17382812,  8.3265625 ,  8.47929687,\n",
       "        8.63203125,  8.78476563,  8.9375    ,  9.09023437,  9.24296875,\n",
       "        9.39570313,  9.5484375 ,  9.70117188,  9.85390625, 10.00664062,\n",
       "       10.159375  , 10.31210938, 10.46484375, 10.61757812, 10.7703125 ,\n",
       "       10.92304688, 11.07578125, 11.22851562, 11.38125   , 11.53398437,\n",
       "       11.68671875, 11.83945313, 11.9921875 , 12.14492188, 12.29765625,\n",
       "       12.45039063, 12.603125  , 12.75585938, 12.90859375, 13.06132812,\n",
       "       13.2140625 , 13.36679687, 13.51953125, 13.67226563, 13.825     ,\n",
       "       13.97773438, 14.13046875, 14.28320312, 14.4359375 , 14.58867187,\n",
       "       14.74140625, 14.89414062, 15.046875  , 15.19960938, 15.35234375,\n",
       "       15.50507813, 15.6578125 , 15.81054688, 15.96328125, 16.11601562,\n",
       "       16.26875   , 16.42148437, 16.57421875, 16.72695313, 16.8796875 ,\n",
       "       17.03242188, 17.18515625, 17.33789062, 17.490625  , 17.64335937,\n",
       "       17.79609375, 17.94882812, 18.1015625 , 18.25429688, 18.40703125,\n",
       "       18.55976563, 18.7125    , 18.86523438, 19.01796875, 19.17070312,\n",
       "       19.3234375 , 19.47617188, 19.62890625, 19.78164063, 19.934375  ,\n",
       "       20.08710938, 20.23984375, 20.39257812, 20.5453125 , 20.69804688,\n",
       "       20.85078125, 21.00351563, 21.15625   , 21.30898438, 21.46171875,\n",
       "       21.61445313, 21.7671875 , 21.91992188, 22.07265625, 22.22539063,\n",
       "       22.378125  , 22.53085938, 22.68359375, 22.83632813, 22.9890625 ,\n",
       "       23.14179688, 23.29453125, 23.44726562, 23.6       ])"
      ]
     },
     "execution_count": 13,
     "metadata": {},
     "output_type": "execute_result"
    }
   ],
   "source": [
    "# is this correct?\n",
    "radii = ((hts_pixel)/height_flattened)*(R_outer - R_inner) + R_inner\n",
    "radii"
   ]
  },
  {
   "cell_type": "code",
   "execution_count": 14,
   "id": "37c70ee9",
   "metadata": {},
   "outputs": [],
   "source": [
    "ed_2161_scaled = (ed_2161/height_flattened)*(R_outer - R_inner) + R_inner\n",
    "ed_2192_scaled = (ed_2192/height_flattened)*(R_outer - R_inner) + R_inner\n",
    "ed_2154_scaled = (ed_2192/height_flattened)*(R_outer - R_inner) + R_inner"
   ]
  },
  {
   "cell_type": "markdown",
   "id": "7b40cfe1",
   "metadata": {},
   "source": [
    "Adapted function from `plot_heat_data` in previous notebooks."
   ]
  },
  {
   "cell_type": "markdown",
   "id": "b79f81c0",
   "metadata": {},
   "source": [
    "In plotting we need to convert axes indices to actual theta and R values (also control the ticks) - follow basic outline of `Kmeans_CR2154_SignedDist` from Hongfan."
   ]
  },
  {
   "cell_type": "markdown",
   "id": "e38a0c6b",
   "metadata": {},
   "source": [
    "**Calculation for angles**"
   ]
  },
  {
   "cell_type": "code",
   "execution_count": 15,
   "id": "fa287d4b",
   "metadata": {},
   "outputs": [
    {
     "name": "stdout",
     "output_type": "stream",
     "text": [
      "Range of angles for CR2161: -31.279843444227026 108.91585127201563\n",
      "Range of angles for CR2161: -80.59491193737767 49.03326810176122\n",
      "Range of angles for CR2161: -108.77495107632095 172.32093933463796\n"
     ]
    }
   ],
   "source": [
    "theta_s_2161, theta_e_2161 = np.linspace(0, 360, 512)[160] + 1.2 * 180 - 360, np.linspace(0, 360, 512)[359] + 1.2 * 180 - 360\n",
    "print(\"Range of angles for CR2161: {} {}\".format(theta_s_2161, theta_e_2161))\n",
    "\n",
    "theta_s_2192, theta_e_2192 = np.linspace(0, 360, 512)[90] + 1.2 * 180 - 360, np.linspace(0, 360, 512)[274] + 1.2 * 180 - 360\n",
    "print(\"Range of angles for CR2161: {} {}\".format(theta_s_2192, theta_e_2192))\n",
    "\n",
    "theta_s_2154, theta_e_2154 = np.linspace(0, 360, 512)[50] + 1.2 * 180 - 360, np.linspace(0, 360, 512)[449] + 1.2 * 180 - 360\n",
    "print(\"Range of angles for CR2161: {} {}\".format(theta_s_2154, theta_e_2154))"
   ]
  },
  {
   "cell_type": "markdown",
   "id": "38133c35",
   "metadata": {},
   "source": [
    "~~Can we also make a Cartesian plot? easier to see all edges progressing outward (with overlaid radius of occulting disk) and get a better sense of the shape.~~\n",
    "\n",
    "Save for all sims and events."
   ]
  },
  {
   "cell_type": "code",
   "execution_count": 22,
   "id": "885a76f9",
   "metadata": {},
   "outputs": [],
   "source": [
    "actualTimes = np.arange(2, 182, 2)"
   ]
  },
  {
   "cell_type": "code",
   "execution_count": 23,
   "id": "3fe4221f",
   "metadata": {},
   "outputs": [],
   "source": [
    "edge_save_dir = \"./edge_img\""
   ]
  },
  {
   "cell_type": "code",
   "execution_count": 44,
   "id": "855d1097",
   "metadata": {},
   "outputs": [
    {
     "data": {
      "text/plain": [
       "136.27816512833152"
      ]
     },
     "execution_count": 44,
     "metadata": {},
     "output_type": "execute_result"
    }
   ],
   "source": [
    "ed_2192.max()"
   ]
  },
  {
   "cell_type": "code",
   "execution_count": 32,
   "id": "0a1b8635",
   "metadata": {},
   "outputs": [],
   "source": [
    "def plot_edge_data(Z, titleSim, eventID=2161, plotAll=False, ax=None, theta=np.linspace(-32, 107, 90)):\n",
    "    \"\"\"Visualize edges data in space and time both in polar and original Cartesian coordinates.\"\"\"\n",
    "    if ax is None:\n",
    "        _, ax = plt.subplots(1, 1)\n",
    "\n",
    "    # Plot a few snapshots over the spatial domain.\n",
    "    if plotAll:\n",
    "        sample_columns = [i for i in range(Z.shape[1])]\n",
    "    else:\n",
    "        sample_columns = [0, 2, 4, 8, 12, 20, 40, 50, 60, 70, 74, 80, 84, 88, 89]\n",
    "        \n",
    "    sample_times = actualTimes[sample_columns]\n",
    "    color = iter(plt.cm.viridis(np.linspace(0, 1, len(sample_columns))))\n",
    "    while sample_columns[-1] > Z.shape[1]:\n",
    "        sample_columns.pop()\n",
    "    for i, j in enumerate(sample_columns):\n",
    "        ax.plot(theta, Z[:, j], color=next(color), label=fr\"$u(t_{{{sample_times[i]}}})$\")\n",
    "\n",
    "    ax.set_xlabel(r\"$theta (deg)$\")\n",
    "    ax.set_ylabel(r\"$r_{edge}(t)$\")\n",
    "    \n",
    "    ax.set_xlim(theta[0], theta[-1])\n",
    "    ax.set_yticks(np.arange(0, height_flattened, step=21), labels=['4R', '7R', '10R', '13R', '16R', '19R', '24R'])\n",
    "    ax.legend(loc=(1.05, .05))\n",
    "    ax.set_title(\"Edge data Sim {:03d}\".format(titleSim))\n",
    "    \n",
    "    plt.savefig(os.path.join(edge_save_dir, \"CR{}\".format(eventID), \"run_{:03d}.png\".format(titleSim)),\n",
    "               bbox_inches=\"tight\", pad_inches=0)\n",
    "    \n",
    "    print(\"Saved image for Event {} Sim {:03d}\".format(eventID, titleSim))\n",
    "    \n",
    "    plt.close()"
   ]
  },
  {
   "cell_type": "code",
   "execution_count": 36,
   "id": "0e40bacd",
   "metadata": {},
   "outputs": [],
   "source": [
    "def save_event_edge_data(eventID, plotAll=False, ax=None, theta_start=160, theta_end=360):\n",
    "    # call data simwise, get sim labels\n",
    "    edge_data, sim_data = load_edge_data(eventID)\n",
    "    edge_data = (edge_data/height_flattened)*(R_outer - R_inner) + R_inner\n",
    "    # make call to plotting function (also saves image) - MultiProcessing?\n",
    "    nSims = edge_data.shape[2]\n",
    "    \n",
    "    theta_range = np.linspace(0, 360, 512)[theta_start:theta_end] + 1.2 * 180 - 360\n",
    "    for i in range(nSims):\n",
    "        plot_edge_data(edge_data[:, :, i].T, sim_data[i], eventID=eventID, \n",
    "                       plotAll=False, theta=theta_range)        "
   ]
  },
  {
   "cell_type": "markdown",
   "id": "f8f906aa",
   "metadata": {},
   "source": [
    "Are our ylims getting set correctly in the figure?"
   ]
  },
  {
   "cell_type": "markdown",
   "id": "f22ae091",
   "metadata": {},
   "source": [
    "There is definitely some error in the plotting. The edge at the last timestep is below the starting edge in many cases which is definitely wrong."
   ]
  },
  {
   "cell_type": "code",
   "execution_count": 37,
   "id": "d29fedad",
   "metadata": {},
   "outputs": [
    {
     "data": {
      "text/plain": [
       "<contextlib.ExitStack at 0x7f9f68e4ab00>"
      ]
     },
     "execution_count": 37,
     "metadata": {},
     "output_type": "execute_result"
    }
   ],
   "source": [
    "plt.ioff()\n",
    "# plt.ion()"
   ]
  },
  {
   "cell_type": "code",
   "execution_count": 39,
   "id": "a0972ed5",
   "metadata": {},
   "outputs": [],
   "source": [
    "# # commented out call for saving edge data\n",
    "# save_event_edge_data(2161, plotAll=False, ax=None, theta_start=160, theta_end=360)\n",
    "# save_event_edge_data(2192, plotAll=False, ax=None, theta_start=90, theta_end=275)\n",
    "# save_event_edge_data(2154, plotAll=False, ax=None, theta_start=50, theta_end=450)"
   ]
  },
  {
   "cell_type": "code",
   "execution_count": null,
   "id": "913c238f",
   "metadata": {},
   "outputs": [],
   "source": [
    "# POLAR AXES PLOT\n",
    "# fig, ax = plt.subplots(subplot_kw={'projection': 'polar'})\n",
    "# # r = np.linspace(4.05, 23.6, height_flattened + 1)\n",
    "# theta = np.linspace(-32, 107, 90) * np.pi / 180\n",
    "# ax.plot(theta, ed_2161_scaled[:, :, 0].T[25, :])\n",
    "# ax.plot(theta, ed_2161_scaled[:, :, 0].T[40, :])\n",
    "# ax.plot(theta, ed_2161_scaled[:, :, 0].T[50, :])"
   ]
  },
  {
   "cell_type": "code",
   "execution_count": null,
   "id": "a4fce570",
   "metadata": {},
   "outputs": [],
   "source": [
    "# plot_edge_data(edge_data_cutoff.T, \"Edge data Sim 31\", plotAll=False)"
   ]
  },
  {
   "cell_type": "markdown",
   "id": "4b15bc48",
   "metadata": {},
   "source": [
    "**Scratch Begin**"
   ]
  },
  {
   "cell_type": "code",
   "execution_count": null,
   "id": "13729d3f",
   "metadata": {},
   "outputs": [],
   "source": [
    "edge_data_31 = ed_2161[:, :, 0]"
   ]
  },
  {
   "cell_type": "code",
   "execution_count": null,
   "id": "30f0b219",
   "metadata": {},
   "outputs": [],
   "source": [
    "tIdx = min(np.unique(np.where(edge_data_31 >= 120)[0]))\n",
    "tIdx"
   ]
  },
  {
   "cell_type": "code",
   "execution_count": null,
   "id": "7d318206",
   "metadata": {},
   "outputs": [],
   "source": [
    "tCutoff = actualTimes[tIdx]\n",
    "tCutoff"
   ]
  },
  {
   "cell_type": "code",
   "execution_count": null,
   "id": "bb9ea325",
   "metadata": {},
   "outputs": [],
   "source": [
    "edge_data_cutoff = edge_data_31[:tIdx, :]\n",
    "edge_data_cutoff.shape"
   ]
  },
  {
   "cell_type": "code",
   "execution_count": null,
   "id": "1706a3c5",
   "metadata": {},
   "outputs": [],
   "source": [
    "sample_columns = [0, 2, 4, 8, 12, 20, 40, 50, 60, 70]\n",
    "sample_times = actualTimes[sample_columns]\n",
    "sample_times"
   ]
  },
  {
   "cell_type": "code",
   "execution_count": null,
   "id": "eb66e5c3",
   "metadata": {},
   "outputs": [],
   "source": [
    "basis = opinf.pre.PODBasis().fit(edge_data_cutoff.T, residual_energy=1e-8)\n",
    "print(basis)\n",
    "\n",
    "# Check the decay of the singular values.\n",
    "basis.plot_svdval_decay()\n",
    "plt.xlim(0, 25)"
   ]
  },
  {
   "cell_type": "code",
   "execution_count": null,
   "id": "dfb17ef8",
   "metadata": {},
   "outputs": [],
   "source": [
    "plt.plot(basis.svdvals/basis.svdvals[1])\n",
    "plt.xlim(0, 10)"
   ]
  },
  {
   "cell_type": "markdown",
   "id": "9f4decd9",
   "metadata": {},
   "source": [
    "**Scratch End**"
   ]
  }
 ],
 "metadata": {
  "kernelspec": {
   "display_name": "Python 3 (ipykernel)",
   "language": "python",
   "name": "python3"
  },
  "language_info": {
   "codemirror_mode": {
    "name": "ipython",
    "version": 3
   },
   "file_extension": ".py",
   "mimetype": "text/x-python",
   "name": "python",
   "nbconvert_exporter": "python",
   "pygments_lexer": "ipython3",
   "version": "3.10.10"
  }
 },
 "nbformat": 4,
 "nbformat_minor": 5
}
