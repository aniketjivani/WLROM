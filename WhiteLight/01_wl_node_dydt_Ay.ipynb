{
 "cells": [
  {
   "cell_type": "markdown",
   "id": "8feef7eb",
   "metadata": {},
   "source": [
    "the idea in this notebook involves no prior model, just trying to put a feedforward neural network with reduced state model instead of OpInf. More advanced version will not flatten anything and use convolutions."
   ]
  },
  {
   "cell_type": "code",
   "execution_count": 1,
   "id": "b8cf90d6",
   "metadata": {},
   "outputs": [
    {
     "data": {
      "text/plain": [
       "'/home/ajivani/WLROM/WhiteLight'"
      ]
     },
     "execution_count": 1,
     "metadata": {},
     "output_type": "execute_result"
    }
   ],
   "source": [
    "import os\n",
    "import opinf\n",
    "import scipy.signal\n",
    "# import cv2\n",
    "os.getcwd()"
   ]
  },
  {
   "cell_type": "code",
   "execution_count": 2,
   "id": "407c576b",
   "metadata": {},
   "outputs": [],
   "source": [
    "import numpy as np\n",
    "from numpy import ogrid\n",
    "import pandas as pd\n",
    "import scipy.linalg as la\n",
    "import scipy.sparse as sparse\n",
    "import matplotlib.pyplot as plt\n",
    "\n",
    "import opinf as op"
   ]
  },
  {
   "cell_type": "code",
   "execution_count": 3,
   "id": "bb5bd971",
   "metadata": {},
   "outputs": [],
   "source": [
    "import time"
   ]
  },
  {
   "cell_type": "code",
   "execution_count": 4,
   "id": "85cbf827",
   "metadata": {},
   "outputs": [],
   "source": [
    "from sunpy.visualization import colormaps as cm"
   ]
  },
  {
   "cell_type": "code",
   "execution_count": 5,
   "id": "b4df4060",
   "metadata": {},
   "outputs": [],
   "source": [
    "import torch\n",
    "import torch.nn as nn\n",
    "import torch.optim as optim"
   ]
  },
  {
   "cell_type": "code",
   "execution_count": 6,
   "id": "9e08df6c",
   "metadata": {},
   "outputs": [],
   "source": [
    "adjoint=True"
   ]
  },
  {
   "cell_type": "code",
   "execution_count": 7,
   "id": "da32ee68",
   "metadata": {},
   "outputs": [],
   "source": [
    "if adjoint:\n",
    "    from torchdiffeq import odeint_adjoint as odeint\n",
    "else:\n",
    "    from torchdiffeq import odeint"
   ]
  },
  {
   "cell_type": "code",
   "execution_count": null,
   "id": "30e73423",
   "metadata": {
    "lines_to_next_cell": 0
   },
   "outputs": [],
   "source": []
  },
  {
   "cell_type": "code",
   "execution_count": 8,
   "id": "14aa9a28",
   "metadata": {},
   "outputs": [
    {
     "data": {
      "image/png": "[encoded data removed]",
      "text/html": [
       "<div style=\"vertical-align: middle;\"><strong>SOHO LASCO C3_r</strong> </div><div class=\"cmap\"><img alt=\"SOHO LASCO C3_r colormap\" title=\"SOHO LASCO C3_r\" style=\"border: 1px solid #555;\" src=\"data:image/png;base64,iVBORw0KGgoAAAANSUhEUgAAAgAAAABACAYAAABsv8+/AAAAHnRFWHRUaXRsZQBTT0hPIExBU0NPIEMzX3IgY29sb3JtYXDMCW5EAAAAJHRFWHREZXNjcmlwdGlvbgBTT0hPIExBU0NPIEMzX3IgY29sb3JtYXAGtYcrAAAAMHRFWHRBdXRob3IATWF0cGxvdGxpYiB2My43LjEsIGh0dHBzOi8vbWF0cGxvdGxpYi5vcmcqr/hNAAAAMnRFWHRTb2Z0d2FyZQBNYXRwbG90bGliIHYzLjcuMSwgaHR0cHM6Ly9tYXRwbG90bGliLm9yZwQJZ2oAAAHFSURBVHic7dZBbsIwFEDB397/zKSLQisR3DQtEos3s0EksWNjCb23bdu2mZnL58dcv+6+L6/P7fo8dfzq+VePX847/xt/ff35c5jb9T+Ov3v/dnn8/P3n7J57vP/VfLO7vxi/mGd2z51b/3a5n+fc+vf7OFj/4T7mx+eOz+Hg/UfncPL3++/5v3r9vz7/68Eu1z8/3z+aZ+Z371nN8z3+3Lpv99fjD9b99b/xx3Xv/r/OrfvV+z9/fs/d/3r8uXW/DwCQIwAAIEgAAECQAACAIAEAAEECAACCBAAABAkAAAgSAAAQJAAAIEgAAECQAACAIAEAAEECAACCBAAABAkAAAgSAAAQJAAAIEgAAECQAACAIAEAAEECAACCBAAABAkAAAgSAAAQJAAAIEgAAECQAACAIAEAAEECAACCBAAABAkAAAgSAAAQJAAAIEgAAECQAACAIAEAAEECAACCBAAABAkAAAgSAAAQJAAAIEgAAECQAACAIAEAAEECAACCBAAABAkAAAgSAAAQJAAAIEgAAECQAACAIAEAAEECAACCBAAABAkAAAgSAAAQJAAAIEgAAECQAACAIAEAAEECAACCBAAABH0A+Gm+nfb+AtsAAAAASUVORK5CYII=\"></div><div style=\"vertical-align: middle; max-width: 514px; display: flex; justify-content: space-between;\"><div style=\"float: left;\"><div title=\"#ffffffff\" style=\"display: inline-block; width: 1em; height: 1em; margin: 0; vertical-align: middle; border: 1px solid #555; background-color: #ffffffff;\"></div> under</div><div style=\"margin: 0 auto; display: inline-block;\">bad <div title=\"#00000000\" style=\"display: inline-block; width: 1em; height: 1em; margin: 0; vertical-align: middle; border: 1px solid #555; background-color: #00000000;\"></div></div><div style=\"float: right;\">over <div title=\"#000000ff\" style=\"display: inline-block; width: 1em; height: 1em; margin: 0; vertical-align: middle; border: 1px solid #555; background-color: #000000ff;\"></div></div>"
      ],
      "text/plain": [
       "<matplotlib.colors.LinearSegmentedColormap at 0x7fdfbdccf6d0>"
      ]
     },
     "execution_count": 8,
     "metadata": {},
     "output_type": "execute_result"
    }
   ],
   "source": [
    "lc3 = cm.cmlist['soholasco3'].reversed()\n",
    "lc3"
   ]
  },
  {
   "cell_type": "code",
   "execution_count": 9,
   "id": "5cae42ee",
   "metadata": {},
   "outputs": [
    {
     "data": {
      "image/png": "[encoded data removed]",
      "text/html": [
       "<div style=\"vertical-align: middle;\"><strong>SOHO LASCO C3</strong> </div><div class=\"cmap\"><img alt=\"SOHO LASCO C3 colormap\" title=\"SOHO LASCO C3\" style=\"border: 1px solid #555;\" src=\"data:image/png;base64,iVBORw0KGgoAAAANSUhEUgAAAgAAAABACAYAAABsv8+/AAAAHHRFWHRUaXRsZQBTT0hPIExBU0NPIEMzIGNvbG9ybWFwEdDmtAAAACJ0RVh0RGVzY3JpcHRpb24AU09ITyBMQVNDTyBDMyBjb2xvcm1hcIyACPEAAAAwdEVYdEF1dGhvcgBNYXRwbG90bGliIHYzLjcuMSwgaHR0cHM6Ly9tYXRwbG90bGliLm9yZyqv+E0AAAAydEVYdFNvZnR3YXJlAE1hdHBsb3RsaWIgdjMuNy4xLCBodHRwczovL21hdHBsb3RsaWIub3JnBAlnagAAAaBJREFUeJzt1sFOwkAUQNFH//+fdWHVgE4KUSR4z1nQUPqmUwjJPc3My8zMzOnt9bQ6bt+f3+fm6LrV51/mb1xnOX/lOh/zN+774c//Pr892fNf+/vd+/nn7P1sR/vdj9tifnnd6jhn1y33v1znSfa/XG9x/6uf42D//+X7u/f+9//ftrj+8vx2ef8/nv88/7vzx/t9zPx63Z/O78cBAHIEAAAECQAACBIAABAkAAAgSAAAQJAAAIAgAQAAQQIAAIIEAAAECQAACBIAABAkAAAgSAAAQJAAAIAgAQAAQQIAAIIEAAAECQAACBIAABAkAAAgSAAAQJAAAIAgAQAAQQIAAIIEAAAECQAACBIAABAkAAAgSAAAQJAAAIAgAQAAQQIAAIIEAAAECQAACBIAABAkAAAgSAAAQJAAAIAgAQAAQQIAAIIEAAAECQAACBIAABAkAAAgSAAAQJAAAIAgAQAAQQIAAIIEAAAECQAACBIAABAkAAAgSAAAQJAAAIAgAQAAQQIAAIIEAAAECQAACBIAABAkAAAgSAAAQJAAAICgV2erBHwDlf7mAAAAAElFTkSuQmCC\"></div><div style=\"vertical-align: middle; max-width: 514px; display: flex; justify-content: space-between;\"><div style=\"float: left;\"><div title=\"#000000ff\" style=\"display: inline-block; width: 1em; height: 1em; margin: 0; vertical-align: middle; border: 1px solid #555; background-color: #000000ff;\"></div> under</div><div style=\"margin: 0 auto; display: inline-block;\">bad <div title=\"#00000000\" style=\"display: inline-block; width: 1em; height: 1em; margin: 0; vertical-align: middle; border: 1px solid #555; background-color: #00000000;\"></div></div><div style=\"float: right;\">over <div title=\"#ffffffff\" style=\"display: inline-block; width: 1em; height: 1em; margin: 0; vertical-align: middle; border: 1px solid #555; background-color: #ffffffff;\"></div></div>"
      ],
      "text/plain": [
       "<matplotlib.colors.LinearSegmentedColormap at 0x7fe056f550c0>"
      ]
     },
     "execution_count": 9,
     "metadata": {},
     "output_type": "execute_result"
    }
   ],
   "source": [
    "lc3_reg = cm.cmlist['soholasco3']\n",
    "lc3_reg"
   ]
  },
  {
   "cell_type": "code",
   "execution_count": 79,
   "id": "d5453419",
   "metadata": {},
   "outputs": [],
   "source": [
    "plt.rc(\"axes.spines\", right=True, top=True)\n",
    "plt.rc(\"figure\", dpi=300,\n",
    "       # figsize=(9, 3)\n",
    "       )\n",
    "plt.rc(\"font\",\n",
    "       family=\"serif\",\n",
    "       size=10\n",
    "       )\n",
    "plt.rc(\"legend\", edgecolor=\"none\", frameon=True)\n",
    "plt.rc(\"text\", usetex=False)\n",
    "# plt.rc(\"text\", usetex=True)"
   ]
  },
  {
   "cell_type": "markdown",
   "id": "48cf5394",
   "metadata": {},
   "source": [
    "### Setup training and testing data"
   ]
  },
  {
   "cell_type": "code",
   "execution_count": 11,
   "id": "ed290b78",
   "metadata": {},
   "outputs": [],
   "source": [
    "m = 71"
   ]
  },
  {
   "cell_type": "code",
   "execution_count": null,
   "id": "e14f3987",
   "metadata": {
    "lines_to_next_cell": 0
   },
   "outputs": [],
   "source": []
  },
  {
   "cell_type": "code",
   "execution_count": 12,
   "id": "816e12c3",
   "metadata": {},
   "outputs": [
    {
     "data": {
      "text/plain": [
       "array([0.        , 0.03333333, 0.06666667, 0.1       , 0.13333333,\n",
       "       0.16666667, 0.2       , 0.23333333, 0.26666667, 0.3       ,\n",
       "       0.33333333, 0.36666667, 0.4       , 0.43333333, 0.46666667,\n",
       "       0.5       , 0.53333333, 0.56666667, 0.6       , 0.63333333,\n",
       "       0.66666667, 0.7       , 0.73333333, 0.76666667, 0.8       ,\n",
       "       0.83333333, 0.86666667, 0.9       , 0.93333333, 0.96666667,\n",
       "       1.        , 1.03333333, 1.06666667, 1.1       , 1.13333333,\n",
       "       1.16666667, 1.2       , 1.23333333, 1.26666667, 1.3       ,\n",
       "       1.33333333, 1.36666667, 1.4       , 1.43333333, 1.46666667,\n",
       "       1.5       , 1.53333333, 1.56666667, 1.6       , 1.63333333,\n",
       "       1.66666667, 1.7       , 1.73333333, 1.76666667, 1.8       ,\n",
       "       1.83333333, 1.86666667, 1.9       , 1.93333333, 1.96666667,\n",
       "       2.        , 2.03333333, 2.06666667, 2.1       , 2.13333333,\n",
       "       2.16666667, 2.2       , 2.23333333, 2.26666667, 2.3       ,\n",
       "       2.33333333])"
      ]
     },
     "execution_count": 12,
     "metadata": {},
     "output_type": "execute_result"
    }
   ],
   "source": [
    "t_vec = (np.linspace(40, 180, m) - 40) / 60\n",
    "t_vec"
   ]
  },
  {
   "cell_type": "code",
   "execution_count": null,
   "id": "adaa866a",
   "metadata": {
    "lines_to_next_cell": 0
   },
   "outputs": [],
   "source": []
  },
  {
   "cell_type": "code",
   "execution_count": 13,
   "id": "7030b200",
   "metadata": {},
   "outputs": [],
   "source": [
    "dt = t_vec[1] - t_vec[0]"
   ]
  },
  {
   "cell_type": "code",
   "execution_count": 14,
   "id": "ebc02e6e",
   "metadata": {},
   "outputs": [],
   "source": [
    "nTrainTime = np.argwhere(t_vec == (120 - 40) / 60)[0, 0]"
   ]
  },
  {
   "cell_type": "code",
   "execution_count": 15,
   "id": "05a44508",
   "metadata": {},
   "outputs": [
    {
     "data": {
      "text/plain": [
       "40"
      ]
     },
     "execution_count": 15,
     "metadata": {},
     "output_type": "execute_result"
    }
   ],
   "source": [
    "nTrainTime"
   ]
  },
  {
   "cell_type": "code",
   "execution_count": 16,
   "id": "153130e0",
   "metadata": {},
   "outputs": [],
   "source": [
    "nTrainTimeAll = np.argwhere(np.linspace(2, 180, 90) == 40)[0,0]"
   ]
  },
  {
   "cell_type": "code",
   "execution_count": null,
   "id": "63b9e377",
   "metadata": {
    "lines_to_next_cell": 0
   },
   "outputs": [],
   "source": []
  },
  {
   "cell_type": "code",
   "execution_count": 17,
   "id": "2bd4219d",
   "metadata": {},
   "outputs": [
    {
     "data": {
      "text/plain": [
       "120.0"
      ]
     },
     "execution_count": 17,
     "metadata": {},
     "output_type": "execute_result"
    }
   ],
   "source": [
    "t_train = t_vec[:(nTrainTime + 1)]\n",
    "t_train[-1] * 60 + 40"
   ]
  },
  {
   "cell_type": "code",
   "execution_count": 18,
   "id": "5ed018dc",
   "metadata": {},
   "outputs": [
    {
     "data": {
      "text/plain": [
       "array([1.36666667, 1.4       , 1.43333333, 1.46666667, 1.5       ,\n",
       "       1.53333333, 1.56666667, 1.6       , 1.63333333, 1.66666667,\n",
       "       1.7       , 1.73333333, 1.76666667, 1.8       , 1.83333333,\n",
       "       1.86666667, 1.9       , 1.93333333, 1.96666667, 2.        ,\n",
       "       2.03333333, 2.06666667, 2.1       , 2.13333333, 2.16666667,\n",
       "       2.2       , 2.23333333, 2.26666667, 2.3       , 2.33333333])"
      ]
     },
     "execution_count": 18,
     "metadata": {},
     "output_type": "execute_result"
    }
   ],
   "source": [
    "t_test = t_vec[(nTrainTime + 1):]\n",
    "t_test"
   ]
  },
  {
   "cell_type": "code",
   "execution_count": 19,
   "id": "6e183cfe",
   "metadata": {},
   "outputs": [],
   "source": [
    "X_orig = np.load(\"./CR2161_tDecay2h_Polar_Compressed.npy\")"
   ]
  },
  {
   "cell_type": "code",
   "execution_count": 20,
   "id": "37c2ea30",
   "metadata": {},
   "outputs": [],
   "source": [
    "X = X_orig.reshape((64 * 256, 90, 278))[:, (nTrainTimeAll):, :]"
   ]
  },
  {
   "cell_type": "code",
   "execution_count": 22,
   "id": "aef8e163",
   "metadata": {},
   "outputs": [
    {
     "data": {
      "text/plain": [
       "array([ 31,  32,  33,  34,  35,  36,  37,  38,  39,  40,  41,  42,  43,\n",
       "        44,  45,  46,  47,  48,  49,  50,  51,  52,  53,  54,  56,  57,\n",
       "        58,  59,  60,  61,  62,  63,  64,  65,  66,  67,  68,  69,  70,\n",
       "        71,  72,  73,  74,  75,  76,  77,  78,  79,  80,  81,  82,  83,\n",
       "        84,  85,  86,  87,  88,  89,  90,  91,  92,  93,  94,  95,  96,\n",
       "        97,  98,  99, 100, 101, 102, 103, 104, 105, 106, 107, 108, 110,\n",
       "       111, 112, 113, 114, 115, 118, 119, 120, 121, 122, 123, 124, 126,\n",
       "       127, 128, 129, 130, 131, 132, 133, 134, 135, 136, 138, 139, 140,\n",
       "       141, 142, 143, 144, 145, 146, 147, 148, 149, 150, 151, 152, 153,\n",
       "       154, 155, 156, 157, 158, 159, 160, 161, 162, 163, 164, 166, 168,\n",
       "       169, 171, 172, 173, 174, 175, 176, 177, 178, 179, 180, 181, 183,\n",
       "       184, 185, 186, 188, 190, 191, 192, 193, 194, 196, 197, 198, 199,\n",
       "       200, 201, 202, 203, 204, 205, 206, 208, 209, 210, 211, 212, 213,\n",
       "       214, 215, 216, 217, 218, 219, 220, 221, 222, 223, 224, 225, 226,\n",
       "       227, 228, 229, 230, 231, 232, 233, 234, 235, 236, 237, 238, 239,\n",
       "       240, 241, 242, 243, 244, 246, 247, 248, 249, 251, 252, 253, 254,\n",
       "       255, 256, 257, 258, 259, 260, 261, 262, 263, 264, 265, 266, 267,\n",
       "       268, 269, 271, 272, 273, 274, 275, 276, 277, 278, 279, 280, 281,\n",
       "       282, 283, 284, 286, 287, 288, 289, 290, 291, 292, 293, 294, 295,\n",
       "       296, 297, 298, 299, 300, 301, 302, 303, 304, 305, 306, 307, 311,\n",
       "       312, 313, 314, 315, 316, 317, 318, 319, 320, 321, 322, 323, 324,\n",
       "       325, 326, 327, 328, 329])"
      ]
     },
     "execution_count": 22,
     "metadata": {},
     "output_type": "execute_result"
    }
   ],
   "source": [
    "import netCDF4 as nc\n",
    "ds = nc.Dataset(\"./20150315_CR2161_code_stable_tDecay2h.nc\")\n",
    "successfulRuns = ds['runs'].successfulRuns + 30\n",
    "successfulRuns"
   ]
  },
  {
   "cell_type": "code",
   "execution_count": 23,
   "id": "2e6ee0e5",
   "metadata": {},
   "outputs": [
    {
     "data": {
      "text/plain": [
       "(array([  0,   1,   2,   3,   5,   6,   7,   8,  10,  11,  12,  13,  14,\n",
       "         15,  16,  17,  18,  19,  20,  21,  22,  23,  26,  27,  28,  30,\n",
       "         31,  32,  34,  35,  36,  37,  38,  39,  41,  42,  44,  45,  48,\n",
       "         49,  50,  51,  52,  54,  55,  56,  57,  58,  59,  61,  63,  64,\n",
       "         65,  66,  67,  68,  69,  70,  71,  72,  73,  74,  75,  77,  78,\n",
       "         79,  82,  84,  85,  86,  87,  88,  90,  91,  92,  93,  94,  95,\n",
       "         96,  98, 100, 102, 103, 104, 105, 106, 107, 108, 110, 113, 114,\n",
       "        115, 116, 118, 120, 123, 124, 125, 126, 127, 128, 129, 130, 131,\n",
       "        132, 133, 134, 135, 136, 138, 139, 140, 142, 143, 146, 147, 148,\n",
       "        149, 151, 152, 153, 155, 156, 157, 158, 159, 160, 161, 162, 163,\n",
       "        165, 166, 167, 169, 170, 171, 172, 174, 175, 176, 177, 178, 179,\n",
       "        180, 181, 182, 183, 184, 185, 186, 187, 188, 189, 194, 196, 197,\n",
       "        198, 199, 200, 201, 202, 205, 206, 207, 208, 209, 210, 211, 212,\n",
       "        213, 214, 216, 217, 219, 220, 221, 222, 223, 224, 226, 227, 228,\n",
       "        230, 231, 232, 233, 234, 235, 237, 238, 239, 240, 241, 242, 243,\n",
       "        246, 248, 249, 250, 251, 252, 253, 254, 255, 256, 257, 258, 259,\n",
       "        260, 261, 262, 263, 265, 266, 267, 269, 272, 273, 274, 275, 276,\n",
       "        277]),\n",
       " array([  4,   9,  24,  25,  29,  33,  40,  43,  46,  47,  53,  60,  62,\n",
       "         76,  80,  81,  83,  89,  97,  99, 101, 109, 111, 112, 117, 119,\n",
       "        121, 122, 137, 141, 144, 145, 150, 154, 164, 168, 173, 190, 191,\n",
       "        192, 193, 195, 203, 204, 215, 218, 225, 229, 236, 244, 245, 247,\n",
       "        264, 268, 270, 271]))"
      ]
     },
     "execution_count": 23,
     "metadata": {},
     "output_type": "execute_result"
    }
   ],
   "source": [
    "train_test_sims = np.load(\"./CR2161_AWSoM2T_CME_tDecay2h_Polar_Clusters.npz\")\n",
    "train_sim = train_test_sims[\"training_id\"]\n",
    "test_sim = train_test_sims[\"test_id\"]\n",
    "train_sim, test_sim"
   ]
  },
  {
   "cell_type": "code",
   "execution_count": 24,
   "id": "959ff49c",
   "metadata": {},
   "outputs": [],
   "source": [
    "tt_sim = np.sort(np.hstack((train_sim, test_sim)))"
   ]
  },
  {
   "cell_type": "code",
   "execution_count": 25,
   "id": "525fe313",
   "metadata": {},
   "outputs": [
    {
     "data": {
      "text/plain": [
       "(16384, 41, 222)"
      ]
     },
     "execution_count": 25,
     "metadata": {},
     "output_type": "execute_result"
    }
   ],
   "source": [
    "X_train_ttrain = X[:, :(nTrainTime + 1), train_sim]\n",
    "X_train_ttrain.shape"
   ]
  },
  {
   "cell_type": "code",
   "execution_count": 26,
   "id": "537044b6",
   "metadata": {},
   "outputs": [],
   "source": [
    "X_test = X[:, :, test_sim]"
   ]
  },
  {
   "cell_type": "code",
   "execution_count": 27,
   "id": "214b4332",
   "metadata": {},
   "outputs": [],
   "source": [
    "X_train_test_ttrain = X[:, :(nTrainTime + 1), :]"
   ]
  },
  {
   "cell_type": "code",
   "execution_count": 58,
   "id": "e3efbffe",
   "metadata": {},
   "outputs": [
    {
     "data": {
      "text/plain": [
       "(16384, 41, 222)"
      ]
     },
     "execution_count": 58,
     "metadata": {},
     "output_type": "execute_result"
    }
   ],
   "source": [
    "X_train_ttrain.shape"
   ]
  },
  {
   "cell_type": "code",
   "execution_count": 28,
   "id": "79785f06",
   "metadata": {},
   "outputs": [
    {
     "data": {
      "text/plain": [
       "32"
      ]
     },
     "execution_count": 28,
     "metadata": {},
     "output_type": "execute_result"
    }
   ],
   "source": [
    "rom_1 = op.ContinuousOpInfROM(modelform=\"AH\")\n",
    "basis_1 = op.pre.PODBasis().fit(X_train_ttrain[:, :, 0], residual_energy=1e-8)\n",
    "basis_1.r"
   ]
  },
  {
   "cell_type": "code",
   "execution_count": 29,
   "id": "20ca8d5e",
   "metadata": {},
   "outputs": [],
   "source": [
    "reduced_states = basis_1.encode(X_train_ttrain[:, :, 0])"
   ]
  },
  {
   "cell_type": "code",
   "execution_count": 30,
   "id": "bf9fc892",
   "metadata": {},
   "outputs": [
    {
     "data": {
      "text/plain": [
       "(32, 41)"
      ]
     },
     "execution_count": 30,
     "metadata": {},
     "output_type": "execute_result"
    }
   ],
   "source": [
    "reduced_states.shape"
   ]
  },
  {
   "cell_type": "code",
   "execution_count": 31,
   "id": "312dc747",
   "metadata": {},
   "outputs": [
    {
     "data": {
      "text/plain": [
       "array([ 5.18753867,  5.4877632 ,  5.74297088,  5.93984572,  6.07472786,\n",
       "        6.14135307,  6.13742178,  6.06361853,  5.92100359,  5.70977877,\n",
       "        5.42965491,  5.08355595,  4.67775802,  4.21922311,  3.71461306,\n",
       "        3.16796246,  2.58665005,  1.98280391,  1.36212992,  0.73077039,\n",
       "        0.09351159, -0.54198027, -1.16760093, -1.77649704, -2.36307699,\n",
       "       -2.92112476, -3.44261899, -3.92287053, -4.35932236, -4.74802847,\n",
       "       -5.08321308, -5.36596717, -5.59438547, -5.76788039, -5.88884099,\n",
       "       -5.95946237, -5.98421062, -5.96423347, -5.90416973, -5.80922226,\n",
       "       -5.68420387])"
      ]
     },
     "execution_count": 31,
     "metadata": {},
     "output_type": "execute_result"
    }
   ],
   "source": [
    "reduced_states[1, :]"
   ]
  },
  {
   "cell_type": "markdown",
   "id": "d0c5f256",
   "metadata": {},
   "source": [
    "### Construction of NODE Architecture"
   ]
  },
  {
   "cell_type": "code",
   "execution_count": 32,
   "id": "636140a3",
   "metadata": {},
   "outputs": [],
   "source": [
    "device = torch.device('cuda:0' if torch.cuda.is_available() else 'cpu')"
   ]
  },
  {
   "cell_type": "code",
   "execution_count": 33,
   "id": "bba726d9",
   "metadata": {},
   "outputs": [
    {
     "data": {
      "text/plain": [
       "device(type='cuda', index=0)"
      ]
     },
     "execution_count": 33,
     "metadata": {},
     "output_type": "execute_result"
    }
   ],
   "source": [
    "device"
   ]
  },
  {
   "cell_type": "code",
   "execution_count": 34,
   "id": "4f970687",
   "metadata": {},
   "outputs": [
    {
     "data": {
      "text/plain": [
       "array([0.        , 0.03333333, 0.06666667, 0.1       , 0.13333333,\n",
       "       0.16666667, 0.2       , 0.23333333, 0.26666667, 0.3       ,\n",
       "       0.33333333, 0.36666667, 0.4       , 0.43333333, 0.46666667,\n",
       "       0.5       , 0.53333333, 0.56666667, 0.6       , 0.63333333,\n",
       "       0.66666667, 0.7       , 0.73333333, 0.76666667, 0.8       ,\n",
       "       0.83333333, 0.86666667, 0.9       , 0.93333333, 0.96666667,\n",
       "       1.        , 1.03333333, 1.06666667, 1.1       , 1.13333333,\n",
       "       1.16666667, 1.2       , 1.23333333, 1.26666667, 1.3       ,\n",
       "       1.33333333])"
      ]
     },
     "execution_count": 34,
     "metadata": {},
     "output_type": "execute_result"
    }
   ],
   "source": [
    "t_train"
   ]
  },
  {
   "cell_type": "code",
   "execution_count": 35,
   "id": "57916421",
   "metadata": {},
   "outputs": [
    {
     "name": "stdout",
     "output_type": "stream",
     "text": [
      "Data size =  41  Batch time =  5  Batch size =  10\n"
     ]
    }
   ],
   "source": [
    "data_size = t_train.shape[0]\n",
    "batch_time = 5\n",
    "batch_size = 10\n",
    "print(\"Data size = \", data_size, \" Batch time = \", batch_time, \" Batch size = \", batch_size)"
   ]
  },
  {
   "cell_type": "code",
   "execution_count": 36,
   "id": "a197d26e",
   "metadata": {},
   "outputs": [],
   "source": [
    "t = torch.tensor(np.float32(t_train)).to(device)"
   ]
  },
  {
   "cell_type": "code",
   "execution_count": 37,
   "id": "d1dee920",
   "metadata": {},
   "outputs": [
    {
     "data": {
      "text/plain": [
       "torch.float32"
      ]
     },
     "execution_count": 37,
     "metadata": {},
     "output_type": "execute_result"
    }
   ],
   "source": [
    "t.dtype"
   ]
  },
  {
   "cell_type": "code",
   "execution_count": 38,
   "id": "bc62ce66",
   "metadata": {},
   "outputs": [
    {
     "data": {
      "text/plain": [
       "torch.Size([1, 32])"
      ]
     },
     "execution_count": 38,
     "metadata": {},
     "output_type": "execute_result"
    }
   ],
   "source": [
    "true_y0 = torch.from_numpy(np.float32(reduced_states[:, 0]))\n",
    "true_y0 = true_y0.reshape((1, len(true_y0))).to(device)\n",
    "true_y0.shape"
   ]
  },
  {
   "cell_type": "code",
   "execution_count": 39,
   "id": "663b5bf4",
   "metadata": {},
   "outputs": [
    {
     "data": {
      "text/plain": [
       "torch.float32"
      ]
     },
     "execution_count": 39,
     "metadata": {},
     "output_type": "execute_result"
    }
   ],
   "source": [
    "true_y0.dtype"
   ]
  },
  {
   "cell_type": "code",
   "execution_count": 68,
   "id": "64dc6b8d",
   "metadata": {},
   "outputs": [
    {
     "data": {
      "text/plain": [
       "(32, 41)"
      ]
     },
     "execution_count": 68,
     "metadata": {},
     "output_type": "execute_result"
    }
   ],
   "source": [
    "reduced_states.shape"
   ]
  },
  {
   "cell_type": "code",
   "execution_count": 40,
   "id": "f71d1e3b",
   "metadata": {},
   "outputs": [
    {
     "data": {
      "text/plain": [
       "torch.Size([41, 1, 32])"
      ]
     },
     "execution_count": 40,
     "metadata": {},
     "output_type": "execute_result"
    }
   ],
   "source": [
    "yreduced = np.float32(reduced_states.T)\n",
    "true_y = torch.from_numpy(np.expand_dims(yreduced, axis=1)).to(device)\n",
    "true_y.shape"
   ]
  },
  {
   "cell_type": "code",
   "execution_count": 41,
   "id": "954624f1",
   "metadata": {},
   "outputs": [
    {
     "data": {
      "text/plain": [
       "torch.float32"
      ]
     },
     "execution_count": 41,
     "metadata": {},
     "output_type": "execute_result"
    }
   ],
   "source": [
    "true_y.dtype"
   ]
  },
  {
   "cell_type": "markdown",
   "id": "999f4138",
   "metadata": {},
   "source": [
    "Need functions for getting batch, getting true x, getting ODE func - where we run the \"loss\" metric compared to the true simulation."
   ]
  },
  {
   "cell_type": "markdown",
   "id": "9c1ef3a6",
   "metadata": {},
   "source": [
    "The batch is taking IC as values at different times in the training set, and the solution as the values following the IC upto some predefined batch size for time."
   ]
  },
  {
   "cell_type": "code",
   "execution_count": 42,
   "id": "c43415f5",
   "metadata": {},
   "outputs": [],
   "source": [
    "def get_batch():\n",
    "    s = torch.from_numpy(np.random.choice(np.arange(data_size - batch_time, dtype=np.int64),\n",
    "                                          batch_size, replace=False))\n",
    "    batch_y0 = true_y[s]\n",
    "    batch_t = t[:batch_time]  # (T)\n",
    "    batch_y = torch.stack([true_y[s + i] for i in range(batch_time)], dim=0)  # (T, M, D)\n",
    "    return batch_y0.to(device), batch_t.to(device), batch_y.to(device)"
   ]
  },
  {
   "cell_type": "code",
   "execution_count": 43,
   "id": "8089891f",
   "metadata": {},
   "outputs": [],
   "source": [
    "by0, bt, by = get_batch()"
   ]
  },
  {
   "cell_type": "code",
   "execution_count": 51,
   "id": "a2570a6f",
   "metadata": {},
   "outputs": [
    {
     "data": {
      "text/plain": [
       "5"
      ]
     },
     "execution_count": 51,
     "metadata": {},
     "output_type": "execute_result"
    }
   ],
   "source": [
    "batch_time"
   ]
  },
  {
   "cell_type": "code",
   "execution_count": 44,
   "id": "f3f53a12",
   "metadata": {},
   "outputs": [
    {
     "data": {
      "text/plain": [
       "(torch.Size([10, 1, 32]), torch.Size([5]), torch.Size([5, 10, 1, 32]))"
      ]
     },
     "execution_count": 44,
     "metadata": {},
     "output_type": "execute_result"
    }
   ],
   "source": [
    "by0.shape, bt.shape, by.shape"
   ]
  },
  {
   "cell_type": "code",
   "execution_count": 45,
   "id": "108c0e3a",
   "metadata": {},
   "outputs": [],
   "source": [
    "class RunningAverageMeter(object):\n",
    "    \"\"\"Computes and stores the average and current value\"\"\"\n",
    "\n",
    "    def __init__(self, momentum=0.99):\n",
    "        self.momentum = momentum\n",
    "        self.reset()\n",
    "\n",
    "    def reset(self):\n",
    "        self.val = None\n",
    "        self.avg = 0\n",
    "\n",
    "    def update(self, val):\n",
    "        if self.val is None:\n",
    "            self.avg = val\n",
    "        else:\n",
    "            self.avg = self.avg * self.momentum + val * (1 - self.momentum)\n",
    "        self.val = val"
   ]
  },
  {
   "cell_type": "code",
   "execution_count": 46,
   "id": "4fe8aec6",
   "metadata": {},
   "outputs": [],
   "source": [
    "class ODEFunc(nn.Module):\n",
    "\n",
    "    def __init__(self):\n",
    "        super(ODEFunc, self).__init__()\n",
    "\n",
    "        self.net1 = nn.Sequential(\n",
    "            nn.Linear(32, 50),\n",
    "            nn.Tanh(),\n",
    "            nn.Linear(50, 32),\n",
    "        )\n",
    "        \n",
    "#         self.net2 = nn.Sequential(\n",
    "#             nn.Linear(32, 50),\n",
    "#             nn.Tanh(),\n",
    "#             nn.Linear(50, 2),\n",
    "#             nn.Linear(2, 50),\n",
    "#             nn.Tanh(),\n",
    "#             nn.Linear(50, 32),\n",
    "#         )\n",
    "\n",
    "        for m in self.net1.modules():\n",
    "            if isinstance(m, nn.Linear):\n",
    "                nn.init.normal_(m.weight, mean=0, std=0.1)\n",
    "                nn.init.constant_(m.bias, val=0)\n",
    "                \n",
    "#         for m in self.net2.modules():\n",
    "#             if isinstance(m, nn.Linear):\n",
    "#                 nn.init.normal_(m.weight, mean=0, std=0.1)\n",
    "#                 nn.init.constant_(m.bias, val=0)\n",
    "\n",
    "    \n",
    "    def forward(self, t, y):\n",
    "        return self.net1(y)\n",
    "#     def forward(self, t, y):\n",
    "#         return self.net1(y) + self.net2(y**2)"
   ]
  },
  {
   "cell_type": "markdown",
   "id": "6f809841",
   "metadata": {},
   "source": [
    "Check the ODE demo in a parallel notebook and replicate these functions for our case."
   ]
  },
  {
   "cell_type": "code",
   "execution_count": 47,
   "id": "af45dd82",
   "metadata": {},
   "outputs": [],
   "source": [
    "ii = 0\n",
    "func = ODEFunc().to(device)\n",
    "optimizer = optim.RMSprop(func.parameters(), lr=1e-3)\n",
    "end = time.time()"
   ]
  },
  {
   "cell_type": "code",
   "execution_count": 74,
   "id": "2bc1c04d",
   "metadata": {},
   "outputs": [],
   "source": [
    "niters = 2000\n",
    "test_freq = 5"
   ]
  },
  {
   "cell_type": "code",
   "execution_count": 49,
   "id": "784f21ce",
   "metadata": {},
   "outputs": [
    {
     "data": {
      "text/plain": [
       "ODEFunc(\n",
       "  (net1): Sequential(\n",
       "    (0): Linear(in_features=32, out_features=50, bias=True)\n",
       "    (1): Tanh()\n",
       "    (2): Linear(in_features=50, out_features=32, bias=True)\n",
       "  )\n",
       ")"
      ]
     },
     "execution_count": 49,
     "metadata": {},
     "output_type": "execute_result"
    }
   ],
   "source": [
    "func"
   ]
  },
  {
   "cell_type": "code",
   "execution_count": 50,
   "id": "8272a3f5",
   "metadata": {
    "scrolled": true
   },
   "outputs": [
    {
     "name": "stdout",
     "output_type": "stream",
     "text": [
      "Iter 0005 | Total Loss 0.695591\n",
      "Iter 0010 | Total Loss 0.646186\n",
      "Iter 0015 | Total Loss 0.614555\n",
      "Iter 0020 | Total Loss 0.596565\n",
      "Iter 0025 | Total Loss 0.576849\n",
      "Iter 0030 | Total Loss 0.584567\n",
      "Iter 0035 | Total Loss 0.568074\n",
      "Iter 0040 | Total Loss 0.553226\n",
      "Iter 0045 | Total Loss 0.520016\n",
      "Iter 0050 | Total Loss 0.513514\n",
      "Iter 0055 | Total Loss 0.484056\n",
      "Iter 0060 | Total Loss 0.469421\n",
      "Iter 0065 | Total Loss 0.484454\n",
      "Iter 0070 | Total Loss 0.489277\n",
      "Iter 0075 | Total Loss 0.492525\n",
      "Iter 0080 | Total Loss 0.482905\n",
      "Iter 0085 | Total Loss 0.479032\n",
      "Iter 0090 | Total Loss 0.481352\n",
      "Iter 0095 | Total Loss 0.468768\n",
      "Iter 0100 | Total Loss 0.471009\n",
      "Iter 0105 | Total Loss 0.467067\n",
      "Iter 0110 | Total Loss 0.461036\n",
      "Iter 0115 | Total Loss 0.468232\n",
      "Iter 0120 | Total Loss 0.477512\n",
      "Iter 0125 | Total Loss 0.451319\n",
      "Iter 0130 | Total Loss 0.450396\n",
      "Iter 0135 | Total Loss 0.457696\n",
      "Iter 0140 | Total Loss 0.453749\n",
      "Iter 0145 | Total Loss 0.448612\n",
      "Iter 0150 | Total Loss 0.448365\n",
      "Iter 0155 | Total Loss 0.441868\n",
      "Iter 0160 | Total Loss 0.435343\n",
      "Iter 0165 | Total Loss 0.452073\n",
      "Iter 0170 | Total Loss 0.432915\n",
      "Iter 0175 | Total Loss 0.447542\n",
      "Iter 0180 | Total Loss 0.432275\n",
      "Iter 0185 | Total Loss 0.433606\n",
      "Iter 0190 | Total Loss 0.431403\n",
      "Iter 0195 | Total Loss 0.416027\n",
      "Iter 0200 | Total Loss 0.420732\n",
      "Iter 0205 | Total Loss 0.413192\n",
      "Iter 0210 | Total Loss 0.420884\n",
      "Iter 0215 | Total Loss 0.422756\n",
      "Iter 0220 | Total Loss 0.407031\n",
      "Iter 0225 | Total Loss 0.407672\n",
      "Iter 0230 | Total Loss 0.398861\n",
      "Iter 0235 | Total Loss 0.413970\n",
      "Iter 0240 | Total Loss 0.410658\n",
      "Iter 0245 | Total Loss 0.406950\n",
      "Iter 0250 | Total Loss 0.413445\n",
      "Iter 0255 | Total Loss 0.405422\n",
      "Iter 0260 | Total Loss 0.409301\n",
      "Iter 0265 | Total Loss 0.409099\n",
      "Iter 0270 | Total Loss 0.409621\n",
      "Iter 0275 | Total Loss 0.414219\n",
      "Iter 0280 | Total Loss 0.416264\n",
      "Iter 0285 | Total Loss 0.413319\n",
      "Iter 0290 | Total Loss 0.417233\n",
      "Iter 0295 | Total Loss 0.415630\n",
      "Iter 0300 | Total Loss 0.420854\n",
      "Iter 0305 | Total Loss 0.420855\n",
      "Iter 0310 | Total Loss 0.423934\n",
      "Iter 0315 | Total Loss 0.414485\n",
      "Iter 0320 | Total Loss 0.415853\n",
      "Iter 0325 | Total Loss 0.417782\n",
      "Iter 0330 | Total Loss 0.413133\n",
      "Iter 0335 | Total Loss 0.426054\n",
      "Iter 0340 | Total Loss 0.410655\n",
      "Iter 0345 | Total Loss 0.421471\n",
      "Iter 0350 | Total Loss 0.420173\n",
      "Iter 0355 | Total Loss 0.416491\n",
      "Iter 0360 | Total Loss 0.415801\n",
      "Iter 0365 | Total Loss 0.425153\n",
      "Iter 0370 | Total Loss 0.417699\n",
      "Iter 0375 | Total Loss 0.429270\n",
      "Iter 0380 | Total Loss 0.426905\n",
      "Iter 0385 | Total Loss 0.410528\n",
      "Iter 0390 | Total Loss 0.425850\n",
      "Iter 0395 | Total Loss 0.417183\n",
      "Iter 0400 | Total Loss 0.411145\n",
      "Iter 0405 | Total Loss 0.405815\n",
      "Iter 0410 | Total Loss 0.407133\n",
      "Iter 0415 | Total Loss 0.414325\n",
      "Iter 0420 | Total Loss 0.414103\n",
      "Iter 0425 | Total Loss 0.407655\n",
      "Iter 0430 | Total Loss 0.406717\n",
      "Iter 0435 | Total Loss 0.401507\n",
      "Iter 0440 | Total Loss 0.422997\n",
      "Iter 0445 | Total Loss 0.414807\n",
      "Iter 0450 | Total Loss 0.411885\n",
      "Iter 0455 | Total Loss 0.404497\n",
      "Iter 0460 | Total Loss 0.414489\n",
      "Iter 0465 | Total Loss 0.415648\n",
      "Iter 0470 | Total Loss 0.420270\n",
      "Iter 0475 | Total Loss 0.419440\n",
      "Iter 0480 | Total Loss 0.418460\n",
      "Iter 0485 | Total Loss 0.405177\n",
      "Iter 0490 | Total Loss 0.418542\n",
      "Iter 0495 | Total Loss 0.403304\n",
      "Iter 0500 | Total Loss 0.404695\n",
      "Iter 0505 | Total Loss 0.398574\n",
      "Iter 0510 | Total Loss 0.402657\n",
      "Iter 0515 | Total Loss 0.398343\n",
      "Iter 0520 | Total Loss 0.405304\n",
      "Iter 0525 | Total Loss 0.405602\n",
      "Iter 0530 | Total Loss 0.401661\n",
      "Iter 0535 | Total Loss 0.398863\n",
      "Iter 0540 | Total Loss 0.396781\n",
      "Iter 0545 | Total Loss 0.402611\n",
      "Iter 0550 | Total Loss 0.413396\n",
      "Iter 0555 | Total Loss 0.405796\n",
      "Iter 0560 | Total Loss 0.398763\n",
      "Iter 0565 | Total Loss 0.404496\n",
      "Iter 0570 | Total Loss 0.408834\n",
      "Iter 0575 | Total Loss 0.404065\n",
      "Iter 0580 | Total Loss 0.400704\n",
      "Iter 0585 | Total Loss 0.410289\n",
      "Iter 0590 | Total Loss 0.404553\n",
      "Iter 0595 | Total Loss 0.397708\n",
      "Iter 0600 | Total Loss 0.396636\n",
      "Iter 0605 | Total Loss 0.388274\n",
      "Iter 0610 | Total Loss 0.393655\n",
      "Iter 0615 | Total Loss 0.397271\n",
      "Iter 0620 | Total Loss 0.392910\n",
      "Iter 0625 | Total Loss 0.398867\n",
      "Iter 0630 | Total Loss 0.376744\n",
      "Iter 0635 | Total Loss 0.385313\n",
      "Iter 0640 | Total Loss 0.381002\n",
      "Iter 0645 | Total Loss 0.381130\n",
      "Iter 0650 | Total Loss 0.384003\n",
      "Iter 0655 | Total Loss 0.377631\n",
      "Iter 0660 | Total Loss 0.380892\n",
      "Iter 0665 | Total Loss 0.379367\n",
      "Iter 0670 | Total Loss 0.369890\n",
      "Iter 0675 | Total Loss 0.366549\n",
      "Iter 0680 | Total Loss 0.374649\n",
      "Iter 0685 | Total Loss 0.368486\n",
      "Iter 0690 | Total Loss 0.365037\n",
      "Iter 0695 | Total Loss 0.365484\n",
      "Iter 0700 | Total Loss 0.358293\n",
      "Iter 0705 | Total Loss 0.362983\n",
      "Iter 0710 | Total Loss 0.363468\n",
      "Iter 0715 | Total Loss 0.360391\n",
      "Iter 0720 | Total Loss 0.366600\n",
      "Iter 0725 | Total Loss 0.365281\n",
      "Iter 0730 | Total Loss 0.362256\n",
      "Iter 0735 | Total Loss 0.362745\n",
      "Iter 0740 | Total Loss 0.361874\n",
      "Iter 0745 | Total Loss 0.355466\n",
      "Iter 0750 | Total Loss 0.366401\n",
      "Iter 0755 | Total Loss 0.347516\n",
      "Iter 0760 | Total Loss 0.344953\n",
      "Iter 0765 | Total Loss 0.351848\n",
      "Iter 0770 | Total Loss 0.361380\n",
      "Iter 0775 | Total Loss 0.360194\n",
      "Iter 0780 | Total Loss 0.346180\n",
      "Iter 0785 | Total Loss 0.345017\n",
      "Iter 0790 | Total Loss 0.350016\n",
      "Iter 0795 | Total Loss 0.342926\n",
      "Iter 0800 | Total Loss 0.353605\n",
      "Iter 0805 | Total Loss 0.343502\n",
      "Iter 0810 | Total Loss 0.346385\n",
      "Iter 0815 | Total Loss 0.341645\n",
      "Iter 0820 | Total Loss 0.337554\n",
      "Iter 0825 | Total Loss 0.335762\n",
      "Iter 0830 | Total Loss 0.334867\n",
      "Iter 0835 | Total Loss 0.337683\n",
      "Iter 0840 | Total Loss 0.336581\n",
      "Iter 0845 | Total Loss 0.331791\n",
      "Iter 0850 | Total Loss 0.336197\n",
      "Iter 0855 | Total Loss 0.331737\n",
      "Iter 0860 | Total Loss 0.332920\n",
      "Iter 0865 | Total Loss 0.326728\n",
      "Iter 0870 | Total Loss 0.319641\n",
      "Iter 0875 | Total Loss 0.322873\n",
      "Iter 0880 | Total Loss 0.319905\n",
      "Iter 0885 | Total Loss 0.332879\n",
      "Iter 0890 | Total Loss 0.323825\n",
      "Iter 0895 | Total Loss 0.324948\n",
      "Iter 0900 | Total Loss 0.317287\n",
      "Iter 0905 | Total Loss 0.321578\n",
      "Iter 0910 | Total Loss 0.317632\n",
      "Iter 0915 | Total Loss 0.308512\n",
      "Iter 0920 | Total Loss 0.323163\n",
      "Iter 0925 | Total Loss 0.307600\n",
      "Iter 0930 | Total Loss 0.308816\n",
      "Iter 0935 | Total Loss 0.302521\n",
      "Iter 0940 | Total Loss 0.308091\n",
      "Iter 0945 | Total Loss 0.309995\n",
      "Iter 0950 | Total Loss 0.306111\n",
      "Iter 0955 | Total Loss 0.307872\n",
      "Iter 0960 | Total Loss 0.306773\n",
      "Iter 0965 | Total Loss 0.298897\n",
      "Iter 0970 | Total Loss 0.297931\n",
      "Iter 0975 | Total Loss 0.294974\n",
      "Iter 0980 | Total Loss 0.291496\n",
      "Iter 0985 | Total Loss 0.286884\n",
      "Iter 0990 | Total Loss 0.287603\n",
      "Iter 0995 | Total Loss 0.288132\n",
      "Iter 1000 | Total Loss 0.285716\n",
      "Iter 1005 | Total Loss 0.289483\n",
      "Iter 1010 | Total Loss 0.287329\n",
      "Iter 1015 | Total Loss 0.282632\n",
      "Iter 1020 | Total Loss 0.281933\n",
      "Iter 1025 | Total Loss 0.280604\n",
      "Iter 1030 | Total Loss 0.287152\n",
      "Iter 1035 | Total Loss 0.278977\n",
      "Iter 1040 | Total Loss 0.274735\n",
      "Iter 1045 | Total Loss 0.273852\n",
      "Iter 1050 | Total Loss 0.272188\n",
      "Iter 1055 | Total Loss 0.278273\n",
      "Iter 1060 | Total Loss 0.266738\n",
      "Iter 1065 | Total Loss 0.274571\n",
      "Iter 1070 | Total Loss 0.274930\n",
      "Iter 1075 | Total Loss 0.264938\n",
      "Iter 1080 | Total Loss 0.267476\n",
      "Iter 1085 | Total Loss 0.259349\n",
      "Iter 1090 | Total Loss 0.260303\n",
      "Iter 1095 | Total Loss 0.258956\n",
      "Iter 1100 | Total Loss 0.258780\n",
      "Iter 1105 | Total Loss 0.249654\n",
      "Iter 1110 | Total Loss 0.252814\n",
      "Iter 1115 | Total Loss 0.246608\n",
      "Iter 1120 | Total Loss 0.244451\n",
      "Iter 1125 | Total Loss 0.247114\n",
      "Iter 1130 | Total Loss 0.249321\n",
      "Iter 1135 | Total Loss 0.244533\n",
      "Iter 1140 | Total Loss 0.245342\n",
      "Iter 1145 | Total Loss 0.237886\n",
      "Iter 1150 | Total Loss 0.242165\n",
      "Iter 1155 | Total Loss 0.237239\n",
      "Iter 1160 | Total Loss 0.238431\n",
      "Iter 1165 | Total Loss 0.241220\n",
      "Iter 1170 | Total Loss 0.234184\n",
      "Iter 1175 | Total Loss 0.233209\n",
      "Iter 1180 | Total Loss 0.236223\n",
      "Iter 1185 | Total Loss 0.231886\n",
      "Iter 1190 | Total Loss 0.225359\n",
      "Iter 1195 | Total Loss 0.232711\n",
      "Iter 1200 | Total Loss 0.231235\n",
      "Iter 1205 | Total Loss 0.232591\n",
      "Iter 1210 | Total Loss 0.223764\n",
      "Iter 1215 | Total Loss 0.224037\n",
      "Iter 1220 | Total Loss 0.224142\n",
      "Iter 1225 | Total Loss 0.228610\n",
      "Iter 1230 | Total Loss 0.221202\n",
      "Iter 1235 | Total Loss 0.222493\n",
      "Iter 1240 | Total Loss 0.225216\n",
      "Iter 1245 | Total Loss 0.215641\n",
      "Iter 1250 | Total Loss 0.214409\n",
      "Iter 1255 | Total Loss 0.216523\n",
      "Iter 1260 | Total Loss 0.215276\n",
      "Iter 1265 | Total Loss 0.216839\n",
      "Iter 1270 | Total Loss 0.209549\n",
      "Iter 1275 | Total Loss 0.208740\n",
      "Iter 1280 | Total Loss 0.203039\n",
      "Iter 1285 | Total Loss 0.211324\n"
     ]
    },
    {
     "name": "stdout",
     "output_type": "stream",
     "text": [
      "Iter 1290 | Total Loss 0.213334\n",
      "Iter 1295 | Total Loss 0.213116\n",
      "Iter 1300 | Total Loss 0.210640\n",
      "Iter 1305 | Total Loss 0.202580\n",
      "Iter 1310 | Total Loss 0.197738\n",
      "Iter 1315 | Total Loss 0.200733\n",
      "Iter 1320 | Total Loss 0.208642\n",
      "Iter 1325 | Total Loss 0.212752\n",
      "Iter 1330 | Total Loss 0.211660\n",
      "Iter 1335 | Total Loss 0.213011\n",
      "Iter 1340 | Total Loss 0.202608\n",
      "Iter 1345 | Total Loss 0.197128\n",
      "Iter 1350 | Total Loss 0.206281\n",
      "Iter 1355 | Total Loss 0.199990\n",
      "Iter 1360 | Total Loss 0.207802\n",
      "Iter 1365 | Total Loss 0.205166\n",
      "Iter 1370 | Total Loss 0.201388\n",
      "Iter 1375 | Total Loss 0.210010\n",
      "Iter 1380 | Total Loss 0.206790\n",
      "Iter 1385 | Total Loss 0.203095\n",
      "Iter 1390 | Total Loss 0.209929\n",
      "Iter 1395 | Total Loss 0.196631\n",
      "Iter 1400 | Total Loss 0.190665\n",
      "Iter 1405 | Total Loss 0.183984\n",
      "Iter 1410 | Total Loss 0.205451\n",
      "Iter 1415 | Total Loss 0.189083\n",
      "Iter 1420 | Total Loss 0.193259\n",
      "Iter 1425 | Total Loss 0.186661\n",
      "Iter 1430 | Total Loss 0.178932\n",
      "Iter 1435 | Total Loss 0.192388\n",
      "Iter 1440 | Total Loss 0.196182\n",
      "Iter 1445 | Total Loss 0.188084\n",
      "Iter 1450 | Total Loss 0.186630\n",
      "Iter 1455 | Total Loss 0.194636\n",
      "Iter 1460 | Total Loss 0.180148\n",
      "Iter 1465 | Total Loss 0.174643\n",
      "Iter 1470 | Total Loss 0.179241\n",
      "Iter 1475 | Total Loss 0.186287\n",
      "Iter 1480 | Total Loss 0.185537\n",
      "Iter 1485 | Total Loss 0.183350\n",
      "Iter 1490 | Total Loss 0.178408\n",
      "Iter 1495 | Total Loss 0.173282\n",
      "Iter 1500 | Total Loss 0.185019\n",
      "Iter 1505 | Total Loss 0.193602\n",
      "Iter 1510 | Total Loss 0.186037\n",
      "Iter 1515 | Total Loss 0.177737\n",
      "Iter 1520 | Total Loss 0.189624\n",
      "Iter 1525 | Total Loss 0.179876\n",
      "Iter 1530 | Total Loss 0.179443\n",
      "Iter 1535 | Total Loss 0.164124\n",
      "Iter 1540 | Total Loss 0.169457\n",
      "Iter 1545 | Total Loss 0.182613\n",
      "Iter 1550 | Total Loss 0.185618\n",
      "Iter 1555 | Total Loss 0.174110\n",
      "Iter 1560 | Total Loss 0.178489\n",
      "Iter 1565 | Total Loss 0.175257\n",
      "Iter 1570 | Total Loss 0.177172\n",
      "Iter 1575 | Total Loss 0.175267\n",
      "Iter 1580 | Total Loss 0.193850\n",
      "Iter 1585 | Total Loss 0.194557\n",
      "Iter 1590 | Total Loss 0.172891\n",
      "Iter 1595 | Total Loss 0.175321\n",
      "Iter 1600 | Total Loss 0.194489\n",
      "Iter 1605 | Total Loss 0.178622\n",
      "Iter 1610 | Total Loss 0.170087\n",
      "Iter 1615 | Total Loss 0.166368\n",
      "Iter 1620 | Total Loss 0.183743\n",
      "Iter 1625 | Total Loss 0.166405\n",
      "Iter 1630 | Total Loss 0.183155\n",
      "Iter 1635 | Total Loss 0.172619\n",
      "Iter 1640 | Total Loss 0.182266\n",
      "Iter 1645 | Total Loss 0.182372\n",
      "Iter 1650 | Total Loss 0.188411\n",
      "Iter 1655 | Total Loss 0.187110\n",
      "Iter 1660 | Total Loss 0.185602\n",
      "Iter 1665 | Total Loss 0.174759\n",
      "Iter 1670 | Total Loss 0.189726\n",
      "Iter 1675 | Total Loss 0.177699\n",
      "Iter 1680 | Total Loss 0.167918\n",
      "Iter 1685 | Total Loss 0.172993\n",
      "Iter 1690 | Total Loss 0.181397\n",
      "Iter 1695 | Total Loss 0.179649\n",
      "Iter 1700 | Total Loss 0.194740\n",
      "Iter 1705 | Total Loss 0.172015\n",
      "Iter 1710 | Total Loss 0.158010\n",
      "Iter 1715 | Total Loss 0.164915\n",
      "Iter 1720 | Total Loss 0.168009\n",
      "Iter 1725 | Total Loss 0.184309\n",
      "Iter 1730 | Total Loss 0.169757\n",
      "Iter 1735 | Total Loss 0.167378\n",
      "Iter 1740 | Total Loss 0.172476\n",
      "Iter 1745 | Total Loss 0.155970\n",
      "Iter 1750 | Total Loss 0.174184\n",
      "Iter 1755 | Total Loss 0.180232\n",
      "Iter 1760 | Total Loss 0.192318\n",
      "Iter 1765 | Total Loss 0.176495\n",
      "Iter 1770 | Total Loss 0.165421\n",
      "Iter 1775 | Total Loss 0.171302\n",
      "Iter 1780 | Total Loss 0.176443\n",
      "Iter 1785 | Total Loss 0.173225\n",
      "Iter 1790 | Total Loss 0.164239\n",
      "Iter 1795 | Total Loss 0.166958\n",
      "Iter 1800 | Total Loss 0.170536\n",
      "Iter 1805 | Total Loss 0.167991\n",
      "Iter 1810 | Total Loss 0.182291\n",
      "Iter 1815 | Total Loss 0.171448\n",
      "Iter 1820 | Total Loss 0.188849\n",
      "Iter 1825 | Total Loss 0.181333\n",
      "Iter 1830 | Total Loss 0.160007\n",
      "Iter 1835 | Total Loss 0.167802\n",
      "Iter 1840 | Total Loss 0.171261\n",
      "Iter 1845 | Total Loss 0.182245\n",
      "Iter 1850 | Total Loss 0.178183\n",
      "Iter 1855 | Total Loss 0.175234\n",
      "Iter 1860 | Total Loss 0.172108\n",
      "Iter 1865 | Total Loss 0.169071\n",
      "Iter 1870 | Total Loss 0.175232\n",
      "Iter 1875 | Total Loss 0.170448\n",
      "Iter 1880 | Total Loss 0.185810\n",
      "Iter 1885 | Total Loss 0.168227\n",
      "Iter 1890 | Total Loss 0.168125\n",
      "Iter 1895 | Total Loss 0.160836\n",
      "Iter 1900 | Total Loss 0.166423\n",
      "Iter 1905 | Total Loss 0.182156\n",
      "Iter 1910 | Total Loss 0.174028\n",
      "Iter 1915 | Total Loss 0.169997\n",
      "Iter 1920 | Total Loss 0.151238\n",
      "Iter 1925 | Total Loss 0.156967\n",
      "Iter 1930 | Total Loss 0.177732\n",
      "Iter 1935 | Total Loss 0.166781\n",
      "Iter 1940 | Total Loss 0.163968\n",
      "Iter 1945 | Total Loss 0.156520\n",
      "Iter 1950 | Total Loss 0.173236\n",
      "Iter 1955 | Total Loss 0.160968\n",
      "Iter 1960 | Total Loss 0.163645\n",
      "Iter 1965 | Total Loss 0.179897\n",
      "Iter 1970 | Total Loss 0.181838\n",
      "Iter 1975 | Total Loss 0.186407\n",
      "Iter 1980 | Total Loss 0.177437\n",
      "Iter 1985 | Total Loss 0.186928\n",
      "Iter 1990 | Total Loss 0.174957\n",
      "Iter 1995 | Total Loss 0.175715\n",
      "Iter 2000 | Total Loss 0.168591\n"
     ]
    }
   ],
   "source": [
    "time_meter = RunningAverageMeter(0.97)\n",
    "loss_meter = RunningAverageMeter(0.97)\n",
    "\n",
    "for itr in range(1, niters + 1):\n",
    "    optimizer.zero_grad()\n",
    "    batch_y0, batch_t, batch_y = get_batch()\n",
    "    pred_y = odeint(func, batch_y0, batch_t).to(device)\n",
    "    loss = torch.mean(torch.abs(pred_y - batch_y))\n",
    "    loss.backward()\n",
    "    optimizer.step()\n",
    "\n",
    "    time_meter.update(time.time() - end)\n",
    "    loss_meter.update(loss.item())\n",
    "\n",
    "    if itr % test_freq == 0:\n",
    "        with torch.no_grad():\n",
    "            pred_y = odeint(func, true_y0, t)\n",
    "            loss = torch.mean(torch.abs(pred_y - true_y))\n",
    "            print('Iter {:04d} | Total Loss {:.6f}'.format(itr, loss.item()))\n",
    "#             visualize(true_y, pred_y, func, ii)\n",
    "            ii += 1\n",
    "\n",
    "    end = time.time()"
   ]
  },
  {
   "cell_type": "markdown",
   "id": "4a798a38",
   "metadata": {},
   "source": [
    "Effectively, we have two things to check over here:\n",
    "\n",
    "1. What is the error within the training set, if we provide initial condition y0?\n",
    "\n",
    "2. What is the error on the held out part of the data with the same IC?\n",
    "\n",
    "We could just plot the 2D images and check this qualitatively / with RMSE, with the caveat that RMSE is not really the metric we want to be optimizing for. Also is evaluating error between reduced _as opposed to_ full state appropriate?"
   ]
  },
  {
   "cell_type": "markdown",
   "id": "966d2249",
   "metadata": {},
   "source": [
    "If we tried everything with train times in first sim  i.e. `true_y` was derived from reduced states constructed off `X_train_ttrain[:, :, 0]` then `X_train_ttrain[:, :, 0]` is basically decoded shape for the `true_y`."
   ]
  },
  {
   "cell_type": "markdown",
   "id": "02c13192",
   "metadata": {},
   "source": [
    "Predicted `y` i.e. `pred_y` needs to be decoded."
   ]
  },
  {
   "cell_type": "code",
   "execution_count": 63,
   "id": "601fcc0a",
   "metadata": {},
   "outputs": [],
   "source": [
    "with torch.no_grad():\n",
    "    pred_y = odeint(func, true_y0, t)"
   ]
  },
  {
   "cell_type": "code",
   "execution_count": 64,
   "id": "6b0e9253",
   "metadata": {},
   "outputs": [
    {
     "data": {
      "text/plain": [
       "torch.Size([41, 1, 32])"
      ]
     },
     "execution_count": 64,
     "metadata": {},
     "output_type": "execute_result"
    }
   ],
   "source": [
    "pred_y.shape"
   ]
  },
  {
   "cell_type": "code",
   "execution_count": 69,
   "id": "cfeb4d6b",
   "metadata": {},
   "outputs": [],
   "source": [
    "pred_y_np = pred_y.cpu().numpy()[:, 0, :].T"
   ]
  },
  {
   "cell_type": "code",
   "execution_count": 71,
   "id": "5da1d341",
   "metadata": {},
   "outputs": [],
   "source": [
    "pred_y_decoded = basis_1.decode(pred_y_np)"
   ]
  },
  {
   "cell_type": "code",
   "execution_count": 73,
   "id": "18eb53f8",
   "metadata": {},
   "outputs": [],
   "source": [
    "true_y_decoded = X_train_ttrain[:, :, 0]"
   ]
  },
  {
   "cell_type": "code",
   "execution_count": 72,
   "id": "c46d401a",
   "metadata": {},
   "outputs": [
    {
     "data": {
      "text/plain": [
       "(16384, 41)"
      ]
     },
     "execution_count": 72,
     "metadata": {},
     "output_type": "execute_result"
    }
   ],
   "source": [
    "pred_y_decoded.shape"
   ]
  },
  {
   "cell_type": "markdown",
   "id": "b6e89ca2",
   "metadata": {},
   "source": [
    "visualization for if we are able to replicate training properly."
   ]
  },
  {
   "cell_type": "code",
   "execution_count": 75,
   "id": "95ee5322",
   "metadata": {},
   "outputs": [
    {
     "data": {
      "text/plain": [
       "16384"
      ]
     },
     "execution_count": 75,
     "metadata": {},
     "output_type": "execute_result"
    }
   ],
   "source": [
    "64 * 256"
   ]
  },
  {
   "cell_type": "code",
   "execution_count": 84,
   "id": "8b27796d",
   "metadata": {},
   "outputs": [
    {
     "data": {
      "text/plain": [
       "<matplotlib.colorbar.Colorbar at 0x7fde60e53760>"
      ]
     },
     "execution_count": 84,
     "metadata": {},
     "output_type": "execute_result"
    },
    {
     "data": {
      "image/png": "[encoded data removed]",
      "text/plain": [
       "<Figure size 3000x1800 with 4 Axes>"
      ]
     },
     "metadata": {},
     "output_type": "display_data"
    }
   ],
   "source": [
    "# def visualize():\n",
    "fig, ax = plt.subplots(1, 2, figsize=(10, 6))\n",
    "axs = ax.ravel()\n",
    "im0 = axs[0].imshow(true_y_decoded[:, 40].reshape(64, 256),\n",
    "            origin=\"lower\",\n",
    "            cmap=lc3_reg)\n",
    "axs[0].set_title(\"True\")\n",
    "fig.colorbar(im0, fraction=0.046 * 1/3, pad=0.04)\n",
    "\n",
    "im1 = axs[1].imshow(pred_y_decoded[:, 40].reshape(64, 256),\n",
    "                   origin=\"lower\",\n",
    "                   cmap=lc3_reg)\n",
    "axs[1].set_title(\"Predicted\")\n",
    "fig.colorbar(im1, fraction=0.046 * 1/3, pad=0.04)"
   ]
  },
  {
   "cell_type": "markdown",
   "id": "ad557d2a",
   "metadata": {},
   "source": [
    "This definitely starts diverging very very quickly. Interesting. Is the training inadequate or is it a problem with the architecture, too complicated, overfitting and producing fake features?"
   ]
  },
  {
   "cell_type": "markdown",
   "id": "6746e87d",
   "metadata": {},
   "source": [
    "Let's also see how we do with some of the test times (120 minutes onwards, let's decode predictions similarly). solution rapidly diverges from true values as we approach end of test times."
   ]
  },
  {
   "cell_type": "code",
   "execution_count": 86,
   "id": "a93f6bd3",
   "metadata": {},
   "outputs": [],
   "source": [
    "t_full = torch.tensor(np.float32(t_vec)).to(device)"
   ]
  },
  {
   "cell_type": "code",
   "execution_count": 88,
   "id": "26e4868e",
   "metadata": {},
   "outputs": [],
   "source": [
    "with torch.no_grad():\n",
    "    pred_y_train_sim_fullt = odeint(func, true_y0, t_full)"
   ]
  },
  {
   "cell_type": "code",
   "execution_count": 90,
   "id": "d9f98ee1",
   "metadata": {},
   "outputs": [],
   "source": [
    "pred_y_train_sim_fullt_decoded = basis_1.decode(pred_y_train_sim_fullt.cpu().numpy()[:, 0, :].T)"
   ]
  },
  {
   "cell_type": "code",
   "execution_count": 91,
   "id": "e6407b3f",
   "metadata": {},
   "outputs": [
    {
     "data": {
      "text/plain": [
       "(16384, 71)"
      ]
     },
     "execution_count": 91,
     "metadata": {},
     "output_type": "execute_result"
    }
   ],
   "source": [
    "pred_y_train_sim_fullt_decoded.shape"
   ]
  },
  {
   "cell_type": "code",
   "execution_count": 95,
   "id": "2f69f0ae",
   "metadata": {},
   "outputs": [
    {
     "data": {
      "text/plain": [
       "(16384, 71)"
      ]
     },
     "execution_count": 95,
     "metadata": {},
     "output_type": "execute_result"
    }
   ],
   "source": [
    "true_y_decoded_fullt = X[:, :, 0]\n",
    "true_y_decoded_fullt.shape"
   ]
  },
  {
   "cell_type": "code",
   "execution_count": 97,
   "id": "45636d30",
   "metadata": {},
   "outputs": [
    {
     "data": {
      "text/plain": [
       "<matplotlib.colorbar.Colorbar at 0x7fde60a92a40>"
      ]
     },
     "execution_count": 97,
     "metadata": {},
     "output_type": "execute_result"
    },
    {
     "data": {
      "image/png": "[encoded data removed]",
      "text/plain": [
       "<Figure size 3000x1800 with 4 Axes>"
      ]
     },
     "metadata": {},
     "output_type": "display_data"
    }
   ],
   "source": [
    "fig, ax = plt.subplots(1, 2, figsize=(10, 6))\n",
    "axs = ax.ravel()\n",
    "im0 = axs[0].imshow(true_y_decoded_fullt[:, 70].reshape(64, 256),\n",
    "            origin=\"lower\",\n",
    "            cmap=lc3_reg)\n",
    "axs[0].set_title(\"True\")\n",
    "fig.colorbar(im0, fraction=0.046 * 1/3, pad=0.04)\n",
    "\n",
    "im1 = axs[1].imshow(pred_y_train_sim_fullt_decoded[:, 70].reshape(64, 256),\n",
    "                   origin=\"lower\",\n",
    "                   cmap=lc3_reg)\n",
    "axs[1].set_title(\"Predicted\")\n",
    "fig.colorbar(im1, fraction=0.046 * 1/3, pad=0.04)"
   ]
  },
  {
   "cell_type": "code",
   "execution_count": null,
   "id": "4afa066b",
   "metadata": {},
   "outputs": [],
   "source": [
    "# to check\n",
    "# what is the minimum error we go to in spiral ode example? (also try that in Julia and see\n",
    "# the minimum\n",
    "# set up viz for plotting decoded image data (decode -> reshape -> plot)\n",
    "# set up viz for plotting on \"test\" times (extrapolation)\n",
    "# finally see what to do for global learning (bayesian opinf and gresnet etc.)"
   ]
  },
  {
   "cell_type": "markdown",
   "id": "bce7dec4",
   "metadata": {},
   "source": [
    "Try the same example but with prior learnt OpInf model."
   ]
  },
  {
   "cell_type": "markdown",
   "id": "0bf673d8",
   "metadata": {},
   "source": [
    "### Scratch: Try resizing"
   ]
  },
  {
   "cell_type": "markdown",
   "id": "5b1feaa1",
   "metadata": {},
   "source": [
    "(using coarse images for training), but Resize doesn't seem to be a good idea, we seem to be losing too much information, keep like this for now. If we use reduced states for training, it negates some of the need for resizing anyways."
   ]
  },
  {
   "cell_type": "code",
   "execution_count": null,
   "id": "78c03dae",
   "metadata": {},
   "outputs": [],
   "source": [
    "# X_orig.shape"
   ]
  },
  {
   "cell_type": "code",
   "execution_count": null,
   "id": "3df3fc1e",
   "metadata": {},
   "outputs": [],
   "source": [
    "# scale_percent_ht = 70\n",
    "# scale_percent_width = 40\n",
    "# new_width = int(X.shape[1] * scale_percent_width / 100)\n",
    "# new_height = int(X.shape[0] * scale_percent_ht / 100)\n",
    "# new_dims = (new_width, new_height)\n",
    "# print(new_dims)"
   ]
  },
  {
   "cell_type": "code",
   "execution_count": null,
   "id": "ee2e19e7",
   "metadata": {},
   "outputs": [],
   "source": [
    "# x_sample_rs = cv2.resize(X_orig[:, :, nTrainTime, 0], new_dims, interpolation = cv2.INTER_AREA)"
   ]
  },
  {
   "cell_type": "code",
   "execution_count": null,
   "id": "705b4397",
   "metadata": {},
   "outputs": [],
   "source": [
    "# x_sample_rs.min(), x_sample_rs.max()"
   ]
  },
  {
   "cell_type": "code",
   "execution_count": null,
   "id": "3471b5e3",
   "metadata": {},
   "outputs": [],
   "source": [
    "# X_orig[:, :, nTrainTime, 0].min(), X[:, :, nTrainTime, 0].max()"
   ]
  },
  {
   "cell_type": "code",
   "execution_count": null,
   "id": "d9da3fd3",
   "metadata": {},
   "outputs": [],
   "source": [
    "# fig, ax = plt.subplots(2, 1, sharex=True, figsize=(12, 6))\n",
    "# axs = ax.ravel()\n",
    "# im = axs[0].imshow(X_orig[:, :, nTrainTime, 0],\n",
    "#               origin=\"lower\",\n",
    "#               extent=(0, 2 * np.pi, 4, 24),\n",
    "#               aspect=0.05,\n",
    "#               cmap=lc3_reg,\n",
    "#               vmin = 0,\n",
    "#               vmax = 1.5\n",
    "#              )\n",
    "# plt.colorbar(im, fraction=0.046, pad=0.04, ax=axs[0])\n",
    "\n",
    "# im = axs[1].imshow(x_sample_rs,\n",
    "#                   origin=\"lower\",\n",
    "#                   extent=(0, 2 * np.pi, 4, 24),\n",
    "#                   aspect=0.05,\n",
    "#                   cmap=lc3_reg,\n",
    "#                   vmin=0,\n",
    "#                   vmax=1.5\n",
    "#                   )\n",
    "# plt.colorbar(im, fraction=0.046, pad=0.04, ax=axs[1])"
   ]
  }
 ],
 "metadata": {
  "kernelspec": {
   "display_name": "Python 3 (ipykernel)",
   "language": "python",
   "name": "python3"
  },
  "language_info": {
   "codemirror_mode": {
    "name": "ipython",
    "version": 3
   },
   "file_extension": ".py",
   "mimetype": "text/x-python",
   "name": "python",
   "nbconvert_exporter": "python",
   "pygments_lexer": "ipython3",
   "version": "3.10.10"
  }
 },
 "nbformat": 4,
 "nbformat_minor": 5
}
