{
 "cells": [
  {
   "cell_type": "code",
   "execution_count": 2,
   "id": "197c4e3a-5784-4bb6-aae8-b1771d4fb44c",
   "metadata": {
    "tags": []
   },
   "outputs": [],
   "source": [
    "runCNN = True"
   ]
  },
  {
   "cell_type": "code",
   "execution_count": 3,
   "id": "89dace2d-fe9f-448a-bf4c-00b5be7aa8db",
   "metadata": {},
   "outputs": [
    {
     "data": {
      "text/plain": [
       "'/global/u1/a/ajivani/WLROM/WhiteLight'"
      ]
     },
     "execution_count": 3,
     "metadata": {},
     "output_type": "execute_result"
    }
   ],
   "source": [
    "import os\n",
    "import scipy.signal\n",
    "os.getcwd()"
   ]
  },
  {
   "cell_type": "code",
   "execution_count": 4,
   "id": "09c59b9c-c151-4006-9897-b4ad9fcd213b",
   "metadata": {},
   "outputs": [],
   "source": [
    "current_dir = os.getcwd()"
   ]
  },
  {
   "cell_type": "code",
   "execution_count": 5,
   "id": "76036163-f2ea-4f1c-bed6-34e6145738c8",
   "metadata": {},
   "outputs": [],
   "source": [
    "import numpy as np\n",
    "from numpy import ogrid\n",
    "import pandas as pd\n",
    "import scipy.linalg as la\n",
    "import scipy.sparse as sparse\n",
    "import matplotlib.pyplot as plt\n",
    "\n",
    "import copy"
   ]
  },
  {
   "cell_type": "code",
   "execution_count": 6,
   "id": "cb9e4462-ab87-436b-99b6-95d6543c570f",
   "metadata": {},
   "outputs": [],
   "source": [
    "%matplotlib inline"
   ]
  },
  {
   "cell_type": "code",
   "execution_count": 7,
   "id": "c21ccc84-cb81-4025-9215-6106becfd346",
   "metadata": {},
   "outputs": [],
   "source": [
    "import time"
   ]
  },
  {
   "cell_type": "code",
   "execution_count": 8,
   "id": "59d1908d-1e58-4774-be0b-6929238037ac",
   "metadata": {},
   "outputs": [],
   "source": [
    "from sunpy.visualization import colormaps as cm"
   ]
  },
  {
   "cell_type": "code",
   "execution_count": 9,
   "id": "d5a09465-78c6-4462-90af-a6d97bed4c56",
   "metadata": {},
   "outputs": [],
   "source": [
    "import torch\n",
    "import torch.nn as nn\n",
    "import torch.optim as optim"
   ]
  },
  {
   "cell_type": "code",
   "execution_count": 10,
   "id": "39bf0b7a-ab80-484b-8343-8b197f2f0d93",
   "metadata": {},
   "outputs": [],
   "source": [
    "import argparse"
   ]
  },
  {
   "cell_type": "code",
   "execution_count": 11,
   "id": "9c7b1e47-d56b-485a-85c6-631518f5a384",
   "metadata": {},
   "outputs": [],
   "source": [
    "parser = argparse.ArgumentParser()\n",
    "parser.add_argument('--tol', type=float, default=1e-3)\n",
    "parser.add_argument('--adjoint', type=eval, default=True, choices=[True, False])\n",
    "parser.add_argument('--lr', type=float, default=0.1)\n",
    "parser.add_argument('--debug', action='store_true')\n",
    "parser.add_argument('-runCNN', type=eval, default=True, choices=[True, False])\n",
    "\n",
    "\n",
    "args = parser.parse_args(args=())"
   ]
  },
  {
   "cell_type": "code",
   "execution_count": 12,
   "id": "40d7f6d7-695f-4f36-a6e5-d1c23cec69f8",
   "metadata": {
    "tags": []
   },
   "outputs": [
    {
     "data": {
      "text/plain": [
       "Namespace(adjoint=True, debug=False, lr=0.1, runCNN=True, tol=0.001)"
      ]
     },
     "execution_count": 12,
     "metadata": {},
     "output_type": "execute_result"
    }
   ],
   "source": [
    "args"
   ]
  },
  {
   "cell_type": "code",
   "execution_count": 13,
   "id": "2a45feb9-33d3-4cb2-9dd4-7573a8033efc",
   "metadata": {},
   "outputs": [
    {
     "data": {
      "text/plain": [
       "0.001"
      ]
     },
     "execution_count": 13,
     "metadata": {},
     "output_type": "execute_result"
    }
   ],
   "source": [
    "args.tol"
   ]
  },
  {
   "cell_type": "code",
   "execution_count": 14,
   "id": "0e557b8f-357f-4141-9117-37afd00d68d3",
   "metadata": {},
   "outputs": [],
   "source": [
    "# adjoint=True"
   ]
  },
  {
   "cell_type": "code",
   "execution_count": 15,
   "id": "5aa670d8-489b-4765-add1-a7706afa0132",
   "metadata": {
    "tags": []
   },
   "outputs": [],
   "source": [
    "!pip install -q --user torchdiffeq"
   ]
  },
  {
   "cell_type": "code",
   "execution_count": 16,
   "id": "f0e3294b-d98f-4a24-be39-d4c12c554a61",
   "metadata": {},
   "outputs": [],
   "source": [
    "if args.adjoint:\n",
    "    from torchdiffeq import odeint_adjoint as odeint\n",
    "else:\n",
    "    from torchdiffeq import odeint"
   ]
  },
  {
   "cell_type": "code",
   "execution_count": 17,
   "id": "ec0bf6dc-8569-4ca7-8d42-b9f9e437c916",
   "metadata": {},
   "outputs": [],
   "source": [
    "device = torch.device('cuda:0' if torch.cuda.is_available() else 'cpu')"
   ]
  },
  {
   "cell_type": "code",
   "execution_count": 18,
   "id": "f44c3ebb-9049-40ae-84a1-c85dd9c80f00",
   "metadata": {},
   "outputs": [
    {
     "data": {
      "text/plain": [
       "device(type='cuda', index=0)"
      ]
     },
     "execution_count": 18,
     "metadata": {},
     "output_type": "execute_result"
    }
   ],
   "source": [
    "device"
   ]
  },
  {
   "cell_type": "code",
   "execution_count": 19,
   "id": "74a4b036-2a0d-47f4-9da2-3f4aaa55f9cd",
   "metadata": {},
   "outputs": [
    {
     "data": {
      "image/png": "[encoded data removed]",
      "text/html": [
       "<div style=\"vertical-align: middle;\"><strong>SOHO LASCO C3_r</strong> </div><div class=\"cmap\"><img alt=\"SOHO LASCO C3_r colormap\" title=\"SOHO LASCO C3_r\" style=\"border: 1px solid #555;\" src=\"data:image/png;base64,iVBORw0KGgoAAAANSUhEUgAAAgAAAABACAYAAABsv8+/AAAAHnRFWHRUaXRsZQBTT0hPIExBU0NPIEMzX3IgY29sb3JtYXDMCW5EAAAAJHRFWHREZXNjcmlwdGlvbgBTT0hPIExBU0NPIEMzX3IgY29sb3JtYXAGtYcrAAAAMHRFWHRBdXRob3IATWF0cGxvdGxpYiB2My40LjIsIGh0dHBzOi8vbWF0cGxvdGxpYi5vcmes1mPdAAAAMnRFWHRTb2Z0d2FyZQBNYXRwbG90bGliIHYzLjQuMiwgaHR0cHM6Ly9tYXRwbG90bGliLm9yZ4Jw/PoAAAHFSURBVHic7dZBbsIwFEDB397/zKSLQisR3DQtEos3s0EksWNjCb23bdu2mZnL58dcv+6+L6/P7fo8dfzq+VePX847/xt/ff35c5jb9T+Ov3v/dnn8/P3n7J57vP/VfLO7vxi/mGd2z51b/3a5n+fc+vf7OFj/4T7mx+eOz+Hg/UfncPL3++/5v3r9vz7/68Eu1z8/3z+aZ+Z371nN8z3+3Lpv99fjD9b99b/xx3Xv/r/OrfvV+z9/fs/d/3r8uXW/DwCQIwAAIEgAAECQAACAIAEAAEECAACCBAAABAkAAAgSAAAQJAAAIEgAAECQAACAIAEAAEECAACCBAAABAkAAAgSAAAQJAAAIEgAAECQAACAIAEAAEECAACCBAAABAkAAAgSAAAQJAAAIEgAAECQAACAIAEAAEECAACCBAAABAkAAAgSAAAQJAAAIEgAAECQAACAIAEAAEECAACCBAAABAkAAAgSAAAQJAAAIEgAAECQAACAIAEAAEECAACCBAAABAkAAAgSAAAQJAAAIEgAAECQAACAIAEAAEECAACCBAAABAkAAAgSAAAQJAAAIEgAAECQAACAIAEAAEECAACCBAAABH0A+Gm+nfb+AtsAAAAASUVORK5CYII=\"></div><div style=\"vertical-align: middle; max-width: 514px; display: flex; justify-content: space-between;\"><div style=\"float: left;\"><div title=\"#ffffffff\" style=\"display: inline-block; width: 1em; height: 1em; margin: 0; vertical-align: middle; border: 1px solid #555; background-color: #ffffffff;\"></div> under</div><div style=\"margin: 0 auto; display: inline-block;\">bad <div title=\"#00000000\" style=\"display: inline-block; width: 1em; height: 1em; margin: 0; vertical-align: middle; border: 1px solid #555; background-color: #00000000;\"></div></div><div style=\"float: right;\">over <div title=\"#000000ff\" style=\"display: inline-block; width: 1em; height: 1em; margin: 0; vertical-align: middle; border: 1px solid #555; background-color: #000000ff;\"></div></div>"
      ],
      "text/plain": [
       "<matplotlib.colors.LinearSegmentedColormap at 0x7f27d2b0cee0>"
      ]
     },
     "execution_count": 19,
     "metadata": {},
     "output_type": "execute_result"
    }
   ],
   "source": [
    "lc3 = cm.cmlist['soholasco3'].reversed()\n",
    "lc3"
   ]
  },
  {
   "cell_type": "code",
   "execution_count": 20,
   "id": "f9c4c03b-3a19-4383-8142-b8c0ce45620b",
   "metadata": {},
   "outputs": [
    {
     "data": {
      "image/png": "[encoded data removed]",
      "text/html": [
       "<div style=\"vertical-align: middle;\"><strong>SOHO LASCO C3</strong> </div><div class=\"cmap\"><img alt=\"SOHO LASCO C3 colormap\" title=\"SOHO LASCO C3\" style=\"border: 1px solid #555;\" src=\"data:image/png;base64,iVBORw0KGgoAAAANSUhEUgAAAgAAAABACAYAAABsv8+/AAAAHHRFWHRUaXRsZQBTT0hPIExBU0NPIEMzIGNvbG9ybWFwEdDmtAAAACJ0RVh0RGVzY3JpcHRpb24AU09ITyBMQVNDTyBDMyBjb2xvcm1hcIyACPEAAAAwdEVYdEF1dGhvcgBNYXRwbG90bGliIHYzLjQuMiwgaHR0cHM6Ly9tYXRwbG90bGliLm9yZ6zWY90AAAAydEVYdFNvZnR3YXJlAE1hdHBsb3RsaWIgdjMuNC4yLCBodHRwczovL21hdHBsb3RsaWIub3JngnD8+gAAAaBJREFUeJzt1sFOwkAUQNFH//+fdWHVgE4KUSR4z1nQUPqmUwjJPc3My8zMzOnt9bQ6bt+f3+fm6LrV51/mb1xnOX/lOh/zN+774c//Pr892fNf+/vd+/nn7P1sR/vdj9tifnnd6jhn1y33v1znSfa/XG9x/6uf42D//+X7u/f+9//ftrj+8vx2ef8/nv88/7vzx/t9zPx63Z/O78cBAHIEAAAECQAACBIAABAkAAAgSAAAQJAAAIAgAQAAQQIAAIIEAAAECQAACBIAABAkAAAgSAAAQJAAAIAgAQAAQQIAAIIEAAAECQAACBIAABAkAAAgSAAAQJAAAIAgAQAAQQIAAIIEAAAECQAACBIAABAkAAAgSAAAQJAAAIAgAQAAQQIAAIIEAAAECQAACBIAABAkAAAgSAAAQJAAAIAgAQAAQQIAAIIEAAAECQAACBIAABAkAAAgSAAAQJAAAIAgAQAAQQIAAIIEAAAECQAACBIAABAkAAAgSAAAQJAAAIAgAQAAQQIAAIIEAAAECQAACBIAABAkAAAgSAAAQJAAAICgV2erBHwDlf7mAAAAAElFTkSuQmCC\"></div><div style=\"vertical-align: middle; max-width: 514px; display: flex; justify-content: space-between;\"><div style=\"float: left;\"><div title=\"#000000ff\" style=\"display: inline-block; width: 1em; height: 1em; margin: 0; vertical-align: middle; border: 1px solid #555; background-color: #000000ff;\"></div> under</div><div style=\"margin: 0 auto; display: inline-block;\">bad <div title=\"#00000000\" style=\"display: inline-block; width: 1em; height: 1em; margin: 0; vertical-align: middle; border: 1px solid #555; background-color: #00000000;\"></div></div><div style=\"float: right;\">over <div title=\"#ffffffff\" style=\"display: inline-block; width: 1em; height: 1em; margin: 0; vertical-align: middle; border: 1px solid #555; background-color: #ffffffff;\"></div></div>"
      ],
      "text/plain": [
       "<matplotlib.colors.LinearSegmentedColormap at 0x7f286cc37c70>"
      ]
     },
     "execution_count": 20,
     "metadata": {},
     "output_type": "execute_result"
    }
   ],
   "source": [
    "lc3_reg = cm.cmlist['soholasco3']\n",
    "lc3_reg"
   ]
  },
  {
   "cell_type": "code",
   "execution_count": 21,
   "id": "e3413479-155a-40f1-a7ba-daa5dfb5d094",
   "metadata": {},
   "outputs": [],
   "source": [
    "plt.rc(\"axes.spines\", right=True, top=True)\n",
    "plt.rc(\"figure\", dpi=300, \n",
    "       figsize=(9, 3)\n",
    "      )\n",
    "plt.rc(\"font\", family=\"serif\")\n",
    "plt.rc(\"legend\", edgecolor=\"none\", frameon=True)\n",
    "plt.style.use(\"dark_background\")"
   ]
  },
  {
   "cell_type": "code",
   "execution_count": 22,
   "id": "df9ec26f-eea4-4fdd-a29b-17fa860aab7e",
   "metadata": {},
   "outputs": [],
   "source": [
    "import sys\n",
    "# sys.path.insert(1, '/home/ajivani/WLROM/EdgeSS')\n",
    "sys.path.insert(1, os.path.join(current_dir, \"..\", \"EdgeSS\"))"
   ]
  },
  {
   "cell_type": "code",
   "execution_count": 23,
   "id": "494b619e-a904-43d9-ac37-59577163aadf",
   "metadata": {},
   "outputs": [],
   "source": [
    "import edge_utils as edut"
   ]
  },
  {
   "cell_type": "code",
   "execution_count": 24,
   "id": "670f58eb-0259-4792-bf64-f6be8aa287e8",
   "metadata": {
    "tags": []
   },
   "outputs": [],
   "source": [
    "import cnn_utils as ut"
   ]
  },
  {
   "cell_type": "markdown",
   "id": "00ca01ce-bb8b-4099-a413-26e6e7d70c86",
   "metadata": {},
   "source": [
    "### RESIZE DATA APPROPRIATELY"
   ]
  },
  {
   "cell_type": "code",
   "execution_count": 25,
   "id": "e02b0a51-3173-4f27-93c7-c4895237dda3",
   "metadata": {},
   "outputs": [],
   "source": [
    "X_orig = np.load(\"./CR2161_tDecay2h_Polar_Compressed.npy\")"
   ]
  },
  {
   "cell_type": "code",
   "execution_count": 26,
   "id": "27f4566d-ec57-48c9-beb3-f787d5fc03ee",
   "metadata": {
    "tags": []
   },
   "outputs": [
    {
     "data": {
      "text/plain": [
       "(64, 256, 90, 278)"
      ]
     },
     "execution_count": 26,
     "metadata": {},
     "output_type": "execute_result"
    }
   ],
   "source": [
    "X_orig.shape"
   ]
  },
  {
   "cell_type": "code",
   "execution_count": 27,
   "id": "3f4b49a9-95c9-41ac-bad5-490e5ea71690",
   "metadata": {},
   "outputs": [],
   "source": [
    "X = X_orig.reshape((64 * 256, 90, 278))[:, :, :]"
   ]
  },
  {
   "cell_type": "code",
   "execution_count": 28,
   "id": "f4a65e15-d0e4-463e-92b0-58ddbfc35a52",
   "metadata": {},
   "outputs": [
    {
     "data": {
      "text/plain": [
       "(16384, 90, 278)"
      ]
     },
     "execution_count": 28,
     "metadata": {},
     "output_type": "execute_result"
    }
   ],
   "source": [
    "X.shape"
   ]
  },
  {
   "cell_type": "code",
   "execution_count": 29,
   "id": "7726baa4-7777-4b5c-83ec-d97967f5d287",
   "metadata": {},
   "outputs": [],
   "source": [
    "sid=0"
   ]
  },
  {
   "cell_type": "code",
   "execution_count": 30,
   "id": "1027704b-fb2b-4b63-afbf-65ec94de760a",
   "metadata": {},
   "outputs": [],
   "source": [
    "ed_2161, sd_2161 = edut.load_edge_data_blobfree(2161)"
   ]
  },
  {
   "cell_type": "code",
   "execution_count": 31,
   "id": "bafd9c32-45c5-4693-90cb-5da7b7a2f69c",
   "metadata": {},
   "outputs": [],
   "source": [
    "tMinIdx, tMin, tMaxIdx, tMax = edut.getTMinTMax(ed_2161, simIdx=sid)"
   ]
  },
  {
   "cell_type": "code",
   "execution_count": 32,
   "id": "258fc6e1-80a4-4e83-990f-e43329ee801c",
   "metadata": {},
   "outputs": [
    {
     "data": {
      "text/plain": [
       "11"
      ]
     },
     "execution_count": 32,
     "metadata": {},
     "output_type": "execute_result"
    }
   ],
   "source": [
    "tMinIdx"
   ]
  },
  {
   "cell_type": "code",
   "execution_count": 33,
   "id": "75227b48-8429-4a0b-a04d-9afb9cbd07bc",
   "metadata": {
    "tags": []
   },
   "outputs": [
    {
     "data": {
      "text/plain": [
       "79"
      ]
     },
     "execution_count": 33,
     "metadata": {},
     "output_type": "execute_result"
    }
   ],
   "source": [
    "tMaxIdx"
   ]
  },
  {
   "cell_type": "code",
   "execution_count": 34,
   "id": "dfb5aad6-0a04-4ddd-ac21-d0ef0dfa0839",
   "metadata": {},
   "outputs": [],
   "source": [
    "all_times = np.linspace(2, 180, 90)"
   ]
  },
  {
   "cell_type": "code",
   "execution_count": 35,
   "id": "80775e67-0681-4c19-bbb4-71169851ef99",
   "metadata": {
    "lines_to_next_cell": 0
   },
   "outputs": [
    {
     "data": {
      "text/plain": [
       "array([ 24.,  26.,  28.,  30.,  32.,  34.,  36.,  38.,  40.,  42.,  44.,\n",
       "        46.,  48.,  50.,  52.,  54.,  56.,  58.,  60.,  62.,  64.,  66.,\n",
       "        68.,  70.,  72.,  74.,  76.,  78.,  80.,  82.,  84.,  86.,  88.,\n",
       "        90.,  92.,  94.,  96.,  98., 100., 102., 104., 106., 108., 110.,\n",
       "       112., 114., 116., 118., 120., 122., 124., 126., 128., 130., 132.,\n",
       "       134., 136., 138., 140., 142., 144., 146., 148., 150., 152., 154.,\n",
       "       156., 158., 160.])"
      ]
     },
     "execution_count": 35,
     "metadata": {},
     "output_type": "execute_result"
    }
   ],
   "source": [
    "valid_times = np.arange(tMin, tMax + 2, step=2)\n",
    "valid_times"
   ]
  },
  {
   "cell_type": "code",
   "execution_count": 36,
   "id": "9d9b8ef1-0040-49a0-92e5-fdb2102d923a",
   "metadata": {},
   "outputs": [
    {
     "data": {
      "text/plain": [
       "11"
      ]
     },
     "execution_count": 36,
     "metadata": {},
     "output_type": "execute_result"
    }
   ],
   "source": [
    "validTimeStartIdx = np.argwhere(all_times == valid_times[0])[0][0]\n",
    "validTimeStartIdx"
   ]
  },
  {
   "cell_type": "code",
   "execution_count": 37,
   "id": "89ed0264-4a49-4e76-a2cc-f639c80d7461",
   "metadata": {},
   "outputs": [
    {
     "data": {
      "text/plain": [
       "114.0"
      ]
     },
     "execution_count": 37,
     "metadata": {},
     "output_type": "execute_result"
    }
   ],
   "source": [
    "tTrainEnd = tMin + np.floor((2/3)*(tMax - tMin))\n",
    "tTrainEnd"
   ]
  },
  {
   "cell_type": "code",
   "execution_count": 38,
   "id": "0e594911-96f2-4cc7-9fca-31ddf5ac0437",
   "metadata": {},
   "outputs": [
    {
     "data": {
      "text/plain": [
       "45"
      ]
     },
     "execution_count": 38,
     "metadata": {},
     "output_type": "execute_result"
    }
   ],
   "source": [
    "trainEndIdx = np.argwhere(valid_times == tTrainEnd)[0][0]\n",
    "trainEndIdx"
   ]
  },
  {
   "cell_type": "code",
   "execution_count": 39,
   "id": "5a23b9d6-d57d-428c-bbcd-b9dc1d54c01f",
   "metadata": {},
   "outputs": [
    {
     "data": {
      "text/plain": [
       "56"
      ]
     },
     "execution_count": 39,
     "metadata": {},
     "output_type": "execute_result"
    }
   ],
   "source": [
    "trainEndIdxAllTimes = np.argwhere(all_times == tTrainEnd)[0][0]\n",
    "trainEndIdxAllTimes"
   ]
  },
  {
   "cell_type": "code",
   "execution_count": 40,
   "id": "322c9b44-5383-4bb5-90d2-16344e371cf0",
   "metadata": {
    "tags": []
   },
   "outputs": [
    {
     "data": {
      "text/plain": [
       "array([116., 118., 120., 122., 124., 126., 128., 130., 132., 134., 136.,\n",
       "       138., 140., 142., 144., 146., 148., 150., 152., 154., 156., 158.,\n",
       "       160., 162., 164., 166., 168., 170., 172., 174., 176., 178., 180.])"
      ]
     },
     "execution_count": 40,
     "metadata": {},
     "output_type": "execute_result"
    }
   ],
   "source": [
    "all_times[(trainEndIdxAllTimes + 1):]"
   ]
  },
  {
   "cell_type": "code",
   "execution_count": 41,
   "id": "cae94244-f206-45c9-945d-f8f71c6930cc",
   "metadata": {},
   "outputs": [],
   "source": [
    "tTrain = valid_times[:(trainEndIdx + 1)]"
   ]
  },
  {
   "cell_type": "code",
   "execution_count": 42,
   "id": "2e94cd31-01c2-41b1-b089-826d61401854",
   "metadata": {
    "tags": []
   },
   "outputs": [
    {
     "data": {
      "text/plain": [
       "array([ 24.,  26.,  28.,  30.,  32.,  34.,  36.,  38.,  40.,  42.,  44.,\n",
       "        46.,  48.,  50.,  52.,  54.,  56.,  58.,  60.,  62.,  64.,  66.,\n",
       "        68.,  70.,  72.,  74.,  76.,  78.,  80.,  82.,  84.,  86.,  88.,\n",
       "        90.,  92.,  94.,  96.,  98., 100., 102., 104., 106., 108., 110.,\n",
       "       112., 114.])"
      ]
     },
     "execution_count": 42,
     "metadata": {},
     "output_type": "execute_result"
    }
   ],
   "source": [
    "tTrain"
   ]
  },
  {
   "cell_type": "code",
   "execution_count": 43,
   "id": "16e04413-d0e1-4223-9ebe-32345a58868f",
   "metadata": {},
   "outputs": [
    {
     "data": {
      "text/plain": [
       "array([116., 118., 120., 122., 124., 126., 128., 130., 132., 134., 136.,\n",
       "       138., 140., 142., 144., 146., 148., 150., 152., 154., 156., 158.,\n",
       "       160.])"
      ]
     },
     "execution_count": 43,
     "metadata": {},
     "output_type": "execute_result"
    }
   ],
   "source": [
    "tTest = valid_times[(trainEndIdx + 1):]\n",
    "tTest"
   ]
  },
  {
   "cell_type": "code",
   "execution_count": 44,
   "id": "969037a4-af44-4445-b53a-5d151d57c8ca",
   "metadata": {},
   "outputs": [],
   "source": [
    "tTrainScaled = (tTrain - tMin) / (tMax - tMin)\n",
    "tTestScaled = (tTest - tMin) / (tMax - tMin)\n",
    "\n",
    "tAllScaled = (valid_times - tMin) / (tMax - tMin)"
   ]
  },
  {
   "cell_type": "code",
   "execution_count": 45,
   "id": "7f294577-23a5-4a21-b61a-f0884a94d3aa",
   "metadata": {
    "tags": []
   },
   "outputs": [
    {
     "data": {
      "text/plain": [
       "(69,)"
      ]
     },
     "execution_count": 45,
     "metadata": {},
     "output_type": "execute_result"
    }
   ],
   "source": [
    "tAllScaled.shape"
   ]
  },
  {
   "cell_type": "code",
   "execution_count": 46,
   "id": "88a8e6f7-2a04-4c6e-b6f6-8877c6cd085a",
   "metadata": {},
   "outputs": [
    {
     "data": {
      "text/plain": [
       "46"
      ]
     },
     "execution_count": 46,
     "metadata": {},
     "output_type": "execute_result"
    }
   ],
   "source": [
    "nTrain = len(tTrain)\n",
    "nTrain"
   ]
  },
  {
   "cell_type": "code",
   "execution_count": 47,
   "id": "834cde70-d06c-492a-9dcb-fd7fc6c62463",
   "metadata": {
    "tags": []
   },
   "outputs": [
    {
     "data": {
      "text/plain": [
       "torch.Size([69, 1, 64, 256])"
      ]
     },
     "execution_count": 47,
     "metadata": {},
     "output_type": "execute_result"
    }
   ],
   "source": [
    "x_orig_torch_full = X_orig[:, :, tMinIdx:(tMaxIdx + 1), sid]\n",
    "x_orig_torch_full = x_orig_torch_full.transpose((2, 0, 1))\n",
    "x_orig_torch_full = torch.from_numpy(np.expand_dims(np.float32(x_orig_torch_full), axis=1)).to(device)\n",
    "\n",
    "x_orig_torch_full.shape"
   ]
  },
  {
   "cell_type": "code",
   "execution_count": 48,
   "id": "fcd57191-bf19-4a76-b7e0-931cf73e1634",
   "metadata": {
    "tags": []
   },
   "outputs": [],
   "source": [
    "import torchvision\n",
    "import torchvision.transforms as T\n",
    "\n",
    "resize=True\n",
    "rs_dims = (32, 128)"
   ]
  },
  {
   "cell_type": "code",
   "execution_count": 49,
   "id": "2e44b711-1f37-4fa7-a472-a33df0dd8560",
   "metadata": {},
   "outputs": [
    {
     "data": {
      "text/plain": [
       "(torch.Size([69, 1, 32, 128]),\n",
       " torch.Size([46, 1, 32, 128]),\n",
       " torch.Size([46, 1, 4096]))"
      ]
     },
     "execution_count": 49,
     "metadata": {},
     "output_type": "execute_result"
    }
   ],
   "source": [
    "# Slice data for a particular sID!\n",
    "x_train_orig = X_orig[:, :, validTimeStartIdx:(trainEndIdxAllTimes + 1), sid]\n",
    "x_train_orig = x_train_orig.transpose((2, 0, 1))\n",
    "x_train_orig_torch = torch.from_numpy(np.expand_dims(np.float32(x_train_orig), axis=1)).to(device)\n",
    "\n",
    "x_orig_torch_full = X_orig[:, :, tMinIdx:(tMaxIdx + 1), sid]\n",
    "x_orig_torch_full = x_orig_torch_full.transpose((2, 0, 1))\n",
    "x_orig_torch_full = torch.from_numpy(np.expand_dims(np.float32(x_orig_torch_full), axis=1)).to(device)\n",
    "\n",
    "x_train_flat = X[:, validTimeStartIdx:(trainEndIdxAllTimes + 1), sid]\n",
    "x_train_flat = x_train_flat.transpose((1, 0))\n",
    "x_train_flat_torch = torch.from_numpy(np.expand_dims(np.float32(x_train_flat), axis=1)).to(device)\n",
    "\n",
    "if resize:\n",
    "    x_train_orig_torch = T.Resize(size=rs_dims, antialias=True)(x_train_orig_torch)\n",
    "    x_orig_torch_full = T.Resize(size=rs_dims, antialias=True)(x_orig_torch_full)\n",
    "    x_train_flat_torch = x_train_orig_torch.flatten(start_dim=2, end_dim=3)\n",
    "\n",
    "x_orig_torch_full.shape, x_train_orig_torch.shape, x_train_flat_torch.shape"
   ]
  },
  {
   "cell_type": "code",
   "execution_count": 50,
   "id": "b42b4402-8d57-4eef-ac6f-79743a497cdc",
   "metadata": {
    "tags": []
   },
   "outputs": [
    {
     "data": {
      "text/plain": [
       "(torch.Size([1, 1, 32, 128]), torch.Size([1, 4096]))"
      ]
     },
     "execution_count": 50,
     "metadata": {},
     "output_type": "execute_result"
    }
   ],
   "source": [
    "x0_train_orig = x_train_orig[tMinIdx, :, :]\n",
    "x0_train_orig_torch = torch.from_numpy(np.expand_dims(np.float32(x0_train_orig), axis=(0, 1))).to(device)\n",
    "\n",
    "if resize:\n",
    "    x0_train_orig_torch = T.Resize(size=rs_dims, antialias=True)(x0_train_orig_torch)\n",
    "\n",
    "\n",
    "# x0_train_flat = x0_train_orig.flatten()\n",
    "# x0_train_flat_torch = torch.from_numpy(np.float32(x0_train_flat)).reshape((1, len(x0_train_flat))).to(device)\n",
    "\n",
    "x0_train_flat_torch = torch.flatten(x0_train_orig_torch, start_dim=1)\n",
    "\n",
    "x0_train_orig_torch.shape, x0_train_flat_torch.shape"
   ]
  },
  {
   "cell_type": "code",
   "execution_count": 51,
   "id": "3a1839e4-4ed9-47de-890b-a5e4e64379ae",
   "metadata": {
    "tags": []
   },
   "outputs": [
    {
     "data": {
      "text/plain": [
       "torch.Size([46, 1, 4096])"
      ]
     },
     "execution_count": 51,
     "metadata": {},
     "output_type": "execute_result"
    }
   ],
   "source": [
    "torch.flatten(x_train_orig_torch, start_dim=2, end_dim=3).shape"
   ]
  },
  {
   "cell_type": "code",
   "execution_count": 52,
   "id": "dddd70db-9c4e-4376-a234-df1fb0d05109",
   "metadata": {
    "tags": []
   },
   "outputs": [
    {
     "data": {
      "text/plain": [
       "(torch.Size([69]), torch.Size([46]))"
      ]
     },
     "execution_count": 52,
     "metadata": {},
     "output_type": "execute_result"
    }
   ],
   "source": [
    "t_train_torch = torch.tensor(np.float32(tTrainScaled)).to(device)\n",
    "t_torch_full = torch.tensor(np.float32(tAllScaled)).to(device)\n",
    "\n",
    "t_torch_full.shape, t_train_torch.shape"
   ]
  },
  {
   "cell_type": "code",
   "execution_count": 53,
   "id": "efa9b297-2405-45f0-8a08-bbf1ff7cc910",
   "metadata": {
    "tags": []
   },
   "outputs": [],
   "source": [
    "data_size = t_train_torch.shape[0]\n",
    "batch_time = 5\n",
    "batch_size = 10"
   ]
  },
  {
   "cell_type": "markdown",
   "id": "d289d020-82f3-4920-aff6-2d5f1645f07c",
   "metadata": {},
   "source": [
    "#### Define Conv architecture, with flattening layer\n",
    "\n",
    "count parameters, ensure within reasonable range. Only 2-3 convolutions if possible."
   ]
  },
  {
   "cell_type": "code",
   "execution_count": 54,
   "id": "c0c0ce5f-ba38-4c27-bb9f-a6555f7bd106",
   "metadata": {
    "tags": []
   },
   "outputs": [],
   "source": [
    "# from https://github.com/rtqichen/torchdiffeq/blob/master/examples/odenet_mnist.py\n",
    "# 128, 1, 28, 28\n",
    "# 128, 64, 26, 26\n",
    "# 128, 64, 13, 13\n",
    "# 128, 64, 6, 6\n",
    "# CONCATCONV?\n",
    "# 128, 65, 13, 13\n",
    "# 128, 64, 13, 13\n",
    "# 128, 64, 13, 13\n",
    "# ADAPTIVE_AVG_POOL_2D\n",
    "# 128, 64, 1, 1\n",
    "# 128, 64 (after Flatten function in file)\n",
    "# 128, 10 (after nn.Linear(64, 10)\n",
    "\n",
    "\n",
    "### Lessons? More output channels, fewer dimensions, gradually reduce them to 1, 1. Then fewer dimensions to deal with"
   ]
  },
  {
   "cell_type": "code",
   "execution_count": null,
   "id": "8f9f96d8-568e-466f-aae2-9f9d74199631",
   "metadata": {
    "tags": []
   },
   "outputs": [],
   "source": []
  },
  {
   "cell_type": "code",
   "execution_count": 55,
   "id": "aaa70dc1-aff0-4373-939f-ce442e67468f",
   "metadata": {
    "tags": []
   },
   "outputs": [],
   "source": [
    "# start from?\n",
    "# 10, 1, 64, 256 - by0\n",
    "# 5, 10, 1, 64, 256 - by! (or corresponding flattened versions! 5, 10, 1, 64 * 256)\n",
    "# for each by0,\n",
    "# 10, 32, 63, 254??\n",
    "# 10, 32, 32, 128\n",
    "# 10, 32, 16, 64\n",
    "# 10, 32, 32, 128\n",
    "# 10, 32, 32, 128\n",
    "# AVG POOL\n",
    "# 10, 32, 1, 1\n",
    "# 10, 32\n",
    "# 10, 64 * 256??\n"
   ]
  },
  {
   "cell_type": "code",
   "execution_count": 56,
   "id": "6e01e5f0-c2fd-4e4c-b068-8f73ef8301cd",
   "metadata": {
    "tags": []
   },
   "outputs": [
    {
     "data": {
      "text/plain": [
       "(8.0, 32.0)"
      ]
     },
     "execution_count": 56,
     "metadata": {},
     "output_type": "execute_result"
    }
   ],
   "source": [
    "ut.getHC(8, 32,\n",
    "         kernel_size=(3, 3),\n",
    "         stride=(1, 1),\n",
    "         padding=(1, 1),\n",
    "         dilation=(1, 1))"
   ]
  },
  {
   "cell_type": "code",
   "execution_count": 57,
   "id": "39567952-ce0b-41ce-9bf3-8e85b34ae327",
   "metadata": {
    "tags": []
   },
   "outputs": [],
   "source": [
    "# 32, 128\n",
    "# 32, 128\n",
    "# 16, 64\n",
    "# 8, 32\n",
    "# 1, 1, i.e.\n",
    "# 10, 32, 1, 1\n",
    "# 10, 32 * 128"
   ]
  },
  {
   "cell_type": "code",
   "execution_count": null,
   "id": "08ce93e1-bfbe-41b4-9c66-60d5f53031cf",
   "metadata": {},
   "outputs": [],
   "source": []
  },
  {
   "cell_type": "code",
   "execution_count": 58,
   "id": "b0c50221-5349-42d4-909a-b0afb86b1daa",
   "metadata": {
    "tags": []
   },
   "outputs": [],
   "source": [
    "def count_parameters(model):\n",
    "    return sum(p.numel() for p in model.parameters() if p.requires_grad)\n",
    "\n",
    "def group_norm(dim):\n",
    "    return nn.GroupNorm(min(16, dim), dim)\n",
    "\n",
    "\n",
    "class Flatten(nn.Module):\n",
    "\n",
    "    def __init__(self):\n",
    "        super(Flatten, self).__init__()\n",
    "\n",
    "    def forward(self, x):\n",
    "        shape = torch.prod(torch.tensor(x.shape[1:])).item()\n",
    "        return x.view(-1, shape)\n",
    "\n",
    "\n",
    "class ODEfunc(nn.Module):\n",
    "    def __init__(self):\n",
    "        super(ODEfunc, self).__init__()\n",
    "        self.conv1 = nn.Conv2d(in_channels=1, out_channels=32, \n",
    "                  kernel_size=(3, 3), \n",
    "                  stride=(1, 1),\n",
    "                  padding=(1, 1),\n",
    "                  dilation=(1, 1))\n",
    "\n",
    "        self.norm1 = group_norm(32)\n",
    "        \n",
    "        self.tanh = nn.Tanh()\n",
    "        \n",
    "        self.conv2 = nn.Conv2d(in_channels=32, out_channels=32, \n",
    "                          kernel_size=(4, 4), \n",
    "                          stride=(2, 2),\n",
    "                          padding=(1, 1),\n",
    "                          dilation=(1, 1))\n",
    "        \n",
    "        self.norm2 = group_norm(32)\n",
    "        \n",
    "        self.conv3 = nn.Conv2d(in_channels=32, out_channels=32, \n",
    "                          kernel_size=(4, 4), \n",
    "                          stride=(2, 2),\n",
    "                          padding=(1, 1),\n",
    "                          dilation=(1, 1))\n",
    "\n",
    "        self.pool1 = nn.AdaptiveAvgPool2d((1, 1))\n",
    "\n",
    "        self.flat1 = Flatten()\n",
    "\n",
    "        self.lin1 = nn.Linear(32, 32 * 128)\n",
    "\n",
    "    def forward(self, t, x):\n",
    "        out = self.conv1(x)\n",
    "        out = self.norm1(out)\n",
    "        out = self.tanh(out)\n",
    "        out = self.conv2(out)\n",
    "        out = self.norm1(out)\n",
    "        out = self.tanh(out)\n",
    "        out = self.conv3(out)\n",
    "        out = self.norm1(out)\n",
    "        out = self.tanh(out)\n",
    "        out = self.pool1(out)\n",
    "        out = self.flat1(out)\n",
    "        out = self.lin1(out)\n",
    "        out = out.view(-1, 1, 32, 128)\n",
    "        \n",
    "        return out"
   ]
  },
  {
   "cell_type": "code",
   "execution_count": 59,
   "id": "c6c43633-c817-41b6-aeb4-2d917416afdd",
   "metadata": {
    "tags": []
   },
   "outputs": [],
   "source": [
    "# model_1 = ODEfunc().to(device)"
   ]
  },
  {
   "cell_type": "code",
   "execution_count": 60,
   "id": "4d9133dc-90be-4285-a258-44ef12f31764",
   "metadata": {
    "tags": []
   },
   "outputs": [],
   "source": [
    "# optensor = model_1(torch.tensor([0.5]).to(device), torch.rand(10, 1, 32, 128).float().to(device))\n",
    "# optensor.shape"
   ]
  },
  {
   "cell_type": "code",
   "execution_count": 61,
   "id": "524fe64e-f21d-4e24-9927-b6f183673a05",
   "metadata": {
    "tags": []
   },
   "outputs": [],
   "source": [
    "# count_parameters(model_1) # Answer: 168448, nearly 4 times more than before - but better than when we were using full images!!!"
   ]
  },
  {
   "cell_type": "code",
   "execution_count": 62,
   "id": "1f341d4a-57af-463c-86c4-d0240d184237",
   "metadata": {
    "tags": []
   },
   "outputs": [],
   "source": [
    "# odeint(model_1, torch.rand(10, 1, 32, 128).float().to(device), torch.tensor([0, 0.2, 0.4, 0.6, 0.8, 1]).float().to(device)).shape"
   ]
  },
  {
   "cell_type": "code",
   "execution_count": 63,
   "id": "070742c6-005d-460c-9ba9-d825fdcd3bb2",
   "metadata": {
    "tags": []
   },
   "outputs": [],
   "source": [
    "def get_batch(torch_train_data, torch_train_time, batch_time=5, batch_size=10):\n",
    "    s = torch.from_numpy(np.random.choice(np.arange(len(torch_train_time) - batch_time, dtype=np.int64),\n",
    "                                          batch_size,\n",
    "                                          replace=False))\n",
    "    batch_y0 = torch_train_data[s]\n",
    "    batch_t = torch.zeros((batch_size, batch_time))\n",
    "    for i in range(batch_size):\n",
    "        batch_t[i, :] = torch_train_time[s[i]:(s[i] + batch_time)]\n",
    "        \n",
    "    batch_y = torch.stack([torch_train_data[s + i] for i in range(batch_time)], dim=0)\n",
    "    return batch_y0.to(device), batch_t.to(device), batch_y.to(device)"
   ]
  },
  {
   "cell_type": "code",
   "execution_count": 64,
   "id": "40fb85d2-39d9-4537-b91d-ad7468031cca",
   "metadata": {
    "tags": []
   },
   "outputs": [],
   "source": [
    "my_cnn_model = ODEfunc().to(device)\n",
    "optimizer = optim.Adam(my_cnn_model.parameters(), lr=1e-3)\n",
    "end = time.time()"
   ]
  },
  {
   "cell_type": "code",
   "execution_count": 65,
   "id": "d61ed37a-33d9-42a4-9931-62e89a3fcffb",
   "metadata": {
    "tags": []
   },
   "outputs": [],
   "source": [
    "n_iters = 1000\n",
    "test_freq = 5"
   ]
  },
  {
   "cell_type": "code",
   "execution_count": 66,
   "id": "17739447-18e5-40db-9fb6-4ff900c013c5",
   "metadata": {
    "tags": []
   },
   "outputs": [],
   "source": [
    "# by0, bt, by = get_batch(x_train_orig_torch, t_train_torch)"
   ]
  },
  {
   "cell_type": "code",
   "execution_count": 67,
   "id": "e2f5cb4b-43e1-4d38-bab4-f96266945a80",
   "metadata": {
    "tags": []
   },
   "outputs": [],
   "source": [
    "# by.shape"
   ]
  },
  {
   "cell_type": "code",
   "execution_count": 68,
   "id": "83f7f510-4944-454f-b6df-df2a8ae41aed",
   "metadata": {
    "tags": []
   },
   "outputs": [],
   "source": [
    "# torch.squeeze(odeint(my_cnn_model, by0[[0], :, :, :], bt[0, :]).to(device), 1).shape"
   ]
  },
  {
   "cell_type": "code",
   "execution_count": 69,
   "id": "bbe8c082-d383-4169-b7ee-1550e9dd7b36",
   "metadata": {
    "tags": []
   },
   "outputs": [
    {
     "data": {
      "text/plain": [
       "torch.Size([1, 1, 32, 128])"
      ]
     },
     "execution_count": 69,
     "metadata": {},
     "output_type": "execute_result"
    }
   ],
   "source": [
    "x_orig_torch_full[[0]].shape"
   ]
  },
  {
   "cell_type": "code",
   "execution_count": 70,
   "id": "df3e5201-b337-4a3c-9f4f-1cb0924b9ec7",
   "metadata": {
    "tags": []
   },
   "outputs": [
    {
     "data": {
      "text/plain": [
       "torch.Size([69, 1, 1, 32, 128])"
      ]
     },
     "execution_count": 70,
     "metadata": {},
     "output_type": "execute_result"
    }
   ],
   "source": [
    "odeint(my_cnn_model, x_orig_torch_full[[0]], t_torch_full).shape"
   ]
  },
  {
   "cell_type": "code",
   "execution_count": 71,
   "id": "5dabbf34-e744-4e29-b3da-c5e16a041c85",
   "metadata": {
    "tags": []
   },
   "outputs": [
    {
     "data": {
      "text/plain": [
       "torch.Size([69, 1, 32, 128])"
      ]
     },
     "execution_count": 71,
     "metadata": {},
     "output_type": "execute_result"
    }
   ],
   "source": [
    "x_orig_torch_full.shape"
   ]
  },
  {
   "cell_type": "code",
   "execution_count": 72,
   "id": "f7947f39-9cb4-4879-905b-c2fe25bf07b2",
   "metadata": {
    "tags": []
   },
   "outputs": [
    {
     "name": "stdout",
     "output_type": "stream",
     "text": [
      "Iter 0005 | Total Loss 0.119624 \n",
      "Iter 0010 | Total Loss 0.100640 \n",
      "Iter 0015 | Total Loss 0.087986 \n",
      "Iter 0020 | Total Loss 0.075631 \n",
      "Iter 0025 | Total Loss 0.071758 \n",
      "Iter 0030 | Total Loss 0.071428 \n",
      "Iter 0035 | Total Loss 0.067452 \n",
      "Iter 0040 | Total Loss 0.066001 \n",
      "Iter 0045 | Total Loss 0.063808 \n",
      "Iter 0050 | Total Loss 0.061105 \n",
      "Iter 0055 | Total Loss 0.058641 \n",
      "Iter 0060 | Total Loss 0.056272 \n",
      "Iter 0065 | Total Loss 0.053998 \n",
      "Iter 0070 | Total Loss 0.052262 \n",
      "Iter 0075 | Total Loss 0.050305 \n",
      "Iter 0080 | Total Loss 0.048294 \n",
      "Iter 0085 | Total Loss 0.046811 \n",
      "Iter 0090 | Total Loss 0.045875 \n",
      "Iter 0095 | Total Loss 0.045330 \n",
      "Iter 0100 | Total Loss 0.044768 \n",
      "Iter 0105 | Total Loss 0.043839 \n",
      "Iter 0110 | Total Loss 0.042641 \n",
      "Iter 0115 | Total Loss 0.043332 \n",
      "Iter 0120 | Total Loss 0.042943 \n",
      "Iter 0125 | Total Loss 0.042445 \n",
      "Iter 0130 | Total Loss 0.042153 \n",
      "Iter 0135 | Total Loss 0.042790 \n",
      "Iter 0140 | Total Loss 0.042143 \n",
      "Iter 0145 | Total Loss 0.042215 \n",
      "Iter 0150 | Total Loss 0.041589 \n",
      "Iter 0155 | Total Loss 0.041370 \n",
      "Iter 0160 | Total Loss 0.041925 \n",
      "Iter 0165 | Total Loss 0.041402 \n",
      "Iter 0170 | Total Loss 0.041895 \n",
      "Iter 0175 | Total Loss 0.042934 \n",
      "Iter 0180 | Total Loss 0.043431 \n",
      "Iter 0185 | Total Loss 0.041971 \n",
      "Iter 0190 | Total Loss 0.040863 \n",
      "Iter 0195 | Total Loss 0.040868 \n",
      "Iter 0200 | Total Loss 0.040280 \n",
      "Iter 0205 | Total Loss 0.040249 \n",
      "Iter 0210 | Total Loss 0.040459 \n",
      "Iter 0215 | Total Loss 0.041480 \n",
      "Iter 0220 | Total Loss 0.041683 \n",
      "Iter 0225 | Total Loss 0.041473 \n",
      "Iter 0230 | Total Loss 0.041435 \n",
      "Iter 0235 | Total Loss 0.042332 \n",
      "Iter 0240 | Total Loss 0.040684 \n",
      "Iter 0245 | Total Loss 0.039821 \n",
      "Iter 0250 | Total Loss 0.041080 \n",
      "Iter 0255 | Total Loss 0.039421 \n",
      "Iter 0260 | Total Loss 0.038389 \n",
      "Iter 0265 | Total Loss 0.039505 \n",
      "Iter 0270 | Total Loss 0.039059 \n",
      "Iter 0275 | Total Loss 0.038599 \n",
      "Iter 0280 | Total Loss 0.037386 \n",
      "Iter 0285 | Total Loss 0.036992 \n",
      "Iter 0290 | Total Loss 0.040689 \n",
      "Iter 0295 | Total Loss 0.037509 \n",
      "Iter 0300 | Total Loss 0.036533 \n",
      "Iter 0305 | Total Loss 0.035794 \n",
      "Iter 0310 | Total Loss 0.035173 \n",
      "Iter 0315 | Total Loss 0.037940 \n",
      "Iter 0320 | Total Loss 0.036127 \n",
      "Iter 0325 | Total Loss 0.035193 \n",
      "Iter 0330 | Total Loss 0.035209 \n",
      "Iter 0335 | Total Loss 0.036522 \n",
      "Iter 0340 | Total Loss 0.041733 \n",
      "Iter 0345 | Total Loss 0.039598 \n",
      "Iter 0350 | Total Loss 0.036432 \n",
      "Iter 0355 | Total Loss 0.035829 \n",
      "Iter 0360 | Total Loss 0.042466 \n",
      "Iter 0365 | Total Loss 0.039518 \n",
      "Iter 0370 | Total Loss 0.039886 \n",
      "Iter 0375 | Total Loss 0.035993 \n",
      "Iter 0380 | Total Loss 0.036235 \n",
      "Iter 0385 | Total Loss 0.036894 \n",
      "Iter 0390 | Total Loss 0.035484 \n",
      "Iter 0395 | Total Loss 0.035050 \n",
      "Iter 0400 | Total Loss 0.037632 \n",
      "Iter 0405 | Total Loss 0.039584 \n",
      "Iter 0410 | Total Loss 0.036130 \n",
      "Iter 0415 | Total Loss 0.037319 \n",
      "Iter 0420 | Total Loss 0.042059 \n",
      "Iter 0425 | Total Loss 0.041882 \n",
      "Iter 0430 | Total Loss 0.039710 \n",
      "Iter 0435 | Total Loss 0.037035 \n",
      "Iter 0440 | Total Loss 0.036476 \n",
      "Iter 0445 | Total Loss 0.036228 \n",
      "Iter 0450 | Total Loss 0.036121 \n",
      "Iter 0455 | Total Loss 0.036049 \n",
      "Iter 0460 | Total Loss 0.038554 \n",
      "Iter 0465 | Total Loss 0.039743 \n",
      "Iter 0470 | Total Loss 0.040826 \n",
      "Iter 0475 | Total Loss 0.040379 \n",
      "Iter 0480 | Total Loss 0.037159 \n",
      "Iter 0485 | Total Loss 0.038789 \n",
      "Iter 0490 | Total Loss 0.038020 \n",
      "Iter 0495 | Total Loss 0.035778 \n",
      "Iter 0500 | Total Loss 0.039134 \n",
      "Iter 0505 | Total Loss 0.035556 \n",
      "Iter 0510 | Total Loss 0.034744 \n",
      "Iter 0515 | Total Loss 0.035489 \n",
      "Iter 0520 | Total Loss 0.036989 \n",
      "Iter 0525 | Total Loss 0.033877 \n",
      "Iter 0530 | Total Loss 0.033291 \n",
      "Iter 0535 | Total Loss 0.034058 \n",
      "Iter 0540 | Total Loss 0.036140 \n",
      "Iter 0545 | Total Loss 0.033694 \n",
      "Iter 0550 | Total Loss 0.034533 \n",
      "Iter 0555 | Total Loss 0.034322 \n",
      "Iter 0560 | Total Loss 0.038227 \n",
      "Iter 0565 | Total Loss 0.032276 \n",
      "Iter 0570 | Total Loss 0.034038 \n",
      "Iter 0575 | Total Loss 0.033309 \n",
      "Iter 0580 | Total Loss 0.033217 \n",
      "Iter 0585 | Total Loss 0.030909 \n",
      "Iter 0590 | Total Loss 0.030915 \n",
      "Iter 0595 | Total Loss 0.031159 \n",
      "Iter 0600 | Total Loss 0.032368 \n",
      "Iter 0605 | Total Loss 0.030589 \n",
      "Iter 0610 | Total Loss 0.030621 \n",
      "Iter 0615 | Total Loss 0.030465 \n",
      "Iter 0620 | Total Loss 0.029964 \n",
      "Iter 0625 | Total Loss 0.030011 \n",
      "Iter 0630 | Total Loss 0.031270 \n",
      "Iter 0635 | Total Loss 0.029189 \n",
      "Iter 0640 | Total Loss 0.028503 \n",
      "Iter 0645 | Total Loss 0.030418 \n",
      "Iter 0650 | Total Loss 0.028205 \n",
      "Iter 0655 | Total Loss 0.030752 \n",
      "Iter 0660 | Total Loss 0.028048 \n",
      "Iter 0665 | Total Loss 0.028018 \n",
      "Iter 0670 | Total Loss 0.031392 \n",
      "Iter 0675 | Total Loss 0.033503 \n",
      "Iter 0680 | Total Loss 0.028365 \n",
      "Iter 0685 | Total Loss 0.029134 \n",
      "Iter 0690 | Total Loss 0.028721 \n",
      "Iter 0695 | Total Loss 0.028047 \n",
      "Iter 0700 | Total Loss 0.027692 \n",
      "Iter 0705 | Total Loss 0.027625 \n",
      "Iter 0710 | Total Loss 0.027508 \n",
      "Iter 0715 | Total Loss 0.027660 \n",
      "Iter 0720 | Total Loss 0.027550 \n",
      "Iter 0725 | Total Loss 0.027149 \n",
      "Iter 0730 | Total Loss 0.026932 \n",
      "Iter 0735 | Total Loss 0.027666 \n",
      "Iter 0740 | Total Loss 0.027407 \n",
      "Iter 0745 | Total Loss 0.027170 \n",
      "Iter 0750 | Total Loss 0.028017 \n",
      "Iter 0755 | Total Loss 0.026484 \n",
      "Iter 0760 | Total Loss 0.026002 \n",
      "Iter 0765 | Total Loss 0.026041 \n",
      "Iter 0770 | Total Loss 0.026949 \n",
      "Iter 0775 | Total Loss 0.027009 \n",
      "Iter 0780 | Total Loss 0.027659 \n",
      "Iter 0785 | Total Loss 0.026625 \n",
      "Iter 0790 | Total Loss 0.026174 \n",
      "Iter 0795 | Total Loss 0.025885 \n",
      "Iter 0800 | Total Loss 0.026529 \n",
      "Iter 0805 | Total Loss 0.026487 \n",
      "Iter 0810 | Total Loss 0.027004 \n",
      "Iter 0815 | Total Loss 0.026744 \n",
      "Iter 0820 | Total Loss 0.027500 \n",
      "Iter 0825 | Total Loss 0.027225 \n",
      "Iter 0830 | Total Loss 0.026482 \n",
      "Iter 0835 | Total Loss 0.025648 \n",
      "Iter 0840 | Total Loss 0.026365 \n",
      "Iter 0845 | Total Loss 0.026183 \n",
      "Iter 0850 | Total Loss 0.025971 \n",
      "Iter 0855 | Total Loss 0.025260 \n",
      "Iter 0860 | Total Loss 0.025037 \n",
      "Iter 0865 | Total Loss 0.025320 \n",
      "Iter 0870 | Total Loss 0.025042 \n",
      "Iter 0875 | Total Loss 0.025745 \n",
      "Iter 0880 | Total Loss 0.025745 \n",
      "Iter 0885 | Total Loss 0.026326 \n",
      "Iter 0890 | Total Loss 0.026287 \n",
      "Iter 0895 | Total Loss 0.026914 \n",
      "Iter 0900 | Total Loss 0.025263 \n",
      "Iter 0905 | Total Loss 0.026178 \n",
      "Iter 0910 | Total Loss 0.026192 \n",
      "Iter 0915 | Total Loss 0.026706 \n",
      "Iter 0920 | Total Loss 0.027402 \n",
      "Iter 0925 | Total Loss 0.029075 \n",
      "Iter 0930 | Total Loss 0.025645 \n",
      "Iter 0935 | Total Loss 0.027375 \n",
      "Iter 0940 | Total Loss 0.025657 \n",
      "Iter 0945 | Total Loss 0.026013 \n",
      "Iter 0950 | Total Loss 0.024626 \n",
      "Iter 0955 | Total Loss 0.024450 \n",
      "Iter 0960 | Total Loss 0.024768 \n",
      "Iter 0965 | Total Loss 0.025352 \n",
      "Iter 0970 | Total Loss 0.025439 \n",
      "Iter 0975 | Total Loss 0.026123 \n",
      "Iter 0980 | Total Loss 0.031200 \n",
      "Iter 0985 | Total Loss 0.028303 \n",
      "Iter 0990 | Total Loss 0.026965 \n",
      "Iter 0995 | Total Loss 0.025879 \n",
      "Iter 1000 | Total Loss 0.025011 \n"
     ]
    }
   ],
   "source": [
    "if runCNN:\n",
    "    for itr in range(1, n_iters + 1):\n",
    "        optimizer.zero_grad()\n",
    "\n",
    "        batch_y0, batch_t, batch_y = get_batch(x_train_orig_torch, t_train_torch)\n",
    "\n",
    "        pred_y = torch.zeros_like(batch_y)\n",
    "        \n",
    "        for i in range(batch_size):\n",
    "            pred_y[:, i, :, :, :] = torch.squeeze(odeint(my_cnn_model, batch_y0[[i], :, :, :], batch_t[i, :]).to(device), 1)\n",
    "        \n",
    "        loss = torch.mean(torch.abs(pred_y - batch_y))\n",
    "        loss.backward()\n",
    "        optimizer.step()\n",
    "\n",
    "\n",
    "        # time_meter.update(time.time() - end)\n",
    "        # loss_meter.update(loss.item())\n",
    "\n",
    "        if itr % test_freq == 0:\n",
    "            with torch.no_grad():\n",
    "                pred_y_full_series = torch.squeeze(odeint(my_cnn_model, x_orig_torch_full[[0]], t_torch_full), 1)\n",
    "                loss_full_series = torch.mean(torch.abs(pred_y_full_series \n",
    "                                                        - x_orig_torch_full))\n",
    "                print(\"Iter {:04d} | Total Loss {:.6f} \".format(itr,\n",
    "                                                                loss_full_series.item(), \n",
    "                                                                ))\n",
    "                # ii += 1\n",
    "\n",
    "        end = time.time()"
   ]
  },
  {
   "cell_type": "code",
   "execution_count": 78,
   "id": "04469a0f-b67c-47e9-9b88-bab2b7a387c9",
   "metadata": {
    "tags": []
   },
   "outputs": [],
   "source": [
    "with torch.no_grad():\n",
    "    pred_y_final = torch.squeeze(odeint(my_cnn_model, x_orig_torch_full[[0]], t_torch_full), 1).cpu().numpy()[:, 0, :, :]"
   ]
  },
  {
   "cell_type": "code",
   "execution_count": 79,
   "id": "00cca11b-dc7b-48e9-9109-ccf3e5cc32f4",
   "metadata": {
    "tags": []
   },
   "outputs": [
    {
     "data": {
      "text/plain": [
       "(69, 32, 128)"
      ]
     },
     "execution_count": 79,
     "metadata": {},
     "output_type": "execute_result"
    }
   ],
   "source": [
    "pred_y_final.shape"
   ]
  },
  {
   "cell_type": "code",
   "execution_count": 80,
   "id": "4f80a453-c3c1-449a-8d34-9b2838e29a19",
   "metadata": {
    "tags": []
   },
   "outputs": [],
   "source": [
    "x_orig_full_cpu = x_orig_torch_full.cpu().numpy()[:, 0, :, :]"
   ]
  },
  {
   "cell_type": "code",
   "execution_count": 81,
   "id": "81b64554-04e8-4af4-96be-35ed9268353c",
   "metadata": {
    "tags": []
   },
   "outputs": [
    {
     "data": {
      "text/plain": [
       "(69, 32, 128)"
      ]
     },
     "execution_count": 81,
     "metadata": {},
     "output_type": "execute_result"
    }
   ],
   "source": [
    "x_orig_full_cpu.shape"
   ]
  },
  {
   "cell_type": "code",
   "execution_count": 89,
   "id": "a03a31fb-3d61-4d6d-b641-c84b7fe65329",
   "metadata": {
    "tags": []
   },
   "outputs": [
    {
     "data": {
      "image/png": "[encoded data removed]",
      "text/plain": [
       "<Figure size 3600x2400 with 4 Axes>"
      ]
     },
     "metadata": {},
     "output_type": "display_data"
    }
   ],
   "source": [
    "fig, ax = plt.subplots(1, 2, figsize=(12, 8))\n",
    "axs = ax.ravel()\n",
    "im0 = axs[0].imshow(x_orig_full_cpu[40, :, :],\n",
    "            origin=\"lower\",\n",
    "            cmap=lc3_reg)\n",
    "axs[0].set_title(\"True\")\n",
    "fig.colorbar(im0, fraction=0.046 * 1/3, pad=0.04, ax=axs[0])\n",
    "\n",
    "im1 = axs[1].imshow(pred_y_final[40, :, :],\n",
    "                   origin=\"lower\",\n",
    "                   cmap=lc3_reg)\n",
    "axs[1].set_title(\"Predicted\")\n",
    "fig.colorbar(im1, fraction=0.046 * 1/3, pad=0.04, ax=axs[1])\n",
    "fig.tight_layout()"
   ]
  },
  {
   "cell_type": "markdown",
   "id": "9cc93e3f-f184-46e1-b5f4-92e7d1c5c0bc",
   "metadata": {},
   "source": [
    "Ok so this is not completely a failure, its still really really bad, but the results are better than before!! almost the same outcome whether we do 1000 iterations or 4000."
   ]
  },
  {
   "cell_type": "code",
   "execution_count": null,
   "id": "caf0a372-4eb0-4e22-8597-20ee2957e440",
   "metadata": {},
   "outputs": [],
   "source": []
  }
 ],
 "metadata": {
  "kernelspec": {
   "display_name": "pytorch-1.9.0",
   "language": "python",
   "name": "pytorch-1.9.0"
  },
  "language_info": {
   "codemirror_mode": {
    "name": "ipython",
    "version": 3
   },
   "file_extension": ".py",
   "mimetype": "text/x-python",
   "name": "python",
   "nbconvert_exporter": "python",
   "pygments_lexer": "ipython3",
   "version": "3.8.11"
  }
 },
 "nbformat": 4,
 "nbformat_minor": 5
}
