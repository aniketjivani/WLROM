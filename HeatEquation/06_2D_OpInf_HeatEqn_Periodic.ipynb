{
 "cells": [
  {
   "cell_type": "markdown",
   "id": "273f0a6e",
   "metadata": {},
   "source": [
    "Solve heat equation on 2D domain with Periodic boundary conditions. \n",
    "Specify an IC, define OpInf problem and attempt a solution. Check retrieved diffusion operator!"
   ]
  },
  {
   "cell_type": "code",
   "execution_count": 51,
   "id": "80ed124b",
   "metadata": {},
   "outputs": [],
   "source": [
    "import numpy as np\n",
    "import pandas as pd\n",
    "import scipy.linalg as la\n",
    "import scipy.sparse as sparse\n",
    "import matplotlib.pyplot as plt\n",
    "\n",
    "import opinf"
   ]
  },
  {
   "cell_type": "code",
   "execution_count": 67,
   "id": "d2aa41c4",
   "metadata": {},
   "outputs": [],
   "source": [
    "import os"
   ]
  },
  {
   "cell_type": "code",
   "execution_count": 68,
   "id": "08eab294",
   "metadata": {},
   "outputs": [],
   "source": [
    "fig_save_dir = \"./diff_2d_img\""
   ]
  },
  {
   "cell_type": "code",
   "execution_count": 69,
   "id": "f9044364",
   "metadata": {},
   "outputs": [],
   "source": [
    "# create numpy array for velocity"
   ]
  },
  {
   "cell_type": "code",
   "execution_count": 70,
   "id": "8108da6b",
   "metadata": {},
   "outputs": [],
   "source": [
    "nx = 64\n",
    "ny = 64"
   ]
  },
  {
   "cell_type": "code",
   "execution_count": 71,
   "id": "2ee4ebb5",
   "metadata": {},
   "outputs": [],
   "source": [
    "alpha = 1e-2"
   ]
  },
  {
   "cell_type": "code",
   "execution_count": 72,
   "id": "6480fd95",
   "metadata": {},
   "outputs": [],
   "source": [
    "x = np.linspace(0, 1, nx + 1)\n",
    "y = np.linspace(0, 1, ny + 1)"
   ]
  },
  {
   "cell_type": "code",
   "execution_count": 73,
   "id": "2c1d79ce",
   "metadata": {},
   "outputs": [],
   "source": [
    "xm = x[:-1] + (x[1] - x[0]) / 2  # x-Grid (location of cell centers)\n",
    "ym = y[:-1] + (y[1] - y[0]) / 2  # y-Grid (location of cell centers)"
   ]
  },
  {
   "cell_type": "code",
   "execution_count": 74,
   "id": "9d98e474",
   "metadata": {},
   "outputs": [],
   "source": [
    "XM, YM = np.meshgrid(xm, ym)"
   ]
  },
  {
   "cell_type": "code",
   "execution_count": 75,
   "id": "e85aff14",
   "metadata": {},
   "outputs": [],
   "source": [
    "dx = xm[1] - xm[0]\n",
    "dy = ym[1] - ym[0]\n",
    "\n",
    "dxi = 1 / dx\n",
    "dyi = 1 / dy\n",
    "\n",
    "dxi2 = 1 / dx ** 2\n",
    "dyi2 = 1 / dy ** 2"
   ]
  },
  {
   "cell_type": "code",
   "execution_count": 76,
   "id": "49dea785",
   "metadata": {},
   "outputs": [],
   "source": [
    "u = np.zeros((nx + 1, ny))\n",
    "v = np.zeros((nx, ny + 1))\n",
    "for i in range(nx):\n",
    "    for j in range(ny):\n",
    "        u[i, j] = 1 / 10 - (np.sin(np.pi * x[i])) ** 2 * (\n",
    "                    np.sin(np.pi * (ym[j] - 0.05)) * np.cos(np.pi * (ym[j] - 0.05)) -\n",
    "                    np.sin(np.pi * (ym[j] + 0.05)) * np.cos(np.pi * (ym[j] + 0.05)))\n",
    "for i in range(nx):\n",
    "    for j in range(ny):\n",
    "        v[i, j] = np.sin(np.pi * xm[i]) * np.cos(np.pi * xm[i]) * (\n",
    "                    (np.sin(np.pi * (y[j] - 0.05))) ** 2 -\n",
    "                    (np.sin(np.pi * (y[j] + 0.05))) ** 2)"
   ]
  },
  {
   "cell_type": "code",
   "execution_count": 77,
   "id": "6d378be8",
   "metadata": {},
   "outputs": [],
   "source": [
    "theta_s = 0.01\n",
    "theta_h = 0.05\n",
    "theta_x = 0.3\n",
    "theta_y = 0.55"
   ]
  },
  {
   "cell_type": "code",
   "execution_count": 78,
   "id": "ddf9c865",
   "metadata": {},
   "outputs": [],
   "source": [
    "omega = np.zeros((nx, ny))\n",
    "for i in range(nx):\n",
    "    for j in range(ny):\n",
    "        omega[i, j] = ((theta_s) / (2 * np.pi * theta_h**2)) * (np.exp(-((theta_x - xm[i]) ** 2 + (theta_y - ym[j]) ** 2) / (2 * theta_h ** 2)) \n",
    "         - np.exp(-((xm[i] - theta_x + 0.05) ** 2 + (ym[j] - theta_y + 0.05) ** 2) / (2 * theta_h ** 2)))"
   ]
  },
  {
   "cell_type": "code",
   "execution_count": 79,
   "id": "789ac297",
   "metadata": {},
   "outputs": [
    {
     "data": {
      "text/plain": [
       "<matplotlib.colorbar.Colorbar at 0x7f8aa67fe6e0>"
      ]
     },
     "execution_count": 79,
     "metadata": {},
     "output_type": "execute_result"
    },
    {
     "data": {
      "image/png": "[encoded data removed]",
      "text/plain": [
       "<Figure size 640x480 with 2 Axes>"
      ]
     },
     "metadata": {},
     "output_type": "display_data"
    }
   ],
   "source": [
    "plt.contourf(xm, ym, omega.T,\n",
    "              origin='lower',\n",
    "              cmap='jet')\n",
    "plt.axis('square')\n",
    "plt.colorbar()"
   ]
  },
  {
   "cell_type": "code",
   "execution_count": 80,
   "id": "569dc912",
   "metadata": {},
   "outputs": [],
   "source": [
    "do_calc_phi = 1"
   ]
  },
  {
   "cell_type": "code",
   "execution_count": 82,
   "id": "e9411536",
   "metadata": {},
   "outputs": [
    {
     "name": "stdout",
     "output_type": "stream",
     "text": [
      "Simulation timestep is  0.0048828125\n",
      "1.2% complete\n",
      "2.3% complete\n",
      "3.5% complete\n",
      "4.7% complete\n",
      "5.9% complete\n",
      "7.0% complete\n",
      "8.2% complete\n",
      "9.4% complete\n",
      "10.5% complete\n",
      "11.7% complete\n",
      "12.9% complete\n",
      "14.1% complete\n",
      "15.2% complete\n",
      "16.4% complete\n",
      "17.6% complete\n",
      "18.8% complete\n",
      "19.9% complete\n",
      "21.1% complete\n",
      "22.3% complete\n",
      "23.4% complete\n",
      "24.6% complete\n",
      "25.8% complete\n",
      "27.0% complete\n",
      "28.1% complete\n",
      "29.3% complete\n",
      "30.5% complete\n",
      "31.6% complete\n",
      "32.8% complete\n",
      "34.0% complete\n",
      "35.2% complete\n",
      "36.3% complete\n",
      "37.5% complete\n",
      "38.7% complete\n",
      "39.8% complete\n",
      "41.0% complete\n",
      "42.2% complete\n",
      "43.4% complete\n",
      "44.5% complete\n",
      "45.7% complete\n",
      "46.9% complete\n",
      "48.0% complete\n",
      "49.2% complete\n",
      "50.4% complete\n",
      "51.6% complete\n",
      "52.7% complete\n",
      "53.9% complete\n",
      "55.1% complete\n",
      "56.2% complete\n",
      "57.4% complete\n",
      "58.6% complete\n",
      "59.8% complete\n",
      "60.9% complete\n",
      "62.1% complete\n",
      "63.3% complete\n",
      "64.5% complete\n",
      "65.6% complete\n",
      "66.8% complete\n",
      "68.0% complete\n",
      "69.1% complete\n",
      "70.3% complete\n",
      "71.5% complete\n",
      "72.7% complete\n",
      "73.8% complete\n",
      "75.0% complete\n",
      "76.2% complete\n",
      "77.3% complete\n",
      "78.5% complete\n",
      "79.7% complete\n",
      "80.9% complete\n",
      "82.0% complete\n",
      "83.2% complete\n",
      "84.4% complete\n",
      "85.5% complete\n",
      "86.7% complete\n",
      "87.9% complete\n",
      "89.1% complete\n",
      "90.2% complete\n",
      "91.4% complete\n",
      "92.6% complete\n",
      "93.8% complete\n",
      "94.9% complete\n",
      "96.1% complete\n",
      "97.3% complete\n",
      "98.4% complete\n",
      "99.6% complete\n"
     ]
    }
   ],
   "source": [
    "if do_calc_phi:\n",
    "    # # Compute the timestep based on the max CFL and set final time\n",
    "    CFL = 0.8\n",
    "    maxU = np.max(np.abs(u))\n",
    "    maxU = np.max([maxU, np.max(np.abs(v))])\n",
    "    dt_c = CFL * dx / maxU  # dt based on convective CFL\n",
    "    dt_v = CFL * dx ** 2 / alpha / 4  # dt based on viscous CFL\n",
    "    \n",
    "    dt = min(dt_c, dt_v)   # Simulation timestep\n",
    "    print(\"Simulation timestep is \", dt)\n",
    "    tf = 2.5                 # Final time\n",
    "    # dt = 0.0005\n",
    "    # tf = 2\n",
    "    # Initialize phi\n",
    "    phi = np.zeros((nx, ny))\n",
    "    phi_old = phi.copy()\n",
    "    phi_mid = np.zeros(nx*ny)\n",
    "\n",
    "\n",
    "    phi_tensor = []\n",
    "    # Output frequency\n",
    "    import copy\n",
    "    # Output frequency\n",
    "    freq = tf / 8\n",
    "    otime = copy.deepcopy(freq)\n",
    "    # Loop through time\n",
    "    t = 0\n",
    "    tcount = 0\n",
    "    while t <= tf:\n",
    "        # Loop through space\n",
    "        for i in range(nx):\n",
    "            for j in range(ny):\n",
    "                ip1 = i + 1\n",
    "                if ip1 == nx:\n",
    "                    ip1 = 0\n",
    "                \n",
    "                ip2 = i + 2\n",
    "                if ip2 == nx:\n",
    "                    ip2 = 0\n",
    "                elif ip2 == nx + 1:\n",
    "                    ip2 = 1\n",
    "                im1 = i - 1\n",
    "                if im1 == -1:\n",
    "                    im1 = nx - 1\n",
    "                \n",
    "                im2 = i - 2\n",
    "                if im2 == -1:\n",
    "                    im2 = nx - 1\n",
    "                elif im2 == -2:\n",
    "                    im2 = nx - 2\n",
    "                \n",
    "                jp1 = j + 1\n",
    "                if jp1 == ny:\n",
    "                    jp1 = 0\n",
    "                \n",
    "                jp2 = j + 2\n",
    "                if jp2 == ny:\n",
    "                    jp2 = 0\n",
    "                elif jp2 == ny + 1:\n",
    "                    jp2 = 1\n",
    "                jm1 = j - 1\n",
    "                if jm1 == -1:\n",
    "                    jm1 = ny - 1\n",
    "                jm2 = j - 2\n",
    "                if jm2 == -1:\n",
    "                    jm2 = ny - 1\n",
    "                elif jm2 == -2:\n",
    "                    jm2 = ny - 2\n",
    "                # Diffusion (explicit)\n",
    "                diff = alpha * dxi2 * (phi_old[im1, j] - 2 * phi_old[i, j] + phi_old[ip1, j])  # in x\n",
    "                diff += alpha * dyi2 * (phi_old[i, jm1] - 2 * phi_old[i, j] + phi_old[i, jp1])  # in y\n",
    "                \n",
    "                # Face velocities\n",
    "                ue = u[i + 1, j]\n",
    "                uw = u[i, j]\n",
    "                un = v[i, j + 1]\n",
    "                us = v[i, j]\n",
    "                \n",
    "                # QUICK reconstruction (explicit)\n",
    "                # E\n",
    "                if ue > 0:\n",
    "                    phi_e = (-phi_old[im1, j] + 5 * phi_old[i, j] + 2 * phi_old[ip1, j]) / 6\n",
    "                else:\n",
    "                    phi_e = (2 * phi_old[i, j] + 5 * phi_old[ip1, j] - phi_old[ip2, j]) / 6\n",
    "                # W\n",
    "                if uw > 0:\n",
    "                    phi_w = (-phi_old[im2, j] + 5 * phi_old[im1, j] + 2 * phi_old[i, j]) / 6\n",
    "                else:\n",
    "                    phi_w = (2 * phi_old[im1, j] + 5 * phi_old[i, j] - phi_old[ip1, j]) / 6\n",
    "                # N\n",
    "                if un > 0:\n",
    "                    phi_n = (-phi_old[i, jm1] + 5 * phi_old[i, j] + 2 * phi_old[i, jp1]) / 6\n",
    "                else:\n",
    "                    phi_n = (2 * phi_old[i, j] + 5 * phi_old[i, jp1] - phi_old[i, jp2]) / 6\n",
    "                # S\n",
    "                if us > 0:\n",
    "                    phi_s = (-phi_old[i, jm2] + 5 * phi_old[i, jm1] + 2 * phi_old[i, j]) / 6\n",
    "                else:\n",
    "                    phi_s = (2 * phi_old[i, jm1] + 5 * phi_old[i, j] - phi_old[i, jp1]) / 6\n",
    "                # Convection (explicit)\n",
    "                conv =      - dxi * (ue*phi_e - uw*phi_w) # in x\n",
    "                conv = conv - dyi * (un*phi_n - us*phi_s) # in y\n",
    "                \n",
    "                # Update\n",
    "                # 1st-order explicit\n",
    "                phi[i,j] = phi_old[i,j] + dt * (conv + diff + omega[i,j])\n",
    "        \n",
    "        \n",
    "        # Update time\n",
    "        t = t + dt\n",
    "        \n",
    "        # Update old phi\n",
    "        phi_old = phi\n",
    "\n",
    "        phi_tensor.append(phi.T)\n",
    "        # Plot\n",
    "        if t>otime:\n",
    "            plt.figure(1)\n",
    "            plt.contourf(xm, ym, phi.T,\n",
    "                        origin='lower',\n",
    "                        vmin=-0.2,\n",
    "                        vmax=0.2,\n",
    "                        cmap='jet'\n",
    "                        )\n",
    "            hs = plt.streamplot(XM, YM, u[0:nx, 0:ny], v[0:nx, 0:ny])\n",
    "            # hs.set_color('w')\n",
    "            # hs.set_linewidth(1)\n",
    "            plt.axis('square')\n",
    "            title_text = 'Time: ' + '{:.2f}'.format(t) + ' s'\n",
    "            plt.title(title_text, fontsize=18)\n",
    "            # plt.set_cmap('jet')\n",
    "            # plt.set_cmap('viridis')\n",
    "            plt.colorbar()\n",
    "            # Write to file\n",
    "            fname = 'phi_' + 'explicit' + '_' + '{:.2f}'.format(t) + '.png'\n",
    "            plt.savefig(os.path.join(fig_save_dir, fname))\n",
    "            otime = otime + freq\n",
    "            plt.close(1)\n",
    "        # Monitor the timestep\n",
    "        tcount = tcount + dt\n",
    "        if tcount > 0.01*tf:\n",
    "            print(f'{t/tf*100:3.1f}% complete')\n",
    "            tcount = 0"
   ]
  },
  {
   "cell_type": "code",
   "execution_count": 83,
   "id": "a7fdf330",
   "metadata": {},
   "outputs": [
    {
     "data": {
      "text/plain": [
       "513"
      ]
     },
     "execution_count": 83,
     "metadata": {},
     "output_type": "execute_result"
    }
   ],
   "source": [
    "len(phi_tensor)"
   ]
  },
  {
   "cell_type": "markdown",
   "id": "1330d569",
   "metadata": {},
   "source": [
    "Vanilla OpInf without regularization"
   ]
  },
  {
   "cell_type": "code",
   "execution_count": 87,
   "id": "cf0a4bcc",
   "metadata": {},
   "outputs": [
    {
     "data": {
      "text/plain": [
       "513"
      ]
     },
     "execution_count": 87,
     "metadata": {},
     "output_type": "execute_result"
    }
   ],
   "source": [
    "times_all = np.arange(0, tf + dt, step=dt)\n",
    "len(times_all)"
   ]
  },
  {
   "cell_type": "code",
   "execution_count": 88,
   "id": "14ecc97b",
   "metadata": {},
   "outputs": [
    {
     "data": {
      "text/plain": [
       "(64, 64)"
      ]
     },
     "execution_count": 88,
     "metadata": {},
     "output_type": "execute_result"
    }
   ],
   "source": [
    "phi_tensor[0].shape"
   ]
  },
  {
   "cell_type": "markdown",
   "id": "b4ff0750",
   "metadata": {},
   "source": [
    "Flatten every solution step into vector and assemble as 2D array."
   ]
  },
  {
   "cell_type": "code",
   "execution_count": null,
   "id": "535ac4ba",
   "metadata": {},
   "outputs": [],
   "source": []
  },
  {
   "cell_type": "code",
   "execution_count": null,
   "id": "0c6b547a",
   "metadata": {},
   "outputs": [],
   "source": []
  },
  {
   "cell_type": "code",
   "execution_count": null,
   "id": "6a0b4b60",
   "metadata": {},
   "outputs": [],
   "source": []
  },
  {
   "cell_type": "code",
   "execution_count": null,
   "id": "a6c6ba32",
   "metadata": {},
   "outputs": [],
   "source": []
  },
  {
   "cell_type": "code",
   "execution_count": null,
   "id": "dc13daf0",
   "metadata": {},
   "outputs": [],
   "source": []
  },
  {
   "cell_type": "markdown",
   "id": "a4b3a751",
   "metadata": {},
   "source": [
    "Get reduced state."
   ]
  },
  {
   "cell_type": "code",
   "execution_count": null,
   "id": "be19ba52",
   "metadata": {},
   "outputs": [],
   "source": []
  },
  {
   "cell_type": "code",
   "execution_count": null,
   "id": "d964e2ad",
   "metadata": {},
   "outputs": [],
   "source": []
  },
  {
   "cell_type": "markdown",
   "id": "a1f16b3f",
   "metadata": {},
   "source": [
    "OpInf with $L1$ regularization (our implementation - since original library restricts us to L2!)"
   ]
  },
  {
   "cell_type": "code",
   "execution_count": null,
   "id": "7fee5f93",
   "metadata": {},
   "outputs": [],
   "source": []
  }
 ],
 "metadata": {
  "kernelspec": {
   "display_name": "Python 3 (ipykernel)",
   "language": "python",
   "name": "python3"
  },
  "language_info": {
   "codemirror_mode": {
    "name": "ipython",
    "version": 3
   },
   "file_extension": ".py",
   "mimetype": "text/x-python",
   "name": "python",
   "nbconvert_exporter": "python",
   "pygments_lexer": "ipython3",
   "version": "3.10.10"
  }
 },
 "nbformat": 4,
 "nbformat_minor": 5
}
