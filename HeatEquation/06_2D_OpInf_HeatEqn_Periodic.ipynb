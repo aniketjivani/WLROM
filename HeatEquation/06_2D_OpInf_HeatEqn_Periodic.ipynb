{
 "cells": [
  {
   "cell_type": "markdown",
   "id": "273f0a6e",
   "metadata": {},
   "source": [
    "Solve heat equation on 2D domain with periodic boundary conditions. \n",
    "Specify an IC, define OpInf problem and attempt a solution. Check retrieved diffusion operator!"
   ]
  },
  {
   "cell_type": "code",
   "execution_count": 2,
   "id": "80ed124b",
   "metadata": {},
   "outputs": [],
   "source": [
    "import numpy as np\n",
    "import pandas as pd\n",
    "import scipy.linalg as la\n",
    "import scipy.sparse as sparse\n",
    "import matplotlib.pyplot as plt\n",
    "\n",
    "import opinf"
   ]
  },
  {
   "cell_type": "code",
   "execution_count": 3,
   "id": "de74836e",
   "metadata": {},
   "outputs": [],
   "source": [
    "# initially set up a 4x4 grid, see if it holds up!"
   ]
  },
  {
   "cell_type": "code",
   "execution_count": null,
   "id": "3c8ff337",
   "metadata": {},
   "outputs": [],
   "source": []
  }
 ],
 "metadata": {
  "kernelspec": {
   "display_name": "Python 3 (ipykernel)",
   "language": "python",
   "name": "python3"
  },
  "language_info": {
   "codemirror_mode": {
    "name": "ipython",
    "version": 3
   },
   "file_extension": ".py",
   "mimetype": "text/x-python",
   "name": "python",
   "nbconvert_exporter": "python",
   "pygments_lexer": "ipython3",
   "version": "3.8.16"
  }
 },
 "nbformat": 4,
 "nbformat_minor": 5
}
