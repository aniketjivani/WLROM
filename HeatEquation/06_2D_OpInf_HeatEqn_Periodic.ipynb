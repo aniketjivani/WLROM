{
 "cells": [
  {
   "cell_type": "markdown",
   "id": "273f0a6e",
   "metadata": {},
   "source": [
    "Solve heat equation on 2D domain with Dirichlet boundary conditions. \n",
    "Specify an IC, define OpInf problem and attempt a solution. Check retrieved diffusion operator!"
   ]
  },
  {
   "cell_type": "markdown",
   "id": "27802a4a",
   "metadata": {},
   "source": [
    "Steady state temperature in 2D domain with length $L$ and height $H$ is given by:"
   ]
  },
  {
   "cell_type": "markdown",
   "id": "ddef07ba",
   "metadata": {},
   "source": [
    "$$\n",
    "T=T_1\\left[2 \\sum_{n=1}^{\\infty} \\frac{1-(-1)^n}{n \\pi} \\frac{\\operatorname{Sinh}\\left[\\frac{n \\pi(H-y)}{L}\\right]}{\\operatorname{Sinh}\\left[\\frac{n \\pi H}{L}\\right]} \\operatorname{Sin}\\left(\\frac{n \\pi x}{L}\\right)\\right]\n",
    "$$\n",
    "\n",
    "where $T_1 = T(y=0)$\n",
    "\n",
    "BCs are temperature values at $T(x=0)$, $T(x=L)$, $T(y=0)$, $T(y=H)$"
   ]
  },
  {
   "cell_type": "code",
   "execution_count": 2,
   "id": "80ed124b",
   "metadata": {},
   "outputs": [],
   "source": [
    "import numpy as np\n",
    "import pandas as pd\n",
    "import scipy.linalg as la\n",
    "import scipy.sparse as sparse\n",
    "import matplotlib.pyplot as plt\n",
    "\n",
    "import opinf"
   ]
  },
  {
   "cell_type": "markdown",
   "id": "eeab75d5",
   "metadata": {},
   "source": [
    "We will use the `Phi-Flow` package from TUM for this exercise. \n",
    "\n",
    "https://github.com/tum-pbs/PhiFlow"
   ]
  },
  {
   "cell_type": "code",
   "execution_count": 1,
   "id": "603305fd",
   "metadata": {},
   "outputs": [],
   "source": [
    "from phi.flow import *"
   ]
  },
  {
   "cell_type": "markdown",
   "id": "9065fdbc",
   "metadata": {},
   "source": [
    "OpInf setup"
   ]
  },
  {
   "cell_type": "code",
   "execution_count": 40,
   "id": "c9fa8d12",
   "metadata": {},
   "outputs": [],
   "source": [
    "T1 = 100"
   ]
  },
  {
   "cell_type": "code",
   "execution_count": 51,
   "id": "df7c2b9c",
   "metadata": {},
   "outputs": [],
   "source": [
    "values = np.zeros((50, 10))\n",
    "values[0, :] = T1"
   ]
  },
  {
   "cell_type": "code",
   "execution_count": 52,
   "id": "b2fd0771",
   "metadata": {},
   "outputs": [],
   "source": [
    "values = tensor(values, spatial('x,y'))"
   ]
  },
  {
   "cell_type": "code",
   "execution_count": 53,
   "id": "1b738729",
   "metadata": {},
   "outputs": [
    {
     "data": {
      "text/plain": [
       "phi.math._tensors.NativeTensor"
      ]
     },
     "execution_count": 53,
     "metadata": {},
     "output_type": "execute_result"
    }
   ],
   "source": [
    "type(values)"
   ]
  },
  {
   "cell_type": "code",
   "execution_count": 54,
   "id": "0b0a16c6",
   "metadata": {},
   "outputs": [],
   "source": [
    "bounds = Box['x, y', 0:1, 0:1]"
   ]
  },
  {
   "cell_type": "code",
   "execution_count": 55,
   "id": "7f0b87e0",
   "metadata": {},
   "outputs": [],
   "source": [
    "grid = CenteredGrid(values, 0, bounds, x=50, y=10)"
   ]
  },
  {
   "cell_type": "code",
   "execution_count": 56,
   "id": "8017c6b0",
   "metadata": {},
   "outputs": [
    {
     "data": {
      "text/plain": [
       "\u001b[92m(xˢ=50, yˢ=10)\u001b[0m \u001b[93mfloat64\u001b[0m \u001b[94m2.000 ± 14.000\u001b[0m \u001b[37m(0e+00...1e+02)\u001b[0m"
      ]
     },
     "execution_count": 56,
     "metadata": {},
     "output_type": "execute_result"
    }
   ],
   "source": [
    "grid.values"
   ]
  },
  {
   "cell_type": "code",
   "execution_count": 57,
   "id": "9dae38cf",
   "metadata": {},
   "outputs": [
    {
     "data": {
      "text/plain": [
       "<Figure size 1200x500 with 2 Axes>"
      ]
     },
     "execution_count": 57,
     "metadata": {},
     "output_type": "execute_result"
    },
    {
     "data": {
      "image/png": "[encoded data removed]",
      "text/plain": [
       "<Figure size 1200x500 with 2 Axes>"
      ]
     },
     "metadata": {},
     "output_type": "display_data"
    }
   ],
   "source": [
    "vis.plot(grid)"
   ]
  }
 ],
 "metadata": {
  "kernelspec": {
   "display_name": "Python 3 (ipykernel)",
   "language": "python",
   "name": "python3"
  },
  "language_info": {
   "codemirror_mode": {
    "name": "ipython",
    "version": 3
   },
   "file_extension": ".py",
   "mimetype": "text/x-python",
   "name": "python",
   "nbconvert_exporter": "python",
   "pygments_lexer": "ipython3",
   "version": "3.10.10"
  }
 },
 "nbformat": 4,
 "nbformat_minor": 5
}
