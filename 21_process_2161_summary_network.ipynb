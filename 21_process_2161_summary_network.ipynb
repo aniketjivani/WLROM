{
  "nbformat": 4,
  "nbformat_minor": 0,
  "metadata": {
    "colab": {
      "provenance": [],
      "authorship_tag": "ABX9TyN1peC9/ImdquftvI+GcDFM"
    },
    "kernelspec": {
      "name": "python3",
      "display_name": "Python 3"
    },
    "language_info": {
      "name": "python"
    },
    "widgets": {
      "application/vnd.jupyter.widget-state+json": {
        "1a9f6f3967f04ef79e57d68996ddc237": {
          "model_module": "@jupyter-widgets/output",
          "model_name": "OutputModel",
          "model_module_version": "1.0.0",
          "state": {
            "_dom_classes": [],
            "_model_module": "@jupyter-widgets/output",
            "_model_module_version": "1.0.0",
            "_model_name": "OutputModel",
            "_view_count": null,
            "_view_module": "@jupyter-widgets/output",
            "_view_module_version": "1.0.0",
            "_view_name": "OutputView",
            "layout": "IPY_MODEL_aac036328c1140ab90e413ba6093b107",
            "msg_id": "",
            "outputs": [
              {
                "output_type": "display_data",
                "data": {
                  "text/plain": "Looping over epochs... \u001b[38;2;249;38;114m━━━━━━━━━━━━━━━━━━━━━━━\u001b[0m\u001b[38;5;237m╺\u001b[0m\u001b[38;5;237m━━━━━━━━━━━━━━━━\u001b[0m \u001b[35m 58%\u001b[0m \u001b[36m0:16:40\u001b[0m\n",
                  "text/html": "<pre style=\"white-space:pre;overflow-x:auto;line-height:normal;font-family:Menlo,'DejaVu Sans Mono',consolas,'Courier New',monospace\">Looping over epochs... <span style=\"color: #f92672; text-decoration-color: #f92672\">━━━━━━━━━━━━━━━━━━━━━━━</span><span style=\"color: #3a3a3a; text-decoration-color: #3a3a3a\">╺━━━━━━━━━━━━━━━━</span> <span style=\"color: #800080; text-decoration-color: #800080\"> 58%</span> <span style=\"color: #008080; text-decoration-color: #008080\">0:16:40</span>\n</pre>\n"
                },
                "metadata": {}
              }
            ]
          }
        },
        "aac036328c1140ab90e413ba6093b107": {
          "model_module": "@jupyter-widgets/base",
          "model_name": "LayoutModel",
          "model_module_version": "1.2.0",
          "state": {
            "_model_module": "@jupyter-widgets/base",
            "_model_module_version": "1.2.0",
            "_model_name": "LayoutModel",
            "_view_count": null,
            "_view_module": "@jupyter-widgets/base",
            "_view_module_version": "1.2.0",
            "_view_name": "LayoutView",
            "align_content": null,
            "align_items": null,
            "align_self": null,
            "border": null,
            "bottom": null,
            "display": null,
            "flex": null,
            "flex_flow": null,
            "grid_area": null,
            "grid_auto_columns": null,
            "grid_auto_flow": null,
            "grid_auto_rows": null,
            "grid_column": null,
            "grid_gap": null,
            "grid_row": null,
            "grid_template_areas": null,
            "grid_template_columns": null,
            "grid_template_rows": null,
            "height": null,
            "justify_content": null,
            "justify_items": null,
            "left": null,
            "margin": null,
            "max_height": null,
            "max_width": null,
            "min_height": null,
            "min_width": null,
            "object_fit": null,
            "object_position": null,
            "order": null,
            "overflow": null,
            "overflow_x": null,
            "overflow_y": null,
            "padding": null,
            "right": null,
            "top": null,
            "visibility": null,
            "width": null
          }
        }
      }
    }
  },
  "cells": [
    {
      "cell_type": "markdown",
      "source": [
        "Pre-process 2161 White Light Images, and parameter features to predict summaries for $U$, $N$ and $B$"
      ],
      "metadata": {
        "id": "AoynvQQK5AK8"
      }
    },
    {
      "cell_type": "code",
      "source": [
        "# Mount Drive\n",
        "from google.colab import drive\n",
        "drive.mount('/content/drive')"
      ],
      "metadata": {
        "colab": {
          "base_uri": "https://localhost:8080/"
        },
        "id": "QhNbWq8NCkN6",
        "outputId": "c44bd6e5-7359-4495-e51a-302391359d03"
      },
      "execution_count": 1,
      "outputs": [
        {
          "output_type": "stream",
          "name": "stdout",
          "text": [
            "Mounted at /content/drive\n"
          ]
        }
      ]
    },
    {
      "cell_type": "code",
      "source": [
        "!pip install --quiet rich\n",
        "!pip install --quiet \"sunpy[visualization]\""
      ],
      "metadata": {
        "colab": {
          "base_uri": "https://localhost:8080/"
        },
        "id": "6EfCtyVvAw9q",
        "outputId": "2d91a8d1-4990-4be4-870a-1606fba6e460"
      },
      "execution_count": 2,
      "outputs": [
        {
          "output_type": "stream",
          "name": "stdout",
          "text": [
            "\u001b[2K   \u001b[90m━━━━━━━━━━━━━━━━━━━━━━━━━━━━━━━━━━━━━━━━\u001b[0m \u001b[32m44.0/44.0 kB\u001b[0m \u001b[31m2.0 MB/s\u001b[0m eta \u001b[36m0:00:00\u001b[0m\n",
            "\u001b[2K   \u001b[90m━━━━━━━━━━━━━━━━━━━━━━━━━━━━━━━━━━━━━━━━\u001b[0m \u001b[32m4.1/4.1 MB\u001b[0m \u001b[31m23.9 MB/s\u001b[0m eta \u001b[36m0:00:00\u001b[0m\n",
            "\u001b[?25h"
          ]
        }
      ]
    },
    {
      "cell_type": "code",
      "execution_count": 3,
      "metadata": {
        "id": "DXkMtv9o5ydT"
      },
      "outputs": [],
      "source": [
        "import sys\n",
        "import torch\n",
        "import torch.nn\n",
        "import torch.nn as nn\n",
        "from torch.nn.functional import relu\n",
        "import torch.optim as optim\n",
        "from torch.utils.data import DataLoader, TensorDataset, Dataset\n",
        "from torch.utils.data import random_split\n",
        "import pandas as pd\n",
        "import numpy as np\n",
        "import os\n",
        "import re\n",
        "import sys\n",
        "import logging\n",
        "import torchvision\n",
        "import torchvision.transforms as T"
      ]
    },
    {
      "cell_type": "code",
      "execution_count": 91,
      "metadata": {
        "id": "1hLcsaEs5ydU"
      },
      "outputs": [],
      "source": [
        "args = {\n",
        "    \"niters\": 450,\n",
        "    \"lr\": 0.001,\n",
        "    \"save\": \"arr_experiments/\",\n",
        "    \"load\": None,\n",
        "    \"r\": 1991,\n",
        "    \"resize_dims\": (16, 64),\n",
        "    \"param_scaling\": [1, 1],\n",
        "    \"warm_start\": 20376,\n",
        "    \"do_warm_start\": False,\n",
        "    # \"loss\": \"smooth_l1\",\n",
        "    \"loss\": \"mae\",\n",
        "    # \"loss\": \"mse\",\n",
        "    \"batch_size\": 64,\n",
        "    \"dropout\":False\n",
        "}"
      ]
    },
    {
      "cell_type": "code",
      "execution_count": 5,
      "metadata": {
        "id": "GTF-2OYP5ydV"
      },
      "outputs": [],
      "source": [
        "import torch.nn as nn"
      ]
    },
    {
      "cell_type": "code",
      "execution_count": 6,
      "metadata": {
        "id": "B2QyO7bc5ydV",
        "outputId": "06633204-4eaa-475a-c262-85b362a410b8",
        "colab": {
          "base_uri": "https://localhost:8080/",
          "height": 122
        }
      },
      "outputs": [
        {
          "output_type": "execute_result",
          "data": {
            "text/plain": [
              "<matplotlib.colors.LinearSegmentedColormap at 0x7ccef4237f40>"
            ],
            "text/html": [
              "<div style=\"vertical-align: middle;\"><strong>SOHO LASCO C3_r</strong> </div><div class=\"cmap\"><img alt=\"SOHO LASCO C3_r colormap\" title=\"SOHO LASCO C3_r\" style=\"border: 1px solid #555;\" src=\"data:image/png;base64,iVBORw0KGgoAAAANSUhEUgAAAgAAAABACAYAAABsv8+/AAAAHnRFWHRUaXRsZQBTT0hPIExBU0NPIEMzX3IgY29sb3JtYXDMCW5EAAAAJHRFWHREZXNjcmlwdGlvbgBTT0hPIExBU0NPIEMzX3IgY29sb3JtYXAGtYcrAAAAMHRFWHRBdXRob3IATWF0cGxvdGxpYiB2My43LjEsIGh0dHBzOi8vbWF0cGxvdGxpYi5vcmcqr/hNAAAAMnRFWHRTb2Z0d2FyZQBNYXRwbG90bGliIHYzLjcuMSwgaHR0cHM6Ly9tYXRwbG90bGliLm9yZwQJZ2oAAAHFSURBVHic7dZBbsIwFEDB397/zKSLQisR3DQtEos3s0EksWNjCb23bdu2mZnL58dcv+6+L6/P7fo8dfzq+VePX847/xt/ff35c5jb9T+Ov3v/dnn8/P3n7J57vP/VfLO7vxi/mGd2z51b/3a5n+fc+vf7OFj/4T7mx+eOz+Hg/UfncPL3++/5v3r9vz7/68Eu1z8/3z+aZ+Z371nN8z3+3Lpv99fjD9b99b/xx3Xv/r/OrfvV+z9/fs/d/3r8uXW/DwCQIwAAIEgAAECQAACAIAEAAEECAACCBAAABAkAAAgSAAAQJAAAIEgAAECQAACAIAEAAEECAACCBAAABAkAAAgSAAAQJAAAIEgAAECQAACAIAEAAEECAACCBAAABAkAAAgSAAAQJAAAIEgAAECQAACAIAEAAEECAACCBAAABAkAAAgSAAAQJAAAIEgAAECQAACAIAEAAEECAACCBAAABAkAAAgSAAAQJAAAIEgAAECQAACAIAEAAEECAACCBAAABAkAAAgSAAAQJAAAIEgAAECQAACAIAEAAEECAACCBAAABAkAAAgSAAAQJAAAIEgAAECQAACAIAEAAEECAACCBAAABH0A+Gm+nfb+AtsAAAAASUVORK5CYII=\"></div><div style=\"vertical-align: middle; max-width: 514px; display: flex; justify-content: space-between;\"><div style=\"float: left;\"><div title=\"#ffffffff\" style=\"display: inline-block; width: 1em; height: 1em; margin: 0; vertical-align: middle; border: 1px solid #555; background-color: #ffffffff;\"></div> under</div><div style=\"margin: 0 auto; display: inline-block;\">bad <div title=\"#00000000\" style=\"display: inline-block; width: 1em; height: 1em; margin: 0; vertical-align: middle; border: 1px solid #555; background-color: #00000000;\"></div></div><div style=\"float: right;\">over <div title=\"#000000ff\" style=\"display: inline-block; width: 1em; height: 1em; margin: 0; vertical-align: middle; border: 1px solid #555; background-color: #000000ff;\"></div></div>"
            ],
            "image/png": "[encoded data removed]"
          },
          "metadata": {},
          "execution_count": 6
        }
      ],
      "source": [
        "from sunpy.visualization import colormaps as cm\n",
        "\n",
        "lc3_reg = cm.cmlist['soholasco3']\n",
        "lc3_reg\n",
        "\n",
        "lc3 = cm.cmlist['soholasco3'].reversed()\n",
        "lc3"
      ]
    },
    {
      "cell_type": "code",
      "execution_count": 10,
      "metadata": {
        "id": "74-UG_5w5ydW"
      },
      "outputs": [],
      "source": [
        "import time\n",
        "import datetime\n",
        "import argparse\n",
        "from random import SystemRandom\n",
        "\n",
        "from rich.progress import track\n",
        "import tqdm\n",
        "\n",
        "import matplotlib.pyplot as plt\n",
        "\n",
        "import sys\n",
        "sys.path.append('/content/drive/MyDrive/WLROM/')\n",
        "\n",
        "import cnn_utils as cu"
      ]
    },
    {
      "cell_type": "code",
      "execution_count": 11,
      "metadata": {
        "id": "GuXWDDsm5ydW"
      },
      "outputs": [],
      "source": [
        "from sklearn.model_selection import train_test_split"
      ]
    },
    {
      "cell_type": "code",
      "execution_count": 12,
      "metadata": {
        "id": "tEKSkefs5ydX"
      },
      "outputs": [],
      "source": [
        "from sklearn.preprocessing import power_transform\n",
        "from sklearn.preprocessing import PowerTransformer"
      ]
    },
    {
      "cell_type": "code",
      "execution_count": 13,
      "metadata": {
        "id": "iucn46JW5ydX",
        "outputId": "e418a322-bf06-402f-bea1-d57cbd2f8573",
        "colab": {
          "base_uri": "https://localhost:8080/"
        }
      },
      "outputs": [
        {
          "output_type": "stream",
          "name": "stdout",
          "text": [
            "The autoreload extension is already loaded. To reload it, use:\n",
            "  %reload_ext autoreload\n"
          ]
        }
      ],
      "source": [
        "%matplotlib inline\n",
        "%load_ext autoreload\n",
        "%autoreload 2"
      ]
    },
    {
      "cell_type": "code",
      "execution_count": 14,
      "metadata": {
        "id": "tia1a6Xa5ydX",
        "outputId": "20a81fe8-f4d4-4377-878b-e18e5b2237f9",
        "colab": {
          "base_uri": "https://localhost:8080/"
        }
      },
      "outputs": [
        {
          "output_type": "execute_result",
          "data": {
            "text/plain": [
              "device(type='cpu')"
            ]
          },
          "metadata": {},
          "execution_count": 14
        }
      ],
      "source": [
        "device = torch.device(\"cuda:0\") if torch.cuda.is_available() else torch.device(\"cpu\")\n",
        "device"
      ]
    },
    {
      "cell_type": "markdown",
      "source": [
        "Load params and filter out runs by Sim ID Correctly"
      ],
      "metadata": {
        "id": "ZtdqJRVCA9mj"
      }
    },
    {
      "cell_type": "code",
      "source": [
        "import os\n",
        "os.getcwd()"
      ],
      "metadata": {
        "colab": {
          "base_uri": "https://localhost:8080/",
          "height": 35
        },
        "id": "2rBgpjNwDgqk",
        "outputId": "c9ae5d6b-502b-40e0-92f4-b5978e251cc4"
      },
      "execution_count": 15,
      "outputs": [
        {
          "output_type": "execute_result",
          "data": {
            "text/plain": [
              "'/content'"
            ],
            "application/vnd.google.colaboratory.intrinsic+json": {
              "type": "string"
            }
          },
          "metadata": {},
          "execution_count": 15
        }
      ]
    },
    {
      "cell_type": "code",
      "source": [
        "cme_params_scaled = pd.read_csv(\"./drive/MyDrive/WLROM/old_data_surrogate/CMEParams2161_Scaled.csv\")\n",
        "# cme_params_scaled.head()\n",
        "\n",
        "# rename unnamed column to SimID\n",
        "cme_params_scaled = cme_params_scaled.rename(columns={'Unnamed: 0': 'SimID'})\n",
        "# cme_params_scaled = cme_params_scaled.loc[:, ~cme_params_scaled.columns.str.contains('^Unnamed')]\n",
        "cme_params_scaled.head()"
      ],
      "metadata": {
        "colab": {
          "base_uri": "https://localhost:8080/",
          "height": 206
        },
        "id": "u3WUPBytA8As",
        "outputId": "7cc81a2b-b9c3-4078-afce-e88e43e82c57"
      },
      "execution_count": 30,
      "outputs": [
        {
          "output_type": "execute_result",
          "data": {
            "text/plain": [
              "   SimID  Radius  BStrength  ApexHeight  OrientationCme  iHelicity  \\\n",
              "0      0  0.5675   0.420040    0.568916          0.5525        1.0   \n",
              "1      1  0.4525   0.057350    0.348039          0.1025        1.0   \n",
              "2      2  0.8525   0.014777    0.541725          0.8775        1.0   \n",
              "3      3  0.1225   0.323231    0.214567          0.5075        0.0   \n",
              "4      4  0.7825   0.085414    0.640815          0.3325        1.0   \n",
              "\n",
              "   realization  FactorB0  PoyntingFluxPerBSi  LperpTimesSqrtBSi  \n",
              "0     0.272727  0.120833            0.098542           0.436506  \n",
              "1     0.272727  0.120833            0.098542           0.436506  \n",
              "2     0.272727  0.120833            0.098542           0.436506  \n",
              "3     0.272727  0.120833            0.098542           0.436506  \n",
              "4     0.272727  0.120833            0.098542           0.436506  "
            ],
            "text/html": [
              "\n",
              "  <div id=\"df-f1bd4f61-fd22-4350-9e12-23356e1330d9\" class=\"colab-df-container\">\n",
              "    <div>\n",
              "<style scoped>\n",
              "    .dataframe tbody tr th:only-of-type {\n",
              "        vertical-align: middle;\n",
              "    }\n",
              "\n",
              "    .dataframe tbody tr th {\n",
              "        vertical-align: top;\n",
              "    }\n",
              "\n",
              "    .dataframe thead th {\n",
              "        text-align: right;\n",
              "    }\n",
              "</style>\n",
              "<table border=\"1\" class=\"dataframe\">\n",
              "  <thead>\n",
              "    <tr style=\"text-align: right;\">\n",
              "      <th></th>\n",
              "      <th>SimID</th>\n",
              "      <th>Radius</th>\n",
              "      <th>BStrength</th>\n",
              "      <th>ApexHeight</th>\n",
              "      <th>OrientationCme</th>\n",
              "      <th>iHelicity</th>\n",
              "      <th>realization</th>\n",
              "      <th>FactorB0</th>\n",
              "      <th>PoyntingFluxPerBSi</th>\n",
              "      <th>LperpTimesSqrtBSi</th>\n",
              "    </tr>\n",
              "  </thead>\n",
              "  <tbody>\n",
              "    <tr>\n",
              "      <th>0</th>\n",
              "      <td>0</td>\n",
              "      <td>0.5675</td>\n",
              "      <td>0.420040</td>\n",
              "      <td>0.568916</td>\n",
              "      <td>0.5525</td>\n",
              "      <td>1.0</td>\n",
              "      <td>0.272727</td>\n",
              "      <td>0.120833</td>\n",
              "      <td>0.098542</td>\n",
              "      <td>0.436506</td>\n",
              "    </tr>\n",
              "    <tr>\n",
              "      <th>1</th>\n",
              "      <td>1</td>\n",
              "      <td>0.4525</td>\n",
              "      <td>0.057350</td>\n",
              "      <td>0.348039</td>\n",
              "      <td>0.1025</td>\n",
              "      <td>1.0</td>\n",
              "      <td>0.272727</td>\n",
              "      <td>0.120833</td>\n",
              "      <td>0.098542</td>\n",
              "      <td>0.436506</td>\n",
              "    </tr>\n",
              "    <tr>\n",
              "      <th>2</th>\n",
              "      <td>2</td>\n",
              "      <td>0.8525</td>\n",
              "      <td>0.014777</td>\n",
              "      <td>0.541725</td>\n",
              "      <td>0.8775</td>\n",
              "      <td>1.0</td>\n",
              "      <td>0.272727</td>\n",
              "      <td>0.120833</td>\n",
              "      <td>0.098542</td>\n",
              "      <td>0.436506</td>\n",
              "    </tr>\n",
              "    <tr>\n",
              "      <th>3</th>\n",
              "      <td>3</td>\n",
              "      <td>0.1225</td>\n",
              "      <td>0.323231</td>\n",
              "      <td>0.214567</td>\n",
              "      <td>0.5075</td>\n",
              "      <td>0.0</td>\n",
              "      <td>0.272727</td>\n",
              "      <td>0.120833</td>\n",
              "      <td>0.098542</td>\n",
              "      <td>0.436506</td>\n",
              "    </tr>\n",
              "    <tr>\n",
              "      <th>4</th>\n",
              "      <td>4</td>\n",
              "      <td>0.7825</td>\n",
              "      <td>0.085414</td>\n",
              "      <td>0.640815</td>\n",
              "      <td>0.3325</td>\n",
              "      <td>1.0</td>\n",
              "      <td>0.272727</td>\n",
              "      <td>0.120833</td>\n",
              "      <td>0.098542</td>\n",
              "      <td>0.436506</td>\n",
              "    </tr>\n",
              "  </tbody>\n",
              "</table>\n",
              "</div>\n",
              "    <div class=\"colab-df-buttons\">\n",
              "\n",
              "  <div class=\"colab-df-container\">\n",
              "    <button class=\"colab-df-convert\" onclick=\"convertToInteractive('df-f1bd4f61-fd22-4350-9e12-23356e1330d9')\"\n",
              "            title=\"Convert this dataframe to an interactive table.\"\n",
              "            style=\"display:none;\">\n",
              "\n",
              "  <svg xmlns=\"http://www.w3.org/2000/svg\" height=\"24px\" viewBox=\"0 -960 960 960\">\n",
              "    <path d=\"M120-120v-720h720v720H120Zm60-500h600v-160H180v160Zm220 220h160v-160H400v160Zm0 220h160v-160H400v160ZM180-400h160v-160H180v160Zm440 0h160v-160H620v160ZM180-180h160v-160H180v160Zm440 0h160v-160H620v160Z\"/>\n",
              "  </svg>\n",
              "    </button>\n",
              "\n",
              "  <style>\n",
              "    .colab-df-container {\n",
              "      display:flex;\n",
              "      gap: 12px;\n",
              "    }\n",
              "\n",
              "    .colab-df-convert {\n",
              "      background-color: #E8F0FE;\n",
              "      border: none;\n",
              "      border-radius: 50%;\n",
              "      cursor: pointer;\n",
              "      display: none;\n",
              "      fill: #1967D2;\n",
              "      height: 32px;\n",
              "      padding: 0 0 0 0;\n",
              "      width: 32px;\n",
              "    }\n",
              "\n",
              "    .colab-df-convert:hover {\n",
              "      background-color: #E2EBFA;\n",
              "      box-shadow: 0px 1px 2px rgba(60, 64, 67, 0.3), 0px 1px 3px 1px rgba(60, 64, 67, 0.15);\n",
              "      fill: #174EA6;\n",
              "    }\n",
              "\n",
              "    .colab-df-buttons div {\n",
              "      margin-bottom: 4px;\n",
              "    }\n",
              "\n",
              "    [theme=dark] .colab-df-convert {\n",
              "      background-color: #3B4455;\n",
              "      fill: #D2E3FC;\n",
              "    }\n",
              "\n",
              "    [theme=dark] .colab-df-convert:hover {\n",
              "      background-color: #434B5C;\n",
              "      box-shadow: 0px 1px 3px 1px rgba(0, 0, 0, 0.15);\n",
              "      filter: drop-shadow(0px 1px 2px rgba(0, 0, 0, 0.3));\n",
              "      fill: #FFFFFF;\n",
              "    }\n",
              "  </style>\n",
              "\n",
              "    <script>\n",
              "      const buttonEl =\n",
              "        document.querySelector('#df-f1bd4f61-fd22-4350-9e12-23356e1330d9 button.colab-df-convert');\n",
              "      buttonEl.style.display =\n",
              "        google.colab.kernel.accessAllowed ? 'block' : 'none';\n",
              "\n",
              "      async function convertToInteractive(key) {\n",
              "        const element = document.querySelector('#df-f1bd4f61-fd22-4350-9e12-23356e1330d9');\n",
              "        const dataTable =\n",
              "          await google.colab.kernel.invokeFunction('convertToInteractive',\n",
              "                                                    [key], {});\n",
              "        if (!dataTable) return;\n",
              "\n",
              "        const docLinkHtml = 'Like what you see? Visit the ' +\n",
              "          '<a target=\"_blank\" href=https://colab.research.google.com/notebooks/data_table.ipynb>data table notebook</a>'\n",
              "          + ' to learn more about interactive tables.';\n",
              "        element.innerHTML = '';\n",
              "        dataTable['output_type'] = 'display_data';\n",
              "        await google.colab.output.renderOutput(dataTable, element);\n",
              "        const docLink = document.createElement('div');\n",
              "        docLink.innerHTML = docLinkHtml;\n",
              "        element.appendChild(docLink);\n",
              "      }\n",
              "    </script>\n",
              "  </div>\n",
              "\n",
              "\n",
              "<div id=\"df-5614f437-b5c9-48bc-9232-0f1ff0b8bf7f\">\n",
              "  <button class=\"colab-df-quickchart\" onclick=\"quickchart('df-5614f437-b5c9-48bc-9232-0f1ff0b8bf7f')\"\n",
              "            title=\"Suggest charts\"\n",
              "            style=\"display:none;\">\n",
              "\n",
              "<svg xmlns=\"http://www.w3.org/2000/svg\" height=\"24px\"viewBox=\"0 0 24 24\"\n",
              "     width=\"24px\">\n",
              "    <g>\n",
              "        <path d=\"M19 3H5c-1.1 0-2 .9-2 2v14c0 1.1.9 2 2 2h14c1.1 0 2-.9 2-2V5c0-1.1-.9-2-2-2zM9 17H7v-7h2v7zm4 0h-2V7h2v10zm4 0h-2v-4h2v4z\"/>\n",
              "    </g>\n",
              "</svg>\n",
              "  </button>\n",
              "\n",
              "<style>\n",
              "  .colab-df-quickchart {\n",
              "      --bg-color: #E8F0FE;\n",
              "      --fill-color: #1967D2;\n",
              "      --hover-bg-color: #E2EBFA;\n",
              "      --hover-fill-color: #174EA6;\n",
              "      --disabled-fill-color: #AAA;\n",
              "      --disabled-bg-color: #DDD;\n",
              "  }\n",
              "\n",
              "  [theme=dark] .colab-df-quickchart {\n",
              "      --bg-color: #3B4455;\n",
              "      --fill-color: #D2E3FC;\n",
              "      --hover-bg-color: #434B5C;\n",
              "      --hover-fill-color: #FFFFFF;\n",
              "      --disabled-bg-color: #3B4455;\n",
              "      --disabled-fill-color: #666;\n",
              "  }\n",
              "\n",
              "  .colab-df-quickchart {\n",
              "    background-color: var(--bg-color);\n",
              "    border: none;\n",
              "    border-radius: 50%;\n",
              "    cursor: pointer;\n",
              "    display: none;\n",
              "    fill: var(--fill-color);\n",
              "    height: 32px;\n",
              "    padding: 0;\n",
              "    width: 32px;\n",
              "  }\n",
              "\n",
              "  .colab-df-quickchart:hover {\n",
              "    background-color: var(--hover-bg-color);\n",
              "    box-shadow: 0 1px 2px rgba(60, 64, 67, 0.3), 0 1px 3px 1px rgba(60, 64, 67, 0.15);\n",
              "    fill: var(--button-hover-fill-color);\n",
              "  }\n",
              "\n",
              "  .colab-df-quickchart-complete:disabled,\n",
              "  .colab-df-quickchart-complete:disabled:hover {\n",
              "    background-color: var(--disabled-bg-color);\n",
              "    fill: var(--disabled-fill-color);\n",
              "    box-shadow: none;\n",
              "  }\n",
              "\n",
              "  .colab-df-spinner {\n",
              "    border: 2px solid var(--fill-color);\n",
              "    border-color: transparent;\n",
              "    border-bottom-color: var(--fill-color);\n",
              "    animation:\n",
              "      spin 1s steps(1) infinite;\n",
              "  }\n",
              "\n",
              "  @keyframes spin {\n",
              "    0% {\n",
              "      border-color: transparent;\n",
              "      border-bottom-color: var(--fill-color);\n",
              "      border-left-color: var(--fill-color);\n",
              "    }\n",
              "    20% {\n",
              "      border-color: transparent;\n",
              "      border-left-color: var(--fill-color);\n",
              "      border-top-color: var(--fill-color);\n",
              "    }\n",
              "    30% {\n",
              "      border-color: transparent;\n",
              "      border-left-color: var(--fill-color);\n",
              "      border-top-color: var(--fill-color);\n",
              "      border-right-color: var(--fill-color);\n",
              "    }\n",
              "    40% {\n",
              "      border-color: transparent;\n",
              "      border-right-color: var(--fill-color);\n",
              "      border-top-color: var(--fill-color);\n",
              "    }\n",
              "    60% {\n",
              "      border-color: transparent;\n",
              "      border-right-color: var(--fill-color);\n",
              "    }\n",
              "    80% {\n",
              "      border-color: transparent;\n",
              "      border-right-color: var(--fill-color);\n",
              "      border-bottom-color: var(--fill-color);\n",
              "    }\n",
              "    90% {\n",
              "      border-color: transparent;\n",
              "      border-bottom-color: var(--fill-color);\n",
              "    }\n",
              "  }\n",
              "</style>\n",
              "\n",
              "  <script>\n",
              "    async function quickchart(key) {\n",
              "      const quickchartButtonEl =\n",
              "        document.querySelector('#' + key + ' button');\n",
              "      quickchartButtonEl.disabled = true;  // To prevent multiple clicks.\n",
              "      quickchartButtonEl.classList.add('colab-df-spinner');\n",
              "      try {\n",
              "        const charts = await google.colab.kernel.invokeFunction(\n",
              "            'suggestCharts', [key], {});\n",
              "      } catch (error) {\n",
              "        console.error('Error during call to suggestCharts:', error);\n",
              "      }\n",
              "      quickchartButtonEl.classList.remove('colab-df-spinner');\n",
              "      quickchartButtonEl.classList.add('colab-df-quickchart-complete');\n",
              "    }\n",
              "    (() => {\n",
              "      let quickchartButtonEl =\n",
              "        document.querySelector('#df-5614f437-b5c9-48bc-9232-0f1ff0b8bf7f button');\n",
              "      quickchartButtonEl.style.display =\n",
              "        google.colab.kernel.accessAllowed ? 'block' : 'none';\n",
              "    })();\n",
              "  </script>\n",
              "</div>\n",
              "\n",
              "    </div>\n",
              "  </div>\n"
            ],
            "application/vnd.google.colaboratory.intrinsic+json": {
              "type": "dataframe",
              "variable_name": "cme_params_scaled",
              "summary": "{\n  \"name\": \"cme_params_scaled\",\n  \"rows\": 278,\n  \"fields\": [\n    {\n      \"column\": \"SimID\",\n      \"properties\": {\n        \"dtype\": \"number\",\n        \"std\": 87,\n        \"min\": 0,\n        \"max\": 298,\n        \"num_unique_values\": 278,\n        \"samples\": [\n          31,\n          132,\n          213\n        ],\n        \"semantic_type\": \"\",\n        \"description\": \"\"\n      }\n    },\n    {\n      \"column\": \"Radius\",\n      \"properties\": {\n        \"dtype\": \"number\",\n        \"std\": 0.2926719393374203,\n        \"min\": 0.0025,\n        \"max\": 0.9975,\n        \"num_unique_values\": 206,\n        \"samples\": [\n          0.1624999999999999,\n          0.2725000000000001,\n          0.325\n        ],\n        \"semantic_type\": \"\",\n        \"description\": \"\"\n      }\n    },\n    {\n      \"column\": \"BStrength\",\n      \"properties\": {\n        \"dtype\": \"number\",\n        \"std\": 0.1850057152661899,\n        \"min\": 0.0147774779987776,\n        \"max\": 0.8903048536311602,\n        \"num_unique_values\": 206,\n        \"samples\": [\n          0.4278347678571844,\n          0.5059776316064669,\n          0.5183597208569497\n        ],\n        \"semantic_type\": \"\",\n        \"description\": \"\"\n      }\n    },\n    {\n      \"column\": \"ApexHeight\",\n      \"properties\": {\n        \"dtype\": \"number\",\n        \"std\": 0.2243514648049483,\n        \"min\": 0.0249136650847457,\n        \"max\": 0.903641419661017,\n        \"num_unique_values\": 206,\n        \"samples\": [\n          0.1172378183050847,\n          0.3274645125423729,\n          0.2457097464406779\n        ],\n        \"semantic_type\": \"\",\n        \"description\": \"\"\n      }\n    },\n    {\n      \"column\": \"OrientationCme\",\n      \"properties\": {\n        \"dtype\": \"number\",\n        \"std\": 0.28771521746342155,\n        \"min\": 0.0024999999999999,\n        \"max\": 0.9975,\n        \"num_unique_values\": 206,\n        \"samples\": [\n          0.1524999999999999,\n          0.7825000000000001,\n          0.775\n        ],\n        \"semantic_type\": \"\",\n        \"description\": \"\"\n      }\n    },\n    {\n      \"column\": \"iHelicity\",\n      \"properties\": {\n        \"dtype\": \"number\",\n        \"std\": 0.5005775434920556,\n        \"min\": 0.0,\n        \"max\": 1.0,\n        \"num_unique_values\": 2,\n        \"samples\": [\n          0.0,\n          1.0\n        ],\n        \"semantic_type\": \"\",\n        \"description\": \"\"\n      }\n    },\n    {\n      \"column\": \"realization\",\n      \"properties\": {\n        \"dtype\": \"number\",\n        \"std\": 0.23513436148294237,\n        \"min\": 0.2727272727272727,\n        \"max\": 0.8181818181818182,\n        \"num_unique_values\": 4,\n        \"samples\": [\n          0.8181818181818182,\n          0.3636363636363636\n        ],\n        \"semantic_type\": \"\",\n        \"description\": \"\"\n      }\n    },\n    {\n      \"column\": \"FactorB0\",\n      \"properties\": {\n        \"dtype\": \"number\",\n        \"std\": 0.1131647452396358,\n        \"min\": 0.1208333333333333,\n        \"max\": 0.3525925925925925,\n        \"num_unique_values\": 2,\n        \"samples\": [\n          0.3525925925925925,\n          0.1208333333333333\n        ],\n        \"semantic_type\": \"\",\n        \"description\": \"\"\n      }\n    },\n    {\n      \"column\": \"PoyntingFluxPerBSi\",\n      \"properties\": {\n        \"dtype\": \"number\",\n        \"std\": 0.04536131953135798,\n        \"min\": 0.005643,\n        \"max\": 0.098542125,\n        \"num_unique_values\": 2,\n        \"samples\": [\n          0.005643,\n          0.098542125\n        ],\n        \"semantic_type\": \"\",\n        \"description\": \"\"\n      }\n    },\n    {\n      \"column\": \"LperpTimesSqrtBSi\",\n      \"properties\": {\n        \"dtype\": \"number\",\n        \"std\": 0.244478891202819,\n        \"min\": 0.4365055555555555,\n        \"max\": 0.9371937037037036,\n        \"num_unique_values\": 2,\n        \"samples\": [\n          0.9371937037037036,\n          0.4365055555555555\n        ],\n        \"semantic_type\": \"\",\n        \"description\": \"\"\n      }\n    }\n  ]\n}"
            }
          },
          "metadata": {},
          "execution_count": 30
        }
      ]
    },
    {
      "cell_type": "code",
      "source": [
        "cme_params_scaled.tail()"
      ],
      "metadata": {
        "colab": {
          "base_uri": "https://localhost:8080/",
          "height": 206
        },
        "id": "G8ncscEJEv54",
        "outputId": "59d9b45d-fb8b-4adc-e22f-f1f9d1c0dd66"
      },
      "execution_count": 31,
      "outputs": [
        {
          "output_type": "execute_result",
          "data": {
            "text/plain": [
              "     SimID  Radius  BStrength  ApexHeight  OrientationCme  iHelicity  \\\n",
              "273    294   0.875   0.252834    0.622193           0.175        0.0   \n",
              "274    295   0.125   0.655648    0.235434           0.475        0.0   \n",
              "275    296   0.325   0.518360    0.245710           0.775        1.0   \n",
              "276    297   0.925   0.289994    0.829820           0.675        0.0   \n",
              "277    298   0.625   0.406615    0.394121           0.375        1.0   \n",
              "\n",
              "     realization  FactorB0  PoyntingFluxPerBSi  LperpTimesSqrtBSi  \n",
              "273     0.363636  0.352593            0.005643           0.937194  \n",
              "274     0.363636  0.352593            0.005643           0.937194  \n",
              "275     0.363636  0.352593            0.005643           0.937194  \n",
              "276     0.363636  0.352593            0.005643           0.937194  \n",
              "277     0.363636  0.352593            0.005643           0.937194  "
            ],
            "text/html": [
              "\n",
              "  <div id=\"df-5fea73e8-f6bd-487e-b5e1-d5caa5f6d6d4\" class=\"colab-df-container\">\n",
              "    <div>\n",
              "<style scoped>\n",
              "    .dataframe tbody tr th:only-of-type {\n",
              "        vertical-align: middle;\n",
              "    }\n",
              "\n",
              "    .dataframe tbody tr th {\n",
              "        vertical-align: top;\n",
              "    }\n",
              "\n",
              "    .dataframe thead th {\n",
              "        text-align: right;\n",
              "    }\n",
              "</style>\n",
              "<table border=\"1\" class=\"dataframe\">\n",
              "  <thead>\n",
              "    <tr style=\"text-align: right;\">\n",
              "      <th></th>\n",
              "      <th>SimID</th>\n",
              "      <th>Radius</th>\n",
              "      <th>BStrength</th>\n",
              "      <th>ApexHeight</th>\n",
              "      <th>OrientationCme</th>\n",
              "      <th>iHelicity</th>\n",
              "      <th>realization</th>\n",
              "      <th>FactorB0</th>\n",
              "      <th>PoyntingFluxPerBSi</th>\n",
              "      <th>LperpTimesSqrtBSi</th>\n",
              "    </tr>\n",
              "  </thead>\n",
              "  <tbody>\n",
              "    <tr>\n",
              "      <th>273</th>\n",
              "      <td>294</td>\n",
              "      <td>0.875</td>\n",
              "      <td>0.252834</td>\n",
              "      <td>0.622193</td>\n",
              "      <td>0.175</td>\n",
              "      <td>0.0</td>\n",
              "      <td>0.363636</td>\n",
              "      <td>0.352593</td>\n",
              "      <td>0.005643</td>\n",
              "      <td>0.937194</td>\n",
              "    </tr>\n",
              "    <tr>\n",
              "      <th>274</th>\n",
              "      <td>295</td>\n",
              "      <td>0.125</td>\n",
              "      <td>0.655648</td>\n",
              "      <td>0.235434</td>\n",
              "      <td>0.475</td>\n",
              "      <td>0.0</td>\n",
              "      <td>0.363636</td>\n",
              "      <td>0.352593</td>\n",
              "      <td>0.005643</td>\n",
              "      <td>0.937194</td>\n",
              "    </tr>\n",
              "    <tr>\n",
              "      <th>275</th>\n",
              "      <td>296</td>\n",
              "      <td>0.325</td>\n",
              "      <td>0.518360</td>\n",
              "      <td>0.245710</td>\n",
              "      <td>0.775</td>\n",
              "      <td>1.0</td>\n",
              "      <td>0.363636</td>\n",
              "      <td>0.352593</td>\n",
              "      <td>0.005643</td>\n",
              "      <td>0.937194</td>\n",
              "    </tr>\n",
              "    <tr>\n",
              "      <th>276</th>\n",
              "      <td>297</td>\n",
              "      <td>0.925</td>\n",
              "      <td>0.289994</td>\n",
              "      <td>0.829820</td>\n",
              "      <td>0.675</td>\n",
              "      <td>0.0</td>\n",
              "      <td>0.363636</td>\n",
              "      <td>0.352593</td>\n",
              "      <td>0.005643</td>\n",
              "      <td>0.937194</td>\n",
              "    </tr>\n",
              "    <tr>\n",
              "      <th>277</th>\n",
              "      <td>298</td>\n",
              "      <td>0.625</td>\n",
              "      <td>0.406615</td>\n",
              "      <td>0.394121</td>\n",
              "      <td>0.375</td>\n",
              "      <td>1.0</td>\n",
              "      <td>0.363636</td>\n",
              "      <td>0.352593</td>\n",
              "      <td>0.005643</td>\n",
              "      <td>0.937194</td>\n",
              "    </tr>\n",
              "  </tbody>\n",
              "</table>\n",
              "</div>\n",
              "    <div class=\"colab-df-buttons\">\n",
              "\n",
              "  <div class=\"colab-df-container\">\n",
              "    <button class=\"colab-df-convert\" onclick=\"convertToInteractive('df-5fea73e8-f6bd-487e-b5e1-d5caa5f6d6d4')\"\n",
              "            title=\"Convert this dataframe to an interactive table.\"\n",
              "            style=\"display:none;\">\n",
              "\n",
              "  <svg xmlns=\"http://www.w3.org/2000/svg\" height=\"24px\" viewBox=\"0 -960 960 960\">\n",
              "    <path d=\"M120-120v-720h720v720H120Zm60-500h600v-160H180v160Zm220 220h160v-160H400v160Zm0 220h160v-160H400v160ZM180-400h160v-160H180v160Zm440 0h160v-160H620v160ZM180-180h160v-160H180v160Zm440 0h160v-160H620v160Z\"/>\n",
              "  </svg>\n",
              "    </button>\n",
              "\n",
              "  <style>\n",
              "    .colab-df-container {\n",
              "      display:flex;\n",
              "      gap: 12px;\n",
              "    }\n",
              "\n",
              "    .colab-df-convert {\n",
              "      background-color: #E8F0FE;\n",
              "      border: none;\n",
              "      border-radius: 50%;\n",
              "      cursor: pointer;\n",
              "      display: none;\n",
              "      fill: #1967D2;\n",
              "      height: 32px;\n",
              "      padding: 0 0 0 0;\n",
              "      width: 32px;\n",
              "    }\n",
              "\n",
              "    .colab-df-convert:hover {\n",
              "      background-color: #E2EBFA;\n",
              "      box-shadow: 0px 1px 2px rgba(60, 64, 67, 0.3), 0px 1px 3px 1px rgba(60, 64, 67, 0.15);\n",
              "      fill: #174EA6;\n",
              "    }\n",
              "\n",
              "    .colab-df-buttons div {\n",
              "      margin-bottom: 4px;\n",
              "    }\n",
              "\n",
              "    [theme=dark] .colab-df-convert {\n",
              "      background-color: #3B4455;\n",
              "      fill: #D2E3FC;\n",
              "    }\n",
              "\n",
              "    [theme=dark] .colab-df-convert:hover {\n",
              "      background-color: #434B5C;\n",
              "      box-shadow: 0px 1px 3px 1px rgba(0, 0, 0, 0.15);\n",
              "      filter: drop-shadow(0px 1px 2px rgba(0, 0, 0, 0.3));\n",
              "      fill: #FFFFFF;\n",
              "    }\n",
              "  </style>\n",
              "\n",
              "    <script>\n",
              "      const buttonEl =\n",
              "        document.querySelector('#df-5fea73e8-f6bd-487e-b5e1-d5caa5f6d6d4 button.colab-df-convert');\n",
              "      buttonEl.style.display =\n",
              "        google.colab.kernel.accessAllowed ? 'block' : 'none';\n",
              "\n",
              "      async function convertToInteractive(key) {\n",
              "        const element = document.querySelector('#df-5fea73e8-f6bd-487e-b5e1-d5caa5f6d6d4');\n",
              "        const dataTable =\n",
              "          await google.colab.kernel.invokeFunction('convertToInteractive',\n",
              "                                                    [key], {});\n",
              "        if (!dataTable) return;\n",
              "\n",
              "        const docLinkHtml = 'Like what you see? Visit the ' +\n",
              "          '<a target=\"_blank\" href=https://colab.research.google.com/notebooks/data_table.ipynb>data table notebook</a>'\n",
              "          + ' to learn more about interactive tables.';\n",
              "        element.innerHTML = '';\n",
              "        dataTable['output_type'] = 'display_data';\n",
              "        await google.colab.output.renderOutput(dataTable, element);\n",
              "        const docLink = document.createElement('div');\n",
              "        docLink.innerHTML = docLinkHtml;\n",
              "        element.appendChild(docLink);\n",
              "      }\n",
              "    </script>\n",
              "  </div>\n",
              "\n",
              "\n",
              "<div id=\"df-72aceecd-6bea-40a6-9066-11938f08e8ab\">\n",
              "  <button class=\"colab-df-quickchart\" onclick=\"quickchart('df-72aceecd-6bea-40a6-9066-11938f08e8ab')\"\n",
              "            title=\"Suggest charts\"\n",
              "            style=\"display:none;\">\n",
              "\n",
              "<svg xmlns=\"http://www.w3.org/2000/svg\" height=\"24px\"viewBox=\"0 0 24 24\"\n",
              "     width=\"24px\">\n",
              "    <g>\n",
              "        <path d=\"M19 3H5c-1.1 0-2 .9-2 2v14c0 1.1.9 2 2 2h14c1.1 0 2-.9 2-2V5c0-1.1-.9-2-2-2zM9 17H7v-7h2v7zm4 0h-2V7h2v10zm4 0h-2v-4h2v4z\"/>\n",
              "    </g>\n",
              "</svg>\n",
              "  </button>\n",
              "\n",
              "<style>\n",
              "  .colab-df-quickchart {\n",
              "      --bg-color: #E8F0FE;\n",
              "      --fill-color: #1967D2;\n",
              "      --hover-bg-color: #E2EBFA;\n",
              "      --hover-fill-color: #174EA6;\n",
              "      --disabled-fill-color: #AAA;\n",
              "      --disabled-bg-color: #DDD;\n",
              "  }\n",
              "\n",
              "  [theme=dark] .colab-df-quickchart {\n",
              "      --bg-color: #3B4455;\n",
              "      --fill-color: #D2E3FC;\n",
              "      --hover-bg-color: #434B5C;\n",
              "      --hover-fill-color: #FFFFFF;\n",
              "      --disabled-bg-color: #3B4455;\n",
              "      --disabled-fill-color: #666;\n",
              "  }\n",
              "\n",
              "  .colab-df-quickchart {\n",
              "    background-color: var(--bg-color);\n",
              "    border: none;\n",
              "    border-radius: 50%;\n",
              "    cursor: pointer;\n",
              "    display: none;\n",
              "    fill: var(--fill-color);\n",
              "    height: 32px;\n",
              "    padding: 0;\n",
              "    width: 32px;\n",
              "  }\n",
              "\n",
              "  .colab-df-quickchart:hover {\n",
              "    background-color: var(--hover-bg-color);\n",
              "    box-shadow: 0 1px 2px rgba(60, 64, 67, 0.3), 0 1px 3px 1px rgba(60, 64, 67, 0.15);\n",
              "    fill: var(--button-hover-fill-color);\n",
              "  }\n",
              "\n",
              "  .colab-df-quickchart-complete:disabled,\n",
              "  .colab-df-quickchart-complete:disabled:hover {\n",
              "    background-color: var(--disabled-bg-color);\n",
              "    fill: var(--disabled-fill-color);\n",
              "    box-shadow: none;\n",
              "  }\n",
              "\n",
              "  .colab-df-spinner {\n",
              "    border: 2px solid var(--fill-color);\n",
              "    border-color: transparent;\n",
              "    border-bottom-color: var(--fill-color);\n",
              "    animation:\n",
              "      spin 1s steps(1) infinite;\n",
              "  }\n",
              "\n",
              "  @keyframes spin {\n",
              "    0% {\n",
              "      border-color: transparent;\n",
              "      border-bottom-color: var(--fill-color);\n",
              "      border-left-color: var(--fill-color);\n",
              "    }\n",
              "    20% {\n",
              "      border-color: transparent;\n",
              "      border-left-color: var(--fill-color);\n",
              "      border-top-color: var(--fill-color);\n",
              "    }\n",
              "    30% {\n",
              "      border-color: transparent;\n",
              "      border-left-color: var(--fill-color);\n",
              "      border-top-color: var(--fill-color);\n",
              "      border-right-color: var(--fill-color);\n",
              "    }\n",
              "    40% {\n",
              "      border-color: transparent;\n",
              "      border-right-color: var(--fill-color);\n",
              "      border-top-color: var(--fill-color);\n",
              "    }\n",
              "    60% {\n",
              "      border-color: transparent;\n",
              "      border-right-color: var(--fill-color);\n",
              "    }\n",
              "    80% {\n",
              "      border-color: transparent;\n",
              "      border-right-color: var(--fill-color);\n",
              "      border-bottom-color: var(--fill-color);\n",
              "    }\n",
              "    90% {\n",
              "      border-color: transparent;\n",
              "      border-bottom-color: var(--fill-color);\n",
              "    }\n",
              "  }\n",
              "</style>\n",
              "\n",
              "  <script>\n",
              "    async function quickchart(key) {\n",
              "      const quickchartButtonEl =\n",
              "        document.querySelector('#' + key + ' button');\n",
              "      quickchartButtonEl.disabled = true;  // To prevent multiple clicks.\n",
              "      quickchartButtonEl.classList.add('colab-df-spinner');\n",
              "      try {\n",
              "        const charts = await google.colab.kernel.invokeFunction(\n",
              "            'suggestCharts', [key], {});\n",
              "      } catch (error) {\n",
              "        console.error('Error during call to suggestCharts:', error);\n",
              "      }\n",
              "      quickchartButtonEl.classList.remove('colab-df-spinner');\n",
              "      quickchartButtonEl.classList.add('colab-df-quickchart-complete');\n",
              "    }\n",
              "    (() => {\n",
              "      let quickchartButtonEl =\n",
              "        document.querySelector('#df-72aceecd-6bea-40a6-9066-11938f08e8ab button');\n",
              "      quickchartButtonEl.style.display =\n",
              "        google.colab.kernel.accessAllowed ? 'block' : 'none';\n",
              "    })();\n",
              "  </script>\n",
              "</div>\n",
              "\n",
              "    </div>\n",
              "  </div>\n"
            ],
            "application/vnd.google.colaboratory.intrinsic+json": {
              "type": "dataframe",
              "summary": "{\n  \"name\": \"cme_params_scaled\",\n  \"rows\": 5,\n  \"fields\": [\n    {\n      \"column\": \"SimID\",\n      \"properties\": {\n        \"dtype\": \"number\",\n        \"std\": 1,\n        \"min\": 294,\n        \"max\": 298,\n        \"num_unique_values\": 5,\n        \"samples\": [\n          295,\n          298,\n          296\n        ],\n        \"semantic_type\": \"\",\n        \"description\": \"\"\n      }\n    },\n    {\n      \"column\": \"Radius\",\n      \"properties\": {\n        \"dtype\": \"number\",\n        \"std\": 0.34641016151377546,\n        \"min\": 0.125,\n        \"max\": 0.925,\n        \"num_unique_values\": 5,\n        \"samples\": [\n          0.125,\n          0.6250000000000001,\n          0.325\n        ],\n        \"semantic_type\": \"\",\n        \"description\": \"\"\n      }\n    },\n    {\n      \"column\": \"BStrength\",\n      \"properties\": {\n        \"dtype\": \"number\",\n        \"std\": 0.16592159207690968,\n        \"min\": 0.2528341443633414,\n        \"max\": 0.6556482458280757,\n        \"num_unique_values\": 5,\n        \"samples\": [\n          0.6556482458280757,\n          0.4066148576514523,\n          0.5183597208569497\n        ],\n        \"semantic_type\": \"\",\n        \"description\": \"\"\n      }\n    },\n    {\n      \"column\": \"ApexHeight\",\n      \"properties\": {\n        \"dtype\": \"number\",\n        \"std\": 0.2567170579832042,\n        \"min\": 0.2354343213559321,\n        \"max\": 0.8298199159322032,\n        \"num_unique_values\": 5,\n        \"samples\": [\n          0.2354343213559321,\n          0.3941207633898304,\n          0.2457097464406779\n        ],\n        \"semantic_type\": \"\",\n        \"description\": \"\"\n      }\n    },\n    {\n      \"column\": \"OrientationCme\",\n      \"properties\": {\n        \"dtype\": \"number\",\n        \"std\": 0.23874672772626646,\n        \"min\": 0.175,\n        \"max\": 0.775,\n        \"num_unique_values\": 5,\n        \"samples\": [\n          0.475,\n          0.375,\n          0.775\n        ],\n        \"semantic_type\": \"\",\n        \"description\": \"\"\n      }\n    },\n    {\n      \"column\": \"iHelicity\",\n      \"properties\": {\n        \"dtype\": \"number\",\n        \"std\": 0.5477225575051662,\n        \"min\": 0.0,\n        \"max\": 1.0,\n        \"num_unique_values\": 2,\n        \"samples\": [\n          1.0,\n          0.0\n        ],\n        \"semantic_type\": \"\",\n        \"description\": \"\"\n      }\n    },\n    {\n      \"column\": \"realization\",\n      \"properties\": {\n        \"dtype\": \"number\",\n        \"std\": 0.0,\n        \"min\": 0.3636363636363636,\n        \"max\": 0.3636363636363636,\n        \"num_unique_values\": 1,\n        \"samples\": [\n          0.3636363636363636\n        ],\n        \"semantic_type\": \"\",\n        \"description\": \"\"\n      }\n    },\n    {\n      \"column\": \"FactorB0\",\n      \"properties\": {\n        \"dtype\": \"number\",\n        \"std\": 0.0,\n        \"min\": 0.3525925925925925,\n        \"max\": 0.3525925925925925,\n        \"num_unique_values\": 1,\n        \"samples\": [\n          0.3525925925925925\n        ],\n        \"semantic_type\": \"\",\n        \"description\": \"\"\n      }\n    },\n    {\n      \"column\": \"PoyntingFluxPerBSi\",\n      \"properties\": {\n        \"dtype\": \"number\",\n        \"std\": 0.0,\n        \"min\": 0.005643,\n        \"max\": 0.005643,\n        \"num_unique_values\": 1,\n        \"samples\": [\n          0.005643\n        ],\n        \"semantic_type\": \"\",\n        \"description\": \"\"\n      }\n    },\n    {\n      \"column\": \"LperpTimesSqrtBSi\",\n      \"properties\": {\n        \"dtype\": \"number\",\n        \"std\": 0.0,\n        \"min\": 0.9371937037037036,\n        \"max\": 0.9371937037037036,\n        \"num_unique_values\": 1,\n        \"samples\": [\n          0.9371937037037036\n        ],\n        \"semantic_type\": \"\",\n        \"description\": \"\"\n      }\n    }\n  ]\n}"
            }
          },
          "metadata": {},
          "execution_count": 31
        }
      ]
    },
    {
      "cell_type": "code",
      "source": [],
      "metadata": {
        "id": "247C3Tl2Pl5J"
      },
      "execution_count": null,
      "outputs": []
    },
    {
      "cell_type": "code",
      "source": [
        "cme_params_scaled.index"
      ],
      "metadata": {
        "colab": {
          "base_uri": "https://localhost:8080/"
        },
        "id": "mMK7k4gUFXEw",
        "outputId": "58618927-59aa-4b20-f8e3-678e4bb9c22f"
      },
      "execution_count": 29,
      "outputs": [
        {
          "output_type": "execute_result",
          "data": {
            "text/plain": [
              "RangeIndex(start=0, stop=278, step=1)"
            ]
          },
          "metadata": {},
          "execution_count": 29
        }
      ]
    },
    {
      "cell_type": "code",
      "source": [
        "# Load IDs to keep amongst successful runs (1-indexed!)\n",
        "ids_to_keep_raw = np.load(\"./drive/MyDrive/WLROM/old_data_surrogate/ids_to_keep_2161.npy\")\n",
        "ids_to_keep = ids_to_keep_raw - 1\n",
        "ids_to_keep.shape"
      ],
      "metadata": {
        "colab": {
          "base_uri": "https://localhost:8080/"
        },
        "id": "D34bzBrnEYsZ",
        "outputId": "e1027481-98b0-48da-88c5-63d8520225fa"
      },
      "execution_count": 23,
      "outputs": [
        {
          "output_type": "execute_result",
          "data": {
            "text/plain": [
              "(254,)"
            ]
          },
          "metadata": {},
          "execution_count": 23
        }
      ]
    },
    {
      "cell_type": "code",
      "source": [
        "ids_to_keep"
      ],
      "metadata": {
        "colab": {
          "base_uri": "https://localhost:8080/"
        },
        "id": "qTbQl435IY5d",
        "outputId": "a8a8ffea-40e4-4fbe-c177-13a5740c770f"
      },
      "execution_count": 53,
      "outputs": [
        {
          "output_type": "execute_result",
          "data": {
            "text/plain": [
              "array([  0,   1,   2,   3,   4,   5,   6,   7,   8,   9,  10,  11,  12,\n",
              "        13,  14,  15,  16,  17,  18,  19,  20,  21,  22,  23,  25,  26,\n",
              "        27,  28,  29,  30,  31,  32,  33,  34,  35,  36,  37,  39,  40,\n",
              "        41,  42,  43,  44,  45,  46,  47,  48,  49,  50,  51,  52,  53,\n",
              "        54,  55,  56,  57,  58,  60,  61,  63,  64,  65,  66,  67,  68,\n",
              "        69,  71,  72,  73,  74,  75,  76,  77,  79,  80,  81,  87,  88,\n",
              "        89,  90,  91,  92,  93,  95,  97,  98,  99, 101, 102, 103, 104,\n",
              "       105, 107, 108, 109, 110, 111, 112, 113, 114, 115, 116, 117, 118,\n",
              "       119, 120, 121, 122, 123, 124, 125, 127, 128, 129, 130, 131, 132,\n",
              "       133, 135, 138, 140, 141, 143, 144, 145, 147, 148, 149, 152, 153,\n",
              "       154, 155, 157, 159, 160, 161, 162, 163, 165, 166, 167, 168, 170,\n",
              "       171, 172, 173, 174, 175, 177, 178, 179, 180, 181, 182, 183, 184,\n",
              "       185, 186, 187, 188, 189, 191, 192, 194, 195, 196, 197, 198, 199,\n",
              "       200, 201, 202, 203, 204, 205, 206, 207, 208, 209, 210, 211, 212,\n",
              "       213, 215, 217, 218, 220, 221, 222, 223, 224, 225, 226, 227, 228,\n",
              "       229, 230, 231, 232, 233, 235, 236, 237, 238, 240, 241, 242, 243,\n",
              "       244, 245, 246, 247, 248, 249, 250, 251, 252, 253, 255, 256, 258,\n",
              "       260, 261, 262, 263, 264, 265, 266, 267, 268, 269, 270, 271, 272,\n",
              "       273, 275, 280, 281, 282, 283, 284, 285, 286, 287, 288, 289, 290,\n",
              "       291, 292, 293, 295, 296, 297, 298])"
            ]
          },
          "metadata": {},
          "execution_count": 53
        }
      ]
    },
    {
      "cell_type": "code",
      "source": [
        "successful_sim_ids = cme_params_scaled['SimID'].to_numpy()\n",
        "successful_sim_ids"
      ],
      "metadata": {
        "colab": {
          "base_uri": "https://localhost:8080/"
        },
        "id": "kCgT2q07IACQ",
        "outputId": "1f89d5bd-9b84-48a2-ca9c-4f44f3b1c532"
      },
      "execution_count": 52,
      "outputs": [
        {
          "output_type": "execute_result",
          "data": {
            "text/plain": [
              "array([  0,   1,   2,   3,   4,   5,   6,   7,   8,   9,  10,  11,  12,\n",
              "        13,  14,  15,  16,  17,  18,  19,  20,  21,  22,  23,  25,  26,\n",
              "        27,  28,  29,  30,  31,  32,  33,  34,  35,  36,  37,  38,  39,\n",
              "        40,  41,  42,  43,  44,  45,  46,  47,  48,  49,  50,  51,  52,\n",
              "        53,  54,  55,  56,  57,  58,  59,  60,  61,  62,  63,  64,  65,\n",
              "        66,  67,  68,  69,  70,  71,  72,  73,  74,  75,  76,  77,  79,\n",
              "        80,  81,  82,  83,  84,  87,  88,  89,  90,  91,  92,  93,  95,\n",
              "        96,  97,  98,  99, 100, 101, 102, 103, 104, 105, 107, 108, 109,\n",
              "       110, 111, 112, 113, 114, 115, 116, 117, 118, 119, 120, 121, 122,\n",
              "       123, 124, 125, 126, 127, 128, 129, 130, 131, 132, 133, 135, 137,\n",
              "       138, 140, 141, 142, 143, 144, 145, 146, 147, 148, 149, 150, 152,\n",
              "       153, 154, 155, 157, 159, 160, 161, 162, 163, 165, 166, 167, 168,\n",
              "       169, 170, 171, 172, 173, 174, 175, 177, 178, 179, 180, 181, 182,\n",
              "       183, 184, 185, 186, 187, 188, 189, 190, 191, 192, 193, 194, 195,\n",
              "       196, 197, 198, 199, 200, 201, 202, 203, 204, 205, 206, 207, 208,\n",
              "       209, 210, 211, 212, 213, 215, 216, 217, 218, 220, 221, 222, 223,\n",
              "       224, 225, 226, 227, 228, 229, 230, 231, 232, 233, 234, 235, 236,\n",
              "       237, 238, 240, 241, 242, 243, 244, 245, 246, 247, 248, 249, 250,\n",
              "       251, 252, 253, 255, 256, 257, 258, 259, 260, 261, 262, 263, 264,\n",
              "       265, 266, 267, 268, 269, 270, 271, 272, 273, 274, 275, 276, 280,\n",
              "       281, 282, 283, 284, 285, 286, 287, 288, 289, 290, 291, 292, 293,\n",
              "       294, 295, 296, 297, 298])"
            ]
          },
          "metadata": {},
          "execution_count": 52
        }
      ]
    },
    {
      "cell_type": "code",
      "source": [
        "# find indices of successful sim IDs to keep\n",
        "indices_to_keep = np.where(np.isin(successful_sim_ids, ids_to_keep))[0]\n",
        "indices_to_keep.shape"
      ],
      "metadata": {
        "colab": {
          "base_uri": "https://localhost:8080/"
        },
        "id": "JufQE7N2IcH-",
        "outputId": "334406c4-a47e-42bc-f40d-3fe96d6e28b2"
      },
      "execution_count": 55,
      "outputs": [
        {
          "output_type": "execute_result",
          "data": {
            "text/plain": [
              "(254,)"
            ]
          },
          "metadata": {},
          "execution_count": 55
        }
      ]
    },
    {
      "cell_type": "code",
      "source": [
        "# np.linspace(0, 277, 278, dtype=int)[ids_to_keep]"
      ],
      "metadata": {
        "id": "mG981pXRILN6"
      },
      "execution_count": 74,
      "outputs": []
    },
    {
      "cell_type": "code",
      "source": [
        "filtered_df = cme_params_scaled[cme_params_scaled['SimID'].isin(ids_to_keep)]\n",
        "filtered_df.head()"
      ],
      "metadata": {
        "colab": {
          "base_uri": "https://localhost:8080/",
          "height": 206
        },
        "id": "riVOH0TFFrA_",
        "outputId": "fd1c6f15-e498-45b9-c539-ef9281ba107b"
      },
      "execution_count": 34,
      "outputs": [
        {
          "output_type": "execute_result",
          "data": {
            "text/plain": [
              "   SimID  Radius  BStrength  ApexHeight  OrientationCme  iHelicity  \\\n",
              "0      0  0.5675   0.420040    0.568916          0.5525        1.0   \n",
              "1      1  0.4525   0.057350    0.348039          0.1025        1.0   \n",
              "2      2  0.8525   0.014777    0.541725          0.8775        1.0   \n",
              "3      3  0.1225   0.323231    0.214567          0.5075        0.0   \n",
              "4      4  0.7825   0.085414    0.640815          0.3325        1.0   \n",
              "\n",
              "   realization  FactorB0  PoyntingFluxPerBSi  LperpTimesSqrtBSi  \n",
              "0     0.272727  0.120833            0.098542           0.436506  \n",
              "1     0.272727  0.120833            0.098542           0.436506  \n",
              "2     0.272727  0.120833            0.098542           0.436506  \n",
              "3     0.272727  0.120833            0.098542           0.436506  \n",
              "4     0.272727  0.120833            0.098542           0.436506  "
            ],
            "text/html": [
              "\n",
              "  <div id=\"df-a0129cc7-6b4a-489f-ae98-6112798ebac5\" class=\"colab-df-container\">\n",
              "    <div>\n",
              "<style scoped>\n",
              "    .dataframe tbody tr th:only-of-type {\n",
              "        vertical-align: middle;\n",
              "    }\n",
              "\n",
              "    .dataframe tbody tr th {\n",
              "        vertical-align: top;\n",
              "    }\n",
              "\n",
              "    .dataframe thead th {\n",
              "        text-align: right;\n",
              "    }\n",
              "</style>\n",
              "<table border=\"1\" class=\"dataframe\">\n",
              "  <thead>\n",
              "    <tr style=\"text-align: right;\">\n",
              "      <th></th>\n",
              "      <th>SimID</th>\n",
              "      <th>Radius</th>\n",
              "      <th>BStrength</th>\n",
              "      <th>ApexHeight</th>\n",
              "      <th>OrientationCme</th>\n",
              "      <th>iHelicity</th>\n",
              "      <th>realization</th>\n",
              "      <th>FactorB0</th>\n",
              "      <th>PoyntingFluxPerBSi</th>\n",
              "      <th>LperpTimesSqrtBSi</th>\n",
              "    </tr>\n",
              "  </thead>\n",
              "  <tbody>\n",
              "    <tr>\n",
              "      <th>0</th>\n",
              "      <td>0</td>\n",
              "      <td>0.5675</td>\n",
              "      <td>0.420040</td>\n",
              "      <td>0.568916</td>\n",
              "      <td>0.5525</td>\n",
              "      <td>1.0</td>\n",
              "      <td>0.272727</td>\n",
              "      <td>0.120833</td>\n",
              "      <td>0.098542</td>\n",
              "      <td>0.436506</td>\n",
              "    </tr>\n",
              "    <tr>\n",
              "      <th>1</th>\n",
              "      <td>1</td>\n",
              "      <td>0.4525</td>\n",
              "      <td>0.057350</td>\n",
              "      <td>0.348039</td>\n",
              "      <td>0.1025</td>\n",
              "      <td>1.0</td>\n",
              "      <td>0.272727</td>\n",
              "      <td>0.120833</td>\n",
              "      <td>0.098542</td>\n",
              "      <td>0.436506</td>\n",
              "    </tr>\n",
              "    <tr>\n",
              "      <th>2</th>\n",
              "      <td>2</td>\n",
              "      <td>0.8525</td>\n",
              "      <td>0.014777</td>\n",
              "      <td>0.541725</td>\n",
              "      <td>0.8775</td>\n",
              "      <td>1.0</td>\n",
              "      <td>0.272727</td>\n",
              "      <td>0.120833</td>\n",
              "      <td>0.098542</td>\n",
              "      <td>0.436506</td>\n",
              "    </tr>\n",
              "    <tr>\n",
              "      <th>3</th>\n",
              "      <td>3</td>\n",
              "      <td>0.1225</td>\n",
              "      <td>0.323231</td>\n",
              "      <td>0.214567</td>\n",
              "      <td>0.5075</td>\n",
              "      <td>0.0</td>\n",
              "      <td>0.272727</td>\n",
              "      <td>0.120833</td>\n",
              "      <td>0.098542</td>\n",
              "      <td>0.436506</td>\n",
              "    </tr>\n",
              "    <tr>\n",
              "      <th>4</th>\n",
              "      <td>4</td>\n",
              "      <td>0.7825</td>\n",
              "      <td>0.085414</td>\n",
              "      <td>0.640815</td>\n",
              "      <td>0.3325</td>\n",
              "      <td>1.0</td>\n",
              "      <td>0.272727</td>\n",
              "      <td>0.120833</td>\n",
              "      <td>0.098542</td>\n",
              "      <td>0.436506</td>\n",
              "    </tr>\n",
              "  </tbody>\n",
              "</table>\n",
              "</div>\n",
              "    <div class=\"colab-df-buttons\">\n",
              "\n",
              "  <div class=\"colab-df-container\">\n",
              "    <button class=\"colab-df-convert\" onclick=\"convertToInteractive('df-a0129cc7-6b4a-489f-ae98-6112798ebac5')\"\n",
              "            title=\"Convert this dataframe to an interactive table.\"\n",
              "            style=\"display:none;\">\n",
              "\n",
              "  <svg xmlns=\"http://www.w3.org/2000/svg\" height=\"24px\" viewBox=\"0 -960 960 960\">\n",
              "    <path d=\"M120-120v-720h720v720H120Zm60-500h600v-160H180v160Zm220 220h160v-160H400v160Zm0 220h160v-160H400v160ZM180-400h160v-160H180v160Zm440 0h160v-160H620v160ZM180-180h160v-160H180v160Zm440 0h160v-160H620v160Z\"/>\n",
              "  </svg>\n",
              "    </button>\n",
              "\n",
              "  <style>\n",
              "    .colab-df-container {\n",
              "      display:flex;\n",
              "      gap: 12px;\n",
              "    }\n",
              "\n",
              "    .colab-df-convert {\n",
              "      background-color: #E8F0FE;\n",
              "      border: none;\n",
              "      border-radius: 50%;\n",
              "      cursor: pointer;\n",
              "      display: none;\n",
              "      fill: #1967D2;\n",
              "      height: 32px;\n",
              "      padding: 0 0 0 0;\n",
              "      width: 32px;\n",
              "    }\n",
              "\n",
              "    .colab-df-convert:hover {\n",
              "      background-color: #E2EBFA;\n",
              "      box-shadow: 0px 1px 2px rgba(60, 64, 67, 0.3), 0px 1px 3px 1px rgba(60, 64, 67, 0.15);\n",
              "      fill: #174EA6;\n",
              "    }\n",
              "\n",
              "    .colab-df-buttons div {\n",
              "      margin-bottom: 4px;\n",
              "    }\n",
              "\n",
              "    [theme=dark] .colab-df-convert {\n",
              "      background-color: #3B4455;\n",
              "      fill: #D2E3FC;\n",
              "    }\n",
              "\n",
              "    [theme=dark] .colab-df-convert:hover {\n",
              "      background-color: #434B5C;\n",
              "      box-shadow: 0px 1px 3px 1px rgba(0, 0, 0, 0.15);\n",
              "      filter: drop-shadow(0px 1px 2px rgba(0, 0, 0, 0.3));\n",
              "      fill: #FFFFFF;\n",
              "    }\n",
              "  </style>\n",
              "\n",
              "    <script>\n",
              "      const buttonEl =\n",
              "        document.querySelector('#df-a0129cc7-6b4a-489f-ae98-6112798ebac5 button.colab-df-convert');\n",
              "      buttonEl.style.display =\n",
              "        google.colab.kernel.accessAllowed ? 'block' : 'none';\n",
              "\n",
              "      async function convertToInteractive(key) {\n",
              "        const element = document.querySelector('#df-a0129cc7-6b4a-489f-ae98-6112798ebac5');\n",
              "        const dataTable =\n",
              "          await google.colab.kernel.invokeFunction('convertToInteractive',\n",
              "                                                    [key], {});\n",
              "        if (!dataTable) return;\n",
              "\n",
              "        const docLinkHtml = 'Like what you see? Visit the ' +\n",
              "          '<a target=\"_blank\" href=https://colab.research.google.com/notebooks/data_table.ipynb>data table notebook</a>'\n",
              "          + ' to learn more about interactive tables.';\n",
              "        element.innerHTML = '';\n",
              "        dataTable['output_type'] = 'display_data';\n",
              "        await google.colab.output.renderOutput(dataTable, element);\n",
              "        const docLink = document.createElement('div');\n",
              "        docLink.innerHTML = docLinkHtml;\n",
              "        element.appendChild(docLink);\n",
              "      }\n",
              "    </script>\n",
              "  </div>\n",
              "\n",
              "\n",
              "<div id=\"df-d94efc4d-e145-4341-b8b0-38862b5f3ac7\">\n",
              "  <button class=\"colab-df-quickchart\" onclick=\"quickchart('df-d94efc4d-e145-4341-b8b0-38862b5f3ac7')\"\n",
              "            title=\"Suggest charts\"\n",
              "            style=\"display:none;\">\n",
              "\n",
              "<svg xmlns=\"http://www.w3.org/2000/svg\" height=\"24px\"viewBox=\"0 0 24 24\"\n",
              "     width=\"24px\">\n",
              "    <g>\n",
              "        <path d=\"M19 3H5c-1.1 0-2 .9-2 2v14c0 1.1.9 2 2 2h14c1.1 0 2-.9 2-2V5c0-1.1-.9-2-2-2zM9 17H7v-7h2v7zm4 0h-2V7h2v10zm4 0h-2v-4h2v4z\"/>\n",
              "    </g>\n",
              "</svg>\n",
              "  </button>\n",
              "\n",
              "<style>\n",
              "  .colab-df-quickchart {\n",
              "      --bg-color: #E8F0FE;\n",
              "      --fill-color: #1967D2;\n",
              "      --hover-bg-color: #E2EBFA;\n",
              "      --hover-fill-color: #174EA6;\n",
              "      --disabled-fill-color: #AAA;\n",
              "      --disabled-bg-color: #DDD;\n",
              "  }\n",
              "\n",
              "  [theme=dark] .colab-df-quickchart {\n",
              "      --bg-color: #3B4455;\n",
              "      --fill-color: #D2E3FC;\n",
              "      --hover-bg-color: #434B5C;\n",
              "      --hover-fill-color: #FFFFFF;\n",
              "      --disabled-bg-color: #3B4455;\n",
              "      --disabled-fill-color: #666;\n",
              "  }\n",
              "\n",
              "  .colab-df-quickchart {\n",
              "    background-color: var(--bg-color);\n",
              "    border: none;\n",
              "    border-radius: 50%;\n",
              "    cursor: pointer;\n",
              "    display: none;\n",
              "    fill: var(--fill-color);\n",
              "    height: 32px;\n",
              "    padding: 0;\n",
              "    width: 32px;\n",
              "  }\n",
              "\n",
              "  .colab-df-quickchart:hover {\n",
              "    background-color: var(--hover-bg-color);\n",
              "    box-shadow: 0 1px 2px rgba(60, 64, 67, 0.3), 0 1px 3px 1px rgba(60, 64, 67, 0.15);\n",
              "    fill: var(--button-hover-fill-color);\n",
              "  }\n",
              "\n",
              "  .colab-df-quickchart-complete:disabled,\n",
              "  .colab-df-quickchart-complete:disabled:hover {\n",
              "    background-color: var(--disabled-bg-color);\n",
              "    fill: var(--disabled-fill-color);\n",
              "    box-shadow: none;\n",
              "  }\n",
              "\n",
              "  .colab-df-spinner {\n",
              "    border: 2px solid var(--fill-color);\n",
              "    border-color: transparent;\n",
              "    border-bottom-color: var(--fill-color);\n",
              "    animation:\n",
              "      spin 1s steps(1) infinite;\n",
              "  }\n",
              "\n",
              "  @keyframes spin {\n",
              "    0% {\n",
              "      border-color: transparent;\n",
              "      border-bottom-color: var(--fill-color);\n",
              "      border-left-color: var(--fill-color);\n",
              "    }\n",
              "    20% {\n",
              "      border-color: transparent;\n",
              "      border-left-color: var(--fill-color);\n",
              "      border-top-color: var(--fill-color);\n",
              "    }\n",
              "    30% {\n",
              "      border-color: transparent;\n",
              "      border-left-color: var(--fill-color);\n",
              "      border-top-color: var(--fill-color);\n",
              "      border-right-color: var(--fill-color);\n",
              "    }\n",
              "    40% {\n",
              "      border-color: transparent;\n",
              "      border-right-color: var(--fill-color);\n",
              "      border-top-color: var(--fill-color);\n",
              "    }\n",
              "    60% {\n",
              "      border-color: transparent;\n",
              "      border-right-color: var(--fill-color);\n",
              "    }\n",
              "    80% {\n",
              "      border-color: transparent;\n",
              "      border-right-color: var(--fill-color);\n",
              "      border-bottom-color: var(--fill-color);\n",
              "    }\n",
              "    90% {\n",
              "      border-color: transparent;\n",
              "      border-bottom-color: var(--fill-color);\n",
              "    }\n",
              "  }\n",
              "</style>\n",
              "\n",
              "  <script>\n",
              "    async function quickchart(key) {\n",
              "      const quickchartButtonEl =\n",
              "        document.querySelector('#' + key + ' button');\n",
              "      quickchartButtonEl.disabled = true;  // To prevent multiple clicks.\n",
              "      quickchartButtonEl.classList.add('colab-df-spinner');\n",
              "      try {\n",
              "        const charts = await google.colab.kernel.invokeFunction(\n",
              "            'suggestCharts', [key], {});\n",
              "      } catch (error) {\n",
              "        console.error('Error during call to suggestCharts:', error);\n",
              "      }\n",
              "      quickchartButtonEl.classList.remove('colab-df-spinner');\n",
              "      quickchartButtonEl.classList.add('colab-df-quickchart-complete');\n",
              "    }\n",
              "    (() => {\n",
              "      let quickchartButtonEl =\n",
              "        document.querySelector('#df-d94efc4d-e145-4341-b8b0-38862b5f3ac7 button');\n",
              "      quickchartButtonEl.style.display =\n",
              "        google.colab.kernel.accessAllowed ? 'block' : 'none';\n",
              "    })();\n",
              "  </script>\n",
              "</div>\n",
              "\n",
              "    </div>\n",
              "  </div>\n"
            ],
            "application/vnd.google.colaboratory.intrinsic+json": {
              "type": "dataframe",
              "variable_name": "filtered_df",
              "summary": "{\n  \"name\": \"filtered_df\",\n  \"rows\": 254,\n  \"fields\": [\n    {\n      \"column\": \"SimID\",\n      \"properties\": {\n        \"dtype\": \"number\",\n        \"std\": 88,\n        \"min\": 0,\n        \"max\": 298,\n        \"num_unique_values\": 254,\n        \"samples\": [\n          224,\n          6,\n          90\n        ],\n        \"semantic_type\": \"\",\n        \"description\": \"\"\n      }\n    },\n    {\n      \"column\": \"Radius\",\n      \"properties\": {\n        \"dtype\": \"number\",\n        \"std\": 0.2915591403179058,\n        \"min\": 0.0025,\n        \"max\": 0.9975,\n        \"num_unique_values\": 187,\n        \"samples\": [\n          0.6250000000000001,\n          0.9525,\n          0.1025\n        ],\n        \"semantic_type\": \"\",\n        \"description\": \"\"\n      }\n    },\n    {\n      \"column\": \"BStrength\",\n      \"properties\": {\n        \"dtype\": \"number\",\n        \"std\": 0.18853700533474715,\n        \"min\": 0.0147774779987776,\n        \"max\": 0.8903048536311602,\n        \"num_unique_values\": 187,\n        \"samples\": [\n          0.4066148576514523,\n          0.1462928891956394,\n          0.4414037084289024\n        ],\n        \"semantic_type\": \"\",\n        \"description\": \"\"\n      }\n    },\n    {\n      \"column\": \"ApexHeight\",\n      \"properties\": {\n        \"dtype\": \"number\",\n        \"std\": 0.22390728955059966,\n        \"min\": 0.0249136650847457,\n        \"max\": 0.903641419661017,\n        \"num_unique_values\": 187,\n        \"samples\": [\n          0.3941207633898304,\n          0.629181673220339,\n          0.2309231986440678\n        ],\n        \"semantic_type\": \"\",\n        \"description\": \"\"\n      }\n    },\n    {\n      \"column\": \"OrientationCme\",\n      \"properties\": {\n        \"dtype\": \"number\",\n        \"std\": 0.28395191780597046,\n        \"min\": 0.0075000000000001,\n        \"max\": 0.9924999999999998,\n        \"num_unique_values\": 187,\n        \"samples\": [\n          0.375,\n          0.7075000000000001,\n          0.5774999999999999\n        ],\n        \"semantic_type\": \"\",\n        \"description\": \"\"\n      }\n    },\n    {\n      \"column\": \"iHelicity\",\n      \"properties\": {\n        \"dtype\": \"number\",\n        \"std\": 0.49999221929148707,\n        \"min\": 0.0,\n        \"max\": 1.0,\n        \"num_unique_values\": 2,\n        \"samples\": [\n          0.0,\n          1.0\n        ],\n        \"semantic_type\": \"\",\n        \"description\": \"\"\n      }\n    },\n    {\n      \"column\": \"realization\",\n      \"properties\": {\n        \"dtype\": \"number\",\n        \"std\": 0.23522313642395223,\n        \"min\": 0.2727272727272727,\n        \"max\": 0.8181818181818182,\n        \"num_unique_values\": 4,\n        \"samples\": [\n          0.8181818181818182,\n          0.3636363636363636\n        ],\n        \"semantic_type\": \"\",\n        \"description\": \"\"\n      }\n    },\n    {\n      \"column\": \"FactorB0\",\n      \"properties\": {\n        \"dtype\": \"number\",\n        \"std\": 0.11325135884873518,\n        \"min\": 0.1208333333333333,\n        \"max\": 0.3525925925925925,\n        \"num_unique_values\": 2,\n        \"samples\": [\n          0.3525925925925925,\n          0.1208333333333333\n        ],\n        \"semantic_type\": \"\",\n        \"description\": \"\"\n      }\n    },\n    {\n      \"column\": \"PoyntingFluxPerBSi\",\n      \"properties\": {\n        \"dtype\": \"number\",\n        \"std\": 0.045396038008298806,\n        \"min\": 0.005643,\n        \"max\": 0.098542125,\n        \"num_unique_values\": 2,\n        \"samples\": [\n          0.005643,\n          0.098542125\n        ],\n        \"semantic_type\": \"\",\n        \"description\": \"\"\n      }\n    },\n    {\n      \"column\": \"LperpTimesSqrtBSi\",\n      \"properties\": {\n        \"dtype\": \"number\",\n        \"std\": 0.24466600954140347,\n        \"min\": 0.4365055555555555,\n        \"max\": 0.9371937037037036,\n        \"num_unique_values\": 2,\n        \"samples\": [\n          0.9371937037037036,\n          0.4365055555555555\n        ],\n        \"semantic_type\": \"\",\n        \"description\": \"\"\n      }\n    }\n  ]\n}"
            }
          },
          "metadata": {},
          "execution_count": 34
        }
      ]
    },
    {
      "cell_type": "code",
      "source": [
        "filtered_df.shape"
      ],
      "metadata": {
        "colab": {
          "base_uri": "https://localhost:8080/"
        },
        "id": "1w_0uzplGHgc",
        "outputId": "13d10587-a12d-496a-801b-c383973a029b"
      },
      "execution_count": 36,
      "outputs": [
        {
          "output_type": "execute_result",
          "data": {
            "text/plain": [
              "(254, 10)"
            ]
          },
          "metadata": {},
          "execution_count": 36
        }
      ]
    },
    {
      "cell_type": "code",
      "source": [
        "# remove simID column and convert to numpy\n",
        "cme_params_np = filtered_df.iloc[:, 1:].to_numpy()\n",
        "cme_params_np.shape"
      ],
      "metadata": {
        "colab": {
          "base_uri": "https://localhost:8080/"
        },
        "id": "izy8v9kxH7Vu",
        "outputId": "94ec43c5-088a-40ab-f6f8-d5952ab61061"
      },
      "execution_count": 80,
      "outputs": [
        {
          "output_type": "execute_result",
          "data": {
            "text/plain": [
              "(254, 9)"
            ]
          },
          "metadata": {},
          "execution_count": 80
        }
      ]
    },
    {
      "cell_type": "markdown",
      "source": [
        "Similarly load raw data and filter out runs by SimID correctly."
      ],
      "metadata": {
        "id": "_i1o7p3EBAyc"
      }
    },
    {
      "cell_type": "code",
      "source": [
        "raw_images = np.load(\"./drive/MyDrive/WLROM/old_data_surrogate/CR2161_tDecay2h_Polar_Compressed.npy\")"
      ],
      "metadata": {
        "id": "E4YFaX7ZBD9Y"
      },
      "execution_count": 43,
      "outputs": []
    },
    {
      "cell_type": "code",
      "source": [
        "raw_images.shape"
      ],
      "metadata": {
        "colab": {
          "base_uri": "https://localhost:8080/"
        },
        "id": "Oznd9yExHqNm",
        "outputId": "ba4e7932-28a4-4be9-b2a4-c824a9dd5a39"
      },
      "execution_count": 44,
      "outputs": [
        {
          "output_type": "execute_result",
          "data": {
            "text/plain": [
              "(64, 256, 90, 278)"
            ]
          },
          "metadata": {},
          "execution_count": 44
        }
      ]
    },
    {
      "cell_type": "code",
      "source": [
        "raw_images_to_keep = raw_images[:62, :, :, indices_to_keep]\n",
        "raw_images_to_keep.shape"
      ],
      "metadata": {
        "colab": {
          "base_uri": "https://localhost:8080/"
        },
        "id": "aLPfsI8UHsEV",
        "outputId": "f7bbb826-655a-4c0f-c1c3-088491876343"
      },
      "execution_count": 72,
      "outputs": [
        {
          "output_type": "execute_result",
          "data": {
            "text/plain": [
              "(62, 256, 90, 254)"
            ]
          },
          "metadata": {},
          "execution_count": 72
        }
      ]
    },
    {
      "cell_type": "code",
      "source": [
        "raw_min, raw_max = raw_images_to_keep.min(), raw_images_to_keep.max()\n",
        "raw_min, raw_max"
      ],
      "metadata": {
        "colab": {
          "base_uri": "https://localhost:8080/"
        },
        "id": "vJKVvQdQHxfv",
        "outputId": "2da96ba3-3d09-41f4-964c-98b339d8e563"
      },
      "execution_count": 73,
      "outputs": [
        {
          "output_type": "execute_result",
          "data": {
            "text/plain": [
              "(0.9140037834350702, 1.5)"
            ]
          },
          "metadata": {},
          "execution_count": 73
        }
      ]
    },
    {
      "cell_type": "markdown",
      "source": [
        "Load summary stats and process"
      ],
      "metadata": {
        "id": "X4-lVp_sBEk5"
      }
    },
    {
      "cell_type": "code",
      "source": [
        "summary_stats_raw = pd.read_csv(\"./drive/MyDrive/WLROM/old_data_surrogate/SummaryStats_2161Old.csv\")\n",
        "summary_stats_raw.head(), summary_stats_raw.shape"
      ],
      "metadata": {
        "colab": {
          "base_uri": "https://localhost:8080/"
        },
        "id": "mPrLwjSqGkmf",
        "outputId": "6cb8af0a-1ef0-4394-bfe7-36637982b08a"
      },
      "execution_count": 41,
      "outputs": [
        {
          "output_type": "execute_result",
          "data": {
            "text/plain": [
              "(   SIMID       summU      summN      summB  summArr\n",
              " 0     31  753.379514  14.740539   5.474132     30.0\n",
              " 1     32  543.552620  15.089102   8.494696     57.0\n",
              " 2     33  619.406555  13.467365   8.892779     62.0\n",
              " 3     34  467.688730  12.598024   6.808105     58.0\n",
              " 4     35  651.469120  26.994850  11.082531     49.0,\n",
              " (254, 5))"
            ]
          },
          "metadata": {},
          "execution_count": 41
        }
      ]
    },
    {
      "cell_type": "code",
      "source": [
        "# convert last 4 cols of summary stats to numpy\n",
        "summary_stats_np = summary_stats_raw.iloc[:, 1:].to_numpy()\n",
        "summary_stats_np.shape"
      ],
      "metadata": {
        "colab": {
          "base_uri": "https://localhost:8080/"
        },
        "id": "wwKvFbCOK6ap",
        "outputId": "6d44bf91-d54a-4930-b239-40a37dc701c0"
      },
      "execution_count": 67,
      "outputs": [
        {
          "output_type": "execute_result",
          "data": {
            "text/plain": [
              "(254, 4)"
            ]
          },
          "metadata": {},
          "execution_count": 67
        }
      ]
    },
    {
      "cell_type": "code",
      "source": [
        "num_sim = len(indices_to_keep)\n",
        "num_sim"
      ],
      "metadata": {
        "colab": {
          "base_uri": "https://localhost:8080/"
        },
        "id": "JR547PRyIvCa",
        "outputId": "55c29cb6-e4e1-488a-bcc0-c8aa1920b3eb"
      },
      "execution_count": 60,
      "outputs": [
        {
          "output_type": "execute_result",
          "data": {
            "text/plain": [
              "254"
            ]
          },
          "metadata": {},
          "execution_count": 60
        }
      ]
    },
    {
      "cell_type": "code",
      "source": [
        "data_sim_ids = np.linspace(0, num_sim - 1, num_sim, dtype=int)"
      ],
      "metadata": {
        "id": "3T15toyEI6-Q"
      },
      "execution_count": 61,
      "outputs": []
    },
    {
      "cell_type": "code",
      "source": [
        "generator1 = torch.Generator().manual_seed(2024)\n",
        "train_frac, val_frac, test_frac = 0.7, 0.1, 0.2\n",
        "train_valid_test = random_split(data_sim_ids,\n",
        "                                [train_frac, val_frac, test_frac],\n",
        "                                # [train_size, valid_size, test_size],\n",
        "                                generator=generator1)"
      ],
      "metadata": {
        "id": "pRTXuvO5I1WW"
      },
      "execution_count": 63,
      "outputs": []
    },
    {
      "cell_type": "code",
      "source": [
        "train_idx = np.array(train_valid_test[0].indices)\n",
        "val_idx = np.array(train_valid_test[1].indices)\n",
        "test_idx = np.array(train_valid_test[2].indices)"
      ],
      "metadata": {
        "id": "sk-AK7g8I1St"
      },
      "execution_count": 68,
      "outputs": []
    },
    {
      "cell_type": "code",
      "source": [
        "ntrain = train_idx.shape[0]\n",
        "nval = val_idx.shape[0]\n",
        "ntest = test_idx.shape[0]\n",
        "ntrain, nval, ntest"
      ],
      "metadata": {
        "colab": {
          "base_uri": "https://localhost:8080/"
        },
        "id": "x2T5FR8EI1Pk",
        "outputId": "6f54e2c1-9dbb-4e62-e3fc-c3bda4497e9c"
      },
      "execution_count": 69,
      "outputs": [
        {
          "output_type": "execute_result",
          "data": {
            "text/plain": [
              "(178, 26, 50)"
            ]
          },
          "metadata": {},
          "execution_count": 69
        }
      ]
    },
    {
      "cell_type": "code",
      "source": [
        "train_data_raw = raw_images_to_keep[:, :, :, train_idx]\n",
        "val_data_raw = raw_images_to_keep[:, :, :, val_idx]\n",
        "test_data_raw = raw_images_to_keep[:, :, :, test_idx]"
      ],
      "metadata": {
        "id": "G9aZH23rL2K_"
      },
      "execution_count": 75,
      "outputs": []
    },
    {
      "cell_type": "code",
      "source": [
        "resize_dims = args[\"resize_dims\"]\n",
        "\n",
        "train_data_resized = T.Resize(size=resize_dims,\n",
        "                                  antialias=True\n",
        "                                  )(torch.Tensor(train_data_raw.transpose(3, 2, 0, 1)))\n",
        "\n",
        "val_data_resized = T.Resize(size=resize_dims,\n",
        "                            antialias=True\n",
        "                            )(torch.Tensor(val_data_raw.transpose(3, 2, 0, 1)))\n",
        "\n",
        "test_data_resized = T.Resize(size=resize_dims,\n",
        "                            antialias=True\n",
        "                            )(torch.Tensor(test_data_raw.transpose(3, 2, 0, 1)))"
      ],
      "metadata": {
        "id": "s1nzgNz6PD3b"
      },
      "execution_count": 76,
      "outputs": []
    },
    {
      "cell_type": "code",
      "source": [
        "train_data_resized.shape"
      ],
      "metadata": {
        "colab": {
          "base_uri": "https://localhost:8080/"
        },
        "id": "0FOBofWSPNDu",
        "outputId": "f9595e9b-097b-4e5c-e771-556ed01bff89"
      },
      "execution_count": 78,
      "outputs": [
        {
          "output_type": "execute_result",
          "data": {
            "text/plain": [
              "torch.Size([178, 90, 16, 64])"
            ]
          },
          "metadata": {},
          "execution_count": 78
        }
      ]
    },
    {
      "cell_type": "code",
      "source": [
        "max_train = torch.max(train_data_resized)\n",
        "min_train = torch.min(train_data_resized)\n",
        "\n",
        "max_train, min_train"
      ],
      "metadata": {
        "colab": {
          "base_uri": "https://localhost:8080/"
        },
        "id": "8FZaG2z0PFrT",
        "outputId": "a8fdfae1-c70b-4f6c-de69-3aba6f7014ee"
      },
      "execution_count": 77,
      "outputs": [
        {
          "output_type": "execute_result",
          "data": {
            "text/plain": [
              "(tensor(1.5000), tensor(0.9356))"
            ]
          },
          "metadata": {},
          "execution_count": 77
        }
      ]
    },
    {
      "cell_type": "code",
      "source": [
        "all_timesteps = np.linspace(2, 180, 90, dtype=int)\n",
        "tMinIdx = 50 # hardcoding for now, change later to accomodate variable length sequences\n",
        "tMaxIdx = len(all_timesteps) - 1\n",
        "nTimesteps = tMaxIdx - tMinIdx + 1\n",
        "\n",
        "\n",
        "\n",
        "# scale time appropriately\n",
        "tt_raw = np.linspace(all_timesteps[tMinIdx], all_timesteps[tMaxIdx], nTimesteps)\n",
        "tt = np.linspace(0, 1, tMaxIdx - tMinIdx + 1)\n",
        "tpredict = torch.Tensor(tt).to(device)\n",
        "\n",
        "nTimesteps, tt_raw"
      ],
      "metadata": {
        "colab": {
          "base_uri": "https://localhost:8080/"
        },
        "id": "skErrSBOI1Mb",
        "outputId": "eccdf133-9c46-43ed-8c00-01338d37ec4d"
      },
      "execution_count": 66,
      "outputs": [
        {
          "output_type": "execute_result",
          "data": {
            "text/plain": [
              "(40,\n",
              " array([102., 104., 106., 108., 110., 112., 114., 116., 118., 120., 122.,\n",
              "        124., 126., 128., 130., 132., 134., 136., 138., 140., 142., 144.,\n",
              "        146., 148., 150., 152., 154., 156., 158., 160., 162., 164., 166.,\n",
              "        168., 170., 172., 174., 176., 178., 180.]))"
            ]
          },
          "metadata": {},
          "execution_count": 66
        }
      ]
    },
    {
      "cell_type": "code",
      "source": [
        "train_data = (train_data_resized[:, tMinIdx:(tMaxIdx + 1), :, :] - min_train)/(max_train - min_train)\n",
        "val_data = (val_data_resized[:, tMinIdx:(tMaxIdx + 1), :, :] - min_train)/(max_train - min_train)\n",
        "test_data = (test_data_resized[:, tMinIdx:(tMaxIdx + 1), :, :] - min_train)/(max_train - min_train)"
      ],
      "metadata": {
        "id": "G3nNXLYWPJdh"
      },
      "execution_count": 79,
      "outputs": []
    },
    {
      "cell_type": "code",
      "source": [
        "train_params_raw = cme_params_np[train_idx, :]\n",
        "valid_params_raw = cme_params_np[val_idx, :]\n",
        "test_params_raw = cme_params_np[test_idx, :]"
      ],
      "metadata": {
        "id": "AgJyY4bqPdNc"
      },
      "execution_count": 81,
      "outputs": []
    },
    {
      "cell_type": "code",
      "source": [
        "train_snaps.shape"
      ],
      "metadata": {
        "colab": {
          "base_uri": "https://localhost:8080/"
        },
        "id": "JCrrCIKrSLlh",
        "outputId": "8b1dab88-f803-47d7-d4af-834ff0d12182"
      },
      "execution_count": 96,
      "outputs": [
        {
          "output_type": "execute_result",
          "data": {
            "text/plain": [
              "torch.Size([178, 40, 1024])"
            ]
          },
          "metadata": {},
          "execution_count": 96
        }
      ]
    },
    {
      "cell_type": "code",
      "source": [
        "ntrain"
      ],
      "metadata": {
        "colab": {
          "base_uri": "https://localhost:8080/"
        },
        "id": "arCPRMIlTihA",
        "outputId": "c28cca7c-86b4-40bd-b064-0e50510ad32b"
      },
      "execution_count": 98,
      "outputs": [
        {
          "output_type": "execute_result",
          "data": {
            "text/plain": [
              "178"
            ]
          },
          "metadata": {},
          "execution_count": 98
        }
      ]
    },
    {
      "cell_type": "code",
      "source": [
        "expanded_tpredict_train = tpredict.view(1, nTimesteps, 1).expand(ntrain, nTimesteps, -1)\n",
        "expanded_tpredict_val = tpredict.view(1, nTimesteps, 1).expand(nval, nTimesteps, -1)\n",
        "expanded_tpredict_test = tpredict.view(1, nTimesteps, 1).expand(ntest, nTimesteps, -1)"
      ],
      "metadata": {
        "id": "dYxzxDbLSS8o"
      },
      "execution_count": 105,
      "outputs": []
    },
    {
      "cell_type": "code",
      "source": [
        "expanded_tpredict_train.shape"
      ],
      "metadata": {
        "colab": {
          "base_uri": "https://localhost:8080/"
        },
        "id": "LVMQUvLFTm4L",
        "outputId": "978cc921-c863-47c9-e4e0-56a194bb24e2"
      },
      "execution_count": 106,
      "outputs": [
        {
          "output_type": "execute_result",
          "data": {
            "text/plain": [
              "torch.Size([178, 40, 1])"
            ]
          },
          "metadata": {},
          "execution_count": 106
        }
      ]
    },
    {
      "cell_type": "code",
      "source": [
        "train_snaps = train_data.reshape((train_data.shape[0], train_data.shape[1], -1))\n",
        "val_snaps = val_data.reshape((val_data.shape[0], val_data.shape[1], -1))\n",
        "test_snaps = test_data.reshape((test_data.shape[0], test_data.shape[1], -1))\n",
        "\n",
        "# reshape tpredict to be the same dimensions as train snaps etc.\n",
        "\n",
        "train_snaps_concat = torch.cat((train_snaps, expanded_tpredict_train), 2)\n",
        "val_snaps_concat = torch.cat((val_snaps, expanded_tpredict_val), 2)\n",
        "test_snaps_concat = torch.cat((test_snaps, expanded_tpredict_test), 2)\n",
        "\n",
        "# repeat parameter values up to number of timesteps\n",
        "train_params_ts = np.repeat(train_params_raw.reshape((train_params_raw.shape[0], train_params_raw.shape[1], 1)), nTimesteps, axis=2)\n",
        "val_params_ts = np.repeat(valid_params_raw.reshape((valid_params_raw.shape[0], valid_params_raw.shape[1], 1)), nTimesteps, axis=2)\n",
        "test_params_ts = np.repeat(test_params_raw.reshape((test_params_raw.shape[0], test_params_raw.shape[1], 1)), nTimesteps, axis=2)\n",
        "\n",
        "# concatenate snaps and params\n",
        "train_all = torch.cat((train_snaps_concat, torch.Tensor(np.transpose(train_params_ts, (0, 2, 1)))), 2)\n",
        "val_all = torch.cat((val_snaps_concat, torch.Tensor(np.transpose(val_params_ts, (0, 2, 1)))), 2)\n",
        "test_all = torch.cat((test_snaps_concat, torch.Tensor(np.transpose(test_params_ts, (0, 2, 1)))), 2)"
      ],
      "metadata": {
        "id": "MpJb-2j5QASN"
      },
      "execution_count": 107,
      "outputs": []
    },
    {
      "cell_type": "code",
      "source": [
        "train_all.shape, val_all.shape, test_all.shape"
      ],
      "metadata": {
        "colab": {
          "base_uri": "https://localhost:8080/"
        },
        "id": "9ue5zftkT9m7",
        "outputId": "e9c31c7b-f677-4e7f-c28d-e158a8fe7931"
      },
      "execution_count": 108,
      "outputs": [
        {
          "output_type": "execute_result",
          "data": {
            "text/plain": [
              "(torch.Size([178, 40, 1034]),\n",
              " torch.Size([26, 40, 1034]),\n",
              " torch.Size([50, 40, 1034]))"
            ]
          },
          "metadata": {},
          "execution_count": 108
        }
      ]
    },
    {
      "cell_type": "code",
      "source": [
        "# concatenate times from tPredict to the last dimension for train_snaps, val_snaps, and test_snaps"
      ],
      "metadata": {
        "id": "hyZfoFt5Sga4"
      },
      "execution_count": null,
      "outputs": []
    },
    {
      "cell_type": "code",
      "source": [
        "import sklearn\n",
        "import copy\n",
        "train_arr_raw = summary_stats_np[train_idx, :]\n",
        "val_arr_raw = summary_stats_np[val_idx, :]\n",
        "test_arr_raw = summary_stats_np[test_idx, :]\n",
        "\n",
        "print(train_arr_raw.shape, val_arr_raw.shape, test_arr_raw.shape)\n",
        "\n",
        "# pt = PowerTransformer(method='box-cox')\n",
        "# pt = sklearn.preprocessing.RobustScaler()\n",
        "pt = sklearn.preprocessing.MinMaxScaler()\n",
        "pt.fit(train_arr_raw)\n",
        "\n",
        "train_arr_pt = pt.transform(train_arr_raw)\n",
        "val_arr_pt = pt.transform(val_arr_raw)\n",
        "test_arr_pt = pt.transform(test_arr_raw)"
      ],
      "metadata": {
        "colab": {
          "base_uri": "https://localhost:8080/"
        },
        "id": "oRSnnH2ZI1Gc",
        "outputId": "090d9e1c-9fe2-454b-a82f-e5370c959efe"
      },
      "execution_count": 70,
      "outputs": [
        {
          "output_type": "stream",
          "name": "stdout",
          "text": [
            "(178, 4) (26, 4) (50, 4)\n"
          ]
        }
      ]
    },
    {
      "cell_type": "code",
      "source": [
        "train_arr_ts = torch.Tensor(train_arr_pt)\n",
        "val_arr_ts = torch.Tensor(val_arr_pt)\n",
        "test_arr_ts = torch.Tensor(test_arr_pt)\n",
        "\n",
        "train_arr_raw_ts = torch.Tensor(train_arr_raw).unsqueeze(1)\n",
        "val_arr_raw_ts = torch.Tensor(val_arr_raw).unsqueeze(1)\n",
        "test_arr_raw_ts = torch.Tensor(test_arr_raw).unsqueeze(1)"
      ],
      "metadata": {
        "id": "k_4nUJswQe_2"
      },
      "execution_count": 109,
      "outputs": []
    },
    {
      "cell_type": "code",
      "source": [
        "train_dataset = []\n",
        "val_dataset = []\n",
        "test_dataset = []\n",
        "for i in range(ntrain):\n",
        "    for j in range(1, nTimesteps - 1):\n",
        "        train_dataset.append((train_all[i:(i+1), (j-1):(j+2), :], train_arr_ts[i, :], train_arr_raw_ts[i, :]))\n",
        "\n",
        "for i in range(nval):\n",
        "    for j in range(1, nTimesteps - 1):\n",
        "        val_dataset.append((val_all[i:(i+1), (j-1):(j+2), :], val_arr_ts[i, :], val_arr_raw_ts[i, :]))\n",
        "\n",
        "for i in range(ntest):\n",
        "    for j in range(1, nTimesteps - 1):\n",
        "        test_dataset.append((test_all[i:(i+1), (j-1):(j+2), :], test_arr_ts[i, :], test_arr_raw_ts[i, :]))"
      ],
      "metadata": {
        "id": "bgAoeVuEQR_z"
      },
      "execution_count": 110,
      "outputs": []
    },
    {
      "cell_type": "code",
      "source": [
        "train_dataloader = DataLoader(train_dataset,\n",
        "                              batch_size = args[\"batch_size\"],\n",
        "                              shuffle=True,\n",
        "                              )\n",
        "\n",
        "val_dataloader = DataLoader(val_dataset,\n",
        "                            batch_size = args[\"batch_size\"],\n",
        "                            shuffle=False,\n",
        "                            )\n",
        "\n",
        "test_dataloader = DataLoader(test_dataset,\n",
        "                             batch_size = len(test_dataset),\n",
        "                             shuffle=False,\n",
        "                             )"
      ],
      "metadata": {
        "id": "Q9I8eYSFQke5"
      },
      "execution_count": 111,
      "outputs": []
    },
    {
      "cell_type": "code",
      "source": [
        "len(train_dataset), len(val_dataset), len(test_dataset)"
      ],
      "metadata": {
        "colab": {
          "base_uri": "https://localhost:8080/"
        },
        "id": "HkpL5jbTQtdq",
        "outputId": "300b9cec-6b36-4d81-f700-00073f58bde5"
      },
      "execution_count": 112,
      "outputs": [
        {
          "output_type": "execute_result",
          "data": {
            "text/plain": [
              "(6764, 988, 1900)"
            ]
          },
          "metadata": {},
          "execution_count": 112
        }
      ]
    },
    {
      "cell_type": "code",
      "source": [
        "def inf_generator(iterable):\n",
        "    \"\"\"Allows training with DataLoaders in a single infinite loop:\n",
        "        for i, (x, y) in enumerate(inf_generator(train_loader)):\n",
        "    \"\"\"\n",
        "    iterator = iterable.__iter__()\n",
        "    while True:\n",
        "        try:\n",
        "            yield iterator.__next__()\n",
        "        except StopIteration:\n",
        "            iterator = iterable.__iter__()\n",
        "\n",
        "def get_next_batch(dataloader, device=torch.device(\"cuda:0\")):\n",
        "    return dataloader.__next__()"
      ],
      "metadata": {
        "id": "cCf97RC7Q5ay"
      },
      "execution_count": 94,
      "outputs": []
    },
    {
      "cell_type": "code",
      "source": [
        "def count_parameters(model):\n",
        "    return sum(p.numel() for p in model.parameters() if p.requires_grad)\n",
        "\n",
        "def update_learning_rate(optimizer, decay_rate = 0.999, lowest = 1e-3):\n",
        "    for param_group in optimizer.param_groups:\n",
        "        lr = param_group['lr']\n",
        "        lr = max(lr * decay_rate, lowest)\n",
        "        param_group['lr'] = lr\n",
        "\n",
        "def makedirs(dirname):\n",
        "    if not os.path.exists(dirname):\n",
        "        os.makedirs(dirname)\n",
        "\n",
        "def save_checkpoint(state, save, epoch):\n",
        "    if not os.path.exists(save):\n",
        "        os.makedirs(save)\n",
        "    filename = os.path.join(save, 'checkpt-%04d.pth' % epoch)\n",
        "    torch.save(state, filename)\n",
        "\n",
        "def get_ckpt_model(ckpt_path, model, optimizer, device):\n",
        "    if not os.path.exists(ckpt_path):\n",
        "        raise Exception(\"Checkpoint \" + ckpt_path + \" does not exist.\")\n",
        "    # Load checkpoint.\n",
        "    checkpt = torch.load(ckpt_path, map_location=device)\n",
        "    # # ckpt_args = checkpt['args']\n",
        "\n",
        "    model_dict = model.state_dict()\n",
        "    state_dict = checkpt['model']\n",
        "\n",
        "    # 1. filter out unnecessary keys\n",
        "    state_dict = {k: v for k, v in state_dict.items() if k in model_dict}\n",
        "    # 2. overwrite entries in the existing state dict\n",
        "    model_dict.update(state_dict)\n",
        "    # 3. load the new state dict\n",
        "    model.load_state_dict(state_dict)\n",
        "\n",
        "    # Load optimizer state.\n",
        "    optimizer.load_state_dict(checkpt['optimizer_state'])\n",
        "\n",
        "    model.to(device)\n",
        "    # optimizer.to(device)\n",
        "\n",
        "def get_logger(logpath, package_files=[], displaying=True, saving=True, debug=False):\n",
        "    logger = logging.getLogger()\n",
        "    if debug:\n",
        "        level = logging.DEBUG\n",
        "    else:\n",
        "        level = logging.INFO\n",
        "    logger.setLevel(level)\n",
        "    if saving:\n",
        "        info_file_handler = logging.FileHandler(logpath, mode=\"a\")\n",
        "        info_file_handler.setLevel(level)\n",
        "        logger.addHandler(info_file_handler)\n",
        "    if displaying:\n",
        "        console_handler = logging.StreamHandler()\n",
        "        console_handler.setLevel(level)\n",
        "        logger.addHandler(console_handler)\n",
        "\n",
        "    return logger\n",
        "\n",
        "\n",
        "class EarlyStopping:\n",
        "    \"\"\"Early stops the training if validation loss doesn't improve after a given patience.\"\"\"\n",
        "    def __init__(self, patience=5, verbose=False, delta=0,\n",
        "                 path=\"/Users/ajivani/Desktop/Research/WLROM/WhiteLight/model_stopping/model_state.pt\",\n",
        "                 trace_func=print):\n",
        "        \"\"\"\n",
        "        Args:\n",
        "            patience (int): How long to wait after last time validation loss improved.\n",
        "                            Default: 5\n",
        "            verbose (bool): If True, prints a message for each validation loss improvement.\n",
        "                            Default: False\n",
        "            delta (float): Minimum change in the monitored quantity to qualify as an improvement.\n",
        "                            Default: 0\n",
        "            path (str): Path for the checkpoint to be saved to.\n",
        "            trace_func (function): trace print function.\n",
        "                            Default: print\n",
        "        \"\"\"\n",
        "        self.patience = patience\n",
        "        self.verbose = verbose\n",
        "        self.counter = 0\n",
        "        self.best_score = None\n",
        "        self.early_stop = False\n",
        "        self.val_loss_min = np.Inf\n",
        "        self.delta = delta\n",
        "        self.path = path\n",
        "        self.trace_func = trace_func\n",
        "    def __call__(self, val_loss, all_valid_loss, all_train_loss, model, optimizer, epoch, args):\n",
        "\n",
        "        # score = -val_loss\n",
        "        score = -all_valid_loss[-1]\n",
        "\n",
        "        if self.best_score is None:\n",
        "            self.best_score = score\n",
        "            self.save_checkpoint(val_loss, all_valid_loss, all_train_loss, model, optimizer, epoch, args)\n",
        "        elif score < self.best_score + self.delta:\n",
        "            self.counter += 1\n",
        "            self.trace_func(f'EarlyStopping counter: {self.counter} out of {self.patience}')\n",
        "            if self.counter >= self.patience:\n",
        "                self.early_stop = True\n",
        "        else:\n",
        "            self.best_score = score\n",
        "            self.save_checkpoint(val_loss, all_valid_loss, all_train_loss, model, optimizer, epoch, args)\n",
        "            self.counter = 0\n",
        "\n",
        "    def save_checkpoint(self, val_loss, all_valid_loss, all_train_loss, model, optimizer, epoch, args):\n",
        "        '''Saves model when validation loss decrease.'''\n",
        "        if self.verbose:\n",
        "            # self.trace_func(f'Val loss decreased ({self.val_loss_min:.2f} to {val_loss:.2f}). Model saved')\n",
        "            self.trace_func(f'Val loss decreased ({self.val_loss_min:.2f} to {all_valid_loss[-1]:.2f}). Model saved')\n",
        "\n",
        "\n",
        "        torch.save({'epoch': epoch,\n",
        "                    'model': model.state_dict(),\n",
        "                    'optimizer_state': optimizer.state_dict(),\n",
        "                    'val_loss': val_loss,\n",
        "                    'all_train_loss': all_train_loss,\n",
        "                    'all_valid_loss': all_valid_loss,\n",
        "                    'args': args,\n",
        "                    },\n",
        "                    self.path)\n",
        "        # torch.save(model.state_dict(), self.path)\n",
        "        # self.val_loss_min = val_loss\n",
        "        self.val_loss_min = all_valid_loss[-1]\n"
      ],
      "metadata": {
        "id": "6uWQTh9-WXxv"
      },
      "execution_count": 123,
      "outputs": []
    },
    {
      "cell_type": "code",
      "source": [
        "class WLCNN_Discrete(torch.nn.Module):\n",
        "    def __init__(self, n_hidden_1,\n",
        "                  n_hidden_2):\n",
        "        super(WLCNN_Discrete, self).__init__()\n",
        "        in_channels = 3\n",
        "\n",
        "        self.features = torch.nn.Sequential(\n",
        "            nn.Conv2d(in_channels, 8, kernel_size=3, stride=1, padding=1),\n",
        "            nn.BatchNorm2d(8),\n",
        "            nn.ELU(),\n",
        "            nn.Conv2d(8, 16, kernel_size=5, stride=3, padding=3),\n",
        "            nn.BatchNorm2d(16),\n",
        "            nn.ELU(),\n",
        "            # nn.ELU(),\n",
        "            # nn.Conv2d(32, 64, kernel_size=7, stride=1, padding=1),\n",
        "            # nn.BatchNorm2d(64),\n",
        "            # nn.ELU(),\n",
        "            nn.MaxPool2d(kernel_size=3, stride=1),\n",
        "        )\n",
        "\n",
        "        self.regressor = torch.nn.Sequential(\n",
        "            # nn.Linear(1280, n_hidden_1),\n",
        "            nn.Linear(1284 + in_channels + 5, n_hidden_1),\n",
        "            nn.BatchNorm1d(n_hidden_1),\n",
        "            nn.ELU(),\n",
        "            nn.Dropout(p=0.5),\n",
        "            nn.Linear(n_hidden_1, n_hidden_2),\n",
        "            nn.BatchNorm1d(n_hidden_2),\n",
        "            nn.Dropout(p=0.5),\n",
        "            nn.ELU(),\n",
        "            nn.Linear(n_hidden_2, 4)\n",
        "        )\n",
        "\n",
        "    def forward(self, x):\n",
        "        x_ip = x[:, 0, :, :1024].reshape(-1, 3, 16, 64)\n",
        "        x_param = x[:, 0, 0, 1025:]\n",
        "        x_t = x[:, 0, :, 1024]\n",
        "\n",
        "        x_ft = self.features(x_ip)\n",
        "\n",
        "        x_ft = torch.flatten(x_ft, 1)\n",
        "\n",
        "        x_ft_cat = torch.cat((x_ft, x_t, x_param), 1)\n",
        "        # xpred = self.regressor(x_ft)\n",
        "        xpred = self.regressor(x_ft_cat)\n",
        "\n",
        "        return xpred"
      ],
      "metadata": {
        "id": "AXOTjCQlQ-Wr"
      },
      "execution_count": 126,
      "outputs": []
    },
    {
      "cell_type": "code",
      "source": [
        "# !pip install --quiet torchdiffeq\n",
        "import pandas as pd\n",
        "# import node_utils as nut\n",
        "# import data_utils as dut\n",
        "# import copy"
      ],
      "metadata": {
        "id": "WeHiNCjjVGvW"
      },
      "execution_count": 127,
      "outputs": []
    },
    {
      "cell_type": "code",
      "source": [
        "model = WLCNN_Discrete(n_hidden_1=16,\n",
        "                       n_hidden_2=8).to(device)\n",
        "pmodel = count_parameters(model)\n",
        "\n",
        "\n",
        "print(\"Total number of parameters for model with concatenation: \", pmodel)\n",
        "\n",
        "makedirs(os.path.join(os.getcwd(), \"arr_logs\"))\n",
        "logdir = os.path.join(os.getcwd(), \"arr_logs\")\n",
        "\n",
        "exptdir = os.path.join(os.getcwd(), args[\"save\"])\n",
        "makedirs(exptdir)\n",
        "\n",
        "if args[\"load\"] is not None:\n",
        "    experimentID = args[\"load\"]\n",
        "    print(\"Loading experiment\")\n",
        "else:\n",
        "    if args[\"do_warm_start\"]==True:\n",
        "        experimentID = args[\"warm_start\"]\n",
        "        print(\"Warm starting previous experiment\")\n",
        "    else:\n",
        "        experimentID = int(SystemRandom().random() * 1e5)\n",
        "        print(\"Starting New experiment\")\n",
        "\n",
        "print(\"Experiment ID: \", experimentID)\n",
        "\n",
        "ckpt_path = ckpt_path = os.path.join(exptdir, \"experiment_\" + str(experimentID) + '.ckpt')\n",
        "\n",
        "print(\"Checkpoint path: \", ckpt_path)\n",
        "\n",
        "logger = get_logger(logpath=os.path.join(logdir, \"experiment_\" + str(experimentID) + '.log'))\n",
        "\n",
        "logger.info(os.getcwd())\n",
        "logger.info(model)\n",
        "logger.info(\"Number of parameters: {}\".format(pmodel))\n",
        "logger.info(args)\n",
        "logger.info(ckpt_path)\n",
        "logger.info(device)"
      ],
      "metadata": {
        "colab": {
          "base_uri": "https://localhost:8080/"
        },
        "id": "8jVFc1zvWzHC",
        "outputId": "373abc60-3c84-4068-e82c-525a858ab455"
      },
      "execution_count": 128,
      "outputs": [
        {
          "output_type": "stream",
          "name": "stderr",
          "text": [
            "INFO:root:/content\n",
            "/content\n",
            "/content\n",
            "INFO:root:WLCNN_Discrete(\n",
            "  (features): Sequential(\n",
            "    (0): Conv2d(3, 8, kernel_size=(3, 3), stride=(1, 1), padding=(1, 1))\n",
            "    (1): BatchNorm2d(8, eps=1e-05, momentum=0.1, affine=True, track_running_stats=True)\n",
            "    (2): ELU(alpha=1.0)\n",
            "    (3): Conv2d(8, 16, kernel_size=(5, 5), stride=(3, 3), padding=(3, 3))\n",
            "    (4): BatchNorm2d(16, eps=1e-05, momentum=0.1, affine=True, track_running_stats=True)\n",
            "    (5): ELU(alpha=1.0)\n",
            "    (6): MaxPool2d(kernel_size=3, stride=1, padding=0, dilation=1, ceil_mode=False)\n",
            "  )\n",
            "  (regressor): Sequential(\n",
            "    (0): Linear(in_features=1292, out_features=16, bias=True)\n",
            "    (1): BatchNorm1d(16, eps=1e-05, momentum=0.1, affine=True, track_running_stats=True)\n",
            "    (2): ELU(alpha=1.0)\n",
            "    (3): Dropout(p=0.5, inplace=False)\n",
            "    (4): Linear(in_features=16, out_features=8, bias=True)\n",
            "    (5): BatchNorm1d(8, eps=1e-05, momentum=0.1, affine=True, track_running_stats=True)\n",
            "    (6): Dropout(p=0.5, inplace=False)\n",
            "    (7): ELU(alpha=1.0)\n",
            "    (8): Linear(in_features=8, out_features=4, bias=True)\n",
            "  )\n",
            ")\n",
            "WLCNN_Discrete(\n",
            "  (features): Sequential(\n",
            "    (0): Conv2d(3, 8, kernel_size=(3, 3), stride=(1, 1), padding=(1, 1))\n",
            "    (1): BatchNorm2d(8, eps=1e-05, momentum=0.1, affine=True, track_running_stats=True)\n",
            "    (2): ELU(alpha=1.0)\n",
            "    (3): Conv2d(8, 16, kernel_size=(5, 5), stride=(3, 3), padding=(3, 3))\n",
            "    (4): BatchNorm2d(16, eps=1e-05, momentum=0.1, affine=True, track_running_stats=True)\n",
            "    (5): ELU(alpha=1.0)\n",
            "    (6): MaxPool2d(kernel_size=3, stride=1, padding=0, dilation=1, ceil_mode=False)\n",
            "  )\n",
            "  (regressor): Sequential(\n",
            "    (0): Linear(in_features=1292, out_features=16, bias=True)\n",
            "    (1): BatchNorm1d(16, eps=1e-05, momentum=0.1, affine=True, track_running_stats=True)\n",
            "    (2): ELU(alpha=1.0)\n",
            "    (3): Dropout(p=0.5, inplace=False)\n",
            "    (4): Linear(in_features=16, out_features=8, bias=True)\n",
            "    (5): BatchNorm1d(8, eps=1e-05, momentum=0.1, affine=True, track_running_stats=True)\n",
            "    (6): Dropout(p=0.5, inplace=False)\n",
            "    (7): ELU(alpha=1.0)\n",
            "    (8): Linear(in_features=8, out_features=4, bias=True)\n",
            "  )\n",
            ")\n",
            "WLCNN_Discrete(\n",
            "  (features): Sequential(\n",
            "    (0): Conv2d(3, 8, kernel_size=(3, 3), stride=(1, 1), padding=(1, 1))\n",
            "    (1): BatchNorm2d(8, eps=1e-05, momentum=0.1, affine=True, track_running_stats=True)\n",
            "    (2): ELU(alpha=1.0)\n",
            "    (3): Conv2d(8, 16, kernel_size=(5, 5), stride=(3, 3), padding=(3, 3))\n",
            "    (4): BatchNorm2d(16, eps=1e-05, momentum=0.1, affine=True, track_running_stats=True)\n",
            "    (5): ELU(alpha=1.0)\n",
            "    (6): MaxPool2d(kernel_size=3, stride=1, padding=0, dilation=1, ceil_mode=False)\n",
            "  )\n",
            "  (regressor): Sequential(\n",
            "    (0): Linear(in_features=1292, out_features=16, bias=True)\n",
            "    (1): BatchNorm1d(16, eps=1e-05, momentum=0.1, affine=True, track_running_stats=True)\n",
            "    (2): ELU(alpha=1.0)\n",
            "    (3): Dropout(p=0.5, inplace=False)\n",
            "    (4): Linear(in_features=16, out_features=8, bias=True)\n",
            "    (5): BatchNorm1d(8, eps=1e-05, momentum=0.1, affine=True, track_running_stats=True)\n",
            "    (6): Dropout(p=0.5, inplace=False)\n",
            "    (7): ELU(alpha=1.0)\n",
            "    (8): Linear(in_features=8, out_features=4, bias=True)\n",
            "  )\n",
            ")\n",
            "INFO:root:Number of parameters: 24396\n",
            "Number of parameters: 24396\n",
            "Number of parameters: 24396\n",
            "INFO:root:{'niters': 450, 'lr': 0.001, 'save': 'arr_experiments/', 'load': None, 'r': 1991, 'resize_dims': (16, 64), 'param_scaling': [1, 1], 'warm_start': 20376, 'do_warm_start': False, 'loss': 'mae', 'batch_size': 64, 'dropout': False}\n",
            "{'niters': 450, 'lr': 0.001, 'save': 'arr_experiments/', 'load': None, 'r': 1991, 'resize_dims': (16, 64), 'param_scaling': [1, 1], 'warm_start': 20376, 'do_warm_start': False, 'loss': 'mae', 'batch_size': 64, 'dropout': False}\n",
            "{'niters': 450, 'lr': 0.001, 'save': 'arr_experiments/', 'load': None, 'r': 1991, 'resize_dims': (16, 64), 'param_scaling': [1, 1], 'warm_start': 20376, 'do_warm_start': False, 'loss': 'mae', 'batch_size': 64, 'dropout': False}\n",
            "INFO:root:/content/arr_experiments/experiment_97258.ckpt\n",
            "/content/arr_experiments/experiment_97258.ckpt\n",
            "/content/arr_experiments/experiment_97258.ckpt\n",
            "INFO:root:cpu\n",
            "cpu\n",
            "cpu\n"
          ]
        },
        {
          "output_type": "stream",
          "name": "stdout",
          "text": [
            "Total number of parameters for model with concatenation:  24396\n",
            "Starting New experiment\n",
            "Experiment ID:  97258\n",
            "Checkpoint path:  /content/arr_experiments/experiment_97258.ckpt\n"
          ]
        }
      ]
    },
    {
      "cell_type": "markdown",
      "source": [
        "Concatenate time-of-frame with features"
      ],
      "metadata": {
        "id": "4-O1Vk_UBHdS"
      }
    },
    {
      "cell_type": "code",
      "source": [
        "optimizer = optim.Adam(model.parameters(), lr=args[\"lr\"])\n",
        "if args[\"loss\"] == \"smooth_l1\":\n",
        "    criterion = nn.SmoothL1Loss().to(device)\n",
        "elif args[\"loss\"] == \"mae\":\n",
        "    criterion = nn.L1Loss().to(device)\n",
        "elif args[\"loss\"] == \"mse\":\n",
        "    criterion = nn.MSELoss().to(device)\n",
        "\n",
        "# criterion = InverseBoxCoxLoss(pt)\n",
        "\n",
        "print(criterion)\n",
        "early_stopping = EarlyStopping(patience=20,\n",
        "                                verbose=True,\n",
        "                                path=ckpt_path)\n",
        "\n",
        "scheduler = torch.optim.lr_scheduler.ReduceLROnPlateau(optimizer, 'min', factor=0.6, patience=40)\n",
        "N_EPOCHS = args[\"niters\"]\n",
        "\n",
        "num_batches = 1\n",
        "all_train_loss = []\n",
        "all_valid_loss = []\n",
        "ckpt_freq = 10\n",
        "if args[\"load\"] is None:\n",
        "    if args[\"do_warm_start\"] == True:\n",
        "        checkpoint = torch.load(ckpt_path)\n",
        "        model.load_state_dict(checkpoint['model'])\n",
        "        start_epoch = checkpoint['epoch']\n",
        "        optimizer.load_state_dict(checkpoint['optimizer_state'])\n",
        "        print(\"Warm Starting Experiment {} from Epoch {}\".format(experimentID, start_epoch))\n",
        "    else:\n",
        "        start_epoch = 0\n",
        "        print(\"Starting a new experiment {} from Epoch {}\".format(experimentID, start_epoch))\n",
        "\n",
        "    # Resume training from specific epoch\n",
        "    for itr in track(range(start_epoch + 1, num_batches * (args[\"niters\"] + 1)), description=\"Looping over epochs...\"):\n",
        "        train_loss = 0.0\n",
        "        valid_loss = 0.0\n",
        "        model.train()\n",
        "        optimizer.zero_grad()\n",
        "\n",
        "        for i, (raw_img, arr_target_scaled, arr_target) in enumerate(train_dataloader):\n",
        "            raw_img = raw_img.to(device)\n",
        "            # arr_target = arr_target.to(device)\n",
        "            arr_target = arr_target_scaled.to(device)\n",
        "\n",
        "            # Forward pass\n",
        "            arr_pred = model(raw_img)\n",
        "\n",
        "            # Compute Loss\n",
        "            loss = criterion(arr_pred, arr_target)\n",
        "\n",
        "            # Backward pass\n",
        "            loss.backward()\n",
        "            optimizer.step()\n",
        "            train_loss += loss.item()\n",
        "\n",
        "        model.eval()\n",
        "        with torch.no_grad():\n",
        "            for i, (raw_img_val, arr_target_val_scaled, arr_target_val) in enumerate(val_dataloader):\n",
        "                raw_img_val = raw_img_val.to(device)\n",
        "                # arr_target_val = arr_target_val.to(device)\n",
        "                arr_target_val = arr_target_val_scaled.to(device)\n",
        "\n",
        "                # Forward pass\n",
        "                arr_pred_val = model(raw_img_val)\n",
        "\n",
        "                val_loss = criterion(arr_pred_val, arr_target_val)\n",
        "\n",
        "                valid_loss += val_loss.item()\n",
        "\n",
        "        train_loss = train_loss / len(train_dataloader)\n",
        "        valid_loss = valid_loss / len(val_dataloader)\n",
        "\n",
        "        all_train_loss.append(train_loss)\n",
        "        all_valid_loss.append(valid_loss)\n",
        "\n",
        "\n",
        "        message = 'Epoch {:04d}|Val loss {:.6e}|Train loss {:.6e}|LR {:.5f}|'.format(\n",
        "                        itr//num_batches,\n",
        "                        valid_loss,\n",
        "                        train_loss,\n",
        "                        optimizer.param_groups[0][\"lr\"])\n",
        "\n",
        "        logger.info(message)\n",
        "        scheduler.step(valid_loss)\n",
        "\n",
        "        if itr % ckpt_freq == 0:\n",
        "            early_stopping(val_loss, all_valid_loss, all_train_loss, model, optimizer, itr, args)\n",
        "\n",
        "        if early_stopping.early_stop:\n",
        "            logger.info(\"Early stopping\")\n",
        "            torch.save({'epoch': itr,\n",
        "                    'model': model.state_dict(),\n",
        "                    'optimizer_state': optimizer.state_dict(),\n",
        "                    'val_loss': val_loss,\n",
        "                    'all_train_loss': all_train_loss,\n",
        "                    'all_valid_loss': all_valid_loss,\n",
        "                    'args': args},\n",
        "                    os.path.join(args[\"save\"], \"experiment_\" + str(experimentID) + \"_earlystopping.ckpt\"))\n",
        "            break\n",
        "else:\n",
        "    # check if early stopped model is available!\n",
        "    early_stop_filepath = os.path.join(args[\"save\"], \"experiment_\" + str(experimentID) + \"_earlystopping.ckpt\")\n",
        "\n",
        "    if os.path.exists(early_stop_filepath):\n",
        "        if args[\"load\"] == 56:\n",
        "            early_stp_ckpt = torch.load(early_stop_filepath)\n",
        "            model.load_state_dict(early_stp_ckpt)\n",
        "        else:\n",
        "            get_ckpt_model(early_stop_filepath, model, optimizer, device)\n",
        "        print(\"Loading early stopped model ID {} from {}\".format(experimentID, early_stop_filepath))\n",
        "    else:\n",
        "        get_ckpt_model(ckpt_path, model, optimizer, device)\n",
        "        print(\"Loading existing model ID {} from {}\".format(experimentID, ckpt_path))"
      ],
      "metadata": {
        "colab": {
          "base_uri": "https://localhost:8080/",
          "height": 1000,
          "referenced_widgets": [
            "1a9f6f3967f04ef79e57d68996ddc237",
            "aac036328c1140ab90e413ba6093b107"
          ]
        },
        "id": "fCMJ3iUjXDRm",
        "outputId": "d81f0c70-5956-4dab-fde4-00f5100ebb11"
      },
      "execution_count": 129,
      "outputs": [
        {
          "output_type": "display_data",
          "data": {
            "text/plain": [
              "Output()"
            ],
            "application/vnd.jupyter.widget-view+json": {
              "version_major": 2,
              "version_minor": 0,
              "model_id": "1a9f6f3967f04ef79e57d68996ddc237"
            }
          },
          "metadata": {}
        },
        {
          "output_type": "stream",
          "name": "stdout",
          "text": [
            "L1Loss()\n",
            "Starting a new experiment 97258 from Epoch 0\n"
          ]
        },
        {
          "output_type": "stream",
          "name": "stderr",
          "text": [
            "INFO:root:Epoch 0001|Val loss 1.746047e-01|Train loss 3.644094e-01|LR 0.00100|\n",
            "Epoch 0001|Val loss 1.746047e-01|Train loss 3.644094e-01|LR 0.00100|\n",
            "Epoch 0001|Val loss 1.746047e-01|Train loss 3.644094e-01|LR 0.00100|\n",
            "INFO:root:Epoch 0002|Val loss 1.820629e-01|Train loss 2.242003e-01|LR 0.00100|\n",
            "Epoch 0002|Val loss 1.820629e-01|Train loss 2.242003e-01|LR 0.00100|\n",
            "Epoch 0002|Val loss 1.820629e-01|Train loss 2.242003e-01|LR 0.00100|\n",
            "INFO:root:Epoch 0003|Val loss 1.341128e-01|Train loss 1.793833e-01|LR 0.00100|\n",
            "Epoch 0003|Val loss 1.341128e-01|Train loss 1.793833e-01|LR 0.00100|\n",
            "Epoch 0003|Val loss 1.341128e-01|Train loss 1.793833e-01|LR 0.00100|\n",
            "INFO:root:Epoch 0004|Val loss 1.547682e-01|Train loss 1.581601e-01|LR 0.00100|\n",
            "Epoch 0004|Val loss 1.547682e-01|Train loss 1.581601e-01|LR 0.00100|\n",
            "Epoch 0004|Val loss 1.547682e-01|Train loss 1.581601e-01|LR 0.00100|\n",
            "INFO:root:Epoch 0005|Val loss 1.223705e-01|Train loss 1.464092e-01|LR 0.00100|\n",
            "Epoch 0005|Val loss 1.223705e-01|Train loss 1.464092e-01|LR 0.00100|\n",
            "Epoch 0005|Val loss 1.223705e-01|Train loss 1.464092e-01|LR 0.00100|\n",
            "INFO:root:Epoch 0006|Val loss 1.307397e-01|Train loss 1.412240e-01|LR 0.00100|\n",
            "Epoch 0006|Val loss 1.307397e-01|Train loss 1.412240e-01|LR 0.00100|\n",
            "Epoch 0006|Val loss 1.307397e-01|Train loss 1.412240e-01|LR 0.00100|\n",
            "INFO:root:Epoch 0007|Val loss 1.102089e-01|Train loss 1.318471e-01|LR 0.00100|\n",
            "Epoch 0007|Val loss 1.102089e-01|Train loss 1.318471e-01|LR 0.00100|\n",
            "Epoch 0007|Val loss 1.102089e-01|Train loss 1.318471e-01|LR 0.00100|\n",
            "INFO:root:Epoch 0008|Val loss 1.298361e-01|Train loss 1.285328e-01|LR 0.00100|\n",
            "Epoch 0008|Val loss 1.298361e-01|Train loss 1.285328e-01|LR 0.00100|\n",
            "Epoch 0008|Val loss 1.298361e-01|Train loss 1.285328e-01|LR 0.00100|\n",
            "INFO:root:Epoch 0009|Val loss 1.113302e-01|Train loss 1.281083e-01|LR 0.00100|\n",
            "Epoch 0009|Val loss 1.113302e-01|Train loss 1.281083e-01|LR 0.00100|\n",
            "Epoch 0009|Val loss 1.113302e-01|Train loss 1.281083e-01|LR 0.00100|\n",
            "INFO:root:Epoch 0010|Val loss 1.250234e-01|Train loss 1.263067e-01|LR 0.00100|\n",
            "Epoch 0010|Val loss 1.250234e-01|Train loss 1.263067e-01|LR 0.00100|\n",
            "Epoch 0010|Val loss 1.250234e-01|Train loss 1.263067e-01|LR 0.00100|\n"
          ]
        },
        {
          "output_type": "display_data",
          "data": {
            "text/plain": [
              "Val loss decreased (inf to 0.13). Model saved\n"
            ],
            "text/html": [
              "<pre style=\"white-space:pre;overflow-x:auto;line-height:normal;font-family:Menlo,'DejaVu Sans Mono',consolas,'Courier New',monospace\">Val loss decreased (inf to 0.13). Model saved\n",
              "</pre>\n"
            ]
          },
          "metadata": {}
        },
        {
          "output_type": "stream",
          "name": "stderr",
          "text": [
            "INFO:root:Epoch 0011|Val loss 1.275078e-01|Train loss 1.264012e-01|LR 0.00100|\n",
            "Epoch 0011|Val loss 1.275078e-01|Train loss 1.264012e-01|LR 0.00100|\n",
            "Epoch 0011|Val loss 1.275078e-01|Train loss 1.264012e-01|LR 0.00100|\n",
            "INFO:root:Epoch 0012|Val loss 1.384353e-01|Train loss 1.273029e-01|LR 0.00100|\n",
            "Epoch 0012|Val loss 1.384353e-01|Train loss 1.273029e-01|LR 0.00100|\n",
            "Epoch 0012|Val loss 1.384353e-01|Train loss 1.273029e-01|LR 0.00100|\n",
            "INFO:root:Epoch 0013|Val loss 1.218463e-01|Train loss 1.266774e-01|LR 0.00100|\n",
            "Epoch 0013|Val loss 1.218463e-01|Train loss 1.266774e-01|LR 0.00100|\n",
            "Epoch 0013|Val loss 1.218463e-01|Train loss 1.266774e-01|LR 0.00100|\n",
            "INFO:root:Epoch 0014|Val loss 1.149527e-01|Train loss 1.233898e-01|LR 0.00100|\n",
            "Epoch 0014|Val loss 1.149527e-01|Train loss 1.233898e-01|LR 0.00100|\n",
            "Epoch 0014|Val loss 1.149527e-01|Train loss 1.233898e-01|LR 0.00100|\n",
            "INFO:root:Epoch 0015|Val loss 1.245231e-01|Train loss 1.240030e-01|LR 0.00100|\n",
            "Epoch 0015|Val loss 1.245231e-01|Train loss 1.240030e-01|LR 0.00100|\n",
            "Epoch 0015|Val loss 1.245231e-01|Train loss 1.240030e-01|LR 0.00100|\n",
            "INFO:root:Epoch 0016|Val loss 1.195576e-01|Train loss 1.276913e-01|LR 0.00100|\n",
            "Epoch 0016|Val loss 1.195576e-01|Train loss 1.276913e-01|LR 0.00100|\n",
            "Epoch 0016|Val loss 1.195576e-01|Train loss 1.276913e-01|LR 0.00100|\n",
            "INFO:root:Epoch 0017|Val loss 1.181085e-01|Train loss 1.250553e-01|LR 0.00100|\n",
            "Epoch 0017|Val loss 1.181085e-01|Train loss 1.250553e-01|LR 0.00100|\n",
            "Epoch 0017|Val loss 1.181085e-01|Train loss 1.250553e-01|LR 0.00100|\n",
            "INFO:root:Epoch 0018|Val loss 1.128167e-01|Train loss 1.259406e-01|LR 0.00100|\n",
            "Epoch 0018|Val loss 1.128167e-01|Train loss 1.259406e-01|LR 0.00100|\n",
            "Epoch 0018|Val loss 1.128167e-01|Train loss 1.259406e-01|LR 0.00100|\n",
            "INFO:root:Epoch 0019|Val loss 1.027937e-01|Train loss 1.272914e-01|LR 0.00100|\n",
            "Epoch 0019|Val loss 1.027937e-01|Train loss 1.272914e-01|LR 0.00100|\n",
            "Epoch 0019|Val loss 1.027937e-01|Train loss 1.272914e-01|LR 0.00100|\n",
            "INFO:root:Epoch 0020|Val loss 1.058305e-01|Train loss 1.183759e-01|LR 0.00100|\n",
            "Epoch 0020|Val loss 1.058305e-01|Train loss 1.183759e-01|LR 0.00100|\n",
            "Epoch 0020|Val loss 1.058305e-01|Train loss 1.183759e-01|LR 0.00100|\n"
          ]
        },
        {
          "output_type": "display_data",
          "data": {
            "text/plain": [
              "Val loss decreased (0.13 to 0.11). Model saved\n"
            ],
            "text/html": [
              "<pre style=\"white-space:pre;overflow-x:auto;line-height:normal;font-family:Menlo,'DejaVu Sans Mono',consolas,'Courier New',monospace\">Val loss decreased (0.13 to 0.11). Model saved\n",
              "</pre>\n"
            ]
          },
          "metadata": {}
        },
        {
          "output_type": "stream",
          "name": "stderr",
          "text": [
            "INFO:root:Epoch 0021|Val loss 9.633069e-02|Train loss 1.178126e-01|LR 0.00100|\n",
            "Epoch 0021|Val loss 9.633069e-02|Train loss 1.178126e-01|LR 0.00100|\n",
            "Epoch 0021|Val loss 9.633069e-02|Train loss 1.178126e-01|LR 0.00100|\n",
            "INFO:root:Epoch 0022|Val loss 1.033448e-01|Train loss 1.177011e-01|LR 0.00100|\n",
            "Epoch 0022|Val loss 1.033448e-01|Train loss 1.177011e-01|LR 0.00100|\n",
            "Epoch 0022|Val loss 1.033448e-01|Train loss 1.177011e-01|LR 0.00100|\n",
            "INFO:root:Epoch 0023|Val loss 9.851985e-02|Train loss 1.180474e-01|LR 0.00100|\n",
            "Epoch 0023|Val loss 9.851985e-02|Train loss 1.180474e-01|LR 0.00100|\n",
            "Epoch 0023|Val loss 9.851985e-02|Train loss 1.180474e-01|LR 0.00100|\n",
            "INFO:root:Epoch 0024|Val loss 1.047349e-01|Train loss 1.184280e-01|LR 0.00100|\n",
            "Epoch 0024|Val loss 1.047349e-01|Train loss 1.184280e-01|LR 0.00100|\n",
            "Epoch 0024|Val loss 1.047349e-01|Train loss 1.184280e-01|LR 0.00100|\n",
            "INFO:root:Epoch 0025|Val loss 1.069351e-01|Train loss 1.218827e-01|LR 0.00100|\n",
            "Epoch 0025|Val loss 1.069351e-01|Train loss 1.218827e-01|LR 0.00100|\n",
            "Epoch 0025|Val loss 1.069351e-01|Train loss 1.218827e-01|LR 0.00100|\n",
            "INFO:root:Epoch 0026|Val loss 1.105227e-01|Train loss 1.210112e-01|LR 0.00100|\n",
            "Epoch 0026|Val loss 1.105227e-01|Train loss 1.210112e-01|LR 0.00100|\n",
            "Epoch 0026|Val loss 1.105227e-01|Train loss 1.210112e-01|LR 0.00100|\n",
            "INFO:root:Epoch 0027|Val loss 1.074048e-01|Train loss 1.223395e-01|LR 0.00100|\n",
            "Epoch 0027|Val loss 1.074048e-01|Train loss 1.223395e-01|LR 0.00100|\n",
            "Epoch 0027|Val loss 1.074048e-01|Train loss 1.223395e-01|LR 0.00100|\n",
            "INFO:root:Epoch 0028|Val loss 1.214911e-01|Train loss 1.244396e-01|LR 0.00100|\n",
            "Epoch 0028|Val loss 1.214911e-01|Train loss 1.244396e-01|LR 0.00100|\n",
            "Epoch 0028|Val loss 1.214911e-01|Train loss 1.244396e-01|LR 0.00100|\n",
            "INFO:root:Epoch 0029|Val loss 9.955507e-02|Train loss 1.267413e-01|LR 0.00100|\n",
            "Epoch 0029|Val loss 9.955507e-02|Train loss 1.267413e-01|LR 0.00100|\n",
            "Epoch 0029|Val loss 9.955507e-02|Train loss 1.267413e-01|LR 0.00100|\n",
            "INFO:root:Epoch 0030|Val loss 1.226109e-01|Train loss 1.254538e-01|LR 0.00100|\n",
            "Epoch 0030|Val loss 1.226109e-01|Train loss 1.254538e-01|LR 0.00100|\n",
            "Epoch 0030|Val loss 1.226109e-01|Train loss 1.254538e-01|LR 0.00100|\n"
          ]
        },
        {
          "output_type": "display_data",
          "data": {
            "text/plain": [
              "EarlyStopping counter: 1 out of 20\n"
            ],
            "text/html": [
              "<pre style=\"white-space:pre;overflow-x:auto;line-height:normal;font-family:Menlo,'DejaVu Sans Mono',consolas,'Courier New',monospace\">EarlyStopping counter: 1 out of 20\n",
              "</pre>\n"
            ]
          },
          "metadata": {}
        },
        {
          "output_type": "stream",
          "name": "stderr",
          "text": [
            "INFO:root:Epoch 0031|Val loss 1.019657e-01|Train loss 1.242272e-01|LR 0.00100|\n",
            "Epoch 0031|Val loss 1.019657e-01|Train loss 1.242272e-01|LR 0.00100|\n",
            "Epoch 0031|Val loss 1.019657e-01|Train loss 1.242272e-01|LR 0.00100|\n",
            "INFO:root:Epoch 0032|Val loss 1.139589e-01|Train loss 1.233253e-01|LR 0.00100|\n",
            "Epoch 0032|Val loss 1.139589e-01|Train loss 1.233253e-01|LR 0.00100|\n",
            "Epoch 0032|Val loss 1.139589e-01|Train loss 1.233253e-01|LR 0.00100|\n",
            "INFO:root:Epoch 0033|Val loss 1.035740e-01|Train loss 1.223772e-01|LR 0.00100|\n",
            "Epoch 0033|Val loss 1.035740e-01|Train loss 1.223772e-01|LR 0.00100|\n",
            "Epoch 0033|Val loss 1.035740e-01|Train loss 1.223772e-01|LR 0.00100|\n",
            "INFO:root:Epoch 0034|Val loss 1.056792e-01|Train loss 1.195605e-01|LR 0.00100|\n",
            "Epoch 0034|Val loss 1.056792e-01|Train loss 1.195605e-01|LR 0.00100|\n",
            "Epoch 0034|Val loss 1.056792e-01|Train loss 1.195605e-01|LR 0.00100|\n",
            "INFO:root:Epoch 0035|Val loss 9.802537e-02|Train loss 1.170238e-01|LR 0.00100|\n",
            "Epoch 0035|Val loss 9.802537e-02|Train loss 1.170238e-01|LR 0.00100|\n",
            "Epoch 0035|Val loss 9.802537e-02|Train loss 1.170238e-01|LR 0.00100|\n",
            "INFO:root:Epoch 0036|Val loss 1.147990e-01|Train loss 1.148953e-01|LR 0.00100|\n",
            "Epoch 0036|Val loss 1.147990e-01|Train loss 1.148953e-01|LR 0.00100|\n",
            "Epoch 0036|Val loss 1.147990e-01|Train loss 1.148953e-01|LR 0.00100|\n",
            "INFO:root:Epoch 0037|Val loss 9.746561e-02|Train loss 1.177362e-01|LR 0.00100|\n",
            "Epoch 0037|Val loss 9.746561e-02|Train loss 1.177362e-01|LR 0.00100|\n",
            "Epoch 0037|Val loss 9.746561e-02|Train loss 1.177362e-01|LR 0.00100|\n",
            "INFO:root:Epoch 0038|Val loss 1.324082e-01|Train loss 1.184863e-01|LR 0.00100|\n",
            "Epoch 0038|Val loss 1.324082e-01|Train loss 1.184863e-01|LR 0.00100|\n",
            "Epoch 0038|Val loss 1.324082e-01|Train loss 1.184863e-01|LR 0.00100|\n",
            "INFO:root:Epoch 0039|Val loss 9.849731e-02|Train loss 1.204730e-01|LR 0.00100|\n",
            "Epoch 0039|Val loss 9.849731e-02|Train loss 1.204730e-01|LR 0.00100|\n",
            "Epoch 0039|Val loss 9.849731e-02|Train loss 1.204730e-01|LR 0.00100|\n",
            "INFO:root:Epoch 0040|Val loss 1.088814e-01|Train loss 1.166345e-01|LR 0.00100|\n",
            "Epoch 0040|Val loss 1.088814e-01|Train loss 1.166345e-01|LR 0.00100|\n",
            "Epoch 0040|Val loss 1.088814e-01|Train loss 1.166345e-01|LR 0.00100|\n"
          ]
        },
        {
          "output_type": "display_data",
          "data": {
            "text/plain": [
              "EarlyStopping counter: 2 out of 20\n"
            ],
            "text/html": [
              "<pre style=\"white-space:pre;overflow-x:auto;line-height:normal;font-family:Menlo,'DejaVu Sans Mono',consolas,'Courier New',monospace\">EarlyStopping counter: 2 out of 20\n",
              "</pre>\n"
            ]
          },
          "metadata": {}
        },
        {
          "output_type": "stream",
          "name": "stderr",
          "text": [
            "INFO:root:Epoch 0041|Val loss 1.228111e-01|Train loss 1.176744e-01|LR 0.00100|\n",
            "Epoch 0041|Val loss 1.228111e-01|Train loss 1.176744e-01|LR 0.00100|\n",
            "Epoch 0041|Val loss 1.228111e-01|Train loss 1.176744e-01|LR 0.00100|\n",
            "INFO:root:Epoch 0042|Val loss 1.115259e-01|Train loss 1.169621e-01|LR 0.00100|\n",
            "Epoch 0042|Val loss 1.115259e-01|Train loss 1.169621e-01|LR 0.00100|\n",
            "INFO:root:Epoch 0043|Val loss 1.042778e-01|Train loss 1.186064e-01|LR 0.00100|\n",
            "Epoch 0043|Val loss 1.042778e-01|Train loss 1.186064e-01|LR 0.00100|\n",
            "Epoch 0043|Val loss 1.042778e-01|Train loss 1.186064e-01|LR 0.00100|\n",
            "INFO:root:Epoch 0044|Val loss 1.084587e-01|Train loss 1.196308e-01|LR 0.00100|\n",
            "Epoch 0044|Val loss 1.084587e-01|Train loss 1.196308e-01|LR 0.00100|\n",
            "Epoch 0044|Val loss 1.084587e-01|Train loss 1.196308e-01|LR 0.00100|\n",
            "INFO:root:Epoch 0045|Val loss 9.492458e-02|Train loss 1.189166e-01|LR 0.00100|\n",
            "Epoch 0045|Val loss 9.492458e-02|Train loss 1.189166e-01|LR 0.00100|\n",
            "Epoch 0045|Val loss 9.492458e-02|Train loss 1.189166e-01|LR 0.00100|\n",
            "INFO:root:Epoch 0046|Val loss 1.133700e-01|Train loss 1.193614e-01|LR 0.00100|\n",
            "Epoch 0046|Val loss 1.133700e-01|Train loss 1.193614e-01|LR 0.00100|\n",
            "Epoch 0046|Val loss 1.133700e-01|Train loss 1.193614e-01|LR 0.00100|\n",
            "INFO:root:Epoch 0047|Val loss 1.066045e-01|Train loss 1.186274e-01|LR 0.00100|\n",
            "Epoch 0047|Val loss 1.066045e-01|Train loss 1.186274e-01|LR 0.00100|\n",
            "Epoch 0047|Val loss 1.066045e-01|Train loss 1.186274e-01|LR 0.00100|\n",
            "INFO:root:Epoch 0048|Val loss 1.154969e-01|Train loss 1.181339e-01|LR 0.00100|\n",
            "Epoch 0048|Val loss 1.154969e-01|Train loss 1.181339e-01|LR 0.00100|\n",
            "Epoch 0048|Val loss 1.154969e-01|Train loss 1.181339e-01|LR 0.00100|\n",
            "INFO:root:Epoch 0049|Val loss 1.059245e-01|Train loss 1.194515e-01|LR 0.00100|\n",
            "Epoch 0049|Val loss 1.059245e-01|Train loss 1.194515e-01|LR 0.00100|\n",
            "Epoch 0049|Val loss 1.059245e-01|Train loss 1.194515e-01|LR 0.00100|\n",
            "INFO:root:Epoch 0050|Val loss 1.141046e-01|Train loss 1.153526e-01|LR 0.00100|\n",
            "Epoch 0050|Val loss 1.141046e-01|Train loss 1.153526e-01|LR 0.00100|\n",
            "Epoch 0050|Val loss 1.141046e-01|Train loss 1.153526e-01|LR 0.00100|\n"
          ]
        },
        {
          "output_type": "display_data",
          "data": {
            "text/plain": [
              "EarlyStopping counter: 3 out of 20\n"
            ],
            "text/html": [
              "<pre style=\"white-space:pre;overflow-x:auto;line-height:normal;font-family:Menlo,'DejaVu Sans Mono',consolas,'Courier New',monospace\">EarlyStopping counter: 3 out of 20\n",
              "</pre>\n"
            ]
          },
          "metadata": {}
        },
        {
          "output_type": "stream",
          "name": "stderr",
          "text": [
            "INFO:root:Epoch 0051|Val loss 1.036923e-01|Train loss 1.179936e-01|LR 0.00100|\n",
            "Epoch 0051|Val loss 1.036923e-01|Train loss 1.179936e-01|LR 0.00100|\n",
            "Epoch 0051|Val loss 1.036923e-01|Train loss 1.179936e-01|LR 0.00100|\n",
            "INFO:root:Epoch 0052|Val loss 1.198960e-01|Train loss 1.176095e-01|LR 0.00100|\n",
            "Epoch 0052|Val loss 1.198960e-01|Train loss 1.176095e-01|LR 0.00100|\n",
            "Epoch 0052|Val loss 1.198960e-01|Train loss 1.176095e-01|LR 0.00100|\n",
            "INFO:root:Epoch 0053|Val loss 9.661381e-02|Train loss 1.204873e-01|LR 0.00100|\n",
            "Epoch 0053|Val loss 9.661381e-02|Train loss 1.204873e-01|LR 0.00100|\n",
            "Epoch 0053|Val loss 9.661381e-02|Train loss 1.204873e-01|LR 0.00100|\n",
            "INFO:root:Epoch 0054|Val loss 1.095968e-01|Train loss 1.130597e-01|LR 0.00100|\n",
            "Epoch 0054|Val loss 1.095968e-01|Train loss 1.130597e-01|LR 0.00100|\n",
            "Epoch 0054|Val loss 1.095968e-01|Train loss 1.130597e-01|LR 0.00100|\n",
            "INFO:root:Epoch 0055|Val loss 1.042287e-01|Train loss 1.151119e-01|LR 0.00100|\n",
            "Epoch 0055|Val loss 1.042287e-01|Train loss 1.151119e-01|LR 0.00100|\n",
            "Epoch 0055|Val loss 1.042287e-01|Train loss 1.151119e-01|LR 0.00100|\n",
            "INFO:root:Epoch 0056|Val loss 1.130820e-01|Train loss 1.179189e-01|LR 0.00100|\n",
            "Epoch 0056|Val loss 1.130820e-01|Train loss 1.179189e-01|LR 0.00100|\n",
            "Epoch 0056|Val loss 1.130820e-01|Train loss 1.179189e-01|LR 0.00100|\n",
            "INFO:root:Epoch 0057|Val loss 1.079102e-01|Train loss 1.171867e-01|LR 0.00100|\n",
            "Epoch 0057|Val loss 1.079102e-01|Train loss 1.171867e-01|LR 0.00100|\n",
            "Epoch 0057|Val loss 1.079102e-01|Train loss 1.171867e-01|LR 0.00100|\n",
            "INFO:root:Epoch 0058|Val loss 1.227624e-01|Train loss 1.189597e-01|LR 0.00100|\n",
            "Epoch 0058|Val loss 1.227624e-01|Train loss 1.189597e-01|LR 0.00100|\n",
            "Epoch 0058|Val loss 1.227624e-01|Train loss 1.189597e-01|LR 0.00100|\n",
            "INFO:root:Epoch 0059|Val loss 1.177770e-01|Train loss 1.181311e-01|LR 0.00100|\n",
            "Epoch 0059|Val loss 1.177770e-01|Train loss 1.181311e-01|LR 0.00100|\n",
            "Epoch 0059|Val loss 1.177770e-01|Train loss 1.181311e-01|LR 0.00100|\n",
            "INFO:root:Epoch 0060|Val loss 1.005364e-01|Train loss 1.132241e-01|LR 0.00100|\n",
            "Epoch 0060|Val loss 1.005364e-01|Train loss 1.132241e-01|LR 0.00100|\n",
            "Epoch 0060|Val loss 1.005364e-01|Train loss 1.132241e-01|LR 0.00100|\n"
          ]
        },
        {
          "output_type": "display_data",
          "data": {
            "text/plain": [
              "Val loss decreased (0.11 to 0.10). Model saved\n"
            ],
            "text/html": [
              "<pre style=\"white-space:pre;overflow-x:auto;line-height:normal;font-family:Menlo,'DejaVu Sans Mono',consolas,'Courier New',monospace\">Val loss decreased (0.11 to 0.10). Model saved\n",
              "</pre>\n"
            ]
          },
          "metadata": {}
        },
        {
          "output_type": "stream",
          "name": "stderr",
          "text": [
            "INFO:root:Epoch 0061|Val loss 1.084289e-01|Train loss 1.150676e-01|LR 0.00100|\n",
            "Epoch 0061|Val loss 1.084289e-01|Train loss 1.150676e-01|LR 0.00100|\n",
            "Epoch 0061|Val loss 1.084289e-01|Train loss 1.150676e-01|LR 0.00100|\n",
            "INFO:root:Epoch 0062|Val loss 1.119228e-01|Train loss 1.156076e-01|LR 0.00100|\n",
            "Epoch 0062|Val loss 1.119228e-01|Train loss 1.156076e-01|LR 0.00100|\n",
            "Epoch 0062|Val loss 1.119228e-01|Train loss 1.156076e-01|LR 0.00100|\n",
            "INFO:root:Epoch 0063|Val loss 9.260611e-02|Train loss 1.200697e-01|LR 0.00100|\n",
            "Epoch 0063|Val loss 9.260611e-02|Train loss 1.200697e-01|LR 0.00100|\n",
            "Epoch 0063|Val loss 9.260611e-02|Train loss 1.200697e-01|LR 0.00100|\n",
            "INFO:root:Epoch 0064|Val loss 1.117246e-01|Train loss 1.154670e-01|LR 0.00100|\n",
            "Epoch 0064|Val loss 1.117246e-01|Train loss 1.154670e-01|LR 0.00100|\n",
            "Epoch 0064|Val loss 1.117246e-01|Train loss 1.154670e-01|LR 0.00100|\n",
            "INFO:root:Epoch 0065|Val loss 1.055586e-01|Train loss 1.180659e-01|LR 0.00100|\n",
            "Epoch 0065|Val loss 1.055586e-01|Train loss 1.180659e-01|LR 0.00100|\n",
            "Epoch 0065|Val loss 1.055586e-01|Train loss 1.180659e-01|LR 0.00100|\n",
            "INFO:root:Epoch 0066|Val loss 1.177433e-01|Train loss 1.187089e-01|LR 0.00100|\n",
            "Epoch 0066|Val loss 1.177433e-01|Train loss 1.187089e-01|LR 0.00100|\n",
            "Epoch 0066|Val loss 1.177433e-01|Train loss 1.187089e-01|LR 0.00100|\n",
            "INFO:root:Epoch 0067|Val loss 8.972518e-02|Train loss 1.207127e-01|LR 0.00100|\n",
            "Epoch 0067|Val loss 8.972518e-02|Train loss 1.207127e-01|LR 0.00100|\n",
            "Epoch 0067|Val loss 8.972518e-02|Train loss 1.207127e-01|LR 0.00100|\n",
            "INFO:root:Epoch 0068|Val loss 1.227900e-01|Train loss 1.149902e-01|LR 0.00100|\n",
            "Epoch 0068|Val loss 1.227900e-01|Train loss 1.149902e-01|LR 0.00100|\n",
            "Epoch 0068|Val loss 1.227900e-01|Train loss 1.149902e-01|LR 0.00100|\n",
            "INFO:root:Epoch 0069|Val loss 9.986776e-02|Train loss 1.154747e-01|LR 0.00100|\n",
            "Epoch 0069|Val loss 9.986776e-02|Train loss 1.154747e-01|LR 0.00100|\n",
            "Epoch 0069|Val loss 9.986776e-02|Train loss 1.154747e-01|LR 0.00100|\n",
            "INFO:root:Epoch 0070|Val loss 1.114013e-01|Train loss 1.157765e-01|LR 0.00100|\n",
            "Epoch 0070|Val loss 1.114013e-01|Train loss 1.157765e-01|LR 0.00100|\n",
            "Epoch 0070|Val loss 1.114013e-01|Train loss 1.157765e-01|LR 0.00100|\n"
          ]
        },
        {
          "output_type": "display_data",
          "data": {
            "text/plain": [
              "EarlyStopping counter: 1 out of 20\n"
            ],
            "text/html": [
              "<pre style=\"white-space:pre;overflow-x:auto;line-height:normal;font-family:Menlo,'DejaVu Sans Mono',consolas,'Courier New',monospace\">EarlyStopping counter: 1 out of 20\n",
              "</pre>\n"
            ]
          },
          "metadata": {}
        },
        {
          "output_type": "stream",
          "name": "stderr",
          "text": [
            "INFO:root:Epoch 0071|Val loss 1.002698e-01|Train loss 1.167058e-01|LR 0.00100|\n",
            "Epoch 0071|Val loss 1.002698e-01|Train loss 1.167058e-01|LR 0.00100|\n",
            "Epoch 0071|Val loss 1.002698e-01|Train loss 1.167058e-01|LR 0.00100|\n",
            "INFO:root:Epoch 0072|Val loss 1.211691e-01|Train loss 1.158752e-01|LR 0.00100|\n",
            "Epoch 0072|Val loss 1.211691e-01|Train loss 1.158752e-01|LR 0.00100|\n",
            "Epoch 0072|Val loss 1.211691e-01|Train loss 1.158752e-01|LR 0.00100|\n",
            "INFO:root:Epoch 0073|Val loss 8.746296e-02|Train loss 1.209118e-01|LR 0.00100|\n",
            "Epoch 0073|Val loss 8.746296e-02|Train loss 1.209118e-01|LR 0.00100|\n",
            "Epoch 0073|Val loss 8.746296e-02|Train loss 1.209118e-01|LR 0.00100|\n",
            "INFO:root:Epoch 0074|Val loss 1.219059e-01|Train loss 1.168223e-01|LR 0.00100|\n",
            "Epoch 0074|Val loss 1.219059e-01|Train loss 1.168223e-01|LR 0.00100|\n",
            "Epoch 0074|Val loss 1.219059e-01|Train loss 1.168223e-01|LR 0.00100|\n",
            "INFO:root:Epoch 0075|Val loss 9.231489e-02|Train loss 1.175347e-01|LR 0.00100|\n",
            "Epoch 0075|Val loss 9.231489e-02|Train loss 1.175347e-01|LR 0.00100|\n",
            "Epoch 0075|Val loss 9.231489e-02|Train loss 1.175347e-01|LR 0.00100|\n",
            "INFO:root:Epoch 0076|Val loss 1.262858e-01|Train loss 1.168083e-01|LR 0.00100|\n",
            "Epoch 0076|Val loss 1.262858e-01|Train loss 1.168083e-01|LR 0.00100|\n",
            "INFO:root:Epoch 0077|Val loss 9.168987e-02|Train loss 1.206147e-01|LR 0.00100|\n",
            "Epoch 0077|Val loss 9.168987e-02|Train loss 1.206147e-01|LR 0.00100|\n",
            "Epoch 0077|Val loss 9.168987e-02|Train loss 1.206147e-01|LR 0.00100|\n",
            "INFO:root:Epoch 0078|Val loss 1.250010e-01|Train loss 1.167318e-01|LR 0.00100|\n",
            "Epoch 0078|Val loss 1.250010e-01|Train loss 1.167318e-01|LR 0.00100|\n",
            "Epoch 0078|Val loss 1.250010e-01|Train loss 1.167318e-01|LR 0.00100|\n",
            "INFO:root:Epoch 0079|Val loss 8.631029e-02|Train loss 1.141912e-01|LR 0.00100|\n",
            "Epoch 0079|Val loss 8.631029e-02|Train loss 1.141912e-01|LR 0.00100|\n",
            "Epoch 0079|Val loss 8.631029e-02|Train loss 1.141912e-01|LR 0.00100|\n",
            "INFO:root:Epoch 0080|Val loss 1.274149e-01|Train loss 1.160993e-01|LR 0.00100|\n",
            "Epoch 0080|Val loss 1.274149e-01|Train loss 1.160993e-01|LR 0.00100|\n",
            "Epoch 0080|Val loss 1.274149e-01|Train loss 1.160993e-01|LR 0.00100|\n"
          ]
        },
        {
          "output_type": "display_data",
          "data": {
            "text/plain": [
              "EarlyStopping counter: 2 out of 20\n"
            ],
            "text/html": [
              "<pre style=\"white-space:pre;overflow-x:auto;line-height:normal;font-family:Menlo,'DejaVu Sans Mono',consolas,'Courier New',monospace\">EarlyStopping counter: 2 out of 20\n",
              "</pre>\n"
            ]
          },
          "metadata": {}
        },
        {
          "output_type": "stream",
          "name": "stderr",
          "text": [
            "INFO:root:Epoch 0081|Val loss 9.019166e-02|Train loss 1.200555e-01|LR 0.00100|\n",
            "Epoch 0081|Val loss 9.019166e-02|Train loss 1.200555e-01|LR 0.00100|\n",
            "Epoch 0081|Val loss 9.019166e-02|Train loss 1.200555e-01|LR 0.00100|\n",
            "INFO:root:Epoch 0082|Val loss 1.222344e-01|Train loss 1.161504e-01|LR 0.00100|\n",
            "Epoch 0082|Val loss 1.222344e-01|Train loss 1.161504e-01|LR 0.00100|\n",
            "Epoch 0082|Val loss 1.222344e-01|Train loss 1.161504e-01|LR 0.00100|\n",
            "INFO:root:Epoch 0083|Val loss 8.812891e-02|Train loss 1.157993e-01|LR 0.00100|\n",
            "Epoch 0083|Val loss 8.812891e-02|Train loss 1.157993e-01|LR 0.00100|\n",
            "Epoch 0083|Val loss 8.812891e-02|Train loss 1.157993e-01|LR 0.00100|\n",
            "INFO:root:Epoch 0084|Val loss 1.292099e-01|Train loss 1.140292e-01|LR 0.00100|\n",
            "Epoch 0084|Val loss 1.292099e-01|Train loss 1.140292e-01|LR 0.00100|\n",
            "Epoch 0084|Val loss 1.292099e-01|Train loss 1.140292e-01|LR 0.00100|\n",
            "INFO:root:Epoch 0085|Val loss 9.469443e-02|Train loss 1.164706e-01|LR 0.00100|\n",
            "Epoch 0085|Val loss 9.469443e-02|Train loss 1.164706e-01|LR 0.00100|\n",
            "Epoch 0085|Val loss 9.469443e-02|Train loss 1.164706e-01|LR 0.00100|\n",
            "INFO:root:Epoch 0086|Val loss 1.107421e-01|Train loss 1.154509e-01|LR 0.00100|\n",
            "Epoch 0086|Val loss 1.107421e-01|Train loss 1.154509e-01|LR 0.00100|\n",
            "Epoch 0086|Val loss 1.107421e-01|Train loss 1.154509e-01|LR 0.00100|\n",
            "INFO:root:Epoch 0087|Val loss 9.609519e-02|Train loss 1.172367e-01|LR 0.00100|\n",
            "Epoch 0087|Val loss 9.609519e-02|Train loss 1.172367e-01|LR 0.00100|\n",
            "Epoch 0087|Val loss 9.609519e-02|Train loss 1.172367e-01|LR 0.00100|\n",
            "INFO:root:Epoch 0088|Val loss 1.206853e-01|Train loss 1.158297e-01|LR 0.00100|\n",
            "Epoch 0088|Val loss 1.206853e-01|Train loss 1.158297e-01|LR 0.00100|\n",
            "Epoch 0088|Val loss 1.206853e-01|Train loss 1.158297e-01|LR 0.00100|\n",
            "INFO:root:Epoch 0089|Val loss 9.658649e-02|Train loss 1.163184e-01|LR 0.00100|\n",
            "Epoch 0089|Val loss 9.658649e-02|Train loss 1.163184e-01|LR 0.00100|\n",
            "Epoch 0089|Val loss 9.658649e-02|Train loss 1.163184e-01|LR 0.00100|\n",
            "INFO:root:Epoch 0090|Val loss 1.095400e-01|Train loss 1.131153e-01|LR 0.00100|\n",
            "Epoch 0090|Val loss 1.095400e-01|Train loss 1.131153e-01|LR 0.00100|\n",
            "Epoch 0090|Val loss 1.095400e-01|Train loss 1.131153e-01|LR 0.00100|\n"
          ]
        },
        {
          "output_type": "display_data",
          "data": {
            "text/plain": [
              "EarlyStopping counter: 3 out of 20\n"
            ],
            "text/html": [
              "<pre style=\"white-space:pre;overflow-x:auto;line-height:normal;font-family:Menlo,'DejaVu Sans Mono',consolas,'Courier New',monospace\">EarlyStopping counter: 3 out of 20\n",
              "</pre>\n"
            ]
          },
          "metadata": {}
        },
        {
          "output_type": "stream",
          "name": "stderr",
          "text": [
            "INFO:root:Epoch 0091|Val loss 9.113076e-02|Train loss 1.143686e-01|LR 0.00100|\n",
            "Epoch 0091|Val loss 9.113076e-02|Train loss 1.143686e-01|LR 0.00100|\n",
            "Epoch 0091|Val loss 9.113076e-02|Train loss 1.143686e-01|LR 0.00100|\n",
            "INFO:root:Epoch 0092|Val loss 1.279234e-01|Train loss 1.122090e-01|LR 0.00100|\n",
            "Epoch 0092|Val loss 1.279234e-01|Train loss 1.122090e-01|LR 0.00100|\n",
            "Epoch 0092|Val loss 1.279234e-01|Train loss 1.122090e-01|LR 0.00100|\n",
            "INFO:root:Epoch 0093|Val loss 1.052532e-01|Train loss 1.136087e-01|LR 0.00100|\n",
            "Epoch 0093|Val loss 1.052532e-01|Train loss 1.136087e-01|LR 0.00100|\n",
            "Epoch 0093|Val loss 1.052532e-01|Train loss 1.136087e-01|LR 0.00100|\n",
            "INFO:root:Epoch 0094|Val loss 1.089410e-01|Train loss 1.136659e-01|LR 0.00100|\n",
            "Epoch 0094|Val loss 1.089410e-01|Train loss 1.136659e-01|LR 0.00100|\n",
            "Epoch 0094|Val loss 1.089410e-01|Train loss 1.136659e-01|LR 0.00100|\n",
            "INFO:root:Epoch 0095|Val loss 8.386149e-02|Train loss 1.149085e-01|LR 0.00100|\n",
            "Epoch 0095|Val loss 8.386149e-02|Train loss 1.149085e-01|LR 0.00100|\n",
            "Epoch 0095|Val loss 8.386149e-02|Train loss 1.149085e-01|LR 0.00100|\n",
            "INFO:root:Epoch 0096|Val loss 1.065793e-01|Train loss 1.128092e-01|LR 0.00100|\n",
            "Epoch 0096|Val loss 1.065793e-01|Train loss 1.128092e-01|LR 0.00100|\n",
            "Epoch 0096|Val loss 1.065793e-01|Train loss 1.128092e-01|LR 0.00100|\n",
            "INFO:root:Epoch 0097|Val loss 8.395865e-02|Train loss 1.136552e-01|LR 0.00100|\n",
            "Epoch 0097|Val loss 8.395865e-02|Train loss 1.136552e-01|LR 0.00100|\n",
            "Epoch 0097|Val loss 8.395865e-02|Train loss 1.136552e-01|LR 0.00100|\n",
            "INFO:root:Epoch 0098|Val loss 1.075697e-01|Train loss 1.145480e-01|LR 0.00100|\n",
            "Epoch 0098|Val loss 1.075697e-01|Train loss 1.145480e-01|LR 0.00100|\n",
            "Epoch 0098|Val loss 1.075697e-01|Train loss 1.145480e-01|LR 0.00100|\n",
            "INFO:root:Epoch 0099|Val loss 8.917708e-02|Train loss 1.132885e-01|LR 0.00100|\n",
            "Epoch 0099|Val loss 8.917708e-02|Train loss 1.132885e-01|LR 0.00100|\n",
            "Epoch 0099|Val loss 8.917708e-02|Train loss 1.132885e-01|LR 0.00100|\n",
            "INFO:root:Epoch 0100|Val loss 1.243182e-01|Train loss 1.115866e-01|LR 0.00100|\n",
            "Epoch 0100|Val loss 1.243182e-01|Train loss 1.115866e-01|LR 0.00100|\n",
            "Epoch 0100|Val loss 1.243182e-01|Train loss 1.115866e-01|LR 0.00100|\n"
          ]
        },
        {
          "output_type": "display_data",
          "data": {
            "text/plain": [
              "EarlyStopping counter: 4 out of 20\n"
            ],
            "text/html": [
              "<pre style=\"white-space:pre;overflow-x:auto;line-height:normal;font-family:Menlo,'DejaVu Sans Mono',consolas,'Courier New',monospace\">EarlyStopping counter: 4 out of 20\n",
              "</pre>\n"
            ]
          },
          "metadata": {}
        },
        {
          "output_type": "stream",
          "name": "stderr",
          "text": [
            "INFO:root:Epoch 0101|Val loss 9.705105e-02|Train loss 1.117615e-01|LR 0.00100|\n",
            "Epoch 0101|Val loss 9.705105e-02|Train loss 1.117615e-01|LR 0.00100|\n",
            "Epoch 0101|Val loss 9.705105e-02|Train loss 1.117615e-01|LR 0.00100|\n",
            "INFO:root:Epoch 0102|Val loss 1.041186e-01|Train loss 1.131509e-01|LR 0.00100|\n",
            "Epoch 0102|Val loss 1.041186e-01|Train loss 1.131509e-01|LR 0.00100|\n",
            "Epoch 0102|Val loss 1.041186e-01|Train loss 1.131509e-01|LR 0.00100|\n",
            "INFO:root:Epoch 0103|Val loss 8.162513e-02|Train loss 1.160353e-01|LR 0.00100|\n",
            "Epoch 0103|Val loss 8.162513e-02|Train loss 1.160353e-01|LR 0.00100|\n",
            "Epoch 0103|Val loss 8.162513e-02|Train loss 1.160353e-01|LR 0.00100|\n",
            "INFO:root:Epoch 0104|Val loss 1.059034e-01|Train loss 1.101969e-01|LR 0.00100|\n",
            "Epoch 0104|Val loss 1.059034e-01|Train loss 1.101969e-01|LR 0.00100|\n",
            "Epoch 0104|Val loss 1.059034e-01|Train loss 1.101969e-01|LR 0.00100|\n",
            "INFO:root:Epoch 0105|Val loss 9.559783e-02|Train loss 1.097963e-01|LR 0.00100|\n",
            "Epoch 0105|Val loss 9.559783e-02|Train loss 1.097963e-01|LR 0.00100|\n",
            "Epoch 0105|Val loss 9.559783e-02|Train loss 1.097963e-01|LR 0.00100|\n",
            "INFO:root:Epoch 0106|Val loss 1.101748e-01|Train loss 1.127309e-01|LR 0.00100|\n",
            "Epoch 0106|Val loss 1.101748e-01|Train loss 1.127309e-01|LR 0.00100|\n",
            "Epoch 0106|Val loss 1.101748e-01|Train loss 1.127309e-01|LR 0.00100|\n",
            "INFO:root:Epoch 0107|Val loss 8.438347e-02|Train loss 1.148666e-01|LR 0.00100|\n",
            "Epoch 0107|Val loss 8.438347e-02|Train loss 1.148666e-01|LR 0.00100|\n",
            "Epoch 0107|Val loss 8.438347e-02|Train loss 1.148666e-01|LR 0.00100|\n",
            "INFO:root:Epoch 0108|Val loss 9.495832e-02|Train loss 1.089049e-01|LR 0.00100|\n",
            "Epoch 0108|Val loss 9.495832e-02|Train loss 1.089049e-01|LR 0.00100|\n",
            "Epoch 0108|Val loss 9.495832e-02|Train loss 1.089049e-01|LR 0.00100|\n",
            "INFO:root:Epoch 0109|Val loss 9.626974e-02|Train loss 1.091334e-01|LR 0.00100|\n",
            "Epoch 0109|Val loss 9.626974e-02|Train loss 1.091334e-01|LR 0.00100|\n",
            "Epoch 0109|Val loss 9.626974e-02|Train loss 1.091334e-01|LR 0.00100|\n",
            "INFO:root:Epoch 0110|Val loss 1.089815e-01|Train loss 1.108560e-01|LR 0.00100|\n",
            "Epoch 0110|Val loss 1.089815e-01|Train loss 1.108560e-01|LR 0.00100|\n",
            "Epoch 0110|Val loss 1.089815e-01|Train loss 1.108560e-01|LR 0.00100|\n"
          ]
        },
        {
          "output_type": "display_data",
          "data": {
            "text/plain": [
              "EarlyStopping counter: 5 out of 20\n"
            ],
            "text/html": [
              "<pre style=\"white-space:pre;overflow-x:auto;line-height:normal;font-family:Menlo,'DejaVu Sans Mono',consolas,'Courier New',monospace\">EarlyStopping counter: 5 out of 20\n",
              "</pre>\n"
            ]
          },
          "metadata": {}
        },
        {
          "output_type": "stream",
          "name": "stderr",
          "text": [
            "INFO:root:Epoch 0111|Val loss 8.252365e-02|Train loss 1.129891e-01|LR 0.00100|\n",
            "Epoch 0111|Val loss 8.252365e-02|Train loss 1.129891e-01|LR 0.00100|\n",
            "Epoch 0111|Val loss 8.252365e-02|Train loss 1.129891e-01|LR 0.00100|\n",
            "INFO:root:Epoch 0112|Val loss 1.124154e-01|Train loss 1.125562e-01|LR 0.00100|\n",
            "Epoch 0112|Val loss 1.124154e-01|Train loss 1.125562e-01|LR 0.00100|\n",
            "Epoch 0112|Val loss 1.124154e-01|Train loss 1.125562e-01|LR 0.00100|\n",
            "INFO:root:Epoch 0113|Val loss 9.518396e-02|Train loss 1.129749e-01|LR 0.00100|\n",
            "Epoch 0113|Val loss 9.518396e-02|Train loss 1.129749e-01|LR 0.00100|\n",
            "Epoch 0113|Val loss 9.518396e-02|Train loss 1.129749e-01|LR 0.00100|\n",
            "INFO:root:Epoch 0114|Val loss 1.105154e-01|Train loss 1.115256e-01|LR 0.00100|\n",
            "Epoch 0114|Val loss 1.105154e-01|Train loss 1.115256e-01|LR 0.00100|\n",
            "Epoch 0114|Val loss 1.105154e-01|Train loss 1.115256e-01|LR 0.00100|\n",
            "INFO:root:Epoch 0115|Val loss 8.633007e-02|Train loss 1.136634e-01|LR 0.00100|\n",
            "Epoch 0115|Val loss 8.633007e-02|Train loss 1.136634e-01|LR 0.00100|\n",
            "Epoch 0115|Val loss 8.633007e-02|Train loss 1.136634e-01|LR 0.00100|\n",
            "INFO:root:Epoch 0116|Val loss 1.190658e-01|Train loss 1.142101e-01|LR 0.00100|\n",
            "Epoch 0116|Val loss 1.190658e-01|Train loss 1.142101e-01|LR 0.00100|\n",
            "Epoch 0116|Val loss 1.190658e-01|Train loss 1.142101e-01|LR 0.00100|\n",
            "INFO:root:Epoch 0117|Val loss 8.306037e-02|Train loss 1.137827e-01|LR 0.00100|\n",
            "Epoch 0117|Val loss 8.306037e-02|Train loss 1.137827e-01|LR 0.00100|\n",
            "Epoch 0117|Val loss 8.306037e-02|Train loss 1.137827e-01|LR 0.00100|\n",
            "INFO:root:Epoch 0118|Val loss 1.228671e-01|Train loss 1.133538e-01|LR 0.00100|\n",
            "Epoch 0118|Val loss 1.228671e-01|Train loss 1.133538e-01|LR 0.00100|\n",
            "Epoch 0118|Val loss 1.228671e-01|Train loss 1.133538e-01|LR 0.00100|\n",
            "INFO:root:Epoch 0119|Val loss 9.037836e-02|Train loss 1.150574e-01|LR 0.00100|\n",
            "Epoch 0119|Val loss 9.037836e-02|Train loss 1.150574e-01|LR 0.00100|\n",
            "Epoch 0119|Val loss 9.037836e-02|Train loss 1.150574e-01|LR 0.00100|\n",
            "INFO:root:Epoch 0120|Val loss 1.182429e-01|Train loss 1.101198e-01|LR 0.00100|\n",
            "Epoch 0120|Val loss 1.182429e-01|Train loss 1.101198e-01|LR 0.00100|\n",
            "Epoch 0120|Val loss 1.182429e-01|Train loss 1.101198e-01|LR 0.00100|\n"
          ]
        },
        {
          "output_type": "display_data",
          "data": {
            "text/plain": [
              "EarlyStopping counter: 6 out of 20\n"
            ],
            "text/html": [
              "<pre style=\"white-space:pre;overflow-x:auto;line-height:normal;font-family:Menlo,'DejaVu Sans Mono',consolas,'Courier New',monospace\">EarlyStopping counter: 6 out of 20\n",
              "</pre>\n"
            ]
          },
          "metadata": {}
        },
        {
          "output_type": "stream",
          "name": "stderr",
          "text": [
            "INFO:root:Epoch 0122|Val loss 1.201139e-01|Train loss 1.126742e-01|LR 0.00100|\n",
            "Epoch 0122|Val loss 1.201139e-01|Train loss 1.126742e-01|LR 0.00100|\n",
            "Epoch 0122|Val loss 1.201139e-01|Train loss 1.126742e-01|LR 0.00100|\n",
            "INFO:root:Epoch 0123|Val loss 9.560782e-02|Train loss 1.147996e-01|LR 0.00100|\n",
            "Epoch 0123|Val loss 9.560782e-02|Train loss 1.147996e-01|LR 0.00100|\n",
            "Epoch 0123|Val loss 9.560782e-02|Train loss 1.147996e-01|LR 0.00100|\n",
            "INFO:root:Epoch 0124|Val loss 1.120255e-01|Train loss 1.122392e-01|LR 0.00100|\n",
            "Epoch 0124|Val loss 1.120255e-01|Train loss 1.122392e-01|LR 0.00100|\n",
            "Epoch 0124|Val loss 1.120255e-01|Train loss 1.122392e-01|LR 0.00100|\n",
            "INFO:root:Epoch 0125|Val loss 9.483007e-02|Train loss 1.117810e-01|LR 0.00100|\n",
            "Epoch 0125|Val loss 9.483007e-02|Train loss 1.117810e-01|LR 0.00100|\n",
            "Epoch 0125|Val loss 9.483007e-02|Train loss 1.117810e-01|LR 0.00100|\n",
            "INFO:root:Epoch 0126|Val loss 1.152503e-01|Train loss 1.116080e-01|LR 0.00100|\n",
            "Epoch 0126|Val loss 1.152503e-01|Train loss 1.116080e-01|LR 0.00100|\n",
            "Epoch 0126|Val loss 1.152503e-01|Train loss 1.116080e-01|LR 0.00100|\n",
            "INFO:root:Epoch 0127|Val loss 9.288691e-02|Train loss 1.116645e-01|LR 0.00100|\n",
            "Epoch 0127|Val loss 9.288691e-02|Train loss 1.116645e-01|LR 0.00100|\n",
            "Epoch 0127|Val loss 9.288691e-02|Train loss 1.116645e-01|LR 0.00100|\n",
            "INFO:root:Epoch 0128|Val loss 1.092698e-01|Train loss 1.095089e-01|LR 0.00100|\n",
            "Epoch 0128|Val loss 1.092698e-01|Train loss 1.095089e-01|LR 0.00100|\n",
            "Epoch 0128|Val loss 1.092698e-01|Train loss 1.095089e-01|LR 0.00100|\n",
            "INFO:root:Epoch 0129|Val loss 9.552328e-02|Train loss 1.121732e-01|LR 0.00100|\n",
            "Epoch 0129|Val loss 9.552328e-02|Train loss 1.121732e-01|LR 0.00100|\n",
            "Epoch 0129|Val loss 9.552328e-02|Train loss 1.121732e-01|LR 0.00100|\n",
            "INFO:root:Epoch 0130|Val loss 1.094504e-01|Train loss 1.127428e-01|LR 0.00100|\n",
            "Epoch 0130|Val loss 1.094504e-01|Train loss 1.127428e-01|LR 0.00100|\n",
            "Epoch 0130|Val loss 1.094504e-01|Train loss 1.127428e-01|LR 0.00100|\n"
          ]
        },
        {
          "output_type": "display_data",
          "data": {
            "text/plain": [
              "EarlyStopping counter: 7 out of 20\n"
            ],
            "text/html": [
              "<pre style=\"white-space:pre;overflow-x:auto;line-height:normal;font-family:Menlo,'DejaVu Sans Mono',consolas,'Courier New',monospace\">EarlyStopping counter: 7 out of 20\n",
              "</pre>\n"
            ]
          },
          "metadata": {}
        },
        {
          "output_type": "stream",
          "name": "stderr",
          "text": [
            "INFO:root:Epoch 0131|Val loss 8.505070e-02|Train loss 1.153710e-01|LR 0.00100|\n",
            "Epoch 0131|Val loss 8.505070e-02|Train loss 1.153710e-01|LR 0.00100|\n",
            "Epoch 0131|Val loss 8.505070e-02|Train loss 1.153710e-01|LR 0.00100|\n",
            "INFO:root:Epoch 0132|Val loss 1.130520e-01|Train loss 1.096688e-01|LR 0.00100|\n",
            "Epoch 0132|Val loss 1.130520e-01|Train loss 1.096688e-01|LR 0.00100|\n",
            "Epoch 0132|Val loss 1.130520e-01|Train loss 1.096688e-01|LR 0.00100|\n",
            "INFO:root:Epoch 0133|Val loss 9.300897e-02|Train loss 1.108516e-01|LR 0.00100|\n",
            "Epoch 0133|Val loss 9.300897e-02|Train loss 1.108516e-01|LR 0.00100|\n",
            "Epoch 0133|Val loss 9.300897e-02|Train loss 1.108516e-01|LR 0.00100|\n",
            "INFO:root:Epoch 0134|Val loss 1.139984e-01|Train loss 1.111916e-01|LR 0.00100|\n",
            "Epoch 0134|Val loss 1.139984e-01|Train loss 1.111916e-01|LR 0.00100|\n",
            "Epoch 0134|Val loss 1.139984e-01|Train loss 1.111916e-01|LR 0.00100|\n",
            "INFO:root:Epoch 0135|Val loss 9.734993e-02|Train loss 1.129481e-01|LR 0.00100|\n",
            "Epoch 0135|Val loss 9.734993e-02|Train loss 1.129481e-01|LR 0.00100|\n",
            "Epoch 0135|Val loss 9.734993e-02|Train loss 1.129481e-01|LR 0.00100|\n",
            "INFO:root:Epoch 0136|Val loss 1.093978e-01|Train loss 1.134947e-01|LR 0.00100|\n",
            "Epoch 0136|Val loss 1.093978e-01|Train loss 1.134947e-01|LR 0.00100|\n",
            "Epoch 0136|Val loss 1.093978e-01|Train loss 1.134947e-01|LR 0.00100|\n",
            "INFO:root:Epoch 0137|Val loss 8.070104e-02|Train loss 1.160115e-01|LR 0.00100|\n",
            "Epoch 0137|Val loss 8.070104e-02|Train loss 1.160115e-01|LR 0.00100|\n",
            "Epoch 0137|Val loss 8.070104e-02|Train loss 1.160115e-01|LR 0.00100|\n",
            "INFO:root:Epoch 0138|Val loss 1.002496e-01|Train loss 1.050993e-01|LR 0.00100|\n",
            "Epoch 0138|Val loss 1.002496e-01|Train loss 1.050993e-01|LR 0.00100|\n",
            "Epoch 0138|Val loss 1.002496e-01|Train loss 1.050993e-01|LR 0.00100|\n",
            "INFO:root:Epoch 0139|Val loss 7.904746e-02|Train loss 1.030906e-01|LR 0.00100|\n",
            "Epoch 0139|Val loss 7.904746e-02|Train loss 1.030906e-01|LR 0.00100|\n",
            "Epoch 0139|Val loss 7.904746e-02|Train loss 1.030906e-01|LR 0.00100|\n",
            "INFO:root:Epoch 0140|Val loss 1.026419e-01|Train loss 1.039385e-01|LR 0.00100|\n",
            "Epoch 0140|Val loss 1.026419e-01|Train loss 1.039385e-01|LR 0.00100|\n",
            "Epoch 0140|Val loss 1.026419e-01|Train loss 1.039385e-01|LR 0.00100|\n"
          ]
        },
        {
          "output_type": "display_data",
          "data": {
            "text/plain": [
              "EarlyStopping counter: 8 out of 20\n"
            ],
            "text/html": [
              "<pre style=\"white-space:pre;overflow-x:auto;line-height:normal;font-family:Menlo,'DejaVu Sans Mono',consolas,'Courier New',monospace\">EarlyStopping counter: 8 out of 20\n",
              "</pre>\n"
            ]
          },
          "metadata": {}
        },
        {
          "output_type": "stream",
          "name": "stderr",
          "text": [
            "INFO:root:Epoch 0141|Val loss 9.111388e-02|Train loss 1.043001e-01|LR 0.00100|\n",
            "Epoch 0141|Val loss 9.111388e-02|Train loss 1.043001e-01|LR 0.00100|\n",
            "Epoch 0141|Val loss 9.111388e-02|Train loss 1.043001e-01|LR 0.00100|\n",
            "INFO:root:Epoch 0142|Val loss 1.060883e-01|Train loss 1.074551e-01|LR 0.00100|\n",
            "Epoch 0142|Val loss 1.060883e-01|Train loss 1.074551e-01|LR 0.00100|\n",
            "Epoch 0142|Val loss 1.060883e-01|Train loss 1.074551e-01|LR 0.00100|\n",
            "INFO:root:Epoch 0143|Val loss 9.222482e-02|Train loss 1.106187e-01|LR 0.00100|\n",
            "Epoch 0143|Val loss 9.222482e-02|Train loss 1.106187e-01|LR 0.00100|\n",
            "Epoch 0143|Val loss 9.222482e-02|Train loss 1.106187e-01|LR 0.00100|\n",
            "INFO:root:Epoch 0144|Val loss 1.169653e-01|Train loss 1.103921e-01|LR 0.00100|\n",
            "Epoch 0144|Val loss 1.169653e-01|Train loss 1.103921e-01|LR 0.00100|\n",
            "Epoch 0144|Val loss 1.169653e-01|Train loss 1.103921e-01|LR 0.00100|\n",
            "INFO:root:Epoch 0145|Val loss 9.121924e-02|Train loss 1.142365e-01|LR 0.00100|\n",
            "Epoch 0145|Val loss 9.121924e-02|Train loss 1.142365e-01|LR 0.00100|\n",
            "Epoch 0145|Val loss 9.121924e-02|Train loss 1.142365e-01|LR 0.00100|\n",
            "INFO:root:Epoch 0146|Val loss 1.047059e-01|Train loss 1.116238e-01|LR 0.00100|\n",
            "Epoch 0146|Val loss 1.047059e-01|Train loss 1.116238e-01|LR 0.00100|\n",
            "Epoch 0146|Val loss 1.047059e-01|Train loss 1.116238e-01|LR 0.00100|\n",
            "INFO:root:Epoch 0147|Val loss 9.820633e-02|Train loss 1.115403e-01|LR 0.00100|\n",
            "Epoch 0147|Val loss 9.820633e-02|Train loss 1.115403e-01|LR 0.00100|\n",
            "Epoch 0147|Val loss 9.820633e-02|Train loss 1.115403e-01|LR 0.00100|\n",
            "INFO:root:Epoch 0148|Val loss 1.087920e-01|Train loss 1.137462e-01|LR 0.00100|\n",
            "Epoch 0148|Val loss 1.087920e-01|Train loss 1.137462e-01|LR 0.00100|\n",
            "Epoch 0148|Val loss 1.087920e-01|Train loss 1.137462e-01|LR 0.00100|\n",
            "INFO:root:Epoch 0149|Val loss 8.675800e-02|Train loss 1.132629e-01|LR 0.00100|\n",
            "Epoch 0149|Val loss 8.675800e-02|Train loss 1.132629e-01|LR 0.00100|\n",
            "Epoch 0149|Val loss 8.675800e-02|Train loss 1.132629e-01|LR 0.00100|\n",
            "INFO:root:Epoch 0150|Val loss 1.032891e-01|Train loss 1.085448e-01|LR 0.00100|\n",
            "Epoch 0150|Val loss 1.032891e-01|Train loss 1.085448e-01|LR 0.00100|\n",
            "Epoch 0150|Val loss 1.032891e-01|Train loss 1.085448e-01|LR 0.00100|\n"
          ]
        },
        {
          "output_type": "display_data",
          "data": {
            "text/plain": [
              "EarlyStopping counter: 9 out of 20\n"
            ],
            "text/html": [
              "<pre style=\"white-space:pre;overflow-x:auto;line-height:normal;font-family:Menlo,'DejaVu Sans Mono',consolas,'Courier New',monospace\">EarlyStopping counter: 9 out of 20\n",
              "</pre>\n"
            ]
          },
          "metadata": {}
        },
        {
          "output_type": "stream",
          "name": "stderr",
          "text": [
            "INFO:root:Epoch 0151|Val loss 8.634266e-02|Train loss 1.126470e-01|LR 0.00100|\n",
            "Epoch 0151|Val loss 8.634266e-02|Train loss 1.126470e-01|LR 0.00100|\n",
            "Epoch 0151|Val loss 8.634266e-02|Train loss 1.126470e-01|LR 0.00100|\n",
            "INFO:root:Epoch 0152|Val loss 1.186430e-01|Train loss 1.142668e-01|LR 0.00100|\n",
            "Epoch 0152|Val loss 1.186430e-01|Train loss 1.142668e-01|LR 0.00100|\n",
            "Epoch 0152|Val loss 1.186430e-01|Train loss 1.142668e-01|LR 0.00100|\n",
            "INFO:root:Epoch 0153|Val loss 8.871235e-02|Train loss 1.185011e-01|LR 0.00100|\n",
            "Epoch 0153|Val loss 8.871235e-02|Train loss 1.185011e-01|LR 0.00100|\n",
            "Epoch 0153|Val loss 8.871235e-02|Train loss 1.185011e-01|LR 0.00100|\n",
            "INFO:root:Epoch 0154|Val loss 1.180327e-01|Train loss 1.105352e-01|LR 0.00100|\n",
            "Epoch 0154|Val loss 1.180327e-01|Train loss 1.105352e-01|LR 0.00100|\n",
            "Epoch 0154|Val loss 1.180327e-01|Train loss 1.105352e-01|LR 0.00100|\n",
            "INFO:root:Epoch 0155|Val loss 9.305809e-02|Train loss 1.146848e-01|LR 0.00100|\n",
            "Epoch 0155|Val loss 9.305809e-02|Train loss 1.146848e-01|LR 0.00100|\n",
            "Epoch 0155|Val loss 9.305809e-02|Train loss 1.146848e-01|LR 0.00100|\n",
            "INFO:root:Epoch 0156|Val loss 1.144622e-01|Train loss 1.123928e-01|LR 0.00100|\n",
            "Epoch 0156|Val loss 1.144622e-01|Train loss 1.123928e-01|LR 0.00100|\n",
            "Epoch 0156|Val loss 1.144622e-01|Train loss 1.123928e-01|LR 0.00100|\n",
            "INFO:root:Epoch 0157|Val loss 9.648565e-02|Train loss 1.160758e-01|LR 0.00100|\n",
            "Epoch 0157|Val loss 9.648565e-02|Train loss 1.160758e-01|LR 0.00100|\n",
            "Epoch 0157|Val loss 9.648565e-02|Train loss 1.160758e-01|LR 0.00100|\n",
            "INFO:root:Epoch 0158|Val loss 1.126511e-01|Train loss 1.106731e-01|LR 0.00100|\n",
            "Epoch 0158|Val loss 1.126511e-01|Train loss 1.106731e-01|LR 0.00100|\n",
            "Epoch 0158|Val loss 1.126511e-01|Train loss 1.106731e-01|LR 0.00100|\n",
            "INFO:root:Epoch 0159|Val loss 1.173371e-01|Train loss 1.141560e-01|LR 0.00100|\n",
            "Epoch 0159|Val loss 1.173371e-01|Train loss 1.141560e-01|LR 0.00100|\n",
            "Epoch 0159|Val loss 1.173371e-01|Train loss 1.141560e-01|LR 0.00100|\n",
            "INFO:root:Epoch 0160|Val loss 1.207286e-01|Train loss 1.114680e-01|LR 0.00100|\n",
            "Epoch 0160|Val loss 1.207286e-01|Train loss 1.114680e-01|LR 0.00100|\n",
            "Epoch 0160|Val loss 1.207286e-01|Train loss 1.114680e-01|LR 0.00100|\n"
          ]
        },
        {
          "output_type": "display_data",
          "data": {
            "text/plain": [
              "EarlyStopping counter: 10 out of 20\n"
            ],
            "text/html": [
              "<pre style=\"white-space:pre;overflow-x:auto;line-height:normal;font-family:Menlo,'DejaVu Sans Mono',consolas,'Courier New',monospace\">EarlyStopping counter: 10 out of 20\n",
              "</pre>\n"
            ]
          },
          "metadata": {}
        },
        {
          "output_type": "stream",
          "name": "stderr",
          "text": [
            "INFO:root:Epoch 0161|Val loss 1.050609e-01|Train loss 1.152528e-01|LR 0.00100|\n",
            "Epoch 0161|Val loss 1.050609e-01|Train loss 1.152528e-01|LR 0.00100|\n",
            "Epoch 0161|Val loss 1.050609e-01|Train loss 1.152528e-01|LR 0.00100|\n",
            "INFO:root:Epoch 0162|Val loss 1.171297e-01|Train loss 1.151856e-01|LR 0.00100|\n",
            "Epoch 0162|Val loss 1.171297e-01|Train loss 1.151856e-01|LR 0.00100|\n",
            "Epoch 0162|Val loss 1.171297e-01|Train loss 1.151856e-01|LR 0.00100|\n",
            "INFO:root:Epoch 0163|Val loss 9.733070e-02|Train loss 1.152439e-01|LR 0.00100|\n",
            "Epoch 0163|Val loss 9.733070e-02|Train loss 1.152439e-01|LR 0.00100|\n",
            "Epoch 0163|Val loss 9.733070e-02|Train loss 1.152439e-01|LR 0.00100|\n",
            "INFO:root:Epoch 0164|Val loss 1.098761e-01|Train loss 1.135984e-01|LR 0.00100|\n",
            "Epoch 0164|Val loss 1.098761e-01|Train loss 1.135984e-01|LR 0.00100|\n",
            "Epoch 0164|Val loss 1.098761e-01|Train loss 1.135984e-01|LR 0.00100|\n",
            "INFO:root:Epoch 0165|Val loss 9.904694e-02|Train loss 1.148758e-01|LR 0.00100|\n",
            "Epoch 0165|Val loss 9.904694e-02|Train loss 1.148758e-01|LR 0.00100|\n",
            "Epoch 0165|Val loss 9.904694e-02|Train loss 1.148758e-01|LR 0.00100|\n",
            "INFO:root:Epoch 0166|Val loss 1.002537e-01|Train loss 1.100378e-01|LR 0.00100|\n",
            "Epoch 0166|Val loss 1.002537e-01|Train loss 1.100378e-01|LR 0.00100|\n",
            "Epoch 0166|Val loss 1.002537e-01|Train loss 1.100378e-01|LR 0.00100|\n",
            "INFO:root:Epoch 0167|Val loss 9.704135e-02|Train loss 1.088419e-01|LR 0.00100|\n",
            "Epoch 0167|Val loss 9.704135e-02|Train loss 1.088419e-01|LR 0.00100|\n",
            "Epoch 0167|Val loss 9.704135e-02|Train loss 1.088419e-01|LR 0.00100|\n",
            "INFO:root:Epoch 0168|Val loss 1.005275e-01|Train loss 1.058559e-01|LR 0.00100|\n",
            "Epoch 0168|Val loss 1.005275e-01|Train loss 1.058559e-01|LR 0.00100|\n",
            "Epoch 0168|Val loss 1.005275e-01|Train loss 1.058559e-01|LR 0.00100|\n",
            "INFO:root:Epoch 0169|Val loss 9.711263e-02|Train loss 1.088355e-01|LR 0.00100|\n",
            "Epoch 0169|Val loss 9.711263e-02|Train loss 1.088355e-01|LR 0.00100|\n",
            "Epoch 0169|Val loss 9.711263e-02|Train loss 1.088355e-01|LR 0.00100|\n",
            "INFO:root:Epoch 0170|Val loss 9.569737e-02|Train loss 1.068794e-01|LR 0.00100|\n",
            "Epoch 0170|Val loss 9.569737e-02|Train loss 1.068794e-01|LR 0.00100|\n",
            "Epoch 0170|Val loss 9.569737e-02|Train loss 1.068794e-01|LR 0.00100|\n"
          ]
        },
        {
          "output_type": "display_data",
          "data": {
            "text/plain": [
              "Val loss decreased (0.10 to 0.10). Model saved\n"
            ],
            "text/html": [
              "<pre style=\"white-space:pre;overflow-x:auto;line-height:normal;font-family:Menlo,'DejaVu Sans Mono',consolas,'Courier New',monospace\">Val loss decreased (0.10 to 0.10). Model saved\n",
              "</pre>\n"
            ]
          },
          "metadata": {}
        },
        {
          "output_type": "stream",
          "name": "stderr",
          "text": [
            "Epoch 0171|Val loss 9.134003e-02|Train loss 1.078797e-01|LR 0.00100|\n",
            "Epoch 0171|Val loss 9.134003e-02|Train loss 1.078797e-01|LR 0.00100|\n",
            "INFO:root:Epoch 0172|Val loss 1.086357e-01|Train loss 1.049562e-01|LR 0.00100|\n",
            "Epoch 0172|Val loss 1.086357e-01|Train loss 1.049562e-01|LR 0.00100|\n",
            "Epoch 0172|Val loss 1.086357e-01|Train loss 1.049562e-01|LR 0.00100|\n",
            "INFO:root:Epoch 0173|Val loss 9.636292e-02|Train loss 1.073876e-01|LR 0.00100|\n",
            "Epoch 0173|Val loss 9.636292e-02|Train loss 1.073876e-01|LR 0.00100|\n",
            "Epoch 0173|Val loss 9.636292e-02|Train loss 1.073876e-01|LR 0.00100|\n",
            "INFO:root:Epoch 0174|Val loss 1.045921e-01|Train loss 1.056757e-01|LR 0.00100|\n",
            "Epoch 0174|Val loss 1.045921e-01|Train loss 1.056757e-01|LR 0.00100|\n",
            "Epoch 0174|Val loss 1.045921e-01|Train loss 1.056757e-01|LR 0.00100|\n",
            "INFO:root:Epoch 0175|Val loss 9.365498e-02|Train loss 1.081647e-01|LR 0.00100|\n",
            "Epoch 0175|Val loss 9.365498e-02|Train loss 1.081647e-01|LR 0.00100|\n",
            "Epoch 0175|Val loss 9.365498e-02|Train loss 1.081647e-01|LR 0.00100|\n",
            "INFO:root:Epoch 0176|Val loss 1.036315e-01|Train loss 1.092626e-01|LR 0.00100|\n",
            "Epoch 0176|Val loss 1.036315e-01|Train loss 1.092626e-01|LR 0.00100|\n",
            "Epoch 0176|Val loss 1.036315e-01|Train loss 1.092626e-01|LR 0.00100|\n",
            "INFO:root:Epoch 0177|Val loss 9.060149e-02|Train loss 1.109519e-01|LR 0.00100|\n",
            "Epoch 0177|Val loss 9.060149e-02|Train loss 1.109519e-01|LR 0.00100|\n",
            "Epoch 0177|Val loss 9.060149e-02|Train loss 1.109519e-01|LR 0.00100|\n",
            "INFO:root:Epoch 0178|Val loss 9.284404e-02|Train loss 1.073501e-01|LR 0.00100|\n",
            "Epoch 0178|Val loss 9.284404e-02|Train loss 1.073501e-01|LR 0.00100|\n",
            "Epoch 0178|Val loss 9.284404e-02|Train loss 1.073501e-01|LR 0.00100|\n",
            "INFO:root:Epoch 0179|Val loss 1.087011e-01|Train loss 1.064868e-01|LR 0.00100|\n",
            "Epoch 0179|Val loss 1.087011e-01|Train loss 1.064868e-01|LR 0.00100|\n",
            "Epoch 0179|Val loss 1.087011e-01|Train loss 1.064868e-01|LR 0.00100|\n",
            "INFO:root:Epoch 0180|Val loss 1.073236e-01|Train loss 1.089287e-01|LR 0.00100|\n",
            "Epoch 0180|Val loss 1.073236e-01|Train loss 1.089287e-01|LR 0.00100|\n",
            "Epoch 0180|Val loss 1.073236e-01|Train loss 1.089287e-01|LR 0.00100|\n"
          ]
        },
        {
          "output_type": "display_data",
          "data": {
            "text/plain": [
              "EarlyStopping counter: 1 out of 20\n"
            ],
            "text/html": [
              "<pre style=\"white-space:pre;overflow-x:auto;line-height:normal;font-family:Menlo,'DejaVu Sans Mono',consolas,'Courier New',monospace\">EarlyStopping counter: 1 out of 20\n",
              "</pre>\n"
            ]
          },
          "metadata": {}
        },
        {
          "output_type": "stream",
          "name": "stderr",
          "text": [
            "INFO:root:Epoch 0181|Val loss 8.061458e-02|Train loss 1.085906e-01|LR 0.00060|\n",
            "Epoch 0181|Val loss 8.061458e-02|Train loss 1.085906e-01|LR 0.00060|\n",
            "Epoch 0181|Val loss 8.061458e-02|Train loss 1.085906e-01|LR 0.00060|\n",
            "INFO:root:Epoch 0182|Val loss 8.841177e-02|Train loss 1.023365e-01|LR 0.00060|\n",
            "Epoch 0182|Val loss 8.841177e-02|Train loss 1.023365e-01|LR 0.00060|\n",
            "Epoch 0182|Val loss 8.841177e-02|Train loss 1.023365e-01|LR 0.00060|\n",
            "INFO:root:Epoch 0183|Val loss 8.226729e-02|Train loss 1.026307e-01|LR 0.00060|\n",
            "Epoch 0183|Val loss 8.226729e-02|Train loss 1.026307e-01|LR 0.00060|\n",
            "Epoch 0183|Val loss 8.226729e-02|Train loss 1.026307e-01|LR 0.00060|\n",
            "INFO:root:Epoch 0184|Val loss 9.455079e-02|Train loss 1.053151e-01|LR 0.00060|\n",
            "Epoch 0184|Val loss 9.455079e-02|Train loss 1.053151e-01|LR 0.00060|\n",
            "Epoch 0184|Val loss 9.455079e-02|Train loss 1.053151e-01|LR 0.00060|\n",
            "INFO:root:Epoch 0185|Val loss 8.503180e-02|Train loss 1.046398e-01|LR 0.00060|\n",
            "Epoch 0185|Val loss 8.503180e-02|Train loss 1.046398e-01|LR 0.00060|\n",
            "Epoch 0185|Val loss 8.503180e-02|Train loss 1.046398e-01|LR 0.00060|\n",
            "INFO:root:Epoch 0186|Val loss 1.017080e-01|Train loss 1.059969e-01|LR 0.00060|\n",
            "Epoch 0186|Val loss 1.017080e-01|Train loss 1.059969e-01|LR 0.00060|\n",
            "Epoch 0186|Val loss 1.017080e-01|Train loss 1.059969e-01|LR 0.00060|\n",
            "INFO:root:Epoch 0187|Val loss 8.137532e-02|Train loss 1.064939e-01|LR 0.00060|\n",
            "Epoch 0187|Val loss 8.137532e-02|Train loss 1.064939e-01|LR 0.00060|\n",
            "Epoch 0187|Val loss 8.137532e-02|Train loss 1.064939e-01|LR 0.00060|\n",
            "INFO:root:Epoch 0188|Val loss 9.193728e-02|Train loss 9.974293e-02|LR 0.00060|\n",
            "Epoch 0188|Val loss 9.193728e-02|Train loss 9.974293e-02|LR 0.00060|\n",
            "Epoch 0188|Val loss 9.193728e-02|Train loss 9.974293e-02|LR 0.00060|\n",
            "INFO:root:Epoch 0189|Val loss 8.478303e-02|Train loss 1.006016e-01|LR 0.00060|\n",
            "Epoch 0189|Val loss 8.478303e-02|Train loss 1.006016e-01|LR 0.00060|\n",
            "Epoch 0189|Val loss 8.478303e-02|Train loss 1.006016e-01|LR 0.00060|\n",
            "INFO:root:Epoch 0190|Val loss 8.782680e-02|Train loss 9.864857e-02|LR 0.00060|\n",
            "Epoch 0190|Val loss 8.782680e-02|Train loss 9.864857e-02|LR 0.00060|\n",
            "Epoch 0190|Val loss 8.782680e-02|Train loss 9.864857e-02|LR 0.00060|\n"
          ]
        },
        {
          "output_type": "display_data",
          "data": {
            "text/plain": [
              "Val loss decreased (0.10 to 0.09). Model saved\n"
            ],
            "text/html": [
              "<pre style=\"white-space:pre;overflow-x:auto;line-height:normal;font-family:Menlo,'DejaVu Sans Mono',consolas,'Courier New',monospace\">Val loss decreased (0.10 to 0.09). Model saved\n",
              "</pre>\n"
            ]
          },
          "metadata": {}
        },
        {
          "output_type": "stream",
          "name": "stderr",
          "text": [
            "INFO:root:Epoch 0191|Val loss 8.097725e-02|Train loss 9.966668e-02|LR 0.00060|\n",
            "Epoch 0191|Val loss 8.097725e-02|Train loss 9.966668e-02|LR 0.00060|\n",
            "Epoch 0191|Val loss 8.097725e-02|Train loss 9.966668e-02|LR 0.00060|\n",
            "INFO:root:Epoch 0192|Val loss 8.949967e-02|Train loss 9.956164e-02|LR 0.00060|\n",
            "Epoch 0192|Val loss 8.949967e-02|Train loss 9.956164e-02|LR 0.00060|\n",
            "Epoch 0192|Val loss 8.949967e-02|Train loss 9.956164e-02|LR 0.00060|\n",
            "INFO:root:Epoch 0193|Val loss 8.485603e-02|Train loss 9.943494e-02|LR 0.00060|\n",
            "Epoch 0193|Val loss 8.485603e-02|Train loss 9.943494e-02|LR 0.00060|\n",
            "Epoch 0193|Val loss 8.485603e-02|Train loss 9.943494e-02|LR 0.00060|\n",
            "INFO:root:Epoch 0194|Val loss 8.432142e-02|Train loss 9.970679e-02|LR 0.00060|\n",
            "Epoch 0194|Val loss 8.432142e-02|Train loss 9.970679e-02|LR 0.00060|\n",
            "Epoch 0194|Val loss 8.432142e-02|Train loss 9.970679e-02|LR 0.00060|\n",
            "INFO:root:Epoch 0195|Val loss 8.852982e-02|Train loss 1.000169e-01|LR 0.00060|\n",
            "Epoch 0195|Val loss 8.852982e-02|Train loss 1.000169e-01|LR 0.00060|\n",
            "Epoch 0195|Val loss 8.852982e-02|Train loss 1.000169e-01|LR 0.00060|\n",
            "INFO:root:Epoch 0196|Val loss 8.579441e-02|Train loss 1.000590e-01|LR 0.00060|\n",
            "Epoch 0196|Val loss 8.579441e-02|Train loss 1.000590e-01|LR 0.00060|\n",
            "Epoch 0196|Val loss 8.579441e-02|Train loss 1.000590e-01|LR 0.00060|\n",
            "INFO:root:Epoch 0197|Val loss 9.547199e-02|Train loss 1.035630e-01|LR 0.00060|\n",
            "Epoch 0197|Val loss 9.547199e-02|Train loss 1.035630e-01|LR 0.00060|\n",
            "Epoch 0197|Val loss 9.547199e-02|Train loss 1.035630e-01|LR 0.00060|\n",
            "INFO:root:Epoch 0198|Val loss 8.524901e-02|Train loss 1.032218e-01|LR 0.00060|\n",
            "Epoch 0198|Val loss 8.524901e-02|Train loss 1.032218e-01|LR 0.00060|\n",
            "Epoch 0198|Val loss 8.524901e-02|Train loss 1.032218e-01|LR 0.00060|\n",
            "INFO:root:Epoch 0199|Val loss 9.727372e-02|Train loss 1.039819e-01|LR 0.00060|\n",
            "Epoch 0199|Val loss 9.727372e-02|Train loss 1.039819e-01|LR 0.00060|\n",
            "Epoch 0199|Val loss 9.727372e-02|Train loss 1.039819e-01|LR 0.00060|\n",
            "INFO:root:Epoch 0200|Val loss 8.644318e-02|Train loss 1.027104e-01|LR 0.00060|\n",
            "Epoch 0200|Val loss 8.644318e-02|Train loss 1.027104e-01|LR 0.00060|\n",
            "Epoch 0200|Val loss 8.644318e-02|Train loss 1.027104e-01|LR 0.00060|\n"
          ]
        },
        {
          "output_type": "display_data",
          "data": {
            "text/plain": [
              "Val loss decreased (0.09 to 0.09). Model saved\n"
            ],
            "text/html": [
              "<pre style=\"white-space:pre;overflow-x:auto;line-height:normal;font-family:Menlo,'DejaVu Sans Mono',consolas,'Courier New',monospace\">Val loss decreased (0.09 to 0.09). Model saved\n",
              "</pre>\n"
            ]
          },
          "metadata": {}
        },
        {
          "output_type": "stream",
          "name": "stderr",
          "text": [
            "INFO:root:Epoch 0201|Val loss 8.835452e-02|Train loss 1.024492e-01|LR 0.00060|\n",
            "Epoch 0201|Val loss 8.835452e-02|Train loss 1.024492e-01|LR 0.00060|\n",
            "Epoch 0201|Val loss 8.835452e-02|Train loss 1.024492e-01|LR 0.00060|\n",
            "INFO:root:Epoch 0202|Val loss 8.142926e-02|Train loss 1.020843e-01|LR 0.00060|\n",
            "Epoch 0202|Val loss 8.142926e-02|Train loss 1.020843e-01|LR 0.00060|\n",
            "Epoch 0202|Val loss 8.142926e-02|Train loss 1.020843e-01|LR 0.00060|\n",
            "INFO:root:Epoch 0203|Val loss 9.496775e-02|Train loss 1.038057e-01|LR 0.00060|\n",
            "Epoch 0203|Val loss 9.496775e-02|Train loss 1.038057e-01|LR 0.00060|\n",
            "Epoch 0203|Val loss 9.496775e-02|Train loss 1.038057e-01|LR 0.00060|\n",
            "INFO:root:Epoch 0204|Val loss 8.591153e-02|Train loss 1.030159e-01|LR 0.00060|\n",
            "Epoch 0204|Val loss 8.591153e-02|Train loss 1.030159e-01|LR 0.00060|\n",
            "Epoch 0204|Val loss 8.591153e-02|Train loss 1.030159e-01|LR 0.00060|\n",
            "INFO:root:Epoch 0205|Val loss 8.740038e-02|Train loss 1.013670e-01|LR 0.00060|\n",
            "Epoch 0205|Val loss 8.740038e-02|Train loss 1.013670e-01|LR 0.00060|\n",
            "Epoch 0205|Val loss 8.740038e-02|Train loss 1.013670e-01|LR 0.00060|\n",
            "INFO:root:Epoch 0206|Val loss 8.049056e-02|Train loss 1.013280e-01|LR 0.00060|\n",
            "Epoch 0206|Val loss 8.049056e-02|Train loss 1.013280e-01|LR 0.00060|\n",
            "Epoch 0206|Val loss 8.049056e-02|Train loss 1.013280e-01|LR 0.00060|\n",
            "INFO:root:Epoch 0207|Val loss 9.497335e-02|Train loss 9.979838e-02|LR 0.00060|\n",
            "Epoch 0207|Val loss 9.497335e-02|Train loss 9.979838e-02|LR 0.00060|\n",
            "Epoch 0207|Val loss 9.497335e-02|Train loss 9.979838e-02|LR 0.00060|\n",
            "INFO:root:Epoch 0208|Val loss 8.158730e-02|Train loss 1.015708e-01|LR 0.00060|\n",
            "Epoch 0208|Val loss 8.158730e-02|Train loss 1.015708e-01|LR 0.00060|\n",
            "Epoch 0208|Val loss 8.158730e-02|Train loss 1.015708e-01|LR 0.00060|\n",
            "INFO:root:Epoch 0209|Val loss 9.220485e-02|Train loss 1.002281e-01|LR 0.00060|\n",
            "Epoch 0209|Val loss 9.220485e-02|Train loss 1.002281e-01|LR 0.00060|\n",
            "Epoch 0209|Val loss 9.220485e-02|Train loss 1.002281e-01|LR 0.00060|\n",
            "INFO:root:Epoch 0210|Val loss 8.157999e-02|Train loss 1.000926e-01|LR 0.00060|\n",
            "Epoch 0210|Val loss 8.157999e-02|Train loss 1.000926e-01|LR 0.00060|\n",
            "Epoch 0210|Val loss 8.157999e-02|Train loss 1.000926e-01|LR 0.00060|\n"
          ]
        },
        {
          "output_type": "display_data",
          "data": {
            "text/plain": [
              "Val loss decreased (0.09 to 0.08). Model saved\n"
            ],
            "text/html": [
              "<pre style=\"white-space:pre;overflow-x:auto;line-height:normal;font-family:Menlo,'DejaVu Sans Mono',consolas,'Courier New',monospace\">Val loss decreased (0.09 to 0.08). Model saved\n",
              "</pre>\n"
            ]
          },
          "metadata": {}
        },
        {
          "output_type": "stream",
          "name": "stderr",
          "text": [
            "INFO:root:Epoch 0211|Val loss 9.029576e-02|Train loss 9.967571e-02|LR 0.00060|\n",
            "Epoch 0211|Val loss 9.029576e-02|Train loss 9.967571e-02|LR 0.00060|\n",
            "Epoch 0211|Val loss 9.029576e-02|Train loss 9.967571e-02|LR 0.00060|\n",
            "INFO:root:Epoch 0212|Val loss 7.653659e-02|Train loss 1.001250e-01|LR 0.00060|\n",
            "Epoch 0212|Val loss 7.653659e-02|Train loss 1.001250e-01|LR 0.00060|\n",
            "Epoch 0212|Val loss 7.653659e-02|Train loss 1.001250e-01|LR 0.00060|\n",
            "INFO:root:Epoch 0213|Val loss 9.335462e-02|Train loss 9.893148e-02|LR 0.00060|\n",
            "Epoch 0213|Val loss 9.335462e-02|Train loss 9.893148e-02|LR 0.00060|\n",
            "Epoch 0213|Val loss 9.335462e-02|Train loss 9.893148e-02|LR 0.00060|\n",
            "INFO:root:Epoch 0214|Val loss 8.082464e-02|Train loss 9.983202e-02|LR 0.00060|\n",
            "Epoch 0214|Val loss 8.082464e-02|Train loss 9.983202e-02|LR 0.00060|\n",
            "Epoch 0214|Val loss 8.082464e-02|Train loss 9.983202e-02|LR 0.00060|\n",
            "INFO:root:Epoch 0215|Val loss 9.126102e-02|Train loss 9.973469e-02|LR 0.00060|\n",
            "Epoch 0215|Val loss 9.126102e-02|Train loss 9.973469e-02|LR 0.00060|\n",
            "Epoch 0215|Val loss 9.126102e-02|Train loss 9.973469e-02|LR 0.00060|\n",
            "INFO:root:Epoch 0216|Val loss 8.456757e-02|Train loss 9.952527e-02|LR 0.00060|\n",
            "Epoch 0216|Val loss 8.456757e-02|Train loss 9.952527e-02|LR 0.00060|\n",
            "Epoch 0216|Val loss 8.456757e-02|Train loss 9.952527e-02|LR 0.00060|\n",
            "INFO:root:Epoch 0217|Val loss 8.597711e-02|Train loss 9.851692e-02|LR 0.00060|\n",
            "Epoch 0217|Val loss 8.597711e-02|Train loss 9.851692e-02|LR 0.00060|\n",
            "Epoch 0217|Val loss 8.597711e-02|Train loss 9.851692e-02|LR 0.00060|\n",
            "INFO:root:Epoch 0218|Val loss 8.598156e-02|Train loss 1.000642e-01|LR 0.00060|\n",
            "Epoch 0218|Val loss 8.598156e-02|Train loss 1.000642e-01|LR 0.00060|\n",
            "Epoch 0218|Val loss 8.598156e-02|Train loss 1.000642e-01|LR 0.00060|\n",
            "INFO:root:Epoch 0219|Val loss 8.497612e-02|Train loss 1.002877e-01|LR 0.00060|\n",
            "Epoch 0219|Val loss 8.497612e-02|Train loss 1.002877e-01|LR 0.00060|\n",
            "Epoch 0219|Val loss 8.497612e-02|Train loss 1.002877e-01|LR 0.00060|\n",
            "INFO:root:Epoch 0220|Val loss 8.670360e-02|Train loss 9.976286e-02|LR 0.00060|\n",
            "Epoch 0220|Val loss 8.670360e-02|Train loss 9.976286e-02|LR 0.00060|\n",
            "Epoch 0220|Val loss 8.670360e-02|Train loss 9.976286e-02|LR 0.00060|\n"
          ]
        },
        {
          "output_type": "display_data",
          "data": {
            "text/plain": [
              "EarlyStopping counter: 1 out of 20\n"
            ],
            "text/html": [
              "<pre style=\"white-space:pre;overflow-x:auto;line-height:normal;font-family:Menlo,'DejaVu Sans Mono',consolas,'Courier New',monospace\">EarlyStopping counter: 1 out of 20\n",
              "</pre>\n"
            ]
          },
          "metadata": {}
        },
        {
          "output_type": "stream",
          "name": "stderr",
          "text": [
            "INFO:root:Epoch 0221|Val loss 9.034293e-02|Train loss 1.005011e-01|LR 0.00060|\n",
            "Epoch 0221|Val loss 9.034293e-02|Train loss 1.005011e-01|LR 0.00060|\n",
            "Epoch 0221|Val loss 9.034293e-02|Train loss 1.005011e-01|LR 0.00060|\n",
            "INFO:root:Epoch 0222|Val loss 8.563879e-02|Train loss 1.011246e-01|LR 0.00060|\n",
            "Epoch 0222|Val loss 8.563879e-02|Train loss 1.011246e-01|LR 0.00060|\n",
            "Epoch 0222|Val loss 8.563879e-02|Train loss 1.011246e-01|LR 0.00060|\n",
            "INFO:root:Epoch 0223|Val loss 8.623165e-02|Train loss 1.016341e-01|LR 0.00060|\n",
            "Epoch 0223|Val loss 8.623165e-02|Train loss 1.016341e-01|LR 0.00060|\n",
            "Epoch 0223|Val loss 8.623165e-02|Train loss 1.016341e-01|LR 0.00060|\n",
            "INFO:root:Epoch 0224|Val loss 8.112089e-02|Train loss 1.015976e-01|LR 0.00060|\n",
            "Epoch 0224|Val loss 8.112089e-02|Train loss 1.015976e-01|LR 0.00060|\n",
            "Epoch 0224|Val loss 8.112089e-02|Train loss 1.015976e-01|LR 0.00060|\n",
            "INFO:root:Epoch 0225|Val loss 8.776155e-02|Train loss 1.010721e-01|LR 0.00060|\n",
            "Epoch 0225|Val loss 8.776155e-02|Train loss 1.010721e-01|LR 0.00060|\n",
            "Epoch 0225|Val loss 8.776155e-02|Train loss 1.010721e-01|LR 0.00060|\n",
            "INFO:root:Epoch 0226|Val loss 8.055396e-02|Train loss 9.944695e-02|LR 0.00060|\n",
            "Epoch 0226|Val loss 8.055396e-02|Train loss 9.944695e-02|LR 0.00060|\n",
            "Epoch 0226|Val loss 8.055396e-02|Train loss 9.944695e-02|LR 0.00060|\n",
            "INFO:root:Epoch 0227|Val loss 9.046775e-02|Train loss 1.002085e-01|LR 0.00060|\n",
            "Epoch 0227|Val loss 9.046775e-02|Train loss 1.002085e-01|LR 0.00060|\n",
            "Epoch 0227|Val loss 9.046775e-02|Train loss 1.002085e-01|LR 0.00060|\n",
            "INFO:root:Epoch 0228|Val loss 7.734043e-02|Train loss 9.981384e-02|LR 0.00060|\n",
            "Epoch 0228|Val loss 7.734043e-02|Train loss 9.981384e-02|LR 0.00060|\n",
            "Epoch 0228|Val loss 7.734043e-02|Train loss 9.981384e-02|LR 0.00060|\n",
            "INFO:root:Epoch 0229|Val loss 8.718651e-02|Train loss 9.944919e-02|LR 0.00060|\n",
            "Epoch 0229|Val loss 8.718651e-02|Train loss 9.944919e-02|LR 0.00060|\n",
            "Epoch 0229|Val loss 8.718651e-02|Train loss 9.944919e-02|LR 0.00060|\n",
            "INFO:root:Epoch 0230|Val loss 7.920663e-02|Train loss 9.895638e-02|LR 0.00060|\n",
            "Epoch 0230|Val loss 7.920663e-02|Train loss 9.895638e-02|LR 0.00060|\n",
            "Epoch 0230|Val loss 7.920663e-02|Train loss 9.895638e-02|LR 0.00060|\n"
          ]
        },
        {
          "output_type": "display_data",
          "data": {
            "text/plain": [
              "Val loss decreased (0.08 to 0.08). Model saved\n"
            ],
            "text/html": [
              "<pre style=\"white-space:pre;overflow-x:auto;line-height:normal;font-family:Menlo,'DejaVu Sans Mono',consolas,'Courier New',monospace\">Val loss decreased (0.08 to 0.08). Model saved\n",
              "</pre>\n"
            ]
          },
          "metadata": {}
        },
        {
          "output_type": "stream",
          "name": "stderr",
          "text": [
            "INFO:root:Epoch 0231|Val loss 8.949259e-02|Train loss 9.879435e-02|LR 0.00060|\n",
            "Epoch 0231|Val loss 8.949259e-02|Train loss 9.879435e-02|LR 0.00060|\n",
            "Epoch 0231|Val loss 8.949259e-02|Train loss 9.879435e-02|LR 0.00060|\n",
            "INFO:root:Epoch 0232|Val loss 8.068053e-02|Train loss 9.944601e-02|LR 0.00060|\n",
            "Epoch 0232|Val loss 8.068053e-02|Train loss 9.944601e-02|LR 0.00060|\n",
            "Epoch 0232|Val loss 8.068053e-02|Train loss 9.944601e-02|LR 0.00060|\n",
            "INFO:root:Epoch 0233|Val loss 9.009714e-02|Train loss 1.012949e-01|LR 0.00060|\n",
            "Epoch 0233|Val loss 9.009714e-02|Train loss 1.012949e-01|LR 0.00060|\n",
            "Epoch 0233|Val loss 9.009714e-02|Train loss 1.012949e-01|LR 0.00060|\n",
            "INFO:root:Epoch 0234|Val loss 7.869713e-02|Train loss 9.872566e-02|LR 0.00060|\n",
            "Epoch 0234|Val loss 7.869713e-02|Train loss 9.872566e-02|LR 0.00060|\n",
            "Epoch 0234|Val loss 7.869713e-02|Train loss 9.872566e-02|LR 0.00060|\n",
            "INFO:root:Epoch 0235|Val loss 8.120961e-02|Train loss 9.869306e-02|LR 0.00060|\n",
            "Epoch 0235|Val loss 8.120961e-02|Train loss 9.869306e-02|LR 0.00060|\n",
            "Epoch 0235|Val loss 8.120961e-02|Train loss 9.869306e-02|LR 0.00060|\n",
            "INFO:root:Epoch 0236|Val loss 7.815936e-02|Train loss 9.729137e-02|LR 0.00060|\n",
            "Epoch 0236|Val loss 7.815936e-02|Train loss 9.729137e-02|LR 0.00060|\n",
            "Epoch 0236|Val loss 7.815936e-02|Train loss 9.729137e-02|LR 0.00060|\n",
            "INFO:root:Epoch 0237|Val loss 8.233478e-02|Train loss 9.930015e-02|LR 0.00060|\n",
            "Epoch 0237|Val loss 8.233478e-02|Train loss 9.930015e-02|LR 0.00060|\n",
            "Epoch 0237|Val loss 8.233478e-02|Train loss 9.930015e-02|LR 0.00060|\n",
            "INFO:root:Epoch 0238|Val loss 8.100513e-02|Train loss 9.792236e-02|LR 0.00060|\n",
            "Epoch 0238|Val loss 8.100513e-02|Train loss 9.792236e-02|LR 0.00060|\n",
            "Epoch 0238|Val loss 8.100513e-02|Train loss 9.792236e-02|LR 0.00060|\n",
            "INFO:root:Epoch 0239|Val loss 9.092152e-02|Train loss 9.897039e-02|LR 0.00060|\n",
            "Epoch 0239|Val loss 9.092152e-02|Train loss 9.897039e-02|LR 0.00060|\n",
            "Epoch 0239|Val loss 9.092152e-02|Train loss 9.897039e-02|LR 0.00060|\n",
            "INFO:root:Epoch 0240|Val loss 8.567336e-02|Train loss 9.990558e-02|LR 0.00060|\n",
            "Epoch 0240|Val loss 8.567336e-02|Train loss 9.990558e-02|LR 0.00060|\n",
            "Epoch 0240|Val loss 8.567336e-02|Train loss 9.990558e-02|LR 0.00060|\n"
          ]
        },
        {
          "output_type": "display_data",
          "data": {
            "text/plain": [
              "EarlyStopping counter: 1 out of 20\n"
            ],
            "text/html": [
              "<pre style=\"white-space:pre;overflow-x:auto;line-height:normal;font-family:Menlo,'DejaVu Sans Mono',consolas,'Courier New',monospace\">EarlyStopping counter: 1 out of 20\n",
              "</pre>\n"
            ]
          },
          "metadata": {}
        },
        {
          "output_type": "stream",
          "name": "stderr",
          "text": [
            "INFO:root:Epoch 0241|Val loss 8.419956e-02|Train loss 1.006559e-01|LR 0.00060|\n",
            "Epoch 0241|Val loss 8.419956e-02|Train loss 1.006559e-01|LR 0.00060|\n",
            "Epoch 0241|Val loss 8.419956e-02|Train loss 1.006559e-01|LR 0.00060|\n",
            "INFO:root:Epoch 0242|Val loss 8.332435e-02|Train loss 1.011203e-01|LR 0.00060|\n",
            "Epoch 0242|Val loss 8.332435e-02|Train loss 1.011203e-01|LR 0.00060|\n",
            "Epoch 0242|Val loss 8.332435e-02|Train loss 1.011203e-01|LR 0.00060|\n",
            "INFO:root:Epoch 0243|Val loss 8.578337e-02|Train loss 1.019897e-01|LR 0.00060|\n",
            "Epoch 0243|Val loss 8.578337e-02|Train loss 1.019897e-01|LR 0.00060|\n",
            "Epoch 0243|Val loss 8.578337e-02|Train loss 1.019897e-01|LR 0.00060|\n",
            "INFO:root:Epoch 0244|Val loss 8.400852e-02|Train loss 1.001240e-01|LR 0.00060|\n",
            "Epoch 0244|Val loss 8.400852e-02|Train loss 1.001240e-01|LR 0.00060|\n",
            "Epoch 0244|Val loss 8.400852e-02|Train loss 1.001240e-01|LR 0.00060|\n",
            "INFO:root:Epoch 0245|Val loss 1.054276e-01|Train loss 1.015552e-01|LR 0.00060|\n",
            "Epoch 0245|Val loss 1.054276e-01|Train loss 1.015552e-01|LR 0.00060|\n",
            "Epoch 0245|Val loss 1.054276e-01|Train loss 1.015552e-01|LR 0.00060|\n",
            "INFO:root:Epoch 0246|Val loss 8.755875e-02|Train loss 1.010550e-01|LR 0.00060|\n",
            "Epoch 0246|Val loss 8.755875e-02|Train loss 1.010550e-01|LR 0.00060|\n",
            "Epoch 0246|Val loss 8.755875e-02|Train loss 1.010550e-01|LR 0.00060|\n",
            "INFO:root:Epoch 0247|Val loss 1.013122e-01|Train loss 1.018530e-01|LR 0.00060|\n",
            "Epoch 0247|Val loss 1.013122e-01|Train loss 1.018530e-01|LR 0.00060|\n",
            "Epoch 0247|Val loss 1.013122e-01|Train loss 1.018530e-01|LR 0.00060|\n",
            "INFO:root:Epoch 0248|Val loss 8.784614e-02|Train loss 1.014913e-01|LR 0.00060|\n",
            "Epoch 0248|Val loss 8.784614e-02|Train loss 1.014913e-01|LR 0.00060|\n",
            "Epoch 0248|Val loss 8.784614e-02|Train loss 1.014913e-01|LR 0.00060|\n",
            "INFO:root:Epoch 0249|Val loss 9.598699e-02|Train loss 1.006384e-01|LR 0.00060|\n",
            "Epoch 0249|Val loss 9.598699e-02|Train loss 1.006384e-01|LR 0.00060|\n",
            "Epoch 0249|Val loss 9.598699e-02|Train loss 1.006384e-01|LR 0.00060|\n",
            "INFO:root:Epoch 0250|Val loss 9.143683e-02|Train loss 1.008580e-01|LR 0.00060|\n",
            "Epoch 0250|Val loss 9.143683e-02|Train loss 1.008580e-01|LR 0.00060|\n",
            "Epoch 0250|Val loss 9.143683e-02|Train loss 1.008580e-01|LR 0.00060|\n"
          ]
        },
        {
          "output_type": "display_data",
          "data": {
            "text/plain": [
              "EarlyStopping counter: 2 out of 20\n"
            ],
            "text/html": [
              "<pre style=\"white-space:pre;overflow-x:auto;line-height:normal;font-family:Menlo,'DejaVu Sans Mono',consolas,'Courier New',monospace\">EarlyStopping counter: 2 out of 20\n",
              "</pre>\n"
            ]
          },
          "metadata": {}
        },
        {
          "output_type": "stream",
          "name": "stderr",
          "text": [
            "INFO:root:Epoch 0251|Val loss 8.995245e-02|Train loss 9.986876e-02|LR 0.00060|\n",
            "Epoch 0251|Val loss 8.995245e-02|Train loss 9.986876e-02|LR 0.00060|\n",
            "Epoch 0251|Val loss 8.995245e-02|Train loss 9.986876e-02|LR 0.00060|\n",
            "INFO:root:Epoch 0252|Val loss 8.925949e-02|Train loss 1.008259e-01|LR 0.00060|\n",
            "Epoch 0252|Val loss 8.925949e-02|Train loss 1.008259e-01|LR 0.00060|\n",
            "Epoch 0252|Val loss 8.925949e-02|Train loss 1.008259e-01|LR 0.00060|\n",
            "INFO:root:Epoch 0253|Val loss 8.225803e-02|Train loss 9.938808e-02|LR 0.00060|\n",
            "Epoch 0253|Val loss 8.225803e-02|Train loss 9.938808e-02|LR 0.00060|\n",
            "Epoch 0253|Val loss 8.225803e-02|Train loss 9.938808e-02|LR 0.00060|\n",
            "INFO:root:Epoch 0254|Val loss 7.542425e-02|Train loss 9.718970e-02|LR 0.00036|\n",
            "Epoch 0254|Val loss 7.542425e-02|Train loss 9.718970e-02|LR 0.00036|\n",
            "Epoch 0254|Val loss 7.542425e-02|Train loss 9.718970e-02|LR 0.00036|\n",
            "Epoch 0255|Val loss 7.439344e-02|Train loss 9.355302e-02|LR 0.00036|\n",
            "Epoch 0255|Val loss 7.439344e-02|Train loss 9.355302e-02|LR 0.00036|\n",
            "INFO:root:Epoch 0256|Val loss 7.601726e-02|Train loss 9.259184e-02|LR 0.00036|\n",
            "Epoch 0256|Val loss 7.601726e-02|Train loss 9.259184e-02|LR 0.00036|\n",
            "Epoch 0256|Val loss 7.601726e-02|Train loss 9.259184e-02|LR 0.00036|\n",
            "INFO:root:Epoch 0257|Val loss 7.496519e-02|Train loss 9.228564e-02|LR 0.00036|\n",
            "Epoch 0257|Val loss 7.496519e-02|Train loss 9.228564e-02|LR 0.00036|\n",
            "Epoch 0257|Val loss 7.496519e-02|Train loss 9.228564e-02|LR 0.00036|\n",
            "INFO:root:Epoch 0258|Val loss 8.127371e-02|Train loss 9.290330e-02|LR 0.00036|\n",
            "Epoch 0258|Val loss 8.127371e-02|Train loss 9.290330e-02|LR 0.00036|\n",
            "Epoch 0258|Val loss 8.127371e-02|Train loss 9.290330e-02|LR 0.00036|\n",
            "INFO:root:Epoch 0259|Val loss 8.014931e-02|Train loss 9.390740e-02|LR 0.00036|\n",
            "Epoch 0259|Val loss 8.014931e-02|Train loss 9.390740e-02|LR 0.00036|\n",
            "Epoch 0259|Val loss 8.014931e-02|Train loss 9.390740e-02|LR 0.00036|\n",
            "INFO:root:Epoch 0260|Val loss 8.847571e-02|Train loss 9.377994e-02|LR 0.00036|\n",
            "Epoch 0260|Val loss 8.847571e-02|Train loss 9.377994e-02|LR 0.00036|\n",
            "Epoch 0260|Val loss 8.847571e-02|Train loss 9.377994e-02|LR 0.00036|\n"
          ]
        },
        {
          "output_type": "display_data",
          "data": {
            "text/plain": [
              "EarlyStopping counter: 3 out of 20\n"
            ],
            "text/html": [
              "<pre style=\"white-space:pre;overflow-x:auto;line-height:normal;font-family:Menlo,'DejaVu Sans Mono',consolas,'Courier New',monospace\">EarlyStopping counter: 3 out of 20\n",
              "</pre>\n"
            ]
          },
          "metadata": {}
        },
        {
          "output_type": "stream",
          "name": "stderr",
          "text": [
            "INFO:root:Epoch 0261|Val loss 8.284345e-02|Train loss 9.488216e-02|LR 0.00036|\n",
            "Epoch 0261|Val loss 8.284345e-02|Train loss 9.488216e-02|LR 0.00036|\n",
            "Epoch 0261|Val loss 8.284345e-02|Train loss 9.488216e-02|LR 0.00036|\n"
          ]
        },
        {
          "output_type": "display_data",
          "data": {
            "text/plain": [],
            "text/html": [
              "<pre style=\"white-space:pre;overflow-x:auto;line-height:normal;font-family:Menlo,'DejaVu Sans Mono',consolas,'Courier New',monospace\"></pre>\n"
            ]
          },
          "metadata": {}
        },
        {
          "output_type": "error",
          "ename": "KeyboardInterrupt",
          "evalue": "",
          "traceback": [
            "\u001b[0;31m---------------------------------------------------------------------------\u001b[0m",
            "\u001b[0;31mKeyboardInterrupt\u001b[0m                         Traceback (most recent call last)",
            "\u001b[0;32m<ipython-input-129-52f911cfbb48>\u001b[0m in \u001b[0;36m<cell line: 23>\u001b[0;34m()\u001b[0m\n\u001b[1;32m     45\u001b[0m \u001b[0;34m\u001b[0m\u001b[0m\n\u001b[1;32m     46\u001b[0m             \u001b[0;31m# Forward pass\u001b[0m\u001b[0;34m\u001b[0m\u001b[0;34m\u001b[0m\u001b[0m\n\u001b[0;32m---> 47\u001b[0;31m             \u001b[0marr_pred\u001b[0m \u001b[0;34m=\u001b[0m \u001b[0mmodel\u001b[0m\u001b[0;34m(\u001b[0m\u001b[0mraw_img\u001b[0m\u001b[0;34m)\u001b[0m\u001b[0;34m\u001b[0m\u001b[0;34m\u001b[0m\u001b[0m\n\u001b[0m\u001b[1;32m     48\u001b[0m \u001b[0;34m\u001b[0m\u001b[0m\n\u001b[1;32m     49\u001b[0m             \u001b[0;31m# Compute Loss\u001b[0m\u001b[0;34m\u001b[0m\u001b[0;34m\u001b[0m\u001b[0m\n",
            "\u001b[0;32m/usr/local/lib/python3.10/dist-packages/torch/nn/modules/module.py\u001b[0m in \u001b[0;36m_wrapped_call_impl\u001b[0;34m(self, *args, **kwargs)\u001b[0m\n\u001b[1;32m   1551\u001b[0m             \u001b[0;32mreturn\u001b[0m \u001b[0mself\u001b[0m\u001b[0;34m.\u001b[0m\u001b[0m_compiled_call_impl\u001b[0m\u001b[0;34m(\u001b[0m\u001b[0;34m*\u001b[0m\u001b[0margs\u001b[0m\u001b[0;34m,\u001b[0m \u001b[0;34m**\u001b[0m\u001b[0mkwargs\u001b[0m\u001b[0;34m)\u001b[0m  \u001b[0;31m# type: ignore[misc]\u001b[0m\u001b[0;34m\u001b[0m\u001b[0;34m\u001b[0m\u001b[0m\n\u001b[1;32m   1552\u001b[0m         \u001b[0;32melse\u001b[0m\u001b[0;34m:\u001b[0m\u001b[0;34m\u001b[0m\u001b[0;34m\u001b[0m\u001b[0m\n\u001b[0;32m-> 1553\u001b[0;31m             \u001b[0;32mreturn\u001b[0m \u001b[0mself\u001b[0m\u001b[0;34m.\u001b[0m\u001b[0m_call_impl\u001b[0m\u001b[0;34m(\u001b[0m\u001b[0;34m*\u001b[0m\u001b[0margs\u001b[0m\u001b[0;34m,\u001b[0m \u001b[0;34m**\u001b[0m\u001b[0mkwargs\u001b[0m\u001b[0;34m)\u001b[0m\u001b[0;34m\u001b[0m\u001b[0;34m\u001b[0m\u001b[0m\n\u001b[0m\u001b[1;32m   1554\u001b[0m \u001b[0;34m\u001b[0m\u001b[0m\n\u001b[1;32m   1555\u001b[0m     \u001b[0;32mdef\u001b[0m \u001b[0m_call_impl\u001b[0m\u001b[0;34m(\u001b[0m\u001b[0mself\u001b[0m\u001b[0;34m,\u001b[0m \u001b[0;34m*\u001b[0m\u001b[0margs\u001b[0m\u001b[0;34m,\u001b[0m \u001b[0;34m**\u001b[0m\u001b[0mkwargs\u001b[0m\u001b[0;34m)\u001b[0m\u001b[0;34m:\u001b[0m\u001b[0;34m\u001b[0m\u001b[0;34m\u001b[0m\u001b[0m\n",
            "\u001b[0;32m/usr/local/lib/python3.10/dist-packages/torch/nn/modules/module.py\u001b[0m in \u001b[0;36m_call_impl\u001b[0;34m(self, *args, **kwargs)\u001b[0m\n\u001b[1;32m   1560\u001b[0m                 \u001b[0;32mor\u001b[0m \u001b[0m_global_backward_pre_hooks\u001b[0m \u001b[0;32mor\u001b[0m \u001b[0m_global_backward_hooks\u001b[0m\u001b[0;34m\u001b[0m\u001b[0;34m\u001b[0m\u001b[0m\n\u001b[1;32m   1561\u001b[0m                 or _global_forward_hooks or _global_forward_pre_hooks):\n\u001b[0;32m-> 1562\u001b[0;31m             \u001b[0;32mreturn\u001b[0m \u001b[0mforward_call\u001b[0m\u001b[0;34m(\u001b[0m\u001b[0;34m*\u001b[0m\u001b[0margs\u001b[0m\u001b[0;34m,\u001b[0m \u001b[0;34m**\u001b[0m\u001b[0mkwargs\u001b[0m\u001b[0;34m)\u001b[0m\u001b[0;34m\u001b[0m\u001b[0;34m\u001b[0m\u001b[0m\n\u001b[0m\u001b[1;32m   1563\u001b[0m \u001b[0;34m\u001b[0m\u001b[0m\n\u001b[1;32m   1564\u001b[0m         \u001b[0;32mtry\u001b[0m\u001b[0;34m:\u001b[0m\u001b[0;34m\u001b[0m\u001b[0;34m\u001b[0m\u001b[0m\n",
            "\u001b[0;32m<ipython-input-126-ee5c32cbbca5>\u001b[0m in \u001b[0;36mforward\u001b[0;34m(self, x)\u001b[0m\n\u001b[1;32m     37\u001b[0m         \u001b[0mx_t\u001b[0m \u001b[0;34m=\u001b[0m \u001b[0mx\u001b[0m\u001b[0;34m[\u001b[0m\u001b[0;34m:\u001b[0m\u001b[0;34m,\u001b[0m \u001b[0;36m0\u001b[0m\u001b[0;34m,\u001b[0m \u001b[0;34m:\u001b[0m\u001b[0;34m,\u001b[0m \u001b[0;36m1024\u001b[0m\u001b[0;34m]\u001b[0m\u001b[0;34m\u001b[0m\u001b[0;34m\u001b[0m\u001b[0m\n\u001b[1;32m     38\u001b[0m \u001b[0;34m\u001b[0m\u001b[0m\n\u001b[0;32m---> 39\u001b[0;31m         \u001b[0mx_ft\u001b[0m \u001b[0;34m=\u001b[0m \u001b[0mself\u001b[0m\u001b[0;34m.\u001b[0m\u001b[0mfeatures\u001b[0m\u001b[0;34m(\u001b[0m\u001b[0mx_ip\u001b[0m\u001b[0;34m)\u001b[0m\u001b[0;34m\u001b[0m\u001b[0;34m\u001b[0m\u001b[0m\n\u001b[0m\u001b[1;32m     40\u001b[0m \u001b[0;34m\u001b[0m\u001b[0m\n\u001b[1;32m     41\u001b[0m         \u001b[0mx_ft\u001b[0m \u001b[0;34m=\u001b[0m \u001b[0mtorch\u001b[0m\u001b[0;34m.\u001b[0m\u001b[0mflatten\u001b[0m\u001b[0;34m(\u001b[0m\u001b[0mx_ft\u001b[0m\u001b[0;34m,\u001b[0m \u001b[0;36m1\u001b[0m\u001b[0;34m)\u001b[0m\u001b[0;34m\u001b[0m\u001b[0;34m\u001b[0m\u001b[0m\n",
            "\u001b[0;32m/usr/local/lib/python3.10/dist-packages/torch/nn/modules/module.py\u001b[0m in \u001b[0;36m_wrapped_call_impl\u001b[0;34m(self, *args, **kwargs)\u001b[0m\n\u001b[1;32m   1551\u001b[0m             \u001b[0;32mreturn\u001b[0m \u001b[0mself\u001b[0m\u001b[0;34m.\u001b[0m\u001b[0m_compiled_call_impl\u001b[0m\u001b[0;34m(\u001b[0m\u001b[0;34m*\u001b[0m\u001b[0margs\u001b[0m\u001b[0;34m,\u001b[0m \u001b[0;34m**\u001b[0m\u001b[0mkwargs\u001b[0m\u001b[0;34m)\u001b[0m  \u001b[0;31m# type: ignore[misc]\u001b[0m\u001b[0;34m\u001b[0m\u001b[0;34m\u001b[0m\u001b[0m\n\u001b[1;32m   1552\u001b[0m         \u001b[0;32melse\u001b[0m\u001b[0;34m:\u001b[0m\u001b[0;34m\u001b[0m\u001b[0;34m\u001b[0m\u001b[0m\n\u001b[0;32m-> 1553\u001b[0;31m             \u001b[0;32mreturn\u001b[0m \u001b[0mself\u001b[0m\u001b[0;34m.\u001b[0m\u001b[0m_call_impl\u001b[0m\u001b[0;34m(\u001b[0m\u001b[0;34m*\u001b[0m\u001b[0margs\u001b[0m\u001b[0;34m,\u001b[0m \u001b[0;34m**\u001b[0m\u001b[0mkwargs\u001b[0m\u001b[0;34m)\u001b[0m\u001b[0;34m\u001b[0m\u001b[0;34m\u001b[0m\u001b[0m\n\u001b[0m\u001b[1;32m   1554\u001b[0m \u001b[0;34m\u001b[0m\u001b[0m\n\u001b[1;32m   1555\u001b[0m     \u001b[0;32mdef\u001b[0m \u001b[0m_call_impl\u001b[0m\u001b[0;34m(\u001b[0m\u001b[0mself\u001b[0m\u001b[0;34m,\u001b[0m \u001b[0;34m*\u001b[0m\u001b[0margs\u001b[0m\u001b[0;34m,\u001b[0m \u001b[0;34m**\u001b[0m\u001b[0mkwargs\u001b[0m\u001b[0;34m)\u001b[0m\u001b[0;34m:\u001b[0m\u001b[0;34m\u001b[0m\u001b[0;34m\u001b[0m\u001b[0m\n",
            "\u001b[0;32m/usr/local/lib/python3.10/dist-packages/torch/nn/modules/module.py\u001b[0m in \u001b[0;36m_call_impl\u001b[0;34m(self, *args, **kwargs)\u001b[0m\n\u001b[1;32m   1560\u001b[0m                 \u001b[0;32mor\u001b[0m \u001b[0m_global_backward_pre_hooks\u001b[0m \u001b[0;32mor\u001b[0m \u001b[0m_global_backward_hooks\u001b[0m\u001b[0;34m\u001b[0m\u001b[0;34m\u001b[0m\u001b[0m\n\u001b[1;32m   1561\u001b[0m                 or _global_forward_hooks or _global_forward_pre_hooks):\n\u001b[0;32m-> 1562\u001b[0;31m             \u001b[0;32mreturn\u001b[0m \u001b[0mforward_call\u001b[0m\u001b[0;34m(\u001b[0m\u001b[0;34m*\u001b[0m\u001b[0margs\u001b[0m\u001b[0;34m,\u001b[0m \u001b[0;34m**\u001b[0m\u001b[0mkwargs\u001b[0m\u001b[0;34m)\u001b[0m\u001b[0;34m\u001b[0m\u001b[0;34m\u001b[0m\u001b[0m\n\u001b[0m\u001b[1;32m   1563\u001b[0m \u001b[0;34m\u001b[0m\u001b[0m\n\u001b[1;32m   1564\u001b[0m         \u001b[0;32mtry\u001b[0m\u001b[0;34m:\u001b[0m\u001b[0;34m\u001b[0m\u001b[0;34m\u001b[0m\u001b[0m\n",
            "\u001b[0;32m/usr/local/lib/python3.10/dist-packages/torch/nn/modules/container.py\u001b[0m in \u001b[0;36mforward\u001b[0;34m(self, input)\u001b[0m\n\u001b[1;32m    217\u001b[0m     \u001b[0;32mdef\u001b[0m \u001b[0mforward\u001b[0m\u001b[0;34m(\u001b[0m\u001b[0mself\u001b[0m\u001b[0;34m,\u001b[0m \u001b[0minput\u001b[0m\u001b[0;34m)\u001b[0m\u001b[0;34m:\u001b[0m\u001b[0;34m\u001b[0m\u001b[0;34m\u001b[0m\u001b[0m\n\u001b[1;32m    218\u001b[0m         \u001b[0;32mfor\u001b[0m \u001b[0mmodule\u001b[0m \u001b[0;32min\u001b[0m \u001b[0mself\u001b[0m\u001b[0;34m:\u001b[0m\u001b[0;34m\u001b[0m\u001b[0;34m\u001b[0m\u001b[0m\n\u001b[0;32m--> 219\u001b[0;31m             \u001b[0minput\u001b[0m \u001b[0;34m=\u001b[0m \u001b[0mmodule\u001b[0m\u001b[0;34m(\u001b[0m\u001b[0minput\u001b[0m\u001b[0;34m)\u001b[0m\u001b[0;34m\u001b[0m\u001b[0;34m\u001b[0m\u001b[0m\n\u001b[0m\u001b[1;32m    220\u001b[0m         \u001b[0;32mreturn\u001b[0m \u001b[0minput\u001b[0m\u001b[0;34m\u001b[0m\u001b[0;34m\u001b[0m\u001b[0m\n\u001b[1;32m    221\u001b[0m \u001b[0;34m\u001b[0m\u001b[0m\n",
            "\u001b[0;32m/usr/local/lib/python3.10/dist-packages/torch/nn/modules/module.py\u001b[0m in \u001b[0;36m_wrapped_call_impl\u001b[0;34m(self, *args, **kwargs)\u001b[0m\n\u001b[1;32m   1551\u001b[0m             \u001b[0;32mreturn\u001b[0m \u001b[0mself\u001b[0m\u001b[0;34m.\u001b[0m\u001b[0m_compiled_call_impl\u001b[0m\u001b[0;34m(\u001b[0m\u001b[0;34m*\u001b[0m\u001b[0margs\u001b[0m\u001b[0;34m,\u001b[0m \u001b[0;34m**\u001b[0m\u001b[0mkwargs\u001b[0m\u001b[0;34m)\u001b[0m  \u001b[0;31m# type: ignore[misc]\u001b[0m\u001b[0;34m\u001b[0m\u001b[0;34m\u001b[0m\u001b[0m\n\u001b[1;32m   1552\u001b[0m         \u001b[0;32melse\u001b[0m\u001b[0;34m:\u001b[0m\u001b[0;34m\u001b[0m\u001b[0;34m\u001b[0m\u001b[0m\n\u001b[0;32m-> 1553\u001b[0;31m             \u001b[0;32mreturn\u001b[0m \u001b[0mself\u001b[0m\u001b[0;34m.\u001b[0m\u001b[0m_call_impl\u001b[0m\u001b[0;34m(\u001b[0m\u001b[0;34m*\u001b[0m\u001b[0margs\u001b[0m\u001b[0;34m,\u001b[0m \u001b[0;34m**\u001b[0m\u001b[0mkwargs\u001b[0m\u001b[0;34m)\u001b[0m\u001b[0;34m\u001b[0m\u001b[0;34m\u001b[0m\u001b[0m\n\u001b[0m\u001b[1;32m   1554\u001b[0m \u001b[0;34m\u001b[0m\u001b[0m\n\u001b[1;32m   1555\u001b[0m     \u001b[0;32mdef\u001b[0m \u001b[0m_call_impl\u001b[0m\u001b[0;34m(\u001b[0m\u001b[0mself\u001b[0m\u001b[0;34m,\u001b[0m \u001b[0;34m*\u001b[0m\u001b[0margs\u001b[0m\u001b[0;34m,\u001b[0m \u001b[0;34m**\u001b[0m\u001b[0mkwargs\u001b[0m\u001b[0;34m)\u001b[0m\u001b[0;34m:\u001b[0m\u001b[0;34m\u001b[0m\u001b[0;34m\u001b[0m\u001b[0m\n",
            "\u001b[0;32m/usr/local/lib/python3.10/dist-packages/torch/nn/modules/module.py\u001b[0m in \u001b[0;36m_call_impl\u001b[0;34m(self, *args, **kwargs)\u001b[0m\n\u001b[1;32m   1560\u001b[0m                 \u001b[0;32mor\u001b[0m \u001b[0m_global_backward_pre_hooks\u001b[0m \u001b[0;32mor\u001b[0m \u001b[0m_global_backward_hooks\u001b[0m\u001b[0;34m\u001b[0m\u001b[0;34m\u001b[0m\u001b[0m\n\u001b[1;32m   1561\u001b[0m                 or _global_forward_hooks or _global_forward_pre_hooks):\n\u001b[0;32m-> 1562\u001b[0;31m             \u001b[0;32mreturn\u001b[0m \u001b[0mforward_call\u001b[0m\u001b[0;34m(\u001b[0m\u001b[0;34m*\u001b[0m\u001b[0margs\u001b[0m\u001b[0;34m,\u001b[0m \u001b[0;34m**\u001b[0m\u001b[0mkwargs\u001b[0m\u001b[0;34m)\u001b[0m\u001b[0;34m\u001b[0m\u001b[0;34m\u001b[0m\u001b[0m\n\u001b[0m\u001b[1;32m   1563\u001b[0m \u001b[0;34m\u001b[0m\u001b[0m\n\u001b[1;32m   1564\u001b[0m         \u001b[0;32mtry\u001b[0m\u001b[0;34m:\u001b[0m\u001b[0;34m\u001b[0m\u001b[0;34m\u001b[0m\u001b[0m\n",
            "\u001b[0;32m/usr/local/lib/python3.10/dist-packages/torch/nn/modules/conv.py\u001b[0m in \u001b[0;36mforward\u001b[0;34m(self, input)\u001b[0m\n\u001b[1;32m    456\u001b[0m \u001b[0;34m\u001b[0m\u001b[0m\n\u001b[1;32m    457\u001b[0m     \u001b[0;32mdef\u001b[0m \u001b[0mforward\u001b[0m\u001b[0;34m(\u001b[0m\u001b[0mself\u001b[0m\u001b[0;34m,\u001b[0m \u001b[0minput\u001b[0m\u001b[0;34m:\u001b[0m \u001b[0mTensor\u001b[0m\u001b[0;34m)\u001b[0m \u001b[0;34m->\u001b[0m \u001b[0mTensor\u001b[0m\u001b[0;34m:\u001b[0m\u001b[0;34m\u001b[0m\u001b[0;34m\u001b[0m\u001b[0m\n\u001b[0;32m--> 458\u001b[0;31m         \u001b[0;32mreturn\u001b[0m \u001b[0mself\u001b[0m\u001b[0;34m.\u001b[0m\u001b[0m_conv_forward\u001b[0m\u001b[0;34m(\u001b[0m\u001b[0minput\u001b[0m\u001b[0;34m,\u001b[0m \u001b[0mself\u001b[0m\u001b[0;34m.\u001b[0m\u001b[0mweight\u001b[0m\u001b[0;34m,\u001b[0m \u001b[0mself\u001b[0m\u001b[0;34m.\u001b[0m\u001b[0mbias\u001b[0m\u001b[0;34m)\u001b[0m\u001b[0;34m\u001b[0m\u001b[0;34m\u001b[0m\u001b[0m\n\u001b[0m\u001b[1;32m    459\u001b[0m \u001b[0;34m\u001b[0m\u001b[0m\n\u001b[1;32m    460\u001b[0m \u001b[0;32mclass\u001b[0m \u001b[0mConv3d\u001b[0m\u001b[0;34m(\u001b[0m\u001b[0m_ConvNd\u001b[0m\u001b[0;34m)\u001b[0m\u001b[0;34m:\u001b[0m\u001b[0;34m\u001b[0m\u001b[0;34m\u001b[0m\u001b[0m\n",
            "\u001b[0;32m/usr/local/lib/python3.10/dist-packages/torch/nn/modules/conv.py\u001b[0m in \u001b[0;36m_conv_forward\u001b[0;34m(self, input, weight, bias)\u001b[0m\n\u001b[1;32m    452\u001b[0m                             \u001b[0mweight\u001b[0m\u001b[0;34m,\u001b[0m \u001b[0mbias\u001b[0m\u001b[0;34m,\u001b[0m \u001b[0mself\u001b[0m\u001b[0;34m.\u001b[0m\u001b[0mstride\u001b[0m\u001b[0;34m,\u001b[0m\u001b[0;34m\u001b[0m\u001b[0;34m\u001b[0m\u001b[0m\n\u001b[1;32m    453\u001b[0m                             _pair(0), self.dilation, self.groups)\n\u001b[0;32m--> 454\u001b[0;31m         return F.conv2d(input, weight, bias, self.stride,\n\u001b[0m\u001b[1;32m    455\u001b[0m                         self.padding, self.dilation, self.groups)\n\u001b[1;32m    456\u001b[0m \u001b[0;34m\u001b[0m\u001b[0m\n",
            "\u001b[0;31mKeyboardInterrupt\u001b[0m: "
          ]
        }
      ]
    },
    {
      "cell_type": "code",
      "source": [],
      "metadata": {
        "id": "BrHFcGekbGw_"
      },
      "execution_count": null,
      "outputs": []
    },
    {
      "cell_type": "code",
      "source": [],
      "metadata": {
        "id": "YZ_jUU_2bGnF"
      },
      "execution_count": null,
      "outputs": []
    },
    {
      "cell_type": "code",
      "source": [],
      "metadata": {
        "id": "a5dP_nn8bGcb"
      },
      "execution_count": null,
      "outputs": []
    },
    {
      "cell_type": "code",
      "source": [
        "# prompt: Move .pt file from existing check point path to be under Drive once training is completed\n",
        "\n",
        "import shutil\n",
        "\n",
        "if os.path.exists(ckpt_path):\n",
        "  new_ckpt_path = os.path.join('/content/drive/MyDrive/WLROM/model_checkpoints', os.path.basename(ckpt_path))\n",
        "  shutil.move(ckpt_path, new_ckpt_path)\n",
        "  print(f\"Moved {ckpt_path} to {new_ckpt_path}\")\n",
        "else:\n",
        "  print(f\"Checkpoint file {ckpt_path} does not exist.\")\n"
      ],
      "metadata": {
        "colab": {
          "base_uri": "https://localhost:8080/"
        },
        "id": "3GOa_i0IZu0k",
        "outputId": "040eda2c-970a-4c7d-fc36-ad9006b3cf53"
      },
      "execution_count": 130,
      "outputs": [
        {
          "output_type": "stream",
          "name": "stdout",
          "text": [
            "Moved /content/arr_experiments/experiment_97258.ckpt to /content/drive/MyDrive/WLROM/model_checkpoints/experiment_97258.ckpt\n"
          ]
        }
      ]
    },
    {
      "cell_type": "markdown",
      "source": [
        "Summarize Results"
      ],
      "metadata": {
        "id": "_pPrfdWFBO3S"
      }
    },
    {
      "cell_type": "code",
      "source": [
        "if args[\"load\"] is None: # can remove this loop condition for future experiments since early stopping will also save all_train_loss and all_valid_loss quantities henceforth (Sep 24)\n",
        "    plt.plot(all_train_loss, label=\"train\")\n",
        "    plt.plot(all_valid_loss, label=\"val\")\n",
        "    plt.legend()"
      ],
      "metadata": {
        "colab": {
          "base_uri": "https://localhost:8080/",
          "height": 430
        },
        "id": "14E7QvMLBQYQ",
        "outputId": "2d30693e-f931-4540-fe82-8d875a64024f"
      },
      "execution_count": 131,
      "outputs": [
        {
          "output_type": "display_data",
          "data": {
            "text/plain": [
              "<Figure size 640x480 with 1 Axes>"
            ],
            "image/png": "[encoded data removed]"
          },
          "metadata": {}
        }
      ]
    },
    {
      "cell_type": "code",
      "source": [
        "train_data_eval = DataLoader(train_dataset,\n",
        "        batch_size = len(train_dataset),\n",
        "        shuffle=False,\n",
        "        )\n",
        "\n",
        "train_eval_batch = get_next_batch(inf_generator(train_data_eval))"
      ],
      "metadata": {
        "id": "r1PYowRkcugT"
      },
      "execution_count": 132,
      "outputs": []
    },
    {
      "cell_type": "code",
      "source": [
        "model.eval()\n",
        "with torch.no_grad():\n",
        "    train_preds_scaled = model(train_eval_batch[0]).cpu().numpy()\n",
        "\n",
        "train_preds_unscaled = pt.inverse_transform(train_preds_scaled)\n",
        "train_targets_all = train_eval_batch[2].squeeze(1).cpu().numpy()\n",
        "\n",
        "train_preds_unscaled.shape, train_targets_all.shape\n",
        "\n",
        "fig, axs = plt.subplots(2, 2, figsize=(10, 10))\n",
        "\n",
        "axs[1, 1].scatter(train_targets_all[:, 3], train_preds_unscaled[:, 3], s=3)\n",
        "axs[1, 1].plot(np.linspace(35, 100, 40), np.linspace(35, 100, 40), '--', color='black')\n",
        "axs[1, 1].set_xlabel(\"Train Arrival Time (hrs)\", fontsize=14)\n",
        "axs[1, 1].set_ylabel(\"Predicted Arrival Time on Train (hrs)\", fontsize=14)\n",
        "axs[1, 1].set_title(\"{:.3f}\".format(np.corrcoef(train_targets_all[:, 0], train_preds_unscaled[:, 0])[0, 1]))\n",
        "\n",
        "axs[0, 0].scatter(train_targets_all[:, 0], train_preds_unscaled[:, 0], s=3)\n",
        "axs[0, 0].plot(np.linspace(300, 900, 40), np.linspace(300, 900, 40), '--', color='black')\n",
        "axs[0, 0].set_xlabel(\"Train USim (km / s)\", fontsize=14)\n",
        "axs[0, 0].set_ylabel(\"Predicted USim on Train (km / s)\", fontsize=14)\n",
        "axs[0, 0].set_title(\"{:.3f}\".format(np.corrcoef(train_targets_all[:, 1], train_preds_unscaled[:, 1])[0, 1]))\n",
        "\n",
        "axs[1, 0].scatter(train_targets_all[:, 2], train_preds_unscaled[:, 2], s=3)\n",
        "axs[1, 0].plot(np.linspace(0, 70, 40), np.linspace(0, 70, 40), '--', color='black')\n",
        "axs[1, 0].set_xlabel(\"Train BSim (nT)\", fontsize=14)\n",
        "axs[1, 0].set_ylabel(\"Predicted BSim on Train (nT)\", fontsize=14)\n",
        "axs[1, 0].set_title(\"{:.3f}\".format(np.corrcoef(train_targets_all[:, 2], train_preds_unscaled[:, 2])[0, 1]))\n",
        "\n",
        "axs[0, 1].scatter(train_targets_all[:, 1], train_preds_unscaled[:, 1], s=3)\n",
        "axs[0, 1].plot(np.linspace(0, 100, 40), np.linspace(0, 100, 40), '--', color='black')\n",
        "axs[0, 1].set_xlabel(\"Train NpSim (cm^-3)\", fontsize=14)\n",
        "axs[0, 1].set_ylabel(\"Predicted NpSim on Train (cm^-3)\", fontsize=14)\n",
        "axs[0, 1].set_title(\"{:.3f}\".format(np.corrcoef(train_targets_all[:, 3], train_preds_unscaled[:, 3])[0, 1]))\n",
        "\n",
        "plt.tight_layout()"
      ],
      "metadata": {
        "colab": {
          "base_uri": "https://localhost:8080/",
          "height": 1000
        },
        "id": "VSwheRpUc2iu",
        "outputId": "1c4c3e12-2ac3-4996-ee2c-e1c0562c86e0"
      },
      "execution_count": 138,
      "outputs": [
        {
          "output_type": "display_data",
          "data": {
            "text/plain": [
              "<Figure size 1000x1000 with 4 Axes>"
            ],
            "image/png": "[encoded data removed]"
          },
          "metadata": {}
        }
      ]
    },
    {
      "cell_type": "code",
      "source": [
        "test_data_all = get_next_batch(inf_generator(test_dataloader))\n",
        "# true_test_arrs = pt.inverse_transform(test_data_all[1].cpu().numpy())\n",
        "true_test_arrs = test_data_all[2].squeeze(1).cpu().numpy()\n",
        "model.eval()\n",
        "with torch.no_grad():\n",
        "    test_preds = model(test_data_all[0].to(device)).cpu().numpy()\n",
        "\n",
        "test_preds_unscaled = pt.inverse_transform(test_preds)\n",
        "\n",
        "print(test_preds_unscaled.shape, true_test_arrs.shape)\n",
        "\n",
        "fig, axs = plt.subplots(2, 2, figsize=(10, 10))\n",
        "\n",
        "axs[1, 1].scatter(true_test_arrs[:, 3], test_preds_unscaled[:, 3], s=3)\n",
        "axs[1, 1].plot(np.linspace(35, 100, 40), np.linspace(35, 100, 40), '--', color='black')\n",
        "axs[1, 1].set_xlabel(\"Test Arrival Time (hrs)\", fontsize=14)\n",
        "axs[1, 1].set_ylabel(\"Predicted Arrival Time on Test (hrs)\", fontsize=14)\n",
        "axs[1, 1].set_title(\"{:.3f}\".format(np.corrcoef(true_test_arrs[:, 0], test_preds_unscaled[:, 0])[0, 1]))\n",
        "\n",
        "axs[0, 0].scatter(true_test_arrs[:, 0], test_preds_unscaled[:, 0], s=3)\n",
        "axs[0, 0].plot(np.linspace(300, 900, 40), np.linspace(300, 900, 40), '--', color='black')\n",
        "axs[0, 0].set_xlabel(\"Test USim (km / s)\", fontsize=14)\n",
        "axs[0, 0].set_ylabel(\"Predicted USim on Test (km / s)\", fontsize=14)\n",
        "axs[0, 0].set_title(\"{:.3f}\".format(np.corrcoef(true_test_arrs[:, 1], test_preds_unscaled[:, 1])[0, 1]))\n",
        "\n",
        "axs[1, 0].scatter(true_test_arrs[:, 2], test_preds_unscaled[:, 2], s=3)\n",
        "axs[1, 0].plot(np.linspace(0, 70, 40), np.linspace(0, 70, 40), '--', color='black')\n",
        "axs[1, 0].set_xlabel(\"Test BSim (nT)\", fontsize=14)\n",
        "axs[1, 0].set_ylabel(\"Predicted BSim on Test (nT)\", fontsize=14)\n",
        "axs[1, 0].set_title(\"{:.3f}\".format(np.corrcoef(true_test_arrs[:, 2], test_preds_unscaled[:, 2])[0, 1]))\n",
        "\n",
        "axs[0, 1].scatter(true_test_arrs[:, 1], test_preds_unscaled[:, 1], s=3)\n",
        "axs[0, 1].plot(np.linspace(0, 100, 40), np.linspace(0, 100, 40), '--', color='black')\n",
        "axs[0, 1].set_xlabel(\"Test NpSim (cm^-3)\", fontsize=14)\n",
        "axs[0, 1].set_ylabel(\"Predicted NpSim on Test (cm^-3)\", fontsize=14)\n",
        "axs[0, 1].set_title(\"{:.3f}\".format(np.corrcoef(true_test_arrs[:, 3], test_preds_unscaled[:, 3])[0, 1]))\n",
        "\n",
        "plt.tight_layout()"
      ],
      "metadata": {
        "colab": {
          "base_uri": "https://localhost:8080/",
          "height": 1000
        },
        "id": "JDtkSKDYc68b",
        "outputId": "caa80a46-8ece-4fe6-b58f-3131da952955"
      },
      "execution_count": 137,
      "outputs": [
        {
          "output_type": "stream",
          "name": "stdout",
          "text": [
            "(1900, 4) (1900, 4)\n"
          ]
        },
        {
          "output_type": "display_data",
          "data": {
            "text/plain": [
              "<Figure size 1000x1000 with 4 Axes>"
            ],
            "image/png": "[encoded data removed]"
          },
          "metadata": {}
        }
      ]
    },
    {
      "cell_type": "code",
      "source": [],
      "metadata": {
        "id": "EAyiV5JgdG_J"
      },
      "execution_count": null,
      "outputs": []
    }
  ]
}