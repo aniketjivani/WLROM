{
 "cells": [
  {
   "cell_type": "markdown",
   "metadata": {},
   "source": [
    "Fix potential bugs in formulation of edge Neural ODE, i.e. when doing the forward pass over the `ODEFunc`, ensure we return zeros for the latent dimension block of the vector, so it does not calculate gradients over those, try learning with only the ICs"
   ]
  },
  {
   "cell_type": "code",
   "execution_count": 1,
   "metadata": {},
   "outputs": [],
   "source": [
    "run_tc1 = False\n",
    "run_tc2 = True"
   ]
  },
  {
   "cell_type": "code",
   "execution_count": 2,
   "metadata": {},
   "outputs": [],
   "source": [
    "import pandas as pd"
   ]
  },
  {
   "cell_type": "code",
   "execution_count": 3,
   "metadata": {},
   "outputs": [],
   "source": [
    "import torch\n",
    "import torch.nn as nn\n",
    "import torch.optim as optim"
   ]
  },
  {
   "cell_type": "code",
   "execution_count": 4,
   "metadata": {},
   "outputs": [],
   "source": [
    "adjoint=True"
   ]
  },
  {
   "cell_type": "code",
   "execution_count": 5,
   "metadata": {},
   "outputs": [],
   "source": [
    "if adjoint:\n",
    "    from torchdiffeq import odeint_adjoint as odeint\n",
    "else:\n",
    "    from torchdiffeq import odeint"
   ]
  },
  {
   "cell_type": "code",
   "execution_count": 6,
   "metadata": {},
   "outputs": [
    {
     "data": {
      "text/plain": [
       "device(type='cpu')"
      ]
     },
     "execution_count": 6,
     "metadata": {},
     "output_type": "execute_result"
    }
   ],
   "source": [
    "device = torch.device('cuda:0' if torch.cuda.is_available() else 'cpu')\n",
    "device"
   ]
  },
  {
   "cell_type": "code",
   "execution_count": 7,
   "metadata": {},
   "outputs": [],
   "source": [
    "# # Generative model for noisy data based on ODE\n",
    "# parser = argparse.ArgumentParser('PNODE')\n",
    "# parser.add_argument('--test-mode', \n",
    "#                     type=str, \n",
    "#                     default='test-case-1', \n",
    "#                     help=\"Test mode: single-self-interp MSE obj\",\n",
    "#                     options=['test-case'])\n",
    "\n",
    "\n",
    "\n",
    "# args = parser.parse_args(args=())"
   ]
  },
  {
   "cell_type": "code",
   "execution_count": 8,
   "metadata": {},
   "outputs": [],
   "source": [
    "import numpy as np\n",
    "import scipy.linalg as la\n",
    "import scipy.sparse as sparse\n",
    "import matplotlib.pyplot as plt"
   ]
  },
  {
   "cell_type": "code",
   "execution_count": 9,
   "metadata": {},
   "outputs": [],
   "source": [
    "import re\n",
    "import os\n",
    "import time"
   ]
  },
  {
   "cell_type": "code",
   "execution_count": 10,
   "metadata": {},
   "outputs": [],
   "source": [
    "%matplotlib inline"
   ]
  },
  {
   "cell_type": "code",
   "execution_count": 11,
   "metadata": {},
   "outputs": [],
   "source": [
    "plt.rc(\"axes.spines\", right=True, top=True)\n",
    "plt.rc(\"figure\", dpi=300, \n",
    "       figsize=(9, 3)\n",
    "      )\n",
    "plt.rc(\"font\", family=\"serif\")\n",
    "plt.rc(\"legend\", edgecolor=\"none\", frameon=True)\n",
    "plt.style.use(\"dark_background\")"
   ]
  },
  {
   "cell_type": "code",
   "execution_count": 12,
   "metadata": {},
   "outputs": [],
   "source": [
    "import edge_utils as edut"
   ]
  },
  {
   "cell_type": "code",
   "execution_count": null,
   "metadata": {},
   "outputs": [],
   "source": []
  },
  {
   "cell_type": "code",
   "execution_count": 13,
   "metadata": {},
   "outputs": [],
   "source": [
    "ed_2161, sd_2161 = edut.load_edge_data_blobfree(2161)"
   ]
  },
  {
   "cell_type": "code",
   "execution_count": 14,
   "metadata": {},
   "outputs": [
    {
     "name": "stdout",
     "output_type": "stream",
     "text": [
      "Range of angles for CR2161: -31.279843444227026 81.44031311154595\n"
     ]
    }
   ],
   "source": [
    "theta_s_2161, theta_e_2161 = np.linspace(0, 360, 512)[160] + 1.2 * 180 - 360, np.linspace(0, 360, 512)[320] + 1.2 * 180 - 360\n",
    "print(\"Range of angles for CR2161: {} {}\".format(theta_s_2161, theta_e_2161))"
   ]
  },
  {
   "cell_type": "code",
   "execution_count": 15,
   "metadata": {},
   "outputs": [
    {
     "data": {
      "text/plain": [
       "(90, 160, 278)"
      ]
     },
     "execution_count": 15,
     "metadata": {},
     "output_type": "execute_result"
    }
   ],
   "source": [
    "nTimes, nTheta_2161, nSims_2161 = ed_2161.shape\n",
    "nTimes, nTheta_2161, nSims_2161"
   ]
  },
  {
   "cell_type": "code",
   "execution_count": 16,
   "metadata": {},
   "outputs": [],
   "source": [
    "theta_grid = np.linspace(np.ceil(theta_s_2161), np.ceil(theta_e_2161), nTheta_2161)"
   ]
  },
  {
   "cell_type": "code",
   "execution_count": 17,
   "metadata": {},
   "outputs": [],
   "source": [
    "def getRValuesAllSims(edge_data_matrix):\n",
    "    \"\"\"\n",
    "    Return r values for all sims at once so we don't lose time in training processing r values repeatedly\n",
    "    \"\"\"\n",
    "    r_data_matrix = np.zeros(edge_data_matrix.shape)\n",
    "    nsims = edge_data_matrix.shape[2]\n",
    "    for i in range(nsims):\n",
    "        r_vals, theta_vals = edut.getRValues(edge_data_matrix, simIdx=i, minStartIdx=0)\n",
    "        r_data_matrix[:, :, i] = r_vals\n",
    "\n",
    "    return r_data_matrix"
   ]
  },
  {
   "cell_type": "code",
   "execution_count": 18,
   "metadata": {},
   "outputs": [],
   "source": [
    "rd_2161 = getRValuesAllSims(ed_2161)"
   ]
  },
  {
   "cell_type": "code",
   "execution_count": 19,
   "metadata": {},
   "outputs": [],
   "source": [
    "plt.rc(\"axes.spines\", right=True, top=True)\n",
    "plt.rc(\"figure\", dpi=300, \n",
    "       figsize=(9, 3)\n",
    "      )\n",
    "plt.rc(\"font\", family=\"serif\")\n",
    "plt.rc(\"legend\", edgecolor=\"none\", frameon=True)\n",
    "plt.style.use(\"dark_background\")"
   ]
  },
  {
   "cell_type": "code",
   "execution_count": 20,
   "metadata": {},
   "outputs": [],
   "source": [
    "import edge_utils as edut"
   ]
  },
  {
   "cell_type": "code",
   "execution_count": 21,
   "metadata": {},
   "outputs": [],
   "source": [
    "# we are removing some data where the edge detection is not necessarily super reliable.\n",
    "sims_to_remove = np.array([33, 39, 63, 73, 113, 128, 131, 142, 193, 218, 253, 264, 273, 312, 313, 324])"
   ]
  },
  {
   "cell_type": "code",
   "execution_count": 22,
   "metadata": {},
   "outputs": [],
   "source": [
    "ed_2161, sd_2161 = edut.load_edge_data_blobfree(2161)"
   ]
  },
  {
   "cell_type": "code",
   "execution_count": 23,
   "metadata": {},
   "outputs": [
    {
     "name": "stdout",
     "output_type": "stream",
     "text": [
      "Range of angles for CR2161: -31.279843444227026 81.44031311154595\n"
     ]
    }
   ],
   "source": [
    "theta_s_2161, theta_e_2161 = np.linspace(0, 360, 512)[160] + 1.2 * 180 - 360, np.linspace(0, 360, 512)[320] + 1.2 * 180 - 360\n",
    "print(\"Range of angles for CR2161: {} {}\".format(theta_s_2161, theta_e_2161))"
   ]
  },
  {
   "cell_type": "code",
   "execution_count": 24,
   "metadata": {},
   "outputs": [
    {
     "data": {
      "text/plain": [
       "(90, 160, 278)"
      ]
     },
     "execution_count": 24,
     "metadata": {},
     "output_type": "execute_result"
    }
   ],
   "source": [
    "nTimes, nTheta_2161, nSims_2161 = ed_2161.shape\n",
    "nTimes, nTheta_2161, nSims_2161"
   ]
  },
  {
   "cell_type": "code",
   "execution_count": 25,
   "metadata": {},
   "outputs": [],
   "source": [
    "theta_grid = np.linspace(np.ceil(theta_s_2161), np.ceil(theta_e_2161), nTheta_2161)"
   ]
  },
  {
   "cell_type": "code",
   "execution_count": 26,
   "metadata": {},
   "outputs": [],
   "source": [
    "sd_modified = np.setdiff1d(sd_2161, sims_to_remove)"
   ]
  },
  {
   "cell_type": "code",
   "execution_count": 27,
   "metadata": {},
   "outputs": [
    {
     "data": {
      "text/plain": [
       "262"
      ]
     },
     "execution_count": 27,
     "metadata": {},
     "output_type": "execute_result"
    }
   ],
   "source": [
    "len(sd_modified)"
   ]
  },
  {
   "cell_type": "code",
   "execution_count": 28,
   "metadata": {},
   "outputs": [
    {
     "data": {
      "text/plain": [
       "(209, 53)"
      ]
     },
     "execution_count": 28,
     "metadata": {},
     "output_type": "execute_result"
    }
   ],
   "source": [
    "# extract training and test sets. for now just random.\n",
    "\n",
    "from numpy.random import Generator, PCG64\n",
    "rng = Generator(PCG64())\n",
    "\n",
    "nTrain = int(np.floor(0.8 * len(sd_modified)))\n",
    "nTest = len(sd_modified) - nTrain\n",
    "\n",
    "nTrain, nTest"
   ]
  },
  {
   "cell_type": "code",
   "execution_count": 29,
   "metadata": {},
   "outputs": [
    {
     "data": {
      "text/plain": [
       "array([ 41,  49,  51,  57,  58,  60,  67,  68,  72,  74,  78,  86,  88,\n",
       "        90, 100, 114, 115, 119, 120, 121, 130, 151, 154, 155, 162, 176,\n",
       "       178, 179, 183, 185, 188, 192, 204, 216, 219, 223, 224, 247, 252,\n",
       "       260, 265, 268, 272, 275, 280, 288, 294, 298, 302, 306, 315, 319,\n",
       "       327])"
      ]
     },
     "execution_count": 29,
     "metadata": {},
     "output_type": "execute_result"
    }
   ],
   "source": [
    "sd_train = np.sort(np.random.choice(sd_modified, nTrain, replace=False))\n",
    "sd_test = np.setdiff1d(sd_modified, sd_train)\n",
    "sd_test"
   ]
  },
  {
   "cell_type": "code",
   "execution_count": 30,
   "metadata": {},
   "outputs": [
    {
     "data": {
      "text/plain": [
       "(53,)"
      ]
     },
     "execution_count": 30,
     "metadata": {},
     "output_type": "execute_result"
    }
   ],
   "source": [
    "sd_test.shape"
   ]
  },
  {
   "cell_type": "code",
   "execution_count": 31,
   "metadata": {},
   "outputs": [],
   "source": [
    "def getRValuesAllSims(edge_data_matrix):\n",
    "    \"\"\"\n",
    "    Return r values for all sims at once so we don't lose time in training processing r values repeatedly\n",
    "    \"\"\"\n",
    "    r_data_matrix = np.zeros(edge_data_matrix.shape)\n",
    "    nsims = edge_data_matrix.shape[2]\n",
    "    for i in range(nsims):\n",
    "        r_vals, theta_vals = edut.getRValues(edge_data_matrix, simIdx=i, minStartIdx=0)\n",
    "        r_data_matrix[:, :, i] = r_vals\n",
    "\n",
    "    return r_data_matrix"
   ]
  },
  {
   "cell_type": "code",
   "execution_count": 32,
   "metadata": {},
   "outputs": [],
   "source": [
    "rd_2161 = getRValuesAllSims(ed_2161)"
   ]
  },
  {
   "cell_type": "markdown",
   "metadata": {},
   "source": [
    "### Set up for Parametrized and Regular Neural ODEs"
   ]
  },
  {
   "cell_type": "code",
   "execution_count": 33,
   "metadata": {},
   "outputs": [],
   "source": [
    "# get the param list for CR2161, get background values as well"
   ]
  },
  {
   "cell_type": "code",
   "execution_count": 34,
   "metadata": {},
   "outputs": [
    {
     "data": {
      "text/html": [
       "<div>\n",
       "<style scoped>\n",
       "    .dataframe tbody tr th:only-of-type {\n",
       "        vertical-align: middle;\n",
       "    }\n",
       "\n",
       "    .dataframe tbody tr th {\n",
       "        vertical-align: top;\n",
       "    }\n",
       "\n",
       "    .dataframe thead th {\n",
       "        text-align: right;\n",
       "    }\n",
       "</style>\n",
       "<table border=\"1\" class=\"dataframe\">\n",
       "  <thead>\n",
       "    <tr style=\"text-align: right;\">\n",
       "      <th></th>\n",
       "      <th>Radius</th>\n",
       "      <th>BStrength</th>\n",
       "      <th>ApexHeight</th>\n",
       "      <th>OrientationCme</th>\n",
       "      <th>iHelicity</th>\n",
       "      <th>restartdir</th>\n",
       "      <th>realization</th>\n",
       "    </tr>\n",
       "  </thead>\n",
       "  <tbody>\n",
       "    <tr>\n",
       "      <th>0</th>\n",
       "      <td>0.58375</td>\n",
       "      <td>22.526622</td>\n",
       "      <td>0.682075</td>\n",
       "      <td>204.725</td>\n",
       "      <td>1</td>\n",
       "      <td>4</td>\n",
       "      <td>4</td>\n",
       "    </tr>\n",
       "    <tr>\n",
       "      <th>1</th>\n",
       "      <td>0.52625</td>\n",
       "      <td>6.919483</td>\n",
       "      <td>0.519179</td>\n",
       "      <td>164.225</td>\n",
       "      <td>1</td>\n",
       "      <td>4</td>\n",
       "      <td>4</td>\n",
       "    </tr>\n",
       "    <tr>\n",
       "      <th>2</th>\n",
       "      <td>0.72625</td>\n",
       "      <td>5.087500</td>\n",
       "      <td>0.662022</td>\n",
       "      <td>233.975</td>\n",
       "      <td>1</td>\n",
       "      <td>4</td>\n",
       "      <td>4</td>\n",
       "    </tr>\n",
       "    <tr>\n",
       "      <th>3</th>\n",
       "      <td>0.36125</td>\n",
       "      <td>18.360770</td>\n",
       "      <td>0.420743</td>\n",
       "      <td>200.675</td>\n",
       "      <td>-1</td>\n",
       "      <td>4</td>\n",
       "      <td>4</td>\n",
       "    </tr>\n",
       "    <tr>\n",
       "      <th>4</th>\n",
       "      <td>0.69125</td>\n",
       "      <td>8.127120</td>\n",
       "      <td>0.735101</td>\n",
       "      <td>184.925</td>\n",
       "      <td>1</td>\n",
       "      <td>4</td>\n",
       "      <td>4</td>\n",
       "    </tr>\n",
       "  </tbody>\n",
       "</table>\n",
       "</div>"
      ],
      "text/plain": [
       "    Radius  BStrength  ApexHeight  OrientationCme  iHelicity  restartdir  \\\n",
       "0  0.58375  22.526622    0.682075         204.725          1           4   \n",
       "1  0.52625   6.919483    0.519179         164.225          1           4   \n",
       "2  0.72625   5.087500    0.662022         233.975          1           4   \n",
       "3  0.36125  18.360770    0.420743         200.675         -1           4   \n",
       "4  0.69125   8.127120    0.735101         184.925          1           4   \n",
       "\n",
       "   realization  \n",
       "0            4  \n",
       "1            4  \n",
       "2            4  \n",
       "3            4  \n",
       "4            4  "
      ]
     },
     "execution_count": 34,
     "metadata": {},
     "output_type": "execute_result"
    }
   ],
   "source": [
    "cme_params = pd.read_csv(\"./restarts_CR2161.csv\")\n",
    "cme_params.head()"
   ]
  },
  {
   "cell_type": "code",
   "execution_count": 35,
   "metadata": {},
   "outputs": [
    {
     "data": {
      "text/html": [
       "<div>\n",
       "<style scoped>\n",
       "    .dataframe tbody tr th:only-of-type {\n",
       "        vertical-align: middle;\n",
       "    }\n",
       "\n",
       "    .dataframe tbody tr th {\n",
       "        vertical-align: top;\n",
       "    }\n",
       "\n",
       "    .dataframe thead th {\n",
       "        text-align: right;\n",
       "    }\n",
       "</style>\n",
       "<table border=\"1\" class=\"dataframe\">\n",
       "  <thead>\n",
       "    <tr style=\"text-align: right;\">\n",
       "      <th></th>\n",
       "      <th>FactorB0</th>\n",
       "      <th>PoyntingFluxPerBSi</th>\n",
       "      <th>LperpTimesSqrtBSi</th>\n",
       "    </tr>\n",
       "  </thead>\n",
       "  <tbody>\n",
       "    <tr>\n",
       "      <th>0</th>\n",
       "      <td>0.5987</td>\n",
       "      <td>547686.9</td>\n",
       "      <td>259077.5</td>\n",
       "    </tr>\n",
       "    <tr>\n",
       "      <th>1</th>\n",
       "      <td>0.6876</td>\n",
       "      <td>514248.2</td>\n",
       "      <td>170240.5</td>\n",
       "    </tr>\n",
       "    <tr>\n",
       "      <th>2</th>\n",
       "      <td>0.7334</td>\n",
       "      <td>437169.7</td>\n",
       "      <td>242477.4</td>\n",
       "    </tr>\n",
       "    <tr>\n",
       "      <th>3</th>\n",
       "      <td>0.8010</td>\n",
       "      <td>378833.7</td>\n",
       "      <td>147856.5</td>\n",
       "    </tr>\n",
       "    <tr>\n",
       "      <th>4</th>\n",
       "      <td>0.9431</td>\n",
       "      <td>491082.5</td>\n",
       "      <td>205150.8</td>\n",
       "    </tr>\n",
       "    <tr>\n",
       "      <th>5</th>\n",
       "      <td>1.0077</td>\n",
       "      <td>349735.7</td>\n",
       "      <td>230084.9</td>\n",
       "    </tr>\n",
       "    <tr>\n",
       "      <th>6</th>\n",
       "      <td>1.0404</td>\n",
       "      <td>668772.0</td>\n",
       "      <td>278163.0</td>\n",
       "    </tr>\n",
       "    <tr>\n",
       "      <th>7</th>\n",
       "      <td>1.0921</td>\n",
       "      <td>463650.6</td>\n",
       "      <td>299730.0</td>\n",
       "    </tr>\n",
       "    <tr>\n",
       "      <th>8</th>\n",
       "      <td>1.2009</td>\n",
       "      <td>337215.4</td>\n",
       "      <td>113682.7</td>\n",
       "    </tr>\n",
       "    <tr>\n",
       "      <th>9</th>\n",
       "      <td>1.2292</td>\n",
       "      <td>583776.3</td>\n",
       "      <td>160912.2</td>\n",
       "    </tr>\n",
       "    <tr>\n",
       "      <th>10</th>\n",
       "      <td>1.2732</td>\n",
       "      <td>686411.6</td>\n",
       "      <td>218802.0</td>\n",
       "    </tr>\n",
       "    <tr>\n",
       "      <th>11</th>\n",
       "      <td>1.3016</td>\n",
       "      <td>304514.4</td>\n",
       "      <td>283042.3</td>\n",
       "    </tr>\n",
       "    <tr>\n",
       "      <th>12</th>\n",
       "      <td>1.3775</td>\n",
       "      <td>452152.7</td>\n",
       "      <td>183030.6</td>\n",
       "    </tr>\n",
       "    <tr>\n",
       "      <th>13</th>\n",
       "      <td>1.4126</td>\n",
       "      <td>558463.8</td>\n",
       "      <td>102592.2</td>\n",
       "    </tr>\n",
       "    <tr>\n",
       "      <th>14</th>\n",
       "      <td>1.4688</td>\n",
       "      <td>396734.6</td>\n",
       "      <td>269746.7</td>\n",
       "    </tr>\n",
       "    <tr>\n",
       "      <th>15</th>\n",
       "      <td>1.4971</td>\n",
       "      <td>643906.7</td>\n",
       "      <td>193591.4</td>\n",
       "    </tr>\n",
       "    <tr>\n",
       "      <th>16</th>\n",
       "      <td>1.5933</td>\n",
       "      <td>599681.3</td>\n",
       "      <td>244905.6</td>\n",
       "    </tr>\n",
       "    <tr>\n",
       "      <th>17</th>\n",
       "      <td>1.6432</td>\n",
       "      <td>529355.4</td>\n",
       "      <td>144129.8</td>\n",
       "    </tr>\n",
       "    <tr>\n",
       "      <th>18</th>\n",
       "      <td>1.7708</td>\n",
       "      <td>407373.3</td>\n",
       "      <td>125749.9</td>\n",
       "    </tr>\n",
       "    <tr>\n",
       "      <th>19</th>\n",
       "      <td>1.8440</td>\n",
       "      <td>300800.0</td>\n",
       "      <td>157053.0</td>\n",
       "    </tr>\n",
       "    <tr>\n",
       "      <th>20</th>\n",
       "      <td>1.9713</td>\n",
       "      <td>324613.3</td>\n",
       "      <td>252773.1</td>\n",
       "    </tr>\n",
       "    <tr>\n",
       "      <th>21</th>\n",
       "      <td>2.0772</td>\n",
       "      <td>569088.4</td>\n",
       "      <td>285066.6</td>\n",
       "    </tr>\n",
       "    <tr>\n",
       "      <th>22</th>\n",
       "      <td>2.1050</td>\n",
       "      <td>428347.8</td>\n",
       "      <td>211432.4</td>\n",
       "    </tr>\n",
       "    <tr>\n",
       "      <th>23</th>\n",
       "      <td>2.2160</td>\n",
       "      <td>389575.4</td>\n",
       "      <td>167036.4</td>\n",
       "    </tr>\n",
       "    <tr>\n",
       "      <th>24</th>\n",
       "      <td>2.3297</td>\n",
       "      <td>446966.4</td>\n",
       "      <td>276322.6</td>\n",
       "    </tr>\n",
       "    <tr>\n",
       "      <th>25</th>\n",
       "      <td>2.3942</td>\n",
       "      <td>318109.1</td>\n",
       "      <td>100533.1</td>\n",
       "    </tr>\n",
       "    <tr>\n",
       "      <th>26</th>\n",
       "      <td>2.4414</td>\n",
       "      <td>343756.8</td>\n",
       "      <td>295065.7</td>\n",
       "    </tr>\n",
       "    <tr>\n",
       "      <th>27</th>\n",
       "      <td>2.4626</td>\n",
       "      <td>475724.0</td>\n",
       "      <td>153556.3</td>\n",
       "    </tr>\n",
       "    <tr>\n",
       "      <th>28</th>\n",
       "      <td>2.5409</td>\n",
       "      <td>374987.3</td>\n",
       "      <td>239462.9</td>\n",
       "    </tr>\n",
       "    <tr>\n",
       "      <th>29</th>\n",
       "      <td>2.6751</td>\n",
       "      <td>331697.3</td>\n",
       "      <td>178374.1</td>\n",
       "    </tr>\n",
       "  </tbody>\n",
       "</table>\n",
       "</div>"
      ],
      "text/plain": [
       "    FactorB0  PoyntingFluxPerBSi  LperpTimesSqrtBSi\n",
       "0     0.5987            547686.9           259077.5\n",
       "1     0.6876            514248.2           170240.5\n",
       "2     0.7334            437169.7           242477.4\n",
       "3     0.8010            378833.7           147856.5\n",
       "4     0.9431            491082.5           205150.8\n",
       "5     1.0077            349735.7           230084.9\n",
       "6     1.0404            668772.0           278163.0\n",
       "7     1.0921            463650.6           299730.0\n",
       "8     1.2009            337215.4           113682.7\n",
       "9     1.2292            583776.3           160912.2\n",
       "10    1.2732            686411.6           218802.0\n",
       "11    1.3016            304514.4           283042.3\n",
       "12    1.3775            452152.7           183030.6\n",
       "13    1.4126            558463.8           102592.2\n",
       "14    1.4688            396734.6           269746.7\n",
       "15    1.4971            643906.7           193591.4\n",
       "16    1.5933            599681.3           244905.6\n",
       "17    1.6432            529355.4           144129.8\n",
       "18    1.7708            407373.3           125749.9\n",
       "19    1.8440            300800.0           157053.0\n",
       "20    1.9713            324613.3           252773.1\n",
       "21    2.0772            569088.4           285066.6\n",
       "22    2.1050            428347.8           211432.4\n",
       "23    2.2160            389575.4           167036.4\n",
       "24    2.3297            446966.4           276322.6\n",
       "25    2.3942            318109.1           100533.1\n",
       "26    2.4414            343756.8           295065.7\n",
       "27    2.4626            475724.0           153556.3\n",
       "28    2.5409            374987.3           239462.9\n",
       "29    2.6751            331697.3           178374.1"
      ]
     },
     "execution_count": 35,
     "metadata": {},
     "output_type": "execute_result"
    }
   ],
   "source": [
    "bg_params = pd.read_csv(\"./backgrounds_CR2161.csv\")\n",
    "bg_params"
   ]
  },
  {
   "cell_type": "code",
   "execution_count": 36,
   "metadata": {},
   "outputs": [
    {
     "data": {
      "text/plain": [
       "array([ 4, 12])"
      ]
     },
     "execution_count": 36,
     "metadata": {},
     "output_type": "execute_result"
    }
   ],
   "source": [
    "unique_bg = cme_params.restartdir.unique()\n",
    "unique_bg"
   ]
  },
  {
   "cell_type": "code",
   "execution_count": 37,
   "metadata": {},
   "outputs": [
    {
     "data": {
      "text/plain": [
       "0.801"
      ]
     },
     "execution_count": 37,
     "metadata": {},
     "output_type": "execute_result"
    }
   ],
   "source": [
    "bg_params.FactorB0[3]"
   ]
  },
  {
   "cell_type": "code",
   "execution_count": 38,
   "metadata": {},
   "outputs": [
    {
     "data": {
      "text/plain": [
       "(30, 3)"
      ]
     },
     "execution_count": 38,
     "metadata": {},
     "output_type": "execute_result"
    }
   ],
   "source": [
    "bg_params.shape"
   ]
  },
  {
   "cell_type": "code",
   "execution_count": 39,
   "metadata": {},
   "outputs": [],
   "source": [
    "# identify which rows correspond to a particular background\n",
    "cme_param_bg_idx = []\n",
    "for bg in unique_bg:\n",
    "    cme_param_bg_idx.append(np.array((cme_params.restartdir == bg).to_list()))\n",
    "\n",
    "# now append columns to cme_params dataframe to merge"
   ]
  },
  {
   "cell_type": "code",
   "execution_count": 40,
   "metadata": {},
   "outputs": [
    {
     "data": {
      "text/html": [
       "<div>\n",
       "<style scoped>\n",
       "    .dataframe tbody tr th:only-of-type {\n",
       "        vertical-align: middle;\n",
       "    }\n",
       "\n",
       "    .dataframe tbody tr th {\n",
       "        vertical-align: top;\n",
       "    }\n",
       "\n",
       "    .dataframe thead th {\n",
       "        text-align: right;\n",
       "    }\n",
       "</style>\n",
       "<table border=\"1\" class=\"dataframe\">\n",
       "  <thead>\n",
       "    <tr style=\"text-align: right;\">\n",
       "      <th></th>\n",
       "      <th>Radius</th>\n",
       "      <th>BStrength</th>\n",
       "      <th>ApexHeight</th>\n",
       "      <th>OrientationCme</th>\n",
       "      <th>iHelicity</th>\n",
       "      <th>restartdir</th>\n",
       "      <th>realization</th>\n",
       "    </tr>\n",
       "  </thead>\n",
       "  <tbody>\n",
       "    <tr>\n",
       "      <th>0</th>\n",
       "      <td>0.58375</td>\n",
       "      <td>22.526622</td>\n",
       "      <td>0.682075</td>\n",
       "      <td>204.725</td>\n",
       "      <td>1</td>\n",
       "      <td>4</td>\n",
       "      <td>4</td>\n",
       "    </tr>\n",
       "    <tr>\n",
       "      <th>1</th>\n",
       "      <td>0.52625</td>\n",
       "      <td>6.919483</td>\n",
       "      <td>0.519179</td>\n",
       "      <td>164.225</td>\n",
       "      <td>1</td>\n",
       "      <td>4</td>\n",
       "      <td>4</td>\n",
       "    </tr>\n",
       "    <tr>\n",
       "      <th>2</th>\n",
       "      <td>0.72625</td>\n",
       "      <td>5.087500</td>\n",
       "      <td>0.662022</td>\n",
       "      <td>233.975</td>\n",
       "      <td>1</td>\n",
       "      <td>4</td>\n",
       "      <td>4</td>\n",
       "    </tr>\n",
       "    <tr>\n",
       "      <th>3</th>\n",
       "      <td>0.36125</td>\n",
       "      <td>18.360770</td>\n",
       "      <td>0.420743</td>\n",
       "      <td>200.675</td>\n",
       "      <td>-1</td>\n",
       "      <td>4</td>\n",
       "      <td>4</td>\n",
       "    </tr>\n",
       "    <tr>\n",
       "      <th>4</th>\n",
       "      <td>0.69125</td>\n",
       "      <td>8.127120</td>\n",
       "      <td>0.735101</td>\n",
       "      <td>184.925</td>\n",
       "      <td>1</td>\n",
       "      <td>4</td>\n",
       "      <td>4</td>\n",
       "    </tr>\n",
       "    <tr>\n",
       "      <th>...</th>\n",
       "      <td>...</td>\n",
       "      <td>...</td>\n",
       "      <td>...</td>\n",
       "      <td>...</td>\n",
       "      <td>...</td>\n",
       "      <td>...</td>\n",
       "      <td>...</td>\n",
       "    </tr>\n",
       "    <tr>\n",
       "      <th>295</th>\n",
       "      <td>0.36250</td>\n",
       "      <td>32.665259</td>\n",
       "      <td>0.436133</td>\n",
       "      <td>197.750</td>\n",
       "      <td>-1</td>\n",
       "      <td>12</td>\n",
       "      <td>5</td>\n",
       "    </tr>\n",
       "    <tr>\n",
       "      <th>296</th>\n",
       "      <td>0.46250</td>\n",
       "      <td>26.757500</td>\n",
       "      <td>0.443711</td>\n",
       "      <td>224.750</td>\n",
       "      <td>1</td>\n",
       "      <td>12</td>\n",
       "      <td>5</td>\n",
       "    </tr>\n",
       "    <tr>\n",
       "      <th>297</th>\n",
       "      <td>0.76250</td>\n",
       "      <td>16.930533</td>\n",
       "      <td>0.874492</td>\n",
       "      <td>215.750</td>\n",
       "      <td>-1</td>\n",
       "      <td>12</td>\n",
       "      <td>5</td>\n",
       "    </tr>\n",
       "    <tr>\n",
       "      <th>298</th>\n",
       "      <td>0.61250</td>\n",
       "      <td>21.948929</td>\n",
       "      <td>0.553164</td>\n",
       "      <td>188.750</td>\n",
       "      <td>1</td>\n",
       "      <td>12</td>\n",
       "      <td>5</td>\n",
       "    </tr>\n",
       "    <tr>\n",
       "      <th>299</th>\n",
       "      <td>0.43750</td>\n",
       "      <td>31.949500</td>\n",
       "      <td>0.468945</td>\n",
       "      <td>166.250</td>\n",
       "      <td>-1</td>\n",
       "      <td>12</td>\n",
       "      <td>5</td>\n",
       "    </tr>\n",
       "  </tbody>\n",
       "</table>\n",
       "<p>300 rows × 7 columns</p>\n",
       "</div>"
      ],
      "text/plain": [
       "      Radius  BStrength  ApexHeight  OrientationCme  iHelicity  restartdir  \\\n",
       "0    0.58375  22.526622    0.682075         204.725          1           4   \n",
       "1    0.52625   6.919483    0.519179         164.225          1           4   \n",
       "2    0.72625   5.087500    0.662022         233.975          1           4   \n",
       "3    0.36125  18.360770    0.420743         200.675         -1           4   \n",
       "4    0.69125   8.127120    0.735101         184.925          1           4   \n",
       "..       ...        ...         ...             ...        ...         ...   \n",
       "295  0.36250  32.665259    0.436133         197.750         -1          12   \n",
       "296  0.46250  26.757500    0.443711         224.750          1          12   \n",
       "297  0.76250  16.930533    0.874492         215.750         -1          12   \n",
       "298  0.61250  21.948929    0.553164         188.750          1          12   \n",
       "299  0.43750  31.949500    0.468945         166.250         -1          12   \n",
       "\n",
       "     realization  \n",
       "0              4  \n",
       "1              4  \n",
       "2              4  \n",
       "3              4  \n",
       "4              4  \n",
       "..           ...  \n",
       "295            5  \n",
       "296            5  \n",
       "297            5  \n",
       "298            5  \n",
       "299            5  \n",
       "\n",
       "[300 rows x 7 columns]"
      ]
     },
     "execution_count": 40,
     "metadata": {},
     "output_type": "execute_result"
    }
   ],
   "source": [
    "cme_params"
   ]
  },
  {
   "cell_type": "code",
   "execution_count": 41,
   "metadata": {},
   "outputs": [
    {
     "data": {
      "text/html": [
       "<div>\n",
       "<style scoped>\n",
       "    .dataframe tbody tr th:only-of-type {\n",
       "        vertical-align: middle;\n",
       "    }\n",
       "\n",
       "    .dataframe tbody tr th {\n",
       "        vertical-align: top;\n",
       "    }\n",
       "\n",
       "    .dataframe thead th {\n",
       "        text-align: right;\n",
       "    }\n",
       "</style>\n",
       "<table border=\"1\" class=\"dataframe\">\n",
       "  <thead>\n",
       "    <tr style=\"text-align: right;\">\n",
       "      <th></th>\n",
       "      <th>Radius</th>\n",
       "      <th>BStrength</th>\n",
       "      <th>ApexHeight</th>\n",
       "      <th>OrientationCme</th>\n",
       "      <th>iHelicity</th>\n",
       "      <th>realization</th>\n",
       "      <th>FactorB0</th>\n",
       "      <th>PoyntingFluxPerBSi</th>\n",
       "      <th>LperpTimesSqrtBSi</th>\n",
       "    </tr>\n",
       "  </thead>\n",
       "  <tbody>\n",
       "    <tr>\n",
       "      <th>0</th>\n",
       "      <td>0.58375</td>\n",
       "      <td>22.526622</td>\n",
       "      <td>0.682075</td>\n",
       "      <td>204.725</td>\n",
       "      <td>1</td>\n",
       "      <td>4</td>\n",
       "      <td>0.8010</td>\n",
       "      <td>378833.7</td>\n",
       "      <td>147856.5</td>\n",
       "    </tr>\n",
       "    <tr>\n",
       "      <th>1</th>\n",
       "      <td>0.52625</td>\n",
       "      <td>6.919483</td>\n",
       "      <td>0.519179</td>\n",
       "      <td>164.225</td>\n",
       "      <td>1</td>\n",
       "      <td>4</td>\n",
       "      <td>0.8010</td>\n",
       "      <td>378833.7</td>\n",
       "      <td>147856.5</td>\n",
       "    </tr>\n",
       "    <tr>\n",
       "      <th>2</th>\n",
       "      <td>0.72625</td>\n",
       "      <td>5.087500</td>\n",
       "      <td>0.662022</td>\n",
       "      <td>233.975</td>\n",
       "      <td>1</td>\n",
       "      <td>4</td>\n",
       "      <td>0.8010</td>\n",
       "      <td>378833.7</td>\n",
       "      <td>147856.5</td>\n",
       "    </tr>\n",
       "    <tr>\n",
       "      <th>3</th>\n",
       "      <td>0.36125</td>\n",
       "      <td>18.360770</td>\n",
       "      <td>0.420743</td>\n",
       "      <td>200.675</td>\n",
       "      <td>-1</td>\n",
       "      <td>4</td>\n",
       "      <td>0.8010</td>\n",
       "      <td>378833.7</td>\n",
       "      <td>147856.5</td>\n",
       "    </tr>\n",
       "    <tr>\n",
       "      <th>4</th>\n",
       "      <td>0.69125</td>\n",
       "      <td>8.127120</td>\n",
       "      <td>0.735101</td>\n",
       "      <td>184.925</td>\n",
       "      <td>1</td>\n",
       "      <td>4</td>\n",
       "      <td>0.8010</td>\n",
       "      <td>378833.7</td>\n",
       "      <td>147856.5</td>\n",
       "    </tr>\n",
       "    <tr>\n",
       "      <th>...</th>\n",
       "      <td>...</td>\n",
       "      <td>...</td>\n",
       "      <td>...</td>\n",
       "      <td>...</td>\n",
       "      <td>...</td>\n",
       "      <td>...</td>\n",
       "      <td>...</td>\n",
       "      <td>...</td>\n",
       "      <td>...</td>\n",
       "    </tr>\n",
       "    <tr>\n",
       "      <th>294</th>\n",
       "      <td>0.73750</td>\n",
       "      <td>15.331483</td>\n",
       "      <td>0.721367</td>\n",
       "      <td>170.750</td>\n",
       "      <td>-1</td>\n",
       "      <td>5</td>\n",
       "      <td>1.3016</td>\n",
       "      <td>304514.4</td>\n",
       "      <td>283042.3</td>\n",
       "    </tr>\n",
       "    <tr>\n",
       "      <th>295</th>\n",
       "      <td>0.36250</td>\n",
       "      <td>32.665259</td>\n",
       "      <td>0.436133</td>\n",
       "      <td>197.750</td>\n",
       "      <td>-1</td>\n",
       "      <td>5</td>\n",
       "      <td>1.3016</td>\n",
       "      <td>304514.4</td>\n",
       "      <td>283042.3</td>\n",
       "    </tr>\n",
       "    <tr>\n",
       "      <th>296</th>\n",
       "      <td>0.46250</td>\n",
       "      <td>26.757500</td>\n",
       "      <td>0.443711</td>\n",
       "      <td>224.750</td>\n",
       "      <td>1</td>\n",
       "      <td>5</td>\n",
       "      <td>1.3016</td>\n",
       "      <td>304514.4</td>\n",
       "      <td>283042.3</td>\n",
       "    </tr>\n",
       "    <tr>\n",
       "      <th>297</th>\n",
       "      <td>0.76250</td>\n",
       "      <td>16.930533</td>\n",
       "      <td>0.874492</td>\n",
       "      <td>215.750</td>\n",
       "      <td>-1</td>\n",
       "      <td>5</td>\n",
       "      <td>1.3016</td>\n",
       "      <td>304514.4</td>\n",
       "      <td>283042.3</td>\n",
       "    </tr>\n",
       "    <tr>\n",
       "      <th>298</th>\n",
       "      <td>0.61250</td>\n",
       "      <td>21.948929</td>\n",
       "      <td>0.553164</td>\n",
       "      <td>188.750</td>\n",
       "      <td>1</td>\n",
       "      <td>5</td>\n",
       "      <td>1.3016</td>\n",
       "      <td>304514.4</td>\n",
       "      <td>283042.3</td>\n",
       "    </tr>\n",
       "  </tbody>\n",
       "</table>\n",
       "<p>278 rows × 9 columns</p>\n",
       "</div>"
      ],
      "text/plain": [
       "      Radius  BStrength  ApexHeight  OrientationCme  iHelicity  realization  \\\n",
       "0    0.58375  22.526622    0.682075         204.725          1            4   \n",
       "1    0.52625   6.919483    0.519179         164.225          1            4   \n",
       "2    0.72625   5.087500    0.662022         233.975          1            4   \n",
       "3    0.36125  18.360770    0.420743         200.675         -1            4   \n",
       "4    0.69125   8.127120    0.735101         184.925          1            4   \n",
       "..       ...        ...         ...             ...        ...          ...   \n",
       "294  0.73750  15.331483    0.721367         170.750         -1            5   \n",
       "295  0.36250  32.665259    0.436133         197.750         -1            5   \n",
       "296  0.46250  26.757500    0.443711         224.750          1            5   \n",
       "297  0.76250  16.930533    0.874492         215.750         -1            5   \n",
       "298  0.61250  21.948929    0.553164         188.750          1            5   \n",
       "\n",
       "     FactorB0  PoyntingFluxPerBSi  LperpTimesSqrtBSi  \n",
       "0      0.8010            378833.7           147856.5  \n",
       "1      0.8010            378833.7           147856.5  \n",
       "2      0.8010            378833.7           147856.5  \n",
       "3      0.8010            378833.7           147856.5  \n",
       "4      0.8010            378833.7           147856.5  \n",
       "..        ...                 ...                ...  \n",
       "294    1.3016            304514.4           283042.3  \n",
       "295    1.3016            304514.4           283042.3  \n",
       "296    1.3016            304514.4           283042.3  \n",
       "297    1.3016            304514.4           283042.3  \n",
       "298    1.3016            304514.4           283042.3  \n",
       "\n",
       "[278 rows x 9 columns]"
      ]
     },
     "execution_count": 41,
     "metadata": {},
     "output_type": "execute_result"
    }
   ],
   "source": [
    "bg_params_to_insert = np.zeros((cme_params.shape[0], bg_params.shape[1]))\n",
    "for bg_idx, bg in enumerate(unique_bg):\n",
    "    bg_params_to_insert[cme_param_bg_idx[bg_idx], 0] = bg_params.FactorB0[bg - 1]\n",
    "    bg_params_to_insert[cme_param_bg_idx[bg_idx], 1] = bg_params.PoyntingFluxPerBSi[bg - 1]\n",
    "    bg_params_to_insert[cme_param_bg_idx[bg_idx], 2] = bg_params.LperpTimesSqrtBSi[bg - 1]\n",
    "\n",
    "cme_params[\"FactorB0\"] = pd.Series(bg_params_to_insert[:, 0])\n",
    "cme_params[\"PoyntingFluxPerBSi\"] = pd.Series(bg_params_to_insert[:, 1])\n",
    "cme_params[\"LperpTimesSqrtBSi\"] = pd.Series(bg_params_to_insert[:, 2])\n",
    "cme_params[\"SimID\"] = pd.Series(np.linspace(31, 330, 300))\n",
    "sim_idx_successful = sd_2161 - 30 - 1\n",
    "sim_idx_to_drop = np.setdiff1d(np.linspace(0, 299, 300), sim_idx_successful).astype(int).tolist()\n",
    "\n",
    "sim_idx_to_drop\n",
    "cme_params.drop([\"restartdir\"], axis=1, inplace=True)\n",
    "cme_params.drop(sim_idx_to_drop, inplace=True)\n",
    "cme_params.drop([\"SimID\"], axis=1, inplace=True)\n",
    "cme_params"
   ]
  },
  {
   "cell_type": "code",
   "execution_count": 42,
   "metadata": {},
   "outputs": [
    {
     "data": {
      "text/plain": [
       "(0.280873828, 0.928935547)"
      ]
     },
     "execution_count": 42,
     "metadata": {},
     "output_type": "execute_result"
    }
   ],
   "source": [
    "cme_params.ApexHeight.min(), cme_params.ApexHeight.max()"
   ]
  },
  {
   "cell_type": "code",
   "execution_count": 43,
   "metadata": {},
   "outputs": [
    {
     "data": {
      "text/plain": [
       "(0.2625, 1.0)"
      ]
     },
     "execution_count": 43,
     "metadata": {},
     "output_type": "execute_result"
    }
   ],
   "source": [
    "0.875 * 0.3, 1.25 * 0.8"
   ]
  },
  {
   "cell_type": "code",
   "execution_count": 44,
   "metadata": {},
   "outputs": [
    {
     "data": {
      "text/plain": [
       "(5.0875, 42.76293137)"
      ]
     },
     "execution_count": 44,
     "metadata": {},
     "output_type": "execute_result"
    }
   ],
   "source": [
    "cme_params.BStrength.min(), cme_params.BStrength.max()"
   ]
  },
  {
   "cell_type": "code",
   "execution_count": 45,
   "metadata": {},
   "outputs": [
    {
     "data": {
      "text/plain": [
       "(4.4515625, 47.483333333333334)"
      ]
     },
     "execution_count": 45,
     "metadata": {},
     "output_type": "execute_result"
    }
   ],
   "source": [
    "(0.5 / 0.8) * 19.25 * 0.37, (2.0 / 0.3) * 19.25 * 0.37"
   ]
  },
  {
   "cell_type": "code",
   "execution_count": 46,
   "metadata": {},
   "outputs": [
    {
     "data": {
      "text/plain": [
       "(155.225, 244.775)"
      ]
     },
     "execution_count": 46,
     "metadata": {},
     "output_type": "execute_result"
    }
   ],
   "source": [
    "cme_params.OrientationCme.min(), cme_params.OrientationCme.max()"
   ]
  },
  {
   "cell_type": "code",
   "execution_count": 47,
   "metadata": {},
   "outputs": [
    {
     "data": {
      "text/plain": [
       "(155, 245)"
      ]
     },
     "execution_count": 47,
     "metadata": {},
     "output_type": "execute_result"
    }
   ],
   "source": [
    "200 - 45, 200 + 45"
   ]
  },
  {
   "cell_type": "code",
   "execution_count": 48,
   "metadata": {},
   "outputs": [
    {
     "data": {
      "text/plain": [
       "pandas.core.series.Series"
      ]
     },
     "execution_count": 48,
     "metadata": {},
     "output_type": "execute_result"
    }
   ],
   "source": [
    "type(cme_params.min())\n",
    "# cme_params.max()"
   ]
  },
  {
   "cell_type": "code",
   "execution_count": 49,
   "metadata": {},
   "outputs": [
    {
     "data": {
      "text/plain": [
       "Radius                     0.3000\n",
       "BStrength                  4.4516\n",
       "ApexHeight                 0.2625\n",
       "OrientationCme           155.0000\n",
       "iHelicity                 -1.0000\n",
       "realization                1.0000\n",
       "FactorB0                   0.5400\n",
       "PoyntingFluxPerBSi    300000.0000\n",
       "LperpTimesSqrtBSi      30000.0000\n",
       "dtype: float64"
      ]
     },
     "execution_count": 49,
     "metadata": {},
     "output_type": "execute_result"
    }
   ],
   "source": [
    "cme_p_min = cme_params.min()\n",
    "cme_p_min.BStrength = 4.4516\n",
    "cme_p_min.Radius = 0.3\n",
    "cme_p_min.OrientationCme = 155\n",
    "cme_p_min.iHelicity = -1\n",
    "cme_p_min.ApexHeight = 0.2625\n",
    "cme_p_min.realization = 1\n",
    "cme_p_min.FactorB0 = 0.54\n",
    "cme_p_min.PoyntingFluxPerBSi = 0.3e6\n",
    "cme_p_min.LperpTimesSqrtBSi = 0.3e5\n",
    "\n",
    "cme_p_min"
   ]
  },
  {
   "cell_type": "code",
   "execution_count": 50,
   "metadata": {},
   "outputs": [
    {
     "data": {
      "text/plain": [
       "Radius                8.000000e-01\n",
       "BStrength             4.748330e+01\n",
       "ApexHeight            1.000000e+00\n",
       "OrientationCme        2.450000e+02\n",
       "iHelicity             1.000000e+00\n",
       "realization           1.200000e+01\n",
       "FactorB0              2.700000e+00\n",
       "PoyntingFluxPerBSi    1.100000e+06\n",
       "LperpTimesSqrtBSi     3.000000e+05\n",
       "dtype: float64"
      ]
     },
     "execution_count": 50,
     "metadata": {},
     "output_type": "execute_result"
    }
   ],
   "source": [
    "cme_p_max = cme_params.max()\n",
    "cme_p_max.BStrength = 47.4833\n",
    "cme_p_max.Radius = 0.8\n",
    "cme_p_max.OrientationCme = 245\n",
    "cme_p_max.iHelicity = 1\n",
    "cme_p_max.ApexHeight = 1\n",
    "cme_p_max.realization = 12\n",
    "cme_p_max.FactorB0 = 2.7\n",
    "cme_p_max.PoyntingFluxPerBSi = 1.1e6\n",
    "cme_p_max.LperpTimesSqrtBSi = 3e5\n",
    "\n",
    "cme_p_max"
   ]
  },
  {
   "cell_type": "code",
   "execution_count": 51,
   "metadata": {},
   "outputs": [],
   "source": [
    "# define min and max series in terms of actual ranges of parameters?\n",
    "# cme_min = pd.Series([0.3, 0.54, 0.3e6, 0.3e5, ])"
   ]
  },
  {
   "cell_type": "code",
   "execution_count": 52,
   "metadata": {},
   "outputs": [
    {
     "data": {
      "text/html": [
       "<div>\n",
       "<style scoped>\n",
       "    .dataframe tbody tr th:only-of-type {\n",
       "        vertical-align: middle;\n",
       "    }\n",
       "\n",
       "    .dataframe tbody tr th {\n",
       "        vertical-align: top;\n",
       "    }\n",
       "\n",
       "    .dataframe thead th {\n",
       "        text-align: right;\n",
       "    }\n",
       "</style>\n",
       "<table border=\"1\" class=\"dataframe\">\n",
       "  <thead>\n",
       "    <tr style=\"text-align: right;\">\n",
       "      <th></th>\n",
       "      <th>Radius</th>\n",
       "      <th>BStrength</th>\n",
       "      <th>ApexHeight</th>\n",
       "      <th>OrientationCme</th>\n",
       "      <th>iHelicity</th>\n",
       "      <th>realization</th>\n",
       "      <th>FactorB0</th>\n",
       "      <th>PoyntingFluxPerBSi</th>\n",
       "      <th>LperpTimesSqrtBSi</th>\n",
       "    </tr>\n",
       "  </thead>\n",
       "  <tbody>\n",
       "    <tr>\n",
       "      <th>0</th>\n",
       "      <td>0.5675</td>\n",
       "      <td>0.420040</td>\n",
       "      <td>0.568916</td>\n",
       "      <td>0.5525</td>\n",
       "      <td>1.0</td>\n",
       "      <td>0.272727</td>\n",
       "      <td>0.120833</td>\n",
       "      <td>0.098542</td>\n",
       "      <td>0.436506</td>\n",
       "    </tr>\n",
       "    <tr>\n",
       "      <th>1</th>\n",
       "      <td>0.4525</td>\n",
       "      <td>0.057350</td>\n",
       "      <td>0.348039</td>\n",
       "      <td>0.1025</td>\n",
       "      <td>1.0</td>\n",
       "      <td>0.272727</td>\n",
       "      <td>0.120833</td>\n",
       "      <td>0.098542</td>\n",
       "      <td>0.436506</td>\n",
       "    </tr>\n",
       "    <tr>\n",
       "      <th>2</th>\n",
       "      <td>0.8525</td>\n",
       "      <td>0.014777</td>\n",
       "      <td>0.541725</td>\n",
       "      <td>0.8775</td>\n",
       "      <td>1.0</td>\n",
       "      <td>0.272727</td>\n",
       "      <td>0.120833</td>\n",
       "      <td>0.098542</td>\n",
       "      <td>0.436506</td>\n",
       "    </tr>\n",
       "    <tr>\n",
       "      <th>3</th>\n",
       "      <td>0.1225</td>\n",
       "      <td>0.323231</td>\n",
       "      <td>0.214567</td>\n",
       "      <td>0.5075</td>\n",
       "      <td>0.0</td>\n",
       "      <td>0.272727</td>\n",
       "      <td>0.120833</td>\n",
       "      <td>0.098542</td>\n",
       "      <td>0.436506</td>\n",
       "    </tr>\n",
       "    <tr>\n",
       "      <th>4</th>\n",
       "      <td>0.7825</td>\n",
       "      <td>0.085414</td>\n",
       "      <td>0.640815</td>\n",
       "      <td>0.3325</td>\n",
       "      <td>1.0</td>\n",
       "      <td>0.272727</td>\n",
       "      <td>0.120833</td>\n",
       "      <td>0.098542</td>\n",
       "      <td>0.436506</td>\n",
       "    </tr>\n",
       "    <tr>\n",
       "      <th>...</th>\n",
       "      <td>...</td>\n",
       "      <td>...</td>\n",
       "      <td>...</td>\n",
       "      <td>...</td>\n",
       "      <td>...</td>\n",
       "      <td>...</td>\n",
       "      <td>...</td>\n",
       "      <td>...</td>\n",
       "      <td>...</td>\n",
       "    </tr>\n",
       "    <tr>\n",
       "      <th>294</th>\n",
       "      <td>0.8750</td>\n",
       "      <td>0.252834</td>\n",
       "      <td>0.622193</td>\n",
       "      <td>0.1750</td>\n",
       "      <td>0.0</td>\n",
       "      <td>0.363636</td>\n",
       "      <td>0.352593</td>\n",
       "      <td>0.005643</td>\n",
       "      <td>0.937194</td>\n",
       "    </tr>\n",
       "    <tr>\n",
       "      <th>295</th>\n",
       "      <td>0.1250</td>\n",
       "      <td>0.655648</td>\n",
       "      <td>0.235434</td>\n",
       "      <td>0.4750</td>\n",
       "      <td>0.0</td>\n",
       "      <td>0.363636</td>\n",
       "      <td>0.352593</td>\n",
       "      <td>0.005643</td>\n",
       "      <td>0.937194</td>\n",
       "    </tr>\n",
       "    <tr>\n",
       "      <th>296</th>\n",
       "      <td>0.3250</td>\n",
       "      <td>0.518360</td>\n",
       "      <td>0.245710</td>\n",
       "      <td>0.7750</td>\n",
       "      <td>1.0</td>\n",
       "      <td>0.363636</td>\n",
       "      <td>0.352593</td>\n",
       "      <td>0.005643</td>\n",
       "      <td>0.937194</td>\n",
       "    </tr>\n",
       "    <tr>\n",
       "      <th>297</th>\n",
       "      <td>0.9250</td>\n",
       "      <td>0.289994</td>\n",
       "      <td>0.829820</td>\n",
       "      <td>0.6750</td>\n",
       "      <td>0.0</td>\n",
       "      <td>0.363636</td>\n",
       "      <td>0.352593</td>\n",
       "      <td>0.005643</td>\n",
       "      <td>0.937194</td>\n",
       "    </tr>\n",
       "    <tr>\n",
       "      <th>298</th>\n",
       "      <td>0.6250</td>\n",
       "      <td>0.406615</td>\n",
       "      <td>0.394121</td>\n",
       "      <td>0.3750</td>\n",
       "      <td>1.0</td>\n",
       "      <td>0.363636</td>\n",
       "      <td>0.352593</td>\n",
       "      <td>0.005643</td>\n",
       "      <td>0.937194</td>\n",
       "    </tr>\n",
       "  </tbody>\n",
       "</table>\n",
       "<p>278 rows × 9 columns</p>\n",
       "</div>"
      ],
      "text/plain": [
       "     Radius  BStrength  ApexHeight  OrientationCme  iHelicity  realization  \\\n",
       "0    0.5675   0.420040    0.568916          0.5525        1.0     0.272727   \n",
       "1    0.4525   0.057350    0.348039          0.1025        1.0     0.272727   \n",
       "2    0.8525   0.014777    0.541725          0.8775        1.0     0.272727   \n",
       "3    0.1225   0.323231    0.214567          0.5075        0.0     0.272727   \n",
       "4    0.7825   0.085414    0.640815          0.3325        1.0     0.272727   \n",
       "..      ...        ...         ...             ...        ...          ...   \n",
       "294  0.8750   0.252834    0.622193          0.1750        0.0     0.363636   \n",
       "295  0.1250   0.655648    0.235434          0.4750        0.0     0.363636   \n",
       "296  0.3250   0.518360    0.245710          0.7750        1.0     0.363636   \n",
       "297  0.9250   0.289994    0.829820          0.6750        0.0     0.363636   \n",
       "298  0.6250   0.406615    0.394121          0.3750        1.0     0.363636   \n",
       "\n",
       "     FactorB0  PoyntingFluxPerBSi  LperpTimesSqrtBSi  \n",
       "0    0.120833            0.098542           0.436506  \n",
       "1    0.120833            0.098542           0.436506  \n",
       "2    0.120833            0.098542           0.436506  \n",
       "3    0.120833            0.098542           0.436506  \n",
       "4    0.120833            0.098542           0.436506  \n",
       "..        ...                 ...                ...  \n",
       "294  0.352593            0.005643           0.937194  \n",
       "295  0.352593            0.005643           0.937194  \n",
       "296  0.352593            0.005643           0.937194  \n",
       "297  0.352593            0.005643           0.937194  \n",
       "298  0.352593            0.005643           0.937194  \n",
       "\n",
       "[278 rows x 9 columns]"
      ]
     },
     "execution_count": 52,
     "metadata": {},
     "output_type": "execute_result"
    }
   ],
   "source": [
    "# now rescale each column of `cme_params` to lie between 0 and 1.\n",
    "\n",
    "# cme_params_norm = (cme_params - cme_params.min()) / (cme_params.max() - cme_params.min())\n",
    "cme_params_norm = (cme_params - cme_p_min) / (cme_p_max - cme_p_min)\n",
    "cme_params_norm"
   ]
  },
  {
   "cell_type": "code",
   "execution_count": 53,
   "metadata": {},
   "outputs": [
    {
     "data": {
      "text/plain": [
       "(278, 9)"
      ]
     },
     "execution_count": 53,
     "metadata": {},
     "output_type": "execute_result"
    }
   ],
   "source": [
    "cme_params_to_augment = cme_params_norm.to_numpy()\n",
    "cme_params_to_augment.shape"
   ]
  },
  {
   "cell_type": "markdown",
   "metadata": {},
   "source": [
    "### Setup for CNN Architecture"
   ]
  },
  {
   "cell_type": "code",
   "execution_count": 54,
   "metadata": {},
   "outputs": [
    {
     "data": {
      "text/plain": [
       "9"
      ]
     },
     "execution_count": 54,
     "metadata": {},
     "output_type": "execute_result"
    }
   ],
   "source": [
    "param_dim = cme_params_to_augment.shape[1]\n",
    "param_dim"
   ]
  },
  {
   "cell_type": "code",
   "execution_count": 55,
   "metadata": {},
   "outputs": [
    {
     "data": {
      "text/plain": [
       "(90, 160, 278)"
      ]
     },
     "execution_count": 55,
     "metadata": {},
     "output_type": "execute_result"
    }
   ],
   "source": [
    "# now augment dataset with these scaled values.\n",
    "rd_2161.shape"
   ]
  },
  {
   "cell_type": "code",
   "execution_count": 56,
   "metadata": {},
   "outputs": [
    {
     "data": {
      "text/plain": [
       "160"
      ]
     },
     "execution_count": 56,
     "metadata": {},
     "output_type": "execute_result"
    }
   ],
   "source": [
    "data_dim = rd_2161.shape[1]\n",
    "data_dim"
   ]
  },
  {
   "cell_type": "code",
   "execution_count": 57,
   "metadata": {},
   "outputs": [
    {
     "data": {
      "text/plain": [
       "(160, 9)"
      ]
     },
     "execution_count": 57,
     "metadata": {},
     "output_type": "execute_result"
    }
   ],
   "source": [
    "input_dim = rd_2161.shape[1]\n",
    "input_dim, param_dim"
   ]
  },
  {
   "cell_type": "code",
   "execution_count": 58,
   "metadata": {},
   "outputs": [],
   "source": [
    "augmented_r = np.zeros((rd_2161.shape[0], data_dim + param_dim, rd_2161.shape[2]))\n",
    "augmented_r[:, :(data_dim), :] = rd_2161\n",
    "for iii in range(rd_2161.shape[2]):\n",
    "    augmented_r[:, (data_dim):, iii] = cme_params_to_augment[iii, :]"
   ]
  },
  {
   "cell_type": "code",
   "execution_count": 59,
   "metadata": {},
   "outputs": [
    {
     "data": {
      "text/plain": [
       "(90, 169, 278)"
      ]
     },
     "execution_count": 59,
     "metadata": {},
     "output_type": "execute_result"
    }
   ],
   "source": [
    "augmented_r.shape"
   ]
  },
  {
   "cell_type": "code",
   "execution_count": 60,
   "metadata": {},
   "outputs": [],
   "source": [
    "class RunningAverageMeter(object):\n",
    "    \"\"\"Computes and stores the average and current value\"\"\"\n",
    "\n",
    "    def __init__(self, momentum=0.99):\n",
    "        self.momentum = momentum\n",
    "        self.losses = []\n",
    "        self.reset()\n",
    "\n",
    "    def reset(self):\n",
    "        self.val = None\n",
    "        self.avg = 0\n",
    "\n",
    "    def update(self, val):\n",
    "        if self.val is None:\n",
    "            self.avg = val\n",
    "        else:\n",
    "            self.avg = self.avg * self.momentum + val * (1 - self.momentum)\n",
    "        self.val = val\n",
    "        self.losses.append(self.avg)"
   ]
  },
  {
   "cell_type": "code",
   "execution_count": 61,
   "metadata": {},
   "outputs": [],
   "source": [
    "def getDataForSim(edge_data_matrix, r_data_matrix, sim_data, sid):\n",
    "    \"\"\"\n",
    "    Take in a randomly chosen sim from the training set and return the following:\n",
    "    y0_train_torch\n",
    "    y_train_torch\n",
    "    i.e. IC and data in torch tensor format on Device\n",
    "    t_train_torch\n",
    "    and correct sim_index from sim_data\n",
    "    \"\"\"\n",
    "    \n",
    "    sim_index = np.argwhere(sim_data == sid)[0][0]\n",
    "    \n",
    "    r_sim = r_data_matrix[:, :, sim_index]\n",
    "    \n",
    "    tMinIdx, tMin, tMaxIdx, tMax = edut.getTMinTMax(edge_data_matrix, simIdx=sim_index)\n",
    "    \n",
    "    r_sim_valid = r_sim[tMinIdx:(tMaxIdx+1), :]\n",
    "    valid_times = np.arange(tMin, tMax + 2, step=2)\n",
    "    \n",
    "    tTrainEnd = tMin + np.floor((2/3)*(tMax - tMin))\n",
    "    \n",
    "    \n",
    "    trainEndIdx = np.argmin(np.abs(valid_times - tTrainEnd))\n",
    "    #     trainEndIdx = np.argwhere(valid_times == tTrainEnd)[0][0]\n",
    "    \n",
    "    tTrain = valid_times[:(trainEndIdx + 1)]\n",
    "    \n",
    "    tTest = valid_times[(trainEndIdx + 1):]\n",
    "    \n",
    "    tTrainScaled = (tTrain - tMin) / (tMax - tMin)\n",
    "    tTestScaled = (tTest - tMin) / (tMax - tMin)\n",
    "    \n",
    "    tAllScaled = (valid_times - tMin) / (tMax - tMin)\n",
    "    \n",
    "    y0_train_orig = r_sim_valid[0, :]\n",
    "    y0_train_torch = torch.from_numpy(np.float32(y0_train_orig))\n",
    "    y0_train_torch = y0_train_torch.reshape((1, len(y0_train_torch))).to(device)\n",
    "    \n",
    "    \n",
    "    y_train_orig = r_sim_valid[:(trainEndIdx + 1), :]\n",
    "    y_train_torch = torch.from_numpy(np.expand_dims(np.float32(y_train_orig), axis=1)).to(device)\n",
    "    \n",
    "    y_full_torch = torch.from_numpy(np.expand_dims(np.float32(r_sim_valid), axis=1)).to(device)\n",
    "    \n",
    "    t_train_torch = torch.tensor(np.float32(tTrainScaled)).to(device)\n",
    "    t_scaled_torch = torch.tensor(np.float32(tAllScaled)).to(device)\n",
    "    \n",
    "    return y0_train_torch, y_train_torch, y_full_torch, t_train_torch, t_scaled_torch, sim_index"
   ]
  },
  {
   "cell_type": "code",
   "execution_count": 62,
   "metadata": {},
   "outputs": [],
   "source": [
    "class ODEFuncNet(nn.Module):\n",
    "\n",
    "    def __init__(self, input_dim, param_dim, n_layers=1, n_units=100):\n",
    "        super(ODEFuncNet, self).__init__()\n",
    "\n",
    "        self.net1 = nn.Sequential(\n",
    "            nn.Linear(input_dim + param_dim, n_units),\n",
    "            nn.Tanh(),\n",
    "            nn.Linear(n_units, n_units),\n",
    "            nn.Tanh(),\n",
    "            nn.Linear(n_units, input_dim)\n",
    "        )\n",
    "        \n",
    "        for m in self.net1.modules():\n",
    "            if isinstance(m, nn.Linear):\n",
    "                nn.init.normal_(m.weight, mean=0, std=0.1)\n",
    "                nn.init.constant_(m.bias, val=0)\n",
    "\n",
    "    def set_params(self, new_params):\n",
    "        self.params = new_params\n",
    "\n",
    "\n",
    "    def forward(self, t, y):\n",
    "        y2 = y.clone()\n",
    "        y2[:, :, input_dim:] = self.params\n",
    "        output = torch.cat((self.net1(y2),\n",
    "                            torch.zeros_like(self.params)),-1)\n",
    "        return output"
   ]
  },
  {
   "cell_type": "code",
   "execution_count": 63,
   "metadata": {},
   "outputs": [],
   "source": [
    "y01, yt1, yf1, tt1, ts1, si1 = getDataForSim(ed_2161, augmented_r, sd_2161, 31)"
   ]
  },
  {
   "cell_type": "code",
   "execution_count": 64,
   "metadata": {},
   "outputs": [
    {
     "data": {
      "text/plain": [
       "(torch.Size([1, 169]), torch.Size([46, 1, 169]))"
      ]
     },
     "execution_count": 64,
     "metadata": {},
     "output_type": "execute_result"
    }
   ],
   "source": [
    "y01.shape, yt1.shape"
   ]
  },
  {
   "cell_type": "code",
   "execution_count": 65,
   "metadata": {},
   "outputs": [],
   "source": [
    "func = ODEFuncNet(input_dim, param_dim).to(device)\n",
    "optimizer = optim.Adam(func.parameters(), lr=1e-3)"
   ]
  },
  {
   "cell_type": "code",
   "execution_count": 66,
   "metadata": {},
   "outputs": [
    {
     "data": {
      "text/plain": [
       "ODEFuncNet(\n",
       "  (net1): Sequential(\n",
       "    (0): Linear(in_features=169, out_features=100, bias=True)\n",
       "    (1): Tanh()\n",
       "    (2): Linear(in_features=100, out_features=100, bias=True)\n",
       "    (3): Tanh()\n",
       "    (4): Linear(in_features=100, out_features=160, bias=True)\n",
       "  )\n",
       ")"
      ]
     },
     "execution_count": 66,
     "metadata": {},
     "output_type": "execute_result"
    }
   ],
   "source": [
    "func"
   ]
  },
  {
   "cell_type": "markdown",
   "metadata": {},
   "source": [
    "### Test Case 1: 3 Sims sharing same background but different CME parameters!\n",
    "\n",
    "(Sims 231, 234, 241)"
   ]
  },
  {
   "cell_type": "code",
   "execution_count": 67,
   "metadata": {},
   "outputs": [],
   "source": [
    "tc1_sims = np.array([231, 234, 241])"
   ]
  },
  {
   "cell_type": "code",
   "execution_count": 68,
   "metadata": {},
   "outputs": [],
   "source": [
    "y0_train_torch_231, y_train_torch_231, y_full_torch_231, t_train_torch_231, t_scaled_torch_231, sim_index_231 = getDataForSim(ed_2161,augmented_r,sd_2161,231)\n",
    "y0_train_torch_234, y_train_torch_234, y_full_torch_234, t_train_torch_234, t_scaled_torch_234, sim_index_234 = getDataForSim(ed_2161,augmented_r,sd_2161,234)\n",
    "y0_train_torch_241, y_train_torch_241, y_full_torch_241, t_train_torch_241, t_scaled_torch_241, sim_index_241 = getDataForSim(ed_2161,augmented_r,sd_2161,241)"
   ]
  },
  {
   "cell_type": "code",
   "execution_count": 69,
   "metadata": {},
   "outputs": [
    {
     "data": {
      "text/plain": [
       "torch.Size([1, 169])"
      ]
     },
     "execution_count": 69,
     "metadata": {},
     "output_type": "execute_result"
    }
   ],
   "source": [
    "y0_train_torch_231.shape"
   ]
  },
  {
   "cell_type": "code",
   "execution_count": 70,
   "metadata": {},
   "outputs": [],
   "source": [
    "# corresponding CME parameters?"
   ]
  },
  {
   "cell_type": "code",
   "execution_count": 71,
   "metadata": {},
   "outputs": [
    {
     "data": {
      "text/html": [
       "<div>\n",
       "<style scoped>\n",
       "    .dataframe tbody tr th:only-of-type {\n",
       "        vertical-align: middle;\n",
       "    }\n",
       "\n",
       "    .dataframe tbody tr th {\n",
       "        vertical-align: top;\n",
       "    }\n",
       "\n",
       "    .dataframe thead th {\n",
       "        text-align: right;\n",
       "    }\n",
       "</style>\n",
       "<table border=\"1\" class=\"dataframe\">\n",
       "  <thead>\n",
       "    <tr style=\"text-align: right;\">\n",
       "      <th></th>\n",
       "      <th>Radius</th>\n",
       "      <th>BStrength</th>\n",
       "      <th>ApexHeight</th>\n",
       "      <th>OrientationCme</th>\n",
       "      <th>iHelicity</th>\n",
       "      <th>realization</th>\n",
       "      <th>FactorB0</th>\n",
       "      <th>PoyntingFluxPerBSi</th>\n",
       "      <th>LperpTimesSqrtBSi</th>\n",
       "    </tr>\n",
       "  </thead>\n",
       "  <tbody>\n",
       "    <tr>\n",
       "      <th>200</th>\n",
       "      <td>0.725</td>\n",
       "      <td>0.030838</td>\n",
       "      <td>0.640625</td>\n",
       "      <td>0.225</td>\n",
       "      <td>1.0</td>\n",
       "      <td>0.272727</td>\n",
       "      <td>0.120833</td>\n",
       "      <td>0.098542</td>\n",
       "      <td>0.436506</td>\n",
       "    </tr>\n",
       "    <tr>\n",
       "      <th>203</th>\n",
       "      <td>0.825</td>\n",
       "      <td>0.073683</td>\n",
       "      <td>0.824523</td>\n",
       "      <td>0.575</td>\n",
       "      <td>1.0</td>\n",
       "      <td>0.272727</td>\n",
       "      <td>0.120833</td>\n",
       "      <td>0.098542</td>\n",
       "      <td>0.436506</td>\n",
       "    </tr>\n",
       "    <tr>\n",
       "      <th>210</th>\n",
       "      <td>0.075</td>\n",
       "      <td>0.527969</td>\n",
       "      <td>0.100265</td>\n",
       "      <td>0.025</td>\n",
       "      <td>0.0</td>\n",
       "      <td>0.272727</td>\n",
       "      <td>0.120833</td>\n",
       "      <td>0.098542</td>\n",
       "      <td>0.436506</td>\n",
       "    </tr>\n",
       "  </tbody>\n",
       "</table>\n",
       "</div>"
      ],
      "text/plain": [
       "     Radius  BStrength  ApexHeight  OrientationCme  iHelicity  realization  \\\n",
       "200   0.725   0.030838    0.640625           0.225        1.0     0.272727   \n",
       "203   0.825   0.073683    0.824523           0.575        1.0     0.272727   \n",
       "210   0.075   0.527969    0.100265           0.025        0.0     0.272727   \n",
       "\n",
       "     FactorB0  PoyntingFluxPerBSi  LperpTimesSqrtBSi  \n",
       "200  0.120833            0.098542           0.436506  \n",
       "203  0.120833            0.098542           0.436506  \n",
       "210  0.120833            0.098542           0.436506  "
      ]
     },
     "execution_count": 71,
     "metadata": {},
     "output_type": "execute_result"
    }
   ],
   "source": [
    "cme_params_tc1 = cme_params_norm.loc[tc1_sims - 30 - 1]\n",
    "cme_params_tc1"
   ]
  },
  {
   "cell_type": "code",
   "execution_count": 72,
   "metadata": {},
   "outputs": [
    {
     "data": {
      "text/plain": [
       "tensor([0.7250, 0.0308, 0.6406, 0.2250, 1.0000, 0.2727, 0.1208, 0.0985, 0.4365])"
      ]
     },
     "execution_count": 72,
     "metadata": {},
     "output_type": "execute_result"
    }
   ],
   "source": [
    "torch.tensor(np.float32(cme_params_norm.loc[tc1_sims[0] - 30 - 1].to_numpy()))"
   ]
  },
  {
   "cell_type": "code",
   "execution_count": 73,
   "metadata": {},
   "outputs": [
    {
     "data": {
      "text/html": [
       "<div>\n",
       "<style scoped>\n",
       "    .dataframe tbody tr th:only-of-type {\n",
       "        vertical-align: middle;\n",
       "    }\n",
       "\n",
       "    .dataframe tbody tr th {\n",
       "        vertical-align: top;\n",
       "    }\n",
       "\n",
       "    .dataframe thead th {\n",
       "        text-align: right;\n",
       "    }\n",
       "</style>\n",
       "<table border=\"1\" class=\"dataframe\">\n",
       "  <thead>\n",
       "    <tr style=\"text-align: right;\">\n",
       "      <th></th>\n",
       "      <th>Radius</th>\n",
       "      <th>BStrength</th>\n",
       "      <th>ApexHeight</th>\n",
       "      <th>OrientationCme</th>\n",
       "      <th>iHelicity</th>\n",
       "      <th>realization</th>\n",
       "      <th>FactorB0</th>\n",
       "      <th>PoyntingFluxPerBSi</th>\n",
       "      <th>LperpTimesSqrtBSi</th>\n",
       "    </tr>\n",
       "  </thead>\n",
       "  <tbody>\n",
       "    <tr>\n",
       "      <th>200</th>\n",
       "      <td>0.6625</td>\n",
       "      <td>5.778632</td>\n",
       "      <td>0.734961</td>\n",
       "      <td>175.25</td>\n",
       "      <td>1</td>\n",
       "      <td>4</td>\n",
       "      <td>0.801</td>\n",
       "      <td>378833.7</td>\n",
       "      <td>147856.5</td>\n",
       "    </tr>\n",
       "    <tr>\n",
       "      <th>203</th>\n",
       "      <td>0.7125</td>\n",
       "      <td>7.622325</td>\n",
       "      <td>0.870586</td>\n",
       "      <td>206.75</td>\n",
       "      <td>1</td>\n",
       "      <td>4</td>\n",
       "      <td>0.801</td>\n",
       "      <td>378833.7</td>\n",
       "      <td>147856.5</td>\n",
       "    </tr>\n",
       "    <tr>\n",
       "      <th>210</th>\n",
       "      <td>0.3375</td>\n",
       "      <td>27.171019</td>\n",
       "      <td>0.336445</td>\n",
       "      <td>157.25</td>\n",
       "      <td>-1</td>\n",
       "      <td>4</td>\n",
       "      <td>0.801</td>\n",
       "      <td>378833.7</td>\n",
       "      <td>147856.5</td>\n",
       "    </tr>\n",
       "  </tbody>\n",
       "</table>\n",
       "</div>"
      ],
      "text/plain": [
       "     Radius  BStrength  ApexHeight  OrientationCme  iHelicity  realization  \\\n",
       "200  0.6625   5.778632    0.734961          175.25          1            4   \n",
       "203  0.7125   7.622325    0.870586          206.75          1            4   \n",
       "210  0.3375  27.171019    0.336445          157.25         -1            4   \n",
       "\n",
       "     FactorB0  PoyntingFluxPerBSi  LperpTimesSqrtBSi  \n",
       "200     0.801            378833.7           147856.5  \n",
       "203     0.801            378833.7           147856.5  \n",
       "210     0.801            378833.7           147856.5  "
      ]
     },
     "execution_count": 73,
     "metadata": {},
     "output_type": "execute_result"
    }
   ],
   "source": [
    "cme_params.loc[tc1_sims - 30 - 1]"
   ]
  },
  {
   "cell_type": "code",
   "execution_count": 74,
   "metadata": {},
   "outputs": [
    {
     "data": {
      "text/plain": [
       "160"
      ]
     },
     "execution_count": 74,
     "metadata": {},
     "output_type": "execute_result"
    }
   ],
   "source": [
    "input_dim"
   ]
  },
  {
   "cell_type": "code",
   "execution_count": 75,
   "metadata": {},
   "outputs": [],
   "source": [
    "def get_batch(torch_train_data, torch_train_time, batch_time=5, batch_size=10):\n",
    "    s = torch.from_numpy(np.random.choice(np.arange(len(torch_train_time) - batch_time, dtype=np.int64),\n",
    "                                          batch_size,\n",
    "                                          replace=False))\n",
    "    batch_y0 = torch_train_data[s]  # (M, D)\n",
    "    batch_t = torch.zeros((batch_size, batch_time))\n",
    "    for i in range(batch_size):\n",
    "        batch_t[i, :] = torch_train_time[s[i]:(s[i] + batch_time)]\n",
    "        \n",
    "    batch_y = torch.stack([torch_train_data[s + i] for i in range(batch_time)], dim=0)  # (T, M, D)\n",
    "    return batch_y0.to(device), batch_t.to(device), batch_y.to(device)"
   ]
  },
  {
   "cell_type": "code",
   "execution_count": 76,
   "metadata": {},
   "outputs": [],
   "source": [
    "# by0, bt, by = get_batch(y_train_torch_231, t_train_torch_231)"
   ]
  },
  {
   "cell_type": "code",
   "execution_count": 77,
   "metadata": {},
   "outputs": [],
   "source": [
    "# by.shape"
   ]
  },
  {
   "cell_type": "code",
   "execution_count": 78,
   "metadata": {},
   "outputs": [],
   "source": [
    "# func.set_params(torch.tensor(np.expand_dims(np.float32(cme_params_norm.loc[tc1_sims[0] - 30 - 1].to_numpy()), axis=(0, 1))))"
   ]
  },
  {
   "cell_type": "code",
   "execution_count": 79,
   "metadata": {},
   "outputs": [],
   "source": [
    "# by0[[0], :, :].shape"
   ]
  },
  {
   "cell_type": "code",
   "execution_count": 80,
   "metadata": {},
   "outputs": [],
   "source": [
    "# odeint(func, torch.unsqueeze(y0_train_torch_231, 0), t_scaled_torch_231).shape"
   ]
  },
  {
   "cell_type": "code",
   "execution_count": 81,
   "metadata": {},
   "outputs": [],
   "source": [
    "sim_iters = 200"
   ]
  },
  {
   "cell_type": "code",
   "execution_count": 82,
   "metadata": {},
   "outputs": [],
   "source": [
    "batch_time = 5\n",
    "batch_size = 10"
   ]
  },
  {
   "cell_type": "code",
   "execution_count": 83,
   "metadata": {},
   "outputs": [],
   "source": [
    "if run_tc1:\n",
    "    for each_sim in tc1_sims:\n",
    "        y0_train_torch, y_train_torch, y_full_torch, t_train_torch, t_scaled_torch, sim_index = getDataForSim(ed_2161,augmented_r,sd_2161,each_sim)\n",
    "        for itr in range(1, sim_iters + 1):\n",
    "            optimizer.zero_grad()\n",
    "            #             chosen_sim = np.random.choice(sd_train)\n",
    "            batch_y0, batch_t, batch_y = get_batch(y_train_torch, t_train_torch)\n",
    "            pred_y = torch.zeros_like(batch_y)\n",
    "\n",
    "            func.set_params(torch.tensor(np.expand_dims(np.float32(cme_params_norm.loc[each_sim - 30 - 1].to_numpy()), axis=(0, 1))))\n",
    "\n",
    "            for i in range(batch_size):\n",
    "                pred_y[:, i, :, :] = torch.squeeze(odeint(func, batch_y0[[i], :, :], batch_t[i, :]), 1).to(device)\n",
    "\n",
    "            loss = torch.mean(torch.abs(pred_y[:, :, :, :input_dim] - batch_y[:, :, :, :input_dim]))\n",
    "            loss.backward()\n",
    "            optimizer.step()\n",
    "\n",
    "            #     step_loss.append(loss.item())\n",
    "\n",
    "            #         time_meter.update(time.time() - end)\n",
    "            #         loss_meter.update(loss.item())\n",
    "\n",
    "            #             if itr % test_freq == 0:\n",
    "            with torch.no_grad():\n",
    "                func.set_params(torch.tensor(np.expand_dims(np.float32(cme_params_norm.loc[231 - 30 - 1].to_numpy()), axis=(0, 1))))\n",
    "                pred_y_full_series_231 = odeint(func, torch.unsqueeze(y0_train_torch_231, 0), t_scaled_torch_231)\n",
    "\n",
    "                func.set_params(torch.tensor(np.expand_dims(np.float32(cme_params_norm.loc[234 - 30 - 1].to_numpy()), axis=(0, 1))))\n",
    "                pred_y_full_series_234 = odeint(func, torch.unsqueeze(y0_train_torch_234, 0), t_scaled_torch_234)\n",
    "\n",
    "                func.set_params(torch.tensor(np.expand_dims(np.float32(cme_params_norm.loc[241 - 30 - 1].to_numpy()), axis=(0, 1))))\n",
    "                pred_y_full_series_241 = odeint(func, torch.unsqueeze(y0_train_torch_241, 0), t_scaled_torch_241)\n",
    "\n",
    "                loss1 = torch.mean(torch.abs(pred_y_full_series_231[:, :, :, :input_dim] - torch.unsqueeze(y_full_torch_231, 1)[:, :, :, :input_dim]))\n",
    "                loss2 = torch.mean(torch.abs(pred_y_full_series_234[:, :, :, :input_dim] - torch.unsqueeze(y_full_torch_234, 1)[:, :, :, :input_dim]))\n",
    "                loss3 = torch.mean(torch.abs(pred_y_full_series_241[:, :, :, :input_dim] - torch.unsqueeze(y_full_torch_241, 1)[:, :, :, :input_dim]))\n",
    "\n",
    "                print(\"Iter {:04d} | Total Loss sim 31 sim 32 sim 82 {:.6f} {:.6f} {:.6f} \".format(itr,\n",
    "                                                                                loss1.item(), \n",
    "                                                                                loss2.item(),\n",
    "                                                                                loss3.item()\n",
    "                                                                                ))\n",
    "\n",
    "                # DON'T BOTHER WITH THE PLOTTING STUFF FOR NOW, JUST LOOK AT TRAINING!!\n",
    "                #             if itr == sim_iters:\n",
    "                #                 edut.plotTrainPredData1Model(y_full_torch_31.cpu().numpy()[:, 0, :input_dim],\n",
    "                #                              pred_y_full_series_31[:, 0, :input_dim],\n",
    "                #                              ed_2161,\n",
    "                #                              sd_2161,\n",
    "                #                              theta=np.linspace(-31, 82, 160), \n",
    "                #                              simIdx=sim_index_31,\n",
    "                #                              savefig=True,\n",
    "                #                              savedir=testCaseSaveDir)\n",
    "\n",
    "                #                 edut.plotTrainPredData1Model(y_full_torch_32.cpu().numpy()[:, 0, :input_dim],\n",
    "                #                              pred_y_full_series_32[:, 0, :input_dim],\n",
    "                #                              ed_2161,\n",
    "                #                              sd_2161,\n",
    "                #                              theta=np.linspace(-31, 82, 160), \n",
    "                #                              simIdx=sim_index_32,\n",
    "                #                              savefig=True,\n",
    "                #                              savedir=testCaseSaveDir)\n",
    "\n",
    "                #                 edut.plotTrainPredData1Model(y_full_torch_82.cpu().numpy()[:, 0, :input_dim],\n",
    "                #                              pred_y_full_series_82[:, 0, :input_dim],\n",
    "                #                              ed_2161,\n",
    "                #                              sd_2161,\n",
    "                #                              theta=np.linspace(-31, 82, 160), \n",
    "                #                              simIdx=sim_index_82,\n",
    "                #                              savefig=True,\n",
    "                #                              savedir=testCaseSaveDir)\n",
    "\n",
    "            end = time.time()"
   ]
  },
  {
   "cell_type": "markdown",
   "metadata": {},
   "source": [
    "The above is still giving very poor results, not sure why. But code seems to be ok now. We could try one case where we learn the sim just from the initial condition and not give any batches to begin with?"
   ]
  },
  {
   "cell_type": "markdown",
   "metadata": {},
   "source": [
    "**Test Case 2**"
   ]
  },
  {
   "cell_type": "code",
   "execution_count": null,
   "metadata": {},
   "outputs": [],
   "source": []
  },
  {
   "cell_type": "code",
   "execution_count": null,
   "metadata": {},
   "outputs": [],
   "source": []
  },
  {
   "cell_type": "code",
   "execution_count": null,
   "metadata": {},
   "outputs": [],
   "source": []
  },
  {
   "cell_type": "markdown",
   "metadata": {},
   "source": [
    "#### Try with all sims, it can't hurt!!!"
   ]
  },
  {
   "cell_type": "code",
   "execution_count": 84,
   "metadata": {},
   "outputs": [],
   "source": [
    "def getAbsoluteAvgBatchLoss(prediction_tensor, target_tensor):\n",
    "    \"\"\"\n",
    "    both tensors are of dims (n_times, n_batch, 1, len_traj) or (n_times, 1, len_traj)\n",
    "    \"\"\"\n",
    "    \n",
    "    # swap dimensions of batch and time\n",
    "    if len(prediction_tensor.shape) > 3:\n",
    "        prediction_tensor = torch.permute(prediction_tensor, (1, 0, 2, 3))\n",
    "        target_tensor = torch.permute(target_tensor, (1, 0, 2, 3))\n",
    "        # print(prediction_tensor.shape)#testing\n",
    "        # get torch.abs of difference\n",
    "        abs_diff = torch.abs(prediction_tensor - target_tensor)\n",
    "\n",
    "        # sum over trajectory length\n",
    "        batch_sums = torch.sum(abs_diff, 3)\n",
    "    else:\n",
    "        prediction_tensor = torch.permute(prediction_tensor, (1, 0, 2))\n",
    "        target_tensor = torch.permute(target_tensor, (1, 0, 2))\n",
    "        # print(prediction_tensor.shape)#testing\n",
    "        # get torch.abs of difference\n",
    "        abs_diff = torch.abs(prediction_tensor - target_tensor)\n",
    "\n",
    "        # sum over trajectory length\n",
    "        batch_sums = torch.sum(abs_diff, 2)\n",
    "\n",
    "\n",
    "    # print(batch_sums.shape)  #testing\n",
    "    \n",
    "    # get mean of final tensor to get batch and time averaged absolute loss\n",
    "    batch_loss = torch.mean(batch_sums)\n",
    "    \n",
    "    # print(batch_loss)#testing\n",
    "    \n",
    "    return batch_loss"
   ]
  },
  {
   "cell_type": "code",
   "execution_count": 85,
   "metadata": {},
   "outputs": [],
   "source": [
    "niters = 400\n",
    "test_freq = 5"
   ]
  },
  {
   "cell_type": "code",
   "execution_count": 86,
   "metadata": {},
   "outputs": [
    {
     "data": {
      "text/plain": [
       "209"
      ]
     },
     "execution_count": 86,
     "metadata": {},
     "output_type": "execute_result"
    }
   ],
   "source": [
    "len(sd_train)"
   ]
  },
  {
   "cell_type": "code",
   "execution_count": 87,
   "metadata": {},
   "outputs": [],
   "source": [
    "import logging\n",
    "\n",
    "# stealing this from: \n",
    "# https://github.com/rtqichen/torchdiffeq/blob/master/examples/odenet_mnist.py#L250C1-L274C18\n",
    "def get_logger(logpath, package_files=[], displaying=True, saving=True, debug=False):\n",
    "    logger = logging.getLogger()\n",
    "    if debug:\n",
    "        level = logging.DEBUG\n",
    "    else:\n",
    "        level = logging.INFO\n",
    "    logger.setLevel(level)\n",
    "    if saving:\n",
    "        info_file_handler = logging.FileHandler(logpath, mode=\"a\")\n",
    "        info_file_handler.setLevel(level)\n",
    "        logger.addHandler(info_file_handler)\n",
    "    if displaying:\n",
    "        console_handler = logging.StreamHandler()\n",
    "        console_handler.setLevel(level)\n",
    "        logger.addHandler(console_handler)\n",
    "        #     logger.info(filepath)\n",
    "\n",
    "        #     with open(filepath, \"r\") as f:\n",
    "        #         logger.info(f.read())\n",
    "\n",
    "        #     for f in package_files:\n",
    "        #         logger.info(f)\n",
    "        #         with open(f, \"r\") as package_f:\n",
    "        #             logger.info(package_f.read())\n",
    "\n",
    "    return logger"
   ]
  },
  {
   "cell_type": "code",
   "execution_count": 88,
   "metadata": {},
   "outputs": [],
   "source": [
    "logger = get_logger(logpath=os.path.join(os.getcwd(), \"combined_nn_training.log\"))"
   ]
  },
  {
   "cell_type": "code",
   "execution_count": 89,
   "metadata": {},
   "outputs": [],
   "source": [
    "func = ODEFuncNet(input_dim, param_dim).to(device)\n",
    "optimizer = optim.Adam(func.parameters(), lr=1e-3)"
   ]
  },
  {
   "cell_type": "code",
   "execution_count": 90,
   "metadata": {},
   "outputs": [
    {
     "name": "stdout",
     "output_type": "stream",
     "text": [
      "ODEFuncNet(\n",
      "  (net1): Sequential(\n",
      "    (0): Linear(in_features=169, out_features=100, bias=True)\n",
      "    (1): Tanh()\n",
      "    (2): Linear(in_features=100, out_features=100, bias=True)\n",
      "    (3): Tanh()\n",
      "    (4): Linear(in_features=100, out_features=160, bias=True)\n",
      "  )\n",
      ")\n"
     ]
    }
   ],
   "source": [
    "logger.info(func)\n",
    "# logger.info(\"Number of parameters: {}\".format(count_parameters(func)))"
   ]
  },
  {
   "cell_type": "markdown",
   "metadata": {},
   "source": [
    "**Thoughts**: We should probably take an average over the entire training set i.e. do loss update and every pre-set number of iterations, check loss on all sims in training set integrated from IC, and use that as benchmark.\n",
    "As more sims are fed in, the overall error over all sims should reduce, use mean absolute error instead of our function (faster). Also, its better to let this run on NERSC."
   ]
  },
  {
   "cell_type": "code",
   "execution_count": 91,
   "metadata": {},
   "outputs": [
    {
     "name": "stdout",
     "output_type": "stream",
     "text": [
      "Running 400 for Sim 31\n",
      "Iter 0005 | Total Loss 1246.294189 | Sim 031 \n",
      "Iter 0010 | Total Loss 1212.100586 | Sim 031 \n",
      "Iter 0015 | Total Loss 1172.829224 | Sim 031 \n",
      "Iter 0020 | Total Loss 1130.744751 | Sim 031 \n",
      "Iter 0025 | Total Loss 1086.099854 | Sim 031 \n",
      "Iter 0030 | Total Loss 1040.286621 | Sim 031 \n",
      "Iter 0035 | Total Loss 994.423828 | Sim 031 \n",
      "Iter 0040 | Total Loss 948.853577 | Sim 031 \n",
      "Iter 0045 | Total Loss 903.639282 | Sim 031 \n",
      "Iter 0050 | Total Loss 858.732361 | Sim 031 \n",
      "Iter 0055 | Total Loss 814.156128 | Sim 031 \n",
      "Iter 0060 | Total Loss 769.946777 | Sim 031 \n",
      "Iter 0065 | Total Loss 726.042542 | Sim 031 \n",
      "Iter 0070 | Total Loss 682.538086 | Sim 031 \n",
      "Iter 0075 | Total Loss 639.348145 | Sim 031 \n",
      "Iter 0080 | Total Loss 596.396790 | Sim 031 \n",
      "Iter 0085 | Total Loss 553.702759 | Sim 031 \n",
      "Iter 0090 | Total Loss 511.324158 | Sim 031 \n",
      "Iter 0095 | Total Loss 469.290863 | Sim 031 \n"
     ]
    },
    {
     "ename": "KeyboardInterrupt",
     "evalue": "",
     "output_type": "error",
     "traceback": [
      "\u001b[0;31m---------------------------------------------------------------------------\u001b[0m",
      "\u001b[0;31mKeyboardInterrupt\u001b[0m                         Traceback (most recent call last)",
      "\u001b[0;32m/var/folders/0m/401pb5hj7y59vbxjhd49jjj80000gp/T/ipykernel_17981/3320474636.py\u001b[0m in \u001b[0;36m<module>\u001b[0;34m\u001b[0m\n\u001b[1;32m     21\u001b[0m \u001b[0;34m\u001b[0m\u001b[0m\n\u001b[1;32m     22\u001b[0m         \u001b[0mloss\u001b[0m \u001b[0;34m=\u001b[0m \u001b[0mgetAbsoluteAvgBatchLoss\u001b[0m\u001b[0;34m(\u001b[0m\u001b[0mpred_y\u001b[0m\u001b[0;34m,\u001b[0m \u001b[0mbatch_y\u001b[0m\u001b[0;34m)\u001b[0m\u001b[0;34m\u001b[0m\u001b[0;34m\u001b[0m\u001b[0m\n\u001b[0;32m---> 23\u001b[0;31m         \u001b[0mloss\u001b[0m\u001b[0;34m.\u001b[0m\u001b[0mbackward\u001b[0m\u001b[0;34m(\u001b[0m\u001b[0;34m)\u001b[0m\u001b[0;34m\u001b[0m\u001b[0;34m\u001b[0m\u001b[0m\n\u001b[0m\u001b[1;32m     24\u001b[0m         \u001b[0moptimizer\u001b[0m\u001b[0;34m.\u001b[0m\u001b[0mstep\u001b[0m\u001b[0;34m(\u001b[0m\u001b[0;34m)\u001b[0m\u001b[0;34m\u001b[0m\u001b[0;34m\u001b[0m\u001b[0m\n\u001b[1;32m     25\u001b[0m \u001b[0;34m\u001b[0m\u001b[0m\n",
      "\u001b[0;32m~/opt/anaconda3/lib/python3.8/site-packages/torch/_tensor.py\u001b[0m in \u001b[0;36mbackward\u001b[0;34m(self, gradient, retain_graph, create_graph, inputs)\u001b[0m\n\u001b[1;32m    485\u001b[0m                 \u001b[0minputs\u001b[0m\u001b[0;34m=\u001b[0m\u001b[0minputs\u001b[0m\u001b[0;34m,\u001b[0m\u001b[0;34m\u001b[0m\u001b[0;34m\u001b[0m\u001b[0m\n\u001b[1;32m    486\u001b[0m             )\n\u001b[0;32m--> 487\u001b[0;31m         torch.autograd.backward(\n\u001b[0m\u001b[1;32m    488\u001b[0m             \u001b[0mself\u001b[0m\u001b[0;34m,\u001b[0m \u001b[0mgradient\u001b[0m\u001b[0;34m,\u001b[0m \u001b[0mretain_graph\u001b[0m\u001b[0;34m,\u001b[0m \u001b[0mcreate_graph\u001b[0m\u001b[0;34m,\u001b[0m \u001b[0minputs\u001b[0m\u001b[0;34m=\u001b[0m\u001b[0minputs\u001b[0m\u001b[0;34m\u001b[0m\u001b[0;34m\u001b[0m\u001b[0m\n\u001b[1;32m    489\u001b[0m         )\n",
      "\u001b[0;32m~/opt/anaconda3/lib/python3.8/site-packages/torch/autograd/__init__.py\u001b[0m in \u001b[0;36mbackward\u001b[0;34m(tensors, grad_tensors, retain_graph, create_graph, grad_variables, inputs)\u001b[0m\n\u001b[1;32m    198\u001b[0m     \u001b[0;31m# some Python versions print out the first line of a multi-line function\u001b[0m\u001b[0;34m\u001b[0m\u001b[0;34m\u001b[0m\u001b[0;34m\u001b[0m\u001b[0m\n\u001b[1;32m    199\u001b[0m     \u001b[0;31m# calls in the traceback and some print out the last line\u001b[0m\u001b[0;34m\u001b[0m\u001b[0;34m\u001b[0m\u001b[0;34m\u001b[0m\u001b[0m\n\u001b[0;32m--> 200\u001b[0;31m     Variable._execution_engine.run_backward(  # Calls into the C++ engine to run the backward pass\n\u001b[0m\u001b[1;32m    201\u001b[0m         \u001b[0mtensors\u001b[0m\u001b[0;34m,\u001b[0m \u001b[0mgrad_tensors_\u001b[0m\u001b[0;34m,\u001b[0m \u001b[0mretain_graph\u001b[0m\u001b[0;34m,\u001b[0m \u001b[0mcreate_graph\u001b[0m\u001b[0;34m,\u001b[0m \u001b[0minputs\u001b[0m\u001b[0;34m,\u001b[0m\u001b[0;34m\u001b[0m\u001b[0;34m\u001b[0m\u001b[0m\n\u001b[1;32m    202\u001b[0m         allow_unreachable=True, accumulate_grad=True)  # Calls into the C++ engine to run the backward pass\n",
      "\u001b[0;32m~/opt/anaconda3/lib/python3.8/site-packages/torch/autograd/function.py\u001b[0m in \u001b[0;36mapply\u001b[0;34m(self, *args)\u001b[0m\n\u001b[1;32m    272\u001b[0m                                \"of them.\")\n\u001b[1;32m    273\u001b[0m         \u001b[0muser_fn\u001b[0m \u001b[0;34m=\u001b[0m \u001b[0mvjp_fn\u001b[0m \u001b[0;32mif\u001b[0m \u001b[0mvjp_fn\u001b[0m \u001b[0;32mis\u001b[0m \u001b[0;32mnot\u001b[0m \u001b[0mFunction\u001b[0m\u001b[0;34m.\u001b[0m\u001b[0mvjp\u001b[0m \u001b[0;32melse\u001b[0m \u001b[0mbackward_fn\u001b[0m\u001b[0;34m\u001b[0m\u001b[0;34m\u001b[0m\u001b[0m\n\u001b[0;32m--> 274\u001b[0;31m         \u001b[0;32mreturn\u001b[0m \u001b[0muser_fn\u001b[0m\u001b[0;34m(\u001b[0m\u001b[0mself\u001b[0m\u001b[0;34m,\u001b[0m \u001b[0;34m*\u001b[0m\u001b[0margs\u001b[0m\u001b[0;34m)\u001b[0m\u001b[0;34m\u001b[0m\u001b[0;34m\u001b[0m\u001b[0m\n\u001b[0m\u001b[1;32m    275\u001b[0m \u001b[0;34m\u001b[0m\u001b[0m\n\u001b[1;32m    276\u001b[0m     \u001b[0;32mdef\u001b[0m \u001b[0mapply_jvp\u001b[0m\u001b[0;34m(\u001b[0m\u001b[0mself\u001b[0m\u001b[0;34m,\u001b[0m \u001b[0;34m*\u001b[0m\u001b[0margs\u001b[0m\u001b[0;34m)\u001b[0m\u001b[0;34m:\u001b[0m\u001b[0;34m\u001b[0m\u001b[0;34m\u001b[0m\u001b[0m\n",
      "\u001b[0;32m~/opt/anaconda3/lib/python3.8/site-packages/torchdiffeq/_impl/adjoint.py\u001b[0m in \u001b[0;36mbackward\u001b[0;34m(ctx, *grad_y)\u001b[0m\n\u001b[1;32m    124\u001b[0m \u001b[0;34m\u001b[0m\u001b[0m\n\u001b[1;32m    125\u001b[0m                 \u001b[0;31m# Run the augmented system backwards in time.\u001b[0m\u001b[0;34m\u001b[0m\u001b[0;34m\u001b[0m\u001b[0;34m\u001b[0m\u001b[0m\n\u001b[0;32m--> 126\u001b[0;31m                 aug_state = odeint(\n\u001b[0m\u001b[1;32m    127\u001b[0m                     \u001b[0maugmented_dynamics\u001b[0m\u001b[0;34m,\u001b[0m \u001b[0mtuple\u001b[0m\u001b[0;34m(\u001b[0m\u001b[0maug_state\u001b[0m\u001b[0;34m)\u001b[0m\u001b[0;34m,\u001b[0m\u001b[0;34m\u001b[0m\u001b[0;34m\u001b[0m\u001b[0m\n\u001b[1;32m    128\u001b[0m                     \u001b[0mt\u001b[0m\u001b[0;34m[\u001b[0m\u001b[0mi\u001b[0m \u001b[0;34m-\u001b[0m \u001b[0;36m1\u001b[0m\u001b[0;34m:\u001b[0m\u001b[0mi\u001b[0m \u001b[0;34m+\u001b[0m \u001b[0;36m1\u001b[0m\u001b[0;34m]\u001b[0m\u001b[0;34m.\u001b[0m\u001b[0mflip\u001b[0m\u001b[0;34m(\u001b[0m\u001b[0;36m0\u001b[0m\u001b[0;34m)\u001b[0m\u001b[0;34m,\u001b[0m\u001b[0;34m\u001b[0m\u001b[0;34m\u001b[0m\u001b[0m\n",
      "\u001b[0;32m~/opt/anaconda3/lib/python3.8/site-packages/torchdiffeq/_impl/odeint.py\u001b[0m in \u001b[0;36modeint\u001b[0;34m(func, y0, t, rtol, atol, method, options, event_fn)\u001b[0m\n\u001b[1;32m     75\u001b[0m \u001b[0;34m\u001b[0m\u001b[0m\n\u001b[1;32m     76\u001b[0m     \u001b[0;32mif\u001b[0m \u001b[0mevent_fn\u001b[0m \u001b[0;32mis\u001b[0m \u001b[0;32mNone\u001b[0m\u001b[0;34m:\u001b[0m\u001b[0;34m\u001b[0m\u001b[0;34m\u001b[0m\u001b[0m\n\u001b[0;32m---> 77\u001b[0;31m         \u001b[0msolution\u001b[0m \u001b[0;34m=\u001b[0m \u001b[0msolver\u001b[0m\u001b[0;34m.\u001b[0m\u001b[0mintegrate\u001b[0m\u001b[0;34m(\u001b[0m\u001b[0mt\u001b[0m\u001b[0;34m)\u001b[0m\u001b[0;34m\u001b[0m\u001b[0;34m\u001b[0m\u001b[0m\n\u001b[0m\u001b[1;32m     78\u001b[0m     \u001b[0;32melse\u001b[0m\u001b[0;34m:\u001b[0m\u001b[0;34m\u001b[0m\u001b[0;34m\u001b[0m\u001b[0m\n\u001b[1;32m     79\u001b[0m         \u001b[0mevent_t\u001b[0m\u001b[0;34m,\u001b[0m \u001b[0msolution\u001b[0m \u001b[0;34m=\u001b[0m \u001b[0msolver\u001b[0m\u001b[0;34m.\u001b[0m\u001b[0mintegrate_until_event\u001b[0m\u001b[0;34m(\u001b[0m\u001b[0mt\u001b[0m\u001b[0;34m[\u001b[0m\u001b[0;36m0\u001b[0m\u001b[0;34m]\u001b[0m\u001b[0;34m,\u001b[0m \u001b[0mevent_fn\u001b[0m\u001b[0;34m)\u001b[0m\u001b[0;34m\u001b[0m\u001b[0;34m\u001b[0m\u001b[0m\n",
      "\u001b[0;32m~/opt/anaconda3/lib/python3.8/site-packages/torchdiffeq/_impl/solvers.py\u001b[0m in \u001b[0;36mintegrate\u001b[0;34m(self, t)\u001b[0m\n\u001b[1;32m     28\u001b[0m         \u001b[0mself\u001b[0m\u001b[0;34m.\u001b[0m\u001b[0m_before_integrate\u001b[0m\u001b[0;34m(\u001b[0m\u001b[0mt\u001b[0m\u001b[0;34m)\u001b[0m\u001b[0;34m\u001b[0m\u001b[0;34m\u001b[0m\u001b[0m\n\u001b[1;32m     29\u001b[0m         \u001b[0;32mfor\u001b[0m \u001b[0mi\u001b[0m \u001b[0;32min\u001b[0m \u001b[0mrange\u001b[0m\u001b[0;34m(\u001b[0m\u001b[0;36m1\u001b[0m\u001b[0;34m,\u001b[0m \u001b[0mlen\u001b[0m\u001b[0;34m(\u001b[0m\u001b[0mt\u001b[0m\u001b[0;34m)\u001b[0m\u001b[0;34m)\u001b[0m\u001b[0;34m:\u001b[0m\u001b[0;34m\u001b[0m\u001b[0;34m\u001b[0m\u001b[0m\n\u001b[0;32m---> 30\u001b[0;31m             \u001b[0msolution\u001b[0m\u001b[0;34m[\u001b[0m\u001b[0mi\u001b[0m\u001b[0;34m]\u001b[0m \u001b[0;34m=\u001b[0m \u001b[0mself\u001b[0m\u001b[0;34m.\u001b[0m\u001b[0m_advance\u001b[0m\u001b[0;34m(\u001b[0m\u001b[0mt\u001b[0m\u001b[0;34m[\u001b[0m\u001b[0mi\u001b[0m\u001b[0;34m]\u001b[0m\u001b[0;34m)\u001b[0m\u001b[0;34m\u001b[0m\u001b[0;34m\u001b[0m\u001b[0m\n\u001b[0m\u001b[1;32m     31\u001b[0m         \u001b[0;32mreturn\u001b[0m \u001b[0msolution\u001b[0m\u001b[0;34m\u001b[0m\u001b[0;34m\u001b[0m\u001b[0m\n\u001b[1;32m     32\u001b[0m \u001b[0;34m\u001b[0m\u001b[0m\n",
      "\u001b[0;32m~/opt/anaconda3/lib/python3.8/site-packages/torchdiffeq/_impl/rk_common.py\u001b[0m in \u001b[0;36m_advance\u001b[0;34m(self, next_t)\u001b[0m\n\u001b[1;32m    192\u001b[0m         \u001b[0;32mwhile\u001b[0m \u001b[0mnext_t\u001b[0m \u001b[0;34m>\u001b[0m \u001b[0mself\u001b[0m\u001b[0;34m.\u001b[0m\u001b[0mrk_state\u001b[0m\u001b[0;34m.\u001b[0m\u001b[0mt1\u001b[0m\u001b[0;34m:\u001b[0m\u001b[0;34m\u001b[0m\u001b[0;34m\u001b[0m\u001b[0m\n\u001b[1;32m    193\u001b[0m             \u001b[0;32massert\u001b[0m \u001b[0mn_steps\u001b[0m \u001b[0;34m<\u001b[0m \u001b[0mself\u001b[0m\u001b[0;34m.\u001b[0m\u001b[0mmax_num_steps\u001b[0m\u001b[0;34m,\u001b[0m \u001b[0;34m'max_num_steps exceeded ({}>={})'\u001b[0m\u001b[0;34m.\u001b[0m\u001b[0mformat\u001b[0m\u001b[0;34m(\u001b[0m\u001b[0mn_steps\u001b[0m\u001b[0;34m,\u001b[0m \u001b[0mself\u001b[0m\u001b[0;34m.\u001b[0m\u001b[0mmax_num_steps\u001b[0m\u001b[0;34m)\u001b[0m\u001b[0;34m\u001b[0m\u001b[0;34m\u001b[0m\u001b[0m\n\u001b[0;32m--> 194\u001b[0;31m             \u001b[0mself\u001b[0m\u001b[0;34m.\u001b[0m\u001b[0mrk_state\u001b[0m \u001b[0;34m=\u001b[0m \u001b[0mself\u001b[0m\u001b[0;34m.\u001b[0m\u001b[0m_adaptive_step\u001b[0m\u001b[0;34m(\u001b[0m\u001b[0mself\u001b[0m\u001b[0;34m.\u001b[0m\u001b[0mrk_state\u001b[0m\u001b[0;34m)\u001b[0m\u001b[0;34m\u001b[0m\u001b[0;34m\u001b[0m\u001b[0m\n\u001b[0m\u001b[1;32m    195\u001b[0m             \u001b[0mn_steps\u001b[0m \u001b[0;34m+=\u001b[0m \u001b[0;36m1\u001b[0m\u001b[0;34m\u001b[0m\u001b[0;34m\u001b[0m\u001b[0m\n\u001b[1;32m    196\u001b[0m         \u001b[0;32mreturn\u001b[0m \u001b[0m_interp_evaluate\u001b[0m\u001b[0;34m(\u001b[0m\u001b[0mself\u001b[0m\u001b[0;34m.\u001b[0m\u001b[0mrk_state\u001b[0m\u001b[0;34m.\u001b[0m\u001b[0minterp_coeff\u001b[0m\u001b[0;34m,\u001b[0m \u001b[0mself\u001b[0m\u001b[0;34m.\u001b[0m\u001b[0mrk_state\u001b[0m\u001b[0;34m.\u001b[0m\u001b[0mt0\u001b[0m\u001b[0;34m,\u001b[0m \u001b[0mself\u001b[0m\u001b[0;34m.\u001b[0m\u001b[0mrk_state\u001b[0m\u001b[0;34m.\u001b[0m\u001b[0mt1\u001b[0m\u001b[0;34m,\u001b[0m \u001b[0mnext_t\u001b[0m\u001b[0;34m)\u001b[0m\u001b[0;34m\u001b[0m\u001b[0;34m\u001b[0m\u001b[0m\n",
      "\u001b[0;32m~/opt/anaconda3/lib/python3.8/site-packages/torchdiffeq/_impl/rk_common.py\u001b[0m in \u001b[0;36m_adaptive_step\u001b[0;34m(self, rk_state)\u001b[0m\n\u001b[1;32m    253\u001b[0m         \u001b[0;31m# trigger both. (i.e. interleaving them would be wrong.)\u001b[0m\u001b[0;34m\u001b[0m\u001b[0;34m\u001b[0m\u001b[0;34m\u001b[0m\u001b[0m\n\u001b[1;32m    254\u001b[0m \u001b[0;34m\u001b[0m\u001b[0m\n\u001b[0;32m--> 255\u001b[0;31m         \u001b[0my1\u001b[0m\u001b[0;34m,\u001b[0m \u001b[0mf1\u001b[0m\u001b[0;34m,\u001b[0m \u001b[0my1_error\u001b[0m\u001b[0;34m,\u001b[0m \u001b[0mk\u001b[0m \u001b[0;34m=\u001b[0m \u001b[0m_runge_kutta_step\u001b[0m\u001b[0;34m(\u001b[0m\u001b[0mself\u001b[0m\u001b[0;34m.\u001b[0m\u001b[0mfunc\u001b[0m\u001b[0;34m,\u001b[0m \u001b[0my0\u001b[0m\u001b[0;34m,\u001b[0m \u001b[0mf0\u001b[0m\u001b[0;34m,\u001b[0m \u001b[0mt0\u001b[0m\u001b[0;34m,\u001b[0m \u001b[0mdt\u001b[0m\u001b[0;34m,\u001b[0m \u001b[0mt1\u001b[0m\u001b[0;34m,\u001b[0m \u001b[0mtableau\u001b[0m\u001b[0;34m=\u001b[0m\u001b[0mself\u001b[0m\u001b[0;34m.\u001b[0m\u001b[0mtableau\u001b[0m\u001b[0;34m)\u001b[0m\u001b[0;34m\u001b[0m\u001b[0;34m\u001b[0m\u001b[0m\n\u001b[0m\u001b[1;32m    256\u001b[0m         \u001b[0;31m# dtypes:\u001b[0m\u001b[0;34m\u001b[0m\u001b[0;34m\u001b[0m\u001b[0;34m\u001b[0m\u001b[0m\n\u001b[1;32m    257\u001b[0m         \u001b[0;31m# y1.dtype == self.y0.dtype\u001b[0m\u001b[0;34m\u001b[0m\u001b[0;34m\u001b[0m\u001b[0;34m\u001b[0m\u001b[0m\n",
      "\u001b[0;32m~/opt/anaconda3/lib/python3.8/site-packages/torchdiffeq/_impl/rk_common.py\u001b[0m in \u001b[0;36m_runge_kutta_step\u001b[0;34m(func, y0, f0, t0, dt, t1, tableau)\u001b[0m\n\u001b[1;32m     59\u001b[0m     \u001b[0mt0\u001b[0m \u001b[0;34m=\u001b[0m \u001b[0mt0\u001b[0m\u001b[0;34m.\u001b[0m\u001b[0mto\u001b[0m\u001b[0;34m(\u001b[0m\u001b[0my0\u001b[0m\u001b[0;34m.\u001b[0m\u001b[0mdtype\u001b[0m\u001b[0;34m)\u001b[0m\u001b[0;34m\u001b[0m\u001b[0;34m\u001b[0m\u001b[0m\n\u001b[1;32m     60\u001b[0m     \u001b[0mdt\u001b[0m \u001b[0;34m=\u001b[0m \u001b[0mdt\u001b[0m\u001b[0;34m.\u001b[0m\u001b[0mto\u001b[0m\u001b[0;34m(\u001b[0m\u001b[0my0\u001b[0m\u001b[0;34m.\u001b[0m\u001b[0mdtype\u001b[0m\u001b[0;34m)\u001b[0m\u001b[0;34m\u001b[0m\u001b[0;34m\u001b[0m\u001b[0m\n\u001b[0;32m---> 61\u001b[0;31m     \u001b[0mt1\u001b[0m \u001b[0;34m=\u001b[0m \u001b[0mt1\u001b[0m\u001b[0;34m.\u001b[0m\u001b[0mto\u001b[0m\u001b[0;34m(\u001b[0m\u001b[0my0\u001b[0m\u001b[0;34m.\u001b[0m\u001b[0mdtype\u001b[0m\u001b[0;34m)\u001b[0m\u001b[0;34m\u001b[0m\u001b[0;34m\u001b[0m\u001b[0m\n\u001b[0m\u001b[1;32m     62\u001b[0m \u001b[0;34m\u001b[0m\u001b[0m\n\u001b[1;32m     63\u001b[0m     \u001b[0;31m# We use an unchecked assign to put data into k without incrementing its _version counter, so that the backward\u001b[0m\u001b[0;34m\u001b[0m\u001b[0;34m\u001b[0m\u001b[0;34m\u001b[0m\u001b[0m\n",
      "\u001b[0;31mKeyboardInterrupt\u001b[0m: "
     ]
    }
   ],
   "source": [
    "for sid in sd_train:\n",
    "    chosen_sim = sid\n",
    "    y0_train_torch, y_train_torch, y_full_torch, t_train_torch, t_scaled_torch, sim_index = getDataForSim(ed_2161,\n",
    "                                                                                                          augmented_r,\n",
    "                                                                                                          sd_2161,\n",
    "                                                                                                          chosen_sim)\n",
    "    \n",
    "    logger.info(\"Running {} for Sim {}\".format(niters, chosen_sim))\n",
    "    for itr in range(1, niters + 1):\n",
    "        optimizer.zero_grad()\n",
    "\n",
    "\n",
    "        batch_y0, batch_t, batch_y = get_batch(y_train_torch, t_train_torch)\n",
    "\n",
    "        func.set_params(torch.tensor(np.expand_dims(np.float32(cme_params_norm.loc[chosen_sim - 30 - 1].to_numpy()), axis=(0, 1))))\n",
    "\n",
    "        pred_y = torch.zeros_like(batch_y)\n",
    "\n",
    "        for i in range(batch_size):\n",
    "            pred_y[:, i, :, :] = torch.squeeze(odeint(func, batch_y0[[i], :, :], batch_t[i, :]), 1).to(device)\n",
    "\n",
    "        loss = getAbsoluteAvgBatchLoss(pred_y, batch_y)\n",
    "        loss.backward()\n",
    "        optimizer.step()\n",
    "\n",
    "\n",
    "        if itr % test_freq == 0:\n",
    "            with torch.no_grad():\n",
    "                func.set_params(torch.tensor(np.expand_dims(np.float32(cme_params_norm.loc[chosen_sim - 30 - 1].to_numpy()), axis=(0, 1))))\n",
    "                pred_y_full_series = odeint(func, \n",
    "                                            torch.unsqueeze(y0_train_torch, 0), \n",
    "                                            t_scaled_torch)\n",
    "\n",
    "                loss_full_series = getAbsoluteAvgBatchLoss(torch.squeeze(pred_y_full_series, 1),\n",
    "                                                           y_full_torch)\n",
    "                logger.info(\"Iter {:04d} | Total Loss {:.6f} | Sim {:03d} \".format(itr,\n",
    "                                                                loss_full_series.item(), \n",
    "                                                                chosen_sim))\n",
    "\n",
    "        end = time.time()"
   ]
  },
  {
   "cell_type": "code",
   "execution_count": null,
   "metadata": {},
   "outputs": [],
   "source": []
  },
  {
   "cell_type": "code",
   "execution_count": null,
   "metadata": {},
   "outputs": [],
   "source": []
  },
  {
   "cell_type": "code",
   "execution_count": null,
   "metadata": {},
   "outputs": [],
   "source": [
    "# chosen_sim = np.random.choice(sd_train)\n",
    "# y0_train_torch,y_train_torch,y_full_torch,t_train_torch,t_scaled_torch, sim_index = getDataForSim(ed_2161,\n",
    "#                                                                                                   augmented_r,\n",
    "#                                                                                                   sd_2161,\n",
    "#                                                                                                   chosen_sim)\n",
    "# batch_y0, batch_t, batch_y = get_batch(y_train_torch, t_train_torch)                                                                                                     "
   ]
  },
  {
   "cell_type": "code",
   "execution_count": null,
   "metadata": {},
   "outputs": [],
   "source": [
    "# def getParamsTorch(param_series, n_repeats):\n",
    "#     \"\"\"\n",
    "#     param_series is a row from dataframe in pd. Series shape which we convert to torch tensor of suitable dims\n",
    "#     \"\"\"\n",
    "#     return torch.from_numpy(np.float32(np.expand_dims(np.repeat(np.expand_dims(param_series.to_numpy(), axis=0), n_repeats, axis=0), axis=1)))"
   ]
  },
  {
   "cell_type": "code",
   "execution_count": null,
   "metadata": {},
   "outputs": [],
   "source": [
    "# getParamsTorch(cme_params_norm.loc[chosen_sim - 30 - 1], 10).shape"
   ]
  }
 ],
 "metadata": {
  "@webio": {
   "lastCommId": null,
   "lastKernelId": null
  },
  "kernelspec": {
   "display_name": "Python 3 (ipykernel)",
   "language": "python",
   "name": "python3"
  },
  "language_info": {
   "codemirror_mode": {
    "name": "ipython",
    "version": 3
   },
   "file_extension": ".py",
   "mimetype": "text/x-python",
   "name": "python",
   "nbconvert_exporter": "python",
   "pygments_lexer": "ipython3",
   "version": "3.8.13"
  }
 },
 "nbformat": 4,
 "nbformat_minor": 4
}
