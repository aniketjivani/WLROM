{
 "cells": [
  {
   "cell_type": "markdown",
   "metadata": {},
   "source": [
    "In this notebook, try to make global model work by augmenting trajectories with parameters values. Don't do encoder as it is an optional compression step which would be needed only if we were trying to work with high-dim data like images!\n",
    "\n",
    "we also try a corrected `get_batch` procedure - see `get_batch2()` from `/Users/ajivani/ode_demo_2_true_bt` which adapts example from `torchdiffeq` but makes sure that for each \"IC\" in our batch from a trajectory, the time vector is correctly indexed instead of just starting from zero like they did in the library's `get_batch()` routine which seems to be clearly wrong!"
   ]
  },
  {
   "cell_type": "code",
   "execution_count": 2,
   "metadata": {},
   "outputs": [],
   "source": [
    "import pandas as pd"
   ]
  },
  {
   "cell_type": "code",
   "execution_count": 3,
   "metadata": {},
   "outputs": [],
   "source": [
    "import torch\n",
    "import torch.nn as nn\n",
    "import torch.optim as optim"
   ]
  },
  {
   "cell_type": "code",
   "execution_count": 4,
   "metadata": {},
   "outputs": [],
   "source": [
    "# import sparselinear as sl"
   ]
  },
  {
   "cell_type": "code",
   "execution_count": 5,
   "metadata": {},
   "outputs": [],
   "source": [
    "adjoint=True"
   ]
  },
  {
   "cell_type": "code",
   "execution_count": 6,
   "metadata": {},
   "outputs": [],
   "source": [
    "if adjoint:\n",
    "    from torchdiffeq import odeint_adjoint as odeint\n",
    "else:\n",
    "    from torchdiffeq import odeint"
   ]
  },
  {
   "cell_type": "code",
   "execution_count": 7,
   "metadata": {},
   "outputs": [
    {
     "data": {
      "text/plain": [
       "device(type='cpu')"
      ]
     },
     "execution_count": 7,
     "metadata": {},
     "output_type": "execute_result"
    }
   ],
   "source": [
    "device = torch.device('cuda:0' if torch.cuda.is_available() else 'cpu')\n",
    "device"
   ]
  },
  {
   "cell_type": "code",
   "execution_count": 8,
   "metadata": {},
   "outputs": [],
   "source": [
    "runModel=True"
   ]
  },
  {
   "cell_type": "code",
   "execution_count": 9,
   "metadata": {},
   "outputs": [],
   "source": [
    "import numpy as np\n",
    "import scipy.linalg as la\n",
    "import scipy.sparse as sparse\n",
    "import matplotlib.pyplot as plt\n",
    "\n",
    "import opinf"
   ]
  },
  {
   "cell_type": "code",
   "execution_count": 10,
   "metadata": {},
   "outputs": [],
   "source": [
    "import re\n",
    "import os\n",
    "import time"
   ]
  },
  {
   "cell_type": "code",
   "execution_count": 11,
   "metadata": {},
   "outputs": [],
   "source": [
    "%matplotlib inline"
   ]
  },
  {
   "cell_type": "code",
   "execution_count": 12,
   "metadata": {},
   "outputs": [],
   "source": [
    "plt.rc(\"axes.spines\", right=True, top=True)\n",
    "plt.rc(\"figure\", dpi=300, \n",
    "       figsize=(9, 3)\n",
    "      )\n",
    "plt.rc(\"font\", family=\"serif\")\n",
    "plt.rc(\"legend\", edgecolor=\"none\", frameon=True)\n",
    "plt.style.use(\"dark_background\")"
   ]
  },
  {
   "cell_type": "code",
   "execution_count": 13,
   "metadata": {},
   "outputs": [],
   "source": [
    "import edge_utils as edut"
   ]
  },
  {
   "cell_type": "markdown",
   "metadata": {},
   "source": [
    "### Load Data, split into train and test"
   ]
  },
  {
   "cell_type": "code",
   "execution_count": 14,
   "metadata": {},
   "outputs": [],
   "source": [
    "# we are removing some data where the edge detection is not necessarily super reliable.\n",
    "sims_to_remove = np.array([33, 39, 63, 73, 113, 128, 131, 142, 193, 218, 253, 264, 273, 312, 313, 324])"
   ]
  },
  {
   "cell_type": "code",
   "execution_count": 15,
   "metadata": {},
   "outputs": [],
   "source": [
    "ed_2161, sd_2161 = edut.load_edge_data_blobfree(2161)"
   ]
  },
  {
   "cell_type": "code",
   "execution_count": 16,
   "metadata": {},
   "outputs": [
    {
     "name": "stdout",
     "output_type": "stream",
     "text": [
      "Range of angles for CR2161: -31.279843444227026 81.44031311154595\n"
     ]
    }
   ],
   "source": [
    "theta_s_2161, theta_e_2161 = np.linspace(0, 360, 512)[160] + 1.2 * 180 - 360, np.linspace(0, 360, 512)[320] + 1.2 * 180 - 360\n",
    "print(\"Range of angles for CR2161: {} {}\".format(theta_s_2161, theta_e_2161))"
   ]
  },
  {
   "cell_type": "code",
   "execution_count": 17,
   "metadata": {},
   "outputs": [
    {
     "data": {
      "text/plain": [
       "(90, 160, 278)"
      ]
     },
     "execution_count": 17,
     "metadata": {},
     "output_type": "execute_result"
    }
   ],
   "source": [
    "nTimes, nTheta_2161, nSims_2161 = ed_2161.shape\n",
    "nTimes, nTheta_2161, nSims_2161"
   ]
  },
  {
   "cell_type": "code",
   "execution_count": 18,
   "metadata": {},
   "outputs": [],
   "source": [
    "theta_grid = np.linspace(np.ceil(theta_s_2161), np.ceil(theta_e_2161), nTheta_2161)"
   ]
  },
  {
   "cell_type": "code",
   "execution_count": 19,
   "metadata": {},
   "outputs": [],
   "source": [
    "sd_modified = np.setdiff1d(sd_2161, sims_to_remove)"
   ]
  },
  {
   "cell_type": "code",
   "execution_count": 20,
   "metadata": {},
   "outputs": [
    {
     "data": {
      "text/plain": [
       "262"
      ]
     },
     "execution_count": 20,
     "metadata": {},
     "output_type": "execute_result"
    }
   ],
   "source": [
    "len(sd_modified)"
   ]
  },
  {
   "cell_type": "code",
   "execution_count": 21,
   "metadata": {},
   "outputs": [
    {
     "data": {
      "text/plain": [
       "(209, 53)"
      ]
     },
     "execution_count": 21,
     "metadata": {},
     "output_type": "execute_result"
    }
   ],
   "source": [
    "# extract training and test sets. for now just random.\n",
    "\n",
    "from numpy.random import Generator, PCG64\n",
    "rng = Generator(PCG64())\n",
    "\n",
    "nTrain = int(np.floor(0.8 * len(sd_modified)))\n",
    "nTest = len(sd_modified) - nTrain\n",
    "\n",
    "nTrain, nTest"
   ]
  },
  {
   "cell_type": "code",
   "execution_count": 22,
   "metadata": {},
   "outputs": [
    {
     "data": {
      "text/plain": [
       "array([ 34,  35,  40,  42,  43,  50,  52,  54,  59,  76,  78,  79,  89,\n",
       "        91,  99, 100, 101, 130, 135, 140, 141, 152, 155, 158, 161, 172,\n",
       "       184, 185, 188, 191, 200, 201, 203, 204, 212, 214, 221, 222, 230,\n",
       "       239, 241, 243, 257, 268, 274, 275, 278, 303, 315, 317, 321, 322,\n",
       "       329])"
      ]
     },
     "execution_count": 22,
     "metadata": {},
     "output_type": "execute_result"
    }
   ],
   "source": [
    "sd_train = np.sort(np.random.choice(sd_modified, nTrain, replace=False))\n",
    "sd_test = np.setdiff1d(sd_modified, sd_train)\n",
    "sd_test"
   ]
  },
  {
   "cell_type": "code",
   "execution_count": 23,
   "metadata": {},
   "outputs": [
    {
     "data": {
      "text/plain": [
       "(53,)"
      ]
     },
     "execution_count": 23,
     "metadata": {},
     "output_type": "execute_result"
    }
   ],
   "source": [
    "sd_test.shape"
   ]
  },
  {
   "cell_type": "code",
   "execution_count": 24,
   "metadata": {},
   "outputs": [],
   "source": [
    "def getRValuesAllSims(edge_data_matrix):\n",
    "    \"\"\"\n",
    "    Return r values for all sims at once so we don't lose time in training processing r values repeatedly\n",
    "    \"\"\"\n",
    "    r_data_matrix = np.zeros(edge_data_matrix.shape)\n",
    "    nsims = edge_data_matrix.shape[2]\n",
    "    for i in range(nsims):\n",
    "        r_vals, theta_vals = edut.getRValues(edge_data_matrix, simIdx=i, minStartIdx=0)\n",
    "        r_data_matrix[:, :, i] = r_vals\n",
    "\n",
    "    return r_data_matrix"
   ]
  },
  {
   "cell_type": "code",
   "execution_count": 25,
   "metadata": {},
   "outputs": [],
   "source": [
    "rd_2161 = getRValuesAllSims(ed_2161)"
   ]
  },
  {
   "cell_type": "markdown",
   "metadata": {},
   "source": [
    "### Set up for Parametrized and Regular Neural ODEs"
   ]
  },
  {
   "cell_type": "code",
   "execution_count": 26,
   "metadata": {},
   "outputs": [],
   "source": [
    "# get the param list for CR2161, get background values as well"
   ]
  },
  {
   "cell_type": "code",
   "execution_count": 27,
   "metadata": {},
   "outputs": [
    {
     "data": {
      "text/html": [
       "<div>\n",
       "<style scoped>\n",
       "    .dataframe tbody tr th:only-of-type {\n",
       "        vertical-align: middle;\n",
       "    }\n",
       "\n",
       "    .dataframe tbody tr th {\n",
       "        vertical-align: top;\n",
       "    }\n",
       "\n",
       "    .dataframe thead th {\n",
       "        text-align: right;\n",
       "    }\n",
       "</style>\n",
       "<table border=\"1\" class=\"dataframe\">\n",
       "  <thead>\n",
       "    <tr style=\"text-align: right;\">\n",
       "      <th></th>\n",
       "      <th>Radius</th>\n",
       "      <th>BStrength</th>\n",
       "      <th>ApexHeight</th>\n",
       "      <th>OrientationCme</th>\n",
       "      <th>iHelicity</th>\n",
       "      <th>restartdir</th>\n",
       "      <th>realization</th>\n",
       "    </tr>\n",
       "  </thead>\n",
       "  <tbody>\n",
       "    <tr>\n",
       "      <th>0</th>\n",
       "      <td>0.58375</td>\n",
       "      <td>22.526622</td>\n",
       "      <td>0.682075</td>\n",
       "      <td>204.725</td>\n",
       "      <td>1</td>\n",
       "      <td>4</td>\n",
       "      <td>4</td>\n",
       "    </tr>\n",
       "    <tr>\n",
       "      <th>1</th>\n",
       "      <td>0.52625</td>\n",
       "      <td>6.919483</td>\n",
       "      <td>0.519179</td>\n",
       "      <td>164.225</td>\n",
       "      <td>1</td>\n",
       "      <td>4</td>\n",
       "      <td>4</td>\n",
       "    </tr>\n",
       "    <tr>\n",
       "      <th>2</th>\n",
       "      <td>0.72625</td>\n",
       "      <td>5.087500</td>\n",
       "      <td>0.662022</td>\n",
       "      <td>233.975</td>\n",
       "      <td>1</td>\n",
       "      <td>4</td>\n",
       "      <td>4</td>\n",
       "    </tr>\n",
       "    <tr>\n",
       "      <th>3</th>\n",
       "      <td>0.36125</td>\n",
       "      <td>18.360770</td>\n",
       "      <td>0.420743</td>\n",
       "      <td>200.675</td>\n",
       "      <td>-1</td>\n",
       "      <td>4</td>\n",
       "      <td>4</td>\n",
       "    </tr>\n",
       "    <tr>\n",
       "      <th>4</th>\n",
       "      <td>0.69125</td>\n",
       "      <td>8.127120</td>\n",
       "      <td>0.735101</td>\n",
       "      <td>184.925</td>\n",
       "      <td>1</td>\n",
       "      <td>4</td>\n",
       "      <td>4</td>\n",
       "    </tr>\n",
       "  </tbody>\n",
       "</table>\n",
       "</div>"
      ],
      "text/plain": [
       "    Radius  BStrength  ApexHeight  OrientationCme  iHelicity  restartdir  \\\n",
       "0  0.58375  22.526622    0.682075         204.725          1           4   \n",
       "1  0.52625   6.919483    0.519179         164.225          1           4   \n",
       "2  0.72625   5.087500    0.662022         233.975          1           4   \n",
       "3  0.36125  18.360770    0.420743         200.675         -1           4   \n",
       "4  0.69125   8.127120    0.735101         184.925          1           4   \n",
       "\n",
       "   realization  \n",
       "0            4  \n",
       "1            4  \n",
       "2            4  \n",
       "3            4  \n",
       "4            4  "
      ]
     },
     "execution_count": 27,
     "metadata": {},
     "output_type": "execute_result"
    }
   ],
   "source": [
    "cme_params = pd.read_csv(\"./restarts_CR2161.csv\")\n",
    "cme_params.head()"
   ]
  },
  {
   "cell_type": "code",
   "execution_count": 28,
   "metadata": {},
   "outputs": [
    {
     "data": {
      "text/html": [
       "<div>\n",
       "<style scoped>\n",
       "    .dataframe tbody tr th:only-of-type {\n",
       "        vertical-align: middle;\n",
       "    }\n",
       "\n",
       "    .dataframe tbody tr th {\n",
       "        vertical-align: top;\n",
       "    }\n",
       "\n",
       "    .dataframe thead th {\n",
       "        text-align: right;\n",
       "    }\n",
       "</style>\n",
       "<table border=\"1\" class=\"dataframe\">\n",
       "  <thead>\n",
       "    <tr style=\"text-align: right;\">\n",
       "      <th></th>\n",
       "      <th>FactorB0</th>\n",
       "      <th>PoyntingFluxPerBSi</th>\n",
       "      <th>LperpTimesSqrtBSi</th>\n",
       "    </tr>\n",
       "  </thead>\n",
       "  <tbody>\n",
       "    <tr>\n",
       "      <th>0</th>\n",
       "      <td>0.5987</td>\n",
       "      <td>547686.9</td>\n",
       "      <td>259077.5</td>\n",
       "    </tr>\n",
       "    <tr>\n",
       "      <th>1</th>\n",
       "      <td>0.6876</td>\n",
       "      <td>514248.2</td>\n",
       "      <td>170240.5</td>\n",
       "    </tr>\n",
       "    <tr>\n",
       "      <th>2</th>\n",
       "      <td>0.7334</td>\n",
       "      <td>437169.7</td>\n",
       "      <td>242477.4</td>\n",
       "    </tr>\n",
       "    <tr>\n",
       "      <th>3</th>\n",
       "      <td>0.8010</td>\n",
       "      <td>378833.7</td>\n",
       "      <td>147856.5</td>\n",
       "    </tr>\n",
       "    <tr>\n",
       "      <th>4</th>\n",
       "      <td>0.9431</td>\n",
       "      <td>491082.5</td>\n",
       "      <td>205150.8</td>\n",
       "    </tr>\n",
       "    <tr>\n",
       "      <th>5</th>\n",
       "      <td>1.0077</td>\n",
       "      <td>349735.7</td>\n",
       "      <td>230084.9</td>\n",
       "    </tr>\n",
       "    <tr>\n",
       "      <th>6</th>\n",
       "      <td>1.0404</td>\n",
       "      <td>668772.0</td>\n",
       "      <td>278163.0</td>\n",
       "    </tr>\n",
       "    <tr>\n",
       "      <th>7</th>\n",
       "      <td>1.0921</td>\n",
       "      <td>463650.6</td>\n",
       "      <td>299730.0</td>\n",
       "    </tr>\n",
       "    <tr>\n",
       "      <th>8</th>\n",
       "      <td>1.2009</td>\n",
       "      <td>337215.4</td>\n",
       "      <td>113682.7</td>\n",
       "    </tr>\n",
       "    <tr>\n",
       "      <th>9</th>\n",
       "      <td>1.2292</td>\n",
       "      <td>583776.3</td>\n",
       "      <td>160912.2</td>\n",
       "    </tr>\n",
       "    <tr>\n",
       "      <th>10</th>\n",
       "      <td>1.2732</td>\n",
       "      <td>686411.6</td>\n",
       "      <td>218802.0</td>\n",
       "    </tr>\n",
       "    <tr>\n",
       "      <th>11</th>\n",
       "      <td>1.3016</td>\n",
       "      <td>304514.4</td>\n",
       "      <td>283042.3</td>\n",
       "    </tr>\n",
       "    <tr>\n",
       "      <th>12</th>\n",
       "      <td>1.3775</td>\n",
       "      <td>452152.7</td>\n",
       "      <td>183030.6</td>\n",
       "    </tr>\n",
       "    <tr>\n",
       "      <th>13</th>\n",
       "      <td>1.4126</td>\n",
       "      <td>558463.8</td>\n",
       "      <td>102592.2</td>\n",
       "    </tr>\n",
       "    <tr>\n",
       "      <th>14</th>\n",
       "      <td>1.4688</td>\n",
       "      <td>396734.6</td>\n",
       "      <td>269746.7</td>\n",
       "    </tr>\n",
       "    <tr>\n",
       "      <th>15</th>\n",
       "      <td>1.4971</td>\n",
       "      <td>643906.7</td>\n",
       "      <td>193591.4</td>\n",
       "    </tr>\n",
       "    <tr>\n",
       "      <th>16</th>\n",
       "      <td>1.5933</td>\n",
       "      <td>599681.3</td>\n",
       "      <td>244905.6</td>\n",
       "    </tr>\n",
       "    <tr>\n",
       "      <th>17</th>\n",
       "      <td>1.6432</td>\n",
       "      <td>529355.4</td>\n",
       "      <td>144129.8</td>\n",
       "    </tr>\n",
       "    <tr>\n",
       "      <th>18</th>\n",
       "      <td>1.7708</td>\n",
       "      <td>407373.3</td>\n",
       "      <td>125749.9</td>\n",
       "    </tr>\n",
       "    <tr>\n",
       "      <th>19</th>\n",
       "      <td>1.8440</td>\n",
       "      <td>300800.0</td>\n",
       "      <td>157053.0</td>\n",
       "    </tr>\n",
       "    <tr>\n",
       "      <th>20</th>\n",
       "      <td>1.9713</td>\n",
       "      <td>324613.3</td>\n",
       "      <td>252773.1</td>\n",
       "    </tr>\n",
       "    <tr>\n",
       "      <th>21</th>\n",
       "      <td>2.0772</td>\n",
       "      <td>569088.4</td>\n",
       "      <td>285066.6</td>\n",
       "    </tr>\n",
       "    <tr>\n",
       "      <th>22</th>\n",
       "      <td>2.1050</td>\n",
       "      <td>428347.8</td>\n",
       "      <td>211432.4</td>\n",
       "    </tr>\n",
       "    <tr>\n",
       "      <th>23</th>\n",
       "      <td>2.2160</td>\n",
       "      <td>389575.4</td>\n",
       "      <td>167036.4</td>\n",
       "    </tr>\n",
       "    <tr>\n",
       "      <th>24</th>\n",
       "      <td>2.3297</td>\n",
       "      <td>446966.4</td>\n",
       "      <td>276322.6</td>\n",
       "    </tr>\n",
       "    <tr>\n",
       "      <th>25</th>\n",
       "      <td>2.3942</td>\n",
       "      <td>318109.1</td>\n",
       "      <td>100533.1</td>\n",
       "    </tr>\n",
       "    <tr>\n",
       "      <th>26</th>\n",
       "      <td>2.4414</td>\n",
       "      <td>343756.8</td>\n",
       "      <td>295065.7</td>\n",
       "    </tr>\n",
       "    <tr>\n",
       "      <th>27</th>\n",
       "      <td>2.4626</td>\n",
       "      <td>475724.0</td>\n",
       "      <td>153556.3</td>\n",
       "    </tr>\n",
       "    <tr>\n",
       "      <th>28</th>\n",
       "      <td>2.5409</td>\n",
       "      <td>374987.3</td>\n",
       "      <td>239462.9</td>\n",
       "    </tr>\n",
       "    <tr>\n",
       "      <th>29</th>\n",
       "      <td>2.6751</td>\n",
       "      <td>331697.3</td>\n",
       "      <td>178374.1</td>\n",
       "    </tr>\n",
       "  </tbody>\n",
       "</table>\n",
       "</div>"
      ],
      "text/plain": [
       "    FactorB0  PoyntingFluxPerBSi  LperpTimesSqrtBSi\n",
       "0     0.5987            547686.9           259077.5\n",
       "1     0.6876            514248.2           170240.5\n",
       "2     0.7334            437169.7           242477.4\n",
       "3     0.8010            378833.7           147856.5\n",
       "4     0.9431            491082.5           205150.8\n",
       "5     1.0077            349735.7           230084.9\n",
       "6     1.0404            668772.0           278163.0\n",
       "7     1.0921            463650.6           299730.0\n",
       "8     1.2009            337215.4           113682.7\n",
       "9     1.2292            583776.3           160912.2\n",
       "10    1.2732            686411.6           218802.0\n",
       "11    1.3016            304514.4           283042.3\n",
       "12    1.3775            452152.7           183030.6\n",
       "13    1.4126            558463.8           102592.2\n",
       "14    1.4688            396734.6           269746.7\n",
       "15    1.4971            643906.7           193591.4\n",
       "16    1.5933            599681.3           244905.6\n",
       "17    1.6432            529355.4           144129.8\n",
       "18    1.7708            407373.3           125749.9\n",
       "19    1.8440            300800.0           157053.0\n",
       "20    1.9713            324613.3           252773.1\n",
       "21    2.0772            569088.4           285066.6\n",
       "22    2.1050            428347.8           211432.4\n",
       "23    2.2160            389575.4           167036.4\n",
       "24    2.3297            446966.4           276322.6\n",
       "25    2.3942            318109.1           100533.1\n",
       "26    2.4414            343756.8           295065.7\n",
       "27    2.4626            475724.0           153556.3\n",
       "28    2.5409            374987.3           239462.9\n",
       "29    2.6751            331697.3           178374.1"
      ]
     },
     "execution_count": 28,
     "metadata": {},
     "output_type": "execute_result"
    }
   ],
   "source": [
    "bg_params = pd.read_csv(\"./backgrounds_CR2161.csv\")\n",
    "bg_params"
   ]
  },
  {
   "cell_type": "code",
   "execution_count": 29,
   "metadata": {},
   "outputs": [
    {
     "data": {
      "text/plain": [
       "array([ 4, 12])"
      ]
     },
     "execution_count": 29,
     "metadata": {},
     "output_type": "execute_result"
    }
   ],
   "source": [
    "unique_bg = cme_params.restartdir.unique()\n",
    "unique_bg"
   ]
  },
  {
   "cell_type": "code",
   "execution_count": 30,
   "metadata": {},
   "outputs": [
    {
     "data": {
      "text/plain": [
       "0.801"
      ]
     },
     "execution_count": 30,
     "metadata": {},
     "output_type": "execute_result"
    }
   ],
   "source": [
    "bg_params.FactorB0[3]"
   ]
  },
  {
   "cell_type": "code",
   "execution_count": 31,
   "metadata": {},
   "outputs": [
    {
     "data": {
      "text/plain": [
       "(30, 3)"
      ]
     },
     "execution_count": 31,
     "metadata": {},
     "output_type": "execute_result"
    }
   ],
   "source": [
    "bg_params.shape"
   ]
  },
  {
   "cell_type": "code",
   "execution_count": 32,
   "metadata": {},
   "outputs": [],
   "source": [
    "# identify which rows correspond to a particular background\n",
    "cme_param_bg_idx = []\n",
    "for bg in unique_bg:\n",
    "    cme_param_bg_idx.append(np.array((cme_params.restartdir == bg).to_list()))\n",
    "\n",
    "# now append columns to cme_params dataframe to merge"
   ]
  },
  {
   "cell_type": "code",
   "execution_count": 33,
   "metadata": {},
   "outputs": [
    {
     "data": {
      "text/html": [
       "<div>\n",
       "<style scoped>\n",
       "    .dataframe tbody tr th:only-of-type {\n",
       "        vertical-align: middle;\n",
       "    }\n",
       "\n",
       "    .dataframe tbody tr th {\n",
       "        vertical-align: top;\n",
       "    }\n",
       "\n",
       "    .dataframe thead th {\n",
       "        text-align: right;\n",
       "    }\n",
       "</style>\n",
       "<table border=\"1\" class=\"dataframe\">\n",
       "  <thead>\n",
       "    <tr style=\"text-align: right;\">\n",
       "      <th></th>\n",
       "      <th>Radius</th>\n",
       "      <th>BStrength</th>\n",
       "      <th>ApexHeight</th>\n",
       "      <th>OrientationCme</th>\n",
       "      <th>iHelicity</th>\n",
       "      <th>restartdir</th>\n",
       "      <th>realization</th>\n",
       "    </tr>\n",
       "  </thead>\n",
       "  <tbody>\n",
       "    <tr>\n",
       "      <th>0</th>\n",
       "      <td>0.58375</td>\n",
       "      <td>22.526622</td>\n",
       "      <td>0.682075</td>\n",
       "      <td>204.725</td>\n",
       "      <td>1</td>\n",
       "      <td>4</td>\n",
       "      <td>4</td>\n",
       "    </tr>\n",
       "    <tr>\n",
       "      <th>1</th>\n",
       "      <td>0.52625</td>\n",
       "      <td>6.919483</td>\n",
       "      <td>0.519179</td>\n",
       "      <td>164.225</td>\n",
       "      <td>1</td>\n",
       "      <td>4</td>\n",
       "      <td>4</td>\n",
       "    </tr>\n",
       "    <tr>\n",
       "      <th>2</th>\n",
       "      <td>0.72625</td>\n",
       "      <td>5.087500</td>\n",
       "      <td>0.662022</td>\n",
       "      <td>233.975</td>\n",
       "      <td>1</td>\n",
       "      <td>4</td>\n",
       "      <td>4</td>\n",
       "    </tr>\n",
       "    <tr>\n",
       "      <th>3</th>\n",
       "      <td>0.36125</td>\n",
       "      <td>18.360770</td>\n",
       "      <td>0.420743</td>\n",
       "      <td>200.675</td>\n",
       "      <td>-1</td>\n",
       "      <td>4</td>\n",
       "      <td>4</td>\n",
       "    </tr>\n",
       "    <tr>\n",
       "      <th>4</th>\n",
       "      <td>0.69125</td>\n",
       "      <td>8.127120</td>\n",
       "      <td>0.735101</td>\n",
       "      <td>184.925</td>\n",
       "      <td>1</td>\n",
       "      <td>4</td>\n",
       "      <td>4</td>\n",
       "    </tr>\n",
       "    <tr>\n",
       "      <th>...</th>\n",
       "      <td>...</td>\n",
       "      <td>...</td>\n",
       "      <td>...</td>\n",
       "      <td>...</td>\n",
       "      <td>...</td>\n",
       "      <td>...</td>\n",
       "      <td>...</td>\n",
       "    </tr>\n",
       "    <tr>\n",
       "      <th>295</th>\n",
       "      <td>0.36250</td>\n",
       "      <td>32.665259</td>\n",
       "      <td>0.436133</td>\n",
       "      <td>197.750</td>\n",
       "      <td>-1</td>\n",
       "      <td>12</td>\n",
       "      <td>5</td>\n",
       "    </tr>\n",
       "    <tr>\n",
       "      <th>296</th>\n",
       "      <td>0.46250</td>\n",
       "      <td>26.757500</td>\n",
       "      <td>0.443711</td>\n",
       "      <td>224.750</td>\n",
       "      <td>1</td>\n",
       "      <td>12</td>\n",
       "      <td>5</td>\n",
       "    </tr>\n",
       "    <tr>\n",
       "      <th>297</th>\n",
       "      <td>0.76250</td>\n",
       "      <td>16.930533</td>\n",
       "      <td>0.874492</td>\n",
       "      <td>215.750</td>\n",
       "      <td>-1</td>\n",
       "      <td>12</td>\n",
       "      <td>5</td>\n",
       "    </tr>\n",
       "    <tr>\n",
       "      <th>298</th>\n",
       "      <td>0.61250</td>\n",
       "      <td>21.948929</td>\n",
       "      <td>0.553164</td>\n",
       "      <td>188.750</td>\n",
       "      <td>1</td>\n",
       "      <td>12</td>\n",
       "      <td>5</td>\n",
       "    </tr>\n",
       "    <tr>\n",
       "      <th>299</th>\n",
       "      <td>0.43750</td>\n",
       "      <td>31.949500</td>\n",
       "      <td>0.468945</td>\n",
       "      <td>166.250</td>\n",
       "      <td>-1</td>\n",
       "      <td>12</td>\n",
       "      <td>5</td>\n",
       "    </tr>\n",
       "  </tbody>\n",
       "</table>\n",
       "<p>300 rows × 7 columns</p>\n",
       "</div>"
      ],
      "text/plain": [
       "      Radius  BStrength  ApexHeight  OrientationCme  iHelicity  restartdir  \\\n",
       "0    0.58375  22.526622    0.682075         204.725          1           4   \n",
       "1    0.52625   6.919483    0.519179         164.225          1           4   \n",
       "2    0.72625   5.087500    0.662022         233.975          1           4   \n",
       "3    0.36125  18.360770    0.420743         200.675         -1           4   \n",
       "4    0.69125   8.127120    0.735101         184.925          1           4   \n",
       "..       ...        ...         ...             ...        ...         ...   \n",
       "295  0.36250  32.665259    0.436133         197.750         -1          12   \n",
       "296  0.46250  26.757500    0.443711         224.750          1          12   \n",
       "297  0.76250  16.930533    0.874492         215.750         -1          12   \n",
       "298  0.61250  21.948929    0.553164         188.750          1          12   \n",
       "299  0.43750  31.949500    0.468945         166.250         -1          12   \n",
       "\n",
       "     realization  \n",
       "0              4  \n",
       "1              4  \n",
       "2              4  \n",
       "3              4  \n",
       "4              4  \n",
       "..           ...  \n",
       "295            5  \n",
       "296            5  \n",
       "297            5  \n",
       "298            5  \n",
       "299            5  \n",
       "\n",
       "[300 rows x 7 columns]"
      ]
     },
     "execution_count": 33,
     "metadata": {},
     "output_type": "execute_result"
    }
   ],
   "source": [
    "cme_params"
   ]
  },
  {
   "cell_type": "code",
   "execution_count": 34,
   "metadata": {},
   "outputs": [
    {
     "data": {
      "text/html": [
       "<div>\n",
       "<style scoped>\n",
       "    .dataframe tbody tr th:only-of-type {\n",
       "        vertical-align: middle;\n",
       "    }\n",
       "\n",
       "    .dataframe tbody tr th {\n",
       "        vertical-align: top;\n",
       "    }\n",
       "\n",
       "    .dataframe thead th {\n",
       "        text-align: right;\n",
       "    }\n",
       "</style>\n",
       "<table border=\"1\" class=\"dataframe\">\n",
       "  <thead>\n",
       "    <tr style=\"text-align: right;\">\n",
       "      <th></th>\n",
       "      <th>Radius</th>\n",
       "      <th>BStrength</th>\n",
       "      <th>ApexHeight</th>\n",
       "      <th>OrientationCme</th>\n",
       "      <th>iHelicity</th>\n",
       "      <th>realization</th>\n",
       "      <th>FactorB0</th>\n",
       "      <th>PoyntingFluxPerBSi</th>\n",
       "      <th>LperpTimesSqrtBSi</th>\n",
       "    </tr>\n",
       "  </thead>\n",
       "  <tbody>\n",
       "    <tr>\n",
       "      <th>0</th>\n",
       "      <td>0.58375</td>\n",
       "      <td>22.526622</td>\n",
       "      <td>0.682075</td>\n",
       "      <td>204.725</td>\n",
       "      <td>1</td>\n",
       "      <td>4</td>\n",
       "      <td>0.8010</td>\n",
       "      <td>378833.7</td>\n",
       "      <td>147856.5</td>\n",
       "    </tr>\n",
       "    <tr>\n",
       "      <th>1</th>\n",
       "      <td>0.52625</td>\n",
       "      <td>6.919483</td>\n",
       "      <td>0.519179</td>\n",
       "      <td>164.225</td>\n",
       "      <td>1</td>\n",
       "      <td>4</td>\n",
       "      <td>0.8010</td>\n",
       "      <td>378833.7</td>\n",
       "      <td>147856.5</td>\n",
       "    </tr>\n",
       "    <tr>\n",
       "      <th>2</th>\n",
       "      <td>0.72625</td>\n",
       "      <td>5.087500</td>\n",
       "      <td>0.662022</td>\n",
       "      <td>233.975</td>\n",
       "      <td>1</td>\n",
       "      <td>4</td>\n",
       "      <td>0.8010</td>\n",
       "      <td>378833.7</td>\n",
       "      <td>147856.5</td>\n",
       "    </tr>\n",
       "    <tr>\n",
       "      <th>3</th>\n",
       "      <td>0.36125</td>\n",
       "      <td>18.360770</td>\n",
       "      <td>0.420743</td>\n",
       "      <td>200.675</td>\n",
       "      <td>-1</td>\n",
       "      <td>4</td>\n",
       "      <td>0.8010</td>\n",
       "      <td>378833.7</td>\n",
       "      <td>147856.5</td>\n",
       "    </tr>\n",
       "    <tr>\n",
       "      <th>4</th>\n",
       "      <td>0.69125</td>\n",
       "      <td>8.127120</td>\n",
       "      <td>0.735101</td>\n",
       "      <td>184.925</td>\n",
       "      <td>1</td>\n",
       "      <td>4</td>\n",
       "      <td>0.8010</td>\n",
       "      <td>378833.7</td>\n",
       "      <td>147856.5</td>\n",
       "    </tr>\n",
       "    <tr>\n",
       "      <th>...</th>\n",
       "      <td>...</td>\n",
       "      <td>...</td>\n",
       "      <td>...</td>\n",
       "      <td>...</td>\n",
       "      <td>...</td>\n",
       "      <td>...</td>\n",
       "      <td>...</td>\n",
       "      <td>...</td>\n",
       "      <td>...</td>\n",
       "    </tr>\n",
       "    <tr>\n",
       "      <th>294</th>\n",
       "      <td>0.73750</td>\n",
       "      <td>15.331483</td>\n",
       "      <td>0.721367</td>\n",
       "      <td>170.750</td>\n",
       "      <td>-1</td>\n",
       "      <td>5</td>\n",
       "      <td>1.3016</td>\n",
       "      <td>304514.4</td>\n",
       "      <td>283042.3</td>\n",
       "    </tr>\n",
       "    <tr>\n",
       "      <th>295</th>\n",
       "      <td>0.36250</td>\n",
       "      <td>32.665259</td>\n",
       "      <td>0.436133</td>\n",
       "      <td>197.750</td>\n",
       "      <td>-1</td>\n",
       "      <td>5</td>\n",
       "      <td>1.3016</td>\n",
       "      <td>304514.4</td>\n",
       "      <td>283042.3</td>\n",
       "    </tr>\n",
       "    <tr>\n",
       "      <th>296</th>\n",
       "      <td>0.46250</td>\n",
       "      <td>26.757500</td>\n",
       "      <td>0.443711</td>\n",
       "      <td>224.750</td>\n",
       "      <td>1</td>\n",
       "      <td>5</td>\n",
       "      <td>1.3016</td>\n",
       "      <td>304514.4</td>\n",
       "      <td>283042.3</td>\n",
       "    </tr>\n",
       "    <tr>\n",
       "      <th>297</th>\n",
       "      <td>0.76250</td>\n",
       "      <td>16.930533</td>\n",
       "      <td>0.874492</td>\n",
       "      <td>215.750</td>\n",
       "      <td>-1</td>\n",
       "      <td>5</td>\n",
       "      <td>1.3016</td>\n",
       "      <td>304514.4</td>\n",
       "      <td>283042.3</td>\n",
       "    </tr>\n",
       "    <tr>\n",
       "      <th>298</th>\n",
       "      <td>0.61250</td>\n",
       "      <td>21.948929</td>\n",
       "      <td>0.553164</td>\n",
       "      <td>188.750</td>\n",
       "      <td>1</td>\n",
       "      <td>5</td>\n",
       "      <td>1.3016</td>\n",
       "      <td>304514.4</td>\n",
       "      <td>283042.3</td>\n",
       "    </tr>\n",
       "  </tbody>\n",
       "</table>\n",
       "<p>278 rows × 9 columns</p>\n",
       "</div>"
      ],
      "text/plain": [
       "      Radius  BStrength  ApexHeight  OrientationCme  iHelicity  realization  \\\n",
       "0    0.58375  22.526622    0.682075         204.725          1            4   \n",
       "1    0.52625   6.919483    0.519179         164.225          1            4   \n",
       "2    0.72625   5.087500    0.662022         233.975          1            4   \n",
       "3    0.36125  18.360770    0.420743         200.675         -1            4   \n",
       "4    0.69125   8.127120    0.735101         184.925          1            4   \n",
       "..       ...        ...         ...             ...        ...          ...   \n",
       "294  0.73750  15.331483    0.721367         170.750         -1            5   \n",
       "295  0.36250  32.665259    0.436133         197.750         -1            5   \n",
       "296  0.46250  26.757500    0.443711         224.750          1            5   \n",
       "297  0.76250  16.930533    0.874492         215.750         -1            5   \n",
       "298  0.61250  21.948929    0.553164         188.750          1            5   \n",
       "\n",
       "     FactorB0  PoyntingFluxPerBSi  LperpTimesSqrtBSi  \n",
       "0      0.8010            378833.7           147856.5  \n",
       "1      0.8010            378833.7           147856.5  \n",
       "2      0.8010            378833.7           147856.5  \n",
       "3      0.8010            378833.7           147856.5  \n",
       "4      0.8010            378833.7           147856.5  \n",
       "..        ...                 ...                ...  \n",
       "294    1.3016            304514.4           283042.3  \n",
       "295    1.3016            304514.4           283042.3  \n",
       "296    1.3016            304514.4           283042.3  \n",
       "297    1.3016            304514.4           283042.3  \n",
       "298    1.3016            304514.4           283042.3  \n",
       "\n",
       "[278 rows x 9 columns]"
      ]
     },
     "execution_count": 34,
     "metadata": {},
     "output_type": "execute_result"
    }
   ],
   "source": [
    "bg_params_to_insert = np.zeros((cme_params.shape[0], bg_params.shape[1]))\n",
    "for bg_idx, bg in enumerate(unique_bg):\n",
    "    bg_params_to_insert[cme_param_bg_idx[bg_idx], 0] = bg_params.FactorB0[bg - 1]\n",
    "    bg_params_to_insert[cme_param_bg_idx[bg_idx], 1] = bg_params.PoyntingFluxPerBSi[bg - 1]\n",
    "    bg_params_to_insert[cme_param_bg_idx[bg_idx], 2] = bg_params.LperpTimesSqrtBSi[bg - 1]\n",
    "\n",
    "cme_params[\"FactorB0\"] = pd.Series(bg_params_to_insert[:, 0])\n",
    "cme_params[\"PoyntingFluxPerBSi\"] = pd.Series(bg_params_to_insert[:, 1])\n",
    "cme_params[\"LperpTimesSqrtBSi\"] = pd.Series(bg_params_to_insert[:, 2])\n",
    "cme_params[\"SimID\"] = pd.Series(np.linspace(31, 330, 300))\n",
    "sim_idx_successful = sd_2161 - 30 - 1\n",
    "sim_idx_to_drop = np.setdiff1d(np.linspace(0, 299, 300), sim_idx_successful).astype(int).tolist()\n",
    "\n",
    "sim_idx_to_drop\n",
    "cme_params.drop([\"restartdir\"], axis=1, inplace=True)\n",
    "cme_params.drop(sim_idx_to_drop, inplace=True)\n",
    "cme_params.drop([\"SimID\"], axis=1, inplace=True)\n",
    "cme_params"
   ]
  },
  {
   "cell_type": "code",
   "execution_count": 35,
   "metadata": {},
   "outputs": [
    {
     "data": {
      "text/plain": [
       "(0.280873828, 0.928935547)"
      ]
     },
     "execution_count": 35,
     "metadata": {},
     "output_type": "execute_result"
    }
   ],
   "source": [
    "cme_params.ApexHeight.min(), cme_params.ApexHeight.max()"
   ]
  },
  {
   "cell_type": "code",
   "execution_count": 36,
   "metadata": {},
   "outputs": [
    {
     "data": {
      "text/plain": [
       "(0.2625, 1.0)"
      ]
     },
     "execution_count": 36,
     "metadata": {},
     "output_type": "execute_result"
    }
   ],
   "source": [
    "0.875 * 0.3, 1.25 * 0.8"
   ]
  },
  {
   "cell_type": "code",
   "execution_count": 37,
   "metadata": {},
   "outputs": [
    {
     "data": {
      "text/plain": [
       "(5.0875, 42.76293137)"
      ]
     },
     "execution_count": 37,
     "metadata": {},
     "output_type": "execute_result"
    }
   ],
   "source": [
    "cme_params.BStrength.min(), cme_params.BStrength.max()"
   ]
  },
  {
   "cell_type": "code",
   "execution_count": 38,
   "metadata": {},
   "outputs": [
    {
     "data": {
      "text/plain": [
       "(4.4515625, 47.483333333333334)"
      ]
     },
     "execution_count": 38,
     "metadata": {},
     "output_type": "execute_result"
    }
   ],
   "source": [
    "(0.5 / 0.8) * 19.25 * 0.37, (2.0 / 0.3) * 19.25 * 0.37"
   ]
  },
  {
   "cell_type": "code",
   "execution_count": 39,
   "metadata": {},
   "outputs": [
    {
     "data": {
      "text/plain": [
       "(155.225, 244.775)"
      ]
     },
     "execution_count": 39,
     "metadata": {},
     "output_type": "execute_result"
    }
   ],
   "source": [
    "cme_params.OrientationCme.min(), cme_params.OrientationCme.max()"
   ]
  },
  {
   "cell_type": "code",
   "execution_count": 40,
   "metadata": {},
   "outputs": [
    {
     "data": {
      "text/plain": [
       "(155, 245)"
      ]
     },
     "execution_count": 40,
     "metadata": {},
     "output_type": "execute_result"
    }
   ],
   "source": [
    "200 - 45, 200 + 45"
   ]
  },
  {
   "cell_type": "code",
   "execution_count": 41,
   "metadata": {},
   "outputs": [
    {
     "data": {
      "text/plain": [
       "pandas.core.series.Series"
      ]
     },
     "execution_count": 41,
     "metadata": {},
     "output_type": "execute_result"
    }
   ],
   "source": [
    "type(cme_params.min())\n",
    "# cme_params.max()"
   ]
  },
  {
   "cell_type": "code",
   "execution_count": 42,
   "metadata": {},
   "outputs": [
    {
     "data": {
      "text/plain": [
       "Radius                     0.3000\n",
       "BStrength                  4.4516\n",
       "ApexHeight                 0.2625\n",
       "OrientationCme           155.0000\n",
       "iHelicity                 -1.0000\n",
       "realization                1.0000\n",
       "FactorB0                   0.5400\n",
       "PoyntingFluxPerBSi    300000.0000\n",
       "LperpTimesSqrtBSi      30000.0000\n",
       "dtype: float64"
      ]
     },
     "execution_count": 42,
     "metadata": {},
     "output_type": "execute_result"
    }
   ],
   "source": [
    "cme_p_min = cme_params.min()\n",
    "cme_p_min.BStrength = 4.4516\n",
    "cme_p_min.Radius = 0.3\n",
    "cme_p_min.OrientationCme = 155\n",
    "cme_p_min.iHelicity = -1\n",
    "cme_p_min.ApexHeight = 0.2625\n",
    "cme_p_min.realization = 1\n",
    "cme_p_min.FactorB0 = 0.54\n",
    "cme_p_min.PoyntingFluxPerBSi = 0.3e6\n",
    "cme_p_min.LperpTimesSqrtBSi = 0.3e5\n",
    "\n",
    "cme_p_min"
   ]
  },
  {
   "cell_type": "code",
   "execution_count": 43,
   "metadata": {},
   "outputs": [
    {
     "data": {
      "text/plain": [
       "Radius                8.000000e-01\n",
       "BStrength             4.748330e+01\n",
       "ApexHeight            1.000000e+00\n",
       "OrientationCme        2.450000e+02\n",
       "iHelicity             1.000000e+00\n",
       "realization           1.200000e+01\n",
       "FactorB0              2.700000e+00\n",
       "PoyntingFluxPerBSi    1.100000e+06\n",
       "LperpTimesSqrtBSi     3.000000e+05\n",
       "dtype: float64"
      ]
     },
     "execution_count": 43,
     "metadata": {},
     "output_type": "execute_result"
    }
   ],
   "source": [
    "cme_p_max = cme_params.max()\n",
    "cme_p_max.BStrength = 47.4833\n",
    "cme_p_max.Radius = 0.8\n",
    "cme_p_max.OrientationCme = 245\n",
    "cme_p_max.iHelicity = 1\n",
    "cme_p_max.ApexHeight = 1\n",
    "cme_p_max.realization = 12\n",
    "cme_p_max.FactorB0 = 2.7\n",
    "cme_p_max.PoyntingFluxPerBSi = 1.1e6\n",
    "cme_p_max.LperpTimesSqrtBSi = 3e5\n",
    "\n",
    "cme_p_max"
   ]
  },
  {
   "cell_type": "code",
   "execution_count": 44,
   "metadata": {},
   "outputs": [],
   "source": [
    "# define min and max series in terms of actual ranges of parameters?\n",
    "# cme_min = pd.Series([0.3, 0.54, 0.3e6, 0.3e5, ])"
   ]
  },
  {
   "cell_type": "code",
   "execution_count": 45,
   "metadata": {},
   "outputs": [
    {
     "data": {
      "text/html": [
       "<div>\n",
       "<style scoped>\n",
       "    .dataframe tbody tr th:only-of-type {\n",
       "        vertical-align: middle;\n",
       "    }\n",
       "\n",
       "    .dataframe tbody tr th {\n",
       "        vertical-align: top;\n",
       "    }\n",
       "\n",
       "    .dataframe thead th {\n",
       "        text-align: right;\n",
       "    }\n",
       "</style>\n",
       "<table border=\"1\" class=\"dataframe\">\n",
       "  <thead>\n",
       "    <tr style=\"text-align: right;\">\n",
       "      <th></th>\n",
       "      <th>Radius</th>\n",
       "      <th>BStrength</th>\n",
       "      <th>ApexHeight</th>\n",
       "      <th>OrientationCme</th>\n",
       "      <th>iHelicity</th>\n",
       "      <th>realization</th>\n",
       "      <th>FactorB0</th>\n",
       "      <th>PoyntingFluxPerBSi</th>\n",
       "      <th>LperpTimesSqrtBSi</th>\n",
       "    </tr>\n",
       "  </thead>\n",
       "  <tbody>\n",
       "    <tr>\n",
       "      <th>0</th>\n",
       "      <td>0.5675</td>\n",
       "      <td>0.420040</td>\n",
       "      <td>0.568916</td>\n",
       "      <td>0.5525</td>\n",
       "      <td>1.0</td>\n",
       "      <td>0.272727</td>\n",
       "      <td>0.120833</td>\n",
       "      <td>0.098542</td>\n",
       "      <td>0.436506</td>\n",
       "    </tr>\n",
       "    <tr>\n",
       "      <th>1</th>\n",
       "      <td>0.4525</td>\n",
       "      <td>0.057350</td>\n",
       "      <td>0.348039</td>\n",
       "      <td>0.1025</td>\n",
       "      <td>1.0</td>\n",
       "      <td>0.272727</td>\n",
       "      <td>0.120833</td>\n",
       "      <td>0.098542</td>\n",
       "      <td>0.436506</td>\n",
       "    </tr>\n",
       "    <tr>\n",
       "      <th>2</th>\n",
       "      <td>0.8525</td>\n",
       "      <td>0.014777</td>\n",
       "      <td>0.541725</td>\n",
       "      <td>0.8775</td>\n",
       "      <td>1.0</td>\n",
       "      <td>0.272727</td>\n",
       "      <td>0.120833</td>\n",
       "      <td>0.098542</td>\n",
       "      <td>0.436506</td>\n",
       "    </tr>\n",
       "    <tr>\n",
       "      <th>3</th>\n",
       "      <td>0.1225</td>\n",
       "      <td>0.323231</td>\n",
       "      <td>0.214567</td>\n",
       "      <td>0.5075</td>\n",
       "      <td>0.0</td>\n",
       "      <td>0.272727</td>\n",
       "      <td>0.120833</td>\n",
       "      <td>0.098542</td>\n",
       "      <td>0.436506</td>\n",
       "    </tr>\n",
       "    <tr>\n",
       "      <th>4</th>\n",
       "      <td>0.7825</td>\n",
       "      <td>0.085414</td>\n",
       "      <td>0.640815</td>\n",
       "      <td>0.3325</td>\n",
       "      <td>1.0</td>\n",
       "      <td>0.272727</td>\n",
       "      <td>0.120833</td>\n",
       "      <td>0.098542</td>\n",
       "      <td>0.436506</td>\n",
       "    </tr>\n",
       "    <tr>\n",
       "      <th>...</th>\n",
       "      <td>...</td>\n",
       "      <td>...</td>\n",
       "      <td>...</td>\n",
       "      <td>...</td>\n",
       "      <td>...</td>\n",
       "      <td>...</td>\n",
       "      <td>...</td>\n",
       "      <td>...</td>\n",
       "      <td>...</td>\n",
       "    </tr>\n",
       "    <tr>\n",
       "      <th>294</th>\n",
       "      <td>0.8750</td>\n",
       "      <td>0.252834</td>\n",
       "      <td>0.622193</td>\n",
       "      <td>0.1750</td>\n",
       "      <td>0.0</td>\n",
       "      <td>0.363636</td>\n",
       "      <td>0.352593</td>\n",
       "      <td>0.005643</td>\n",
       "      <td>0.937194</td>\n",
       "    </tr>\n",
       "    <tr>\n",
       "      <th>295</th>\n",
       "      <td>0.1250</td>\n",
       "      <td>0.655648</td>\n",
       "      <td>0.235434</td>\n",
       "      <td>0.4750</td>\n",
       "      <td>0.0</td>\n",
       "      <td>0.363636</td>\n",
       "      <td>0.352593</td>\n",
       "      <td>0.005643</td>\n",
       "      <td>0.937194</td>\n",
       "    </tr>\n",
       "    <tr>\n",
       "      <th>296</th>\n",
       "      <td>0.3250</td>\n",
       "      <td>0.518360</td>\n",
       "      <td>0.245710</td>\n",
       "      <td>0.7750</td>\n",
       "      <td>1.0</td>\n",
       "      <td>0.363636</td>\n",
       "      <td>0.352593</td>\n",
       "      <td>0.005643</td>\n",
       "      <td>0.937194</td>\n",
       "    </tr>\n",
       "    <tr>\n",
       "      <th>297</th>\n",
       "      <td>0.9250</td>\n",
       "      <td>0.289994</td>\n",
       "      <td>0.829820</td>\n",
       "      <td>0.6750</td>\n",
       "      <td>0.0</td>\n",
       "      <td>0.363636</td>\n",
       "      <td>0.352593</td>\n",
       "      <td>0.005643</td>\n",
       "      <td>0.937194</td>\n",
       "    </tr>\n",
       "    <tr>\n",
       "      <th>298</th>\n",
       "      <td>0.6250</td>\n",
       "      <td>0.406615</td>\n",
       "      <td>0.394121</td>\n",
       "      <td>0.3750</td>\n",
       "      <td>1.0</td>\n",
       "      <td>0.363636</td>\n",
       "      <td>0.352593</td>\n",
       "      <td>0.005643</td>\n",
       "      <td>0.937194</td>\n",
       "    </tr>\n",
       "  </tbody>\n",
       "</table>\n",
       "<p>278 rows × 9 columns</p>\n",
       "</div>"
      ],
      "text/plain": [
       "     Radius  BStrength  ApexHeight  OrientationCme  iHelicity  realization  \\\n",
       "0    0.5675   0.420040    0.568916          0.5525        1.0     0.272727   \n",
       "1    0.4525   0.057350    0.348039          0.1025        1.0     0.272727   \n",
       "2    0.8525   0.014777    0.541725          0.8775        1.0     0.272727   \n",
       "3    0.1225   0.323231    0.214567          0.5075        0.0     0.272727   \n",
       "4    0.7825   0.085414    0.640815          0.3325        1.0     0.272727   \n",
       "..      ...        ...         ...             ...        ...          ...   \n",
       "294  0.8750   0.252834    0.622193          0.1750        0.0     0.363636   \n",
       "295  0.1250   0.655648    0.235434          0.4750        0.0     0.363636   \n",
       "296  0.3250   0.518360    0.245710          0.7750        1.0     0.363636   \n",
       "297  0.9250   0.289994    0.829820          0.6750        0.0     0.363636   \n",
       "298  0.6250   0.406615    0.394121          0.3750        1.0     0.363636   \n",
       "\n",
       "     FactorB0  PoyntingFluxPerBSi  LperpTimesSqrtBSi  \n",
       "0    0.120833            0.098542           0.436506  \n",
       "1    0.120833            0.098542           0.436506  \n",
       "2    0.120833            0.098542           0.436506  \n",
       "3    0.120833            0.098542           0.436506  \n",
       "4    0.120833            0.098542           0.436506  \n",
       "..        ...                 ...                ...  \n",
       "294  0.352593            0.005643           0.937194  \n",
       "295  0.352593            0.005643           0.937194  \n",
       "296  0.352593            0.005643           0.937194  \n",
       "297  0.352593            0.005643           0.937194  \n",
       "298  0.352593            0.005643           0.937194  \n",
       "\n",
       "[278 rows x 9 columns]"
      ]
     },
     "execution_count": 45,
     "metadata": {},
     "output_type": "execute_result"
    }
   ],
   "source": [
    "# now rescale each column of `cme_params` to lie between 0 and 1.\n",
    "\n",
    "# cme_params_norm = (cme_params - cme_params.min()) / (cme_params.max() - cme_params.min())\n",
    "cme_params_norm = (cme_params - cme_p_min) / (cme_p_max - cme_p_min)\n",
    "cme_params_norm"
   ]
  },
  {
   "cell_type": "code",
   "execution_count": 46,
   "metadata": {},
   "outputs": [
    {
     "data": {
      "text/plain": [
       "(278, 9)"
      ]
     },
     "execution_count": 46,
     "metadata": {},
     "output_type": "execute_result"
    }
   ],
   "source": [
    "cme_params_to_augment = cme_params_norm.to_numpy()\n",
    "cme_params_to_augment.shape"
   ]
  },
  {
   "cell_type": "code",
   "execution_count": 47,
   "metadata": {},
   "outputs": [],
   "source": [
    "# cme_params_to_augment = np.expand_dims(cme_params_to_augment, axis=1)"
   ]
  },
  {
   "cell_type": "code",
   "execution_count": 48,
   "metadata": {},
   "outputs": [
    {
     "data": {
      "text/plain": [
       "9"
      ]
     },
     "execution_count": 48,
     "metadata": {},
     "output_type": "execute_result"
    }
   ],
   "source": [
    "param_dim = cme_params_to_augment.shape[1]\n",
    "param_dim"
   ]
  },
  {
   "cell_type": "code",
   "execution_count": 49,
   "metadata": {},
   "outputs": [
    {
     "data": {
      "text/plain": [
       "(90, 160, 278)"
      ]
     },
     "execution_count": 49,
     "metadata": {},
     "output_type": "execute_result"
    }
   ],
   "source": [
    "# now augment dataset with these scaled values.\n",
    "rd_2161.shape"
   ]
  },
  {
   "cell_type": "code",
   "execution_count": 50,
   "metadata": {},
   "outputs": [
    {
     "data": {
      "text/plain": [
       "160"
      ]
     },
     "execution_count": 50,
     "metadata": {},
     "output_type": "execute_result"
    }
   ],
   "source": [
    "data_dim = rd_2161.shape[1]\n",
    "data_dim"
   ]
  },
  {
   "cell_type": "code",
   "execution_count": 51,
   "metadata": {},
   "outputs": [
    {
     "data": {
      "text/plain": [
       "(160, 9)"
      ]
     },
     "execution_count": 51,
     "metadata": {},
     "output_type": "execute_result"
    }
   ],
   "source": [
    "input_dim = rd_2161.shape[1]\n",
    "input_dim, param_dim"
   ]
  },
  {
   "cell_type": "code",
   "execution_count": 52,
   "metadata": {},
   "outputs": [],
   "source": [
    "augmented_r = np.zeros((rd_2161.shape[0], data_dim + param_dim, rd_2161.shape[2]))\n",
    "augmented_r[:, :(data_dim), :] = rd_2161\n",
    "for iii in range(rd_2161.shape[2]):\n",
    "    augmented_r[:, (data_dim):, iii] = cme_params_to_augment[iii, :]"
   ]
  },
  {
   "cell_type": "code",
   "execution_count": 53,
   "metadata": {},
   "outputs": [
    {
     "data": {
      "text/plain": [
       "(90, 169, 278)"
      ]
     },
     "execution_count": 53,
     "metadata": {},
     "output_type": "execute_result"
    }
   ],
   "source": [
    "augmented_r.shape"
   ]
  },
  {
   "cell_type": "code",
   "execution_count": 54,
   "metadata": {},
   "outputs": [
    {
     "data": {
      "text/plain": [
       "array([[ 3.99369242,  3.99004235,  3.98640029, ...,  0.12083333,\n",
       "         0.09854213,  0.43650556],\n",
       "       [ 3.99369242,  3.99004235,  3.98640029, ...,  0.12083333,\n",
       "         0.09854213,  0.43650556],\n",
       "       [ 3.99369242,  3.99004235,  3.98640029, ...,  0.12083333,\n",
       "         0.09854213,  0.43650556],\n",
       "       ...,\n",
       "       [17.87190238, 17.85375065, 17.844671  , ...,  0.12083333,\n",
       "         0.09854213,  0.43650556],\n",
       "       [17.97142902, 18.01082051, 18.0539653 , ...,  0.12083333,\n",
       "         0.09854213,  0.43650556],\n",
       "       [18.17501243, 18.21278563, 18.25486527, ...,  0.12083333,\n",
       "         0.09854213,  0.43650556]])"
      ]
     },
     "execution_count": 54,
     "metadata": {},
     "output_type": "execute_result"
    }
   ],
   "source": [
    "augmented_r[:, :, 0]"
   ]
  },
  {
   "cell_type": "code",
   "execution_count": 55,
   "metadata": {},
   "outputs": [],
   "source": [
    "def getDataForSim(edge_data_matrix, r_data_matrix, sim_data, sid):\n",
    "    \"\"\"\n",
    "    Take in a randomly chosen sim from the training set and return the following:\n",
    "    y0_train_torch\n",
    "    y_train_torch\n",
    "    i.e. IC and data in torch tensor format on Device\n",
    "    t_train_torch\n",
    "    and correct sim_index from sim_data\n",
    "    \"\"\"\n",
    "    \n",
    "    sim_index = np.argwhere(sim_data == sid)[0][0]\n",
    "    \n",
    "    r_sim = r_data_matrix[:, :, sim_index]\n",
    "    \n",
    "    tMinIdx, tMin, tMaxIdx, tMax = edut.getTMinTMax(edge_data_matrix, simIdx=sim_index)\n",
    "    \n",
    "    r_sim_valid = r_sim[tMinIdx:(tMaxIdx+1), :]\n",
    "    valid_times = np.arange(tMin, tMax + 2, step=2)\n",
    "    \n",
    "    tTrainEnd = tMin + np.floor((2/3)*(tMax - tMin))\n",
    "    \n",
    "    \n",
    "    trainEndIdx = np.argmin(np.abs(valid_times - tTrainEnd))\n",
    "    #     trainEndIdx = np.argwhere(valid_times == tTrainEnd)[0][0]\n",
    "    \n",
    "    tTrain = valid_times[:(trainEndIdx + 1)]\n",
    "    \n",
    "    tTest = valid_times[(trainEndIdx + 1):]\n",
    "    \n",
    "    tTrainScaled = (tTrain - tMin) / (tMax - tMin)\n",
    "    tTestScaled = (tTest - tMin) / (tMax - tMin)\n",
    "    \n",
    "    tAllScaled = (valid_times - tMin) / (tMax - tMin)\n",
    "    \n",
    "    y0_train_orig = r_sim_valid[0, :]\n",
    "    y0_train_torch = torch.from_numpy(np.float32(y0_train_orig))\n",
    "    y0_train_torch = y0_train_torch.reshape((1, len(y0_train_torch))).to(device)\n",
    "    \n",
    "    \n",
    "    y_train_orig = r_sim_valid[:(trainEndIdx + 1), :]\n",
    "    y_train_torch = torch.from_numpy(np.expand_dims(np.float32(y_train_orig), axis=1)).to(device)\n",
    "    \n",
    "    y_full_torch = torch.from_numpy(np.expand_dims(np.float32(r_sim_valid), axis=1)).to(device)\n",
    "    \n",
    "    t_train_torch = torch.tensor(np.float32(tTrainScaled)).to(device)\n",
    "    t_scaled_torch = torch.tensor(np.float32(tAllScaled)).to(device)\n",
    "    \n",
    "    return y0_train_torch, y_train_torch, y_full_torch, t_train_torch, t_scaled_torch, sim_index"
   ]
  },
  {
   "cell_type": "code",
   "execution_count": 56,
   "metadata": {},
   "outputs": [],
   "source": [
    "def get_batch(torch_train_data, torch_train_time, batch_time=5, batch_size=10):\n",
    "    s = torch.from_numpy(np.random.choice(np.arange(len(torch_train_time) - batch_time, dtype=np.int64),\n",
    "                                          batch_size,\n",
    "                                          replace=False))\n",
    "    batch_y0 = torch_train_data[s]  # (M, D)\n",
    "    batch_t = torch.zeros((batch_size, batch_time))\n",
    "    for i in range(batch_size):\n",
    "        batch_t[i, :] = torch_train_time[s[i]:(s[i] + batch_time)]\n",
    "        \n",
    "    batch_y = torch.stack([torch_train_data[s + i] for i in range(batch_time)], dim=0)  # (T, M, D)\n",
    "    return batch_y0.to(device), batch_t.to(device), batch_y.to(device)"
   ]
  },
  {
   "cell_type": "code",
   "execution_count": 57,
   "metadata": {},
   "outputs": [],
   "source": [
    "y0t, ytt, yft, ttt, tst, si = getDataForSim(ed_2161, augmented_r, sd_2161, 31)"
   ]
  },
  {
   "cell_type": "code",
   "execution_count": 58,
   "metadata": {},
   "outputs": [],
   "source": [
    "# ytt.shape"
   ]
  },
  {
   "cell_type": "code",
   "execution_count": 59,
   "metadata": {},
   "outputs": [],
   "source": [
    "by0, bt, by = get_batch(ytt, ttt)"
   ]
  },
  {
   "cell_type": "code",
   "execution_count": 60,
   "metadata": {},
   "outputs": [
    {
     "data": {
      "text/plain": [
       "torch.Size([5, 10, 1, 169])"
      ]
     },
     "execution_count": 60,
     "metadata": {},
     "output_type": "execute_result"
    }
   ],
   "source": [
    "by.shape"
   ]
  },
  {
   "cell_type": "code",
   "execution_count": 61,
   "metadata": {},
   "outputs": [
    {
     "data": {
      "text/plain": [
       "tensor([[ 8.0900,  8.0899,  8.0927,  8.0983,  8.1067,  8.1176,  8.1311,  8.1471,\n",
       "          8.1653,  8.1859,  8.2085,  8.2333,  8.2600,  8.2885,  8.3189,  8.3508,\n",
       "          8.3844,  8.4195,  8.4559,  8.4936,  8.5325,  8.5725,  8.6136,  8.6555,\n",
       "          8.6982,  8.7416,  8.7857,  8.8302,  8.8750,  8.9199,  8.9651,  9.0101,\n",
       "          9.0550,  9.0998,  9.1443,  9.1884,  9.2321,  9.2753,  9.3179,  9.3600,\n",
       "          9.4015,  9.4424,  9.4826,  9.5221,  9.5609,  9.5990,  9.6363,  9.6729,\n",
       "          9.7086,  9.7435,  9.7776,  9.8109,  9.8433,  9.8747,  9.9053,  9.9350,\n",
       "          9.9639,  9.9920, 10.0192, 10.0454, 10.0708, 10.0955, 10.1195, 10.1425,\n",
       "         10.1647, 10.1861, 10.2067, 10.2267, 10.2461, 10.2645, 10.2822, 10.2991,\n",
       "         10.3153, 10.3306, 10.3452, 10.3591, 10.3721, 10.3843, 10.3955, 10.4059,\n",
       "         10.4153, 10.4239, 10.4317, 10.4400, 10.4473, 10.4537, 10.4591, 10.4635,\n",
       "         10.4668, 10.4692, 10.4704, 10.4706, 10.4696, 10.4675, 10.4642, 10.4597,\n",
       "         10.4539, 10.4467, 10.4383, 10.4285, 10.4173, 10.4048, 10.3907, 10.3753,\n",
       "         10.3584, 10.3401, 10.3202, 10.2987, 10.2756, 10.2511, 10.2251, 10.1976,\n",
       "         10.1685, 10.1380, 10.1061, 10.0729, 10.0385, 10.0029,  9.9660,  9.9267,\n",
       "          9.8869,  9.8466,  9.8058,  9.7645,  9.7229,  9.6810,  9.6388,  9.5964,\n",
       "          9.5539,  9.5115,  9.4691,  9.4270,  9.3851,  9.3436,  9.3009,  9.2585,\n",
       "          9.2162,  9.1741,  9.1323,  9.0908,  9.0497,  9.0090,  8.9688,  8.9291,\n",
       "          8.8900,  8.8516,  8.8138,  8.7768,  8.7406,  8.7052,  8.6708,  8.6373,\n",
       "          8.6048,  8.5733,  8.5430,  8.5139,  8.4859,  8.4593,  8.4340,  8.4100,\n",
       "          0.5675,  0.4200,  0.5689,  0.5525,  1.0000,  0.2727,  0.1208,  0.0985,\n",
       "          0.4365]])"
      ]
     },
     "execution_count": 61,
     "metadata": {},
     "output_type": "execute_result"
    }
   ],
   "source": [
    "by[0, 0, :, :]"
   ]
  },
  {
   "cell_type": "code",
   "execution_count": 62,
   "metadata": {},
   "outputs": [],
   "source": [
    "# by.shape"
   ]
  },
  {
   "cell_type": "code",
   "execution_count": 63,
   "metadata": {},
   "outputs": [],
   "source": [
    "class ODEFunc(nn.Module):\n",
    "\n",
    "    def __init__(self):\n",
    "        super(ODEFunc, self).__init__()\n",
    "\n",
    "        self.net1 = nn.Sequential(\n",
    "            nn.Linear(169, 100),\n",
    "            nn.Tanh(),\n",
    "            nn.Linear(100, 100),\n",
    "            nn.Tanh(),\n",
    "            nn.Linear(100, 169),\n",
    "        )\n",
    "        \n",
    "        for m in self.net1.modules():\n",
    "            if isinstance(m, nn.Linear):\n",
    "                nn.init.normal_(m.weight, mean=0, std=0.1)\n",
    "                nn.init.constant_(m.bias, val=0)\n",
    "                \n",
    "    def forward(self, t, y):\n",
    "        return self.net1(y)"
   ]
  },
  {
   "cell_type": "code",
   "execution_count": 64,
   "metadata": {},
   "outputs": [],
   "source": [
    "class RunningAverageMeter(object):\n",
    "    \"\"\"Computes and stores the average and current value\"\"\"\n",
    "\n",
    "    def __init__(self, momentum=0.99):\n",
    "        self.momentum = momentum\n",
    "        self.losses = []\n",
    "        self.reset()\n",
    "\n",
    "    def reset(self):\n",
    "        self.val = None\n",
    "        self.avg = 0\n",
    "\n",
    "    def update(self, val):\n",
    "        if self.val is None:\n",
    "            self.avg = val\n",
    "        else:\n",
    "            self.avg = self.avg * self.momentum + val * (1 - self.momentum)\n",
    "        self.val = val\n",
    "        self.losses.append(self.avg)"
   ]
  },
  {
   "cell_type": "code",
   "execution_count": 65,
   "metadata": {},
   "outputs": [],
   "source": [
    "ii = 0\n",
    "func = ODEFunc().to(device)\n",
    "optimizer = optim.Adam(func.parameters(), lr=1e-3)\n",
    "end = time.time()\n",
    "\n",
    "niters=6000\n",
    "test_freq=5"
   ]
  },
  {
   "cell_type": "code",
   "execution_count": 66,
   "metadata": {},
   "outputs": [],
   "source": [
    "batch_size = 10\n",
    "batch_time = 5"
   ]
  },
  {
   "cell_type": "code",
   "execution_count": 67,
   "metadata": {},
   "outputs": [
    {
     "name": "stdout",
     "output_type": "stream",
     "text": [
      "Iter 0005 | Total Loss 4.977581 | Sim ID 085 \n",
      "Iter 0010 | Total Loss 7.705052 | Sim ID 148 \n",
      "Iter 0015 | Total Loss 4.386827 | Sim ID 176 \n",
      "Iter 0020 | Total Loss 2.280607 | Sim ID 311 \n",
      "Iter 0025 | Total Loss 6.737478 | Sim ID 127 \n",
      "Iter 0030 | Total Loss 4.065915 | Sim ID 323 \n",
      "Iter 0035 | Total Loss 5.184512 | Sim ID 181 \n",
      "Iter 0040 | Total Loss 2.064832 | Sim ID 112 \n",
      "Iter 0045 | Total Loss 4.532670 | Sim ID 287 \n",
      "Iter 0050 | Total Loss 1.621136 | Sim ID 082 \n",
      "Iter 0055 | Total Loss 4.594798 | Sim ID 145 \n",
      "Iter 0060 | Total Loss 0.949450 | Sim ID 276 \n",
      "Iter 0065 | Total Loss 4.223021 | Sim ID 105 \n",
      "Iter 0070 | Total Loss 0.955569 | Sim ID 234 \n",
      "Iter 0075 | Total Loss 1.586343 | Sim ID 044 \n",
      "Iter 0080 | Total Loss 1.792297 | Sim ID 252 \n",
      "Iter 0085 | Total Loss 0.530773 | Sim ID 074 \n",
      "Iter 0090 | Total Loss 0.630445 | Sim ID 271 \n",
      "Iter 0095 | Total Loss 1.540943 | Sim ID 060 \n",
      "Iter 0100 | Total Loss 0.360589 | Sim ID 319 \n",
      "Iter 0105 | Total Loss 3.587350 | Sim ID 156 \n",
      "Iter 0110 | Total Loss 1.923126 | Sim ID 095 \n",
      "Iter 0115 | Total Loss 3.666335 | Sim ID 119 \n",
      "Iter 0120 | Total Loss 0.649316 | Sim ID 144 \n",
      "Iter 0125 | Total Loss 1.092610 | Sim ID 280 \n",
      "Iter 0130 | Total Loss 0.828447 | Sim ID 108 \n",
      "Iter 0135 | Total Loss 1.184710 | Sim ID 316 \n",
      "Iter 0140 | Total Loss 3.230567 | Sim ID 247 \n",
      "Iter 0145 | Total Loss 2.008144 | Sim ID 154 \n",
      "Iter 0150 | Total Loss 2.513072 | Sim ID 044 \n",
      "Iter 0155 | Total Loss 1.663207 | Sim ID 284 \n",
      "Iter 0160 | Total Loss 0.378679 | Sim ID 132 \n",
      "Iter 0165 | Total Loss 1.091721 | Sim ID 192 \n",
      "Iter 0170 | Total Loss 0.442808 | Sim ID 098 \n",
      "Iter 0175 | Total Loss 1.413933 | Sim ID 206 \n",
      "Iter 0180 | Total Loss 1.318249 | Sim ID 227 \n",
      "Iter 0185 | Total Loss 2.313254 | Sim ID 160 \n",
      "Iter 0190 | Total Loss 1.025237 | Sim ID 234 \n",
      "Iter 0195 | Total Loss 2.853749 | Sim ID 168 \n",
      "Iter 0200 | Total Loss 1.600711 | Sim ID 304 \n",
      "Iter 0205 | Total Loss 1.662306 | Sim ID 051 \n",
      "Iter 0210 | Total Loss 2.514764 | Sim ID 297 \n",
      "Iter 0215 | Total Loss 1.931757 | Sim ID 208 \n",
      "Iter 0220 | Total Loss 1.672156 | Sim ID 216 \n",
      "Iter 0225 | Total Loss 1.743367 | Sim ID 061 \n",
      "Iter 0230 | Total Loss 2.725831 | Sim ID 031 \n",
      "Iter 0235 | Total Loss 1.232004 | Sim ID 266 \n",
      "Iter 0240 | Total Loss 1.658417 | Sim ID 261 \n",
      "Iter 0245 | Total Loss 1.639719 | Sim ID 215 \n",
      "Iter 0250 | Total Loss 1.656219 | Sim ID 261 \n",
      "Iter 0255 | Total Loss 1.901069 | Sim ID 280 \n",
      "Iter 0260 | Total Loss 1.956174 | Sim ID 197 \n",
      "Iter 0265 | Total Loss 0.784477 | Sim ID 037 \n",
      "Iter 0270 | Total Loss 3.101088 | Sim ID 232 \n",
      "Iter 0275 | Total Loss 1.201928 | Sim ID 036 \n",
      "Iter 0280 | Total Loss 3.089527 | Sim ID 044 \n",
      "Iter 0285 | Total Loss 2.577518 | Sim ID 169 \n",
      "Iter 0290 | Total Loss 2.709732 | Sim ID 226 \n",
      "Iter 0295 | Total Loss 2.559838 | Sim ID 325 \n",
      "Iter 0300 | Total Loss 0.756580 | Sim ID 038 \n",
      "Iter 0305 | Total Loss 0.695037 | Sim ID 166 \n",
      "Iter 0310 | Total Loss 2.636241 | Sim ID 154 \n",
      "Iter 0315 | Total Loss 2.919093 | Sim ID 293 \n",
      "Iter 0320 | Total Loss 2.339893 | Sim ID 058 \n",
      "Iter 0325 | Total Loss 0.510127 | Sim ID 037 \n",
      "Iter 0330 | Total Loss 1.016944 | Sim ID 082 \n",
      "Iter 0335 | Total Loss 0.708895 | Sim ID 205 \n",
      "Iter 0340 | Total Loss 1.181466 | Sim ID 104 \n",
      "Iter 0345 | Total Loss 3.236716 | Sim ID 148 \n",
      "Iter 0350 | Total Loss 1.816395 | Sim ID 281 \n",
      "Iter 0355 | Total Loss 0.664558 | Sim ID 164 \n",
      "Iter 0360 | Total Loss 1.127101 | Sim ID 057 \n",
      "Iter 0365 | Total Loss 0.447458 | Sim ID 124 \n",
      "Iter 0370 | Total Loss 1.573537 | Sim ID 280 \n",
      "Iter 0375 | Total Loss 2.972744 | Sim ID 173 \n",
      "Iter 0380 | Total Loss 1.026691 | Sim ID 104 \n",
      "Iter 0385 | Total Loss 0.798535 | Sim ID 164 \n",
      "Iter 0390 | Total Loss 0.922829 | Sim ID 319 \n",
      "Iter 0395 | Total Loss 3.355750 | Sim ID 119 \n",
      "Iter 0400 | Total Loss 2.426248 | Sim ID 086 \n",
      "Iter 0405 | Total Loss 2.018737 | Sim ID 287 \n",
      "Iter 0410 | Total Loss 0.796761 | Sim ID 166 \n",
      "Iter 0415 | Total Loss 0.519525 | Sim ID 072 \n",
      "Iter 0420 | Total Loss 2.644284 | Sim ID 288 \n",
      "Iter 0425 | Total Loss 0.759326 | Sim ID 320 \n",
      "Iter 0430 | Total Loss 1.622614 | Sim ID 302 \n",
      "Iter 0435 | Total Loss 2.949068 | Sim ID 064 \n",
      "Iter 0440 | Total Loss 3.148157 | Sim ID 177 \n",
      "Iter 0445 | Total Loss 1.354115 | Sim ID 284 \n",
      "Iter 0450 | Total Loss 0.482662 | Sim ID 037 \n",
      "Iter 0455 | Total Loss 1.408742 | Sim ID 129 \n",
      "Iter 0460 | Total Loss 1.697851 | Sim ID 271 \n",
      "Iter 0465 | Total Loss 2.836447 | Sim ID 093 \n",
      "Iter 0470 | Total Loss 2.882788 | Sim ID 292 \n",
      "Iter 0475 | Total Loss 0.688585 | Sim ID 263 \n",
      "Iter 0480 | Total Loss 2.869555 | Sim ID 235 \n",
      "Iter 0485 | Total Loss 0.974372 | Sim ID 294 \n",
      "Iter 0490 | Total Loss 0.961061 | Sim ID 046 \n",
      "Iter 0495 | Total Loss 1.452148 | Sim ID 068 \n",
      "Iter 0500 | Total Loss 2.088655 | Sim ID 070 \n",
      "Iter 0505 | Total Loss 2.474156 | Sim ID 160 \n",
      "Iter 0510 | Total Loss 3.101947 | Sim ID 162 \n",
      "Iter 0515 | Total Loss 2.430461 | Sim ID 154 \n",
      "Iter 0520 | Total Loss 2.274438 | Sim ID 198 \n",
      "Iter 0525 | Total Loss 1.490320 | Sim ID 302 \n",
      "Iter 0530 | Total Loss 1.547276 | Sim ID 194 \n",
      "Iter 0535 | Total Loss 2.062250 | Sim ID 138 \n",
      "Iter 0540 | Total Loss 2.968402 | Sim ID 044 \n",
      "Iter 0545 | Total Loss 1.486865 | Sim ID 223 \n",
      "Iter 0550 | Total Loss 1.089682 | Sim ID 215 \n",
      "Iter 0555 | Total Loss 0.719263 | Sim ID 246 \n",
      "Iter 0560 | Total Loss 2.283639 | Sim ID 070 \n",
      "Iter 0565 | Total Loss 0.866756 | Sim ID 298 \n",
      "Iter 0570 | Total Loss 2.221271 | Sim ID 086 \n",
      "Iter 0575 | Total Loss 1.349731 | Sim ID 036 \n",
      "Iter 0580 | Total Loss 2.691386 | Sim ID 156 \n",
      "Iter 0585 | Total Loss 2.058547 | Sim ID 070 \n",
      "Iter 0590 | Total Loss 0.708857 | Sim ID 136 \n",
      "Iter 0595 | Total Loss 0.749602 | Sim ID 205 \n",
      "Iter 0600 | Total Loss 2.056966 | Sim ID 181 \n",
      "Iter 0605 | Total Loss 0.825459 | Sim ID 326 \n",
      "Iter 0610 | Total Loss 1.294837 | Sim ID 284 \n",
      "Iter 0615 | Total Loss 0.576211 | Sim ID 174 \n",
      "Iter 0620 | Total Loss 1.922577 | Sim ID 209 \n",
      "Iter 0625 | Total Loss 0.953598 | Sim ID 092 \n",
      "Iter 0630 | Total Loss 2.538779 | Sim ID 211 \n",
      "Iter 0635 | Total Loss 2.114551 | Sim ID 181 \n",
      "Iter 0640 | Total Loss 0.888202 | Sim ID 236 \n",
      "Iter 0645 | Total Loss 3.169562 | Sim ID 045 \n",
      "Iter 0650 | Total Loss 2.443415 | Sim ID 032 \n",
      "Iter 0655 | Total Loss 1.543108 | Sim ID 291 \n",
      "Iter 0660 | Total Loss 4.154153 | Sim ID 081 \n",
      "Iter 0665 | Total Loss 0.645688 | Sim ID 077 \n",
      "Iter 0670 | Total Loss 0.521298 | Sim ID 294 \n",
      "Iter 0675 | Total Loss 0.744374 | Sim ID 111 \n",
      "Iter 0680 | Total Loss 0.495191 | Sim ID 046 \n",
      "Iter 0685 | Total Loss 1.922721 | Sim ID 106 \n",
      "Iter 0690 | Total Loss 1.037878 | Sim ID 038 \n",
      "Iter 0695 | Total Loss 2.311584 | Sim ID 154 \n",
      "Iter 0700 | Total Loss 1.005787 | Sim ID 254 \n",
      "Iter 0705 | Total Loss 2.700460 | Sim ID 255 \n",
      "Iter 0710 | Total Loss 3.317455 | Sim ID 305 \n",
      "Iter 0715 | Total Loss 1.916053 | Sim ID 297 \n",
      "Iter 0720 | Total Loss 1.521066 | Sim ID 251 \n",
      "Iter 0725 | Total Loss 0.585249 | Sim ID 133 \n",
      "Iter 0730 | Total Loss 2.374952 | Sim ID 198 \n",
      "Iter 0735 | Total Loss 2.293036 | Sim ID 154 \n",
      "Iter 0740 | Total Loss 2.984814 | Sim ID 175 \n",
      "Iter 0745 | Total Loss 0.966736 | Sim ID 108 \n",
      "Iter 0750 | Total Loss 2.234766 | Sim ID 267 \n",
      "Iter 0755 | Total Loss 3.503609 | Sim ID 180 \n",
      "Iter 0760 | Total Loss 0.631311 | Sim ID 071 \n",
      "Iter 0765 | Total Loss 1.061553 | Sim ID 166 \n",
      "Iter 0770 | Total Loss 0.536838 | Sim ID 072 \n",
      "Iter 0775 | Total Loss 1.786130 | Sim ID 147 \n",
      "Iter 0780 | Total Loss 1.145386 | Sim ID 041 \n",
      "Iter 0785 | Total Loss 2.602775 | Sim ID 080 \n",
      "Iter 0790 | Total Loss 0.503727 | Sim ID 072 \n"
     ]
    },
    {
     "ename": "KeyboardInterrupt",
     "evalue": "",
     "output_type": "error",
     "traceback": [
      "\u001b[0;31m---------------------------------------------------------------------------\u001b[0m",
      "\u001b[0;31mKeyboardInterrupt\u001b[0m                         Traceback (most recent call last)",
      "\u001b[0;32m/var/folders/0m/401pb5hj7y59vbxjhd49jjj80000gp/T/ipykernel_30088/326750449.py\u001b[0m in \u001b[0;36m<module>\u001b[0;34m\u001b[0m\n\u001b[1;32m     15\u001b[0m \u001b[0;34m\u001b[0m\u001b[0m\n\u001b[1;32m     16\u001b[0m         \u001b[0;32mfor\u001b[0m \u001b[0mi\u001b[0m \u001b[0;32min\u001b[0m \u001b[0mrange\u001b[0m\u001b[0;34m(\u001b[0m\u001b[0mbatch_size\u001b[0m\u001b[0;34m)\u001b[0m\u001b[0;34m:\u001b[0m\u001b[0;34m\u001b[0m\u001b[0;34m\u001b[0m\u001b[0m\n\u001b[0;32m---> 17\u001b[0;31m             \u001b[0mpred_y\u001b[0m\u001b[0;34m[\u001b[0m\u001b[0;34m:\u001b[0m\u001b[0;34m,\u001b[0m \u001b[0mi\u001b[0m\u001b[0;34m,\u001b[0m \u001b[0;34m:\u001b[0m\u001b[0;34m,\u001b[0m \u001b[0;34m:\u001b[0m\u001b[0;34m]\u001b[0m \u001b[0;34m=\u001b[0m \u001b[0modeint\u001b[0m\u001b[0;34m(\u001b[0m\u001b[0mfunc\u001b[0m\u001b[0;34m,\u001b[0m \u001b[0mbatch_y0\u001b[0m\u001b[0;34m[\u001b[0m\u001b[0mi\u001b[0m\u001b[0;34m,\u001b[0m \u001b[0;34m:\u001b[0m\u001b[0;34m,\u001b[0m \u001b[0;34m:\u001b[0m\u001b[0;34m]\u001b[0m\u001b[0;34m,\u001b[0m \u001b[0mbatch_t\u001b[0m\u001b[0;34m[\u001b[0m\u001b[0mi\u001b[0m\u001b[0;34m,\u001b[0m \u001b[0;34m:\u001b[0m\u001b[0;34m]\u001b[0m\u001b[0;34m)\u001b[0m\u001b[0;34m.\u001b[0m\u001b[0mto\u001b[0m\u001b[0;34m(\u001b[0m\u001b[0mdevice\u001b[0m\u001b[0;34m)\u001b[0m\u001b[0;34m\u001b[0m\u001b[0;34m\u001b[0m\u001b[0m\n\u001b[0m\u001b[1;32m     18\u001b[0m \u001b[0;34m\u001b[0m\u001b[0m\n\u001b[1;32m     19\u001b[0m         \u001b[0mloss\u001b[0m \u001b[0;34m=\u001b[0m \u001b[0mtorch\u001b[0m\u001b[0;34m.\u001b[0m\u001b[0mmean\u001b[0m\u001b[0;34m(\u001b[0m\u001b[0mtorch\u001b[0m\u001b[0;34m.\u001b[0m\u001b[0mabs\u001b[0m\u001b[0;34m(\u001b[0m\u001b[0mpred_y\u001b[0m \u001b[0;34m-\u001b[0m \u001b[0mbatch_y\u001b[0m\u001b[0;34m)\u001b[0m\u001b[0;34m)\u001b[0m\u001b[0;34m\u001b[0m\u001b[0;34m\u001b[0m\u001b[0m\n",
      "\u001b[0;32m~/opt/anaconda3/lib/python3.8/site-packages/torchdiffeq/_impl/adjoint.py\u001b[0m in \u001b[0;36modeint_adjoint\u001b[0;34m(func, y0, t, rtol, atol, method, options, event_fn, adjoint_rtol, adjoint_atol, adjoint_method, adjoint_options, adjoint_params)\u001b[0m\n\u001b[1;32m    196\u001b[0m     \u001b[0mhandle_adjoint_norm_\u001b[0m\u001b[0;34m(\u001b[0m\u001b[0madjoint_options\u001b[0m\u001b[0;34m,\u001b[0m \u001b[0mshapes\u001b[0m\u001b[0;34m,\u001b[0m \u001b[0mstate_norm\u001b[0m\u001b[0;34m)\u001b[0m\u001b[0;34m\u001b[0m\u001b[0;34m\u001b[0m\u001b[0m\n\u001b[1;32m    197\u001b[0m \u001b[0;34m\u001b[0m\u001b[0m\n\u001b[0;32m--> 198\u001b[0;31m     ans = OdeintAdjointMethod.apply(shapes, func, y0, t, rtol, atol, method, options, event_fn, adjoint_rtol, adjoint_atol,\n\u001b[0m\u001b[1;32m    199\u001b[0m                                     adjoint_method, adjoint_options, t.requires_grad, *adjoint_params)\n\u001b[1;32m    200\u001b[0m \u001b[0;34m\u001b[0m\u001b[0m\n",
      "\u001b[0;32m~/opt/anaconda3/lib/python3.8/site-packages/torch/autograd/function.py\u001b[0m in \u001b[0;36mapply\u001b[0;34m(cls, *args, **kwargs)\u001b[0m\n\u001b[1;32m    504\u001b[0m             \u001b[0;31m# See NOTE: [functorch vjp and autograd interaction]\u001b[0m\u001b[0;34m\u001b[0m\u001b[0;34m\u001b[0m\u001b[0;34m\u001b[0m\u001b[0m\n\u001b[1;32m    505\u001b[0m             \u001b[0margs\u001b[0m \u001b[0;34m=\u001b[0m \u001b[0m_functorch\u001b[0m\u001b[0;34m.\u001b[0m\u001b[0mutils\u001b[0m\u001b[0;34m.\u001b[0m\u001b[0munwrap_dead_wrappers\u001b[0m\u001b[0;34m(\u001b[0m\u001b[0margs\u001b[0m\u001b[0;34m)\u001b[0m\u001b[0;34m\u001b[0m\u001b[0;34m\u001b[0m\u001b[0m\n\u001b[0;32m--> 506\u001b[0;31m             \u001b[0;32mreturn\u001b[0m \u001b[0msuper\u001b[0m\u001b[0;34m(\u001b[0m\u001b[0;34m)\u001b[0m\u001b[0;34m.\u001b[0m\u001b[0mapply\u001b[0m\u001b[0;34m(\u001b[0m\u001b[0;34m*\u001b[0m\u001b[0margs\u001b[0m\u001b[0;34m,\u001b[0m \u001b[0;34m**\u001b[0m\u001b[0mkwargs\u001b[0m\u001b[0;34m)\u001b[0m  \u001b[0;31m# type: ignore[misc]\u001b[0m\u001b[0;34m\u001b[0m\u001b[0;34m\u001b[0m\u001b[0m\n\u001b[0m\u001b[1;32m    507\u001b[0m \u001b[0;34m\u001b[0m\u001b[0m\n\u001b[1;32m    508\u001b[0m         \u001b[0;32mif\u001b[0m \u001b[0mcls\u001b[0m\u001b[0;34m.\u001b[0m\u001b[0msetup_context\u001b[0m \u001b[0;34m==\u001b[0m \u001b[0m_SingleLevelFunction\u001b[0m\u001b[0;34m.\u001b[0m\u001b[0msetup_context\u001b[0m\u001b[0;34m:\u001b[0m\u001b[0;34m\u001b[0m\u001b[0;34m\u001b[0m\u001b[0m\n",
      "\u001b[0;32m~/opt/anaconda3/lib/python3.8/site-packages/torchdiffeq/_impl/adjoint.py\u001b[0m in \u001b[0;36mforward\u001b[0;34m(ctx, shapes, func, y0, t, rtol, atol, method, options, event_fn, adjoint_rtol, adjoint_atol, adjoint_method, adjoint_options, t_requires_grad, *adjoint_params)\u001b[0m\n\u001b[1;32m     23\u001b[0m \u001b[0;34m\u001b[0m\u001b[0m\n\u001b[1;32m     24\u001b[0m         \u001b[0;32mwith\u001b[0m \u001b[0mtorch\u001b[0m\u001b[0;34m.\u001b[0m\u001b[0mno_grad\u001b[0m\u001b[0;34m(\u001b[0m\u001b[0;34m)\u001b[0m\u001b[0;34m:\u001b[0m\u001b[0;34m\u001b[0m\u001b[0;34m\u001b[0m\u001b[0m\n\u001b[0;32m---> 25\u001b[0;31m             \u001b[0mans\u001b[0m \u001b[0;34m=\u001b[0m \u001b[0modeint\u001b[0m\u001b[0;34m(\u001b[0m\u001b[0mfunc\u001b[0m\u001b[0;34m,\u001b[0m \u001b[0my0\u001b[0m\u001b[0;34m,\u001b[0m \u001b[0mt\u001b[0m\u001b[0;34m,\u001b[0m \u001b[0mrtol\u001b[0m\u001b[0;34m=\u001b[0m\u001b[0mrtol\u001b[0m\u001b[0;34m,\u001b[0m \u001b[0matol\u001b[0m\u001b[0;34m=\u001b[0m\u001b[0matol\u001b[0m\u001b[0;34m,\u001b[0m \u001b[0mmethod\u001b[0m\u001b[0;34m=\u001b[0m\u001b[0mmethod\u001b[0m\u001b[0;34m,\u001b[0m \u001b[0moptions\u001b[0m\u001b[0;34m=\u001b[0m\u001b[0moptions\u001b[0m\u001b[0;34m,\u001b[0m \u001b[0mevent_fn\u001b[0m\u001b[0;34m=\u001b[0m\u001b[0mevent_fn\u001b[0m\u001b[0;34m)\u001b[0m\u001b[0;34m\u001b[0m\u001b[0;34m\u001b[0m\u001b[0m\n\u001b[0m\u001b[1;32m     26\u001b[0m \u001b[0;34m\u001b[0m\u001b[0m\n\u001b[1;32m     27\u001b[0m             \u001b[0;32mif\u001b[0m \u001b[0mevent_fn\u001b[0m \u001b[0;32mis\u001b[0m \u001b[0;32mNone\u001b[0m\u001b[0;34m:\u001b[0m\u001b[0;34m\u001b[0m\u001b[0;34m\u001b[0m\u001b[0m\n",
      "\u001b[0;32m~/opt/anaconda3/lib/python3.8/site-packages/torchdiffeq/_impl/odeint.py\u001b[0m in \u001b[0;36modeint\u001b[0;34m(func, y0, t, rtol, atol, method, options, event_fn)\u001b[0m\n\u001b[1;32m     75\u001b[0m \u001b[0;34m\u001b[0m\u001b[0m\n\u001b[1;32m     76\u001b[0m     \u001b[0;32mif\u001b[0m \u001b[0mevent_fn\u001b[0m \u001b[0;32mis\u001b[0m \u001b[0;32mNone\u001b[0m\u001b[0;34m:\u001b[0m\u001b[0;34m\u001b[0m\u001b[0;34m\u001b[0m\u001b[0m\n\u001b[0;32m---> 77\u001b[0;31m         \u001b[0msolution\u001b[0m \u001b[0;34m=\u001b[0m \u001b[0msolver\u001b[0m\u001b[0;34m.\u001b[0m\u001b[0mintegrate\u001b[0m\u001b[0;34m(\u001b[0m\u001b[0mt\u001b[0m\u001b[0;34m)\u001b[0m\u001b[0;34m\u001b[0m\u001b[0;34m\u001b[0m\u001b[0m\n\u001b[0m\u001b[1;32m     78\u001b[0m     \u001b[0;32melse\u001b[0m\u001b[0;34m:\u001b[0m\u001b[0;34m\u001b[0m\u001b[0;34m\u001b[0m\u001b[0m\n\u001b[1;32m     79\u001b[0m         \u001b[0mevent_t\u001b[0m\u001b[0;34m,\u001b[0m \u001b[0msolution\u001b[0m \u001b[0;34m=\u001b[0m \u001b[0msolver\u001b[0m\u001b[0;34m.\u001b[0m\u001b[0mintegrate_until_event\u001b[0m\u001b[0;34m(\u001b[0m\u001b[0mt\u001b[0m\u001b[0;34m[\u001b[0m\u001b[0;36m0\u001b[0m\u001b[0;34m]\u001b[0m\u001b[0;34m,\u001b[0m \u001b[0mevent_fn\u001b[0m\u001b[0;34m)\u001b[0m\u001b[0;34m\u001b[0m\u001b[0;34m\u001b[0m\u001b[0m\n",
      "\u001b[0;32m~/opt/anaconda3/lib/python3.8/site-packages/torchdiffeq/_impl/solvers.py\u001b[0m in \u001b[0;36mintegrate\u001b[0;34m(self, t)\u001b[0m\n\u001b[1;32m     28\u001b[0m         \u001b[0mself\u001b[0m\u001b[0;34m.\u001b[0m\u001b[0m_before_integrate\u001b[0m\u001b[0;34m(\u001b[0m\u001b[0mt\u001b[0m\u001b[0;34m)\u001b[0m\u001b[0;34m\u001b[0m\u001b[0;34m\u001b[0m\u001b[0m\n\u001b[1;32m     29\u001b[0m         \u001b[0;32mfor\u001b[0m \u001b[0mi\u001b[0m \u001b[0;32min\u001b[0m \u001b[0mrange\u001b[0m\u001b[0;34m(\u001b[0m\u001b[0;36m1\u001b[0m\u001b[0;34m,\u001b[0m \u001b[0mlen\u001b[0m\u001b[0;34m(\u001b[0m\u001b[0mt\u001b[0m\u001b[0;34m)\u001b[0m\u001b[0;34m)\u001b[0m\u001b[0;34m:\u001b[0m\u001b[0;34m\u001b[0m\u001b[0;34m\u001b[0m\u001b[0m\n\u001b[0;32m---> 30\u001b[0;31m             \u001b[0msolution\u001b[0m\u001b[0;34m[\u001b[0m\u001b[0mi\u001b[0m\u001b[0;34m]\u001b[0m \u001b[0;34m=\u001b[0m \u001b[0mself\u001b[0m\u001b[0;34m.\u001b[0m\u001b[0m_advance\u001b[0m\u001b[0;34m(\u001b[0m\u001b[0mt\u001b[0m\u001b[0;34m[\u001b[0m\u001b[0mi\u001b[0m\u001b[0;34m]\u001b[0m\u001b[0;34m)\u001b[0m\u001b[0;34m\u001b[0m\u001b[0;34m\u001b[0m\u001b[0m\n\u001b[0m\u001b[1;32m     31\u001b[0m         \u001b[0;32mreturn\u001b[0m \u001b[0msolution\u001b[0m\u001b[0;34m\u001b[0m\u001b[0;34m\u001b[0m\u001b[0m\n\u001b[1;32m     32\u001b[0m \u001b[0;34m\u001b[0m\u001b[0m\n",
      "\u001b[0;32m~/opt/anaconda3/lib/python3.8/site-packages/torchdiffeq/_impl/rk_common.py\u001b[0m in \u001b[0;36m_advance\u001b[0;34m(self, next_t)\u001b[0m\n\u001b[1;32m    192\u001b[0m         \u001b[0;32mwhile\u001b[0m \u001b[0mnext_t\u001b[0m \u001b[0;34m>\u001b[0m \u001b[0mself\u001b[0m\u001b[0;34m.\u001b[0m\u001b[0mrk_state\u001b[0m\u001b[0;34m.\u001b[0m\u001b[0mt1\u001b[0m\u001b[0;34m:\u001b[0m\u001b[0;34m\u001b[0m\u001b[0;34m\u001b[0m\u001b[0m\n\u001b[1;32m    193\u001b[0m             \u001b[0;32massert\u001b[0m \u001b[0mn_steps\u001b[0m \u001b[0;34m<\u001b[0m \u001b[0mself\u001b[0m\u001b[0;34m.\u001b[0m\u001b[0mmax_num_steps\u001b[0m\u001b[0;34m,\u001b[0m \u001b[0;34m'max_num_steps exceeded ({}>={})'\u001b[0m\u001b[0;34m.\u001b[0m\u001b[0mformat\u001b[0m\u001b[0;34m(\u001b[0m\u001b[0mn_steps\u001b[0m\u001b[0;34m,\u001b[0m \u001b[0mself\u001b[0m\u001b[0;34m.\u001b[0m\u001b[0mmax_num_steps\u001b[0m\u001b[0;34m)\u001b[0m\u001b[0;34m\u001b[0m\u001b[0;34m\u001b[0m\u001b[0m\n\u001b[0;32m--> 194\u001b[0;31m             \u001b[0mself\u001b[0m\u001b[0;34m.\u001b[0m\u001b[0mrk_state\u001b[0m \u001b[0;34m=\u001b[0m \u001b[0mself\u001b[0m\u001b[0;34m.\u001b[0m\u001b[0m_adaptive_step\u001b[0m\u001b[0;34m(\u001b[0m\u001b[0mself\u001b[0m\u001b[0;34m.\u001b[0m\u001b[0mrk_state\u001b[0m\u001b[0;34m)\u001b[0m\u001b[0;34m\u001b[0m\u001b[0;34m\u001b[0m\u001b[0m\n\u001b[0m\u001b[1;32m    195\u001b[0m             \u001b[0mn_steps\u001b[0m \u001b[0;34m+=\u001b[0m \u001b[0;36m1\u001b[0m\u001b[0;34m\u001b[0m\u001b[0;34m\u001b[0m\u001b[0m\n\u001b[1;32m    196\u001b[0m         \u001b[0;32mreturn\u001b[0m \u001b[0m_interp_evaluate\u001b[0m\u001b[0;34m(\u001b[0m\u001b[0mself\u001b[0m\u001b[0;34m.\u001b[0m\u001b[0mrk_state\u001b[0m\u001b[0;34m.\u001b[0m\u001b[0minterp_coeff\u001b[0m\u001b[0;34m,\u001b[0m \u001b[0mself\u001b[0m\u001b[0;34m.\u001b[0m\u001b[0mrk_state\u001b[0m\u001b[0;34m.\u001b[0m\u001b[0mt0\u001b[0m\u001b[0;34m,\u001b[0m \u001b[0mself\u001b[0m\u001b[0;34m.\u001b[0m\u001b[0mrk_state\u001b[0m\u001b[0;34m.\u001b[0m\u001b[0mt1\u001b[0m\u001b[0;34m,\u001b[0m \u001b[0mnext_t\u001b[0m\u001b[0;34m)\u001b[0m\u001b[0;34m\u001b[0m\u001b[0;34m\u001b[0m\u001b[0m\n",
      "\u001b[0;32m~/opt/anaconda3/lib/python3.8/site-packages/torchdiffeq/_impl/rk_common.py\u001b[0m in \u001b[0;36m_adaptive_step\u001b[0;34m(self, rk_state)\u001b[0m\n\u001b[1;32m    253\u001b[0m         \u001b[0;31m# trigger both. (i.e. interleaving them would be wrong.)\u001b[0m\u001b[0;34m\u001b[0m\u001b[0;34m\u001b[0m\u001b[0;34m\u001b[0m\u001b[0m\n\u001b[1;32m    254\u001b[0m \u001b[0;34m\u001b[0m\u001b[0m\n\u001b[0;32m--> 255\u001b[0;31m         \u001b[0my1\u001b[0m\u001b[0;34m,\u001b[0m \u001b[0mf1\u001b[0m\u001b[0;34m,\u001b[0m \u001b[0my1_error\u001b[0m\u001b[0;34m,\u001b[0m \u001b[0mk\u001b[0m \u001b[0;34m=\u001b[0m \u001b[0m_runge_kutta_step\u001b[0m\u001b[0;34m(\u001b[0m\u001b[0mself\u001b[0m\u001b[0;34m.\u001b[0m\u001b[0mfunc\u001b[0m\u001b[0;34m,\u001b[0m \u001b[0my0\u001b[0m\u001b[0;34m,\u001b[0m \u001b[0mf0\u001b[0m\u001b[0;34m,\u001b[0m \u001b[0mt0\u001b[0m\u001b[0;34m,\u001b[0m \u001b[0mdt\u001b[0m\u001b[0;34m,\u001b[0m \u001b[0mt1\u001b[0m\u001b[0;34m,\u001b[0m \u001b[0mtableau\u001b[0m\u001b[0;34m=\u001b[0m\u001b[0mself\u001b[0m\u001b[0;34m.\u001b[0m\u001b[0mtableau\u001b[0m\u001b[0;34m)\u001b[0m\u001b[0;34m\u001b[0m\u001b[0;34m\u001b[0m\u001b[0m\n\u001b[0m\u001b[1;32m    256\u001b[0m         \u001b[0;31m# dtypes:\u001b[0m\u001b[0;34m\u001b[0m\u001b[0;34m\u001b[0m\u001b[0;34m\u001b[0m\u001b[0m\n\u001b[1;32m    257\u001b[0m         \u001b[0;31m# y1.dtype == self.y0.dtype\u001b[0m\u001b[0;34m\u001b[0m\u001b[0;34m\u001b[0m\u001b[0;34m\u001b[0m\u001b[0m\n",
      "\u001b[0;32m~/opt/anaconda3/lib/python3.8/site-packages/torchdiffeq/_impl/rk_common.py\u001b[0m in \u001b[0;36m_runge_kutta_step\u001b[0;34m(func, y0, f0, t0, dt, t1, tableau)\u001b[0m\n\u001b[1;32m     74\u001b[0m             \u001b[0mperturb\u001b[0m \u001b[0;34m=\u001b[0m \u001b[0mPerturb\u001b[0m\u001b[0;34m.\u001b[0m\u001b[0mNONE\u001b[0m\u001b[0;34m\u001b[0m\u001b[0;34m\u001b[0m\u001b[0m\n\u001b[1;32m     75\u001b[0m         \u001b[0myi\u001b[0m \u001b[0;34m=\u001b[0m \u001b[0my0\u001b[0m \u001b[0;34m+\u001b[0m \u001b[0mtorch\u001b[0m\u001b[0;34m.\u001b[0m\u001b[0msum\u001b[0m\u001b[0;34m(\u001b[0m\u001b[0mk\u001b[0m\u001b[0;34m[\u001b[0m\u001b[0;34m...\u001b[0m\u001b[0;34m,\u001b[0m \u001b[0;34m:\u001b[0m\u001b[0mi\u001b[0m \u001b[0;34m+\u001b[0m \u001b[0;36m1\u001b[0m\u001b[0;34m]\u001b[0m \u001b[0;34m*\u001b[0m \u001b[0;34m(\u001b[0m\u001b[0mbeta_i\u001b[0m \u001b[0;34m*\u001b[0m \u001b[0mdt\u001b[0m\u001b[0;34m)\u001b[0m\u001b[0;34m,\u001b[0m \u001b[0mdim\u001b[0m\u001b[0;34m=\u001b[0m\u001b[0;34m-\u001b[0m\u001b[0;36m1\u001b[0m\u001b[0;34m)\u001b[0m\u001b[0;34m.\u001b[0m\u001b[0mview_as\u001b[0m\u001b[0;34m(\u001b[0m\u001b[0mf0\u001b[0m\u001b[0;34m)\u001b[0m\u001b[0;34m\u001b[0m\u001b[0;34m\u001b[0m\u001b[0m\n\u001b[0;32m---> 76\u001b[0;31m         \u001b[0mf\u001b[0m \u001b[0;34m=\u001b[0m \u001b[0mfunc\u001b[0m\u001b[0;34m(\u001b[0m\u001b[0mti\u001b[0m\u001b[0;34m,\u001b[0m \u001b[0myi\u001b[0m\u001b[0;34m,\u001b[0m \u001b[0mperturb\u001b[0m\u001b[0;34m=\u001b[0m\u001b[0mperturb\u001b[0m\u001b[0;34m)\u001b[0m\u001b[0;34m\u001b[0m\u001b[0;34m\u001b[0m\u001b[0m\n\u001b[0m\u001b[1;32m     77\u001b[0m         \u001b[0mk\u001b[0m \u001b[0;34m=\u001b[0m \u001b[0m_UncheckedAssign\u001b[0m\u001b[0;34m.\u001b[0m\u001b[0mapply\u001b[0m\u001b[0;34m(\u001b[0m\u001b[0mk\u001b[0m\u001b[0;34m,\u001b[0m \u001b[0mf\u001b[0m\u001b[0;34m,\u001b[0m \u001b[0;34m(\u001b[0m\u001b[0;34m...\u001b[0m\u001b[0;34m,\u001b[0m \u001b[0mi\u001b[0m \u001b[0;34m+\u001b[0m \u001b[0;36m1\u001b[0m\u001b[0;34m)\u001b[0m\u001b[0;34m)\u001b[0m\u001b[0;34m\u001b[0m\u001b[0;34m\u001b[0m\u001b[0m\n\u001b[1;32m     78\u001b[0m \u001b[0;34m\u001b[0m\u001b[0m\n",
      "\u001b[0;32m~/opt/anaconda3/lib/python3.8/site-packages/torch/nn/modules/module.py\u001b[0m in \u001b[0;36m_call_impl\u001b[0;34m(self, *args, **kwargs)\u001b[0m\n\u001b[1;32m   1492\u001b[0m         \u001b[0;32mreturn\u001b[0m \u001b[0mresult\u001b[0m\u001b[0;34m\u001b[0m\u001b[0;34m\u001b[0m\u001b[0m\n\u001b[1;32m   1493\u001b[0m \u001b[0;34m\u001b[0m\u001b[0m\n\u001b[0;32m-> 1494\u001b[0;31m     \u001b[0;32mdef\u001b[0m \u001b[0m_call_impl\u001b[0m\u001b[0;34m(\u001b[0m\u001b[0mself\u001b[0m\u001b[0;34m,\u001b[0m \u001b[0;34m*\u001b[0m\u001b[0margs\u001b[0m\u001b[0;34m,\u001b[0m \u001b[0;34m**\u001b[0m\u001b[0mkwargs\u001b[0m\u001b[0;34m)\u001b[0m\u001b[0;34m:\u001b[0m\u001b[0;34m\u001b[0m\u001b[0;34m\u001b[0m\u001b[0m\n\u001b[0m\u001b[1;32m   1495\u001b[0m         \u001b[0mforward_call\u001b[0m \u001b[0;34m=\u001b[0m \u001b[0;34m(\u001b[0m\u001b[0mself\u001b[0m\u001b[0;34m.\u001b[0m\u001b[0m_slow_forward\u001b[0m \u001b[0;32mif\u001b[0m \u001b[0mtorch\u001b[0m\u001b[0;34m.\u001b[0m\u001b[0m_C\u001b[0m\u001b[0;34m.\u001b[0m\u001b[0m_get_tracing_state\u001b[0m\u001b[0;34m(\u001b[0m\u001b[0;34m)\u001b[0m \u001b[0;32melse\u001b[0m \u001b[0mself\u001b[0m\u001b[0;34m.\u001b[0m\u001b[0mforward\u001b[0m\u001b[0;34m)\u001b[0m\u001b[0;34m\u001b[0m\u001b[0;34m\u001b[0m\u001b[0m\n\u001b[1;32m   1496\u001b[0m         \u001b[0;31m# If we don't have any hooks, we want to skip the rest of the logic in\u001b[0m\u001b[0;34m\u001b[0m\u001b[0;34m\u001b[0m\u001b[0;34m\u001b[0m\u001b[0m\n",
      "\u001b[0;31mKeyboardInterrupt\u001b[0m: "
     ]
    }
   ],
   "source": [
    "time_meter = RunningAverageMeter(0.97)\n",
    "loss_meter = RunningAverageMeter(0.97)\n",
    "\n",
    "if runModel:\n",
    "    # step_loss = []\n",
    "    for itr in range(1, niters + 1):\n",
    "        optimizer.zero_grad()\n",
    "        chosen_sim = np.random.choice(sd_train)\n",
    "        y0_train_torch, y_train_torch, y_full_torch, t_train_torch, t_scaled_torch, sim_index = getDataForSim(ed_2161,\n",
    "                                                                                                        augmented_r,\n",
    "                                                                                                        sd_2161,\n",
    "                                                                                                        chosen_sim)\n",
    "        batch_y0, batch_t, batch_y = get_batch(y_train_torch, t_train_torch)\n",
    "        pred_y = torch.zeros_like(batch_y)\n",
    "\n",
    "        for i in range(batch_size):\n",
    "            pred_y[:, i, :, :] = odeint(func, batch_y0[i, :, :], batch_t[i, :]).to(device)\n",
    "\n",
    "        loss = torch.mean(torch.abs(pred_y - batch_y))\n",
    "        loss.backward()\n",
    "        optimizer.step()\n",
    "\n",
    "        #     step_loss.append(loss.item())\n",
    "\n",
    "        time_meter.update(time.time() - end)\n",
    "        loss_meter.update(loss.item())\n",
    "\n",
    "        if itr % test_freq == 0:\n",
    "            with torch.no_grad():\n",
    "                ## more radical defn would be loss on ENTIRE series?\n",
    "                #             pred_y = odeint(func, y0_train_torch, t_train_torch)\n",
    "                #             loss = torch.mean(torch.abs(pred_y - y_train_torch))\n",
    "                pred_y_full_series = odeint(func, y0_train_torch, t_scaled_torch)\n",
    "                #             print(pred_y_full_series.shape)\n",
    "                loss_full_series = torch.mean(torch.abs(pred_y_full_series[:, :, :input_dim] \n",
    "                                                        - y_full_torch[:, :, :input_dim]))\n",
    "                print(\"Iter {:04d} | Total Loss {:.6f} | Sim ID {:03d} \".format(itr,\n",
    "                                                                                loss_full_series.item(), \n",
    "                                                                                chosen_sim))\n",
    "                ii += 1\n",
    "\n",
    "        end = time.time()"
   ]
  },
  {
   "cell_type": "code",
   "execution_count": null,
   "metadata": {},
   "outputs": [],
   "source": [
    "# torch.save(func, \"dydt_Ay_global_model_5000_steps.pkl\")"
   ]
  },
  {
   "cell_type": "code",
   "execution_count": null,
   "metadata": {},
   "outputs": [],
   "source": [
    "# torch.save(optimizer, \"dydt_Ay_global_model_optimizer.pkl\")"
   ]
  },
  {
   "cell_type": "code",
   "execution_count": null,
   "metadata": {},
   "outputs": [],
   "source": [
    "func_saved = torch.load(\"dydt_Ay_global_model_5000_steps.pkl\")"
   ]
  },
  {
   "cell_type": "code",
   "execution_count": null,
   "metadata": {},
   "outputs": [],
   "source": [
    "optim_saved = torch.load(\"dydt_Ay_global_model_optimizer.pkl\")"
   ]
  },
  {
   "cell_type": "code",
   "execution_count": null,
   "metadata": {},
   "outputs": [],
   "source": [
    "func_saved.eval()"
   ]
  },
  {
   "cell_type": "code",
   "execution_count": null,
   "metadata": {},
   "outputs": [],
   "source": [
    "optim_saved.state_dict"
   ]
  },
  {
   "cell_type": "markdown",
   "metadata": {},
   "source": [
    "### Testing"
   ]
  },
  {
   "cell_type": "code",
   "execution_count": null,
   "metadata": {},
   "outputs": [],
   "source": [
    "sd_test"
   ]
  },
  {
   "cell_type": "code",
   "execution_count": null,
   "metadata": {},
   "outputs": [],
   "source": [
    "y01, yt1, yf1, tt1, ts1, si1 = getDataForSim(ed_2161, augmented_r, sd_2161, 326)"
   ]
  },
  {
   "cell_type": "code",
   "execution_count": null,
   "metadata": {},
   "outputs": [],
   "source": [
    "si1"
   ]
  },
  {
   "cell_type": "code",
   "execution_count": null,
   "metadata": {},
   "outputs": [],
   "source": [
    "yf1.shape"
   ]
  },
  {
   "cell_type": "code",
   "execution_count": null,
   "metadata": {},
   "outputs": [],
   "source": [
    "with torch.no_grad():\n",
    "    yt_pred_326 = odeint(func, y01, ts1)"
   ]
  },
  {
   "cell_type": "code",
   "execution_count": null,
   "metadata": {},
   "outputs": [],
   "source": [
    "yt_pred_326.shape"
   ]
  },
  {
   "cell_type": "code",
   "execution_count": null,
   "metadata": {},
   "outputs": [],
   "source": [
    "yf1_np = yf1.cpu().numpy()[:, 0, :input_dim]\n",
    "yt_pred_np = yt_pred_326.cpu().numpy()[:, 0, :input_dim]"
   ]
  },
  {
   "cell_type": "code",
   "execution_count": null,
   "metadata": {},
   "outputs": [],
   "source": [
    "edut.plotTrainPredData(yf1_np, \n",
    "                       yt_pred_np, \n",
    "                       ed_2161, \n",
    "                       sd_2161, \n",
    "                       theta=np.linspace(-31, 82, 160),\n",
    "                       simIdx=si1, \n",
    "                       savefig=False)"
   ]
  },
  {
   "cell_type": "code",
   "execution_count": null,
   "metadata": {},
   "outputs": [],
   "source": [
    "edut.plotTrainPredData1Model(yf1_np,\n",
    "                             yt_pred_np,\n",
    "                             ed_2161,\n",
    "                             sd_2161,\n",
    "                             theta=np.linspace(-31, 82, 160), \n",
    "                             simIdx=si1,\n",
    "                             savefig=False)"
   ]
  },
  {
   "cell_type": "code",
   "execution_count": null,
   "metadata": {},
   "outputs": [],
   "source": [
    "y02, yt2, yf2, tt2, ts2, si2 = getDataForSim(ed_2161, augmented_r, sd_2161, 70)"
   ]
  },
  {
   "cell_type": "code",
   "execution_count": null,
   "metadata": {},
   "outputs": [],
   "source": [
    "si2"
   ]
  },
  {
   "cell_type": "code",
   "execution_count": null,
   "metadata": {},
   "outputs": [],
   "source": [
    "yt2.shape"
   ]
  },
  {
   "cell_type": "code",
   "execution_count": null,
   "metadata": {},
   "outputs": [],
   "source": [
    "ts2.shape"
   ]
  },
  {
   "cell_type": "code",
   "execution_count": null,
   "metadata": {},
   "outputs": [],
   "source": [
    "with torch.no_grad():\n",
    "    yt_pred_70 = odeint(func, y02, ts2)"
   ]
  },
  {
   "cell_type": "code",
   "execution_count": null,
   "metadata": {},
   "outputs": [],
   "source": [
    "yf2_np = yf2.cpu().numpy()[:, 0, :input_dim]\n",
    "yt_pred2_np = yt_pred_70.cpu().numpy()[:, 0, :input_dim]"
   ]
  },
  {
   "cell_type": "code",
   "execution_count": null,
   "metadata": {},
   "outputs": [],
   "source": [
    "edut.plotTrainPredData(yf2_np, \n",
    "                       yt_pred2_np, \n",
    "                       ed_2161, \n",
    "                       sd_2161, \n",
    "                       theta=np.linspace(-31, 82, 160),\n",
    "                       simIdx=si2, \n",
    "                       savefig=False)"
   ]
  },
  {
   "cell_type": "code",
   "execution_count": null,
   "metadata": {},
   "outputs": [],
   "source": [
    "edut.plotTrainPredData1Model(yf2_np,\n",
    "                             yt_pred2_np,\n",
    "                             ed_2161,\n",
    "                             sd_2161,\n",
    "                             theta=np.linspace(-31, 82, 160), \n",
    "                             simIdx=si2,\n",
    "                             savefig=False)"
   ]
  },
  {
   "cell_type": "code",
   "execution_count": null,
   "metadata": {},
   "outputs": [],
   "source": [
    "save_test_preds=False"
   ]
  },
  {
   "cell_type": "code",
   "execution_count": null,
   "metadata": {},
   "outputs": [],
   "source": [
    "if save_test_preds:\n",
    "    for ss in sd_test:\n",
    "        y0_test, yt_test, yf_test, tt_test, ts_test, si_test = getDataForSim(ed_2161, augmented_r, sd_2161, ss)\n",
    "\n",
    "        with torch.no_grad():\n",
    "            yt_pred_test = odeint(func, y0_test, ts_test)\n",
    "\n",
    "        y_test_np = yf_test.cpu().numpy()[:, 0, :input_dim]\n",
    "        y_pred_np = yt_pred_test.cpu().numpy()[:, 0, :input_dim]\n",
    "\n",
    "        edut.plotTrainPredData1Model(y_test_np,\n",
    "                                 y_pred_np,\n",
    "                                 ed_2161,\n",
    "                                 sd_2161,\n",
    "                                 theta=np.linspace(-31, 82, 160), \n",
    "                                 simIdx=si_test,\n",
    "                                 savefig=True,\n",
    "                                 savedir=\"./test_data_notebook_05_global_model/\")"
   ]
  },
  {
   "cell_type": "code",
   "execution_count": null,
   "metadata": {},
   "outputs": [],
   "source": []
  }
 ],
 "metadata": {
  "@webio": {
   "lastCommId": null,
   "lastKernelId": null
  },
  "kernelspec": {
   "display_name": "Python 3 (ipykernel)",
   "language": "python",
   "name": "python3"
  },
  "language_info": {
   "codemirror_mode": {
    "name": "ipython",
    "version": 3
   },
   "file_extension": ".py",
   "mimetype": "text/x-python",
   "name": "python",
   "nbconvert_exporter": "python",
   "pygments_lexer": "ipython3",
   "version": "3.8.13"
  }
 },
 "nbformat": 4,
 "nbformat_minor": 4
}
