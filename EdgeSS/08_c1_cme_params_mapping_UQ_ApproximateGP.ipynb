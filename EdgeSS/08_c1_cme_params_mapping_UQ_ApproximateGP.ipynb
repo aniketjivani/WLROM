{
 "cells": [
  {
   "cell_type": "markdown",
   "metadata": {},
   "source": [
    "**PIPELINE**:\n",
    "\n",
    "**Train**: \n",
    "\n",
    "1. $r_t = r_0 + c_1 t$\n",
    "\n",
    "2. $c_1(\\phi, \\mu) \\approx p_0(\\mu) + p_1(\\mu)\\phi  + p_2(\\mu) \\phi^2 + \\cdots$\n",
    "\n",
    "3. New mapping: either $g: \\mu \\rightarrow c_1$ or $g: \\mu \\rightarrow (p_0, p_1, p_2, \\cdots)$\n",
    "\n",
    "**Test**:\n",
    "1. Sample $\\mu^{\\ast}$\n",
    "\n",
    "2. Push through $g$, get $c_1$\n",
    "\n",
    "3. $r_t^{\\ast} = r_0^{\\ast} + c_1^{\\ast} t$\n",
    "\n",
    "4. Predictive uncertainty? \n",
    "\n",
    "\n",
    "5. Inference on $\\mu$?? $\\color{red}{\\text{(details to follow)}}$\n",
    "\n",
    "**Transfer**\n",
    "\n",
    "(need some more reliable edge data for this, but using some limited samples)\n",
    "\n",
    "1. Specify $r_0$\n",
    "\n",
    "2. Specify $\\mu$\n",
    "\n",
    "3. Assume covariate shift i.e. shift in $\\phi$ and $\\mu$ (tricky for $\\phi$? $\\phi$ actually depends on $\\mu$? or at least on orientation!) - can we make this conditional on $\\phi$ and reframe?\n",
    "\n",
    "4. Reweigh samples\n",
    "\n",
    "5. Generate new predictions"
   ]
  },
  {
   "cell_type": "markdown",
   "metadata": {},
   "source": [
    "Same concept as previous notebook, but trying to learn an approximate instead of exact GP to avoid memory intensive calculation."
   ]
  },
  {
   "cell_type": "code",
   "execution_count": 1,
   "metadata": {},
   "outputs": [],
   "source": [
    "import numpy as np\n",
    "import pandas as pd"
   ]
  },
  {
   "cell_type": "code",
   "execution_count": 2,
   "metadata": {},
   "outputs": [],
   "source": [
    "import scipy.linalg as la\n",
    "import scipy.sparse as sparse\n",
    "import matplotlib.pyplot as plt"
   ]
  },
  {
   "cell_type": "code",
   "execution_count": 3,
   "metadata": {},
   "outputs": [],
   "source": [
    "import torch\n",
    "import torch.nn as nn\n",
    "import torch.optim as optim"
   ]
  },
  {
   "cell_type": "code",
   "execution_count": 4,
   "metadata": {},
   "outputs": [],
   "source": [
    "import tqdm\n",
    "import gpytorch\n",
    "from gpytorch.means import ConstantMean, LinearMean\n",
    "from gpytorch.kernels import RBFKernel, ScaleKernel\n",
    "from gpytorch.variational import VariationalStrategy, CholeskyVariationalDistribution\n",
    "from gpytorch.distributions import MultivariateNormal\n",
    "from gpytorch.models import ApproximateGP, GP\n",
    "from gpytorch.mlls import VariationalELBO, AddedLossTerm\n",
    "from gpytorch.likelihoods import GaussianLikelihood\n",
    "\n",
    "from sklearn.preprocessing import StandardScaler\n",
    "from gpytorch.models.deep_gps import DeepGPLayer, DeepGP\n",
    "from gpytorch.mlls import DeepApproximateMLL\n",
    "\n",
    "from matplotlib import pyplot as plt"
   ]
  },
  {
   "cell_type": "code",
   "execution_count": 5,
   "metadata": {},
   "outputs": [],
   "source": [
    "import re\n",
    "import os"
   ]
  },
  {
   "cell_type": "code",
   "execution_count": 6,
   "metadata": {},
   "outputs": [
    {
     "data": {
      "text/plain": [
       "device(type='cpu')"
      ]
     },
     "execution_count": 6,
     "metadata": {},
     "output_type": "execute_result"
    }
   ],
   "source": [
    "device = torch.device('cuda:0' if torch.cuda.is_available() else 'cpu')\n",
    "device"
   ]
  },
  {
   "cell_type": "code",
   "execution_count": 7,
   "metadata": {},
   "outputs": [],
   "source": [
    "%matplotlib inline"
   ]
  },
  {
   "cell_type": "code",
   "execution_count": 8,
   "metadata": {},
   "outputs": [],
   "source": [
    "plt.rc(\"axes.spines\", right=True, top=True)\n",
    "plt.rc(\"figure\", dpi=300, \n",
    "       figsize=(9, 3)\n",
    "      )\n",
    "plt.rc(\"font\", family=\"serif\")\n",
    "plt.rc(\"legend\", edgecolor=\"none\", frameon=True)\n",
    "plt.style.use(\"dark_background\")"
   ]
  },
  {
   "cell_type": "code",
   "execution_count": 9,
   "metadata": {},
   "outputs": [],
   "source": [
    "import edge_utils as edut"
   ]
  },
  {
   "cell_type": "markdown",
   "metadata": {},
   "source": [
    "Load data"
   ]
  },
  {
   "cell_type": "code",
   "execution_count": 10,
   "metadata": {},
   "outputs": [],
   "source": [
    "ed_2161, sd_2161 = edut.load_edge_data_blobfree(2161)"
   ]
  },
  {
   "cell_type": "code",
   "execution_count": 11,
   "metadata": {},
   "outputs": [
    {
     "data": {
      "text/plain": [
       "(90, 160, 278)"
      ]
     },
     "execution_count": 11,
     "metadata": {},
     "output_type": "execute_result"
    }
   ],
   "source": [
    "nTimes, nTheta_2161, nSims_2161 = ed_2161.shape\n",
    "nTimes, nTheta_2161, nSims_2161"
   ]
  },
  {
   "cell_type": "code",
   "execution_count": 12,
   "metadata": {},
   "outputs": [
    {
     "name": "stdout",
     "output_type": "stream",
     "text": [
      "Range of angles for CR2161: -31.279843444227026 81.44031311154595\n"
     ]
    }
   ],
   "source": [
    "theta_s_2161, theta_e_2161 = np.linspace(0, 360, 512)[160] + 1.2 * 180 - 360, np.linspace(0, 360, 512)[320] + 1.2 * 180 - 360\n",
    "print(\"Range of angles for CR2161: {} {}\".format(theta_s_2161, theta_e_2161))"
   ]
  },
  {
   "cell_type": "code",
   "execution_count": 13,
   "metadata": {},
   "outputs": [],
   "source": [
    "theta_grid = np.linspace(np.ceil(theta_s_2161), np.ceil(theta_e_2161), nTheta_2161)"
   ]
  },
  {
   "cell_type": "markdown",
   "metadata": {},
   "source": [
    "Least Squares Fit (don't need non-linear because of independence of $k$ and $\\tau$."
   ]
  },
  {
   "cell_type": "code",
   "execution_count": 14,
   "metadata": {},
   "outputs": [],
   "source": [
    "def getRValuesAllSims(edge_data_matrix):\n",
    "    \"\"\"\n",
    "    Return r values for all sims at once so we don't lose time in training processing r values repeatedly\n",
    "    \"\"\"\n",
    "    r_data_matrix = np.zeros(edge_data_matrix.shape)\n",
    "    nsims = edge_data_matrix.shape[2]\n",
    "    for i in range(nsims):\n",
    "        r_vals, theta_vals = edut.getRValues(edge_data_matrix, simIdx=i, minStartIdx=0)\n",
    "        r_data_matrix[:, :, i] = r_vals\n",
    "\n",
    "    return r_data_matrix"
   ]
  },
  {
   "cell_type": "code",
   "execution_count": 15,
   "metadata": {},
   "outputs": [],
   "source": [
    "# we are removing some data where the edge detection is not necessarily super reliable.\n",
    "sims_to_remove = np.array([33, 39, 63, 73, 113, 128, 131, 142, 193, 218, 253, 264, 273, 312, 313, 324])"
   ]
  },
  {
   "cell_type": "code",
   "execution_count": 16,
   "metadata": {},
   "outputs": [],
   "source": [
    "sd_modified = np.setdiff1d(sd_2161, sims_to_remove)"
   ]
  },
  {
   "cell_type": "code",
   "execution_count": 17,
   "metadata": {},
   "outputs": [],
   "source": [
    "rd_2161 = getRValuesAllSims(ed_2161)"
   ]
  },
  {
   "cell_type": "code",
   "execution_count": 18,
   "metadata": {},
   "outputs": [
    {
     "data": {
      "text/plain": [
       "160"
      ]
     },
     "execution_count": 18,
     "metadata": {},
     "output_type": "execute_result"
    }
   ],
   "source": [
    "data_dim = rd_2161.shape[1]\n",
    "data_dim"
   ]
  },
  {
   "cell_type": "code",
   "execution_count": 19,
   "metadata": {},
   "outputs": [],
   "source": [
    "# param_dim = cme_params_to_augment.shape[1]\n",
    "# param_dim"
   ]
  },
  {
   "cell_type": "code",
   "execution_count": 20,
   "metadata": {},
   "outputs": [],
   "source": [
    "# augmented_r = np.zeros((rd_2161.shape[0], data_dim + param_dim, rd_2161.shape[2]))\n",
    "# augmented_r[:, :(data_dim), :] = rd_2161\n",
    "# for iii in range(rd_2161.shape[2]):\n",
    "#     augmented_r[:, (data_dim):, iii] = cme_params_to_augment[iii, :]"
   ]
  },
  {
   "cell_type": "code",
   "execution_count": 21,
   "metadata": {},
   "outputs": [],
   "source": [
    "def lin_velocity_func(x, t, y):\n",
    "    return x[0] * t - y"
   ]
  },
  {
   "cell_type": "code",
   "execution_count": 22,
   "metadata": {},
   "outputs": [],
   "source": [
    "def gen_velocities(t, c1):\n",
    "    return c1 * t"
   ]
  },
  {
   "cell_type": "code",
   "execution_count": 23,
   "metadata": {},
   "outputs": [],
   "source": [
    "from scipy.optimize import least_squares"
   ]
  },
  {
   "cell_type": "code",
   "execution_count": 24,
   "metadata": {},
   "outputs": [],
   "source": [
    "def fit_velocity(edge_data_matrix, \n",
    "                 sim_data, simIdx=0, \n",
    "                theta=np.linspace(-31, 82, 160), \n",
    "                lsq_loss=\"soft_l1\",\n",
    "                fscale=0.1,\n",
    "                x0 = [0.00517464 * 400]):\n",
    "    \"\"\"\n",
    "    for a chosen sim ID, fit least squares to all valid times in edge data, varying with position angle.\n",
    "    return matrix of size (n_theta x n_params), here n_params = 1\n",
    "    \"\"\"\n",
    "    \n",
    "    ntheta = len(theta)\n",
    "    \n",
    "    simID = sim_data[simIdx]\n",
    "    \n",
    "    tMinIdx, tMin, tMaxIdx, tMax = edut.getTMinTMax(edge_data_matrix, simIdx=simIdx)\n",
    "    \n",
    "    r_vals, theta_vals = edut.getRValues(edge_data_matrix, simIdx=simIdx, minStartIdx=0)\n",
    "    \n",
    "    # sim times (list all times)\n",
    "    all_times = np.linspace(2, 180, 90)\n",
    "    \n",
    "    # filter based on tMinIdx and tMaxIdx\n",
    "    valid_times = all_times[tMinIdx:(tMaxIdx + 1)]\n",
    "    \n",
    "    valid_time_idx = np.array([np.where(all_times == i)[0][0] for i in valid_times])\n",
    "    \n",
    "    # rescale valid_times\n",
    "    # convert time to hours from minutes\n",
    "    #     valid_times_hrs = valid_times / 60\n",
    "    valid_times_rs = (valid_times - tMin) / (tMax - tMin)\n",
    "    \n",
    "    lsq_params = np.zeros((ntheta, 1))\n",
    "    \n",
    "    r_vals_valid = r_vals[valid_time_idx, :]\n",
    "    \n",
    "    r0 = r_vals_valid[0, :]\n",
    "    \n",
    "    \n",
    "    t_train = valid_times_rs[1:]\n",
    "    r_train = r_vals_valid[1:, :] - r0\n",
    "    \n",
    "    r_pred = np.zeros(np.shape(r_vals_valid))\n",
    "    \n",
    "    r_pred[0, :] = r0\n",
    "    \n",
    "    for pa_idx, pa in enumerate(theta):\n",
    "        res_lsq = least_squares(lin_velocity_func,\n",
    "                                x0,\n",
    "                                loss=lsq_loss,\n",
    "                                args=(t_train, r_train[:, pa_idx]),\n",
    "                                bounds=(0, np.inf),\n",
    "                                verbose=0)\n",
    "        \n",
    "        \n",
    "        lsq_params[pa_idx, :] = res_lsq.x\n",
    "        r_pred[1:, pa_idx] = gen_velocities(t_train, *res_lsq.x) + r0[pa_idx]\n",
    "    \n",
    "    return lsq_params, r_pred, r_vals_valid"
   ]
  },
  {
   "cell_type": "code",
   "execution_count": 25,
   "metadata": {},
   "outputs": [],
   "source": [
    "def fit_velocity_v2(edge_data_matrix, \n",
    "                 sim_data, simIdx=0, \n",
    "                theta=np.linspace(-31, 82, 160), \n",
    "                ):\n",
    "    \"\"\"\n",
    "    for a chosen sim ID, fit least squares to all valid times in edge data, varying with position angle.\n",
    "    return matrix of size (n_theta x n_params), here n_params = 1\n",
    "    \"\"\"\n",
    "    \n",
    "    ntheta = len(theta)\n",
    "    \n",
    "    simID = sim_data[simIdx]\n",
    "    \n",
    "    tMinIdx, tMin, tMaxIdx, tMax = edut.getTMinTMax(edge_data_matrix, simIdx=simIdx)\n",
    "    \n",
    "    r_vals, theta_vals = edut.getRValues(edge_data_matrix, simIdx=simIdx, minStartIdx=0)\n",
    "    \n",
    "    # sim times (list all times)\n",
    "    all_times = np.linspace(2, 180, 90)\n",
    "    \n",
    "    # filter based on tMinIdx and tMaxIdx\n",
    "    valid_times = all_times[tMinIdx:(tMaxIdx + 1)]\n",
    "    \n",
    "    valid_time_idx = np.array([np.where(all_times == i)[0][0] for i in valid_times])\n",
    "    \n",
    "    # rescale valid_times\n",
    "    # convert time to hours from minutes\n",
    "    #     valid_times_hrs = valid_times / 60\n",
    "    valid_times_rs = (valid_times - tMin) / (tMax - tMin)\n",
    "    \n",
    "    lsq_params = np.zeros((ntheta, 1))\n",
    "    \n",
    "    r_vals_valid = r_vals[valid_time_idx, :]\n",
    "    \n",
    "    r0 = r_vals_valid[0, :]\n",
    "    \n",
    "    \n",
    "    t_train = valid_times_rs[1:]\n",
    "    r_train = r_vals_valid[1:, :] - r0\n",
    "    \n",
    "    r_pred = np.zeros(np.shape(r_vals_valid))\n",
    "    \n",
    "    r_pred[0, :] = r0\n",
    "    \n",
    "    for pa_idx, pa in enumerate(theta):\n",
    "        \n",
    "        res_lsq = np.linalg.lstsq(np.expand_dims(t_train, 1), r_train[:, pa_idx])[0]\n",
    "        \n",
    "        #         res_lsq = least_squares(lin_velocity_func,\n",
    "        #                                 x0,\n",
    "        #                                 loss=lsq_loss,\n",
    "        #                                 args=(t_train, r_train[:, pa_idx]),\n",
    "        #                                 bounds=(0, np.inf),\n",
    "        #                                 verbose=0)\n",
    "\n",
    "\n",
    "        lsq_params[pa_idx, :] = res_lsq\n",
    "        #         r_pred[1:, pa_idx] = gen_velocities(t_train, *res_lsq.x) + r0[pa_idx]\n",
    "    \n",
    "        return lsq_params, r_pred, r_vals_valid"
   ]
  },
  {
   "cell_type": "code",
   "execution_count": 26,
   "metadata": {},
   "outputs": [],
   "source": [
    "# params_s0, r_pred_s0, r_vals_s0 = fit_velocity(ed_2161, sd_2161, simIdx=0, lsq_loss=\"linear\")"
   ]
  },
  {
   "cell_type": "code",
   "execution_count": 27,
   "metadata": {},
   "outputs": [],
   "source": [
    "# params_s0"
   ]
  },
  {
   "cell_type": "code",
   "execution_count": 28,
   "metadata": {},
   "outputs": [
    {
     "data": {
      "text/plain": [
       "(262,)"
      ]
     },
     "execution_count": 28,
     "metadata": {},
     "output_type": "execute_result"
    }
   ],
   "source": [
    "orig_sd_idx = np.array([np.where(sd_2161 == i)[0][0] for i in sd_modified])\n",
    "orig_sd_idx.shape"
   ]
  },
  {
   "cell_type": "code",
   "execution_count": 29,
   "metadata": {
    "scrolled": true
   },
   "outputs": [],
   "source": [
    "# c1_params_v2 = np.zeros((160, 1, len(sd_modified)))\n",
    "# for i in range(len(sd_modified)):\n",
    "#     params_sheeley, r_pred_sheeley, r_vals_sheeley = fit_velocity_v2(ed_2161, \n",
    "#                                                                   sd_2161, \n",
    "#                                                                   simIdx=orig_sd_idx[i], \n",
    "#                                                                   )\n",
    "    \n",
    "#     c1_params_v2[:, :, i] = params_sheeley\n",
    "# # #     edut.plotTrainPredData1Model(r_vals_sheeley, r_pred_sheeley, ed_2161, sd_modified, simIdx=i, \n",
    "# # #                                   savefig=True,\n",
    "# # #                                   savedir=\"./linear_velocity_fit_all_sims\"\n",
    "# # #                                  )"
   ]
  },
  {
   "cell_type": "code",
   "execution_count": 30,
   "metadata": {},
   "outputs": [],
   "source": [
    "# np.save(\"c1_least_squares_correct_linfit.npy\", c1_params_v2)"
   ]
  },
  {
   "cell_type": "code",
   "execution_count": 31,
   "metadata": {},
   "outputs": [],
   "source": [
    "c1_params = np.load(\"c1_least_squares_correct.npy\") # fitted with non-linear alg\n",
    "# c1_params = np.load(\"c1_least_squares_correct_linfit.npy\") # fitted with linear lstsq, which is probably better"
   ]
  },
  {
   "cell_type": "code",
   "execution_count": 32,
   "metadata": {},
   "outputs": [
    {
     "data": {
      "text/plain": [
       "(160, 1, 262)"
      ]
     },
     "execution_count": 32,
     "metadata": {},
     "output_type": "execute_result"
    }
   ],
   "source": [
    "c1_params.shape"
   ]
  },
  {
   "cell_type": "code",
   "execution_count": null,
   "metadata": {},
   "outputs": [],
   "source": []
  },
  {
   "cell_type": "code",
   "execution_count": 33,
   "metadata": {},
   "outputs": [],
   "source": [
    "def getDataForLinearFit(edge_data_matrix, \n",
    "                 sim_data, simIdx=0, \n",
    "                theta=np.linspace(-31, 82, 160)):\n",
    "    ntheta = len(theta)\n",
    "    \n",
    "    simID = sim_data[simIdx]\n",
    "    \n",
    "    tMinIdx, tMin, tMaxIdx, tMax = edut.getTMinTMax(edge_data_matrix, simIdx=simIdx)\n",
    "    \n",
    "    r_vals, theta_vals = edut.getRValues(edge_data_matrix, simIdx=simIdx, minStartIdx=0)\n",
    "    \n",
    "    # sim times (list all times)\n",
    "    all_times = np.linspace(2, 180, 90)\n",
    "    \n",
    "    # filter based on tMinIdx and tMaxIdx\n",
    "    valid_times = all_times[tMinIdx:(tMaxIdx + 1)]\n",
    "    \n",
    "    valid_time_idx = np.array([np.where(all_times == i)[0][0] for i in valid_times])\n",
    "    \n",
    "    # rescale valid_times\n",
    "    # convert time to hours from minutes\n",
    "    #     valid_times_hrs = valid_times / 60\n",
    "    valid_times_rs = (valid_times - tMin) / (tMax - tMin)\n",
    "    \n",
    "    r_vals_valid = r_vals[valid_time_idx, :]\n",
    "\n",
    "    r0 = r_vals_valid[0, :]\n",
    "\n",
    "\n",
    "    t_train = valid_times_rs[1:]\n",
    "    r_train = r_vals_valid[1:, :] - r0\n",
    "\n",
    "    return r_train, t_train"
   ]
  },
  {
   "cell_type": "code",
   "execution_count": 34,
   "metadata": {},
   "outputs": [],
   "source": [
    "r_train203, t_train203 = getDataForLinearFit(ed_2161, sd_2161, simIdx=159)"
   ]
  },
  {
   "cell_type": "code",
   "execution_count": null,
   "metadata": {},
   "outputs": [],
   "source": []
  },
  {
   "cell_type": "code",
   "execution_count": 35,
   "metadata": {},
   "outputs": [],
   "source": [
    "# for sidx, sid in enumerate(sd_modified):\n",
    "#     plt.plot(np.linspace(-31, 82, 160), np.squeeze(c1_params)[:, sidx], label=\"\")\n",
    "#     plt.xlabel(\"phi\")\n",
    "#     plt.xlim((-31, 82))\n",
    "#     plt.title(\"Sim {} c1\".format(sid))\n",
    "#     plt.savefig(os.path.join(\"c1_figs\", \"Sim_{:03d}_c1.png\".format(sid)))\n",
    "#     plt.close()"
   ]
  },
  {
   "cell_type": "code",
   "execution_count": 36,
   "metadata": {
    "scrolled": false
   },
   "outputs": [
    {
     "data": {
      "text/plain": [
       "Text(0.5, 1.0, 'c1 selected')"
      ]
     },
     "execution_count": 36,
     "metadata": {},
     "output_type": "execute_result"
    },
    {
     "data": {
      "image/png": "[encoded data removed]",
      "text/plain": [
       "<Figure size 2700x900 with 1 Axes>"
      ]
     },
     "metadata": {},
     "output_type": "display_data"
    }
   ],
   "source": [
    "plt.plot(np.linspace(-31, 82, 160), np.squeeze(c1_params)[:, 0], label=\"\")\n",
    "plt.plot(np.linspace(-31, 82, 160), np.squeeze(c1_params)[:, 1], label=\"\")\n",
    "plt.plot(np.linspace(-31, 82, 160), np.squeeze(c1_params)[:, 20], label=\"\")\n",
    "plt.xlabel(\"theta\")\n",
    "plt.xlim((-31, 82))\n",
    "plt.title(\"c1 selected\")"
   ]
  },
  {
   "cell_type": "markdown",
   "metadata": {},
   "source": [
    "#### Load CME Parameters"
   ]
  },
  {
   "cell_type": "code",
   "execution_count": 37,
   "metadata": {},
   "outputs": [
    {
     "data": {
      "text/html": [
       "<div>\n",
       "<style scoped>\n",
       "    .dataframe tbody tr th:only-of-type {\n",
       "        vertical-align: middle;\n",
       "    }\n",
       "\n",
       "    .dataframe tbody tr th {\n",
       "        vertical-align: top;\n",
       "    }\n",
       "\n",
       "    .dataframe thead th {\n",
       "        text-align: right;\n",
       "    }\n",
       "</style>\n",
       "<table border=\"1\" class=\"dataframe\">\n",
       "  <thead>\n",
       "    <tr style=\"text-align: right;\">\n",
       "      <th></th>\n",
       "      <th>Radius</th>\n",
       "      <th>BStrength</th>\n",
       "      <th>ApexHeight</th>\n",
       "      <th>OrientationCme</th>\n",
       "      <th>iHelicity</th>\n",
       "      <th>restartdir</th>\n",
       "      <th>realization</th>\n",
       "    </tr>\n",
       "  </thead>\n",
       "  <tbody>\n",
       "    <tr>\n",
       "      <th>0</th>\n",
       "      <td>0.58375</td>\n",
       "      <td>22.526622</td>\n",
       "      <td>0.682075</td>\n",
       "      <td>204.725</td>\n",
       "      <td>1</td>\n",
       "      <td>4</td>\n",
       "      <td>4</td>\n",
       "    </tr>\n",
       "    <tr>\n",
       "      <th>1</th>\n",
       "      <td>0.52625</td>\n",
       "      <td>6.919483</td>\n",
       "      <td>0.519179</td>\n",
       "      <td>164.225</td>\n",
       "      <td>1</td>\n",
       "      <td>4</td>\n",
       "      <td>4</td>\n",
       "    </tr>\n",
       "    <tr>\n",
       "      <th>2</th>\n",
       "      <td>0.72625</td>\n",
       "      <td>5.087500</td>\n",
       "      <td>0.662022</td>\n",
       "      <td>233.975</td>\n",
       "      <td>1</td>\n",
       "      <td>4</td>\n",
       "      <td>4</td>\n",
       "    </tr>\n",
       "    <tr>\n",
       "      <th>3</th>\n",
       "      <td>0.36125</td>\n",
       "      <td>18.360770</td>\n",
       "      <td>0.420743</td>\n",
       "      <td>200.675</td>\n",
       "      <td>-1</td>\n",
       "      <td>4</td>\n",
       "      <td>4</td>\n",
       "    </tr>\n",
       "    <tr>\n",
       "      <th>4</th>\n",
       "      <td>0.69125</td>\n",
       "      <td>8.127120</td>\n",
       "      <td>0.735101</td>\n",
       "      <td>184.925</td>\n",
       "      <td>1</td>\n",
       "      <td>4</td>\n",
       "      <td>4</td>\n",
       "    </tr>\n",
       "  </tbody>\n",
       "</table>\n",
       "</div>"
      ],
      "text/plain": [
       "    Radius  BStrength  ApexHeight  OrientationCme  iHelicity  restartdir  \\\n",
       "0  0.58375  22.526622    0.682075         204.725          1           4   \n",
       "1  0.52625   6.919483    0.519179         164.225          1           4   \n",
       "2  0.72625   5.087500    0.662022         233.975          1           4   \n",
       "3  0.36125  18.360770    0.420743         200.675         -1           4   \n",
       "4  0.69125   8.127120    0.735101         184.925          1           4   \n",
       "\n",
       "   realization  \n",
       "0            4  \n",
       "1            4  \n",
       "2            4  \n",
       "3            4  \n",
       "4            4  "
      ]
     },
     "execution_count": 37,
     "metadata": {},
     "output_type": "execute_result"
    }
   ],
   "source": [
    "cme_params = pd.read_csv(\"./restarts_CR2161.csv\")\n",
    "cme_params.head()"
   ]
  },
  {
   "cell_type": "code",
   "execution_count": 38,
   "metadata": {},
   "outputs": [],
   "source": [
    "bg_params = pd.read_csv(\"./backgrounds_CR2161.csv\")"
   ]
  },
  {
   "cell_type": "code",
   "execution_count": 39,
   "metadata": {},
   "outputs": [
    {
     "data": {
      "text/plain": [
       "array([ 4, 12])"
      ]
     },
     "execution_count": 39,
     "metadata": {},
     "output_type": "execute_result"
    }
   ],
   "source": [
    "unique_bg = cme_params.restartdir.unique()\n",
    "unique_bg"
   ]
  },
  {
   "cell_type": "code",
   "execution_count": 40,
   "metadata": {},
   "outputs": [],
   "source": [
    "cme_param_bg_idx = []\n",
    "for bg in unique_bg:\n",
    "    cme_param_bg_idx.append(np.array((cme_params.restartdir == bg).to_list()))"
   ]
  },
  {
   "cell_type": "code",
   "execution_count": 41,
   "metadata": {},
   "outputs": [
    {
     "data": {
      "text/html": [
       "<div>\n",
       "<style scoped>\n",
       "    .dataframe tbody tr th:only-of-type {\n",
       "        vertical-align: middle;\n",
       "    }\n",
       "\n",
       "    .dataframe tbody tr th {\n",
       "        vertical-align: top;\n",
       "    }\n",
       "\n",
       "    .dataframe thead th {\n",
       "        text-align: right;\n",
       "    }\n",
       "</style>\n",
       "<table border=\"1\" class=\"dataframe\">\n",
       "  <thead>\n",
       "    <tr style=\"text-align: right;\">\n",
       "      <th></th>\n",
       "      <th>Radius</th>\n",
       "      <th>BStrength</th>\n",
       "      <th>ApexHeight</th>\n",
       "      <th>OrientationCme</th>\n",
       "      <th>iHelicity</th>\n",
       "      <th>realization</th>\n",
       "      <th>FactorB0</th>\n",
       "      <th>PoyntingFluxPerBSi</th>\n",
       "      <th>LperpTimesSqrtBSi</th>\n",
       "    </tr>\n",
       "  </thead>\n",
       "  <tbody>\n",
       "    <tr>\n",
       "      <th>0</th>\n",
       "      <td>0.58375</td>\n",
       "      <td>22.526622</td>\n",
       "      <td>0.682075</td>\n",
       "      <td>204.725</td>\n",
       "      <td>1</td>\n",
       "      <td>4</td>\n",
       "      <td>0.8010</td>\n",
       "      <td>378833.7</td>\n",
       "      <td>147856.5</td>\n",
       "    </tr>\n",
       "    <tr>\n",
       "      <th>1</th>\n",
       "      <td>0.52625</td>\n",
       "      <td>6.919483</td>\n",
       "      <td>0.519179</td>\n",
       "      <td>164.225</td>\n",
       "      <td>1</td>\n",
       "      <td>4</td>\n",
       "      <td>0.8010</td>\n",
       "      <td>378833.7</td>\n",
       "      <td>147856.5</td>\n",
       "    </tr>\n",
       "    <tr>\n",
       "      <th>2</th>\n",
       "      <td>0.72625</td>\n",
       "      <td>5.087500</td>\n",
       "      <td>0.662022</td>\n",
       "      <td>233.975</td>\n",
       "      <td>1</td>\n",
       "      <td>4</td>\n",
       "      <td>0.8010</td>\n",
       "      <td>378833.7</td>\n",
       "      <td>147856.5</td>\n",
       "    </tr>\n",
       "    <tr>\n",
       "      <th>3</th>\n",
       "      <td>0.36125</td>\n",
       "      <td>18.360770</td>\n",
       "      <td>0.420743</td>\n",
       "      <td>200.675</td>\n",
       "      <td>-1</td>\n",
       "      <td>4</td>\n",
       "      <td>0.8010</td>\n",
       "      <td>378833.7</td>\n",
       "      <td>147856.5</td>\n",
       "    </tr>\n",
       "    <tr>\n",
       "      <th>4</th>\n",
       "      <td>0.69125</td>\n",
       "      <td>8.127120</td>\n",
       "      <td>0.735101</td>\n",
       "      <td>184.925</td>\n",
       "      <td>1</td>\n",
       "      <td>4</td>\n",
       "      <td>0.8010</td>\n",
       "      <td>378833.7</td>\n",
       "      <td>147856.5</td>\n",
       "    </tr>\n",
       "    <tr>\n",
       "      <th>...</th>\n",
       "      <td>...</td>\n",
       "      <td>...</td>\n",
       "      <td>...</td>\n",
       "      <td>...</td>\n",
       "      <td>...</td>\n",
       "      <td>...</td>\n",
       "      <td>...</td>\n",
       "      <td>...</td>\n",
       "      <td>...</td>\n",
       "    </tr>\n",
       "    <tr>\n",
       "      <th>294</th>\n",
       "      <td>0.73750</td>\n",
       "      <td>15.331483</td>\n",
       "      <td>0.721367</td>\n",
       "      <td>170.750</td>\n",
       "      <td>-1</td>\n",
       "      <td>5</td>\n",
       "      <td>1.3016</td>\n",
       "      <td>304514.4</td>\n",
       "      <td>283042.3</td>\n",
       "    </tr>\n",
       "    <tr>\n",
       "      <th>295</th>\n",
       "      <td>0.36250</td>\n",
       "      <td>32.665259</td>\n",
       "      <td>0.436133</td>\n",
       "      <td>197.750</td>\n",
       "      <td>-1</td>\n",
       "      <td>5</td>\n",
       "      <td>1.3016</td>\n",
       "      <td>304514.4</td>\n",
       "      <td>283042.3</td>\n",
       "    </tr>\n",
       "    <tr>\n",
       "      <th>296</th>\n",
       "      <td>0.46250</td>\n",
       "      <td>26.757500</td>\n",
       "      <td>0.443711</td>\n",
       "      <td>224.750</td>\n",
       "      <td>1</td>\n",
       "      <td>5</td>\n",
       "      <td>1.3016</td>\n",
       "      <td>304514.4</td>\n",
       "      <td>283042.3</td>\n",
       "    </tr>\n",
       "    <tr>\n",
       "      <th>297</th>\n",
       "      <td>0.76250</td>\n",
       "      <td>16.930533</td>\n",
       "      <td>0.874492</td>\n",
       "      <td>215.750</td>\n",
       "      <td>-1</td>\n",
       "      <td>5</td>\n",
       "      <td>1.3016</td>\n",
       "      <td>304514.4</td>\n",
       "      <td>283042.3</td>\n",
       "    </tr>\n",
       "    <tr>\n",
       "      <th>298</th>\n",
       "      <td>0.61250</td>\n",
       "      <td>21.948929</td>\n",
       "      <td>0.553164</td>\n",
       "      <td>188.750</td>\n",
       "      <td>1</td>\n",
       "      <td>5</td>\n",
       "      <td>1.3016</td>\n",
       "      <td>304514.4</td>\n",
       "      <td>283042.3</td>\n",
       "    </tr>\n",
       "  </tbody>\n",
       "</table>\n",
       "<p>278 rows × 9 columns</p>\n",
       "</div>"
      ],
      "text/plain": [
       "      Radius  BStrength  ApexHeight  OrientationCme  iHelicity  realization  \\\n",
       "0    0.58375  22.526622    0.682075         204.725          1            4   \n",
       "1    0.52625   6.919483    0.519179         164.225          1            4   \n",
       "2    0.72625   5.087500    0.662022         233.975          1            4   \n",
       "3    0.36125  18.360770    0.420743         200.675         -1            4   \n",
       "4    0.69125   8.127120    0.735101         184.925          1            4   \n",
       "..       ...        ...         ...             ...        ...          ...   \n",
       "294  0.73750  15.331483    0.721367         170.750         -1            5   \n",
       "295  0.36250  32.665259    0.436133         197.750         -1            5   \n",
       "296  0.46250  26.757500    0.443711         224.750          1            5   \n",
       "297  0.76250  16.930533    0.874492         215.750         -1            5   \n",
       "298  0.61250  21.948929    0.553164         188.750          1            5   \n",
       "\n",
       "     FactorB0  PoyntingFluxPerBSi  LperpTimesSqrtBSi  \n",
       "0      0.8010            378833.7           147856.5  \n",
       "1      0.8010            378833.7           147856.5  \n",
       "2      0.8010            378833.7           147856.5  \n",
       "3      0.8010            378833.7           147856.5  \n",
       "4      0.8010            378833.7           147856.5  \n",
       "..        ...                 ...                ...  \n",
       "294    1.3016            304514.4           283042.3  \n",
       "295    1.3016            304514.4           283042.3  \n",
       "296    1.3016            304514.4           283042.3  \n",
       "297    1.3016            304514.4           283042.3  \n",
       "298    1.3016            304514.4           283042.3  \n",
       "\n",
       "[278 rows x 9 columns]"
      ]
     },
     "execution_count": 41,
     "metadata": {},
     "output_type": "execute_result"
    }
   ],
   "source": [
    "bg_params_to_insert = np.zeros((cme_params.shape[0], bg_params.shape[1]))\n",
    "for bg_idx, bg in enumerate(unique_bg):\n",
    "    bg_params_to_insert[cme_param_bg_idx[bg_idx], 0] = bg_params.FactorB0[bg - 1]\n",
    "    bg_params_to_insert[cme_param_bg_idx[bg_idx], 1] = bg_params.PoyntingFluxPerBSi[bg - 1]\n",
    "    bg_params_to_insert[cme_param_bg_idx[bg_idx], 2] = bg_params.LperpTimesSqrtBSi[bg - 1]\n",
    "\n",
    "cme_params[\"FactorB0\"] = pd.Series(bg_params_to_insert[:, 0])\n",
    "cme_params[\"PoyntingFluxPerBSi\"] = pd.Series(bg_params_to_insert[:, 1])\n",
    "cme_params[\"LperpTimesSqrtBSi\"] = pd.Series(bg_params_to_insert[:, 2])\n",
    "cme_params[\"SimID\"] = pd.Series(np.linspace(31, 330, 300))\n",
    "sim_idx_successful = sd_2161 - 30 - 1\n",
    "sim_idx_to_drop = np.setdiff1d(np.linspace(0, 299, 300), sim_idx_successful).astype(int).tolist()\n",
    "\n",
    "\n",
    "cme_params.drop([\"restartdir\"], axis=1, inplace=True)\n",
    "cme_params.drop(sim_idx_to_drop, inplace=True)\n",
    "cme_params.drop([\"SimID\"], axis=1, inplace=True)\n",
    "cme_params"
   ]
  },
  {
   "cell_type": "code",
   "execution_count": 42,
   "metadata": {},
   "outputs": [
    {
     "data": {
      "text/plain": [
       "Radius                     0.3000\n",
       "BStrength                  4.4516\n",
       "ApexHeight                 0.2625\n",
       "OrientationCme           155.0000\n",
       "iHelicity                 -1.0000\n",
       "realization                1.0000\n",
       "FactorB0                   0.5400\n",
       "PoyntingFluxPerBSi    300000.0000\n",
       "LperpTimesSqrtBSi      30000.0000\n",
       "dtype: float64"
      ]
     },
     "execution_count": 42,
     "metadata": {},
     "output_type": "execute_result"
    }
   ],
   "source": [
    "cme_p_min = cme_params.min()\n",
    "cme_p_min.BStrength = 4.4516\n",
    "cme_p_min.Radius = 0.3\n",
    "cme_p_min.OrientationCme = 155\n",
    "cme_p_min.iHelicity = -1\n",
    "cme_p_min.ApexHeight = 0.2625\n",
    "cme_p_min.realization = 1\n",
    "cme_p_min.FactorB0 = 0.54\n",
    "cme_p_min.PoyntingFluxPerBSi = 0.3e6\n",
    "cme_p_min.LperpTimesSqrtBSi = 0.3e5\n",
    "\n",
    "cme_p_min"
   ]
  },
  {
   "cell_type": "code",
   "execution_count": 43,
   "metadata": {},
   "outputs": [
    {
     "data": {
      "text/plain": [
       "Radius                8.000000e-01\n",
       "BStrength             4.748330e+01\n",
       "ApexHeight            1.000000e+00\n",
       "OrientationCme        2.450000e+02\n",
       "iHelicity             1.000000e+00\n",
       "realization           1.200000e+01\n",
       "FactorB0              2.700000e+00\n",
       "PoyntingFluxPerBSi    1.100000e+06\n",
       "LperpTimesSqrtBSi     3.000000e+05\n",
       "dtype: float64"
      ]
     },
     "execution_count": 43,
     "metadata": {},
     "output_type": "execute_result"
    }
   ],
   "source": [
    "cme_p_max = cme_params.max()\n",
    "cme_p_max.BStrength = 47.4833\n",
    "cme_p_max.Radius = 0.8\n",
    "cme_p_max.OrientationCme = 245\n",
    "cme_p_max.iHelicity = 1\n",
    "cme_p_max.ApexHeight = 1\n",
    "cme_p_max.realization = 12\n",
    "cme_p_max.FactorB0 = 2.7\n",
    "cme_p_max.PoyntingFluxPerBSi = 1.1e6\n",
    "cme_p_max.LperpTimesSqrtBSi = 3e5\n",
    "\n",
    "cme_p_max"
   ]
  },
  {
   "cell_type": "code",
   "execution_count": 44,
   "metadata": {},
   "outputs": [
    {
     "data": {
      "text/html": [
       "<div>\n",
       "<style scoped>\n",
       "    .dataframe tbody tr th:only-of-type {\n",
       "        vertical-align: middle;\n",
       "    }\n",
       "\n",
       "    .dataframe tbody tr th {\n",
       "        vertical-align: top;\n",
       "    }\n",
       "\n",
       "    .dataframe thead th {\n",
       "        text-align: right;\n",
       "    }\n",
       "</style>\n",
       "<table border=\"1\" class=\"dataframe\">\n",
       "  <thead>\n",
       "    <tr style=\"text-align: right;\">\n",
       "      <th></th>\n",
       "      <th>Radius</th>\n",
       "      <th>BStrength</th>\n",
       "      <th>ApexHeight</th>\n",
       "      <th>OrientationCme</th>\n",
       "      <th>iHelicity</th>\n",
       "      <th>realization</th>\n",
       "      <th>FactorB0</th>\n",
       "      <th>PoyntingFluxPerBSi</th>\n",
       "      <th>LperpTimesSqrtBSi</th>\n",
       "    </tr>\n",
       "  </thead>\n",
       "  <tbody>\n",
       "    <tr>\n",
       "      <th>0</th>\n",
       "      <td>0.5675</td>\n",
       "      <td>0.420040</td>\n",
       "      <td>0.568916</td>\n",
       "      <td>0.5525</td>\n",
       "      <td>1.0</td>\n",
       "      <td>0.272727</td>\n",
       "      <td>0.120833</td>\n",
       "      <td>0.098542</td>\n",
       "      <td>0.436506</td>\n",
       "    </tr>\n",
       "    <tr>\n",
       "      <th>1</th>\n",
       "      <td>0.4525</td>\n",
       "      <td>0.057350</td>\n",
       "      <td>0.348039</td>\n",
       "      <td>0.1025</td>\n",
       "      <td>1.0</td>\n",
       "      <td>0.272727</td>\n",
       "      <td>0.120833</td>\n",
       "      <td>0.098542</td>\n",
       "      <td>0.436506</td>\n",
       "    </tr>\n",
       "    <tr>\n",
       "      <th>2</th>\n",
       "      <td>0.8525</td>\n",
       "      <td>0.014777</td>\n",
       "      <td>0.541725</td>\n",
       "      <td>0.8775</td>\n",
       "      <td>1.0</td>\n",
       "      <td>0.272727</td>\n",
       "      <td>0.120833</td>\n",
       "      <td>0.098542</td>\n",
       "      <td>0.436506</td>\n",
       "    </tr>\n",
       "    <tr>\n",
       "      <th>3</th>\n",
       "      <td>0.1225</td>\n",
       "      <td>0.323231</td>\n",
       "      <td>0.214567</td>\n",
       "      <td>0.5075</td>\n",
       "      <td>0.0</td>\n",
       "      <td>0.272727</td>\n",
       "      <td>0.120833</td>\n",
       "      <td>0.098542</td>\n",
       "      <td>0.436506</td>\n",
       "    </tr>\n",
       "    <tr>\n",
       "      <th>4</th>\n",
       "      <td>0.7825</td>\n",
       "      <td>0.085414</td>\n",
       "      <td>0.640815</td>\n",
       "      <td>0.3325</td>\n",
       "      <td>1.0</td>\n",
       "      <td>0.272727</td>\n",
       "      <td>0.120833</td>\n",
       "      <td>0.098542</td>\n",
       "      <td>0.436506</td>\n",
       "    </tr>\n",
       "    <tr>\n",
       "      <th>...</th>\n",
       "      <td>...</td>\n",
       "      <td>...</td>\n",
       "      <td>...</td>\n",
       "      <td>...</td>\n",
       "      <td>...</td>\n",
       "      <td>...</td>\n",
       "      <td>...</td>\n",
       "      <td>...</td>\n",
       "      <td>...</td>\n",
       "    </tr>\n",
       "    <tr>\n",
       "      <th>294</th>\n",
       "      <td>0.8750</td>\n",
       "      <td>0.252834</td>\n",
       "      <td>0.622193</td>\n",
       "      <td>0.1750</td>\n",
       "      <td>0.0</td>\n",
       "      <td>0.363636</td>\n",
       "      <td>0.352593</td>\n",
       "      <td>0.005643</td>\n",
       "      <td>0.937194</td>\n",
       "    </tr>\n",
       "    <tr>\n",
       "      <th>295</th>\n",
       "      <td>0.1250</td>\n",
       "      <td>0.655648</td>\n",
       "      <td>0.235434</td>\n",
       "      <td>0.4750</td>\n",
       "      <td>0.0</td>\n",
       "      <td>0.363636</td>\n",
       "      <td>0.352593</td>\n",
       "      <td>0.005643</td>\n",
       "      <td>0.937194</td>\n",
       "    </tr>\n",
       "    <tr>\n",
       "      <th>296</th>\n",
       "      <td>0.3250</td>\n",
       "      <td>0.518360</td>\n",
       "      <td>0.245710</td>\n",
       "      <td>0.7750</td>\n",
       "      <td>1.0</td>\n",
       "      <td>0.363636</td>\n",
       "      <td>0.352593</td>\n",
       "      <td>0.005643</td>\n",
       "      <td>0.937194</td>\n",
       "    </tr>\n",
       "    <tr>\n",
       "      <th>297</th>\n",
       "      <td>0.9250</td>\n",
       "      <td>0.289994</td>\n",
       "      <td>0.829820</td>\n",
       "      <td>0.6750</td>\n",
       "      <td>0.0</td>\n",
       "      <td>0.363636</td>\n",
       "      <td>0.352593</td>\n",
       "      <td>0.005643</td>\n",
       "      <td>0.937194</td>\n",
       "    </tr>\n",
       "    <tr>\n",
       "      <th>298</th>\n",
       "      <td>0.6250</td>\n",
       "      <td>0.406615</td>\n",
       "      <td>0.394121</td>\n",
       "      <td>0.3750</td>\n",
       "      <td>1.0</td>\n",
       "      <td>0.363636</td>\n",
       "      <td>0.352593</td>\n",
       "      <td>0.005643</td>\n",
       "      <td>0.937194</td>\n",
       "    </tr>\n",
       "  </tbody>\n",
       "</table>\n",
       "<p>278 rows × 9 columns</p>\n",
       "</div>"
      ],
      "text/plain": [
       "     Radius  BStrength  ApexHeight  OrientationCme  iHelicity  realization  \\\n",
       "0    0.5675   0.420040    0.568916          0.5525        1.0     0.272727   \n",
       "1    0.4525   0.057350    0.348039          0.1025        1.0     0.272727   \n",
       "2    0.8525   0.014777    0.541725          0.8775        1.0     0.272727   \n",
       "3    0.1225   0.323231    0.214567          0.5075        0.0     0.272727   \n",
       "4    0.7825   0.085414    0.640815          0.3325        1.0     0.272727   \n",
       "..      ...        ...         ...             ...        ...          ...   \n",
       "294  0.8750   0.252834    0.622193          0.1750        0.0     0.363636   \n",
       "295  0.1250   0.655648    0.235434          0.4750        0.0     0.363636   \n",
       "296  0.3250   0.518360    0.245710          0.7750        1.0     0.363636   \n",
       "297  0.9250   0.289994    0.829820          0.6750        0.0     0.363636   \n",
       "298  0.6250   0.406615    0.394121          0.3750        1.0     0.363636   \n",
       "\n",
       "     FactorB0  PoyntingFluxPerBSi  LperpTimesSqrtBSi  \n",
       "0    0.120833            0.098542           0.436506  \n",
       "1    0.120833            0.098542           0.436506  \n",
       "2    0.120833            0.098542           0.436506  \n",
       "3    0.120833            0.098542           0.436506  \n",
       "4    0.120833            0.098542           0.436506  \n",
       "..        ...                 ...                ...  \n",
       "294  0.352593            0.005643           0.937194  \n",
       "295  0.352593            0.005643           0.937194  \n",
       "296  0.352593            0.005643           0.937194  \n",
       "297  0.352593            0.005643           0.937194  \n",
       "298  0.352593            0.005643           0.937194  \n",
       "\n",
       "[278 rows x 9 columns]"
      ]
     },
     "execution_count": 44,
     "metadata": {},
     "output_type": "execute_result"
    }
   ],
   "source": [
    "cme_params_norm = (cme_params - cme_p_min) / (cme_p_max - cme_p_min)\n",
    "cme_params_norm"
   ]
  },
  {
   "cell_type": "code",
   "execution_count": 45,
   "metadata": {},
   "outputs": [
    {
     "data": {
      "text/plain": [
       "(278, 9)"
      ]
     },
     "execution_count": 45,
     "metadata": {},
     "output_type": "execute_result"
    }
   ],
   "source": [
    "cme_params_to_augment = cme_params_norm.to_numpy()\n",
    "cme_params_to_augment.shape"
   ]
  },
  {
   "cell_type": "markdown",
   "metadata": {},
   "source": [
    "**Split into train and test for GPs**"
   ]
  },
  {
   "cell_type": "code",
   "execution_count": 46,
   "metadata": {},
   "outputs": [
    {
     "data": {
      "text/plain": [
       "(157, 53, 52)"
      ]
     },
     "execution_count": 46,
     "metadata": {},
     "output_type": "execute_result"
    }
   ],
   "source": [
    "from numpy.random import Generator, PCG64\n",
    "rng = np.random.default_rng(2023)\n",
    "\n",
    "nTrain = int(np.floor(0.6 * len(sd_modified)))\n",
    "nCalib = int(np.floor(0.2 * len(sd_modified)))\n",
    "nTest = len(sd_modified) - nTrain - nCalib\n",
    "\n",
    "nTrain, nTest, nCalib"
   ]
  },
  {
   "cell_type": "code",
   "execution_count": 47,
   "metadata": {},
   "outputs": [
    {
     "data": {
      "text/plain": [
       "262"
      ]
     },
     "execution_count": 47,
     "metadata": {},
     "output_type": "execute_result"
    }
   ],
   "source": [
    "len(sd_modified)"
   ]
  },
  {
   "cell_type": "code",
   "execution_count": 48,
   "metadata": {},
   "outputs": [],
   "source": [
    "orig_sd_idx = np.array([np.where(sd_2161 == i)[0][0] for i in sd_modified])"
   ]
  },
  {
   "cell_type": "code",
   "execution_count": 49,
   "metadata": {},
   "outputs": [
    {
     "data": {
      "text/plain": [
       "(array([ 36,  41,  43,  48,  50,  70,  79,  81,  85,  89,  92,  94, 101,\n",
       "        114, 118, 119, 135, 140, 141, 151, 158, 164, 168, 169, 172, 174,\n",
       "        178, 180, 188, 200, 204, 206, 211, 213, 214, 224, 230, 240, 243,\n",
       "        246, 251, 254, 259, 261, 263, 267, 278, 288, 292, 307, 311, 320,\n",
       "        328]),\n",
       " array([ 31,  35,  44,  46,  56,  61,  76,  95,  98, 105, 122, 123, 127,\n",
       "        129, 143, 144, 146, 147, 153, 159, 175, 190, 194, 197, 205, 215,\n",
       "        225, 231, 236, 239, 248, 249, 252, 255, 257, 258, 269, 274, 279,\n",
       "        281, 284, 294, 298, 299, 302, 305, 306, 314, 316, 318, 319, 321]))"
      ]
     },
     "execution_count": 49,
     "metadata": {},
     "output_type": "execute_result"
    }
   ],
   "source": [
    "sd_train = np.sort(rng.choice(sd_modified, nTrain, replace=False))\n",
    "sd_test_calib = np.setdiff1d(sd_modified, sd_train)\n",
    "sd_calib = np.sort(rng.choice(sd_test_calib, nCalib, replace=False))\n",
    "sd_test = np.setdiff1d(sd_test_calib, sd_calib)\n",
    "\n",
    "sd_test, sd_calib"
   ]
  },
  {
   "cell_type": "code",
   "execution_count": 50,
   "metadata": {},
   "outputs": [],
   "source": [
    "train_sd_idx = np.array([np.where(sd_2161 == i)[0][0] for i in sd_train])\n",
    "test_sd_idx  = np.array([np.where(sd_2161 == i)[0][0] for i in sd_test])"
   ]
  },
  {
   "cell_type": "code",
   "execution_count": 51,
   "metadata": {},
   "outputs": [],
   "source": [
    "train_sd_idx_modified = np.array([np.where(sd_modified == i)[0][0] for i in sd_train])"
   ]
  },
  {
   "cell_type": "code",
   "execution_count": 52,
   "metadata": {},
   "outputs": [],
   "source": [
    "test_sd_idx_modified = np.array([np.where(sd_modified == i)[0][0] for i in sd_test])"
   ]
  },
  {
   "cell_type": "markdown",
   "metadata": {},
   "source": [
    "#### Process data"
   ]
  },
  {
   "cell_type": "code",
   "execution_count": 53,
   "metadata": {},
   "outputs": [],
   "source": [
    "theta_grid_scaled = (theta_grid[0::2] - theta_grid[0])/(theta_grid[-1] - theta_grid[0])"
   ]
  },
  {
   "cell_type": "code",
   "execution_count": 54,
   "metadata": {},
   "outputs": [],
   "source": [
    "theta_repeat = np.tile(theta_grid_scaled, len(train_sd_idx))"
   ]
  },
  {
   "cell_type": "markdown",
   "metadata": {},
   "source": [
    "Check indexing"
   ]
  },
  {
   "cell_type": "code",
   "execution_count": 55,
   "metadata": {},
   "outputs": [],
   "source": [
    "train_x_raw = cme_params_to_augment[train_sd_idx, :]\n",
    "test_x_raw = cme_params_to_augment[test_sd_idx, :]"
   ]
  },
  {
   "cell_type": "code",
   "execution_count": 56,
   "metadata": {},
   "outputs": [],
   "source": [
    "# train_x_raw.shape"
   ]
  },
  {
   "cell_type": "code",
   "execution_count": 57,
   "metadata": {},
   "outputs": [],
   "source": [
    "# train_x_repeat = np.repeat(train_x_raw, len(theta_grid_scaled), axis=0)\n",
    "# train_x_repeat.shape"
   ]
  },
  {
   "cell_type": "code",
   "execution_count": 58,
   "metadata": {},
   "outputs": [],
   "source": [
    "# test_x_repeat = np.repeat(test_x_raw, len(theta_grid_scaled), axis=0)\n",
    "# test_x_repeat.shape"
   ]
  },
  {
   "cell_type": "code",
   "execution_count": 59,
   "metadata": {},
   "outputs": [],
   "source": [
    "# train_x_final = np.c_[theta_repeat, train_x_repeat]"
   ]
  },
  {
   "cell_type": "code",
   "execution_count": 60,
   "metadata": {},
   "outputs": [],
   "source": [
    "# train_x_final.shape"
   ]
  },
  {
   "cell_type": "code",
   "execution_count": 61,
   "metadata": {},
   "outputs": [],
   "source": [
    "# train_x_torch = torch.tensor(np.float32(train_x_final)).to(device)"
   ]
  },
  {
   "cell_type": "code",
   "execution_count": 62,
   "metadata": {},
   "outputs": [],
   "source": [
    "# test_x_final = np.c_[np.tile(theta_grid_scaled, len(test_sd_idx)), test_x_repeat]"
   ]
  },
  {
   "cell_type": "code",
   "execution_count": 63,
   "metadata": {},
   "outputs": [],
   "source": [
    "# test_x_final.shape"
   ]
  },
  {
   "cell_type": "code",
   "execution_count": 64,
   "metadata": {},
   "outputs": [],
   "source": [
    "# test_x_torch = torch.tensor(np.float32(test_x_final)).to(device)"
   ]
  },
  {
   "cell_type": "code",
   "execution_count": 65,
   "metadata": {},
   "outputs": [],
   "source": [
    "# c1_params_2d = np.squeeze(c1_params)"
   ]
  },
  {
   "cell_type": "code",
   "execution_count": 66,
   "metadata": {},
   "outputs": [],
   "source": [
    "# train_y = c1_params_2d[0::2, train_sd_idx_modified].T.flatten()\n",
    "# train_y.shape"
   ]
  },
  {
   "cell_type": "code",
   "execution_count": 67,
   "metadata": {},
   "outputs": [],
   "source": [
    "# test_y = c1_params_2d[0::2, test_sd_idx_modified].T.flatten()\n",
    "# test_y.shape"
   ]
  },
  {
   "cell_type": "code",
   "execution_count": 68,
   "metadata": {},
   "outputs": [],
   "source": [
    "# train_y_torch = torch.tensor(np.float32(train_y)).to(device)"
   ]
  },
  {
   "cell_type": "code",
   "execution_count": 69,
   "metadata": {},
   "outputs": [],
   "source": [
    "# train_y_torch.shape"
   ]
  },
  {
   "cell_type": "code",
   "execution_count": 70,
   "metadata": {},
   "outputs": [],
   "source": [
    "# test_y_torch = torch.tensor(np.float32(test_y)).to(device)"
   ]
  },
  {
   "cell_type": "markdown",
   "metadata": {},
   "source": [
    "### Fit Polynomials"
   ]
  },
  {
   "cell_type": "markdown",
   "metadata": {},
   "source": [
    "Learn polynomial mapping between $c_1$ and flux rope parameters, then construct a GP using a small number of $c_1$ values and parameters. Alternately, learn the GP or a regular interpolator between the coefficients of the fitted polynomials and the flux rope parameters (eliminate dependence on position angle as an additional parameter)\n",
    "\n",
    "The previous data processing applies to GP. Here we (probably) don't need to `tile` for position angle! - we need to see what sort of assumptions we make about the coefficients though."
   ]
  },
  {
   "cell_type": "markdown",
   "metadata": {},
   "source": [
    "**Note**: Replacing vanilla polynomial fitting with Hermite, Chebyshev, etc."
   ]
  },
  {
   "cell_type": "code",
   "execution_count": 71,
   "metadata": {},
   "outputs": [],
   "source": [
    "from numpy.polynomial.hermite import hermfit, hermval\n",
    "from numpy.polynomial.legendre import legfit, legval\n",
    "from numpy.polynomial.laguerre import lagfit, lagval"
   ]
  },
  {
   "cell_type": "code",
   "execution_count": 72,
   "metadata": {},
   "outputs": [],
   "source": [
    "# train_x_final, test_x_final\n",
    "# train_y, test_y"
   ]
  },
  {
   "cell_type": "code",
   "execution_count": 73,
   "metadata": {},
   "outputs": [
    {
     "data": {
      "text/plain": [
       "(160, 1, 262)"
      ]
     },
     "execution_count": 73,
     "metadata": {},
     "output_type": "execute_result"
    }
   ],
   "source": [
    "c1_params.shape"
   ]
  },
  {
   "cell_type": "code",
   "execution_count": 74,
   "metadata": {},
   "outputs": [],
   "source": [
    "c1_params_final = np.squeeze(c1_params)"
   ]
  },
  {
   "cell_type": "code",
   "execution_count": 75,
   "metadata": {},
   "outputs": [
    {
     "data": {
      "text/plain": [
       "((157, 160), (53, 160))"
      ]
     },
     "execution_count": 75,
     "metadata": {},
     "output_type": "execute_result"
    }
   ],
   "source": [
    "c1_params_train = c1_params_final[:, train_sd_idx_modified].T\n",
    "c1_params_test  = c1_params_final[:, test_sd_idx_modified].T\n",
    "\n",
    "c1_params_train.shape, c1_params_test.shape"
   ]
  },
  {
   "cell_type": "code",
   "execution_count": 76,
   "metadata": {},
   "outputs": [
    {
     "data": {
      "text/plain": [
       "(157, 9)"
      ]
     },
     "execution_count": 76,
     "metadata": {},
     "output_type": "execute_result"
    }
   ],
   "source": [
    "train_x_raw.shape"
   ]
  },
  {
   "cell_type": "code",
   "execution_count": 77,
   "metadata": {},
   "outputs": [
    {
     "data": {
      "text/plain": [
       "(53, 9)"
      ]
     },
     "execution_count": 77,
     "metadata": {},
     "output_type": "execute_result"
    }
   ],
   "source": [
    "test_x_raw.shape"
   ]
  },
  {
   "cell_type": "code",
   "execution_count": 78,
   "metadata": {},
   "outputs": [],
   "source": [
    "fit_deg = 6"
   ]
  },
  {
   "cell_type": "code",
   "execution_count": null,
   "metadata": {},
   "outputs": [],
   "source": []
  },
  {
   "cell_type": "code",
   "execution_count": 79,
   "metadata": {},
   "outputs": [],
   "source": [
    "def getPolyCoeffs(train_data, deg_to_fit, family=None):\n",
    "    polynomial_coeffs = np.zeros((deg_to_fit + 1, train_data.shape[0]))\n",
    "    if family is None:\n",
    "        for i in range(train_data.shape[0]):\n",
    "            polynomial_coeffs[:, i] = np.polyfit(theta_grid, train_data[i, :], deg=deg_to_fit)\n",
    "    elif family==\"hermite\":\n",
    "        for i in range(train_data.shape[0]):\n",
    "            polynomial_coeffs[:, i] = hermfit(theta_grid, train_data[i, :], deg=deg_to_fit)\n",
    "    elif family==\"legendre\":\n",
    "        for i in range(train_data.shape[0]):\n",
    "            polynomial_coeffs[:, i] = legfit(theta_grid, train_data[i, :], deg=deg_to_fit)\n",
    "    elif family==\"laguerre\":\n",
    "        for i in range(train_data.shape[0]):\n",
    "            polynomial_coeffs[:, i] = lagfit(theta_grid, train_data[i, :], deg=deg_to_fit)\n",
    "    \n",
    "    return polynomial_coeffs"
   ]
  },
  {
   "cell_type": "code",
   "execution_count": 80,
   "metadata": {},
   "outputs": [],
   "source": [
    "polynomial_coeffs_reg = getPolyCoeffs(c1_params_train, 6, family=None)\n",
    "\n",
    "# these are ordered from low to high\n",
    "polynomial_coeffs_her = getPolyCoeffs(c1_params_train, 6, family=\"hermite\")\n",
    "polynomial_coeffs_leg = getPolyCoeffs(c1_params_train, 6, family=\"legendre\")\n",
    "polynomial_coeffs_lag = getPolyCoeffs(c1_params_train, 6, family=\"laguerre\")"
   ]
  },
  {
   "cell_type": "code",
   "execution_count": 81,
   "metadata": {},
   "outputs": [],
   "source": [
    "polynomial_coeffs_reg_test = getPolyCoeffs(c1_params_test, 6, family=None)\n",
    "# these are ordered from low to high\n",
    "polynomial_coeffs_her_test = getPolyCoeffs(c1_params_test, 6, family=\"hermite\")\n",
    "polynomial_coeffs_leg_test = getPolyCoeffs(c1_params_test, 6, family=\"legendre\")\n",
    "polynomial_coeffs_lag_test = getPolyCoeffs(c1_params_test, 6, family=\"laguerre\")"
   ]
  },
  {
   "cell_type": "code",
   "execution_count": 82,
   "metadata": {},
   "outputs": [
    {
     "data": {
      "text/plain": [
       "((7, 157), (7, 53))"
      ]
     },
     "execution_count": 82,
     "metadata": {},
     "output_type": "execute_result"
    }
   ],
   "source": [
    "polynomial_coeffs_her.shape, polynomial_coeffs_her_test.shape"
   ]
  },
  {
   "cell_type": "code",
   "execution_count": 83,
   "metadata": {},
   "outputs": [],
   "source": [
    "def getPredPolyFit(poly_coeffs, x):\n",
    "    poly_sum = 0\n",
    "    deg = len(poly_coeffs) - 1\n",
    "    for i in range(len(poly_coeffs)):\n",
    "        poly_sum = poly_sum + poly_coeffs[i] * (x**(deg - i))\n",
    "        \n",
    "    return poly_sum"
   ]
  },
  {
   "cell_type": "code",
   "execution_count": 84,
   "metadata": {},
   "outputs": [],
   "source": [
    "def valPolyCoeffs(new_data, poly_coeffs, family=None):\n",
    "    if family is None:\n",
    "        poly_sum = getPredPolyFit(poly_coeffs, new_data)\n",
    "    elif family==\"hermite\":\n",
    "        poly_sum = hermval(new_data, poly_coeffs)\n",
    "    elif family==\"legendre\":\n",
    "        poly_sum = legval(new_data, poly_coeffs)\n",
    "    elif family==\"laguerre\":\n",
    "        poly_sum = lagval(new_data, poly_coeffs)\n",
    "    \n",
    "    return poly_sum"
   ]
  },
  {
   "cell_type": "code",
   "execution_count": 85,
   "metadata": {},
   "outputs": [],
   "source": [
    "# plot polynomial coefficients p0 p1 p2 p3\n",
    "# \n",
    "# fig = plt.figure()\n",
    "# for i in range(6):\n",
    "#     plt.subplot(2, 3, i + 1)\n",
    "#     plt.tight_layout()\n",
    "#     plt.scatter(np.linspace(1, 157, 157), polynomial_coeffs[i, :])\n",
    "#     plt.xlabel(\"Sim ID\")\n",
    "#     if i == 0:\n",
    "#         plt.ylabel(\"Coefficient\")\n",
    "#     plt.title(\"p{}\".format(5 - i))\n"
   ]
  },
  {
   "cell_type": "code",
   "execution_count": 86,
   "metadata": {},
   "outputs": [
    {
     "data": {
      "text/plain": [
       "(80,)"
      ]
     },
     "execution_count": 86,
     "metadata": {},
     "output_type": "execute_result"
    }
   ],
   "source": [
    "theta_grid_scaled.shape"
   ]
  },
  {
   "cell_type": "code",
   "execution_count": null,
   "metadata": {},
   "outputs": [],
   "source": [
    "# # plot to show fit (with selected points)\n",
    "\n",
    "# for i in range(len(sd_train)):\n",
    "#     plt.plot(np.linspace(-31, 82, 160), c1_params_train[i, :], label=\"true\")\n",
    "#     plt.plot(theta_grid[0::2], getPredPolyFit(polynomial_coeffs[:, i], theta_grid[0::2]), linestyle=\"--\", label=\"fit\")\n",
    "#     plt.xlabel(\"phi\")\n",
    "#     plt.ylabel(\"c1\")\n",
    "#     plt.xlim((-31, 82))\n",
    "#     plt.legend()\n",
    "#     plt.title(\"Sim {}\".format(sd_train[i]))\n",
    "#     plt.savefig(os.path.join(\"c1_polynomial_fit\", \"sim_{:03d}.png\".format(sd_train[i])))\n",
    "#     plt.close()"
   ]
  },
  {
   "cell_type": "markdown",
   "metadata": {},
   "source": [
    "_Interpolate polynomial coefficients as a function of flux rope parameters_ - this is _probably_ better. The dependence on position angle is not easy to account for as we saw the last time, and if we just take a few select angles, the interpolation especially of GP-style methods in between them may not be reliable.\n",
    "\n",
    "this is a safer 2 stage method. once we have predicted coefficients with confidence intervals, use them to generate predictions of $c_1$.\n",
    "\n",
    "**Multi-task GP** - correlated output dimensions, each output \"task\" (in our case, each polynomial coefficient) shares the same inputs $\\mu$.\n",
    "\n",
    "Reference: [GPyTorch Docs](https://docs.gpytorch.ai/en/stable/examples/03_Multitask_Exact_GPs/Multitask_GP_Regression.html)"
   ]
  },
  {
   "cell_type": "code",
   "execution_count": 88,
   "metadata": {},
   "outputs": [],
   "source": [
    "import scipy.interpolate\n",
    "\n",
    "import torch\n",
    "import gpytorch"
   ]
  },
  {
   "cell_type": "code",
   "execution_count": 89,
   "metadata": {},
   "outputs": [],
   "source": [
    "class MultitaskGPModel(gpytorch.models.ExactGP):\n",
    "    def __init__(self, tx, ty, lkl):\n",
    "        super(MultitaskGPModel, self).__init__(tx, ty, lkl)\n",
    "        self.mean_module = gpytorch.means.MultitaskMean(\n",
    "            gpytorch.means.ConstantMean(), num_tasks=7\n",
    "        )\n",
    "        self.covar_module = gpytorch.kernels.MultitaskKernel(\n",
    "            gpytorch.kernels.RBFKernel(), num_tasks=7, rank=1\n",
    "        )\n",
    "\n",
    "    def forward(self, x):\n",
    "        mean_x = self.mean_module(x)\n",
    "        covar_x = self.covar_module(x)\n",
    "        return gpytorch.distributions.MultitaskMultivariateNormal(mean_x, covar_x)"
   ]
  },
  {
   "cell_type": "code",
   "execution_count": 102,
   "metadata": {},
   "outputs": [
    {
     "name": "stdout",
     "output_type": "stream",
     "text": [
      "Iter 1/2000 - Loss: 1.850\n",
      "Iter 2/2000 - Loss: 1.807\n",
      "Iter 3/2000 - Loss: 1.766\n",
      "Iter 4/2000 - Loss: 1.727\n",
      "Iter 5/2000 - Loss: 1.690\n",
      "Iter 6/2000 - Loss: 1.654\n",
      "Iter 7/2000 - Loss: 1.619\n",
      "Iter 8/2000 - Loss: 1.586\n",
      "Iter 9/2000 - Loss: 1.553\n",
      "Iter 10/2000 - Loss: 1.520\n",
      "Iter 11/2000 - Loss: 1.488\n",
      "Iter 12/2000 - Loss: 1.456\n",
      "Iter 13/2000 - Loss: 1.424\n",
      "Iter 14/2000 - Loss: 1.391\n",
      "Iter 15/2000 - Loss: 1.359\n",
      "Iter 16/2000 - Loss: 1.326\n",
      "Iter 17/2000 - Loss: 1.294\n",
      "Iter 18/2000 - Loss: 1.261\n",
      "Iter 19/2000 - Loss: 1.227\n",
      "Iter 20/2000 - Loss: 1.195\n",
      "Iter 21/2000 - Loss: 1.162\n",
      "Iter 22/2000 - Loss: 1.130\n",
      "Iter 23/2000 - Loss: 1.099\n",
      "Iter 24/2000 - Loss: 1.068\n",
      "Iter 25/2000 - Loss: 1.038\n",
      "Iter 26/2000 - Loss: 1.009\n",
      "Iter 27/2000 - Loss: 0.981\n",
      "Iter 28/2000 - Loss: 0.953\n",
      "Iter 29/2000 - Loss: 0.926\n",
      "Iter 30/2000 - Loss: 0.900\n",
      "Iter 31/2000 - Loss: 0.874\n",
      "Iter 32/2000 - Loss: 0.848\n",
      "Iter 33/2000 - Loss: 0.822\n",
      "Iter 34/2000 - Loss: 0.796\n",
      "Iter 35/2000 - Loss: 0.770\n",
      "Iter 36/2000 - Loss: 0.744\n",
      "Iter 37/2000 - Loss: 0.718\n",
      "Iter 38/2000 - Loss: 0.692\n",
      "Iter 39/2000 - Loss: 0.666\n",
      "Iter 40/2000 - Loss: 0.640\n",
      "Iter 41/2000 - Loss: 0.613\n",
      "Iter 42/2000 - Loss: 0.587\n",
      "Iter 43/2000 - Loss: 0.562\n",
      "Iter 44/2000 - Loss: 0.536\n",
      "Iter 45/2000 - Loss: 0.510\n",
      "Iter 46/2000 - Loss: 0.485\n",
      "Iter 47/2000 - Loss: 0.460\n",
      "Iter 48/2000 - Loss: 0.434\n",
      "Iter 49/2000 - Loss: 0.409\n",
      "Iter 50/2000 - Loss: 0.384\n",
      "Iter 51/2000 - Loss: 0.359\n",
      "Iter 52/2000 - Loss: 0.334\n",
      "Iter 53/2000 - Loss: 0.309\n",
      "Iter 54/2000 - Loss: 0.284\n",
      "Iter 55/2000 - Loss: 0.259\n",
      "Iter 56/2000 - Loss: 0.234\n",
      "Iter 57/2000 - Loss: 0.209\n",
      "Iter 58/2000 - Loss: 0.183\n",
      "Iter 59/2000 - Loss: 0.158\n",
      "Iter 60/2000 - Loss: 0.133\n",
      "Iter 61/2000 - Loss: 0.108\n",
      "Iter 62/2000 - Loss: 0.083\n",
      "Iter 63/2000 - Loss: 0.059\n",
      "Iter 64/2000 - Loss: 0.034\n",
      "Iter 65/2000 - Loss: 0.009\n",
      "Iter 66/2000 - Loss: -0.016\n",
      "Iter 67/2000 - Loss: -0.041\n",
      "Iter 68/2000 - Loss: -0.065\n",
      "Iter 69/2000 - Loss: -0.090\n",
      "Iter 70/2000 - Loss: -0.115\n",
      "Iter 71/2000 - Loss: -0.139\n",
      "Iter 72/2000 - Loss: -0.164\n",
      "Iter 73/2000 - Loss: -0.188\n",
      "Iter 74/2000 - Loss: -0.213\n",
      "Iter 75/2000 - Loss: -0.237\n",
      "Iter 76/2000 - Loss: -0.261\n",
      "Iter 77/2000 - Loss: -0.286\n",
      "Iter 78/2000 - Loss: -0.310\n",
      "Iter 79/2000 - Loss: -0.334\n",
      "Iter 80/2000 - Loss: -0.358\n",
      "Iter 81/2000 - Loss: -0.383\n",
      "Iter 82/2000 - Loss: -0.407\n",
      "Iter 83/2000 - Loss: -0.431\n",
      "Iter 84/2000 - Loss: -0.455\n",
      "Iter 85/2000 - Loss: -0.479\n",
      "Iter 86/2000 - Loss: -0.503\n",
      "Iter 87/2000 - Loss: -0.527\n",
      "Iter 88/2000 - Loss: -0.551\n",
      "Iter 89/2000 - Loss: -0.574\n",
      "Iter 90/2000 - Loss: -0.598\n",
      "Iter 91/2000 - Loss: -0.622\n",
      "Iter 92/2000 - Loss: -0.645\n",
      "Iter 93/2000 - Loss: -0.669\n",
      "Iter 94/2000 - Loss: -0.692\n",
      "Iter 95/2000 - Loss: -0.716\n",
      "Iter 96/2000 - Loss: -0.739\n",
      "Iter 97/2000 - Loss: -0.762\n",
      "Iter 98/2000 - Loss: -0.786\n",
      "Iter 99/2000 - Loss: -0.809\n",
      "Iter 100/2000 - Loss: -0.831\n",
      "Iter 101/2000 - Loss: -0.854\n",
      "Iter 102/2000 - Loss: -0.878\n",
      "Iter 103/2000 - Loss: -0.900\n",
      "Iter 104/2000 - Loss: -0.923\n",
      "Iter 105/2000 - Loss: -0.945\n",
      "Iter 106/2000 - Loss: -0.968\n",
      "Iter 107/2000 - Loss: -0.991\n",
      "Iter 108/2000 - Loss: -1.013\n",
      "Iter 109/2000 - Loss: -1.036\n",
      "Iter 110/2000 - Loss: -1.058\n",
      "Iter 111/2000 - Loss: -1.079\n",
      "Iter 112/2000 - Loss: -1.101\n",
      "Iter 113/2000 - Loss: -1.123\n",
      "Iter 114/2000 - Loss: -1.145\n",
      "Iter 115/2000 - Loss: -1.167\n",
      "Iter 116/2000 - Loss: -1.188\n",
      "Iter 117/2000 - Loss: -1.209\n",
      "Iter 118/2000 - Loss: -1.231\n",
      "Iter 119/2000 - Loss: -1.252\n",
      "Iter 120/2000 - Loss: -1.273\n",
      "Iter 121/2000 - Loss: -1.293\n",
      "Iter 122/2000 - Loss: -1.314\n",
      "Iter 123/2000 - Loss: -1.335\n",
      "Iter 124/2000 - Loss: -1.356\n",
      "Iter 125/2000 - Loss: -1.375\n",
      "Iter 126/2000 - Loss: -1.395\n",
      "Iter 127/2000 - Loss: -1.415\n",
      "Iter 128/2000 - Loss: -1.435\n",
      "Iter 129/2000 - Loss: -1.455\n",
      "Iter 130/2000 - Loss: -1.474\n",
      "Iter 131/2000 - Loss: -1.493\n",
      "Iter 132/2000 - Loss: -1.512\n",
      "Iter 133/2000 - Loss: -1.530\n",
      "Iter 134/2000 - Loss: -1.548\n",
      "Iter 135/2000 - Loss: -1.567\n",
      "Iter 136/2000 - Loss: -1.585\n",
      "Iter 137/2000 - Loss: -1.602\n",
      "Iter 138/2000 - Loss: -1.618\n",
      "Iter 139/2000 - Loss: -1.636\n",
      "Iter 140/2000 - Loss: -1.655\n",
      "Iter 141/2000 - Loss: -1.670\n",
      "Iter 142/2000 - Loss: -1.688\n",
      "Iter 143/2000 - Loss: -1.705\n",
      "Iter 144/2000 - Loss: -1.720\n",
      "Iter 145/2000 - Loss: -1.736\n",
      "Iter 146/2000 - Loss: -1.750\n",
      "Iter 147/2000 - Loss: -1.765\n",
      "Iter 148/2000 - Loss: -1.782\n",
      "Iter 149/2000 - Loss: -1.796\n",
      "Iter 150/2000 - Loss: -1.812\n",
      "Iter 151/2000 - Loss: -1.825\n",
      "Iter 152/2000 - Loss: -1.838\n",
      "Iter 153/2000 - Loss: -1.853\n",
      "Iter 154/2000 - Loss: -1.864\n",
      "Iter 155/2000 - Loss: -1.878\n",
      "Iter 156/2000 - Loss: -1.893\n",
      "Iter 157/2000 - Loss: -1.905\n",
      "Iter 158/2000 - Loss: -1.917\n",
      "Iter 159/2000 - Loss: -1.928\n",
      "Iter 160/2000 - Loss: -1.939\n",
      "Iter 161/2000 - Loss: -1.952\n",
      "Iter 162/2000 - Loss: -1.963\n",
      "Iter 163/2000 - Loss: -1.973\n",
      "Iter 164/2000 - Loss: -1.983\n",
      "Iter 165/2000 - Loss: -1.995\n",
      "Iter 166/2000 - Loss: -2.007\n",
      "Iter 167/2000 - Loss: -2.015\n",
      "Iter 168/2000 - Loss: -2.023\n",
      "Iter 169/2000 - Loss: -2.030\n",
      "Iter 170/2000 - Loss: -2.042\n",
      "Iter 171/2000 - Loss: -2.053\n",
      "Iter 172/2000 - Loss: -2.059\n",
      "Iter 173/2000 - Loss: -2.066\n",
      "Iter 174/2000 - Loss: -2.073\n",
      "Iter 175/2000 - Loss: -2.085\n",
      "Iter 176/2000 - Loss: -2.094\n",
      "Iter 177/2000 - Loss: -2.099\n",
      "Iter 178/2000 - Loss: -2.103\n",
      "Iter 179/2000 - Loss: -2.107\n",
      "Iter 180/2000 - Loss: -2.120\n",
      "Iter 181/2000 - Loss: -2.129\n",
      "Iter 182/2000 - Loss: -2.132\n",
      "Iter 183/2000 - Loss: -2.135\n",
      "Iter 184/2000 - Loss: -2.143\n",
      "Iter 185/2000 - Loss: -2.154\n",
      "Iter 186/2000 - Loss: -2.160\n",
      "Iter 187/2000 - Loss: -2.162\n",
      "Iter 188/2000 - Loss: -2.167\n",
      "Iter 189/2000 - Loss: -2.172\n",
      "Iter 190/2000 - Loss: -2.176\n",
      "Iter 191/2000 - Loss: -2.175\n",
      "Iter 192/2000 - Loss: -2.174\n",
      "Iter 193/2000 - Loss: -2.192\n",
      "Iter 194/2000 - Loss: -2.195\n",
      "Iter 195/2000 - Loss: -2.187\n",
      "Iter 196/2000 - Loss: -2.206\n",
      "Iter 197/2000 - Loss: -2.210\n",
      "Iter 198/2000 - Loss: -2.203\n",
      "Iter 199/2000 - Loss: -2.214\n",
      "Iter 200/2000 - Loss: -2.218\n",
      "Iter 201/2000 - Loss: -2.220\n",
      "Iter 202/2000 - Loss: -2.227\n",
      "Iter 203/2000 - Loss: -2.234\n",
      "Iter 204/2000 - Loss: -2.231\n",
      "Iter 205/2000 - Loss: -2.234\n",
      "Iter 206/2000 - Loss: -2.235\n",
      "Iter 207/2000 - Loss: -2.239\n",
      "Iter 208/2000 - Loss: -2.249\n",
      "Iter 209/2000 - Loss: -2.246\n",
      "Iter 210/2000 - Loss: -2.249\n",
      "Iter 211/2000 - Loss: -2.251\n",
      "Iter 212/2000 - Loss: -2.255\n",
      "Iter 213/2000 - Loss: -2.263\n",
      "Iter 214/2000 - Loss: -2.264\n",
      "Iter 215/2000 - Loss: -2.262\n",
      "Iter 216/2000 - Loss: -2.268\n",
      "Iter 217/2000 - Loss: -2.272\n",
      "Iter 218/2000 - Loss: -2.276\n",
      "Iter 219/2000 - Loss: -2.278\n",
      "Iter 220/2000 - Loss: -2.280\n",
      "Iter 221/2000 - Loss: -2.283\n",
      "Iter 222/2000 - Loss: -2.284\n",
      "Iter 223/2000 - Loss: -2.281\n",
      "Iter 224/2000 - Loss: -2.283\n",
      "Iter 225/2000 - Loss: -2.292\n",
      "Iter 226/2000 - Loss: -2.296\n",
      "Iter 227/2000 - Loss: -2.293\n",
      "Iter 228/2000 - Loss: -2.293\n",
      "Iter 229/2000 - Loss: -2.298\n",
      "Iter 230/2000 - Loss: -2.302\n",
      "Iter 231/2000 - Loss: -2.301\n",
      "Iter 232/2000 - Loss: -2.300\n",
      "Iter 233/2000 - Loss: -2.303\n",
      "Iter 234/2000 - Loss: -2.310\n",
      "Iter 235/2000 - Loss: -2.312\n",
      "Iter 236/2000 - Loss: -2.307\n",
      "Iter 237/2000 - Loss: -2.305\n",
      "Iter 238/2000 - Loss: -2.309\n",
      "Iter 239/2000 - Loss: -2.311\n",
      "Iter 240/2000 - Loss: -2.304\n",
      "Iter 241/2000 - Loss: -2.305\n",
      "Iter 242/2000 - Loss: -2.319\n",
      "Iter 243/2000 - Loss: -2.321\n",
      "Iter 244/2000 - Loss: -2.314\n",
      "Iter 245/2000 - Loss: -2.319\n",
      "Iter 246/2000 - Loss: -2.327\n",
      "Iter 247/2000 - Loss: -2.328\n",
      "Iter 248/2000 - Loss: -2.323\n",
      "Iter 249/2000 - Loss: -2.325\n",
      "Iter 250/2000 - Loss: -2.331\n",
      "Iter 251/2000 - Loss: -2.331\n",
      "Iter 252/2000 - Loss: -2.327\n",
      "Iter 253/2000 - Loss: -2.329\n",
      "Iter 254/2000 - Loss: -2.330\n",
      "Iter 255/2000 - Loss: -2.329\n",
      "Iter 256/2000 - Loss: -2.333\n",
      "Iter 257/2000 - Loss: -2.338\n",
      "Iter 258/2000 - Loss: -2.337\n",
      "Iter 259/2000 - Loss: -2.335\n",
      "Iter 260/2000 - Loss: -2.340\n",
      "Iter 261/2000 - Loss: -2.344\n",
      "Iter 262/2000 - Loss: -2.344\n",
      "Iter 263/2000 - Loss: -2.342\n",
      "Iter 264/2000 - Loss: -2.344\n",
      "Iter 265/2000 - Loss: -2.345\n",
      "Iter 266/2000 - Loss: -2.338\n",
      "Iter 267/2000 - Loss: -2.339\n",
      "Iter 268/2000 - Loss: -2.350\n",
      "Iter 269/2000 - Loss: -2.350\n",
      "Iter 270/2000 - Loss: -2.343\n",
      "Iter 271/2000 - Loss: -2.348\n",
      "Iter 272/2000 - Loss: -2.352\n",
      "Iter 273/2000 - Loss: -2.345\n",
      "Iter 274/2000 - Loss: -2.346\n",
      "Iter 275/2000 - Loss: -2.348\n",
      "Iter 276/2000 - Loss: -2.345\n",
      "Iter 277/2000 - Loss: -2.349\n",
      "Iter 278/2000 - Loss: -2.356\n",
      "Iter 279/2000 - Loss: -2.355\n",
      "Iter 280/2000 - Loss: -2.356\n",
      "Iter 281/2000 - Loss: -2.358\n",
      "Iter 282/2000 - Loss: -2.357\n",
      "Iter 283/2000 - Loss: -2.359\n",
      "Iter 284/2000 - Loss: -2.360\n",
      "Iter 285/2000 - Loss: -2.349\n",
      "Iter 286/2000 - Loss: -2.346\n",
      "Iter 287/2000 - Loss: -2.362\n",
      "Iter 288/2000 - Loss: -2.364\n",
      "Iter 289/2000 - Loss: -2.357\n",
      "Iter 290/2000 - Loss: -2.360\n",
      "Iter 291/2000 - Loss: -2.367\n",
      "Iter 292/2000 - Loss: -2.365\n",
      "Iter 293/2000 - Loss: -2.358\n",
      "Iter 294/2000 - Loss: -2.358\n",
      "Iter 295/2000 - Loss: -2.358\n",
      "Iter 296/2000 - Loss: -2.362\n",
      "Iter 297/2000 - Loss: -2.368\n",
      "Iter 298/2000 - Loss: -2.369\n",
      "Iter 299/2000 - Loss: -2.366\n",
      "Iter 300/2000 - Loss: -2.366\n",
      "Iter 301/2000 - Loss: -2.371\n"
     ]
    },
    {
     "name": "stdout",
     "output_type": "stream",
     "text": [
      "Iter 302/2000 - Loss: -2.372\n",
      "Iter 303/2000 - Loss: -2.370\n",
      "Iter 304/2000 - Loss: -2.371\n",
      "Iter 305/2000 - Loss: -2.376\n",
      "Iter 306/2000 - Loss: -2.376\n",
      "Iter 307/2000 - Loss: -2.374\n",
      "Iter 308/2000 - Loss: -2.374\n",
      "Iter 309/2000 - Loss: -2.378\n",
      "Iter 310/2000 - Loss: -2.379\n",
      "Iter 311/2000 - Loss: -2.377\n",
      "Iter 312/2000 - Loss: -2.374\n",
      "Iter 313/2000 - Loss: -2.370\n",
      "Iter 314/2000 - Loss: -2.365\n",
      "Iter 315/2000 - Loss: -2.375\n",
      "Iter 316/2000 - Loss: -2.381\n",
      "Iter 317/2000 - Loss: -2.381\n",
      "Iter 318/2000 - Loss: -2.376\n",
      "Iter 319/2000 - Loss: -2.374\n",
      "Iter 320/2000 - Loss: -2.379\n",
      "Iter 321/2000 - Loss: -2.383\n",
      "Iter 322/2000 - Loss: -2.380\n",
      "Iter 323/2000 - Loss: -2.368\n",
      "Iter 324/2000 - Loss: -2.368\n",
      "Iter 325/2000 - Loss: -2.383\n",
      "Iter 326/2000 - Loss: -2.385\n",
      "Iter 327/2000 - Loss: -2.377\n",
      "Iter 328/2000 - Loss: -2.380\n",
      "Iter 329/2000 - Loss: -2.387\n",
      "Iter 330/2000 - Loss: -2.381\n",
      "Iter 331/2000 - Loss: -2.366\n",
      "Iter 332/2000 - Loss: -2.369\n",
      "Iter 333/2000 - Loss: -2.370\n",
      "Iter 334/2000 - Loss: -2.387\n",
      "Iter 335/2000 - Loss: -2.375\n",
      "Iter 336/2000 - Loss: -2.373\n",
      "Iter 337/2000 - Loss: -2.388\n",
      "Iter 338/2000 - Loss: -2.385\n",
      "Iter 339/2000 - Loss: -2.377\n",
      "Iter 340/2000 - Loss: -2.389\n",
      "Iter 341/2000 - Loss: -2.383\n",
      "Iter 342/2000 - Loss: -2.387\n",
      "Iter 343/2000 - Loss: -2.392\n",
      "Iter 344/2000 - Loss: -2.386\n",
      "Iter 345/2000 - Loss: -2.386\n",
      "Iter 346/2000 - Loss: -2.379\n",
      "Iter 347/2000 - Loss: -2.377\n",
      "Iter 348/2000 - Loss: -2.389\n",
      "Iter 349/2000 - Loss: -2.392\n",
      "Iter 350/2000 - Loss: -2.392\n",
      "Iter 351/2000 - Loss: -2.385\n",
      "Iter 352/2000 - Loss: -2.388\n",
      "Iter 353/2000 - Loss: -2.394\n",
      "Iter 354/2000 - Loss: -2.393\n",
      "Iter 355/2000 - Loss: -2.389\n",
      "Iter 356/2000 - Loss: -2.381\n",
      "Iter 357/2000 - Loss: -2.380\n",
      "Iter 358/2000 - Loss: -2.384\n",
      "Iter 359/2000 - Loss: -2.395\n",
      "Iter 360/2000 - Loss: -2.395\n",
      "Iter 361/2000 - Loss: -2.386\n",
      "Iter 362/2000 - Loss: -2.385\n",
      "Iter 363/2000 - Loss: -2.381\n",
      "Iter 364/2000 - Loss: -2.374\n",
      "Iter 365/2000 - Loss: -2.392\n",
      "Iter 366/2000 - Loss: -2.398\n",
      "Iter 367/2000 - Loss: -2.390\n",
      "Iter 368/2000 - Loss: -2.387\n",
      "Iter 369/2000 - Loss: -2.397\n",
      "Iter 370/2000 - Loss: -2.397\n",
      "Iter 371/2000 - Loss: -2.389\n",
      "Iter 372/2000 - Loss: -2.390\n",
      "Iter 373/2000 - Loss: -2.389\n",
      "Iter 374/2000 - Loss: -2.387\n",
      "Iter 375/2000 - Loss: -2.397\n",
      "Iter 376/2000 - Loss: -2.401\n",
      "Iter 377/2000 - Loss: -2.398\n",
      "Iter 378/2000 - Loss: -2.395\n",
      "Iter 379/2000 - Loss: -2.397\n",
      "Iter 380/2000 - Loss: -2.397\n",
      "Iter 381/2000 - Loss: -2.399\n",
      "Iter 382/2000 - Loss: -2.403\n",
      "Iter 383/2000 - Loss: -2.401\n",
      "Iter 384/2000 - Loss: -2.399\n",
      "Iter 385/2000 - Loss: -2.400\n",
      "Iter 386/2000 - Loss: -2.402\n",
      "Iter 387/2000 - Loss: -2.403\n",
      "Iter 388/2000 - Loss: -2.403\n",
      "Iter 389/2000 - Loss: -2.403\n",
      "Iter 390/2000 - Loss: -2.401\n",
      "Iter 391/2000 - Loss: -2.399\n",
      "Iter 392/2000 - Loss: -2.397\n",
      "Iter 393/2000 - Loss: -2.394\n",
      "Iter 394/2000 - Loss: -2.397\n",
      "Iter 395/2000 - Loss: -2.403\n",
      "Iter 396/2000 - Loss: -2.405\n",
      "Iter 397/2000 - Loss: -2.404\n",
      "Iter 398/2000 - Loss: -2.398\n",
      "Iter 399/2000 - Loss: -2.394\n",
      "Iter 400/2000 - Loss: -2.395\n",
      "Iter 401/2000 - Loss: -2.401\n",
      "Iter 402/2000 - Loss: -2.403\n",
      "Iter 403/2000 - Loss: -2.403\n",
      "Iter 404/2000 - Loss: -2.403\n",
      "Iter 405/2000 - Loss: -2.404\n",
      "Iter 406/2000 - Loss: -2.404\n",
      "Iter 407/2000 - Loss: -2.400\n",
      "Iter 408/2000 - Loss: -2.395\n",
      "Iter 409/2000 - Loss: -2.398\n",
      "Iter 410/2000 - Loss: -2.401\n",
      "Iter 411/2000 - Loss: -2.404\n",
      "Iter 412/2000 - Loss: -2.404\n",
      "Iter 413/2000 - Loss: -2.404\n",
      "Iter 414/2000 - Loss: -2.404\n",
      "Iter 415/2000 - Loss: -2.405\n",
      "Iter 416/2000 - Loss: -2.406\n",
      "Iter 417/2000 - Loss: -2.405\n",
      "Iter 418/2000 - Loss: -2.404\n",
      "Iter 419/2000 - Loss: -2.402\n",
      "Iter 420/2000 - Loss: -2.403\n",
      "Iter 421/2000 - Loss: -2.405\n",
      "Iter 422/2000 - Loss: -2.405\n",
      "Iter 423/2000 - Loss: -2.406\n",
      "Iter 424/2000 - Loss: -2.407\n",
      "Iter 425/2000 - Loss: -2.407\n",
      "Iter 426/2000 - Loss: -2.402\n",
      "Iter 427/2000 - Loss: -2.396\n",
      "Iter 428/2000 - Loss: -2.400\n",
      "Iter 429/2000 - Loss: -2.407\n",
      "Iter 430/2000 - Loss: -2.411\n",
      "Iter 431/2000 - Loss: -2.409\n",
      "Iter 432/2000 - Loss: -2.404\n",
      "Iter 433/2000 - Loss: -2.403\n",
      "Iter 434/2000 - Loss: -2.408\n",
      "Iter 435/2000 - Loss: -2.412\n",
      "Iter 436/2000 - Loss: -2.411\n",
      "Iter 437/2000 - Loss: -2.408\n",
      "Iter 438/2000 - Loss: -2.406\n",
      "Iter 439/2000 - Loss: -2.407\n",
      "Iter 440/2000 - Loss: -2.409\n",
      "Iter 441/2000 - Loss: -2.409\n",
      "Iter 442/2000 - Loss: -2.408\n",
      "Iter 443/2000 - Loss: -2.409\n",
      "Iter 444/2000 - Loss: -2.409\n",
      "Iter 445/2000 - Loss: -2.408\n",
      "Iter 446/2000 - Loss: -2.407\n",
      "Iter 447/2000 - Loss: -2.406\n",
      "Iter 448/2000 - Loss: -2.406\n",
      "Iter 449/2000 - Loss: -2.406\n",
      "Iter 450/2000 - Loss: -2.409\n",
      "Iter 451/2000 - Loss: -2.411\n",
      "Iter 452/2000 - Loss: -2.409\n",
      "Iter 453/2000 - Loss: -2.404\n",
      "Iter 454/2000 - Loss: -2.403\n",
      "Iter 455/2000 - Loss: -2.406\n",
      "Iter 456/2000 - Loss: -2.413\n",
      "Iter 457/2000 - Loss: -2.414\n",
      "Iter 458/2000 - Loss: -2.410\n",
      "Iter 459/2000 - Loss: -2.406\n",
      "Iter 460/2000 - Loss: -2.407\n",
      "Iter 461/2000 - Loss: -2.412\n",
      "Iter 462/2000 - Loss: -2.414\n",
      "Iter 463/2000 - Loss: -2.414\n",
      "Iter 464/2000 - Loss: -2.412\n",
      "Iter 465/2000 - Loss: -2.412\n",
      "Iter 466/2000 - Loss: -2.413\n",
      "Iter 467/2000 - Loss: -2.415\n",
      "Iter 468/2000 - Loss: -2.415\n",
      "Iter 469/2000 - Loss: -2.414\n",
      "Iter 470/2000 - Loss: -2.411\n",
      "Iter 471/2000 - Loss: -2.410\n",
      "Iter 472/2000 - Loss: -2.410\n",
      "Iter 473/2000 - Loss: -2.410\n",
      "Iter 474/2000 - Loss: -2.407\n",
      "Iter 475/2000 - Loss: -2.407\n",
      "Iter 476/2000 - Loss: -2.412\n",
      "Iter 477/2000 - Loss: -2.416\n",
      "Iter 478/2000 - Loss: -2.416\n",
      "Iter 479/2000 - Loss: -2.414\n",
      "Iter 480/2000 - Loss: -2.412\n",
      "Iter 481/2000 - Loss: -2.413\n",
      "Iter 482/2000 - Loss: -2.415\n",
      "Iter 483/2000 - Loss: -2.412\n",
      "Iter 484/2000 - Loss: -2.405\n",
      "Iter 485/2000 - Loss: -2.405\n",
      "Iter 486/2000 - Loss: -2.411\n",
      "Iter 487/2000 - Loss: -2.417\n",
      "Iter 488/2000 - Loss: -2.417\n",
      "Iter 489/2000 - Loss: -2.413\n",
      "Iter 490/2000 - Loss: -2.411\n",
      "Iter 491/2000 - Loss: -2.410\n",
      "Iter 492/2000 - Loss: -2.412\n",
      "Iter 493/2000 - Loss: -2.409\n",
      "Iter 494/2000 - Loss: -2.409\n",
      "Iter 495/2000 - Loss: -2.409\n",
      "Iter 496/2000 - Loss: -2.415\n",
      "Iter 497/2000 - Loss: -2.416\n",
      "Iter 498/2000 - Loss: -2.416\n",
      "Iter 499/2000 - Loss: -2.416\n",
      "Iter 500/2000 - Loss: -2.416\n",
      "Iter 501/2000 - Loss: -2.414\n",
      "Iter 502/2000 - Loss: -2.412\n",
      "Iter 503/2000 - Loss: -2.413\n",
      "Iter 504/2000 - Loss: -2.416\n",
      "Iter 505/2000 - Loss: -2.418\n",
      "Iter 506/2000 - Loss: -2.417\n",
      "Iter 507/2000 - Loss: -2.415\n",
      "Iter 508/2000 - Loss: -2.413\n",
      "Iter 509/2000 - Loss: -2.415\n",
      "Iter 510/2000 - Loss: -2.416\n",
      "Iter 511/2000 - Loss: -2.417\n",
      "Iter 512/2000 - Loss: -2.415\n",
      "Iter 513/2000 - Loss: -2.410\n",
      "Iter 514/2000 - Loss: -2.407\n",
      "Iter 515/2000 - Loss: -2.412\n",
      "Iter 516/2000 - Loss: -2.419\n",
      "Iter 517/2000 - Loss: -2.420\n",
      "Iter 518/2000 - Loss: -2.418\n",
      "Iter 519/2000 - Loss: -2.415\n",
      "Iter 520/2000 - Loss: -2.416\n",
      "Iter 521/2000 - Loss: -2.420\n",
      "Iter 522/2000 - Loss: -2.421\n",
      "Iter 523/2000 - Loss: -2.419\n",
      "Iter 524/2000 - Loss: -2.417\n",
      "Iter 525/2000 - Loss: -2.418\n",
      "Iter 526/2000 - Loss: -2.420\n",
      "Iter 527/2000 - Loss: -2.421\n",
      "Iter 528/2000 - Loss: -2.418\n",
      "Iter 529/2000 - Loss: -2.412\n",
      "Iter 530/2000 - Loss: -2.410\n",
      "Iter 531/2000 - Loss: -2.413\n",
      "Iter 532/2000 - Loss: -2.418\n",
      "Iter 533/2000 - Loss: -2.421\n",
      "Iter 534/2000 - Loss: -2.421\n",
      "Iter 535/2000 - Loss: -2.418\n",
      "Iter 536/2000 - Loss: -2.415\n",
      "Iter 537/2000 - Loss: -2.417\n",
      "Iter 538/2000 - Loss: -2.419\n",
      "Iter 539/2000 - Loss: -2.417\n",
      "Iter 540/2000 - Loss: -2.412\n",
      "Iter 541/2000 - Loss: -2.415\n",
      "Iter 542/2000 - Loss: -2.417\n",
      "Iter 543/2000 - Loss: -2.421\n",
      "Iter 544/2000 - Loss: -2.421\n",
      "Iter 545/2000 - Loss: -2.421\n",
      "Iter 546/2000 - Loss: -2.421\n",
      "Iter 547/2000 - Loss: -2.420\n",
      "Iter 548/2000 - Loss: -2.416\n",
      "Iter 549/2000 - Loss: -2.413\n",
      "Iter 550/2000 - Loss: -2.416\n",
      "Iter 551/2000 - Loss: -2.419\n",
      "Iter 552/2000 - Loss: -2.421\n",
      "Iter 553/2000 - Loss: -2.421\n",
      "Iter 554/2000 - Loss: -2.421\n",
      "Iter 555/2000 - Loss: -2.421\n",
      "Iter 556/2000 - Loss: -2.420\n",
      "Iter 557/2000 - Loss: -2.421\n",
      "Iter 558/2000 - Loss: -2.421\n",
      "Iter 559/2000 - Loss: -2.421\n",
      "Iter 560/2000 - Loss: -2.420\n",
      "Iter 561/2000 - Loss: -2.415\n",
      "Iter 562/2000 - Loss: -2.412\n",
      "Iter 563/2000 - Loss: -2.412\n",
      "Iter 564/2000 - Loss: -2.420\n",
      "Iter 565/2000 - Loss: -2.423\n",
      "Iter 566/2000 - Loss: -2.422\n",
      "Iter 567/2000 - Loss: -2.419\n",
      "Iter 568/2000 - Loss: -2.419\n",
      "Iter 569/2000 - Loss: -2.421\n",
      "Iter 570/2000 - Loss: -2.423\n",
      "Iter 571/2000 - Loss: -2.422\n",
      "Iter 572/2000 - Loss: -2.418\n",
      "Iter 573/2000 - Loss: -2.414\n",
      "Iter 574/2000 - Loss: -2.415\n",
      "Iter 575/2000 - Loss: -2.417\n",
      "Iter 576/2000 - Loss: -2.420\n",
      "Iter 577/2000 - Loss: -2.423\n",
      "Iter 578/2000 - Loss: -2.423\n",
      "Iter 579/2000 - Loss: -2.421\n",
      "Iter 580/2000 - Loss: -2.419\n",
      "Iter 581/2000 - Loss: -2.422\n",
      "Iter 582/2000 - Loss: -2.424\n",
      "Iter 583/2000 - Loss: -2.424\n",
      "Iter 584/2000 - Loss: -2.422\n"
     ]
    },
    {
     "name": "stdout",
     "output_type": "stream",
     "text": [
      "Iter 585/2000 - Loss: -2.421\n",
      "Iter 586/2000 - Loss: -2.421\n",
      "Iter 587/2000 - Loss: -2.420\n",
      "Iter 588/2000 - Loss: -2.417\n",
      "Iter 589/2000 - Loss: -2.414\n",
      "Iter 590/2000 - Loss: -2.416\n",
      "Iter 591/2000 - Loss: -2.421\n",
      "Iter 592/2000 - Loss: -2.424\n",
      "Iter 593/2000 - Loss: -2.425\n",
      "Iter 594/2000 - Loss: -2.424\n",
      "Iter 595/2000 - Loss: -2.422\n",
      "Iter 596/2000 - Loss: -2.418\n",
      "Iter 597/2000 - Loss: -2.417\n",
      "Iter 598/2000 - Loss: -2.419\n",
      "Iter 599/2000 - Loss: -2.423\n",
      "Iter 600/2000 - Loss: -2.425\n",
      "Iter 601/2000 - Loss: -2.425\n",
      "Iter 602/2000 - Loss: -2.423\n",
      "Iter 603/2000 - Loss: -2.422\n",
      "Iter 604/2000 - Loss: -2.423\n",
      "Iter 605/2000 - Loss: -2.424\n",
      "Iter 606/2000 - Loss: -2.423\n",
      "Iter 607/2000 - Loss: -2.421\n",
      "Iter 608/2000 - Loss: -2.419\n",
      "Iter 609/2000 - Loss: -2.419\n",
      "Iter 610/2000 - Loss: -2.420\n",
      "Iter 611/2000 - Loss: -2.424\n",
      "Iter 612/2000 - Loss: -2.426\n",
      "Iter 613/2000 - Loss: -2.426\n",
      "Iter 614/2000 - Loss: -2.425\n",
      "Iter 615/2000 - Loss: -2.424\n",
      "Iter 616/2000 - Loss: -2.423\n",
      "Iter 617/2000 - Loss: -2.424\n",
      "Iter 618/2000 - Loss: -2.425\n",
      "Iter 619/2000 - Loss: -2.424\n",
      "Iter 620/2000 - Loss: -2.420\n",
      "Iter 621/2000 - Loss: -2.415\n",
      "Iter 622/2000 - Loss: -2.415\n",
      "Iter 623/2000 - Loss: -2.420\n",
      "Iter 624/2000 - Loss: -2.425\n",
      "Iter 625/2000 - Loss: -2.426\n",
      "Iter 626/2000 - Loss: -2.425\n",
      "Iter 627/2000 - Loss: -2.423\n",
      "Iter 628/2000 - Loss: -2.423\n",
      "Iter 629/2000 - Loss: -2.425\n",
      "Iter 630/2000 - Loss: -2.427\n",
      "Iter 631/2000 - Loss: -2.426\n",
      "Iter 632/2000 - Loss: -2.424\n",
      "Iter 633/2000 - Loss: -2.423\n",
      "Iter 634/2000 - Loss: -2.421\n",
      "Iter 635/2000 - Loss: -2.418\n",
      "Iter 636/2000 - Loss: -2.419\n",
      "Iter 637/2000 - Loss: -2.423\n",
      "Iter 638/2000 - Loss: -2.427\n",
      "Iter 639/2000 - Loss: -2.427\n",
      "Iter 640/2000 - Loss: -2.425\n",
      "Iter 641/2000 - Loss: -2.424\n",
      "Iter 642/2000 - Loss: -2.422\n",
      "Iter 643/2000 - Loss: -2.424\n",
      "Iter 644/2000 - Loss: -2.425\n",
      "Iter 645/2000 - Loss: -2.424\n",
      "Iter 646/2000 - Loss: -2.422\n",
      "Iter 647/2000 - Loss: -2.420\n",
      "Iter 648/2000 - Loss: -2.421\n",
      "Iter 649/2000 - Loss: -2.421\n",
      "Iter 650/2000 - Loss: -2.422\n",
      "Iter 651/2000 - Loss: -2.424\n",
      "Iter 652/2000 - Loss: -2.427\n",
      "Iter 653/2000 - Loss: -2.427\n",
      "Iter 654/2000 - Loss: -2.424\n",
      "Iter 655/2000 - Loss: -2.423\n",
      "Iter 656/2000 - Loss: -2.423\n",
      "Iter 657/2000 - Loss: -2.426\n",
      "Iter 658/2000 - Loss: -2.428\n",
      "Iter 659/2000 - Loss: -2.428\n",
      "Iter 660/2000 - Loss: -2.428\n",
      "Iter 661/2000 - Loss: -2.427\n",
      "Iter 662/2000 - Loss: -2.427\n",
      "Iter 663/2000 - Loss: -2.427\n",
      "Iter 664/2000 - Loss: -2.426\n",
      "Iter 665/2000 - Loss: -2.423\n",
      "Iter 666/2000 - Loss: -2.421\n",
      "Iter 667/2000 - Loss: -2.419\n",
      "Iter 668/2000 - Loss: -2.425\n",
      "Iter 669/2000 - Loss: -2.428\n",
      "Iter 670/2000 - Loss: -2.429\n",
      "Iter 671/2000 - Loss: -2.428\n",
      "Iter 672/2000 - Loss: -2.426\n",
      "Iter 673/2000 - Loss: -2.425\n",
      "Iter 674/2000 - Loss: -2.425\n",
      "Iter 675/2000 - Loss: -2.428\n",
      "Iter 676/2000 - Loss: -2.427\n",
      "Iter 677/2000 - Loss: -2.425\n",
      "Iter 678/2000 - Loss: -2.424\n",
      "Iter 679/2000 - Loss: -2.426\n",
      "Iter 680/2000 - Loss: -2.428\n",
      "Iter 681/2000 - Loss: -2.428\n",
      "Iter 682/2000 - Loss: -2.427\n",
      "Iter 683/2000 - Loss: -2.427\n",
      "Iter 684/2000 - Loss: -2.428\n",
      "Iter 685/2000 - Loss: -2.427\n",
      "Iter 686/2000 - Loss: -2.425\n",
      "Iter 687/2000 - Loss: -2.421\n",
      "Iter 688/2000 - Loss: -2.421\n",
      "Iter 689/2000 - Loss: -2.422\n",
      "Iter 690/2000 - Loss: -2.427\n",
      "Iter 691/2000 - Loss: -2.429\n",
      "Iter 692/2000 - Loss: -2.430\n",
      "Iter 693/2000 - Loss: -2.429\n",
      "Iter 694/2000 - Loss: -2.427\n",
      "Iter 695/2000 - Loss: -2.425\n",
      "Iter 696/2000 - Loss: -2.426\n",
      "Iter 697/2000 - Loss: -2.427\n",
      "Iter 698/2000 - Loss: -2.427\n",
      "Iter 699/2000 - Loss: -2.424\n",
      "Iter 700/2000 - Loss: -2.421\n",
      "Iter 701/2000 - Loss: -2.423\n",
      "Iter 702/2000 - Loss: -2.427\n",
      "Iter 703/2000 - Loss: -2.429\n",
      "Iter 704/2000 - Loss: -2.429\n",
      "Iter 705/2000 - Loss: -2.428\n",
      "Iter 706/2000 - Loss: -2.427\n",
      "Iter 707/2000 - Loss: -2.426\n",
      "Iter 708/2000 - Loss: -2.425\n",
      "Iter 709/2000 - Loss: -2.425\n",
      "Iter 710/2000 - Loss: -2.425\n",
      "Iter 711/2000 - Loss: -2.425\n",
      "Iter 712/2000 - Loss: -2.425\n",
      "Iter 713/2000 - Loss: -2.426\n",
      "Iter 714/2000 - Loss: -2.428\n",
      "Iter 715/2000 - Loss: -2.430\n",
      "Iter 716/2000 - Loss: -2.430\n",
      "Iter 717/2000 - Loss: -2.429\n",
      "Iter 718/2000 - Loss: -2.428\n",
      "Iter 719/2000 - Loss: -2.427\n",
      "Iter 720/2000 - Loss: -2.426\n",
      "Iter 721/2000 - Loss: -2.426\n",
      "Iter 722/2000 - Loss: -2.426\n",
      "Iter 723/2000 - Loss: -2.428\n",
      "Iter 724/2000 - Loss: -2.429\n",
      "Iter 725/2000 - Loss: -2.427\n",
      "Iter 726/2000 - Loss: -2.423\n",
      "Iter 727/2000 - Loss: -2.421\n",
      "Iter 728/2000 - Loss: -2.420\n",
      "Iter 729/2000 - Loss: -2.430\n",
      "Iter 730/2000 - Loss: -2.429\n",
      "Iter 731/2000 - Loss: -2.419\n",
      "Iter 732/2000 - Loss: -2.423\n",
      "Iter 733/2000 - Loss: -2.430\n",
      "Iter 734/2000 - Loss: -2.432\n",
      "Iter 735/2000 - Loss: -2.428\n",
      "Iter 736/2000 - Loss: -2.427\n",
      "Iter 737/2000 - Loss: -2.429\n",
      "Iter 738/2000 - Loss: -2.431\n",
      "Iter 739/2000 - Loss: -2.430\n",
      "Iter 740/2000 - Loss: -2.429\n",
      "Iter 741/2000 - Loss: -2.430\n",
      "Iter 742/2000 - Loss: -2.431\n",
      "Iter 743/2000 - Loss: -2.430\n",
      "Iter 744/2000 - Loss: -2.428\n",
      "Iter 745/2000 - Loss: -2.428\n",
      "Iter 746/2000 - Loss: -2.426\n",
      "Iter 747/2000 - Loss: -2.426\n",
      "Iter 748/2000 - Loss: -2.427\n",
      "Iter 749/2000 - Loss: -2.428\n",
      "Iter 750/2000 - Loss: -2.429\n",
      "Iter 751/2000 - Loss: -2.429\n",
      "Iter 752/2000 - Loss: -2.427\n",
      "Iter 753/2000 - Loss: -2.422\n",
      "Iter 754/2000 - Loss: -2.418\n",
      "Iter 755/2000 - Loss: -2.419\n",
      "Iter 756/2000 - Loss: -2.427\n",
      "Iter 757/2000 - Loss: -2.431\n",
      "Iter 758/2000 - Loss: -2.431\n",
      "Iter 759/2000 - Loss: -2.427\n",
      "Iter 760/2000 - Loss: -2.427\n",
      "Iter 761/2000 - Loss: -2.428\n",
      "Iter 762/2000 - Loss: -2.431\n",
      "Iter 763/2000 - Loss: -2.431\n",
      "Iter 764/2000 - Loss: -2.428\n",
      "Iter 765/2000 - Loss: -2.427\n",
      "Iter 766/2000 - Loss: -2.425\n",
      "Iter 767/2000 - Loss: -2.421\n",
      "Iter 768/2000 - Loss: -2.417\n",
      "Iter 769/2000 - Loss: -2.421\n",
      "Iter 770/2000 - Loss: -2.427\n",
      "Iter 771/2000 - Loss: -2.432\n",
      "Iter 772/2000 - Loss: -2.428\n",
      "Iter 773/2000 - Loss: -2.425\n",
      "Iter 774/2000 - Loss: -2.425\n",
      "Iter 775/2000 - Loss: -2.431\n",
      "Iter 776/2000 - Loss: -2.431\n",
      "Iter 777/2000 - Loss: -2.427\n",
      "Iter 778/2000 - Loss: -2.428\n",
      "Iter 779/2000 - Loss: -2.431\n",
      "Iter 780/2000 - Loss: -2.431\n",
      "Iter 781/2000 - Loss: -2.429\n",
      "Iter 782/2000 - Loss: -2.430\n",
      "Iter 783/2000 - Loss: -2.431\n",
      "Iter 784/2000 - Loss: -2.429\n",
      "Iter 785/2000 - Loss: -2.427\n",
      "Iter 786/2000 - Loss: -2.428\n",
      "Iter 787/2000 - Loss: -2.427\n",
      "Iter 788/2000 - Loss: -2.427\n",
      "Iter 789/2000 - Loss: -2.430\n",
      "Iter 790/2000 - Loss: -2.432\n",
      "Iter 791/2000 - Loss: -2.432\n",
      "Iter 792/2000 - Loss: -2.432\n",
      "Iter 793/2000 - Loss: -2.433\n",
      "Iter 794/2000 - Loss: -2.432\n",
      "Iter 795/2000 - Loss: -2.431\n",
      "Iter 796/2000 - Loss: -2.430\n",
      "Iter 797/2000 - Loss: -2.428\n",
      "Iter 798/2000 - Loss: -2.426\n",
      "Iter 799/2000 - Loss: -2.423\n",
      "Iter 800/2000 - Loss: -2.421\n",
      "Iter 801/2000 - Loss: -2.423\n",
      "Iter 802/2000 - Loss: -2.430\n",
      "Iter 803/2000 - Loss: -2.433\n",
      "Iter 804/2000 - Loss: -2.432\n",
      "Iter 805/2000 - Loss: -2.428\n",
      "Iter 806/2000 - Loss: -2.429\n",
      "Iter 807/2000 - Loss: -2.430\n",
      "Iter 808/2000 - Loss: -2.430\n",
      "Iter 809/2000 - Loss: -2.427\n",
      "Iter 810/2000 - Loss: -2.424\n",
      "Iter 811/2000 - Loss: -2.424\n",
      "Iter 812/2000 - Loss: -2.426\n",
      "Iter 813/2000 - Loss: -2.430\n",
      "Iter 814/2000 - Loss: -2.431\n",
      "Iter 815/2000 - Loss: -2.431\n",
      "Iter 816/2000 - Loss: -2.428\n",
      "Iter 817/2000 - Loss: -2.429\n",
      "Iter 818/2000 - Loss: -2.431\n",
      "Iter 819/2000 - Loss: -2.433\n",
      "Iter 820/2000 - Loss: -2.432\n",
      "Iter 821/2000 - Loss: -2.431\n",
      "Iter 822/2000 - Loss: -2.431\n",
      "Iter 823/2000 - Loss: -2.433\n",
      "Iter 824/2000 - Loss: -2.433\n",
      "Iter 825/2000 - Loss: -2.432\n",
      "Iter 826/2000 - Loss: -2.431\n",
      "Iter 827/2000 - Loss: -2.432\n",
      "Iter 828/2000 - Loss: -2.432\n",
      "Iter 829/2000 - Loss: -2.431\n",
      "Iter 830/2000 - Loss: -2.429\n",
      "Iter 831/2000 - Loss: -2.428\n",
      "Iter 832/2000 - Loss: -2.427\n",
      "Iter 833/2000 - Loss: -2.426\n",
      "Iter 834/2000 - Loss: -2.425\n",
      "Iter 835/2000 - Loss: -2.427\n",
      "Iter 836/2000 - Loss: -2.428\n",
      "Iter 837/2000 - Loss: -2.431\n",
      "Iter 838/2000 - Loss: -2.431\n",
      "Iter 839/2000 - Loss: -2.431\n",
      "Iter 840/2000 - Loss: -2.430\n",
      "Iter 841/2000 - Loss: -2.430\n",
      "Iter 842/2000 - Loss: -2.431\n",
      "Iter 843/2000 - Loss: -2.432\n",
      "Iter 844/2000 - Loss: -2.434\n",
      "Iter 845/2000 - Loss: -2.434\n",
      "Iter 846/2000 - Loss: -2.433\n",
      "Iter 847/2000 - Loss: -2.432\n",
      "Iter 848/2000 - Loss: -2.431\n",
      "Iter 849/2000 - Loss: -2.432\n",
      "Iter 850/2000 - Loss: -2.434\n",
      "Iter 851/2000 - Loss: -2.434\n",
      "Iter 852/2000 - Loss: -2.434\n",
      "Iter 853/2000 - Loss: -2.434\n",
      "Iter 854/2000 - Loss: -2.433\n",
      "Iter 855/2000 - Loss: -2.433\n",
      "Iter 856/2000 - Loss: -2.434\n",
      "Iter 857/2000 - Loss: -2.434\n",
      "Iter 858/2000 - Loss: -2.434\n",
      "Iter 859/2000 - Loss: -2.434\n",
      "Iter 860/2000 - Loss: -2.434\n",
      "Iter 861/2000 - Loss: -2.434\n",
      "Iter 862/2000 - Loss: -2.433\n",
      "Iter 863/2000 - Loss: -2.432\n",
      "Iter 864/2000 - Loss: -2.431\n",
      "Iter 865/2000 - Loss: -2.430\n",
      "Iter 866/2000 - Loss: -2.429\n",
      "Iter 867/2000 - Loss: -2.429\n",
      "Iter 868/2000 - Loss: -2.431\n",
      "Iter 869/2000 - Loss: -2.433\n",
      "Iter 870/2000 - Loss: -2.434\n",
      "Iter 871/2000 - Loss: -2.435\n",
      "Iter 872/2000 - Loss: -2.434\n",
      "Iter 873/2000 - Loss: -2.433\n",
      "Iter 874/2000 - Loss: -2.432\n",
      "Iter 875/2000 - Loss: -2.431\n",
      "Iter 876/2000 - Loss: -2.431\n",
      "Iter 877/2000 - Loss: -2.431\n",
      "Iter 878/2000 - Loss: -2.430\n",
      "Iter 879/2000 - Loss: -2.429\n"
     ]
    },
    {
     "name": "stdout",
     "output_type": "stream",
     "text": [
      "Iter 880/2000 - Loss: -2.429\n",
      "Iter 881/2000 - Loss: -2.429\n",
      "Iter 882/2000 - Loss: -2.432\n",
      "Iter 883/2000 - Loss: -2.433\n",
      "Iter 884/2000 - Loss: -2.434\n",
      "Iter 885/2000 - Loss: -2.434\n",
      "Iter 886/2000 - Loss: -2.433\n",
      "Iter 887/2000 - Loss: -2.432\n",
      "Iter 888/2000 - Loss: -2.431\n",
      "Iter 889/2000 - Loss: -2.430\n",
      "Iter 890/2000 - Loss: -2.430\n",
      "Iter 891/2000 - Loss: -2.429\n",
      "Iter 892/2000 - Loss: -2.430\n",
      "Iter 893/2000 - Loss: -2.430\n",
      "Iter 894/2000 - Loss: -2.431\n",
      "Iter 895/2000 - Loss: -2.431\n",
      "Iter 896/2000 - Loss: -2.431\n",
      "Iter 897/2000 - Loss: -2.431\n",
      "Iter 898/2000 - Loss: -2.429\n",
      "Iter 899/2000 - Loss: -2.429\n",
      "Iter 900/2000 - Loss: -2.428\n",
      "Iter 901/2000 - Loss: -2.430\n",
      "Iter 902/2000 - Loss: -2.431\n",
      "Iter 903/2000 - Loss: -2.433\n",
      "Iter 904/2000 - Loss: -2.433\n",
      "Iter 905/2000 - Loss: -2.432\n",
      "Iter 906/2000 - Loss: -2.431\n",
      "Iter 907/2000 - Loss: -2.430\n",
      "Iter 908/2000 - Loss: -2.433\n",
      "Iter 909/2000 - Loss: -2.435\n",
      "Iter 910/2000 - Loss: -2.435\n",
      "Iter 911/2000 - Loss: -2.435\n",
      "Iter 912/2000 - Loss: -2.433\n",
      "Iter 913/2000 - Loss: -2.432\n",
      "Iter 914/2000 - Loss: -2.431\n",
      "Iter 915/2000 - Loss: -2.433\n",
      "Iter 916/2000 - Loss: -2.434\n",
      "Iter 917/2000 - Loss: -2.434\n",
      "Iter 918/2000 - Loss: -2.433\n",
      "Iter 919/2000 - Loss: -2.432\n",
      "Iter 920/2000 - Loss: -2.431\n",
      "Iter 921/2000 - Loss: -2.430\n",
      "Iter 922/2000 - Loss: -2.431\n",
      "Iter 923/2000 - Loss: -2.431\n",
      "Iter 924/2000 - Loss: -2.432\n",
      "Iter 925/2000 - Loss: -2.432\n",
      "Iter 926/2000 - Loss: -2.432\n",
      "Iter 927/2000 - Loss: -2.433\n",
      "Iter 928/2000 - Loss: -2.434\n",
      "Iter 929/2000 - Loss: -2.435\n",
      "Iter 930/2000 - Loss: -2.434\n",
      "Iter 931/2000 - Loss: -2.434\n",
      "Iter 932/2000 - Loss: -2.434\n",
      "Iter 933/2000 - Loss: -2.433\n",
      "Iter 934/2000 - Loss: -2.433\n",
      "Iter 935/2000 - Loss: -2.433\n",
      "Iter 936/2000 - Loss: -2.432\n",
      "Iter 937/2000 - Loss: -2.431\n",
      "Iter 938/2000 - Loss: -2.429\n",
      "Iter 939/2000 - Loss: -2.425\n",
      "Iter 940/2000 - Loss: -2.422\n",
      "Iter 941/2000 - Loss: -2.424\n",
      "Iter 942/2000 - Loss: -2.429\n",
      "Iter 943/2000 - Loss: -2.435\n",
      "Iter 944/2000 - Loss: -2.434\n",
      "Iter 945/2000 - Loss: -2.428\n",
      "Iter 946/2000 - Loss: -2.427\n",
      "Iter 947/2000 - Loss: -2.434\n",
      "Iter 948/2000 - Loss: -2.435\n",
      "Iter 949/2000 - Loss: -2.432\n",
      "Iter 950/2000 - Loss: -2.432\n",
      "Iter 951/2000 - Loss: -2.435\n",
      "Iter 952/2000 - Loss: -2.435\n",
      "Iter 953/2000 - Loss: -2.433\n",
      "Iter 954/2000 - Loss: -2.434\n",
      "Iter 955/2000 - Loss: -2.435\n",
      "Iter 956/2000 - Loss: -2.433\n",
      "Iter 957/2000 - Loss: -2.432\n",
      "Iter 958/2000 - Loss: -2.432\n",
      "Iter 959/2000 - Loss: -2.430\n",
      "Iter 960/2000 - Loss: -2.427\n",
      "Iter 961/2000 - Loss: -2.425\n",
      "Iter 962/2000 - Loss: -2.423\n",
      "Iter 963/2000 - Loss: -2.421\n",
      "Iter 964/2000 - Loss: -2.431\n",
      "Iter 965/2000 - Loss: -2.427\n",
      "Iter 966/2000 - Loss: -2.412\n",
      "Iter 967/2000 - Loss: -2.423\n",
      "Iter 968/2000 - Loss: -2.405\n",
      "Iter 969/2000 - Loss: -2.391\n",
      "Iter 970/2000 - Loss: -2.386\n",
      "Iter 971/2000 - Loss: -2.330\n",
      "Iter 972/2000 - Loss: -2.292\n",
      "Iter 973/2000 - Loss: -1.981\n",
      "Iter 974/2000 - Loss: -1.721\n",
      "Iter 975/2000 - Loss: -2.146\n",
      "Iter 976/2000 - Loss: -1.899\n",
      "Iter 977/2000 - Loss: -2.066\n",
      "Iter 978/2000 - Loss: -2.084\n",
      "Iter 979/2000 - Loss: -2.006\n",
      "Iter 980/2000 - Loss: -2.109\n",
      "Iter 981/2000 - Loss: -2.115\n",
      "Iter 982/2000 - Loss: -2.113\n",
      "Iter 983/2000 - Loss: -2.112\n",
      "Iter 984/2000 - Loss: -2.145\n",
      "Iter 985/2000 - Loss: -2.165\n",
      "Iter 986/2000 - Loss: -2.179\n",
      "Iter 987/2000 - Loss: -2.173\n",
      "Iter 988/2000 - Loss: -2.169\n",
      "Iter 989/2000 - Loss: -2.187\n",
      "Iter 990/2000 - Loss: -2.200\n",
      "Iter 991/2000 - Loss: -2.216\n",
      "Iter 992/2000 - Loss: -2.217\n",
      "Iter 993/2000 - Loss: -2.217\n",
      "Iter 994/2000 - Loss: -2.219\n",
      "Iter 995/2000 - Loss: -2.222\n",
      "Iter 996/2000 - Loss: -2.230\n",
      "Iter 997/2000 - Loss: -2.238\n",
      "Iter 998/2000 - Loss: -2.244\n",
      "Iter 999/2000 - Loss: -2.250\n",
      "Iter 1000/2000 - Loss: -2.254\n",
      "Iter 1001/2000 - Loss: -2.258\n",
      "Iter 1002/2000 - Loss: -2.263\n",
      "Iter 1003/2000 - Loss: -2.269\n",
      "Iter 1004/2000 - Loss: -2.275\n",
      "Iter 1005/2000 - Loss: -2.283\n",
      "Iter 1006/2000 - Loss: -2.292\n",
      "Iter 1007/2000 - Loss: -2.306\n",
      "Iter 1008/2000 - Loss: -2.325\n",
      "Iter 1009/2000 - Loss: -2.361\n",
      "Iter 1010/2000 - Loss: -2.396\n",
      "Iter 1011/2000 - Loss: -2.365\n",
      "Iter 1012/2000 - Loss: -2.343\n",
      "Iter 1013/2000 - Loss: -2.339\n",
      "Iter 1014/2000 - Loss: -2.345\n",
      "Iter 1015/2000 - Loss: -2.364\n",
      "Iter 1016/2000 - Loss: -2.393\n",
      "Iter 1017/2000 - Loss: -2.385\n",
      "Iter 1018/2000 - Loss: -2.371\n",
      "Iter 1019/2000 - Loss: -2.376\n",
      "Iter 1020/2000 - Loss: -2.394\n",
      "Iter 1021/2000 - Loss: -2.395\n",
      "Iter 1022/2000 - Loss: -2.381\n",
      "Iter 1023/2000 - Loss: -2.380\n",
      "Iter 1024/2000 - Loss: -2.395\n",
      "Iter 1025/2000 - Loss: -2.403\n",
      "Iter 1026/2000 - Loss: -2.391\n",
      "Iter 1027/2000 - Loss: -2.391\n",
      "Iter 1028/2000 - Loss: -2.402\n",
      "Iter 1029/2000 - Loss: -2.402\n",
      "Iter 1030/2000 - Loss: -2.394\n",
      "Iter 1031/2000 - Loss: -2.398\n",
      "Iter 1032/2000 - Loss: -2.408\n",
      "Iter 1033/2000 - Loss: -2.404\n",
      "Iter 1034/2000 - Loss: -2.400\n",
      "Iter 1035/2000 - Loss: -2.405\n",
      "Iter 1036/2000 - Loss: -2.407\n",
      "Iter 1037/2000 - Loss: -2.405\n",
      "Iter 1038/2000 - Loss: -2.406\n",
      "Iter 1039/2000 - Loss: -2.410\n",
      "Iter 1040/2000 - Loss: -2.408\n",
      "Iter 1041/2000 - Loss: -2.407\n",
      "Iter 1042/2000 - Loss: -2.410\n",
      "Iter 1043/2000 - Loss: -2.410\n",
      "Iter 1044/2000 - Loss: -2.409\n",
      "Iter 1045/2000 - Loss: -2.411\n",
      "Iter 1046/2000 - Loss: -2.412\n",
      "Iter 1047/2000 - Loss: -2.411\n",
      "Iter 1048/2000 - Loss: -2.411\n",
      "Iter 1049/2000 - Loss: -2.413\n",
      "Iter 1050/2000 - Loss: -2.413\n",
      "Iter 1051/2000 - Loss: -2.413\n",
      "Iter 1052/2000 - Loss: -2.414\n",
      "Iter 1053/2000 - Loss: -2.414\n",
      "Iter 1054/2000 - Loss: -2.414\n",
      "Iter 1055/2000 - Loss: -2.415\n",
      "Iter 1056/2000 - Loss: -2.415\n",
      "Iter 1057/2000 - Loss: -2.415\n",
      "Iter 1058/2000 - Loss: -2.415\n",
      "Iter 1059/2000 - Loss: -2.416\n",
      "Iter 1060/2000 - Loss: -2.416\n",
      "Iter 1061/2000 - Loss: -2.416\n",
      "Iter 1062/2000 - Loss: -2.416\n",
      "Iter 1063/2000 - Loss: -2.417\n",
      "Iter 1064/2000 - Loss: -2.417\n",
      "Iter 1065/2000 - Loss: -2.417\n",
      "Iter 1066/2000 - Loss: -2.417\n",
      "Iter 1067/2000 - Loss: -2.418\n",
      "Iter 1068/2000 - Loss: -2.418\n",
      "Iter 1069/2000 - Loss: -2.418\n",
      "Iter 1070/2000 - Loss: -2.418\n",
      "Iter 1071/2000 - Loss: -2.419\n",
      "Iter 1072/2000 - Loss: -2.419\n",
      "Iter 1073/2000 - Loss: -2.419\n",
      "Iter 1074/2000 - Loss: -2.419\n",
      "Iter 1075/2000 - Loss: -2.420\n",
      "Iter 1076/2000 - Loss: -2.420\n",
      "Iter 1077/2000 - Loss: -2.420\n",
      "Iter 1078/2000 - Loss: -2.420\n",
      "Iter 1079/2000 - Loss: -2.421\n",
      "Iter 1080/2000 - Loss: -2.421\n",
      "Iter 1081/2000 - Loss: -2.421\n",
      "Iter 1082/2000 - Loss: -2.421\n",
      "Iter 1083/2000 - Loss: -2.422\n",
      "Iter 1084/2000 - Loss: -2.422\n",
      "Iter 1085/2000 - Loss: -2.422\n",
      "Iter 1086/2000 - Loss: -2.422\n",
      "Iter 1087/2000 - Loss: -2.422\n",
      "Iter 1088/2000 - Loss: -2.423\n",
      "Iter 1089/2000 - Loss: -2.423\n",
      "Iter 1090/2000 - Loss: -2.423\n",
      "Iter 1091/2000 - Loss: -2.423\n",
      "Iter 1092/2000 - Loss: -2.423\n",
      "Iter 1093/2000 - Loss: -2.424\n",
      "Iter 1094/2000 - Loss: -2.424\n",
      "Iter 1095/2000 - Loss: -2.424\n",
      "Iter 1096/2000 - Loss: -2.424\n",
      "Iter 1097/2000 - Loss: -2.424\n",
      "Iter 1098/2000 - Loss: -2.425\n",
      "Iter 1099/2000 - Loss: -2.425\n",
      "Iter 1100/2000 - Loss: -2.425\n",
      "Iter 1101/2000 - Loss: -2.425\n",
      "Iter 1102/2000 - Loss: -2.426\n",
      "Iter 1103/2000 - Loss: -2.426\n",
      "Iter 1104/2000 - Loss: -2.426\n",
      "Iter 1105/2000 - Loss: -2.426\n",
      "Iter 1106/2000 - Loss: -2.426\n",
      "Iter 1107/2000 - Loss: -2.426\n",
      "Iter 1108/2000 - Loss: -2.427\n",
      "Iter 1109/2000 - Loss: -2.427\n",
      "Iter 1110/2000 - Loss: -2.427\n",
      "Iter 1111/2000 - Loss: -2.427\n",
      "Iter 1112/2000 - Loss: -2.427\n",
      "Iter 1113/2000 - Loss: -2.428\n",
      "Iter 1114/2000 - Loss: -2.428\n",
      "Iter 1115/2000 - Loss: -2.428\n",
      "Iter 1116/2000 - Loss: -2.428\n",
      "Iter 1117/2000 - Loss: -2.428\n",
      "Iter 1118/2000 - Loss: -2.429\n",
      "Iter 1119/2000 - Loss: -2.429\n",
      "Iter 1120/2000 - Loss: -2.429\n",
      "Iter 1121/2000 - Loss: -2.429\n",
      "Iter 1122/2000 - Loss: -2.429\n",
      "Iter 1123/2000 - Loss: -2.429\n",
      "Iter 1124/2000 - Loss: -2.430\n",
      "Iter 1125/2000 - Loss: -2.430\n",
      "Iter 1126/2000 - Loss: -2.430\n",
      "Iter 1127/2000 - Loss: -2.430\n",
      "Iter 1128/2000 - Loss: -2.430\n",
      "Iter 1129/2000 - Loss: -2.430\n",
      "Iter 1130/2000 - Loss: -2.431\n",
      "Iter 1131/2000 - Loss: -2.431\n",
      "Iter 1132/2000 - Loss: -2.431\n",
      "Iter 1133/2000 - Loss: -2.431\n",
      "Iter 1134/2000 - Loss: -2.431\n",
      "Iter 1135/2000 - Loss: -2.431\n",
      "Iter 1136/2000 - Loss: -2.431\n",
      "Iter 1137/2000 - Loss: -2.432\n",
      "Iter 1138/2000 - Loss: -2.432\n",
      "Iter 1139/2000 - Loss: -2.432\n",
      "Iter 1140/2000 - Loss: -2.432\n",
      "Iter 1141/2000 - Loss: -2.432\n",
      "Iter 1142/2000 - Loss: -2.432\n",
      "Iter 1143/2000 - Loss: -2.432\n",
      "Iter 1144/2000 - Loss: -2.433\n",
      "Iter 1145/2000 - Loss: -2.433\n",
      "Iter 1146/2000 - Loss: -2.433\n",
      "Iter 1147/2000 - Loss: -2.433\n",
      "Iter 1148/2000 - Loss: -2.433\n",
      "Iter 1149/2000 - Loss: -2.433\n",
      "Iter 1150/2000 - Loss: -2.433\n",
      "Iter 1151/2000 - Loss: -2.433\n",
      "Iter 1152/2000 - Loss: -2.433\n",
      "Iter 1153/2000 - Loss: -2.434\n",
      "Iter 1154/2000 - Loss: -2.434\n",
      "Iter 1155/2000 - Loss: -2.434\n",
      "Iter 1156/2000 - Loss: -2.434\n",
      "Iter 1157/2000 - Loss: -2.434\n",
      "Iter 1158/2000 - Loss: -2.434\n"
     ]
    },
    {
     "name": "stdout",
     "output_type": "stream",
     "text": [
      "Iter 1159/2000 - Loss: -2.434\n",
      "Iter 1160/2000 - Loss: -2.434\n",
      "Iter 1161/2000 - Loss: -2.434\n",
      "Iter 1162/2000 - Loss: -2.434\n",
      "Iter 1163/2000 - Loss: -2.434\n",
      "Iter 1164/2000 - Loss: -2.435\n",
      "Iter 1165/2000 - Loss: -2.435\n",
      "Iter 1166/2000 - Loss: -2.435\n",
      "Iter 1167/2000 - Loss: -2.435\n",
      "Iter 1168/2000 - Loss: -2.435\n",
      "Iter 1169/2000 - Loss: -2.435\n",
      "Iter 1170/2000 - Loss: -2.435\n",
      "Iter 1171/2000 - Loss: -2.435\n",
      "Iter 1172/2000 - Loss: -2.435\n",
      "Iter 1173/2000 - Loss: -2.435\n",
      "Iter 1174/2000 - Loss: -2.435\n",
      "Iter 1175/2000 - Loss: -2.435\n",
      "Iter 1176/2000 - Loss: -2.435\n",
      "Iter 1177/2000 - Loss: -2.435\n",
      "Iter 1178/2000 - Loss: -2.435\n",
      "Iter 1179/2000 - Loss: -2.433\n",
      "Iter 1180/2000 - Loss: -2.430\n",
      "Iter 1181/2000 - Loss: -2.423\n",
      "Iter 1182/2000 - Loss: -2.411\n",
      "Iter 1183/2000 - Loss: -2.398\n",
      "Iter 1184/2000 - Loss: -2.402\n",
      "Iter 1185/2000 - Loss: -2.381\n",
      "Iter 1186/2000 - Loss: -2.339\n",
      "Iter 1187/2000 - Loss: -1.927\n",
      "Iter 1188/2000 - Loss: -1.163\n",
      "Iter 1189/2000 - Loss: -2.233\n",
      "Iter 1190/2000 - Loss: -1.404\n",
      "Iter 1191/2000 - Loss: -2.052\n",
      "Iter 1192/2000 - Loss: -2.064\n",
      "Iter 1193/2000 - Loss: -1.834\n",
      "Iter 1194/2000 - Loss: -2.140\n",
      "Iter 1195/2000 - Loss: -2.139\n",
      "Iter 1196/2000 - Loss: -1.965\n",
      "Iter 1197/2000 - Loss: -2.056\n",
      "Iter 1198/2000 - Loss: -2.188\n",
      "Iter 1199/2000 - Loss: -2.173\n",
      "Iter 1200/2000 - Loss: -2.110\n",
      "Iter 1201/2000 - Loss: -2.106\n",
      "Iter 1202/2000 - Loss: -2.151\n",
      "Iter 1203/2000 - Loss: -2.194\n",
      "Iter 1204/2000 - Loss: -2.208\n",
      "Iter 1205/2000 - Loss: -2.201\n",
      "Iter 1206/2000 - Loss: -2.189\n",
      "Iter 1207/2000 - Loss: -2.183\n",
      "Iter 1208/2000 - Loss: -2.188\n",
      "Iter 1209/2000 - Loss: -2.198\n",
      "Iter 1210/2000 - Loss: -2.210\n",
      "Iter 1211/2000 - Loss: -2.219\n",
      "Iter 1212/2000 - Loss: -2.224\n",
      "Iter 1213/2000 - Loss: -2.226\n",
      "Iter 1214/2000 - Loss: -2.226\n",
      "Iter 1215/2000 - Loss: -2.225\n",
      "Iter 1216/2000 - Loss: -2.225\n",
      "Iter 1217/2000 - Loss: -2.225\n",
      "Iter 1218/2000 - Loss: -2.227\n",
      "Iter 1219/2000 - Loss: -2.229\n",
      "Iter 1220/2000 - Loss: -2.232\n",
      "Iter 1221/2000 - Loss: -2.235\n",
      "Iter 1222/2000 - Loss: -2.238\n",
      "Iter 1223/2000 - Loss: -2.240\n",
      "Iter 1224/2000 - Loss: -2.242\n",
      "Iter 1225/2000 - Loss: -2.244\n",
      "Iter 1226/2000 - Loss: -2.246\n",
      "Iter 1227/2000 - Loss: -2.247\n",
      "Iter 1228/2000 - Loss: -2.248\n",
      "Iter 1229/2000 - Loss: -2.249\n",
      "Iter 1230/2000 - Loss: -2.250\n",
      "Iter 1231/2000 - Loss: -2.251\n",
      "Iter 1232/2000 - Loss: -2.252\n",
      "Iter 1233/2000 - Loss: -2.253\n",
      "Iter 1234/2000 - Loss: -2.255\n",
      "Iter 1235/2000 - Loss: -2.256\n",
      "Iter 1236/2000 - Loss: -2.257\n",
      "Iter 1237/2000 - Loss: -2.259\n",
      "Iter 1238/2000 - Loss: -2.260\n",
      "Iter 1239/2000 - Loss: -2.261\n",
      "Iter 1240/2000 - Loss: -2.263\n",
      "Iter 1241/2000 - Loss: -2.264\n",
      "Iter 1242/2000 - Loss: -2.265\n",
      "Iter 1243/2000 - Loss: -2.266\n",
      "Iter 1244/2000 - Loss: -2.267\n",
      "Iter 1245/2000 - Loss: -2.268\n",
      "Iter 1246/2000 - Loss: -2.269\n",
      "Iter 1247/2000 - Loss: -2.270\n",
      "Iter 1248/2000 - Loss: -2.271\n",
      "Iter 1249/2000 - Loss: -2.273\n",
      "Iter 1250/2000 - Loss: -2.274\n",
      "Iter 1251/2000 - Loss: -2.275\n",
      "Iter 1252/2000 - Loss: -2.276\n",
      "Iter 1253/2000 - Loss: -2.278\n",
      "Iter 1254/2000 - Loss: -2.279\n",
      "Iter 1255/2000 - Loss: -2.280\n",
      "Iter 1256/2000 - Loss: -2.281\n",
      "Iter 1257/2000 - Loss: -2.283\n",
      "Iter 1258/2000 - Loss: -2.284\n",
      "Iter 1259/2000 - Loss: -2.286\n",
      "Iter 1260/2000 - Loss: -2.287\n",
      "Iter 1261/2000 - Loss: -2.289\n",
      "Iter 1262/2000 - Loss: -2.290\n",
      "Iter 1263/2000 - Loss: -2.292\n",
      "Iter 1264/2000 - Loss: -2.294\n",
      "Iter 1265/2000 - Loss: -2.296\n",
      "Iter 1266/2000 - Loss: -2.298\n",
      "Iter 1267/2000 - Loss: -2.300\n",
      "Iter 1268/2000 - Loss: -2.303\n",
      "Iter 1269/2000 - Loss: -2.305\n",
      "Iter 1270/2000 - Loss: -2.309\n",
      "Iter 1271/2000 - Loss: -2.313\n",
      "Iter 1272/2000 - Loss: -2.317\n",
      "Iter 1273/2000 - Loss: -2.323\n",
      "Iter 1274/2000 - Loss: -2.331\n",
      "Iter 1275/2000 - Loss: -2.342\n",
      "Iter 1276/2000 - Loss: -2.357\n",
      "Iter 1277/2000 - Loss: -2.347\n",
      "Iter 1278/2000 - Loss: -2.376\n",
      "Iter 1279/2000 - Loss: -2.378\n",
      "Iter 1280/2000 - Loss: -2.385\n",
      "Iter 1281/2000 - Loss: -2.386\n",
      "Iter 1282/2000 - Loss: -2.368\n",
      "Iter 1283/2000 - Loss: -2.391\n",
      "Iter 1284/2000 - Loss: -2.384\n",
      "Iter 1285/2000 - Loss: -2.379\n",
      "Iter 1286/2000 - Loss: -2.341\n",
      "Iter 1287/2000 - Loss: -2.281\n",
      "Iter 1288/2000 - Loss: -2.339\n",
      "Iter 1289/2000 - Loss: -2.264\n",
      "Iter 1290/2000 - Loss: -2.261\n",
      "Iter 1291/2000 - Loss: -2.306\n",
      "Iter 1292/2000 - Loss: -2.314\n",
      "Iter 1293/2000 - Loss: -2.294\n",
      "Iter 1294/2000 - Loss: -2.286\n",
      "Iter 1295/2000 - Loss: -2.296\n",
      "Iter 1296/2000 - Loss: -2.311\n",
      "Iter 1297/2000 - Loss: -2.321\n",
      "Iter 1298/2000 - Loss: -2.327\n",
      "Iter 1299/2000 - Loss: -2.333\n",
      "Iter 1300/2000 - Loss: -2.343\n",
      "Iter 1301/2000 - Loss: -2.366\n",
      "Iter 1302/2000 - Loss: -2.385\n",
      "Iter 1303/2000 - Loss: -2.372\n",
      "Iter 1304/2000 - Loss: -2.362\n",
      "Iter 1305/2000 - Loss: -2.365\n",
      "Iter 1306/2000 - Loss: -2.378\n",
      "Iter 1307/2000 - Loss: -2.384\n",
      "Iter 1308/2000 - Loss: -2.397\n",
      "Iter 1309/2000 - Loss: -2.392\n",
      "Iter 1310/2000 - Loss: -2.388\n",
      "Iter 1311/2000 - Loss: -2.391\n",
      "Iter 1312/2000 - Loss: -2.399\n",
      "Iter 1313/2000 - Loss: -2.397\n",
      "Iter 1314/2000 - Loss: -2.392\n",
      "Iter 1315/2000 - Loss: -2.393\n",
      "Iter 1316/2000 - Loss: -2.398\n",
      "Iter 1317/2000 - Loss: -2.398\n",
      "Iter 1318/2000 - Loss: -2.396\n",
      "Iter 1319/2000 - Loss: -2.397\n",
      "Iter 1320/2000 - Loss: -2.401\n",
      "Iter 1321/2000 - Loss: -2.400\n",
      "Iter 1322/2000 - Loss: -2.398\n",
      "Iter 1323/2000 - Loss: -2.400\n",
      "Iter 1324/2000 - Loss: -2.404\n",
      "Iter 1325/2000 - Loss: -2.402\n",
      "Iter 1326/2000 - Loss: -2.401\n",
      "Iter 1327/2000 - Loss: -2.404\n",
      "Iter 1328/2000 - Loss: -2.404\n",
      "Iter 1329/2000 - Loss: -2.402\n",
      "Iter 1330/2000 - Loss: -2.404\n",
      "Iter 1331/2000 - Loss: -2.405\n",
      "Iter 1332/2000 - Loss: -2.404\n",
      "Iter 1333/2000 - Loss: -2.405\n",
      "Iter 1334/2000 - Loss: -2.406\n",
      "Iter 1335/2000 - Loss: -2.405\n",
      "Iter 1336/2000 - Loss: -2.405\n",
      "Iter 1337/2000 - Loss: -2.407\n",
      "Iter 1338/2000 - Loss: -2.407\n",
      "Iter 1339/2000 - Loss: -2.407\n",
      "Iter 1340/2000 - Loss: -2.407\n",
      "Iter 1341/2000 - Loss: -2.408\n",
      "Iter 1342/2000 - Loss: -2.407\n",
      "Iter 1343/2000 - Loss: -2.408\n",
      "Iter 1344/2000 - Loss: -2.408\n",
      "Iter 1345/2000 - Loss: -2.408\n",
      "Iter 1346/2000 - Loss: -2.409\n",
      "Iter 1347/2000 - Loss: -2.409\n",
      "Iter 1348/2000 - Loss: -2.409\n",
      "Iter 1349/2000 - Loss: -2.410\n",
      "Iter 1350/2000 - Loss: -2.410\n",
      "Iter 1351/2000 - Loss: -2.410\n",
      "Iter 1352/2000 - Loss: -2.410\n",
      "Iter 1353/2000 - Loss: -2.411\n",
      "Iter 1354/2000 - Loss: -2.411\n",
      "Iter 1355/2000 - Loss: -2.411\n",
      "Iter 1356/2000 - Loss: -2.412\n",
      "Iter 1357/2000 - Loss: -2.412\n",
      "Iter 1358/2000 - Loss: -2.412\n",
      "Iter 1359/2000 - Loss: -2.412\n",
      "Iter 1360/2000 - Loss: -2.412\n",
      "Iter 1361/2000 - Loss: -2.413\n",
      "Iter 1362/2000 - Loss: -2.413\n",
      "Iter 1363/2000 - Loss: -2.413\n",
      "Iter 1364/2000 - Loss: -2.413\n",
      "Iter 1365/2000 - Loss: -2.414\n",
      "Iter 1366/2000 - Loss: -2.414\n",
      "Iter 1367/2000 - Loss: -2.414\n",
      "Iter 1368/2000 - Loss: -2.414\n",
      "Iter 1369/2000 - Loss: -2.415\n",
      "Iter 1370/2000 - Loss: -2.415\n",
      "Iter 1371/2000 - Loss: -2.415\n",
      "Iter 1372/2000 - Loss: -2.415\n",
      "Iter 1373/2000 - Loss: -2.416\n",
      "Iter 1374/2000 - Loss: -2.416\n",
      "Iter 1375/2000 - Loss: -2.416\n",
      "Iter 1376/2000 - Loss: -2.416\n",
      "Iter 1377/2000 - Loss: -2.416\n",
      "Iter 1378/2000 - Loss: -2.417\n",
      "Iter 1379/2000 - Loss: -2.417\n",
      "Iter 1380/2000 - Loss: -2.417\n",
      "Iter 1381/2000 - Loss: -2.417\n",
      "Iter 1382/2000 - Loss: -2.418\n",
      "Iter 1383/2000 - Loss: -2.418\n",
      "Iter 1384/2000 - Loss: -2.418\n",
      "Iter 1385/2000 - Loss: -2.418\n",
      "Iter 1386/2000 - Loss: -2.418\n",
      "Iter 1387/2000 - Loss: -2.419\n",
      "Iter 1388/2000 - Loss: -2.419\n",
      "Iter 1389/2000 - Loss: -2.419\n",
      "Iter 1390/2000 - Loss: -2.419\n",
      "Iter 1391/2000 - Loss: -2.419\n",
      "Iter 1392/2000 - Loss: -2.420\n",
      "Iter 1393/2000 - Loss: -2.420\n",
      "Iter 1394/2000 - Loss: -2.420\n",
      "Iter 1395/2000 - Loss: -2.420\n",
      "Iter 1396/2000 - Loss: -2.421\n",
      "Iter 1397/2000 - Loss: -2.421\n",
      "Iter 1398/2000 - Loss: -2.421\n",
      "Iter 1399/2000 - Loss: -2.421\n",
      "Iter 1400/2000 - Loss: -2.421\n",
      "Iter 1401/2000 - Loss: -2.422\n",
      "Iter 1402/2000 - Loss: -2.422\n",
      "Iter 1403/2000 - Loss: -2.422\n",
      "Iter 1404/2000 - Loss: -2.422\n",
      "Iter 1405/2000 - Loss: -2.422\n",
      "Iter 1406/2000 - Loss: -2.423\n",
      "Iter 1407/2000 - Loss: -2.423\n",
      "Iter 1408/2000 - Loss: -2.423\n",
      "Iter 1409/2000 - Loss: -2.423\n",
      "Iter 1410/2000 - Loss: -2.423\n",
      "Iter 1411/2000 - Loss: -2.424\n",
      "Iter 1412/2000 - Loss: -2.424\n",
      "Iter 1413/2000 - Loss: -2.424\n",
      "Iter 1414/2000 - Loss: -2.424\n",
      "Iter 1415/2000 - Loss: -2.425\n",
      "Iter 1416/2000 - Loss: -2.425\n",
      "Iter 1417/2000 - Loss: -2.425\n",
      "Iter 1418/2000 - Loss: -2.425\n",
      "Iter 1419/2000 - Loss: -2.425\n",
      "Iter 1420/2000 - Loss: -2.426\n",
      "Iter 1421/2000 - Loss: -2.426\n",
      "Iter 1422/2000 - Loss: -2.426\n",
      "Iter 1423/2000 - Loss: -2.426\n",
      "Iter 1424/2000 - Loss: -2.426\n",
      "Iter 1425/2000 - Loss: -2.427\n",
      "Iter 1426/2000 - Loss: -2.427\n",
      "Iter 1427/2000 - Loss: -2.427\n",
      "Iter 1428/2000 - Loss: -2.427\n",
      "Iter 1429/2000 - Loss: -2.427\n",
      "Iter 1430/2000 - Loss: -2.427\n",
      "Iter 1431/2000 - Loss: -2.428\n",
      "Iter 1432/2000 - Loss: -2.428\n",
      "Iter 1433/2000 - Loss: -2.428\n",
      "Iter 1434/2000 - Loss: -2.428\n",
      "Iter 1435/2000 - Loss: -2.428\n",
      "Iter 1436/2000 - Loss: -2.429\n",
      "Iter 1437/2000 - Loss: -2.429\n",
      "Iter 1438/2000 - Loss: -2.429\n",
      "Iter 1439/2000 - Loss: -2.429\n",
      "Iter 1440/2000 - Loss: -2.429\n",
      "Iter 1441/2000 - Loss: -2.430\n",
      "Iter 1442/2000 - Loss: -2.430\n",
      "Iter 1443/2000 - Loss: -2.430\n",
      "Iter 1444/2000 - Loss: -2.430\n",
      "Iter 1445/2000 - Loss: -2.430\n",
      "Iter 1446/2000 - Loss: -2.430\n"
     ]
    },
    {
     "name": "stdout",
     "output_type": "stream",
     "text": [
      "Iter 1447/2000 - Loss: -2.431\n",
      "Iter 1448/2000 - Loss: -2.431\n",
      "Iter 1449/2000 - Loss: -2.431\n",
      "Iter 1450/2000 - Loss: -2.431\n",
      "Iter 1451/2000 - Loss: -2.431\n",
      "Iter 1452/2000 - Loss: -2.431\n",
      "Iter 1453/2000 - Loss: -2.431\n",
      "Iter 1454/2000 - Loss: -2.432\n",
      "Iter 1455/2000 - Loss: -2.432\n",
      "Iter 1456/2000 - Loss: -2.432\n",
      "Iter 1457/2000 - Loss: -2.432\n",
      "Iter 1458/2000 - Loss: -2.432\n",
      "Iter 1459/2000 - Loss: -2.432\n",
      "Iter 1460/2000 - Loss: -2.433\n",
      "Iter 1461/2000 - Loss: -2.433\n",
      "Iter 1462/2000 - Loss: -2.433\n",
      "Iter 1463/2000 - Loss: -2.433\n",
      "Iter 1464/2000 - Loss: -2.433\n",
      "Iter 1465/2000 - Loss: -2.433\n",
      "Iter 1466/2000 - Loss: -2.433\n",
      "Iter 1467/2000 - Loss: -2.433\n",
      "Iter 1468/2000 - Loss: -2.434\n",
      "Iter 1469/2000 - Loss: -2.434\n",
      "Iter 1470/2000 - Loss: -2.434\n",
      "Iter 1471/2000 - Loss: -2.434\n",
      "Iter 1472/2000 - Loss: -2.434\n",
      "Iter 1473/2000 - Loss: -2.434\n",
      "Iter 1474/2000 - Loss: -2.434\n",
      "Iter 1475/2000 - Loss: -2.434\n",
      "Iter 1476/2000 - Loss: -2.434\n",
      "Iter 1477/2000 - Loss: -2.434\n",
      "Iter 1478/2000 - Loss: -2.435\n",
      "Iter 1479/2000 - Loss: -2.435\n",
      "Iter 1480/2000 - Loss: -2.435\n",
      "Iter 1481/2000 - Loss: -2.435\n",
      "Iter 1482/2000 - Loss: -2.435\n",
      "Iter 1483/2000 - Loss: -2.435\n",
      "Iter 1484/2000 - Loss: -2.435\n",
      "Iter 1485/2000 - Loss: -2.435\n",
      "Iter 1486/2000 - Loss: -2.435\n",
      "Iter 1487/2000 - Loss: -2.435\n",
      "Iter 1488/2000 - Loss: -2.435\n",
      "Iter 1489/2000 - Loss: -2.435\n",
      "Iter 1490/2000 - Loss: -2.435\n",
      "Iter 1491/2000 - Loss: -2.436\n",
      "Iter 1492/2000 - Loss: -2.436\n",
      "Iter 1493/2000 - Loss: -2.436\n",
      "Iter 1494/2000 - Loss: -2.436\n",
      "Iter 1495/2000 - Loss: -2.436\n",
      "Iter 1496/2000 - Loss: -2.436\n",
      "Iter 1497/2000 - Loss: -2.436\n",
      "Iter 1498/2000 - Loss: -2.436\n",
      "Iter 1499/2000 - Loss: -2.436\n",
      "Iter 1500/2000 - Loss: -2.436\n",
      "Iter 1501/2000 - Loss: -2.436\n",
      "Iter 1502/2000 - Loss: -2.436\n",
      "Iter 1503/2000 - Loss: -2.436\n",
      "Iter 1504/2000 - Loss: -2.436\n",
      "Iter 1505/2000 - Loss: -2.436\n",
      "Iter 1506/2000 - Loss: -2.436\n",
      "Iter 1507/2000 - Loss: -2.436\n",
      "Iter 1508/2000 - Loss: -2.436\n",
      "Iter 1509/2000 - Loss: -2.436\n",
      "Iter 1510/2000 - Loss: -2.436\n",
      "Iter 1511/2000 - Loss: -2.436\n",
      "Iter 1512/2000 - Loss: -2.436\n",
      "Iter 1513/2000 - Loss: -2.437\n",
      "Iter 1514/2000 - Loss: -2.437\n",
      "Iter 1515/2000 - Loss: -2.437\n",
      "Iter 1516/2000 - Loss: -2.437\n",
      "Iter 1517/2000 - Loss: -2.437\n",
      "Iter 1518/2000 - Loss: -2.437\n",
      "Iter 1519/2000 - Loss: -2.437\n",
      "Iter 1520/2000 - Loss: -2.437\n",
      "Iter 1521/2000 - Loss: -2.437\n",
      "Iter 1522/2000 - Loss: -2.437\n",
      "Iter 1523/2000 - Loss: -2.437\n",
      "Iter 1524/2000 - Loss: -2.437\n",
      "Iter 1525/2000 - Loss: -2.437\n",
      "Iter 1526/2000 - Loss: -2.437\n",
      "Iter 1527/2000 - Loss: -2.437\n",
      "Iter 1528/2000 - Loss: -2.437\n",
      "Iter 1529/2000 - Loss: -2.437\n",
      "Iter 1530/2000 - Loss: -2.437\n",
      "Iter 1531/2000 - Loss: -2.437\n",
      "Iter 1532/2000 - Loss: -2.437\n",
      "Iter 1533/2000 - Loss: -2.437\n",
      "Iter 1534/2000 - Loss: -2.437\n",
      "Iter 1535/2000 - Loss: -2.437\n",
      "Iter 1536/2000 - Loss: -2.437\n",
      "Iter 1537/2000 - Loss: -2.436\n",
      "Iter 1538/2000 - Loss: -2.435\n",
      "Iter 1539/2000 - Loss: -2.433\n",
      "Iter 1540/2000 - Loss: -2.428\n",
      "Iter 1541/2000 - Loss: -2.419\n",
      "Iter 1542/2000 - Loss: -2.409\n",
      "Iter 1543/2000 - Loss: -2.411\n",
      "Iter 1544/2000 - Loss: -2.395\n",
      "Iter 1545/2000 - Loss: -2.390\n",
      "Iter 1546/2000 - Loss: -2.389\n",
      "Iter 1547/2000 - Loss: -2.316\n",
      "Iter 1548/2000 - Loss: -1.979\n",
      "Iter 1549/2000 - Loss: -1.471\n",
      "Iter 1550/2000 - Loss: -1.902\n",
      "Iter 1551/2000 - Loss: -1.845\n",
      "Iter 1552/2000 - Loss: -2.128\n",
      "Iter 1553/2000 - Loss: -1.820\n",
      "Iter 1554/2000 - Loss: -2.196\n",
      "Iter 1555/2000 - Loss: -2.076\n",
      "Iter 1556/2000 - Loss: -1.998\n",
      "Iter 1557/2000 - Loss: -2.154\n",
      "Iter 1558/2000 - Loss: -2.198\n",
      "Iter 1559/2000 - Loss: -2.134\n",
      "Iter 1560/2000 - Loss: -2.110\n",
      "Iter 1561/2000 - Loss: -2.149\n",
      "Iter 1562/2000 - Loss: -2.192\n",
      "Iter 1563/2000 - Loss: -2.207\n",
      "Iter 1564/2000 - Loss: -2.201\n",
      "Iter 1565/2000 - Loss: -2.190\n",
      "Iter 1566/2000 - Loss: -2.185\n",
      "Iter 1567/2000 - Loss: -2.188\n",
      "Iter 1568/2000 - Loss: -2.195\n",
      "Iter 1569/2000 - Loss: -2.204\n",
      "Iter 1570/2000 - Loss: -2.212\n",
      "Iter 1571/2000 - Loss: -2.217\n",
      "Iter 1572/2000 - Loss: -2.219\n",
      "Iter 1573/2000 - Loss: -2.220\n",
      "Iter 1574/2000 - Loss: -2.220\n",
      "Iter 1575/2000 - Loss: -2.219\n",
      "Iter 1576/2000 - Loss: -2.219\n",
      "Iter 1577/2000 - Loss: -2.220\n",
      "Iter 1578/2000 - Loss: -2.221\n",
      "Iter 1579/2000 - Loss: -2.222\n",
      "Iter 1580/2000 - Loss: -2.224\n",
      "Iter 1581/2000 - Loss: -2.226\n",
      "Iter 1582/2000 - Loss: -2.228\n",
      "Iter 1583/2000 - Loss: -2.230\n",
      "Iter 1584/2000 - Loss: -2.231\n",
      "Iter 1585/2000 - Loss: -2.233\n",
      "Iter 1586/2000 - Loss: -2.234\n",
      "Iter 1587/2000 - Loss: -2.235\n",
      "Iter 1588/2000 - Loss: -2.236\n",
      "Iter 1589/2000 - Loss: -2.237\n",
      "Iter 1590/2000 - Loss: -2.238\n",
      "Iter 1591/2000 - Loss: -2.238\n",
      "Iter 1592/2000 - Loss: -2.239\n",
      "Iter 1593/2000 - Loss: -2.240\n",
      "Iter 1594/2000 - Loss: -2.241\n",
      "Iter 1595/2000 - Loss: -2.241\n",
      "Iter 1596/2000 - Loss: -2.242\n",
      "Iter 1597/2000 - Loss: -2.243\n",
      "Iter 1598/2000 - Loss: -2.244\n",
      "Iter 1599/2000 - Loss: -2.245\n",
      "Iter 1600/2000 - Loss: -2.246\n",
      "Iter 1601/2000 - Loss: -2.246\n",
      "Iter 1602/2000 - Loss: -2.247\n",
      "Iter 1603/2000 - Loss: -2.248\n",
      "Iter 1604/2000 - Loss: -2.249\n",
      "Iter 1605/2000 - Loss: -2.249\n",
      "Iter 1606/2000 - Loss: -2.250\n",
      "Iter 1607/2000 - Loss: -2.251\n",
      "Iter 1608/2000 - Loss: -2.251\n",
      "Iter 1609/2000 - Loss: -2.252\n",
      "Iter 1610/2000 - Loss: -2.253\n",
      "Iter 1611/2000 - Loss: -2.253\n",
      "Iter 1612/2000 - Loss: -2.254\n",
      "Iter 1613/2000 - Loss: -2.254\n",
      "Iter 1614/2000 - Loss: -2.255\n",
      "Iter 1615/2000 - Loss: -2.256\n",
      "Iter 1616/2000 - Loss: -2.256\n",
      "Iter 1617/2000 - Loss: -2.257\n",
      "Iter 1618/2000 - Loss: -2.257\n",
      "Iter 1619/2000 - Loss: -2.258\n",
      "Iter 1620/2000 - Loss: -2.258\n",
      "Iter 1621/2000 - Loss: -2.259\n",
      "Iter 1622/2000 - Loss: -2.259\n",
      "Iter 1623/2000 - Loss: -2.260\n",
      "Iter 1624/2000 - Loss: -2.261\n",
      "Iter 1625/2000 - Loss: -2.261\n",
      "Iter 1626/2000 - Loss: -2.262\n",
      "Iter 1627/2000 - Loss: -2.262\n",
      "Iter 1628/2000 - Loss: -2.262\n",
      "Iter 1629/2000 - Loss: -2.263\n",
      "Iter 1630/2000 - Loss: -2.263\n",
      "Iter 1631/2000 - Loss: -2.264\n",
      "Iter 1632/2000 - Loss: -2.264\n",
      "Iter 1633/2000 - Loss: -2.265\n",
      "Iter 1634/2000 - Loss: -2.265\n",
      "Iter 1635/2000 - Loss: -2.266\n",
      "Iter 1636/2000 - Loss: -2.266\n",
      "Iter 1637/2000 - Loss: -2.267\n",
      "Iter 1638/2000 - Loss: -2.267\n",
      "Iter 1639/2000 - Loss: -2.268\n",
      "Iter 1640/2000 - Loss: -2.268\n",
      "Iter 1641/2000 - Loss: -2.268\n",
      "Iter 1642/2000 - Loss: -2.269\n",
      "Iter 1643/2000 - Loss: -2.269\n",
      "Iter 1644/2000 - Loss: -2.270\n",
      "Iter 1645/2000 - Loss: -2.270\n",
      "Iter 1646/2000 - Loss: -2.270\n",
      "Iter 1647/2000 - Loss: -2.271\n",
      "Iter 1648/2000 - Loss: -2.271\n",
      "Iter 1649/2000 - Loss: -2.272\n",
      "Iter 1650/2000 - Loss: -2.272\n",
      "Iter 1651/2000 - Loss: -2.273\n",
      "Iter 1652/2000 - Loss: -2.273\n",
      "Iter 1653/2000 - Loss: -2.273\n",
      "Iter 1654/2000 - Loss: -2.274\n",
      "Iter 1655/2000 - Loss: -2.274\n",
      "Iter 1656/2000 - Loss: -2.274\n",
      "Iter 1657/2000 - Loss: -2.275\n",
      "Iter 1658/2000 - Loss: -2.275\n",
      "Iter 1659/2000 - Loss: -2.276\n",
      "Iter 1660/2000 - Loss: -2.276\n",
      "Iter 1661/2000 - Loss: -2.276\n",
      "Iter 1662/2000 - Loss: -2.277\n",
      "Iter 1663/2000 - Loss: -2.277\n",
      "Iter 1664/2000 - Loss: -2.278\n",
      "Iter 1665/2000 - Loss: -2.278\n",
      "Iter 1666/2000 - Loss: -2.278\n",
      "Iter 1667/2000 - Loss: -2.279\n",
      "Iter 1668/2000 - Loss: -2.279\n",
      "Iter 1669/2000 - Loss: -2.279\n",
      "Iter 1670/2000 - Loss: -2.280\n",
      "Iter 1671/2000 - Loss: -2.280\n",
      "Iter 1672/2000 - Loss: -2.280\n",
      "Iter 1673/2000 - Loss: -2.281\n",
      "Iter 1674/2000 - Loss: -2.281\n",
      "Iter 1675/2000 - Loss: -2.282\n",
      "Iter 1676/2000 - Loss: -2.282\n",
      "Iter 1677/2000 - Loss: -2.282\n",
      "Iter 1678/2000 - Loss: -2.283\n",
      "Iter 1679/2000 - Loss: -2.283\n",
      "Iter 1680/2000 - Loss: -2.283\n",
      "Iter 1681/2000 - Loss: -2.284\n",
      "Iter 1682/2000 - Loss: -2.284\n",
      "Iter 1683/2000 - Loss: -2.285\n",
      "Iter 1684/2000 - Loss: -2.285\n",
      "Iter 1685/2000 - Loss: -2.285\n",
      "Iter 1686/2000 - Loss: -2.286\n",
      "Iter 1687/2000 - Loss: -2.286\n",
      "Iter 1688/2000 - Loss: -2.286\n",
      "Iter 1689/2000 - Loss: -2.287\n",
      "Iter 1690/2000 - Loss: -2.287\n",
      "Iter 1691/2000 - Loss: -2.288\n",
      "Iter 1692/2000 - Loss: -2.288\n",
      "Iter 1693/2000 - Loss: -2.288\n",
      "Iter 1694/2000 - Loss: -2.289\n",
      "Iter 1695/2000 - Loss: -2.289\n",
      "Iter 1696/2000 - Loss: -2.290\n",
      "Iter 1697/2000 - Loss: -2.290\n",
      "Iter 1698/2000 - Loss: -2.290\n",
      "Iter 1699/2000 - Loss: -2.291\n",
      "Iter 1700/2000 - Loss: -2.291\n",
      "Iter 1701/2000 - Loss: -2.292\n",
      "Iter 1702/2000 - Loss: -2.292\n",
      "Iter 1703/2000 - Loss: -2.293\n",
      "Iter 1704/2000 - Loss: -2.293\n",
      "Iter 1705/2000 - Loss: -2.294\n",
      "Iter 1706/2000 - Loss: -2.294\n",
      "Iter 1707/2000 - Loss: -2.295\n",
      "Iter 1708/2000 - Loss: -2.295\n",
      "Iter 1709/2000 - Loss: -2.296\n",
      "Iter 1710/2000 - Loss: -2.296\n",
      "Iter 1711/2000 - Loss: -2.297\n",
      "Iter 1712/2000 - Loss: -2.297\n",
      "Iter 1713/2000 - Loss: -2.298\n",
      "Iter 1714/2000 - Loss: -2.298\n",
      "Iter 1715/2000 - Loss: -2.299\n",
      "Iter 1716/2000 - Loss: -2.299\n",
      "Iter 1717/2000 - Loss: -2.300\n",
      "Iter 1718/2000 - Loss: -2.301\n",
      "Iter 1719/2000 - Loss: -2.301\n",
      "Iter 1720/2000 - Loss: -2.302\n",
      "Iter 1721/2000 - Loss: -2.303\n",
      "Iter 1722/2000 - Loss: -2.304\n",
      "Iter 1723/2000 - Loss: -2.304\n",
      "Iter 1724/2000 - Loss: -2.305\n",
      "Iter 1725/2000 - Loss: -2.306\n"
     ]
    },
    {
     "name": "stdout",
     "output_type": "stream",
     "text": [
      "Iter 1726/2000 - Loss: -2.307\n",
      "Iter 1727/2000 - Loss: -2.308\n",
      "Iter 1728/2000 - Loss: -2.309\n",
      "Iter 1729/2000 - Loss: -2.310\n",
      "Iter 1730/2000 - Loss: -2.311\n",
      "Iter 1731/2000 - Loss: -2.313\n",
      "Iter 1732/2000 - Loss: -2.314\n",
      "Iter 1733/2000 - Loss: -2.315\n",
      "Iter 1734/2000 - Loss: -2.317\n",
      "Iter 1735/2000 - Loss: -2.318\n",
      "Iter 1736/2000 - Loss: -2.320\n",
      "Iter 1737/2000 - Loss: -2.321\n",
      "Iter 1738/2000 - Loss: -2.323\n",
      "Iter 1739/2000 - Loss: -2.325\n",
      "Iter 1740/2000 - Loss: -2.327\n",
      "Iter 1741/2000 - Loss: -2.329\n",
      "Iter 1742/2000 - Loss: -2.331\n",
      "Iter 1743/2000 - Loss: -2.333\n",
      "Iter 1744/2000 - Loss: -2.335\n",
      "Iter 1745/2000 - Loss: -2.337\n",
      "Iter 1746/2000 - Loss: -2.339\n",
      "Iter 1747/2000 - Loss: -2.341\n",
      "Iter 1748/2000 - Loss: -2.343\n",
      "Iter 1749/2000 - Loss: -2.346\n",
      "Iter 1750/2000 - Loss: -2.348\n",
      "Iter 1751/2000 - Loss: -2.351\n",
      "Iter 1752/2000 - Loss: -2.354\n",
      "Iter 1753/2000 - Loss: -2.357\n",
      "Iter 1754/2000 - Loss: -2.361\n",
      "Iter 1755/2000 - Loss: -2.365\n",
      "Iter 1756/2000 - Loss: -2.372\n",
      "Iter 1757/2000 - Loss: -2.379\n",
      "Iter 1758/2000 - Loss: -2.384\n",
      "Iter 1759/2000 - Loss: -2.380\n",
      "Iter 1760/2000 - Loss: -2.374\n",
      "Iter 1761/2000 - Loss: -2.373\n",
      "Iter 1762/2000 - Loss: -2.377\n",
      "Iter 1763/2000 - Loss: -2.383\n",
      "Iter 1764/2000 - Loss: -2.387\n",
      "Iter 1765/2000 - Loss: -2.388\n",
      "Iter 1766/2000 - Loss: -2.387\n",
      "Iter 1767/2000 - Loss: -2.388\n",
      "Iter 1768/2000 - Loss: -2.389\n",
      "Iter 1769/2000 - Loss: -2.390\n",
      "Iter 1770/2000 - Loss: -2.389\n",
      "Iter 1771/2000 - Loss: -2.388\n",
      "Iter 1772/2000 - Loss: -2.388\n",
      "Iter 1773/2000 - Loss: -2.389\n",
      "Iter 1774/2000 - Loss: -2.391\n",
      "Iter 1775/2000 - Loss: -2.391\n",
      "Iter 1776/2000 - Loss: -2.390\n",
      "Iter 1777/2000 - Loss: -2.391\n",
      "Iter 1778/2000 - Loss: -2.393\n",
      "Iter 1779/2000 - Loss: -2.393\n",
      "Iter 1780/2000 - Loss: -2.393\n",
      "Iter 1781/2000 - Loss: -2.393\n",
      "Iter 1782/2000 - Loss: -2.394\n",
      "Iter 1783/2000 - Loss: -2.395\n",
      "Iter 1784/2000 - Loss: -2.394\n",
      "Iter 1785/2000 - Loss: -2.394\n",
      "Iter 1786/2000 - Loss: -2.395\n",
      "Iter 1787/2000 - Loss: -2.396\n",
      "Iter 1788/2000 - Loss: -2.396\n",
      "Iter 1789/2000 - Loss: -2.397\n",
      "Iter 1790/2000 - Loss: -2.397\n",
      "Iter 1791/2000 - Loss: -2.398\n",
      "Iter 1792/2000 - Loss: -2.398\n",
      "Iter 1793/2000 - Loss: -2.398\n",
      "Iter 1794/2000 - Loss: -2.398\n",
      "Iter 1795/2000 - Loss: -2.399\n",
      "Iter 1796/2000 - Loss: -2.399\n",
      "Iter 1797/2000 - Loss: -2.399\n",
      "Iter 1798/2000 - Loss: -2.399\n",
      "Iter 1799/2000 - Loss: -2.400\n",
      "Iter 1800/2000 - Loss: -2.400\n",
      "Iter 1801/2000 - Loss: -2.400\n",
      "Iter 1802/2000 - Loss: -2.400\n",
      "Iter 1803/2000 - Loss: -2.401\n",
      "Iter 1804/2000 - Loss: -2.401\n",
      "Iter 1805/2000 - Loss: -2.401\n",
      "Iter 1806/2000 - Loss: -2.401\n",
      "Iter 1807/2000 - Loss: -2.402\n",
      "Iter 1808/2000 - Loss: -2.402\n",
      "Iter 1809/2000 - Loss: -2.402\n",
      "Iter 1810/2000 - Loss: -2.402\n",
      "Iter 1811/2000 - Loss: -2.402\n",
      "Iter 1812/2000 - Loss: -2.403\n",
      "Iter 1813/2000 - Loss: -2.403\n",
      "Iter 1814/2000 - Loss: -2.403\n",
      "Iter 1815/2000 - Loss: -2.403\n",
      "Iter 1816/2000 - Loss: -2.403\n",
      "Iter 1817/2000 - Loss: -2.404\n",
      "Iter 1818/2000 - Loss: -2.404\n",
      "Iter 1819/2000 - Loss: -2.404\n",
      "Iter 1820/2000 - Loss: -2.404\n",
      "Iter 1821/2000 - Loss: -2.404\n",
      "Iter 1822/2000 - Loss: -2.404\n",
      "Iter 1823/2000 - Loss: -2.405\n",
      "Iter 1824/2000 - Loss: -2.405\n",
      "Iter 1825/2000 - Loss: -2.405\n",
      "Iter 1826/2000 - Loss: -2.405\n",
      "Iter 1827/2000 - Loss: -2.405\n",
      "Iter 1828/2000 - Loss: -2.405\n",
      "Iter 1829/2000 - Loss: -2.406\n",
      "Iter 1830/2000 - Loss: -2.406\n",
      "Iter 1831/2000 - Loss: -2.406\n",
      "Iter 1832/2000 - Loss: -2.406\n",
      "Iter 1833/2000 - Loss: -2.406\n",
      "Iter 1834/2000 - Loss: -2.406\n",
      "Iter 1835/2000 - Loss: -2.407\n",
      "Iter 1836/2000 - Loss: -2.407\n",
      "Iter 1837/2000 - Loss: -2.407\n",
      "Iter 1838/2000 - Loss: -2.407\n",
      "Iter 1839/2000 - Loss: -2.407\n",
      "Iter 1840/2000 - Loss: -2.407\n",
      "Iter 1841/2000 - Loss: -2.408\n",
      "Iter 1842/2000 - Loss: -2.408\n",
      "Iter 1843/2000 - Loss: -2.408\n",
      "Iter 1844/2000 - Loss: -2.408\n",
      "Iter 1845/2000 - Loss: -2.408\n",
      "Iter 1846/2000 - Loss: -2.408\n",
      "Iter 1847/2000 - Loss: -2.409\n",
      "Iter 1848/2000 - Loss: -2.409\n",
      "Iter 1849/2000 - Loss: -2.409\n",
      "Iter 1850/2000 - Loss: -2.409\n",
      "Iter 1851/2000 - Loss: -2.409\n",
      "Iter 1852/2000 - Loss: -2.409\n",
      "Iter 1853/2000 - Loss: -2.410\n",
      "Iter 1854/2000 - Loss: -2.410\n",
      "Iter 1855/2000 - Loss: -2.410\n",
      "Iter 1856/2000 - Loss: -2.410\n",
      "Iter 1857/2000 - Loss: -2.410\n",
      "Iter 1858/2000 - Loss: -2.410\n",
      "Iter 1859/2000 - Loss: -2.411\n",
      "Iter 1860/2000 - Loss: -2.411\n",
      "Iter 1861/2000 - Loss: -2.411\n",
      "Iter 1862/2000 - Loss: -2.411\n",
      "Iter 1863/2000 - Loss: -2.411\n",
      "Iter 1864/2000 - Loss: -2.411\n",
      "Iter 1865/2000 - Loss: -2.412\n",
      "Iter 1866/2000 - Loss: -2.412\n",
      "Iter 1867/2000 - Loss: -2.412\n",
      "Iter 1868/2000 - Loss: -2.412\n",
      "Iter 1869/2000 - Loss: -2.412\n",
      "Iter 1870/2000 - Loss: -2.413\n",
      "Iter 1871/2000 - Loss: -2.413\n",
      "Iter 1872/2000 - Loss: -2.413\n",
      "Iter 1873/2000 - Loss: -2.413\n",
      "Iter 1874/2000 - Loss: -2.413\n",
      "Iter 1875/2000 - Loss: -2.413\n",
      "Iter 1876/2000 - Loss: -2.414\n",
      "Iter 1877/2000 - Loss: -2.414\n",
      "Iter 1878/2000 - Loss: -2.414\n",
      "Iter 1879/2000 - Loss: -2.414\n",
      "Iter 1880/2000 - Loss: -2.414\n",
      "Iter 1881/2000 - Loss: -2.415\n",
      "Iter 1882/2000 - Loss: -2.415\n",
      "Iter 1883/2000 - Loss: -2.415\n",
      "Iter 1884/2000 - Loss: -2.415\n",
      "Iter 1885/2000 - Loss: -2.415\n",
      "Iter 1886/2000 - Loss: -2.415\n",
      "Iter 1887/2000 - Loss: -2.416\n",
      "Iter 1888/2000 - Loss: -2.416\n",
      "Iter 1889/2000 - Loss: -2.416\n",
      "Iter 1890/2000 - Loss: -2.416\n",
      "Iter 1891/2000 - Loss: -2.416\n",
      "Iter 1892/2000 - Loss: -2.417\n",
      "Iter 1893/2000 - Loss: -2.417\n",
      "Iter 1894/2000 - Loss: -2.417\n",
      "Iter 1895/2000 - Loss: -2.417\n",
      "Iter 1896/2000 - Loss: -2.417\n",
      "Iter 1897/2000 - Loss: -2.418\n",
      "Iter 1898/2000 - Loss: -2.418\n",
      "Iter 1899/2000 - Loss: -2.418\n",
      "Iter 1900/2000 - Loss: -2.418\n",
      "Iter 1901/2000 - Loss: -2.418\n",
      "Iter 1902/2000 - Loss: -2.419\n",
      "Iter 1903/2000 - Loss: -2.419\n",
      "Iter 1904/2000 - Loss: -2.419\n",
      "Iter 1905/2000 - Loss: -2.419\n",
      "Iter 1906/2000 - Loss: -2.419\n",
      "Iter 1907/2000 - Loss: -2.420\n",
      "Iter 1908/2000 - Loss: -2.420\n",
      "Iter 1909/2000 - Loss: -2.420\n",
      "Iter 1910/2000 - Loss: -2.420\n",
      "Iter 1911/2000 - Loss: -2.420\n",
      "Iter 1912/2000 - Loss: -2.421\n",
      "Iter 1913/2000 - Loss: -2.421\n",
      "Iter 1914/2000 - Loss: -2.421\n",
      "Iter 1915/2000 - Loss: -2.421\n",
      "Iter 1916/2000 - Loss: -2.421\n",
      "Iter 1917/2000 - Loss: -2.422\n",
      "Iter 1918/2000 - Loss: -2.422\n",
      "Iter 1919/2000 - Loss: -2.422\n",
      "Iter 1920/2000 - Loss: -2.422\n",
      "Iter 1921/2000 - Loss: -2.422\n",
      "Iter 1922/2000 - Loss: -2.423\n",
      "Iter 1923/2000 - Loss: -2.423\n",
      "Iter 1924/2000 - Loss: -2.423\n",
      "Iter 1925/2000 - Loss: -2.423\n",
      "Iter 1926/2000 - Loss: -2.423\n",
      "Iter 1927/2000 - Loss: -2.423\n",
      "Iter 1928/2000 - Loss: -2.423\n",
      "Iter 1929/2000 - Loss: -2.423\n",
      "Iter 1930/2000 - Loss: -2.422\n",
      "Iter 1931/2000 - Loss: -2.420\n",
      "Iter 1932/2000 - Loss: -2.419\n",
      "Iter 1933/2000 - Loss: -2.418\n",
      "Iter 1934/2000 - Loss: -2.420\n",
      "Iter 1935/2000 - Loss: -2.419\n",
      "Iter 1936/2000 - Loss: -2.398\n",
      "Iter 1937/2000 - Loss: -2.380\n",
      "Iter 1938/2000 - Loss: -2.356\n",
      "Iter 1939/2000 - Loss: -2.344\n",
      "Iter 1940/2000 - Loss: -2.337\n",
      "Iter 1941/2000 - Loss: -2.333\n",
      "Iter 1942/2000 - Loss: -2.331\n",
      "Iter 1943/2000 - Loss: -2.331\n",
      "Iter 1944/2000 - Loss: -2.331\n",
      "Iter 1945/2000 - Loss: -2.333\n",
      "Iter 1946/2000 - Loss: -2.336\n",
      "Iter 1947/2000 - Loss: -2.340\n",
      "Iter 1948/2000 - Loss: -2.345\n",
      "Iter 1949/2000 - Loss: -2.350\n",
      "Iter 1950/2000 - Loss: -2.349\n",
      "Iter 1951/2000 - Loss: -1.079\n",
      "Iter 1952/2000 - Loss: -1.001\n",
      "Iter 1953/2000 - Loss: -0.061\n",
      "Iter 1954/2000 - Loss: -2.175\n",
      "Iter 1955/2000 - Loss: -1.367\n",
      "Iter 1956/2000 - Loss: -1.658\n",
      "Iter 1957/2000 - Loss: -2.251\n",
      "Iter 1958/2000 - Loss: -1.851\n",
      "Iter 1959/2000 - Loss: -1.783\n",
      "Iter 1960/2000 - Loss: -2.106\n",
      "Iter 1961/2000 - Loss: -2.234\n",
      "Iter 1962/2000 - Loss: -2.150\n",
      "Iter 1963/2000 - Loss: -2.063\n",
      "Iter 1964/2000 - Loss: -2.066\n",
      "Iter 1965/2000 - Loss: -2.125\n",
      "Iter 1966/2000 - Loss: -2.185\n",
      "Iter 1967/2000 - Loss: -2.218\n",
      "Iter 1968/2000 - Loss: -2.226\n",
      "Iter 1969/2000 - Loss: -2.218\n",
      "Iter 1970/2000 - Loss: -2.206\n",
      "Iter 1971/2000 - Loss: -2.196\n",
      "Iter 1972/2000 - Loss: -2.192\n",
      "Iter 1973/2000 - Loss: -2.194\n",
      "Iter 1974/2000 - Loss: -2.199\n",
      "Iter 1975/2000 - Loss: -2.206\n",
      "Iter 1976/2000 - Loss: -2.213\n",
      "Iter 1977/2000 - Loss: -2.219\n",
      "Iter 1978/2000 - Loss: -2.225\n",
      "Iter 1979/2000 - Loss: -2.228\n",
      "Iter 1980/2000 - Loss: -2.231\n",
      "Iter 1981/2000 - Loss: -2.232\n",
      "Iter 1982/2000 - Loss: -2.233\n",
      "Iter 1983/2000 - Loss: -2.233\n",
      "Iter 1984/2000 - Loss: -2.233\n",
      "Iter 1985/2000 - Loss: -2.233\n",
      "Iter 1986/2000 - Loss: -2.233\n",
      "Iter 1987/2000 - Loss: -2.233\n",
      "Iter 1988/2000 - Loss: -2.233\n",
      "Iter 1989/2000 - Loss: -2.234\n",
      "Iter 1990/2000 - Loss: -2.234\n",
      "Iter 1991/2000 - Loss: -2.235\n",
      "Iter 1992/2000 - Loss: -2.236\n",
      "Iter 1993/2000 - Loss: -2.237\n",
      "Iter 1994/2000 - Loss: -2.238\n",
      "Iter 1995/2000 - Loss: -2.239\n",
      "Iter 1996/2000 - Loss: -2.239\n",
      "Iter 1997/2000 - Loss: -2.240\n",
      "Iter 1998/2000 - Loss: -2.241\n",
      "Iter 1999/2000 - Loss: -2.242\n",
      "Iter 2000/2000 - Loss: -2.242\n"
     ]
    },
    {
     "data": {
      "text/plain": [
       "MultitaskGaussianLikelihood(\n",
       "  (raw_task_noises_constraint): GreaterThan(1.000E-04)\n",
       "  (raw_noise_constraint): GreaterThan(1.000E-04)\n",
       ")"
      ]
     },
     "execution_count": 102,
     "metadata": {},
     "output_type": "execute_result"
    }
   ],
   "source": [
    "family=\"hermite\"\n",
    "\n",
    "train_x_torch_final = torch.tensor(np.float32(train_x_raw)).to(device)\n",
    "test_x_torch_final = torch.tensor(np.float32(test_x_raw)).to(device)\n",
    "\n",
    "if family==\"hermite\":\n",
    "    train_y_torch_final = torch.tensor(np.float32(polynomial_coeffs_her.T)).to(device)\n",
    "    test_y_torch_final = torch.tensor(np.float32(polynomial_coeffs_her_test.T)).to(device)\n",
    "elif family==\"legendre\":\n",
    "    train_y_torch_final = torch.tensor(np.float32(polynomial_coeffs_leg.T)).to(device)    \n",
    "    test_y_torch_final = torch.tensor(np.float32(polynomial_coeffs_leg_test.T)).to(device)\n",
    "elif family==\"laguerre\":\n",
    "    train_y_torch_final = torch.tensor(np.float32(polynomial_coeffs_lag.T)).to(device)\n",
    "    test_y_torch_final = torch.tensor(np.float32(polynomial_coeffs_lag_test.T)).to(device)\n",
    "    \n",
    "likelihood = gpytorch.likelihoods.MultitaskGaussianLikelihood(num_tasks=7)\n",
    "model = MultitaskGPModel(train_x_torch_final, train_y_torch_final, likelihood)  \n",
    "\n",
    "# Find optimal model hyperparameters\n",
    "model.train()\n",
    "likelihood.train()\n",
    "\n",
    "# Use the adam optimizer\n",
    "optimizer = torch.optim.Adam(model.parameters(), lr=0.05)  # Includes GaussianLikelihood parameters\n",
    "\n",
    "# \"Loss\" for GPs - the marginal log likelihood\n",
    "mll = gpytorch.mlls.ExactMarginalLogLikelihood(likelihood, model)\n",
    "\n",
    "training_iterations = 2000\n",
    "\n",
    "for i in range(training_iterations):\n",
    "    optimizer.zero_grad()\n",
    "    output = model(train_x_torch_final)\n",
    "    loss = -mll(output, train_y_torch_final)\n",
    "    loss.backward()\n",
    "    print('Iter %d/%d - Loss: %.3f' % (i + 1, training_iterations, loss.item()))\n",
    "    optimizer.step()\n",
    "    \n",
    "# Set into eval mode\n",
    "model.eval()\n",
    "likelihood.eval()"
   ]
  },
  {
   "cell_type": "code",
   "execution_count": 103,
   "metadata": {},
   "outputs": [],
   "source": [
    "with torch.no_grad(), gpytorch.settings.fast_pred_var():\n",
    "    observed_pred = likelihood(model(test_x_torch_final))\n",
    "    mean_pred = observed_pred.mean\n",
    "    lower, upper = observed_pred.confidence_region()"
   ]
  },
  {
   "cell_type": "code",
   "execution_count": 104,
   "metadata": {},
   "outputs": [
    {
     "data": {
      "text/plain": [
       "tensor([-1.3555e-09,  1.5065e-09,  2.6022e-09,  2.0581e-09, -4.2570e-10,\n",
       "         8.8676e-11,  1.0918e-09,  4.0043e-09,  3.9751e-10, -6.7502e-10,\n",
       "         1.6319e-09,  1.0532e-09, -1.3583e-09,  1.5208e-09,  2.1270e-09,\n",
       "        -3.0070e-11,  8.6118e-11,  1.5881e-09,  1.8201e-10,  5.9259e-10,\n",
       "         1.1053e-09,  1.0556e-09, -1.2223e-09, -1.3614e-10,  1.1050e-09,\n",
       "         1.0985e-09,  1.6963e-09,  2.5699e-10, -1.3512e-10, -8.4179e-10,\n",
       "         4.0825e-10, -7.9592e-10, -1.1202e-09, -1.0552e-09,  1.2923e-09,\n",
       "        -1.4967e-09, -2.2220e-10,  1.9850e-10,  9.2655e-11, -6.4790e-10,\n",
       "        -3.5067e-10,  2.3664e-10,  1.4765e-09,  3.5169e-10, -1.6939e-10,\n",
       "        -5.6457e-10,  5.6218e-10, -6.4102e-10,  3.3098e-09, -5.1494e-10,\n",
       "        -2.3027e-10,  3.1355e-10, -1.0632e-09])"
      ]
     },
     "execution_count": 104,
     "metadata": {},
     "output_type": "execute_result"
    }
   ],
   "source": [
    "mean_pred[:, -2]"
   ]
  },
  {
   "cell_type": "code",
   "execution_count": 105,
   "metadata": {},
   "outputs": [
    {
     "data": {
      "text/plain": [
       "tensor([13.1270, 11.2147, 10.8884,  9.8408, 11.0208, 11.0075, 10.8392,  7.6406,\n",
       "        10.9301,  9.0641,  9.0479, 10.8048, 10.7543,  9.3943,  8.4638, 11.6031,\n",
       "        10.1100,  9.9614,  9.9584, 11.0384, 11.2132, 11.5473, 11.9431, 10.8811,\n",
       "         9.7411, 11.0280,  8.8427, 12.6771, 12.0021, 11.2228, 11.0260,  8.7031,\n",
       "        10.7282, 11.6600,  9.4012, 10.2934, 12.2083, 10.4984, 10.7210, 11.9444,\n",
       "         8.7248,  9.6413,  9.6641,  9.9161, 10.0324, 10.2826, 10.4150, 12.3678,\n",
       "         8.5865, 10.9155,  8.7826,  9.7731, 12.3528])"
      ]
     },
     "execution_count": 105,
     "metadata": {},
     "output_type": "execute_result"
    }
   ],
   "source": [
    "mean_pred[:, 0]"
   ]
  },
  {
   "cell_type": "code",
   "execution_count": 106,
   "metadata": {},
   "outputs": [
    {
     "data": {
      "text/plain": [
       "torch.Size([53, 7])"
      ]
     },
     "execution_count": 106,
     "metadata": {},
     "output_type": "execute_result"
    }
   ],
   "source": [
    "observed_pred.stddev.shape"
   ]
  },
  {
   "cell_type": "code",
   "execution_count": 107,
   "metadata": {},
   "outputs": [
    {
     "data": {
      "text/plain": [
       "(torch.Size([53, 7]), torch.Size([53, 7]))"
      ]
     },
     "execution_count": 107,
     "metadata": {},
     "output_type": "execute_result"
    }
   ],
   "source": [
    "lower.shape, upper.shape"
   ]
  },
  {
   "cell_type": "code",
   "execution_count": 108,
   "metadata": {},
   "outputs": [],
   "source": [
    "err0 = np.vstack((np.abs(lower[:, 0].numpy()), upper[:, 0].numpy()))"
   ]
  },
  {
   "cell_type": "code",
   "execution_count": 109,
   "metadata": {},
   "outputs": [
    {
     "data": {
      "text/plain": [
       "array([13.128983 , 11.216675 , 10.890418 ,  9.842836 , 11.022776 ,\n",
       "       11.009461 , 10.841202 ,  7.6426306, 10.93211  ,  9.066084 ,\n",
       "        9.049893 , 10.806802 , 10.756263 ,  9.396312 ,  8.465804 ,\n",
       "       11.60508  , 10.112039 ,  9.963435 ,  9.960357 , 11.040401 ,\n",
       "       11.215226 , 11.549258 , 11.945146 , 10.883079 ,  9.743144 ,\n",
       "       11.029956 ,  8.844691 , 12.679148 , 12.004098 , 11.224779 ,\n",
       "       11.027979 ,  8.705052 , 10.730245 , 11.662018 ,  9.403223 ,\n",
       "       10.295388 , 12.21031  , 10.500394 , 10.722976 , 11.946366 ,\n",
       "        8.726759 ,  9.64334  ,  9.666117 ,  9.918079 , 10.03445  ,\n",
       "       10.284623 , 10.417027 , 12.369837 ,  8.588522 , 10.917536 ,\n",
       "        8.784643 ,  9.77507  , 12.354847 ], dtype=float32)"
      ]
     },
     "execution_count": 109,
     "metadata": {},
     "output_type": "execute_result"
    }
   ],
   "source": [
    "err0[1, :]"
   ]
  },
  {
   "cell_type": "code",
   "execution_count": 110,
   "metadata": {},
   "outputs": [
    {
     "data": {
      "text/plain": [
       "(2, 53)"
      ]
     },
     "execution_count": 110,
     "metadata": {},
     "output_type": "execute_result"
    }
   ],
   "source": [
    "err0.shape"
   ]
  },
  {
   "cell_type": "code",
   "execution_count": 111,
   "metadata": {},
   "outputs": [],
   "source": [
    "# import numpy as np\n",
    "# import matplotlib.pyplot as plt\n",
    "# from scipy import optimize\n",
    "\n",
    "# # Function to model a Fourier series\n",
    "# def fourier(x, *a):\n",
    "#     ret = a[0] * np.cos(x)\n",
    "#     for deg in range(1, len(a)):\n",
    "#         ret += a[deg] * np.cos(deg*x) + a[deg] * np.sin(deg*x)\n",
    "#     return ret\n",
    "\n",
    "# # Create some example data\n",
    "# np.random.seed(0)\n",
    "# x = np.linspace(-1, 1, 100)\n",
    "# y = np.cos(2*np.pi*x) + 0.2*np.random.normal(size=x.size)\n",
    "\n",
    "# # Fit a Fourier series upto a certain degree to the data\n",
    "# params, params_covariance = optimize.curve_fit(fourier, x, y, p0=[1.0]*6)\n",
    "\n",
    "# # Generate y-values for the model on a set of x-values\n",
    "# x2 = np.linspace(-1, 1, 1000)\n",
    "# y2 = fourier(x2, *params)\n",
    "\n",
    "# # Plot the original data (in red) and the Fourier series fit (in blue)\n",
    "# plt.scatter(x, y, color='red')\n",
    "# plt.plot(x2, y2, color='blue')\n",
    "# plt.show()"
   ]
  },
  {
   "cell_type": "code",
   "execution_count": 112,
   "metadata": {},
   "outputs": [
    {
     "data": {
      "image/png": "[encoded data removed]",
      "text/plain": [
       "<Figure size 2700x900 with 1 Axes>"
      ]
     },
     "metadata": {},
     "output_type": "display_data"
    }
   ],
   "source": [
    "fig = plt.figure()\n",
    "plt.errorbar(test_x_torch_final[:, 0], \n",
    "             mean_pred[:, 0], \n",
    "             yerr=err0,\n",
    "             fmt=\"o\"\n",
    "            )\n",
    "plt.scatter(test_x_torch_final[:, 0],\n",
    "           test_y_torch_final[:, 0],\n",
    "           marker='x',\n",
    "           c='orange')\n",
    "plt.xlabel(\"BStrength scaled\")\n",
    "if family is None:\n",
    "    plt.ylabel(\"p6\")\n",
    "else:\n",
    "    plt.ylabel(\"p0\")"
   ]
  },
  {
   "cell_type": "code",
   "execution_count": null,
   "metadata": {},
   "outputs": [],
   "source": [
    "# fig = plt.figure()\n",
    "# plt.errorbar(test_x_torch_final[:, 3], \n",
    "#              mean_pred[:, 0], \n",
    "#              yerr=err0,\n",
    "#              fmt=\"o\"\n",
    "#             )\n",
    "# plt.scatter(test_x_torch_final[:, 3],\n",
    "#            test_y_torch_final[:, 0],\n",
    "#            marker='x',\n",
    "#            c='orange')\n",
    "# plt.xlabel(\"BStrength scaled\")\n",
    "# if family is None:\n",
    "#     plt.ylabel(\"p6\")\n",
    "# else:\n",
    "#     plt.ylabel(\"p0\")"
   ]
  },
  {
   "cell_type": "code",
   "execution_count": 113,
   "metadata": {
    "scrolled": false
   },
   "outputs": [
    {
     "data": {
      "image/png": "[encoded data removed]",
      "text/plain": [
       "<Figure size 2700x900 with 1 Axes>"
      ]
     },
     "metadata": {},
     "output_type": "display_data"
    }
   ],
   "source": [
    "err_lin = np.vstack((np.abs(lower[:, -2].numpy()), upper[:, -2].numpy()))\n",
    "\n",
    "plt.scatter(test_x_torch_final[:, 0],\n",
    "           test_y_torch_final[:, -2],\n",
    "           marker='x',\n",
    "           c='orange')\n",
    "\n",
    "plt.errorbar(test_x_torch_final[:, 0],\n",
    "             mean_pred[:, -2], \n",
    "             yerr=err_lin,\n",
    "             fmt=\"o\"\n",
    "            )\n",
    "\n",
    "plt.xlabel(\"BStrength scaled\")\n",
    "if family is None:\n",
    "    plt.ylabel(\"p1\")\n",
    "else:\n",
    "    plt.ylabel(\"p5\")"
   ]
  },
  {
   "cell_type": "code",
   "execution_count": 114,
   "metadata": {},
   "outputs": [
    {
     "data": {
      "image/png": "[encoded data removed]",
      "text/plain": [
       "<Figure size 2700x900 with 1 Axes>"
      ]
     },
     "metadata": {},
     "output_type": "display_data"
    }
   ],
   "source": [
    "err_constant = np.vstack((np.abs(lower[:, -1].numpy()), upper[:, -1].numpy()))\n",
    "\n",
    "plt.scatter(test_x_torch_final[:, 0],\n",
    "           test_y_torch_final[:, -1],\n",
    "           marker='x',\n",
    "           c='orange')\n",
    "plt.errorbar(test_x_torch_final[:, 0],\n",
    "             mean_pred[:, -1], \n",
    "             yerr=err_constant,\n",
    "             fmt=\"o\"\n",
    "            )\n",
    "plt.xlabel(\"BStrength scaled\")\n",
    "\n",
    "if family is None:\n",
    "    plt.ylabel(\"p0\")\n",
    "else:\n",
    "    plt.ylabel(\"p6\")"
   ]
  },
  {
   "cell_type": "markdown",
   "metadata": {},
   "source": [
    "_Results on test data with uncertainty_ first for $c_1$ (this would include only confidence from GP and not possible polynomial fitting error which could be a drawback), then the full series."
   ]
  },
  {
   "cell_type": "code",
   "execution_count": null,
   "metadata": {},
   "outputs": [],
   "source": [
    "c1_params_test.shape"
   ]
  },
  {
   "cell_type": "markdown",
   "metadata": {},
   "source": [
    "Predict $c_1$ by sampling from the posterior predictive distribution of $p$"
   ]
  },
  {
   "cell_type": "code",
   "execution_count": 115,
   "metadata": {},
   "outputs": [],
   "source": [
    "post_pred = torch.distributions.Normal(observed_pred.mean, observed_pred.stddev)"
   ]
  },
  {
   "cell_type": "code",
   "execution_count": 116,
   "metadata": {},
   "outputs": [
    {
     "data": {
      "text/plain": [
       "torch.Size([53, 7])"
      ]
     },
     "execution_count": 116,
     "metadata": {},
     "output_type": "execute_result"
    }
   ],
   "source": [
    "post_pred.sample().shape"
   ]
  },
  {
   "cell_type": "markdown",
   "metadata": {},
   "source": [
    "Draw 1000 samples, store them in a tensor, fit $c_1$ by 6 degree polynomial and get results."
   ]
  },
  {
   "cell_type": "code",
   "execution_count": 117,
   "metadata": {},
   "outputs": [],
   "source": [
    "n_post_samples = 1000"
   ]
  },
  {
   "cell_type": "code",
   "execution_count": 118,
   "metadata": {},
   "outputs": [
    {
     "name": "stdout",
     "output_type": "stream",
     "text": [
      "Generated 1000 samples from posterior\n"
     ]
    }
   ],
   "source": [
    "p_test_samples = np.zeros((test_x_torch_final.shape[0], fit_deg + 1, n_post_samples))\n",
    "for i in range(n_post_samples):\n",
    "    p_test_samples[:, :, i] = post_pred.sample().numpy()\n",
    "\n",
    "print(\"Generated {} samples from posterior\".format(n_post_samples))"
   ]
  },
  {
   "cell_type": "code",
   "execution_count": 119,
   "metadata": {},
   "outputs": [
    {
     "data": {
      "text/plain": [
       "(7,)"
      ]
     },
     "execution_count": 119,
     "metadata": {},
     "output_type": "execute_result"
    }
   ],
   "source": [
    "p_test_samples[0, :, 0].shape"
   ]
  },
  {
   "cell_type": "code",
   "execution_count": 120,
   "metadata": {},
   "outputs": [
    {
     "name": "stdout",
     "output_type": "stream",
     "text": [
      "Generated 53 test velocities with 1000 replicates\n"
     ]
    }
   ],
   "source": [
    "c1_test = np.zeros((test_x_torch_final.shape[0], 160, n_post_samples))\n",
    "\n",
    "for i in range(n_post_samples):\n",
    "    for j in range(test_x_torch_final.shape[0]):\n",
    "        #         c1_test[j, :, i] = getPredPolyFit(p_test_samples[j, :, i], theta_grid)\n",
    "        c1_test[j, :, i] = valPolyCoeffs(theta_grid, p_test_samples[j, :, i], family=family)\n",
    "\n",
    "print(\"Generated {} test velocities with {} replicates\".format(test_x_torch_final.shape[0], n_post_samples))"
   ]
  },
  {
   "cell_type": "code",
   "execution_count": 121,
   "metadata": {},
   "outputs": [
    {
     "data": {
      "text/plain": [
       "((53, 160), (53, 160))"
      ]
     },
     "execution_count": 121,
     "metadata": {},
     "output_type": "execute_result"
    }
   ],
   "source": [
    "mean_c1 = np.mean(c1_test, axis=2)\n",
    "std_c1 = np.std(c1_test, axis=2)\n",
    "\n",
    "mean_c1.shape, std_c1.shape"
   ]
  },
  {
   "cell_type": "markdown",
   "metadata": {},
   "source": [
    "Plot a few test velocities versus the actual and examine outputs"
   ]
  },
  {
   "cell_type": "code",
   "execution_count": 122,
   "metadata": {},
   "outputs": [
    {
     "data": {
      "text/plain": [
       "(53, 160)"
      ]
     },
     "execution_count": 122,
     "metadata": {},
     "output_type": "execute_result"
    }
   ],
   "source": [
    "c1_params_test.shape"
   ]
  },
  {
   "cell_type": "code",
   "execution_count": 128,
   "metadata": {},
   "outputs": [
    {
     "data": {
      "text/plain": [
       "-1895900952.442735"
      ]
     },
     "execution_count": 128,
     "metadata": {},
     "output_type": "execute_result"
    }
   ],
   "source": [
    "mean_c1[sd_test_id, :].min()"
   ]
  },
  {
   "cell_type": "code",
   "execution_count": 129,
   "metadata": {},
   "outputs": [
    {
     "data": {
      "text/plain": [
       "11.106108335480268"
      ]
     },
     "execution_count": 129,
     "metadata": {},
     "output_type": "execute_result"
    }
   ],
   "source": [
    "mean_c1[sd_test_id, :].max()"
   ]
  },
  {
   "cell_type": "code",
   "execution_count": 126,
   "metadata": {
    "scrolled": false
   },
   "outputs": [
    {
     "data": {
      "text/plain": [
       "Text(0.5, 1.0, 'Sim 79')"
      ]
     },
     "execution_count": 126,
     "metadata": {},
     "output_type": "execute_result"
    },
    {
     "data": {
      "image/png": "[encoded data removed]",
      "text/plain": [
       "<Figure size 2700x900 with 1 Axes>"
      ]
     },
     "metadata": {},
     "output_type": "display_data"
    }
   ],
   "source": [
    "# for i in range(len(sd_train)):\n",
    "sd_test_id = 6\n",
    "\n",
    "plt.plot(theta_grid, c1_params_test[sd_test_id, :], label=\"True test data\")\n",
    "plt.plot(theta_grid, mean_c1[sd_test_id, :], linestyle=\"--\", label=\"Fit from GP Posterior\")\n",
    "plt.xlabel(\"phi\")\n",
    "plt.ylabel(\"c1\")\n",
    "plt.xlim((-31, 82))\n",
    "plt.legend()\n",
    "plt.title(\"Sim {}\".format(sd_test[sd_test_id]))\n",
    "# plt.ylim((0, 20))\n",
    "# plt.savefig(os.path.join(\"c1_polynomial_fit\", \"sim_{:03d}.png\".format(sd_train[i])))\n",
    "# plt.close()"
   ]
  },
  {
   "cell_type": "code",
   "execution_count": 133,
   "metadata": {},
   "outputs": [
    {
     "data": {
      "text/plain": [
       "(-10000000.0, 20.0)"
      ]
     },
     "execution_count": 133,
     "metadata": {},
     "output_type": "execute_result"
    },
    {
     "data": {
      "image/png": "[encoded data removed]",
      "text/plain": [
       "<Figure size 2700x900 with 1 Axes>"
      ]
     },
     "metadata": {},
     "output_type": "display_data"
    }
   ],
   "source": [
    "# for i in range(len(sd_train)):\n",
    "sd_test_id = 6\n",
    "\n",
    "plt.plot(theta_grid, c1_params_test[sd_test_id, :], label=\"True test data\")\n",
    "plt.plot(theta_grid, mean_c1[sd_test_id, :], linestyle=\"--\", label=\"Fit from GP Posterior\")\n",
    "plt.xlabel(\"phi\")\n",
    "plt.ylabel(\"c1\")\n",
    "plt.xlim((-31, 82))\n",
    "plt.legend()\n",
    "plt.title(\"Sim {}\".format(sd_test[sd_test_id]))\n",
    "plt.ylim((-10000000, 20))\n",
    "# plt.savefig(os.path.join(\"c1_polynomial_fit\", \"sim_{:03d}.png\".format(sd_train[i])))\n",
    "# plt.close()"
   ]
  },
  {
   "cell_type": "markdown",
   "metadata": {},
   "source": [
    "#### Alternate: Fit GP to c1 directly.\n",
    "\n",
    "This means position angle is also an independent parameter (but we can map it by a few points thanks to the polynomial fit)"
   ]
  },
  {
   "cell_type": "code",
   "execution_count": null,
   "metadata": {},
   "outputs": [],
   "source": [
    "theta_interp = np.linspace(-31, 82, 40)\n",
    "theta_interp"
   ]
  },
  {
   "cell_type": "code",
   "execution_count": null,
   "metadata": {},
   "outputs": [],
   "source": [
    "polynomial_coeffs_test.shape"
   ]
  },
  {
   "cell_type": "code",
   "execution_count": null,
   "metadata": {},
   "outputs": [],
   "source": [
    "# # for i in range(len(sd_train)):\n",
    "# for i in range(len(sd_test)):\n",
    "#     #     plt.plot(np.linspace(-31, 82, 160), c1_params_train[i, :], label=\"true\")\n",
    "#     plt.plot(np.linspace(-31, 82, 160), c1_params_test[i, :], label=\"true\")\n",
    "#     #     plt.plot(theta_interp, getPredPolyFit(polynomial_coeffs[:, i], theta_interp), linestyle=\"--\", label=\"fit\")\n",
    "#     plt.plot(theta_interp, getPredPolyFit(polynomial_coeffs_test[:, i], theta_interp), linestyle=\"--\", label=\"fit\")\n",
    "#     plt.xlabel(\"phi\")\n",
    "#     plt.ylabel(\"c1\")\n",
    "#     plt.xlim((-31, 82))\n",
    "#     plt.legend()\n",
    "#     #     plt.title(\"Sim {}\".format(sd_train[i]))\n",
    "#     plt.title(\"Sim {}\".format(sd_test[i]))\n",
    "#     #     plt.savefig(os.path.join(\"c1_polynomial_fit\", \"sim_{:03d}.png\".format(sd_train[i])))\n",
    "#     plt.savefig(os.path.join(\"c1_polynomial_fit_test\", \"sim_{:03d}.png\".format(sd_test[i])))\n",
    "#     plt.close()"
   ]
  },
  {
   "cell_type": "code",
   "execution_count": null,
   "metadata": {},
   "outputs": [],
   "source": [
    "c1_params_train.shape, c1_params_test.shape"
   ]
  },
  {
   "cell_type": "markdown",
   "metadata": {},
   "source": [
    "Try Approximate GP first with suitable DataLoader?"
   ]
  },
  {
   "cell_type": "code",
   "execution_count": null,
   "metadata": {},
   "outputs": [],
   "source": [
    "c1_params_fit_train = np.zeros((len(sd_train), len(theta_interp)))\n",
    "c1_params_fit_test = np.zeros((len(sd_test), len(theta_interp)))\n",
    "\n",
    "for i in range(len(sd_train)):\n",
    "    c1_params_fit_train[i, :] = getPredPolyFit(polynomial_coeffs[:, i], theta_interp)\n",
    "\n",
    "for i in range(len(sd_test)):\n",
    "    c1_params_fit_test[i, :] = getPredPolyFit(polynomial_coeffs_test[:, i], theta_interp)"
   ]
  },
  {
   "cell_type": "code",
   "execution_count": null,
   "metadata": {},
   "outputs": [],
   "source": [
    "np.expand_dims(c1_params_fit_train.flatten(), 1).shape"
   ]
  },
  {
   "cell_type": "code",
   "execution_count": null,
   "metadata": {},
   "outputs": [],
   "source": [
    "theta_interp_scaled = (theta_interp - (theta_interp[0])) / (theta_interp[-1] - theta_interp[0])\n",
    "train_x_repeat = np.repeat(train_x_raw, len(theta_interp), axis=0)\n",
    "test_x_repeat = np.repeat(test_x_raw, len(theta_interp), axis=0)\n",
    "\n",
    "\n",
    "theta_repeat_train = np.tile(theta_interp_scaled, len(train_sd_idx))\n",
    "theta_repeat_test = np.tile(theta_interp_scaled, len(test_sd_idx))\n",
    "\n",
    "\n",
    "train_x_gp = np.c_[theta_repeat_train, train_x_repeat]\n",
    "train_x_gp_torch = torch.tensor(np.float32(train_x_gp)).to(device)\n",
    "\n",
    "\n",
    "test_x_gp = np.c_[theta_repeat_test, test_x_repeat]\n",
    "test_x_gp_torch = torch.tensor(np.float32(test_x_gp)).to(device)\n",
    "\n",
    "scalerY = StandardScaler()\n",
    "\n",
    "\n",
    "\n",
    "# train_y_gp_torch = torch.tensor(np.float32(c1_params_fit_train.flatten())).to(device)\n",
    "scalerY.fit(np.expand_dims(c1_params_fit_train.flatten(), 1))\n",
    "train_y_gp_torch = torch.tensor(np.float32(np.squeeze(scalerY.transform(np.expand_dims(c1_params_fit_train.flatten(), 1))))).to(device)\n",
    "\n",
    "# test_y_gp_torch = torch.tensor(np.float32(c1_params_fit_test.flatten())).to(device)\n",
    "test_y_gp_torch = torch.tensor(np.float32(np.squeeze(scalerY.transform(np.expand_dims(c1_params_fit_test.flatten(), 1))))).to(device)\n",
    "\n",
    "train_x_gp_torch.shape, test_x_gp_torch.shape, train_y_gp_torch.shape, test_y_gp_torch.shape"
   ]
  },
  {
   "cell_type": "code",
   "execution_count": null,
   "metadata": {},
   "outputs": [],
   "source": [
    "class ApproximateGPModel(gpytorch.models.ApproximateGP):\n",
    "    def __init__(self, inducing_points):\n",
    "        variational_distribution = gpytorch.variational.CholeskyVariationalDistribution(num_inducing_points = n_inducing,\n",
    "                                                                                       batch_shape = torch.Size([]))\n",
    "        variational_strategy = gpytorch.variational.VariationalStrategy(\n",
    "            self, inducing_points, variational_distribution, learn_inducing_locations=True\n",
    "        )\n",
    "        super().__init__(variational_strategy)\n",
    "        self.mean_module = gpytorch.means.ConstantMean()\n",
    "        self.covar_module = gpytorch.kernels.ScaleKernel(gpytorch.kernels.RBFKernel())\n",
    "\n",
    "    def forward(self, x):\n",
    "        mean_x = self.mean_module(x)\n",
    "        covar_x = self.covar_module(x)\n",
    "        return gpytorch.distributions.MultivariateNormal(mean_x, covar_x)"
   ]
  },
  {
   "cell_type": "code",
   "execution_count": null,
   "metadata": {},
   "outputs": [],
   "source": [
    "n_inducing = 200"
   ]
  },
  {
   "cell_type": "code",
   "execution_count": null,
   "metadata": {},
   "outputs": [],
   "source": [
    "model = ApproximateGPModel(torch.rand(n_inducing, 10))\n",
    "likelihood = gpytorch.likelihoods.GaussianLikelihood()"
   ]
  },
  {
   "cell_type": "code",
   "execution_count": null,
   "metadata": {},
   "outputs": [],
   "source": [
    "from torch.utils.data import TensorDataset, DataLoader\n",
    "train_dataset = TensorDataset(train_x_gp_torch, train_y_gp_torch)\n",
    "train_loader = DataLoader(train_dataset, batch_size=512, shuffle=True)"
   ]
  },
  {
   "cell_type": "code",
   "execution_count": null,
   "metadata": {},
   "outputs": [],
   "source": [
    "objective_function = gpytorch.mlls.VariationalELBO(likelihood, model, num_data=train_y_gp_torch.numel())\n",
    "optimizer = torch.optim.Adam(list(model.parameters()) + list(likelihood.parameters()), lr=0.1)"
   ]
  },
  {
   "cell_type": "code",
   "execution_count": null,
   "metadata": {},
   "outputs": [],
   "source": [
    "training_iterations = 200"
   ]
  },
  {
   "cell_type": "code",
   "execution_count": null,
   "metadata": {},
   "outputs": [],
   "source": [
    "for i in range(training_iterations):\n",
    "    for x, y in train_loader:\n",
    "        output = model(x)\n",
    "        loss = -objective_function(output, y)\n",
    "        loss.backward()\n",
    "        \n",
    "        optimizer.step()\n",
    "        \n",
    "        print('Iter %d/%d - Loss: %.3f' % (i + 1, training_iterations, loss.item()))\n",
    "        optimizer.zero_grad()"
   ]
  },
  {
   "cell_type": "code",
   "execution_count": null,
   "metadata": {},
   "outputs": [],
   "source": [
    "model.eval()\n",
    "likelihood.eval()\n",
    "\n",
    "with torch.no_grad(), gpytorch.settings.fast_pred_var():\n",
    "    observed_pred = likelihood(model(test_x_gp_torch))\n",
    "    mean_pred = observed_pred.mean\n",
    "    var_pred = observed_pred.variance\n",
    "    lower, upper = observed_pred.confidence_region()"
   ]
  },
  {
   "cell_type": "code",
   "execution_count": null,
   "metadata": {},
   "outputs": [],
   "source": [
    "mean_pred.shape"
   ]
  },
  {
   "cell_type": "code",
   "execution_count": null,
   "metadata": {},
   "outputs": [],
   "source": [
    "var_pred.shape"
   ]
  },
  {
   "cell_type": "code",
   "execution_count": null,
   "metadata": {},
   "outputs": [],
   "source": [
    "var_pred"
   ]
  },
  {
   "cell_type": "code",
   "execution_count": null,
   "metadata": {},
   "outputs": [],
   "source": [
    "lower.shape, upper.shape"
   ]
  },
  {
   "cell_type": "code",
   "execution_count": null,
   "metadata": {},
   "outputs": [],
   "source": [
    "lower"
   ]
  },
  {
   "cell_type": "code",
   "execution_count": null,
   "metadata": {},
   "outputs": [],
   "source": [
    "upper"
   ]
  },
  {
   "cell_type": "code",
   "execution_count": null,
   "metadata": {},
   "outputs": [],
   "source": [
    "mean_pred_transform = scalerY.inverse_transform(np.expand_dims(mean_pred.cpu().numpy(), 1))"
   ]
  },
  {
   "cell_type": "code",
   "execution_count": null,
   "metadata": {},
   "outputs": [],
   "source": [
    "lower_tf = scalerY.inverse_transform(np.expand_dims(lower.cpu().numpy(), 1))\n",
    "upper_tf = scalerY.inverse_transform(np.expand_dims(upper.cpu().numpy(), 1))"
   ]
  },
  {
   "cell_type": "code",
   "execution_count": null,
   "metadata": {},
   "outputs": [],
   "source": [
    "# sigma"
   ]
  },
  {
   "cell_type": "code",
   "execution_count": null,
   "metadata": {},
   "outputs": [],
   "source": [
    "true_test_transform = scalerY.inverse_transform(np.expand_dims(test_y_gp_torch.cpu().numpy(), 1))"
   ]
  },
  {
   "cell_type": "code",
   "execution_count": null,
   "metadata": {},
   "outputs": [],
   "source": [
    "true_test_transform.shape"
   ]
  },
  {
   "cell_type": "code",
   "execution_count": null,
   "metadata": {},
   "outputs": [],
   "source": [
    "len(sd_test)"
   ]
  },
  {
   "cell_type": "code",
   "execution_count": null,
   "metadata": {},
   "outputs": [],
   "source": [
    "for i in range(len(sd_test)):\n",
    "\n",
    "    #     sd_to_plot=48\n",
    "    #     plt.plot(theta_interp, true_test_transform[40*(sd_to_plot):40*(sd_to_plot + 1), 0], label=\"True test data\")\n",
    "    #     plt.plot(theta_interp, mean_pred_transform[40*(sd_to_plot):40*(sd_to_plot + 1), 0], \n",
    "    #              linestyle=\"--\", label=\"Fit from GP Prediction\")\n",
    "    #     plt.fill_between(theta_interp, lower_tf[40*(sd_to_plot):40*(sd_to_plot + 1), 0], \n",
    "    #                      upper_tf[40*(sd_to_plot):40*(sd_to_plot + 1), 0], alpha=0.3, label=\"Confidence\")\n",
    "\n",
    "\n",
    "    plt.plot(theta_interp, true_test_transform[40*(i):40*(i + 1), 0], label=\"True test data\")\n",
    "    plt.plot(theta_interp, mean_pred_transform[40*(i):40*(i + 1), 0], \n",
    "             linestyle=\"--\", label=\"Fit from GP Prediction\")\n",
    "    plt.fill_between(theta_interp, lower_tf[40*(i):40*(i + 1), 0], \n",
    "                     upper_tf[40*(i):40*(i + 1), 0], alpha=0.3, label=\"Confidence\")\n",
    "    \n",
    "    plt.xlabel(\"phi\")\n",
    "    plt.ylabel(\"c1\")\n",
    "    plt.xlim((-31, 82))\n",
    "    plt.legend()\n",
    "    plt.title(\"Sim {}\".format(sd_test[i]))\n",
    "    plt.savefig(os.path.join(\"./approx_gp_fits\", \"sim_{:03d}.png\".format(sd_test[i])))\n",
    "    plt.close()\n",
    "    #     plt.title(\"Sim {}\".format(sd_test[sd_to_plot]))\n"
   ]
  },
  {
   "cell_type": "markdown",
   "metadata": {},
   "source": [
    "**Exact GP?**"
   ]
  },
  {
   "cell_type": "code",
   "execution_count": null,
   "metadata": {},
   "outputs": [],
   "source": [
    "train_y_gp_torch = torch.tensor(np.float32(c1_params_fit_train.flatten())).to(device)\n",
    "test_y_gp_torch = torch.tensor(np.float32(c1_params_fit_test.flatten())).to(device)"
   ]
  },
  {
   "cell_type": "code",
   "execution_count": null,
   "metadata": {},
   "outputs": [],
   "source": [
    "class ExactGPModel(gpytorch.models.ExactGP):\n",
    "    def __init__(self, train_x, train_y, likelihood):\n",
    "        super(ExactGPModel, self).__init__(train_x, train_y, likelihood)\n",
    "        self.mean_module = gpytorch.means.ConstantMean()\n",
    "        self.covar_module = gpytorch.kernels.ScaleKernel(gpytorch.kernels.RBFKernel())\n",
    "\n",
    "    def forward(self, x):\n",
    "        mean_x = self.mean_module(x)\n",
    "        covar_x = self.covar_module(x)\n",
    "        return gpytorch.distributions.MultivariateNormal(mean_x, covar_x)"
   ]
  },
  {
   "cell_type": "code",
   "execution_count": null,
   "metadata": {},
   "outputs": [],
   "source": [
    "likelihood = gpytorch.likelihoods.GaussianLikelihood(noise_constraint=gpytorch.constraints.GreaterThan(1e-3)).to(device)\n",
    "model = ExactGPModel(train_x_gp_torch, train_y_gp_torch, likelihood)"
   ]
  },
  {
   "cell_type": "code",
   "execution_count": null,
   "metadata": {},
   "outputs": [],
   "source": [
    "likelihood"
   ]
  },
  {
   "cell_type": "code",
   "execution_count": null,
   "metadata": {},
   "outputs": [],
   "source": [
    "training_iters = 200"
   ]
  },
  {
   "cell_type": "code",
   "execution_count": null,
   "metadata": {},
   "outputs": [],
   "source": [
    "optimizer = torch.optim.Adam(model.parameters(), lr=0.1)  # Includes GaussianLikelihood parameters\n",
    "# \"Loss\" for GPs - the marginal log likelihood\n",
    "mll = gpytorch.mlls.ExactMarginalLogLikelihood(likelihood, model)"
   ]
  },
  {
   "cell_type": "code",
   "execution_count": null,
   "metadata": {},
   "outputs": [],
   "source": [
    "for i in range(training_iters):\n",
    "    # Zero gradients from previous iteration\n",
    "    optimizer.zero_grad()\n",
    "    # Output from model\n",
    "    output = model(train_x_gp_torch)\n",
    "    # Calc loss and backprop gradients\n",
    "    loss = -mll(output, train_y_gp_torch)\n",
    "    loss.backward()\n",
    "    print('Iter %d/%d - Loss: %.3f   lengthscale: %.3f   noise: %.3f' % (\n",
    "        i + 1, training_iters, loss.item(),\n",
    "        model.covar_module.base_kernel.lengthscale.item(),\n",
    "        model.likelihood.noise.item()\n",
    "    ))\n",
    "    optimizer.step()"
   ]
  },
  {
   "cell_type": "code",
   "execution_count": null,
   "metadata": {},
   "outputs": [],
   "source": [
    "model.eval()\n",
    "likelihood.eval()\n",
    "\n",
    "with torch.no_grad(), gpytorch.settings.fast_pred_var():\n",
    "    observed_pred = likelihood(model(test_x_gp_torch))\n",
    "    mean_pred = observed_pred.mean\n",
    "    var_pred = observed_pred.variance\n",
    "    lower, upper = observed_pred.confidence_region()\n",
    "\n",
    "mean_pred.shape\n",
    "# mean_pred_transform = scalerY.inverse_transform(np.expand_dims(mean_pred.cpu().numpy(), 1))\n",
    "\n",
    "# lower_tf = scalerY.inverse_transform(np.expand_dims(lower.cpu().numpy(), 1))\n",
    "# upper_tf = scalerY.inverse_transform(np.expand_dims(upper.cpu().numpy(), 1))\n",
    "\n",
    "# # sigma\n",
    "\n",
    "# true_test_transform = scalerY.inverse_transform(np.expand_dims(test_y_gp_torch.cpu().numpy(), 1))\n",
    "# true_test_transform.shape"
   ]
  },
  {
   "cell_type": "code",
   "execution_count": null,
   "metadata": {},
   "outputs": [],
   "source": [
    "for i in range(len(sd_test)):\n",
    "    plt.plot(theta_interp, test_y_gp_torch[40*(i):40*(i + 1)], label=\"True test data\")\n",
    "    plt.plot(theta_interp, mean_pred[40*(i):40*(i + 1)], \n",
    "             linestyle=\"--\", label=\"Fit from GP Prediction\")\n",
    "    plt.fill_between(theta_interp, lower[40*(i):40*(i + 1)], \n",
    "                     upper[40*(i):40*(i + 1)], alpha=0.3, label=\"Confidence\")\n",
    "\n",
    "    plt.xlabel(\"phi\")\n",
    "    plt.ylabel(\"c1\")\n",
    "    plt.xlim((-31, 82))\n",
    "    plt.legend()\n",
    "    plt.title(\"Sim {} Exact\".format(sd_test[i]))\n",
    "    plt.savefig(os.path.join(\"./exact_gp_fits\", \"sim_{:03d}.png\".format(sd_test[i])))\n",
    "    plt.close()"
   ]
  },
  {
   "cell_type": "markdown",
   "metadata": {},
   "source": [
    "What else can we try??"
   ]
  },
  {
   "cell_type": "markdown",
   "metadata": {},
   "source": [
    "_Normal interpolation_??"
   ]
  },
  {
   "cell_type": "code",
   "execution_count": null,
   "metadata": {},
   "outputs": [],
   "source": []
  },
  {
   "cell_type": "markdown",
   "metadata": {},
   "source": [
    "UQ with conditional predictions?"
   ]
  },
  {
   "cell_type": "code",
   "execution_count": null,
   "metadata": {},
   "outputs": [],
   "source": []
  },
  {
   "cell_type": "code",
   "execution_count": null,
   "metadata": {},
   "outputs": [],
   "source": []
  },
  {
   "cell_type": "code",
   "execution_count": null,
   "metadata": {},
   "outputs": [],
   "source": []
  },
  {
   "cell_type": "code",
   "execution_count": null,
   "metadata": {},
   "outputs": [],
   "source": []
  },
  {
   "cell_type": "code",
   "execution_count": null,
   "metadata": {},
   "outputs": [],
   "source": []
  },
  {
   "cell_type": "markdown",
   "metadata": {},
   "source": [
    "_Transfer methods?_"
   ]
  },
  {
   "cell_type": "markdown",
   "metadata": {},
   "source": [
    "**Plot histograms of CME Params from 2 Events (domain shift)?**"
   ]
  },
  {
   "cell_type": "code",
   "execution_count": null,
   "metadata": {},
   "outputs": [],
   "source": []
  },
  {
   "cell_type": "code",
   "execution_count": null,
   "metadata": {},
   "outputs": [],
   "source": []
  },
  {
   "cell_type": "markdown",
   "metadata": {},
   "source": [
    "#### Try Linear Fit for Velocity Again"
   ]
  },
  {
   "cell_type": "code",
   "execution_count": null,
   "metadata": {},
   "outputs": [],
   "source": []
  },
  {
   "cell_type": "markdown",
   "metadata": {},
   "source": [
    "**Next Steps?**"
   ]
  },
  {
   "cell_type": "code",
   "execution_count": null,
   "metadata": {},
   "outputs": [],
   "source": []
  }
 ],
 "metadata": {
  "@webio": {
   "lastCommId": null,
   "lastKernelId": null
  },
  "kernelspec": {
   "display_name": "Python 3 (ipykernel)",
   "language": "python",
   "name": "python3"
  },
  "language_info": {
   "codemirror_mode": {
    "name": "ipython",
    "version": 3
   },
   "file_extension": ".py",
   "mimetype": "text/x-python",
   "name": "python",
   "nbconvert_exporter": "python",
   "pygments_lexer": "ipython3",
   "version": "3.8.13"
  }
 },
 "nbformat": 4,
 "nbformat_minor": 4
}
