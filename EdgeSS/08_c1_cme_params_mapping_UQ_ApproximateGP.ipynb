{
 "cells": [
  {
   "cell_type": "markdown",
   "metadata": {},
   "source": [
    "**PIPELINE**:\n",
    "\n",
    "**Train**: \n",
    "\n",
    "1. $r_t = r_0 + c_1 t$\n",
    "\n",
    "2. $c_1(\\phi, \\mu) \\approx p_0(\\mu) + p_1(\\mu)\\phi  + p_2(\\mu) \\phi^2 + \\cdots$\n",
    "\n",
    "3. New mapping: either $g: \\mu \\rightarrow c_1$ or $g: \\mu \\rightarrow (p_0, p_1, p_2, \\cdots)$\n",
    "\n",
    "**Test**:\n",
    "1. Sample $\\mu^{\\ast}$\n",
    "\n",
    "2. Push through $g$, get $c_1$\n",
    "\n",
    "3. $r_t^{\\ast} = r_0^{\\ast} + c_1^{\\ast} t$\n",
    "\n",
    "4. Predictive uncertainty? \n",
    "\n",
    "\n",
    "5. Inference on $\\mu$?? $\\color{red}{\\text{(details to follow)}}$\n",
    "\n",
    "**Transfer**\n",
    "\n",
    "(need some more reliable edge data for this, but using some limited samples)\n",
    "\n",
    "1. Specify $r_0$\n",
    "\n",
    "2. Specify $\\mu$\n",
    "\n",
    "3. Assume covariate shift i.e. shift in $\\phi$ and $\\mu$ (tricky for $\\phi$? $\\phi$ actually depends on $\\mu$? or at least on orientation!) - can we make this conditional on $\\phi$ and reframe?\n",
    "\n",
    "4. Reweigh samples\n",
    "\n",
    "5. Generate new predictions"
   ]
  },
  {
   "cell_type": "markdown",
   "metadata": {},
   "source": [
    "Same concept as previous notebook, but trying to learn an approximate instead of exact GP to avoid memory intensive calculation."
   ]
  },
  {
   "cell_type": "code",
   "execution_count": 1,
   "metadata": {},
   "outputs": [],
   "source": [
    "import numpy as np\n",
    "import pandas as pd"
   ]
  },
  {
   "cell_type": "code",
   "execution_count": 2,
   "metadata": {},
   "outputs": [],
   "source": [
    "import scipy.linalg as la\n",
    "import scipy.sparse as sparse\n",
    "import matplotlib.pyplot as plt"
   ]
  },
  {
   "cell_type": "code",
   "execution_count": 3,
   "metadata": {},
   "outputs": [],
   "source": [
    "import torch\n",
    "import torch.nn as nn\n",
    "import torch.optim as optim"
   ]
  },
  {
   "cell_type": "code",
   "execution_count": 4,
   "metadata": {},
   "outputs": [],
   "source": [
    "import tqdm\n",
    "import gpytorch\n",
    "from gpytorch.means import ConstantMean, LinearMean\n",
    "from gpytorch.kernels import RBFKernel, ScaleKernel\n",
    "from gpytorch.variational import VariationalStrategy, CholeskyVariationalDistribution\n",
    "from gpytorch.distributions import MultivariateNormal\n",
    "from gpytorch.models import ApproximateGP, GP\n",
    "from gpytorch.mlls import VariationalELBO, AddedLossTerm\n",
    "from gpytorch.likelihoods import GaussianLikelihood\n",
    "\n",
    "from sklearn.preprocessing import StandardScaler\n",
    "from gpytorch.models.deep_gps import DeepGPLayer, DeepGP\n",
    "from gpytorch.mlls import DeepApproximateMLL\n",
    "\n",
    "from matplotlib import pyplot as plt"
   ]
  },
  {
   "cell_type": "code",
   "execution_count": 5,
   "metadata": {},
   "outputs": [],
   "source": [
    "import re\n",
    "import os"
   ]
  },
  {
   "cell_type": "code",
   "execution_count": 6,
   "metadata": {},
   "outputs": [
    {
     "data": {
      "text/plain": [
       "device(type='cpu')"
      ]
     },
     "execution_count": 6,
     "metadata": {},
     "output_type": "execute_result"
    }
   ],
   "source": [
    "device = torch.device('cuda:0' if torch.cuda.is_available() else 'cpu')\n",
    "device"
   ]
  },
  {
   "cell_type": "code",
   "execution_count": 7,
   "metadata": {},
   "outputs": [],
   "source": [
    "%matplotlib inline"
   ]
  },
  {
   "cell_type": "code",
   "execution_count": 8,
   "metadata": {},
   "outputs": [],
   "source": [
    "plt.rc(\"axes.spines\", right=True, top=True)\n",
    "plt.rc(\"figure\", dpi=300, \n",
    "       figsize=(9, 3)\n",
    "      )\n",
    "plt.rc(\"font\", family=\"serif\")\n",
    "plt.rc(\"legend\", edgecolor=\"none\", frameon=True)\n",
    "plt.style.use(\"dark_background\")"
   ]
  },
  {
   "cell_type": "code",
   "execution_count": 9,
   "metadata": {},
   "outputs": [],
   "source": [
    "import edge_utils as edut"
   ]
  },
  {
   "cell_type": "markdown",
   "metadata": {},
   "source": [
    "Load data"
   ]
  },
  {
   "cell_type": "code",
   "execution_count": 10,
   "metadata": {},
   "outputs": [],
   "source": [
    "ed_2161, sd_2161 = edut.load_edge_data_blobfree(2161)"
   ]
  },
  {
   "cell_type": "code",
   "execution_count": 11,
   "metadata": {},
   "outputs": [
    {
     "data": {
      "text/plain": [
       "(90, 160, 278)"
      ]
     },
     "execution_count": 11,
     "metadata": {},
     "output_type": "execute_result"
    }
   ],
   "source": [
    "nTimes, nTheta_2161, nSims_2161 = ed_2161.shape\n",
    "nTimes, nTheta_2161, nSims_2161"
   ]
  },
  {
   "cell_type": "code",
   "execution_count": 12,
   "metadata": {},
   "outputs": [
    {
     "name": "stdout",
     "output_type": "stream",
     "text": [
      "Range of angles for CR2161: -31.279843444227026 81.44031311154595\n"
     ]
    }
   ],
   "source": [
    "theta_s_2161, theta_e_2161 = np.linspace(0, 360, 512)[160] + 1.2 * 180 - 360, np.linspace(0, 360, 512)[320] + 1.2 * 180 - 360\n",
    "print(\"Range of angles for CR2161: {} {}\".format(theta_s_2161, theta_e_2161))"
   ]
  },
  {
   "cell_type": "code",
   "execution_count": 13,
   "metadata": {},
   "outputs": [],
   "source": [
    "theta_grid = np.linspace(np.ceil(theta_s_2161), np.ceil(theta_e_2161), nTheta_2161)"
   ]
  },
  {
   "cell_type": "markdown",
   "metadata": {},
   "source": [
    "Least Squares Fit (don't need non-linear because of independence of $k$ and $\\tau$."
   ]
  },
  {
   "cell_type": "code",
   "execution_count": 14,
   "metadata": {},
   "outputs": [],
   "source": [
    "def getRValuesAllSims(edge_data_matrix):\n",
    "    \"\"\"\n",
    "    Return r values for all sims at once so we don't lose time in training processing r values repeatedly\n",
    "    \"\"\"\n",
    "    r_data_matrix = np.zeros(edge_data_matrix.shape)\n",
    "    nsims = edge_data_matrix.shape[2]\n",
    "    for i in range(nsims):\n",
    "        r_vals, theta_vals = edut.getRValues(edge_data_matrix, simIdx=i, minStartIdx=0)\n",
    "        r_data_matrix[:, :, i] = r_vals\n",
    "\n",
    "    return r_data_matrix"
   ]
  },
  {
   "cell_type": "code",
   "execution_count": 15,
   "metadata": {},
   "outputs": [],
   "source": [
    "# we are removing some data where the edge detection is not necessarily super reliable.\n",
    "sims_to_remove = np.array([33, 39, 63, 73, 113, 128, 131, 142, 193, 218, 253, 264, 273, 312, 313, 324])"
   ]
  },
  {
   "cell_type": "code",
   "execution_count": 16,
   "metadata": {},
   "outputs": [],
   "source": [
    "sd_modified = np.setdiff1d(sd_2161, sims_to_remove)"
   ]
  },
  {
   "cell_type": "code",
   "execution_count": 17,
   "metadata": {},
   "outputs": [],
   "source": [
    "rd_2161 = getRValuesAllSims(ed_2161)"
   ]
  },
  {
   "cell_type": "code",
   "execution_count": 18,
   "metadata": {},
   "outputs": [
    {
     "data": {
      "text/plain": [
       "160"
      ]
     },
     "execution_count": 18,
     "metadata": {},
     "output_type": "execute_result"
    }
   ],
   "source": [
    "data_dim = rd_2161.shape[1]\n",
    "data_dim"
   ]
  },
  {
   "cell_type": "code",
   "execution_count": 19,
   "metadata": {},
   "outputs": [],
   "source": [
    "# param_dim = cme_params_to_augment.shape[1]\n",
    "# param_dim"
   ]
  },
  {
   "cell_type": "code",
   "execution_count": 20,
   "metadata": {},
   "outputs": [],
   "source": [
    "# augmented_r = np.zeros((rd_2161.shape[0], data_dim + param_dim, rd_2161.shape[2]))\n",
    "# augmented_r[:, :(data_dim), :] = rd_2161\n",
    "# for iii in range(rd_2161.shape[2]):\n",
    "#     augmented_r[:, (data_dim):, iii] = cme_params_to_augment[iii, :]"
   ]
  },
  {
   "cell_type": "code",
   "execution_count": 21,
   "metadata": {},
   "outputs": [],
   "source": [
    "def lin_velocity_func(x, t, y):\n",
    "    return x[0] * t - y"
   ]
  },
  {
   "cell_type": "code",
   "execution_count": 22,
   "metadata": {},
   "outputs": [],
   "source": [
    "def gen_velocities(t, c1):\n",
    "    return c1 * t"
   ]
  },
  {
   "cell_type": "code",
   "execution_count": 23,
   "metadata": {},
   "outputs": [],
   "source": [
    "from scipy.optimize import least_squares"
   ]
  },
  {
   "cell_type": "code",
   "execution_count": 24,
   "metadata": {},
   "outputs": [],
   "source": [
    "def fit_velocity(edge_data_matrix, \n",
    "                 sim_data, simIdx=0, \n",
    "                theta=np.linspace(-31, 82, 160), \n",
    "                lsq_loss=\"soft_l1\",\n",
    "                fscale=0.1,\n",
    "                x0 = [0.00517464 * 400]):\n",
    "    \"\"\"\n",
    "    for a chosen sim ID, fit least squares to all valid times in edge data, varying with position angle.\n",
    "    return matrix of size (n_theta x n_params), here n_params = 1\n",
    "    \"\"\"\n",
    "    \n",
    "    ntheta = len(theta)\n",
    "    \n",
    "    simID = sim_data[simIdx]\n",
    "    \n",
    "    tMinIdx, tMin, tMaxIdx, tMax = edut.getTMinTMax(edge_data_matrix, simIdx=simIdx)\n",
    "    \n",
    "    r_vals, theta_vals = edut.getRValues(edge_data_matrix, simIdx=simIdx, minStartIdx=0)\n",
    "    \n",
    "    # sim times (list all times)\n",
    "    all_times = np.linspace(2, 180, 90)\n",
    "    \n",
    "    # filter based on tMinIdx and tMaxIdx\n",
    "    valid_times = all_times[tMinIdx:(tMaxIdx + 1)]\n",
    "    \n",
    "    valid_time_idx = np.array([np.where(all_times == i)[0][0] for i in valid_times])\n",
    "    \n",
    "    # rescale valid_times\n",
    "    # convert time to hours from minutes\n",
    "    #     valid_times_hrs = valid_times / 60\n",
    "    valid_times_rs = (valid_times - tMin) / (tMax - tMin)\n",
    "    \n",
    "    lsq_params = np.zeros((ntheta, 1))\n",
    "    \n",
    "    r_vals_valid = r_vals[valid_time_idx, :]\n",
    "    \n",
    "    r0 = r_vals_valid[0, :]\n",
    "    \n",
    "    \n",
    "    t_train = valid_times_rs[1:]\n",
    "    r_train = r_vals_valid[1:, :] - r0\n",
    "    \n",
    "    r_pred = np.zeros(np.shape(r_vals_valid))\n",
    "    \n",
    "    r_pred[0, :] = r0\n",
    "    \n",
    "    for pa_idx, pa in enumerate(theta):\n",
    "        res_lsq = least_squares(lin_velocity_func,\n",
    "                                x0,\n",
    "                                loss=lsq_loss,\n",
    "                                args=(t_train, r_train[:, pa_idx]),\n",
    "                                bounds=(0, np.inf),\n",
    "                                verbose=0)\n",
    "        \n",
    "        \n",
    "        lsq_params[pa_idx, :] = res_lsq.x\n",
    "        r_pred[1:, pa_idx] = gen_velocities(t_train, *res_lsq.x) + r0[pa_idx]\n",
    "    \n",
    "    return lsq_params, r_pred, r_vals_valid"
   ]
  },
  {
   "cell_type": "code",
   "execution_count": 25,
   "metadata": {},
   "outputs": [],
   "source": [
    "# params_s0, r_pred_s0, r_vals_s0 = fit_velocity(ed_2161, sd_2161, simIdx=0, lsq_loss=\"linear\")"
   ]
  },
  {
   "cell_type": "code",
   "execution_count": 26,
   "metadata": {},
   "outputs": [],
   "source": [
    "# params_s0"
   ]
  },
  {
   "cell_type": "code",
   "execution_count": 27,
   "metadata": {},
   "outputs": [
    {
     "data": {
      "text/plain": [
       "(262,)"
      ]
     },
     "execution_count": 27,
     "metadata": {},
     "output_type": "execute_result"
    }
   ],
   "source": [
    "orig_sd_idx = np.array([np.where(sd_2161 == i)[0][0] for i in sd_modified])\n",
    "orig_sd_idx.shape"
   ]
  },
  {
   "cell_type": "code",
   "execution_count": 28,
   "metadata": {
    "scrolled": true
   },
   "outputs": [],
   "source": [
    "# c1_params = np.zeros((160, 1, len(sd_modified)))\n",
    "# for i in range(len(sd_modified)):\n",
    "#     params_sheeley, r_pred_sheeley, r_vals_sheeley = fit_velocity(ed_2161, \n",
    "#                                                                   sd_2161, \n",
    "#                                                                   simIdx=orig_sd_idx[i], \n",
    "#                                                                   lsq_loss=\"soft_l1\")\n",
    "    \n",
    "#     c1_params[:, :, i] = params_sheeley\n",
    "# # #     edut.plotTrainPredData1Model(r_vals_sheeley, r_pred_sheeley, ed_2161, sd_modified, simIdx=i, \n",
    "# # #                                   savefig=True,\n",
    "# # #                                   savedir=\"./linear_velocity_fit_all_sims\"\n",
    "# # #                                  )"
   ]
  },
  {
   "cell_type": "code",
   "execution_count": 29,
   "metadata": {},
   "outputs": [],
   "source": [
    "# np.save(\"c1_least_squares_correct.npy\", c1_params)"
   ]
  },
  {
   "cell_type": "code",
   "execution_count": 30,
   "metadata": {},
   "outputs": [],
   "source": [
    "c1_params = np.load(\"c1_least_squares_correct.npy\")"
   ]
  },
  {
   "cell_type": "code",
   "execution_count": null,
   "metadata": {},
   "outputs": [],
   "source": []
  },
  {
   "cell_type": "code",
   "execution_count": 31,
   "metadata": {},
   "outputs": [],
   "source": [
    "def getDataForLinearFit(edge_data_matrix, \n",
    "                 sim_data, simIdx=0, \n",
    "                theta=np.linspace(-31, 82, 160)):\n",
    "    ntheta = len(theta)\n",
    "    \n",
    "    simID = sim_data[simIdx]\n",
    "    \n",
    "    tMinIdx, tMin, tMaxIdx, tMax = edut.getTMinTMax(edge_data_matrix, simIdx=simIdx)\n",
    "    \n",
    "    r_vals, theta_vals = edut.getRValues(edge_data_matrix, simIdx=simIdx, minStartIdx=0)\n",
    "    \n",
    "    # sim times (list all times)\n",
    "    all_times = np.linspace(2, 180, 90)\n",
    "    \n",
    "    # filter based on tMinIdx and tMaxIdx\n",
    "    valid_times = all_times[tMinIdx:(tMaxIdx + 1)]\n",
    "    \n",
    "    valid_time_idx = np.array([np.where(all_times == i)[0][0] for i in valid_times])\n",
    "    \n",
    "    # rescale valid_times\n",
    "    # convert time to hours from minutes\n",
    "    #     valid_times_hrs = valid_times / 60\n",
    "    valid_times_rs = (valid_times - tMin) / (tMax - tMin)\n",
    "    \n",
    "    r_vals_valid = r_vals[valid_time_idx, :]\n",
    "\n",
    "    r0 = r_vals_valid[0, :]\n",
    "\n",
    "\n",
    "    t_train = valid_times_rs[1:]\n",
    "    r_train = r_vals_valid[1:, :] - r0\n",
    "\n",
    "    return r_train, t_train"
   ]
  },
  {
   "cell_type": "code",
   "execution_count": 32,
   "metadata": {},
   "outputs": [],
   "source": [
    "r_train203, t_train203 = getDataForLinearFit(ed_2161, sd_2161, simIdx=159)"
   ]
  },
  {
   "cell_type": "code",
   "execution_count": null,
   "metadata": {},
   "outputs": [],
   "source": []
  },
  {
   "cell_type": "code",
   "execution_count": 33,
   "metadata": {},
   "outputs": [],
   "source": [
    "# for sidx, sid in enumerate(sd_modified):\n",
    "#     plt.plot(np.linspace(-31, 82, 160), np.squeeze(c1_params)[:, sidx], label=\"\")\n",
    "#     plt.xlabel(\"phi\")\n",
    "#     plt.xlim((-31, 82))\n",
    "#     plt.title(\"Sim {} c1\".format(sid))\n",
    "#     plt.savefig(os.path.join(\"c1_figs\", \"Sim_{:03d}_c1.png\".format(sid)))\n",
    "#     plt.close()"
   ]
  },
  {
   "cell_type": "code",
   "execution_count": null,
   "metadata": {},
   "outputs": [],
   "source": []
  },
  {
   "cell_type": "code",
   "execution_count": 34,
   "metadata": {
    "scrolled": false
   },
   "outputs": [
    {
     "data": {
      "text/plain": [
       "Text(0.5, 1.0, 'c1 selected')"
      ]
     },
     "execution_count": 34,
     "metadata": {},
     "output_type": "execute_result"
    },
    {
     "data": {
      "image/png": "[encoded data removed]",
      "text/plain": [
       "<Figure size 2700x900 with 1 Axes>"
      ]
     },
     "metadata": {},
     "output_type": "display_data"
    }
   ],
   "source": [
    "plt.plot(np.linspace(-31, 82, 160), np.squeeze(c1_params)[:, 0], label=\"\")\n",
    "plt.plot(np.linspace(-31, 82, 160), np.squeeze(c1_params)[:, 1], label=\"\")\n",
    "plt.plot(np.linspace(-31, 82, 160), np.squeeze(c1_params)[:, 20], label=\"\")\n",
    "plt.xlabel(\"theta\")\n",
    "plt.xlim((-31, 82))\n",
    "plt.title(\"c1 selected\")"
   ]
  },
  {
   "cell_type": "markdown",
   "metadata": {},
   "source": [
    "#### Load CME Parameters"
   ]
  },
  {
   "cell_type": "code",
   "execution_count": 35,
   "metadata": {},
   "outputs": [
    {
     "data": {
      "text/html": [
       "<div>\n",
       "<style scoped>\n",
       "    .dataframe tbody tr th:only-of-type {\n",
       "        vertical-align: middle;\n",
       "    }\n",
       "\n",
       "    .dataframe tbody tr th {\n",
       "        vertical-align: top;\n",
       "    }\n",
       "\n",
       "    .dataframe thead th {\n",
       "        text-align: right;\n",
       "    }\n",
       "</style>\n",
       "<table border=\"1\" class=\"dataframe\">\n",
       "  <thead>\n",
       "    <tr style=\"text-align: right;\">\n",
       "      <th></th>\n",
       "      <th>Radius</th>\n",
       "      <th>BStrength</th>\n",
       "      <th>ApexHeight</th>\n",
       "      <th>OrientationCme</th>\n",
       "      <th>iHelicity</th>\n",
       "      <th>restartdir</th>\n",
       "      <th>realization</th>\n",
       "    </tr>\n",
       "  </thead>\n",
       "  <tbody>\n",
       "    <tr>\n",
       "      <th>0</th>\n",
       "      <td>0.58375</td>\n",
       "      <td>22.526622</td>\n",
       "      <td>0.682075</td>\n",
       "      <td>204.725</td>\n",
       "      <td>1</td>\n",
       "      <td>4</td>\n",
       "      <td>4</td>\n",
       "    </tr>\n",
       "    <tr>\n",
       "      <th>1</th>\n",
       "      <td>0.52625</td>\n",
       "      <td>6.919483</td>\n",
       "      <td>0.519179</td>\n",
       "      <td>164.225</td>\n",
       "      <td>1</td>\n",
       "      <td>4</td>\n",
       "      <td>4</td>\n",
       "    </tr>\n",
       "    <tr>\n",
       "      <th>2</th>\n",
       "      <td>0.72625</td>\n",
       "      <td>5.087500</td>\n",
       "      <td>0.662022</td>\n",
       "      <td>233.975</td>\n",
       "      <td>1</td>\n",
       "      <td>4</td>\n",
       "      <td>4</td>\n",
       "    </tr>\n",
       "    <tr>\n",
       "      <th>3</th>\n",
       "      <td>0.36125</td>\n",
       "      <td>18.360770</td>\n",
       "      <td>0.420743</td>\n",
       "      <td>200.675</td>\n",
       "      <td>-1</td>\n",
       "      <td>4</td>\n",
       "      <td>4</td>\n",
       "    </tr>\n",
       "    <tr>\n",
       "      <th>4</th>\n",
       "      <td>0.69125</td>\n",
       "      <td>8.127120</td>\n",
       "      <td>0.735101</td>\n",
       "      <td>184.925</td>\n",
       "      <td>1</td>\n",
       "      <td>4</td>\n",
       "      <td>4</td>\n",
       "    </tr>\n",
       "  </tbody>\n",
       "</table>\n",
       "</div>"
      ],
      "text/plain": [
       "    Radius  BStrength  ApexHeight  OrientationCme  iHelicity  restartdir  \\\n",
       "0  0.58375  22.526622    0.682075         204.725          1           4   \n",
       "1  0.52625   6.919483    0.519179         164.225          1           4   \n",
       "2  0.72625   5.087500    0.662022         233.975          1           4   \n",
       "3  0.36125  18.360770    0.420743         200.675         -1           4   \n",
       "4  0.69125   8.127120    0.735101         184.925          1           4   \n",
       "\n",
       "   realization  \n",
       "0            4  \n",
       "1            4  \n",
       "2            4  \n",
       "3            4  \n",
       "4            4  "
      ]
     },
     "execution_count": 35,
     "metadata": {},
     "output_type": "execute_result"
    }
   ],
   "source": [
    "cme_params = pd.read_csv(\"./restarts_CR2161.csv\")\n",
    "cme_params.head()"
   ]
  },
  {
   "cell_type": "code",
   "execution_count": 36,
   "metadata": {},
   "outputs": [],
   "source": [
    "bg_params = pd.read_csv(\"./backgrounds_CR2161.csv\")"
   ]
  },
  {
   "cell_type": "code",
   "execution_count": 37,
   "metadata": {},
   "outputs": [
    {
     "data": {
      "text/plain": [
       "array([ 4, 12])"
      ]
     },
     "execution_count": 37,
     "metadata": {},
     "output_type": "execute_result"
    }
   ],
   "source": [
    "unique_bg = cme_params.restartdir.unique()\n",
    "unique_bg"
   ]
  },
  {
   "cell_type": "code",
   "execution_count": 38,
   "metadata": {},
   "outputs": [],
   "source": [
    "cme_param_bg_idx = []\n",
    "for bg in unique_bg:\n",
    "    cme_param_bg_idx.append(np.array((cme_params.restartdir == bg).to_list()))"
   ]
  },
  {
   "cell_type": "code",
   "execution_count": 39,
   "metadata": {},
   "outputs": [
    {
     "data": {
      "text/html": [
       "<div>\n",
       "<style scoped>\n",
       "    .dataframe tbody tr th:only-of-type {\n",
       "        vertical-align: middle;\n",
       "    }\n",
       "\n",
       "    .dataframe tbody tr th {\n",
       "        vertical-align: top;\n",
       "    }\n",
       "\n",
       "    .dataframe thead th {\n",
       "        text-align: right;\n",
       "    }\n",
       "</style>\n",
       "<table border=\"1\" class=\"dataframe\">\n",
       "  <thead>\n",
       "    <tr style=\"text-align: right;\">\n",
       "      <th></th>\n",
       "      <th>Radius</th>\n",
       "      <th>BStrength</th>\n",
       "      <th>ApexHeight</th>\n",
       "      <th>OrientationCme</th>\n",
       "      <th>iHelicity</th>\n",
       "      <th>realization</th>\n",
       "      <th>FactorB0</th>\n",
       "      <th>PoyntingFluxPerBSi</th>\n",
       "      <th>LperpTimesSqrtBSi</th>\n",
       "    </tr>\n",
       "  </thead>\n",
       "  <tbody>\n",
       "    <tr>\n",
       "      <th>0</th>\n",
       "      <td>0.58375</td>\n",
       "      <td>22.526622</td>\n",
       "      <td>0.682075</td>\n",
       "      <td>204.725</td>\n",
       "      <td>1</td>\n",
       "      <td>4</td>\n",
       "      <td>0.8010</td>\n",
       "      <td>378833.7</td>\n",
       "      <td>147856.5</td>\n",
       "    </tr>\n",
       "    <tr>\n",
       "      <th>1</th>\n",
       "      <td>0.52625</td>\n",
       "      <td>6.919483</td>\n",
       "      <td>0.519179</td>\n",
       "      <td>164.225</td>\n",
       "      <td>1</td>\n",
       "      <td>4</td>\n",
       "      <td>0.8010</td>\n",
       "      <td>378833.7</td>\n",
       "      <td>147856.5</td>\n",
       "    </tr>\n",
       "    <tr>\n",
       "      <th>2</th>\n",
       "      <td>0.72625</td>\n",
       "      <td>5.087500</td>\n",
       "      <td>0.662022</td>\n",
       "      <td>233.975</td>\n",
       "      <td>1</td>\n",
       "      <td>4</td>\n",
       "      <td>0.8010</td>\n",
       "      <td>378833.7</td>\n",
       "      <td>147856.5</td>\n",
       "    </tr>\n",
       "    <tr>\n",
       "      <th>3</th>\n",
       "      <td>0.36125</td>\n",
       "      <td>18.360770</td>\n",
       "      <td>0.420743</td>\n",
       "      <td>200.675</td>\n",
       "      <td>-1</td>\n",
       "      <td>4</td>\n",
       "      <td>0.8010</td>\n",
       "      <td>378833.7</td>\n",
       "      <td>147856.5</td>\n",
       "    </tr>\n",
       "    <tr>\n",
       "      <th>4</th>\n",
       "      <td>0.69125</td>\n",
       "      <td>8.127120</td>\n",
       "      <td>0.735101</td>\n",
       "      <td>184.925</td>\n",
       "      <td>1</td>\n",
       "      <td>4</td>\n",
       "      <td>0.8010</td>\n",
       "      <td>378833.7</td>\n",
       "      <td>147856.5</td>\n",
       "    </tr>\n",
       "    <tr>\n",
       "      <th>...</th>\n",
       "      <td>...</td>\n",
       "      <td>...</td>\n",
       "      <td>...</td>\n",
       "      <td>...</td>\n",
       "      <td>...</td>\n",
       "      <td>...</td>\n",
       "      <td>...</td>\n",
       "      <td>...</td>\n",
       "      <td>...</td>\n",
       "    </tr>\n",
       "    <tr>\n",
       "      <th>294</th>\n",
       "      <td>0.73750</td>\n",
       "      <td>15.331483</td>\n",
       "      <td>0.721367</td>\n",
       "      <td>170.750</td>\n",
       "      <td>-1</td>\n",
       "      <td>5</td>\n",
       "      <td>1.3016</td>\n",
       "      <td>304514.4</td>\n",
       "      <td>283042.3</td>\n",
       "    </tr>\n",
       "    <tr>\n",
       "      <th>295</th>\n",
       "      <td>0.36250</td>\n",
       "      <td>32.665259</td>\n",
       "      <td>0.436133</td>\n",
       "      <td>197.750</td>\n",
       "      <td>-1</td>\n",
       "      <td>5</td>\n",
       "      <td>1.3016</td>\n",
       "      <td>304514.4</td>\n",
       "      <td>283042.3</td>\n",
       "    </tr>\n",
       "    <tr>\n",
       "      <th>296</th>\n",
       "      <td>0.46250</td>\n",
       "      <td>26.757500</td>\n",
       "      <td>0.443711</td>\n",
       "      <td>224.750</td>\n",
       "      <td>1</td>\n",
       "      <td>5</td>\n",
       "      <td>1.3016</td>\n",
       "      <td>304514.4</td>\n",
       "      <td>283042.3</td>\n",
       "    </tr>\n",
       "    <tr>\n",
       "      <th>297</th>\n",
       "      <td>0.76250</td>\n",
       "      <td>16.930533</td>\n",
       "      <td>0.874492</td>\n",
       "      <td>215.750</td>\n",
       "      <td>-1</td>\n",
       "      <td>5</td>\n",
       "      <td>1.3016</td>\n",
       "      <td>304514.4</td>\n",
       "      <td>283042.3</td>\n",
       "    </tr>\n",
       "    <tr>\n",
       "      <th>298</th>\n",
       "      <td>0.61250</td>\n",
       "      <td>21.948929</td>\n",
       "      <td>0.553164</td>\n",
       "      <td>188.750</td>\n",
       "      <td>1</td>\n",
       "      <td>5</td>\n",
       "      <td>1.3016</td>\n",
       "      <td>304514.4</td>\n",
       "      <td>283042.3</td>\n",
       "    </tr>\n",
       "  </tbody>\n",
       "</table>\n",
       "<p>278 rows × 9 columns</p>\n",
       "</div>"
      ],
      "text/plain": [
       "      Radius  BStrength  ApexHeight  OrientationCme  iHelicity  realization  \\\n",
       "0    0.58375  22.526622    0.682075         204.725          1            4   \n",
       "1    0.52625   6.919483    0.519179         164.225          1            4   \n",
       "2    0.72625   5.087500    0.662022         233.975          1            4   \n",
       "3    0.36125  18.360770    0.420743         200.675         -1            4   \n",
       "4    0.69125   8.127120    0.735101         184.925          1            4   \n",
       "..       ...        ...         ...             ...        ...          ...   \n",
       "294  0.73750  15.331483    0.721367         170.750         -1            5   \n",
       "295  0.36250  32.665259    0.436133         197.750         -1            5   \n",
       "296  0.46250  26.757500    0.443711         224.750          1            5   \n",
       "297  0.76250  16.930533    0.874492         215.750         -1            5   \n",
       "298  0.61250  21.948929    0.553164         188.750          1            5   \n",
       "\n",
       "     FactorB0  PoyntingFluxPerBSi  LperpTimesSqrtBSi  \n",
       "0      0.8010            378833.7           147856.5  \n",
       "1      0.8010            378833.7           147856.5  \n",
       "2      0.8010            378833.7           147856.5  \n",
       "3      0.8010            378833.7           147856.5  \n",
       "4      0.8010            378833.7           147856.5  \n",
       "..        ...                 ...                ...  \n",
       "294    1.3016            304514.4           283042.3  \n",
       "295    1.3016            304514.4           283042.3  \n",
       "296    1.3016            304514.4           283042.3  \n",
       "297    1.3016            304514.4           283042.3  \n",
       "298    1.3016            304514.4           283042.3  \n",
       "\n",
       "[278 rows x 9 columns]"
      ]
     },
     "execution_count": 39,
     "metadata": {},
     "output_type": "execute_result"
    }
   ],
   "source": [
    "bg_params_to_insert = np.zeros((cme_params.shape[0], bg_params.shape[1]))\n",
    "for bg_idx, bg in enumerate(unique_bg):\n",
    "    bg_params_to_insert[cme_param_bg_idx[bg_idx], 0] = bg_params.FactorB0[bg - 1]\n",
    "    bg_params_to_insert[cme_param_bg_idx[bg_idx], 1] = bg_params.PoyntingFluxPerBSi[bg - 1]\n",
    "    bg_params_to_insert[cme_param_bg_idx[bg_idx], 2] = bg_params.LperpTimesSqrtBSi[bg - 1]\n",
    "\n",
    "cme_params[\"FactorB0\"] = pd.Series(bg_params_to_insert[:, 0])\n",
    "cme_params[\"PoyntingFluxPerBSi\"] = pd.Series(bg_params_to_insert[:, 1])\n",
    "cme_params[\"LperpTimesSqrtBSi\"] = pd.Series(bg_params_to_insert[:, 2])\n",
    "cme_params[\"SimID\"] = pd.Series(np.linspace(31, 330, 300))\n",
    "sim_idx_successful = sd_2161 - 30 - 1\n",
    "sim_idx_to_drop = np.setdiff1d(np.linspace(0, 299, 300), sim_idx_successful).astype(int).tolist()\n",
    "\n",
    "\n",
    "cme_params.drop([\"restartdir\"], axis=1, inplace=True)\n",
    "cme_params.drop(sim_idx_to_drop, inplace=True)\n",
    "cme_params.drop([\"SimID\"], axis=1, inplace=True)\n",
    "cme_params"
   ]
  },
  {
   "cell_type": "code",
   "execution_count": 40,
   "metadata": {},
   "outputs": [
    {
     "data": {
      "text/plain": [
       "Radius                     0.3000\n",
       "BStrength                  4.4516\n",
       "ApexHeight                 0.2625\n",
       "OrientationCme           155.0000\n",
       "iHelicity                 -1.0000\n",
       "realization                1.0000\n",
       "FactorB0                   0.5400\n",
       "PoyntingFluxPerBSi    300000.0000\n",
       "LperpTimesSqrtBSi      30000.0000\n",
       "dtype: float64"
      ]
     },
     "execution_count": 40,
     "metadata": {},
     "output_type": "execute_result"
    }
   ],
   "source": [
    "cme_p_min = cme_params.min()\n",
    "cme_p_min.BStrength = 4.4516\n",
    "cme_p_min.Radius = 0.3\n",
    "cme_p_min.OrientationCme = 155\n",
    "cme_p_min.iHelicity = -1\n",
    "cme_p_min.ApexHeight = 0.2625\n",
    "cme_p_min.realization = 1\n",
    "cme_p_min.FactorB0 = 0.54\n",
    "cme_p_min.PoyntingFluxPerBSi = 0.3e6\n",
    "cme_p_min.LperpTimesSqrtBSi = 0.3e5\n",
    "\n",
    "cme_p_min"
   ]
  },
  {
   "cell_type": "code",
   "execution_count": 41,
   "metadata": {},
   "outputs": [
    {
     "data": {
      "text/plain": [
       "Radius                8.000000e-01\n",
       "BStrength             4.748330e+01\n",
       "ApexHeight            1.000000e+00\n",
       "OrientationCme        2.450000e+02\n",
       "iHelicity             1.000000e+00\n",
       "realization           1.200000e+01\n",
       "FactorB0              2.700000e+00\n",
       "PoyntingFluxPerBSi    1.100000e+06\n",
       "LperpTimesSqrtBSi     3.000000e+05\n",
       "dtype: float64"
      ]
     },
     "execution_count": 41,
     "metadata": {},
     "output_type": "execute_result"
    }
   ],
   "source": [
    "cme_p_max = cme_params.max()\n",
    "cme_p_max.BStrength = 47.4833\n",
    "cme_p_max.Radius = 0.8\n",
    "cme_p_max.OrientationCme = 245\n",
    "cme_p_max.iHelicity = 1\n",
    "cme_p_max.ApexHeight = 1\n",
    "cme_p_max.realization = 12\n",
    "cme_p_max.FactorB0 = 2.7\n",
    "cme_p_max.PoyntingFluxPerBSi = 1.1e6\n",
    "cme_p_max.LperpTimesSqrtBSi = 3e5\n",
    "\n",
    "cme_p_max"
   ]
  },
  {
   "cell_type": "code",
   "execution_count": 42,
   "metadata": {},
   "outputs": [
    {
     "data": {
      "text/html": [
       "<div>\n",
       "<style scoped>\n",
       "    .dataframe tbody tr th:only-of-type {\n",
       "        vertical-align: middle;\n",
       "    }\n",
       "\n",
       "    .dataframe tbody tr th {\n",
       "        vertical-align: top;\n",
       "    }\n",
       "\n",
       "    .dataframe thead th {\n",
       "        text-align: right;\n",
       "    }\n",
       "</style>\n",
       "<table border=\"1\" class=\"dataframe\">\n",
       "  <thead>\n",
       "    <tr style=\"text-align: right;\">\n",
       "      <th></th>\n",
       "      <th>Radius</th>\n",
       "      <th>BStrength</th>\n",
       "      <th>ApexHeight</th>\n",
       "      <th>OrientationCme</th>\n",
       "      <th>iHelicity</th>\n",
       "      <th>realization</th>\n",
       "      <th>FactorB0</th>\n",
       "      <th>PoyntingFluxPerBSi</th>\n",
       "      <th>LperpTimesSqrtBSi</th>\n",
       "    </tr>\n",
       "  </thead>\n",
       "  <tbody>\n",
       "    <tr>\n",
       "      <th>0</th>\n",
       "      <td>0.5675</td>\n",
       "      <td>0.420040</td>\n",
       "      <td>0.568916</td>\n",
       "      <td>0.5525</td>\n",
       "      <td>1.0</td>\n",
       "      <td>0.272727</td>\n",
       "      <td>0.120833</td>\n",
       "      <td>0.098542</td>\n",
       "      <td>0.436506</td>\n",
       "    </tr>\n",
       "    <tr>\n",
       "      <th>1</th>\n",
       "      <td>0.4525</td>\n",
       "      <td>0.057350</td>\n",
       "      <td>0.348039</td>\n",
       "      <td>0.1025</td>\n",
       "      <td>1.0</td>\n",
       "      <td>0.272727</td>\n",
       "      <td>0.120833</td>\n",
       "      <td>0.098542</td>\n",
       "      <td>0.436506</td>\n",
       "    </tr>\n",
       "    <tr>\n",
       "      <th>2</th>\n",
       "      <td>0.8525</td>\n",
       "      <td>0.014777</td>\n",
       "      <td>0.541725</td>\n",
       "      <td>0.8775</td>\n",
       "      <td>1.0</td>\n",
       "      <td>0.272727</td>\n",
       "      <td>0.120833</td>\n",
       "      <td>0.098542</td>\n",
       "      <td>0.436506</td>\n",
       "    </tr>\n",
       "    <tr>\n",
       "      <th>3</th>\n",
       "      <td>0.1225</td>\n",
       "      <td>0.323231</td>\n",
       "      <td>0.214567</td>\n",
       "      <td>0.5075</td>\n",
       "      <td>0.0</td>\n",
       "      <td>0.272727</td>\n",
       "      <td>0.120833</td>\n",
       "      <td>0.098542</td>\n",
       "      <td>0.436506</td>\n",
       "    </tr>\n",
       "    <tr>\n",
       "      <th>4</th>\n",
       "      <td>0.7825</td>\n",
       "      <td>0.085414</td>\n",
       "      <td>0.640815</td>\n",
       "      <td>0.3325</td>\n",
       "      <td>1.0</td>\n",
       "      <td>0.272727</td>\n",
       "      <td>0.120833</td>\n",
       "      <td>0.098542</td>\n",
       "      <td>0.436506</td>\n",
       "    </tr>\n",
       "    <tr>\n",
       "      <th>...</th>\n",
       "      <td>...</td>\n",
       "      <td>...</td>\n",
       "      <td>...</td>\n",
       "      <td>...</td>\n",
       "      <td>...</td>\n",
       "      <td>...</td>\n",
       "      <td>...</td>\n",
       "      <td>...</td>\n",
       "      <td>...</td>\n",
       "    </tr>\n",
       "    <tr>\n",
       "      <th>294</th>\n",
       "      <td>0.8750</td>\n",
       "      <td>0.252834</td>\n",
       "      <td>0.622193</td>\n",
       "      <td>0.1750</td>\n",
       "      <td>0.0</td>\n",
       "      <td>0.363636</td>\n",
       "      <td>0.352593</td>\n",
       "      <td>0.005643</td>\n",
       "      <td>0.937194</td>\n",
       "    </tr>\n",
       "    <tr>\n",
       "      <th>295</th>\n",
       "      <td>0.1250</td>\n",
       "      <td>0.655648</td>\n",
       "      <td>0.235434</td>\n",
       "      <td>0.4750</td>\n",
       "      <td>0.0</td>\n",
       "      <td>0.363636</td>\n",
       "      <td>0.352593</td>\n",
       "      <td>0.005643</td>\n",
       "      <td>0.937194</td>\n",
       "    </tr>\n",
       "    <tr>\n",
       "      <th>296</th>\n",
       "      <td>0.3250</td>\n",
       "      <td>0.518360</td>\n",
       "      <td>0.245710</td>\n",
       "      <td>0.7750</td>\n",
       "      <td>1.0</td>\n",
       "      <td>0.363636</td>\n",
       "      <td>0.352593</td>\n",
       "      <td>0.005643</td>\n",
       "      <td>0.937194</td>\n",
       "    </tr>\n",
       "    <tr>\n",
       "      <th>297</th>\n",
       "      <td>0.9250</td>\n",
       "      <td>0.289994</td>\n",
       "      <td>0.829820</td>\n",
       "      <td>0.6750</td>\n",
       "      <td>0.0</td>\n",
       "      <td>0.363636</td>\n",
       "      <td>0.352593</td>\n",
       "      <td>0.005643</td>\n",
       "      <td>0.937194</td>\n",
       "    </tr>\n",
       "    <tr>\n",
       "      <th>298</th>\n",
       "      <td>0.6250</td>\n",
       "      <td>0.406615</td>\n",
       "      <td>0.394121</td>\n",
       "      <td>0.3750</td>\n",
       "      <td>1.0</td>\n",
       "      <td>0.363636</td>\n",
       "      <td>0.352593</td>\n",
       "      <td>0.005643</td>\n",
       "      <td>0.937194</td>\n",
       "    </tr>\n",
       "  </tbody>\n",
       "</table>\n",
       "<p>278 rows × 9 columns</p>\n",
       "</div>"
      ],
      "text/plain": [
       "     Radius  BStrength  ApexHeight  OrientationCme  iHelicity  realization  \\\n",
       "0    0.5675   0.420040    0.568916          0.5525        1.0     0.272727   \n",
       "1    0.4525   0.057350    0.348039          0.1025        1.0     0.272727   \n",
       "2    0.8525   0.014777    0.541725          0.8775        1.0     0.272727   \n",
       "3    0.1225   0.323231    0.214567          0.5075        0.0     0.272727   \n",
       "4    0.7825   0.085414    0.640815          0.3325        1.0     0.272727   \n",
       "..      ...        ...         ...             ...        ...          ...   \n",
       "294  0.8750   0.252834    0.622193          0.1750        0.0     0.363636   \n",
       "295  0.1250   0.655648    0.235434          0.4750        0.0     0.363636   \n",
       "296  0.3250   0.518360    0.245710          0.7750        1.0     0.363636   \n",
       "297  0.9250   0.289994    0.829820          0.6750        0.0     0.363636   \n",
       "298  0.6250   0.406615    0.394121          0.3750        1.0     0.363636   \n",
       "\n",
       "     FactorB0  PoyntingFluxPerBSi  LperpTimesSqrtBSi  \n",
       "0    0.120833            0.098542           0.436506  \n",
       "1    0.120833            0.098542           0.436506  \n",
       "2    0.120833            0.098542           0.436506  \n",
       "3    0.120833            0.098542           0.436506  \n",
       "4    0.120833            0.098542           0.436506  \n",
       "..        ...                 ...                ...  \n",
       "294  0.352593            0.005643           0.937194  \n",
       "295  0.352593            0.005643           0.937194  \n",
       "296  0.352593            0.005643           0.937194  \n",
       "297  0.352593            0.005643           0.937194  \n",
       "298  0.352593            0.005643           0.937194  \n",
       "\n",
       "[278 rows x 9 columns]"
      ]
     },
     "execution_count": 42,
     "metadata": {},
     "output_type": "execute_result"
    }
   ],
   "source": [
    "cme_params_norm = (cme_params - cme_p_min) / (cme_p_max - cme_p_min)\n",
    "cme_params_norm"
   ]
  },
  {
   "cell_type": "code",
   "execution_count": 43,
   "metadata": {},
   "outputs": [
    {
     "data": {
      "text/plain": [
       "(278, 9)"
      ]
     },
     "execution_count": 43,
     "metadata": {},
     "output_type": "execute_result"
    }
   ],
   "source": [
    "cme_params_to_augment = cme_params_norm.to_numpy()\n",
    "cme_params_to_augment.shape"
   ]
  },
  {
   "cell_type": "markdown",
   "metadata": {},
   "source": [
    "**Split into train and test for GPs**"
   ]
  },
  {
   "cell_type": "code",
   "execution_count": 44,
   "metadata": {},
   "outputs": [
    {
     "data": {
      "text/plain": [
       "(157, 53, 52)"
      ]
     },
     "execution_count": 44,
     "metadata": {},
     "output_type": "execute_result"
    }
   ],
   "source": [
    "from numpy.random import Generator, PCG64\n",
    "rng = np.random.default_rng(2023)\n",
    "\n",
    "nTrain = int(np.floor(0.6 * len(sd_modified)))\n",
    "nCalib = int(np.floor(0.2 * len(sd_modified)))\n",
    "nTest = len(sd_modified) - nTrain - nCalib\n",
    "\n",
    "nTrain, nTest, nCalib"
   ]
  },
  {
   "cell_type": "code",
   "execution_count": 45,
   "metadata": {},
   "outputs": [
    {
     "data": {
      "text/plain": [
       "262"
      ]
     },
     "execution_count": 45,
     "metadata": {},
     "output_type": "execute_result"
    }
   ],
   "source": [
    "len(sd_modified)"
   ]
  },
  {
   "cell_type": "code",
   "execution_count": 46,
   "metadata": {},
   "outputs": [],
   "source": [
    "orig_sd_idx = np.array([np.where(sd_2161 == i)[0][0] for i in sd_modified])"
   ]
  },
  {
   "cell_type": "code",
   "execution_count": 47,
   "metadata": {},
   "outputs": [
    {
     "data": {
      "text/plain": [
       "(array([ 36,  41,  43,  48,  50,  70,  79,  81,  85,  89,  92,  94, 101,\n",
       "        114, 118, 119, 135, 140, 141, 151, 158, 164, 168, 169, 172, 174,\n",
       "        178, 180, 188, 200, 204, 206, 211, 213, 214, 224, 230, 240, 243,\n",
       "        246, 251, 254, 259, 261, 263, 267, 278, 288, 292, 307, 311, 320,\n",
       "        328]),\n",
       " array([ 31,  35,  44,  46,  56,  61,  76,  95,  98, 105, 122, 123, 127,\n",
       "        129, 143, 144, 146, 147, 153, 159, 175, 190, 194, 197, 205, 215,\n",
       "        225, 231, 236, 239, 248, 249, 252, 255, 257, 258, 269, 274, 279,\n",
       "        281, 284, 294, 298, 299, 302, 305, 306, 314, 316, 318, 319, 321]))"
      ]
     },
     "execution_count": 47,
     "metadata": {},
     "output_type": "execute_result"
    }
   ],
   "source": [
    "sd_train = np.sort(rng.choice(sd_modified, nTrain, replace=False))\n",
    "sd_test_calib = np.setdiff1d(sd_modified, sd_train)\n",
    "sd_calib = np.sort(rng.choice(sd_test_calib, nCalib, replace=False))\n",
    "sd_test = np.setdiff1d(sd_test_calib, sd_calib)\n",
    "\n",
    "sd_test, sd_calib"
   ]
  },
  {
   "cell_type": "code",
   "execution_count": 48,
   "metadata": {},
   "outputs": [],
   "source": [
    "train_sd_idx = np.array([np.where(sd_2161 == i)[0][0] for i in sd_train])\n",
    "test_sd_idx  = np.array([np.where(sd_2161 == i)[0][0] for i in sd_test])"
   ]
  },
  {
   "cell_type": "code",
   "execution_count": 49,
   "metadata": {},
   "outputs": [],
   "source": [
    "train_sd_idx_modified = np.array([np.where(sd_modified == i)[0][0] for i in sd_train])"
   ]
  },
  {
   "cell_type": "code",
   "execution_count": 50,
   "metadata": {},
   "outputs": [],
   "source": [
    "test_sd_idx_modified = np.array([np.where(sd_modified == i)[0][0] for i in sd_test])"
   ]
  },
  {
   "cell_type": "markdown",
   "metadata": {},
   "source": [
    "#### Process data"
   ]
  },
  {
   "cell_type": "code",
   "execution_count": 51,
   "metadata": {},
   "outputs": [],
   "source": [
    "theta_grid_scaled = (theta_grid[0::2] - theta_grid[0])/(theta_grid[-1] - theta_grid[0])"
   ]
  },
  {
   "cell_type": "code",
   "execution_count": 52,
   "metadata": {},
   "outputs": [],
   "source": [
    "theta_repeat = np.tile(theta_grid_scaled, len(train_sd_idx))"
   ]
  },
  {
   "cell_type": "markdown",
   "metadata": {},
   "source": [
    "Check indexing"
   ]
  },
  {
   "cell_type": "code",
   "execution_count": 53,
   "metadata": {},
   "outputs": [],
   "source": [
    "train_x_raw = cme_params_to_augment[train_sd_idx, :]\n",
    "test_x_raw = cme_params_to_augment[test_sd_idx, :]"
   ]
  },
  {
   "cell_type": "code",
   "execution_count": 54,
   "metadata": {},
   "outputs": [],
   "source": [
    "# train_x_raw.shape"
   ]
  },
  {
   "cell_type": "code",
   "execution_count": 55,
   "metadata": {},
   "outputs": [],
   "source": [
    "# train_x_repeat = np.repeat(train_x_raw, len(theta_grid_scaled), axis=0)\n",
    "# train_x_repeat.shape"
   ]
  },
  {
   "cell_type": "code",
   "execution_count": 56,
   "metadata": {},
   "outputs": [],
   "source": [
    "# test_x_repeat = np.repeat(test_x_raw, len(theta_grid_scaled), axis=0)\n",
    "# test_x_repeat.shape"
   ]
  },
  {
   "cell_type": "code",
   "execution_count": 57,
   "metadata": {},
   "outputs": [],
   "source": [
    "# train_x_final = np.c_[theta_repeat, train_x_repeat]"
   ]
  },
  {
   "cell_type": "code",
   "execution_count": 58,
   "metadata": {},
   "outputs": [],
   "source": [
    "# train_x_final.shape"
   ]
  },
  {
   "cell_type": "code",
   "execution_count": 59,
   "metadata": {},
   "outputs": [],
   "source": [
    "# train_x_torch = torch.tensor(np.float32(train_x_final)).to(device)"
   ]
  },
  {
   "cell_type": "code",
   "execution_count": 60,
   "metadata": {},
   "outputs": [],
   "source": [
    "# test_x_final = np.c_[np.tile(theta_grid_scaled, len(test_sd_idx)), test_x_repeat]"
   ]
  },
  {
   "cell_type": "code",
   "execution_count": 61,
   "metadata": {},
   "outputs": [],
   "source": [
    "# test_x_final.shape"
   ]
  },
  {
   "cell_type": "code",
   "execution_count": 62,
   "metadata": {},
   "outputs": [],
   "source": [
    "# test_x_torch = torch.tensor(np.float32(test_x_final)).to(device)"
   ]
  },
  {
   "cell_type": "code",
   "execution_count": 63,
   "metadata": {},
   "outputs": [],
   "source": [
    "# c1_params_2d = np.squeeze(c1_params)"
   ]
  },
  {
   "cell_type": "code",
   "execution_count": 64,
   "metadata": {},
   "outputs": [],
   "source": [
    "# train_y = c1_params_2d[0::2, train_sd_idx_modified].T.flatten()\n",
    "# train_y.shape"
   ]
  },
  {
   "cell_type": "code",
   "execution_count": 65,
   "metadata": {},
   "outputs": [],
   "source": [
    "# test_y = c1_params_2d[0::2, test_sd_idx_modified].T.flatten()\n",
    "# test_y.shape"
   ]
  },
  {
   "cell_type": "code",
   "execution_count": 66,
   "metadata": {},
   "outputs": [],
   "source": [
    "# train_y_torch = torch.tensor(np.float32(train_y)).to(device)"
   ]
  },
  {
   "cell_type": "code",
   "execution_count": 67,
   "metadata": {},
   "outputs": [],
   "source": [
    "# train_y_torch.shape"
   ]
  },
  {
   "cell_type": "code",
   "execution_count": 68,
   "metadata": {},
   "outputs": [],
   "source": [
    "# test_y_torch = torch.tensor(np.float32(test_y)).to(device)"
   ]
  },
  {
   "cell_type": "markdown",
   "metadata": {},
   "source": [
    "### Fit Polynomials"
   ]
  },
  {
   "cell_type": "markdown",
   "metadata": {},
   "source": [
    "Learn polynomial mapping between $c_1$ and flux rope parameters, then construct a GP using a small number of $c_1$ values and parameters. Alternately, learn the GP or a regular interpolator between the coefficients of the fitted polynomials and the flux rope parameters (eliminate dependence on position angle as an additional parameter)\n",
    "\n",
    "The previous data processing applies to GP. Here we (probably) don't need to `tile` for position angle! - we need to see what sort of assumptions we make about the coefficients though."
   ]
  },
  {
   "cell_type": "code",
   "execution_count": 69,
   "metadata": {},
   "outputs": [],
   "source": [
    "# train_x_final, test_x_final\n",
    "# train_y, test_y"
   ]
  },
  {
   "cell_type": "code",
   "execution_count": 70,
   "metadata": {},
   "outputs": [
    {
     "data": {
      "text/plain": [
       "(160, 1, 262)"
      ]
     },
     "execution_count": 70,
     "metadata": {},
     "output_type": "execute_result"
    }
   ],
   "source": [
    "c1_params.shape"
   ]
  },
  {
   "cell_type": "code",
   "execution_count": 71,
   "metadata": {},
   "outputs": [],
   "source": [
    "c1_params_final = np.squeeze(c1_params)"
   ]
  },
  {
   "cell_type": "code",
   "execution_count": 72,
   "metadata": {},
   "outputs": [
    {
     "data": {
      "text/plain": [
       "((157, 160), (53, 160))"
      ]
     },
     "execution_count": 72,
     "metadata": {},
     "output_type": "execute_result"
    }
   ],
   "source": [
    "c1_params_train = c1_params_final[:, train_sd_idx_modified].T\n",
    "c1_params_test  = c1_params_final[:, test_sd_idx_modified].T\n",
    "\n",
    "c1_params_train.shape, c1_params_test.shape"
   ]
  },
  {
   "cell_type": "code",
   "execution_count": 73,
   "metadata": {},
   "outputs": [
    {
     "data": {
      "text/plain": [
       "(157, 9)"
      ]
     },
     "execution_count": 73,
     "metadata": {},
     "output_type": "execute_result"
    }
   ],
   "source": [
    "train_x_raw.shape"
   ]
  },
  {
   "cell_type": "code",
   "execution_count": 74,
   "metadata": {},
   "outputs": [
    {
     "data": {
      "text/plain": [
       "(53, 9)"
      ]
     },
     "execution_count": 74,
     "metadata": {},
     "output_type": "execute_result"
    }
   ],
   "source": [
    "test_x_raw.shape"
   ]
  },
  {
   "cell_type": "code",
   "execution_count": 75,
   "metadata": {},
   "outputs": [],
   "source": [
    "fit_deg = 6"
   ]
  },
  {
   "cell_type": "code",
   "execution_count": 76,
   "metadata": {},
   "outputs": [],
   "source": [
    "polynomial_coeffs = np.zeros((fit_deg + 1, c1_params_train.shape[0]))"
   ]
  },
  {
   "cell_type": "code",
   "execution_count": 77,
   "metadata": {},
   "outputs": [],
   "source": [
    "for i in range(c1_params_train.shape[0]):\n",
    "    polynomial_coeffs[:, i] = np.polyfit(theta_grid, c1_params_train[i, :], deg=fit_deg) "
   ]
  },
  {
   "cell_type": "code",
   "execution_count": 78,
   "metadata": {},
   "outputs": [],
   "source": [
    "# np.polyfit(theta_grid, c1_params_train[1, :], deg=fit_deg, full=True, cov=True)"
   ]
  },
  {
   "cell_type": "code",
   "execution_count": 79,
   "metadata": {},
   "outputs": [
    {
     "data": {
      "text/plain": [
       "(7, 157)"
      ]
     },
     "execution_count": 79,
     "metadata": {},
     "output_type": "execute_result"
    }
   ],
   "source": [
    "polynomial_coeffs.shape"
   ]
  },
  {
   "cell_type": "code",
   "execution_count": 80,
   "metadata": {},
   "outputs": [],
   "source": [
    "polynomial_coeffs_test = np.zeros((fit_deg + 1, c1_params_test.shape[0]))"
   ]
  },
  {
   "cell_type": "code",
   "execution_count": 81,
   "metadata": {},
   "outputs": [],
   "source": [
    "for i in range(c1_params_test.shape[0]):\n",
    "    polynomial_coeffs_test[:, i] = np.polyfit(theta_grid, c1_params_test[i, :], deg=fit_deg) "
   ]
  },
  {
   "cell_type": "code",
   "execution_count": 82,
   "metadata": {},
   "outputs": [
    {
     "data": {
      "text/plain": [
       "(7, 53)"
      ]
     },
     "execution_count": 82,
     "metadata": {},
     "output_type": "execute_result"
    }
   ],
   "source": [
    "polynomial_coeffs_test.shape"
   ]
  },
  {
   "cell_type": "code",
   "execution_count": 83,
   "metadata": {},
   "outputs": [],
   "source": [
    "# plot polynomial coefficients p0 p1 p2 p3\n",
    "\n",
    "# fig = plt.figure()\n",
    "# for i in range(6):\n",
    "#     plt.subplot(2, 3, i + 1)\n",
    "#     plt.tight_layout()\n",
    "#     plt.scatter(np.linspace(1, 157, 157), polynomial_coeffs[i, :])\n",
    "#     plt.xlabel(\"Sim ID\")\n",
    "#     if i == 0:\n",
    "#         plt.ylabel(\"Coefficient\")\n",
    "#     plt.title(\"p{}\".format(5 - i))\n"
   ]
  },
  {
   "cell_type": "code",
   "execution_count": 84,
   "metadata": {},
   "outputs": [
    {
     "data": {
      "text/plain": [
       "(80,)"
      ]
     },
     "execution_count": 84,
     "metadata": {},
     "output_type": "execute_result"
    }
   ],
   "source": [
    "theta_grid_scaled.shape"
   ]
  },
  {
   "cell_type": "code",
   "execution_count": 85,
   "metadata": {},
   "outputs": [
    {
     "data": {
      "text/plain": [
       "array([ 2.42376932e-10, -3.63726230e-08,  1.11267036e-06,  2.51640353e-05,\n",
       "       -1.14732248e-03,  1.33934075e-02,  5.22663017e+00])"
      ]
     },
     "execution_count": 85,
     "metadata": {},
     "output_type": "execute_result"
    }
   ],
   "source": [
    "pc1 = polynomial_coeffs[:, 0]\n",
    "pc1"
   ]
  },
  {
   "cell_type": "code",
   "execution_count": 86,
   "metadata": {},
   "outputs": [],
   "source": [
    "def getPredPolyFit(poly_coeffs, x):\n",
    "    poly_sum = 0\n",
    "    deg = len(poly_coeffs) - 1\n",
    "    for i in range(len(poly_coeffs)):\n",
    "        poly_sum = poly_sum + poly_coeffs[i] * (x**(deg - i))\n",
    "        \n",
    "    return poly_sum"
   ]
  },
  {
   "cell_type": "code",
   "execution_count": 87,
   "metadata": {},
   "outputs": [],
   "source": [
    "# # plot to show fit (with selected points)\n",
    "\n",
    "# for i in range(len(sd_train)):\n",
    "#     plt.plot(np.linspace(-31, 82, 160), c1_params_train[i, :], label=\"true\")\n",
    "#     plt.plot(theta_grid[0::2], getPredPolyFit(polynomial_coeffs[:, i], theta_grid[0::2]), linestyle=\"--\", label=\"fit\")\n",
    "#     plt.xlabel(\"phi\")\n",
    "#     plt.ylabel(\"c1\")\n",
    "#     plt.xlim((-31, 82))\n",
    "#     plt.legend()\n",
    "#     plt.title(\"Sim {}\".format(sd_train[i]))\n",
    "#     plt.savefig(os.path.join(\"c1_polynomial_fit\", \"sim_{:03d}.png\".format(sd_train[i])))\n",
    "#     plt.close()"
   ]
  },
  {
   "cell_type": "markdown",
   "metadata": {},
   "source": [
    "_Interpolate polynomial coefficients as a function of flux rope parameters_ - this is _probably_ better. The dependence on position angle is not easy to account for as we saw the last time, and if we just take a few select angles, the interpolation especially of GP-style methods in between them may not be reliable.\n",
    "\n",
    "this is a safer 2 stage method. once we have predicted coefficients with confidence intervals, use them to generate predictions of $c_1$.\n",
    "\n",
    "**Multi-task GP** - correlated output dimensions, each output \"task\" (in our case, each polynomial coefficient) shares the same inputs $\\mu$.\n",
    "\n",
    "Reference: [GPyTorch Docs](https://docs.gpytorch.ai/en/stable/examples/03_Multitask_Exact_GPs/Multitask_GP_Regression.html)"
   ]
  },
  {
   "cell_type": "code",
   "execution_count": 88,
   "metadata": {},
   "outputs": [],
   "source": [
    "import scipy.interpolate\n",
    "\n",
    "import torch\n",
    "import gpytorch"
   ]
  },
  {
   "cell_type": "code",
   "execution_count": 89,
   "metadata": {},
   "outputs": [],
   "source": [
    "class MultitaskGPModel(gpytorch.models.ExactGP):\n",
    "    def __init__(self, tx, ty, lkl):\n",
    "        super(MultitaskGPModel, self).__init__(tx, ty, lkl)\n",
    "        self.mean_module = gpytorch.means.MultitaskMean(\n",
    "            gpytorch.means.ConstantMean(), num_tasks=7\n",
    "        )\n",
    "        self.covar_module = gpytorch.kernels.MultitaskKernel(\n",
    "            gpytorch.kernels.RBFKernel(), num_tasks=7, rank=1\n",
    "        )\n",
    "\n",
    "    def forward(self, x):\n",
    "        mean_x = self.mean_module(x)\n",
    "        covar_x = self.covar_module(x)\n",
    "        return gpytorch.distributions.MultitaskMultivariateNormal(mean_x, covar_x)"
   ]
  },
  {
   "cell_type": "code",
   "execution_count": 90,
   "metadata": {},
   "outputs": [],
   "source": [
    "train_x_torch_final = torch.tensor(np.float32(train_x_raw)).to(device)"
   ]
  },
  {
   "cell_type": "code",
   "execution_count": 91,
   "metadata": {},
   "outputs": [
    {
     "data": {
      "text/plain": [
       "torch.Size([157, 9])"
      ]
     },
     "execution_count": 91,
     "metadata": {},
     "output_type": "execute_result"
    }
   ],
   "source": [
    "train_x_torch_final.shape"
   ]
  },
  {
   "cell_type": "code",
   "execution_count": 92,
   "metadata": {},
   "outputs": [],
   "source": [
    "train_y_torch_final = torch.tensor(np.float32(polynomial_coeffs.T)).to(device)"
   ]
  },
  {
   "cell_type": "code",
   "execution_count": 93,
   "metadata": {},
   "outputs": [
    {
     "data": {
      "text/plain": [
       "torch.Size([157, 7])"
      ]
     },
     "execution_count": 93,
     "metadata": {},
     "output_type": "execute_result"
    }
   ],
   "source": [
    "train_y_torch_final.shape"
   ]
  },
  {
   "cell_type": "code",
   "execution_count": 94,
   "metadata": {},
   "outputs": [],
   "source": [
    "likelihood = gpytorch.likelihoods.MultitaskGaussianLikelihood(num_tasks=7)\n",
    "model = MultitaskGPModel(train_x_torch_final, train_y_torch_final, likelihood)"
   ]
  },
  {
   "cell_type": "code",
   "execution_count": 95,
   "metadata": {},
   "outputs": [
    {
     "data": {
      "text/plain": [
       "MultitaskGaussianLikelihood(\n",
       "  (raw_task_noises_constraint): GreaterThan(1.000E-04)\n",
       "  (raw_noise_constraint): GreaterThan(1.000E-04)\n",
       ")"
      ]
     },
     "execution_count": 95,
     "metadata": {},
     "output_type": "execute_result"
    }
   ],
   "source": [
    "# Find optimal model hyperparameters\n",
    "model.train()\n",
    "likelihood.train()"
   ]
  },
  {
   "cell_type": "code",
   "execution_count": 96,
   "metadata": {},
   "outputs": [],
   "source": [
    "# Use the adam optimizer\n",
    "optimizer = torch.optim.Adam(model.parameters(), lr=0.1)  # Includes GaussianLikelihood parameters"
   ]
  },
  {
   "cell_type": "code",
   "execution_count": 97,
   "metadata": {},
   "outputs": [],
   "source": [
    "# \"Loss\" for GPs - the marginal log likelihood\n",
    "mll = gpytorch.mlls.ExactMarginalLogLikelihood(likelihood, model)"
   ]
  },
  {
   "cell_type": "code",
   "execution_count": 98,
   "metadata": {},
   "outputs": [],
   "source": [
    "training_iterations = 1000"
   ]
  },
  {
   "cell_type": "code",
   "execution_count": 99,
   "metadata": {},
   "outputs": [
    {
     "name": "stdout",
     "output_type": "stream",
     "text": [
      "Iter 1/1000 - Loss: 2.148\n",
      "Iter 2/1000 - Loss: 2.028\n",
      "Iter 3/1000 - Loss: 1.930\n",
      "Iter 4/1000 - Loss: 1.843\n",
      "Iter 5/1000 - Loss: 1.765\n",
      "Iter 6/1000 - Loss: 1.692\n",
      "Iter 7/1000 - Loss: 1.622\n",
      "Iter 8/1000 - Loss: 1.554\n",
      "Iter 9/1000 - Loss: 1.488\n",
      "Iter 10/1000 - Loss: 1.421\n",
      "Iter 11/1000 - Loss: 1.355\n",
      "Iter 12/1000 - Loss: 1.289\n",
      "Iter 13/1000 - Loss: 1.225\n",
      "Iter 14/1000 - Loss: 1.161\n",
      "Iter 15/1000 - Loss: 1.100\n",
      "Iter 16/1000 - Loss: 1.041\n",
      "Iter 17/1000 - Loss: 0.983\n",
      "Iter 18/1000 - Loss: 0.926\n",
      "Iter 19/1000 - Loss: 0.870\n",
      "Iter 20/1000 - Loss: 0.815\n",
      "Iter 21/1000 - Loss: 0.762\n",
      "Iter 22/1000 - Loss: 0.712\n",
      "Iter 23/1000 - Loss: 0.663\n",
      "Iter 24/1000 - Loss: 0.615\n",
      "Iter 25/1000 - Loss: 0.567\n",
      "Iter 26/1000 - Loss: 0.519\n",
      "Iter 27/1000 - Loss: 0.471\n",
      "Iter 28/1000 - Loss: 0.422\n",
      "Iter 29/1000 - Loss: 0.375\n",
      "Iter 30/1000 - Loss: 0.327\n",
      "Iter 31/1000 - Loss: 0.279\n",
      "Iter 32/1000 - Loss: 0.231\n",
      "Iter 33/1000 - Loss: 0.183\n",
      "Iter 34/1000 - Loss: 0.134\n",
      "Iter 35/1000 - Loss: 0.086\n",
      "Iter 36/1000 - Loss: 0.038\n",
      "Iter 37/1000 - Loss: -0.010\n",
      "Iter 38/1000 - Loss: -0.057\n",
      "Iter 39/1000 - Loss: -0.106\n",
      "Iter 40/1000 - Loss: -0.154\n",
      "Iter 41/1000 - Loss: -0.201\n",
      "Iter 42/1000 - Loss: -0.248\n",
      "Iter 43/1000 - Loss: -0.296\n",
      "Iter 44/1000 - Loss: -0.344\n",
      "Iter 45/1000 - Loss: -0.390\n",
      "Iter 46/1000 - Loss: -0.437\n",
      "Iter 47/1000 - Loss: -0.484\n",
      "Iter 48/1000 - Loss: -0.530\n",
      "Iter 49/1000 - Loss: -0.576\n",
      "Iter 50/1000 - Loss: -0.622\n",
      "Iter 51/1000 - Loss: -0.668\n",
      "Iter 52/1000 - Loss: -0.714\n",
      "Iter 53/1000 - Loss: -0.759\n",
      "Iter 54/1000 - Loss: -0.805\n",
      "Iter 55/1000 - Loss: -0.849\n",
      "Iter 56/1000 - Loss: -0.894\n",
      "Iter 57/1000 - Loss: -0.940\n",
      "Iter 58/1000 - Loss: -0.984\n",
      "Iter 59/1000 - Loss: -1.026\n",
      "Iter 60/1000 - Loss: -1.068\n",
      "Iter 61/1000 - Loss: -1.110\n",
      "Iter 62/1000 - Loss: -1.152\n",
      "Iter 63/1000 - Loss: -1.193\n",
      "Iter 64/1000 - Loss: -1.233\n",
      "Iter 65/1000 - Loss: -1.272\n",
      "Iter 66/1000 - Loss: -1.310\n",
      "Iter 67/1000 - Loss: -1.347\n",
      "Iter 68/1000 - Loss: -1.387\n",
      "Iter 69/1000 - Loss: -1.422\n",
      "Iter 70/1000 - Loss: -1.454\n",
      "Iter 71/1000 - Loss: -1.490\n",
      "Iter 72/1000 - Loss: -1.524\n",
      "Iter 73/1000 - Loss: -1.554\n",
      "Iter 74/1000 - Loss: -1.586\n",
      "Iter 75/1000 - Loss: -1.617\n",
      "Iter 76/1000 - Loss: -1.645\n",
      "Iter 77/1000 - Loss: -1.670\n",
      "Iter 78/1000 - Loss: -1.699\n",
      "Iter 79/1000 - Loss: -1.728\n",
      "Iter 80/1000 - Loss: -1.747\n",
      "Iter 81/1000 - Loss: -1.771\n",
      "Iter 82/1000 - Loss: -1.797\n",
      "Iter 83/1000 - Loss: -1.817\n",
      "Iter 84/1000 - Loss: -1.839\n",
      "Iter 85/1000 - Loss: -1.861\n",
      "Iter 86/1000 - Loss: -1.878\n",
      "Iter 87/1000 - Loss: -1.897\n",
      "Iter 88/1000 - Loss: -1.914\n",
      "Iter 89/1000 - Loss: -1.933\n",
      "Iter 90/1000 - Loss: -1.953\n",
      "Iter 91/1000 - Loss: -1.966\n",
      "Iter 92/1000 - Loss: -1.979\n",
      "Iter 93/1000 - Loss: -1.995\n",
      "Iter 94/1000 - Loss: -2.011\n",
      "Iter 95/1000 - Loss: -2.024\n",
      "Iter 96/1000 - Loss: -2.037\n",
      "Iter 97/1000 - Loss: -2.050\n",
      "Iter 98/1000 - Loss: -2.057\n",
      "Iter 99/1000 - Loss: -2.068\n",
      "Iter 100/1000 - Loss: -2.083\n",
      "Iter 101/1000 - Loss: -2.091\n",
      "Iter 102/1000 - Loss: -2.092\n",
      "Iter 103/1000 - Loss: -2.096\n",
      "Iter 104/1000 - Loss: -2.114\n",
      "Iter 105/1000 - Loss: -2.124\n",
      "Iter 106/1000 - Loss: -2.112\n",
      "Iter 107/1000 - Loss: -2.140\n",
      "Iter 108/1000 - Loss: -2.135\n",
      "Iter 109/1000 - Loss: -2.139\n",
      "Iter 110/1000 - Loss: -2.144\n",
      "Iter 111/1000 - Loss: -2.167\n",
      "Iter 112/1000 - Loss: -2.171\n",
      "Iter 113/1000 - Loss: -2.165\n",
      "Iter 114/1000 - Loss: -2.163\n",
      "Iter 115/1000 - Loss: -2.164\n",
      "Iter 116/1000 - Loss: -2.177\n",
      "Iter 117/1000 - Loss: -2.179\n",
      "Iter 118/1000 - Loss: -2.193\n",
      "Iter 119/1000 - Loss: -2.194\n",
      "Iter 120/1000 - Loss: -2.186\n",
      "Iter 121/1000 - Loss: -2.183\n",
      "Iter 122/1000 - Loss: -2.201\n",
      "Iter 123/1000 - Loss: -2.213\n",
      "Iter 124/1000 - Loss: -2.207\n",
      "Iter 125/1000 - Loss: -2.208\n",
      "Iter 126/1000 - Loss: -2.223\n",
      "Iter 127/1000 - Loss: -2.221\n",
      "Iter 128/1000 - Loss: -2.209\n",
      "Iter 129/1000 - Loss: -2.215\n",
      "Iter 130/1000 - Loss: -2.207\n",
      "Iter 131/1000 - Loss: -2.209\n",
      "Iter 132/1000 - Loss: -2.215\n",
      "Iter 133/1000 - Loss: -2.201\n",
      "Iter 134/1000 - Loss: -2.230\n",
      "Iter 135/1000 - Loss: -2.231\n",
      "Iter 136/1000 - Loss: -2.220\n",
      "Iter 137/1000 - Loss: -2.233\n",
      "Iter 138/1000 - Loss: -2.234\n",
      "Iter 139/1000 - Loss: -2.231\n",
      "Iter 140/1000 - Loss: -2.248\n",
      "Iter 141/1000 - Loss: -2.248\n",
      "Iter 142/1000 - Loss: -2.235\n",
      "Iter 143/1000 - Loss: -2.239\n",
      "Iter 144/1000 - Loss: -2.234\n",
      "Iter 145/1000 - Loss: -2.241\n",
      "Iter 146/1000 - Loss: -2.250\n",
      "Iter 147/1000 - Loss: -2.240\n",
      "Iter 148/1000 - Loss: -2.247\n",
      "Iter 149/1000 - Loss: -2.252\n",
      "Iter 150/1000 - Loss: -2.248\n",
      "Iter 151/1000 - Loss: -2.251\n",
      "Iter 152/1000 - Loss: -2.256\n",
      "Iter 153/1000 - Loss: -2.250\n",
      "Iter 154/1000 - Loss: -2.249\n",
      "Iter 155/1000 - Loss: -2.260\n",
      "Iter 156/1000 - Loss: -2.264\n",
      "Iter 157/1000 - Loss: -2.259\n",
      "Iter 158/1000 - Loss: -2.258\n",
      "Iter 159/1000 - Loss: -2.262\n",
      "Iter 160/1000 - Loss: -2.264\n",
      "Iter 161/1000 - Loss: -2.266\n",
      "Iter 162/1000 - Loss: -2.267\n",
      "Iter 163/1000 - Loss: -2.265\n",
      "Iter 164/1000 - Loss: -2.266\n",
      "Iter 165/1000 - Loss: -2.269\n",
      "Iter 166/1000 - Loss: -2.266\n",
      "Iter 167/1000 - Loss: -2.257\n",
      "Iter 168/1000 - Loss: -2.258\n",
      "Iter 169/1000 - Loss: -2.272\n",
      "Iter 170/1000 - Loss: -2.276\n",
      "Iter 171/1000 - Loss: -2.266\n",
      "Iter 172/1000 - Loss: -2.266\n",
      "Iter 173/1000 - Loss: -2.278\n",
      "Iter 174/1000 - Loss: -2.279\n",
      "Iter 175/1000 - Loss: -2.268\n",
      "Iter 176/1000 - Loss: -2.261\n",
      "Iter 177/1000 - Loss: -2.260\n",
      "Iter 178/1000 - Loss: -2.279\n",
      "Iter 179/1000 - Loss: -2.284\n",
      "Iter 180/1000 - Loss: -2.269\n",
      "Iter 181/1000 - Loss: -2.268\n",
      "Iter 182/1000 - Loss: -2.271\n",
      "Iter 183/1000 - Loss: -2.264\n",
      "Iter 184/1000 - Loss: -2.280\n",
      "Iter 185/1000 - Loss: -2.277\n",
      "Iter 186/1000 - Loss: -2.251\n",
      "Iter 187/1000 - Loss: -2.268\n",
      "Iter 188/1000 - Loss: -2.275\n",
      "Iter 189/1000 - Loss: -2.275\n",
      "Iter 190/1000 - Loss: -2.277\n",
      "Iter 191/1000 - Loss: -2.277\n",
      "Iter 192/1000 - Loss: -2.286\n",
      "Iter 193/1000 - Loss: -2.284\n",
      "Iter 194/1000 - Loss: -2.275\n",
      "Iter 195/1000 - Loss: -2.288\n",
      "Iter 196/1000 - Loss: -2.288\n",
      "Iter 197/1000 - Loss: -2.269\n",
      "Iter 198/1000 - Loss: -2.272\n",
      "Iter 199/1000 - Loss: -2.271\n",
      "Iter 200/1000 - Loss: -2.286\n",
      "Iter 201/1000 - Loss: -2.291\n",
      "Iter 202/1000 - Loss: -2.283\n",
      "Iter 203/1000 - Loss: -2.288\n",
      "Iter 204/1000 - Loss: -2.294\n",
      "Iter 205/1000 - Loss: -2.289\n",
      "Iter 206/1000 - Loss: -2.294\n",
      "Iter 207/1000 - Loss: -2.293\n",
      "Iter 208/1000 - Loss: -2.284\n",
      "Iter 209/1000 - Loss: -2.287\n",
      "Iter 210/1000 - Loss: -2.276\n",
      "Iter 211/1000 - Loss: -2.289\n",
      "Iter 212/1000 - Loss: -2.295\n",
      "Iter 213/1000 - Loss: -2.295\n",
      "Iter 214/1000 - Loss: -2.291\n",
      "Iter 215/1000 - Loss: -2.290\n",
      "Iter 216/1000 - Loss: -2.298\n",
      "Iter 217/1000 - Loss: -2.296\n",
      "Iter 218/1000 - Loss: -2.293\n",
      "Iter 219/1000 - Loss: -2.294\n",
      "Iter 220/1000 - Loss: -2.294\n",
      "Iter 221/1000 - Loss: -2.294\n",
      "Iter 222/1000 - Loss: -2.299\n",
      "Iter 223/1000 - Loss: -2.303\n",
      "Iter 224/1000 - Loss: -2.296\n",
      "Iter 225/1000 - Loss: -2.264\n",
      "Iter 226/1000 - Loss: -2.237\n",
      "Iter 227/1000 - Loss: -2.279\n",
      "Iter 228/1000 - Loss: -2.297\n",
      "Iter 229/1000 - Loss: -2.290\n",
      "Iter 230/1000 - Loss: -2.286\n",
      "Iter 231/1000 - Loss: -2.286\n",
      "Iter 232/1000 - Loss: -2.280\n",
      "Iter 233/1000 - Loss: -2.300\n",
      "Iter 234/1000 - Loss: -2.294\n",
      "Iter 235/1000 - Loss: -2.301\n",
      "Iter 236/1000 - Loss: -2.293\n",
      "Iter 237/1000 - Loss: -2.299\n",
      "Iter 238/1000 - Loss: -2.300\n",
      "Iter 239/1000 - Loss: -2.300\n",
      "Iter 240/1000 - Loss: -2.285\n",
      "Iter 241/1000 - Loss: -2.278\n",
      "Iter 242/1000 - Loss: -2.285\n",
      "Iter 243/1000 - Loss: -2.305\n",
      "Iter 244/1000 - Loss: -2.299\n",
      "Iter 245/1000 - Loss: -2.289\n",
      "Iter 246/1000 - Loss: -2.293\n",
      "Iter 247/1000 - Loss: -2.273\n",
      "Iter 248/1000 - Loss: -2.291\n",
      "Iter 249/1000 - Loss: -2.297\n",
      "Iter 250/1000 - Loss: -2.303\n",
      "Iter 251/1000 - Loss: -2.306\n",
      "Iter 252/1000 - Loss: -2.302\n",
      "Iter 253/1000 - Loss: -2.304\n",
      "Iter 254/1000 - Loss: -2.304\n",
      "Iter 255/1000 - Loss: -2.307\n",
      "Iter 256/1000 - Loss: -2.303\n",
      "Iter 257/1000 - Loss: -2.296\n",
      "Iter 258/1000 - Loss: -2.294\n",
      "Iter 259/1000 - Loss: -2.294\n",
      "Iter 260/1000 - Loss: -2.301\n",
      "Iter 261/1000 - Loss: -2.309\n",
      "Iter 262/1000 - Loss: -2.304\n",
      "Iter 263/1000 - Loss: -2.300\n",
      "Iter 264/1000 - Loss: -2.305\n",
      "Iter 265/1000 - Loss: -2.303\n",
      "Iter 266/1000 - Loss: -2.301\n",
      "Iter 267/1000 - Loss: -2.308\n",
      "Iter 268/1000 - Loss: -2.308\n",
      "Iter 269/1000 - Loss: -2.309\n",
      "Iter 270/1000 - Loss: -2.312\n",
      "Iter 271/1000 - Loss: -2.312\n",
      "Iter 272/1000 - Loss: -2.312\n",
      "Iter 273/1000 - Loss: -2.311\n",
      "Iter 274/1000 - Loss: -2.310\n",
      "Iter 275/1000 - Loss: -2.311\n",
      "Iter 276/1000 - Loss: -2.309\n",
      "Iter 277/1000 - Loss: -2.310\n",
      "Iter 278/1000 - Loss: -2.311\n",
      "Iter 279/1000 - Loss: -2.312\n",
      "Iter 280/1000 - Loss: -2.314\n",
      "Iter 281/1000 - Loss: -2.312\n",
      "Iter 282/1000 - Loss: -2.307\n",
      "Iter 283/1000 - Loss: -2.301\n",
      "Iter 284/1000 - Loss: -2.298\n",
      "Iter 285/1000 - Loss: -2.292\n",
      "Iter 286/1000 - Loss: -2.296\n",
      "Iter 287/1000 - Loss: -2.299\n",
      "Iter 288/1000 - Loss: -2.310\n",
      "Iter 289/1000 - Loss: -2.309\n",
      "Iter 290/1000 - Loss: -2.304\n",
      "Iter 291/1000 - Loss: -2.299\n",
      "Iter 292/1000 - Loss: -2.269\n",
      "Iter 293/1000 - Loss: -2.290\n",
      "Iter 294/1000 - Loss: -2.292\n",
      "Iter 295/1000 - Loss: -2.315\n",
      "Iter 296/1000 - Loss: -2.284\n",
      "Iter 297/1000 - Loss: -2.311\n",
      "Iter 298/1000 - Loss: -2.297\n",
      "Iter 299/1000 - Loss: -2.306\n",
      "Iter 300/1000 - Loss: -2.292\n",
      "Iter 301/1000 - Loss: -2.256\n",
      "Iter 302/1000 - Loss: -2.246\n",
      "Iter 303/1000 - Loss: -2.255\n"
     ]
    },
    {
     "name": "stdout",
     "output_type": "stream",
     "text": [
      "Iter 304/1000 - Loss: -2.256\n",
      "Iter 305/1000 - Loss: -2.304\n",
      "Iter 306/1000 - Loss: -2.273\n",
      "Iter 307/1000 - Loss: -2.304\n",
      "Iter 308/1000 - Loss: -2.278\n",
      "Iter 309/1000 - Loss: -2.291\n",
      "Iter 310/1000 - Loss: -2.301\n",
      "Iter 311/1000 - Loss: -2.293\n",
      "Iter 312/1000 - Loss: -2.312\n",
      "Iter 313/1000 - Loss: -2.294\n",
      "Iter 314/1000 - Loss: -2.307\n",
      "Iter 315/1000 - Loss: -2.301\n",
      "Iter 316/1000 - Loss: -2.298\n",
      "Iter 317/1000 - Loss: -2.308\n",
      "Iter 318/1000 - Loss: -2.300\n",
      "Iter 319/1000 - Loss: -2.311\n",
      "Iter 320/1000 - Loss: -2.307\n",
      "Iter 321/1000 - Loss: -2.309\n",
      "Iter 322/1000 - Loss: -2.313\n",
      "Iter 323/1000 - Loss: -2.308\n",
      "Iter 324/1000 - Loss: -2.313\n",
      "Iter 325/1000 - Loss: -2.310\n",
      "Iter 326/1000 - Loss: -2.313\n",
      "Iter 327/1000 - Loss: -2.314\n",
      "Iter 328/1000 - Loss: -2.314\n",
      "Iter 329/1000 - Loss: -2.316\n",
      "Iter 330/1000 - Loss: -2.315\n",
      "Iter 331/1000 - Loss: -2.313\n",
      "Iter 332/1000 - Loss: -2.303\n",
      "Iter 333/1000 - Loss: -2.274\n",
      "Iter 334/1000 - Loss: -2.283\n",
      "Iter 335/1000 - Loss: -2.285\n",
      "Iter 336/1000 - Loss: -2.302\n",
      "Iter 337/1000 - Loss: -2.282\n",
      "Iter 338/1000 - Loss: -2.293\n",
      "Iter 339/1000 - Loss: -2.281\n",
      "Iter 340/1000 - Loss: -2.261\n",
      "Iter 341/1000 - Loss: -2.229\n",
      "Iter 342/1000 - Loss: -2.257\n",
      "Iter 343/1000 - Loss: -2.303\n",
      "Iter 344/1000 - Loss: -2.279\n",
      "Iter 345/1000 - Loss: -2.284\n",
      "Iter 346/1000 - Loss: -2.300\n",
      "Iter 347/1000 - Loss: -2.299\n",
      "Iter 348/1000 - Loss: -2.293\n",
      "Iter 349/1000 - Loss: -2.300\n",
      "Iter 350/1000 - Loss: -2.288\n",
      "Iter 351/1000 - Loss: -2.303\n",
      "Iter 352/1000 - Loss: -2.305\n",
      "Iter 353/1000 - Loss: -2.303\n",
      "Iter 354/1000 - Loss: -2.307\n",
      "Iter 355/1000 - Loss: -2.306\n",
      "Iter 356/1000 - Loss: -2.304\n",
      "Iter 357/1000 - Loss: -2.305\n",
      "Iter 358/1000 - Loss: -2.313\n",
      "Iter 359/1000 - Loss: -2.308\n",
      "Iter 360/1000 - Loss: -2.307\n",
      "Iter 361/1000 - Loss: -2.311\n",
      "Iter 362/1000 - Loss: -2.312\n",
      "Iter 363/1000 - Loss: -2.311\n",
      "Iter 364/1000 - Loss: -2.309\n",
      "Iter 365/1000 - Loss: -2.313\n",
      "Iter 366/1000 - Loss: -2.312\n",
      "Iter 367/1000 - Loss: -2.313\n",
      "Iter 368/1000 - Loss: -2.315\n",
      "Iter 369/1000 - Loss: -2.314\n",
      "Iter 370/1000 - Loss: -2.314\n",
      "Iter 371/1000 - Loss: -2.315\n",
      "Iter 372/1000 - Loss: -2.317\n",
      "Iter 373/1000 - Loss: -2.316\n",
      "Iter 374/1000 - Loss: -2.318\n",
      "Iter 375/1000 - Loss: -2.318\n",
      "Iter 376/1000 - Loss: -2.317\n",
      "Iter 377/1000 - Loss: -2.318\n",
      "Iter 378/1000 - Loss: -2.318\n",
      "Iter 379/1000 - Loss: -2.318\n",
      "Iter 380/1000 - Loss: -2.315\n",
      "Iter 381/1000 - Loss: -2.305\n",
      "Iter 382/1000 - Loss: -2.280\n",
      "Iter 383/1000 - Loss: -2.273\n",
      "Iter 384/1000 - Loss: -2.300\n",
      "Iter 385/1000 - Loss: -2.311\n",
      "Iter 386/1000 - Loss: -2.286\n",
      "Iter 387/1000 - Loss: -2.304\n",
      "Iter 388/1000 - Loss: -2.298\n",
      "Iter 389/1000 - Loss: -2.303\n",
      "Iter 390/1000 - Loss: -2.313\n",
      "Iter 391/1000 - Loss: -2.300\n",
      "Iter 392/1000 - Loss: -2.319\n",
      "Iter 393/1000 - Loss: -2.309\n",
      "Iter 394/1000 - Loss: -2.310\n",
      "Iter 395/1000 - Loss: -2.297\n",
      "Iter 396/1000 - Loss: -2.256\n",
      "Iter 397/1000 - Loss: -2.275\n",
      "Iter 398/1000 - Loss: -2.239\n",
      "Iter 399/1000 - Loss: -2.224\n",
      "Iter 400/1000 - Loss: -2.303\n",
      "Iter 401/1000 - Loss: -2.262\n",
      "Iter 402/1000 - Loss: -2.231\n",
      "Iter 403/1000 - Loss: -2.284\n",
      "Iter 404/1000 - Loss: -2.276\n",
      "Iter 405/1000 - Loss: -2.269\n",
      "Iter 406/1000 - Loss: -2.274\n",
      "Iter 407/1000 - Loss: -2.264\n",
      "Iter 408/1000 - Loss: -2.311\n",
      "Iter 409/1000 - Loss: -2.285\n",
      "Iter 410/1000 - Loss: -2.283\n",
      "Iter 411/1000 - Loss: -2.302\n",
      "Iter 412/1000 - Loss: -2.305\n",
      "Iter 413/1000 - Loss: -2.313\n",
      "Iter 414/1000 - Loss: -2.300\n",
      "Iter 415/1000 - Loss: -2.297\n",
      "Iter 416/1000 - Loss: -2.309\n",
      "Iter 417/1000 - Loss: -2.311\n",
      "Iter 418/1000 - Loss: -2.310\n",
      "Iter 419/1000 - Loss: -2.313\n",
      "Iter 420/1000 - Loss: -2.312\n",
      "Iter 421/1000 - Loss: -2.307\n",
      "Iter 422/1000 - Loss: -2.311\n",
      "Iter 423/1000 - Loss: -2.312\n",
      "Iter 424/1000 - Loss: -2.313\n",
      "Iter 425/1000 - Loss: -2.315\n",
      "Iter 426/1000 - Loss: -2.315\n",
      "Iter 427/1000 - Loss: -2.315\n",
      "Iter 428/1000 - Loss: -2.315\n",
      "Iter 429/1000 - Loss: -2.314\n",
      "Iter 430/1000 - Loss: -2.313\n",
      "Iter 431/1000 - Loss: -2.311\n",
      "Iter 432/1000 - Loss: -2.301\n",
      "Iter 433/1000 - Loss: -2.288\n",
      "Iter 434/1000 - Loss: -2.282\n",
      "Iter 435/1000 - Loss: -2.301\n",
      "Iter 436/1000 - Loss: -2.317\n",
      "Iter 437/1000 - Loss: -2.300\n",
      "Iter 438/1000 - Loss: -2.316\n",
      "Iter 439/1000 - Loss: -2.307\n",
      "Iter 440/1000 - Loss: -2.304\n",
      "Iter 441/1000 - Loss: -2.290\n",
      "Iter 442/1000 - Loss: -2.276\n",
      "Iter 443/1000 - Loss: -2.298\n",
      "Iter 444/1000 - Loss: -2.275\n",
      "Iter 445/1000 - Loss: -2.285\n",
      "Iter 446/1000 - Loss: -2.277\n",
      "Iter 447/1000 - Loss: -2.313\n",
      "Iter 448/1000 - Loss: -2.289\n",
      "Iter 449/1000 - Loss: -2.318\n",
      "Iter 450/1000 - Loss: -2.303\n",
      "Iter 451/1000 - Loss: -2.310\n",
      "Iter 452/1000 - Loss: -2.314\n",
      "Iter 453/1000 - Loss: -2.312\n",
      "Iter 454/1000 - Loss: -2.315\n",
      "Iter 455/1000 - Loss: -2.311\n",
      "Iter 456/1000 - Loss: -2.315\n",
      "Iter 457/1000 - Loss: -2.318\n",
      "Iter 458/1000 - Loss: -2.314\n",
      "Iter 459/1000 - Loss: -2.317\n",
      "Iter 460/1000 - Loss: -2.318\n",
      "Iter 461/1000 - Loss: -2.316\n",
      "Iter 462/1000 - Loss: -2.318\n",
      "Iter 463/1000 - Loss: -2.319\n",
      "Iter 464/1000 - Loss: -2.317\n",
      "Iter 465/1000 - Loss: -2.318\n",
      "Iter 466/1000 - Loss: -2.318\n",
      "Iter 467/1000 - Loss: -2.317\n",
      "Iter 468/1000 - Loss: -2.317\n",
      "Iter 469/1000 - Loss: -2.315\n",
      "Iter 470/1000 - Loss: -2.311\n",
      "Iter 471/1000 - Loss: -2.310\n",
      "Iter 472/1000 - Loss: -2.315\n",
      "Iter 473/1000 - Loss: -2.320\n",
      "Iter 474/1000 - Loss: -2.322\n",
      "Iter 475/1000 - Loss: -2.320\n",
      "Iter 476/1000 - Loss: -2.319\n",
      "Iter 477/1000 - Loss: -2.322\n",
      "Iter 478/1000 - Loss: -2.323\n",
      "Iter 479/1000 - Loss: -2.321\n",
      "Iter 480/1000 - Loss: -2.323\n",
      "Iter 481/1000 - Loss: -2.325\n",
      "Iter 482/1000 - Loss: -2.323\n",
      "Iter 483/1000 - Loss: -2.324\n",
      "Iter 484/1000 - Loss: -2.325\n",
      "Iter 485/1000 - Loss: -2.325\n",
      "Iter 486/1000 - Loss: -2.325\n",
      "Iter 487/1000 - Loss: -2.326\n",
      "Iter 488/1000 - Loss: -2.326\n",
      "Iter 489/1000 - Loss: -2.326\n",
      "Iter 490/1000 - Loss: -2.327\n",
      "Iter 491/1000 - Loss: -2.327\n",
      "Iter 492/1000 - Loss: -2.327\n",
      "Iter 493/1000 - Loss: -2.327\n",
      "Iter 494/1000 - Loss: -2.328\n",
      "Iter 495/1000 - Loss: -2.328\n",
      "Iter 496/1000 - Loss: -2.328\n",
      "Iter 497/1000 - Loss: -2.329\n",
      "Iter 498/1000 - Loss: -2.329\n",
      "Iter 499/1000 - Loss: -2.329\n",
      "Iter 500/1000 - Loss: -2.329\n",
      "Iter 501/1000 - Loss: -2.329\n",
      "Iter 502/1000 - Loss: -2.329\n",
      "Iter 503/1000 - Loss: -2.327\n",
      "Iter 504/1000 - Loss: -2.318\n",
      "Iter 505/1000 - Loss: -2.292\n",
      "Iter 506/1000 - Loss: -2.263\n",
      "Iter 507/1000 - Loss: -2.285\n",
      "Iter 508/1000 - Loss: -2.291\n",
      "Iter 509/1000 - Loss: -2.318\n",
      "Iter 510/1000 - Loss: -2.300\n",
      "Iter 511/1000 - Loss: -2.324\n",
      "Iter 512/1000 - Loss: -2.305\n",
      "Iter 513/1000 - Loss: -2.321\n",
      "Iter 514/1000 - Loss: -2.319\n",
      "Iter 515/1000 - Loss: -2.315\n",
      "Iter 516/1000 - Loss: -2.302\n",
      "Iter 517/1000 - Loss: -2.307\n",
      "Iter 518/1000 - Loss: -2.307\n",
      "Iter 519/1000 - Loss: -2.315\n",
      "Iter 520/1000 - Loss: -2.325\n",
      "Iter 521/1000 - Loss: -2.317\n",
      "Iter 522/1000 - Loss: -2.321\n",
      "Iter 523/1000 - Loss: -2.325\n",
      "Iter 524/1000 - Loss: -2.319\n",
      "Iter 525/1000 - Loss: -2.322\n",
      "Iter 526/1000 - Loss: -2.318\n",
      "Iter 527/1000 - Loss: -2.299\n",
      "Iter 528/1000 - Loss: -2.248\n",
      "Iter 529/1000 - Loss: -2.234\n",
      "Iter 530/1000 - Loss: -2.207\n",
      "Iter 531/1000 - Loss: -2.204\n",
      "Iter 532/1000 - Loss: -2.247\n",
      "Iter 533/1000 - Loss: -2.219\n",
      "Iter 534/1000 - Loss: -2.310\n",
      "Iter 535/1000 - Loss: -2.236\n",
      "Iter 536/1000 - Loss: -2.237\n",
      "Iter 537/1000 - Loss: -2.216\n",
      "Iter 538/1000 - Loss: -2.204\n",
      "Iter 539/1000 - Loss: -2.259\n",
      "Iter 540/1000 - Loss: -2.201\n",
      "Iter 541/1000 - Loss: -2.150\n",
      "Iter 542/1000 - Loss: -2.182\n",
      "Iter 543/1000 - Loss: -2.226\n",
      "Iter 544/1000 - Loss: -2.244\n",
      "Iter 545/1000 - Loss: -2.275\n",
      "Iter 546/1000 - Loss: -2.201\n",
      "Iter 547/1000 - Loss: -2.230\n",
      "Iter 548/1000 - Loss: -2.253\n",
      "Iter 549/1000 - Loss: -2.288\n",
      "Iter 550/1000 - Loss: -2.284\n",
      "Iter 551/1000 - Loss: -2.259\n",
      "Iter 552/1000 - Loss: -2.266\n",
      "Iter 553/1000 - Loss: -2.298\n",
      "Iter 554/1000 - Loss: -2.298\n",
      "Iter 555/1000 - Loss: -2.292\n",
      "Iter 556/1000 - Loss: -2.298\n",
      "Iter 557/1000 - Loss: -2.298\n",
      "Iter 558/1000 - Loss: -2.295\n",
      "Iter 559/1000 - Loss: -2.299\n",
      "Iter 560/1000 - Loss: -2.306\n",
      "Iter 561/1000 - Loss: -2.305\n",
      "Iter 562/1000 - Loss: -2.301\n",
      "Iter 563/1000 - Loss: -2.302\n",
      "Iter 564/1000 - Loss: -2.302\n",
      "Iter 565/1000 - Loss: -2.303\n",
      "Iter 566/1000 - Loss: -2.308\n",
      "Iter 567/1000 - Loss: -2.310\n",
      "Iter 568/1000 - Loss: -2.309\n",
      "Iter 569/1000 - Loss: -2.307\n",
      "Iter 570/1000 - Loss: -2.309\n",
      "Iter 571/1000 - Loss: -2.310\n",
      "Iter 572/1000 - Loss: -2.309\n",
      "Iter 573/1000 - Loss: -2.309\n",
      "Iter 574/1000 - Loss: -2.311\n",
      "Iter 575/1000 - Loss: -2.312\n",
      "Iter 576/1000 - Loss: -2.312\n",
      "Iter 577/1000 - Loss: -2.312\n",
      "Iter 578/1000 - Loss: -2.313\n",
      "Iter 579/1000 - Loss: -2.313\n",
      "Iter 580/1000 - Loss: -2.313\n",
      "Iter 581/1000 - Loss: -2.314\n",
      "Iter 582/1000 - Loss: -2.315\n",
      "Iter 583/1000 - Loss: -2.316\n",
      "Iter 584/1000 - Loss: -2.316\n",
      "Iter 585/1000 - Loss: -2.317\n",
      "Iter 586/1000 - Loss: -2.317\n",
      "Iter 587/1000 - Loss: -2.317\n",
      "Iter 588/1000 - Loss: -2.318\n",
      "Iter 589/1000 - Loss: -2.318\n",
      "Iter 590/1000 - Loss: -2.319\n",
      "Iter 591/1000 - Loss: -2.319\n",
      "Iter 592/1000 - Loss: -2.320\n",
      "Iter 593/1000 - Loss: -2.320\n",
      "Iter 594/1000 - Loss: -2.320\n",
      "Iter 595/1000 - Loss: -2.320\n",
      "Iter 596/1000 - Loss: -2.316\n",
      "Iter 597/1000 - Loss: -2.303\n"
     ]
    },
    {
     "name": "stdout",
     "output_type": "stream",
     "text": [
      "Iter 598/1000 - Loss: -2.275\n",
      "Iter 599/1000 - Loss: -2.255\n",
      "Iter 600/1000 - Loss: -2.297\n",
      "Iter 601/1000 - Loss: -2.254\n",
      "Iter 602/1000 - Loss: -2.259\n",
      "Iter 603/1000 - Loss: -2.259\n",
      "Iter 604/1000 - Loss: -2.291\n",
      "Iter 605/1000 - Loss: -2.285\n",
      "Iter 606/1000 - Loss: -2.266\n",
      "Iter 607/1000 - Loss: -2.302\n",
      "Iter 608/1000 - Loss: -2.303\n",
      "Iter 609/1000 - Loss: -2.282\n",
      "Iter 610/1000 - Loss: -2.310\n",
      "Iter 611/1000 - Loss: -2.312\n",
      "Iter 612/1000 - Loss: -2.293\n",
      "Iter 613/1000 - Loss: -2.310\n",
      "Iter 614/1000 - Loss: -2.320\n",
      "Iter 615/1000 - Loss: -2.304\n",
      "Iter 616/1000 - Loss: -2.311\n",
      "Iter 617/1000 - Loss: -2.322\n",
      "Iter 618/1000 - Loss: -2.311\n",
      "Iter 619/1000 - Loss: -2.312\n",
      "Iter 620/1000 - Loss: -2.323\n",
      "Iter 621/1000 - Loss: -2.318\n",
      "Iter 622/1000 - Loss: -2.314\n",
      "Iter 623/1000 - Loss: -2.321\n",
      "Iter 624/1000 - Loss: -2.322\n",
      "Iter 625/1000 - Loss: -2.317\n",
      "Iter 626/1000 - Loss: -2.320\n",
      "Iter 627/1000 - Loss: -2.324\n",
      "Iter 628/1000 - Loss: -2.320\n",
      "Iter 629/1000 - Loss: -2.321\n",
      "Iter 630/1000 - Loss: -2.324\n",
      "Iter 631/1000 - Loss: -2.323\n",
      "Iter 632/1000 - Loss: -2.322\n",
      "Iter 633/1000 - Loss: -2.324\n",
      "Iter 634/1000 - Loss: -2.325\n",
      "Iter 635/1000 - Loss: -2.323\n",
      "Iter 636/1000 - Loss: -2.325\n",
      "Iter 637/1000 - Loss: -2.326\n",
      "Iter 638/1000 - Loss: -2.325\n",
      "Iter 639/1000 - Loss: -2.325\n",
      "Iter 640/1000 - Loss: -2.326\n",
      "Iter 641/1000 - Loss: -2.325\n",
      "Iter 642/1000 - Loss: -2.324\n",
      "Iter 643/1000 - Loss: -2.322\n",
      "Iter 644/1000 - Loss: -2.315\n",
      "Iter 645/1000 - Loss: -2.310\n",
      "Iter 646/1000 - Loss: -2.308\n",
      "Iter 647/1000 - Loss: -2.321\n",
      "Iter 648/1000 - Loss: -2.299\n",
      "Iter 649/1000 - Loss: -2.291\n",
      "Iter 650/1000 - Loss: -2.328\n",
      "Iter 651/1000 - Loss: -2.309\n",
      "Iter 652/1000 - Loss: -2.322\n",
      "Iter 653/1000 - Loss: -2.315\n",
      "Iter 654/1000 - Loss: -2.326\n",
      "Iter 655/1000 - Loss: -2.310\n",
      "Iter 656/1000 - Loss: -2.304\n",
      "Iter 657/1000 - Loss: -2.284\n",
      "Iter 658/1000 - Loss: -2.280\n",
      "Iter 659/1000 - Loss: -2.302\n",
      "Iter 660/1000 - Loss: -2.297\n",
      "Iter 661/1000 - Loss: -2.252\n",
      "Iter 662/1000 - Loss: -2.239\n",
      "Iter 663/1000 - Loss: -2.212\n",
      "Iter 664/1000 - Loss: -2.228\n",
      "Iter 665/1000 - Loss: -2.291\n",
      "Iter 666/1000 - Loss: -2.312\n",
      "Iter 667/1000 - Loss: -2.260\n",
      "Iter 668/1000 - Loss: -2.258\n",
      "Iter 669/1000 - Loss: -2.299\n",
      "Iter 670/1000 - Loss: -2.321\n",
      "Iter 671/1000 - Loss: -2.285\n",
      "Iter 672/1000 - Loss: -2.283\n",
      "Iter 673/1000 - Loss: -2.311\n",
      "Iter 674/1000 - Loss: -2.319\n",
      "Iter 675/1000 - Loss: -2.301\n",
      "Iter 676/1000 - Loss: -2.303\n",
      "Iter 677/1000 - Loss: -2.317\n",
      "Iter 678/1000 - Loss: -2.317\n",
      "Iter 679/1000 - Loss: -2.309\n",
      "Iter 680/1000 - Loss: -2.315\n",
      "Iter 681/1000 - Loss: -2.322\n",
      "Iter 682/1000 - Loss: -2.318\n",
      "Iter 683/1000 - Loss: -2.315\n",
      "Iter 684/1000 - Loss: -2.320\n",
      "Iter 685/1000 - Loss: -2.324\n",
      "Iter 686/1000 - Loss: -2.320\n",
      "Iter 687/1000 - Loss: -2.320\n",
      "Iter 688/1000 - Loss: -2.324\n",
      "Iter 689/1000 - Loss: -2.325\n",
      "Iter 690/1000 - Loss: -2.322\n",
      "Iter 691/1000 - Loss: -2.323\n",
      "Iter 692/1000 - Loss: -2.326\n",
      "Iter 693/1000 - Loss: -2.326\n",
      "Iter 694/1000 - Loss: -2.325\n",
      "Iter 695/1000 - Loss: -2.326\n",
      "Iter 696/1000 - Loss: -2.327\n",
      "Iter 697/1000 - Loss: -2.327\n",
      "Iter 698/1000 - Loss: -2.326\n",
      "Iter 699/1000 - Loss: -2.328\n",
      "Iter 700/1000 - Loss: -2.329\n",
      "Iter 701/1000 - Loss: -2.328\n",
      "Iter 702/1000 - Loss: -2.328\n",
      "Iter 703/1000 - Loss: -2.330\n",
      "Iter 704/1000 - Loss: -2.330\n",
      "Iter 705/1000 - Loss: -2.329\n",
      "Iter 706/1000 - Loss: -2.330\n",
      "Iter 707/1000 - Loss: -2.331\n",
      "Iter 708/1000 - Loss: -2.330\n",
      "Iter 709/1000 - Loss: -2.330\n",
      "Iter 710/1000 - Loss: -2.331\n",
      "Iter 711/1000 - Loss: -2.331\n",
      "Iter 712/1000 - Loss: -2.331\n",
      "Iter 713/1000 - Loss: -2.332\n",
      "Iter 714/1000 - Loss: -2.332\n",
      "Iter 715/1000 - Loss: -2.331\n",
      "Iter 716/1000 - Loss: -2.331\n",
      "Iter 717/1000 - Loss: -2.329\n",
      "Iter 718/1000 - Loss: -2.321\n",
      "Iter 719/1000 - Loss: -2.298\n",
      "Iter 720/1000 - Loss: -2.261\n",
      "Iter 721/1000 - Loss: -2.274\n",
      "Iter 722/1000 - Loss: -2.264\n",
      "Iter 723/1000 - Loss: -2.271\n",
      "Iter 724/1000 - Loss: -2.310\n",
      "Iter 725/1000 - Loss: -2.280\n",
      "Iter 726/1000 - Loss: -2.278\n",
      "Iter 727/1000 - Loss: -2.257\n",
      "Iter 728/1000 - Loss: -2.235\n",
      "Iter 729/1000 - Loss: -2.061\n",
      "Iter 730/1000 - Loss: -2.172\n",
      "Iter 731/1000 - Loss: -2.189\n",
      "Iter 732/1000 - Loss: -2.129\n",
      "Iter 733/1000 - Loss: -2.114\n",
      "Iter 734/1000 - Loss: -2.105\n",
      "Iter 735/1000 - Loss: -2.095\n",
      "Iter 736/1000 - Loss: -2.099\n",
      "Iter 737/1000 - Loss: -2.106\n",
      "Iter 738/1000 - Loss: -2.107\n",
      "Iter 739/1000 - Loss: -2.112\n",
      "Iter 740/1000 - Loss: -2.121\n",
      "Iter 741/1000 - Loss: -2.130\n",
      "Iter 742/1000 - Loss: -2.136\n",
      "Iter 743/1000 - Loss: -2.143\n",
      "Iter 744/1000 - Loss: -2.154\n",
      "Iter 745/1000 - Loss: -2.167\n",
      "Iter 746/1000 - Loss: -2.180\n",
      "Iter 747/1000 - Loss: -2.198\n",
      "Iter 748/1000 - Loss: -2.219\n",
      "Iter 749/1000 - Loss: -2.233\n",
      "Iter 750/1000 - Loss: -2.242\n",
      "Iter 751/1000 - Loss: -2.268\n",
      "Iter 752/1000 - Loss: -2.241\n",
      "Iter 753/1000 - Loss: -2.217\n",
      "Iter 754/1000 - Loss: -2.232\n",
      "Iter 755/1000 - Loss: -2.221\n",
      "Iter 756/1000 - Loss: -2.245\n",
      "Iter 757/1000 - Loss: -2.269\n",
      "Iter 758/1000 - Loss: -2.279\n",
      "Iter 759/1000 - Loss: -2.281\n",
      "Iter 760/1000 - Loss: -2.292\n",
      "Iter 761/1000 - Loss: -2.279\n",
      "Iter 762/1000 - Loss: -2.272\n",
      "Iter 763/1000 - Loss: -2.274\n",
      "Iter 764/1000 - Loss: -2.275\n",
      "Iter 765/1000 - Loss: -2.291\n",
      "Iter 766/1000 - Loss: -2.289\n",
      "Iter 767/1000 - Loss: -2.299\n",
      "Iter 768/1000 - Loss: -2.299\n",
      "Iter 769/1000 - Loss: -2.296\n",
      "Iter 770/1000 - Loss: -2.295\n",
      "Iter 771/1000 - Loss: -2.291\n",
      "Iter 772/1000 - Loss: -2.294\n",
      "Iter 773/1000 - Loss: -2.298\n",
      "Iter 774/1000 - Loss: -2.299\n",
      "Iter 775/1000 - Loss: -2.302\n",
      "Iter 776/1000 - Loss: -2.304\n",
      "Iter 777/1000 - Loss: -2.303\n",
      "Iter 778/1000 - Loss: -2.302\n",
      "Iter 779/1000 - Loss: -2.302\n",
      "Iter 780/1000 - Loss: -2.301\n",
      "Iter 781/1000 - Loss: -2.304\n",
      "Iter 782/1000 - Loss: -2.305\n",
      "Iter 783/1000 - Loss: -2.306\n",
      "Iter 784/1000 - Loss: -2.307\n",
      "Iter 785/1000 - Loss: -2.308\n",
      "Iter 786/1000 - Loss: -2.307\n",
      "Iter 787/1000 - Loss: -2.307\n",
      "Iter 788/1000 - Loss: -2.308\n",
      "Iter 789/1000 - Loss: -2.308\n",
      "Iter 790/1000 - Loss: -2.310\n",
      "Iter 791/1000 - Loss: -2.311\n",
      "Iter 792/1000 - Loss: -2.311\n",
      "Iter 793/1000 - Loss: -2.311\n",
      "Iter 794/1000 - Loss: -2.311\n",
      "Iter 795/1000 - Loss: -2.311\n",
      "Iter 796/1000 - Loss: -2.313\n",
      "Iter 797/1000 - Loss: -2.313\n",
      "Iter 798/1000 - Loss: -2.313\n",
      "Iter 799/1000 - Loss: -2.313\n",
      "Iter 800/1000 - Loss: -2.312\n",
      "Iter 801/1000 - Loss: -2.309\n",
      "Iter 802/1000 - Loss: -2.300\n",
      "Iter 803/1000 - Loss: -2.280\n",
      "Iter 804/1000 - Loss: -2.262\n",
      "Iter 805/1000 - Loss: -2.288\n",
      "Iter 806/1000 - Loss: -2.284\n",
      "Iter 807/1000 - Loss: -2.289\n",
      "Iter 808/1000 - Loss: -2.297\n",
      "Iter 809/1000 - Loss: -2.295\n",
      "Iter 810/1000 - Loss: -2.298\n",
      "Iter 811/1000 - Loss: -2.277\n",
      "Iter 812/1000 - Loss: -2.262\n",
      "Iter 813/1000 - Loss: -2.284\n",
      "Iter 814/1000 - Loss: -2.293\n",
      "Iter 815/1000 - Loss: -2.310\n",
      "Iter 816/1000 - Loss: -2.294\n",
      "Iter 817/1000 - Loss: -2.299\n",
      "Iter 818/1000 - Loss: -2.316\n",
      "Iter 819/1000 - Loss: -2.308\n",
      "Iter 820/1000 - Loss: -2.305\n",
      "Iter 821/1000 - Loss: -2.310\n",
      "Iter 822/1000 - Loss: -2.320\n",
      "Iter 823/1000 - Loss: -2.311\n",
      "Iter 824/1000 - Loss: -2.313\n",
      "Iter 825/1000 - Loss: -2.318\n",
      "Iter 826/1000 - Loss: -2.318\n",
      "Iter 827/1000 - Loss: -2.315\n",
      "Iter 828/1000 - Loss: -2.319\n",
      "Iter 829/1000 - Loss: -2.321\n",
      "Iter 830/1000 - Loss: -2.317\n",
      "Iter 831/1000 - Loss: -2.321\n",
      "Iter 832/1000 - Loss: -2.322\n",
      "Iter 833/1000 - Loss: -2.321\n",
      "Iter 834/1000 - Loss: -2.321\n",
      "Iter 835/1000 - Loss: -2.323\n",
      "Iter 836/1000 - Loss: -2.323\n",
      "Iter 837/1000 - Loss: -2.322\n",
      "Iter 838/1000 - Loss: -2.324\n",
      "Iter 839/1000 - Loss: -2.325\n",
      "Iter 840/1000 - Loss: -2.324\n",
      "Iter 841/1000 - Loss: -2.325\n",
      "Iter 842/1000 - Loss: -2.326\n",
      "Iter 843/1000 - Loss: -2.325\n",
      "Iter 844/1000 - Loss: -2.326\n",
      "Iter 845/1000 - Loss: -2.327\n",
      "Iter 846/1000 - Loss: -2.326\n",
      "Iter 847/1000 - Loss: -2.326\n",
      "Iter 848/1000 - Loss: -2.327\n",
      "Iter 849/1000 - Loss: -2.328\n",
      "Iter 850/1000 - Loss: -2.328\n",
      "Iter 851/1000 - Loss: -2.328\n",
      "Iter 852/1000 - Loss: -2.328\n",
      "Iter 853/1000 - Loss: -2.328\n",
      "Iter 854/1000 - Loss: -2.329\n",
      "Iter 855/1000 - Loss: -2.329\n",
      "Iter 856/1000 - Loss: -2.329\n",
      "Iter 857/1000 - Loss: -2.330\n",
      "Iter 858/1000 - Loss: -2.330\n",
      "Iter 859/1000 - Loss: -2.330\n",
      "Iter 860/1000 - Loss: -2.330\n",
      "Iter 861/1000 - Loss: -2.330\n",
      "Iter 862/1000 - Loss: -2.331\n",
      "Iter 863/1000 - Loss: -2.331\n",
      "Iter 864/1000 - Loss: -2.331\n",
      "Iter 865/1000 - Loss: -2.331\n",
      "Iter 866/1000 - Loss: -2.331\n",
      "Iter 867/1000 - Loss: -2.332\n",
      "Iter 868/1000 - Loss: -2.332\n",
      "Iter 869/1000 - Loss: -2.332\n",
      "Iter 870/1000 - Loss: -2.332\n",
      "Iter 871/1000 - Loss: -2.332\n",
      "Iter 872/1000 - Loss: -2.332\n",
      "Iter 873/1000 - Loss: -2.333\n",
      "Iter 874/1000 - Loss: -2.333\n",
      "Iter 875/1000 - Loss: -2.333\n",
      "Iter 876/1000 - Loss: -2.333\n",
      "Iter 877/1000 - Loss: -2.333\n",
      "Iter 878/1000 - Loss: -2.333\n",
      "Iter 879/1000 - Loss: -2.333\n",
      "Iter 880/1000 - Loss: -2.334\n",
      "Iter 881/1000 - Loss: -2.334\n",
      "Iter 882/1000 - Loss: -2.334\n",
      "Iter 883/1000 - Loss: -2.334\n",
      "Iter 884/1000 - Loss: -2.334\n",
      "Iter 885/1000 - Loss: -2.334\n"
     ]
    },
    {
     "name": "stdout",
     "output_type": "stream",
     "text": [
      "Iter 886/1000 - Loss: -2.334\n",
      "Iter 887/1000 - Loss: -2.334\n",
      "Iter 888/1000 - Loss: -2.334\n",
      "Iter 889/1000 - Loss: -2.334\n",
      "Iter 890/1000 - Loss: -2.331\n",
      "Iter 891/1000 - Loss: -2.321\n",
      "Iter 892/1000 - Loss: -2.291\n",
      "Iter 893/1000 - Loss: -2.235\n",
      "Iter 894/1000 - Loss: -2.263\n",
      "Iter 895/1000 - Loss: -2.256\n",
      "Iter 896/1000 - Loss: -2.225\n",
      "Iter 897/1000 - Loss: -2.221\n",
      "Iter 898/1000 - Loss: -2.248\n",
      "Iter 899/1000 - Loss: -2.245\n",
      "Iter 900/1000 - Loss: -2.282\n",
      "Iter 901/1000 - Loss: -2.253\n",
      "Iter 902/1000 - Loss: -2.240\n",
      "Iter 903/1000 - Loss: -2.194\n",
      "Iter 904/1000 - Loss: -2.063\n",
      "Iter 905/1000 - Loss: -2.242\n",
      "Iter 906/1000 - Loss: -2.177\n",
      "Iter 907/1000 - Loss: -2.143\n",
      "Iter 908/1000 - Loss: -1.943\n",
      "Iter 909/1000 - Loss: -1.976\n",
      "Iter 910/1000 - Loss: -2.047\n",
      "Iter 911/1000 - Loss: -2.048\n",
      "Iter 912/1000 - Loss: -2.017\n",
      "Iter 913/1000 - Loss: -2.072\n",
      "Iter 914/1000 - Loss: -2.077\n",
      "Iter 915/1000 - Loss: -2.076\n",
      "Iter 916/1000 - Loss: -2.094\n",
      "Iter 917/1000 - Loss: -2.111\n",
      "Iter 918/1000 - Loss: -2.116\n",
      "Iter 919/1000 - Loss: -2.114\n",
      "Iter 920/1000 - Loss: -2.114\n",
      "Iter 921/1000 - Loss: -2.117\n",
      "Iter 922/1000 - Loss: -2.124\n",
      "Iter 923/1000 - Loss: -2.131\n",
      "Iter 924/1000 - Loss: -2.139\n",
      "Iter 925/1000 - Loss: -2.147\n",
      "Iter 926/1000 - Loss: -2.157\n",
      "Iter 927/1000 - Loss: -2.171\n",
      "Iter 928/1000 - Loss: -2.192\n",
      "Iter 929/1000 - Loss: -2.228\n",
      "Iter 930/1000 - Loss: -2.259\n",
      "Iter 931/1000 - Loss: -2.238\n",
      "Iter 932/1000 - Loss: -2.221\n",
      "Iter 933/1000 - Loss: -2.219\n",
      "Iter 934/1000 - Loss: -2.229\n",
      "Iter 935/1000 - Loss: -2.242\n",
      "Iter 936/1000 - Loss: -2.244\n",
      "Iter 937/1000 - Loss: -2.268\n",
      "Iter 938/1000 - Loss: -2.254\n",
      "Iter 939/1000 - Loss: -2.245\n",
      "Iter 940/1000 - Loss: -2.251\n",
      "Iter 941/1000 - Loss: -2.259\n",
      "Iter 942/1000 - Loss: -2.273\n",
      "Iter 943/1000 - Loss: -2.282\n",
      "Iter 944/1000 - Loss: -2.273\n",
      "Iter 945/1000 - Loss: -2.264\n",
      "Iter 946/1000 - Loss: -2.266\n",
      "Iter 947/1000 - Loss: -2.274\n",
      "Iter 948/1000 - Loss: -2.283\n",
      "Iter 949/1000 - Loss: -2.284\n",
      "Iter 950/1000 - Loss: -2.282\n",
      "Iter 951/1000 - Loss: -2.282\n",
      "Iter 952/1000 - Loss: -2.281\n",
      "Iter 953/1000 - Loss: -2.282\n",
      "Iter 954/1000 - Loss: -2.286\n",
      "Iter 955/1000 - Loss: -2.289\n",
      "Iter 956/1000 - Loss: -2.290\n",
      "Iter 957/1000 - Loss: -2.288\n",
      "Iter 958/1000 - Loss: -2.288\n",
      "Iter 959/1000 - Loss: -2.290\n",
      "Iter 960/1000 - Loss: -2.291\n",
      "Iter 961/1000 - Loss: -2.292\n",
      "Iter 962/1000 - Loss: -2.293\n",
      "Iter 963/1000 - Loss: -2.294\n",
      "Iter 964/1000 - Loss: -2.294\n",
      "Iter 965/1000 - Loss: -2.294\n",
      "Iter 966/1000 - Loss: -2.295\n",
      "Iter 967/1000 - Loss: -2.296\n",
      "Iter 968/1000 - Loss: -2.297\n",
      "Iter 969/1000 - Loss: -2.297\n",
      "Iter 970/1000 - Loss: -2.298\n",
      "Iter 971/1000 - Loss: -2.298\n",
      "Iter 972/1000 - Loss: -2.298\n",
      "Iter 973/1000 - Loss: -2.299\n",
      "Iter 974/1000 - Loss: -2.300\n",
      "Iter 975/1000 - Loss: -2.301\n",
      "Iter 976/1000 - Loss: -2.301\n",
      "Iter 977/1000 - Loss: -2.301\n",
      "Iter 978/1000 - Loss: -2.302\n",
      "Iter 979/1000 - Loss: -2.303\n",
      "Iter 980/1000 - Loss: -2.303\n",
      "Iter 981/1000 - Loss: -2.304\n",
      "Iter 982/1000 - Loss: -2.304\n",
      "Iter 983/1000 - Loss: -2.305\n",
      "Iter 984/1000 - Loss: -2.305\n",
      "Iter 985/1000 - Loss: -2.306\n",
      "Iter 986/1000 - Loss: -2.306\n",
      "Iter 987/1000 - Loss: -2.307\n",
      "Iter 988/1000 - Loss: -2.307\n",
      "Iter 989/1000 - Loss: -2.308\n",
      "Iter 990/1000 - Loss: -2.308\n",
      "Iter 991/1000 - Loss: -2.308\n",
      "Iter 992/1000 - Loss: -2.309\n",
      "Iter 993/1000 - Loss: -2.309\n",
      "Iter 994/1000 - Loss: -2.310\n",
      "Iter 995/1000 - Loss: -2.310\n",
      "Iter 996/1000 - Loss: -2.311\n",
      "Iter 997/1000 - Loss: -2.311\n",
      "Iter 998/1000 - Loss: -2.312\n",
      "Iter 999/1000 - Loss: -2.312\n",
      "Iter 1000/1000 - Loss: -2.313\n"
     ]
    }
   ],
   "source": [
    "for i in range(training_iterations):\n",
    "    optimizer.zero_grad()\n",
    "    output = model(train_x_torch_final)\n",
    "    loss = -mll(output, train_y_torch_final)\n",
    "    loss.backward()\n",
    "    print('Iter %d/%d - Loss: %.3f' % (i + 1, training_iterations, loss.item()))\n",
    "    optimizer.step()"
   ]
  },
  {
   "cell_type": "code",
   "execution_count": 100,
   "metadata": {},
   "outputs": [
    {
     "data": {
      "text/plain": [
       "MultitaskGaussianLikelihood(\n",
       "  (raw_task_noises_constraint): GreaterThan(1.000E-04)\n",
       "  (raw_noise_constraint): GreaterThan(1.000E-04)\n",
       ")"
      ]
     },
     "execution_count": 100,
     "metadata": {},
     "output_type": "execute_result"
    }
   ],
   "source": [
    "# Set into eval mode\n",
    "model.eval()\n",
    "likelihood.eval()"
   ]
  },
  {
   "cell_type": "code",
   "execution_count": 101,
   "metadata": {},
   "outputs": [],
   "source": [
    "test_x_torch_final = torch.tensor(np.float32(test_x_raw)).to(device)\n",
    "test_y_torch_final = torch.tensor(np.float32(polynomial_coeffs_test.T)).to(device)"
   ]
  },
  {
   "cell_type": "code",
   "execution_count": 102,
   "metadata": {},
   "outputs": [
    {
     "data": {
      "text/plain": [
       "(torch.Size([53, 9]), torch.Size([53, 7]))"
      ]
     },
     "execution_count": 102,
     "metadata": {},
     "output_type": "execute_result"
    }
   ],
   "source": [
    "test_x_torch_final.shape, test_y_torch_final.shape"
   ]
  },
  {
   "cell_type": "code",
   "execution_count": 103,
   "metadata": {},
   "outputs": [
    {
     "name": "stderr",
     "output_type": "stream",
     "text": [
      "/Users/ajivani/opt/anaconda3/lib/python3.8/site-packages/gpytorch/distributions/multivariate_normal.py:319: NumericalWarning: Negative variance values detected. This is likely due to numerical instabilities. Rounding negative variances up to 1e-06.\n",
      "  warnings.warn(\n"
     ]
    }
   ],
   "source": [
    "with torch.no_grad(), gpytorch.settings.fast_pred_var():\n",
    "    observed_pred = likelihood(model(test_x_torch_final))\n",
    "    mean_pred = observed_pred.mean\n",
    "    lower, upper = observed_pred.confidence_region()"
   ]
  },
  {
   "cell_type": "code",
   "execution_count": 109,
   "metadata": {},
   "outputs": [
    {
     "name": "stderr",
     "output_type": "stream",
     "text": [
      "/Users/ajivani/opt/anaconda3/lib/python3.8/site-packages/gpytorch/distributions/multivariate_normal.py:319: NumericalWarning: Negative variance values detected. This is likely due to numerical instabilities. Rounding negative variances up to 1e-06.\n",
      "  warnings.warn(\n"
     ]
    },
    {
     "data": {
      "text/plain": [
       "torch.Size([53, 7])"
      ]
     },
     "execution_count": 109,
     "metadata": {},
     "output_type": "execute_result"
    }
   ],
   "source": [
    "observed_pred.stddev.shape"
   ]
  },
  {
   "cell_type": "code",
   "execution_count": 104,
   "metadata": {},
   "outputs": [
    {
     "data": {
      "text/plain": [
       "(torch.Size([53, 7]), torch.Size([53, 7]))"
      ]
     },
     "execution_count": 104,
     "metadata": {},
     "output_type": "execute_result"
    }
   ],
   "source": [
    "lower.shape, upper.shape"
   ]
  },
  {
   "cell_type": "code",
   "execution_count": 105,
   "metadata": {},
   "outputs": [],
   "source": [
    "err0 = np.vstack((np.abs(lower[:, 0].numpy()), upper[:, 0].numpy()))"
   ]
  },
  {
   "cell_type": "code",
   "execution_count": 106,
   "metadata": {},
   "outputs": [
    {
     "data": {
      "text/plain": [
       "Text(0, 0.5, 'p6')"
      ]
     },
     "execution_count": 106,
     "metadata": {},
     "output_type": "execute_result"
    },
    {
     "data": {
      "image/png": "[encoded data removed]",
      "text/plain": [
       "<Figure size 2700x900 with 1 Axes>"
      ]
     },
     "metadata": {},
     "output_type": "display_data"
    }
   ],
   "source": [
    "fig = plt.figure()\n",
    "plt.errorbar(test_x_torch_final[:, 0], \n",
    "             mean_pred[:, 0], \n",
    "             yerr=err0,\n",
    "             fmt=\"o\"\n",
    "            )\n",
    "plt.scatter(test_x_torch_final[:, 0],\n",
    "           test_y_torch_final[:, 0],\n",
    "           marker='x',\n",
    "           c='orange')\n",
    "plt.xlabel(\"BStrength scaled\")\n",
    "plt.ylabel(\"p6\")"
   ]
  },
  {
   "cell_type": "code",
   "execution_count": 107,
   "metadata": {
    "scrolled": false
   },
   "outputs": [
    {
     "data": {
      "text/plain": [
       "Text(0, 0.5, 'p1')"
      ]
     },
     "execution_count": 107,
     "metadata": {},
     "output_type": "execute_result"
    },
    {
     "data": {
      "image/png": "[encoded data removed]",
      "text/plain": [
       "<Figure size 2700x900 with 1 Axes>"
      ]
     },
     "metadata": {},
     "output_type": "display_data"
    }
   ],
   "source": [
    "err_lin = np.vstack((np.abs(lower[:, -2].numpy()), upper[:, -2].numpy()))\n",
    "\n",
    "plt.scatter(test_x_torch_final[:, 0],\n",
    "           test_y_torch_final[:, -2],\n",
    "           marker='x',\n",
    "           c='orange')\n",
    "\n",
    "plt.errorbar(test_x_torch_final[:, 0],\n",
    "             mean_pred[:, -2], \n",
    "             yerr=err_lin,\n",
    "             fmt=\"o\"\n",
    "            )\n",
    "\n",
    "plt.xlabel(\"BStrength scaled\")\n",
    "plt.ylabel(\"p1\")"
   ]
  },
  {
   "cell_type": "code",
   "execution_count": 108,
   "metadata": {},
   "outputs": [
    {
     "data": {
      "text/plain": [
       "Text(0, 0.5, 'p0')"
      ]
     },
     "execution_count": 108,
     "metadata": {},
     "output_type": "execute_result"
    },
    {
     "data": {
      "image/png": "[encoded data removed]",
      "text/plain": [
       "<Figure size 2700x900 with 1 Axes>"
      ]
     },
     "metadata": {},
     "output_type": "display_data"
    }
   ],
   "source": [
    "err_constant = np.vstack((np.abs(lower[:, -1].numpy()), upper[:, -1].numpy()))\n",
    "\n",
    "plt.scatter(test_x_torch_final[:, 0],\n",
    "           test_y_torch_final[:, -1],\n",
    "           marker='x',\n",
    "           c='orange')\n",
    "plt.errorbar(test_x_torch_final[:, 0],\n",
    "             mean_pred[:, -1], \n",
    "             yerr=err_constant,\n",
    "             fmt=\"o\"\n",
    "            )\n",
    "plt.xlabel(\"BStrength scaled\")\n",
    "plt.ylabel(\"p0\")"
   ]
  },
  {
   "cell_type": "markdown",
   "metadata": {},
   "source": [
    "_Results on test data with uncertainty_ first for $c_1$ (this would include only confidence from GP and not possible polynomial fitting error which could be a drawback), then the full series."
   ]
  },
  {
   "cell_type": "code",
   "execution_count": null,
   "metadata": {},
   "outputs": [],
   "source": [
    "c1_params_test.shape"
   ]
  },
  {
   "cell_type": "markdown",
   "metadata": {},
   "source": [
    "Predict $c_1$ by sampling from the posterior predictive distribution of $p$"
   ]
  },
  {
   "cell_type": "code",
   "execution_count": 110,
   "metadata": {},
   "outputs": [
    {
     "name": "stderr",
     "output_type": "stream",
     "text": [
      "/Users/ajivani/opt/anaconda3/lib/python3.8/site-packages/gpytorch/distributions/multivariate_normal.py:319: NumericalWarning: Negative variance values detected. This is likely due to numerical instabilities. Rounding negative variances up to 1e-06.\n",
      "  warnings.warn(\n"
     ]
    }
   ],
   "source": [
    "post_pred = torch.distributions.Normal(observed_pred.mean, observed_pred.stddev)"
   ]
  },
  {
   "cell_type": "code",
   "execution_count": 123,
   "metadata": {},
   "outputs": [
    {
     "data": {
      "text/plain": [
       "torch.Size([53, 7])"
      ]
     },
     "execution_count": 123,
     "metadata": {},
     "output_type": "execute_result"
    }
   ],
   "source": [
    "post_pred.sample().shape"
   ]
  },
  {
   "cell_type": "markdown",
   "metadata": {},
   "source": [
    "Draw 1000 samples, store them in a tensor, fit $c_1$ by 6 degree polynomial and get results."
   ]
  },
  {
   "cell_type": "code",
   "execution_count": 119,
   "metadata": {},
   "outputs": [],
   "source": [
    "n_post_samples = 1000"
   ]
  },
  {
   "cell_type": "code",
   "execution_count": 126,
   "metadata": {},
   "outputs": [
    {
     "name": "stdout",
     "output_type": "stream",
     "text": [
      "Generated 1000 samples from posterior\n"
     ]
    }
   ],
   "source": [
    "p_test_samples = np.zeros((test_x_torch_final.shape[0], fit_deg + 1, n_post_samples))\n",
    "for i in range(n_post_samples):\n",
    "    p_test_samples[:, :, i] = post_pred.sample().numpy()\n",
    "\n",
    "print(\"Generated {} samples from posterior\".format(n_post_samples))"
   ]
  },
  {
   "cell_type": "code",
   "execution_count": 138,
   "metadata": {},
   "outputs": [
    {
     "data": {
      "text/plain": [
       "(7,)"
      ]
     },
     "execution_count": 138,
     "metadata": {},
     "output_type": "execute_result"
    }
   ],
   "source": [
    "p_test_samples[0, :, 0].shape"
   ]
  },
  {
   "cell_type": "code",
   "execution_count": 120,
   "metadata": {},
   "outputs": [
    {
     "data": {
      "text/plain": [
       "torch.Size([53, 9])"
      ]
     },
     "execution_count": 120,
     "metadata": {},
     "output_type": "execute_result"
    }
   ],
   "source": [
    "test_x_torch_final.shape"
   ]
  },
  {
   "cell_type": "code",
   "execution_count": 129,
   "metadata": {},
   "outputs": [
    {
     "name": "stdout",
     "output_type": "stream",
     "text": [
      "Generated 53 test velocities with 1000 replicates\n"
     ]
    }
   ],
   "source": [
    "c1_test = np.zeros((test_x_torch_final.shape[0], 160, n_post_samples))\n",
    "\n",
    "for i in range(n_post_samples):\n",
    "    for j in range(test_x_torch_final.shape[0]):\n",
    "        c1_test[j, :, i] = getPredPolyFit(p_test_samples[j, :, i], theta_grid)\n",
    "\n",
    "print(\"Generated {} test velocities with {} replicates\".format(test_x_torch_final.shape[0], n_post_samples))"
   ]
  },
  {
   "cell_type": "code",
   "execution_count": 131,
   "metadata": {},
   "outputs": [
    {
     "data": {
      "text/plain": [
       "((53, 160), (53, 160))"
      ]
     },
     "execution_count": 131,
     "metadata": {},
     "output_type": "execute_result"
    }
   ],
   "source": [
    "mean_c1 = np.mean(c1_test, axis=2)\n",
    "std_c1 = np.std(c1_test, axis=2)\n",
    "\n",
    "mean_c1.shape, std_c1.shape"
   ]
  },
  {
   "cell_type": "markdown",
   "metadata": {},
   "source": [
    "Plot a few test velocities versus the actual and examine outputs"
   ]
  },
  {
   "cell_type": "code",
   "execution_count": 132,
   "metadata": {},
   "outputs": [
    {
     "data": {
      "text/plain": [
       "(53, 160)"
      ]
     },
     "execution_count": 132,
     "metadata": {},
     "output_type": "execute_result"
    }
   ],
   "source": [
    "c1_params_test.shape"
   ]
  },
  {
   "cell_type": "code",
   "execution_count": 140,
   "metadata": {},
   "outputs": [
    {
     "data": {
      "text/plain": [
       "(0.0, 20.0)"
      ]
     },
     "execution_count": 140,
     "metadata": {},
     "output_type": "execute_result"
    },
    {
     "data": {
      "image/png": "[encoded data removed]",
      "text/plain": [
       "<Figure size 2700x900 with 1 Axes>"
      ]
     },
     "metadata": {},
     "output_type": "display_data"
    }
   ],
   "source": [
    "# for i in range(len(sd_train)):\n",
    "plt.plot(theta_grid, c1_params_test[4, :], label=\"True test data\")\n",
    "plt.plot(theta_grid, mean_c1[4, :], linestyle=\"--\", label=\"Fit from GP Posterior\")\n",
    "plt.xlabel(\"phi\")\n",
    "plt.ylabel(\"c1\")\n",
    "plt.xlim((-31, 82))\n",
    "plt.legend()\n",
    "plt.title(\"Sim {}\".format(sd_test[4]))\n",
    "plt.ylim((0, 20))\n",
    "# plt.savefig(os.path.join(\"c1_polynomial_fit\", \"sim_{:03d}.png\".format(sd_train[i])))\n",
    "# plt.close()"
   ]
  },
  {
   "cell_type": "code",
   "execution_count": null,
   "metadata": {},
   "outputs": [],
   "source": []
  },
  {
   "cell_type": "markdown",
   "metadata": {},
   "source": [
    "#### Alternate: Fit GP to c1 directly.\n",
    "\n",
    "This means position angle is also an independent parameter (I don't know if this is a good thing or a bad thing at this point), unless we treat this as a multitask GP too!!"
   ]
  },
  {
   "cell_type": "code",
   "execution_count": null,
   "metadata": {},
   "outputs": [],
   "source": []
  },
  {
   "cell_type": "markdown",
   "metadata": {},
   "source": [
    "UQ with conditional predictions?"
   ]
  },
  {
   "cell_type": "code",
   "execution_count": null,
   "metadata": {},
   "outputs": [],
   "source": []
  },
  {
   "cell_type": "code",
   "execution_count": null,
   "metadata": {},
   "outputs": [],
   "source": []
  },
  {
   "cell_type": "code",
   "execution_count": null,
   "metadata": {},
   "outputs": [],
   "source": []
  },
  {
   "cell_type": "code",
   "execution_count": null,
   "metadata": {},
   "outputs": [],
   "source": []
  },
  {
   "cell_type": "code",
   "execution_count": null,
   "metadata": {},
   "outputs": [],
   "source": []
  },
  {
   "cell_type": "markdown",
   "metadata": {},
   "source": [
    "_Transfer methods?_"
   ]
  },
  {
   "cell_type": "markdown",
   "metadata": {},
   "source": [
    "**Plot histograms of CME Params from 2 Events (domain shift)?**"
   ]
  },
  {
   "cell_type": "code",
   "execution_count": null,
   "metadata": {},
   "outputs": [],
   "source": []
  },
  {
   "cell_type": "code",
   "execution_count": null,
   "metadata": {},
   "outputs": [],
   "source": []
  },
  {
   "cell_type": "markdown",
   "metadata": {},
   "source": [
    "#### Try Linear Fit for Velocity Again"
   ]
  },
  {
   "cell_type": "code",
   "execution_count": null,
   "metadata": {},
   "outputs": [],
   "source": []
  },
  {
   "cell_type": "markdown",
   "metadata": {},
   "source": [
    "**Next Steps?**"
   ]
  },
  {
   "cell_type": "code",
   "execution_count": null,
   "metadata": {},
   "outputs": [],
   "source": []
  }
 ],
 "metadata": {
  "@webio": {
   "lastCommId": null,
   "lastKernelId": null
  },
  "kernelspec": {
   "display_name": "Python 3 (ipykernel)",
   "language": "python",
   "name": "python3"
  },
  "language_info": {
   "codemirror_mode": {
    "name": "ipython",
    "version": 3
   },
   "file_extension": ".py",
   "mimetype": "text/x-python",
   "name": "python",
   "nbconvert_exporter": "python",
   "pygments_lexer": "ipython3",
   "version": "3.8.13"
  }
 },
 "nbformat": 4,
 "nbformat_minor": 4
}
