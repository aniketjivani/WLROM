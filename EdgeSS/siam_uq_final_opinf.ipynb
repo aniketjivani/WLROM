{
 "cells": [
  {
   "cell_type": "code",
   "execution_count": 1,
   "id": "3d516d00",
   "metadata": {},
   "outputs": [],
   "source": [
    "import torch\n",
    "import torch.nn as nn\n",
    "import torch.optim as optim\n",
    "\n",
    "# %%\n",
    "import pandas as pd\n",
    "\n",
    "# %%\n",
    "import re\n",
    "import os\n",
    "import time\n",
    "\n",
    "# %%\n",
    "import matplotlib.pyplot as plt\n",
    "import argparse\n",
    "import logging"
   ]
  },
  {
   "cell_type": "code",
   "execution_count": 2,
   "id": "f0935f73",
   "metadata": {},
   "outputs": [],
   "source": [
    "!pip install --q opinf"
   ]
  },
  {
   "cell_type": "code",
   "execution_count": 3,
   "id": "bfd0b510",
   "metadata": {},
   "outputs": [],
   "source": [
    "import opinf as op"
   ]
  },
  {
   "cell_type": "code",
   "execution_count": 4,
   "id": "5e0255be",
   "metadata": {},
   "outputs": [],
   "source": [
    "import numpy as np\n",
    "import scipy.linalg as la\n",
    "import scipy.sparse as sparse\n",
    "import matplotlib.pyplot as plt\n",
    "from random import SystemRandom"
   ]
  },
  {
   "cell_type": "code",
   "execution_count": 5,
   "id": "b0a5ead9",
   "metadata": {},
   "outputs": [],
   "source": [
    "%matplotlib inline"
   ]
  },
  {
   "cell_type": "code",
   "execution_count": 6,
   "id": "c6d079d8",
   "metadata": {},
   "outputs": [],
   "source": [
    "plt.rc(\"axes.spines\", right=True, top=True)\n",
    "plt.rc(\"figure\", dpi=300, \n",
    "       figsize=(9, 3)\n",
    "      )\n",
    "plt.rc(\"font\", family=\"serif\")\n",
    "plt.rc(\"legend\", edgecolor=\"none\", frameon=True)\n",
    "# plt.style.use(\"dark_background\")"
   ]
  },
  {
   "cell_type": "code",
   "execution_count": 7,
   "id": "72007f9b",
   "metadata": {},
   "outputs": [],
   "source": [
    "import edge_utils as edut\n",
    "import node_1d_utils as nut"
   ]
  },
  {
   "cell_type": "code",
   "execution_count": 8,
   "id": "01fa76cf",
   "metadata": {},
   "outputs": [
    {
     "data": {
      "text/plain": [
       "{'niters': 50,\n",
       " 'lr': 0.01,\n",
       " 'batch_size': 4,\n",
       " 'batch_time': 5,\n",
       " 'nsims_per_batch': 1,\n",
       " 'nepochs': 300,\n",
       " 'save': 'experiments/',\n",
       " 'load': 86364,\n",
       " 'random_seed': 1123,\n",
       " 'pnode': True,\n",
       " 'node_layers': 3,\n",
       " 'units': 90,\n",
       " 'nParamsToUse': 9,\n",
       " 'ds': 1}"
      ]
     },
     "execution_count": 8,
     "metadata": {},
     "output_type": "execute_result"
    }
   ],
   "source": [
    "# %%\n",
    "# SPECIFY ARGS\n",
    "# Generative model for noisy data based on ODE\n",
    "parser = argparse.ArgumentParser('PNODE')\n",
    "\n",
    "# parser.add_argument('-n',  type=int, default=1, help=\"Size of the dataset\")\n",
    "# parser.add_argument('-n',  type=int, default=100, help=\"Size of the dataset\")\n",
    "\n",
    "parser.add_argument('--niters', type=int, \n",
    "                    default=50)\n",
    "parser.add_argument('--lr',  type=float, default=1e-2, help=\"Starting learning rate.\")\n",
    "parser.add_argument('-bs', '--batch-size', type=int, default=4)\n",
    "parser.add_argument('-bt', '--batch-time', type=int, default=5)\n",
    "parser.add_argument('-nspb', '--nsims_per_batch', type=int, default=1)\n",
    "parser.add_argument('-epch', '--nepochs', type=int, default=300)\n",
    "\n",
    "\n",
    "parser.add_argument('--save', type=str, default='experiments/', \n",
    "                    help=\"Path for save checkpoints\")\n",
    "parser.add_argument('--load', type=str, \n",
    "                    #                     default=None, \n",
    "                    default=86364,\n",
    "                    help=\"ID of the experiment to load for evaluation. If None, run a new experiment.\")\n",
    "parser.add_argument('-r', '--random-seed', type=int, default=1123, help=\"Random_seed\")\n",
    "\n",
    "\n",
    "parser.add_argument('--pnode', \n",
    "                    action='store_false', \n",
    "                    help=\"RUN parameterized neural ode\")\n",
    "parser.add_argument('--node-layers', \n",
    "                    type=int, \n",
    "                    default=3, \n",
    "                    help=\"number of layers in NODE\")\n",
    "\n",
    "parser.add_argument('-u', '--units', \n",
    "                    type=int, \n",
    "                    default=90, \n",
    "                    help=\"Number of units per layer in ODE func\")\n",
    "\n",
    "parser.add_argument('--nParamsToUse',\n",
    "                    type=int,\n",
    "                    default=9,\n",
    "                    help=\"Number of CME params to use\")\n",
    "\n",
    "# parser.add_argument('--normalize', type=bool, default=True)\n",
    "\n",
    "parser.add_argument('-ds',\n",
    "                    type=int,\n",
    "                    default=1,\n",
    "                    help=\"Coarsening factor for position angles\")\n",
    "\n",
    "# args = parser.parse_args(args=())\n",
    "args = parser.parse_args(args=())\n",
    "\n",
    "# %%\n",
    "vars(args)"
   ]
  },
  {
   "cell_type": "code",
   "execution_count": 9,
   "id": "2467b970",
   "metadata": {},
   "outputs": [
    {
     "name": "stdout",
     "output_type": "stream",
     "text": [
      "Range of angles for CR2161: -31.279843444227026 81.44031311154595\n"
     ]
    },
    {
     "data": {
      "text/plain": [
       "array([-31.        , -30.28930818, -29.57861635, -28.86792453,\n",
       "       -28.1572327 ])"
      ]
     },
     "execution_count": 9,
     "metadata": {},
     "output_type": "execute_result"
    }
   ],
   "source": [
    "theta_s_2161 = np.linspace(0, 360, 512)[160] + 1.2 * 180 - 360\n",
    "theta_e_2161 = np.linspace(0, 360, 512)[320] + 1.2 * 180 - 360\n",
    "print(\"Range of angles for CR2161: {} {}\".format(theta_s_2161, theta_e_2161))\n",
    "\n",
    "# %%\n",
    "ed_2161, sd_2161 = edut.load_edge_data_blobfree(2161)\n",
    "# crude downsample for now\n",
    "ed_2161 = ed_2161[:, ::args.ds, :]\n",
    "\n",
    "# %%\n",
    "nTimes, nTheta_2161, nSims_2161 = ed_2161.shape\n",
    "nTimes, nTheta_2161, nSims_2161\n",
    "\n",
    "# %%\n",
    "theta_grid = np.linspace(np.ceil(theta_s_2161), np.ceil(theta_e_2161), nTheta_2161 * args.ds)[::args.ds]\n",
    "theta_grid[:5]"
   ]
  },
  {
   "cell_type": "code",
   "execution_count": 10,
   "id": "57cacef9",
   "metadata": {},
   "outputs": [
    {
     "data": {
      "text/plain": [
       "(160,)"
      ]
     },
     "execution_count": 10,
     "metadata": {},
     "output_type": "execute_result"
    }
   ],
   "source": [
    "theta_grid.shape"
   ]
  },
  {
   "cell_type": "code",
   "execution_count": 11,
   "id": "1d48118d",
   "metadata": {},
   "outputs": [],
   "source": [
    "def getRValuesAllSims(edge_data_matrix, sample_freq=2):\n",
    "    \"\"\"\n",
    "    Return r values for all sims at once so we don't lose time in training processing r values repeatedly\n",
    "    \"\"\"\n",
    "    r_data_matrix = np.zeros(edge_data_matrix.shape)\n",
    "    nsims = edge_data_matrix.shape[2]\n",
    "    for i in range(nsims):\n",
    "        r_vals, theta_vals = edut.getRValues(edge_data_matrix, simIdx=i, minStartIdx=0, sample_freq=sample_freq)\n",
    "        r_data_matrix[:, :, i] = r_vals\n",
    "\n",
    "    return r_data_matrix\n",
    "\n",
    "\n",
    "# %%\n",
    "rd_2161 = getRValuesAllSims(ed_2161, sample_freq=1)\n",
    "\n",
    "# %%\n",
    "# we are removing some data where the edge detection is not necessarily super reliable.\n",
    "sims_to_remove = np.array([33, 39, 63, 73, 113, 128, 131, 142, 193, 218, 253, 264, 273, 312, 313, 324])\n",
    "\n",
    "# %%\n",
    "sd_modified = np.setdiff1d(sd_2161, sims_to_remove)"
   ]
  },
  {
   "cell_type": "code",
   "execution_count": 12,
   "id": "198cc187",
   "metadata": {},
   "outputs": [
    {
     "data": {
      "text/plain": [
       "(90, 160, 278)"
      ]
     },
     "execution_count": 12,
     "metadata": {},
     "output_type": "execute_result"
    }
   ],
   "source": [
    "rd_2161.shape"
   ]
  },
  {
   "cell_type": "code",
   "execution_count": 13,
   "id": "7be3925a",
   "metadata": {},
   "outputs": [
    {
     "name": "stdout",
     "output_type": "stream",
     "text": [
      "183 39 40\n"
     ]
    }
   ],
   "source": [
    "from numpy.random import Generator, PCG64\n",
    "# rng = Generator(PCG64())\n",
    "rng = np.random.default_rng(seed=202310)\n",
    "\n",
    "nTrain = int(np.floor(0.7 * len(sd_modified)))\n",
    "nCalib = int(np.floor(0.15 * len(sd_modified)))\n",
    "nTest = len(sd_modified) - nTrain - nCalib\n",
    "\n",
    "print(nTrain, nCalib, nTest)\n",
    "\n",
    "sd_train = np.sort(rng.choice(sd_modified, nTrain, replace=False))\n",
    "sd_calib = np.sort(rng.choice(np.setdiff1d(sd_modified, sd_train), nCalib, replace=False))\n",
    "sd_test = np.setdiff1d(sd_modified, np.sort(np.concatenate((sd_train, sd_calib), axis=0)))"
   ]
  },
  {
   "cell_type": "code",
   "execution_count": 14,
   "id": "3bac9c78",
   "metadata": {},
   "outputs": [],
   "source": [
    "orig_sd_train_idx = np.array([np.where(sd_2161 == i)[0][0] for i in sd_train])\n",
    "orig_sd_test_idx = np.array([np.where(sd_2161 == i)[0][0] for i in sd_test])\n",
    "orig_sd_calib_idx = np.array([np.where(sd_2161 == i)[0][0] for i in sd_calib])"
   ]
  },
  {
   "cell_type": "code",
   "execution_count": 15,
   "id": "4cbb0007",
   "metadata": {},
   "outputs": [],
   "source": [
    "y_train = rd_2161[:, :, orig_sd_train_idx]\n",
    "y_test = rd_2161[:, :, orig_sd_test_idx]\n",
    "y_calib = rd_2161[:, :, orig_sd_calib_idx]"
   ]
  },
  {
   "cell_type": "code",
   "execution_count": 16,
   "id": "cf294591",
   "metadata": {},
   "outputs": [],
   "source": [
    "tMinTrain = []\n",
    "tMaxTrain = []\n",
    "\n",
    "tMinTrainIdx=[]\n",
    "tMaxTrainIdx=[]\n",
    "\n",
    "dtTrain = []\n",
    "yMinTrain = []\n",
    "yMaxTrain = []\n",
    "\n",
    "tMinTest = []\n",
    "tMaxTest = []\n",
    "dtTest = []\n",
    "\n",
    "yMinTest = []\n",
    "yMaxTest = []\n",
    "\n",
    "tMinTestIdx = []\n",
    "tMaxTestIdx = []\n",
    "\n",
    "tMinCalib = []\n",
    "tMaxCalib = []\n",
    "dtCalib = []\n",
    "\n",
    "for sidx in orig_sd_train_idx:\n",
    "    \n",
    "    r_sim = rd_2161[:, :, sidx]\n",
    "    \n",
    "    tMinIdx, tMin, tMaxIdx, tMax = edut.getTMinTMax(ed_2161, simIdx = sidx)\n",
    "\n",
    "    r_sim_valid = r_sim[tMinIdx:(tMaxIdx + 1), :]\n",
    "    \n",
    "    tMinTrain.append(tMin)\n",
    "    tMaxTrain.append(tMax)\n",
    "\n",
    "    tMinTrainIdx.append(tMinIdx)\n",
    "    tMaxTrainIdx.append(tMaxIdx)\n",
    "\n",
    "    \n",
    "    yMinTrain.append(r_sim_valid.min())\n",
    "    yMaxTrain.append(r_sim_valid.max())\n",
    "    \n",
    "    tAllScaled = (np.arange(tMin, tMax + 2, step=2) - tMin) / (tMax - tMin)\n",
    "    \n",
    "    dtTrain.append(tAllScaled[1] - tAllScaled[0])\n",
    "    \n",
    "    \n",
    "for sidx in orig_sd_test_idx:\n",
    "    \n",
    "    r_sim = rd_2161[:, :, sidx]\n",
    "    \n",
    "    tMinIdx, tMin, tMaxIdx, tMax = edut.getTMinTMax(ed_2161, simIdx = sidx)\n",
    "\n",
    "    r_sim_valid = r_sim[tMinIdx:(tMaxIdx + 1), :]\n",
    "    \n",
    "    tMinTest.append(tMin)\n",
    "    tMaxTest.append(tMax)\n",
    "    \n",
    "    tMinTestIdx.append(tMinIdx)\n",
    "    tMaxTestIdx.append(tMaxIdx)\n",
    "    \n",
    "    yMinTest.append(r_sim_valid.min())\n",
    "    yMaxTest.append(r_sim_valid.max())\n",
    "        \n",
    "    tAllScaled = (np.arange(tMin, tMax + 2, step=2) - tMin) / (tMax - tMin)\n",
    "    \n",
    "    dtTest.append(tAllScaled[1] - tAllScaled[0])\n",
    "    \n",
    "    \n",
    "    \n",
    "for sidx in orig_sd_calib_idx:    \n",
    "    r_sim = rd_2161[:, :, sidx]\n",
    "    \n",
    "    tMinIdx, tMin, tMaxIdx, tMax = edut.getTMinTMax(ed_2161, simIdx = sidx)\n",
    "\n",
    "    r_sim_valid = r_sim[tMinIdx:(tMaxIdx + 1), :]\n",
    "    \n",
    "    tMinCalib.append(tMin)\n",
    "    tMaxCalib.append(tMax)\n",
    "        \n",
    "    tAllScaled = (np.arange(tMin, tMax + 2, step=2) - tMin) / (tMax - tMin)\n",
    "    \n",
    "    dtCalib.append(tAllScaled[1] - tAllScaled[0])"
   ]
  },
  {
   "cell_type": "code",
   "execution_count": 17,
   "id": "f1db8796",
   "metadata": {},
   "outputs": [
    {
     "data": {
      "text/plain": [
       "124.0"
      ]
     },
     "execution_count": 17,
     "metadata": {},
     "output_type": "execute_result"
    }
   ],
   "source": [
    "min(tMaxTrain)"
   ]
  },
  {
   "cell_type": "code",
   "execution_count": 18,
   "id": "d1a52ebb",
   "metadata": {},
   "outputs": [
    {
     "data": {
      "text/plain": [
       "86.0"
      ]
     },
     "execution_count": 18,
     "metadata": {},
     "output_type": "execute_result"
    }
   ],
   "source": [
    "max(tMinTrain)"
   ]
  },
  {
   "cell_type": "code",
   "execution_count": 19,
   "id": "05afc6fd",
   "metadata": {},
   "outputs": [
    {
     "data": {
      "text/plain": [
       "(3.7753038926141387, 3.7849222771356716, 3.782086075450167)"
      ]
     },
     "execution_count": 19,
     "metadata": {},
     "output_type": "execute_result"
    }
   ],
   "source": [
    "yMinTest[9], yMinTest[20], yMinTest[39]"
   ]
  },
  {
   "cell_type": "code",
   "execution_count": 20,
   "id": "4bb8a713",
   "metadata": {},
   "outputs": [
    {
     "data": {
      "text/plain": [
       "(11.952783574317628, 22.157402265402517, 17.18293718204489)"
      ]
     },
     "execution_count": 20,
     "metadata": {},
     "output_type": "execute_result"
    }
   ],
   "source": [
    "yMaxTest[9], yMaxTest[20], yMaxTest[39]"
   ]
  },
  {
   "cell_type": "code",
   "execution_count": 21,
   "id": "24b30f52",
   "metadata": {},
   "outputs": [
    {
     "data": {
      "text/plain": [
       "61"
      ]
     },
     "execution_count": 21,
     "metadata": {},
     "output_type": "execute_result"
    }
   ],
   "source": [
    "all_times_orig = np.linspace(2, 180, 90)\n",
    "np.where(all_times_orig == min(tMaxTrain))[0][0]"
   ]
  },
  {
   "cell_type": "code",
   "execution_count": 22,
   "id": "b116dbd7",
   "metadata": {},
   "outputs": [
    {
     "data": {
      "text/plain": [
       "42"
      ]
     },
     "execution_count": 22,
     "metadata": {},
     "output_type": "execute_result"
    }
   ],
   "source": [
    "np.where(all_times_orig == max(tMinTrain))[0][0]"
   ]
  },
  {
   "cell_type": "code",
   "execution_count": 23,
   "id": "476e0a9d",
   "metadata": {},
   "outputs": [],
   "source": [
    "# NOW NORMALIZE YTRAIN AND YTEST\n",
    "yMinTrainAll = np.array(yMinTrain).min()\n",
    "yMaxTrainAll = np.array(yMaxTrain).max()\n",
    "\n",
    "yMinTrainAll, yMaxTrainAll\n",
    "\n",
    "# %%\n",
    "y_train_normalized = (y_train - yMinTrainAll) / (yMaxTrainAll - yMinTrainAll)\n",
    "y_test_normalized = (y_test - yMinTrainAll) / (yMaxTrainAll - yMinTrainAll)\n",
    "\n",
    "# %%\n",
    "y_calib_normalized = (y_calib - yMinTrainAll) / (yMaxTrainAll - yMinTrainAll)"
   ]
  },
  {
   "cell_type": "code",
   "execution_count": 24,
   "id": "b54c0d0d",
   "metadata": {},
   "outputs": [
    {
     "data": {
      "text/plain": [
       "(90, 160, 183)"
      ]
     },
     "execution_count": 24,
     "metadata": {},
     "output_type": "execute_result"
    }
   ],
   "source": [
    "y_train_normalized.shape"
   ]
  },
  {
   "cell_type": "code",
   "execution_count": 25,
   "id": "bc62808d",
   "metadata": {},
   "outputs": [
    {
     "data": {
      "text/plain": [
       "3.7698396083568695"
      ]
     },
     "execution_count": 25,
     "metadata": {},
     "output_type": "execute_result"
    }
   ],
   "source": [
    "yMinTrainAll"
   ]
  },
  {
   "cell_type": "code",
   "execution_count": 26,
   "id": "36cd57bb",
   "metadata": {},
   "outputs": [
    {
     "data": {
      "text/plain": [
       "22.359171674874087"
      ]
     },
     "execution_count": 26,
     "metadata": {},
     "output_type": "execute_result"
    }
   ],
   "source": [
    "yMaxTrainAll"
   ]
  },
  {
   "cell_type": "code",
   "execution_count": 27,
   "id": "80bec38b",
   "metadata": {},
   "outputs": [
    {
     "data": {
      "text/plain": [
       "(278, 9)"
      ]
     },
     "execution_count": 27,
     "metadata": {},
     "output_type": "execute_result"
    }
   ],
   "source": [
    "# %%\n",
    "cme_params_norm = pd.read_csv(\"./CMEParams2161_Scaled.csv\", index_col=0)\n",
    "cme_params_norm\n",
    "\n",
    "# %%\n",
    "cme_params_to_augment = cme_params_norm.to_numpy()\n",
    "cme_params_to_augment.shape"
   ]
  },
  {
   "cell_type": "code",
   "execution_count": 28,
   "id": "64145f83",
   "metadata": {},
   "outputs": [
    {
     "data": {
      "text/html": [
       "<div>\n",
       "<style scoped>\n",
       "    .dataframe tbody tr th:only-of-type {\n",
       "        vertical-align: middle;\n",
       "    }\n",
       "\n",
       "    .dataframe tbody tr th {\n",
       "        vertical-align: top;\n",
       "    }\n",
       "\n",
       "    .dataframe thead th {\n",
       "        text-align: right;\n",
       "    }\n",
       "</style>\n",
       "<table border=\"1\" class=\"dataframe\">\n",
       "  <thead>\n",
       "    <tr style=\"text-align: right;\">\n",
       "      <th></th>\n",
       "      <th>Radius</th>\n",
       "      <th>BStrength</th>\n",
       "      <th>ApexHeight</th>\n",
       "      <th>OrientationCme</th>\n",
       "      <th>iHelicity</th>\n",
       "      <th>realization</th>\n",
       "      <th>FactorB0</th>\n",
       "      <th>PoyntingFluxPerBSi</th>\n",
       "      <th>LperpTimesSqrtBSi</th>\n",
       "    </tr>\n",
       "  </thead>\n",
       "  <tbody>\n",
       "    <tr>\n",
       "      <th>0</th>\n",
       "      <td>0.5675</td>\n",
       "      <td>0.420040</td>\n",
       "      <td>0.568916</td>\n",
       "      <td>0.5525</td>\n",
       "      <td>1.0</td>\n",
       "      <td>0.272727</td>\n",
       "      <td>0.120833</td>\n",
       "      <td>0.098542</td>\n",
       "      <td>0.436506</td>\n",
       "    </tr>\n",
       "    <tr>\n",
       "      <th>1</th>\n",
       "      <td>0.4525</td>\n",
       "      <td>0.057350</td>\n",
       "      <td>0.348039</td>\n",
       "      <td>0.1025</td>\n",
       "      <td>1.0</td>\n",
       "      <td>0.272727</td>\n",
       "      <td>0.120833</td>\n",
       "      <td>0.098542</td>\n",
       "      <td>0.436506</td>\n",
       "    </tr>\n",
       "    <tr>\n",
       "      <th>2</th>\n",
       "      <td>0.8525</td>\n",
       "      <td>0.014777</td>\n",
       "      <td>0.541725</td>\n",
       "      <td>0.8775</td>\n",
       "      <td>1.0</td>\n",
       "      <td>0.272727</td>\n",
       "      <td>0.120833</td>\n",
       "      <td>0.098542</td>\n",
       "      <td>0.436506</td>\n",
       "    </tr>\n",
       "    <tr>\n",
       "      <th>3</th>\n",
       "      <td>0.1225</td>\n",
       "      <td>0.323231</td>\n",
       "      <td>0.214567</td>\n",
       "      <td>0.5075</td>\n",
       "      <td>0.0</td>\n",
       "      <td>0.272727</td>\n",
       "      <td>0.120833</td>\n",
       "      <td>0.098542</td>\n",
       "      <td>0.436506</td>\n",
       "    </tr>\n",
       "    <tr>\n",
       "      <th>4</th>\n",
       "      <td>0.7825</td>\n",
       "      <td>0.085414</td>\n",
       "      <td>0.640815</td>\n",
       "      <td>0.3325</td>\n",
       "      <td>1.0</td>\n",
       "      <td>0.272727</td>\n",
       "      <td>0.120833</td>\n",
       "      <td>0.098542</td>\n",
       "      <td>0.436506</td>\n",
       "    </tr>\n",
       "    <tr>\n",
       "      <th>...</th>\n",
       "      <td>...</td>\n",
       "      <td>...</td>\n",
       "      <td>...</td>\n",
       "      <td>...</td>\n",
       "      <td>...</td>\n",
       "      <td>...</td>\n",
       "      <td>...</td>\n",
       "      <td>...</td>\n",
       "      <td>...</td>\n",
       "    </tr>\n",
       "    <tr>\n",
       "      <th>294</th>\n",
       "      <td>0.8750</td>\n",
       "      <td>0.252834</td>\n",
       "      <td>0.622193</td>\n",
       "      <td>0.1750</td>\n",
       "      <td>0.0</td>\n",
       "      <td>0.363636</td>\n",
       "      <td>0.352593</td>\n",
       "      <td>0.005643</td>\n",
       "      <td>0.937194</td>\n",
       "    </tr>\n",
       "    <tr>\n",
       "      <th>295</th>\n",
       "      <td>0.1250</td>\n",
       "      <td>0.655648</td>\n",
       "      <td>0.235434</td>\n",
       "      <td>0.4750</td>\n",
       "      <td>0.0</td>\n",
       "      <td>0.363636</td>\n",
       "      <td>0.352593</td>\n",
       "      <td>0.005643</td>\n",
       "      <td>0.937194</td>\n",
       "    </tr>\n",
       "    <tr>\n",
       "      <th>296</th>\n",
       "      <td>0.3250</td>\n",
       "      <td>0.518360</td>\n",
       "      <td>0.245710</td>\n",
       "      <td>0.7750</td>\n",
       "      <td>1.0</td>\n",
       "      <td>0.363636</td>\n",
       "      <td>0.352593</td>\n",
       "      <td>0.005643</td>\n",
       "      <td>0.937194</td>\n",
       "    </tr>\n",
       "    <tr>\n",
       "      <th>297</th>\n",
       "      <td>0.9250</td>\n",
       "      <td>0.289994</td>\n",
       "      <td>0.829820</td>\n",
       "      <td>0.6750</td>\n",
       "      <td>0.0</td>\n",
       "      <td>0.363636</td>\n",
       "      <td>0.352593</td>\n",
       "      <td>0.005643</td>\n",
       "      <td>0.937194</td>\n",
       "    </tr>\n",
       "    <tr>\n",
       "      <th>298</th>\n",
       "      <td>0.6250</td>\n",
       "      <td>0.406615</td>\n",
       "      <td>0.394121</td>\n",
       "      <td>0.3750</td>\n",
       "      <td>1.0</td>\n",
       "      <td>0.363636</td>\n",
       "      <td>0.352593</td>\n",
       "      <td>0.005643</td>\n",
       "      <td>0.937194</td>\n",
       "    </tr>\n",
       "  </tbody>\n",
       "</table>\n",
       "<p>278 rows × 9 columns</p>\n",
       "</div>"
      ],
      "text/plain": [
       "     Radius  BStrength  ApexHeight  OrientationCme  iHelicity  realization  \\\n",
       "0    0.5675   0.420040    0.568916          0.5525        1.0     0.272727   \n",
       "1    0.4525   0.057350    0.348039          0.1025        1.0     0.272727   \n",
       "2    0.8525   0.014777    0.541725          0.8775        1.0     0.272727   \n",
       "3    0.1225   0.323231    0.214567          0.5075        0.0     0.272727   \n",
       "4    0.7825   0.085414    0.640815          0.3325        1.0     0.272727   \n",
       "..      ...        ...         ...             ...        ...          ...   \n",
       "294  0.8750   0.252834    0.622193          0.1750        0.0     0.363636   \n",
       "295  0.1250   0.655648    0.235434          0.4750        0.0     0.363636   \n",
       "296  0.3250   0.518360    0.245710          0.7750        1.0     0.363636   \n",
       "297  0.9250   0.289994    0.829820          0.6750        0.0     0.363636   \n",
       "298  0.6250   0.406615    0.394121          0.3750        1.0     0.363636   \n",
       "\n",
       "     FactorB0  PoyntingFluxPerBSi  LperpTimesSqrtBSi  \n",
       "0    0.120833            0.098542           0.436506  \n",
       "1    0.120833            0.098542           0.436506  \n",
       "2    0.120833            0.098542           0.436506  \n",
       "3    0.120833            0.098542           0.436506  \n",
       "4    0.120833            0.098542           0.436506  \n",
       "..        ...                 ...                ...  \n",
       "294  0.352593            0.005643           0.937194  \n",
       "295  0.352593            0.005643           0.937194  \n",
       "296  0.352593            0.005643           0.937194  \n",
       "297  0.352593            0.005643           0.937194  \n",
       "298  0.352593            0.005643           0.937194  \n",
       "\n",
       "[278 rows x 9 columns]"
      ]
     },
     "execution_count": 28,
     "metadata": {},
     "output_type": "execute_result"
    }
   ],
   "source": [
    "cme_params_norm"
   ]
  },
  {
   "cell_type": "code",
   "execution_count": 29,
   "id": "fdea5a40",
   "metadata": {},
   "outputs": [
    {
     "data": {
      "text/plain": [
       "array([[0.5675    , 0.42003969, 0.56891578, ..., 0.12083333, 0.09854212,\n",
       "        0.43650556],\n",
       "       [0.4525    , 0.05735036, 0.34803867, ..., 0.12083333, 0.09854212,\n",
       "        0.43650556],\n",
       "       [0.8525    , 0.01477748, 0.54172511, ..., 0.12083333, 0.09854212,\n",
       "        0.43650556],\n",
       "       ...,\n",
       "       [0.325     , 0.51835972, 0.24570975, ..., 0.35259259, 0.005643  ,\n",
       "        0.9371937 ],\n",
       "       [0.925     , 0.28999395, 0.82981992, ..., 0.35259259, 0.005643  ,\n",
       "        0.9371937 ],\n",
       "       [0.625     , 0.40661486, 0.39412076, ..., 0.35259259, 0.005643  ,\n",
       "        0.9371937 ]])"
      ]
     },
     "execution_count": 29,
     "metadata": {},
     "output_type": "execute_result"
    }
   ],
   "source": [
    "cme_params_to_augment"
   ]
  },
  {
   "cell_type": "code",
   "execution_count": 30,
   "id": "7a6bc2bb",
   "metadata": {},
   "outputs": [
    {
     "data": {
      "text/plain": [
       "(160, 9)"
      ]
     },
     "execution_count": 30,
     "metadata": {},
     "output_type": "execute_result"
    }
   ],
   "source": [
    "input_dim = rd_2161.shape[1]\n",
    "param_dim = 9\n",
    "input_dim, param_dim"
   ]
  },
  {
   "cell_type": "code",
   "execution_count": 31,
   "id": "a1717bdc",
   "metadata": {},
   "outputs": [],
   "source": [
    "# augmented_r = np.zeros((rd_2161.shape[0], input_dim + param_dim, rd_2161.shape[2]))\n",
    "# augmented_r[:, :input_dim, orig_sd_train_idx] = y_train_normalized\n",
    "# augmented_r[:, :input_dim, orig_sd_test_idx] = y_test_normalized\n",
    "# augmented_r[:, :input_dim, orig_sd_calib_idx] = y_calib_normalized\n",
    "# for iii in range(rd_2161.shape[2]):\n",
    "#     augmented_r[:, (input_dim):, iii] = cme_params_to_augment[iii, :]"
   ]
  },
  {
   "cell_type": "code",
   "execution_count": 32,
   "id": "2d87ecbe",
   "metadata": {},
   "outputs": [],
   "source": [
    "# aug_y_train.shape"
   ]
  },
  {
   "cell_type": "code",
   "execution_count": 33,
   "id": "90d6f958",
   "metadata": {},
   "outputs": [
    {
     "data": {
      "text/plain": [
       "array([ 31,  32,  34,  37,  38,  40,  41,  44,  45,  46,  49,  50,  51,\n",
       "        53,  54,  56,  57,  58,  59,  61,  62,  67,  69,  70,  71,  72,\n",
       "        75,  76,  77,  78,  79,  82,  83,  84,  85,  86,  87,  88,  89,\n",
       "        90,  91,  92,  93,  94,  95,  97,  98, 101, 103, 104, 105, 107,\n",
       "       110, 111, 112, 115, 118, 120, 123, 126, 127, 132, 134, 135, 136,\n",
       "       138, 139, 140, 141, 143, 144, 145, 146, 147, 148, 150, 151, 152,\n",
       "       153, 154, 155, 156, 157, 159, 160, 161, 163, 164, 166, 171, 172,\n",
       "       173, 175, 176, 177, 178, 180, 183, 184, 185, 190, 191, 192, 198,\n",
       "       199, 201, 202, 203, 204, 205, 206, 213, 214, 215, 216, 217, 219,\n",
       "       220, 221, 222, 223, 224, 226, 228, 229, 230, 231, 232, 233, 234,\n",
       "       235, 236, 238, 239, 240, 241, 242, 243, 246, 247, 249, 251, 252,\n",
       "       254, 255, 259, 260, 261, 265, 269, 271, 274, 275, 276, 278, 280,\n",
       "       281, 282, 283, 284, 286, 288, 290, 293, 294, 295, 296, 299, 300,\n",
       "       303, 305, 307, 314, 316, 317, 318, 319, 321, 322, 326, 327, 328,\n",
       "       329])"
      ]
     },
     "execution_count": 33,
     "metadata": {},
     "output_type": "execute_result"
    }
   ],
   "source": [
    "sd_train"
   ]
  },
  {
   "cell_type": "code",
   "execution_count": 34,
   "id": "2653402a",
   "metadata": {},
   "outputs": [],
   "source": [
    "# aug_y_train = augmented_r[:, :, orig_sd_train_idx]\n",
    "# aug_y_test = augmented_r[:, :, orig_sd_test_idx]\n",
    "# aug_y_calib = augmented_r[:, :, orig_sd_calib_idx]\n",
    "\n",
    "# aug_y_train_rs = np.transpose(aug_y_train, (1, 0, 2))\n",
    "# aug_y_train_rs.shape\n",
    "\n",
    "# aug_y_train_transposed = np.transpose(aug_y_train_rs, (0, 2, 1))\n",
    "# aug_y_train_unfolded = aug_y_train_transposed.reshape((169, 90 * 183))\n",
    "# # aug_y_train_unfolded[160:, 270:275]"
   ]
  },
  {
   "cell_type": "code",
   "execution_count": 35,
   "id": "9420d7f7",
   "metadata": {},
   "outputs": [],
   "source": [
    "# aug_y_test_rs = np.transpose(aug_y_test, (1, 0, 2))\n",
    "# aug_y_test_rs.shape"
   ]
  },
  {
   "cell_type": "code",
   "execution_count": 36,
   "id": "2d3ec120",
   "metadata": {},
   "outputs": [],
   "source": [
    "# aug_y_train_rs.shape"
   ]
  },
  {
   "cell_type": "code",
   "execution_count": 37,
   "id": "d1fa3451",
   "metadata": {},
   "outputs": [],
   "source": [
    "# aug_y_train_unfolded.shape"
   ]
  },
  {
   "cell_type": "code",
   "execution_count": 38,
   "id": "56a01a12",
   "metadata": {},
   "outputs": [],
   "source": [
    "# Prior to basis fitting, set TMin, TMax correctly for each sim and assemble them into different matrices.\n",
    "# These are concatenated to give the giant matrix that we compress."
   ]
  },
  {
   "cell_type": "code",
   "execution_count": 39,
   "id": "7dcea4ef",
   "metadata": {},
   "outputs": [],
   "source": [
    "# y_unfolded_train = []\n",
    "# aug_y_unfolded_train = []\n",
    "\n",
    "# ytn_rs = np.transpose(y_train_normalized, (1, 0, 2))\n",
    "# for idx, i in enumerate(orig_sd_train_idx):\n",
    "#     tMinIdx, tMin, tMaxIdx, tMax = edut.getTMinTMax(ed_2161, simIdx = i)\n",
    "#     y_unfolded_train.append(ytn_rs[:, tMinIdx:(tMaxIdx + 1), idx])\n",
    "#     aug_y_unfolded_train.append(aug_y_train_rs[:, tMinIdx:(tMaxIdx + 1), idx])\n",
    "\n",
    "# y_unfolded_train_full = np.concatenate(y_unfolded_train, axis=1)\n",
    "# aug_y_unfolded_train_full = np.concatenate(aug_y_unfolded_train, axis=1)"
   ]
  },
  {
   "cell_type": "code",
   "execution_count": 40,
   "id": "3a7e2fd2",
   "metadata": {},
   "outputs": [],
   "source": [
    "# y_unfolded_train_full.shape, aug_y_unfolded_train_full.shape"
   ]
  },
  {
   "cell_type": "code",
   "execution_count": null,
   "id": "aff6fe35",
   "metadata": {},
   "outputs": [],
   "source": []
  },
  {
   "cell_type": "code",
   "execution_count": 41,
   "id": "6dca7713",
   "metadata": {},
   "outputs": [],
   "source": [
    "# basis = op.basis.PODBasis().fit(aug_y_unfolded_train_full[:160, :], residual_energy=1e-8)\n",
    "# basis = op.basis.PODBasis().fit(y_unfolded_train_full, residual_energy=1e-8)"
   ]
  },
  {
   "cell_type": "code",
   "execution_count": 42,
   "id": "b8ac945e",
   "metadata": {},
   "outputs": [],
   "source": [
    "# print(basis)"
   ]
  },
  {
   "cell_type": "code",
   "execution_count": 43,
   "id": "f8d55d0c",
   "metadata": {},
   "outputs": [
    {
     "data": {
      "text/plain": [
       "array([ 35,  43,  66,  68,  81,  96,  99, 106, 108, 114, 119, 122, 124,\n",
       "       133, 158, 174, 181, 186, 188, 194, 200, 208, 212, 237, 244, 248,\n",
       "       256, 257, 258, 266, 267, 268, 277, 279, 287, 292, 302, 306, 311,\n",
       "       323])"
      ]
     },
     "execution_count": 43,
     "metadata": {},
     "output_type": "execute_result"
    }
   ],
   "source": [
    "sd_2161[orig_sd_test_idx]"
   ]
  },
  {
   "cell_type": "markdown",
   "id": "d2735509",
   "metadata": {},
   "source": [
    "### Ignore the above"
   ]
  },
  {
   "cell_type": "markdown",
   "id": "936b0967",
   "metadata": {},
   "source": [
    "Pick 3 test simulations and fit ROMs to all of them"
   ]
  },
  {
   "cell_type": "code",
   "execution_count": null,
   "id": "0745aa96",
   "metadata": {},
   "outputs": [],
   "source": []
  },
  {
   "cell_type": "code",
   "execution_count": 44,
   "id": "d5de21a0",
   "metadata": {},
   "outputs": [],
   "source": [
    "augmented_r = np.zeros((rd_2161.shape[0], input_dim + param_dim, rd_2161.shape[2]))\n",
    "augmented_r[:, :input_dim, orig_sd_train_idx] = y_train\n",
    "augmented_r[:, :input_dim, orig_sd_test_idx] = y_test\n",
    "augmented_r[:, :input_dim, orig_sd_calib_idx] = y_calib\n",
    "for iii in range(rd_2161.shape[2]):\n",
    "    augmented_r[:, (input_dim):, iii] = cme_params_to_augment[iii, :]"
   ]
  },
  {
   "cell_type": "code",
   "execution_count": 45,
   "id": "da580424",
   "metadata": {},
   "outputs": [],
   "source": [
    "aug_y_train = augmented_r[:, :, orig_sd_train_idx]\n",
    "aug_y_test = augmented_r[:, :, orig_sd_test_idx]\n",
    "aug_y_calib = augmented_r[:, :, orig_sd_calib_idx]"
   ]
  },
  {
   "cell_type": "code",
   "execution_count": null,
   "id": "04301631",
   "metadata": {},
   "outputs": [],
   "source": []
  },
  {
   "cell_type": "code",
   "execution_count": 46,
   "id": "43024b64",
   "metadata": {},
   "outputs": [
    {
     "data": {
      "text/plain": [
       "(81, 156, 271)"
      ]
     },
     "execution_count": 46,
     "metadata": {},
     "output_type": "execute_result"
    }
   ],
   "source": [
    "orig_sd_test_idx[9], orig_sd_test_idx[20], orig_sd_test_idx[39]"
   ]
  },
  {
   "cell_type": "code",
   "execution_count": 47,
   "id": "c9ed233f",
   "metadata": {},
   "outputs": [
    {
     "data": {
      "text/plain": [
       "array([114, 200, 323])"
      ]
     },
     "execution_count": 47,
     "metadata": {},
     "output_type": "execute_result"
    }
   ],
   "source": [
    "sd_2161[[81, 156, 271]]"
   ]
  },
  {
   "cell_type": "code",
   "execution_count": 48,
   "id": "cf7ca9f6",
   "metadata": {},
   "outputs": [],
   "source": [
    "tMinSelected = np.array([tMinTestIdx[9], tMinTestIdx[20], tMinTestIdx[39]])"
   ]
  },
  {
   "cell_type": "code",
   "execution_count": 49,
   "id": "5bc4f8b6",
   "metadata": {},
   "outputs": [],
   "source": [
    "tMaxSelected = np.array([tMaxTestIdx[9], tMaxTestIdx[20], tMaxTestIdx[39]])"
   ]
  },
  {
   "cell_type": "code",
   "execution_count": 50,
   "id": "5f2e4a57",
   "metadata": {},
   "outputs": [],
   "source": [
    "trainExtents = np.floor(0.6 * (tMaxSelected - tMinSelected)).astype(int)"
   ]
  },
  {
   "cell_type": "code",
   "execution_count": 51,
   "id": "5271fce5",
   "metadata": {},
   "outputs": [
    {
     "data": {
      "text/plain": [
       "array([38, 30, 44])"
      ]
     },
     "execution_count": 51,
     "metadata": {},
     "output_type": "execute_result"
    }
   ],
   "source": [
    "trainExtents"
   ]
  },
  {
   "cell_type": "code",
   "execution_count": 52,
   "id": "f53f1a8d",
   "metadata": {},
   "outputs": [
    {
     "data": {
      "text/plain": [
       "array([25, 18, 15])"
      ]
     },
     "execution_count": 52,
     "metadata": {},
     "output_type": "execute_result"
    }
   ],
   "source": [
    "tMinSelected"
   ]
  },
  {
   "cell_type": "code",
   "execution_count": 53,
   "id": "23cd2723",
   "metadata": {},
   "outputs": [
    {
     "data": {
      "text/plain": [
       "array([63, 48, 59])"
      ]
     },
     "execution_count": 53,
     "metadata": {},
     "output_type": "execute_result"
    }
   ],
   "source": [
    "tTrainStop = tMinSelected + trainExtents\n",
    "tTrainStop"
   ]
  },
  {
   "cell_type": "code",
   "execution_count": 54,
   "id": "6aa4f105",
   "metadata": {},
   "outputs": [
    {
     "data": {
      "text/plain": [
       "array([89, 69, 89])"
      ]
     },
     "execution_count": 54,
     "metadata": {},
     "output_type": "execute_result"
    }
   ],
   "source": [
    "tMaxSelected"
   ]
  },
  {
   "cell_type": "code",
   "execution_count": 55,
   "id": "3817cddb",
   "metadata": {},
   "outputs": [
    {
     "data": {
      "text/plain": [
       "(90, 169, 40)"
      ]
     },
     "execution_count": 55,
     "metadata": {},
     "output_type": "execute_result"
    }
   ],
   "source": [
    "aug_y_test.shape"
   ]
  },
  {
   "cell_type": "code",
   "execution_count": 56,
   "id": "218725c6",
   "metadata": {},
   "outputs": [],
   "source": [
    "yMinsAll = [yMinTest[9], yMinTest[20], yMinTest[39]]\n",
    "yMaxsAll = [yMaxTest[9], yMaxTest[20], yMaxTest[39]]"
   ]
  },
  {
   "cell_type": "code",
   "execution_count": 57,
   "id": "d8009958",
   "metadata": {},
   "outputs": [
    {
     "data": {
      "text/plain": [
       "((160, 65), (160, 52), (160, 75))"
      ]
     },
     "execution_count": 57,
     "metadata": {},
     "output_type": "execute_result"
    }
   ],
   "source": [
    "aug_y_ts1 = (aug_y_test[tMinSelected[0]:(tMaxSelected[0] + 1), :160, 9].T - yMinTest[9])/(yMaxTest[9] - yMinTest[9])\n",
    "aug_y_ts2 = (aug_y_test[tMinSelected[1]:(tMaxSelected[1] + 1), :160, 20].T - yMinTest[20])/(yMaxTest[20] - yMinTest[20])\n",
    "aug_y_ts3 = (aug_y_test[tMinSelected[2]:(tMaxSelected[2] + 1), :160, 39].T - yMinTest[39])/(yMaxTest[39] - yMinTest[39])\n",
    "aug_y_ts1.shape, aug_y_ts2.shape, aug_y_ts3.shape"
   ]
  },
  {
   "cell_type": "code",
   "execution_count": 58,
   "id": "81d17067",
   "metadata": {},
   "outputs": [
    {
     "data": {
      "text/plain": [
       "((160, 38), (160, 30), (160, 44))"
      ]
     },
     "execution_count": 58,
     "metadata": {},
     "output_type": "execute_result"
    }
   ],
   "source": [
    "aug_y_ts1_train = aug_y_ts1[:, :(trainExtents[0])]\n",
    "aug_y_ts2_train = aug_y_ts2[:, :(trainExtents[1])] \n",
    "aug_y_ts3_train = aug_y_ts3[:, :(trainExtents[2])] \n",
    "\n",
    "aug_y_ts1_train.shape, aug_y_ts2_train.shape, aug_y_ts3_train.shape"
   ]
  },
  {
   "cell_type": "code",
   "execution_count": 59,
   "id": "67f3fb61",
   "metadata": {},
   "outputs": [
    {
     "data": {
      "text/plain": [
       "((160, 27), (160, 22), (160, 31))"
      ]
     },
     "execution_count": 59,
     "metadata": {},
     "output_type": "execute_result"
    }
   ],
   "source": [
    "aug_y_ts1_test = aug_y_ts1[:, (trainExtents[0]):(tMaxSelected[0] + 1)]\n",
    "aug_y_ts2_test = aug_y_ts2[:, (trainExtents[1]):(tMaxSelected[1] + 1)]\n",
    "aug_y_ts3_test = aug_y_ts3[:, (trainExtents[2]):(tMaxSelected[2] + 1)]\n",
    "\n",
    "aug_y_ts1_test.shape, aug_y_ts2_test.shape, aug_y_ts3_test.shape"
   ]
  },
  {
   "cell_type": "code",
   "execution_count": 60,
   "id": "4901af03",
   "metadata": {},
   "outputs": [],
   "source": [
    "basis1 = op.basis.PODBasis().fit(aug_y_ts1_train, residual_energy=1e-8)\n",
    "basis2 = op.basis.PODBasis().fit(aug_y_ts2_train, residual_energy=1e-8)\n",
    "basis3 = op.basis.PODBasis().fit(aug_y_ts3_train, residual_energy=1e-8)"
   ]
  },
  {
   "cell_type": "code",
   "execution_count": 61,
   "id": "1dc329b3",
   "metadata": {},
   "outputs": [
    {
     "data": {
      "text/plain": [
       "(<PODBasis object at 0x7f204e80c4f0>\n",
       " PODBasis\n",
       " Full-order dimension    n = 160\n",
       " Reduced-order dimension r = 28,\n",
       " <PODBasis object at 0x7f204e80f940>\n",
       " PODBasis\n",
       " Full-order dimension    n = 160\n",
       " Reduced-order dimension r = 14,\n",
       " <PODBasis object at 0x7f204e80dc90>\n",
       " PODBasis\n",
       " Full-order dimension    n = 160\n",
       " Reduced-order dimension r = 18)"
      ]
     },
     "execution_count": 61,
     "metadata": {},
     "output_type": "execute_result"
    }
   ],
   "source": [
    "basis1, basis2, basis3"
   ]
  },
  {
   "cell_type": "code",
   "execution_count": 62,
   "id": "8601da5c",
   "metadata": {},
   "outputs": [],
   "source": [
    "# Instantiate the model.\n",
    "rom1 = op.models.ContinuousModel(operators=[\n",
    "    op.operators.LinearOperator(),\n",
    "    op.operators.QuadraticOperator(),\n",
    "])\n",
    "\n",
    "rom2 = op.models.ContinuousModel(operators=[\n",
    "    op.operators.LinearOperator(),\n",
    "    op.operators.QuadraticOperator(),\n",
    "])\n",
    "\n",
    "rom3 = op.models.ContinuousModel(operators=[\n",
    "    op.operators.LinearOperator(),\n",
    "    op.operators.QuadraticOperator(),\n",
    "])"
   ]
  },
  {
   "cell_type": "code",
   "execution_count": 63,
   "id": "dfd20ec8",
   "metadata": {},
   "outputs": [],
   "source": [
    "t1 = np.linspace(0, 1, 65)\n",
    "dt1 = t1[1] - t1[0]\n",
    "\n",
    "t2 = np.linspace(0, 1, 52)\n",
    "dt2 = t2[1] - t2[0]\n",
    "\n",
    "t3 = np.linspace(0, 1, 75)\n",
    "dt3 = t3[1] - t3[0]"
   ]
  },
  {
   "cell_type": "code",
   "execution_count": 64,
   "id": "0bab9ee0",
   "metadata": {},
   "outputs": [],
   "source": [
    "qc1 = basis1.compress(aug_y_ts1_train)\n",
    "qTrain1 = qc1[:, 1:]\n",
    "qDotTrain1 = (qc1[:, 1:] - qc1[:, :-1])/dt1"
   ]
  },
  {
   "cell_type": "code",
   "execution_count": 65,
   "id": "30575748",
   "metadata": {},
   "outputs": [
    {
     "name": "stderr",
     "output_type": "stream",
     "text": [
      "/home/ajivani/miniconda3/lib/python3.10/site-packages/opinf/lstsq/_tikhonov.py:119: LinAlgWarning: non-regularized least-squares system is underdetermined!\n",
      "  _BaseTikhonovSolver.fit(self, A, B)\n"
     ]
    },
    {
     "data": {
      "text/plain": [
       "<ContinuousModel object at 0x7f204e80c6d0>\n",
       "Model structure: dq / dt = Aq(t) + H[q(t) ⊗ q(t)]\n",
       "State dimension r = 28"
      ]
     },
     "execution_count": 65,
     "metadata": {},
     "output_type": "execute_result"
    }
   ],
   "source": [
    "rom1.fit(qTrain1, qDotTrain1, solver=op.lstsq.L2Solver(regularizer=5))"
   ]
  },
  {
   "cell_type": "code",
   "execution_count": 66,
   "id": "24cd79f2",
   "metadata": {},
   "outputs": [
    {
     "data": {
      "text/plain": [
       "<ContinuousModel object at 0x7f204e80eb60>\n",
       "Model structure: dq / dt = Aq(t) + H[q(t) ⊗ q(t)]\n",
       "State dimension r = 14"
      ]
     },
     "execution_count": 66,
     "metadata": {},
     "output_type": "execute_result"
    }
   ],
   "source": [
    "qc2 = basis2.compress(aug_y_ts2_train)\n",
    "qTrain2 = qc2[:, 1:]\n",
    "qDotTrain2 = (qc2[:, 1:] - qc2[:, :-1])/dt2\n",
    "\n",
    "rom2.fit(qTrain2, qDotTrain2, solver=op.lstsq.L2Solver(regularizer=0.8))"
   ]
  },
  {
   "cell_type": "code",
   "execution_count": 67,
   "id": "6ce27fd1",
   "metadata": {},
   "outputs": [
    {
     "data": {
      "text/plain": [
       "<ContinuousModel object at 0x7f204e80e380>\n",
       "Model structure: dq / dt = Aq(t) + H[q(t) ⊗ q(t)]\n",
       "State dimension r = 18"
      ]
     },
     "execution_count": 67,
     "metadata": {},
     "output_type": "execute_result"
    }
   ],
   "source": [
    "qc3 = basis3.compress(aug_y_ts3_train)\n",
    "qTrain3 = qc3[:, 1:]\n",
    "qDotTrain3 = (qc3[:, 1:] - qc3[:, :-1])/dt3\n",
    "\n",
    "rom3.fit(qTrain3, qDotTrain3, solver=op.lstsq.L2Solver(regularizer=5))"
   ]
  },
  {
   "cell_type": "code",
   "execution_count": 68,
   "id": "163b2ee2",
   "metadata": {},
   "outputs": [],
   "source": [
    "yc_pred_1 = rom1.predict(qc1[:, 0], t1)\n",
    "yc_pred_1_dc = basis1.decompress(yc_pred_1)"
   ]
  },
  {
   "cell_type": "code",
   "execution_count": 69,
   "id": "790b445b",
   "metadata": {},
   "outputs": [
    {
     "data": {
      "text/plain": [
       "(160, 65)"
      ]
     },
     "execution_count": 69,
     "metadata": {},
     "output_type": "execute_result"
    }
   ],
   "source": [
    "yc_pred_1_dc.shape"
   ]
  },
  {
   "cell_type": "code",
   "execution_count": 70,
   "id": "b46b3c05",
   "metadata": {},
   "outputs": [
    {
     "data": {
      "text/plain": [
       "(160, 52)"
      ]
     },
     "execution_count": 70,
     "metadata": {},
     "output_type": "execute_result"
    }
   ],
   "source": [
    "yc_pred_2 = rom2.predict(qc2[:, 0], t2)\n",
    "yc_pred_2_dc = basis2.decompress(yc_pred_2)\n",
    "\n",
    "yc_pred_2_dc.shape"
   ]
  },
  {
   "cell_type": "code",
   "execution_count": 71,
   "id": "671d92ba",
   "metadata": {},
   "outputs": [
    {
     "data": {
      "text/plain": [
       "(160, 75)"
      ]
     },
     "execution_count": 71,
     "metadata": {},
     "output_type": "execute_result"
    }
   ],
   "source": [
    "yc_pred_3 = rom3.predict(qc3[:, 0], t3)\n",
    "yc_pred_3_dc = basis3.decompress(yc_pred_3)\n",
    "\n",
    "yc_pred_3_dc.shape"
   ]
  },
  {
   "cell_type": "code",
   "execution_count": 72,
   "id": "0ce596e2",
   "metadata": {},
   "outputs": [],
   "source": [
    "# all_times[:(tMaxSelected[2] - tMinSelected[2] + 1)]"
   ]
  },
  {
   "cell_type": "code",
   "execution_count": 73,
   "id": "9615f2bb",
   "metadata": {},
   "outputs": [],
   "source": [
    "np.savez(\"opinf_siam_predictions.npz\", pred1=yc_pred_1_dc, pred2 = yc_pred_2_dc, pred3=yc_pred_3_dc,\n",
    "        truth1=aug_y_ts1, truth2=aug_y_ts2, truth3=aug_y_ts3,\n",
    "        yMinsAll = yMinsAll, yMaxsAll=yMaxsAll\n",
    "        )"
   ]
  },
  {
   "cell_type": "markdown",
   "id": "ebce5265",
   "metadata": {},
   "source": [
    "Ignore everything below this"
   ]
  },
  {
   "cell_type": "code",
   "execution_count": null,
   "id": "d5a8da15",
   "metadata": {},
   "outputs": [],
   "source": [
    "# pass through basis, "
   ]
  },
  {
   "cell_type": "code",
   "execution_count": null,
   "id": "42ea9bc1",
   "metadata": {},
   "outputs": [],
   "source": []
  },
  {
   "cell_type": "code",
   "execution_count": null,
   "id": "726cbfa0",
   "metadata": {},
   "outputs": [],
   "source": [
    "# svdvals = basis.svdvals"
   ]
  },
  {
   "cell_type": "code",
   "execution_count": null,
   "id": "5f83aa13",
   "metadata": {},
   "outputs": [],
   "source": [
    "# plt.plot(svdvals / svdvals[0])"
   ]
  },
  {
   "cell_type": "code",
   "execution_count": null,
   "id": "44ad2fda",
   "metadata": {},
   "outputs": [],
   "source": []
  },
  {
   "cell_type": "code",
   "execution_count": null,
   "id": "7be44fd6",
   "metadata": {},
   "outputs": [],
   "source": [
    "compressed_train_states = []\n",
    "compressed_lhs = []\n",
    "for i in range(len(orig_sd_train_idx)):\n",
    "    # create s rxk arrays, where s is number of param vectors, r is reduced dimension, k is number of train timesteps.\n",
    "    \n",
    "    qcompressed_i = basis.compress(aug_y_unfolded_train[i][:160, :])\n",
    "    \n",
    "    qtrain_i = qcompressed_i[:, 1:]\n",
    "    zero_params = np.zeros((9, qtrain_i.shape[1]))\n",
    "    \n",
    "    compressed_train_states.append(qtrain_i)\n",
    "    qdot_train_i = (qcompressed_i[:, 1:] - qcompressed_i[:, :-1])/dt\n",
    "    \n",
    "#     compressed_train_states.append(np.concatenate((qtrain_i, aug_y_unfolded_train[i][160:, 1:]), axis=0))\n",
    "#     qdot_train_i = np.concatenate(((qcompressed_i[:, 1:] - qcompressed_i[:, :-1])/dt, zero_params), axis=0)\n",
    "    compressed_lhs.append(qdot_train_i)\n",
    "    \n",
    "compressed_train_all = np.concatenate(compressed_train_states, axis=1)\n",
    "compressed_ddts_all = np.concatenate(compressed_lhs, axis=1)"
   ]
  },
  {
   "cell_type": "code",
   "execution_count": null,
   "id": "c8110ff4",
   "metadata": {},
   "outputs": [],
   "source": [
    "# all_cme_params_train = []\n",
    "# for i in range(len(orig_sd_train_idx)):\n",
    "#     all_cme_params_train.append(cme_params_to_augment[orig_sd_train_idx[i], [0, 4]])"
   ]
  },
  {
   "cell_type": "code",
   "execution_count": null,
   "id": "1d36e70a",
   "metadata": {},
   "outputs": [],
   "source": [
    "# all_cme_params_train"
   ]
  },
  {
   "cell_type": "code",
   "execution_count": null,
   "id": "63dc71fc",
   "metadata": {},
   "outputs": [],
   "source": [
    "# all_cme_params_test"
   ]
  },
  {
   "cell_type": "code",
   "execution_count": null,
   "id": "1338e115",
   "metadata": {},
   "outputs": [],
   "source": [
    "# all_cme_params_train[0].shape"
   ]
  },
  {
   "cell_type": "code",
   "execution_count": null,
   "id": "0e4977d3",
   "metadata": {},
   "outputs": [],
   "source": [
    "all_times = np.linspace(0, 1, 90)"
   ]
  },
  {
   "cell_type": "code",
   "execution_count": null,
   "id": "1fd03410",
   "metadata": {},
   "outputs": [],
   "source": [
    "dt = all_times[1] - all_times[0]"
   ]
  },
  {
   "cell_type": "code",
   "execution_count": null,
   "id": "8589d9a9",
   "metadata": {},
   "outputs": [],
   "source": [
    "compressed_train_states = []\n",
    "compressed_lhs = []\n",
    "for i in range(len(orig_sd_train_idx)):\n",
    "    # create s rxk arrays, where s is number of param vectors, r is reduced dimension, k is number of train timesteps.\n",
    "    \n",
    "    qcompressed_i = basis.compress(aug_y_unfolded_train[i][:160, :])\n",
    "    \n",
    "    qtrain_i = qcompressed_i[:, 1:]\n",
    "    zero_params = np.zeros((9, qtrain_i.shape[1]))\n",
    "    \n",
    "    compressed_train_states.append(qtrain_i)\n",
    "    qdot_train_i = (qcompressed_i[:, 1:] - qcompressed_i[:, :-1])/dt\n",
    "    \n",
    "#     compressed_train_states.append(np.concatenate((qtrain_i, aug_y_unfolded_train[i][160:, 1:]), axis=0))\n",
    "#     qdot_train_i = np.concatenate(((qcompressed_i[:, 1:] - qcompressed_i[:, :-1])/dt, zero_params), axis=0)\n",
    "    compressed_lhs.append(qdot_train_i)\n",
    "    \n",
    "compressed_train_all = np.concatenate(compressed_train_states, axis=1)\n",
    "compressed_ddts_all = np.concatenate(compressed_lhs, axis=1)"
   ]
  },
  {
   "cell_type": "code",
   "execution_count": null,
   "id": "d09614f7",
   "metadata": {},
   "outputs": [],
   "source": [
    "compressed_train_states[0].shape"
   ]
  },
  {
   "cell_type": "code",
   "execution_count": null,
   "id": "b66a4d34",
   "metadata": {},
   "outputs": [],
   "source": [
    "compressed_lhs[0].shape, compressed_train_states[0].shape"
   ]
  },
  {
   "cell_type": "code",
   "execution_count": null,
   "id": "c6673a95",
   "metadata": {},
   "outputs": [],
   "source": [
    "basis = op.basis.PODBasis().fit(aug_y_unfolded_train[0][:160, :40], residual_energy=1e-8)"
   ]
  },
  {
   "cell_type": "code",
   "execution_count": null,
   "id": "dd6bf259",
   "metadata": {},
   "outputs": [],
   "source": []
  },
  {
   "cell_type": "code",
   "execution_count": null,
   "id": "00af69b8",
   "metadata": {},
   "outputs": [],
   "source": []
  },
  {
   "cell_type": "code",
   "execution_count": null,
   "id": "19246289",
   "metadata": {},
   "outputs": [],
   "source": []
  },
  {
   "cell_type": "code",
   "execution_count": null,
   "id": "03a1643d",
   "metadata": {},
   "outputs": [],
   "source": [
    "compressed_lhs[1].shape, compressed_train_states[1].shape"
   ]
  },
  {
   "cell_type": "code",
   "execution_count": null,
   "id": "38b8784b",
   "metadata": {},
   "outputs": [],
   "source": [
    "# rom.fit(all_cme_params_train, compressed_train_states, compressed_lhs)\n",
    "# rom.fit(compressed_train_all, compressed_ddts_all)"
   ]
  },
  {
   "cell_type": "code",
   "execution_count": null,
   "id": "b45d631b",
   "metadata": {},
   "outputs": [],
   "source": [
    "rom.A_.entries.shape"
   ]
  },
  {
   "cell_type": "code",
   "execution_count": null,
   "id": "ccec7137",
   "metadata": {},
   "outputs": [],
   "source": [
    "rom.H_.entries.shape"
   ]
  },
  {
   "cell_type": "code",
   "execution_count": null,
   "id": "0807367d",
   "metadata": {},
   "outputs": [],
   "source": [
    "# y_unfolded_test = []\n",
    "# ytest_rs = np.transpose(y_test_normalized, (1, 0, 2))\n",
    "aug_y_test_full = []\n",
    "for idx, i in enumerate(orig_sd_test_idx):\n",
    "    tMinIdx, tMin, tMaxIdx, tMax = edut.getTMinTMax(ed_2161, simIdx = i)\n",
    "    aug_y_test_full.append(aug_y_test_rs[:, tMinIdx:(tMaxIdx + 1), idx])\n",
    "\n",
    "aug_y_unfolded_test_full = np.concatenate(aug_y_test_full, axis=1)"
   ]
  },
  {
   "cell_type": "code",
   "execution_count": null,
   "id": "52abb4bd",
   "metadata": {},
   "outputs": [],
   "source": [
    "# construct Initial Condition, append parameters, and send it through to predictions.\n",
    "all_test_predictions = []\n",
    "\n",
    "for idx, i in enumerate(orig_sd_test_idx):\n",
    "    tMinIdx, tMin, tMaxIdx, tMax = edut.getTMinTMax(ed_2161, simIdx = i)\n",
    "    print(tMinIdx, tMaxIdx)\n",
    "    y0_test_i = aug_y_test_full[idx][:160, 0]\n",
    "    y0_test_ic = basis.compress(y0_test_i)\n",
    "    y0_test_aug = np.concatenate((y0_test_ic, aug_y_test_full[idx][160:, 0]), axis=0)\n",
    "    yt_test_i = rom.predict(y0_test_aug, all_times[:(tMaxIdx - tMinIdx + 1)])\n",
    "    yt_test_dc = basis.decompress(yt_test_i[:38, :])\n",
    "    all_test_predictions.append(yt_test_dc)"
   ]
  },
  {
   "cell_type": "code",
   "execution_count": null,
   "id": "22a5d329",
   "metadata": {},
   "outputs": [],
   "source": [
    "all_test_predictions[0]"
   ]
  },
  {
   "cell_type": "code",
   "execution_count": null,
   "id": "d1b5aab0",
   "metadata": {},
   "outputs": [],
   "source": [
    "# all_cme_params_test = []\n",
    "# for i in range(len(orig_sd_test_idx)):\n",
    "#     all_cme_params_test.append(cme_params_to_augment[orig_sd_test_idx[i], [0, 4]])\n",
    "    \n",
    "#     rom.predict(all_cme_params_test[idx], y0_test_ic, all_times[:(tMaxIdx - tMinIdx + 1)])"
   ]
  },
  {
   "cell_type": "code",
   "execution_count": null,
   "id": "17bb7fbf",
   "metadata": {},
   "outputs": [],
   "source": [
    "y_unfolded_test[1].shape"
   ]
  },
  {
   "cell_type": "code",
   "execution_count": null,
   "id": "59e37584",
   "metadata": {},
   "outputs": [],
   "source": [
    "all_cme_params_train[0]"
   ]
  },
  {
   "cell_type": "code",
   "execution_count": null,
   "id": "9c3b20ac",
   "metadata": {},
   "outputs": [],
   "source": [
    "all_cme_params_test[0]"
   ]
  },
  {
   "cell_type": "code",
   "execution_count": null,
   "id": "90a74c5d",
   "metadata": {},
   "outputs": [],
   "source": [
    "# tMinIdx, tMin, tMaxIdx, tMax = edut.getTMinTMax(ed_2161, simIdx = orig_sd_test_idx[0])\n",
    "# tMinIdx, tMaxIdx"
   ]
  },
  {
   "cell_type": "code",
   "execution_count": null,
   "id": "3131647f",
   "metadata": {},
   "outputs": [],
   "source": [
    "# all_times = np.linspace(2, 180, 90)"
   ]
  },
  {
   "cell_type": "code",
   "execution_count": null,
   "id": "98791a7c",
   "metadata": {},
   "outputs": [],
   "source": [
    "# y0_test_i = y_unfolded_test[0][:, 0]\n",
    "# y0_test_ic = basis.compress(y0_test_i)\n",
    "# y0_test_ic.shape"
   ]
  },
  {
   "cell_type": "code",
   "execution_count": null,
   "id": "96ae5f96",
   "metadata": {},
   "outputs": [],
   "source": [
    "# type(all_cme_params_test[0])"
   ]
  },
  {
   "cell_type": "code",
   "execution_count": null,
   "id": "0b4a8108",
   "metadata": {},
   "outputs": [],
   "source": [
    "# plt.imshow(rom.A_.entries[25])\n",
    "# plt.colorbar()"
   ]
  },
  {
   "cell_type": "code",
   "execution_count": null,
   "id": "f78082fa",
   "metadata": {},
   "outputs": [],
   "source": [
    "# rom.evaluate(all_cme_params_train[0])"
   ]
  },
  {
   "cell_type": "code",
   "execution_count": null,
   "id": "59c6aace",
   "metadata": {},
   "outputs": [],
   "source": [
    "# for idx, i in enumerate(orig_sd_test_idx):\n",
    "#     model_at_parameter = rom.evaluate(all_cme_params_test[idx].reshape((6, )))"
   ]
  },
  {
   "cell_type": "code",
   "execution_count": null,
   "id": "ffd06dd0",
   "metadata": {},
   "outputs": [],
   "source": [
    "all_test_predictions = []\n",
    "\n",
    "for idx, i in enumerate(orig_sd_test_idx):\n",
    "    tMinIdx, tMin, tMaxIdx, tMax = edut.getTMinTMax(ed_2161, simIdx = i)\n",
    "    y0_test_i = y_unfolded_test[idx][:, 0]\n",
    "    y0_test_ic = basis.compress(y0_test_i)\n",
    "    yt_test_i = rom.predict(all_cme_params_test[idx], y0_test_ic, all_times[:(tMaxIdx - tMinIdx + 1)])\n",
    "    yt_test_dc = basis.decompress(yt_test_i)\n",
    "    all_test_predictions.append(yt_test_dc)\n",
    "# q0_r = basis_all.compress(q0_new)\n",
    "# Q_ROM_new = basis.decompress(implicit_euler(t, q0_, rom.A_.entries, rom.B_.entries, U_all))\n",
    "# qt_new = rom_interp.predict(np.array(param_new), q0_r, t, input_func=np.ones_like(t))"
   ]
  },
  {
   "cell_type": "code",
   "execution_count": null,
   "id": "911393bb",
   "metadata": {},
   "outputs": [],
   "source": [
    "# # Create a 4x3x2 tensor as an example\n",
    "# tensor = np.arange(4 * 3 * 2).reshape((4, 3, 2))\n",
    "\n",
    "# # First, we transpose the tensor to bring the last axis to the second position\n",
    "# transposed = np.transpose(tensor, (0, 2, 1))\n",
    "\n",
    "# # Then, we reshape the tensor to a 4x6 matrix\n",
    "# matrix = transposed.reshape((4, 6))\n",
    "\n",
    "# print(tensor[:, :, 0])\n",
    "# print(tensor[:, :, 1])\n",
    "\n",
    "# print(matrix)"
   ]
  }
 ],
 "metadata": {
  "kernelspec": {
   "display_name": "Python 3 (ipykernel)",
   "language": "python",
   "name": "python3"
  },
  "language_info": {
   "codemirror_mode": {
    "name": "ipython",
    "version": 3
   },
   "file_extension": ".py",
   "mimetype": "text/x-python",
   "name": "python",
   "nbconvert_exporter": "python",
   "pygments_lexer": "ipython3",
   "version": "3.10.14"
  }
 },
 "nbformat": 4,
 "nbformat_minor": 5
}
